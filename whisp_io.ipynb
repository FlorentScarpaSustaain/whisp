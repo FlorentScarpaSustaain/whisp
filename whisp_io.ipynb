{
 "cells": [
  {
   "cell_type": "code",
   "execution_count": null,
   "id": "8c696e8e-cf8b-4aa0-80e9-fc3a9f87a42b",
   "metadata": {
    "scrolled": true
   },
   "outputs": [],
   "source": [
    "import ee\n",
    "import pandas as pd\n",
    "import geopandas as gpd\n",
    "import json\n",
    "import geemap\n",
    "\n",
    "import requests # may not be needed\n",
    "from sidecar import Sidecar\n",
    "\n",
    "from modules.gee_initialize import initialize_ee \n",
    "initialize_ee()\n",
    "\n",
    "from parameters.config_output_naming import geo_id_column\n",
    "from modules.agstack_to_gee import start_agstack_session, get_agstack_token, geometry_to_geo_id, geo_id_or_ids_to_feature_collection, register_feature_and_set_geo_id, register_fc_and_set_geo_id \n",
    "from parameters.config_asr_url_info import asset_registry_base,user_registry_base\n",
    "from parameters.config_asr_credentials import email,password\n",
    "\n",
    "def whisp_alt_stats_as_df (roi): \n",
    "    %store roi\n",
    "    %run alt_whisp_stats.ipynb   \n",
    "    return df_out\n",
    "\n",
    "#fetch and convert into feature collection\n",
    "session = start_agstack_session(email,password,user_registry_base)\n",
    "\n",
    "token = get_agstack_token(email, password, asset_registry_base)\n"
   ]
  },
  {
   "cell_type": "markdown",
   "id": "cba7b229-05d4-4645-b295-6ac89f2ae3e3",
   "metadata": {},
   "source": [
    "#### List of Geo_ids"
   ]
  },
  {
   "cell_type": "code",
   "execution_count": null,
   "id": "bc075bc0-f321-4e4c-91b6-98effb3abfa2",
   "metadata": {},
   "outputs": [],
   "source": [
    "GHA_ids = ['88bec54ad04804f5b1fafbc131266640a129be2840fa6797cda358d7e831b907', \n",
    "        '97408ef7bdac487e4a42e4abf20492b786310889fd4b0478603e2d0004c40bfb']\n",
    "\n",
    "IDN_ids = ['c288d6c94efa9011c0e3452af9f7fa0941661377030e10d29c68764617f9816d', \n",
    "       '8e2accea7ddbb84b7f6001e00bcb60f57f563c80633b53859993522a6f05727a']\n",
    "\n",
    "CIV_ids = ['0520cfac98fbc1bd7952b1c07a9f6983b83625722b6f665ea83ac9aad3512918',\n",
    "            'fa2aff0d60cf1bc0e1f1dd4b91daf932940c31c021ca1b84f5b9445855eef02f']\n",
    "\n",
    "all_geo_ids= GHA_ids + IDN_ids + CIV_ids\n",
    "\n",
    "#make into a feature collection\n",
    "roi = geo_id_or_ids_to_feature_collection(\n",
    "    all_geo_ids=all_geo_ids, \n",
    "    geo_id_column=geo_id_column, \n",
    "    session=session)\n",
    "\n",
    "#WHISP stats as a dataframe\n",
    "whisp_alt_stats_as_df(roi)"
   ]
  },
  {
   "cell_type": "markdown",
   "id": "a8f3e036-7a0b-4739-96a4-f83995ce8235",
   "metadata": {},
   "source": [
    "#### Show map for drawing geometry"
   ]
  },
  {
   "cell_type": "code",
   "execution_count": null,
   "id": "77c5bddd-9487-416f-82dc-b33a8b858695",
   "metadata": {},
   "outputs": [],
   "source": [
    "Map = geemap.Map(center=[6,-2], zoom=12)\n",
    "sc = Sidecar(title='draw polygon')\n",
    "with sc:display(Map)"
   ]
  },
  {
   "cell_type": "markdown",
   "id": "f48ff786-cda7-42c3-a698-a8ff9277f9b9",
   "metadata": {},
   "source": [
    "#### User input needed: draw boundary on map "
   ]
  },
  {
   "cell_type": "markdown",
   "id": "b16dc5b6-c9a1-46b3-b7d4-2eae4f3cb867",
   "metadata": {},
   "source": [
    "#### Fetch geo id and Whisp stats"
   ]
  },
  {
   "cell_type": "code",
   "execution_count": null,
   "id": "49c5bd51-4d87-476d-8316-1ebc68dba5e3",
   "metadata": {},
   "outputs": [],
   "source": [
    "#teakse\n",
    "drawn_feature = (Map.draw_last_feature)\n",
    "\n",
    "#register geo id and add to feature\n",
    "feature_w_geo_id = register_feature_and_set_geo_id(\n",
    "    drawn_feature,\n",
    "    geo_id_column,\n",
    "    token,\n",
    "    session,\n",
    "    asset_registry_base,\n",
    "    debug=True)\n",
    "\n",
    "roi = feature_w_geo_id\n",
    "\n",
    "whisp_alt_stats_as_df(ee.FeatureCollection(roi))\n"
   ]
  },
  {
   "cell_type": "markdown",
   "id": "f4f8a6e5-bd4a-4168-bbd8-a104c8d59e69",
   "metadata": {},
   "source": [
    "#### Get Geo_id"
   ]
  },
  {
   "cell_type": "code",
   "execution_count": null,
   "id": "c91df598-b03a-4e15-80d3-751f9f1d7406",
   "metadata": {},
   "outputs": [],
   "source": [
    "geometry = ee.Geometry.Polygon([\n",
    "    [-122.091, 37.418],\n",
    "    [-122.086, 37.422],\n",
    "    [-122.079, 37.425],\n",
    "    [-122.086, 37.418]\n",
    "])\n",
    "\n",
    "# Convert the polygon to WKT using the function\n",
    "geo_id = geometry_to_geo_id(geometry,token,session,asset_registry_base,debug=True)\n",
    "\n",
    "# Print the WKT representation\n",
    "print('geo_id representation:', geo_id)"
   ]
  },
  {
   "cell_type": "code",
   "execution_count": null,
   "id": "5c0742d1-d6f4-4545-ab16-1ac710e58424",
   "metadata": {},
   "outputs": [],
   "source": [
    "# Define an example ee.Feature with a polygon geometry\n",
    "feature = ee.Feature(ee.Geometry.Polygon([\n",
    "    [-122.091, 37.418],\n",
    "    [-122.086, 37.422],\n",
    "    [-122.079, 37.425],\n",
    "    [-122.086, 37.418]\n",
    "]))\n",
    "\n",
    "feature_w_properties = register_feature_and_set_geo_id(feature,geo_id_column,token,session,asset_registry_base,debug=True)\n",
    "\n",
    "roi =ee.FeatureCollection(feature_w_properties)\n"
   ]
  },
  {
   "cell_type": "markdown",
   "id": "0793b6c2-0f6d-4dc4-9dd9-d8f6bb6d3743",
   "metadata": {},
   "source": [
    "#### From asset (feature collection) "
   ]
  },
  {
   "cell_type": "code",
   "execution_count": null,
   "id": "354afea9-eb94-4fd9-9469-eddd3a3487d6",
   "metadata": {},
   "outputs": [],
   "source": [
    "example_plot_feature_col_asset = \"projects/fdap-remi/assets/selected_segments_peru_vector\"\n",
    "roi = ee.FeatureCollection(example_plot_feature_col_asset)\n",
    "\n",
    "whisp_alt_stats_as_df(roi)"
   ]
  },
  {
   "cell_type": "markdown",
   "id": "9e6e6597-97de-4eb8-9afd-991956d614e6",
   "metadata": {},
   "source": [
    "#### Feature collection"
   ]
  },
  {
   "cell_type": "code",
   "execution_count": null,
   "id": "e931a3ec-d200-4e8e-9f94-aa715fbe43f7",
   "metadata": {},
   "outputs": [],
   "source": [
    "# geom_1 =ee.Geometry.Polygon(\n",
    "#         [[[102.19867776108482, 3.0835809888660344],\n",
    "#           [102.1988172359536, 3.082670357801012],\n",
    "#           [102.20001886559227, 3.082078035157836],\n",
    "#           [102.2013385124276, 3.081745922272887],\n",
    "#           [102.2014355657636, 3.0825815609469625],\n",
    "#           [102.20011591892828, 3.0836528916202233]]]);\n",
    "\n",
    "# geom_2 = ee.Geometry.Polygon(\n",
    "#         [[[102.18777620396249, 3.079459767638651],\n",
    "#           [102.18831264576546, 3.0785384196951506],\n",
    "#           [102.1895786484205, 3.0792026473624907],\n",
    "#           [102.18899929127328, 3.08005971470826]]],None, False);\n",
    "\n",
    "# feat_1 = ee.Feature(geom_1)\n",
    "# feat_2 = ee.Feature(geom_2)\n",
    "\n",
    "# feature_col = ee.FeatureCollection([feat_1,feat_2])\n",
    "\n",
    "# roi = register_fc_and_set_geo_id(\n",
    "#     feature_col,\n",
    "#     geo_id_column,\n",
    "#     token,\n",
    "#     session,\n",
    "#     asset_registry_base,\n",
    "#     debug=True\n",
    "# )\n",
    "    \n",
    "# roi = feature_col(roi)\n",
    "\n",
    "# whisp_alt_stats_as_df(roi)\n"
   ]
  },
  {
   "cell_type": "markdown",
   "id": "f6314d48-89c9-40bb-b2de-7f6e0b775bd6",
   "metadata": {},
   "source": [
    "#### Shapefile polygon"
   ]
  },
  {
   "cell_type": "code",
   "execution_count": null,
   "id": "45c4c986-deb5-4283-bda5-e2b043786808",
   "metadata": {
    "scrolled": true
   },
   "outputs": [],
   "source": [
    "shp = \"test_ceo_all.shp.zip\"\n",
    "\n",
    "# Load your geospatial dataset\n",
    "gdf = gpd.read_file(shp)\n",
    "\n",
    "geo_json = gdf.to_json()\n",
    "\n",
    "roi = ee.FeatureCollection(json.loads(geo_json))\n",
    "\n",
    "roi = roi.select([geo_id_column])\n",
    "\n",
    "whisp_alt_stats_as_df(roi)"
   ]
  },
  {
   "cell_type": "markdown",
   "id": "6e0018ff-17c1-4751-91fd-c77cd94ec0cc",
   "metadata": {},
   "source": [
    "#### Points"
   ]
  },
  {
   "cell_type": "code",
   "execution_count": null,
   "id": "5f1252a1-d472-4f25-84eb-2fea4e3c197d",
   "metadata": {},
   "outputs": [],
   "source": [
    "#get test points from polygon feature collection (agstack currently not working)\n",
    "\n",
    "# Compute centroids of each polygon\n",
    "def getCentroid(feature):\n",
    "    keepProperties = [geo_id_column];\n",
    "    # Get the centroid of the feature's geometry.\n",
    "    centroid = feature.geometry().centroid();\n",
    "    #Return a new Feature, copying properties from the old Feature.\n",
    "    return ee.Feature(centroid).copyProperties(feature, keepProperties);\n",
    "\n",
    "# roi = roi.map(getCentroid)\n",
    "\n",
    "roi\n",
    "\n",
    "whisp_alt_stats_as_df(roi)"
   ]
  },
  {
   "cell_type": "markdown",
   "id": "254f0c30-e5ca-4be5-b100-73a77d7992d3",
   "metadata": {},
   "source": [
    "#### Export CSV"
   ]
  },
  {
   "cell_type": "code",
   "execution_count": null,
   "id": "fd56afe0-5480-4eb8-9a7b-e34feb54ae82",
   "metadata": {},
   "outputs": [],
   "source": [
    "#export output csv\n",
    "out_file_wide = \"alt_whisp_output_table.csv\"\n",
    "\n",
    "df_out.to_csv(path_or_buf=out_file_wide,header=True)\n",
    "\n",
    "print (\"output csv: \", out_file_wide)"
   ]
  },
  {
   "cell_type": "code",
   "execution_count": null,
   "id": "561f0703-b072-459f-ba64-1ac7fcdc12a1",
   "metadata": {},
   "outputs": [],
   "source": []
  }
 ],
 "metadata": {
  "kernelspec": {
   "display_name": "Python 3",
   "language": "python",
   "name": "python3"
  },
  "language_info": {
   "codemirror_mode": {
    "name": "ipython",
    "version": 3
   },
   "file_extension": ".py",
   "mimetype": "text/x-python",
   "name": "python",
   "nbconvert_exporter": "python",
   "pygments_lexer": "ipython3",
   "version": "3.10.12"
  }
 },
 "nbformat": 4,
 "nbformat_minor": 5
}
