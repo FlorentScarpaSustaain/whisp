{
 "cells": [
  {
   "cell_type": "markdown",
   "id": "bfe423cf-8bd5-4727-8899-283ab6004221",
   "metadata": {},
   "source": [
    "#### Imports/setup"
   ]
  },
  {
   "cell_type": "code",
   "execution_count": 1,
   "id": "f5044a8c-3e6f-447a-85e1-a34c88f94eb4",
   "metadata": {},
   "outputs": [],
   "source": [
    "%load_ext autoreload\n",
    "%autoreload 2\n",
    "# %reload_ext autoreload"
   ]
  },
  {
   "cell_type": "code",
   "execution_count": 2,
   "id": "8c696e8e-cf8b-4aa0-80e9-fc3a9f87a42b",
   "metadata": {
    "editable": true,
    "scrolled": true,
    "slideshow": {
     "slide_type": ""
    },
    "tags": []
   },
   "outputs": [
    {
     "name": "stdout",
     "output_type": "stream",
     "text": [
      "Earth Engine has been initialized with the specified credentials.\n"
     ]
    }
   ],
   "source": [
    "import ee\n",
    "import os\n",
    "import pandas as pd\n",
    "import geopandas as gpd\n",
    "import sys\n",
    "\n",
    "import requests # may not be needed\n",
    "from sidecar import Sidecar\n",
    "\n",
    "from modules.gee_initialize import initialize_ee \n",
    "initialize_ee()\n",
    "\n",
    "from modules.file_to_ceo import (\n",
    "get_ceo_url, \n",
    "whisp_stats_shapefile_and_ceo_url\n",
    ")\n",
    "\n",
    "from parameters.config_runtime import (\n",
    "    geo_id_column, \n",
    "    out_file_wide, \n",
    "    out_shapefile\n",
    ")\n",
    "from modules.agstack_to_gee import (\n",
    "    start_agstack_session,\n",
    "    get_agstack_token,\n",
    "    geo_id_or_ids_to_feature_collection,\n",
    "    shapefile_to_ee_feature_collection,\n",
    "    register_fc_and_set_geo_id,\n",
    "    register_fc_and_append_to_csv,\n",
    "    add_geo_ids_to_feature_col_from_lookup_df,\n",
    "    add_geo_ids_to_feature_col_from_lookup_csv\n",
    ")\n",
    "\n",
    "from modules.multiband_stats import get_stats,reformat_whisp_fc,get_stats_formatted\n",
    "\n",
    "from parameters.config_asr_url_info import asset_registry_base, user_registry_base\n",
    "\n",
    "from parameters.config_asr_credentials import email, password\n",
    "\n",
    "from modules.utils import (\n",
    "    collection_properties_to_df,\n",
    "    remove_geometry_from_feature_collection,\n",
    "    get_centroid#,\n",
    "    # get_scale_from_image\n",
    ")\n",
    "\n",
    "def whisp_stats_as_df (roi): \n",
    "    %store roi\n",
    "    %run process_whisp_stats.ipynb   \n",
    "    return df_out\n",
    "   "
   ]
  },
  {
   "cell_type": "markdown",
   "id": "94ee40cf-680f-4baf-92d4-6fed96d2ab9c",
   "metadata": {},
   "source": [
    "##### Set up asset registry"
   ]
  },
  {
   "cell_type": "code",
   "execution_count": 3,
   "id": "fcea483c-9b14-40f3-b049-2a9479e9d509",
   "metadata": {},
   "outputs": [
    {
     "data": {
      "text/html": [
       "\n",
       "            <style>\n",
       "                .geemap-dark {\n",
       "                    --jp-widgets-color: white;\n",
       "                    --jp-widgets-label-color: white;\n",
       "                    --jp-ui-font-color1: white;\n",
       "                    --jp-layout-color2: #454545;\n",
       "                    background-color: #383838;\n",
       "                }\n",
       "\n",
       "                .geemap-dark .jupyter-button {\n",
       "                    --jp-layout-color3: #383838;\n",
       "                }\n",
       "\n",
       "                .geemap-colab {\n",
       "                    background-color: var(--colab-primary-surface-color, white);\n",
       "                }\n",
       "\n",
       "                .geemap-colab .jupyter-button {\n",
       "                    --jp-layout-color3: var(--colab-primary-surface-color, white);\n",
       "                }\n",
       "            </style>\n",
       "            "
      ],
      "text/plain": [
       "<IPython.core.display.HTML object>"
      ]
     },
     "metadata": {},
     "output_type": "display_data"
    }
   ],
   "source": [
    "session = start_agstack_session(email,password,user_registry_base)\n",
    "\n",
    "token = get_agstack_token(email, password, asset_registry_base)"
   ]
  },
  {
   "cell_type": "markdown",
   "id": "df2b3487-c87e-4a10-9097-bda251d53ab1",
   "metadata": {},
   "source": [
    "#### Inputs : with GEOIDS"
   ]
  },
  {
   "cell_type": "markdown",
   "id": "cba7b229-05d4-4645-b295-6ac89f2ae3e3",
   "metadata": {},
   "source": [
    "##### Input: list of Geo ids"
   ]
  },
  {
   "cell_type": "code",
   "execution_count": 4,
   "id": "bc075bc0-f321-4e4c-91b6-98effb3abfa2",
   "metadata": {},
   "outputs": [
    {
     "data": {
      "text/html": [
       "\n",
       "            <style>\n",
       "                .geemap-dark {\n",
       "                    --jp-widgets-color: white;\n",
       "                    --jp-widgets-label-color: white;\n",
       "                    --jp-ui-font-color1: white;\n",
       "                    --jp-layout-color2: #454545;\n",
       "                    background-color: #383838;\n",
       "                }\n",
       "\n",
       "                .geemap-dark .jupyter-button {\n",
       "                    --jp-layout-color3: #383838;\n",
       "                }\n",
       "\n",
       "                .geemap-colab {\n",
       "                    background-color: var(--colab-primary-surface-color, white);\n",
       "                }\n",
       "\n",
       "                .geemap-colab .jupyter-button {\n",
       "                    --jp-layout-color3: var(--colab-primary-surface-color, white);\n",
       "                }\n",
       "            </style>\n",
       "            "
      ],
      "text/plain": [
       "<IPython.core.display.HTML object>"
      ]
     },
     "metadata": {},
     "output_type": "display_data"
    }
   ],
   "source": [
    "example_ids = ['88bec54ad04804f5b1fafbc131266640a129be2840fa6797cda358d7e831b907']\n",
    "\n",
    "GHA_ids = ['88bec54ad04804f5b1fafbc131266640a129be2840fa6797cda358d7e831b907', \n",
    "        '97408ef7bdac487e4a42e4abf20492b786310889fd4b0478603e2d0004c40bfb']\n",
    "\n",
    "IDN_ids = ['c288d6c94efa9011c0e3452af9f7fa0941661377030e10d29c68764617f9816d', \n",
    "       '8e2accea7ddbb84b7f6001e00bcb60f57f563c80633b53859993522a6f05727a']\n",
    "\n",
    "CIV_ids = ['0520cfac98fbc1bd7952b1c07a9f6983b83625722b6f665ea83ac9aad3512918',\n",
    "            'fa2aff0d60cf1bc0e1f1dd4b91daf932940c31c021ca1b84f5b9445855eef02f']\n",
    "\n",
    "all_geo_ids= GHA_ids + IDN_ids + CIV_ids\n",
    "#all_geo_ids= example_ids"
   ]
  },
  {
   "cell_type": "code",
   "execution_count": 5,
   "id": "1d374bd2-850a-44a9-881e-b095629a73d7",
   "metadata": {},
   "outputs": [
    {
     "data": {
      "text/html": [
       "\n",
       "            <style>\n",
       "                .geemap-dark {\n",
       "                    --jp-widgets-color: white;\n",
       "                    --jp-widgets-label-color: white;\n",
       "                    --jp-ui-font-color1: white;\n",
       "                    --jp-layout-color2: #454545;\n",
       "                    background-color: #383838;\n",
       "                }\n",
       "\n",
       "                .geemap-dark .jupyter-button {\n",
       "                    --jp-layout-color3: #383838;\n",
       "                }\n",
       "\n",
       "                .geemap-colab {\n",
       "                    background-color: var(--colab-primary-surface-color, white);\n",
       "                }\n",
       "\n",
       "                .geemap-colab .jupyter-button {\n",
       "                    --jp-layout-color3: var(--colab-primary-surface-color, white);\n",
       "                }\n",
       "            </style>\n",
       "            "
      ],
      "text/plain": [
       "<IPython.core.display.HTML object>"
      ]
     },
     "metadata": {},
     "output_type": "display_data"
    }
   ],
   "source": [
    "#make into a feature collection\n",
    "roi_geo_id = geo_id_or_ids_to_feature_collection(\n",
    "    all_geo_ids=all_geo_ids, \n",
    "    geo_id_column=geo_id_column, \n",
    "    session=session)"
   ]
  },
  {
   "cell_type": "markdown",
   "id": "5fdebaf0-99ec-42d8-97d7-68016ce987f7",
   "metadata": {},
   "source": [
    "#### Get plot boundaries"
   ]
  },
  {
   "cell_type": "code",
   "execution_count": 6,
   "id": "0ee159df-7f58-4f2a-ae30-c97e26b8f8fc",
   "metadata": {},
   "outputs": [
    {
     "data": {
      "text/html": [
       "\n",
       "            <style>\n",
       "                .geemap-dark {\n",
       "                    --jp-widgets-color: white;\n",
       "                    --jp-widgets-label-color: white;\n",
       "                    --jp-ui-font-color1: white;\n",
       "                    --jp-layout-color2: #454545;\n",
       "                    background-color: #383838;\n",
       "                }\n",
       "\n",
       "                .geemap-dark .jupyter-button {\n",
       "                    --jp-layout-color3: #383838;\n",
       "                }\n",
       "\n",
       "                .geemap-colab {\n",
       "                    background-color: var(--colab-primary-surface-color, white);\n",
       "                }\n",
       "\n",
       "                .geemap-colab .jupyter-button {\n",
       "                    --jp-layout-color3: var(--colab-primary-surface-color, white);\n",
       "                }\n",
       "            </style>\n",
       "            "
      ],
      "text/plain": [
       "<IPython.core.display.HTML object>"
      ]
     },
     "metadata": {},
     "output_type": "display_data"
    }
   ],
   "source": [
    "roi = roi_geo_id"
   ]
  },
  {
   "cell_type": "markdown",
   "id": "6ba90193-9bc2-4756-a839-f16c07284e04",
   "metadata": {},
   "source": [
    "### Whisp it"
   ]
  },
  {
   "cell_type": "code",
   "execution_count": 7,
   "id": "62b25f9f-6c78-424a-87ae-1025c5088884",
   "metadata": {
    "editable": true,
    "slideshow": {
     "slide_type": ""
    },
    "tags": []
   },
   "outputs": [
    {
     "data": {
      "text/html": [
       "\n",
       "            <style>\n",
       "                .geemap-dark {\n",
       "                    --jp-widgets-color: white;\n",
       "                    --jp-widgets-label-color: white;\n",
       "                    --jp-ui-font-color1: white;\n",
       "                    --jp-layout-color2: #454545;\n",
       "                    background-color: #383838;\n",
       "                }\n",
       "\n",
       "                .geemap-dark .jupyter-button {\n",
       "                    --jp-layout-color3: #383838;\n",
       "                }\n",
       "\n",
       "                .geemap-colab {\n",
       "                    background-color: var(--colab-primary-surface-color, white);\n",
       "                }\n",
       "\n",
       "                .geemap-colab .jupyter-button {\n",
       "                    --jp-layout-color3: var(--colab-primary-surface-color, white);\n",
       "                }\n",
       "            </style>\n",
       "            "
      ],
      "text/plain": [
       "<IPython.core.display.HTML object>"
      ]
     },
     "metadata": {},
     "output_type": "display_data"
    },
    {
     "name": "stdout",
     "output_type": "stream",
     "text": [
      "Stored 'roi' (FeatureCollection)\n",
      "The autoreload extension is already loaded. To reload it, use:\n",
      "  %reload_ext autoreload\n",
      "Datasets present in lookup:  True\n",
      "...stats processing started\n",
      "...ee to df processing time: 5.0681312084198 seconds\n"
     ]
    }
   ],
   "source": [
    "df = whisp_stats_as_df(roi)"
   ]
  },
  {
   "cell_type": "markdown",
   "id": "1b7b3539-f9dd-4dc4-84ac-4e043434ae27",
   "metadata": {},
   "source": [
    "### Display it"
   ]
  },
  {
   "cell_type": "code",
   "execution_count": 8,
   "id": "e45cecd9-3bf0-40da-ad58-ec5a87a2d7be",
   "metadata": {},
   "outputs": [
    {
     "data": {
      "text/html": [
       "\n",
       "            <style>\n",
       "                .geemap-dark {\n",
       "                    --jp-widgets-color: white;\n",
       "                    --jp-widgets-label-color: white;\n",
       "                    --jp-ui-font-color1: white;\n",
       "                    --jp-layout-color2: #454545;\n",
       "                    background-color: #383838;\n",
       "                }\n",
       "\n",
       "                .geemap-dark .jupyter-button {\n",
       "                    --jp-layout-color3: #383838;\n",
       "                }\n",
       "\n",
       "                .geemap-colab {\n",
       "                    background-color: var(--colab-primary-surface-color, white);\n",
       "                }\n",
       "\n",
       "                .geemap-colab .jupyter-button {\n",
       "                    --jp-layout-color3: var(--colab-primary-surface-color, white);\n",
       "                }\n",
       "            </style>\n",
       "            "
      ],
      "text/plain": [
       "<IPython.core.display.HTML object>"
      ]
     },
     "metadata": {},
     "output_type": "display_data"
    },
    {
     "data": {
      "text/html": [
       "<div>\n",
       "<style scoped>\n",
       "    .dataframe tbody tr th:only-of-type {\n",
       "        vertical-align: middle;\n",
       "    }\n",
       "\n",
       "    .dataframe tbody tr th {\n",
       "        vertical-align: top;\n",
       "    }\n",
       "\n",
       "    .dataframe thead th {\n",
       "        text-align: right;\n",
       "    }\n",
       "</style>\n",
       "<table border=\"1\" class=\"dataframe\">\n",
       "  <thead>\n",
       "    <tr style=\"text-align: right;\">\n",
       "      <th></th>\n",
       "      <th>Area_ha</th>\n",
       "      <th>Cocoa_ETH</th>\n",
       "      <th>Country</th>\n",
       "      <th>ESA_TC_2020</th>\n",
       "      <th>GFC_Loss_Year_2001</th>\n",
       "      <th>GFC_Loss_Year_2002</th>\n",
       "      <th>GFC_Loss_Year_2003</th>\n",
       "      <th>GFC_Loss_Year_2004</th>\n",
       "      <th>GFC_Loss_Year_2005</th>\n",
       "      <th>GFC_Loss_Year_2006</th>\n",
       "      <th>...</th>\n",
       "      <th>tmf_deg_2013</th>\n",
       "      <th>tmf_deg_2014</th>\n",
       "      <th>tmf_deg_2015</th>\n",
       "      <th>tmf_deg_2016</th>\n",
       "      <th>tmf_deg_2017</th>\n",
       "      <th>tmf_deg_2018</th>\n",
       "      <th>tmf_deg_2019</th>\n",
       "      <th>tmf_deg_2020</th>\n",
       "      <th>tmf_deg_2021</th>\n",
       "      <th>tmf_deg_2022</th>\n",
       "    </tr>\n",
       "  </thead>\n",
       "  <tbody>\n",
       "    <tr>\n",
       "      <th>0</th>\n",
       "      <td>1.9</td>\n",
       "      <td>0</td>\n",
       "      <td>GHA</td>\n",
       "      <td>100</td>\n",
       "      <td>0</td>\n",
       "      <td>3</td>\n",
       "      <td>0</td>\n",
       "      <td>0</td>\n",
       "      <td>0</td>\n",
       "      <td>0</td>\n",
       "      <td>...</td>\n",
       "      <td>0</td>\n",
       "      <td>0</td>\n",
       "      <td>0</td>\n",
       "      <td>0</td>\n",
       "      <td>2</td>\n",
       "      <td>0</td>\n",
       "      <td>0</td>\n",
       "      <td>0</td>\n",
       "      <td>0</td>\n",
       "      <td>0</td>\n",
       "    </tr>\n",
       "    <tr>\n",
       "      <th>1</th>\n",
       "      <td>16.6</td>\n",
       "      <td>0</td>\n",
       "      <td>GHA</td>\n",
       "      <td>100</td>\n",
       "      <td>0</td>\n",
       "      <td>0</td>\n",
       "      <td>0</td>\n",
       "      <td>0</td>\n",
       "      <td>0</td>\n",
       "      <td>0</td>\n",
       "      <td>...</td>\n",
       "      <td>0</td>\n",
       "      <td>0</td>\n",
       "      <td>0</td>\n",
       "      <td>0</td>\n",
       "      <td>0</td>\n",
       "      <td>0</td>\n",
       "      <td>0</td>\n",
       "      <td>5</td>\n",
       "      <td>0</td>\n",
       "      <td>0</td>\n",
       "    </tr>\n",
       "    <tr>\n",
       "      <th>2</th>\n",
       "      <td>31.2</td>\n",
       "      <td>0</td>\n",
       "      <td>IDN</td>\n",
       "      <td>93</td>\n",
       "      <td>0</td>\n",
       "      <td>0</td>\n",
       "      <td>0</td>\n",
       "      <td>0</td>\n",
       "      <td>0</td>\n",
       "      <td>91</td>\n",
       "      <td>...</td>\n",
       "      <td>0</td>\n",
       "      <td>0</td>\n",
       "      <td>0</td>\n",
       "      <td>0</td>\n",
       "      <td>0</td>\n",
       "      <td>0</td>\n",
       "      <td>0</td>\n",
       "      <td>0</td>\n",
       "      <td>0</td>\n",
       "      <td>0</td>\n",
       "    </tr>\n",
       "    <tr>\n",
       "      <th>3</th>\n",
       "      <td>20.9</td>\n",
       "      <td>0</td>\n",
       "      <td>IDN</td>\n",
       "      <td>100</td>\n",
       "      <td>0</td>\n",
       "      <td>0</td>\n",
       "      <td>6</td>\n",
       "      <td>6</td>\n",
       "      <td>3</td>\n",
       "      <td>0</td>\n",
       "      <td>...</td>\n",
       "      <td>0</td>\n",
       "      <td>0</td>\n",
       "      <td>0</td>\n",
       "      <td>0</td>\n",
       "      <td>0</td>\n",
       "      <td>0</td>\n",
       "      <td>0</td>\n",
       "      <td>0</td>\n",
       "      <td>0</td>\n",
       "      <td>0</td>\n",
       "    </tr>\n",
       "    <tr>\n",
       "      <th>4</th>\n",
       "      <td>8.3</td>\n",
       "      <td>0</td>\n",
       "      <td>CIV</td>\n",
       "      <td>77</td>\n",
       "      <td>9</td>\n",
       "      <td>3</td>\n",
       "      <td>0</td>\n",
       "      <td>0</td>\n",
       "      <td>0</td>\n",
       "      <td>0</td>\n",
       "      <td>...</td>\n",
       "      <td>0</td>\n",
       "      <td>1</td>\n",
       "      <td>0</td>\n",
       "      <td>0</td>\n",
       "      <td>0</td>\n",
       "      <td>1</td>\n",
       "      <td>1</td>\n",
       "      <td>0</td>\n",
       "      <td>0</td>\n",
       "      <td>0</td>\n",
       "    </tr>\n",
       "    <tr>\n",
       "      <th>5</th>\n",
       "      <td>3.6</td>\n",
       "      <td>0</td>\n",
       "      <td>CIV</td>\n",
       "      <td>98</td>\n",
       "      <td>0</td>\n",
       "      <td>0</td>\n",
       "      <td>18</td>\n",
       "      <td>0</td>\n",
       "      <td>0</td>\n",
       "      <td>0</td>\n",
       "      <td>...</td>\n",
       "      <td>0</td>\n",
       "      <td>0</td>\n",
       "      <td>0</td>\n",
       "      <td>0</td>\n",
       "      <td>0</td>\n",
       "      <td>0</td>\n",
       "      <td>0</td>\n",
       "      <td>0</td>\n",
       "      <td>0</td>\n",
       "      <td>0</td>\n",
       "    </tr>\n",
       "  </tbody>\n",
       "</table>\n",
       "<p>6 rows × 117 columns</p>\n",
       "</div>"
      ],
      "text/plain": [
       "  Area_ha  Cocoa_ETH Country  ESA_TC_2020  GFC_Loss_Year_2001  \\\n",
       "0     1.9          0     GHA          100                   0   \n",
       "1    16.6          0     GHA          100                   0   \n",
       "2    31.2          0     IDN           93                   0   \n",
       "3    20.9          0     IDN          100                   0   \n",
       "4     8.3          0     CIV           77                   9   \n",
       "5     3.6          0     CIV           98                   0   \n",
       "\n",
       "   GFC_Loss_Year_2002  GFC_Loss_Year_2003  GFC_Loss_Year_2004  \\\n",
       "0                   3                   0                   0   \n",
       "1                   0                   0                   0   \n",
       "2                   0                   0                   0   \n",
       "3                   0                   6                   6   \n",
       "4                   3                   0                   0   \n",
       "5                   0                  18                   0   \n",
       "\n",
       "   GFC_Loss_Year_2005  GFC_Loss_Year_2006  ...  tmf_deg_2013  tmf_deg_2014  \\\n",
       "0                   0                   0  ...             0             0   \n",
       "1                   0                   0  ...             0             0   \n",
       "2                   0                  91  ...             0             0   \n",
       "3                   3                   0  ...             0             0   \n",
       "4                   0                   0  ...             0             1   \n",
       "5                   0                   0  ...             0             0   \n",
       "\n",
       "   tmf_deg_2015  tmf_deg_2016  tmf_deg_2017  tmf_deg_2018  tmf_deg_2019  \\\n",
       "0             0             0             2             0             0   \n",
       "1             0             0             0             0             0   \n",
       "2             0             0             0             0             0   \n",
       "3             0             0             0             0             0   \n",
       "4             0             0             0             1             1   \n",
       "5             0             0             0             0             0   \n",
       "\n",
       "   tmf_deg_2020  tmf_deg_2021  tmf_deg_2022  \n",
       "0             0             0             0  \n",
       "1             5             0             0  \n",
       "2             0             0             0  \n",
       "3             0             0             0  \n",
       "4             0             0             0  \n",
       "5             0             0             0  \n",
       "\n",
       "[6 rows x 117 columns]"
      ]
     },
     "execution_count": 8,
     "metadata": {},
     "output_type": "execute_result"
    }
   ],
   "source": [
    "df"
   ]
  },
  {
   "cell_type": "markdown",
   "id": "3b0cec1c-3482-4fe6-b5ac-b60df4b2c4f6",
   "metadata": {},
   "source": [
    "#### Export it to CSV file"
   ]
  },
  {
   "cell_type": "code",
   "execution_count": 9,
   "id": "fd56afe0-5480-4eb8-9a7b-e34feb54ae82",
   "metadata": {},
   "outputs": [
    {
     "data": {
      "text/html": [
       "\n",
       "            <style>\n",
       "                .geemap-dark {\n",
       "                    --jp-widgets-color: white;\n",
       "                    --jp-widgets-label-color: white;\n",
       "                    --jp-ui-font-color1: white;\n",
       "                    --jp-layout-color2: #454545;\n",
       "                    background-color: #383838;\n",
       "                }\n",
       "\n",
       "                .geemap-dark .jupyter-button {\n",
       "                    --jp-layout-color3: #383838;\n",
       "                }\n",
       "\n",
       "                .geemap-colab {\n",
       "                    background-color: var(--colab-primary-surface-color, white);\n",
       "                }\n",
       "\n",
       "                .geemap-colab .jupyter-button {\n",
       "                    --jp-layout-color3: var(--colab-primary-surface-color, white);\n",
       "                }\n",
       "            </style>\n",
       "            "
      ],
      "text/plain": [
       "<IPython.core.display.HTML object>"
      ]
     },
     "metadata": {},
     "output_type": "display_data"
    },
    {
     "name": "stdout",
     "output_type": "stream",
     "text": [
      "output csv:  /home/sepal-user/whisp/whisp_output_table.csv\n"
     ]
    }
   ],
   "source": [
    "#export output csv\n",
    "df.to_csv(path_or_buf=out_file_wide,header=True)\n",
    "\n",
    "print (\"output csv: \", out_file_wide)\n"
   ]
  }
 ],
 "metadata": {
  "kernelspec": {
   "display_name": "Python 3",
   "language": "python",
   "name": "python3"
  },
  "language_info": {
   "codemirror_mode": {
    "name": "ipython",
    "version": 3
   },
   "file_extension": ".py",
   "mimetype": "text/x-python",
   "name": "python",
   "nbconvert_exporter": "python",
   "pygments_lexer": "ipython3",
   "version": "3.10.12"
  }
 },
 "nbformat": 4,
 "nbformat_minor": 5
}
