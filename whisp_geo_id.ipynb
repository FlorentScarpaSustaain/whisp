{
 "cells": [
  {
   "cell_type": "markdown",
   "id": "bfe423cf-8bd5-4727-8899-283ab6004221",
   "metadata": {},
   "source": [
    "#### Imports/setup"
   ]
  },
  {
   "cell_type": "code",
   "execution_count": null,
   "id": "13628509-e778-4395-b7e6-c8522eedb1b0",
   "metadata": {},
   "outputs": [],
   "source": [
    "from parameters.config_imports import *"
   ]
  },
  {
   "cell_type": "code",
   "execution_count": null,
   "id": "941c6116-bbf9-4948-ba36-52b008f450bf",
   "metadata": {},
   "outputs": [],
   "source": [
    "def whisp_stats_as_df (roi): \n",
    "    %store roi\n",
    "    %run process_whisp_stats.ipynb   \n",
    "    return df_out"
   ]
  },
  {
   "cell_type": "markdown",
   "id": "df2b3487-c87e-4a10-9097-bda251d53ab1",
   "metadata": {},
   "source": [
    "#### Input: Geo IDs"
   ]
  },
  {
   "cell_type": "code",
   "execution_count": null,
   "id": "bc075bc0-f321-4e4c-91b6-98effb3abfa2",
   "metadata": {},
   "outputs": [],
   "source": [
    "# example_ids\n",
    "GHA_ids = ['88bec54ad04804f5b1fafbc131266640a129be2840fa6797cda358d7e831b907', \n",
    "        '97408ef7bdac487e4a42e4abf20492b786310889fd4b0478603e2d0004c40bfb']\n",
    "\n",
    "IDN_ids = ['c288d6c94efa9011c0e3452af9f7fa0941661377030e10d29c68764617f9816d', \n",
    "       '8e2accea7ddbb84b7f6001e00bcb60f57f563c80633b53859993522a6f05727a']\n",
    "\n",
    "CIV_ids = ['0520cfac98fbc1bd7952b1c07a9f6983b83625722b6f665ea83ac9aad3512918',\n",
    "            'fa2aff0d60cf1bc0e1f1dd4b91daf932940c31c021ca1b84f5b9445855eef02f']\n",
    "\n",
    "all_geo_ids= GHA_ids + IDN_ids + CIV_ids\n"
   ]
  },
  {
   "cell_type": "markdown",
   "id": "5fdebaf0-99ec-42d8-97d7-68016ce987f7",
   "metadata": {},
   "source": [
    "#### Fetch plots and make a feature collection"
   ]
  },
  {
   "cell_type": "code",
   "execution_count": null,
   "id": "1d374bd2-850a-44a9-881e-b095629a73d7",
   "metadata": {},
   "outputs": [],
   "source": [
    "roi = geo_id_or_ids_to_feature_collection(\n",
    "    all_geo_ids=all_geo_ids, \n",
    "    geo_id_column=geo_id_column, \n",
    "    session=session)"
   ]
  },
  {
   "cell_type": "markdown",
   "id": "6ba90193-9bc2-4756-a839-f16c07284e04",
   "metadata": {},
   "source": [
    "### Whisp it"
   ]
  },
  {
   "cell_type": "code",
   "execution_count": null,
   "id": "62b25f9f-6c78-424a-87ae-1025c5088884",
   "metadata": {
    "editable": true,
    "slideshow": {
     "slide_type": ""
    },
    "tags": []
   },
   "outputs": [],
   "source": [
    "df = whisp_stats_as_df(roi)"
   ]
  },
  {
   "cell_type": "markdown",
   "id": "1b7b3539-f9dd-4dc4-84ac-4e043434ae27",
   "metadata": {},
   "source": [
    "### Display it"
   ]
  },
  {
   "cell_type": "code",
   "execution_count": null,
   "id": "e45cecd9-3bf0-40da-ad58-ec5a87a2d7be",
   "metadata": {},
   "outputs": [],
   "source": [
    "df"
   ]
  },
  {
   "cell_type": "markdown",
   "id": "3b0cec1c-3482-4fe6-b5ac-b60df4b2c4f6",
   "metadata": {},
   "source": [
    "#### Export it to CSV file"
   ]
  },
  {
   "cell_type": "code",
   "execution_count": null,
   "id": "fd56afe0-5480-4eb8-9a7b-e34feb54ae82",
   "metadata": {},
   "outputs": [],
   "source": [
    "df.to_csv(path_or_buf=out_csv,header=True)\n",
    "\n",
    "print (\"output csv: \", out_csv)\n"
   ]
  },
  {
   "cell_type": "markdown",
   "id": "ee45cf78-d7ad-4606-9a89-b372bc401e23",
   "metadata": {},
   "source": [
    "##### Calculate EUDR risk category"
   ]
  },
  {
   "cell_type": "code",
   "execution_count": null,
   "id": "b915e71d-666b-4644-9afe-9c22d911b11c",
   "metadata": {},
   "outputs": [],
   "source": [
    "# Replace with the name of your CSV file\n",
    "csv_file =out_directory/'whisp_output_table.csv'\n",
    "\n",
    "# import as a dataframe\n",
    "df_w_stats = pd.read_csv(csv_file)\n",
    "\n",
    "\n",
    "df_w_risk = whisp_risk(\n",
    "    df = df_w_stats, \n",
    "    ind_1_pcent_threshold=10,\n",
    "    ind_2_pcent_threshold=10,\n",
    "    ind_3_pcent_threshold=0,\n",
    "    ind_4_pcent_threshold=0\n",
    "    )\n"
   ]
  },
  {
   "cell_type": "markdown",
   "id": "96222e0b-1141-4483-853d-43a4ccd6e7a9",
   "metadata": {},
   "source": [
    "##### Display table with risk columns"
   ]
  },
  {
   "cell_type": "code",
   "execution_count": null,
   "id": "99641f32-d764-485d-8b50-f03313c666c4",
   "metadata": {},
   "outputs": [],
   "source": [
    "df_w_risk"
   ]
  },
  {
   "cell_type": "markdown",
   "id": "975baf35-ee31-4db1-9e20-f1f5be0d9a2c",
   "metadata": {},
   "source": [
    "##### Export table with risk columns to csv "
   ]
  },
  {
   "cell_type": "code",
   "execution_count": null,
   "id": "381502ce-b125-435b-8c25-e915a7003d9c",
   "metadata": {},
   "outputs": [],
   "source": [
    "output_file=out_directory/'whisp_output_table_w_geo_id_w_risk.csv'\n",
    "\n",
    "df_w_risk.to_csv(output_file)\n"
   ]
  }
 ],
 "metadata": {
  "kernelspec": {
   "display_name": "Python 3",
   "language": "python",
   "name": "python3"
  },
  "language_info": {
   "codemirror_mode": {
    "name": "ipython",
    "version": 3
   },
   "file_extension": ".py",
   "mimetype": "text/x-python",
   "name": "python",
   "nbconvert_exporter": "python",
   "pygments_lexer": "ipython3",
   "version": "3.10.12"
  }
 },
 "nbformat": 4,
 "nbformat_minor": 5
}
