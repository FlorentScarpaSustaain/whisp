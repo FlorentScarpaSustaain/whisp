{
 "cells": [
  {
   "cell_type": "markdown",
   "id": "e97722e4-093c-49de-ad9e-b3db397b6602",
   "metadata": {
    "editable": true,
    "slideshow": {
     "slide_type": ""
    },
    "tags": []
   },
   "source": [
    "### Process stats for multiband image"
   ]
  },
  {
   "cell_type": "code",
   "execution_count": 1,
   "id": "0f7a0947-3775-4750-89ef-63910da3d021",
   "metadata": {},
   "outputs": [
    {
     "name": "stdout",
     "output_type": "stream",
     "text": [
      "Earth Engine has been initialized with the specified credentials.\n"
     ]
    }
   ],
   "source": [
    "import ee\n",
    "import pandas as pd\n",
    "import geemap\n",
    "import geopandas as gpd\n",
    "import modules.tidy_tables as tidy_tables\n",
    "import json\n",
    "import numpy as np\n",
    "import time\n",
    "\n",
    "from modules.gee_initialize import initialize_ee \n",
    "\n",
    "initialize_ee()\n",
    "\n",
    "from parameters.config_runtime import country_dataset_name\n",
    "from parameters.config_output_naming import geo_id_column, geometry_area_column, plot_id_column\n",
    "\n",
    "from parameters.config_lookups import lookup_gee_datasets\n",
    "\n",
    "## get lists from lookup for different streams of processing\n",
    "from  dataset_properties.make_processing_lists_from_lookup import buffer_stats_list,\\\n",
    "                                                                  presence_only_flag_list,\\\n",
    "                                                                  country_allocation_stats_only_list, \\\n",
    "                                                                  plot_stats_list, \\\n",
    "                                                                  decimal_place_column_list"
   ]
  },
  {
   "cell_type": "code",
   "execution_count": 1,
   "id": "9ae58a2f-e271-433d-b3c0-7a2e2677755a",
   "metadata": {},
   "outputs": [],
   "source": [
    "# %run alt_whisp_prep_multiband_image.ipynb # get stats and image\n",
    "from modules.multiband_stats import get_stats "
   ]
  },
  {
   "cell_type": "code",
   "execution_count": 3,
   "id": "44479a3a-0be0-474e-9585-aa4fc08dc3b4",
   "metadata": {},
   "outputs": [
    {
     "data": {
      "text/html": [
       "\n",
       "            <style>\n",
       "                .geemap-dark {\n",
       "                    --jp-widgets-color: white;\n",
       "                    --jp-widgets-label-color: white;\n",
       "                    --jp-ui-font-color1: white;\n",
       "                    --jp-layout-color2: #454545;\n",
       "                    background-color: #383838;\n",
       "                }\n",
       "                    \n",
       "                .geemap-dark .jupyter-button {\n",
       "                    --jp-layout-color3: #383838;\n",
       "                }\n",
       "                \n",
       "                .geemap-colab {\n",
       "                    background-color: var(--colab-primary-surface-color, white);\n",
       "                }\n",
       "                    \n",
       "                .geemap-colab .jupyter-button {\n",
       "                    --jp-layout-color3: var(--colab-primary-surface-color, white);\n",
       "                }\n",
       "            </style>\n",
       "            "
      ],
      "text/plain": [
       "<IPython.core.display.HTML object>"
      ]
     },
     "metadata": {},
     "output_type": "display_data"
    }
   ],
   "source": [
    "def process_dataframe(df, geo_id_column, geometry_area_column, country_dataset_name, lookup_gee_datasets,\n",
    "                      presence_only_flag_list, decimal_place_column_list, plot_id_column, keep_system_index=False, debug=False):\n",
    "    \"\"\"tidying data frame based on a series of lists of strings for handling columns differently\"\"\"\n",
    "\n",
    "    if debug: st = time.time()\n",
    "  \n",
    "    if geo_id_column in df.columns:\n",
    "        prefix_columns_list =[geo_id_column, geometry_area_column, \"Country\"]     \n",
    "    else:\n",
    "        prefix_columns_list =[geometry_area_column, \"Country\"] \n",
    "        print(geo_id_column, \"column not found, so skipping inclusion\")\n",
    "    \n",
    "    # for adding geo_ids from asset registry later\n",
    "    if keep_system_index:\n",
    "        df = df.rename(columns={\"system_index\": \"system:index\"}) # corrected the syntax for rename()\n",
    "        prefix_columns_list.insert(0, \"system:index\")\n",
    "        print(\"keeping 'system:index' column (e.g. to allow joining Geo ids to df later etc)\")\n",
    "\n",
    "\n",
    "    df_out = tidy_tables.reorder_columns_by_lookup(\n",
    "        df, lookup_gee_datasets, 'dataset_order', \"dataset_name\", prefix_columns_list\n",
    "    ).drop(country_dataset_name, axis=1, errors='ignore')\n",
    "    \n",
    "    # convert positive results values to \"True\" for specific columns\n",
    "    df_out[presence_only_flag_list] = np.where(df_out[presence_only_flag_list] > 0, \"True\", \"-\")\n",
    "    \n",
    "    # fix decimals\n",
    "    df_out[decimal_place_column_list] = df_out[decimal_place_column_list].round(decimals=0, out=None).astype(int)\n",
    "    \n",
    "    # add in plot id as a simple id for quick cross referencing e.g. if shown on a map\n",
    "    df_out[plot_id_column] = df_out.index + 1\n",
    "    \n",
    "    #set as an index\n",
    "    df_out.set_index(plot_id_column, inplace=True)\n",
    "    \n",
    "    # remove underscores in column names\n",
    "    df_out.columns = df_out.columns.str.replace('_', ' ')\n",
    "    \n",
    "    if debug: print('...table tidying time:', time.time() - st, 'seconds.\\n Processing finished')\n",
    "    \n",
    "    return df_out"
   ]
  },
  {
   "cell_type": "code",
   "execution_count": null,
   "id": "af59140c-1967-4f16-b300-89a159f62b42",
   "metadata": {},
   "outputs": [],
   "source": [
    "presence_only_list = ['RADD_alerts', 'WDPA']\n",
    "\n",
    "decimal_place_column_list = ['EUFO_2020',\n",
    " 'GLAD_Primary',\n",
    " 'TMF_undist',\n",
    " 'JAXA_FNF_2020',\n",
    " 'GFC_TC_2020',\n",
    " 'GLAD_LULC_2020',\n",
    " 'ESA_TC_2020',\n",
    " 'TMF_disturbed',\n",
    " 'TMF_plant',\n",
    " 'Oil_palm_Descals',\n",
    " 'Oil_palm_FDaP',\n",
    " 'Cocoa_ETH']\n",
    "\n",
    "order =['EUFO_2020',\n",
    " 'GLAD_Primary',\n",
    " 'TMF_undist',\n",
    " 'JAXA_FNF_2020',\n",
    " 'GFC_TC_2020',\n",
    " 'GLAD_LULC_2020',\n",
    " 'ESA_TC_2020',\n",
    " 'RADD_alerts',\n",
    " 'TMF_disturbed',\n",
    " 'TMF_plant',\n",
    " 'Oil_palm_Descals',\n",
    " 'Oil_palm_FDaP',\n",
    " 'Cocoa_ETH',\n",
    " 'WDPA']\n",
    "\n",
    "id_name = \"PLOTID\"\n",
    "\n",
    "prefix_columns_list =[geo_id_column,geometry_area_column, \"Country\"] \n",
    "dataset_order_list = prefix_columns_list + order"
   ]
  },
  {
   "cell_type": "code",
   "execution_count": 2,
   "id": "3de77e67-0ef5-46be-8221-b44672641b49",
   "metadata": {
    "editable": true,
    "slideshow": {
     "slide_type": ""
    },
    "tags": []
   },
   "outputs": [
    {
     "ename": "NameError",
     "evalue": "name 'time' is not defined",
     "output_type": "error",
     "traceback": [
      "\u001b[0;31m---------------------------------------------------------------------------\u001b[0m",
      "\u001b[0;31mNameError\u001b[0m                                 Traceback (most recent call last)",
      "Cell \u001b[0;32mIn[2], line 1\u001b[0m\n\u001b[0;32m----> 1\u001b[0m st \u001b[38;5;241m=\u001b[39m \u001b[43mtime\u001b[49m\u001b[38;5;241m.\u001b[39mtime()\n\u001b[1;32m      3\u001b[0m get_ipython()\u001b[38;5;241m.\u001b[39mrun_line_magic(\u001b[38;5;124m'\u001b[39m\u001b[38;5;124mstore\u001b[39m\u001b[38;5;124m'\u001b[39m, \u001b[38;5;124m'\u001b[39m\u001b[38;5;124m-r roi\u001b[39m\u001b[38;5;124m'\u001b[39m)\n\u001b[1;32m      5\u001b[0m \u001b[38;5;28mprint\u001b[39m (ee\u001b[38;5;241m.\u001b[39mFeatureCollection(roi)\u001b[38;5;241m.\u001b[39msize()\u001b[38;5;241m.\u001b[39mgetInfo())\n",
      "\u001b[0;31mNameError\u001b[0m: name 'time' is not defined"
     ]
    }
   ],
   "source": [
    "st = time.time()\n",
    "\n",
    "%store -r roi\n",
    "\n",
    "keep_system_index = True\n",
    "\n",
    "print (ee.FeatureCollection(roi).size().getInfo())\n",
    "\n",
    "if ee.FeatureCollection(roi).size().getInfo()>100:#update this code to depend on a variable? or if memory error?\n",
    "\n",
    "    stats_fc_formatted = get_stats_formatted(\n",
    "        roi,\n",
    "        order = dataset_order_list, # not working as reverts to alphabetical\n",
    "        id_name = id_name,\n",
    "        flag_positive = presence_only_flag_list,\n",
    "        round_properties = decimal_place_column_list,\n",
    "        # exclude_properties = ['GLAD_LULC_2020'],\n",
    "        select_and_rename = True # underscore removal (slow as relies on get info currently)\n",
    "        )\n",
    "    \n",
    "    task = ee.batch.Export.table.toDrive(collection=stats_fc_formatted, \n",
    "                     description=\"Whisp_output_table_export\", \n",
    "                     folder=\"Whisp_results\",\n",
    "                     fileFormat=\"CSV\")\n",
    "\n",
    "    task.start()\n",
    "    \n",
    "    df_out =  \"Table exporting to google drive: 'Whisp_results/Whisp_output_table_export'\"\n",
    "    \n",
    "    print (df_out)\n",
    "else: \n",
    "    print ('...stats processing started')\n",
    "    \n",
    "    def add_system_index_as_property_to_feature(feature):\n",
    "        # Get the system:index of the feature\n",
    "        system_index = feature.get('system:index')\n",
    "           \n",
    "        # Set the 'id' property of the feature\n",
    "        return feature.set('system_index',system_index)\n",
    "    \n",
    "    def add_system_index_as_property_to_fc(feature_col):    \n",
    "       return feature_col.map(add_system_index_as_property_to_feature)\n",
    "        \n",
    "    stats_fc = get_stats(roi)\n",
    "    \n",
    "    stats_fc = add_system_index_as_property_to_fc(stats_fc)\n",
    "    \n",
    "\n",
    "    \n",
    "    if keep_system_index:\n",
    "        stats_fc = add_system_index_as_property_to_fc(stats_fc)\n",
    "        \n",
    "    df = geemap.ee_to_df(stats_fc)    \n",
    "    \n",
    "    df_out = process_dataframe(df, geo_id_column, geometry_area_column, country_dataset_name, lookup_gee_datasets,\n",
    "                          presence_only_flag_list, decimal_place_column_list, plot_id_column,keep_system_index=keep_system_index,debug=False)\n",
    "\n",
    "    print ('...ee to df processing time:', time.time() - st, 'seconds')# get the execution time\n"
   ]
  },
  {
   "cell_type": "code",
   "execution_count": null,
   "id": "eaf86623-765c-4c8c-86d4-d281464c04e6",
   "metadata": {},
   "outputs": [],
   "source": []
  }
 ],
 "metadata": {
  "kernelspec": {
   "display_name": "Python 3",
   "language": "python",
   "name": "python3"
  },
  "language_info": {
   "codemirror_mode": {
    "name": "ipython",
    "version": 3
   },
   "file_extension": ".py",
   "mimetype": "text/x-python",
   "name": "python",
   "nbconvert_exporter": "python",
   "pygments_lexer": "ipython3",
   "version": "3.10.12"
  }
 },
 "nbformat": 4,
 "nbformat_minor": 5
}
