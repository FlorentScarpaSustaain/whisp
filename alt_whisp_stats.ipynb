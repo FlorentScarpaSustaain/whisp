{
 "cells": [
  {
   "cell_type": "markdown",
   "id": "e97722e4-093c-49de-ad9e-b3db397b6602",
   "metadata": {
    "editable": true,
    "slideshow": {
     "slide_type": ""
    },
    "tags": []
   },
   "source": [
    "### Process stats for multiband image"
   ]
  },
  {
   "cell_type": "code",
   "execution_count": 1,
   "id": "0f7a0947-3775-4750-89ef-63910da3d021",
   "metadata": {},
   "outputs": [
    {
     "name": "stdout",
     "output_type": "stream",
     "text": [
      "Earth Engine has been initialized with the specified credentials.\n"
     ]
    }
   ],
   "source": [
    "import ee\n",
    "import pandas as pd\n",
    "import geemap\n",
    "import geopandas as gpd\n",
    "import modules.tidy_tables as tidy_tables\n",
    "import json\n",
    "import numpy as np\n",
    "import time\n",
    "\n",
    "from modules.gee_initialize import initialize_ee \n",
    "\n",
    "initialize_ee()\n",
    "\n",
    "from parameters.config_runtime import country_dataset_name\n",
    "from parameters.config_output_naming import geo_id_column, geometry_area_column, plot_id_column\n",
    "\n",
    "from parameters.config_lookups import lookup_gee_datasets\n",
    "\n",
    "## get lists from lookup for different streams of processing\n",
    "from  dataset_properties.make_processing_lists_from_lookup import buffer_stats_list,\\\n",
    "                                                                  presence_only_flag_list,\\\n",
    "                                                                  country_allocation_stats_only_list, \\\n",
    "                                                                  plot_stats_list, \\\n",
    "                                                                  decimal_place_column_list"
   ]
  },
  {
   "cell_type": "code",
   "execution_count": 2,
   "id": "9ae58a2f-e271-433d-b3c0-7a2e2677755a",
   "metadata": {},
   "outputs": [
    {
     "data": {
      "text/html": [
       "\n",
       "            <style>\n",
       "                .geemap-dark {\n",
       "                    --jp-widgets-color: white;\n",
       "                    --jp-widgets-label-color: white;\n",
       "                    --jp-ui-font-color1: white;\n",
       "                    --jp-layout-color2: #454545;\n",
       "                    background-color: #383838;\n",
       "                }\n",
       "                    \n",
       "                .geemap-dark .jupyter-button {\n",
       "                    --jp-layout-color3: #383838;\n",
       "                }\n",
       "                \n",
       "                .geemap-colab {\n",
       "                    background-color: var(--colab-primary-surface-color, white);\n",
       "                }\n",
       "                    \n",
       "                .geemap-colab .jupyter-button {\n",
       "                    --jp-layout-color3: var(--colab-primary-surface-color, white);\n",
       "                }\n",
       "            </style>\n",
       "            "
      ],
      "text/plain": [
       "<IPython.core.display.HTML object>"
      ]
     },
     "metadata": {},
     "output_type": "display_data"
    }
   ],
   "source": [
    "%run alt_whisp_prep_multiband_image.ipynb # get stats and image"
   ]
  },
  {
   "cell_type": "code",
   "execution_count": 3,
   "id": "44479a3a-0be0-474e-9585-aa4fc08dc3b4",
   "metadata": {},
   "outputs": [
    {
     "data": {
      "text/html": [
       "\n",
       "            <style>\n",
       "                .geemap-dark {\n",
       "                    --jp-widgets-color: white;\n",
       "                    --jp-widgets-label-color: white;\n",
       "                    --jp-ui-font-color1: white;\n",
       "                    --jp-layout-color2: #454545;\n",
       "                    background-color: #383838;\n",
       "                }\n",
       "                    \n",
       "                .geemap-dark .jupyter-button {\n",
       "                    --jp-layout-color3: #383838;\n",
       "                }\n",
       "                \n",
       "                .geemap-colab {\n",
       "                    background-color: var(--colab-primary-surface-color, white);\n",
       "                }\n",
       "                    \n",
       "                .geemap-colab .jupyter-button {\n",
       "                    --jp-layout-color3: var(--colab-primary-surface-color, white);\n",
       "                }\n",
       "            </style>\n",
       "            "
      ],
      "text/plain": [
       "<IPython.core.display.HTML object>"
      ]
     },
     "metadata": {},
     "output_type": "display_data"
    }
   ],
   "source": [
    "\n",
    "def process_dataframe(df, geo_id_column, geometry_area_column, country_dataset_name, lookup_gee_datasets,\n",
    "                      presence_only_flag_list, decimal_place_column_list, plot_id_column, keep_system_index=False, debug=False):\n",
    "    \"\"\"tidying data frame based on a series of lists of strings for handling columns differently\"\"\"\n",
    "\n",
    "    if debug: st = time.time()\n",
    "  \n",
    "    if geo_id_column in df.columns:\n",
    "        prefix_columns_list =[geo_id_column, geometry_area_column, \"Country\"]     \n",
    "    else:\n",
    "        prefix_columns_list =[geometry_area_column, \"Country\"] \n",
    "        print(geo_id_column, \"column not found, so skipping inclusion\")\n",
    "    \n",
    "    #for adding geo_ids from asset registry later\n",
    "    if keep_system_index: prefix_columns_list.append(\"system:index\")\n",
    "\n",
    "    df_out = tidy_tables.reorder_columns_by_lookup(\n",
    "        df, lookup_gee_datasets, 'dataset_order', \"dataset_name\", prefix_columns_list\n",
    "    ).drop(country_dataset_name, axis=1, errors='ignore')\n",
    "    \n",
    "    # convert positive results values to \"True\" for specific columns\n",
    "    df_out[presence_only_flag_list] = np.where(df_out[presence_only_flag_list] > 0, \"True\", \"-\")\n",
    "    \n",
    "    # fix decimals\n",
    "    df_out[decimal_place_column_list] = df_out[decimal_place_column_list].round(decimals=0, out=None).astype(int)\n",
    "    \n",
    "    # add in plot id as a simple id for quick cross referencing e.g. if shown on a map\n",
    "    df_out[plot_id_column] = df_out.index + 1\n",
    "    \n",
    "    #set as an index\n",
    "    df_out.set_index(plot_id_column, inplace=True)\n",
    "    \n",
    "    # remove underscores in column names\n",
    "    df_out.columns = df_out.columns.str.replace('_', ' ')\n",
    "    \n",
    "    if debug: print('...table tidying time:', time.time() - st, 'seconds.\\n Processing finished')\n",
    "    \n",
    "    return df_out"
   ]
  },
  {
   "cell_type": "code",
   "execution_count": null,
   "id": "3de77e67-0ef5-46be-8221-b44672641b49",
   "metadata": {
    "editable": true,
    "slideshow": {
     "slide_type": ""
    },
    "tags": []
   },
   "outputs": [],
   "source": [
    "st = time.time()\n",
    "\n",
    "%store -r roi\n",
    "\n",
    "print (ee.FeatureCollection(roi).size().getInfo())\n",
    "\n",
    "stats= get_stats(roi)\n",
    "\n",
    "if ee.FeatureCollection(roi).size().getInfo()>500:#update this code to depend on a variable? or if memory error?\n",
    "    \n",
    "    task = ee.batch.Export.table.toDrive(collection=stats, \n",
    "                     description=\"Whisp_output_table_export\", \n",
    "                     folder=\"Whisp_results\",\n",
    "                     fileFormat=\"CSV\")\n",
    "\n",
    "    task.start()\n",
    "    \n",
    "    df_out =  \"Table exporting to google drive: 'Whisp_results/Whisp_output_table_export'\"\n",
    "    \n",
    "    print (df_out)\n",
    "else: \n",
    "    print ('...stats processing started')\n",
    "    \n",
    "    # print ('...ee processing time:', time.time() - st, 'seconds')# get the execution time\n",
    "    \n",
    "    # st = time.time()\n",
    "    \n",
    "    df = geemap.ee_to_df(stats)\n",
    "    \n",
    "    # print(df.head())\n",
    "     \n",
    "    df_out = process_dataframe(df, geo_id_column, geometry_area_column, country_dataset_name, lookup_gee_datasets,\n",
    "                          presence_only_flag_list, decimal_place_column_list, plot_id_column)\n",
    "\n",
    "    print ('...ee to df processing time:', time.time() - st, 'seconds')# get the execution time\n"
   ]
  },
  {
   "cell_type": "code",
   "execution_count": null,
   "id": "eaf86623-765c-4c8c-86d4-d281464c04e6",
   "metadata": {},
   "outputs": [],
   "source": []
  }
 ],
 "metadata": {
  "kernelspec": {
   "display_name": "Python 3",
   "language": "python",
   "name": "python3"
  },
  "language_info": {
   "codemirror_mode": {
    "name": "ipython",
    "version": 3
   },
   "file_extension": ".py",
   "mimetype": "text/x-python",
   "name": "python",
   "nbconvert_exporter": "python",
   "pygments_lexer": "ipython3",
   "version": "3.10.12"
  }
 },
 "nbformat": 4,
 "nbformat_minor": 5
}
