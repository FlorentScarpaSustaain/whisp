{
 "cells": [
  {
   "cell_type": "markdown",
   "id": "e97722e4-093c-49de-ad9e-b3db397b6602",
   "metadata": {},
   "source": [
    "### Process stats for multiband image"
   ]
  },
  {
   "cell_type": "code",
   "execution_count": 3,
   "id": "0f7a0947-3775-4750-89ef-63910da3d021",
   "metadata": {},
   "outputs": [
    {
     "data": {
      "text/html": [
       "\n",
       "            <style>\n",
       "                .geemap-dark {\n",
       "                    --jp-widgets-color: white;\n",
       "                    --jp-widgets-label-color: white;\n",
       "                    --jp-ui-font-color1: white;\n",
       "                    --jp-layout-color2: #454545;\n",
       "                    background-color: #383838;\n",
       "                }\n",
       "                    \n",
       "                .geemap-dark .jupyter-button {\n",
       "                    --jp-layout-color3: #383838;\n",
       "                }\n",
       "                \n",
       "                .geemap-colab {\n",
       "                    background-color: var(--colab-primary-surface-color, white);\n",
       "                }\n",
       "                    \n",
       "                .geemap-colab .jupyter-button {\n",
       "                    --jp-layout-color3: var(--colab-primary-surface-color, white);\n",
       "                }\n",
       "            </style>\n",
       "            "
      ],
      "text/plain": [
       "<IPython.core.display.HTML object>"
      ]
     },
     "metadata": {},
     "output_type": "display_data"
    }
   ],
   "source": [
    "import ee\n",
    "import pandas as pd\n",
    "import geemap\n",
    "import geopandas as gpd\n",
    "import modules.tidy_tables as tidy_tables\n",
    "import json\n",
    "import numpy as np\n",
    "import time\n",
    "\n",
    "from modules.gee_initialize import initialize_ee \n",
    "\n",
    "initialize_ee()\n",
    "\n",
    "from parameters.config_runtime import country_dataset_name\n",
    "from parameters.config_output_naming import geo_id_column, geometry_area_column, plot_id_column\n",
    "\n",
    "from parameters.config_lookups import lookup_gee_datasets\n",
    "\n",
    "## get lists from lookup for different streams of processing\n",
    "from  dataset_properties.make_processing_lists_from_lookup import buffer_stats_list,\\\n",
    "                                                                  presence_only_flag_list,\\\n",
    "                                                                  country_allocation_stats_only_list, \\\n",
    "                                                                  plot_stats_list, \\\n",
    "                                                                  decimal_place_column_list"
   ]
  },
  {
   "cell_type": "code",
   "execution_count": null,
   "id": "9ae58a2f-e271-433d-b3c0-7a2e2677755a",
   "metadata": {},
   "outputs": [],
   "source": [
    "%run alt_whisp_prep_multiband_image.ipynb # get stats and image"
   ]
  },
  {
   "cell_type": "code",
   "execution_count": 1,
   "id": "3de77e67-0ef5-46be-8221-b44672641b49",
   "metadata": {},
   "outputs": [
    {
     "ename": "NameError",
     "evalue": "name 'time' is not defined",
     "output_type": "error",
     "traceback": [
      "\u001b[0;31m---------------------------------------------------------------------------\u001b[0m",
      "\u001b[0;31mNameError\u001b[0m                                 Traceback (most recent call last)",
      "Cell \u001b[0;32mIn[1], line 1\u001b[0m\n\u001b[0;32m----> 1\u001b[0m st \u001b[38;5;241m=\u001b[39m \u001b[43mtime\u001b[49m\u001b[38;5;241m.\u001b[39mtime()\n\u001b[1;32m      3\u001b[0m get_ipython()\u001b[38;5;241m.\u001b[39mrun_line_magic(\u001b[38;5;124m'\u001b[39m\u001b[38;5;124mstore\u001b[39m\u001b[38;5;124m'\u001b[39m, \u001b[38;5;124m'\u001b[39m\u001b[38;5;124m-r roi\u001b[39m\u001b[38;5;124m'\u001b[39m)\n\u001b[1;32m      5\u001b[0m stats\u001b[38;5;241m=\u001b[39m get_stats_fc(roi)\n",
      "\u001b[0;31mNameError\u001b[0m: name 'time' is not defined"
     ]
    }
   ],
   "source": [
    "st = time.time()\n",
    "\n",
    "%store -r roi\n",
    "\n",
    "stats= get_stats(roi)\n",
    "\n",
    "stats\n",
    "\n",
    "print ('stats time:', time.time() - st, 'seconds')# get the execution time\n",
    "\n",
    "st = time.time()\n",
    "\n",
    "df = geemap.ee_to_df(stats)\n",
    "\n",
    "print ('ee to df processing time:', time.time() - st, 'seconds')# get the execution time\n",
    "\n",
    "st = time.time()\n",
    "\n",
    "prefix_columns_list =[geo_id_column,geometry_area_column,\"Country\"] \n",
    "\n",
    "df_reordered = tidy_tables.reorder_columns_by_lookup(\n",
    "    df,lookup_gee_datasets,'dataset_order',\"dataset_name\",prefix_columns_list).drop(country_dataset_name, axis=1, errors='ignore')\n",
    "\n",
    "df_out = df_reordered\n",
    "\n",
    "# convert positive results values to \"True\" for specific columns and fix decimals\n",
    "df_out[presence_only_flag_list] = np.where(df_out[presence_only_flag_list] > 0, \"True\", \"-\")\n",
    "\n",
    "df_out[decimal_place_column_list] = df_out[decimal_place_column_list].round(decimals=0, out=None).astype(int)\n",
    "\n",
    "#adding in index plot id column for visual cross referencing on map etc\n",
    "df_out[plot_id_column] = df_out.index +1\n",
    "\n",
    "df_out.set_index(plot_id_column, inplace = True)\n",
    "\n",
    "# ceo_cols_for_exporting = df_out.columns # with underscores for use in ceo export\n",
    "\n",
    "# remove underscores in column names\n",
    "df_out.columns = df_out.columns.str.replace('_', ' ')\n",
    "\n",
    "print ('table tidying time:', time.time() - st, 'seconds')# get the execution time\n",
    "\n",
    "df_out"
   ]
  },
  {
   "cell_type": "code",
   "execution_count": null,
   "id": "e8319464-9936-4817-b75a-728c47defedf",
   "metadata": {},
   "outputs": [],
   "source": []
  }
 ],
 "metadata": {
  "kernelspec": {
   "display_name": "Python 3",
   "language": "python",
   "name": "python3"
  },
  "language_info": {
   "codemirror_mode": {
    "name": "ipython",
    "version": 3
   },
   "file_extension": ".py",
   "mimetype": "text/x-python",
   "name": "python",
   "nbconvert_exporter": "python",
   "pygments_lexer": "ipython3",
   "version": "3.10.12"
  }
 },
 "nbformat": 4,
 "nbformat_minor": 5
}
