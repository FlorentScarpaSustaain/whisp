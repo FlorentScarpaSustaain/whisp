{
 "cells": [
  {
   "cell_type": "markdown",
   "id": "bfe423cf-8bd5-4727-8899-283ab6004221",
   "metadata": {},
   "source": [
    "#### Imports/setup"
   ]
  },
  {
   "cell_type": "code",
   "execution_count": 1,
   "id": "8c696e8e-cf8b-4aa0-80e9-fc3a9f87a42b",
   "metadata": {
    "editable": true,
    "scrolled": true,
    "slideshow": {
     "slide_type": ""
    },
    "tags": []
   },
   "outputs": [],
   "source": [
    "from parameters.config_imports import *"
   ]
  },
  {
   "cell_type": "code",
   "execution_count": 2,
   "id": "a17cf082-5819-4526-b888-1e4fce46bc7e",
   "metadata": {},
   "outputs": [
    {
     "data": {
      "text/html": [
       "\n",
       "            <style>\n",
       "                .geemap-dark {\n",
       "                    --jp-widgets-color: white;\n",
       "                    --jp-widgets-label-color: white;\n",
       "                    --jp-ui-font-color1: white;\n",
       "                    --jp-layout-color2: #454545;\n",
       "                    background-color: #383838;\n",
       "                }\n",
       "\n",
       "                .geemap-dark .jupyter-button {\n",
       "                    --jp-layout-color3: #383838;\n",
       "                }\n",
       "\n",
       "                .geemap-colab {\n",
       "                    background-color: var(--colab-primary-surface-color, white);\n",
       "                }\n",
       "\n",
       "                .geemap-colab .jupyter-button {\n",
       "                    --jp-layout-color3: var(--colab-primary-surface-color, white);\n",
       "                }\n",
       "            </style>\n",
       "            "
      ],
      "text/plain": [
       "<IPython.core.display.HTML object>"
      ]
     },
     "metadata": {},
     "output_type": "display_data"
    }
   ],
   "source": [
    "def whisp_stats_as_df (roi): \n",
    "    %store roi\n",
    "    %run process_whisp_stats.ipynb   \n",
    "    return df_out"
   ]
  },
  {
   "cell_type": "markdown",
   "id": "7df79006-43ec-402a-9473-b2c17b1614ae",
   "metadata": {},
   "source": [
    "#### Inputs : feature collection (without Geo IDs)\n",
    "- Choose between 1) GEE asset or 2) Geojson input\n",
    "- Comment out the one you dont want"
   ]
  },
  {
   "cell_type": "code",
   "execution_count": 15,
   "id": "354afea9-eb94-4fd9-9469-eddd3a3487d6",
   "metadata": {
    "editable": true,
    "scrolled": true,
    "slideshow": {
     "slide_type": ""
    },
    "tags": []
   },
   "outputs": [
    {
     "data": {
      "text/html": [
       "\n",
       "            <style>\n",
       "                .geemap-dark {\n",
       "                    --jp-widgets-color: white;\n",
       "                    --jp-widgets-label-color: white;\n",
       "                    --jp-ui-font-color1: white;\n",
       "                    --jp-layout-color2: #454545;\n",
       "                    background-color: #383838;\n",
       "                }\n",
       "\n",
       "                .geemap-dark .jupyter-button {\n",
       "                    --jp-layout-color3: #383838;\n",
       "                }\n",
       "\n",
       "                .geemap-colab {\n",
       "                    background-color: var(--colab-primary-surface-color, white);\n",
       "                }\n",
       "\n",
       "                .geemap-colab .jupyter-button {\n",
       "                    --jp-layout-color3: var(--colab-primary-surface-color, white);\n",
       "                }\n",
       "            </style>\n",
       "            "
      ],
      "text/plain": [
       "<IPython.core.display.HTML object>"
      ]
     },
     "metadata": {},
     "output_type": "display_data"
    }
   ],
   "source": [
    "# asset_id = \"projects/ee-andyarnellgee/assets/example_asset\" # asset id\n",
    "# roi = ee.FeatureCollection(asset_id) # load feature collection asset\n",
    "\n",
    "geojson_path = \"input_examples/geojson_example.geojson\" # geojson file\n",
    "roi = geojson_to_ee(geojson_path) # convert geojson to feature collection"
   ]
  },
  {
   "cell_type": "code",
   "execution_count": 4,
   "id": "85ad2157-31ea-4133-9841-85e249e0bdb9",
   "metadata": {},
   "outputs": [
    {
     "data": {
      "text/html": [
       "\n",
       "            <style>\n",
       "                .geemap-dark {\n",
       "                    --jp-widgets-color: white;\n",
       "                    --jp-widgets-label-color: white;\n",
       "                    --jp-ui-font-color1: white;\n",
       "                    --jp-layout-color2: #454545;\n",
       "                    background-color: #383838;\n",
       "                }\n",
       "\n",
       "                .geemap-dark .jupyter-button {\n",
       "                    --jp-layout-color3: #383838;\n",
       "                }\n",
       "\n",
       "                .geemap-colab {\n",
       "                    background-color: var(--colab-primary-surface-color, white);\n",
       "                }\n",
       "\n",
       "                .geemap-colab .jupyter-button {\n",
       "                    --jp-layout-color3: var(--colab-primary-surface-color, white);\n",
       "                }\n",
       "            </style>\n",
       "            "
      ],
      "text/plain": [
       "<IPython.core.display.HTML object>"
      ]
     },
     "metadata": {},
     "output_type": "display_data"
    },
    {
     "data": {
      "text/html": [
       "<div><style>:root {\n",
       "  --font-color-primary: var(--jp-content-font-color0, rgba(0, 0, 0, 1));\n",
       "  --font-color-secondary: var(--jp-content-font-color2, rgba(0, 0, 0, 0.6));\n",
       "  --font-color-accent: rgba(123, 31, 162, 1);\n",
       "  --border-color: var(--jp-border-color2, #e0e0e0);\n",
       "  --background-color: var(--jp-layout-color0, white);\n",
       "  --background-color-row-even: var(--jp-layout-color1, white);\n",
       "  --background-color-row-odd: var(--jp-layout-color2, #eeeeee);\n",
       "}\n",
       "\n",
       "html[theme=\"dark\"],\n",
       "body[data-theme=\"dark\"],\n",
       "body.vscode-dark {\n",
       "  --font-color-primary: rgba(255, 255, 255, 1);\n",
       "  --font-color-secondary: rgba(255, 255, 255, 0.6);\n",
       "  --font-color-accent: rgb(173, 132, 190);\n",
       "  --border-color: #2e2e2e;\n",
       "  --background-color: #111111;\n",
       "  --background-color-row-even: #111111;\n",
       "  --background-color-row-odd: #313131;\n",
       "}\n",
       "\n",
       ".ee {\n",
       "  padding: 1em;\n",
       "  line-height: 1.5em;\n",
       "  min-width: 300px;\n",
       "  max-width: 1200px;\n",
       "  overflow-y: scroll;\n",
       "  max-height: 600px;\n",
       "  border: 1px solid var(--border-color);\n",
       "  font-family: monospace;\n",
       "}\n",
       "\n",
       ".ee li {\n",
       "  list-style-type: none;\n",
       "}\n",
       "\n",
       ".ee ul {\n",
       "  padding-left: 1.5em !important;\n",
       "  margin: 0;\n",
       "}\n",
       "\n",
       ".ee > ul {\n",
       "  padding-left: 0 !important;\n",
       "}\n",
       "\n",
       ".ee-open,\n",
       ".ee-shut {\n",
       "  color: var(--font-color-secondary);\n",
       "  cursor: pointer;\n",
       "  margin: 0;\n",
       "}\n",
       "\n",
       ".ee-open:hover,\n",
       ".ee-shut:hover {\n",
       "  color: var(--font-color-primary);\n",
       "}\n",
       "\n",
       ".ee-k {\n",
       "  color: var(--font-color-accent);\n",
       "  margin-right: 6px;\n",
       "}\n",
       "\n",
       ".ee-v {\n",
       "  color: var(--font-color-primary);\n",
       "}\n",
       "\n",
       ".ee-toggle {\n",
       "  display: none;\n",
       "}\n",
       "\n",
       ".ee-shut + ul {\n",
       "  display: none;\n",
       "}\n",
       "\n",
       ".ee-open + ul {\n",
       "  display: block;\n",
       "}\n",
       "\n",
       ".ee-shut::before {\n",
       "  display: inline-block;\n",
       "  content: \"▼\";\n",
       "  margin-right: 6px;\n",
       "  transform: rotate(-90deg);\n",
       "  transition: transform 0.2s;\n",
       "}\n",
       "\n",
       ".ee-open::before {\n",
       "  transform: rotate(0deg);\n",
       "  display: inline-block;\n",
       "  content: \"▼\";\n",
       "  margin-right: 6px;\n",
       "  transition: transform 0.2s;\n",
       "}\n",
       "</style><div class='ee'><ul><li><label class='ee-shut'>FeatureCollection projects/ee-andyarnellgee/assets/example_asset  (6 elements, 2 columns)<input type='checkbox' class='ee-toggle'></label><ul><li><span class='ee-k'>type:</span><span class='ee-v'>FeatureCollection</span></li><li><span class='ee-k'>id:</span><span class='ee-v'>projects/ee-andyarnellgee/assets/example_asset</span></li><li><span class='ee-k'>version:</span><span class='ee-v'>1717096823050360.0</span></li><li><label class='ee-shut'>columns: Object (2 properties)<input type='checkbox' class='ee-toggle'></label><ul><li><span class='ee-k'>FID:</span><span class='ee-v'>Integer</span></li><li><span class='ee-k'>system:index:</span><span class='ee-v'>String</span></li></ul></li><li><label class='ee-shut'>properties: Object (1 property)<input type='checkbox' class='ee-toggle'></label><ul><li><span class='ee-k'>system:asset_size:</span><span class='ee-v'>8881</span></li></ul></li><li><label class='ee-shut'>features: List (6 elements)<input type='checkbox' class='ee-toggle'></label><ul><li><label class='ee-shut'>0: Feature (Polygon, 1 property)<input type='checkbox' class='ee-toggle'></label><ul><li><span class='ee-k'>type:</span><span class='ee-v'>Feature</span></li><li><span class='ee-k'>id:</span><span class='ee-v'>00000000000000000000</span></li><li><label class='ee-shut'>geometry: Polygon (9 vertices)<input type='checkbox' class='ee-toggle'></label><ul><li><span class='ee-k'>type:</span><span class='ee-v'>Polygon</span></li><li><label class='ee-shut'>coordinates: List (1 element)<input type='checkbox' class='ee-toggle'></label><ul><li><label class='ee-shut'>0: List (9 elements)<input type='checkbox' class='ee-toggle'></label><ul><li><label class='ee-shut'>0: [-1.6121739013178547, 6.160144855634194]<input type='checkbox' class='ee-toggle'></label><ul><li><span class='ee-k'>0:</span><span class='ee-v'>-1.6121739013178547</span></li><li><span class='ee-k'>1:</span><span class='ee-v'>6.160144855634194</span></li></ul></li><li><label class='ee-shut'>1: [-1.6128122839650867, 6.1593448905728865]<input type='checkbox' class='ee-toggle'></label><ul><li><span class='ee-k'>0:</span><span class='ee-v'>-1.6128122839650867</span></li><li><span class='ee-k'>1:</span><span class='ee-v'>6.1593448905728865</span></li></ul></li><li><label class='ee-shut'>2: [-1.6128337535677082, 6.159142201578432]<input type='checkbox' class='ee-toggle'></label><ul><li><span class='ee-k'>0:</span><span class='ee-v'>-1.6128337535677082</span></li><li><span class='ee-k'>1:</span><span class='ee-v'>6.159142201578432</span></li></ul></li><li><label class='ee-shut'>3: [-1.6120773636996137, 6.158870182528939]<input type='checkbox' class='ee-toggle'></label><ul><li><span class='ee-k'>0:</span><span class='ee-v'>-1.6120773636996137</span></li><li><span class='ee-k'>1:</span><span class='ee-v'>6.158870182528939</span></li></ul></li><li><label class='ee-shut'>4: [-1.6117716133127231, 6.158838179059804]<input type='checkbox' class='ee-toggle'></label><ul><li><span class='ee-k'>0:</span><span class='ee-v'>-1.6117716133127231</span></li><li><span class='ee-k'>1:</span><span class='ee-v'>6.158838179059804</span></li></ul></li><li><label class='ee-shut'>5: [-1.6111815137895957, 6.159483494598353]<input type='checkbox' class='ee-toggle'></label><ul><li><span class='ee-k'>0:</span><span class='ee-v'>-1.6111815137895957</span></li><li><span class='ee-k'>1:</span><span class='ee-v'>6.159483494598353</span></li></ul></li><li><label class='ee-shut'>6: [-1.6112243773521255, 6.160011569490802]<input type='checkbox' class='ee-toggle'></label><ul><li><span class='ee-k'>0:</span><span class='ee-v'>-1.6112243773521255</span></li><li><span class='ee-k'>1:</span><span class='ee-v'>6.160011569490802</span></li></ul></li><li><label class='ee-shut'>7: [-1.6117394097056066, 6.160299526343648]<input type='checkbox' class='ee-toggle'></label><ul><li><span class='ee-k'>0:</span><span class='ee-v'>-1.6117394097056066</span></li><li><span class='ee-k'>1:</span><span class='ee-v'>6.160299526343648</span></li></ul></li><li><label class='ee-shut'>8: [-1.6121739013178547, 6.160144855634194]<input type='checkbox' class='ee-toggle'></label><ul><li><span class='ee-k'>0:</span><span class='ee-v'>-1.6121739013178547</span></li><li><span class='ee-k'>1:</span><span class='ee-v'>6.160144855634194</span></li></ul></li></ul></li></ul></li></ul></li><li><label class='ee-shut'>properties: Object (1 property)<input type='checkbox' class='ee-toggle'></label><ul><li><span class='ee-k'>FID:</span><span class='ee-v'>0</span></li></ul></li></ul></li><li><label class='ee-shut'>1: Feature (Polygon, 1 property)<input type='checkbox' class='ee-toggle'></label><ul><li><span class='ee-k'>type:</span><span class='ee-v'>Feature</span></li><li><span class='ee-k'>id:</span><span class='ee-v'>00000000000000000001</span></li><li><label class='ee-shut'>geometry: Polygon (5 vertices)<input type='checkbox' class='ee-toggle'></label><ul><li><span class='ee-k'>type:</span><span class='ee-v'>Polygon</span></li><li><label class='ee-shut'>coordinates: List (1 element)<input type='checkbox' class='ee-toggle'></label><ul><li><label class='ee-shut'>0: List (5 elements)<input type='checkbox' class='ee-toggle'></label><ul><li><label class='ee-shut'>0: [-2.1590333965840625, 5.982474474001355]<input type='checkbox' class='ee-toggle'></label><ul><li><span class='ee-k'>0:</span><span class='ee-v'>-2.1590333965840625</span></li><li><span class='ee-k'>1:</span><span class='ee-v'>5.982474474001355</span></li></ul></li><li><label class='ee-shut'>1: [-2.159516196792531, 5.9792306201399095]<input type='checkbox' class='ee-toggle'></label><ul><li><span class='ee-k'>0:</span><span class='ee-v'>-2.159516196792531</span></li><li><span class='ee-k'>1:</span><span class='ee-v'>5.9792306201399095</span></li></ul></li><li><label class='ee-shut'>2: [-2.155718173574524, 5.979641490377697]<input type='checkbox' class='ee-toggle'></label><ul><li><span class='ee-k'>0:</span><span class='ee-v'>-2.155718173574524</span></li><li><span class='ee-k'>1:</span><span class='ee-v'>5.979641490377697</span></li></ul></li><li><label class='ee-shut'>3: [-2.1543878057611714, 5.983029299907396]<input type='checkbox' class='ee-toggle'></label><ul><li><span class='ee-k'>0:</span><span class='ee-v'>-2.1543878057611714</span></li><li><span class='ee-k'>1:</span><span class='ee-v'>5.983029299907396</span></li></ul></li><li><label class='ee-shut'>4: [-2.1590333965840625, 5.982474474001355]<input type='checkbox' class='ee-toggle'></label><ul><li><span class='ee-k'>0:</span><span class='ee-v'>-2.1590333965840625</span></li><li><span class='ee-k'>1:</span><span class='ee-v'>5.982474474001355</span></li></ul></li></ul></li></ul></li></ul></li><li><label class='ee-shut'>properties: Object (1 property)<input type='checkbox' class='ee-toggle'></label><ul><li><span class='ee-k'>FID:</span><span class='ee-v'>1</span></li></ul></li></ul></li><li><label class='ee-shut'>2: Feature (Polygon, 1 property)<input type='checkbox' class='ee-toggle'></label><ul><li><span class='ee-k'>type:</span><span class='ee-v'>Feature</span></li><li><span class='ee-k'>id:</span><span class='ee-v'>00000000000000000002</span></li><li><label class='ee-shut'>geometry: Polygon (5 vertices)<input type='checkbox' class='ee-toggle'></label><ul><li><span class='ee-k'>type:</span><span class='ee-v'>Polygon</span></li><li><label class='ee-shut'>coordinates: List (1 element)<input type='checkbox' class='ee-toggle'></label><ul><li><label class='ee-shut'>0: List (5 elements)<input type='checkbox' class='ee-toggle'></label><ul><li><label class='ee-shut'>0: [103.95149947799003, -3.053332353658474]<input type='checkbox' class='ee-toggle'></label><ul><li><span class='ee-k'>0:</span><span class='ee-v'>103.95149947799003</span></li><li><span class='ee-k'>1:</span><span class='ee-v'>-3.053332353658474</span></li></ul></li><li><label class='ee-shut'>1: [103.95143511732984, -3.0560107814439075]<input type='checkbox' class='ee-toggle'></label><ul><li><span class='ee-k'>0:</span><span class='ee-v'>103.95143511732984</span></li><li><span class='ee-k'>1:</span><span class='ee-v'>-3.0560107814439075</span></li></ul></li><li><label class='ee-shut'>2: [103.96061898780846, -3.0560964709533276]<input type='checkbox' class='ee-toggle'></label><ul><li><span class='ee-k'>0:</span><span class='ee-v'>103.96061898780846</span></li><li><span class='ee-k'>1:</span><span class='ee-v'>-3.0560964709533276</span></li></ul></li><li><label class='ee-shut'>3: [103.96061898780846, -3.0532251864947386]<input type='checkbox' class='ee-toggle'></label><ul><li><span class='ee-k'>0:</span><span class='ee-v'>103.96061898780846</span></li><li><span class='ee-k'>1:</span><span class='ee-v'>-3.0532251864947386</span></li></ul></li><li><label class='ee-shut'>4: [103.95149947799003, -3.053332353658474]<input type='checkbox' class='ee-toggle'></label><ul><li><span class='ee-k'>0:</span><span class='ee-v'>103.95149947799003</span></li><li><span class='ee-k'>1:</span><span class='ee-v'>-3.053332353658474</span></li></ul></li></ul></li></ul></li></ul></li><li><label class='ee-shut'>properties: Object (1 property)<input type='checkbox' class='ee-toggle'></label><ul><li><span class='ee-k'>FID:</span><span class='ee-v'>2</span></li></ul></li></ul></li><li><label class='ee-shut'>3: Feature (Polygon, 1 property)<input type='checkbox' class='ee-toggle'></label><ul><li><span class='ee-k'>type:</span><span class='ee-v'>Feature</span></li><li><span class='ee-k'>id:</span><span class='ee-v'>00000000000000000003</span></li><li><label class='ee-shut'>geometry: Polygon (7 vertices)<input type='checkbox' class='ee-toggle'></label><ul><li><span class='ee-k'>type:</span><span class='ee-v'>Polygon</span></li><li><label class='ee-shut'>coordinates: List (1 element)<input type='checkbox' class='ee-toggle'></label><ul><li><label class='ee-shut'>0: List (7 elements)<input type='checkbox' class='ee-toggle'></label><ul><li><label class='ee-shut'>0: [103.97641178646504, -3.0864582746946096]<input type='checkbox' class='ee-toggle'></label><ul><li><span class='ee-k'>0:</span><span class='ee-v'>103.97641178646504</span></li><li><span class='ee-k'>1:</span><span class='ee-v'>-3.0864582746946096</span></li></ul></li><li><label class='ee-shut'>1: [103.97767781009146, -3.0862868918318314]<input type='checkbox' class='ee-toggle'></label><ul><li><span class='ee-k'>0:</span><span class='ee-v'>103.97767781009146</span></li><li><span class='ee-k'>1:</span><span class='ee-v'>-3.0862868918318314</span></li></ul></li><li><label class='ee-shut'>2: [103.97993087911095, -3.08482992839781]<input type='checkbox' class='ee-toggle'></label><ul><li><span class='ee-k'>0:</span><span class='ee-v'>103.97993087911095</span></li><li><span class='ee-k'>1:</span><span class='ee-v'>-3.08482992839781</span></li></ul></li><li><label class='ee-shut'>3: [103.9793729433733, -3.082515799006642]<input type='checkbox' class='ee-toggle'></label><ul><li><span class='ee-k'>0:</span><span class='ee-v'>103.9793729433733</span></li><li><span class='ee-k'>1:</span><span class='ee-v'>-3.082515799006642</span></li></ul></li><li><label class='ee-shut'>4: [103.97789235699742, -3.0810159442970617]<input type='checkbox' class='ee-toggle'></label><ul><li><span class='ee-k'>0:</span><span class='ee-v'>103.97789235699742</span></li><li><span class='ee-k'>1:</span><span class='ee-v'>-3.0810159442970617</span></li></ul></li><li><label class='ee-shut'>5: [103.97499560339247, -3.082751486074572]<input type='checkbox' class='ee-toggle'></label><ul><li><span class='ee-k'>0:</span><span class='ee-v'>103.97499560339247</span></li><li><span class='ee-k'>1:</span><span class='ee-v'>-3.082751486074572</span></li></ul></li><li><label class='ee-shut'>6: [103.97641178646504, -3.0864582746946096]<input type='checkbox' class='ee-toggle'></label><ul><li><span class='ee-k'>0:</span><span class='ee-v'>103.97641178646504</span></li><li><span class='ee-k'>1:</span><span class='ee-v'>-3.0864582746946096</span></li></ul></li></ul></li></ul></li></ul></li><li><label class='ee-shut'>properties: Object (1 property)<input type='checkbox' class='ee-toggle'></label><ul><li><span class='ee-k'>FID:</span><span class='ee-v'>3</span></li></ul></li></ul></li><li><label class='ee-shut'>4: Feature (Polygon, 1 property)<input type='checkbox' class='ee-toggle'></label><ul><li><span class='ee-k'>type:</span><span class='ee-v'>Feature</span></li><li><span class='ee-k'>id:</span><span class='ee-v'>00000000000000000004</span></li><li><label class='ee-shut'>geometry: Polygon (9 vertices)<input type='checkbox' class='ee-toggle'></label><ul><li><span class='ee-k'>type:</span><span class='ee-v'>Polygon</span></li><li><label class='ee-shut'>coordinates: List (1 element)<input type='checkbox' class='ee-toggle'></label><ul><li><label class='ee-shut'>0: List (9 elements)<input type='checkbox' class='ee-toggle'></label><ul><li><label class='ee-shut'>0: [-4.102889313010822, 5.713707263707815]<input type='checkbox' class='ee-toggle'></label><ul><li><span class='ee-k'>0:</span><span class='ee-v'>-4.102889313010822</span></li><li><span class='ee-k'>1:</span><span class='ee-v'>5.713707263707815</span></li></ul></li><li><label class='ee-shut'>1: [-4.102438697999093, 5.710173673982787]<input type='checkbox' class='ee-toggle'></label><ul><li><span class='ee-k'>0:</span><span class='ee-v'>-4.102438697999093</span></li><li><span class='ee-k'>1:</span><span class='ee-v'>5.710173673982787</span></li></ul></li><li><label class='ee-shut'>2: [-4.101483797169206, 5.710205696408317]<input type='checkbox' class='ee-toggle'></label><ul><li><span class='ee-k'>0:</span><span class='ee-v'>-4.101483797169206</span></li><li><span class='ee-k'>1:</span><span class='ee-v'>5.710205696408317</span></li></ul></li><li><label class='ee-shut'>3: [-4.101086876296629, 5.710664726381728]<input type='checkbox' class='ee-toggle'></label><ul><li><span class='ee-k'>0:</span><span class='ee-v'>-4.101086876296629</span></li><li><span class='ee-k'>1:</span><span class='ee-v'>5.710664726381728</span></li></ul></li><li><label class='ee-shut'>4: [-4.1006040523009, 5.7103444853305945]<input type='checkbox' class='ee-toggle'></label><ul><li><span class='ee-k'>0:</span><span class='ee-v'>-4.1006040523009</span></li><li><span class='ee-k'>1:</span><span class='ee-v'>5.7103444853305945</span></li></ul></li><li><label class='ee-shut'>5: [-4.100368025712003, 5.711657594115157]<input type='checkbox' class='ee-toggle'></label><ul><li><span class='ee-k'>0:</span><span class='ee-v'>-4.100368025712003</span></li><li><span class='ee-k'>1:</span><span class='ee-v'>5.711657594115157</span></li></ul></li><li><label class='ee-shut'>6: [-4.100528991828652, 5.712810520677598]<input type='checkbox' class='ee-toggle'></label><ul><li><span class='ee-k'>0:</span><span class='ee-v'>-4.100528991828652</span></li><li><span class='ee-k'>1:</span><span class='ee-v'>5.712810520677598</span></li></ul></li><li><label class='ee-shut'>7: [-4.101483797169206, 5.713525795244937]<input type='checkbox' class='ee-toggle'></label><ul><li><span class='ee-k'>0:</span><span class='ee-v'>-4.101483797169206</span></li><li><span class='ee-k'>1:</span><span class='ee-v'>5.713525795244937</span></li></ul></li><li><label class='ee-shut'>8: [-4.102889313010822, 5.713707263707815]<input type='checkbox' class='ee-toggle'></label><ul><li><span class='ee-k'>0:</span><span class='ee-v'>-4.102889313010822</span></li><li><span class='ee-k'>1:</span><span class='ee-v'>5.713707263707815</span></li></ul></li></ul></li></ul></li></ul></li><li><label class='ee-shut'>properties: Object (1 property)<input type='checkbox' class='ee-toggle'></label><ul><li><span class='ee-k'>FID:</span><span class='ee-v'>4</span></li></ul></li></ul></li><li><label class='ee-shut'>5: Feature (Polygon, 1 property)<input type='checkbox' class='ee-toggle'></label><ul><li><span class='ee-k'>type:</span><span class='ee-v'>Feature</span></li><li><span class='ee-k'>id:</span><span class='ee-v'>00000000000000000005</span></li><li><label class='ee-shut'>geometry: Polygon (5 vertices)<input type='checkbox' class='ee-toggle'></label><ul><li><span class='ee-k'>type:</span><span class='ee-v'>Polygon</span></li><li><label class='ee-shut'>coordinates: List (1 element)<input type='checkbox' class='ee-toggle'></label><ul><li><label class='ee-shut'>0: List (5 elements)<input type='checkbox' class='ee-toggle'></label><ul><li><label class='ee-shut'>0: [-7.507894613271397, 6.072487852185526]<input type='checkbox' class='ee-toggle'></label><ul><li><span class='ee-k'>0:</span><span class='ee-v'>-7.507894613271397</span></li><li><span class='ee-k'>1:</span><span class='ee-v'>6.072487852185526</span></li></ul></li><li><label class='ee-shut'>1: [-7.507594246603845, 6.070455471310874]<input type='checkbox' class='ee-toggle'></label><ul><li><span class='ee-k'>0:</span><span class='ee-v'>-7.507594246603845</span></li><li><span class='ee-k'>1:</span><span class='ee-v'>6.070455471310874</span></li></ul></li><li><label class='ee-shut'>2: [-7.506065337743589, 6.070471525414875]<input type='checkbox' class='ee-toggle'></label><ul><li><span class='ee-k'>0:</span><span class='ee-v'>-7.506065337743589</span></li><li><span class='ee-k'>1:</span><span class='ee-v'>6.070471525414875</span></li></ul></li><li><label class='ee-shut'>3: [-7.506564286339486, 6.07254655072057]<input type='checkbox' class='ee-toggle'></label><ul><li><span class='ee-k'>0:</span><span class='ee-v'>-7.506564286339486</span></li><li><span class='ee-k'>1:</span><span class='ee-v'>6.07254655072057</span></li></ul></li><li><label class='ee-shut'>4: [-7.507894613271397, 6.072487852185526]<input type='checkbox' class='ee-toggle'></label><ul><li><span class='ee-k'>0:</span><span class='ee-v'>-7.507894613271397</span></li><li><span class='ee-k'>1:</span><span class='ee-v'>6.072487852185526</span></li></ul></li></ul></li></ul></li></ul></li><li><label class='ee-shut'>properties: Object (1 property)<input type='checkbox' class='ee-toggle'></label><ul><li><span class='ee-k'>FID:</span><span class='ee-v'>5</span></li></ul></li></ul></li></ul></li></ul></li></ul></div><script>function toggleHeader() {\n",
       "    const parent = this.parentElement;\n",
       "    parent.className = parent.className === \"ee-open\" ? \"ee-shut\" : \"ee-open\";\n",
       "}\n",
       "\n",
       "for (let c of document.getElementsByClassName(\"ee-toggle\")) {\n",
       "    c.onclick = toggleHeader;\n",
       "}</script></div>"
      ],
      "text/plain": [
       "<ee.featurecollection.FeatureCollection at 0x7f54100bbd90>"
      ]
     },
     "execution_count": 4,
     "metadata": {},
     "output_type": "execute_result"
    }
   ],
   "source": [
    "roi # view feature collection properties"
   ]
  },
  {
   "cell_type": "code",
   "execution_count": 5,
   "id": "26dee004-b049-489a-bfea-2d1d62452176",
   "metadata": {},
   "outputs": [
    {
     "data": {
      "text/html": [
       "\n",
       "            <style>\n",
       "                .geemap-dark {\n",
       "                    --jp-widgets-color: white;\n",
       "                    --jp-widgets-label-color: white;\n",
       "                    --jp-ui-font-color1: white;\n",
       "                    --jp-layout-color2: #454545;\n",
       "                    background-color: #383838;\n",
       "                }\n",
       "\n",
       "                .geemap-dark .jupyter-button {\n",
       "                    --jp-layout-color3: #383838;\n",
       "                }\n",
       "\n",
       "                .geemap-colab {\n",
       "                    background-color: var(--colab-primary-surface-color, white);\n",
       "                }\n",
       "\n",
       "                .geemap-colab .jupyter-button {\n",
       "                    --jp-layout-color3: var(--colab-primary-surface-color, white);\n",
       "                }\n",
       "            </style>\n",
       "            "
      ],
      "text/plain": [
       "<IPython.core.display.HTML object>"
      ]
     },
     "metadata": {},
     "output_type": "display_data"
    }
   ],
   "source": [
    "# optional code: uncomment below line to test converting to point inputs using polygon centroid\n",
    "\n",
    "# roi = roi.map(lambda feature: ee.Feature(feature.geometry().centroid(1))) "
   ]
  },
  {
   "cell_type": "markdown",
   "id": "6ba90193-9bc2-4756-a839-f16c07284e04",
   "metadata": {},
   "source": [
    "### Whisp it\n",
    "- If over 500 polygons currently this will go to Google Drive and require manual uploading here\n",
    "- This value can be changed in parameters.config_runtime.py \n",
    "- NB Currently stats processing sent to a separate notebook 'process_whisp_stats.pynb'"
   ]
  },
  {
   "cell_type": "code",
   "execution_count": 6,
   "id": "62b25f9f-6c78-424a-87ae-1025c5088884",
   "metadata": {
    "editable": true,
    "slideshow": {
     "slide_type": ""
    },
    "tags": []
   },
   "outputs": [
    {
     "data": {
      "text/html": [
       "\n",
       "            <style>\n",
       "                .geemap-dark {\n",
       "                    --jp-widgets-color: white;\n",
       "                    --jp-widgets-label-color: white;\n",
       "                    --jp-ui-font-color1: white;\n",
       "                    --jp-layout-color2: #454545;\n",
       "                    background-color: #383838;\n",
       "                }\n",
       "\n",
       "                .geemap-dark .jupyter-button {\n",
       "                    --jp-layout-color3: #383838;\n",
       "                }\n",
       "\n",
       "                .geemap-colab {\n",
       "                    background-color: var(--colab-primary-surface-color, white);\n",
       "                }\n",
       "\n",
       "                .geemap-colab .jupyter-button {\n",
       "                    --jp-layout-color3: var(--colab-primary-surface-color, white);\n",
       "                }\n",
       "            </style>\n",
       "            "
      ],
      "text/plain": [
       "<IPython.core.display.HTML object>"
      ]
     },
     "metadata": {},
     "output_type": "display_data"
    },
    {
     "name": "stdout",
     "output_type": "stream",
     "text": [
      "Stored 'roi' (FeatureCollection)\n",
      "Datasets present in lookup:  True\n",
      "geo id not present ['Plot_area_ha', 'Geometry_type', 'Country', 'Centroid_lon', 'Centroid_lat', 'Unit']\n",
      "...stats processing started\n",
      "...ee to df processing time: 5.626198768615723 seconds\n"
     ]
    }
   ],
   "source": [
    "df = whisp_stats_as_df(roi)"
   ]
  },
  {
   "cell_type": "markdown",
   "id": "1b7b3539-f9dd-4dc4-84ac-4e043434ae27",
   "metadata": {},
   "source": [
    "### Display it\n"
   ]
  },
  {
   "cell_type": "code",
   "execution_count": 7,
   "id": "e45cecd9-3bf0-40da-ad58-ec5a87a2d7be",
   "metadata": {
    "scrolled": true
   },
   "outputs": [
    {
     "data": {
      "text/html": [
       "\n",
       "            <style>\n",
       "                .geemap-dark {\n",
       "                    --jp-widgets-color: white;\n",
       "                    --jp-widgets-label-color: white;\n",
       "                    --jp-ui-font-color1: white;\n",
       "                    --jp-layout-color2: #454545;\n",
       "                    background-color: #383838;\n",
       "                }\n",
       "\n",
       "                .geemap-dark .jupyter-button {\n",
       "                    --jp-layout-color3: #383838;\n",
       "                }\n",
       "\n",
       "                .geemap-colab {\n",
       "                    background-color: var(--colab-primary-surface-color, white);\n",
       "                }\n",
       "\n",
       "                .geemap-colab .jupyter-button {\n",
       "                    --jp-layout-color3: var(--colab-primary-surface-color, white);\n",
       "                }\n",
       "            </style>\n",
       "            "
      ],
      "text/plain": [
       "<IPython.core.display.HTML object>"
      ]
     },
     "metadata": {},
     "output_type": "display_data"
    },
    {
     "data": {
      "text/html": [
       "<div>\n",
       "<style scoped>\n",
       "    .dataframe tbody tr th:only-of-type {\n",
       "        vertical-align: middle;\n",
       "    }\n",
       "\n",
       "    .dataframe tbody tr th {\n",
       "        vertical-align: top;\n",
       "    }\n",
       "\n",
       "    .dataframe thead th {\n",
       "        text-align: right;\n",
       "    }\n",
       "</style>\n",
       "<table border=\"1\" class=\"dataframe\">\n",
       "  <thead>\n",
       "    <tr style=\"text-align: right;\">\n",
       "      <th></th>\n",
       "      <th>Plot_area_ha</th>\n",
       "      <th>Geometry_type</th>\n",
       "      <th>Country</th>\n",
       "      <th>Centroid_lon</th>\n",
       "      <th>Centroid_lat</th>\n",
       "      <th>Unit</th>\n",
       "      <th>EUFO_2020</th>\n",
       "      <th>GLAD_Primary</th>\n",
       "      <th>TMF_undist</th>\n",
       "      <th>JAXA_FNF_2020</th>\n",
       "      <th>...</th>\n",
       "      <th>TMF_def_before_2020</th>\n",
       "      <th>GFC_loss_before_2020</th>\n",
       "      <th>ESA_fire_before_2020</th>\n",
       "      <th>MODIS_fire_before_2020</th>\n",
       "      <th>TMF_deg_after_2020</th>\n",
       "      <th>TMF_def_after_2020</th>\n",
       "      <th>GFC_loss_after_2020</th>\n",
       "      <th>MODIS_fire_after_2020</th>\n",
       "      <th>RADD_after_2020</th>\n",
       "      <th>system:index</th>\n",
       "    </tr>\n",
       "  </thead>\n",
       "  <tbody>\n",
       "    <tr>\n",
       "      <th>0</th>\n",
       "      <td>1.938</td>\n",
       "      <td>Polygon</td>\n",
       "      <td>GHA</td>\n",
       "      <td>-1.611942</td>\n",
       "      <td>6.159539</td>\n",
       "      <td>ha</td>\n",
       "      <td>0.362</td>\n",
       "      <td>0.000</td>\n",
       "      <td>0.000</td>\n",
       "      <td>1.938</td>\n",
       "      <td>...</td>\n",
       "      <td>0.450</td>\n",
       "      <td>1.552</td>\n",
       "      <td>0.000</td>\n",
       "      <td>0.000</td>\n",
       "      <td>0</td>\n",
       "      <td>0</td>\n",
       "      <td>0.000</td>\n",
       "      <td>0</td>\n",
       "      <td>0.000</td>\n",
       "      <td>00000000000000000000</td>\n",
       "    </tr>\n",
       "    <tr>\n",
       "      <th>1</th>\n",
       "      <td>16.602</td>\n",
       "      <td>Polygon</td>\n",
       "      <td>GHA</td>\n",
       "      <td>-2.157144</td>\n",
       "      <td>5.981149</td>\n",
       "      <td>ha</td>\n",
       "      <td>16.602</td>\n",
       "      <td>14.493</td>\n",
       "      <td>15.792</td>\n",
       "      <td>16.602</td>\n",
       "      <td>...</td>\n",
       "      <td>0.000</td>\n",
       "      <td>0.000</td>\n",
       "      <td>0.000</td>\n",
       "      <td>0.000</td>\n",
       "      <td>0</td>\n",
       "      <td>0</td>\n",
       "      <td>0.000</td>\n",
       "      <td>0</td>\n",
       "      <td>0.973</td>\n",
       "      <td>00000000000000000001</td>\n",
       "    </tr>\n",
       "    <tr>\n",
       "      <th>2</th>\n",
       "      <td>31.211</td>\n",
       "      <td>Polygon</td>\n",
       "      <td>IDN</td>\n",
       "      <td>103.956096</td>\n",
       "      <td>-3.054668</td>\n",
       "      <td>ha</td>\n",
       "      <td>0.000</td>\n",
       "      <td>0.000</td>\n",
       "      <td>0.000</td>\n",
       "      <td>1.718</td>\n",
       "      <td>...</td>\n",
       "      <td>31.211</td>\n",
       "      <td>31.020</td>\n",
       "      <td>31.211</td>\n",
       "      <td>6.401</td>\n",
       "      <td>0</td>\n",
       "      <td>0</td>\n",
       "      <td>0.000</td>\n",
       "      <td>0</td>\n",
       "      <td>0.000</td>\n",
       "      <td>00000000000000000002</td>\n",
       "    </tr>\n",
       "    <tr>\n",
       "      <th>3</th>\n",
       "      <td>20.884</td>\n",
       "      <td>Polygon</td>\n",
       "      <td>IDN</td>\n",
       "      <td>103.977512</td>\n",
       "      <td>-3.083808</td>\n",
       "      <td>ha</td>\n",
       "      <td>5.842</td>\n",
       "      <td>0.000</td>\n",
       "      <td>6.472</td>\n",
       "      <td>20.099</td>\n",
       "      <td>...</td>\n",
       "      <td>3.081</td>\n",
       "      <td>9.043</td>\n",
       "      <td>0.000</td>\n",
       "      <td>0.000</td>\n",
       "      <td>0</td>\n",
       "      <td>0</td>\n",
       "      <td>0.000</td>\n",
       "      <td>0</td>\n",
       "      <td>0.000</td>\n",
       "      <td>00000000000000000003</td>\n",
       "    </tr>\n",
       "    <tr>\n",
       "      <th>4</th>\n",
       "      <td>8.279</td>\n",
       "      <td>Polygon</td>\n",
       "      <td>CIV</td>\n",
       "      <td>-4.101646</td>\n",
       "      <td>5.711935</td>\n",
       "      <td>ha</td>\n",
       "      <td>0.446</td>\n",
       "      <td>0.001</td>\n",
       "      <td>0.023</td>\n",
       "      <td>7.834</td>\n",
       "      <td>...</td>\n",
       "      <td>2.676</td>\n",
       "      <td>3.194</td>\n",
       "      <td>0.000</td>\n",
       "      <td>0.000</td>\n",
       "      <td>0</td>\n",
       "      <td>0</td>\n",
       "      <td>1.602</td>\n",
       "      <td>0</td>\n",
       "      <td>0.001</td>\n",
       "      <td>00000000000000000004</td>\n",
       "    </tr>\n",
       "    <tr>\n",
       "      <th>5</th>\n",
       "      <td>3.613</td>\n",
       "      <td>Polygon</td>\n",
       "      <td>CIV</td>\n",
       "      <td>-7.507022</td>\n",
       "      <td>6.071468</td>\n",
       "      <td>ha</td>\n",
       "      <td>1.485</td>\n",
       "      <td>0.000</td>\n",
       "      <td>0.000</td>\n",
       "      <td>3.613</td>\n",
       "      <td>...</td>\n",
       "      <td>0.958</td>\n",
       "      <td>1.955</td>\n",
       "      <td>0.000</td>\n",
       "      <td>0.000</td>\n",
       "      <td>0</td>\n",
       "      <td>0</td>\n",
       "      <td>0.000</td>\n",
       "      <td>0</td>\n",
       "      <td>0.000</td>\n",
       "      <td>00000000000000000005</td>\n",
       "    </tr>\n",
       "  </tbody>\n",
       "</table>\n",
       "<p>6 rows × 31 columns</p>\n",
       "</div>"
      ],
      "text/plain": [
       "  Plot_area_ha Geometry_type Country  Centroid_lon  Centroid_lat Unit  \\\n",
       "0        1.938       Polygon     GHA     -1.611942      6.159539   ha   \n",
       "1       16.602       Polygon     GHA     -2.157144      5.981149   ha   \n",
       "2       31.211       Polygon     IDN    103.956096     -3.054668   ha   \n",
       "3       20.884       Polygon     IDN    103.977512     -3.083808   ha   \n",
       "4        8.279       Polygon     CIV     -4.101646      5.711935   ha   \n",
       "5        3.613       Polygon     CIV     -7.507022      6.071468   ha   \n",
       "\n",
       "   EUFO_2020  GLAD_Primary  TMF_undist  JAXA_FNF_2020  ...  \\\n",
       "0      0.362         0.000       0.000          1.938  ...   \n",
       "1     16.602        14.493      15.792         16.602  ...   \n",
       "2      0.000         0.000       0.000          1.718  ...   \n",
       "3      5.842         0.000       6.472         20.099  ...   \n",
       "4      0.446         0.001       0.023          7.834  ...   \n",
       "5      1.485         0.000       0.000          3.613  ...   \n",
       "\n",
       "   TMF_def_before_2020  GFC_loss_before_2020  ESA_fire_before_2020  \\\n",
       "0                0.450                 1.552                 0.000   \n",
       "1                0.000                 0.000                 0.000   \n",
       "2               31.211                31.020                31.211   \n",
       "3                3.081                 9.043                 0.000   \n",
       "4                2.676                 3.194                 0.000   \n",
       "5                0.958                 1.955                 0.000   \n",
       "\n",
       "   MODIS_fire_before_2020  TMF_deg_after_2020  TMF_def_after_2020  \\\n",
       "0                   0.000                   0                   0   \n",
       "1                   0.000                   0                   0   \n",
       "2                   6.401                   0                   0   \n",
       "3                   0.000                   0                   0   \n",
       "4                   0.000                   0                   0   \n",
       "5                   0.000                   0                   0   \n",
       "\n",
       "   GFC_loss_after_2020 MODIS_fire_after_2020 RADD_after_2020  \\\n",
       "0                0.000                     0           0.000   \n",
       "1                0.000                     0           0.973   \n",
       "2                0.000                     0           0.000   \n",
       "3                0.000                     0           0.000   \n",
       "4                1.602                     0           0.001   \n",
       "5                0.000                     0           0.000   \n",
       "\n",
       "           system:index  \n",
       "0  00000000000000000000  \n",
       "1  00000000000000000001  \n",
       "2  00000000000000000002  \n",
       "3  00000000000000000003  \n",
       "4  00000000000000000004  \n",
       "5  00000000000000000005  \n",
       "\n",
       "[6 rows x 31 columns]"
      ]
     },
     "execution_count": 7,
     "metadata": {},
     "output_type": "execute_result"
    }
   ],
   "source": [
    "df"
   ]
  },
  {
   "cell_type": "markdown",
   "id": "3b0cec1c-3482-4fe6-b5ac-b60df4b2c4f6",
   "metadata": {},
   "source": [
    "#### Export it to CSV file\n",
    "NB if exporting to Google Drive skip this and upload to your results folder 'whisp_output_table.csv'"
   ]
  },
  {
   "cell_type": "code",
   "execution_count": 8,
   "id": "fd56afe0-5480-4eb8-9a7b-e34feb54ae82",
   "metadata": {},
   "outputs": [
    {
     "data": {
      "text/html": [
       "\n",
       "            <style>\n",
       "                .geemap-dark {\n",
       "                    --jp-widgets-color: white;\n",
       "                    --jp-widgets-label-color: white;\n",
       "                    --jp-ui-font-color1: white;\n",
       "                    --jp-layout-color2: #454545;\n",
       "                    background-color: #383838;\n",
       "                }\n",
       "\n",
       "                .geemap-dark .jupyter-button {\n",
       "                    --jp-layout-color3: #383838;\n",
       "                }\n",
       "\n",
       "                .geemap-colab {\n",
       "                    background-color: var(--colab-primary-surface-color, white);\n",
       "                }\n",
       "\n",
       "                .geemap-colab .jupyter-button {\n",
       "                    --jp-layout-color3: var(--colab-primary-surface-color, white);\n",
       "                }\n",
       "            </style>\n",
       "            "
      ],
      "text/plain": [
       "<IPython.core.display.HTML object>"
      ]
     },
     "metadata": {},
     "output_type": "display_data"
    },
    {
     "name": "stdout",
     "output_type": "stream",
     "text": [
      "output csv:  /home/sepal-user/module_results/whisp/whisp_output_table.csv\n"
     ]
    }
   ],
   "source": [
    "#export output csv (default: '/home/sepal-user/module_results/whisp/whisp_output_table.csv')\n",
    "df.to_csv(path_or_buf=out_csv,header=True,index=False)\n",
    "\n",
    "print (\"output csv: \", out_csv)"
   ]
  },
  {
   "cell_type": "markdown",
   "id": "4d350f25-0dc4-4c1f-99ab-9dcde029ff97",
   "metadata": {},
   "source": [
    "#### Add Geo ids (optional)\n",
    "##### Step 1. Register polygons:  compiles geo_ids in a lookup csv\n",
    "- NB registration takes a long time if many polygons (a few seconds each one). AgStack will update this in future. \n",
    "- If processing doesn't complete, just rerun this cell and it should pickup from where you left.\n",
    "- If registering many features you can also click dollar sign in bottom right of Sepal and under 'Sessions' heading extend the length as needed."
   ]
  },
  {
   "cell_type": "code",
   "execution_count": 9,
   "id": "5a8405b8-23a4-466e-b9be-0791c7b47935",
   "metadata": {},
   "outputs": [
    {
     "data": {
      "text/html": [
       "\n",
       "            <style>\n",
       "                .geemap-dark {\n",
       "                    --jp-widgets-color: white;\n",
       "                    --jp-widgets-label-color: white;\n",
       "                    --jp-ui-font-color1: white;\n",
       "                    --jp-layout-color2: #454545;\n",
       "                    background-color: #383838;\n",
       "                }\n",
       "\n",
       "                .geemap-dark .jupyter-button {\n",
       "                    --jp-layout-color3: #383838;\n",
       "                }\n",
       "\n",
       "                .geemap-colab {\n",
       "                    background-color: var(--colab-primary-surface-color, white);\n",
       "                }\n",
       "\n",
       "                .geemap-colab .jupyter-button {\n",
       "                    --jp-layout-color3: var(--colab-primary-surface-color, white);\n",
       "                }\n",
       "            </style>\n",
       "            "
      ],
      "text/plain": [
       "<IPython.core.display.HTML object>"
      ]
     },
     "metadata": {},
     "output_type": "display_data"
    },
    {
     "name": "stdout",
     "output_type": "stream",
     "text": [
      "Chosen path for temp lookup csv:/home/sepal-user/module_results/whisp/temp_geo_id_lookup.csv \n",
      "\n",
      "Check passed: feature collection and table same size: 6 rows\n",
      "Number without geo ids:0\n",
      "All geo ids present in lookup csv\n",
      "Done \n",
      "\n"
     ]
    }
   ],
   "source": [
    "register_fc_and_append_to_csv(\n",
    "    feature_col=roi,\n",
    "    geo_id_column=\"Geo_id\",\n",
    "    output_lookup_csv=out_directory/\"temp_geo_id_lookup.csv\",\n",
    "    join_id_column=\"system:index\",\n",
    "    token=token,\n",
    "    session=session,\n",
    "    asset_registry_base=asset_registry_base,\n",
    "    override_checks=False,\n",
    "    remove_temp_csv=False,\n",
    "    debug=True)"
   ]
  },
  {
   "cell_type": "markdown",
   "id": "23f6c36d-3e62-4e95-9976-11e98215ee4e",
   "metadata": {},
   "source": [
    "##### Step 2. Join geo ids from lookup csv to Whisp stats csv"
   ]
  },
  {
   "cell_type": "code",
   "execution_count": 10,
   "id": "4e5018ba-bf5d-41e3-9860-fb52c4c8c2d1",
   "metadata": {
    "scrolled": true
   },
   "outputs": [
    {
     "data": {
      "text/html": [
       "\n",
       "            <style>\n",
       "                .geemap-dark {\n",
       "                    --jp-widgets-color: white;\n",
       "                    --jp-widgets-label-color: white;\n",
       "                    --jp-ui-font-color1: white;\n",
       "                    --jp-layout-color2: #454545;\n",
       "                    background-color: #383838;\n",
       "                }\n",
       "\n",
       "                .geemap-dark .jupyter-button {\n",
       "                    --jp-layout-color3: #383838;\n",
       "                }\n",
       "\n",
       "                .geemap-colab {\n",
       "                    background-color: var(--colab-primary-surface-color, white);\n",
       "                }\n",
       "\n",
       "                .geemap-colab .jupyter-button {\n",
       "                    --jp-layout-color3: var(--colab-primary-surface-color, white);\n",
       "                }\n",
       "            </style>\n",
       "            "
      ],
      "text/plain": [
       "<IPython.core.display.HTML object>"
      ]
     },
     "metadata": {},
     "output_type": "display_data"
    },
    {
     "name": "stdout",
     "output_type": "stream",
     "text": [
      "new csv:  /home/sepal-user/module_results/whisp/whisp_output_table_w_geo_id.csv\n"
     ]
    }
   ],
   "source": [
    "add_geo_ids_to_csv_from_lookup_csv(\n",
    "        input_csv=out_directory/\"whisp_output_table.csv\",\n",
    "        geo_id_lookup_csv=out_directory/\"temp_geo_id_lookup.csv\",\n",
    "        join_id_column=\"system:index\",\n",
    "        geo_id_column=geo_id_column,\n",
    "        overwrite=False,\n",
    "        drop_geo=False,\n",
    "        debug=True)"
   ]
  },
  {
   "cell_type": "markdown",
   "id": "d3135797-0ac3-4b67-9584-f395436601bc",
   "metadata": {},
   "source": [
    "##### Optional: remove \"system:index\" column \n",
    "NB this is needed for joining geo_ids to csv (from lookup table). Check you have all your geo_ids first and if in doubt run on a copy of the results\n"
   ]
  },
  {
   "cell_type": "code",
   "execution_count": 11,
   "id": "069233ff-db06-4d09-b423-4f7d83630013",
   "metadata": {},
   "outputs": [
    {
     "data": {
      "text/html": [
       "\n",
       "            <style>\n",
       "                .geemap-dark {\n",
       "                    --jp-widgets-color: white;\n",
       "                    --jp-widgets-label-color: white;\n",
       "                    --jp-ui-font-color1: white;\n",
       "                    --jp-layout-color2: #454545;\n",
       "                    background-color: #383838;\n",
       "                }\n",
       "\n",
       "                .geemap-dark .jupyter-button {\n",
       "                    --jp-layout-color3: #383838;\n",
       "                }\n",
       "\n",
       "                .geemap-colab {\n",
       "                    background-color: var(--colab-primary-surface-color, white);\n",
       "                }\n",
       "\n",
       "                .geemap-colab .jupyter-button {\n",
       "                    --jp-layout-color3: var(--colab-primary-surface-color, white);\n",
       "                }\n",
       "            </style>\n",
       "            "
      ],
      "text/plain": [
       "<IPython.core.display.HTML object>"
      ]
     },
     "metadata": {},
     "output_type": "display_data"
    }
   ],
   "source": [
    "# remove_column_from_csv(\n",
    "#     csv_file=\"whisp_output_table_w_geo_id.csv\", # this may change depending on if overwrite is on\n",
    "#     column_name=\"system:index\"\n",
    "# )"
   ]
  },
  {
   "cell_type": "markdown",
   "id": "5c2ecbf7-d86f-425c-9c93-80ce21f3dff2",
   "metadata": {},
   "source": [
    "##### Calculate EUDR risk category"
   ]
  },
  {
   "cell_type": "code",
   "execution_count": 12,
   "id": "f4cd1b5c-41ac-4d3c-af26-a47db3d48af8",
   "metadata": {},
   "outputs": [
    {
     "data": {
      "text/html": [
       "\n",
       "            <style>\n",
       "                .geemap-dark {\n",
       "                    --jp-widgets-color: white;\n",
       "                    --jp-widgets-label-color: white;\n",
       "                    --jp-ui-font-color1: white;\n",
       "                    --jp-layout-color2: #454545;\n",
       "                    background-color: #383838;\n",
       "                }\n",
       "\n",
       "                .geemap-dark .jupyter-button {\n",
       "                    --jp-layout-color3: #383838;\n",
       "                }\n",
       "\n",
       "                .geemap-colab {\n",
       "                    background-color: var(--colab-primary-surface-color, white);\n",
       "                }\n",
       "\n",
       "                .geemap-colab .jupyter-button {\n",
       "                    --jp-layout-color3: var(--colab-primary-surface-color, white);\n",
       "                }\n",
       "            </style>\n",
       "            "
      ],
      "text/plain": [
       "<IPython.core.display.HTML object>"
      ]
     },
     "metadata": {},
     "output_type": "display_data"
    }
   ],
   "source": [
    "# Replace with name of your CSV file \n",
    "# NB if skipped 'Add Geo ids' should set to \"out_directory/whisp_output_table.csv\" \n",
    "csv_file_input =out_directory/'whisp_output_table_w_geo_id.csv'\n",
    "\n",
    "# import csv as a dataframe\n",
    "df_w_stats = pd.read_csv(csv_file_input)\n",
    "\n",
    "df_w_risk = whisp_risk(\n",
    "    df = df_w_stats, \n",
    "    ind_1_pcent_threshold=10,\n",
    "    ind_2_pcent_threshold=10,\n",
    "    ind_3_pcent_threshold=0,\n",
    "    ind_4_pcent_threshold=0\n",
    "    )\n"
   ]
  },
  {
   "cell_type": "markdown",
   "id": "5a15577b-44bb-4792-98ef-95fd6bc1aabb",
   "metadata": {},
   "source": [
    "##### Display table with risk columns"
   ]
  },
  {
   "cell_type": "code",
   "execution_count": 13,
   "id": "0c62b10e-7484-47cd-9f73-40f612be5407",
   "metadata": {},
   "outputs": [
    {
     "data": {
      "text/html": [
       "\n",
       "            <style>\n",
       "                .geemap-dark {\n",
       "                    --jp-widgets-color: white;\n",
       "                    --jp-widgets-label-color: white;\n",
       "                    --jp-ui-font-color1: white;\n",
       "                    --jp-layout-color2: #454545;\n",
       "                    background-color: #383838;\n",
       "                }\n",
       "\n",
       "                .geemap-dark .jupyter-button {\n",
       "                    --jp-layout-color3: #383838;\n",
       "                }\n",
       "\n",
       "                .geemap-colab {\n",
       "                    background-color: var(--colab-primary-surface-color, white);\n",
       "                }\n",
       "\n",
       "                .geemap-colab .jupyter-button {\n",
       "                    --jp-layout-color3: var(--colab-primary-surface-color, white);\n",
       "                }\n",
       "            </style>\n",
       "            "
      ],
      "text/plain": [
       "<IPython.core.display.HTML object>"
      ]
     },
     "metadata": {},
     "output_type": "display_data"
    },
    {
     "data": {
      "text/html": [
       "<div>\n",
       "<style scoped>\n",
       "    .dataframe tbody tr th:only-of-type {\n",
       "        vertical-align: middle;\n",
       "    }\n",
       "\n",
       "    .dataframe tbody tr th {\n",
       "        vertical-align: top;\n",
       "    }\n",
       "\n",
       "    .dataframe thead th {\n",
       "        text-align: right;\n",
       "    }\n",
       "</style>\n",
       "<table border=\"1\" class=\"dataframe\">\n",
       "  <thead>\n",
       "    <tr style=\"text-align: right;\">\n",
       "      <th></th>\n",
       "      <th>Plot_area_ha</th>\n",
       "      <th>Geo_id</th>\n",
       "      <th>Geometry_type</th>\n",
       "      <th>Country</th>\n",
       "      <th>Centroid_lon</th>\n",
       "      <th>Centroid_lat</th>\n",
       "      <th>Unit</th>\n",
       "      <th>EUFO_2020</th>\n",
       "      <th>GLAD_Primary</th>\n",
       "      <th>TMF_undist</th>\n",
       "      <th>...</th>\n",
       "      <th>TMF_def_after_2020</th>\n",
       "      <th>GFC_loss_after_2020</th>\n",
       "      <th>MODIS_fire_after_2020</th>\n",
       "      <th>RADD_after_2020</th>\n",
       "      <th>system:index</th>\n",
       "      <th>Indicator_1_treecover</th>\n",
       "      <th>Indicator_2_commodities</th>\n",
       "      <th>Indicator_3_disturbance_before_2020</th>\n",
       "      <th>Indicator_4_disturbance_after_2020</th>\n",
       "      <th>EUDR_risk</th>\n",
       "    </tr>\n",
       "  </thead>\n",
       "  <tbody>\n",
       "    <tr>\n",
       "      <th>0</th>\n",
       "      <td>1.938</td>\n",
       "      <td>88bec54ad04804f5b1fafbc131266640a129be2840fa67...</td>\n",
       "      <td>Polygon</td>\n",
       "      <td>GHA</td>\n",
       "      <td>-1.611942</td>\n",
       "      <td>6.159539</td>\n",
       "      <td>ha</td>\n",
       "      <td>0.362</td>\n",
       "      <td>0.000</td>\n",
       "      <td>0.000</td>\n",
       "      <td>...</td>\n",
       "      <td>0</td>\n",
       "      <td>0.000</td>\n",
       "      <td>0</td>\n",
       "      <td>0.000</td>\n",
       "      <td>0</td>\n",
       "      <td>yes</td>\n",
       "      <td>no</td>\n",
       "      <td>yes</td>\n",
       "      <td>no</td>\n",
       "      <td>low</td>\n",
       "    </tr>\n",
       "    <tr>\n",
       "      <th>1</th>\n",
       "      <td>16.602</td>\n",
       "      <td>97408ef7bdac487e4a42e4abf20492b786310889fd4b04...</td>\n",
       "      <td>Polygon</td>\n",
       "      <td>GHA</td>\n",
       "      <td>-2.157144</td>\n",
       "      <td>5.981149</td>\n",
       "      <td>ha</td>\n",
       "      <td>16.602</td>\n",
       "      <td>14.493</td>\n",
       "      <td>15.792</td>\n",
       "      <td>...</td>\n",
       "      <td>0</td>\n",
       "      <td>0.000</td>\n",
       "      <td>0</td>\n",
       "      <td>0.973</td>\n",
       "      <td>1</td>\n",
       "      <td>yes</td>\n",
       "      <td>no</td>\n",
       "      <td>yes</td>\n",
       "      <td>yes</td>\n",
       "      <td>low</td>\n",
       "    </tr>\n",
       "    <tr>\n",
       "      <th>2</th>\n",
       "      <td>31.211</td>\n",
       "      <td>c288d6c94efa9011c0e3452af9f7fa0941661377030e10...</td>\n",
       "      <td>Polygon</td>\n",
       "      <td>IDN</td>\n",
       "      <td>103.956096</td>\n",
       "      <td>-3.054668</td>\n",
       "      <td>ha</td>\n",
       "      <td>0.000</td>\n",
       "      <td>0.000</td>\n",
       "      <td>0.000</td>\n",
       "      <td>...</td>\n",
       "      <td>0</td>\n",
       "      <td>0.000</td>\n",
       "      <td>0</td>\n",
       "      <td>0.000</td>\n",
       "      <td>2</td>\n",
       "      <td>yes</td>\n",
       "      <td>yes</td>\n",
       "      <td>yes</td>\n",
       "      <td>no</td>\n",
       "      <td>low</td>\n",
       "    </tr>\n",
       "    <tr>\n",
       "      <th>3</th>\n",
       "      <td>20.884</td>\n",
       "      <td>8e2accea7ddbb84b7f6001e00bcb60f57f563c80633b53...</td>\n",
       "      <td>Polygon</td>\n",
       "      <td>IDN</td>\n",
       "      <td>103.977512</td>\n",
       "      <td>-3.083808</td>\n",
       "      <td>ha</td>\n",
       "      <td>5.842</td>\n",
       "      <td>0.000</td>\n",
       "      <td>6.472</td>\n",
       "      <td>...</td>\n",
       "      <td>0</td>\n",
       "      <td>0.000</td>\n",
       "      <td>0</td>\n",
       "      <td>0.000</td>\n",
       "      <td>3</td>\n",
       "      <td>yes</td>\n",
       "      <td>no</td>\n",
       "      <td>yes</td>\n",
       "      <td>no</td>\n",
       "      <td>low</td>\n",
       "    </tr>\n",
       "    <tr>\n",
       "      <th>4</th>\n",
       "      <td>8.279</td>\n",
       "      <td>0520cfac98fbc1bd7952b1c07a9f6983b83625722b6f66...</td>\n",
       "      <td>Polygon</td>\n",
       "      <td>CIV</td>\n",
       "      <td>-4.101646</td>\n",
       "      <td>5.711935</td>\n",
       "      <td>ha</td>\n",
       "      <td>0.446</td>\n",
       "      <td>0.001</td>\n",
       "      <td>0.023</td>\n",
       "      <td>...</td>\n",
       "      <td>0</td>\n",
       "      <td>1.602</td>\n",
       "      <td>0</td>\n",
       "      <td>0.001</td>\n",
       "      <td>4</td>\n",
       "      <td>yes</td>\n",
       "      <td>yes</td>\n",
       "      <td>yes</td>\n",
       "      <td>yes</td>\n",
       "      <td>low</td>\n",
       "    </tr>\n",
       "    <tr>\n",
       "      <th>5</th>\n",
       "      <td>3.613</td>\n",
       "      <td>fa2aff0d60cf1bc0e1f1dd4b91daf932940c31c021ca1b...</td>\n",
       "      <td>Polygon</td>\n",
       "      <td>CIV</td>\n",
       "      <td>-7.507022</td>\n",
       "      <td>6.071468</td>\n",
       "      <td>ha</td>\n",
       "      <td>1.485</td>\n",
       "      <td>0.000</td>\n",
       "      <td>0.000</td>\n",
       "      <td>...</td>\n",
       "      <td>0</td>\n",
       "      <td>0.000</td>\n",
       "      <td>0</td>\n",
       "      <td>0.000</td>\n",
       "      <td>5</td>\n",
       "      <td>yes</td>\n",
       "      <td>yes</td>\n",
       "      <td>yes</td>\n",
       "      <td>no</td>\n",
       "      <td>low</td>\n",
       "    </tr>\n",
       "  </tbody>\n",
       "</table>\n",
       "<p>6 rows × 37 columns</p>\n",
       "</div>"
      ],
      "text/plain": [
       "   Plot_area_ha                                             Geo_id  \\\n",
       "0         1.938  88bec54ad04804f5b1fafbc131266640a129be2840fa67...   \n",
       "1        16.602  97408ef7bdac487e4a42e4abf20492b786310889fd4b04...   \n",
       "2        31.211  c288d6c94efa9011c0e3452af9f7fa0941661377030e10...   \n",
       "3        20.884  8e2accea7ddbb84b7f6001e00bcb60f57f563c80633b53...   \n",
       "4         8.279  0520cfac98fbc1bd7952b1c07a9f6983b83625722b6f66...   \n",
       "5         3.613  fa2aff0d60cf1bc0e1f1dd4b91daf932940c31c021ca1b...   \n",
       "\n",
       "  Geometry_type Country  Centroid_lon  Centroid_lat Unit  EUFO_2020  \\\n",
       "0       Polygon     GHA     -1.611942      6.159539   ha      0.362   \n",
       "1       Polygon     GHA     -2.157144      5.981149   ha     16.602   \n",
       "2       Polygon     IDN    103.956096     -3.054668   ha      0.000   \n",
       "3       Polygon     IDN    103.977512     -3.083808   ha      5.842   \n",
       "4       Polygon     CIV     -4.101646      5.711935   ha      0.446   \n",
       "5       Polygon     CIV     -7.507022      6.071468   ha      1.485   \n",
       "\n",
       "   GLAD_Primary  TMF_undist  ...  TMF_def_after_2020  GFC_loss_after_2020  \\\n",
       "0         0.000       0.000  ...                   0                0.000   \n",
       "1        14.493      15.792  ...                   0                0.000   \n",
       "2         0.000       0.000  ...                   0                0.000   \n",
       "3         0.000       6.472  ...                   0                0.000   \n",
       "4         0.001       0.023  ...                   0                1.602   \n",
       "5         0.000       0.000  ...                   0                0.000   \n",
       "\n",
       "   MODIS_fire_after_2020  RADD_after_2020  system:index  \\\n",
       "0                      0            0.000             0   \n",
       "1                      0            0.973             1   \n",
       "2                      0            0.000             2   \n",
       "3                      0            0.000             3   \n",
       "4                      0            0.001             4   \n",
       "5                      0            0.000             5   \n",
       "\n",
       "   Indicator_1_treecover  Indicator_2_commodities  \\\n",
       "0                    yes                       no   \n",
       "1                    yes                       no   \n",
       "2                    yes                      yes   \n",
       "3                    yes                       no   \n",
       "4                    yes                      yes   \n",
       "5                    yes                      yes   \n",
       "\n",
       "   Indicator_3_disturbance_before_2020 Indicator_4_disturbance_after_2020  \\\n",
       "0                                  yes                                 no   \n",
       "1                                  yes                                yes   \n",
       "2                                  yes                                 no   \n",
       "3                                  yes                                 no   \n",
       "4                                  yes                                yes   \n",
       "5                                  yes                                 no   \n",
       "\n",
       "  EUDR_risk  \n",
       "0       low  \n",
       "1       low  \n",
       "2       low  \n",
       "3       low  \n",
       "4       low  \n",
       "5       low  \n",
       "\n",
       "[6 rows x 37 columns]"
      ]
     },
     "execution_count": 13,
     "metadata": {},
     "output_type": "execute_result"
    }
   ],
   "source": [
    "df_w_risk"
   ]
  },
  {
   "cell_type": "markdown",
   "id": "094c0019-585e-4598-8c54-c628625f5f80",
   "metadata": {},
   "source": [
    "##### Export table with risk columns to csv "
   ]
  },
  {
   "cell_type": "code",
   "execution_count": 14,
   "id": "afa539dd-bb4c-44f7-922f-79e2644631a5",
   "metadata": {},
   "outputs": [
    {
     "data": {
      "text/html": [
       "\n",
       "            <style>\n",
       "                .geemap-dark {\n",
       "                    --jp-widgets-color: white;\n",
       "                    --jp-widgets-label-color: white;\n",
       "                    --jp-ui-font-color1: white;\n",
       "                    --jp-layout-color2: #454545;\n",
       "                    background-color: #383838;\n",
       "                }\n",
       "\n",
       "                .geemap-dark .jupyter-button {\n",
       "                    --jp-layout-color3: #383838;\n",
       "                }\n",
       "\n",
       "                .geemap-colab {\n",
       "                    background-color: var(--colab-primary-surface-color, white);\n",
       "                }\n",
       "\n",
       "                .geemap-colab .jupyter-button {\n",
       "                    --jp-layout-color3: var(--colab-primary-surface-color, white);\n",
       "                }\n",
       "            </style>\n",
       "            "
      ],
      "text/plain": [
       "<IPython.core.display.HTML object>"
      ]
     },
     "metadata": {},
     "output_type": "display_data"
    }
   ],
   "source": [
    "output_file=out_directory/'whisp_output_table_w_risk.csv' # edit as required\n",
    "\n",
    "df_w_risk.to_csv(output_file)\n"
   ]
  },
  {
   "cell_type": "code",
   "execution_count": null,
   "id": "ec9536ed-f1a9-46cb-9478-222b917b603b",
   "metadata": {},
   "outputs": [],
   "source": []
  }
 ],
 "metadata": {
  "kernelspec": {
   "display_name": "Python 3",
   "language": "python",
   "name": "python3"
  },
  "language_info": {
   "codemirror_mode": {
    "name": "ipython",
    "version": 3
   },
   "file_extension": ".py",
   "mimetype": "text/x-python",
   "name": "python",
   "nbconvert_exporter": "python",
   "pygments_lexer": "ipython3",
   "version": "3.10.12"
  }
 },
 "nbformat": 4,
 "nbformat_minor": 5
}
