{
 "cells": [
  {
   "cell_type": "markdown",
   "id": "bfe423cf-8bd5-4727-8899-283ab6004221",
   "metadata": {},
   "source": [
    "#### Imports/setup"
   ]
  },
  {
   "cell_type": "code",
   "execution_count": 1,
   "id": "f5044a8c-3e6f-447a-85e1-a34c88f94eb4",
   "metadata": {},
   "outputs": [],
   "source": [
    "%load_ext autoreload\n",
    "%autoreload 2"
   ]
  },
  {
   "cell_type": "code",
   "execution_count": 2,
   "id": "8c696e8e-cf8b-4aa0-80e9-fc3a9f87a42b",
   "metadata": {
    "editable": true,
    "scrolled": true,
    "slideshow": {
     "slide_type": ""
    },
    "tags": []
   },
   "outputs": [
    {
     "name": "stdout",
     "output_type": "stream",
     "text": [
      "Earth Engine has been initialized with the specified credentials.\n"
     ]
    }
   ],
   "source": [
    "import ee\n",
    "import os\n",
    "# import pandas as pd\n",
    "import geemap\n",
    "import time\n",
    "import functools\n",
    "import os\n",
    "import sys\n",
    "# from datetime import datetime\n",
    "\n",
    "import requests # may not be needed\n",
    "from sidecar import Sidecar\n",
    "\n",
    "from modules.gee_initialize import initialize_ee \n",
    "initialize_ee()\n",
    "\n",
    "from parameters.config_output_naming import (\n",
    "    geo_id_column, \n",
    "    out_file_wide, \n",
    "    out_shapefile\n",
    ")\n",
    "\n",
    "from modules.agstack_to_gee import (\n",
    "    start_agstack_session,\n",
    "    get_agstack_token,\n",
    "    register_fc_and_append_to_csv,\n",
    "    # add_geo_ids_to_csv_from_lookup_df,\n",
    "    add_geo_ids_to_csv_from_lookup_csv,\n",
    "    add_empty_column_to_csv,\n",
    "    remove_column_from_csv\n",
    ")\n",
    "\n",
    "# from modules.multiband_stats import get_stats,reformat_whisp_fc,get_stats_formatted\n",
    "\n",
    "from parameters.config_asr_url_info import asset_registry_base, user_registry_base\n",
    "\n",
    "from parameters.config_asr_credentials import email, password\n",
    "\n",
    "from modules.utils import (\n",
    "    collection_properties_to_df,\n",
    "    remove_geometry_from_feature_collection,\n",
    "    get_centroid\n",
    ")\n",
    "\n",
    "def whisp_stats_as_df (roi): \n",
    "    %store roi\n",
    "    %run process_whisp_stats.ipynb   \n",
    "    return df_out\n",
    "   "
   ]
  },
  {
   "cell_type": "markdown",
   "id": "94ee40cf-680f-4baf-92d4-6fed96d2ab9c",
   "metadata": {},
   "source": [
    "#### Set up asset registry"
   ]
  },
  {
   "cell_type": "code",
   "execution_count": 3,
   "id": "fcea483c-9b14-40f3-b049-2a9479e9d509",
   "metadata": {},
   "outputs": [
    {
     "data": {
      "text/html": [
       "\n",
       "            <style>\n",
       "                .geemap-dark {\n",
       "                    --jp-widgets-color: white;\n",
       "                    --jp-widgets-label-color: white;\n",
       "                    --jp-ui-font-color1: white;\n",
       "                    --jp-layout-color2: #454545;\n",
       "                    background-color: #383838;\n",
       "                }\n",
       "\n",
       "                .geemap-dark .jupyter-button {\n",
       "                    --jp-layout-color3: #383838;\n",
       "                }\n",
       "\n",
       "                .geemap-colab {\n",
       "                    background-color: var(--colab-primary-surface-color, white);\n",
       "                }\n",
       "\n",
       "                .geemap-colab .jupyter-button {\n",
       "                    --jp-layout-color3: var(--colab-primary-surface-color, white);\n",
       "                }\n",
       "            </style>\n",
       "            "
      ],
      "text/plain": [
       "<IPython.core.display.HTML object>"
      ]
     },
     "metadata": {},
     "output_type": "display_data"
    }
   ],
   "source": [
    "session = start_agstack_session(email,password,user_registry_base)\n",
    "\n",
    "token = get_agstack_token(email, password, asset_registry_base)"
   ]
  },
  {
   "cell_type": "markdown",
   "id": "7df79006-43ec-402a-9473-b2c17b1614ae",
   "metadata": {},
   "source": [
    "#### Inputs : without GEOIDS"
   ]
  },
  {
   "cell_type": "markdown",
   "id": "0793b6c2-0f6d-4dc4-9dd9-d8f6bb6d3743",
   "metadata": {},
   "source": [
    "GEE asset (feature collection) "
   ]
  },
  {
   "cell_type": "code",
   "execution_count": 16,
   "id": "354afea9-eb94-4fd9-9469-eddd3a3487d6",
   "metadata": {
    "editable": true,
    "scrolled": true,
    "slideshow": {
     "slide_type": ""
    },
    "tags": []
   },
   "outputs": [
    {
     "data": {
      "text/html": [
       "\n",
       "            <style>\n",
       "                .geemap-dark {\n",
       "                    --jp-widgets-color: white;\n",
       "                    --jp-widgets-label-color: white;\n",
       "                    --jp-ui-font-color1: white;\n",
       "                    --jp-layout-color2: #454545;\n",
       "                    background-color: #383838;\n",
       "                }\n",
       "\n",
       "                .geemap-dark .jupyter-button {\n",
       "                    --jp-layout-color3: #383838;\n",
       "                }\n",
       "\n",
       "                .geemap-colab {\n",
       "                    background-color: var(--colab-primary-surface-color, white);\n",
       "                }\n",
       "\n",
       "                .geemap-colab .jupyter-button {\n",
       "                    --jp-layout-color3: var(--colab-primary-surface-color, white);\n",
       "                }\n",
       "            </style>\n",
       "            "
      ],
      "text/plain": [
       "<IPython.core.display.HTML object>"
      ]
     },
     "metadata": {},
     "output_type": "display_data"
    }
   ],
   "source": [
    "example_plot_feature_col_asset = 'projects/ee-andyarnellgee/assets/p0004_commodity_mapper_support/seg_civ_PCBM'\n",
    "\n",
    "# Define the fraction of features you want to sample (e.g., 0.5 for 50%)\n",
    "sampleFraction = 1#0.0010"
   ]
  },
  {
   "cell_type": "code",
   "execution_count": 17,
   "id": "510d25ad-fb8c-4735-8953-87371dc415eb",
   "metadata": {
    "editable": true,
    "slideshow": {
     "slide_type": ""
    },
    "tags": []
   },
   "outputs": [
    {
     "data": {
      "text/html": [
       "\n",
       "            <style>\n",
       "                .geemap-dark {\n",
       "                    --jp-widgets-color: white;\n",
       "                    --jp-widgets-label-color: white;\n",
       "                    --jp-ui-font-color1: white;\n",
       "                    --jp-layout-color2: #454545;\n",
       "                    background-color: #383838;\n",
       "                }\n",
       "\n",
       "                .geemap-dark .jupyter-button {\n",
       "                    --jp-layout-color3: #383838;\n",
       "                }\n",
       "\n",
       "                .geemap-colab {\n",
       "                    background-color: var(--colab-primary-surface-color, white);\n",
       "                }\n",
       "\n",
       "                .geemap-colab .jupyter-button {\n",
       "                    --jp-layout-color3: var(--colab-primary-surface-color, white);\n",
       "                }\n",
       "            </style>\n",
       "            "
      ],
      "text/plain": [
       "<IPython.core.display.HTML object>"
      ]
     },
     "metadata": {},
     "output_type": "display_data"
    },
    {
     "name": "stdout",
     "output_type": "stream",
     "text": [
      "5412\n"
     ]
    }
   ],
   "source": [
    "fc = ee.FeatureCollection(example_plot_feature_col_asset)\n",
    "\n",
    "randomColumn = 'random'\n",
    "fc_r = fc.randomColumn(randomColumn,4)\n",
    "\n",
    "# Filter the feature collection based on the random column to get the sample\n",
    "fc_sample = fc_r.filter(ee.Filter.lt(randomColumn, sampleFraction));\n",
    "\n",
    "roi = fc_sample\n",
    "print(roi.size().getInfo())"
   ]
  },
  {
   "cell_type": "markdown",
   "id": "6ba90193-9bc2-4756-a839-f16c07284e04",
   "metadata": {},
   "source": [
    "### Whisp it\n",
    "- If over >500 polygons currently this will go to Google Drive and require manual uploading here\n",
    "- Stats sent to a separate notebook 'process_whisp_stats.pynb'"
   ]
  },
  {
   "cell_type": "code",
   "execution_count": null,
   "id": "62b25f9f-6c78-424a-87ae-1025c5088884",
   "metadata": {
    "editable": true,
    "slideshow": {
     "slide_type": ""
    },
    "tags": []
   },
   "outputs": [],
   "source": [
    "df = whisp_stats_as_df(roi)"
   ]
  },
  {
   "cell_type": "markdown",
   "id": "1b7b3539-f9dd-4dc4-84ac-4e043434ae27",
   "metadata": {},
   "source": [
    "### Display it\n"
   ]
  },
  {
   "cell_type": "code",
   "execution_count": 7,
   "id": "e45cecd9-3bf0-40da-ad58-ec5a87a2d7be",
   "metadata": {},
   "outputs": [
    {
     "data": {
      "text/html": [
       "\n",
       "            <style>\n",
       "                .geemap-dark {\n",
       "                    --jp-widgets-color: white;\n",
       "                    --jp-widgets-label-color: white;\n",
       "                    --jp-ui-font-color1: white;\n",
       "                    --jp-layout-color2: #454545;\n",
       "                    background-color: #383838;\n",
       "                }\n",
       "\n",
       "                .geemap-dark .jupyter-button {\n",
       "                    --jp-layout-color3: #383838;\n",
       "                }\n",
       "\n",
       "                .geemap-colab {\n",
       "                    background-color: var(--colab-primary-surface-color, white);\n",
       "                }\n",
       "\n",
       "                .geemap-colab .jupyter-button {\n",
       "                    --jp-layout-color3: var(--colab-primary-surface-color, white);\n",
       "                }\n",
       "            </style>\n",
       "            "
      ],
      "text/plain": [
       "<IPython.core.display.HTML object>"
      ]
     },
     "metadata": {},
     "output_type": "display_data"
    },
    {
     "data": {
      "text/html": [
       "<div>\n",
       "<style scoped>\n",
       "    .dataframe tbody tr th:only-of-type {\n",
       "        vertical-align: middle;\n",
       "    }\n",
       "\n",
       "    .dataframe tbody tr th {\n",
       "        vertical-align: top;\n",
       "    }\n",
       "\n",
       "    .dataframe thead th {\n",
       "        text-align: right;\n",
       "    }\n",
       "</style>\n",
       "<table border=\"1\" class=\"dataframe\">\n",
       "  <thead>\n",
       "    <tr style=\"text-align: right;\">\n",
       "      <th></th>\n",
       "      <th>system:index</th>\n",
       "      <th>Area ha</th>\n",
       "      <th>Country</th>\n",
       "      <th>EUFO 2020</th>\n",
       "      <th>GLAD Primary</th>\n",
       "      <th>TMF undist</th>\n",
       "      <th>JAXA FNF 2020</th>\n",
       "      <th>GFC TC 2020</th>\n",
       "      <th>GLAD LULC 2020</th>\n",
       "      <th>ESA TC 2020</th>\n",
       "      <th>TMF disturbed</th>\n",
       "      <th>RADD alerts</th>\n",
       "      <th>TMF plant</th>\n",
       "      <th>Oil palm Descals</th>\n",
       "      <th>Oil palm FDaP</th>\n",
       "      <th>Cocoa ETH</th>\n",
       "      <th>WDPA</th>\n",
       "      <th>KBA</th>\n",
       "    </tr>\n",
       "    <tr>\n",
       "      <th>PLOTID</th>\n",
       "      <th></th>\n",
       "      <th></th>\n",
       "      <th></th>\n",
       "      <th></th>\n",
       "      <th></th>\n",
       "      <th></th>\n",
       "      <th></th>\n",
       "      <th></th>\n",
       "      <th></th>\n",
       "      <th></th>\n",
       "      <th></th>\n",
       "      <th></th>\n",
       "      <th></th>\n",
       "      <th></th>\n",
       "      <th></th>\n",
       "      <th></th>\n",
       "      <th></th>\n",
       "      <th></th>\n",
       "    </tr>\n",
       "  </thead>\n",
       "  <tbody>\n",
       "    <tr>\n",
       "      <th>1</th>\n",
       "      <td>000000000000000007b6</td>\n",
       "      <td>0.4</td>\n",
       "      <td>CIV</td>\n",
       "      <td>100</td>\n",
       "      <td>0</td>\n",
       "      <td>31</td>\n",
       "      <td>100</td>\n",
       "      <td>100</td>\n",
       "      <td>100</td>\n",
       "      <td>100</td>\n",
       "      <td>69</td>\n",
       "      <td>-</td>\n",
       "      <td>0</td>\n",
       "      <td>0</td>\n",
       "      <td>0</td>\n",
       "      <td>54</td>\n",
       "      <td>-</td>\n",
       "      <td>-</td>\n",
       "    </tr>\n",
       "    <tr>\n",
       "      <th>2</th>\n",
       "      <td>00000000000000000121</td>\n",
       "      <td>0.7</td>\n",
       "      <td>CIV</td>\n",
       "      <td>100</td>\n",
       "      <td>0</td>\n",
       "      <td>37</td>\n",
       "      <td>100</td>\n",
       "      <td>49</td>\n",
       "      <td>100</td>\n",
       "      <td>100</td>\n",
       "      <td>58</td>\n",
       "      <td>-</td>\n",
       "      <td>0</td>\n",
       "      <td>0</td>\n",
       "      <td>0</td>\n",
       "      <td>3</td>\n",
       "      <td>-</td>\n",
       "      <td>-</td>\n",
       "    </tr>\n",
       "    <tr>\n",
       "      <th>3</th>\n",
       "      <td>00000000000000000df1</td>\n",
       "      <td>3.1</td>\n",
       "      <td>CIV</td>\n",
       "      <td>100</td>\n",
       "      <td>0</td>\n",
       "      <td>81</td>\n",
       "      <td>100</td>\n",
       "      <td>91</td>\n",
       "      <td>100</td>\n",
       "      <td>97</td>\n",
       "      <td>19</td>\n",
       "      <td>-</td>\n",
       "      <td>0</td>\n",
       "      <td>0</td>\n",
       "      <td>0</td>\n",
       "      <td>26</td>\n",
       "      <td>-</td>\n",
       "      <td>-</td>\n",
       "    </tr>\n",
       "    <tr>\n",
       "      <th>4</th>\n",
       "      <td>0000000000000000029d</td>\n",
       "      <td>4.0</td>\n",
       "      <td>CIV</td>\n",
       "      <td>82</td>\n",
       "      <td>0</td>\n",
       "      <td>22</td>\n",
       "      <td>98</td>\n",
       "      <td>86</td>\n",
       "      <td>98</td>\n",
       "      <td>98</td>\n",
       "      <td>73</td>\n",
       "      <td>-</td>\n",
       "      <td>0</td>\n",
       "      <td>0</td>\n",
       "      <td>0</td>\n",
       "      <td>43</td>\n",
       "      <td>-</td>\n",
       "      <td>-</td>\n",
       "    </tr>\n",
       "    <tr>\n",
       "      <th>5</th>\n",
       "      <td>00000000000000000835</td>\n",
       "      <td>4.1</td>\n",
       "      <td>CIV</td>\n",
       "      <td>100</td>\n",
       "      <td>0</td>\n",
       "      <td>52</td>\n",
       "      <td>100</td>\n",
       "      <td>86</td>\n",
       "      <td>100</td>\n",
       "      <td>100</td>\n",
       "      <td>48</td>\n",
       "      <td>-</td>\n",
       "      <td>0</td>\n",
       "      <td>0</td>\n",
       "      <td>0</td>\n",
       "      <td>33</td>\n",
       "      <td>-</td>\n",
       "      <td>-</td>\n",
       "    </tr>\n",
       "    <tr>\n",
       "      <th>6</th>\n",
       "      <td>000000000000000009d2</td>\n",
       "      <td>5.4</td>\n",
       "      <td>CIV</td>\n",
       "      <td>63</td>\n",
       "      <td>0</td>\n",
       "      <td>0</td>\n",
       "      <td>100</td>\n",
       "      <td>76</td>\n",
       "      <td>85</td>\n",
       "      <td>93</td>\n",
       "      <td>47</td>\n",
       "      <td>-</td>\n",
       "      <td>0</td>\n",
       "      <td>0</td>\n",
       "      <td>0</td>\n",
       "      <td>3</td>\n",
       "      <td>-</td>\n",
       "      <td>-</td>\n",
       "    </tr>\n",
       "    <tr>\n",
       "      <th>7</th>\n",
       "      <td>000000000000000014d6</td>\n",
       "      <td>11.2</td>\n",
       "      <td>CIV</td>\n",
       "      <td>94</td>\n",
       "      <td>0</td>\n",
       "      <td>18</td>\n",
       "      <td>95</td>\n",
       "      <td>63</td>\n",
       "      <td>100</td>\n",
       "      <td>98</td>\n",
       "      <td>73</td>\n",
       "      <td>-</td>\n",
       "      <td>0</td>\n",
       "      <td>0</td>\n",
       "      <td>0</td>\n",
       "      <td>1</td>\n",
       "      <td>-</td>\n",
       "      <td>-</td>\n",
       "    </tr>\n",
       "  </tbody>\n",
       "</table>\n",
       "</div>"
      ],
      "text/plain": [
       "                system:index Area ha Country  EUFO 2020  GLAD Primary  \\\n",
       "PLOTID                                                                  \n",
       "1       000000000000000007b6     0.4     CIV        100             0   \n",
       "2       00000000000000000121     0.7     CIV        100             0   \n",
       "3       00000000000000000df1     3.1     CIV        100             0   \n",
       "4       0000000000000000029d     4.0     CIV         82             0   \n",
       "5       00000000000000000835     4.1     CIV        100             0   \n",
       "6       000000000000000009d2     5.4     CIV         63             0   \n",
       "7       000000000000000014d6    11.2     CIV         94             0   \n",
       "\n",
       "        TMF undist  JAXA FNF 2020  GFC TC 2020  GLAD LULC 2020  ESA TC 2020  \\\n",
       "PLOTID                                                                        \n",
       "1               31            100          100             100          100   \n",
       "2               37            100           49             100          100   \n",
       "3               81            100           91             100           97   \n",
       "4               22             98           86              98           98   \n",
       "5               52            100           86             100          100   \n",
       "6                0            100           76              85           93   \n",
       "7               18             95           63             100           98   \n",
       "\n",
       "        TMF disturbed RADD alerts  TMF plant  Oil palm Descals  Oil palm FDaP  \\\n",
       "PLOTID                                                                          \n",
       "1                  69           -          0                 0              0   \n",
       "2                  58           -          0                 0              0   \n",
       "3                  19           -          0                 0              0   \n",
       "4                  73           -          0                 0              0   \n",
       "5                  48           -          0                 0              0   \n",
       "6                  47           -          0                 0              0   \n",
       "7                  73           -          0                 0              0   \n",
       "\n",
       "        Cocoa ETH WDPA KBA  \n",
       "PLOTID                      \n",
       "1              54    -   -  \n",
       "2               3    -   -  \n",
       "3              26    -   -  \n",
       "4              43    -   -  \n",
       "5              33    -   -  \n",
       "6               3    -   -  \n",
       "7               1    -   -  "
      ]
     },
     "execution_count": 7,
     "metadata": {},
     "output_type": "execute_result"
    }
   ],
   "source": [
    "df"
   ]
  },
  {
   "cell_type": "markdown",
   "id": "3b0cec1c-3482-4fe6-b5ac-b60df4b2c4f6",
   "metadata": {},
   "source": [
    "#### Export it to CSV file\n",
    "NB skip if exporting to Google Drive"
   ]
  },
  {
   "cell_type": "code",
   "execution_count": null,
   "id": "fd56afe0-5480-4eb8-9a7b-e34feb54ae82",
   "metadata": {},
   "outputs": [],
   "source": [
    "#export output csv\n",
    "df.to_csv(path_or_buf=out_file_wide,header=True)\n",
    "\n",
    "print (\"output csv: \", out_file_wide)\n"
   ]
  },
  {
   "cell_type": "markdown",
   "id": "4d350f25-0dc4-4c1f-99ab-9dcde029ff97",
   "metadata": {},
   "source": [
    "#### Add Geo ids\n",
    "##### Step 1. Register polygons:  compiles geo_ids in a lookup csv\n",
    "- NB registration takes a long time if many polygons (a few seconds each one). AgStack will update this in future. \n",
    "- In the meantime to stop timeouts extend session length click dollar sign and edit under 'Sessions'.\n",
    "- If processing doesn't complete, rerun and it should pickup from where you got to."
   ]
  },
  {
   "cell_type": "code",
   "execution_count": null,
   "id": "5a8405b8-23a4-466e-b9be-0791c7b47935",
   "metadata": {},
   "outputs": [],
   "source": [
    "register_fc_and_append_to_csv(\n",
    "    feature_col=roi,\n",
    "    geo_id_column=\"Geo_id\",\n",
    "    output_lookup_csv=\"temp_geo_id_lookup.csv\",\n",
    "    join_id_column=\"system:index\",\n",
    "    token=token,\n",
    "    session=session,\n",
    "    asset_registry_base=asset_registry_base,\n",
    "    override_checks=False,\n",
    "    remove_temp_csv=False,\n",
    "    debug=True)\n"
   ]
  },
  {
   "cell_type": "markdown",
   "id": "23f6c36d-3e62-4e95-9976-11e98215ee4e",
   "metadata": {},
   "source": [
    "##### Step 2. Join geo ids from lookup csv to Whisp stats csv"
   ]
  },
  {
   "cell_type": "code",
   "execution_count": null,
   "id": "4e5018ba-bf5d-41e3-9860-fb52c4c8c2d1",
   "metadata": {},
   "outputs": [],
   "source": [
    "add_geo_ids_to_csv_from_lookup_csv(\n",
    "        input_csv=\"whisp_output_table.csv\",\n",
    "        geo_id_lookup_csv=\"temp_geo_id_lookup.csv\",\n",
    "        join_id_column=\"system:index\",\n",
    "        geo_id_column=geo_id_column,\n",
    "        # override_checks=False, # needs implementing\n",
    "        overwrite=False,\n",
    "        drop_geo=False,\n",
    "        debug=True)"
   ]
  },
  {
   "cell_type": "markdown",
   "id": "d3135797-0ac3-4b67-9584-f395436601bc",
   "metadata": {},
   "source": [
    "##### Optional: remove \"system:index\" column \n",
    "NB this is needed for joining geo_ids to csv (from lookup table). Check you have all your geo_ids first and if in doubt run on a copy of the results\n"
   ]
  },
  {
   "cell_type": "code",
   "execution_count": null,
   "id": "069233ff-db06-4d09-b423-4f7d83630013",
   "metadata": {},
   "outputs": [],
   "source": [
    "remove_column_from_csv(\n",
    "    csv_file=\"copy_whisp_output_table.csv\", # this may change depending on if overwrite is on\n",
    "    column_name=\"system:index\"\n",
    ")"
   ]
  },
  {
   "cell_type": "markdown",
   "id": "d316438e-3ff5-4cc1-ba0a-442506e30cf0",
   "metadata": {},
   "source": [
    "#### TO DO: \n",
    "    - column order not kept if batch task sent to drive; \n",
    "    - fool proof the join to csv (as with the join to fc version, so you know how many were joined etc) etc; \n",
    "    - possibly: better checks for lookup creation - check system ids match and prompt to remove old lookup if so\n",
    "    - possibly: make lookup creation output stay on one line; get system_index printed so can see where errors happen\n",
    "    - error log for the lookup creation (currently have to check for empty rows)\n",
    "    "
   ]
  },
  {
   "cell_type": "code",
   "execution_count": null,
   "id": "db38f75d-425e-43cb-9baf-7bd50e29bbf4",
   "metadata": {},
   "outputs": [],
   "source": []
  }
 ],
 "metadata": {
  "kernelspec": {
   "display_name": "Python 3",
   "language": "python",
   "name": "python3"
  },
  "language_info": {
   "codemirror_mode": {
    "name": "ipython",
    "version": 3
   },
   "file_extension": ".py",
   "mimetype": "text/x-python",
   "name": "python",
   "nbconvert_exporter": "python",
   "pygments_lexer": "ipython3",
   "version": "3.10.12"
  }
 },
 "nbformat": 4,
 "nbformat_minor": 5
}
