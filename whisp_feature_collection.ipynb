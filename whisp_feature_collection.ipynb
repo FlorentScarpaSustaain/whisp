{
 "cells": [
  {
   "cell_type": "markdown",
   "id": "bfe423cf-8bd5-4727-8899-283ab6004221",
   "metadata": {},
   "source": [
    "#### Imports/setup"
   ]
  },
  {
   "cell_type": "code",
   "execution_count": 1,
   "id": "f5044a8c-3e6f-447a-85e1-a34c88f94eb4",
   "metadata": {},
   "outputs": [],
   "source": [
    "%load_ext autoreload\n",
    "%autoreload 2"
   ]
  },
  {
   "cell_type": "code",
   "execution_count": 8,
   "id": "8c696e8e-cf8b-4aa0-80e9-fc3a9f87a42b",
   "metadata": {
    "editable": true,
    "scrolled": true,
    "slideshow": {
     "slide_type": ""
    },
    "tags": []
   },
   "outputs": [
    {
     "data": {
      "text/html": [
       "\n",
       "            <style>\n",
       "                .geemap-dark {\n",
       "                    --jp-widgets-color: white;\n",
       "                    --jp-widgets-label-color: white;\n",
       "                    --jp-ui-font-color1: white;\n",
       "                    --jp-layout-color2: #454545;\n",
       "                    background-color: #383838;\n",
       "                }\n",
       "\n",
       "                .geemap-dark .jupyter-button {\n",
       "                    --jp-layout-color3: #383838;\n",
       "                }\n",
       "\n",
       "                .geemap-colab {\n",
       "                    background-color: var(--colab-primary-surface-color, white);\n",
       "                }\n",
       "\n",
       "                .geemap-colab .jupyter-button {\n",
       "                    --jp-layout-color3: var(--colab-primary-surface-color, white);\n",
       "                }\n",
       "            </style>\n",
       "            "
      ],
      "text/plain": [
       "<IPython.core.display.HTML object>"
      ]
     },
     "metadata": {},
     "output_type": "display_data"
    }
   ],
   "source": [
    "import ee\n",
    "import os\n",
    "# import pandas as pd\n",
    "import geemap\n",
    "import time\n",
    "import functools\n",
    "import os\n",
    "import sys\n",
    "# from datetime import datetime\n",
    "\n",
    "import requests # may not be needed\n",
    "from sidecar import Sidecar\n",
    "\n",
    "from modules.gee_initialize import initialize_ee \n",
    "initialize_ee()\n",
    "\n",
    "from parameters.config_runtime import (\n",
    "    geo_id_column, \n",
    "    out_file_wide, \n",
    "    out_shapefile\n",
    ")\n",
    "\n",
    "from modules.agstack_to_gee import (\n",
    "    start_agstack_session,\n",
    "    get_agstack_token,\n",
    "    register_fc_and_append_to_csv,\n",
    "    # add_geo_ids_to_csv_from_lookup_df,\n",
    "    add_geo_ids_to_csv_from_lookup_csv,\n",
    "    add_empty_column_to_csv,\n",
    "    remove_column_from_csv\n",
    ")\n",
    "\n",
    "# from modules.multiband_stats import get_stats,reformat_whisp_fc,get_stats_formatted\n",
    "\n",
    "from parameters.config_asr_url_info import asset_registry_base, user_registry_base\n",
    "\n",
    "from parameters.config_asr_credentials import email, password\n",
    "\n",
    "from modules.utils import (\n",
    "    collection_properties_to_df,\n",
    "    remove_geometry_from_feature_collection,\n",
    "    get_centroid\n",
    ")\n",
    "\n",
    "def whisp_stats_as_df (roi): \n",
    "    %store roi\n",
    "    %run process_whisp_stats.ipynb   \n",
    "    return df_out\n",
    "   "
   ]
  },
  {
   "cell_type": "markdown",
   "id": "94ee40cf-680f-4baf-92d4-6fed96d2ab9c",
   "metadata": {},
   "source": [
    "#### Set up asset registry"
   ]
  },
  {
   "cell_type": "code",
   "execution_count": 9,
   "id": "fcea483c-9b14-40f3-b049-2a9479e9d509",
   "metadata": {},
   "outputs": [
    {
     "data": {
      "text/html": [
       "\n",
       "            <style>\n",
       "                .geemap-dark {\n",
       "                    --jp-widgets-color: white;\n",
       "                    --jp-widgets-label-color: white;\n",
       "                    --jp-ui-font-color1: white;\n",
       "                    --jp-layout-color2: #454545;\n",
       "                    background-color: #383838;\n",
       "                }\n",
       "\n",
       "                .geemap-dark .jupyter-button {\n",
       "                    --jp-layout-color3: #383838;\n",
       "                }\n",
       "\n",
       "                .geemap-colab {\n",
       "                    background-color: var(--colab-primary-surface-color, white);\n",
       "                }\n",
       "\n",
       "                .geemap-colab .jupyter-button {\n",
       "                    --jp-layout-color3: var(--colab-primary-surface-color, white);\n",
       "                }\n",
       "            </style>\n",
       "            "
      ],
      "text/plain": [
       "<IPython.core.display.HTML object>"
      ]
     },
     "metadata": {},
     "output_type": "display_data"
    }
   ],
   "source": [
    "session = start_agstack_session(email,password,user_registry_base)\n",
    "\n",
    "token = get_agstack_token(email, password, asset_registry_base)"
   ]
  },
  {
   "cell_type": "markdown",
   "id": "7df79006-43ec-402a-9473-b2c17b1614ae",
   "metadata": {},
   "source": [
    "#### Inputs : without GEOIDS"
   ]
  },
  {
   "cell_type": "markdown",
   "id": "0793b6c2-0f6d-4dc4-9dd9-d8f6bb6d3743",
   "metadata": {},
   "source": [
    "GEE asset (feature collection) "
   ]
  },
  {
   "cell_type": "code",
   "execution_count": 10,
   "id": "354afea9-eb94-4fd9-9469-eddd3a3487d6",
   "metadata": {
    "editable": true,
    "scrolled": true,
    "slideshow": {
     "slide_type": ""
    },
    "tags": []
   },
   "outputs": [
    {
     "data": {
      "text/html": [
       "\n",
       "            <style>\n",
       "                .geemap-dark {\n",
       "                    --jp-widgets-color: white;\n",
       "                    --jp-widgets-label-color: white;\n",
       "                    --jp-ui-font-color1: white;\n",
       "                    --jp-layout-color2: #454545;\n",
       "                    background-color: #383838;\n",
       "                }\n",
       "\n",
       "                .geemap-dark .jupyter-button {\n",
       "                    --jp-layout-color3: #383838;\n",
       "                }\n",
       "\n",
       "                .geemap-colab {\n",
       "                    background-color: var(--colab-primary-surface-color, white);\n",
       "                }\n",
       "\n",
       "                .geemap-colab .jupyter-button {\n",
       "                    --jp-layout-color3: var(--colab-primary-surface-color, white);\n",
       "                }\n",
       "            </style>\n",
       "            "
      ],
      "text/plain": [
       "<IPython.core.display.HTML object>"
      ]
     },
     "metadata": {},
     "output_type": "display_data"
    }
   ],
   "source": [
    "# example_plot_feature_col_asset = 'projects/ee-andyarnellgee/assets/p0004_commodity_mapper_support/seg_civ_PCBM'\n",
    "example_plot_feature_col_asset = 'projects/ee-cocoacmr/assets/feature_data/cicc_polys_2k'\n",
    "# Define the fraction of features you want to sample (e.g., 0.5 for 50%)\n",
    "sampleFraction = 0.0010"
   ]
  },
  {
   "cell_type": "code",
   "execution_count": 11,
   "id": "510d25ad-fb8c-4735-8953-87371dc415eb",
   "metadata": {
    "editable": true,
    "slideshow": {
     "slide_type": ""
    },
    "tags": []
   },
   "outputs": [
    {
     "data": {
      "text/html": [
       "\n",
       "            <style>\n",
       "                .geemap-dark {\n",
       "                    --jp-widgets-color: white;\n",
       "                    --jp-widgets-label-color: white;\n",
       "                    --jp-ui-font-color1: white;\n",
       "                    --jp-layout-color2: #454545;\n",
       "                    background-color: #383838;\n",
       "                }\n",
       "\n",
       "                .geemap-dark .jupyter-button {\n",
       "                    --jp-layout-color3: #383838;\n",
       "                }\n",
       "\n",
       "                .geemap-colab {\n",
       "                    background-color: var(--colab-primary-surface-color, white);\n",
       "                }\n",
       "\n",
       "                .geemap-colab .jupyter-button {\n",
       "                    --jp-layout-color3: var(--colab-primary-surface-color, white);\n",
       "                }\n",
       "            </style>\n",
       "            "
      ],
      "text/plain": [
       "<IPython.core.display.HTML object>"
      ]
     },
     "metadata": {},
     "output_type": "display_data"
    },
    {
     "name": "stdout",
     "output_type": "stream",
     "text": [
      "4\n"
     ]
    },
    {
     "data": {
      "text/html": [
       "<div><style>:root {\n",
       "  --font-color-primary: var(--jp-content-font-color0, rgba(0, 0, 0, 1));\n",
       "  --font-color-secondary: var(--jp-content-font-color2, rgba(0, 0, 0, 0.6));\n",
       "  --font-color-accent: rgba(123, 31, 162, 1);\n",
       "  --border-color: var(--jp-border-color2, #e0e0e0);\n",
       "  --background-color: var(--jp-layout-color0, white);\n",
       "  --background-color-row-even: var(--jp-layout-color1, white);\n",
       "  --background-color-row-odd: var(--jp-layout-color2, #eeeeee);\n",
       "}\n",
       "\n",
       "html[theme=\"dark\"],\n",
       "body[data-theme=\"dark\"],\n",
       "body.vscode-dark {\n",
       "  --font-color-primary: rgba(255, 255, 255, 1);\n",
       "  --font-color-secondary: rgba(255, 255, 255, 0.6);\n",
       "  --font-color-accent: rgb(173, 132, 190);\n",
       "  --border-color: #2e2e2e;\n",
       "  --background-color: #111111;\n",
       "  --background-color-row-even: #111111;\n",
       "  --background-color-row-odd: #313131;\n",
       "}\n",
       "\n",
       ".ee {\n",
       "  padding: 1em;\n",
       "  line-height: 1.5em;\n",
       "  min-width: 300px;\n",
       "  max-width: 1200px;\n",
       "  overflow-y: scroll;\n",
       "  max-height: 600px;\n",
       "  border: 1px solid var(--border-color);\n",
       "  font-family: monospace;\n",
       "}\n",
       "\n",
       ".ee li {\n",
       "  list-style-type: none;\n",
       "}\n",
       "\n",
       ".ee ul {\n",
       "  padding-left: 1.5em !important;\n",
       "  margin: 0;\n",
       "}\n",
       "\n",
       ".ee > ul {\n",
       "  padding-left: 0 !important;\n",
       "}\n",
       "\n",
       ".ee-open,\n",
       ".ee-shut {\n",
       "  color: var(--font-color-secondary);\n",
       "  cursor: pointer;\n",
       "  margin: 0;\n",
       "}\n",
       "\n",
       ".ee-open:hover,\n",
       ".ee-shut:hover {\n",
       "  color: var(--font-color-primary);\n",
       "}\n",
       "\n",
       ".ee-k {\n",
       "  color: var(--font-color-accent);\n",
       "  margin-right: 6px;\n",
       "}\n",
       "\n",
       ".ee-v {\n",
       "  color: var(--font-color-primary);\n",
       "}\n",
       "\n",
       ".ee-toggle {\n",
       "  display: none;\n",
       "}\n",
       "\n",
       ".ee-shut + ul {\n",
       "  display: none;\n",
       "}\n",
       "\n",
       ".ee-open + ul {\n",
       "  display: block;\n",
       "}\n",
       "\n",
       ".ee-shut::before {\n",
       "  display: inline-block;\n",
       "  content: \"▼\";\n",
       "  margin-right: 6px;\n",
       "  transform: rotate(-90deg);\n",
       "  transition: transform 0.2s;\n",
       "}\n",
       "\n",
       ".ee-open::before {\n",
       "  transform: rotate(0deg);\n",
       "  display: inline-block;\n",
       "  content: \"▼\";\n",
       "  margin-right: 6px;\n",
       "  transition: transform 0.2s;\n",
       "}\n",
       "</style><div class='ee'><ul><li><label class='ee-shut'>FeatureCollection (4 elements, 6 columns)<input type='checkbox' class='ee-toggle'></label><ul><li><span class='ee-k'>type:</span><span class='ee-v'>FeatureCollection</span></li><li><label class='ee-shut'>columns: Object (6 properties)<input type='checkbox' class='ee-toggle'></label><ul><li><span class='ee-k'>Date_debut:</span><span class='ee-v'>Long</span></li><li><span class='ee-k'>Date_fin:</span><span class='ee-v'>Long</span></li><li><span class='ee-k'>SUP:</span><span class='ee-v'>Long</span></li><li><span class='ee-k'>UID:</span><span class='ee-v'>Integer</span></li><li><span class='ee-k'>random:</span><span class='ee-v'><any></span></li><li><span class='ee-k'>system:index:</span><span class='ee-v'>String</span></li></ul></li><li><label class='ee-shut'>features: List (4 elements)<input type='checkbox' class='ee-toggle'></label><ul><li><label class='ee-shut'>0: Feature (Polygon, 5 properties)<input type='checkbox' class='ee-toggle'></label><ul><li><span class='ee-k'>type:</span><span class='ee-v'>Feature</span></li><li><span class='ee-k'>id:</span><span class='ee-v'>0000000000000000001a</span></li><li><label class='ee-shut'>geometry: Polygon (32 vertices)<input type='checkbox' class='ee-toggle'></label><ul><li><span class='ee-k'>type:</span><span class='ee-v'>Polygon</span></li><li><label class='ee-shut'>coordinates: List (1 element)<input type='checkbox' class='ee-toggle'></label><ul><li><label class='ee-shut'>0: List (32 elements)<input type='checkbox' class='ee-toggle'></label><ul><li><label class='ee-shut'>0: [11.419976298267086, 4.867612671820571]<input type='checkbox' class='ee-toggle'></label><ul><li><span class='ee-k'>0:</span><span class='ee-v'>11.419976298267086</span></li><li><span class='ee-k'>1:</span><span class='ee-v'>4.867612671820571</span></li></ul></li><li><label class='ee-shut'>1: [11.42005209894884, 4.867331753484199]<input type='checkbox' class='ee-toggle'></label><ul><li><span class='ee-k'>0:</span><span class='ee-v'>11.42005209894884</span></li><li><span class='ee-k'>1:</span><span class='ee-v'>4.867331753484199</span></li></ul></li><li><label class='ee-shut'>2: [11.420373147953729, 4.867264857854976]<input type='checkbox' class='ee-toggle'></label><ul><li><span class='ee-k'>0:</span><span class='ee-v'>11.420373147953729</span></li><li><span class='ee-k'>1:</span><span class='ee-v'>4.867264857854976</span></li></ul></li><li><label class='ee-shut'>3: [11.420854723377252, 4.867394151290887]<input type='checkbox' class='ee-toggle'></label><ul><li><span class='ee-k'>0:</span><span class='ee-v'>11.420854723377252</span></li><li><span class='ee-k'>1:</span><span class='ee-v'>4.867394151290887</span></li></ul></li><li><label class='ee-shut'>4: [11.421224807726055, 4.867670640776003]<input type='checkbox' class='ee-toggle'></label><ul><li><span class='ee-k'>0:</span><span class='ee-v'>11.421224807726055</span></li><li><span class='ee-k'>1:</span><span class='ee-v'>4.867670640776003</span></li></ul></li><li><label class='ee-shut'>5: [11.421577134139095, 4.867840077579434]<input type='checkbox' class='ee-toggle'></label><ul><li><span class='ee-k'>0:</span><span class='ee-v'>11.421577134139095</span></li><li><span class='ee-k'>1:</span><span class='ee-v'>4.867840077579434</span></li></ul></li><li><label class='ee-shut'>6: [11.421951639320074, 4.867898047466006]<input type='checkbox' class='ee-toggle'></label><ul><li><span class='ee-k'>0:</span><span class='ee-v'>11.421951639320074</span></li><li><span class='ee-k'>1:</span><span class='ee-v'>4.867898047466006</span></li></ul></li><li><label class='ee-shut'>7: [11.422321814324723, 4.867880218611324]<input type='checkbox' class='ee-toggle'></label><ul><li><span class='ee-k'>0:</span><span class='ee-v'>11.422321814324723</span></li><li><span class='ee-k'>1:</span><span class='ee-v'>4.867880218611324</span></li></ul></li><li><label class='ee-shut'>8: [11.422660630035166, 4.867871321014071]<input type='checkbox' class='ee-toggle'></label><ul><li><span class='ee-k'>0:</span><span class='ee-v'>11.422660630035166</span></li><li><span class='ee-k'>1:</span><span class='ee-v'>4.867871321014071</span></li></ul></li><li><label class='ee-shut'>9: [11.423142216379526, 4.867987241151276]<input type='checkbox' class='ee-toggle'></label><ul><li><span class='ee-k'>0:</span><span class='ee-v'>11.423142216379526</span></li><li><span class='ee-k'>1:</span><span class='ee-v'>4.867987241151276</span></li></ul></li><li><label class='ee-shut'>10: [11.42303080764143, 4.8683082601864545]<input type='checkbox' class='ee-toggle'></label><ul><li><span class='ee-k'>0:</span><span class='ee-v'>11.42303080764143</span></li><li><span class='ee-k'>1:</span><span class='ee-v'>4.8683082601864545</span></li></ul></li><li><label class='ee-shut'>11: [11.422981687342638, 4.868620443126651]<input type='checkbox' class='ee-toggle'></label><ul><li><span class='ee-k'>0:</span><span class='ee-v'>11.422981687342638</span></li><li><span class='ee-k'>1:</span><span class='ee-v'>4.868620443126651</span></li></ul></li><li><label class='ee-shut'>12: [11.422977269115878, 4.8688567678712085]<input type='checkbox' class='ee-toggle'></label><ul><li><span class='ee-k'>0:</span><span class='ee-v'>11.422977269115878</span></li><li><span class='ee-k'>1:</span><span class='ee-v'>4.8688567678712085</span></li></ul></li><li><label class='ee-shut'>13: [11.423070918238253, 4.86924915176623]<input type='checkbox' class='ee-toggle'></label><ul><li><span class='ee-k'>0:</span><span class='ee-v'>11.423070918238253</span></li><li><span class='ee-k'>1:</span><span class='ee-v'>4.86924915176623</span></li></ul></li><li><label class='ee-shut'>14: [11.4232180194404, 4.869703983160264]<input type='checkbox' class='ee-toggle'></label><ul><li><span class='ee-k'>0:</span><span class='ee-v'>11.4232180194404</span></li><li><span class='ee-k'>1:</span><span class='ee-v'>4.869703983160264</span></li></ul></li><li><label class='ee-shut'>15: [11.423320591901447, 4.870087513064394]<input type='checkbox' class='ee-toggle'></label><ul><li><span class='ee-k'>0:</span><span class='ee-v'>11.423320591901447</span></li><li><span class='ee-k'>1:</span><span class='ee-v'>4.870087513064394</span></li></ul></li><li><label class='ee-shut'>16: [11.423427669345346, 4.870542335145198]<input type='checkbox' class='ee-toggle'></label><ul><li><span class='ee-k'>0:</span><span class='ee-v'>11.423427669345346</span></li><li><span class='ee-k'>1:</span><span class='ee-v'>4.870542335145198</span></li></ul></li><li><label class='ee-shut'>17: [11.423325096775436, 4.8705869241664566]<input type='checkbox' class='ee-toggle'></label><ul><li><span class='ee-k'>0:</span><span class='ee-v'>11.423325096775436</span></li><li><span class='ee-k'>1:</span><span class='ee-v'>4.8705869241664566</span></li></ul></li><li><label class='ee-shut'>18: [11.423061995145142, 4.870595852845406]<input type='checkbox' class='ee-toggle'></label><ul><li><span class='ee-k'>0:</span><span class='ee-v'>11.423061995145142</span></li><li><span class='ee-k'>1:</span><span class='ee-v'>4.870595852845406</span></li></ul></li><li><label class='ee-shut'>19: [11.422669553092781, 4.87068947646421]<input type='checkbox' class='ee-toggle'></label><ul><li><span class='ee-k'>0:</span><span class='ee-v'>11.422669553092781</span></li><li><span class='ee-k'>1:</span><span class='ee-v'>4.87068947646421</span></li></ul></li><li><label class='ee-shut'>20: [11.422406539803504, 4.870774202060192]<input type='checkbox' class='ee-toggle'></label><ul><li><span class='ee-k'>0:</span><span class='ee-v'>11.422406539803504</span></li><li><span class='ee-k'>1:</span><span class='ee-v'>4.870774202060192</span></li></ul></li><li><label class='ee-shut'>21: [11.422147858759015, 4.870435314968043]<input type='checkbox' class='ee-toggle'></label><ul><li><span class='ee-k'>0:</span><span class='ee-v'>11.422147858759015</span></li><li><span class='ee-k'>1:</span><span class='ee-v'>4.870435314968043</span></li></ul></li><li><label class='ee-shut'>22: [11.42205871531097, 4.869730714449008]<input type='checkbox' class='ee-toggle'></label><ul><li><span class='ee-k'>0:</span><span class='ee-v'>11.42205871531097</span></li><li><span class='ee-k'>1:</span><span class='ee-v'>4.869730714449008</span></li></ul></li><li><label class='ee-shut'>23: [11.421933879963643, 4.869209032643211]<input type='checkbox' class='ee-toggle'></label><ul><li><span class='ee-k'>0:</span><span class='ee-v'>11.421933879963643</span></li><li><span class='ee-k'>1:</span><span class='ee-v'>4.869209032643211</span></li></ul></li><li><label class='ee-shut'>24: [11.421764429871212, 4.868709651450912]<input type='checkbox' class='ee-toggle'></label><ul><li><span class='ee-k'>0:</span><span class='ee-v'>11.421764429871212</span></li><li><span class='ee-k'>1:</span><span class='ee-v'>4.868709651450912</span></li></ul></li><li><label class='ee-shut'>25: [11.421416607592729, 4.868727488062547]<input type='checkbox' class='ee-toggle'></label><ul><li><span class='ee-k'>0:</span><span class='ee-v'>11.421416607592729</span></li><li><span class='ee-k'>1:</span><span class='ee-v'>4.868727488062547</span></li></ul></li><li><label class='ee-shut'>26: [11.421131160317517, 4.868589246354595]<input type='checkbox' class='ee-toggle'></label><ul><li><span class='ee-k'>0:</span><span class='ee-v'>11.421131160317517</span></li><li><span class='ee-k'>1:</span><span class='ee-v'>4.868589246354595</span></li></ul></li><li><label class='ee-shut'>27: [11.42069419798059, 4.8684777698188055]<input type='checkbox' class='ee-toggle'></label><ul><li><span class='ee-k'>0:</span><span class='ee-v'>11.42069419798059</span></li><li><span class='ee-k'>1:</span><span class='ee-v'>4.8684777698188055</span></li></ul></li><li><label class='ee-shut'>28: [11.420359806987145, 4.868531214025625]<input type='checkbox' class='ee-toggle'></label><ul><li><span class='ee-k'>0:</span><span class='ee-v'>11.420359806987145</span></li><li><span class='ee-k'>1:</span><span class='ee-v'>4.868531214025625</span></li></ul></li><li><label class='ee-shut'>29: [11.420096713091022, 4.868433169830084]<input type='checkbox' class='ee-toggle'></label><ul><li><span class='ee-k'>0:</span><span class='ee-v'>11.420096713091022</span></li><li><span class='ee-k'>1:</span><span class='ee-v'>4.868433169830084</span></li></ul></li><li><label class='ee-shut'>30: [11.420025330473006, 4.86797386269659]<input type='checkbox' class='ee-toggle'></label><ul><li><span class='ee-k'>0:</span><span class='ee-v'>11.420025330473006</span></li><li><span class='ee-k'>1:</span><span class='ee-v'>4.86797386269659</span></li></ul></li><li><label class='ee-shut'>31: [11.419976298267086, 4.867612671820571]<input type='checkbox' class='ee-toggle'></label><ul><li><span class='ee-k'>0:</span><span class='ee-v'>11.419976298267086</span></li><li><span class='ee-k'>1:</span><span class='ee-v'>4.867612671820571</span></li></ul></li></ul></li></ul></li></ul></li><li><label class='ee-shut'>properties: Object (5 properties)<input type='checkbox' class='ee-toggle'></label><ul><li><span class='ee-k'>Date_debut:</span><span class='ee-v'>1633330800000</span></li><li><span class='ee-k'>Date_fin:</span><span class='ee-v'>1659078000000</span></li><li><span class='ee-k'>SUP:</span><span class='ee-v'>63525</span></li><li><span class='ee-k'>UID:</span><span class='ee-v'>27</span></li><li><span class='ee-k'>random:</span><span class='ee-v'>0.00017852276909879894</span></li></ul></li></ul></li><li><label class='ee-shut'>1: Feature (Polygon, 5 properties)<input type='checkbox' class='ee-toggle'></label><ul><li><span class='ee-k'>type:</span><span class='ee-v'>Feature</span></li><li><span class='ee-k'>id:</span><span class='ee-v'>0000000000000000058f</span></li><li><label class='ee-shut'>geometry: Polygon (13 vertices)<input type='checkbox' class='ee-toggle'></label><ul><li><span class='ee-k'>type:</span><span class='ee-v'>Polygon</span></li><li><label class='ee-shut'>coordinates: List (1 element)<input type='checkbox' class='ee-toggle'></label><ul><li><label class='ee-shut'>0: List (13 elements)<input type='checkbox' class='ee-toggle'></label><ul><li><label class='ee-shut'>0: [11.644228962960517, 4.709381471679665]<input type='checkbox' class='ee-toggle'></label><ul><li><span class='ee-k'>0:</span><span class='ee-v'>11.644228962960517</span></li><li><span class='ee-k'>1:</span><span class='ee-v'>4.709381471679665</span></li></ul></li><li><label class='ee-shut'>1: [11.644286871772826, 4.709336887742901]<input type='checkbox' class='ee-toggle'></label><ul><li><span class='ee-k'>0:</span><span class='ee-v'>11.644286871772826</span></li><li><span class='ee-k'>1:</span><span class='ee-v'>4.709336887742901</span></li></ul></li><li><label class='ee-shut'>2: [11.64513857784116, 4.709185275227602]<input type='checkbox' class='ee-toggle'></label><ul><li><span class='ee-k'>0:</span><span class='ee-v'>11.64513857784116</span></li><li><span class='ee-k'>1:</span><span class='ee-v'>4.709185275227602</span></li></ul></li><li><label class='ee-shut'>3: [11.645495324088362, 4.709171901224298]<input type='checkbox' class='ee-toggle'></label><ul><li><span class='ee-k'>0:</span><span class='ee-v'>11.645495324088362</span></li><li><span class='ee-k'>1:</span><span class='ee-v'>4.709171901224298</span></li></ul></li><li><label class='ee-shut'>4: [11.646449576426566, 4.709283376957331]<input type='checkbox' class='ee-toggle'></label><ul><li><span class='ee-k'>0:</span><span class='ee-v'>11.646449576426566</span></li><li><span class='ee-k'>1:</span><span class='ee-v'>4.709283376957331</span></li></ul></li><li><label class='ee-shut'>5: [11.646931177233245, 4.709328001340191]<input type='checkbox' class='ee-toggle'></label><ul><li><span class='ee-k'>0:</span><span class='ee-v'>11.646931177233245</span></li><li><span class='ee-k'>1:</span><span class='ee-v'>4.709328001340191</span></li></ul></li><li><label class='ee-shut'>6: [11.646503058575997, 4.709898709601012]<input type='checkbox' class='ee-toggle'></label><ul><li><span class='ee-k'>0:</span><span class='ee-v'>11.646503058575997</span></li><li><span class='ee-k'>1:</span><span class='ee-v'>4.709898709601012</span></li></ul></li><li><label class='ee-shut'>7: [11.646150823564913, 4.710692460195295]<input type='checkbox' class='ee-toggle'></label><ul><li><span class='ee-k'>0:</span><span class='ee-v'>11.646150823564913</span></li><li><span class='ee-k'>1:</span><span class='ee-v'>4.710692460195295</span></li></ul></li><li><label class='ee-shut'>8: [11.645950179509038, 4.710696929332361]<input type='checkbox' class='ee-toggle'></label><ul><li><span class='ee-k'>0:</span><span class='ee-v'>11.645950179509038</span></li><li><span class='ee-k'>1:</span><span class='ee-v'>4.710696929332361</span></li></ul></li><li><label class='ee-shut'>9: [11.644933507910082, 4.710741498964888]<input type='checkbox' class='ee-toggle'></label><ul><li><span class='ee-k'>0:</span><span class='ee-v'>11.644933507910082</span></li><li><span class='ee-k'>1:</span><span class='ee-v'>4.710741498964888</span></li></ul></li><li><label class='ee-shut'>10: [11.644755092191662, 4.710407104915526]<input type='checkbox' class='ee-toggle'></label><ul><li><span class='ee-k'>0:</span><span class='ee-v'>11.644755092191662</span></li><li><span class='ee-k'>1:</span><span class='ee-v'>4.710407104915526</span></li></ul></li><li><label class='ee-shut'>11: [11.644474229141919, 4.7097292950524245]<input type='checkbox' class='ee-toggle'></label><ul><li><span class='ee-k'>0:</span><span class='ee-v'>11.644474229141919</span></li><li><span class='ee-k'>1:</span><span class='ee-v'>4.7097292950524245</span></li></ul></li><li><label class='ee-shut'>12: [11.644228962960517, 4.709381471679665]<input type='checkbox' class='ee-toggle'></label><ul><li><span class='ee-k'>0:</span><span class='ee-v'>11.644228962960517</span></li><li><span class='ee-k'>1:</span><span class='ee-v'>4.709381471679665</span></li></ul></li></ul></li></ul></li></ul></li><li><label class='ee-shut'>properties: Object (5 properties)<input type='checkbox' class='ee-toggle'></label><ul><li><span class='ee-k'>Date_debut:</span><span class='ee-v'>1633330800000</span></li><li><span class='ee-k'>Date_fin:</span><span class='ee-v'>1659078000000</span></li><li><span class='ee-k'>SUP:</span><span class='ee-v'>34975</span></li><li><span class='ee-k'>UID:</span><span class='ee-v'>1424</span></li><li><span class='ee-k'>random:</span><span class='ee-v'>0.00041593606809253725</span></li></ul></li></ul></li><li><label class='ee-shut'>2: Feature (Polygon, 5 properties)<input type='checkbox' class='ee-toggle'></label><ul><li><span class='ee-k'>type:</span><span class='ee-v'>Feature</span></li><li><span class='ee-k'>id:</span><span class='ee-v'>00000000000000000713</span></li><li><label class='ee-shut'>geometry: Polygon (32 vertices)<input type='checkbox' class='ee-toggle'></label><ul><li><span class='ee-k'>type:</span><span class='ee-v'>Polygon</span></li><li><label class='ee-shut'>coordinates: List (1 element)<input type='checkbox' class='ee-toggle'></label><ul><li><label class='ee-shut'>0: List (32 elements)<input type='checkbox' class='ee-toggle'></label><ul><li><label class='ee-shut'>0: [11.602540791031837, 4.527797969790951]<input type='checkbox' class='ee-toggle'></label><ul><li><span class='ee-k'>0:</span><span class='ee-v'>11.602540791031837</span></li><li><span class='ee-k'>1:</span><span class='ee-v'>4.527797969790951</span></li></ul></li><li><label class='ee-shut'>1: [11.602558668682367, 4.527704342841619]<input type='checkbox' class='ee-toggle'></label><ul><li><span class='ee-k'>0:</span><span class='ee-v'>11.602558668682367</span></li><li><span class='ee-k'>1:</span><span class='ee-v'>4.527704342841619</span></li></ul></li><li><label class='ee-shut'>2: [11.602638944578619, 4.527664212880718]<input type='checkbox' class='ee-toggle'></label><ul><li><span class='ee-k'>0:</span><span class='ee-v'>11.602638944578619</span></li><li><span class='ee-k'>1:</span><span class='ee-v'>4.527664212880718</span></li></ul></li><li><label class='ee-shut'>3: [11.602768253991812, 4.527561605963085]<input type='checkbox' class='ee-toggle'></label><ul><li><span class='ee-k'>0:</span><span class='ee-v'>11.602768253991812</span></li><li><span class='ee-k'>1:</span><span class='ee-v'>4.527561605963085</span></li></ul></li><li><label class='ee-shut'>4: [11.60298669180583, 4.52729852299076]<input type='checkbox' class='ee-toggle'></label><ul><li><span class='ee-k'>0:</span><span class='ee-v'>11.60298669180583</span></li><li><span class='ee-k'>1:</span><span class='ee-v'>4.52729852299076</span></li></ul></li><li><label class='ee-shut'>5: [11.603129453361104, 4.527245031597476]<input type='checkbox' class='ee-toggle'></label><ul><li><span class='ee-k'>0:</span><span class='ee-v'>11.603129453361104</span></li><li><span class='ee-k'>1:</span><span class='ee-v'>4.527245031597476</span></li></ul></li><li><label class='ee-shut'>6: [11.603343465887244, 4.5271023792294764]<input type='checkbox' class='ee-toggle'></label><ul><li><span class='ee-k'>0:</span><span class='ee-v'>11.603343465887244</span></li><li><span class='ee-k'>1:</span><span class='ee-v'>4.5271023792294764</span></li></ul></li><li><label class='ee-shut'>7: [11.6034548983763, 4.527062209720924]<input type='checkbox' class='ee-toggle'></label><ul><li><span class='ee-k'>0:</span><span class='ee-v'>11.6034548983763</span></li><li><span class='ee-k'>1:</span><span class='ee-v'>4.527062209720924</span></li></ul></li><li><label class='ee-shut'>8: [11.603575356685532, 4.52693288128597]<input type='checkbox' class='ee-toggle'></label><ul><li><span class='ee-k'>0:</span><span class='ee-v'>11.603575356685532</span></li><li><span class='ee-k'>1:</span><span class='ee-v'>4.52693288128597</span></li></ul></li><li><label class='ee-shut'>9: [11.603807161220507, 4.52713356538831]<input type='checkbox' class='ee-toggle'></label><ul><li><span class='ee-k'>0:</span><span class='ee-v'>11.603807161220507</span></li><li><span class='ee-k'>1:</span><span class='ee-v'>4.52713356538831</span></li></ul></li><li><label class='ee-shut'>10: [11.603740336198051, 4.527352045029949]<input type='checkbox' class='ee-toggle'></label><ul><li><span class='ee-k'>0:</span><span class='ee-v'>11.603740336198051</span></li><li><span class='ee-k'>1:</span><span class='ee-v'>4.527352045029949</span></li></ul></li><li><label class='ee-shut'>11: [11.60401674907236, 4.527664184140482]<input type='checkbox' class='ee-toggle'></label><ul><li><span class='ee-k'>0:</span><span class='ee-v'>11.60401674907236</span></li><li><span class='ee-k'>1:</span><span class='ee-v'>4.527664184140482</span></li></ul></li><li><label class='ee-shut'>12: [11.60420854619689, 4.527940634621347]<input type='checkbox' class='ee-toggle'></label><ul><li><span class='ee-k'>0:</span><span class='ee-v'>11.60420854619689</span></li><li><span class='ee-k'>1:</span><span class='ee-v'>4.527940634621347</span></li></ul></li><li><label class='ee-shut'>13: [11.604382378922113, 4.5281502099664515]<input type='checkbox' class='ee-toggle'></label><ul><li><span class='ee-k'>0:</span><span class='ee-v'>11.604382378922113</span></li><li><span class='ee-k'>1:</span><span class='ee-v'>4.5281502099664515</span></li></ul></li><li><label class='ee-shut'>14: [11.604525142413255, 4.528266177502669]<input type='checkbox' class='ee-toggle'></label><ul><li><span class='ee-k'>0:</span><span class='ee-v'>11.604525142413255</span></li><li><span class='ee-k'>1:</span><span class='ee-v'>4.528266177502669</span></li></ul></li><li><label class='ee-shut'>15: [11.604502838316783, 4.528350920915396]<input type='checkbox' class='ee-toggle'></label><ul><li><span class='ee-k'>0:</span><span class='ee-v'>11.604502838316783</span></li><li><span class='ee-k'>1:</span><span class='ee-v'>4.528350920915396</span></li></ul></li><li><label class='ee-shut'>16: [11.604337857582095, 4.528796812547824]<input type='checkbox' class='ee-toggle'></label><ul><li><span class='ee-k'>0:</span><span class='ee-v'>11.604337857582095</span></li><li><span class='ee-k'>1:</span><span class='ee-v'>4.528796812547824</span></li></ul></li><li><label class='ee-shut'>17: [11.604212972288595, 4.529229321482265]<input type='checkbox' class='ee-toggle'></label><ul><li><span class='ee-k'>0:</span><span class='ee-v'>11.604212972288595</span></li><li><span class='ee-k'>1:</span><span class='ee-v'>4.529229321482265</span></li></ul></li><li><label class='ee-shut'>18: [11.60419509435071, 4.5293675750416655]<input type='checkbox' class='ee-toggle'></label><ul><li><span class='ee-k'>0:</span><span class='ee-v'>11.60419509435071</span></li><li><span class='ee-k'>1:</span><span class='ee-v'>4.5293675750416655</span></li></ul></li><li><label class='ee-shut'>19: [11.603963288942069, 4.529626175707989]<input type='checkbox' class='ee-toggle'></label><ul><li><span class='ee-k'>0:</span><span class='ee-v'>11.603963288942069</span></li><li><span class='ee-k'>1:</span><span class='ee-v'>4.529626175707989</span></li></ul></li><li><label class='ee-shut'>20: [11.603776005133208, 4.529773345566462]<input type='checkbox' class='ee-toggle'></label><ul><li><span class='ee-k'>0:</span><span class='ee-v'>11.603776005133208</span></li><li><span class='ee-k'>1:</span><span class='ee-v'>4.529773345566462</span></li></ul></li><li><label class='ee-shut'>21: [11.603655546589149, 4.529719859497651]<input type='checkbox' class='ee-toggle'></label><ul><li><span class='ee-k'>0:</span><span class='ee-v'>11.603655546589149</span></li><li><span class='ee-k'>1:</span><span class='ee-v'>4.529719859497651</span></li></ul></li><li><label class='ee-shut'>22: [11.603414803494848, 4.529429985670987]<input type='checkbox' class='ee-toggle'></label><ul><li><span class='ee-k'>0:</span><span class='ee-v'>11.603414803494848</span></li><li><span class='ee-k'>1:</span><span class='ee-v'>4.529429985670987</span></li></ul></li><li><label class='ee-shut'>23: [11.60322309463469, 4.5293586589916695]<input type='checkbox' class='ee-toggle'></label><ul><li><span class='ee-k'>0:</span><span class='ee-v'>11.60322309463469</span></li><li><span class='ee-k'>1:</span><span class='ee-v'>4.5293586589916695</span></li></ul></li><li><label class='ee-shut'>24: [11.603307797101984, 4.528917223889419]<input type='checkbox' class='ee-toggle'></label><ul><li><span class='ee-k'>0:</span><span class='ee-v'>11.603307797101984</span></li><li><span class='ee-k'>1:</span><span class='ee-v'>4.528917223889419</span></li></ul></li><li><label class='ee-shut'>25: [11.603383560740903, 4.528783439872029]<input type='checkbox' class='ee-toggle'></label><ul><li><span class='ee-k'>0:</span><span class='ee-v'>11.603383560740903</span></li><li><span class='ee-k'>1:</span><span class='ee-v'>4.528783439872029</span></li></ul></li><li><label class='ee-shut'>26: [11.60354853994599, 4.528466862972272]<input type='checkbox' class='ee-toggle'></label><ul><li><span class='ee-k'>0:</span><span class='ee-v'>11.60354853994599</span></li><li><span class='ee-k'>1:</span><span class='ee-v'>4.528466862972272</span></li></ul></li><li><label class='ee-shut'>27: [11.603316735993475, 4.528355344415919]<input type='checkbox' class='ee-toggle'></label><ul><li><span class='ee-k'>0:</span><span class='ee-v'>11.603316735993475</span></li><li><span class='ee-k'>1:</span><span class='ee-v'>4.528355344415919</span></li></ul></li><li><label class='ee-shut'>28: [11.603312223154957, 4.528310793793416]<input type='checkbox' class='ee-toggle'></label><ul><li><span class='ee-k'>0:</span><span class='ee-v'>11.603312223154957</span></li><li><span class='ee-k'>1:</span><span class='ee-v'>4.528310793793416</span></li></ul></li><li><label class='ee-shut'>29: [11.60298226576686, 4.528177005618254]<input type='checkbox' class='ee-toggle'></label><ul><li><span class='ee-k'>0:</span><span class='ee-v'>11.60298226576686</span></li><li><span class='ee-k'>1:</span><span class='ee-v'>4.528177005618254</span></li></ul></li><li><label class='ee-shut'>30: [11.602589824401154, 4.5279049527124355]<input type='checkbox' class='ee-toggle'></label><ul><li><span class='ee-k'>0:</span><span class='ee-v'>11.602589824401154</span></li><li><span class='ee-k'>1:</span><span class='ee-v'>4.5279049527124355</span></li></ul></li><li><label class='ee-shut'>31: [11.602540791031837, 4.527797969790951]<input type='checkbox' class='ee-toggle'></label><ul><li><span class='ee-k'>0:</span><span class='ee-v'>11.602540791031837</span></li><li><span class='ee-k'>1:</span><span class='ee-v'>4.527797969790951</span></li></ul></li></ul></li></ul></li></ul></li><li><label class='ee-shut'>properties: Object (5 properties)<input type='checkbox' class='ee-toggle'></label><ul><li><span class='ee-k'>Date_debut:</span><span class='ee-v'>1633330800000</span></li><li><span class='ee-k'>Date_fin:</span><span class='ee-v'>1659078000000</span></li><li><span class='ee-k'>SUP:</span><span class='ee-v'>33310</span></li><li><span class='ee-k'>UID:</span><span class='ee-v'>1812</span></li><li><span class='ee-k'>random:</span><span class='ee-v'>0.0007502245097448235</span></li></ul></li></ul></li><li><label class='ee-shut'>3: Feature (Polygon, 5 properties)<input type='checkbox' class='ee-toggle'></label><ul><li><span class='ee-k'>type:</span><span class='ee-v'>Feature</span></li><li><span class='ee-k'>id:</span><span class='ee-v'>0000000000000000075c</span></li><li><label class='ee-shut'>geometry: Polygon (9 vertices)<input type='checkbox' class='ee-toggle'></label><ul><li><span class='ee-k'>type:</span><span class='ee-v'>Polygon</span></li><li><label class='ee-shut'>coordinates: List (1 element)<input type='checkbox' class='ee-toggle'></label><ul><li><label class='ee-shut'>0: List (9 elements)<input type='checkbox' class='ee-toggle'></label><ul><li><label class='ee-shut'>0: [10.75934711268748, 4.867206895209778]<input type='checkbox' class='ee-toggle'></label><ul><li><span class='ee-k'>0:</span><span class='ee-v'>10.75934711268748</span></li><li><span class='ee-k'>1:</span><span class='ee-v'>4.867206895209778</span></li></ul></li><li><label class='ee-shut'>1: [10.75946748705651, 4.867443243841173]<input type='checkbox' class='ee-toggle'></label><ul><li><span class='ee-k'>0:</span><span class='ee-v'>10.75946748705651</span></li><li><span class='ee-k'>1:</span><span class='ee-v'>4.867443243841173</span></li></ul></li><li><label class='ee-shut'>2: [10.759525480195707, 4.867532437519149]<input type='checkbox' class='ee-toggle'></label><ul><li><span class='ee-k'>0:</span><span class='ee-v'>10.759525480195707</span></li><li><span class='ee-k'>1:</span><span class='ee-v'>4.867532437519149</span></li></ul></li><li><label class='ee-shut'>3: [10.759699373784647, 4.867420901300006]<input type='checkbox' class='ee-toggle'></label><ul><li><span class='ee-k'>0:</span><span class='ee-v'>10.759699373784647</span></li><li><span class='ee-k'>1:</span><span class='ee-v'>4.867420901300006</span></li></ul></li><li><label class='ee-shut'>4: [10.760189822553109, 4.868040784924581]<input type='checkbox' class='ee-toggle'></label><ul><li><span class='ee-k'>0:</span><span class='ee-v'>10.760189822553109</span></li><li><span class='ee-k'>1:</span><span class='ee-v'>4.868040784924581</span></li></ul></li><li><label class='ee-shut'>5: [10.760350380548251, 4.868450979234981]<input type='checkbox' class='ee-toggle'></label><ul><li><span class='ee-k'>0:</span><span class='ee-v'>10.760350380548251</span></li><li><span class='ee-k'>1:</span><span class='ee-v'>4.868450979234981</span></li></ul></li><li><label class='ee-shut'>6: [10.759703848042541, 4.868473287248285]<input type='checkbox' class='ee-toggle'></label><ul><li><span class='ee-k'>0:</span><span class='ee-v'>10.759703848042541</span></li><li><span class='ee-k'>1:</span><span class='ee-v'>4.868473287248285</span></li></ul></li><li><label class='ee-shut'>7: [10.75956557636332, 4.868477768212258]<input type='checkbox' class='ee-toggle'></label><ul><li><span class='ee-k'>0:</span><span class='ee-v'>10.75956557636332</span></li><li><span class='ee-k'>1:</span><span class='ee-v'>4.868477768212258</span></li></ul></li><li><label class='ee-shut'>8: [10.75934711268748, 4.867206895209778]<input type='checkbox' class='ee-toggle'></label><ul><li><span class='ee-k'>0:</span><span class='ee-v'>10.75934711268748</span></li><li><span class='ee-k'>1:</span><span class='ee-v'>4.867206895209778</span></li></ul></li></ul></li></ul></li></ul></li><li><label class='ee-shut'>properties: Object (5 properties)<input type='checkbox' class='ee-toggle'></label><ul><li><span class='ee-k'>Date_debut:</span><span class='ee-v'>1633330800000</span></li><li><span class='ee-k'>Date_fin:</span><span class='ee-v'>1659078000000</span></li><li><span class='ee-k'>SUP:</span><span class='ee-v'>7678</span></li><li><span class='ee-k'>UID:</span><span class='ee-v'>1885</span></li><li><span class='ee-k'>random:</span><span class='ee-v'>0.0006548385536078172</span></li></ul></li></ul></li></ul></li></ul></li></ul></div><script>function toggleHeader() {\n",
       "    const parent = this.parentElement;\n",
       "    parent.className = parent.className === \"ee-open\" ? \"ee-shut\" : \"ee-open\";\n",
       "}\n",
       "\n",
       "for (let c of document.getElementsByClassName(\"ee-toggle\")) {\n",
       "    c.onclick = toggleHeader;\n",
       "}</script></div>"
      ],
      "text/plain": [
       "<ee.featurecollection.FeatureCollection at 0x7fee099927a0>"
      ]
     },
     "execution_count": 11,
     "metadata": {},
     "output_type": "execute_result"
    }
   ],
   "source": [
    "fc = ee.FeatureCollection(example_plot_feature_col_asset)\n",
    "\n",
    "randomColumn = 'random'\n",
    "fc_r = fc.randomColumn(randomColumn,4)\n",
    "\n",
    "# Filter the feature collection based on the random column to get the sample\n",
    "fc_sample = fc_r.filter(ee.Filter.lt(randomColumn, sampleFraction));\n",
    "\n",
    "roi = fc_sample\n",
    "print(roi.size().getInfo())\n",
    "roi"
   ]
  },
  {
   "cell_type": "markdown",
   "id": "6ba90193-9bc2-4756-a839-f16c07284e04",
   "metadata": {},
   "source": [
    "### Whisp it\n",
    "- If over >500 polygons currently this will go to Google Drive and require manual uploading here\n",
    "- Stats sent to a separate notebook 'process_whisp_stats.pynb'"
   ]
  },
  {
   "cell_type": "code",
   "execution_count": 22,
   "id": "62b25f9f-6c78-424a-87ae-1025c5088884",
   "metadata": {
    "editable": true,
    "slideshow": {
     "slide_type": ""
    },
    "tags": []
   },
   "outputs": [
    {
     "data": {
      "text/html": [
       "\n",
       "            <style>\n",
       "                .geemap-dark {\n",
       "                    --jp-widgets-color: white;\n",
       "                    --jp-widgets-label-color: white;\n",
       "                    --jp-ui-font-color1: white;\n",
       "                    --jp-layout-color2: #454545;\n",
       "                    background-color: #383838;\n",
       "                }\n",
       "\n",
       "                .geemap-dark .jupyter-button {\n",
       "                    --jp-layout-color3: #383838;\n",
       "                }\n",
       "\n",
       "                .geemap-colab {\n",
       "                    background-color: var(--colab-primary-surface-color, white);\n",
       "                }\n",
       "\n",
       "                .geemap-colab .jupyter-button {\n",
       "                    --jp-layout-color3: var(--colab-primary-surface-color, white);\n",
       "                }\n",
       "            </style>\n",
       "            "
      ],
      "text/plain": [
       "<IPython.core.display.HTML object>"
      ]
     },
     "metadata": {},
     "output_type": "display_data"
    },
    {
     "name": "stdout",
     "output_type": "stream",
     "text": [
      "Stored 'roi' (FeatureCollection)\n",
      "The autoreload extension is already loaded. To reload it, use:\n",
      "  %reload_ext autoreload\n",
      "...stats processing started\n",
      "...ee to df processing time: 3.7743704319000244 seconds\n"
     ]
    }
   ],
   "source": [
    "df = whisp_stats_as_df(roi)"
   ]
  },
  {
   "cell_type": "markdown",
   "id": "1b7b3539-f9dd-4dc4-84ac-4e043434ae27",
   "metadata": {},
   "source": [
    "### Display it\n"
   ]
  },
  {
   "cell_type": "code",
   "execution_count": 23,
   "id": "e45cecd9-3bf0-40da-ad58-ec5a87a2d7be",
   "metadata": {},
   "outputs": [
    {
     "data": {
      "text/html": [
       "\n",
       "            <style>\n",
       "                .geemap-dark {\n",
       "                    --jp-widgets-color: white;\n",
       "                    --jp-widgets-label-color: white;\n",
       "                    --jp-ui-font-color1: white;\n",
       "                    --jp-layout-color2: #454545;\n",
       "                    background-color: #383838;\n",
       "                }\n",
       "\n",
       "                .geemap-dark .jupyter-button {\n",
       "                    --jp-layout-color3: #383838;\n",
       "                }\n",
       "\n",
       "                .geemap-colab {\n",
       "                    background-color: var(--colab-primary-surface-color, white);\n",
       "                }\n",
       "\n",
       "                .geemap-colab .jupyter-button {\n",
       "                    --jp-layout-color3: var(--colab-primary-surface-color, white);\n",
       "                }\n",
       "            </style>\n",
       "            "
      ],
      "text/plain": [
       "<IPython.core.display.HTML object>"
      ]
     },
     "metadata": {},
     "output_type": "display_data"
    },
    {
     "data": {
      "text/html": [
       "<div>\n",
       "<style scoped>\n",
       "    .dataframe tbody tr th:only-of-type {\n",
       "        vertical-align: middle;\n",
       "    }\n",
       "\n",
       "    .dataframe tbody tr th {\n",
       "        vertical-align: top;\n",
       "    }\n",
       "\n",
       "    .dataframe thead th {\n",
       "        text-align: right;\n",
       "    }\n",
       "</style>\n",
       "<table border=\"1\" class=\"dataframe\">\n",
       "  <thead>\n",
       "    <tr style=\"text-align: right;\">\n",
       "      <th></th>\n",
       "      <th>Area_ha</th>\n",
       "      <th>Cocoa_ETH</th>\n",
       "      <th>Country</th>\n",
       "      <th>Date_debut</th>\n",
       "      <th>Date_fin</th>\n",
       "      <th>ESA_TC_2020</th>\n",
       "      <th>EUFO_2020</th>\n",
       "      <th>GFC_Loss_Year_2001</th>\n",
       "      <th>GFC_Loss_Year_2002</th>\n",
       "      <th>GFC_Loss_Year_2003</th>\n",
       "      <th>...</th>\n",
       "      <th>tmf_deg_2013</th>\n",
       "      <th>tmf_deg_2014</th>\n",
       "      <th>tmf_deg_2015</th>\n",
       "      <th>tmf_deg_2016</th>\n",
       "      <th>tmf_deg_2017</th>\n",
       "      <th>tmf_deg_2018</th>\n",
       "      <th>tmf_deg_2019</th>\n",
       "      <th>tmf_deg_2020</th>\n",
       "      <th>tmf_deg_2021</th>\n",
       "      <th>tmf_deg_2022</th>\n",
       "    </tr>\n",
       "  </thead>\n",
       "  <tbody>\n",
       "    <tr>\n",
       "      <th>0</th>\n",
       "      <td>6.3</td>\n",
       "      <td>0</td>\n",
       "      <td>CMR</td>\n",
       "      <td>1633330800000</td>\n",
       "      <td>1659078000000</td>\n",
       "      <td>6.307695</td>\n",
       "      <td>6.079183</td>\n",
       "      <td>0</td>\n",
       "      <td>0</td>\n",
       "      <td>0</td>\n",
       "      <td>...</td>\n",
       "      <td>0</td>\n",
       "      <td>0</td>\n",
       "      <td>0.000000</td>\n",
       "      <td>0.000000</td>\n",
       "      <td>0.698073</td>\n",
       "      <td>0.194431</td>\n",
       "      <td>0.089084</td>\n",
       "      <td>0.213878</td>\n",
       "      <td>0.261195</td>\n",
       "      <td>0.445417</td>\n",
       "    </tr>\n",
       "    <tr>\n",
       "      <th>1</th>\n",
       "      <td>3.5</td>\n",
       "      <td>0</td>\n",
       "      <td>CMR</td>\n",
       "      <td>1633330800000</td>\n",
       "      <td>1659078000000</td>\n",
       "      <td>3.499814</td>\n",
       "      <td>3.499814</td>\n",
       "      <td>0</td>\n",
       "      <td>0</td>\n",
       "      <td>0</td>\n",
       "      <td>...</td>\n",
       "      <td>0</td>\n",
       "      <td>0</td>\n",
       "      <td>0.146720</td>\n",
       "      <td>0.000777</td>\n",
       "      <td>0.000000</td>\n",
       "      <td>0.000000</td>\n",
       "      <td>0.000000</td>\n",
       "      <td>0.000000</td>\n",
       "      <td>0.237260</td>\n",
       "      <td>0.000000</td>\n",
       "    </tr>\n",
       "    <tr>\n",
       "      <th>2</th>\n",
       "      <td>3.3</td>\n",
       "      <td>0</td>\n",
       "      <td>CMR</td>\n",
       "      <td>1633330800000</td>\n",
       "      <td>1659078000000</td>\n",
       "      <td>3.328881</td>\n",
       "      <td>3.328881</td>\n",
       "      <td>0</td>\n",
       "      <td>0</td>\n",
       "      <td>0</td>\n",
       "      <td>...</td>\n",
       "      <td>0</td>\n",
       "      <td>0</td>\n",
       "      <td>0.010097</td>\n",
       "      <td>0.000000</td>\n",
       "      <td>0.000000</td>\n",
       "      <td>0.000000</td>\n",
       "      <td>0.000000</td>\n",
       "      <td>0.318756</td>\n",
       "      <td>0.000000</td>\n",
       "      <td>0.000000</td>\n",
       "    </tr>\n",
       "    <tr>\n",
       "      <th>3</th>\n",
       "      <td>0.8</td>\n",
       "      <td>0</td>\n",
       "      <td>CMR</td>\n",
       "      <td>1633330800000</td>\n",
       "      <td>1659078000000</td>\n",
       "      <td>0.765615</td>\n",
       "      <td>0.242137</td>\n",
       "      <td>0</td>\n",
       "      <td>0</td>\n",
       "      <td>0</td>\n",
       "      <td>...</td>\n",
       "      <td>0</td>\n",
       "      <td>0</td>\n",
       "      <td>0.000000</td>\n",
       "      <td>0.000000</td>\n",
       "      <td>0.038234</td>\n",
       "      <td>0.000000</td>\n",
       "      <td>0.000000</td>\n",
       "      <td>0.000000</td>\n",
       "      <td>0.000000</td>\n",
       "      <td>0.000000</td>\n",
       "    </tr>\n",
       "  </tbody>\n",
       "</table>\n",
       "<p>4 rows × 149 columns</p>\n",
       "</div>"
      ],
      "text/plain": [
       "  Area_ha  Cocoa_ETH Country     Date_debut       Date_fin  ESA_TC_2020  \\\n",
       "0     6.3          0     CMR  1633330800000  1659078000000     6.307695   \n",
       "1     3.5          0     CMR  1633330800000  1659078000000     3.499814   \n",
       "2     3.3          0     CMR  1633330800000  1659078000000     3.328881   \n",
       "3     0.8          0     CMR  1633330800000  1659078000000     0.765615   \n",
       "\n",
       "   EUFO_2020  GFC_Loss_Year_2001  GFC_Loss_Year_2002  GFC_Loss_Year_2003  ...  \\\n",
       "0   6.079183                   0                   0                   0  ...   \n",
       "1   3.499814                   0                   0                   0  ...   \n",
       "2   3.328881                   0                   0                   0  ...   \n",
       "3   0.242137                   0                   0                   0  ...   \n",
       "\n",
       "   tmf_deg_2013  tmf_deg_2014  tmf_deg_2015  tmf_deg_2016  tmf_deg_2017  \\\n",
       "0             0             0      0.000000      0.000000      0.698073   \n",
       "1             0             0      0.146720      0.000777      0.000000   \n",
       "2             0             0      0.010097      0.000000      0.000000   \n",
       "3             0             0      0.000000      0.000000      0.038234   \n",
       "\n",
       "   tmf_deg_2018  tmf_deg_2019  tmf_deg_2020  tmf_deg_2021  tmf_deg_2022  \n",
       "0      0.194431      0.089084      0.213878      0.261195      0.445417  \n",
       "1      0.000000      0.000000      0.000000      0.237260      0.000000  \n",
       "2      0.000000      0.000000      0.318756      0.000000      0.000000  \n",
       "3      0.000000      0.000000      0.000000      0.000000      0.000000  \n",
       "\n",
       "[4 rows x 149 columns]"
      ]
     },
     "execution_count": 23,
     "metadata": {},
     "output_type": "execute_result"
    }
   ],
   "source": [
    "df"
   ]
  },
  {
   "cell_type": "markdown",
   "id": "3b0cec1c-3482-4fe6-b5ac-b60df4b2c4f6",
   "metadata": {},
   "source": [
    "#### Export it to CSV file\n",
    "NB skip if exporting to Google Drive"
   ]
  },
  {
   "cell_type": "code",
   "execution_count": 24,
   "id": "fd56afe0-5480-4eb8-9a7b-e34feb54ae82",
   "metadata": {},
   "outputs": [
    {
     "data": {
      "text/html": [
       "\n",
       "            <style>\n",
       "                .geemap-dark {\n",
       "                    --jp-widgets-color: white;\n",
       "                    --jp-widgets-label-color: white;\n",
       "                    --jp-ui-font-color1: white;\n",
       "                    --jp-layout-color2: #454545;\n",
       "                    background-color: #383838;\n",
       "                }\n",
       "\n",
       "                .geemap-dark .jupyter-button {\n",
       "                    --jp-layout-color3: #383838;\n",
       "                }\n",
       "\n",
       "                .geemap-colab {\n",
       "                    background-color: var(--colab-primary-surface-color, white);\n",
       "                }\n",
       "\n",
       "                .geemap-colab .jupyter-button {\n",
       "                    --jp-layout-color3: var(--colab-primary-surface-color, white);\n",
       "                }\n",
       "            </style>\n",
       "            "
      ],
      "text/plain": [
       "<IPython.core.display.HTML object>"
      ]
     },
     "metadata": {},
     "output_type": "display_data"
    },
    {
     "name": "stdout",
     "output_type": "stream",
     "text": [
      "/home/sepal-user/whisp/whisp_output_table.csv\n",
      "output csv:  /home/sepal-user/whisp/whisp_output_table.csv\n"
     ]
    }
   ],
   "source": [
    "#export output csv\n",
    "print  (out_file_wide)\n",
    "df.to_csv(path_or_buf=out_file_wide,header=True)\n",
    "\n",
    "print (\"output csv: \", out_file_wide)\n"
   ]
  },
  {
   "cell_type": "markdown",
   "id": "4d350f25-0dc4-4c1f-99ab-9dcde029ff97",
   "metadata": {},
   "source": [
    "#### Add Geo ids\n",
    "##### Step 1. Register polygons:  compiles geo_ids in a lookup csv\n",
    "- NB registration takes a long time if many polygons (a few seconds each one). AgStack will update this in future. \n",
    "- In the meantime to stop timeouts extend session length click dollar sign and edit under 'Sessions'.\n",
    "- If processing doesn't complete, rerun and it should pickup from where you got to."
   ]
  },
  {
   "cell_type": "code",
   "execution_count": 25,
   "id": "5a8405b8-23a4-466e-b9be-0791c7b47935",
   "metadata": {},
   "outputs": [
    {
     "data": {
      "text/html": [
       "\n",
       "            <style>\n",
       "                .geemap-dark {\n",
       "                    --jp-widgets-color: white;\n",
       "                    --jp-widgets-label-color: white;\n",
       "                    --jp-ui-font-color1: white;\n",
       "                    --jp-layout-color2: #454545;\n",
       "                    background-color: #383838;\n",
       "                }\n",
       "\n",
       "                .geemap-dark .jupyter-button {\n",
       "                    --jp-layout-color3: #383838;\n",
       "                }\n",
       "\n",
       "                .geemap-colab {\n",
       "                    background-color: var(--colab-primary-surface-color, white);\n",
       "                }\n",
       "\n",
       "                .geemap-colab .jupyter-button {\n",
       "                    --jp-layout-color3: var(--colab-primary-surface-color, white);\n",
       "                }\n",
       "            </style>\n",
       "            "
      ],
      "text/plain": [
       "<IPython.core.display.HTML object>"
      ]
     },
     "metadata": {},
     "output_type": "display_data"
    },
    {
     "name": "stdout",
     "output_type": "stream",
     "text": [
      "Check passed: feature collection and table same size: 4 rows\n",
      "Number without geo ids:0. \n",
      " Processing started...\n",
      "Backup file copied successfully to: csvs/temp_geo_id_lookup_20240416_103755.csv\n",
      "Done\n"
     ]
    }
   ],
   "source": [
    "register_fc_and_append_to_csv(\n",
    "    feature_col=roi,\n",
    "    geo_id_column=\"Geo_id\",\n",
    "    output_lookup_csv=\"temp_geo_id_lookup.csv\",\n",
    "    join_id_column=\"system:index\",\n",
    "    token=token,\n",
    "    session=session,\n",
    "    asset_registry_base=asset_registry_base,\n",
    "    override_checks=False,\n",
    "    remove_temp_csv=False,\n",
    "    debug=True)\n"
   ]
  },
  {
   "cell_type": "markdown",
   "id": "23f6c36d-3e62-4e95-9976-11e98215ee4e",
   "metadata": {},
   "source": [
    "##### Step 2. Join geo ids from lookup csv to Whisp stats csv"
   ]
  },
  {
   "cell_type": "code",
   "execution_count": 26,
   "id": "4e5018ba-bf5d-41e3-9860-fb52c4c8c2d1",
   "metadata": {},
   "outputs": [
    {
     "data": {
      "text/html": [
       "\n",
       "            <style>\n",
       "                .geemap-dark {\n",
       "                    --jp-widgets-color: white;\n",
       "                    --jp-widgets-label-color: white;\n",
       "                    --jp-ui-font-color1: white;\n",
       "                    --jp-layout-color2: #454545;\n",
       "                    background-color: #383838;\n",
       "                }\n",
       "\n",
       "                .geemap-dark .jupyter-button {\n",
       "                    --jp-layout-color3: #383838;\n",
       "                }\n",
       "\n",
       "                .geemap-colab {\n",
       "                    background-color: var(--colab-primary-surface-color, white);\n",
       "                }\n",
       "\n",
       "                .geemap-colab .jupyter-button {\n",
       "                    --jp-layout-color3: var(--colab-primary-surface-color, white);\n",
       "                }\n",
       "            </style>\n",
       "            "
      ],
      "text/plain": [
       "<IPython.core.display.HTML object>"
      ]
     },
     "metadata": {},
     "output_type": "display_data"
    },
    {
     "name": "stdout",
     "output_type": "stream",
     "text": [
      "new csv:  copy_whisp_output_table.csv\n"
     ]
    }
   ],
   "source": [
    "add_geo_ids_to_csv_from_lookup_csv(\n",
    "        input_csv=\"whisp_output_table.csv\",\n",
    "        geo_id_lookup_csv=\"temp_geo_id_lookup.csv\",\n",
    "        join_id_column=\"system:index\",\n",
    "        geo_id_column=geo_id_column,\n",
    "        # override_checks=False, # needs implementing\n",
    "        overwrite=False,\n",
    "        drop_geo=False,\n",
    "        debug=True)"
   ]
  },
  {
   "cell_type": "markdown",
   "id": "d3135797-0ac3-4b67-9584-f395436601bc",
   "metadata": {},
   "source": [
    "##### Optional: remove \"system:index\" column \n",
    "NB this is needed for joining geo_ids to csv (from lookup table). Check you have all your geo_ids first and if in doubt run on a copy of the results\n"
   ]
  },
  {
   "cell_type": "code",
   "execution_count": 27,
   "id": "069233ff-db06-4d09-b423-4f7d83630013",
   "metadata": {},
   "outputs": [
    {
     "data": {
      "text/html": [
       "\n",
       "            <style>\n",
       "                .geemap-dark {\n",
       "                    --jp-widgets-color: white;\n",
       "                    --jp-widgets-label-color: white;\n",
       "                    --jp-ui-font-color1: white;\n",
       "                    --jp-layout-color2: #454545;\n",
       "                    background-color: #383838;\n",
       "                }\n",
       "\n",
       "                .geemap-dark .jupyter-button {\n",
       "                    --jp-layout-color3: #383838;\n",
       "                }\n",
       "\n",
       "                .geemap-colab {\n",
       "                    background-color: var(--colab-primary-surface-color, white);\n",
       "                }\n",
       "\n",
       "                .geemap-colab .jupyter-button {\n",
       "                    --jp-layout-color3: var(--colab-primary-surface-color, white);\n",
       "                }\n",
       "            </style>\n",
       "            "
      ],
      "text/plain": [
       "<IPython.core.display.HTML object>"
      ]
     },
     "metadata": {},
     "output_type": "display_data"
    },
    {
     "name": "stdout",
     "output_type": "stream",
     "text": [
      "Column 'system:index' removed successfully from copy_whisp_output_table.csv\n"
     ]
    }
   ],
   "source": [
    "remove_column_from_csv(\n",
    "    csv_file=\"copy_whisp_output_table.csv\", # this may change depending on if overwrite is on\n",
    "    column_name=\"system:index\"\n",
    ")"
   ]
  },
  {
   "cell_type": "markdown",
   "id": "d316438e-3ff5-4cc1-ba0a-442506e30cf0",
   "metadata": {},
   "source": [
    "#### TO DO: \n",
    "    - column order not kept if batch task sent to drive; \n",
    "    - fool proof the join to csv (as with the join to fc version, so you know how many were joined etc) etc; \n",
    "    - possibly: better checks for lookup creation - check system ids match and prompt to remove old lookup if so\n",
    "    - possibly: make lookup creation output stay on one line; get system_index printed so can see where errors happen\n",
    "    - error log for the lookup creation (currently have to check for empty rows)\n",
    "    "
   ]
  },
  {
   "cell_type": "code",
   "execution_count": null,
   "id": "db38f75d-425e-43cb-9baf-7bd50e29bbf4",
   "metadata": {},
   "outputs": [],
   "source": []
  }
 ],
 "metadata": {
  "kernelspec": {
   "display_name": "Python 3",
   "language": "python",
   "name": "python3"
  },
  "language_info": {
   "codemirror_mode": {
    "name": "ipython",
    "version": 3
   },
   "file_extension": ".py",
   "mimetype": "text/x-python",
   "name": "python",
   "nbconvert_exporter": "python",
   "pygments_lexer": "ipython3",
   "version": "3.10.12"
  }
 },
 "nbformat": 4,
 "nbformat_minor": 5
}
