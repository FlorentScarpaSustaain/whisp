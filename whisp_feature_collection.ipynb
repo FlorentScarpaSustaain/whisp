{
 "cells": [
  {
   "cell_type": "markdown",
   "id": "bfe423cf-8bd5-4727-8899-283ab6004221",
   "metadata": {},
   "source": [
    "#### Imports/setup"
   ]
  },
  {
   "cell_type": "code",
   "execution_count": 22,
   "id": "f5044a8c-3e6f-447a-85e1-a34c88f94eb4",
   "metadata": {},
   "outputs": [
    {
     "data": {
      "text/html": [
       "\n",
       "            <style>\n",
       "                .geemap-dark {\n",
       "                    --jp-widgets-color: white;\n",
       "                    --jp-widgets-label-color: white;\n",
       "                    --jp-ui-font-color1: white;\n",
       "                    --jp-layout-color2: #454545;\n",
       "                    background-color: #383838;\n",
       "                }\n",
       "\n",
       "                .geemap-dark .jupyter-button {\n",
       "                    --jp-layout-color3: #383838;\n",
       "                }\n",
       "\n",
       "                .geemap-colab {\n",
       "                    background-color: var(--colab-primary-surface-color, white);\n",
       "                }\n",
       "\n",
       "                .geemap-colab .jupyter-button {\n",
       "                    --jp-layout-color3: var(--colab-primary-surface-color, white);\n",
       "                }\n",
       "            </style>\n",
       "            "
      ],
      "text/plain": [
       "<IPython.core.display.HTML object>"
      ]
     },
     "metadata": {},
     "output_type": "display_data"
    },
    {
     "name": "stdout",
     "output_type": "stream",
     "text": [
      "The autoreload extension is already loaded. To reload it, use:\n",
      "  %reload_ext autoreload\n"
     ]
    }
   ],
   "source": [
    "%load_ext autoreload\n",
    "%autoreload 2"
   ]
  },
  {
   "cell_type": "code",
   "execution_count": 23,
   "id": "8c696e8e-cf8b-4aa0-80e9-fc3a9f87a42b",
   "metadata": {
    "editable": true,
    "scrolled": true,
    "slideshow": {
     "slide_type": ""
    },
    "tags": []
   },
   "outputs": [
    {
     "data": {
      "text/html": [
       "\n",
       "            <style>\n",
       "                .geemap-dark {\n",
       "                    --jp-widgets-color: white;\n",
       "                    --jp-widgets-label-color: white;\n",
       "                    --jp-ui-font-color1: white;\n",
       "                    --jp-layout-color2: #454545;\n",
       "                    background-color: #383838;\n",
       "                }\n",
       "\n",
       "                .geemap-dark .jupyter-button {\n",
       "                    --jp-layout-color3: #383838;\n",
       "                }\n",
       "\n",
       "                .geemap-colab {\n",
       "                    background-color: var(--colab-primary-surface-color, white);\n",
       "                }\n",
       "\n",
       "                .geemap-colab .jupyter-button {\n",
       "                    --jp-layout-color3: var(--colab-primary-surface-color, white);\n",
       "                }\n",
       "            </style>\n",
       "            "
      ],
      "text/plain": [
       "<IPython.core.display.HTML object>"
      ]
     },
     "metadata": {},
     "output_type": "display_data"
    }
   ],
   "source": [
    "import ee\n",
    "import os\n",
    "# import pandas as pd\n",
    "import geemap\n",
    "import time\n",
    "import functools\n",
    "import os\n",
    "import sys\n",
    "# from datetime import datetime\n",
    "\n",
    "import requests # may not be needed\n",
    "from sidecar import Sidecar\n",
    "\n",
    "from modules.gee_initialize import initialize_ee \n",
    "initialize_ee()\n",
    "\n",
    "from parameters.config_output_naming import (\n",
    "    geo_id_column, \n",
    "    out_file_wide, \n",
    "    out_shapefile\n",
    ")\n",
    "\n",
    "from modules.agstack_to_gee import (\n",
    "    start_agstack_session,\n",
    "    get_agstack_token,\n",
    "    register_fc_and_append_to_csv,\n",
    "    # add_geo_ids_to_csv_from_lookup_df,\n",
    "    add_geo_ids_to_csv_from_lookup_csv,\n",
    "    add_empty_column_to_csv,\n",
    "    remove_column_from_csv\n",
    ")\n",
    "\n",
    "# from modules.multiband_stats import get_stats,reformat_whisp_fc,get_stats_formatted\n",
    "\n",
    "from parameters.config_asr_url_info import asset_registry_base, user_registry_base\n",
    "\n",
    "from parameters.config_asr_credentials import email, password\n",
    "\n",
    "from modules.utils import (\n",
    "    collection_properties_to_df,\n",
    "    remove_geometry_from_feature_collection,\n",
    "    get_centroid\n",
    ")\n",
    "\n",
    "def whisp_stats_as_df (roi): \n",
    "    %store roi\n",
    "    %run process_whisp_stats.ipynb   \n",
    "    return df_out\n",
    "   "
   ]
  },
  {
   "cell_type": "markdown",
   "id": "94ee40cf-680f-4baf-92d4-6fed96d2ab9c",
   "metadata": {},
   "source": [
    "#### Set up asset registry"
   ]
  },
  {
   "cell_type": "code",
   "execution_count": 24,
   "id": "fcea483c-9b14-40f3-b049-2a9479e9d509",
   "metadata": {},
   "outputs": [
    {
     "data": {
      "text/html": [
       "\n",
       "            <style>\n",
       "                .geemap-dark {\n",
       "                    --jp-widgets-color: white;\n",
       "                    --jp-widgets-label-color: white;\n",
       "                    --jp-ui-font-color1: white;\n",
       "                    --jp-layout-color2: #454545;\n",
       "                    background-color: #383838;\n",
       "                }\n",
       "\n",
       "                .geemap-dark .jupyter-button {\n",
       "                    --jp-layout-color3: #383838;\n",
       "                }\n",
       "\n",
       "                .geemap-colab {\n",
       "                    background-color: var(--colab-primary-surface-color, white);\n",
       "                }\n",
       "\n",
       "                .geemap-colab .jupyter-button {\n",
       "                    --jp-layout-color3: var(--colab-primary-surface-color, white);\n",
       "                }\n",
       "            </style>\n",
       "            "
      ],
      "text/plain": [
       "<IPython.core.display.HTML object>"
      ]
     },
     "metadata": {},
     "output_type": "display_data"
    }
   ],
   "source": [
    "session = start_agstack_session(email,password,user_registry_base)\n",
    "\n",
    "token = get_agstack_token(email, password, asset_registry_base)"
   ]
  },
  {
   "cell_type": "markdown",
   "id": "7df79006-43ec-402a-9473-b2c17b1614ae",
   "metadata": {},
   "source": [
    "#### Inputs : without GEOIDS"
   ]
  },
  {
   "cell_type": "markdown",
   "id": "0793b6c2-0f6d-4dc4-9dd9-d8f6bb6d3743",
   "metadata": {},
   "source": [
    "GEE asset (feature collection) "
   ]
  },
  {
   "cell_type": "code",
   "execution_count": 25,
   "id": "354afea9-eb94-4fd9-9469-eddd3a3487d6",
   "metadata": {
    "editable": true,
    "scrolled": true,
    "slideshow": {
     "slide_type": ""
    },
    "tags": []
   },
   "outputs": [
    {
     "data": {
      "text/html": [
       "\n",
       "            <style>\n",
       "                .geemap-dark {\n",
       "                    --jp-widgets-color: white;\n",
       "                    --jp-widgets-label-color: white;\n",
       "                    --jp-ui-font-color1: white;\n",
       "                    --jp-layout-color2: #454545;\n",
       "                    background-color: #383838;\n",
       "                }\n",
       "\n",
       "                .geemap-dark .jupyter-button {\n",
       "                    --jp-layout-color3: #383838;\n",
       "                }\n",
       "\n",
       "                .geemap-colab {\n",
       "                    background-color: var(--colab-primary-surface-color, white);\n",
       "                }\n",
       "\n",
       "                .geemap-colab .jupyter-button {\n",
       "                    --jp-layout-color3: var(--colab-primary-surface-color, white);\n",
       "                }\n",
       "            </style>\n",
       "            "
      ],
      "text/plain": [
       "<IPython.core.display.HTML object>"
      ]
     },
     "metadata": {},
     "output_type": "display_data"
    }
   ],
   "source": [
    "example_plot_feature_col_asset = 'projects/ee-andyarnellgee/assets/p0004_commodity_mapper_support/seg_civ_PCBM'\n",
    "\n",
    "# Define the fraction of features you want to sample (e.g., 0.5 for 50%)\n",
    "sampleFraction = 1#0.0010"
   ]
  },
  {
   "cell_type": "code",
   "execution_count": 26,
   "id": "510d25ad-fb8c-4735-8953-87371dc415eb",
   "metadata": {
    "editable": true,
    "slideshow": {
     "slide_type": ""
    },
    "tags": []
   },
   "outputs": [
    {
     "data": {
      "text/html": [
       "\n",
       "            <style>\n",
       "                .geemap-dark {\n",
       "                    --jp-widgets-color: white;\n",
       "                    --jp-widgets-label-color: white;\n",
       "                    --jp-ui-font-color1: white;\n",
       "                    --jp-layout-color2: #454545;\n",
       "                    background-color: #383838;\n",
       "                }\n",
       "\n",
       "                .geemap-dark .jupyter-button {\n",
       "                    --jp-layout-color3: #383838;\n",
       "                }\n",
       "\n",
       "                .geemap-colab {\n",
       "                    background-color: var(--colab-primary-surface-color, white);\n",
       "                }\n",
       "\n",
       "                .geemap-colab .jupyter-button {\n",
       "                    --jp-layout-color3: var(--colab-primary-surface-color, white);\n",
       "                }\n",
       "            </style>\n",
       "            "
      ],
      "text/plain": [
       "<IPython.core.display.HTML object>"
      ]
     },
     "metadata": {},
     "output_type": "display_data"
    },
    {
     "name": "stdout",
     "output_type": "stream",
     "text": [
      "5412\n"
     ]
    }
   ],
   "source": [
    "fc = ee.FeatureCollection(example_plot_feature_col_asset)\n",
    "\n",
    "randomColumn = 'random'\n",
    "fc_r = fc.randomColumn(randomColumn,4)\n",
    "\n",
    "# Filter the feature collection based on the random column to get the sample\n",
    "fc_sample = fc_r.filter(ee.Filter.lt(randomColumn, sampleFraction));\n",
    "\n",
    "roi = fc_sample\n",
    "print(roi.size().getInfo())"
   ]
  },
  {
   "cell_type": "markdown",
   "id": "6ba90193-9bc2-4756-a839-f16c07284e04",
   "metadata": {},
   "source": [
    "### Whisp it\n",
    "- If over >500 polygons currently this will go to Google Drive and require manual uploading here\n",
    "- Stats sent to a separate notebook 'process_whisp_stats.pynb'"
   ]
  },
  {
   "cell_type": "code",
   "execution_count": 27,
   "id": "62b25f9f-6c78-424a-87ae-1025c5088884",
   "metadata": {
    "editable": true,
    "slideshow": {
     "slide_type": ""
    },
    "tags": []
   },
   "outputs": [
    {
     "data": {
      "text/html": [
       "\n",
       "            <style>\n",
       "                .geemap-dark {\n",
       "                    --jp-widgets-color: white;\n",
       "                    --jp-widgets-label-color: white;\n",
       "                    --jp-ui-font-color1: white;\n",
       "                    --jp-layout-color2: #454545;\n",
       "                    background-color: #383838;\n",
       "                }\n",
       "\n",
       "                .geemap-dark .jupyter-button {\n",
       "                    --jp-layout-color3: #383838;\n",
       "                }\n",
       "\n",
       "                .geemap-colab {\n",
       "                    background-color: var(--colab-primary-surface-color, white);\n",
       "                }\n",
       "\n",
       "                .geemap-colab .jupyter-button {\n",
       "                    --jp-layout-color3: var(--colab-primary-surface-color, white);\n",
       "                }\n",
       "            </style>\n",
       "            "
      ],
      "text/plain": [
       "<IPython.core.display.HTML object>"
      ]
     },
     "metadata": {},
     "output_type": "display_data"
    },
    {
     "name": "stdout",
     "output_type": "stream",
     "text": [
      "Stored 'roi' (FeatureCollection)\n",
      "Over size limit for on the fly processing. \n",
      " Attempting export to Google Drive 'Whisp_results/Whisp_output_table_export.csv' as a batch task... \n",
      "Task running. Check https://code.earthengine.google.com/tasks. You can manually upload to Sepal when complete\n"
     ]
    }
   ],
   "source": [
    "df = whisp_stats_as_df(roi)"
   ]
  },
  {
   "cell_type": "markdown",
   "id": "1b7b3539-f9dd-4dc4-84ac-4e043434ae27",
   "metadata": {},
   "source": [
    "### Display it\n"
   ]
  },
  {
   "cell_type": "code",
   "execution_count": null,
   "id": "e45cecd9-3bf0-40da-ad58-ec5a87a2d7be",
   "metadata": {},
   "outputs": [],
   "source": [
    "df"
   ]
  },
  {
   "cell_type": "markdown",
   "id": "3b0cec1c-3482-4fe6-b5ac-b60df4b2c4f6",
   "metadata": {},
   "source": [
    "#### Export it to CSV file\n",
    "NB skip if exporting to Google Drive"
   ]
  },
  {
   "cell_type": "code",
   "execution_count": null,
   "id": "fd56afe0-5480-4eb8-9a7b-e34feb54ae82",
   "metadata": {},
   "outputs": [],
   "source": [
    "#export output csv\n",
    "df.to_csv(path_or_buf=out_file_wide,header=True)\n",
    "\n",
    "print (\"output csv: \", out_file_wide)\n"
   ]
  },
  {
   "cell_type": "markdown",
   "id": "4d350f25-0dc4-4c1f-99ab-9dcde029ff97",
   "metadata": {},
   "source": [
    "#### Add Geo ids\n",
    "##### Step 1. Register polygons:  compiles geo_ids in a lookup csv\n",
    "- NB registration takes a long time if many polygons (a few seconds each one). AgStack will update this in future. \n",
    "- In the meantime to stop timeouts extend session length click dollar sign and edit under 'Sessions'.\n",
    "- If processing doesn't complete, rerun and it should pickup from where you got to."
   ]
  },
  {
   "cell_type": "code",
   "execution_count": null,
   "id": "5a8405b8-23a4-466e-b9be-0791c7b47935",
   "metadata": {},
   "outputs": [],
   "source": [
    "register_fc_and_append_to_csv(\n",
    "    feature_col=roi,\n",
    "    geo_id_column=\"Geo_id\",\n",
    "    output_lookup_csv=\"temp_geo_id_lookup.csv\",\n",
    "    join_id_column=\"system:index\",\n",
    "    token=token,\n",
    "    session=session,\n",
    "    asset_registry_base=asset_registry_base,\n",
    "    override_checks=False,\n",
    "    remove_temp_csv=False,\n",
    "    debug=True)\n"
   ]
  },
  {
   "cell_type": "markdown",
   "id": "23f6c36d-3e62-4e95-9976-11e98215ee4e",
   "metadata": {},
   "source": [
    "##### Step 2. Join geo ids from lookup csv to Whisp stats csv"
   ]
  },
  {
   "cell_type": "code",
   "execution_count": null,
   "id": "4e5018ba-bf5d-41e3-9860-fb52c4c8c2d1",
   "metadata": {},
   "outputs": [],
   "source": [
    "add_geo_ids_to_csv_from_lookup_csv(\n",
    "        input_csv=\"whisp_output_table.csv\",\n",
    "        geo_id_lookup_csv=\"temp_geo_id_lookup.csv\",\n",
    "        join_id_column=\"system:index\",\n",
    "        geo_id_column=geo_id_column,\n",
    "        # override_checks=False, # needs implementing\n",
    "        overwrite=False,\n",
    "        drop_geo=False,\n",
    "        debug=True)"
   ]
  },
  {
   "cell_type": "markdown",
   "id": "d3135797-0ac3-4b67-9584-f395436601bc",
   "metadata": {},
   "source": [
    "##### Optional: remove \"system:index\" column \n",
    "NB this is needed for joining geo_ids to csv (from lookup table). Check you have all your geo_ids first and if in doubt run on a copy of the results\n"
   ]
  },
  {
   "cell_type": "code",
   "execution_count": null,
   "id": "069233ff-db06-4d09-b423-4f7d83630013",
   "metadata": {},
   "outputs": [],
   "source": [
    "remove_column_from_csv(\n",
    "    csv_file=\"copy_whisp_output_table.csv\", # this may change depending on if overwrite is on\n",
    "    column_name=\"system:index\"\n",
    ")"
   ]
  },
  {
   "cell_type": "markdown",
   "id": "d316438e-3ff5-4cc1-ba0a-442506e30cf0",
   "metadata": {},
   "source": [
    "#### TO DO: \n",
    "    - column order not kept if batch task sent to drive; \n",
    "    - fool proof the join to csv (as with the join to fc version, so you know how many were joined etc) etc; \n",
    "    - possibly: better checks for lookup creation - check system ids match and prompt to remove old lookup if so\n",
    "    - possibly: make lookup creation output stay on one line; get system_index printed so can see where errors happen\n",
    "    - error log for the lookup creation (currently have to check for empty rows)\n",
    "    "
   ]
  },
  {
   "cell_type": "code",
   "execution_count": null,
   "id": "db38f75d-425e-43cb-9baf-7bd50e29bbf4",
   "metadata": {},
   "outputs": [],
   "source": []
  }
 ],
 "metadata": {
  "kernelspec": {
   "display_name": "Python 3",
   "language": "python",
   "name": "python3"
  },
  "language_info": {
   "codemirror_mode": {
    "name": "ipython",
    "version": 3
   },
   "file_extension": ".py",
   "mimetype": "text/x-python",
   "name": "python",
   "nbconvert_exporter": "python",
   "pygments_lexer": "ipython3",
   "version": "3.10.12"
  }
 },
 "nbformat": 4,
 "nbformat_minor": 5
}
