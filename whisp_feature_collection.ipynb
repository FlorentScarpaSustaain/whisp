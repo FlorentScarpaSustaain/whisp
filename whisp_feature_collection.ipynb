{
 "cells": [
  {
   "cell_type": "markdown",
   "id": "bfe423cf-8bd5-4727-8899-283ab6004221",
   "metadata": {},
   "source": [
    "#### Imports/setup"
   ]
  },
  {
   "cell_type": "code",
   "execution_count": 1,
   "id": "8c696e8e-cf8b-4aa0-80e9-fc3a9f87a42b",
   "metadata": {
    "editable": true,
    "scrolled": true,
    "slideshow": {
     "slide_type": ""
    },
    "tags": []
   },
   "outputs": [],
   "source": [
    "from parameters.config_imports import *"
   ]
  },
  {
   "cell_type": "code",
   "execution_count": 2,
   "id": "a17cf082-5819-4526-b888-1e4fce46bc7e",
   "metadata": {},
   "outputs": [
    {
     "data": {
      "text/html": [
       "\n",
       "            <style>\n",
       "                .geemap-dark {\n",
       "                    --jp-widgets-color: white;\n",
       "                    --jp-widgets-label-color: white;\n",
       "                    --jp-ui-font-color1: white;\n",
       "                    --jp-layout-color2: #454545;\n",
       "                    background-color: #383838;\n",
       "                }\n",
       "\n",
       "                .geemap-dark .jupyter-button {\n",
       "                    --jp-layout-color3: #383838;\n",
       "                }\n",
       "\n",
       "                .geemap-colab {\n",
       "                    background-color: var(--colab-primary-surface-color, white);\n",
       "                }\n",
       "\n",
       "                .geemap-colab .jupyter-button {\n",
       "                    --jp-layout-color3: var(--colab-primary-surface-color, white);\n",
       "                }\n",
       "            </style>\n",
       "            "
      ],
      "text/plain": [
       "<IPython.core.display.HTML object>"
      ]
     },
     "metadata": {},
     "output_type": "display_data"
    }
   ],
   "source": [
    "def whisp_stats_as_df (roi): \n",
    "    %store roi\n",
    "    %run process_whisp_stats.ipynb   \n",
    "    return df_out"
   ]
  },
  {
   "cell_type": "markdown",
   "id": "7df79006-43ec-402a-9473-b2c17b1614ae",
   "metadata": {},
   "source": [
    "#### Inputs : feature collection (without Geo IDs)"
   ]
  },
  {
   "cell_type": "markdown",
   "id": "c34816bf-0c3e-4210-8d41-dbc28efa72ea",
   "metadata": {},
   "source": [
    "From asset"
   ]
  },
  {
   "cell_type": "code",
   "execution_count": 3,
   "id": "354afea9-eb94-4fd9-9469-eddd3a3487d6",
   "metadata": {
    "editable": true,
    "scrolled": true,
    "slideshow": {
     "slide_type": ""
    },
    "tags": []
   },
   "outputs": [
    {
     "data": {
      "text/html": [
       "\n",
       "            <style>\n",
       "                .geemap-dark {\n",
       "                    --jp-widgets-color: white;\n",
       "                    --jp-widgets-label-color: white;\n",
       "                    --jp-ui-font-color1: white;\n",
       "                    --jp-layout-color2: #454545;\n",
       "                    background-color: #383838;\n",
       "                }\n",
       "\n",
       "                .geemap-dark .jupyter-button {\n",
       "                    --jp-layout-color3: #383838;\n",
       "                }\n",
       "\n",
       "                .geemap-colab {\n",
       "                    background-color: var(--colab-primary-surface-color, white);\n",
       "                }\n",
       "\n",
       "                .geemap-colab .jupyter-button {\n",
       "                    --jp-layout-color3: var(--colab-primary-surface-color, white);\n",
       "                }\n",
       "            </style>\n",
       "            "
      ],
      "text/plain": [
       "<IPython.core.display.HTML object>"
      ]
     },
     "metadata": {},
     "output_type": "display_data"
    }
   ],
   "source": [
    "asset_name = \"example_asset\"\n",
    "\n",
    "feature_collection_asset_id = f\"projects/{gee_cloud_project}/assets/{asset_name}\""
   ]
  },
  {
   "cell_type": "code",
   "execution_count": 4,
   "id": "510d25ad-fb8c-4735-8953-87371dc415eb",
   "metadata": {
    "editable": true,
    "slideshow": {
     "slide_type": ""
    },
    "tags": []
   },
   "outputs": [
    {
     "data": {
      "text/html": [
       "\n",
       "            <style>\n",
       "                .geemap-dark {\n",
       "                    --jp-widgets-color: white;\n",
       "                    --jp-widgets-label-color: white;\n",
       "                    --jp-ui-font-color1: white;\n",
       "                    --jp-layout-color2: #454545;\n",
       "                    background-color: #383838;\n",
       "                }\n",
       "\n",
       "                .geemap-dark .jupyter-button {\n",
       "                    --jp-layout-color3: #383838;\n",
       "                }\n",
       "\n",
       "                .geemap-colab {\n",
       "                    background-color: var(--colab-primary-surface-color, white);\n",
       "                }\n",
       "\n",
       "                .geemap-colab .jupyter-button {\n",
       "                    --jp-layout-color3: var(--colab-primary-surface-color, white);\n",
       "                }\n",
       "            </style>\n",
       "            "
      ],
      "text/plain": [
       "<IPython.core.display.HTML object>"
      ]
     },
     "metadata": {},
     "output_type": "display_data"
    }
   ],
   "source": [
    "roi_asset = ee.FeatureCollection(feature_collection_asset_id)"
   ]
  },
  {
   "cell_type": "markdown",
   "id": "8e4cc912-35dd-4333-a3c5-a0144a1b35f5",
   "metadata": {},
   "source": [
    "From Geojson"
   ]
  },
  {
   "cell_type": "code",
   "execution_count": 5,
   "id": "dde68e13-4455-4155-a92a-fde29505f7f7",
   "metadata": {},
   "outputs": [
    {
     "data": {
      "text/html": [
       "\n",
       "            <style>\n",
       "                .geemap-dark {\n",
       "                    --jp-widgets-color: white;\n",
       "                    --jp-widgets-label-color: white;\n",
       "                    --jp-ui-font-color1: white;\n",
       "                    --jp-layout-color2: #454545;\n",
       "                    background-color: #383838;\n",
       "                }\n",
       "\n",
       "                .geemap-dark .jupyter-button {\n",
       "                    --jp-layout-color3: #383838;\n",
       "                }\n",
       "\n",
       "                .geemap-colab {\n",
       "                    background-color: var(--colab-primary-surface-color, white);\n",
       "                }\n",
       "\n",
       "                .geemap-colab .jupyter-button {\n",
       "                    --jp-layout-color3: var(--colab-primary-surface-color, white);\n",
       "                }\n",
       "            </style>\n",
       "            "
      ],
      "text/plain": [
       "<IPython.core.display.HTML object>"
      ]
     },
     "metadata": {},
     "output_type": "display_data"
    }
   ],
   "source": [
    "file_path_geojson = \"input_examples/example_geojson.geojson\"\n",
    "\n",
    "roi_geojson = geojson_to_ee(file_path_geojson)"
   ]
  },
  {
   "cell_type": "markdown",
   "id": "3fedf4f5-d4ee-4bf3-a028-cdc3f0817dcb",
   "metadata": {},
   "source": [
    "Choose input"
   ]
  },
  {
   "cell_type": "code",
   "execution_count": 6,
   "id": "8a4b9f25-5adf-474e-9d6f-0688f19892f5",
   "metadata": {},
   "outputs": [
    {
     "data": {
      "text/html": [
       "\n",
       "            <style>\n",
       "                .geemap-dark {\n",
       "                    --jp-widgets-color: white;\n",
       "                    --jp-widgets-label-color: white;\n",
       "                    --jp-ui-font-color1: white;\n",
       "                    --jp-layout-color2: #454545;\n",
       "                    background-color: #383838;\n",
       "                }\n",
       "\n",
       "                .geemap-dark .jupyter-button {\n",
       "                    --jp-layout-color3: #383838;\n",
       "                }\n",
       "\n",
       "                .geemap-colab {\n",
       "                    background-color: var(--colab-primary-surface-color, white);\n",
       "                }\n",
       "\n",
       "                .geemap-colab .jupyter-button {\n",
       "                    --jp-layout-color3: var(--colab-primary-surface-color, white);\n",
       "                }\n",
       "            </style>\n",
       "            "
      ],
      "text/plain": [
       "<IPython.core.display.HTML object>"
      ]
     },
     "metadata": {},
     "output_type": "display_data"
    },
    {
     "data": {
      "text/html": [
       "<div><style>:root {\n",
       "  --font-color-primary: var(--jp-content-font-color0, rgba(0, 0, 0, 1));\n",
       "  --font-color-secondary: var(--jp-content-font-color2, rgba(0, 0, 0, 0.6));\n",
       "  --font-color-accent: rgba(123, 31, 162, 1);\n",
       "  --border-color: var(--jp-border-color2, #e0e0e0);\n",
       "  --background-color: var(--jp-layout-color0, white);\n",
       "  --background-color-row-even: var(--jp-layout-color1, white);\n",
       "  --background-color-row-odd: var(--jp-layout-color2, #eeeeee);\n",
       "}\n",
       "\n",
       "html[theme=\"dark\"],\n",
       "body[data-theme=\"dark\"],\n",
       "body.vscode-dark {\n",
       "  --font-color-primary: rgba(255, 255, 255, 1);\n",
       "  --font-color-secondary: rgba(255, 255, 255, 0.6);\n",
       "  --font-color-accent: rgb(173, 132, 190);\n",
       "  --border-color: #2e2e2e;\n",
       "  --background-color: #111111;\n",
       "  --background-color-row-even: #111111;\n",
       "  --background-color-row-odd: #313131;\n",
       "}\n",
       "\n",
       ".ee {\n",
       "  padding: 1em;\n",
       "  line-height: 1.5em;\n",
       "  min-width: 300px;\n",
       "  max-width: 1200px;\n",
       "  overflow-y: scroll;\n",
       "  max-height: 600px;\n",
       "  border: 1px solid var(--border-color);\n",
       "  font-family: monospace;\n",
       "}\n",
       "\n",
       ".ee li {\n",
       "  list-style-type: none;\n",
       "}\n",
       "\n",
       ".ee ul {\n",
       "  padding-left: 1.5em !important;\n",
       "  margin: 0;\n",
       "}\n",
       "\n",
       ".ee > ul {\n",
       "  padding-left: 0 !important;\n",
       "}\n",
       "\n",
       ".ee-open,\n",
       ".ee-shut {\n",
       "  color: var(--font-color-secondary);\n",
       "  cursor: pointer;\n",
       "  margin: 0;\n",
       "}\n",
       "\n",
       ".ee-open:hover,\n",
       ".ee-shut:hover {\n",
       "  color: var(--font-color-primary);\n",
       "}\n",
       "\n",
       ".ee-k {\n",
       "  color: var(--font-color-accent);\n",
       "  margin-right: 6px;\n",
       "}\n",
       "\n",
       ".ee-v {\n",
       "  color: var(--font-color-primary);\n",
       "}\n",
       "\n",
       ".ee-toggle {\n",
       "  display: none;\n",
       "}\n",
       "\n",
       ".ee-shut + ul {\n",
       "  display: none;\n",
       "}\n",
       "\n",
       ".ee-open + ul {\n",
       "  display: block;\n",
       "}\n",
       "\n",
       ".ee-shut::before {\n",
       "  display: inline-block;\n",
       "  content: \"▼\";\n",
       "  margin-right: 6px;\n",
       "  transform: rotate(-90deg);\n",
       "  transition: transform 0.2s;\n",
       "}\n",
       "\n",
       ".ee-open::before {\n",
       "  transform: rotate(0deg);\n",
       "  display: inline-block;\n",
       "  content: \"▼\";\n",
       "  margin-right: 6px;\n",
       "  transition: transform 0.2s;\n",
       "}\n",
       "</style><div class='ee'><ul><li><label class='ee-shut'>FeatureCollection (6 elements, 2 columns)<input type='checkbox' class='ee-toggle'></label><ul><li><span class='ee-k'>type:</span><span class='ee-v'>FeatureCollection</span></li><li><label class='ee-shut'>columns: Object (2 properties)<input type='checkbox' class='ee-toggle'></label><ul><li><span class='ee-k'>FID:</span><span class='ee-v'>Integer</span></li><li><span class='ee-k'>system:index:</span><span class='ee-v'>String</span></li></ul></li><li><label class='ee-shut'>features: List (6 elements)<input type='checkbox' class='ee-toggle'></label><ul><li><label class='ee-shut'>0: Feature (Polygon, 1 property)<input type='checkbox' class='ee-toggle'></label><ul><li><span class='ee-k'>type:</span><span class='ee-v'>Feature</span></li><li><span class='ee-k'>id:</span><span class='ee-v'>0</span></li><li><label class='ee-shut'>geometry: Polygon (9 vertices)<input type='checkbox' class='ee-toggle'></label><ul><li><span class='ee-k'>type:</span><span class='ee-v'>Polygon</span></li><li><label class='ee-shut'>coordinates: List (1 element)<input type='checkbox' class='ee-toggle'></label><ul><li><label class='ee-shut'>0: List (9 elements)<input type='checkbox' class='ee-toggle'></label><ul><li><label class='ee-shut'>0: [-1.612173914909363, 6.160144879904404]<input type='checkbox' class='ee-toggle'></label><ul><li><span class='ee-k'>0:</span><span class='ee-v'>-1.612173914909363</span></li><li><span class='ee-k'>1:</span><span class='ee-v'>6.160144879904404</span></li></ul></li><li><label class='ee-shut'>1: [-1.6117393970489502, 6.160299549730771]<input type='checkbox' class='ee-toggle'></label><ul><li><span class='ee-k'>0:</span><span class='ee-v'>-1.6117393970489502</span></li><li><span class='ee-k'>1:</span><span class='ee-v'>6.160299549730771</span></li></ul></li><li><label class='ee-shut'>2: [-1.611224412918091, 6.160011543811027]<input type='checkbox' class='ee-toggle'></label><ul><li><span class='ee-k'>0:</span><span class='ee-v'>-1.611224412918091</span></li><li><span class='ee-k'>1:</span><span class='ee-v'>6.160011543811027</span></li></ul></li><li><label class='ee-shut'>3: [-1.6111814975738528, 6.159483532552345]<input type='checkbox' class='ee-toggle'></label><ul><li><span class='ee-k'>0:</span><span class='ee-v'>-1.6111814975738528</span></li><li><span class='ee-k'>1:</span><span class='ee-v'>6.159483532552345</span></li></ul></li><li><label class='ee-shut'>4: [-1.611771583557129, 6.158838184745289]<input type='checkbox' class='ee-toggle'></label><ul><li><span class='ee-k'>0:</span><span class='ee-v'>-1.611771583557129</span></li><li><span class='ee-k'>1:</span><span class='ee-v'>6.158838184745289</span></li></ul></li><li><label class='ee-shut'>5: [-1.6120773553848267, 6.158870185481485]<input type='checkbox' class='ee-toggle'></label><ul><li><span class='ee-k'>0:</span><span class='ee-v'>-1.6120773553848267</span></li><li><span class='ee-k'>1:</span><span class='ee-v'>6.158870185481485</span></li></ul></li><li><label class='ee-shut'>6: [-1.6128337383270266, 6.15914219166122]<input type='checkbox' class='ee-toggle'></label><ul><li><span class='ee-k'>0:</span><span class='ee-v'>-1.6128337383270266</span></li><li><span class='ee-k'>1:</span><span class='ee-v'>6.15914219166122</span></li></ul></li><li><label class='ee-shut'>7: [-1.6128122806549074, 6.159344862841789]<input type='checkbox' class='ee-toggle'></label><ul><li><span class='ee-k'>0:</span><span class='ee-v'>-1.6128122806549074</span></li><li><span class='ee-k'>1:</span><span class='ee-v'>6.159344862841789</span></li></ul></li><li><label class='ee-shut'>8: [-1.612173914909363, 6.160144879904404]<input type='checkbox' class='ee-toggle'></label><ul><li><span class='ee-k'>0:</span><span class='ee-v'>-1.612173914909363</span></li><li><span class='ee-k'>1:</span><span class='ee-v'>6.160144879904404</span></li></ul></li></ul></li></ul></li><li><span class='ee-k'>geodesic:</span><span class='ee-v'>False</span></li></ul></li><li><label class='ee-shut'>properties: Object (1 property)<input type='checkbox' class='ee-toggle'></label><ul><li><span class='ee-k'>FID:</span><span class='ee-v'>0</span></li></ul></li></ul></li><li><label class='ee-shut'>1: Feature (Polygon, 1 property)<input type='checkbox' class='ee-toggle'></label><ul><li><span class='ee-k'>type:</span><span class='ee-v'>Feature</span></li><li><span class='ee-k'>id:</span><span class='ee-v'>1</span></li><li><label class='ee-shut'>geometry: Polygon (5 vertices)<input type='checkbox' class='ee-toggle'></label><ul><li><span class='ee-k'>type:</span><span class='ee-v'>Polygon</span></li><li><label class='ee-shut'>coordinates: List (1 element)<input type='checkbox' class='ee-toggle'></label><ul><li><label class='ee-shut'>0: List (5 elements)<input type='checkbox' class='ee-toggle'></label><ul><li><label class='ee-shut'>0: [-2.1590334177017216, 5.982474450994902]<input type='checkbox' class='ee-toggle'></label><ul><li><span class='ee-k'>0:</span><span class='ee-v'>-2.1590334177017216</span></li><li><span class='ee-k'>1:</span><span class='ee-v'>5.982474450994902</span></li></ul></li><li><label class='ee-shut'>1: [-2.1543878316879277, 5.983029311768519]<input type='checkbox' class='ee-toggle'></label><ul><li><span class='ee-k'>0:</span><span class='ee-v'>-2.1543878316879277</span></li><li><span class='ee-k'>1:</span><span class='ee-v'>5.983029311768519</span></li></ul></li><li><label class='ee-shut'>2: [-2.1557182073593144, 5.979641451153504]<input type='checkbox' class='ee-toggle'></label><ul><li><span class='ee-k'>0:</span><span class='ee-v'>-2.1557182073593144</span></li><li><span class='ee-k'>1:</span><span class='ee-v'>5.979641451153504</span></li></ul></li><li><label class='ee-shut'>3: [-2.1595162153244023, 5.979230638282154]<input type='checkbox' class='ee-toggle'></label><ul><li><span class='ee-k'>0:</span><span class='ee-v'>-2.1595162153244023</span></li><li><span class='ee-k'>1:</span><span class='ee-v'>5.979230638282154</span></li></ul></li><li><label class='ee-shut'>4: [-2.1590334177017216, 5.982474450994902]<input type='checkbox' class='ee-toggle'></label><ul><li><span class='ee-k'>0:</span><span class='ee-v'>-2.1590334177017216</span></li><li><span class='ee-k'>1:</span><span class='ee-v'>5.982474450994902</span></li></ul></li></ul></li></ul></li><li><span class='ee-k'>geodesic:</span><span class='ee-v'>False</span></li></ul></li><li><label class='ee-shut'>properties: Object (1 property)<input type='checkbox' class='ee-toggle'></label><ul><li><span class='ee-k'>FID:</span><span class='ee-v'>1</span></li></ul></li></ul></li><li><label class='ee-shut'>2: Feature (Polygon, 1 property)<input type='checkbox' class='ee-toggle'></label><ul><li><span class='ee-k'>type:</span><span class='ee-v'>Feature</span></li><li><span class='ee-k'>id:</span><span class='ee-v'>2</span></li><li><label class='ee-shut'>geometry: Polygon (5 vertices)<input type='checkbox' class='ee-toggle'></label><ul><li><span class='ee-k'>type:</span><span class='ee-v'>Polygon</span></li><li><label class='ee-shut'>coordinates: List (1 element)<input type='checkbox' class='ee-toggle'></label><ul><li><label class='ee-shut'>0: List (5 elements)<input type='checkbox' class='ee-toggle'></label><ul><li><label class='ee-shut'>0: [103.95149946212769, -3.0533323564142636]<input type='checkbox' class='ee-toggle'></label><ul><li><span class='ee-k'>0:</span><span class='ee-v'>103.95149946212769</span></li><li><span class='ee-k'>1:</span><span class='ee-v'>-3.0533323564142636</span></li></ul></li><li><label class='ee-shut'>1: [103.96061897277832, -3.053225220356327]<input type='checkbox' class='ee-toggle'></label><ul><li><span class='ee-k'>0:</span><span class='ee-v'>103.96061897277832</span></li><li><span class='ee-k'>1:</span><span class='ee-v'>-3.053225220356327</span></li></ul></li><li><label class='ee-shut'>2: [103.96061897277832, -3.0560964630135694]<input type='checkbox' class='ee-toggle'></label><ul><li><span class='ee-k'>0:</span><span class='ee-v'>103.96061897277832</span></li><li><span class='ee-k'>1:</span><span class='ee-v'>-3.0560964630135694</span></li></ul></li><li><label class='ee-shut'>3: [103.95143508911134, -3.056010754388729]<input type='checkbox' class='ee-toggle'></label><ul><li><span class='ee-k'>0:</span><span class='ee-v'>103.95143508911134</span></li><li><span class='ee-k'>1:</span><span class='ee-v'>-3.056010754388729</span></li></ul></li><li><label class='ee-shut'>4: [103.95149946212769, -3.0533323564142636]<input type='checkbox' class='ee-toggle'></label><ul><li><span class='ee-k'>0:</span><span class='ee-v'>103.95149946212769</span></li><li><span class='ee-k'>1:</span><span class='ee-v'>-3.0533323564142636</span></li></ul></li></ul></li></ul></li><li><span class='ee-k'>geodesic:</span><span class='ee-v'>False</span></li></ul></li><li><label class='ee-shut'>properties: Object (1 property)<input type='checkbox' class='ee-toggle'></label><ul><li><span class='ee-k'>FID:</span><span class='ee-v'>2</span></li></ul></li></ul></li><li><label class='ee-shut'>3: Feature (Polygon, 1 property)<input type='checkbox' class='ee-toggle'></label><ul><li><span class='ee-k'>type:</span><span class='ee-v'>Feature</span></li><li><span class='ee-k'>id:</span><span class='ee-v'>3</span></li><li><label class='ee-shut'>geometry: Polygon (7 vertices)<input type='checkbox' class='ee-toggle'></label><ul><li><span class='ee-k'>type:</span><span class='ee-v'>Polygon</span></li><li><label class='ee-shut'>coordinates: List (1 element)<input type='checkbox' class='ee-toggle'></label><ul><li><label class='ee-shut'>0: List (7 elements)<input type='checkbox' class='ee-toggle'></label><ul><li><label class='ee-shut'>0: [103.97641181945802, -3.0864583112240953]<input type='checkbox' class='ee-toggle'></label><ul><li><span class='ee-k'>0:</span><span class='ee-v'>103.97641181945802</span></li><li><span class='ee-k'>1:</span><span class='ee-v'>-3.0864583112240953</span></li></ul></li><li><label class='ee-shut'>1: [103.97499561309816, -3.0827515122805553]<input type='checkbox' class='ee-toggle'></label><ul><li><span class='ee-k'>0:</span><span class='ee-v'>103.97499561309816</span></li><li><span class='ee-k'>1:</span><span class='ee-v'>-3.0827515122805553</span></li></ul></li><li><label class='ee-shut'>2: [103.97789239883424, -3.0810159545777953]<input type='checkbox' class='ee-toggle'></label><ul><li><span class='ee-k'>0:</span><span class='ee-v'>103.97789239883424</span></li><li><span class='ee-k'>1:</span><span class='ee-v'>-3.0810159545777953</span></li></ul></li><li><label class='ee-shut'>3: [103.97937297821046, -3.0825158194253044]<input type='checkbox' class='ee-toggle'></label><ul><li><span class='ee-k'>0:</span><span class='ee-v'>103.97937297821046</span></li><li><span class='ee-k'>1:</span><span class='ee-v'>-3.0825158194253044</span></li></ul></li><li><label class='ee-shut'>4: [103.97993087768556, -3.0848298924705997]<input type='checkbox' class='ee-toggle'></label><ul><li><span class='ee-k'>0:</span><span class='ee-v'>103.97993087768556</span></li><li><span class='ee-k'>1:</span><span class='ee-v'>-3.0848298924705997</span></li></ul></li><li><label class='ee-shut'>5: [103.97767782211304, -3.086286898841223]<input type='checkbox' class='ee-toggle'></label><ul><li><span class='ee-k'>0:</span><span class='ee-v'>103.97767782211304</span></li><li><span class='ee-k'>1:</span><span class='ee-v'>-3.086286898841223</span></li></ul></li><li><label class='ee-shut'>6: [103.97641181945802, -3.0864583112240953]<input type='checkbox' class='ee-toggle'></label><ul><li><span class='ee-k'>0:</span><span class='ee-v'>103.97641181945802</span></li><li><span class='ee-k'>1:</span><span class='ee-v'>-3.0864583112240953</span></li></ul></li></ul></li></ul></li><li><span class='ee-k'>geodesic:</span><span class='ee-v'>False</span></li></ul></li><li><label class='ee-shut'>properties: Object (1 property)<input type='checkbox' class='ee-toggle'></label><ul><li><span class='ee-k'>FID:</span><span class='ee-v'>3</span></li></ul></li></ul></li><li><label class='ee-shut'>4: Feature (Polygon, 1 property)<input type='checkbox' class='ee-toggle'></label><ul><li><span class='ee-k'>type:</span><span class='ee-v'>Feature</span></li><li><span class='ee-k'>id:</span><span class='ee-v'>4</span></li><li><label class='ee-shut'>geometry: Polygon (9 vertices)<input type='checkbox' class='ee-toggle'></label><ul><li><span class='ee-k'>type:</span><span class='ee-v'>Polygon</span></li><li><label class='ee-shut'>coordinates: List (1 element)<input type='checkbox' class='ee-toggle'></label><ul><li><label class='ee-shut'>0: List (9 elements)<input type='checkbox' class='ee-toggle'></label><ul><li><label class='ee-shut'>0: [-4.102889299392701, 5.713707261060872]<input type='checkbox' class='ee-toggle'></label><ul><li><span class='ee-k'>0:</span><span class='ee-v'>-4.102889299392701</span></li><li><span class='ee-k'>1:</span><span class='ee-v'>5.713707261060872</span></li></ul></li><li><label class='ee-shut'>1: [-4.101483821868897, 5.713525776973704]<input type='checkbox' class='ee-toggle'></label><ul><li><span class='ee-k'>0:</span><span class='ee-v'>-4.101483821868897</span></li><li><span class='ee-k'>1:</span><span class='ee-v'>5.713525776973704</span></li></ul></li><li><label class='ee-shut'>2: [-4.100528955459596, 5.712810515599572]<input type='checkbox' class='ee-toggle'></label><ul><li><span class='ee-k'>0:</span><span class='ee-v'>-4.100528955459596</span></li><li><span class='ee-k'>1:</span><span class='ee-v'>5.712810515599572</span></li></ul></li><li><label class='ee-shut'>3: [-4.100368022918702, 5.711657555086256]<input type='checkbox' class='ee-toggle'></label><ul><li><span class='ee-k'>0:</span><span class='ee-v'>-4.100368022918702</span></li><li><span class='ee-k'>1:</span><span class='ee-v'>5.711657555086256</span></li></ul></li><li><label class='ee-shut'>4: [-4.100604057312013, 5.710344458341974]<input type='checkbox' class='ee-toggle'></label><ul><li><span class='ee-k'>0:</span><span class='ee-v'>-4.100604057312013</span></li><li><span class='ee-k'>1:</span><span class='ee-v'>5.710344458341974</span></li></ul></li><li><label class='ee-shut'>5: [-4.101086854934693, 5.710664726118069]<input type='checkbox' class='ee-toggle'></label><ul><li><span class='ee-k'>0:</span><span class='ee-v'>-4.101086854934693</span></li><li><span class='ee-k'>1:</span><span class='ee-v'>5.710664726118069</span></li></ul></li><li><label class='ee-shut'>6: [-4.101483821868897, 5.710205675583411]<input type='checkbox' class='ee-toggle'></label><ul><li><span class='ee-k'>0:</span><span class='ee-v'>-4.101483821868897</span></li><li><span class='ee-k'>1:</span><span class='ee-v'>5.710205675583411</span></li></ul></li><li><label class='ee-shut'>7: [-4.102438688278199, 5.710173648788193]<input type='checkbox' class='ee-toggle'></label><ul><li><span class='ee-k'>0:</span><span class='ee-v'>-4.102438688278199</span></li><li><span class='ee-k'>1:</span><span class='ee-v'>5.710173648788193</span></li></ul></li><li><label class='ee-shut'>8: [-4.102889299392701, 5.713707261060872]<input type='checkbox' class='ee-toggle'></label><ul><li><span class='ee-k'>0:</span><span class='ee-v'>-4.102889299392701</span></li><li><span class='ee-k'>1:</span><span class='ee-v'>5.713707261060872</span></li></ul></li></ul></li></ul></li><li><span class='ee-k'>geodesic:</span><span class='ee-v'>False</span></li></ul></li><li><label class='ee-shut'>properties: Object (1 property)<input type='checkbox' class='ee-toggle'></label><ul><li><span class='ee-k'>FID:</span><span class='ee-v'>4</span></li></ul></li></ul></li><li><label class='ee-shut'>5: Feature (Polygon, 1 property)<input type='checkbox' class='ee-toggle'></label><ul><li><span class='ee-k'>type:</span><span class='ee-v'>Feature</span></li><li><span class='ee-k'>id:</span><span class='ee-v'>5</span></li><li><label class='ee-shut'>geometry: Polygon (5 vertices)<input type='checkbox' class='ee-toggle'></label><ul><li><span class='ee-k'>type:</span><span class='ee-v'>Polygon</span></li><li><label class='ee-shut'>coordinates: List (1 element)<input type='checkbox' class='ee-toggle'></label><ul><li><label class='ee-shut'>0: List (5 elements)<input type='checkbox' class='ee-toggle'></label><ul><li><label class='ee-shut'>0: [-7.5078946352005005, 6.07248787441419]<input type='checkbox' class='ee-toggle'></label><ul><li><span class='ee-k'>0:</span><span class='ee-v'>-7.5078946352005005</span></li><li><span class='ee-k'>1:</span><span class='ee-v'>6.07248787441419</span></li></ul></li><li><label class='ee-shut'>1: [-7.506564259529114, 6.072546551903519]<input type='checkbox' class='ee-toggle'></label><ul><li><span class='ee-k'>0:</span><span class='ee-v'>-7.506564259529114</span></li><li><span class='ee-k'>1:</span><span class='ee-v'>6.072546551903519</span></li></ul></li><li><label class='ee-shut'>2: [-7.506065368652345, 6.070471498624001]<input type='checkbox' class='ee-toggle'></label><ul><li><span class='ee-k'>0:</span><span class='ee-v'>-7.506065368652345</span></li><li><span class='ee-k'>1:</span><span class='ee-v'>6.070471498624001</span></li></ul></li><li><label class='ee-shut'>3: [-7.507594227790833, 6.070455495611355]<input type='checkbox' class='ee-toggle'></label><ul><li><span class='ee-k'>0:</span><span class='ee-v'>-7.507594227790833</span></li><li><span class='ee-k'>1:</span><span class='ee-v'>6.070455495611355</span></li></ul></li><li><label class='ee-shut'>4: [-7.5078946352005005, 6.07248787441419]<input type='checkbox' class='ee-toggle'></label><ul><li><span class='ee-k'>0:</span><span class='ee-v'>-7.5078946352005005</span></li><li><span class='ee-k'>1:</span><span class='ee-v'>6.07248787441419</span></li></ul></li></ul></li></ul></li><li><span class='ee-k'>geodesic:</span><span class='ee-v'>False</span></li></ul></li><li><label class='ee-shut'>properties: Object (1 property)<input type='checkbox' class='ee-toggle'></label><ul><li><span class='ee-k'>FID:</span><span class='ee-v'>5</span></li></ul></li></ul></li></ul></li></ul></li></ul></div><script>function toggleHeader() {\n",
       "    const parent = this.parentElement;\n",
       "    parent.className = parent.className === \"ee-open\" ? \"ee-shut\" : \"ee-open\";\n",
       "}\n",
       "\n",
       "for (let c of document.getElementsByClassName(\"ee-toggle\")) {\n",
       "    c.onclick = toggleHeader;\n",
       "}</script></div>"
      ],
      "text/plain": [
       "<ee.featurecollection.FeatureCollection at 0x7fe501c044c0>"
      ]
     },
     "execution_count": 6,
     "metadata": {},
     "output_type": "execute_result"
    }
   ],
   "source": [
    "# comment out one to select input\n",
    "# roi = roi_asset\n",
    "roi = roi_geojson\n",
    "roi\n"
   ]
  },
  {
   "cell_type": "code",
   "execution_count": 7,
   "id": "26dee004-b049-489a-bfea-2d1d62452176",
   "metadata": {},
   "outputs": [
    {
     "data": {
      "text/html": [
       "\n",
       "            <style>\n",
       "                .geemap-dark {\n",
       "                    --jp-widgets-color: white;\n",
       "                    --jp-widgets-label-color: white;\n",
       "                    --jp-ui-font-color1: white;\n",
       "                    --jp-layout-color2: #454545;\n",
       "                    background-color: #383838;\n",
       "                }\n",
       "\n",
       "                .geemap-dark .jupyter-button {\n",
       "                    --jp-layout-color3: #383838;\n",
       "                }\n",
       "\n",
       "                .geemap-colab {\n",
       "                    background-color: var(--colab-primary-surface-color, white);\n",
       "                }\n",
       "\n",
       "                .geemap-colab .jupyter-button {\n",
       "                    --jp-layout-color3: var(--colab-primary-surface-color, white);\n",
       "                }\n",
       "            </style>\n",
       "            "
      ],
      "text/plain": [
       "<IPython.core.display.HTML object>"
      ]
     },
     "metadata": {},
     "output_type": "display_data"
    }
   ],
   "source": [
    "# temp code: uncomment below line if want to test using point inputs based on polygon centroid\n",
    "\n",
    "# roi = roi.map(lambda feature: ee.Feature(feature.geometry().centroid(1))) "
   ]
  },
  {
   "cell_type": "markdown",
   "id": "6ba90193-9bc2-4756-a839-f16c07284e04",
   "metadata": {},
   "source": [
    "### Whisp it\n",
    "- If over >500 polygons currently this will go to Google Drive and require manual uploading here\n",
    "- Stats sent to a separate notebook 'process_whisp_stats.pynb'"
   ]
  },
  {
   "cell_type": "code",
   "execution_count": 8,
   "id": "62b25f9f-6c78-424a-87ae-1025c5088884",
   "metadata": {
    "editable": true,
    "slideshow": {
     "slide_type": ""
    },
    "tags": []
   },
   "outputs": [
    {
     "data": {
      "text/html": [
       "\n",
       "            <style>\n",
       "                .geemap-dark {\n",
       "                    --jp-widgets-color: white;\n",
       "                    --jp-widgets-label-color: white;\n",
       "                    --jp-ui-font-color1: white;\n",
       "                    --jp-layout-color2: #454545;\n",
       "                    background-color: #383838;\n",
       "                }\n",
       "\n",
       "                .geemap-dark .jupyter-button {\n",
       "                    --jp-layout-color3: #383838;\n",
       "                }\n",
       "\n",
       "                .geemap-colab {\n",
       "                    background-color: var(--colab-primary-surface-color, white);\n",
       "                }\n",
       "\n",
       "                .geemap-colab .jupyter-button {\n",
       "                    --jp-layout-color3: var(--colab-primary-surface-color, white);\n",
       "                }\n",
       "            </style>\n",
       "            "
      ],
      "text/plain": [
       "<IPython.core.display.HTML object>"
      ]
     },
     "metadata": {},
     "output_type": "display_data"
    },
    {
     "name": "stdout",
     "output_type": "stream",
     "text": [
      "Stored 'roi' (FeatureCollection)\n",
      "Datasets present in lookup:  True\n",
      "geo id not present ['Plot_area_ha', 'Geometry_type', 'Country', 'Centroid_lon', 'Centroid_lat', 'Unit']\n",
      "...stats processing started\n",
      "...ee to df processing time: 4.341159343719482 seconds\n"
     ]
    }
   ],
   "source": [
    "df = whisp_stats_as_df(roi)"
   ]
  },
  {
   "cell_type": "markdown",
   "id": "1b7b3539-f9dd-4dc4-84ac-4e043434ae27",
   "metadata": {},
   "source": [
    "### Display it\n"
   ]
  },
  {
   "cell_type": "code",
   "execution_count": 9,
   "id": "e45cecd9-3bf0-40da-ad58-ec5a87a2d7be",
   "metadata": {
    "scrolled": true
   },
   "outputs": [
    {
     "data": {
      "text/html": [
       "\n",
       "            <style>\n",
       "                .geemap-dark {\n",
       "                    --jp-widgets-color: white;\n",
       "                    --jp-widgets-label-color: white;\n",
       "                    --jp-ui-font-color1: white;\n",
       "                    --jp-layout-color2: #454545;\n",
       "                    background-color: #383838;\n",
       "                }\n",
       "\n",
       "                .geemap-dark .jupyter-button {\n",
       "                    --jp-layout-color3: #383838;\n",
       "                }\n",
       "\n",
       "                .geemap-colab {\n",
       "                    background-color: var(--colab-primary-surface-color, white);\n",
       "                }\n",
       "\n",
       "                .geemap-colab .jupyter-button {\n",
       "                    --jp-layout-color3: var(--colab-primary-surface-color, white);\n",
       "                }\n",
       "            </style>\n",
       "            "
      ],
      "text/plain": [
       "<IPython.core.display.HTML object>"
      ]
     },
     "metadata": {},
     "output_type": "display_data"
    },
    {
     "data": {
      "text/html": [
       "<div>\n",
       "<style scoped>\n",
       "    .dataframe tbody tr th:only-of-type {\n",
       "        vertical-align: middle;\n",
       "    }\n",
       "\n",
       "    .dataframe tbody tr th {\n",
       "        vertical-align: top;\n",
       "    }\n",
       "\n",
       "    .dataframe thead th {\n",
       "        text-align: right;\n",
       "    }\n",
       "</style>\n",
       "<table border=\"1\" class=\"dataframe\">\n",
       "  <thead>\n",
       "    <tr style=\"text-align: right;\">\n",
       "      <th></th>\n",
       "      <th>Plot_area_ha</th>\n",
       "      <th>Geometry_type</th>\n",
       "      <th>Country</th>\n",
       "      <th>Centroid_lon</th>\n",
       "      <th>Centroid_lat</th>\n",
       "      <th>Unit</th>\n",
       "      <th>EUFO_2020</th>\n",
       "      <th>GLAD_Primary</th>\n",
       "      <th>TMF_undist</th>\n",
       "      <th>JAXA_FNF_2020</th>\n",
       "      <th>...</th>\n",
       "      <th>TMF_loss_before_2020</th>\n",
       "      <th>GFC_loss_before_2020</th>\n",
       "      <th>ESA_fire_before_2020</th>\n",
       "      <th>MODIS_fire_before_2020</th>\n",
       "      <th>TMF_deg_after_2020</th>\n",
       "      <th>TMF_loss_after_2020</th>\n",
       "      <th>GFC_loss_after_2020</th>\n",
       "      <th>MODIS_fire_after_2020</th>\n",
       "      <th>RADD_after_2020</th>\n",
       "      <th>system:index</th>\n",
       "    </tr>\n",
       "  </thead>\n",
       "  <tbody>\n",
       "    <tr>\n",
       "      <th>0</th>\n",
       "      <td>1.938</td>\n",
       "      <td>Polygon</td>\n",
       "      <td>GHA</td>\n",
       "      <td>-1.611942</td>\n",
       "      <td>6.159539</td>\n",
       "      <td>percent</td>\n",
       "      <td>19</td>\n",
       "      <td>0</td>\n",
       "      <td>0</td>\n",
       "      <td>100</td>\n",
       "      <td>...</td>\n",
       "      <td>23</td>\n",
       "      <td>80</td>\n",
       "      <td>0</td>\n",
       "      <td>0</td>\n",
       "      <td>0</td>\n",
       "      <td>0</td>\n",
       "      <td>0</td>\n",
       "      <td>0</td>\n",
       "      <td>0</td>\n",
       "      <td>0</td>\n",
       "    </tr>\n",
       "    <tr>\n",
       "      <th>1</th>\n",
       "      <td>16.602</td>\n",
       "      <td>Polygon</td>\n",
       "      <td>GHA</td>\n",
       "      <td>-2.157144</td>\n",
       "      <td>5.981149</td>\n",
       "      <td>percent</td>\n",
       "      <td>100</td>\n",
       "      <td>87</td>\n",
       "      <td>95</td>\n",
       "      <td>100</td>\n",
       "      <td>...</td>\n",
       "      <td>0</td>\n",
       "      <td>0</td>\n",
       "      <td>0</td>\n",
       "      <td>0</td>\n",
       "      <td>0</td>\n",
       "      <td>0</td>\n",
       "      <td>0</td>\n",
       "      <td>0</td>\n",
       "      <td>6</td>\n",
       "      <td>1</td>\n",
       "    </tr>\n",
       "    <tr>\n",
       "      <th>2</th>\n",
       "      <td>31.210</td>\n",
       "      <td>Polygon</td>\n",
       "      <td>IDN</td>\n",
       "      <td>103.956096</td>\n",
       "      <td>-3.054668</td>\n",
       "      <td>percent</td>\n",
       "      <td>0</td>\n",
       "      <td>0</td>\n",
       "      <td>0</td>\n",
       "      <td>6</td>\n",
       "      <td>...</td>\n",
       "      <td>100</td>\n",
       "      <td>99</td>\n",
       "      <td>100</td>\n",
       "      <td>21</td>\n",
       "      <td>0</td>\n",
       "      <td>0</td>\n",
       "      <td>0</td>\n",
       "      <td>0</td>\n",
       "      <td>0</td>\n",
       "      <td>2</td>\n",
       "    </tr>\n",
       "    <tr>\n",
       "      <th>3</th>\n",
       "      <td>20.884</td>\n",
       "      <td>Polygon</td>\n",
       "      <td>IDN</td>\n",
       "      <td>103.977512</td>\n",
       "      <td>-3.083808</td>\n",
       "      <td>percent</td>\n",
       "      <td>28</td>\n",
       "      <td>0</td>\n",
       "      <td>31</td>\n",
       "      <td>96</td>\n",
       "      <td>...</td>\n",
       "      <td>15</td>\n",
       "      <td>43</td>\n",
       "      <td>0</td>\n",
       "      <td>0</td>\n",
       "      <td>0</td>\n",
       "      <td>0</td>\n",
       "      <td>0</td>\n",
       "      <td>0</td>\n",
       "      <td>0</td>\n",
       "      <td>3</td>\n",
       "    </tr>\n",
       "    <tr>\n",
       "      <th>4</th>\n",
       "      <td>8.279</td>\n",
       "      <td>Polygon</td>\n",
       "      <td>CIV</td>\n",
       "      <td>-4.101646</td>\n",
       "      <td>5.711935</td>\n",
       "      <td>percent</td>\n",
       "      <td>5</td>\n",
       "      <td>0</td>\n",
       "      <td>0</td>\n",
       "      <td>95</td>\n",
       "      <td>...</td>\n",
       "      <td>32</td>\n",
       "      <td>39</td>\n",
       "      <td>0</td>\n",
       "      <td>0</td>\n",
       "      <td>0</td>\n",
       "      <td>0</td>\n",
       "      <td>19</td>\n",
       "      <td>0</td>\n",
       "      <td>0</td>\n",
       "      <td>4</td>\n",
       "    </tr>\n",
       "    <tr>\n",
       "      <th>5</th>\n",
       "      <td>3.613</td>\n",
       "      <td>Polygon</td>\n",
       "      <td>CIV</td>\n",
       "      <td>-7.507022</td>\n",
       "      <td>6.071468</td>\n",
       "      <td>percent</td>\n",
       "      <td>41</td>\n",
       "      <td>0</td>\n",
       "      <td>0</td>\n",
       "      <td>100</td>\n",
       "      <td>...</td>\n",
       "      <td>27</td>\n",
       "      <td>54</td>\n",
       "      <td>0</td>\n",
       "      <td>0</td>\n",
       "      <td>0</td>\n",
       "      <td>0</td>\n",
       "      <td>0</td>\n",
       "      <td>0</td>\n",
       "      <td>0</td>\n",
       "      <td>5</td>\n",
       "    </tr>\n",
       "  </tbody>\n",
       "</table>\n",
       "<p>6 rows × 130 columns</p>\n",
       "</div>"
      ],
      "text/plain": [
       "  Plot_area_ha Geometry_type Country  Centroid_lon  Centroid_lat     Unit  \\\n",
       "0        1.938       Polygon     GHA     -1.611942      6.159539  percent   \n",
       "1       16.602       Polygon     GHA     -2.157144      5.981149  percent   \n",
       "2       31.210       Polygon     IDN    103.956096     -3.054668  percent   \n",
       "3       20.884       Polygon     IDN    103.977512     -3.083808  percent   \n",
       "4        8.279       Polygon     CIV     -4.101646      5.711935  percent   \n",
       "5        3.613       Polygon     CIV     -7.507022      6.071468  percent   \n",
       "\n",
       "   EUFO_2020  GLAD_Primary  TMF_undist  JAXA_FNF_2020  ...  \\\n",
       "0         19             0           0            100  ...   \n",
       "1        100            87          95            100  ...   \n",
       "2          0             0           0              6  ...   \n",
       "3         28             0          31             96  ...   \n",
       "4          5             0           0             95  ...   \n",
       "5         41             0           0            100  ...   \n",
       "\n",
       "   TMF_loss_before_2020  GFC_loss_before_2020  ESA_fire_before_2020  \\\n",
       "0                    23                    80                     0   \n",
       "1                     0                     0                     0   \n",
       "2                   100                    99                   100   \n",
       "3                    15                    43                     0   \n",
       "4                    32                    39                     0   \n",
       "5                    27                    54                     0   \n",
       "\n",
       "   MODIS_fire_before_2020  TMF_deg_after_2020  TMF_loss_after_2020  \\\n",
       "0                       0                   0                    0   \n",
       "1                       0                   0                    0   \n",
       "2                      21                   0                    0   \n",
       "3                       0                   0                    0   \n",
       "4                       0                   0                    0   \n",
       "5                       0                   0                    0   \n",
       "\n",
       "   GFC_loss_after_2020 MODIS_fire_after_2020 RADD_after_2020  system:index  \n",
       "0                    0                     0               0             0  \n",
       "1                    0                     0               6             1  \n",
       "2                    0                     0               0             2  \n",
       "3                    0                     0               0             3  \n",
       "4                   19                     0               0             4  \n",
       "5                    0                     0               0             5  \n",
       "\n",
       "[6 rows x 130 columns]"
      ]
     },
     "execution_count": 9,
     "metadata": {},
     "output_type": "execute_result"
    }
   ],
   "source": [
    "df"
   ]
  },
  {
   "cell_type": "markdown",
   "id": "3b0cec1c-3482-4fe6-b5ac-b60df4b2c4f6",
   "metadata": {},
   "source": [
    "#### Export it to CSV file\n",
    "NB skip if exporting to Google Drive"
   ]
  },
  {
   "cell_type": "code",
   "execution_count": 10,
   "id": "fd56afe0-5480-4eb8-9a7b-e34feb54ae82",
   "metadata": {},
   "outputs": [
    {
     "data": {
      "text/html": [
       "\n",
       "            <style>\n",
       "                .geemap-dark {\n",
       "                    --jp-widgets-color: white;\n",
       "                    --jp-widgets-label-color: white;\n",
       "                    --jp-ui-font-color1: white;\n",
       "                    --jp-layout-color2: #454545;\n",
       "                    background-color: #383838;\n",
       "                }\n",
       "\n",
       "                .geemap-dark .jupyter-button {\n",
       "                    --jp-layout-color3: #383838;\n",
       "                }\n",
       "\n",
       "                .geemap-colab {\n",
       "                    background-color: var(--colab-primary-surface-color, white);\n",
       "                }\n",
       "\n",
       "                .geemap-colab .jupyter-button {\n",
       "                    --jp-layout-color3: var(--colab-primary-surface-color, white);\n",
       "                }\n",
       "            </style>\n",
       "            "
      ],
      "text/plain": [
       "<IPython.core.display.HTML object>"
      ]
     },
     "metadata": {},
     "output_type": "display_data"
    },
    {
     "name": "stdout",
     "output_type": "stream",
     "text": [
      "/home/sepal-user/module_results/whisp/whisp_output_table.csv\n",
      "output csv:  /home/sepal-user/module_results/whisp/whisp_output_table.csv\n"
     ]
    }
   ],
   "source": [
    "#export output csv\n",
    "print  (out_csv)\n",
    "df.to_csv(path_or_buf=out_csv,header=True,index=False)\n",
    "\n",
    "print (\"output csv: \", out_csv)"
   ]
  },
  {
   "cell_type": "markdown",
   "id": "4d350f25-0dc4-4c1f-99ab-9dcde029ff97",
   "metadata": {},
   "source": [
    "#### Add Geo ids\n",
    "##### Step 1. Register polygons:  compiles geo_ids in a lookup csv\n",
    "- NB registration takes a long time if many polygons (a few seconds each one). AgStack will update this in future. \n",
    "- In the meantime to stop timeouts extend session length click dollar sign and edit under 'Sessions'.\n",
    "- If processing doesn't complete, rerun and it should pickup from where you got to."
   ]
  },
  {
   "cell_type": "code",
   "execution_count": 11,
   "id": "5a8405b8-23a4-466e-b9be-0791c7b47935",
   "metadata": {},
   "outputs": [
    {
     "data": {
      "text/html": [
       "\n",
       "            <style>\n",
       "                .geemap-dark {\n",
       "                    --jp-widgets-color: white;\n",
       "                    --jp-widgets-label-color: white;\n",
       "                    --jp-ui-font-color1: white;\n",
       "                    --jp-layout-color2: #454545;\n",
       "                    background-color: #383838;\n",
       "                }\n",
       "\n",
       "                .geemap-dark .jupyter-button {\n",
       "                    --jp-layout-color3: #383838;\n",
       "                }\n",
       "\n",
       "                .geemap-colab {\n",
       "                    background-color: var(--colab-primary-surface-color, white);\n",
       "                }\n",
       "\n",
       "                .geemap-colab .jupyter-button {\n",
       "                    --jp-layout-color3: var(--colab-primary-surface-color, white);\n",
       "                }\n",
       "            </style>\n",
       "            "
      ],
      "text/plain": [
       "<IPython.core.display.HTML object>"
      ]
     },
     "metadata": {},
     "output_type": "display_data"
    },
    {
     "name": "stdout",
     "output_type": "stream",
     "text": [
      "Chosen path for temp lookup csv:/home/sepal-user/module_results/whisp/temp_geo_id_lookup.csv \n",
      "\n",
      "Check passed: feature collection and table same size: 6 rows\n",
      "Warning: No iterations left to run and geo id column empty. \n",
      " Joins may not be working - please log this in 'Issues' in github\n",
      "Number without geo ids:0\n",
      "All geo ids present in lookup csv\n",
      "Done \n",
      "\n"
     ]
    }
   ],
   "source": [
    "register_fc_and_append_to_csv(\n",
    "    feature_col=roi,\n",
    "    geo_id_column=\"Geo_id\",\n",
    "    output_lookup_csv=out_directory/\"temp_geo_id_lookup.csv\",\n",
    "    join_id_column=\"system:index\",\n",
    "    token=token,\n",
    "    session=session,\n",
    "    asset_registry_base=asset_registry_base,\n",
    "    override_checks=False,\n",
    "    remove_temp_csv=False,\n",
    "    debug=True)"
   ]
  },
  {
   "cell_type": "markdown",
   "id": "23f6c36d-3e62-4e95-9976-11e98215ee4e",
   "metadata": {},
   "source": [
    "##### Step 2. Join geo ids from lookup csv to Whisp stats csv"
   ]
  },
  {
   "cell_type": "code",
   "execution_count": 12,
   "id": "4e5018ba-bf5d-41e3-9860-fb52c4c8c2d1",
   "metadata": {
    "scrolled": true
   },
   "outputs": [
    {
     "data": {
      "text/html": [
       "\n",
       "            <style>\n",
       "                .geemap-dark {\n",
       "                    --jp-widgets-color: white;\n",
       "                    --jp-widgets-label-color: white;\n",
       "                    --jp-ui-font-color1: white;\n",
       "                    --jp-layout-color2: #454545;\n",
       "                    background-color: #383838;\n",
       "                }\n",
       "\n",
       "                .geemap-dark .jupyter-button {\n",
       "                    --jp-layout-color3: #383838;\n",
       "                }\n",
       "\n",
       "                .geemap-colab {\n",
       "                    background-color: var(--colab-primary-surface-color, white);\n",
       "                }\n",
       "\n",
       "                .geemap-colab .jupyter-button {\n",
       "                    --jp-layout-color3: var(--colab-primary-surface-color, white);\n",
       "                }\n",
       "            </style>\n",
       "            "
      ],
      "text/plain": [
       "<IPython.core.display.HTML object>"
      ]
     },
     "metadata": {},
     "output_type": "display_data"
    },
    {
     "name": "stdout",
     "output_type": "stream",
     "text": [
      "new csv:  /home/sepal-user/module_results/whisp/whisp_output_table_w_geo_id.csv\n"
     ]
    }
   ],
   "source": [
    "add_geo_ids_to_csv_from_lookup_csv(\n",
    "        input_csv=out_directory/\"whisp_output_table.csv\",\n",
    "        geo_id_lookup_csv=out_directory/\"temp_geo_id_lookup.csv\",\n",
    "        join_id_column=\"system:index\",\n",
    "        geo_id_column=geo_id_column,\n",
    "        overwrite=False,\n",
    "        drop_geo=False,\n",
    "        debug=True)"
   ]
  },
  {
   "cell_type": "markdown",
   "id": "d3135797-0ac3-4b67-9584-f395436601bc",
   "metadata": {},
   "source": [
    "##### Optional: remove \"system:index\" column \n",
    "NB this is needed for joining geo_ids to csv (from lookup table). Check you have all your geo_ids first and if in doubt run on a copy of the results\n"
   ]
  },
  {
   "cell_type": "code",
   "execution_count": 13,
   "id": "069233ff-db06-4d09-b423-4f7d83630013",
   "metadata": {},
   "outputs": [
    {
     "data": {
      "text/html": [
       "\n",
       "            <style>\n",
       "                .geemap-dark {\n",
       "                    --jp-widgets-color: white;\n",
       "                    --jp-widgets-label-color: white;\n",
       "                    --jp-ui-font-color1: white;\n",
       "                    --jp-layout-color2: #454545;\n",
       "                    background-color: #383838;\n",
       "                }\n",
       "\n",
       "                .geemap-dark .jupyter-button {\n",
       "                    --jp-layout-color3: #383838;\n",
       "                }\n",
       "\n",
       "                .geemap-colab {\n",
       "                    background-color: var(--colab-primary-surface-color, white);\n",
       "                }\n",
       "\n",
       "                .geemap-colab .jupyter-button {\n",
       "                    --jp-layout-color3: var(--colab-primary-surface-color, white);\n",
       "                }\n",
       "            </style>\n",
       "            "
      ],
      "text/plain": [
       "<IPython.core.display.HTML object>"
      ]
     },
     "metadata": {},
     "output_type": "display_data"
    }
   ],
   "source": [
    "# remove_column_from_csv(\n",
    "#     csv_file=\"copy_whisp_output_table.csv\", # this may change depending on if overwrite is on\n",
    "#     column_name=\"system:index\"\n",
    "# )"
   ]
  },
  {
   "cell_type": "markdown",
   "id": "5c2ecbf7-d86f-425c-9c93-80ce21f3dff2",
   "metadata": {},
   "source": [
    "##### Calculate EUDR risk category"
   ]
  },
  {
   "cell_type": "code",
   "execution_count": 14,
   "id": "f4cd1b5c-41ac-4d3c-af26-a47db3d48af8",
   "metadata": {},
   "outputs": [
    {
     "data": {
      "text/html": [
       "\n",
       "            <style>\n",
       "                .geemap-dark {\n",
       "                    --jp-widgets-color: white;\n",
       "                    --jp-widgets-label-color: white;\n",
       "                    --jp-ui-font-color1: white;\n",
       "                    --jp-layout-color2: #454545;\n",
       "                    background-color: #383838;\n",
       "                }\n",
       "\n",
       "                .geemap-dark .jupyter-button {\n",
       "                    --jp-layout-color3: #383838;\n",
       "                }\n",
       "\n",
       "                .geemap-colab {\n",
       "                    background-color: var(--colab-primary-surface-color, white);\n",
       "                }\n",
       "\n",
       "                .geemap-colab .jupyter-button {\n",
       "                    --jp-layout-color3: var(--colab-primary-surface-color, white);\n",
       "                }\n",
       "            </style>\n",
       "            "
      ],
      "text/plain": [
       "<IPython.core.display.HTML object>"
      ]
     },
     "metadata": {},
     "output_type": "display_data"
    }
   ],
   "source": [
    "# Replace with the name of your CSV file\n",
    "csv_file =out_directory/'whisp_output_table_w_geo_id.csv'\n",
    "\n",
    "# import as a dataframe\n",
    "df_w_stats = pd.read_csv(csv_file)\n",
    "\n",
    "\n",
    "df_w_risk = whisp_risk(\n",
    "    df = df_w_stats, \n",
    "    ind_1_pcent_threshold=10,\n",
    "    ind_2_pcent_threshold=10,\n",
    "    ind_3_pcent_threshold=0,\n",
    "    ind_4_pcent_threshold=0\n",
    "    )\n",
    "\n"
   ]
  },
  {
   "cell_type": "markdown",
   "id": "5a15577b-44bb-4792-98ef-95fd6bc1aabb",
   "metadata": {},
   "source": [
    "##### Display table with risk columns"
   ]
  },
  {
   "cell_type": "code",
   "execution_count": 15,
   "id": "0c62b10e-7484-47cd-9f73-40f612be5407",
   "metadata": {},
   "outputs": [
    {
     "data": {
      "text/html": [
       "\n",
       "            <style>\n",
       "                .geemap-dark {\n",
       "                    --jp-widgets-color: white;\n",
       "                    --jp-widgets-label-color: white;\n",
       "                    --jp-ui-font-color1: white;\n",
       "                    --jp-layout-color2: #454545;\n",
       "                    background-color: #383838;\n",
       "                }\n",
       "\n",
       "                .geemap-dark .jupyter-button {\n",
       "                    --jp-layout-color3: #383838;\n",
       "                }\n",
       "\n",
       "                .geemap-colab {\n",
       "                    background-color: var(--colab-primary-surface-color, white);\n",
       "                }\n",
       "\n",
       "                .geemap-colab .jupyter-button {\n",
       "                    --jp-layout-color3: var(--colab-primary-surface-color, white);\n",
       "                }\n",
       "            </style>\n",
       "            "
      ],
      "text/plain": [
       "<IPython.core.display.HTML object>"
      ]
     },
     "metadata": {},
     "output_type": "display_data"
    },
    {
     "data": {
      "text/html": [
       "<div>\n",
       "<style scoped>\n",
       "    .dataframe tbody tr th:only-of-type {\n",
       "        vertical-align: middle;\n",
       "    }\n",
       "\n",
       "    .dataframe tbody tr th {\n",
       "        vertical-align: top;\n",
       "    }\n",
       "\n",
       "    .dataframe thead th {\n",
       "        text-align: right;\n",
       "    }\n",
       "</style>\n",
       "<table border=\"1\" class=\"dataframe\">\n",
       "  <thead>\n",
       "    <tr style=\"text-align: right;\">\n",
       "      <th></th>\n",
       "      <th>Plot_area_ha</th>\n",
       "      <th>Geo_id</th>\n",
       "      <th>Geometry_type</th>\n",
       "      <th>Country</th>\n",
       "      <th>Centroid_lon</th>\n",
       "      <th>Centroid_lat</th>\n",
       "      <th>Unit</th>\n",
       "      <th>EUFO_2020</th>\n",
       "      <th>GLAD_Primary</th>\n",
       "      <th>TMF_undist</th>\n",
       "      <th>...</th>\n",
       "      <th>TMF_loss_after_2020</th>\n",
       "      <th>GFC_loss_after_2020</th>\n",
       "      <th>MODIS_fire_after_2020</th>\n",
       "      <th>RADD_after_2020</th>\n",
       "      <th>system:index</th>\n",
       "      <th>Indicator_1_treecover</th>\n",
       "      <th>Indicator_2_commodities</th>\n",
       "      <th>Indicator_3_disturbance_before_2020</th>\n",
       "      <th>Indicator_4_disturbance_after_2020</th>\n",
       "      <th>EUDR_risk</th>\n",
       "    </tr>\n",
       "  </thead>\n",
       "  <tbody>\n",
       "    <tr>\n",
       "      <th>0</th>\n",
       "      <td>1.938</td>\n",
       "      <td>NaN</td>\n",
       "      <td>Polygon</td>\n",
       "      <td>GHA</td>\n",
       "      <td>-1.611942</td>\n",
       "      <td>6.159539</td>\n",
       "      <td>percent</td>\n",
       "      <td>19</td>\n",
       "      <td>0</td>\n",
       "      <td>0</td>\n",
       "      <td>...</td>\n",
       "      <td>0</td>\n",
       "      <td>0</td>\n",
       "      <td>0</td>\n",
       "      <td>0</td>\n",
       "      <td>0</td>\n",
       "      <td>yes</td>\n",
       "      <td>no</td>\n",
       "      <td>yes</td>\n",
       "      <td>no</td>\n",
       "      <td>low</td>\n",
       "    </tr>\n",
       "    <tr>\n",
       "      <th>1</th>\n",
       "      <td>16.602</td>\n",
       "      <td>NaN</td>\n",
       "      <td>Polygon</td>\n",
       "      <td>GHA</td>\n",
       "      <td>-2.157144</td>\n",
       "      <td>5.981149</td>\n",
       "      <td>percent</td>\n",
       "      <td>100</td>\n",
       "      <td>87</td>\n",
       "      <td>95</td>\n",
       "      <td>...</td>\n",
       "      <td>0</td>\n",
       "      <td>0</td>\n",
       "      <td>0</td>\n",
       "      <td>6</td>\n",
       "      <td>1</td>\n",
       "      <td>yes</td>\n",
       "      <td>no</td>\n",
       "      <td>yes</td>\n",
       "      <td>yes</td>\n",
       "      <td>low</td>\n",
       "    </tr>\n",
       "    <tr>\n",
       "      <th>2</th>\n",
       "      <td>31.210</td>\n",
       "      <td>NaN</td>\n",
       "      <td>Polygon</td>\n",
       "      <td>IDN</td>\n",
       "      <td>103.956096</td>\n",
       "      <td>-3.054668</td>\n",
       "      <td>percent</td>\n",
       "      <td>0</td>\n",
       "      <td>0</td>\n",
       "      <td>0</td>\n",
       "      <td>...</td>\n",
       "      <td>0</td>\n",
       "      <td>0</td>\n",
       "      <td>0</td>\n",
       "      <td>0</td>\n",
       "      <td>2</td>\n",
       "      <td>yes</td>\n",
       "      <td>yes</td>\n",
       "      <td>yes</td>\n",
       "      <td>no</td>\n",
       "      <td>low</td>\n",
       "    </tr>\n",
       "    <tr>\n",
       "      <th>3</th>\n",
       "      <td>20.884</td>\n",
       "      <td>NaN</td>\n",
       "      <td>Polygon</td>\n",
       "      <td>IDN</td>\n",
       "      <td>103.977512</td>\n",
       "      <td>-3.083808</td>\n",
       "      <td>percent</td>\n",
       "      <td>28</td>\n",
       "      <td>0</td>\n",
       "      <td>31</td>\n",
       "      <td>...</td>\n",
       "      <td>0</td>\n",
       "      <td>0</td>\n",
       "      <td>0</td>\n",
       "      <td>0</td>\n",
       "      <td>3</td>\n",
       "      <td>yes</td>\n",
       "      <td>no</td>\n",
       "      <td>yes</td>\n",
       "      <td>no</td>\n",
       "      <td>low</td>\n",
       "    </tr>\n",
       "    <tr>\n",
       "      <th>4</th>\n",
       "      <td>8.279</td>\n",
       "      <td>NaN</td>\n",
       "      <td>Polygon</td>\n",
       "      <td>CIV</td>\n",
       "      <td>-4.101646</td>\n",
       "      <td>5.711935</td>\n",
       "      <td>percent</td>\n",
       "      <td>5</td>\n",
       "      <td>0</td>\n",
       "      <td>0</td>\n",
       "      <td>...</td>\n",
       "      <td>0</td>\n",
       "      <td>19</td>\n",
       "      <td>0</td>\n",
       "      <td>0</td>\n",
       "      <td>4</td>\n",
       "      <td>yes</td>\n",
       "      <td>yes</td>\n",
       "      <td>yes</td>\n",
       "      <td>yes</td>\n",
       "      <td>low</td>\n",
       "    </tr>\n",
       "    <tr>\n",
       "      <th>5</th>\n",
       "      <td>3.613</td>\n",
       "      <td>NaN</td>\n",
       "      <td>Polygon</td>\n",
       "      <td>CIV</td>\n",
       "      <td>-7.507022</td>\n",
       "      <td>6.071468</td>\n",
       "      <td>percent</td>\n",
       "      <td>41</td>\n",
       "      <td>0</td>\n",
       "      <td>0</td>\n",
       "      <td>...</td>\n",
       "      <td>0</td>\n",
       "      <td>0</td>\n",
       "      <td>0</td>\n",
       "      <td>0</td>\n",
       "      <td>5</td>\n",
       "      <td>yes</td>\n",
       "      <td>yes</td>\n",
       "      <td>yes</td>\n",
       "      <td>no</td>\n",
       "      <td>low</td>\n",
       "    </tr>\n",
       "  </tbody>\n",
       "</table>\n",
       "<p>6 rows × 136 columns</p>\n",
       "</div>"
      ],
      "text/plain": [
       "   Plot_area_ha  Geo_id Geometry_type Country  Centroid_lon  Centroid_lat  \\\n",
       "0         1.938     NaN       Polygon     GHA     -1.611942      6.159539   \n",
       "1        16.602     NaN       Polygon     GHA     -2.157144      5.981149   \n",
       "2        31.210     NaN       Polygon     IDN    103.956096     -3.054668   \n",
       "3        20.884     NaN       Polygon     IDN    103.977512     -3.083808   \n",
       "4         8.279     NaN       Polygon     CIV     -4.101646      5.711935   \n",
       "5         3.613     NaN       Polygon     CIV     -7.507022      6.071468   \n",
       "\n",
       "      Unit  EUFO_2020  GLAD_Primary  TMF_undist  ...  TMF_loss_after_2020  \\\n",
       "0  percent         19             0           0  ...                    0   \n",
       "1  percent        100            87          95  ...                    0   \n",
       "2  percent          0             0           0  ...                    0   \n",
       "3  percent         28             0          31  ...                    0   \n",
       "4  percent          5             0           0  ...                    0   \n",
       "5  percent         41             0           0  ...                    0   \n",
       "\n",
       "   GFC_loss_after_2020  MODIS_fire_after_2020  RADD_after_2020  system:index  \\\n",
       "0                    0                      0                0             0   \n",
       "1                    0                      0                6             1   \n",
       "2                    0                      0                0             2   \n",
       "3                    0                      0                0             3   \n",
       "4                   19                      0                0             4   \n",
       "5                    0                      0                0             5   \n",
       "\n",
       "   Indicator_1_treecover  Indicator_2_commodities  \\\n",
       "0                    yes                       no   \n",
       "1                    yes                       no   \n",
       "2                    yes                      yes   \n",
       "3                    yes                       no   \n",
       "4                    yes                      yes   \n",
       "5                    yes                      yes   \n",
       "\n",
       "   Indicator_3_disturbance_before_2020 Indicator_4_disturbance_after_2020  \\\n",
       "0                                  yes                                 no   \n",
       "1                                  yes                                yes   \n",
       "2                                  yes                                 no   \n",
       "3                                  yes                                 no   \n",
       "4                                  yes                                yes   \n",
       "5                                  yes                                 no   \n",
       "\n",
       "  EUDR_risk  \n",
       "0       low  \n",
       "1       low  \n",
       "2       low  \n",
       "3       low  \n",
       "4       low  \n",
       "5       low  \n",
       "\n",
       "[6 rows x 136 columns]"
      ]
     },
     "execution_count": 15,
     "metadata": {},
     "output_type": "execute_result"
    }
   ],
   "source": [
    "df_w_risk"
   ]
  },
  {
   "cell_type": "markdown",
   "id": "094c0019-585e-4598-8c54-c628625f5f80",
   "metadata": {},
   "source": [
    "##### Export table with risk columns to csv "
   ]
  },
  {
   "cell_type": "code",
   "execution_count": 16,
   "id": "afa539dd-bb4c-44f7-922f-79e2644631a5",
   "metadata": {},
   "outputs": [
    {
     "data": {
      "text/html": [
       "\n",
       "            <style>\n",
       "                .geemap-dark {\n",
       "                    --jp-widgets-color: white;\n",
       "                    --jp-widgets-label-color: white;\n",
       "                    --jp-ui-font-color1: white;\n",
       "                    --jp-layout-color2: #454545;\n",
       "                    background-color: #383838;\n",
       "                }\n",
       "\n",
       "                .geemap-dark .jupyter-button {\n",
       "                    --jp-layout-color3: #383838;\n",
       "                }\n",
       "\n",
       "                .geemap-colab {\n",
       "                    background-color: var(--colab-primary-surface-color, white);\n",
       "                }\n",
       "\n",
       "                .geemap-colab .jupyter-button {\n",
       "                    --jp-layout-color3: var(--colab-primary-surface-color, white);\n",
       "                }\n",
       "            </style>\n",
       "            "
      ],
      "text/plain": [
       "<IPython.core.display.HTML object>"
      ]
     },
     "metadata": {},
     "output_type": "display_data"
    }
   ],
   "source": [
    "output_file=out_directory/'whisp_output_table_w_geo_id_w_risk.csv'\n",
    "\n",
    "df_w_risk.to_csv(output_file)\n"
   ]
  }
 ],
 "metadata": {
  "kernelspec": {
   "display_name": "Python 3",
   "language": "python",
   "name": "python3"
  },
  "language_info": {
   "codemirror_mode": {
    "name": "ipython",
    "version": 3
   },
   "file_extension": ".py",
   "mimetype": "text/x-python",
   "name": "python",
   "nbconvert_exporter": "python",
   "pygments_lexer": "ipython3",
   "version": "3.10.12"
  }
 },
 "nbformat": 4,
 "nbformat_minor": 5
}
