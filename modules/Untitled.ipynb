{
 "cells": [
  {
   "cell_type": "code",
   "execution_count": 12,
   "id": "52fcd8bf-8f7f-4794-bdb3-bbed20ead935",
   "metadata": {},
   "outputs": [
    {
     "name": "stdout",
     "output_type": "stream",
     "text": [
      "564.1895835477562\n"
     ]
    }
   ],
   "source": [
    "import math\n",
    "import ee\n",
    "ee.Initialize(project=\"ee-andyarnellgee\") #cloud project update. Temp workaround for me (Andy)\n",
    "\n",
    "def get_radius_m_to_buffer_for_given_area(area,area_unit=\"km2\"):\n",
    "    \"\"\"gets radius in metres to buffer to get an area (needs math library); area unit ha or km2 (the default)\"\"\"\n",
    "    if area_unit==\"km2\": unit_fix_factor =1000\n",
    "    elif area_unit==\"ha\": unit_fix_factor =100\n",
    "    radius = ee.Number(area).divide(math.pi).sqrt().multiply(unit_fix_factor)\n",
    "    return radius\n",
    "\n",
    "print (get_radius_m_to_buffer_for_given_area(100,\"ha\").getInfo())"
   ]
  },
  {
   "cell_type": "code",
   "execution_count": null,
   "id": "0a13a2ef-6ef9-4cd4-89fe-a55a08630532",
   "metadata": {},
   "outputs": [],
   "source": []
  }
 ],
 "metadata": {
  "kernelspec": {
   "display_name": "Python 3",
   "language": "python",
   "name": "python3"
  },
  "language_info": {
   "codemirror_mode": {
    "name": "ipython",
    "version": 3
   },
   "file_extension": ".py",
   "mimetype": "text/x-python",
   "name": "python",
   "nbconvert_exporter": "python",
   "pygments_lexer": "ipython3",
   "version": "3.10.12"
  }
 },
 "nbformat": 4,
 "nbformat_minor": 5
}
