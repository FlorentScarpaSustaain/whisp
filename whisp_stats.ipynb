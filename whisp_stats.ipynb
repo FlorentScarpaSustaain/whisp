{
 "cells": [
  {
   "cell_type": "markdown",
   "id": "aa0cd457-8e49-4d31-83d1-75d60f6adb24",
   "metadata": {},
   "source": [
    "### Process stats for image collection"
   ]
  },
  {
   "cell_type": "code",
   "execution_count": 1,
   "id": "bf2e1318",
   "metadata": {
    "tags": []
   },
   "outputs": [
    {
     "name": "stdout",
     "output_type": "stream",
     "text": [
      "Earth Engine has been initialized with the specified credentials.\n",
      "imports complete\n"
     ]
    }
   ],
   "source": [
    "import json\n",
    "import ee\n",
    "import geemap\n",
    "import folium ###\n",
    "import os\n",
    "import pandas as pd\n",
    "import geopandas as gpd\n",
    "import numpy as np\n",
    "import time\n",
    "import math ###\n",
    "import geojson \n",
    "from datetime import datetime ###\n",
    "from sidecar import Sidecar ###\n",
    "\n",
    "from modules.gee_initialize import initialize_ee \n",
    "\n",
    "initialize_ee()\n",
    "\n",
    "from modules.json_to_ee import json_to_feature_with_id ###\n",
    "# from modules.agstack_setup import start_agstack_session ###\n",
    "import modules.agstack_to_gee as agstack_to_gee ###\n",
    "import modules.area_stats as area_stats\n",
    "from modules.country_allocation import find_country_from_modal_stats\n",
    "import modules.tidy_tables as tidy_tables\n",
    "\n",
    "from parameters import * # NB for run-specific parameters edit \"parameters/config_runtime\"\n",
    "\n",
    "from modules.file_to_ceo import get_ceo_url ###\n",
    "from modules.image_prep import export_image_collection_to_asset, add_multi_lookup_properties_to_image_collection\n",
    "from modules.image_prep import add_multi_lookup_properties_to_image_collection\n",
    "from parameters.config_lookups import lookup_gee_datasets\n",
    "\n",
    "print (\"imports complete\")"
   ]
  },
  {
   "cell_type": "code",
   "execution_count": null,
   "id": "58ef983f-e266-4875-8130-699ae111621a",
   "metadata": {},
   "outputs": [],
   "source": [
    "%store -r roi\n",
    "\n",
    "%run whisp_prep_singleband_collection.ipynb # get stats and image"
   ]
  },
  {
   "cell_type": "code",
   "execution_count": null,
   "id": "9229fcc3-cbc5-4d4b-8c41-59a8b9824958",
   "metadata": {},
   "outputs": [],
   "source": [
    "# ee.Algorithms.if(roi.first().get(geometry_area_column) =\n",
    "roi = area_stats.add_area_hectares_property_to_feature_collection(roi,geometry_area_column)\n"
   ]
  },
  {
   "cell_type": "markdown",
   "id": "e7f19d47-119d-4df0-b156-cdc2ab2e3e69",
   "metadata": {},
   "source": [
    "Calculating zonal statistics for continuous data (e.g tree cover) within polygon(s)"
   ]
  },
  {
   "cell_type": "markdown",
   "id": "1ce375a3-ac9a-4fb8-b61f-0604e8c50f30",
   "metadata": {},
   "source": [
    "##### i) Mapping over image collection with reduce regions (creates long format temporary table)"
   ]
  },
  {
   "cell_type": "code",
   "execution_count": 13,
   "id": "4b9cbfcd-fc1f-4516-b455-e2d88c4b7461",
   "metadata": {
    "scrolled": true,
    "tags": []
   },
   "outputs": [
    {
     "data": {
      "text/html": [
       "\n",
       "            <style>\n",
       "                .geemap-dark {\n",
       "                    --jp-widgets-color: white;\n",
       "                    --jp-widgets-label-color: white;\n",
       "                    --jp-ui-font-color1: white;\n",
       "                    --jp-layout-color2: #454545;\n",
       "                    background-color: #383838;\n",
       "                }\n",
       "                    \n",
       "                .geemap-dark .jupyter-button {\n",
       "                    --jp-layout-color3: #383838;\n",
       "                }\n",
       "                \n",
       "                .geemap-colab {\n",
       "                    background-color: var(--colab-primary-surface-color, white);\n",
       "                }\n",
       "                    \n",
       "                .geemap-colab .jupyter-button {\n",
       "                    --jp-layout-color3: var(--colab-primary-surface-color, white);\n",
       "                }\n",
       "            </style>\n",
       "            "
      ],
      "text/plain": [
       "<IPython.core.display.HTML object>"
      ]
     },
     "metadata": {},
     "output_type": "display_data"
    },
    {
     "name": "stdout",
     "output_type": "stream",
     "text": [
      "processing stats...\n",
      "no buffer stats required\n",
      "Total execution time: 2.869277238845825 seconds\n"
     ]
    }
   ],
   "source": [
    "# get the start time\n",
    "st = time.time()\n",
    "\n",
    "if debug: print (\"processing stats...\")\n",
    "\n",
    "# zonal_stats_out = area_stats.zonal_stats_plot_w_buffer(roi, roi_buffer, images_iCol_filt, plot_stats_list, buffer_stats_list, reducer_choice, debug)\n",
    "zonal_stats_out = area_stats.zonal_stats_iCol (feature_collection=roi,image_collection=images_iCol_filt,reducer_choice=reducer_choice)\n",
    "\n",
    "# convert to Pandas Dataframe\n",
    "df = geemap.ee_to_df(zonal_stats_out) # limit of 5000 (unlikely to need more but i have code for it if needed)\n",
    "\n",
    "if debug: print ('stats execution time:', time.time() - st, 'seconds')# get the execution time"
   ]
  },
  {
   "cell_type": "markdown",
   "id": "375629ec-ef13-4c64-9c5c-cbb3563b8d2f",
   "metadata": {
    "tags": []
   },
   "source": [
    "Look up table linking country codes to country names (from administrative feature collection) is stored here: scripts: create_country_lookup.py"
   ]
  },
  {
   "cell_type": "markdown",
   "id": "ec10e289-42df-42f4-b576-ef216efe8356",
   "metadata": {},
   "source": [
    "##### ii): Create lookup tables for country allocation\n",
    "Approach is based on raster stats and listing the country for a specific geometry based on which has most overlap\n",
    "\n"
   ]
  },
  {
   "cell_type": "markdown",
   "id": "93bb09fe-dcf8-4084-95aa-f8c586dfe78d",
   "metadata": {
    "tags": []
   },
   "source": [
    "Make on-the-fly look up table to link country name to geo id based on raster stats\n",
    "- uses rasterised admin layer with admin codes as pixel values\n",
    "- for each geo id finds most common value in that geometry (i.e. \"mode\" statistic)"
   ]
  },
  {
   "cell_type": "code",
   "execution_count": 14,
   "id": "fc8f51bc-be03-4c05-8337-942f06653803",
   "metadata": {
    "tags": []
   },
   "outputs": [
    {
     "data": {
      "text/html": [
       "\n",
       "            <style>\n",
       "                .geemap-dark {\n",
       "                    --jp-widgets-color: white;\n",
       "                    --jp-widgets-label-color: white;\n",
       "                    --jp-ui-font-color1: white;\n",
       "                    --jp-layout-color2: #454545;\n",
       "                    background-color: #383838;\n",
       "                }\n",
       "                    \n",
       "                .geemap-dark .jupyter-button {\n",
       "                    --jp-layout-color3: #383838;\n",
       "                }\n",
       "                \n",
       "                .geemap-colab {\n",
       "                    background-color: var(--colab-primary-surface-color, white);\n",
       "                }\n",
       "                    \n",
       "                .geemap-colab .jupyter-button {\n",
       "                    --jp-layout-color3: var(--colab-primary-surface-color, white);\n",
       "                }\n",
       "            </style>\n",
       "            "
      ],
      "text/plain": [
       "<IPython.core.display.HTML object>"
      ]
     },
     "metadata": {},
     "output_type": "display_data"
    }
   ],
   "source": [
    "st = time.time()\n",
    "\n",
    "lookup_geo_id_to_country_names = find_country_from_modal_stats(\n",
    "    roi=roi,\n",
    "    image_collection = images_iCol_filt,\n",
    "    reducer_choice=reducer_choice,\n",
    "    geo_id_column=geo_id_column,\n",
    "    country_dataset_id=country_dataset_id,\n",
    "    admin_code_col_name=admin_code_col_name,\n",
    "    lookup_country_codes_to_names=lookup_country_codes_to_names)\n"
   ]
  },
  {
   "cell_type": "markdown",
   "id": "9708c035-91ed-4dbb-aaad-e91f99da3300",
   "metadata": {},
   "source": [
    "##### iii) Reformat results table\n",
    "- convert areas to percentage cover of plot\n",
    "- long to wide format; \n",
    "- set presence only flags\n",
    "- add in country names (using lookup tables) to the final results"
   ]
  },
  {
   "cell_type": "code",
   "execution_count": 15,
   "id": "854dbc0c-d65d-4a57-ba6b-b496011a8832",
   "metadata": {},
   "outputs": [
    {
     "data": {
      "text/html": [
       "\n",
       "            <style>\n",
       "                .geemap-dark {\n",
       "                    --jp-widgets-color: white;\n",
       "                    --jp-widgets-label-color: white;\n",
       "                    --jp-ui-font-color1: white;\n",
       "                    --jp-layout-color2: #454545;\n",
       "                    background-color: #383838;\n",
       "                }\n",
       "                    \n",
       "                .geemap-dark .jupyter-button {\n",
       "                    --jp-layout-color3: #383838;\n",
       "                }\n",
       "                \n",
       "                .geemap-colab {\n",
       "                    background-color: var(--colab-primary-surface-color, white);\n",
       "                }\n",
       "                    \n",
       "                .geemap-colab .jupyter-button {\n",
       "                    --jp-layout-color3: var(--colab-primary-surface-color, white);\n",
       "                }\n",
       "            </style>\n",
       "            "
      ],
      "text/plain": [
       "<IPython.core.display.HTML object>"
      ]
     },
     "metadata": {},
     "output_type": "display_data"
    }
   ],
   "source": [
    "#add percentage column\n",
    "df[\"percentage\"] = (df[\"sum\"]/\n",
    "                             df[geometry_area_column])*100\n",
    "\n",
    "\n",
    "#convert to wide format (one row per geo_id)\n",
    "df_wide = df.pivot_table(index=[geo_id_column,geometry_area_column],\n",
    "                                  columns=['dataset_name'],values=['percentage'])\n",
    "\n",
    "#tidy unwanted headers (runs in place so no need to assign variable)\n",
    "tidy_tables.tidy_dataframe_after_pivot(df_wide) \n",
    "\n",
    "# convert positive results values to \"True\" for specific columns and fix decimals\n",
    "df_wide[presence_only_flag_list] = np.where(df_wide[presence_only_flag_list] > 0, \"True\", \"-\")\n",
    "df_wide[decimal_place_column_list] = df_wide[decimal_place_column_list].round(decimals=0, out=None).astype(int)\n",
    "\n",
    "# Reset index formatting\n",
    "df_wide=df_wide.reset_index()\n",
    "\n",
    "#decimals for geometry column\n",
    "df_wide[geometry_area_column]=df_wide[geometry_area_column].round(decimals=1, out=None)\n",
    "\n",
    "# #joins country name based on majority overlap with country \n",
    "df_wide_w_country = df_wide.merge(lookup_geo_id_to_country_names,on=geo_id_column)"
   ]
  },
  {
   "cell_type": "markdown",
   "id": "37b953c9-8c07-4268-8d00-ffa99c87a6a8",
   "metadata": {},
   "source": [
    "##### iv) Further reformatting\n",
    "- reorder columns\n",
    "- reorder rows to match Geo_ID / ROI order\n",
    "- add plot id column for easy reference\n",
    "- remove underscores in column headers"
   ]
  },
  {
   "cell_type": "code",
   "execution_count": 16,
   "id": "4035bf5e-6c8c-4a84-aaad-6b351f3eaabf",
   "metadata": {},
   "outputs": [
    {
     "data": {
      "text/html": [
       "\n",
       "            <style>\n",
       "                .geemap-dark {\n",
       "                    --jp-widgets-color: white;\n",
       "                    --jp-widgets-label-color: white;\n",
       "                    --jp-ui-font-color1: white;\n",
       "                    --jp-layout-color2: #454545;\n",
       "                    background-color: #383838;\n",
       "                }\n",
       "                    \n",
       "                .geemap-dark .jupyter-button {\n",
       "                    --jp-layout-color3: #383838;\n",
       "                }\n",
       "                \n",
       "                .geemap-colab {\n",
       "                    background-color: var(--colab-primary-surface-color, white);\n",
       "                }\n",
       "                    \n",
       "                .geemap-colab .jupyter-button {\n",
       "                    --jp-layout-color3: var(--colab-primary-surface-color, white);\n",
       "                }\n",
       "            </style>\n",
       "            "
      ],
      "text/plain": [
       "<IPython.core.display.HTML object>"
      ]
     },
     "metadata": {},
     "output_type": "display_data"
    }
   ],
   "source": [
    "#columns to add to start of table\n",
    "prefix_columns_list =[geo_id_column,geometry_area_column,\"Country\"] \n",
    "\n",
    "#use lookup to reorder cols\n",
    "df_wide_w_country_reordered_cols = tidy_tables.reorder_columns_by_lookup(\n",
    "    df_wide_w_country,\n",
    "    lookup_gee_datasets,\n",
    "    'dataset_order',\n",
    "    \"dataset_name\",\n",
    "    prefix_columns_list).drop(country_dataset_name, axis=1, errors='ignore')\n",
    "\n",
    "# reordering rows using geo_id order from feature collection (if more than one feature). NB Some repetition here with below. Avoiding Geopandas for speed of csv production.\n",
    "if len(df_wide_w_country_reordered_cols)>1:\n",
    "    df_wide_w_country_reordered_cols_n_rows = pd.merge(geemap.ee_to_pandas(roi)[geo_id_column],\n",
    "                  df_wide_w_country_reordered_cols, \n",
    "                  left_on=geo_id_column, \n",
    "                  right_on=geo_id_column, \n",
    "                  how='inner')\n",
    "    \n",
    "#renaming for clarity\n",
    "df_out = df_wide_w_country_reordered_cols_n_rows\n",
    "\n",
    "#adding in index plot id column for visual cross referencing on map etc\n",
    "df_out[plot_id_column] = df_out.index +1\n",
    "\n",
    "df_out.set_index(plot_id_column, inplace = True)\n",
    "\n",
    "ceo_cols_for_exporting = df_out.columns # with underscores for use in ceo export\n",
    "\n",
    "# remove underscores in column names\n",
    "df_out.columns = df_out.columns.str.replace('_', ' ')\n"
   ]
  },
  {
   "cell_type": "code",
   "execution_count": null,
   "id": "1e9cfff8-c427-45a4-9acd-ccac2badf6e1",
   "metadata": {},
   "outputs": [],
   "source": [
    "if debug: print ('tidying tables execution time:', time.time() - st, 'seconds')# get the execution time"
   ]
  },
  {
   "cell_type": "code",
   "execution_count": 4,
   "id": "050d4b5f-e78b-4392-bd0d-69ebc9e32850",
   "metadata": {},
   "outputs": [
    {
     "ename": "NameError",
     "evalue": "name 'df_out' is not defined",
     "output_type": "error",
     "traceback": [
      "\u001b[0;31m---------------------------------------------------------------------------\u001b[0m",
      "\u001b[0;31mNameError\u001b[0m                                 Traceback (most recent call last)",
      "Cell \u001b[0;32mIn[4], line 1\u001b[0m\n\u001b[0;32m----> 1\u001b[0m df\u001b[38;5;241m=\u001b[39m\u001b[43mdf_out\u001b[49m\n\u001b[1;32m      2\u001b[0m get_ipython()\u001b[38;5;241m.\u001b[39mrun_line_magic(\u001b[38;5;124m'\u001b[39m\u001b[38;5;124mstore\u001b[39m\u001b[38;5;124m'\u001b[39m, \u001b[38;5;124m'\u001b[39m\u001b[38;5;124mroi\u001b[39m\u001b[38;5;124m'\u001b[39m)\n\u001b[1;32m      3\u001b[0m get_ipython()\u001b[38;5;241m.\u001b[39mrun_line_magic(\u001b[38;5;124m'\u001b[39m\u001b[38;5;124mstore\u001b[39m\u001b[38;5;124m'\u001b[39m, \u001b[38;5;124m'\u001b[39m\u001b[38;5;124mdf\u001b[39m\u001b[38;5;124m'\u001b[39m)\n",
      "\u001b[0;31mNameError\u001b[0m: name 'df_out' is not defined"
     ]
    }
   ],
   "source": [
    "df=df_out\n",
    "def whisp_to_ceo(roi,df):\n",
    "    %store roi\n",
    "    %store df\n",
    "    %run whisp_ceo.ipynb   \n",
    "    return ceo_url"
   ]
  },
  {
   "cell_type": "code",
   "execution_count": 17,
   "id": "1b48c4ff-c728-437d-9e3d-12e42f9d60ab",
   "metadata": {},
   "outputs": [
    {
     "data": {
      "text/html": [
       "\n",
       "            <style>\n",
       "                .geemap-dark {\n",
       "                    --jp-widgets-color: white;\n",
       "                    --jp-widgets-label-color: white;\n",
       "                    --jp-ui-font-color1: white;\n",
       "                    --jp-layout-color2: #454545;\n",
       "                    background-color: #383838;\n",
       "                }\n",
       "                    \n",
       "                .geemap-dark .jupyter-button {\n",
       "                    --jp-layout-color3: #383838;\n",
       "                }\n",
       "                \n",
       "                .geemap-colab {\n",
       "                    background-color: var(--colab-primary-surface-color, white);\n",
       "                }\n",
       "                    \n",
       "                .geemap-colab .jupyter-button {\n",
       "                    --jp-layout-color3: var(--colab-primary-surface-color, white);\n",
       "                }\n",
       "            </style>\n",
       "            "
      ],
      "text/plain": [
       "<IPython.core.display.HTML object>"
      ]
     },
     "metadata": {},
     "output_type": "display_data"
    },
    {
     "name": "stdout",
     "output_type": "stream",
     "text": [
      "output csv:  /home/sepal-user/whisp/whisp_output_table.csv\n"
     ]
    }
   ],
   "source": [
    "# #export output csv\n",
    "# df_out.to_csv(path_or_buf=out_file_wide,header=True)\n",
    "\n",
    "# if debug: print (\"output csv: \", out_file_wide)\n",
    "# # df_wide"
   ]
  }
 ],
 "metadata": {
  "kernelspec": {
   "display_name": "Python 3",
   "language": "python",
   "name": "python3"
  },
  "language_info": {
   "codemirror_mode": {
    "name": "ipython",
    "version": 3
   },
   "file_extension": ".py",
   "mimetype": "text/x-python",
   "name": "python",
   "nbconvert_exporter": "python",
   "pygments_lexer": "ipython3",
   "version": "3.10.12"
  },
  "vscode": {
   "interpreter": {
    "hash": "31f2aee4e71d21fbe5cf8b01ff0e069b9275f58929596ceb00d14d90e3e16cd6"
   }
  }
 },
 "nbformat": 4,
 "nbformat_minor": 5
}
