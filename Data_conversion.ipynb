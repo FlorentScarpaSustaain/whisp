{
 "cells": [
  {
   "cell_type": "markdown",
   "id": "0dff9687-012b-4722-8920-c42c9bcfa99a",
   "metadata": {},
   "source": [
    "### Data conversion"
   ]
  },
  {
   "cell_type": "markdown",
   "id": "3644d42b-a56c-4414-baf1-157f467289a8",
   "metadata": {},
   "source": [
    "Some common vector file format conversions.\n",
    "\n",
    "Includes:\n",
    "1) Geojson to GEE feature collection\n",
    "2) Shapefile to GEE feature collection\n",
    "3) Shapefile to goejson and vice versa\n",
    " - Caveats:\n",
    " - tested on simple datasets only,\n",
    " - cleaning and fixing geometry errors may be required first\n",
    " - for 1 and 2, large and/or complex polygons may require manual upload from code editor."
   ]
  },
  {
   "cell_type": "markdown",
   "id": "797256a0-858f-4c58-b848-1e72ada3cb90",
   "metadata": {},
   "source": [
    "#### Geojson"
   ]
  },
  {
   "cell_type": "code",
   "execution_count": 23,
   "id": "763d0dc4-d6de-4fec-94d9-ccb598fc2038",
   "metadata": {},
   "outputs": [
    {
     "data": {
      "text/html": [
       "\n",
       "            <style>\n",
       "                .geemap-dark {\n",
       "                    --jp-widgets-color: white;\n",
       "                    --jp-widgets-label-color: white;\n",
       "                    --jp-ui-font-color1: white;\n",
       "                    --jp-layout-color2: #454545;\n",
       "                    background-color: #383838;\n",
       "                }\n",
       "\n",
       "                .geemap-dark .jupyter-button {\n",
       "                    --jp-layout-color3: #383838;\n",
       "                }\n",
       "\n",
       "                .geemap-colab {\n",
       "                    background-color: var(--colab-primary-surface-color, white);\n",
       "                }\n",
       "\n",
       "                .geemap-colab .jupyter-button {\n",
       "                    --jp-layout-color3: var(--colab-primary-surface-color, white);\n",
       "                }\n",
       "            </style>\n",
       "            "
      ],
      "text/plain": [
       "<IPython.core.display.HTML object>"
      ]
     },
     "metadata": {},
     "output_type": "display_data"
    }
   ],
   "source": [
    "from parameters.config_imports import *"
   ]
  },
  {
   "cell_type": "markdown",
   "id": "beee7ab9-53f3-4260-af1c-818685e3d635",
   "metadata": {},
   "source": [
    "Read a geojson file"
   ]
  },
  {
   "cell_type": "code",
   "execution_count": 24,
   "id": "e4e5e3de-d62b-4130-9a40-de3ceec7bccb",
   "metadata": {},
   "outputs": [
    {
     "data": {
      "text/html": [
       "\n",
       "            <style>\n",
       "                .geemap-dark {\n",
       "                    --jp-widgets-color: white;\n",
       "                    --jp-widgets-label-color: white;\n",
       "                    --jp-ui-font-color1: white;\n",
       "                    --jp-layout-color2: #454545;\n",
       "                    background-color: #383838;\n",
       "                }\n",
       "\n",
       "                .geemap-dark .jupyter-button {\n",
       "                    --jp-layout-color3: #383838;\n",
       "                }\n",
       "\n",
       "                .geemap-colab {\n",
       "                    background-color: var(--colab-primary-surface-color, white);\n",
       "                }\n",
       "\n",
       "                .geemap-colab .jupyter-button {\n",
       "                    --jp-layout-color3: var(--colab-primary-surface-color, white);\n",
       "                }\n",
       "            </style>\n",
       "            "
      ],
      "text/plain": [
       "<IPython.core.display.HTML object>"
      ]
     },
     "metadata": {},
     "output_type": "display_data"
    }
   ],
   "source": [
    "file_path_geojson = \"input_examples/example_geojson.geojson\""
   ]
  },
  {
   "cell_type": "markdown",
   "id": "54a2d7b1-990d-4f16-8d59-f65db705b1f2",
   "metadata": {},
   "source": [
    "Convert geojson to a feature collection"
   ]
  },
  {
   "cell_type": "code",
   "execution_count": 25,
   "id": "c7fdf53e-2a11-4375-85ee-6eea2cf9e09d",
   "metadata": {},
   "outputs": [
    {
     "data": {
      "text/html": [
       "\n",
       "            <style>\n",
       "                .geemap-dark {\n",
       "                    --jp-widgets-color: white;\n",
       "                    --jp-widgets-label-color: white;\n",
       "                    --jp-ui-font-color1: white;\n",
       "                    --jp-layout-color2: #454545;\n",
       "                    background-color: #383838;\n",
       "                }\n",
       "\n",
       "                .geemap-dark .jupyter-button {\n",
       "                    --jp-layout-color3: #383838;\n",
       "                }\n",
       "\n",
       "                .geemap-colab {\n",
       "                    background-color: var(--colab-primary-surface-color, white);\n",
       "                }\n",
       "\n",
       "                .geemap-colab .jupyter-button {\n",
       "                    --jp-layout-color3: var(--colab-primary-surface-color, white);\n",
       "                }\n",
       "            </style>\n",
       "            "
      ],
      "text/plain": [
       "<IPython.core.display.HTML object>"
      ]
     },
     "metadata": {},
     "output_type": "display_data"
    }
   ],
   "source": [
    "roi = geojson_to_ee(file_path_geojson)"
   ]
  },
  {
   "cell_type": "markdown",
   "id": "a3b159b2-e8ec-49c2-b267-c9f3fe39aec6",
   "metadata": {},
   "source": [
    "Convert feature collection to a geojson"
   ]
  },
  {
   "cell_type": "code",
   "execution_count": 26,
   "id": "4b95a0a4-bccf-4c8a-a024-b562dca1fc30",
   "metadata": {},
   "outputs": [
    {
     "data": {
      "text/html": [
       "\n",
       "            <style>\n",
       "                .geemap-dark {\n",
       "                    --jp-widgets-color: white;\n",
       "                    --jp-widgets-label-color: white;\n",
       "                    --jp-ui-font-color1: white;\n",
       "                    --jp-layout-color2: #454545;\n",
       "                    background-color: #383838;\n",
       "                }\n",
       "\n",
       "                .geemap-dark .jupyter-button {\n",
       "                    --jp-layout-color3: #383838;\n",
       "                }\n",
       "\n",
       "                .geemap-colab {\n",
       "                    background-color: var(--colab-primary-surface-color, white);\n",
       "                }\n",
       "\n",
       "                .geemap-colab .jupyter-button {\n",
       "                    --jp-layout-color3: var(--colab-primary-surface-color, white);\n",
       "                }\n",
       "            </style>\n",
       "            "
      ],
      "text/plain": [
       "<IPython.core.display.HTML object>"
      ]
     },
     "metadata": {},
     "output_type": "display_data"
    }
   ],
   "source": [
    "geojson = geemap.ee_to_geojson(roi)"
   ]
  },
  {
   "cell_type": "markdown",
   "id": "eeced4d6-eaf1-4a4d-a388-b773e8fd6f1a",
   "metadata": {},
   "source": [
    "Write geojson to file"
   ]
  },
  {
   "cell_type": "code",
   "execution_count": 27,
   "id": "d8ae4d98-e2ae-4456-985c-1f1b5920d3cf",
   "metadata": {},
   "outputs": [
    {
     "data": {
      "text/html": [
       "\n",
       "            <style>\n",
       "                .geemap-dark {\n",
       "                    --jp-widgets-color: white;\n",
       "                    --jp-widgets-label-color: white;\n",
       "                    --jp-ui-font-color1: white;\n",
       "                    --jp-layout-color2: #454545;\n",
       "                    background-color: #383838;\n",
       "                }\n",
       "\n",
       "                .geemap-dark .jupyter-button {\n",
       "                    --jp-layout-color3: #383838;\n",
       "                }\n",
       "\n",
       "                .geemap-colab {\n",
       "                    background-color: var(--colab-primary-surface-color, white);\n",
       "                }\n",
       "\n",
       "                .geemap-colab .jupyter-button {\n",
       "                    --jp-layout-color3: var(--colab-primary-surface-color, white);\n",
       "                }\n",
       "            </style>\n",
       "            "
      ],
      "text/plain": [
       "<IPython.core.display.HTML object>"
      ]
     },
     "metadata": {},
     "output_type": "display_data"
    }
   ],
   "source": [
    "with open(file_path_geojson, 'w') as file:\n",
    "    json.dump(geojson, file)"
   ]
  },
  {
   "cell_type": "markdown",
   "id": "41a22f21-eaf9-45b1-9318-211c24178e6f",
   "metadata": {},
   "source": [
    "#### Shapefile"
   ]
  },
  {
   "cell_type": "markdown",
   "id": "c9341fa8-cfeb-40ff-b8a0-4b888f635257",
   "metadata": {},
   "source": [
    "Open a shapefile"
   ]
  },
  {
   "cell_type": "code",
   "execution_count": 28,
   "id": "99c607c4-9ee5-49e0-867b-b35239496674",
   "metadata": {},
   "outputs": [
    {
     "data": {
      "text/html": [
       "\n",
       "            <style>\n",
       "                .geemap-dark {\n",
       "                    --jp-widgets-color: white;\n",
       "                    --jp-widgets-label-color: white;\n",
       "                    --jp-ui-font-color1: white;\n",
       "                    --jp-layout-color2: #454545;\n",
       "                    background-color: #383838;\n",
       "                }\n",
       "\n",
       "                .geemap-dark .jupyter-button {\n",
       "                    --jp-layout-color3: #383838;\n",
       "                }\n",
       "\n",
       "                .geemap-colab {\n",
       "                    background-color: var(--colab-primary-surface-color, white);\n",
       "                }\n",
       "\n",
       "                .geemap-colab .jupyter-button {\n",
       "                    --jp-layout-color3: var(--colab-primary-surface-color, white);\n",
       "                }\n",
       "            </style>\n",
       "            "
      ],
      "text/plain": [
       "<IPython.core.display.HTML object>"
      ]
     },
     "metadata": {},
     "output_type": "display_data"
    }
   ],
   "source": [
    "file_path_shapefile = \"input_examples/example_shapefile.shp\""
   ]
  },
  {
   "cell_type": "markdown",
   "id": "66bf0891-5561-4b06-9117-6dc5e9d200e7",
   "metadata": {},
   "source": [
    "Convert to a feature collection"
   ]
  },
  {
   "cell_type": "code",
   "execution_count": 29,
   "id": "e60957f4-52d6-4d46-ab06-2277f504de39",
   "metadata": {},
   "outputs": [
    {
     "data": {
      "text/html": [
       "\n",
       "            <style>\n",
       "                .geemap-dark {\n",
       "                    --jp-widgets-color: white;\n",
       "                    --jp-widgets-label-color: white;\n",
       "                    --jp-ui-font-color1: white;\n",
       "                    --jp-layout-color2: #454545;\n",
       "                    background-color: #383838;\n",
       "                }\n",
       "\n",
       "                .geemap-dark .jupyter-button {\n",
       "                    --jp-layout-color3: #383838;\n",
       "                }\n",
       "\n",
       "                .geemap-colab {\n",
       "                    background-color: var(--colab-primary-surface-color, white);\n",
       "                }\n",
       "\n",
       "                .geemap-colab .jupyter-button {\n",
       "                    --jp-layout-color3: var(--colab-primary-surface-color, white);\n",
       "                }\n",
       "            </style>\n",
       "            "
      ],
      "text/plain": [
       "<IPython.core.display.HTML object>"
      ]
     },
     "metadata": {},
     "output_type": "display_data"
    },
    {
     "data": {
      "text/html": [
       "<div><style>:root {\n",
       "  --font-color-primary: var(--jp-content-font-color0, rgba(0, 0, 0, 1));\n",
       "  --font-color-secondary: var(--jp-content-font-color2, rgba(0, 0, 0, 0.6));\n",
       "  --font-color-accent: rgba(123, 31, 162, 1);\n",
       "  --border-color: var(--jp-border-color2, #e0e0e0);\n",
       "  --background-color: var(--jp-layout-color0, white);\n",
       "  --background-color-row-even: var(--jp-layout-color1, white);\n",
       "  --background-color-row-odd: var(--jp-layout-color2, #eeeeee);\n",
       "}\n",
       "\n",
       "html[theme=\"dark\"],\n",
       "body[data-theme=\"dark\"],\n",
       "body.vscode-dark {\n",
       "  --font-color-primary: rgba(255, 255, 255, 1);\n",
       "  --font-color-secondary: rgba(255, 255, 255, 0.6);\n",
       "  --font-color-accent: rgb(173, 132, 190);\n",
       "  --border-color: #2e2e2e;\n",
       "  --background-color: #111111;\n",
       "  --background-color-row-even: #111111;\n",
       "  --background-color-row-odd: #313131;\n",
       "}\n",
       "\n",
       ".ee {\n",
       "  padding: 1em;\n",
       "  line-height: 1.5em;\n",
       "  min-width: 300px;\n",
       "  max-width: 1200px;\n",
       "  overflow-y: scroll;\n",
       "  max-height: 600px;\n",
       "  border: 1px solid var(--border-color);\n",
       "  font-family: monospace;\n",
       "}\n",
       "\n",
       ".ee li {\n",
       "  list-style-type: none;\n",
       "}\n",
       "\n",
       ".ee ul {\n",
       "  padding-left: 1.5em !important;\n",
       "  margin: 0;\n",
       "}\n",
       "\n",
       ".ee > ul {\n",
       "  padding-left: 0 !important;\n",
       "}\n",
       "\n",
       ".ee-open,\n",
       ".ee-shut {\n",
       "  color: var(--font-color-secondary);\n",
       "  cursor: pointer;\n",
       "  margin: 0;\n",
       "}\n",
       "\n",
       ".ee-open:hover,\n",
       ".ee-shut:hover {\n",
       "  color: var(--font-color-primary);\n",
       "}\n",
       "\n",
       ".ee-k {\n",
       "  color: var(--font-color-accent);\n",
       "  margin-right: 6px;\n",
       "}\n",
       "\n",
       ".ee-v {\n",
       "  color: var(--font-color-primary);\n",
       "}\n",
       "\n",
       ".ee-toggle {\n",
       "  display: none;\n",
       "}\n",
       "\n",
       ".ee-shut + ul {\n",
       "  display: none;\n",
       "}\n",
       "\n",
       ".ee-open + ul {\n",
       "  display: block;\n",
       "}\n",
       "\n",
       ".ee-shut::before {\n",
       "  display: inline-block;\n",
       "  content: \"▼\";\n",
       "  margin-right: 6px;\n",
       "  transform: rotate(-90deg);\n",
       "  transition: transform 0.2s;\n",
       "}\n",
       "\n",
       ".ee-open::before {\n",
       "  transform: rotate(0deg);\n",
       "  display: inline-block;\n",
       "  content: \"▼\";\n",
       "  margin-right: 6px;\n",
       "  transition: transform 0.2s;\n",
       "}\n",
       "</style><div class='ee'><ul><li><label class='ee-shut'>FeatureCollection (6 elements, 2 columns)<input type='checkbox' class='ee-toggle'></label><ul><li><span class='ee-k'>type:</span><span class='ee-v'>FeatureCollection</span></li><li><label class='ee-shut'>columns: Object (2 properties)<input type='checkbox' class='ee-toggle'></label><ul><li><span class='ee-k'>FID:</span><span class='ee-v'>Integer</span></li><li><span class='ee-k'>system:index:</span><span class='ee-v'>String</span></li></ul></li><li><label class='ee-shut'>features: List (6 elements)<input type='checkbox' class='ee-toggle'></label><ul><li><label class='ee-shut'>0: Feature (Polygon, 1 property)<input type='checkbox' class='ee-toggle'></label><ul><li><span class='ee-k'>type:</span><span class='ee-v'>Feature</span></li><li><span class='ee-k'>id:</span><span class='ee-v'>0</span></li><li><label class='ee-shut'>geometry: Polygon (9 vertices)<input type='checkbox' class='ee-toggle'></label><ul><li><span class='ee-k'>type:</span><span class='ee-v'>Polygon</span></li><li><label class='ee-shut'>coordinates: List (1 element)<input type='checkbox' class='ee-toggle'></label><ul><li><label class='ee-shut'>0: List (9 elements)<input type='checkbox' class='ee-toggle'></label><ul><li><label class='ee-shut'>0: [-1.612173914909363, 6.160144879904404]<input type='checkbox' class='ee-toggle'></label><ul><li><span class='ee-k'>0:</span><span class='ee-v'>-1.612173914909363</span></li><li><span class='ee-k'>1:</span><span class='ee-v'>6.160144879904404</span></li></ul></li><li><label class='ee-shut'>1: [-1.6128122806549074, 6.159344862841789]<input type='checkbox' class='ee-toggle'></label><ul><li><span class='ee-k'>0:</span><span class='ee-v'>-1.6128122806549074</span></li><li><span class='ee-k'>1:</span><span class='ee-v'>6.159344862841789</span></li></ul></li><li><label class='ee-shut'>2: [-1.6128337383270266, 6.15914219166122]<input type='checkbox' class='ee-toggle'></label><ul><li><span class='ee-k'>0:</span><span class='ee-v'>-1.6128337383270266</span></li><li><span class='ee-k'>1:</span><span class='ee-v'>6.15914219166122</span></li></ul></li><li><label class='ee-shut'>3: [-1.6120773553848267, 6.158870185481485]<input type='checkbox' class='ee-toggle'></label><ul><li><span class='ee-k'>0:</span><span class='ee-v'>-1.6120773553848267</span></li><li><span class='ee-k'>1:</span><span class='ee-v'>6.158870185481485</span></li></ul></li><li><label class='ee-shut'>4: [-1.611771583557129, 6.158838184745289]<input type='checkbox' class='ee-toggle'></label><ul><li><span class='ee-k'>0:</span><span class='ee-v'>-1.611771583557129</span></li><li><span class='ee-k'>1:</span><span class='ee-v'>6.158838184745289</span></li></ul></li><li><label class='ee-shut'>5: [-1.6111814975738528, 6.159483532552345]<input type='checkbox' class='ee-toggle'></label><ul><li><span class='ee-k'>0:</span><span class='ee-v'>-1.6111814975738528</span></li><li><span class='ee-k'>1:</span><span class='ee-v'>6.159483532552345</span></li></ul></li><li><label class='ee-shut'>6: [-1.611224412918091, 6.160011543811027]<input type='checkbox' class='ee-toggle'></label><ul><li><span class='ee-k'>0:</span><span class='ee-v'>-1.611224412918091</span></li><li><span class='ee-k'>1:</span><span class='ee-v'>6.160011543811027</span></li></ul></li><li><label class='ee-shut'>7: [-1.6117393970489502, 6.160299549730771]<input type='checkbox' class='ee-toggle'></label><ul><li><span class='ee-k'>0:</span><span class='ee-v'>-1.6117393970489502</span></li><li><span class='ee-k'>1:</span><span class='ee-v'>6.160299549730771</span></li></ul></li><li><label class='ee-shut'>8: [-1.612173914909363, 6.160144879904404]<input type='checkbox' class='ee-toggle'></label><ul><li><span class='ee-k'>0:</span><span class='ee-v'>-1.612173914909363</span></li><li><span class='ee-k'>1:</span><span class='ee-v'>6.160144879904404</span></li></ul></li></ul></li></ul></li></ul></li><li><label class='ee-shut'>properties: Object (1 property)<input type='checkbox' class='ee-toggle'></label><ul><li><span class='ee-k'>FID:</span><span class='ee-v'>0</span></li></ul></li></ul></li><li><label class='ee-shut'>1: Feature (Polygon, 1 property)<input type='checkbox' class='ee-toggle'></label><ul><li><span class='ee-k'>type:</span><span class='ee-v'>Feature</span></li><li><span class='ee-k'>id:</span><span class='ee-v'>1</span></li><li><label class='ee-shut'>geometry: Polygon (5 vertices)<input type='checkbox' class='ee-toggle'></label><ul><li><span class='ee-k'>type:</span><span class='ee-v'>Polygon</span></li><li><label class='ee-shut'>coordinates: List (1 element)<input type='checkbox' class='ee-toggle'></label><ul><li><label class='ee-shut'>0: List (5 elements)<input type='checkbox' class='ee-toggle'></label><ul><li><label class='ee-shut'>0: [-2.1590334177017216, 5.982474450994902]<input type='checkbox' class='ee-toggle'></label><ul><li><span class='ee-k'>0:</span><span class='ee-v'>-2.1590334177017216</span></li><li><span class='ee-k'>1:</span><span class='ee-v'>5.982474450994902</span></li></ul></li><li><label class='ee-shut'>1: [-2.1595162153244023, 5.979230638282154]<input type='checkbox' class='ee-toggle'></label><ul><li><span class='ee-k'>0:</span><span class='ee-v'>-2.1595162153244023</span></li><li><span class='ee-k'>1:</span><span class='ee-v'>5.979230638282154</span></li></ul></li><li><label class='ee-shut'>2: [-2.1557182073593144, 5.979641451153504]<input type='checkbox' class='ee-toggle'></label><ul><li><span class='ee-k'>0:</span><span class='ee-v'>-2.1557182073593144</span></li><li><span class='ee-k'>1:</span><span class='ee-v'>5.979641451153504</span></li></ul></li><li><label class='ee-shut'>3: [-2.1543878316879277, 5.983029311768519]<input type='checkbox' class='ee-toggle'></label><ul><li><span class='ee-k'>0:</span><span class='ee-v'>-2.1543878316879277</span></li><li><span class='ee-k'>1:</span><span class='ee-v'>5.983029311768519</span></li></ul></li><li><label class='ee-shut'>4: [-2.1590334177017216, 5.982474450994902]<input type='checkbox' class='ee-toggle'></label><ul><li><span class='ee-k'>0:</span><span class='ee-v'>-2.1590334177017216</span></li><li><span class='ee-k'>1:</span><span class='ee-v'>5.982474450994902</span></li></ul></li></ul></li></ul></li></ul></li><li><label class='ee-shut'>properties: Object (1 property)<input type='checkbox' class='ee-toggle'></label><ul><li><span class='ee-k'>FID:</span><span class='ee-v'>1</span></li></ul></li></ul></li><li><label class='ee-shut'>2: Feature (Polygon, 1 property)<input type='checkbox' class='ee-toggle'></label><ul><li><span class='ee-k'>type:</span><span class='ee-v'>Feature</span></li><li><span class='ee-k'>id:</span><span class='ee-v'>2</span></li><li><label class='ee-shut'>geometry: Polygon (5 vertices)<input type='checkbox' class='ee-toggle'></label><ul><li><span class='ee-k'>type:</span><span class='ee-v'>Polygon</span></li><li><label class='ee-shut'>coordinates: List (1 element)<input type='checkbox' class='ee-toggle'></label><ul><li><label class='ee-shut'>0: List (5 elements)<input type='checkbox' class='ee-toggle'></label><ul><li><label class='ee-shut'>0: [103.95149946212769, -3.0533323564142636]<input type='checkbox' class='ee-toggle'></label><ul><li><span class='ee-k'>0:</span><span class='ee-v'>103.95149946212769</span></li><li><span class='ee-k'>1:</span><span class='ee-v'>-3.0533323564142636</span></li></ul></li><li><label class='ee-shut'>1: [103.95143508911134, -3.056010754388729]<input type='checkbox' class='ee-toggle'></label><ul><li><span class='ee-k'>0:</span><span class='ee-v'>103.95143508911134</span></li><li><span class='ee-k'>1:</span><span class='ee-v'>-3.056010754388729</span></li></ul></li><li><label class='ee-shut'>2: [103.96061897277832, -3.0560964630135694]<input type='checkbox' class='ee-toggle'></label><ul><li><span class='ee-k'>0:</span><span class='ee-v'>103.96061897277832</span></li><li><span class='ee-k'>1:</span><span class='ee-v'>-3.0560964630135694</span></li></ul></li><li><label class='ee-shut'>3: [103.96061897277832, -3.053225220356327]<input type='checkbox' class='ee-toggle'></label><ul><li><span class='ee-k'>0:</span><span class='ee-v'>103.96061897277832</span></li><li><span class='ee-k'>1:</span><span class='ee-v'>-3.053225220356327</span></li></ul></li><li><label class='ee-shut'>4: [103.95149946212769, -3.0533323564142636]<input type='checkbox' class='ee-toggle'></label><ul><li><span class='ee-k'>0:</span><span class='ee-v'>103.95149946212769</span></li><li><span class='ee-k'>1:</span><span class='ee-v'>-3.0533323564142636</span></li></ul></li></ul></li></ul></li></ul></li><li><label class='ee-shut'>properties: Object (1 property)<input type='checkbox' class='ee-toggle'></label><ul><li><span class='ee-k'>FID:</span><span class='ee-v'>2</span></li></ul></li></ul></li><li><label class='ee-shut'>3: Feature (Polygon, 1 property)<input type='checkbox' class='ee-toggle'></label><ul><li><span class='ee-k'>type:</span><span class='ee-v'>Feature</span></li><li><span class='ee-k'>id:</span><span class='ee-v'>3</span></li><li><label class='ee-shut'>geometry: Polygon (7 vertices)<input type='checkbox' class='ee-toggle'></label><ul><li><span class='ee-k'>type:</span><span class='ee-v'>Polygon</span></li><li><label class='ee-shut'>coordinates: List (1 element)<input type='checkbox' class='ee-toggle'></label><ul><li><label class='ee-shut'>0: List (7 elements)<input type='checkbox' class='ee-toggle'></label><ul><li><label class='ee-shut'>0: [103.97641181945802, -3.0864583112240953]<input type='checkbox' class='ee-toggle'></label><ul><li><span class='ee-k'>0:</span><span class='ee-v'>103.97641181945802</span></li><li><span class='ee-k'>1:</span><span class='ee-v'>-3.0864583112240953</span></li></ul></li><li><label class='ee-shut'>1: [103.97767782211304, -3.086286898841223]<input type='checkbox' class='ee-toggle'></label><ul><li><span class='ee-k'>0:</span><span class='ee-v'>103.97767782211304</span></li><li><span class='ee-k'>1:</span><span class='ee-v'>-3.086286898841223</span></li></ul></li><li><label class='ee-shut'>2: [103.97993087768556, -3.0848298924705997]<input type='checkbox' class='ee-toggle'></label><ul><li><span class='ee-k'>0:</span><span class='ee-v'>103.97993087768556</span></li><li><span class='ee-k'>1:</span><span class='ee-v'>-3.0848298924705997</span></li></ul></li><li><label class='ee-shut'>3: [103.97937297821046, -3.0825158194253044]<input type='checkbox' class='ee-toggle'></label><ul><li><span class='ee-k'>0:</span><span class='ee-v'>103.97937297821046</span></li><li><span class='ee-k'>1:</span><span class='ee-v'>-3.0825158194253044</span></li></ul></li><li><label class='ee-shut'>4: [103.97789239883424, -3.0810159545777953]<input type='checkbox' class='ee-toggle'></label><ul><li><span class='ee-k'>0:</span><span class='ee-v'>103.97789239883424</span></li><li><span class='ee-k'>1:</span><span class='ee-v'>-3.0810159545777953</span></li></ul></li><li><label class='ee-shut'>5: [103.97499561309816, -3.0827515122805553]<input type='checkbox' class='ee-toggle'></label><ul><li><span class='ee-k'>0:</span><span class='ee-v'>103.97499561309816</span></li><li><span class='ee-k'>1:</span><span class='ee-v'>-3.0827515122805553</span></li></ul></li><li><label class='ee-shut'>6: [103.97641181945802, -3.0864583112240953]<input type='checkbox' class='ee-toggle'></label><ul><li><span class='ee-k'>0:</span><span class='ee-v'>103.97641181945802</span></li><li><span class='ee-k'>1:</span><span class='ee-v'>-3.0864583112240953</span></li></ul></li></ul></li></ul></li></ul></li><li><label class='ee-shut'>properties: Object (1 property)<input type='checkbox' class='ee-toggle'></label><ul><li><span class='ee-k'>FID:</span><span class='ee-v'>3</span></li></ul></li></ul></li><li><label class='ee-shut'>4: Feature (Polygon, 1 property)<input type='checkbox' class='ee-toggle'></label><ul><li><span class='ee-k'>type:</span><span class='ee-v'>Feature</span></li><li><span class='ee-k'>id:</span><span class='ee-v'>4</span></li><li><label class='ee-shut'>geometry: Polygon (9 vertices)<input type='checkbox' class='ee-toggle'></label><ul><li><span class='ee-k'>type:</span><span class='ee-v'>Polygon</span></li><li><label class='ee-shut'>coordinates: List (1 element)<input type='checkbox' class='ee-toggle'></label><ul><li><label class='ee-shut'>0: List (9 elements)<input type='checkbox' class='ee-toggle'></label><ul><li><label class='ee-shut'>0: [-4.102889299392701, 5.713707261060872]<input type='checkbox' class='ee-toggle'></label><ul><li><span class='ee-k'>0:</span><span class='ee-v'>-4.102889299392701</span></li><li><span class='ee-k'>1:</span><span class='ee-v'>5.713707261060872</span></li></ul></li><li><label class='ee-shut'>1: [-4.102438688278199, 5.710173648788193]<input type='checkbox' class='ee-toggle'></label><ul><li><span class='ee-k'>0:</span><span class='ee-v'>-4.102438688278199</span></li><li><span class='ee-k'>1:</span><span class='ee-v'>5.710173648788193</span></li></ul></li><li><label class='ee-shut'>2: [-4.101483821868897, 5.710205675583411]<input type='checkbox' class='ee-toggle'></label><ul><li><span class='ee-k'>0:</span><span class='ee-v'>-4.101483821868897</span></li><li><span class='ee-k'>1:</span><span class='ee-v'>5.710205675583411</span></li></ul></li><li><label class='ee-shut'>3: [-4.101086854934693, 5.710664726118069]<input type='checkbox' class='ee-toggle'></label><ul><li><span class='ee-k'>0:</span><span class='ee-v'>-4.101086854934693</span></li><li><span class='ee-k'>1:</span><span class='ee-v'>5.710664726118069</span></li></ul></li><li><label class='ee-shut'>4: [-4.100604057312013, 5.710344458341974]<input type='checkbox' class='ee-toggle'></label><ul><li><span class='ee-k'>0:</span><span class='ee-v'>-4.100604057312013</span></li><li><span class='ee-k'>1:</span><span class='ee-v'>5.710344458341974</span></li></ul></li><li><label class='ee-shut'>5: [-4.100368022918702, 5.711657555086256]<input type='checkbox' class='ee-toggle'></label><ul><li><span class='ee-k'>0:</span><span class='ee-v'>-4.100368022918702</span></li><li><span class='ee-k'>1:</span><span class='ee-v'>5.711657555086256</span></li></ul></li><li><label class='ee-shut'>6: [-4.100528955459596, 5.712810515599572]<input type='checkbox' class='ee-toggle'></label><ul><li><span class='ee-k'>0:</span><span class='ee-v'>-4.100528955459596</span></li><li><span class='ee-k'>1:</span><span class='ee-v'>5.712810515599572</span></li></ul></li><li><label class='ee-shut'>7: [-4.101483821868897, 5.713525776973704]<input type='checkbox' class='ee-toggle'></label><ul><li><span class='ee-k'>0:</span><span class='ee-v'>-4.101483821868897</span></li><li><span class='ee-k'>1:</span><span class='ee-v'>5.713525776973704</span></li></ul></li><li><label class='ee-shut'>8: [-4.102889299392701, 5.713707261060872]<input type='checkbox' class='ee-toggle'></label><ul><li><span class='ee-k'>0:</span><span class='ee-v'>-4.102889299392701</span></li><li><span class='ee-k'>1:</span><span class='ee-v'>5.713707261060872</span></li></ul></li></ul></li></ul></li></ul></li><li><label class='ee-shut'>properties: Object (1 property)<input type='checkbox' class='ee-toggle'></label><ul><li><span class='ee-k'>FID:</span><span class='ee-v'>4</span></li></ul></li></ul></li><li><label class='ee-shut'>5: Feature (Polygon, 1 property)<input type='checkbox' class='ee-toggle'></label><ul><li><span class='ee-k'>type:</span><span class='ee-v'>Feature</span></li><li><span class='ee-k'>id:</span><span class='ee-v'>5</span></li><li><label class='ee-shut'>geometry: Polygon (5 vertices)<input type='checkbox' class='ee-toggle'></label><ul><li><span class='ee-k'>type:</span><span class='ee-v'>Polygon</span></li><li><label class='ee-shut'>coordinates: List (1 element)<input type='checkbox' class='ee-toggle'></label><ul><li><label class='ee-shut'>0: List (5 elements)<input type='checkbox' class='ee-toggle'></label><ul><li><label class='ee-shut'>0: [-7.5078946352005005, 6.07248787441419]<input type='checkbox' class='ee-toggle'></label><ul><li><span class='ee-k'>0:</span><span class='ee-v'>-7.5078946352005005</span></li><li><span class='ee-k'>1:</span><span class='ee-v'>6.07248787441419</span></li></ul></li><li><label class='ee-shut'>1: [-7.507594227790833, 6.070455495611355]<input type='checkbox' class='ee-toggle'></label><ul><li><span class='ee-k'>0:</span><span class='ee-v'>-7.507594227790833</span></li><li><span class='ee-k'>1:</span><span class='ee-v'>6.070455495611355</span></li></ul></li><li><label class='ee-shut'>2: [-7.506065368652345, 6.070471498624001]<input type='checkbox' class='ee-toggle'></label><ul><li><span class='ee-k'>0:</span><span class='ee-v'>-7.506065368652345</span></li><li><span class='ee-k'>1:</span><span class='ee-v'>6.070471498624001</span></li></ul></li><li><label class='ee-shut'>3: [-7.506564259529114, 6.072546551903519]<input type='checkbox' class='ee-toggle'></label><ul><li><span class='ee-k'>0:</span><span class='ee-v'>-7.506564259529114</span></li><li><span class='ee-k'>1:</span><span class='ee-v'>6.072546551903519</span></li></ul></li><li><label class='ee-shut'>4: [-7.5078946352005005, 6.07248787441419]<input type='checkbox' class='ee-toggle'></label><ul><li><span class='ee-k'>0:</span><span class='ee-v'>-7.5078946352005005</span></li><li><span class='ee-k'>1:</span><span class='ee-v'>6.07248787441419</span></li></ul></li></ul></li></ul></li></ul></li><li><label class='ee-shut'>properties: Object (1 property)<input type='checkbox' class='ee-toggle'></label><ul><li><span class='ee-k'>FID:</span><span class='ee-v'>5</span></li></ul></li></ul></li></ul></li></ul></li></ul></div><script>function toggleHeader() {\n",
       "    const parent = this.parentElement;\n",
       "    parent.className = parent.className === \"ee-open\" ? \"ee-shut\" : \"ee-open\";\n",
       "}\n",
       "\n",
       "for (let c of document.getElementsByClassName(\"ee-toggle\")) {\n",
       "    c.onclick = toggleHeader;\n",
       "}</script></div>"
      ],
      "text/plain": [
       "<ee.featurecollection.FeatureCollection at 0x7f39f2aec8e0>"
      ]
     },
     "execution_count": 29,
     "metadata": {},
     "output_type": "execute_result"
    }
   ],
   "source": [
    "roi = shapefile_to_ee(file_path_shapefile)\n",
    "roi"
   ]
  },
  {
   "cell_type": "markdown",
   "id": "cdad1067-225c-4d55-9fec-5bbc64c46889",
   "metadata": {},
   "source": [
    "Convert feature collection to shapefile"
   ]
  },
  {
   "cell_type": "code",
   "execution_count": 30,
   "id": "a7dea39d-cbc8-427e-9f3b-36f8165c4e7d",
   "metadata": {},
   "outputs": [
    {
     "data": {
      "text/html": [
       "\n",
       "            <style>\n",
       "                .geemap-dark {\n",
       "                    --jp-widgets-color: white;\n",
       "                    --jp-widgets-label-color: white;\n",
       "                    --jp-ui-font-color1: white;\n",
       "                    --jp-layout-color2: #454545;\n",
       "                    background-color: #383838;\n",
       "                }\n",
       "\n",
       "                .geemap-dark .jupyter-button {\n",
       "                    --jp-layout-color3: #383838;\n",
       "                }\n",
       "\n",
       "                .geemap-colab {\n",
       "                    background-color: var(--colab-primary-surface-color, white);\n",
       "                }\n",
       "\n",
       "                .geemap-colab .jupyter-button {\n",
       "                    --jp-layout-color3: var(--colab-primary-surface-color, white);\n",
       "                }\n",
       "            </style>\n",
       "            "
      ],
      "text/plain": [
       "<IPython.core.display.HTML object>"
      ]
     },
     "metadata": {},
     "output_type": "display_data"
    },
    {
     "name": "stdout",
     "output_type": "stream",
     "text": [
      "Shapefile saved to input_examples/example_shapefile.shp\n"
     ]
    },
    {
     "data": {
      "text/plain": [
       "'input_examples/example_shapefile.shp'"
      ]
     },
     "execution_count": 30,
     "metadata": {},
     "output_type": "execute_result"
    }
   ],
   "source": [
    "ee_to_shapefile(roi,file_path_shapefile)"
   ]
  },
  {
   "cell_type": "markdown",
   "id": "fabc4191-2df2-4c62-a8c0-c4eb559fc4da",
   "metadata": {},
   "source": [
    "#### Between input formats"
   ]
  },
  {
   "cell_type": "code",
   "execution_count": 31,
   "id": "6c09f692-b3b0-4020-8b15-6fee29c7a598",
   "metadata": {},
   "outputs": [
    {
     "data": {
      "text/html": [
       "\n",
       "            <style>\n",
       "                .geemap-dark {\n",
       "                    --jp-widgets-color: white;\n",
       "                    --jp-widgets-label-color: white;\n",
       "                    --jp-ui-font-color1: white;\n",
       "                    --jp-layout-color2: #454545;\n",
       "                    background-color: #383838;\n",
       "                }\n",
       "\n",
       "                .geemap-dark .jupyter-button {\n",
       "                    --jp-layout-color3: #383838;\n",
       "                }\n",
       "\n",
       "                .geemap-colab {\n",
       "                    background-color: var(--colab-primary-surface-color, white);\n",
       "                }\n",
       "\n",
       "                .geemap-colab .jupyter-button {\n",
       "                    --jp-layout-color3: var(--colab-primary-surface-color, white);\n",
       "                }\n",
       "            </style>\n",
       "            "
      ],
      "text/plain": [
       "<IPython.core.display.HTML object>"
      ]
     },
     "metadata": {},
     "output_type": "display_data"
    }
   ],
   "source": [
    "geojson_to_shapefile(file_path_geojson,file_path_shapefile)"
   ]
  },
  {
   "cell_type": "code",
   "execution_count": 32,
   "id": "9a52ac60-4f00-4d06-a550-708fccd46798",
   "metadata": {},
   "outputs": [
    {
     "data": {
      "text/html": [
       "\n",
       "            <style>\n",
       "                .geemap-dark {\n",
       "                    --jp-widgets-color: white;\n",
       "                    --jp-widgets-label-color: white;\n",
       "                    --jp-ui-font-color1: white;\n",
       "                    --jp-layout-color2: #454545;\n",
       "                    background-color: #383838;\n",
       "                }\n",
       "\n",
       "                .geemap-dark .jupyter-button {\n",
       "                    --jp-layout-color3: #383838;\n",
       "                }\n",
       "\n",
       "                .geemap-colab {\n",
       "                    background-color: var(--colab-primary-surface-color, white);\n",
       "                }\n",
       "\n",
       "                .geemap-colab .jupyter-button {\n",
       "                    --jp-layout-color3: var(--colab-primary-surface-color, white);\n",
       "                }\n",
       "            </style>\n",
       "            "
      ],
      "text/plain": [
       "<IPython.core.display.HTML object>"
      ]
     },
     "metadata": {},
     "output_type": "display_data"
    }
   ],
   "source": [
    "shapefile_to_geojson(file_path_shapefile,file_path_geojson)"
   ]
  },
  {
   "cell_type": "markdown",
   "id": "1e5acae7-4570-4a08-8d4a-346874a725a6",
   "metadata": {},
   "source": [
    "#### GEE assets"
   ]
  },
  {
   "cell_type": "markdown",
   "id": "4f222d33-6243-415f-8027-69b34c35f653",
   "metadata": {},
   "source": [
    "Import feature collection asset"
   ]
  },
  {
   "cell_type": "code",
   "execution_count": 33,
   "id": "dc2d76c1-6521-428f-95af-902c70402b8f",
   "metadata": {},
   "outputs": [
    {
     "data": {
      "text/html": [
       "\n",
       "            <style>\n",
       "                .geemap-dark {\n",
       "                    --jp-widgets-color: white;\n",
       "                    --jp-widgets-label-color: white;\n",
       "                    --jp-ui-font-color1: white;\n",
       "                    --jp-layout-color2: #454545;\n",
       "                    background-color: #383838;\n",
       "                }\n",
       "\n",
       "                .geemap-dark .jupyter-button {\n",
       "                    --jp-layout-color3: #383838;\n",
       "                }\n",
       "\n",
       "                .geemap-colab {\n",
       "                    background-color: var(--colab-primary-surface-color, white);\n",
       "                }\n",
       "\n",
       "                .geemap-colab .jupyter-button {\n",
       "                    --jp-layout-color3: var(--colab-primary-surface-color, white);\n",
       "                }\n",
       "            </style>\n",
       "            "
      ],
      "text/plain": [
       "<IPython.core.display.HTML object>"
      ]
     },
     "metadata": {},
     "output_type": "display_data"
    }
   ],
   "source": [
    "asset_name = \"example_asset\"\n",
    "\n",
    "feature_collection_asset_id = f\"projects/{gee_cloud_project}/assets/{asset_name}\""
   ]
  },
  {
   "cell_type": "code",
   "execution_count": 34,
   "id": "26446fd6-356e-49d1-97cd-665c9b668bd3",
   "metadata": {},
   "outputs": [
    {
     "data": {
      "text/html": [
       "\n",
       "            <style>\n",
       "                .geemap-dark {\n",
       "                    --jp-widgets-color: white;\n",
       "                    --jp-widgets-label-color: white;\n",
       "                    --jp-ui-font-color1: white;\n",
       "                    --jp-layout-color2: #454545;\n",
       "                    background-color: #383838;\n",
       "                }\n",
       "\n",
       "                .geemap-dark .jupyter-button {\n",
       "                    --jp-layout-color3: #383838;\n",
       "                }\n",
       "\n",
       "                .geemap-colab {\n",
       "                    background-color: var(--colab-primary-surface-color, white);\n",
       "                }\n",
       "\n",
       "                .geemap-colab .jupyter-button {\n",
       "                    --jp-layout-color3: var(--colab-primary-surface-color, white);\n",
       "                }\n",
       "            </style>\n",
       "            "
      ],
      "text/plain": [
       "<IPython.core.display.HTML object>"
      ]
     },
     "metadata": {},
     "output_type": "display_data"
    }
   ],
   "source": [
    "roi_asset = ee.FeatureCollection(feature_collection_asset_id)"
   ]
  },
  {
   "cell_type": "markdown",
   "id": "21e3f559-330a-481b-a2ac-4e357cce6c63",
   "metadata": {},
   "source": [
    "Export feature collection to asset"
   ]
  },
  {
   "cell_type": "code",
   "execution_count": 35,
   "id": "50edcc95-d69a-44c9-93a6-4ed5962482fd",
   "metadata": {},
   "outputs": [
    {
     "data": {
      "text/html": [
       "\n",
       "            <style>\n",
       "                .geemap-dark {\n",
       "                    --jp-widgets-color: white;\n",
       "                    --jp-widgets-label-color: white;\n",
       "                    --jp-ui-font-color1: white;\n",
       "                    --jp-layout-color2: #454545;\n",
       "                    background-color: #383838;\n",
       "                }\n",
       "\n",
       "                .geemap-dark .jupyter-button {\n",
       "                    --jp-layout-color3: #383838;\n",
       "                }\n",
       "\n",
       "                .geemap-colab {\n",
       "                    background-color: var(--colab-primary-surface-color, white);\n",
       "                }\n",
       "\n",
       "                .geemap-colab .jupyter-button {\n",
       "                    --jp-layout-color3: var(--colab-primary-surface-color, white);\n",
       "                }\n",
       "            </style>\n",
       "            "
      ],
      "text/plain": [
       "<IPython.core.display.HTML object>"
      ]
     },
     "metadata": {},
     "output_type": "display_data"
    }
   ],
   "source": [
    "asset_name = \"example_asset_copy\"\n",
    "\n",
    "feature_collection_asset_id = f\"projects/{gee_cloud_project}/assets/{asset_name}\""
   ]
  },
  {
   "cell_type": "code",
   "execution_count": 36,
   "id": "889717e4-98b4-4af6-94cc-c1ad9eb898da",
   "metadata": {},
   "outputs": [
    {
     "data": {
      "text/html": [
       "\n",
       "            <style>\n",
       "                .geemap-dark {\n",
       "                    --jp-widgets-color: white;\n",
       "                    --jp-widgets-label-color: white;\n",
       "                    --jp-ui-font-color1: white;\n",
       "                    --jp-layout-color2: #454545;\n",
       "                    background-color: #383838;\n",
       "                }\n",
       "\n",
       "                .geemap-dark .jupyter-button {\n",
       "                    --jp-layout-color3: #383838;\n",
       "                }\n",
       "\n",
       "                .geemap-colab {\n",
       "                    background-color: var(--colab-primary-surface-color, white);\n",
       "                }\n",
       "\n",
       "                .geemap-colab .jupyter-button {\n",
       "                    --jp-layout-color3: var(--colab-primary-surface-color, white);\n",
       "                }\n",
       "            </style>\n",
       "            "
      ],
      "text/plain": [
       "<IPython.core.display.HTML object>"
      ]
     },
     "metadata": {},
     "output_type": "display_data"
    }
   ],
   "source": [
    "task = ee.batch.Export.table.toAsset(\n",
    "    collection=roi,\n",
    "    description='example_asset',\n",
    "    assetId=feature_collection_asset_id,\n",
    ")\n",
    "\n",
    "task.start() # NB uncomment this line to export. \n"
   ]
  },
  {
   "cell_type": "markdown",
   "id": "81b0dc2f-3017-4e75-b0b4-8acc97b4478d",
   "metadata": {},
   "source": [
    "For progress see: https://code.earthengine.google.com/tasks (NB Task will fail if asset already exists)"
   ]
  },
  {
   "cell_type": "code",
   "execution_count": null,
   "id": "0c8560cf-8bd5-4449-95a8-855528cfd0bf",
   "metadata": {},
   "outputs": [],
   "source": []
  }
 ],
 "metadata": {
  "kernelspec": {
   "display_name": "Python 3",
   "language": "python",
   "name": "python3"
  },
  "language_info": {
   "codemirror_mode": {
    "name": "ipython",
    "version": 3
   },
   "file_extension": ".py",
   "mimetype": "text/x-python",
   "name": "python",
   "nbconvert_exporter": "python",
   "pygments_lexer": "ipython3",
   "version": "3.10.12"
  }
 },
 "nbformat": 4,
 "nbformat_minor": 5
}
