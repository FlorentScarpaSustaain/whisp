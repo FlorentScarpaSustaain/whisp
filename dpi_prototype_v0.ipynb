{
 "cells": [
  {
   "cell_type": "markdown",
   "id": "24e78804",
   "metadata": {
    "tags": []
   },
   "source": [
    "### Imports"
   ]
  },
  {
   "cell_type": "code",
   "execution_count": 65,
   "id": "bf2e1318",
   "metadata": {
    "tags": []
   },
   "outputs": [
    {
     "name": "stdout",
     "output_type": "stream",
     "text": [
      "imports complete\n"
     ]
    }
   ],
   "source": [
    "import requests\n",
    "import json\n",
    "import ee\n",
    "import geemap\n",
    "import folium\n",
    "import os\n",
    "import pandas as pd\n",
    "import glob\n",
    "import time\n",
    "import math\n",
    "print(\"imports complete\")"
   ]
  },
  {
   "cell_type": "markdown",
   "id": "ae42dc14",
   "metadata": {},
   "source": [
    "### Web app deployed URLs"
   ]
  },
  {
   "cell_type": "code",
   "execution_count": 66,
   "id": "998b8727",
   "metadata": {
    "tags": []
   },
   "outputs": [],
   "source": [
    "asset_registry_base = \"https://api-ar.agstack.org\"\n",
    "user_registry_base = \"https://user-registry.agstack.org\""
   ]
  },
  {
   "cell_type": "markdown",
   "id": "33160081",
   "metadata": {
    "tags": []
   },
   "source": [
    "### Add your email & password to register with Agstack and test out the APIs"
   ]
  },
  {
   "cell_type": "code",
   "execution_count": 67,
   "id": "05cfa011",
   "metadata": {
    "tags": []
   },
   "outputs": [],
   "source": [
    "email = \"my_name@domain.org\"\n",
    "phone_num = \"0123456789\"\n",
    "password = \"this_is_not_a_password\"\n",
    "discoverable = True\n",
    "##appears to not need proper credentials for running this..."
   ]
  },
  {
   "cell_type": "markdown",
   "id": "09252a5a",
   "metadata": {},
   "source": [
    "#### Start Session"
   ]
  },
  {
   "cell_type": "markdown",
   "id": "85407ebe-9e10-4cd9-8319-df192aa1ce8d",
   "metadata": {},
   "source": [
    "NB this is timing out so skipping section - seems to work without somehow. Maybe an open connection already..."
   ]
  },
  {
   "cell_type": "code",
   "execution_count": 68,
   "id": "70ace363",
   "metadata": {
    "tags": []
   },
   "outputs": [],
   "source": [
    "# ##using session to store cookies that are persistent\n",
    "# session = requests.session()\n",
    "# session.headers = headers = {\n",
    "#     'Accept': 'application/json',\n",
    "#     'Content-Type': 'application/json'\n",
    "# }\n",
    "# req_body = {'email': email, 'password': password}\n",
    "# res = session.post(user_registry_base, json=req_body)\n",
    "# print(session.cookies)\n",
    "# print(res.status_code)"
   ]
  },
  {
   "cell_type": "code",
   "execution_count": 69,
   "id": "5ae87ed9-f4e4-4a98-81df-e66e17aa77f1",
   "metadata": {
    "tags": []
   },
   "outputs": [],
   "source": [
    "ee.Initialize()"
   ]
  },
  {
   "cell_type": "markdown",
   "id": "318b82f3-9177-4541-96dc-e90aa9f0f0cc",
   "metadata": {},
   "source": [
    "### Functions"
   ]
  },
  {
   "cell_type": "code",
   "execution_count": 70,
   "id": "deaf10d8-d5ea-4634-b855-353da6972547",
   "metadata": {
    "tags": []
   },
   "outputs": [],
   "source": [
    "############## stats prep functions\n",
    "\n",
    "#Function to take nominal scale from template image and set as \"scale\" property in target image. \n",
    "#useful for composite images (e.g., mosaics) where original scale is lost\n",
    "def set_scale_property_from_image(target_image,template_image,template_band_index=0,verbose=False):\n",
    "    out_scale = get_scale_from_image(template_image,band_index=template_band_index)\n",
    "    if verbose:\n",
    "        print(\"template_band_index: \",template_band_index)\n",
    "        print(\"scale (m): \",out_scale)\n",
    "    output_image = target_image.set(\"scale\",out_scale)\n",
    "    return output_image\n",
    "\n",
    "#gets nominal scale from image (NB this should not be from a composite/mosaic or incorrrect value returned)\n",
    "def get_scale_from_image(image,band_index=0):\n",
    "    return image.select(band_index).projection().nominalScale().getInfo()\n",
    "\n",
    "# get pixel area in km2 for image\n",
    "def binary_to_area_km2(image):\n",
    "    return image.multiply(ee.Image.pixelArea()).divide(1e6) \n",
    "\n",
    "# add area property in km2 for input feature (ROI)\n",
    "def add_area_km2_property_to_feature (feature):\n",
    "    feature = feature.set(\"geometry_area_km2\",feature.area().divide(1e6))#add area\n",
    "    # if verbose:\n",
    "    #     print(feature.get(\"geometry_area_km2\").getInfo())\n",
    "    return feature\n",
    "\n",
    "############ AgStack geo id conversion\n",
    "\n",
    "#converts a list of geo_ids fron asset registry into a feature collection (with a \"geo_id\" set as a property for each feature)\n",
    "def geo_id_list_to_feature_collection(list_of_geo_ids):\n",
    "    out_fc_list = []\n",
    "    if isinstance(list_of_geo_ids, list):\n",
    "        for geo_id in list_of_geo_ids:\n",
    "            feature = geo_id_to_feature(geo_id)\n",
    "            out_fc_list.append(feature)\n",
    "    else:\n",
    "        geo_id = list_of_geo_ids\n",
    "        feature = geo_id_to_feature(geo_id)\n",
    "        out_fc_list.append(feature)\n",
    "    return ee.FeatureCollection(out_fc_list)\n",
    "\n",
    "#converts geo_id fron asset registry into a feature with \"geo_id\" set as a property\n",
    "def geo_id_to_feature(geo_id):\n",
    "    res = session.get(asset_registry_base + f\"/fetch-field/{geo_id}?s2_index=\") # s2 index are indexes for which we need S2 cell token\n",
    "    poly_json = res.json()['Geo JSON']['geometry']['coordinates']\n",
    "    feature = json_to_feature_with_id(poly_json,geo_id)\n",
    "    return feature\n",
    "\n",
    "#converts json into a feature with a specified id column\n",
    "def json_to_feature_with_id(poly_json,geo_id):\n",
    "    return ee.Feature(ee.Geometry.Polygon(poly_json),ee.Dictionary([\"geo_id\",geo_id]))\n",
    "\n",
    "#converts geo_id from asset registry into a json\n",
    "def geo_id_to_json(geo_id):\n",
    "    res = session.get(asset_registry_base + f\"/fetch-field/{geo_id}?s2_index=\") # s2 index are indexes for which we need S2 cell token\n",
    "    poly_json = res.json()['Geo JSON']['geometry']['coordinates']\n",
    "    return poly_json\n",
    "\n",
    "############ misc\n",
    "\n",
    "#useful for tidying dataframe after long to wide reformatting e.g. rmeoves unwanted levels/ column names etc\n",
    "def tidy_dataframe_after_pivot (df):\n",
    "    df.columns = df.columns.droplevel(0) #remove sum\n",
    "    df.columns.name = None               #remove \"dataset_name\" label\n",
    "    df = df.reset_index()    #index to columns\n",
    "    return df\n",
    "\n",
    "### creates random points within either a polygon or a feature collection (as converts all to a sinlge geometry anyhow) \n",
    "# following two dont need to be functions really\n",
    "def create_random_points_in_polys(feature):\n",
    "    return ee.FeatureCollection.randomPoints(region = feature.geometry(max_error), points = number_of_points, seed=seed, maxError=10)\n",
    "\n",
    "#only for random polygon generation - where there is no geo_id column this adds it based on \"system:index\" so rest of code works\n",
    "def set_geo_id_from_system_index (feature): \n",
    "  return feature.set(\"geo_id\",(feature.get(\"system:index\")))\n",
    "\n",
    "def remapper_esri(image):\n",
    "    remapped = image.remap([1,2,4,5,7,8,9,10,11],[1,2,3,4,5,6,7,8,9])\n",
    "    return remapped\n",
    "\n",
    "######### statistics\n",
    "\n",
    "# reduce regions - for mapping stats of image collection and adding image name to output stats \n",
    "#(image name needs to be stored as \"system:index\" property)\n",
    "def reduceStats (image):\n",
    "    fc = ee.FeatureCollection(image.reduceRegions(collection=roi,reducer=ee.Reducer.sum(),scale=image.get(\"scale\")))\n",
    "    fc = fc.map(lambda feature: feature.set(\"dataset_name\",image.get(\"system:index\")))\n",
    "    return fc\n",
    "\n",
    "\n",
    "######### protected area preparation\n",
    "\n",
    "#This computes the feature's geometry radius from the 'REP_AREA' field and adds it as a property.\n",
    "def bufferByArea (feature):\n",
    "    buffer_size = (ee.Number(feature.get('REP_AREA')).divide(math.pi)).sqrt().multiply(1000) #calculating radius in metres from REP_AREA in km2\n",
    "    return ee.Feature(feature).buffer(buffer_size,1);  ### buffering (incl., max error parameter should be 0m. But put as 1m anyhow - doesn't seem to make too much of a difference for speed)\n",
    "\n",
    "#filtering as per the WDPA Manual: https://www.protectedplanet.net/en/resources/wdpa-manual\n",
    "#NB could argue to include Biosphere reserves (excluded currently as some are bueffered by huge areas and thus not relevant to protection)  \n",
    "def filterWDPA (fc): \n",
    "    fcOut = fc.filter(ee.Filter.And(ee.Filter.neq('STATUS', 'Proposed'),ee.Filter.neq('STATUS', 'Not Reported'),ee.Filter.neq('DESIG_ENG', 'UNESCO-MAB Biosphere Reserve')))\n",
    "    return fcOut"
   ]
  },
  {
   "cell_type": "markdown",
   "id": "749c76fb-f3ba-43cf-a918-4f6d09e43a7e",
   "metadata": {
    "tags": []
   },
   "source": [
    "### 1. Grab land cover datasets"
   ]
  },
  {
   "cell_type": "markdown",
   "id": "91e74c34-930d-447d-8863-52dcf0b01b7b",
   "metadata": {},
   "source": [
    "#### Fetch: GLAD: Global 2000-2020 Land Cover and Land Use Change\n",
    "\n",
    "For full legend see: https://storage.googleapis.com/earthenginepartners-hansen/GLCLU2000-2020/v2/legend.xlsx\n",
    "\n",
    "NB all tree cover have values related to height: from 3m to >25m. \n",
    "stable tree height values: 25-48 (terra firma); 125-148 (wetland);\n",
    "height after disturbance values: 49-72 (terra firma); 149-172 (wetland) \n",
    "tree gain height values: 73-96 (terra firma); 173-196 (wetland); \n",
    "\n",
    "for now including all heights until agreed forest definition \n",
    "\n",
    "- value 25 tree stable\n",
    "- value 49 tree after disturbance \n",
    "- value 73 tree gain\n",
    "- value 248 tree from crop (NB need to investigate: likely plantation but could be secondary)\n",
    "- value 245 crop\n",
    "- value 24 vegetation \n",
    "- value 200 water \n",
    "- value 250 built up\n"
   ]
  },
  {
   "cell_type": "code",
   "execution_count": 71,
   "id": "d9949f13-4509-4223-81ef-760447af9b55",
   "metadata": {
    "tags": []
   },
   "outputs": [],
   "source": [
    "glad_landcover_2020 = ee.Image('projects/glad/GLCLU2020/v2/LCLUC_2020')\n",
    "landmask = ee.Image(\"projects/glad/OceanMask\").lte(1)\n",
    "glad_landcover_2020 = glad_landcover_2020.updateMask(landmask);\n",
    "\n",
    "#visualisation parameters (for original land cover)\n",
    "visParamMap = {\"min\":0,\"max\":255,\"palette\":[\"FEFECC\",\"FAFAC3\",\"F7F7BB\",\"F4F4B3\",\"F1F1AB\",\"EDEDA2\",\"EAEA9A\",\"E7E792\",\"E4E48A\",\n",
    "\"E0E081\",\"DDDD79\",\"DADA71\",\"D7D769\",\"D3D360\",\"D0D058\",\"CDCD50\",\"CACA48\",\"C6C63F\",\"C3C337\",\"C0C02F\",\"BDBD27\",\"B9B91E\",\"B6B616\",\n",
    "\"B3B30E\",\"B0B006\",\"609C60\",\"5C985C\",\"589558\",\"549254\",\"508E50\",\"4C8B4C\",\"488848\",\"448544\",\"408140\",\"3C7E3C\",\"387B38\",\"347834\",\n",
    "\"317431\",\"2D712D\",\"296E29\",\"256B25\",\"216721\",\"1D641D\",\"196119\",\"155E15\",\"115A11\",\"0D570D\",\"095409\",\"065106\",\"643700\",\"643a00\",\n",
    "\"643d00\",\"644000\",\"644300\",\"644600\",\"644900\",\"654c00\",\"654f00\",\"655200\",\"655500\",\"655800\",\"655a00\",\"655d00\",\"656000\",\"656300\",\n",
    "\"666600\",\"666900\",\"666c00\",\"666f00\",\"667200\",\"667500\",\"667800\",\"667b00\",\"ff99ff\",\"FC92FC\",\"F98BF9\",\"F685F6\",\"F37EF3\",\"F077F0\",\n",
    "\"ED71ED\",\"EA6AEA\",\"E763E7\",\"E45DE4\",\"E156E1\",\"DE4FDE\",\"DB49DB\",\"D842D8\",\"D53BD5\",\"D235D2\",\"CF2ECF\",\"CC27CC\",\"C921C9\",\"C61AC6\",\n",
    "\"C313C3\",\"C00DC0\",\"BD06BD\",\"bb00bb\",\"000003\",\"000004\",\"000005\",\"BFC0C0\",\"B7BDC2\",\"AFBBC4\",\"A8B8C6\",\"A0B6C9\",\"99B3CB\",\"91B1CD\",\n",
    "\"89AFD0\",\"82ACD2\",\"7AAAD4\",\"73A7D6\",\"6BA5D9\",\"64A3DB\",\"5CA0DD\",\"549EE0\",\"4D9BE2\",\"4599E4\",\"3E96E6\",\"3694E9\",\"2E92EB\",\"278FED\",\n",
    "\"1F8DF0\",\"188AF2\",\"1088F4\",\"0986F7\",\"55A5A5\",\"53A1A2\",\"519E9F\",\"4F9B9C\",\"4D989A\",\"4B9597\",\"499294\",\"478F91\",\"458B8F\",\"43888C\",\n",
    "\"418589\",\"3F8286\",\"3D7F84\",\"3B7C81\",\"39797E\",\"37767B\",\"357279\",\"336F76\",\"316C73\",\"2F6970\",\"2D666E\",\"2B636B\",\"296068\",\"285D66\",\n",
    "\"bb93b0\",\"B78FAC\",\"B48CA9\",\"B189A6\",\"AE85A2\",\"AA829F\",\"A77F9C\",\"A47B99\",\"A17895\",\"9E7592\",\"9A718F\",\"976E8C\",\"946B88\",\"916885\",\n",
    "\"8D6482\",\"8A617F\",\"875E7B\",\"845A78\",\"815775\",\"7D5472\",\"7A506E\",\"774D6B\",\"744A68\",\"714765\",\"de7cbb\",\"DA77B7\",\"D772B3\",\"D46EAF\",\n",
    "\"D169AB\",\"CE64A8\",\"CB60A4\",\"C85BA0\",\"C4579C\",\"C15298\",\"BE4D95\",\"BB4991\",\"B8448D\",\"B54089\",\"B23B86\",\"AF3682\",\"AB327E\",\"A82D7A\",\n",
    "\"A52976\",\"A22473\",\"9F1F6F\",\"9C1B6B\",\"991667\",\"961264\",\"000000\",\"000000\",\"000000\",\n",
    "\"1964EB\",\"1555E4\",\"1147DD\",\"0E39D6\",\"0A2ACF\",\"071CC8\",\"030EC1\",\"0000BA\",\n",
    "\"0000BA\",\"040464\",\"0000FF\",\"3051cf\",\"000000\",\"000000\",\"000000\",\"000000\",\n",
    "\"000000\",\"000000\",\"000000\",\"000000\",\"000000\",\"000000\",\"000000\",\"000000\",\n",
    "\"000000\",\"000000\",\"000000\",\"000000\",\"000000\",\"000000\",\"000000\",\"000000\",\n",
    "\"547FC4\",\"4D77BA\",\"466FB1\",\"4067A7\",\"395F9E\",\"335895\",\"335896\",\"335897\",\"ff2828\",\"ffffff\",\"d0ffff\",\"ffe0d0\",\"ff7d00\",\"fac800\",\"c86400\",\n",
    "\"fff000\",\"afcd96\",\"afcd96\",\"64dcdc\",\"00ffff\",\"00ffff\",\"00ffff\",\"111133\",\"000000\"]};\n",
    "\n",
    "#trees\n",
    "glad_landcover_2020_main = glad_landcover_2020.where((glad_landcover_2020.gte(25)).And(glad_landcover_2020.lte(48)), 25)\n",
    "glad_landcover_2020_main = glad_landcover_2020_main.where((glad_landcover_2020.gte(125)).And(glad_landcover_2020.lte(148)), 25)\n",
    "# glad_landcover_2020_main = glad_landcover_2020_main.where((glad_landcover_2020.gte(49)).And(glad_landcover_2020.lte(72)), 49)\n",
    "# glad_landcover_2020_main = glad_landcover_2020_main.where((glad_landcover_2020.gte(149)).And(glad_landcover_2020.lte(172)), 49)\n",
    "# glad_landcover_2020_main = glad_landcover_2020_main.where((glad_landcover_2020.gte(73)).And(glad_landcover_2020.lte(96)), 73)\n",
    "# glad_landcover_2020_main = glad_landcover_2020_main.where((glad_landcover_2020.gte(173)).And(glad_landcover_2020.lte(196)), 73)\n",
    "\n",
    "# #vegetation\n",
    "# glad_landcover_2020_main = glad_landcover_2020_main.where((glad_landcover_2020.gte(0)).And(glad_landcover_2020.lte(24)), 24)\n",
    "# glad_landcover_2020_main = glad_landcover_2020_main.where((glad_landcover_2020.gte(100)).And(glad_landcover_2020.lte(124)), 24)\n",
    "# glad_landcover_2020_main = glad_landcover_2020_main.where((glad_landcover_2020.eq(240)).Or(glad_landcover_2020.eq(249)), 24)\n",
    "\n",
    "# #cropland\n",
    "# glad_landcover_2020_main = glad_landcover_2020_main.where((glad_landcover_2020.gte(244)).And(glad_landcover_2020.lte(247)), 244)\n",
    "\n",
    "# #water\n",
    "# glad_landcover_2020_main = glad_landcover_2020_main.where((glad_landcover_2020.gte(200)).And(glad_landcover_2020.lte(211)), 200)\n",
    "# glad_landcover_2020_main = glad_landcover_2020_main.where(glad_landcover_2020.eq(254), 200)\n",
    "\n",
    "# #built up\n",
    "# glad_landcover_2020_main = glad_landcover_2020_main.where((glad_landcover_2020.gte(250)).And(glad_landcover_2020.lte(253)), 250)\n"
   ]
  },
  {
   "cell_type": "markdown",
   "id": "4d28ef10-22cb-4e6a-bc55-54f3bb90c020",
   "metadata": {},
   "source": [
    "#### Get stable trees for 2020"
   ]
  },
  {
   "cell_type": "code",
   "execution_count": 72,
   "id": "b22b5834-5956-458e-99eb-d1854e9037b9",
   "metadata": {
    "tags": []
   },
   "outputs": [],
   "source": [
    "glad_stable_tree_2020 = glad_landcover_2020_main.eq(25) #binary stable trees\n",
    "\n",
    "glad_stable_tree_2020 = set_scale_property_from_image(glad_stable_tree_2020,glad_landcover_2020)\n",
    "\n",
    "glad_stable_tree_2020_area_km2 = binary_to_area_km2(glad_stable_tree_2020)\n",
    "\n",
    "glad_stable_tree_2020_area_km2 = set_scale_property_from_image(glad_stable_tree_2020_area_km2,glad_landcover_2020)\n"
   ]
  },
  {
   "cell_type": "markdown",
   "id": "9a239095-5568-4ee9-aff0-9508756b47d1",
   "metadata": {
    "tags": []
   },
   "source": [
    "#### Fetch: Tropical Moist Forest by JRC\n",
    "Link: https:#  www.science.org/doi/10.1126/sciadv.abe1603 (paper); https://forobs.jrc.ec.europa.eu/static/tmf/TMF_DataUsersGuide.pdf (dataset description)  \n",
    "\n",
    "Overview: The transition map shows the spatial distribution of the tropical moist forest at the end of\n",
    "the year 2022. It depicts the sequential dynamics of changes by providing transition stages\n",
    "from the first year of the monitoring period to the end of the year 2022 (undisturbed forest,\n",
    "degradation, deforestation, regrowth, conversion to plantations) and subclasses for each\n",
    "transition class (period of disturbance, age of regrowth, several types of forest, several\n",
    "types of degradation and deforestation, change types within the mangroves and tree\n",
    "plantations).\n",
    "\n",
    "Reference: C. Vancutsem, F. Achard, J.-F. Pekel, G. Vieilledent, S. Carboni, D. Simonetti, J. Gallego,\n",
    "L.E.O.C. Aragão, R. Nasi. Long-term (1990-2019) monitoring of forest cover changes in the\n",
    "humid tropics. Science Advances 2021\n",
    "\n",
    "\n",
    "Legend: \n",
    "- value 10. Undisturbed Tropical Moist Forest (TMF) \n",
    "- value 20. Degraded TMF \n",
    "- value 30. TMF regrowth \n",
    "- value 41. Deforested land - Forest converted to tree plantations \n",
    "- value 42. Deforested Land - Forest converted to water\n",
    "- value 43. Deforested Land - Forest converted to other LC\n",
    "- value 50. Ongoing deforestation or degradation (2019-2021)\n",
    "- value 60. Permanent or Seasonal Water  (Pekel et al. 2016 & updates for years 2015-2021) \n",
    "- value 70. Other land cover (including afforestation)"
   ]
  },
  {
   "cell_type": "code",
   "execution_count": 73,
   "id": "705083fb-f59b-4dad-bcd8-15288fa41bf6",
   "metadata": {
    "tags": []
   },
   "outputs": [],
   "source": [
    "JRC_TMF_transitions_raw = ee.ImageCollection('projects/JRC/TMF/v1_2021/TransitionMap_Subtypes')\n",
    "\n",
    "JRC_TMF_transitions = JRC_TMF_transitions_raw.mosaic() ### NB check why 2021?\n",
    "\n",
    "JRC_TMF_transitions_main = JRC_TMF_transitions.where((JRC_TMF_transitions.gte(10))and(JRC_TMF_transitions.lte(12)), 10) \n",
    "#JRC_TMF_transitions_main = JRC_TMF_transitions_main.where((JRC_TMF_transitions.gte(21))and(JRC_TMF_transitions.lte(26)), 20)\n",
    "#JRC_TMF_transitions_main = JRC_TMF_transitions_main.where((JRC_TMF_transitions.gte(61))and(JRC_TMF_transitions.lte(62)), 20)\n",
    "# JRC_TMF_transitions_main = JRC_TMF_transitions_main.where((JRC_TMF_transitions.gte(31))and(JRC_TMF_transitions.lte(33)), 30)\n",
    "# JRC_TMF_transitions_main = JRC_TMF_transitions_main.where((JRC_TMF_transitions.gte(63))and(JRC_TMF_transitions.lte(64)), 30)\n",
    "# JRC_TMF_transitions_main = JRC_TMF_transitions_main.where((JRC_TMF_transitions.gte(81))and(JRC_TMF_transitions.lte(86)), 41)\n",
    "# JRC_TMF_transitions_main = JRC_TMF_transitions_main.where((JRC_TMF_transitions.gte(73))and(JRC_TMF_transitions.lte(74)), 42)\n",
    "# JRC_TMF_transitions_main = JRC_TMF_transitions_main.where((JRC_TMF_transitions.gte(41))and(JRC_TMF_transitions.lte(42)), 43)\n",
    "# JRC_TMF_transitions_main = JRC_TMF_transitions_main.where((JRC_TMF_transitions.gte(65))and(JRC_TMF_transitions.lte(66)), 43)\n",
    "# JRC_TMF_transitions_main = JRC_TMF_transitions_main.where((JRC_TMF_transitions.gte(51))and(JRC_TMF_transitions.lte(54)), 50)\n",
    "# JRC_TMF_transitions_main = JRC_TMF_transitions_main.where((JRC_TMF_transitions.eq(67)),50)\n",
    "# JRC_TMF_transitions_main = JRC_TMF_transitions_main.where((JRC_TMF_transitions.gte(71))and(JRC_TMF_transitions.lte(72)), 60)\n",
    "# JRC_TMF_transitions_main = JRC_TMF_transitions_main.where((JRC_TMF_transitions.gte(91)), 70)"
   ]
  },
  {
   "cell_type": "markdown",
   "id": "9b32a041-ca9c-4d98-ad0b-d8cc354f6696",
   "metadata": {
    "tags": []
   },
   "source": [
    "##### Get undisturbed trees for 2020"
   ]
  },
  {
   "cell_type": "code",
   "execution_count": 74,
   "id": "35316941-13b8-44a3-8385-d63dcf9acbdd",
   "metadata": {
    "tags": []
   },
   "outputs": [
    {
     "name": "stdout",
     "output_type": "stream",
     "text": [
      "30.000000000000004\n"
     ]
    }
   ],
   "source": [
    "# JRC_TMF_transitions_trees = JRC_TMF_transitions_main.remap([10,20,30,41,42,43,50,60,70],\n",
    "JRC_TMF_undisturbed_2020 = JRC_TMF_transitions_main.eq(10) # binary undisturbed trees\n",
    "\n",
    "#getting scale from first band of raw image and adding to properties of final composite\n",
    "JRC_TMF_undisturbed_2020 = set_scale_property_from_image(JRC_TMF_undisturbed_2020,\n",
    "                                                                  JRC_TMF_transitions_raw.first())\n",
    "\n",
    "#area (NB could be done at end in zonal stats)\n",
    "JRC_TMF_undisturbed_2020_area_km2 = binary_to_area_km2(JRC_TMF_undisturbed_2020)\n",
    "\n",
    "JRC_TMF_undisturbed_2020_area_km2 = set_scale_property_from_image(JRC_TMF_undisturbed_2020_area_km2,\n",
    "                                                                  JRC_TMF_transitions_raw.first())\n",
    "\n",
    "print (JRC_TMF_undisturbed_2020_area_km2.get(\"scale\").getInfo())"
   ]
  },
  {
   "cell_type": "code",
   "execution_count": 75,
   "id": "fc0e5c7c-2a39-42c9-b2a7-1eff7b27e0f6",
   "metadata": {
    "tags": []
   },
   "outputs": [],
   "source": [
    "##checks\n",
    "# m = geemap.Map()\n",
    "# m.addLayer(JRC_TMF_undisturbed_2020.randomVisualizer(),{},'JRC_TMF_undisturbed_2020')\n",
    "# m.addLayer(JRC_TMF_transitions_main.eq(10).randomVisualizer(),{},'TMF-simple')\n",
    "\n",
    "# m.addLayer(roi,{},'field')\n",
    "\n",
    "# m.centerObject(roi)\n",
    "# m"
   ]
  },
  {
   "cell_type": "markdown",
   "id": "157bf08c-77a7-4fb0-bacc-de30ec0cc72a",
   "metadata": {
    "tags": []
   },
   "source": [
    "#### Fetch: Global Forest Change \n",
    "Link: https://www.science.org/doi/10.1126/science.1244693 (paper); https://storage.googleapis.com/earthenginepartners-hansen/GFC-2022-v1.10/download.html (user notes v1.10)\n",
    "\n",
    "Citation: Hansen, M. C., P. V. Potapov, R. Moore, M. Hancher, S. A. Turubanova, A. Tyukavina, D. Thau, S. V. Stehman, S. J. Goetz, T. R. Loveland, A. Kommareddy, A. Egorov, L. Chini, C. O. Justice, and J. R. G. Townshend. \"High-Resolution Global Maps of 21st-Century Forest Cover Change.\" Science 342 (15 November): 850-53. 10.1126/science.1244693.\n",
    "\n",
    "Overview: Results from time-series analysis of Landsat images in characterizing global forest extent and change from 2000 through 2022.\n",
    "\n",
    "\n",
    "N.B. Next GFC update should give tree cover in 2020. Currently showing tree cover is for 2000 with loss pixels between 2001 and 2020 removed. \n"
   ]
  },
  {
   "cell_type": "code",
   "execution_count": 76,
   "id": "16ef7c4d-5131-4589-adb6-8e7aa1b2cdc2",
   "metadata": {
    "tags": []
   },
   "outputs": [],
   "source": [
    "gfc = ee.Image(\"UMD/hansen/global_forest_change_2022_v1_10\")\n",
    "\n",
    "gfc_treeCover_2000 = gfc.select(['treecover2000']) #get tree cover in 2000\n",
    "\n",
    "gfc_loss_2001_2020 = gfc.select(['lossyear']).lte(20) # get loss pixels since 2000 and up to and including 2020\n",
    "\n",
    "gfc_treeCover_2020 = gfc_treeCover_2000.where(gfc_loss_2001_2020.eq(1),0) # remove loss from original tree cover ot approximate remaining percentage cover\n"
   ]
  },
  {
   "cell_type": "markdown",
   "id": "e3179265-78c9-4944-9ae8-82212e0af7ce",
   "metadata": {},
   "source": [
    "##### Get treecover in 2020"
   ]
  },
  {
   "cell_type": "code",
   "execution_count": 77,
   "id": "f660ba55-b21e-4c37-a7ad-4941c3af0031",
   "metadata": {
    "tags": []
   },
   "outputs": [],
   "source": [
    "gfc_treeCover_2020_binary=gfc_treeCover_2020.gt(10) #FAO 10% definition...\n",
    "\n",
    "gfc_treeCover_2020_binary = set_scale_property_from_image(gfc_treeCover_2020_binary,gfc)\n",
    "## TO DO think about gain and 2010 cover\n",
    "\n",
    "gfc_treeCover_2020_area_km2 = binary_to_area_km2(gfc_treeCover_2020_binary)\n",
    "\n",
    "gfc_treeCover_2020_area_km2 = set_scale_property_from_image(gfc_treeCover_2020_area_km2,gfc)\n",
    "\n",
    "# Map = geemap.Map()\n",
    "# Map.addLayer(gfc_treeCover_2020_binary,{'min':0,'max':1,'palette':[\"blue\",\"green\"]})\n",
    "# Map"
   ]
  },
  {
   "cell_type": "markdown",
   "id": "57293c03-68e9-4313-a138-2bbaf41c23a9",
   "metadata": {},
   "source": [
    "##### Get area of all valid pixels"
   ]
  },
  {
   "cell_type": "code",
   "execution_count": 78,
   "id": "d7cd8121-cbd6-4cdd-bff1-686a284bb09c",
   "metadata": {
    "tags": []
   },
   "outputs": [
    {
     "name": "stdout",
     "output_type": "stream",
     "text": [
      "template_band_index:  0\n",
      "scale (m):  27.829872698318393\n"
     ]
    }
   ],
   "source": [
    "total_roi_area_gfc_km2 = binary_to_area_km2(gfc_treeCover_2020_binary.gte(0))\n",
    "total_roi_area_gfc_km2 = set_scale_property_from_image(total_roi_area_gfc_km2,gfc,0,True)\n",
    "\n",
    "# Map = geemap.Map()\n",
    "# Map.addLayer(total_roi_area_gfc_km2)\n",
    "# Map"
   ]
  },
  {
   "cell_type": "markdown",
   "id": "c617f1e7-e46e-4a6e-b65d-10bfc9a2fd75",
   "metadata": {
    "tags": []
   },
   "source": [
    "#### Fetch: ESRI 10m Annual Land Use Land Cover (2017-2022)¶\n",
    "- Link: https://gee-community-catalog.org/projects/S2TSLULC/?h=esri\n",
    "\n",
    "- Overview: Time series of annual global maps of land use and land cover (LULC). It currently has data from 2017-2021. The maps are derived from ESA Sentinel-2 imagery at 10m resolution. Each map is a composite of LULC predictions for 9 classes throughout the year in order to generate a representative snapshot of each year. This dataset was generated by Impact Observatory, who used billions of human-labeled pixels (curated by the National Geographic Society) to train a deep learning model for land classification. This map uses an updated model from the 10-class model and combines Grass(formerly class 3) and Scrub (formerly class 6) into a single Rangeland class (class 11). The original Esri 2020 Land Cover collection uses 10 classes (Grass and Scrub separate) and an older version of the underlying deep learning model. \n",
    "\n",
    "- Reference:  Karra, Kontgis, et al. “Global land use/land cover with Sentinel-2 and deep learning.” IGARSS 2021-2021 IEEE International Geoscience and Remote Sensing Symposium. IEEE, 2021.\n",
    "- Legend (remapped values and hex code):\n",
    "- 1\tWater\t#1A5BAB\n",
    "- 2\tTrees\t#358221\n",
    "- 3\tFlooded Vegetation\t#87D19E\n",
    "- 4\tCrops\t#FFDB5C\n",
    "- 5\tBuilt Area\t#ED022A\n",
    "- 6\tBare Ground\t#EDE9E4\n",
    "- 7\tSnow/Ice\t#F2FAFF\n",
    "- 8\tClouds\t#C8C8C8\n",
    "- 9\tRangeland\t#C6AD8D"
   ]
  },
  {
   "cell_type": "markdown",
   "id": "1aaaac29-7889-493a-8971-8e32be7708e5",
   "metadata": {
    "tags": []
   },
   "source": [
    "##### Get landcover for 2020"
   ]
  },
  {
   "cell_type": "code",
   "execution_count": 79,
   "id": "157e44f6-4752-4374-8e70-520ec50c50b9",
   "metadata": {
    "tags": []
   },
   "outputs": [],
   "source": [
    "esri_lulc10 = ee.ImageCollection(\"projects/sat-io/open-datasets/landcover/ESRI_Global-LULC_10m_TS\");\n",
    "\n",
    "#esri_lulc10 = ee.ImageCollection(\"projects/sat-io/open-datasets/landcover/ESRI_Global-LULC_10m\")/old link\n",
    "esri_lulc10_2020 = esri_lulc10.filterDate('2020-01-01','2020-12-31').map(remapper_esri).mosaic()\n"
   ]
  },
  {
   "cell_type": "markdown",
   "id": "8577f031-a171-4730-b344-f5d724b601a4",
   "metadata": {
    "tags": []
   },
   "source": [
    "##### Get trees\n"
   ]
  },
  {
   "cell_type": "code",
   "execution_count": 80,
   "id": "1d391bdf-d1b3-46fb-a861-98a81f4e346a",
   "metadata": {
    "tags": []
   },
   "outputs": [
    {
     "name": "stdout",
     "output_type": "stream",
     "text": [
      "template_band_index:  0\n",
      "scale (m):  10\n"
     ]
    }
   ],
   "source": [
    "esri_trees_2020 = esri_lulc10_2020.eq(2) #get trees    NB check flooded veg class\n",
    "\n",
    "esri_trees_2020 = set_scale_property_from_image(esri_trees_2020,esri_lulc10.first(),0)\n",
    "\n",
    "esri_trees_2020_area_km2 = binary_to_area_km2(esri_trees_2020)\n",
    "\n",
    "esri_trees_2020_area_km2 = set_scale_property_from_image(esri_trees_2020_area_km2,esri_lulc10.first(),0,verbose=True)\n",
    "\n",
    "# Map = geemap.Map()\n",
    "# Map.addLayer(esri_trees_2020,{'min':0,'max':1,'palette':[\"blue\",\"green\"]})\n",
    "# Map"
   ]
  },
  {
   "cell_type": "code",
   "execution_count": 81,
   "id": "5d708987-7ce6-4f78-abed-a132effe3ba9",
   "metadata": {
    "tags": []
   },
   "outputs": [
    {
     "name": "stdout",
     "output_type": "stream",
     "text": [
      "template_band_index:  0\n",
      "scale (m):  10\n"
     ]
    }
   ],
   "source": [
    "total_roi_area_esri_km2 = binary_to_area_km2(esri_trees_2020.gte(0))\n",
    "total_roi_area_esri_km2 = set_scale_property_from_image(total_roi_area_esri_km2,esri_lulc10.first(),0,True)\n",
    "\n",
    "# Map = geemap.Map()\n",
    "# Map.addLayer(total_roi_area_km2)\n",
    "# Map"
   ]
  },
  {
   "cell_type": "markdown",
   "id": "e74b37b2-f1ba-4c13-ab47-9416ab125762",
   "metadata": {
    "tags": []
   },
   "source": [
    "#### Fetch: World Database on Protected Areas (WDPA)\n",
    "Link: www.protectedplanet.net\n",
    "\n",
    "Citation: UNEP-WCMC and IUCN (year), Protected Planet: The World Database on Protected Areas (WDPA) [On-line], [insert month/year of the version used], Cambridge, UK: UNEP-WCMC and IUCN Available at: www.protectedplanet.net.\n",
    "\n",
    "Overview: The World Database on Protected Areas (WDPA) is the most up-to-date and complete source of information on protected areas, updated monthly with submissions from governments, non-governmental organizations, landowners, and communities. It is managed by the United Nations Environment Programme's World Conservation Monitoring Centre (UNEP-WCMC) with support from IUCN and its World Commission on Protected Areas (WCPA).\n",
    "\n",
    "WDPA User Manual. For details including methodologies,standards, data providers, metadata field definitions and descriptions, refer to the WDPA User Manual.\n",
    " \n",
    "\n",
    "NB Filtering and preparation steps needs checking as based on use for protected area statistics\n",
    "- date: this is using \"current\" data (it's updated monthly) - assuming if plot is in a protected area they need to know even if after 2020.\n",
    "- point data: currently buffering by reported area where it exists\n",
    "- removed sites: removed all but designated sites; removed Man and Biosphere reserves (for detail see: WDPA Manual)\n",
    "\n",
    "TO DO: add OECMs - these are now being recognised as protected areas\n"
   ]
  },
  {
   "cell_type": "code",
   "execution_count": 82,
   "id": "8e962a1b-5b19-4fc5-8a3b-30931fd7d961",
   "metadata": {
    "tags": []
   },
   "outputs": [],
   "source": [
    "wdpa_pnt = ee.FeatureCollection(\"WCMC/WDPA/current/points\");\n",
    "\n",
    "wdpa_poly = ee.FeatureCollection(\"WCMC/WDPA/current/polygons\");\n",
    "\n",
    "#apply filters and merge polygon with buffered points  \n",
    "wdpa_filt = filterWDPA(wdpa_poly).merge(filterWDPA(wdpa_pnt).filter(ee.Filter.gt('REP_AREA', 0)).map(bufferByArea));#apply filter function to polygons and merge to points after filtering and buffering them\n",
    "\n",
    "#turn into image (no crs etc set currently)\n",
    "wdpa_overlap = wdpa_filt.reduceToImage(['STATUS_YR'],'min');  #make into raster - remove mask if want 0s\n",
    "\n",
    "#make binary\n",
    "wdpa_binary = wdpa_overlap.lt(2070).unmask()\n"
   ]
  },
  {
   "cell_type": "markdown",
   "id": "27936847-1625-4a98-9466-5d598db59f1a",
   "metadata": {},
   "source": [
    "##### Setting projection and resolution etc (based on GFC scale)"
   ]
  },
  {
   "cell_type": "code",
   "execution_count": 83,
   "id": "a5f7ff99-eabd-42af-b3d4-7df0b3de2665",
   "metadata": {
    "tags": []
   },
   "outputs": [
    {
     "name": "stdout",
     "output_type": "stream",
     "text": [
      "template_band_index:  0\n",
      "scale (m):  27.829872698318393\n"
     ]
    }
   ],
   "source": [
    "#reproject based on gfc data\n",
    "crs_template = gfc.select(0).projection().crs().getInfo()\n",
    "\n",
    "wdpa_binary_reproj = wdpa_binary.reproject(\n",
    "  crs= crs_template,\n",
    "  scale= get_scale_from_image(gfc),\n",
    ").int8()\n",
    "\n",
    "protected_areas_WDPA_area_km2 = binary_to_area_km2(wdpa_binary_reproj)\n",
    "\n",
    "protected_areas_WDPA_area_km2 = set_scale_property_from_image(protected_areas_WDPA_area_km2,gfc,0,verbose=True)\n",
    "\n",
    "# wdpa_binary_reproj\n",
    "# ##checks\n",
    "# Map = geemap.Map()\n",
    "# # Map.addLayer(filterWDPA(wdpa_poly),\"\",\"filtered wdpa_poly\",0,1)\n",
    "# # Map.addLayer(filterWDPA(wdpa_pnt),\"\",\"filtered wdpa_pnt\",0,1)\n",
    "# Map.addLayer(wdpa_filt,\"\",\"filtered wdpa_poly buff pnt\",0,1)\n",
    "\n",
    "# Map.addLayer(wdpa_binary, {min:0, max:1, 'palette':['blue','red']},'wdpa_binary',0,1); #visualise raster - min status yr (only useful for timeseries work)\n",
    "# Map.addLayer(wdpa_binary_reproj, {min:0, max:1, 'palette':['white','purple']},'wdpa_binary_reproj',1,1); #visualise raster - with count of overlaps\n",
    "# Map.addLayer(protected_areas_WDPA_area_km2, {min:0, max:10, 'palette':['blue','red']},'protected_areas_WDPA_area_km2',1,1); #visualise raster - min status yr (only useful for timeseries work)\n",
    "\n",
    "# Map"
   ]
  },
  {
   "cell_type": "markdown",
   "id": "51fb7a7c-48ad-4789-82f8-36a50cff8af3",
   "metadata": {
    "tags": []
   },
   "source": [
    "#### Fetch: Key Biodiversity Areas (KBAs)\n",
    "Link: https://www.keybiodiversityareas.org/kba-data/request; \n",
    "https://www.keybiodiversityareas.org/termsofservice\n",
    "\n",
    "Citation: BirdLife International ([year e.g. 2023]). The World Database of Key Biodiversity Areas. Developed by the KBA Partnership: BirdLife International, International Union for the Conservation of Nature, Amphibian Survival Alliance, Conservation International, Critical Ecosystem Partnership Fund, Global Environment Facility, Re:wild, NatureServe, Rainforest Trust, Royal Society for the Protection of Birds, Wildlife Conservation Society and World Wildlife Fund. Available at www.keybiodiversityareas.org. [Accessed (please insert date of download dd/mm/yyyy)].\n",
    "\n",
    "Overview: Key Biodiversity Areas, which are among the most incredible and diverse places on Earth for nature, from deserts to the middle of the ocean, are sites of global importance to the planet’s overall health and the persistence of biodiversity. The Key Biodiversity Area Partnership - an ambitious partnership of 13 global conservation organizations - is helping prevent the rapid loss of biodiversity by supporting nationally led efforts to identify these places on the planet that are critical for the survival of unique plants and animals, and the ecological communities they comprise.\n",
    "\n",
    "By mapping these most important sites on Earth, and providing information about the wildlife living there, private industry, governments and other stakeholders can make the best decisions about how to manage that land (or waters), where to avoid development, and how best to conserve and protect the animals and plants for which the sites are so important.\n",
    "\n",
    "NB\n",
    "- Useful flag as these areas typically become protected (large overlap with existing protected areas whcih take a w hwile to be designated) \n",
    "- The last populations of species are found in a subset of KBAs (i.e., Alliance for Zero Extinction (AZE) sites)\n",
    "- KBAs have rigourous inclusion criteria and typically have active management for protecting species they contain\n"
   ]
  },
  {
   "cell_type": "code",
   "execution_count": 84,
   "id": "f329dd50-3505-4fcc-8aee-7f044f30ad27",
   "metadata": {
    "tags": []
   },
   "outputs": [],
   "source": [
    "kbas_2023_poly = ee.FeatureCollection(\"projects/ee-andyarnellgee/assets/p0004_commodity_mapper_support/raw/KBAsGlobal_2023_March_01_POL\");##uploaded - may need rights\n",
    "\n",
    "kba_2023_overlap = kbas_2023_poly.reduceToImage(['SitRecID'],'count').selfMask()  #make into raster - remove mask if want 0s\n",
    "\n",
    "kba_2023_binary = kba_2023_overlap.gte(0)"
   ]
  },
  {
   "cell_type": "code",
   "execution_count": 85,
   "id": "8edf2113-431c-4e9f-9191-a6406f825e1b",
   "metadata": {
    "tags": []
   },
   "outputs": [
    {
     "name": "stdout",
     "output_type": "stream",
     "text": [
      "template_band_index:  0\n",
      "scale (m):  27.829872698318393\n"
     ]
    }
   ],
   "source": [
    "#reproject based on gfc data\n",
    "crs_template = gfc.select(0).projection().crs().getInfo()\n",
    "\n",
    "kba_2023_binary_reproj = kba_2023_binary.reproject(\n",
    "  crs= crs_template,\n",
    "  scale= get_scale_from_image(gfc),\n",
    ").int8()\n",
    "\n",
    "kba_2023_area_km2 = binary_to_area_km2(kba_2023_binary_reproj)\n",
    "\n",
    "kba_2023_area_km2 = set_scale_property_from_image(kba_2023_area_km2,gfc,0,verbose=True)\n",
    "\n",
    "# # ##checks\n",
    "# Map = geemap.Map()\n",
    "# Map.addLayer(kbas_2023_poly,\"\",'kbas_2023_poly',1,1); \n",
    "# # Map.addLayer(kba_2023_overlap, {'min':0, 'max':5, 'palette':['blue','red']},'kba_overlap',0,1); #visualise raster - with count of overlaps\n",
    "# Map.addLayer(kba_2023_binary, {'min':0, 'max':1, 'palette':['white','black']},'kba_binary',1,1); #binary raster\n",
    "# Map.addLayer(kba_2023_area_km2, {'min':0, 'max':100, 'palette':['white','black']},'kba_2023_area_km2',1,1); # raster with area\n",
    "\n",
    "# Map\n"
   ]
  },
  {
   "cell_type": "markdown",
   "id": "f20cf6e3-d30a-4c92-a9f8-65afcaebcdd7",
   "metadata": {},
   "source": [
    "#### Fetch: oil palm data\n",
    "Link: https://developers.google.com/earth-engine/datasets/catalog/BIOPAMA_GlobalOilPalm_v1;  https://essd.copernicus.org/articles/13/1211/2021/\n",
    "\n",
    "Citation: Adrià, Descals, Serge, Wich, Erik, Meijaard, David, Gaveau, Stephen, Peedell, & Zoltan, Szantoi. (2021, January 27). High resolution global industrial and smallholder oil palm map for 2019 (Version v1). Zenodo. doi:10.5281/zenodo.4473715\n",
    "\n",
    "Overview: The dataset is a 10m global industrial and smallholder oil palm map for 2019. It covers areas where oil palm plantations were detected. The classified images are the output of a convolutional neural network based on Sentinel-1 and Sentinel-2 half-year composites."
   ]
  },
  {
   "cell_type": "code",
   "execution_count": 86,
   "id": "0d03c745-f6d0-49ef-9d77-4b23cbb34853",
   "metadata": {
    "tags": []
   },
   "outputs": [],
   "source": [
    "# Import the dataset; a collection of composite granules from 2019.\n",
    "oil_palm_descals_raw = ee.ImageCollection('BIOPAMA/GlobalOilPalm/v1');\n",
    "\n",
    "# Select the classification band.\n",
    "opClass = oil_palm_descals_raw.select('classification');\n",
    "\n",
    "# Mosaic all of the granules into a single image.\n",
    "oil_palm_descals_mosaic = opClass.mosaic();\n",
    "\n",
    "# Visualisation only - not needed: create a mask to add transparency to non-oil palm plantation class pixels.\n",
    "mask = oil_palm_descals_mosaic.neq(3);\n",
    "mask = mask.where(mask.eq(0), 0.6);\n",
    "\n",
    "oil_palm_descals_binary = oil_palm_descals_mosaic.lte(2)"
   ]
  },
  {
   "cell_type": "code",
   "execution_count": 87,
   "id": "821eb472-fefe-4297-95d6-49d3742b57c5",
   "metadata": {
    "tags": []
   },
   "outputs": [
    {
     "name": "stdout",
     "output_type": "stream",
     "text": [
      "template_band_index:  0\n",
      "scale (m):  10\n"
     ]
    }
   ],
   "source": [
    "oil_palm_descals_binary_area_km2 = binary_to_area_km2(oil_palm_descals_binary)\n",
    "\n",
    "oil_palm_descals_binary_area_km2 = set_scale_property_from_image(oil_palm_descals_binary_area_km2,oil_palm_descals_raw.first(),0,verbose=True)\n",
    "\n",
    "##checks\n",
    "# Define visualization parameters.\n",
    "classificationVis = {\n",
    "  'min': 1,\n",
    "  'max': 3,\n",
    "  'palette': ['ff0000','ef00ff', '696969']\n",
    "};\n",
    "Map = geemap.Map()\n",
    "\n",
    "# # Display the data on the map.\n",
    "# Map.addLayer(oil_palm_descals_mosaic.updateMask(mask),\n",
    "#              classificationVis, 'Oil palm plantation type', 1,1);\n",
    "# Map.addLayer(oil_palm_descals_binary,\n",
    "#              {'min':0,'max':1,'palette':[\"white\",\"orange\"]}, 'Oil palm plantation binary', 1,1);\n",
    "\n",
    "# Map.setCenter(-3.0175, 5.2745,12);\n",
    "# Map"
   ]
  },
  {
   "cell_type": "markdown",
   "id": "c19a9302-6c36-4e29-a952-fa4cb604a6bb",
   "metadata": {
    "tags": []
   },
   "source": [
    "### 2. Fetch some fields (public)"
   ]
  },
  {
   "cell_type": "code",
   "execution_count": 88,
   "id": "7b271dc7-8a0b-497b-95b8-bbbf9bd98b09",
   "metadata": {
    "tags": []
   },
   "outputs": [
    {
     "name": "stdout",
     "output_type": "stream",
     "text": [
      "['0520cfac98fbc1bd7952b1c07a9f6983b83625722b6f665ea83ac9aad3512918', 'b84f55de2b7f3c77d1cbeb8b026a1b29be42d8b08d92058c9143e0556456820f', 'b7c15efb6e3c63fcfe649a2d994973a6f5caa844f720f0edb7cf24f6a6c3c1b3', 'fa2aff0d60cf1bc0e1f1dd4b91daf932940c31c021ca1b84f5b9445855eef02f', '88bec54ad04804f5b1fafbc131266640a129be2840fa6797cda358d7e831b907', 'ef2f7c46fbe4fc892fdb81f9a31c9c507b9f1e4548504247dcbbab28cf8e436c', '97408ef7bdac487e4a42e4abf20492b786310889fd4b0478603e2d0004c40bfb', 'c288d6c94efa9011c0e3452af9f7fa0941661377030e10d29c68764617f9816d', '1a41a309ae2387f36a604c9a6c81887e64357a7f61d228758e23ef766286fcd7', '1a4472dc40700ef33f931863f58d444f243d64418616678fcf85c57e1f4bbf45', '8e2accea7ddbb84b7f6001e00bcb60f57f563c80633b53859993522a6f05727a']\n"
     ]
    }
   ],
   "source": [
    "CIV_ids = ['0520cfac98fbc1bd7952b1c07a9f6983b83625722b6f665ea83ac9aad3512918',\n",
    "           'b84f55de2b7f3c77d1cbeb8b026a1b29be42d8b08d92058c9143e0556456820f',\n",
    "           'b7c15efb6e3c63fcfe649a2d994973a6f5caa844f720f0edb7cf24f6a6c3c1b3',\n",
    "            'fa2aff0d60cf1bc0e1f1dd4b91daf932940c31c021ca1b84f5b9445855eef02f']\n",
    "\n",
    "GHA_ids = ['88bec54ad04804f5b1fafbc131266640a129be2840fa6797cda358d7e831b907', \n",
    "'ef2f7c46fbe4fc892fdb81f9a31c9c507b9f1e4548504247dcbbab28cf8e436c',\n",
    "'97408ef7bdac487e4a42e4abf20492b786310889fd4b0478603e2d0004c40bfb']\n",
    "\n",
    "IDN_ids = ['c288d6c94efa9011c0e3452af9f7fa0941661377030e10d29c68764617f9816d', \n",
    "       '1a41a309ae2387f36a604c9a6c81887e64357a7f61d228758e23ef766286fcd7',\n",
    "       '1a4472dc40700ef33f931863f58d444f243d64418616678fcf85c57e1f4bbf45',\n",
    "       '8e2accea7ddbb84b7f6001e00bcb60f57f563c80633b53859993522a6f05727a']\n",
    "\n",
    "all_geo_ids= CIV_ids+GHA_ids+IDN_ids\n",
    "\n",
    "print (all_geo_ids)"
   ]
  },
  {
   "cell_type": "markdown",
   "id": "18de5299-128a-4480-9ffc-61a992a39045",
   "metadata": {
    "tags": []
   },
   "source": [
    "#### Transform geometries into a feature collection\n",
    "NB Currently not working due to session issues"
   ]
  },
  {
   "cell_type": "code",
   "execution_count": 89,
   "id": "51c53e49-26dc-41d7-b3f3-d7fbc5585c20",
   "metadata": {
    "tags": []
   },
   "outputs": [],
   "source": [
    "# roi = geo_id_list_to_feature_collection(all_geo_ids)\n",
    "\n",
    "# #checks \n",
    "# print (\"Count of geo ids in list: \", len(all_geo_ids))\n",
    "# print (\"Count of features in FeatureCollection: \", roi.size().getInfo())"
   ]
  },
  {
   "cell_type": "markdown",
   "id": "dfccd94a-dd4b-4476-95a3-4d271e8a52dd",
   "metadata": {},
   "source": [
    "##### Alternative feature collection: create random polygons\n",
    "select random points inside administrative boundaries and buffer them "
   ]
  },
  {
   "cell_type": "code",
   "execution_count": 121,
   "id": "e66a1a43-7c05-4bb1-a6fa-c7827a0d9b38",
   "metadata": {
    "tags": []
   },
   "outputs": [],
   "source": [
    "verbose = False\n",
    "\n",
    "points_per_admin_boundary = False #if true will make the number of points per admin boundary (i.e. no of points x no of boundaries), as opposed tob spread across them\n",
    "\n",
    "number_of_points = 200\n",
    "\n",
    "number_of_boundaries = 2\n",
    "\n",
    "buffer_distance_meters = 500\n",
    "\n",
    "seed = 1 # so it can be reproducable - each number is a new random combination                                                                                                \n",
    "   \n",
    "max_error = 1000 #in meters for admin boundaries (can be coarse ot speed up computation, as just example)\n",
    "\n",
    "admin_boundaries = ee.FeatureCollection(\"FAO/GAUL_SIMPLIFIED_500m/2015/level2\").filter(ee.Filter.inList(\"ADM0_NAME\",[\"Indonesia\",\"Ghana\"]))##.filter(ee.Filter.lt(\"Shape_Area\",1000))\n",
    "\n",
    "random_collection = admin_boundaries.randomColumn(seed = seed).sort('random').limit(number_of_boundaries)\n",
    "\n",
    "if verbose:\n",
    "    print(\"number of admin regions\",random_collection.size().getInfo())\n",
    "\n",
    "    print(\"number of countries\",random_collection.aggregate_array(\"ADM0_NAME\").distinct().length().getInfo())\n",
    "    print(random_collection.aggregate_array(\"ADM0_NAME\").distinct().getInfo())\n",
    "    \n",
    "if points_per_admin_boundary:\n",
    "    random_points = random_collection.map(create_random_points_in_polys).flatten()\n",
    "else:\n",
    "    random_points = create_random_points_in_polys(random_collection)\n",
    "\n",
    "random_buffers = random_points.map(lambda feature: feature.buffer(buffer_distance_meters,100)) ##buffer by distance in meters\n",
    "\n",
    "roi= random_buffers.map(set_geo_id_from_system_index) ## add surrogate \"geo_id\" for formatting\n",
    "\n",
    "#checks\n",
    "if verbose:\n",
    "    #print(\"number of points\",random_points.size().getInfo())\n",
    "    print(\"number of buffers created\",random_buffers.size().getInfo())\n",
    "    geemap.ee_to_pandas(roi)###create random points and buffer them\n"
   ]
  },
  {
   "cell_type": "markdown",
   "id": "1eb4baba-247a-4090-aeb5-679746a15b6c",
   "metadata": {
    "tags": []
   },
   "source": [
    "#### Add area property to feature(s) and select columns of interest"
   ]
  },
  {
   "cell_type": "code",
   "execution_count": 122,
   "id": "e366c6e2-7c9c-47ca-8aad-76a0dde5cc5f",
   "metadata": {
    "tags": []
   },
   "outputs": [
    {
     "data": {
      "text/html": [
       "<div>\n",
       "<style scoped>\n",
       "    .dataframe tbody tr th:only-of-type {\n",
       "        vertical-align: middle;\n",
       "    }\n",
       "\n",
       "    .dataframe tbody tr th {\n",
       "        vertical-align: top;\n",
       "    }\n",
       "\n",
       "    .dataframe thead th {\n",
       "        text-align: right;\n",
       "    }\n",
       "</style>\n",
       "<table border=\"1\" class=\"dataframe\">\n",
       "  <thead>\n",
       "    <tr style=\"text-align: right;\">\n",
       "      <th></th>\n",
       "      <th>geometry_area_km2</th>\n",
       "      <th>geo_id</th>\n",
       "    </tr>\n",
       "  </thead>\n",
       "  <tbody>\n",
       "    <tr>\n",
       "      <th>0</th>\n",
       "      <td>0.684923</td>\n",
       "      <td>0</td>\n",
       "    </tr>\n",
       "    <tr>\n",
       "      <th>1</th>\n",
       "      <td>0.684923</td>\n",
       "      <td>1</td>\n",
       "    </tr>\n",
       "    <tr>\n",
       "      <th>2</th>\n",
       "      <td>0.684923</td>\n",
       "      <td>2</td>\n",
       "    </tr>\n",
       "    <tr>\n",
       "      <th>3</th>\n",
       "      <td>0.684923</td>\n",
       "      <td>3</td>\n",
       "    </tr>\n",
       "    <tr>\n",
       "      <th>4</th>\n",
       "      <td>0.684923</td>\n",
       "      <td>4</td>\n",
       "    </tr>\n",
       "    <tr>\n",
       "      <th>...</th>\n",
       "      <td>...</td>\n",
       "      <td>...</td>\n",
       "    </tr>\n",
       "    <tr>\n",
       "      <th>195</th>\n",
       "      <td>0.684923</td>\n",
       "      <td>195</td>\n",
       "    </tr>\n",
       "    <tr>\n",
       "      <th>196</th>\n",
       "      <td>0.684923</td>\n",
       "      <td>196</td>\n",
       "    </tr>\n",
       "    <tr>\n",
       "      <th>197</th>\n",
       "      <td>0.684923</td>\n",
       "      <td>197</td>\n",
       "    </tr>\n",
       "    <tr>\n",
       "      <th>198</th>\n",
       "      <td>0.684923</td>\n",
       "      <td>198</td>\n",
       "    </tr>\n",
       "    <tr>\n",
       "      <th>199</th>\n",
       "      <td>0.684923</td>\n",
       "      <td>199</td>\n",
       "    </tr>\n",
       "  </tbody>\n",
       "</table>\n",
       "<p>200 rows × 2 columns</p>\n",
       "</div>"
      ],
      "text/plain": [
       "     geometry_area_km2 geo_id\n",
       "0             0.684923      0\n",
       "1             0.684923      1\n",
       "2             0.684923      2\n",
       "3             0.684923      3\n",
       "4             0.684923      4\n",
       "..                 ...    ...\n",
       "195           0.684923    195\n",
       "196           0.684923    196\n",
       "197           0.684923    197\n",
       "198           0.684923    198\n",
       "199           0.684923    199\n",
       "\n",
       "[200 rows x 2 columns]"
      ]
     },
     "execution_count": 122,
     "metadata": {},
     "output_type": "execute_result"
    }
   ],
   "source": [
    "roi = roi.map(add_area_km2_property_to_feature).select([\"geometry_area_km2\",\"geo_id\"]) ##select only fields of interest\n",
    "\n",
    "geemap.ee_to_pandas(roi)\n",
    "##checks\n",
    "##print (\"first feature area\",roi.first().get(\"area_km2\").getInfo())"
   ]
  },
  {
   "cell_type": "markdown",
   "id": "6075125b-851e-490e-a60a-bb8d867aafb3",
   "metadata": {
    "tags": []
   },
   "source": [
    "#### Create dictionary of images and image names"
   ]
  },
  {
   "cell_type": "code",
   "execution_count": 123,
   "id": "ab2fb688-b1e5-4b90-b17c-a16fb91cfd5d",
   "metadata": {
    "tags": []
   },
   "outputs": [
    {
     "name": "stdout",
     "output_type": "stream",
     "text": [
      "number of images:  8\n"
     ]
    },
    {
     "data": {
      "text/html": [
       "<div><style>:root {\n",
       "  --font-color-primary: var(--jp-content-font-color0, rgba(0, 0, 0, 1));\n",
       "  --font-color-secondary: var(--jp-content-font-color2, rgba(0, 0, 0, 0.6));\n",
       "  --font-color-accent: rgba(123, 31, 162, 1);\n",
       "  --border-color: var(--jp-border-color2, #e0e0e0);\n",
       "  --background-color: var(--jp-layout-color0, white);\n",
       "  --background-color-row-even: var(--jp-layout-color1, white);\n",
       "  --background-color-row-odd: var(--jp-layout-color2, #eeeeee);\n",
       "}\n",
       "\n",
       "html[theme=\"dark\"],\n",
       "body[data-theme=\"dark\"],\n",
       "body.vscode-dark {\n",
       "  --font-color-primary: rgba(255, 255, 255, 1);\n",
       "  --font-color-secondary: rgba(255, 255, 255, 0.6);\n",
       "  --font-color-accent: rgb(173, 132, 190);\n",
       "  --border-color: #2e2e2e;\n",
       "  --background-color: #111111;\n",
       "  --background-color-row-even: #111111;\n",
       "  --background-color-row-odd: #313131;\n",
       "}\n",
       "\n",
       ".ee {\n",
       "  padding: 1em;\n",
       "  line-height: 1.5em;\n",
       "  min-width: 300px;\n",
       "  max-width: 1200px;\n",
       "  overflow-y: scroll;\n",
       "  max-height: 600px;\n",
       "  border: 1px solid var(--border-color);\n",
       "  font-family: monospace;\n",
       "}\n",
       "\n",
       ".ee li {\n",
       "  list-style-type: none;\n",
       "}\n",
       "\n",
       ".ee ul {\n",
       "  padding-left: 1.5em !important;\n",
       "  margin: 0;\n",
       "}\n",
       "\n",
       ".ee > ul {\n",
       "  padding-left: 0 !important;\n",
       "}\n",
       "\n",
       ".ee-open,\n",
       ".ee-shut {\n",
       "  color: var(--font-color-secondary);\n",
       "  cursor: pointer;\n",
       "  margin: 0;\n",
       "}\n",
       "\n",
       ".ee-open:hover,\n",
       ".ee-shut:hover {\n",
       "  color: var(--font-color-primary);\n",
       "}\n",
       "\n",
       ".ee-k {\n",
       "  color: var(--font-color-accent);\n",
       "  margin-right: 6px;\n",
       "}\n",
       "\n",
       ".ee-v {\n",
       "  color: var(--font-color-primary);\n",
       "}\n",
       "\n",
       ".ee-toggle {\n",
       "  display: none;\n",
       "}\n",
       "\n",
       ".ee-shut + ul {\n",
       "  display: none;\n",
       "}\n",
       "\n",
       ".ee-open + ul {\n",
       "  display: block;\n",
       "}\n",
       "\n",
       ".ee-shut::before {\n",
       "  display: inline-block;\n",
       "  content: \"▼\";\n",
       "  margin-right: 6px;\n",
       "  transform: rotate(-90deg);\n",
       "  transition: transform 0.2s;\n",
       "}\n",
       "\n",
       ".ee-open::before {\n",
       "  transform: rotate(0deg);\n",
       "  display: inline-block;\n",
       "  content: \"▼\";\n",
       "  margin-right: 6px;\n",
       "  transition: transform 0.2s;\n",
       "}\n",
       "</style><div class='ee'><ul><li><label class='ee-shut'>ImageCollection (8 elements)<input type='checkbox' class='ee-toggle'></label><ul><li><span class='ee-k'>type:</span><span class='ee-v'>ImageCollection</span></li><li><label class='ee-shut'>bands: []<input type='checkbox' class='ee-toggle'></label><ul></ul></li><li><label class='ee-shut'>features: List (8 elements)<input type='checkbox' class='ee-toggle'></label><ul><li><label class='ee-shut'>0: Image (1 band)<input type='checkbox' class='ee-toggle'></label><ul><li><span class='ee-k'>type:</span><span class='ee-v'>Image</span></li><li><label class='ee-shut'>bands: List (1 element)<input type='checkbox' class='ee-toggle'></label><ul><li><label class='ee-shut'>0: \"remapped\", float, EPSG:4326<input type='checkbox' class='ee-toggle'></label><ul><li><span class='ee-k'>id:</span><span class='ee-v'>remapped</span></li><li><span class='ee-k'>crs:</span><span class='ee-v'>EPSG:4326</span></li><li><label class='ee-shut'>crs_transform: [1, 0, 0, 0, 1, 0]<input type='checkbox' class='ee-toggle'></label><ul><li><span class='ee-k'>0:</span><span class='ee-v'>1</span></li><li><span class='ee-k'>1:</span><span class='ee-v'>0</span></li><li><span class='ee-k'>2:</span><span class='ee-v'>0</span></li><li><span class='ee-k'>3:</span><span class='ee-v'>0</span></li><li><span class='ee-k'>4:</span><span class='ee-v'>1</span></li><li><span class='ee-k'>5:</span><span class='ee-v'>0</span></li></ul></li><li><label class='ee-shut'>data_type: float<input type='checkbox' class='ee-toggle'></label><ul><li><span class='ee-k'>type:</span><span class='ee-v'>PixelType</span></li><li><span class='ee-k'>precision:</span><span class='ee-v'>float</span></li></ul></li></ul></li></ul></li><li><label class='ee-shut'>properties: Object (2 properties)<input type='checkbox' class='ee-toggle'></label><ul><li><span class='ee-k'>scale:</span><span class='ee-v'>10</span></li><li><span class='ee-k'>system:index:</span><span class='ee-v'>total_roi_area_esri_km2</span></li></ul></li></ul></li><li><label class='ee-shut'>1: Image (1 band)<input type='checkbox' class='ee-toggle'></label><ul><li><span class='ee-k'>type:</span><span class='ee-v'>Image</span></li><li><label class='ee-shut'>bands: List (1 element)<input type='checkbox' class='ee-toggle'></label><ul><li><label class='ee-shut'>0: \"min\", float, EPSG:4326<input type='checkbox' class='ee-toggle'></label><ul><li><span class='ee-k'>id:</span><span class='ee-v'>min</span></li><li><span class='ee-k'>crs:</span><span class='ee-v'>EPSG:4326</span></li><li><label class='ee-shut'>crs_transform: [1, 0, 0, 0, 1, 0]<input type='checkbox' class='ee-toggle'></label><ul><li><span class='ee-k'>0:</span><span class='ee-v'>1</span></li><li><span class='ee-k'>1:</span><span class='ee-v'>0</span></li><li><span class='ee-k'>2:</span><span class='ee-v'>0</span></li><li><span class='ee-k'>3:</span><span class='ee-v'>0</span></li><li><span class='ee-k'>4:</span><span class='ee-v'>1</span></li><li><span class='ee-k'>5:</span><span class='ee-v'>0</span></li></ul></li><li><label class='ee-shut'>data_type: float<input type='checkbox' class='ee-toggle'></label><ul><li><span class='ee-k'>type:</span><span class='ee-v'>PixelType</span></li><li><span class='ee-k'>precision:</span><span class='ee-v'>float</span></li></ul></li></ul></li></ul></li><li><label class='ee-shut'>properties: Object (2 properties)<input type='checkbox' class='ee-toggle'></label><ul><li><span class='ee-k'>scale:</span><span class='ee-v'>27.829872698318393</span></li><li><span class='ee-k'>system:index:</span><span class='ee-v'>protected_areas_WDPA_area_km2</span></li></ul></li></ul></li><li><label class='ee-shut'>2: Image (1 band)<input type='checkbox' class='ee-toggle'></label><ul><li><span class='ee-k'>type:</span><span class='ee-v'>Image</span></li><li><label class='ee-shut'>bands: List (1 element)<input type='checkbox' class='ee-toggle'></label><ul><li><label class='ee-shut'>0: \"count\", float, EPSG:4326<input type='checkbox' class='ee-toggle'></label><ul><li><span class='ee-k'>id:</span><span class='ee-v'>count</span></li><li><span class='ee-k'>crs:</span><span class='ee-v'>EPSG:4326</span></li><li><label class='ee-shut'>crs_transform: [1, 0, 0, 0, 1, 0]<input type='checkbox' class='ee-toggle'></label><ul><li><span class='ee-k'>0:</span><span class='ee-v'>1</span></li><li><span class='ee-k'>1:</span><span class='ee-v'>0</span></li><li><span class='ee-k'>2:</span><span class='ee-v'>0</span></li><li><span class='ee-k'>3:</span><span class='ee-v'>0</span></li><li><span class='ee-k'>4:</span><span class='ee-v'>1</span></li><li><span class='ee-k'>5:</span><span class='ee-v'>0</span></li></ul></li><li><label class='ee-shut'>data_type: float<input type='checkbox' class='ee-toggle'></label><ul><li><span class='ee-k'>type:</span><span class='ee-v'>PixelType</span></li><li><span class='ee-k'>precision:</span><span class='ee-v'>float</span></li></ul></li></ul></li></ul></li><li><label class='ee-shut'>properties: Object (2 properties)<input type='checkbox' class='ee-toggle'></label><ul><li><span class='ee-k'>scale:</span><span class='ee-v'>27.829872698318393</span></li><li><span class='ee-k'>system:index:</span><span class='ee-v'>kba_2023_area_km2</span></li></ul></li></ul></li><li><label class='ee-shut'>3: Image (1 band)<input type='checkbox' class='ee-toggle'></label><ul><li><span class='ee-k'>type:</span><span class='ee-v'>Image</span></li><li><label class='ee-shut'>bands: List (1 element)<input type='checkbox' class='ee-toggle'></label><ul><li><label class='ee-shut'>0: \"treecover2000\", float, EPSG:4326<input type='checkbox' class='ee-toggle'></label><ul><li><span class='ee-k'>id:</span><span class='ee-v'>treecover2000</span></li><li><span class='ee-k'>crs:</span><span class='ee-v'>EPSG:4326</span></li><li><label class='ee-shut'>crs_transform: [0.00025, 0, -180, 0, -0.00025, 80]<input type='checkbox' class='ee-toggle'></label><ul><li><span class='ee-k'>0:</span><span class='ee-v'>0.00025</span></li><li><span class='ee-k'>1:</span><span class='ee-v'>0</span></li><li><span class='ee-k'>2:</span><span class='ee-v'>-180</span></li><li><span class='ee-k'>3:</span><span class='ee-v'>0</span></li><li><span class='ee-k'>4:</span><span class='ee-v'>-0.00025</span></li><li><span class='ee-k'>5:</span><span class='ee-v'>80</span></li></ul></li><li><label class='ee-shut'>data_type: float<input type='checkbox' class='ee-toggle'></label><ul><li><span class='ee-k'>type:</span><span class='ee-v'>PixelType</span></li><li><span class='ee-k'>precision:</span><span class='ee-v'>float</span></li></ul></li></ul></li></ul></li><li><label class='ee-shut'>properties: Object (2 properties)<input type='checkbox' class='ee-toggle'></label><ul><li><span class='ee-k'>scale:</span><span class='ee-v'>27.829872698318393</span></li><li><span class='ee-k'>system:index:</span><span class='ee-v'>GFC_2020</span></li></ul></li></ul></li><li><label class='ee-shut'>4: Image (1 band)<input type='checkbox' class='ee-toggle'></label><ul><li><span class='ee-k'>type:</span><span class='ee-v'>Image</span></li><li><label class='ee-shut'>bands: List (1 element)<input type='checkbox' class='ee-toggle'></label><ul><li><label class='ee-shut'>0: \"TransitionClass\", float, EPSG:4326<input type='checkbox' class='ee-toggle'></label><ul><li><span class='ee-k'>id:</span><span class='ee-v'>TransitionClass</span></li><li><span class='ee-k'>crs:</span><span class='ee-v'>EPSG:4326</span></li><li><label class='ee-shut'>crs_transform: [1, 0, 0, 0, 1, 0]<input type='checkbox' class='ee-toggle'></label><ul><li><span class='ee-k'>0:</span><span class='ee-v'>1</span></li><li><span class='ee-k'>1:</span><span class='ee-v'>0</span></li><li><span class='ee-k'>2:</span><span class='ee-v'>0</span></li><li><span class='ee-k'>3:</span><span class='ee-v'>0</span></li><li><span class='ee-k'>4:</span><span class='ee-v'>1</span></li><li><span class='ee-k'>5:</span><span class='ee-v'>0</span></li></ul></li><li><label class='ee-shut'>data_type: float<input type='checkbox' class='ee-toggle'></label><ul><li><span class='ee-k'>type:</span><span class='ee-v'>PixelType</span></li><li><span class='ee-k'>precision:</span><span class='ee-v'>float</span></li></ul></li></ul></li></ul></li><li><label class='ee-shut'>properties: Object (2 properties)<input type='checkbox' class='ee-toggle'></label><ul><li><span class='ee-k'>scale:</span><span class='ee-v'>30.000000000000004</span></li><li><span class='ee-k'>system:index:</span><span class='ee-v'>TMF_undisturbed_2020</span></li></ul></li></ul></li><li><label class='ee-shut'>5: Image (1 band)<input type='checkbox' class='ee-toggle'></label><ul><li><span class='ee-k'>type:</span><span class='ee-v'>Image</span></li><li><label class='ee-shut'>bands: List (1 element)<input type='checkbox' class='ee-toggle'></label><ul><li><label class='ee-shut'>0: \"remapped\", float, EPSG:4326<input type='checkbox' class='ee-toggle'></label><ul><li><span class='ee-k'>id:</span><span class='ee-v'>remapped</span></li><li><span class='ee-k'>crs:</span><span class='ee-v'>EPSG:4326</span></li><li><label class='ee-shut'>crs_transform: [1, 0, 0, 0, 1, 0]<input type='checkbox' class='ee-toggle'></label><ul><li><span class='ee-k'>0:</span><span class='ee-v'>1</span></li><li><span class='ee-k'>1:</span><span class='ee-v'>0</span></li><li><span class='ee-k'>2:</span><span class='ee-v'>0</span></li><li><span class='ee-k'>3:</span><span class='ee-v'>0</span></li><li><span class='ee-k'>4:</span><span class='ee-v'>1</span></li><li><span class='ee-k'>5:</span><span class='ee-v'>0</span></li></ul></li><li><label class='ee-shut'>data_type: float<input type='checkbox' class='ee-toggle'></label><ul><li><span class='ee-k'>type:</span><span class='ee-v'>PixelType</span></li><li><span class='ee-k'>precision:</span><span class='ee-v'>float</span></li></ul></li></ul></li></ul></li><li><label class='ee-shut'>properties: Object (2 properties)<input type='checkbox' class='ee-toggle'></label><ul><li><span class='ee-k'>scale:</span><span class='ee-v'>10</span></li><li><span class='ee-k'>system:index:</span><span class='ee-v'>esri_trees_2020</span></li></ul></li></ul></li><li><label class='ee-shut'>6: Image (1 band)<input type='checkbox' class='ee-toggle'></label><ul><li><span class='ee-k'>type:</span><span class='ee-v'>Image</span></li><li><label class='ee-shut'>bands: List (1 element)<input type='checkbox' class='ee-toggle'></label><ul><li><label class='ee-shut'>0: \"b1\", float, EPSG:4326<input type='checkbox' class='ee-toggle'></label><ul><li><span class='ee-k'>id:</span><span class='ee-v'>b1</span></li><li><span class='ee-k'>crs:</span><span class='ee-v'>EPSG:4326</span></li><li><label class='ee-shut'>crs_transform: [0.00025, 0, -180, 0, -0.00025, 80]<input type='checkbox' class='ee-toggle'></label><ul><li><span class='ee-k'>0:</span><span class='ee-v'>0.00025</span></li><li><span class='ee-k'>1:</span><span class='ee-v'>0</span></li><li><span class='ee-k'>2:</span><span class='ee-v'>-180</span></li><li><span class='ee-k'>3:</span><span class='ee-v'>0</span></li><li><span class='ee-k'>4:</span><span class='ee-v'>-0.00025</span></li><li><span class='ee-k'>5:</span><span class='ee-v'>80</span></li></ul></li><li><label class='ee-shut'>data_type: float<input type='checkbox' class='ee-toggle'></label><ul><li><span class='ee-k'>type:</span><span class='ee-v'>PixelType</span></li><li><span class='ee-k'>precision:</span><span class='ee-v'>float</span></li></ul></li></ul></li></ul></li><li><label class='ee-shut'>properties: Object (2 properties)<input type='checkbox' class='ee-toggle'></label><ul><li><span class='ee-k'>scale:</span><span class='ee-v'>27.829872698318393</span></li><li><span class='ee-k'>system:index:</span><span class='ee-v'>glad_stable_tree_2020</span></li></ul></li></ul></li><li><label class='ee-shut'>7: Image (1 band)<input type='checkbox' class='ee-toggle'></label><ul><li><span class='ee-k'>type:</span><span class='ee-v'>Image</span></li><li><label class='ee-shut'>bands: List (1 element)<input type='checkbox' class='ee-toggle'></label><ul><li><label class='ee-shut'>0: \"classification\", float, EPSG:4326<input type='checkbox' class='ee-toggle'></label><ul><li><span class='ee-k'>id:</span><span class='ee-v'>classification</span></li><li><span class='ee-k'>crs:</span><span class='ee-v'>EPSG:4326</span></li><li><label class='ee-shut'>crs_transform: [1, 0, 0, 0, 1, 0]<input type='checkbox' class='ee-toggle'></label><ul><li><span class='ee-k'>0:</span><span class='ee-v'>1</span></li><li><span class='ee-k'>1:</span><span class='ee-v'>0</span></li><li><span class='ee-k'>2:</span><span class='ee-v'>0</span></li><li><span class='ee-k'>3:</span><span class='ee-v'>0</span></li><li><span class='ee-k'>4:</span><span class='ee-v'>1</span></li><li><span class='ee-k'>5:</span><span class='ee-v'>0</span></li></ul></li><li><label class='ee-shut'>data_type: float<input type='checkbox' class='ee-toggle'></label><ul><li><span class='ee-k'>type:</span><span class='ee-v'>PixelType</span></li><li><span class='ee-k'>precision:</span><span class='ee-v'>float</span></li></ul></li></ul></li></ul></li><li><label class='ee-shut'>properties: Object (2 properties)<input type='checkbox' class='ee-toggle'></label><ul><li><span class='ee-k'>scale:</span><span class='ee-v'>10</span></li><li><span class='ee-k'>system:index:</span><span class='ee-v'>oil_palm_descals_binary</span></li></ul></li></ul></li></ul></li></ul></li></ul></div><script>function toggleHeader() {\n",
       "    const parent = this.parentElement;\n",
       "    parent.className = parent.className === \"ee-open\" ? \"ee-shut\" : \"ee-open\";\n",
       "}\n",
       "\n",
       "for (let c of document.getElementsByClassName(\"ee-toggle\")) {\n",
       "    c.onclick = toggleHeader;\n",
       "}</script></div>"
      ],
      "text/plain": [
       "<ee.imagecollection.ImageCollection at 0x7f770fa655b0>"
      ]
     },
     "execution_count": 123,
     "metadata": {},
     "output_type": "execute_result"
    }
   ],
   "source": [
    "image_dict0 = {\"total_roi_area_esri_km2\":total_roi_area_esri_km2,\n",
    "                           \"protected_areas_WDPA_area_km2\":protected_areas_WDPA_area_km2,\n",
    "                           \"kba_2023_area_km2\": kba_2023_area_km2,\n",
    "                            \"GFC_2020\":gfc_treeCover_2020_area_km2,\n",
    "                             \"TMF_undisturbed_2020\":JRC_TMF_undisturbed_2020_area_km2,\n",
    "                         \"esri_trees_2020\":esri_trees_2020_area_km2,\n",
    "                         \"glad_stable_tree_2020\":glad_stable_tree_2020_area_km2,\n",
    "                           \"oil_palm_descals_binary\": oil_palm_descals_binary_area_km2\n",
    "                        }\n",
    "image_dict={}\n",
    "\n",
    "for i in range(len(image_dict0)):\n",
    "    dataset_name = (list(image_dict0.keys())[i])\n",
    "    image = (list(image_dict0.values())[i])\n",
    "    updated_image=image.set(\"system:index\",dataset_name)\n",
    "    instance={dataset_name:updated_image}\n",
    "    image_dict.update(instance)\n",
    "\n",
    "\n",
    "# print  (list(image_dict.values())[i].getInfo())\n",
    "print (\"number of images: \",len(image_dict))\n",
    "                    \n",
    "images_IC = ee.ImageCollection(list(image_dict.values()))\n",
    "images_IC\n",
    "# print (images_IC.first().getInfo())"
   ]
  },
  {
   "cell_type": "markdown",
   "id": "874274c3-15af-4aca-b407-f7683f883878",
   "metadata": {},
   "source": [
    "#### Compute statistics"
   ]
  },
  {
   "cell_type": "markdown",
   "id": "e7f19d47-119d-4df0-b156-cdc2ab2e3e69",
   "metadata": {},
   "source": [
    "Calculating zonal statistics for continuous data (e.g tree cover) within polygon(s)\n",
    "\n",
    "step 1: save as combined CSV in long format NB needs speeding up e.g., reduceRegions and dataframes"
   ]
  },
  {
   "cell_type": "markdown",
   "id": "12609c54-d937-43aa-99f7-eb4fdab0cbbd",
   "metadata": {},
   "source": [
    "Set output paths"
   ]
  },
  {
   "cell_type": "code",
   "execution_count": 124,
   "id": "ef91b195-6040-4671-b39a-ed37a6975c1b",
   "metadata": {
    "tags": []
   },
   "outputs": [],
   "source": [
    "out_path = os.path.join('/home/sepal-user/fdap/')\n",
    "\n",
    "#long csv\n",
    "out_long_csv_name = 'stats_long_format_continuous_data.csv' \n",
    "\n",
    "dataset_column_name = \"dataset_name\"\n",
    "\n",
    "#wide csv\n",
    "out_file_long=out_path+out_long_csv_name\n",
    "\n",
    "out_wide_csv_name = 'stats_wide_format_continuous_data.csv' #set output name\n",
    "\n",
    "out_file_wide = out_path+out_wide_csv_name #set full path for output csv\n"
   ]
  },
  {
   "cell_type": "markdown",
   "id": "1ce375a3-ac9a-4fb8-b61f-0604e8c50f30",
   "metadata": {},
   "source": [
    "##### Mapping over image collection with reduce regions"
   ]
  },
  {
   "cell_type": "code",
   "execution_count": 125,
   "id": "4b9cbfcd-fc1f-4516-b455-e2d88c4b7461",
   "metadata": {
    "tags": []
   },
   "outputs": [
    {
     "name": "stdout",
     "output_type": "stream",
     "text": [
      "stats to fc time: 0.0033333301544189453 seconds\n",
      "Total execution time: 20.903350830078125 seconds\n"
     ]
    }
   ],
   "source": [
    "# get the start time\n",
    "st = time.time()\n",
    "\n",
    "fc_stats_combined = images_IC.map(reduceStats).flatten() #uses reduceStats function\n",
    "fc_stats_combined\n",
    "# get the interim time\n",
    "et = time.time()\n",
    "\n",
    "# get the execution time\n",
    "elapsed_time = et - st\n",
    "print('stats to fc time:', elapsed_time, 'seconds')\n",
    "\n",
    "#fc_stats_combined\n",
    "df_combined = geemap.ee_to_pandas(fc_stats_combined) # this bit takes the time\n",
    "\n",
    "df_combined.to_csv(path_or_buf=out_file_long,header=True,index=False)\n",
    "df_combined\n",
    "\n",
    "# df_long_format = df_combined\n",
    "\n",
    "# df_wide_format = df_long_format.pivot_table(index=['geo_id'], \n",
    "#                                             columns='dataset_name', \n",
    "#                                             values=['sum'])\n",
    "\n",
    "# tidy_dataframe_after_pivot(df_wide_format)#tidys in place\n",
    "\n",
    "# df_wide_format.to_csv(path_or_buf=out_file_wide,header=True)\n",
    "\n",
    "# print (\"output csv: \", out_file_wide)\n",
    "\n",
    "# get the end time\n",
    "et = time.time()\n",
    "\n",
    "# get the execution time\n",
    "elapsed_time = et - st\n",
    "print('Total execution time:', elapsed_time, 'seconds')\n"
   ]
  },
  {
   "cell_type": "markdown",
   "id": "b5b6fbe5-0ef5-4898-9266-b3cb28daa1ab",
   "metadata": {},
   "source": [
    "##### Reformat long to wide"
   ]
  },
  {
   "cell_type": "code",
   "execution_count": 126,
   "id": "b78d254a-91a0-4d57-9d4e-a8e2889b8b8d",
   "metadata": {
    "tags": []
   },
   "outputs": [
    {
     "name": "stdout",
     "output_type": "stream",
     "text": [
      "output csv:  /home/sepal-user/fdap/stats_wide_format_continuous_data.csv\n"
     ]
    }
   ],
   "source": [
    "df_long_format = df_combined\n",
    "\n",
    "df_wide_format = df_long_format.pivot_table(index=['geo_id','geometry_area_km2'], \n",
    "                                            columns='dataset_name', \n",
    "                                            values=['sum'])\n",
    "\n",
    "tidy_dataframe_after_pivot(df_wide_format)#tidys in place\n",
    "\n",
    "df_wide_format.to_csv(path_or_buf=out_file_wide,header=True)\n",
    "\n",
    "print (\"output csv: \", out_file_wide)\n",
    "\n"
   ]
  },
  {
   "cell_type": "markdown",
   "id": "67bf6bf9-68dd-4717-8641-7dcb12e9ca8d",
   "metadata": {},
   "source": [
    "Calculating zonal statistics for categorical data (e.g. land cover) within polygon \n",
    " - to tidy NB more efficient for proportions if only using binary data.."
   ]
  },
  {
   "cell_type": "code",
   "execution_count": null,
   "id": "f72300dd-dfb8-43dc-ad50-9a9554d08662",
   "metadata": {
    "tags": []
   },
   "outputs": [],
   "source": [
    "# group_stats = os.path.join('/home/sepal-user/fdap/group_stats_draft.csv') \n",
    "\n",
    "# #input_image = JRC_TMF_transitions_main \n",
    "# input_image = glad_stable_tree_2020#_main\n",
    "\n",
    "# # out_scale= get_scale_from_image(input_image)\n",
    "# out_scale = input_image.get(\"scale\").getInfo()\n",
    "\n",
    "# print(out_scale)\n",
    "\n",
    "# geemap.zonal_stats_by_group(in_value_raster=input_image, in_zone_vector=roi, out_file_path=group_stats, statistics_type='SUM', \n",
    "#                      decimal_places=0, denominator=1000.0, scale=out_scale, crs=None, crs_transform=None, \n",
    "#                      best_effort=False, max_pixels=10000000.0, tile_scale=1.0, return_fc=False, \n",
    "#                      verbose=True, timeout=300, proxies=None)\n",
    "\n",
    "# group_stats_table = pd.read_csv(group_stats)\n",
    "# group_stats_table\n",
    "\n",
    "#TO DO - think about equal area vs unprojected\n"
   ]
  },
  {
   "cell_type": "markdown",
   "id": "e3b512b0-f24b-4554-9d0b-8d34929804cd",
   "metadata": {},
   "source": [
    "#### Display layers\n",
    "\n",
    "NB add legends\n"
   ]
  },
  {
   "cell_type": "code",
   "execution_count": 63,
   "id": "e04a036b-c67a-4e86-891d-0f53b84d7f88",
   "metadata": {
    "tags": []
   },
   "outputs": [],
   "source": [
    "m = geemap.Map()"
   ]
  },
  {
   "cell_type": "code",
   "execution_count": 66,
   "id": "624bb353-b055-4747-bd52-474e0c1f04e5",
   "metadata": {
    "tags": []
   },
   "outputs": [
    {
     "ename": "AttributeError",
     "evalue": "'ApiFunction' object has no attribute 'name'",
     "output_type": "error",
     "traceback": [
      "\u001b[0;31m---------------------------------------------------------------------------\u001b[0m",
      "\u001b[0;31mAttributeError\u001b[0m                            Traceback (most recent call last)",
      "Cell \u001b[0;32mIn[66], line 11\u001b[0m\n\u001b[1;32m      7\u001b[0m \u001b[38;5;66;03m# m.addLayer(JRC_TMF_transitions.eq(10).randomVisualizer(),{},'TMF-simple')\u001b[39;00m\n\u001b[1;32m      9\u001b[0m m\u001b[38;5;241m.\u001b[39maddLayer(roi,{},\u001b[38;5;124m'\u001b[39m\u001b[38;5;124mfield\u001b[39m\u001b[38;5;124m'\u001b[39m)\n\u001b[0;32m---> 11\u001b[0m m\u001b[38;5;241m.\u001b[39mcenterObject(\u001b[43mroi\u001b[49m\u001b[38;5;241;43m.\u001b[39;49m\u001b[43mtoList\u001b[49m\u001b[43m(\u001b[49m\u001b[43m)\u001b[49m[\u001b[38;5;241m1\u001b[39m])\n",
      "File \u001b[0;32m/usr/local/lib/python3.8/dist-packages/ee/apifunction.py:205\u001b[0m, in \u001b[0;36mApiFunction.importApi.<locals>.MakeBoundFunction.<locals>.<lambda>\u001b[0;34m(*args, **kwargs)\u001b[0m\n\u001b[1;32m    203\u001b[0m \u001b[38;5;28;01mdef\u001b[39;00m \u001b[38;5;21mMakeBoundFunction\u001b[39m(func):\n\u001b[1;32m    204\u001b[0m   \u001b[38;5;66;03m# We need the lambda to capture \"func\" from the enclosing scope.\u001b[39;00m\n\u001b[0;32m--> 205\u001b[0m   \u001b[38;5;28;01mreturn\u001b[39;00m \u001b[38;5;28;01mlambda\u001b[39;00m \u001b[38;5;241m*\u001b[39margs, \u001b[38;5;241m*\u001b[39m\u001b[38;5;241m*\u001b[39mkwargs: \u001b[43mfunc\u001b[49m\u001b[38;5;241;43m.\u001b[39;49m\u001b[43mcall\u001b[49m\u001b[43m(\u001b[49m\u001b[38;5;241;43m*\u001b[39;49m\u001b[43margs\u001b[49m\u001b[43m,\u001b[49m\u001b[43m \u001b[49m\u001b[38;5;241;43m*\u001b[39;49m\u001b[38;5;241;43m*\u001b[39;49m\u001b[43mkwargs\u001b[49m\u001b[43m)\u001b[49m\n",
      "File \u001b[0;32m/usr/local/lib/python3.8/dist-packages/ee/function.py:67\u001b[0m, in \u001b[0;36mFunction.call\u001b[0;34m(self, *args, **kwargs)\u001b[0m\n\u001b[1;32m     55\u001b[0m \u001b[38;5;28;01mdef\u001b[39;00m \u001b[38;5;21mcall\u001b[39m(\u001b[38;5;28mself\u001b[39m, \u001b[38;5;241m*\u001b[39margs, \u001b[38;5;241m*\u001b[39m\u001b[38;5;241m*\u001b[39mkwargs):\n\u001b[1;32m     56\u001b[0m \u001b[38;5;250m  \u001b[39m\u001b[38;5;124;03m\"\"\"Calls the function with the given positional and keyword arguments.\u001b[39;00m\n\u001b[1;32m     57\u001b[0m \n\u001b[1;32m     58\u001b[0m \u001b[38;5;124;03m  Args:\u001b[39;00m\n\u001b[0;32m   (...)\u001b[0m\n\u001b[1;32m     65\u001b[0m \u001b[38;5;124;03m    to that type.\u001b[39;00m\n\u001b[1;32m     66\u001b[0m \u001b[38;5;124;03m  \"\"\"\u001b[39;00m\n\u001b[0;32m---> 67\u001b[0m   \u001b[38;5;28;01mreturn\u001b[39;00m \u001b[38;5;28;43mself\u001b[39;49m\u001b[38;5;241;43m.\u001b[39;49m\u001b[43mapply\u001b[49m\u001b[43m(\u001b[49m\u001b[38;5;28;43mself\u001b[39;49m\u001b[38;5;241;43m.\u001b[39;49m\u001b[43mnameArgs\u001b[49m\u001b[43m(\u001b[49m\u001b[43margs\u001b[49m\u001b[43m,\u001b[49m\u001b[43m \u001b[49m\u001b[43mkwargs\u001b[49m\u001b[43m)\u001b[49m\u001b[43m)\u001b[49m\n",
      "File \u001b[0;32m/usr/local/lib/python3.8/dist-packages/ee/function.py:80\u001b[0m, in \u001b[0;36mFunction.apply\u001b[0;34m(self, named_args)\u001b[0m\n\u001b[1;32m     69\u001b[0m \u001b[38;5;28;01mdef\u001b[39;00m \u001b[38;5;21mapply\u001b[39m(\u001b[38;5;28mself\u001b[39m, named_args):\n\u001b[1;32m     70\u001b[0m \u001b[38;5;250m  \u001b[39m\u001b[38;5;124;03m\"\"\"Calls the function with a dictionary of named arguments.\u001b[39;00m\n\u001b[1;32m     71\u001b[0m \n\u001b[1;32m     72\u001b[0m \u001b[38;5;124;03m  Args:\u001b[39;00m\n\u001b[0;32m   (...)\u001b[0m\n\u001b[1;32m     78\u001b[0m \u001b[38;5;124;03m    to that type.\u001b[39;00m\n\u001b[1;32m     79\u001b[0m \u001b[38;5;124;03m  \"\"\"\u001b[39;00m\n\u001b[0;32m---> 80\u001b[0m   result \u001b[38;5;241m=\u001b[39m computedobject\u001b[38;5;241m.\u001b[39mComputedObject(\u001b[38;5;28mself\u001b[39m, \u001b[38;5;28;43mself\u001b[39;49m\u001b[38;5;241;43m.\u001b[39;49m\u001b[43mpromoteArgs\u001b[49m\u001b[43m(\u001b[49m\u001b[43mnamed_args\u001b[49m\u001b[43m)\u001b[49m)\n\u001b[1;32m     81\u001b[0m   \u001b[38;5;28;01mreturn\u001b[39;00m Function\u001b[38;5;241m.\u001b[39m_promoter(result, \u001b[38;5;28mself\u001b[39m\u001b[38;5;241m.\u001b[39mgetReturnType())\n",
      "File \u001b[0;32m/usr/local/lib/python3.8/dist-packages/ee/function.py:111\u001b[0m, in \u001b[0;36mFunction.promoteArgs\u001b[0;34m(self, args)\u001b[0m\n\u001b[1;32m    107\u001b[0m     promoted_args[name] \u001b[38;5;241m=\u001b[39m Function\u001b[38;5;241m.\u001b[39m_promoter(args[name], spec[\u001b[38;5;124m'\u001b[39m\u001b[38;5;124mtype\u001b[39m\u001b[38;5;124m'\u001b[39m])\n\u001b[1;32m    108\u001b[0m   \u001b[38;5;28;01melif\u001b[39;00m \u001b[38;5;129;01mnot\u001b[39;00m spec\u001b[38;5;241m.\u001b[39mget(\u001b[38;5;124m'\u001b[39m\u001b[38;5;124moptional\u001b[39m\u001b[38;5;124m'\u001b[39m):\n\u001b[1;32m    109\u001b[0m     \u001b[38;5;28;01mraise\u001b[39;00m ee_exception\u001b[38;5;241m.\u001b[39mEEException(\n\u001b[1;32m    110\u001b[0m         \u001b[38;5;124m'\u001b[39m\u001b[38;5;124mRequired argument (\u001b[39m\u001b[38;5;132;01m%s\u001b[39;00m\u001b[38;5;124m) missing to function: \u001b[39m\u001b[38;5;132;01m%s\u001b[39;00m\u001b[38;5;124m'\u001b[39m\n\u001b[0;32m--> 111\u001b[0m         \u001b[38;5;241m%\u001b[39m (name, \u001b[38;5;28;43mself\u001b[39;49m\u001b[38;5;241;43m.\u001b[39;49m\u001b[43mname\u001b[49m))\n\u001b[1;32m    112\u001b[0m   known\u001b[38;5;241m.\u001b[39madd(name)\n\u001b[1;32m    114\u001b[0m \u001b[38;5;66;03m# Check for unknown arguments.\u001b[39;00m\n",
      "\u001b[0;31mAttributeError\u001b[0m: 'ApiFunction' object has no attribute 'name'"
     ]
    }
   ],
   "source": [
    "vis_params = {min:0,max:1,'palette':[\"white\",\"green\"]}\n",
    "\n",
    "m.addLayer(gfc_treeCover_2020_binary,vis_params,'gfc_treeCover_2020_binary')\n",
    "m.addLayer(esri_trees_2020,vis_params,\"esri_trees_2020\")\n",
    "m.addLayer(glad_stable_tree_2020,vis_params,'glad_stable_tree_2020')\n",
    "m.addLayer(JRC_TMF_undisturbed_2020,vis_params,'JRC_TMF_undisturbed_2020')\n",
    "\n",
    "\n",
    "# m.addLayer(JRC_TMF_transitions.eq(10).randomVisualizer(),{},'TMF-simple')\n",
    "\n",
    "m.addLayer(roi,{},'field')\n",
    "\n",
    "m.centerObject(roi.first())\n"
   ]
  },
  {
   "cell_type": "code",
   "execution_count": null,
   "id": "bd7ad892-8a21-449a-8f6b-328fd3462af9",
   "metadata": {
    "tags": []
   },
   "outputs": [],
   "source": [
    "m"
   ]
  },
  {
   "cell_type": "markdown",
   "id": "a14d4583-6ff7-4a2a-852a-6dec99cfedb7",
   "metadata": {},
   "source": [
    "#### Alternative stats\n",
    "Using reduceRegion..."
   ]
  },
  {
   "cell_type": "code",
   "execution_count": 58,
   "id": "c8bb8ddb-dc6b-44df-9703-d85c858ace42",
   "metadata": {
    "tags": []
   },
   "outputs": [
    {
     "ename": "NameError",
     "evalue": "name 'tmf' is not defined",
     "output_type": "error",
     "traceback": [
      "\u001b[0;31m---------------------------------------------------------------------------\u001b[0m",
      "\u001b[0;31mNameError\u001b[0m                                 Traceback (most recent call last)",
      "Cell \u001b[0;32mIn[58], line 19\u001b[0m\n\u001b[1;32m     16\u001b[0m     \u001b[38;5;28;01mreturn\u001b[39;00m feature\n\u001b[1;32m     18\u001b[0m \u001b[38;5;66;03m# Apply the count_pixels function to the classified image\u001b[39;00m\n\u001b[0;32m---> 19\u001b[0m pixel_counts_feature \u001b[38;5;241m=\u001b[39m count_pixels(\u001b[43mtmf\u001b[49m, roi)\n\u001b[1;32m     21\u001b[0m \u001b[38;5;66;03m# Create a feature collection with a single feature\u001b[39;00m\n\u001b[1;32m     22\u001b[0m fc_pix \u001b[38;5;241m=\u001b[39m ee\u001b[38;5;241m.\u001b[39mFeatureCollection([pixel_counts_feature])\n",
      "\u001b[0;31mNameError\u001b[0m: name 'tmf' is not defined"
     ]
    }
   ],
   "source": [
    "# Define the class names\n",
    "class_names = ['TMF_undis', 'TMF_degrad', 'TMF_regrow', 'Defor_plantation', 'Defor_water', 'Defor_land','Defor_active','water','other_land']\n",
    "\n",
    "# Create a function to count pixels for each class\n",
    "def count_pixels(image, roi):\n",
    "    counts = image.reduceRegion(\n",
    "        reducer=ee.Reducer.frequencyHistogram(),\n",
    "        geometry=roi,\n",
    "        scale=90,\n",
    "        maxPixels=1e9\n",
    "    )\n",
    "    \n",
    "    # Convert pixel counts to a feature with properties\n",
    "    feature = ee.Feature(None, counts)\n",
    "    \n",
    "    return feature\n",
    "\n",
    "# Apply the count_pixels function to the classified image\n",
    "pixel_counts_feature = count_pixels(tmf, roi)\n",
    "\n",
    "# Create a feature collection with a single feature\n",
    "fc_pix = ee.FeatureCollection([pixel_counts_feature])\n",
    "\n",
    "\n",
    "fc_pix_df = geemap.ee_to_pandas(fc_pix)##needs more work\n",
    "fc_pix_df\n",
    "\n",
    "\n"
   ]
  },
  {
   "cell_type": "markdown",
   "id": "1d5049a9",
   "metadata": {},
   "source": [
    "### Logout (protected)"
   ]
  },
  {
   "cell_type": "code",
   "execution_count": 55,
   "id": "d51242cb",
   "metadata": {},
   "outputs": [
    {
     "ename": "NameError",
     "evalue": "name 'session' is not defined",
     "output_type": "error",
     "traceback": [
      "\u001b[0;31m---------------------------------------------------------------------------\u001b[0m",
      "\u001b[0;31mNameError\u001b[0m                                 Traceback (most recent call last)",
      "Cell \u001b[0;32mIn[55], line 1\u001b[0m\n\u001b[0;32m----> 1\u001b[0m res \u001b[38;5;241m=\u001b[39m \u001b[43msession\u001b[49m\u001b[38;5;241m.\u001b[39mget(asset_registry_base \u001b[38;5;241m+\u001b[39m \u001b[38;5;124m\"\u001b[39m\u001b[38;5;124m/logout\u001b[39m\u001b[38;5;124m\"\u001b[39m)\n\u001b[1;32m      2\u001b[0m \u001b[38;5;28mprint\u001b[39m(res\u001b[38;5;241m.\u001b[39mjson())\n\u001b[1;32m      3\u001b[0m res \u001b[38;5;241m=\u001b[39m session\u001b[38;5;241m.\u001b[39mget(user_registry_base \u001b[38;5;241m+\u001b[39m \u001b[38;5;124m\"\u001b[39m\u001b[38;5;124m/logout\u001b[39m\u001b[38;5;124m\"\u001b[39m, cookies\u001b[38;5;241m=\u001b[39msession\u001b[38;5;241m.\u001b[39mcookies)\n",
      "\u001b[0;31mNameError\u001b[0m: name 'session' is not defined"
     ]
    }
   ],
   "source": [
    "res = session.get(asset_registry_base + \"/logout\")\n",
    "print(res.json())\n",
    "res = session.get(user_registry_base + \"/logout\", cookies=session.cookies)\n",
    "session.headers.clear()"
   ]
  },
  {
   "cell_type": "markdown",
   "id": "1d7ef7cf",
   "metadata": {},
   "source": [
    "### Checking if Logged out correctly"
   ]
  },
  {
   "cell_type": "code",
   "execution_count": 56,
   "id": "d6dee3bc",
   "metadata": {},
   "outputs": [
    {
     "ename": "NameError",
     "evalue": "name 'session' is not defined",
     "output_type": "error",
     "traceback": [
      "\u001b[0;31m---------------------------------------------------------------------------\u001b[0m",
      "\u001b[0;31mNameError\u001b[0m                                 Traceback (most recent call last)",
      "Cell \u001b[0;32mIn[56], line 6\u001b[0m\n\u001b[1;32m      1\u001b[0m \u001b[38;5;66;03m# Confirming the logout from Asset Registry by requesting a Protected route\u001b[39;00m\n\u001b[1;32m      2\u001b[0m req_body \u001b[38;5;241m=\u001b[39m {\n\u001b[1;32m      3\u001b[0m     \u001b[38;5;124m\"\u001b[39m\u001b[38;5;124mlatitude\u001b[39m\u001b[38;5;124m\"\u001b[39m: \u001b[38;5;241m31.47704430446457\u001b[39m,\n\u001b[1;32m      4\u001b[0m     \u001b[38;5;124m\"\u001b[39m\u001b[38;5;124mlongitude\u001b[39m\u001b[38;5;124m\"\u001b[39m: \u001b[38;5;241m74.37510786779589\u001b[39m\n\u001b[1;32m      5\u001b[0m }\n\u001b[0;32m----> 6\u001b[0m res \u001b[38;5;241m=\u001b[39m \u001b[43msession\u001b[49m\u001b[38;5;241m.\u001b[39mpost(asset_registry_base \u001b[38;5;241m+\u001b[39m \u001b[38;5;124m\"\u001b[39m\u001b[38;5;124m/fetch-fields-for-a-point\u001b[39m\u001b[38;5;124m\"\u001b[39m, json\u001b[38;5;241m=\u001b[39mreq_body)\n\u001b[1;32m      7\u001b[0m \u001b[38;5;28mprint\u001b[39m(res\u001b[38;5;241m.\u001b[39mjson())\n",
      "\u001b[0;31mNameError\u001b[0m: name 'session' is not defined"
     ]
    }
   ],
   "source": [
    "# Confirming the logout from Asset Registry by requesting a Protected route\n",
    "req_body = {\n",
    "    \"latitude\": 31.47704430446457,\n",
    "    \"longitude\": 74.37510786779589\n",
    "}\n",
    "res = session.post(asset_registry_base + \"/fetch-fields-for-a-point\", json=req_body)\n",
    "print(res.json())"
   ]
  },
  {
   "cell_type": "markdown",
   "id": "8a07b78b",
   "metadata": {},
   "source": [
    "### Get all Domains (public)"
   ]
  },
  {
   "cell_type": "code",
   "execution_count": 57,
   "id": "93cf8a1d",
   "metadata": {},
   "outputs": [
    {
     "ename": "NameError",
     "evalue": "name 'session' is not defined",
     "output_type": "error",
     "traceback": [
      "\u001b[0;31m---------------------------------------------------------------------------\u001b[0m",
      "\u001b[0;31mNameError\u001b[0m                                 Traceback (most recent call last)",
      "Cell \u001b[0;32mIn[57], line 2\u001b[0m\n\u001b[1;32m      1\u001b[0m \u001b[38;5;66;03m# Fetching all the domains from the User Registry\u001b[39;00m\n\u001b[0;32m----> 2\u001b[0m res \u001b[38;5;241m=\u001b[39m \u001b[43msession\u001b[49m\u001b[38;5;241m.\u001b[39mget(asset_registry_base \u001b[38;5;241m+\u001b[39m \u001b[38;5;124m\"\u001b[39m\u001b[38;5;124m/domains\u001b[39m\u001b[38;5;124m\"\u001b[39m)\n\u001b[1;32m      3\u001b[0m \u001b[38;5;28mprint\u001b[39m(res\u001b[38;5;241m.\u001b[39mjson())\n",
      "\u001b[0;31mNameError\u001b[0m: name 'session' is not defined"
     ]
    }
   ],
   "source": [
    "# Fetching all the domains from the User Registry\n",
    "res = session.get(asset_registry_base + \"/domains\")\n",
    "print(res.json())"
   ]
  },
  {
   "cell_type": "code",
   "execution_count": null,
   "id": "123ebc97-af9a-4387-a332-a92eeb4a2ff4",
   "metadata": {},
   "outputs": [],
   "source": []
  }
 ],
 "metadata": {
  "kernelspec": {
   "display_name": "Python 3",
   "language": "python",
   "name": "python3"
  },
  "language_info": {
   "codemirror_mode": {
    "name": "ipython",
    "version": 3
   },
   "file_extension": ".py",
   "mimetype": "text/x-python",
   "name": "python",
   "nbconvert_exporter": "python",
   "pygments_lexer": "ipython3",
   "version": "3.8.10"
  },
  "vscode": {
   "interpreter": {
    "hash": "31f2aee4e71d21fbe5cf8b01ff0e069b9275f58929596ceb00d14d90e3e16cd6"
   }
  }
 },
 "nbformat": 4,
 "nbformat_minor": 5
}
