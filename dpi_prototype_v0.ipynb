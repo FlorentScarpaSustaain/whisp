{
 "cells": [
  {
   "cell_type": "markdown",
   "id": "24e78804",
   "metadata": {
    "tags": []
   },
   "source": [
    "### Imports"
   ]
  },
  {
   "cell_type": "code",
   "execution_count": 19,
   "id": "bf2e1318",
   "metadata": {
    "tags": []
   },
   "outputs": [
    {
     "name": "stdout",
     "output_type": "stream",
     "text": [
      "imports complete\n"
     ]
    }
   ],
   "source": [
    "import requests\n",
    "import json\n",
    "import ee\n",
    "import geemap\n",
    "import folium\n",
    "import os\n",
    "import pandas as pd\n",
    "import glob\n",
    "import time\n",
    "print(\"imports complete\")"
   ]
  },
  {
   "cell_type": "markdown",
   "id": "ae42dc14",
   "metadata": {},
   "source": [
    "### Web app deployed URLs"
   ]
  },
  {
   "cell_type": "code",
   "execution_count": null,
   "id": "998b8727",
   "metadata": {
    "tags": []
   },
   "outputs": [],
   "source": [
    "asset_registry_base = \"https://api-ar.agstack.org\"\n",
    "user_registry_base = \"https://user-registry.agstack.org\""
   ]
  },
  {
   "cell_type": "markdown",
   "id": "33160081",
   "metadata": {
    "tags": []
   },
   "source": [
    "### Add your email & password to register with Agstack and test out the APIs"
   ]
  },
  {
   "cell_type": "code",
   "execution_count": null,
   "id": "05cfa011",
   "metadata": {
    "tags": []
   },
   "outputs": [],
   "source": [
    "email = \"my_name@domain.org\"\n",
    "phone_num = \"0123456789\"\n",
    "password = \"this_is_not_a_password\"\n",
    "discoverable = True\n",
    "##appears to not need proper credentials for running this..."
   ]
  },
  {
   "cell_type": "markdown",
   "id": "09252a5a",
   "metadata": {},
   "source": [
    "#### Start Session"
   ]
  },
  {
   "cell_type": "markdown",
   "id": "85407ebe-9e10-4cd9-8319-df192aa1ce8d",
   "metadata": {},
   "source": [
    "NB this is timing out so skipping section - seems to work without somehow. Maybe an open connection already..."
   ]
  },
  {
   "cell_type": "code",
   "execution_count": 20,
   "id": "70ace363",
   "metadata": {
    "tags": []
   },
   "outputs": [],
   "source": [
    "# ##using session to store cookies that are persistent\n",
    "# session = requests.session()\n",
    "# session.headers = headers = {\n",
    "#     'Accept': 'application/json',\n",
    "#     'Content-Type': 'application/json'\n",
    "# }\n",
    "# req_body = {'email': email, 'password': password}\n",
    "# res = session.post(user_registry_base, json=req_body)\n",
    "# print(session.cookies)\n",
    "# print(res.status_code)"
   ]
  },
  {
   "cell_type": "code",
   "execution_count": 21,
   "id": "5ae87ed9-f4e4-4a98-81df-e66e17aa77f1",
   "metadata": {
    "tags": []
   },
   "outputs": [],
   "source": [
    "ee.Initialize()"
   ]
  },
  {
   "cell_type": "markdown",
   "id": "318b82f3-9177-4541-96dc-e90aa9f0f0cc",
   "metadata": {},
   "source": [
    "### Functions"
   ]
  },
  {
   "cell_type": "code",
   "execution_count": 22,
   "id": "deaf10d8-d5ea-4634-b855-353da6972547",
   "metadata": {
    "tags": []
   },
   "outputs": [],
   "source": [
    "#Function to take nominal scale from template image and set as \"scale\" property in target image. \n",
    "#useful for composite images (e.g., mosaics) where original scale is lost\n",
    "def set_scale_property_from_image(target_image,template_image,template_band_index=0,verbose=False):\n",
    "    out_scale = get_scale_from_image(template_image,band_index=template_band_index)\n",
    "    if verbose:\n",
    "        print(\"template_band_index: \",template_band_index)\n",
    "        print(\"scale (m): \",out_scale)\n",
    "    output_image = target_image.set(\"scale\",out_scale)\n",
    "    return output_image\n",
    "\n",
    "#gets nominal scale from image (NB this should not be from a composite/mosaic or incorrrect value returned)\n",
    "def get_scale_from_image(image,band_index=0):\n",
    "    return image.select(band_index).projection().nominalScale().getInfo()\n",
    "\n",
    "# get pixel area in km2 for image\n",
    "def binary_to_area_km2(image):\n",
    "    return image.multiply(ee.Image.pixelArea()).divide(1e6) \n",
    "\n",
    "# add area property in km2 for input feature (ROI)\n",
    "def add_area_km2_property_to_feature (feature):\n",
    "    feature = feature.set(\"geometry_area_km2\",feature.area().divide(1e6))#add area\n",
    "    # if verbose:\n",
    "    #     print(feature.get(\"geometry_area_km2\").getInfo())\n",
    "    return feature\n",
    "\n",
    "#converts a list of geo_ids fron asset registry into a feature collection (with a \"geo_id\" set as a property for each feature)\n",
    "def geo_id_list_to_feature_collection(list_of_geo_ids):\n",
    "    out_fc_list = []\n",
    "    if isinstance(list_of_geo_ids, list):\n",
    "        for geo_id in list_of_geo_ids:\n",
    "            feature = geo_id_to_feature(geo_id)\n",
    "            out_fc_list.append(feature)\n",
    "    else:\n",
    "        geo_id = list_of_geo_ids\n",
    "        feature = geo_id_to_feature(geo_id)\n",
    "        out_fc_list.append(feature)\n",
    "    return ee.FeatureCollection(out_fc_list)\n",
    "\n",
    "#converts geo_id fron asset registry into a feature with \"geo_id\" set as a property\n",
    "def geo_id_to_feature(geo_id):\n",
    "    res = session.get(asset_registry_base + f\"/fetch-field/{geo_id}?s2_index=\") # s2 index are indexes for which we need S2 cell token\n",
    "    poly_json = res.json()['Geo JSON']['geometry']['coordinates']\n",
    "    feature = json_to_feature_with_id(poly_json,geo_id)\n",
    "    return feature\n",
    "\n",
    "#converts json into a feature with a specified id column\n",
    "def json_to_feature_with_id(poly_json,geo_id):\n",
    "    return ee.Feature(ee.Geometry.Polygon(poly_json),ee.Dictionary([\"geo_id\",geo_id]))\n",
    "\n",
    "#converts geo_id from asset registry into a json\n",
    "def geo_id_to_json(geo_id):\n",
    "    res = session.get(asset_registry_base + f\"/fetch-field/{geo_id}?s2_index=\") # s2 index are indexes for which we need S2 cell token\n",
    "    poly_json = res.json()['Geo JSON']['geometry']['coordinates']\n",
    "    return poly_json\n",
    "\n",
    "#useful for tidying dataframe after long to wide reformatting e.g. rmeoves unwanted levels/ column names etc\n",
    "def tidy_dataframe_after_pivot (df):\n",
    "    df.columns = df.columns.droplevel(0) #remove sum\n",
    "    df.columns.name = None               #remove \"dataset_name\" label\n",
    "    df = df.reset_index()    #index to columns\n",
    "    return df\n",
    "\n",
    "\n",
    "def set_geo_id_from_system_index (feature): #for random polygons where there is no geo_id column\n",
    "  return feature.set(\"geo_id\",(feature.get(\"system:index\")))\n",
    "\n",
    "\n",
    "def create_random_points_in_polys(feature):\n",
    "    return ee.FeatureCollection.randomPoints(region = feature.geometry(max_error), points = number_of_points, seed=seed, maxError=10)\n",
    "\n",
    "def remapper_esri(image):\n",
    "    remapped = image.remap([1,2,4,5,7,8,9,10,11],[1,2,3,4,5,6,7,8,9])\n",
    "    return remapped"
   ]
  },
  {
   "cell_type": "markdown",
   "id": "749c76fb-f3ba-43cf-a918-4f6d09e43a7e",
   "metadata": {
    "tags": []
   },
   "source": [
    "### 1. Grab land cover datasets"
   ]
  },
  {
   "cell_type": "markdown",
   "id": "91e74c34-930d-447d-8863-52dcf0b01b7b",
   "metadata": {},
   "source": [
    "#### Fetch: GLAD: Global 2000-2020 Land Cover and Land Use Change\n",
    "\n",
    "For full legend see: https://storage.googleapis.com/earthenginepartners-hansen/GLCLU2000-2020/v2/legend.xlsx\n",
    "\n",
    "NB all tree cover have values related to height: from 3m to >25m. \n",
    "stable tree height values: 25-48 (terra firma); 125-148 (wetland);\n",
    "height after disturbance values: 49-72 (terra firma); 149-172 (wetland) \n",
    "tree gain height values: 73-96 (terra firma); 173-196 (wetland); \n",
    "\n",
    "for now including all heights until agreed forest definition \n",
    "\n",
    "- value 25 tree stable\n",
    "- value 49 tree after disturbance \n",
    "- value 73 tree gain\n",
    "- value 248 tree from crop (NB need to investigate: likely plantation but could be secondary)\n",
    "- value 245 crop\n",
    "- value 24 vegetation \n",
    "- value 200 water \n",
    "- value 250 built up\n"
   ]
  },
  {
   "cell_type": "code",
   "execution_count": 23,
   "id": "d9949f13-4509-4223-81ef-760447af9b55",
   "metadata": {
    "tags": []
   },
   "outputs": [],
   "source": [
    "glad_landcover_2020 = ee.Image('projects/glad/GLCLU2020/v2/LCLUC_2020')\n",
    "landmask = ee.Image(\"projects/glad/OceanMask\").lte(1)\n",
    "glad_landcover_2020 = glad_landcover_2020.updateMask(landmask);\n",
    "\n",
    "#visualisation parameters (for original land cover)\n",
    "visParamMap = {\"min\":0,\"max\":255,\"palette\":[\"FEFECC\",\"FAFAC3\",\"F7F7BB\",\"F4F4B3\",\"F1F1AB\",\"EDEDA2\",\"EAEA9A\",\"E7E792\",\"E4E48A\",\n",
    "\"E0E081\",\"DDDD79\",\"DADA71\",\"D7D769\",\"D3D360\",\"D0D058\",\"CDCD50\",\"CACA48\",\"C6C63F\",\"C3C337\",\"C0C02F\",\"BDBD27\",\"B9B91E\",\"B6B616\",\n",
    "\"B3B30E\",\"B0B006\",\"609C60\",\"5C985C\",\"589558\",\"549254\",\"508E50\",\"4C8B4C\",\"488848\",\"448544\",\"408140\",\"3C7E3C\",\"387B38\",\"347834\",\n",
    "\"317431\",\"2D712D\",\"296E29\",\"256B25\",\"216721\",\"1D641D\",\"196119\",\"155E15\",\"115A11\",\"0D570D\",\"095409\",\"065106\",\"643700\",\"643a00\",\n",
    "\"643d00\",\"644000\",\"644300\",\"644600\",\"644900\",\"654c00\",\"654f00\",\"655200\",\"655500\",\"655800\",\"655a00\",\"655d00\",\"656000\",\"656300\",\n",
    "\"666600\",\"666900\",\"666c00\",\"666f00\",\"667200\",\"667500\",\"667800\",\"667b00\",\"ff99ff\",\"FC92FC\",\"F98BF9\",\"F685F6\",\"F37EF3\",\"F077F0\",\n",
    "\"ED71ED\",\"EA6AEA\",\"E763E7\",\"E45DE4\",\"E156E1\",\"DE4FDE\",\"DB49DB\",\"D842D8\",\"D53BD5\",\"D235D2\",\"CF2ECF\",\"CC27CC\",\"C921C9\",\"C61AC6\",\n",
    "\"C313C3\",\"C00DC0\",\"BD06BD\",\"bb00bb\",\"000003\",\"000004\",\"000005\",\"BFC0C0\",\"B7BDC2\",\"AFBBC4\",\"A8B8C6\",\"A0B6C9\",\"99B3CB\",\"91B1CD\",\n",
    "\"89AFD0\",\"82ACD2\",\"7AAAD4\",\"73A7D6\",\"6BA5D9\",\"64A3DB\",\"5CA0DD\",\"549EE0\",\"4D9BE2\",\"4599E4\",\"3E96E6\",\"3694E9\",\"2E92EB\",\"278FED\",\n",
    "\"1F8DF0\",\"188AF2\",\"1088F4\",\"0986F7\",\"55A5A5\",\"53A1A2\",\"519E9F\",\"4F9B9C\",\"4D989A\",\"4B9597\",\"499294\",\"478F91\",\"458B8F\",\"43888C\",\n",
    "\"418589\",\"3F8286\",\"3D7F84\",\"3B7C81\",\"39797E\",\"37767B\",\"357279\",\"336F76\",\"316C73\",\"2F6970\",\"2D666E\",\"2B636B\",\"296068\",\"285D66\",\n",
    "\"bb93b0\",\"B78FAC\",\"B48CA9\",\"B189A6\",\"AE85A2\",\"AA829F\",\"A77F9C\",\"A47B99\",\"A17895\",\"9E7592\",\"9A718F\",\"976E8C\",\"946B88\",\"916885\",\n",
    "\"8D6482\",\"8A617F\",\"875E7B\",\"845A78\",\"815775\",\"7D5472\",\"7A506E\",\"774D6B\",\"744A68\",\"714765\",\"de7cbb\",\"DA77B7\",\"D772B3\",\"D46EAF\",\n",
    "\"D169AB\",\"CE64A8\",\"CB60A4\",\"C85BA0\",\"C4579C\",\"C15298\",\"BE4D95\",\"BB4991\",\"B8448D\",\"B54089\",\"B23B86\",\"AF3682\",\"AB327E\",\"A82D7A\",\n",
    "\"A52976\",\"A22473\",\"9F1F6F\",\"9C1B6B\",\"991667\",\"961264\",\"000000\",\"000000\",\"000000\",\n",
    "\"1964EB\",\"1555E4\",\"1147DD\",\"0E39D6\",\"0A2ACF\",\"071CC8\",\"030EC1\",\"0000BA\",\n",
    "\"0000BA\",\"040464\",\"0000FF\",\"3051cf\",\"000000\",\"000000\",\"000000\",\"000000\",\n",
    "\"000000\",\"000000\",\"000000\",\"000000\",\"000000\",\"000000\",\"000000\",\"000000\",\n",
    "\"000000\",\"000000\",\"000000\",\"000000\",\"000000\",\"000000\",\"000000\",\"000000\",\n",
    "\"547FC4\",\"4D77BA\",\"466FB1\",\"4067A7\",\"395F9E\",\"335895\",\"335896\",\"335897\",\"ff2828\",\"ffffff\",\"d0ffff\",\"ffe0d0\",\"ff7d00\",\"fac800\",\"c86400\",\n",
    "\"fff000\",\"afcd96\",\"afcd96\",\"64dcdc\",\"00ffff\",\"00ffff\",\"00ffff\",\"111133\",\"000000\"]};\n",
    "\n",
    "#trees\n",
    "glad_landcover_2020_main = glad_landcover_2020.where((glad_landcover_2020.gte(25)).And(glad_landcover_2020.lte(48)), 25)\n",
    "glad_landcover_2020_main = glad_landcover_2020_main.where((glad_landcover_2020.gte(125)).And(glad_landcover_2020.lte(148)), 25)\n",
    "# glad_landcover_2020_main = glad_landcover_2020_main.where((glad_landcover_2020.gte(49)).And(glad_landcover_2020.lte(72)), 49)\n",
    "# glad_landcover_2020_main = glad_landcover_2020_main.where((glad_landcover_2020.gte(149)).And(glad_landcover_2020.lte(172)), 49)\n",
    "# glad_landcover_2020_main = glad_landcover_2020_main.where((glad_landcover_2020.gte(73)).And(glad_landcover_2020.lte(96)), 73)\n",
    "# glad_landcover_2020_main = glad_landcover_2020_main.where((glad_landcover_2020.gte(173)).And(glad_landcover_2020.lte(196)), 73)\n",
    "\n",
    "# #vegetation\n",
    "# glad_landcover_2020_main = glad_landcover_2020_main.where((glad_landcover_2020.gte(0)).And(glad_landcover_2020.lte(24)), 24)\n",
    "# glad_landcover_2020_main = glad_landcover_2020_main.where((glad_landcover_2020.gte(100)).And(glad_landcover_2020.lte(124)), 24)\n",
    "# glad_landcover_2020_main = glad_landcover_2020_main.where((glad_landcover_2020.eq(240)).Or(glad_landcover_2020.eq(249)), 24)\n",
    "\n",
    "# #cropland\n",
    "# glad_landcover_2020_main = glad_landcover_2020_main.where((glad_landcover_2020.gte(244)).And(glad_landcover_2020.lte(247)), 244)\n",
    "\n",
    "# #water\n",
    "# glad_landcover_2020_main = glad_landcover_2020_main.where((glad_landcover_2020.gte(200)).And(glad_landcover_2020.lte(211)), 200)\n",
    "# glad_landcover_2020_main = glad_landcover_2020_main.where(glad_landcover_2020.eq(254), 200)\n",
    "\n",
    "# #built up\n",
    "# glad_landcover_2020_main = glad_landcover_2020_main.where((glad_landcover_2020.gte(250)).And(glad_landcover_2020.lte(253)), 250)\n"
   ]
  },
  {
   "cell_type": "markdown",
   "id": "4d28ef10-22cb-4e6a-bc55-54f3bb90c020",
   "metadata": {},
   "source": [
    "#### Get stable trees for 2020"
   ]
  },
  {
   "cell_type": "code",
   "execution_count": 24,
   "id": "b22b5834-5956-458e-99eb-d1854e9037b9",
   "metadata": {
    "tags": []
   },
   "outputs": [],
   "source": [
    "glad_stable_tree_2020 = glad_landcover_2020_main.eq(25) #binary stable trees\n",
    "glad_stable_tree_2020 = set_scale_property_from_image(glad_stable_tree_2020,glad_landcover_2020)\n",
    "\n",
    "glad_stable_tree_2020_area_km2 = binary_to_area_km2(glad_stable_tree_2020)\n",
    "\n",
    "glad_stable_tree_2020_area_km2 = set_scale_property_from_image(glad_stable_tree_2020_area_km2,glad_landcover_2020)\n"
   ]
  },
  {
   "cell_type": "markdown",
   "id": "9a239095-5568-4ee9-aff0-9508756b47d1",
   "metadata": {
    "tags": []
   },
   "source": [
    "#### Fetch: Tropical Moist Forest by JRC\n",
    "Link: https:#  www.science.org/doi/10.1126/sciadv.abe1603 (paper); https://forobs.jrc.ec.europa.eu/static/tmf/TMF_DataUsersGuide.pdf (dataset description)  \n",
    "\n",
    "Overview: The transition map shows the spatial distribution of the tropical moist forest at the end of\n",
    "the year 2022. It depicts the sequential dynamics of changes by providing transition stages\n",
    "from the first year of the monitoring period to the end of the year 2022 (undisturbed forest,\n",
    "degradation, deforestation, regrowth, conversion to plantations) and subclasses for each\n",
    "transition class (period of disturbance, age of regrowth, several types of forest, several\n",
    "types of degradation and deforestation, change types within the mangroves and tree\n",
    "plantations).\n",
    "\n",
    "Reference: C. Vancutsem, F. Achard, J.-F. Pekel, G. Vieilledent, S. Carboni, D. Simonetti, J. Gallego,\n",
    "L.E.O.C. Aragão, R. Nasi. Long-term (1990-2019) monitoring of forest cover changes in the\n",
    "humid tropics. Science Advances 2021\n",
    "\n",
    "\n",
    "Legend: \n",
    "- value 10. Undisturbed Tropical Moist Forest (TMF) \n",
    "- value 20. Degraded TMF \n",
    "- value 30. TMF regrowth \n",
    "- value 41. Deforested land - Forest converted to tree plantations \n",
    "- value 42. Deforested Land - Forest converted to water\n",
    "- value 43. Deforested Land - Forest converted to other LC\n",
    "- value 50. Ongoing deforestation or degradation (2019-2021)\n",
    "- value 60. Permanent or Seasonal Water  (Pekel et al. 2016 & updates for years 2015-2021) \n",
    "- value 70. Other land cover (including afforestation)"
   ]
  },
  {
   "cell_type": "code",
   "execution_count": 25,
   "id": "705083fb-f59b-4dad-bcd8-15288fa41bf6",
   "metadata": {
    "tags": []
   },
   "outputs": [],
   "source": [
    "JRC_TMF_transitions_raw = ee.ImageCollection('projects/JRC/TMF/v1_2021/TransitionMap_Subtypes')\n",
    "\n",
    "JRC_TMF_transitions = JRC_TMF_transitions_raw.mosaic() ### NB check why 2021?\n",
    "\n",
    "JRC_TMF_transitions_main = JRC_TMF_transitions.where((JRC_TMF_transitions.gte(10))and(JRC_TMF_transitions.lte(12)), 10) \n",
    "#JRC_TMF_transitions_main = JRC_TMF_transitions_main.where((JRC_TMF_transitions.gte(21))and(JRC_TMF_transitions.lte(26)), 20)\n",
    "#JRC_TMF_transitions_main = JRC_TMF_transitions_main.where((JRC_TMF_transitions.gte(61))and(JRC_TMF_transitions.lte(62)), 20)\n",
    "# JRC_TMF_transitions_main = JRC_TMF_transitions_main.where((JRC_TMF_transitions.gte(31))and(JRC_TMF_transitions.lte(33)), 30)\n",
    "# JRC_TMF_transitions_main = JRC_TMF_transitions_main.where((JRC_TMF_transitions.gte(63))and(JRC_TMF_transitions.lte(64)), 30)\n",
    "# JRC_TMF_transitions_main = JRC_TMF_transitions_main.where((JRC_TMF_transitions.gte(81))and(JRC_TMF_transitions.lte(86)), 41)\n",
    "# JRC_TMF_transitions_main = JRC_TMF_transitions_main.where((JRC_TMF_transitions.gte(73))and(JRC_TMF_transitions.lte(74)), 42)\n",
    "# JRC_TMF_transitions_main = JRC_TMF_transitions_main.where((JRC_TMF_transitions.gte(41))and(JRC_TMF_transitions.lte(42)), 43)\n",
    "# JRC_TMF_transitions_main = JRC_TMF_transitions_main.where((JRC_TMF_transitions.gte(65))and(JRC_TMF_transitions.lte(66)), 43)\n",
    "# JRC_TMF_transitions_main = JRC_TMF_transitions_main.where((JRC_TMF_transitions.gte(51))and(JRC_TMF_transitions.lte(54)), 50)\n",
    "# JRC_TMF_transitions_main = JRC_TMF_transitions_main.where((JRC_TMF_transitions.eq(67)),50)\n",
    "# JRC_TMF_transitions_main = JRC_TMF_transitions_main.where((JRC_TMF_transitions.gte(71))and(JRC_TMF_transitions.lte(72)), 60)\n",
    "# JRC_TMF_transitions_main = JRC_TMF_transitions_main.where((JRC_TMF_transitions.gte(91)), 70)"
   ]
  },
  {
   "cell_type": "markdown",
   "id": "9b32a041-ca9c-4d98-ad0b-d8cc354f6696",
   "metadata": {
    "tags": []
   },
   "source": [
    "##### Get undisturbed trees for 2020"
   ]
  },
  {
   "cell_type": "code",
   "execution_count": 26,
   "id": "35316941-13b8-44a3-8385-d63dcf9acbdd",
   "metadata": {
    "tags": []
   },
   "outputs": [
    {
     "name": "stdout",
     "output_type": "stream",
     "text": [
      "30.000000000000004\n"
     ]
    }
   ],
   "source": [
    "# JRC_TMF_transitions_trees = JRC_TMF_transitions_main.remap([10,20,30,41,42,43,50,60,70],\n",
    "JRC_TMF_undisturbed_2020 = JRC_TMF_transitions_main.eq(10) # binary undisturbed trees\n",
    "\n",
    "#getting scale from first band of raw image and adding to properties of final composite\n",
    "JRC_TMF_undisturbed_2020 = set_scale_property_from_image(JRC_TMF_undisturbed_2020,\n",
    "                                                                  JRC_TMF_transitions_raw.first())\n",
    "\n",
    "#area (NB could be done at end in zonal stats)\n",
    "JRC_TMF_undisturbed_2020_area_km2 = binary_to_area_km2(JRC_TMF_undisturbed_2020)\n",
    "\n",
    "JRC_TMF_undisturbed_2020_area_km2 = set_scale_property_from_image(JRC_TMF_undisturbed_2020_area_km2,\n",
    "                                                                  JRC_TMF_transitions_raw.first())\n",
    "\n",
    "print (JRC_TMF_undisturbed_2020_area_km2.get(\"scale\").getInfo())"
   ]
  },
  {
   "cell_type": "code",
   "execution_count": 27,
   "id": "fc0e5c7c-2a39-42c9-b2a7-1eff7b27e0f6",
   "metadata": {
    "tags": []
   },
   "outputs": [],
   "source": [
    "##checks\n",
    "# m = geemap.Map()\n",
    "# m.addLayer(JRC_TMF_undisturbed_2020.randomVisualizer(),{},'JRC_TMF_undisturbed_2020')\n",
    "# m.addLayer(JRC_TMF_transitions_main.eq(10).randomVisualizer(),{},'TMF-simple')\n",
    "\n",
    "# m.addLayer(roi,{},'field')\n",
    "\n",
    "# m.centerObject(roi)\n",
    "# m"
   ]
  },
  {
   "cell_type": "markdown",
   "id": "157bf08c-77a7-4fb0-bacc-de30ec0cc72a",
   "metadata": {
    "tags": []
   },
   "source": [
    "#### Fetch: Global Forest Change \n",
    "Link: https://www.science.org/doi/10.1126/science.1244693 (paper); https://storage.googleapis.com/earthenginepartners-hansen/GFC-2022-v1.10/download.html (user notes v1.10)\n",
    "\n",
    "Citation: Hansen, M. C., P. V. Potapov, R. Moore, M. Hancher, S. A. Turubanova, A. Tyukavina, D. Thau, S. V. Stehman, S. J. Goetz, T. R. Loveland, A. Kommareddy, A. Egorov, L. Chini, C. O. Justice, and J. R. G. Townshend. \"High-Resolution Global Maps of 21st-Century Forest Cover Change.\" Science 342 (15 November): 850-53. 10.1126/science.1244693.\n",
    "\n",
    "Overview: Results from time-series analysis of Landsat images in characterizing global forest extent and change from 2000 through 2022.\n",
    "\n",
    "\n",
    "N.B. Next GFC update should give tree cover in 2020. Currently showing tree cover is for 2000 with loss pixels between 2001 and 2020 removed. \n"
   ]
  },
  {
   "cell_type": "code",
   "execution_count": 28,
   "id": "16ef7c4d-5131-4589-adb6-8e7aa1b2cdc2",
   "metadata": {
    "tags": []
   },
   "outputs": [],
   "source": [
    "gfc = ee.Image(\"UMD/hansen/global_forest_change_2022_v1_10\")\n",
    "\n",
    "gfc_treeCover_2000 = gfc.select(['treecover2000']) #get tree cover in 2000\n",
    "\n",
    "gfc_loss_2001_2020 = gfc.select(['lossyear']).lte(20) # get loss pixels since 2000 and up to and including 2020\n",
    "\n",
    "gfc_treeCover_2020 = gfc_treeCover_2000.where(gfc_loss_2001_2020.eq(1),0) # remove loss from original tree cover ot approximate remaining percentage cover\n"
   ]
  },
  {
   "cell_type": "markdown",
   "id": "e3179265-78c9-4944-9ae8-82212e0af7ce",
   "metadata": {},
   "source": [
    "##### Get treecover in 2020"
   ]
  },
  {
   "cell_type": "code",
   "execution_count": 29,
   "id": "f660ba55-b21e-4c37-a7ad-4941c3af0031",
   "metadata": {
    "tags": []
   },
   "outputs": [],
   "source": [
    "gfc_treeCover_2020_binary=gfc_treeCover_2020.gt(10) #FAO 10% definition...\n",
    "\n",
    "gfc_treeCover_2020_binary = set_scale_property_from_image(gfc_treeCover_2020_binary,gfc)\n",
    "## TO DO think about gain and 2010 cover\n",
    "\n",
    "gfc_treeCover_2020_area_km2 = binary_to_area_km2(gfc_treeCover_2020_binary)\n",
    "\n",
    "gfc_treeCover_2020_area_km2 = set_scale_property_from_image(gfc_treeCover_2020_area_km2,gfc)\n",
    "\n",
    "# Map = geemap.Map()\n",
    "# Map.addLayer(gfc_treeCover_2020_binary,{'min':0,'max':1,'palette':[\"blue\",\"green\"]})\n",
    "# Map"
   ]
  },
  {
   "cell_type": "markdown",
   "id": "57293c03-68e9-4313-a138-2bbaf41c23a9",
   "metadata": {},
   "source": [
    "##### Get area of all valid pixels"
   ]
  },
  {
   "cell_type": "code",
   "execution_count": 30,
   "id": "d7cd8121-cbd6-4cdd-bff1-686a284bb09c",
   "metadata": {
    "tags": []
   },
   "outputs": [
    {
     "name": "stdout",
     "output_type": "stream",
     "text": [
      "template_band_index:  0\n",
      "scale (m):  27.829872698318393\n"
     ]
    }
   ],
   "source": [
    "total_roi_area_gfc_km2 = binary_to_area_km2(gfc_treeCover_2020_binary.gte(0))\n",
    "total_roi_area_gfc_km2 = set_scale_property_from_image(total_roi_area_gfc_km2,gfc,0,True)\n",
    "\n",
    "# Map = geemap.Map()\n",
    "# Map.addLayer(total_roi_area_gfc_km2)\n",
    "# Map"
   ]
  },
  {
   "cell_type": "markdown",
   "id": "c617f1e7-e46e-4a6e-b65d-10bfc9a2fd75",
   "metadata": {
    "tags": []
   },
   "source": [
    "#### Fetch: ESRI 10m Annual Land Use Land Cover (2017-2022)¶\n",
    "- Link: https://gee-community-catalog.org/projects/S2TSLULC/?h=esri\n",
    "\n",
    "- Overview: Time series of annual global maps of land use and land cover (LULC). It currently has data from 2017-2021. The maps are derived from ESA Sentinel-2 imagery at 10m resolution. Each map is a composite of LULC predictions for 9 classes throughout the year in order to generate a representative snapshot of each year. This dataset was generated by Impact Observatory, who used billions of human-labeled pixels (curated by the National Geographic Society) to train a deep learning model for land classification. This map uses an updated model from the 10-class model and combines Grass(formerly class 3) and Scrub (formerly class 6) into a single Rangeland class (class 11). The original Esri 2020 Land Cover collection uses 10 classes (Grass and Scrub separate) and an older version of the underlying deep learning model. \n",
    "\n",
    "- Reference:  Karra, Kontgis, et al. “Global land use/land cover with Sentinel-2 and deep learning.” IGARSS 2021-2021 IEEE International Geoscience and Remote Sensing Symposium. IEEE, 2021.\n",
    "- Legend (remapped values and hex code):\n",
    "- 1\tWater\t#1A5BAB\n",
    "- 2\tTrees\t#358221\n",
    "- 3\tFlooded Vegetation\t#87D19E\n",
    "- 4\tCrops\t#FFDB5C\n",
    "- 5\tBuilt Area\t#ED022A\n",
    "- 6\tBare Ground\t#EDE9E4\n",
    "- 7\tSnow/Ice\t#F2FAFF\n",
    "- 8\tClouds\t#C8C8C8\n",
    "- 9\tRangeland\t#C6AD8D"
   ]
  },
  {
   "cell_type": "markdown",
   "id": "1aaaac29-7889-493a-8971-8e32be7708e5",
   "metadata": {
    "tags": []
   },
   "source": [
    "##### Get landcover for 2020"
   ]
  },
  {
   "cell_type": "code",
   "execution_count": 31,
   "id": "157e44f6-4752-4374-8e70-520ec50c50b9",
   "metadata": {
    "tags": []
   },
   "outputs": [],
   "source": [
    "esri_lulc10 = ee.ImageCollection(\"projects/sat-io/open-datasets/landcover/ESRI_Global-LULC_10m_TS\");\n",
    "\n",
    "#esri_lulc10 = ee.ImageCollection(\"projects/sat-io/open-datasets/landcover/ESRI_Global-LULC_10m\")/old link\n",
    "esri_lulc10_2020 = esri_lulc10.filterDate('2020-01-01','2020-12-31').map(remapper_esri).mosaic()\n"
   ]
  },
  {
   "cell_type": "markdown",
   "id": "8577f031-a171-4730-b344-f5d724b601a4",
   "metadata": {
    "tags": []
   },
   "source": [
    "##### Get trees\n"
   ]
  },
  {
   "cell_type": "code",
   "execution_count": 32,
   "id": "1d391bdf-d1b3-46fb-a861-98a81f4e346a",
   "metadata": {
    "tags": []
   },
   "outputs": [
    {
     "name": "stdout",
     "output_type": "stream",
     "text": [
      "template_band_index:  0\n",
      "scale (m):  10\n"
     ]
    }
   ],
   "source": [
    "esri_trees_2020 = esri_lulc10_2020.eq(2) #get trees    NB check flooded veg class\n",
    "\n",
    "esri_trees_2020 = set_scale_property_from_image(esri_trees_2020,esri_lulc10.first(),0)\n",
    "\n",
    "esri_trees_2020_area_km2 = binary_to_area_km2(esri_trees_2020)\n",
    "\n",
    "esri_trees_2020_area_km2 = set_scale_property_from_image(esri_trees_2020_area_km2,esri_lulc10.first(),0,verbose=True)\n",
    "\n",
    "# Map = geemap.Map()\n",
    "# Map.addLayer(esri_trees_2020,{'min':0,'max':1,'palette':[\"blue\",\"green\"]})\n",
    "# Map"
   ]
  },
  {
   "cell_type": "code",
   "execution_count": 33,
   "id": "5d708987-7ce6-4f78-abed-a132effe3ba9",
   "metadata": {
    "tags": []
   },
   "outputs": [
    {
     "name": "stdout",
     "output_type": "stream",
     "text": [
      "template_band_index:  0\n",
      "scale (m):  10\n"
     ]
    }
   ],
   "source": [
    "total_roi_area_esri_km2 = binary_to_area_km2(esri_trees_2020.gte(0))\n",
    "total_roi_area_esri_km2 = set_scale_property_from_image(total_roi_area_esri_km2,esri_lulc10.first(),0,True)\n",
    "\n",
    "# Map = geemap.Map()\n",
    "# Map.addLayer(total_roi_area_km2)\n",
    "# Map"
   ]
  },
  {
   "cell_type": "markdown",
   "id": "c19a9302-6c36-4e29-a952-fa4cb604a6bb",
   "metadata": {
    "tags": []
   },
   "source": [
    "### 2. Fetch some fields (public)"
   ]
  },
  {
   "cell_type": "code",
   "execution_count": 34,
   "id": "7b271dc7-8a0b-497b-95b8-bbbf9bd98b09",
   "metadata": {
    "tags": []
   },
   "outputs": [
    {
     "name": "stdout",
     "output_type": "stream",
     "text": [
      "['0520cfac98fbc1bd7952b1c07a9f6983b83625722b6f665ea83ac9aad3512918', 'b84f55de2b7f3c77d1cbeb8b026a1b29be42d8b08d92058c9143e0556456820f', 'b7c15efb6e3c63fcfe649a2d994973a6f5caa844f720f0edb7cf24f6a6c3c1b3', 'fa2aff0d60cf1bc0e1f1dd4b91daf932940c31c021ca1b84f5b9445855eef02f', '88bec54ad04804f5b1fafbc131266640a129be2840fa6797cda358d7e831b907', 'ef2f7c46fbe4fc892fdb81f9a31c9c507b9f1e4548504247dcbbab28cf8e436c', '97408ef7bdac487e4a42e4abf20492b786310889fd4b0478603e2d0004c40bfb', 'c288d6c94efa9011c0e3452af9f7fa0941661377030e10d29c68764617f9816d', '1a41a309ae2387f36a604c9a6c81887e64357a7f61d228758e23ef766286fcd7', '1a4472dc40700ef33f931863f58d444f243d64418616678fcf85c57e1f4bbf45', '8e2accea7ddbb84b7f6001e00bcb60f57f563c80633b53859993522a6f05727a']\n"
     ]
    }
   ],
   "source": [
    "CIV_ids = ['0520cfac98fbc1bd7952b1c07a9f6983b83625722b6f665ea83ac9aad3512918',\n",
    "           'b84f55de2b7f3c77d1cbeb8b026a1b29be42d8b08d92058c9143e0556456820f',\n",
    "           'b7c15efb6e3c63fcfe649a2d994973a6f5caa844f720f0edb7cf24f6a6c3c1b3',\n",
    "            'fa2aff0d60cf1bc0e1f1dd4b91daf932940c31c021ca1b84f5b9445855eef02f']\n",
    "\n",
    "GHA_ids = ['88bec54ad04804f5b1fafbc131266640a129be2840fa6797cda358d7e831b907', \n",
    "'ef2f7c46fbe4fc892fdb81f9a31c9c507b9f1e4548504247dcbbab28cf8e436c',\n",
    "'97408ef7bdac487e4a42e4abf20492b786310889fd4b0478603e2d0004c40bfb']\n",
    "\n",
    "IDN_ids = ['c288d6c94efa9011c0e3452af9f7fa0941661377030e10d29c68764617f9816d', \n",
    "       '1a41a309ae2387f36a604c9a6c81887e64357a7f61d228758e23ef766286fcd7',\n",
    "       '1a4472dc40700ef33f931863f58d444f243d64418616678fcf85c57e1f4bbf45',\n",
    "       '8e2accea7ddbb84b7f6001e00bcb60f57f563c80633b53859993522a6f05727a']\n",
    "\n",
    "all_geo_ids= CIV_ids+GHA_ids+IDN_ids\n",
    "\n",
    "print (all_geo_ids)"
   ]
  },
  {
   "cell_type": "markdown",
   "id": "18de5299-128a-4480-9ffc-61a992a39045",
   "metadata": {
    "tags": []
   },
   "source": [
    "#### Transform geometries into a feature collection"
   ]
  },
  {
   "cell_type": "code",
   "execution_count": 35,
   "id": "51c53e49-26dc-41d7-b3f3-d7fbc5585c20",
   "metadata": {
    "tags": []
   },
   "outputs": [
    {
     "ename": "NameError",
     "evalue": "name 'session' is not defined",
     "output_type": "error",
     "traceback": [
      "\u001b[0;31m---------------------------------------------------------------------------\u001b[0m",
      "\u001b[0;31mNameError\u001b[0m                                 Traceback (most recent call last)",
      "Cell \u001b[0;32mIn[35], line 1\u001b[0m\n\u001b[0;32m----> 1\u001b[0m roi \u001b[38;5;241m=\u001b[39m \u001b[43mgeo_id_list_to_feature_collection\u001b[49m\u001b[43m(\u001b[49m\u001b[43mall_geo_ids\u001b[49m\u001b[43m)\u001b[49m\n\u001b[1;32m      3\u001b[0m \u001b[38;5;66;03m#checks \u001b[39;00m\n\u001b[1;32m      4\u001b[0m \u001b[38;5;28mprint\u001b[39m (\u001b[38;5;124m\"\u001b[39m\u001b[38;5;124mCount of geo ids in list: \u001b[39m\u001b[38;5;124m\"\u001b[39m, \u001b[38;5;28mlen\u001b[39m(all_geo_ids))\n",
      "Cell \u001b[0;32mIn[22], line 31\u001b[0m, in \u001b[0;36mgeo_id_list_to_feature_collection\u001b[0;34m(list_of_geo_ids)\u001b[0m\n\u001b[1;32m     29\u001b[0m \u001b[38;5;28;01mif\u001b[39;00m \u001b[38;5;28misinstance\u001b[39m(list_of_geo_ids, \u001b[38;5;28mlist\u001b[39m):\n\u001b[1;32m     30\u001b[0m     \u001b[38;5;28;01mfor\u001b[39;00m geo_id \u001b[38;5;129;01min\u001b[39;00m list_of_geo_ids:\n\u001b[0;32m---> 31\u001b[0m         feature \u001b[38;5;241m=\u001b[39m \u001b[43mgeo_id_to_feature\u001b[49m\u001b[43m(\u001b[49m\u001b[43mgeo_id\u001b[49m\u001b[43m)\u001b[49m\n\u001b[1;32m     32\u001b[0m         out_fc_list\u001b[38;5;241m.\u001b[39mappend(feature)\n\u001b[1;32m     33\u001b[0m \u001b[38;5;28;01melse\u001b[39;00m:\n",
      "Cell \u001b[0;32mIn[22], line 41\u001b[0m, in \u001b[0;36mgeo_id_to_feature\u001b[0;34m(geo_id)\u001b[0m\n\u001b[1;32m     40\u001b[0m \u001b[38;5;28;01mdef\u001b[39;00m \u001b[38;5;21mgeo_id_to_feature\u001b[39m(geo_id):\n\u001b[0;32m---> 41\u001b[0m     res \u001b[38;5;241m=\u001b[39m \u001b[43msession\u001b[49m\u001b[38;5;241m.\u001b[39mget(asset_registry_base \u001b[38;5;241m+\u001b[39m \u001b[38;5;124mf\u001b[39m\u001b[38;5;124m\"\u001b[39m\u001b[38;5;124m/fetch-field/\u001b[39m\u001b[38;5;132;01m{\u001b[39;00mgeo_id\u001b[38;5;132;01m}\u001b[39;00m\u001b[38;5;124m?s2_index=\u001b[39m\u001b[38;5;124m\"\u001b[39m) \u001b[38;5;66;03m# s2 index are indexes for which we need S2 cell token\u001b[39;00m\n\u001b[1;32m     42\u001b[0m     poly_json \u001b[38;5;241m=\u001b[39m res\u001b[38;5;241m.\u001b[39mjson()[\u001b[38;5;124m'\u001b[39m\u001b[38;5;124mGeo JSON\u001b[39m\u001b[38;5;124m'\u001b[39m][\u001b[38;5;124m'\u001b[39m\u001b[38;5;124mgeometry\u001b[39m\u001b[38;5;124m'\u001b[39m][\u001b[38;5;124m'\u001b[39m\u001b[38;5;124mcoordinates\u001b[39m\u001b[38;5;124m'\u001b[39m]\n\u001b[1;32m     43\u001b[0m     feature \u001b[38;5;241m=\u001b[39m json_to_feature_with_id(poly_json,geo_id)\n",
      "\u001b[0;31mNameError\u001b[0m: name 'session' is not defined"
     ]
    }
   ],
   "source": [
    "roi = geo_id_list_to_feature_collection(all_geo_ids)\n",
    "\n",
    "#checks \n",
    "print (\"Count of geo ids in list: \", len(all_geo_ids))\n",
    "print (\"Count of features in FeatureCollection: \", roi.size().getInfo())"
   ]
  },
  {
   "cell_type": "markdown",
   "id": "dfccd94a-dd4b-4476-95a3-4d271e8a52dd",
   "metadata": {},
   "source": [
    "##### Alternative feature collection: create random polygons\n",
    "select random points inside administrative boundaries and buffer them "
   ]
  },
  {
   "cell_type": "code",
   "execution_count": 37,
   "id": "e66a1a43-7c05-4bb1-a6fa-c7827a0d9b38",
   "metadata": {
    "tags": []
   },
   "outputs": [
    {
     "name": "stdout",
     "output_type": "stream",
     "text": [
      "number of admin regions 10\n",
      "number of countries 7\n",
      "['Mexico', 'Brazil', 'United States of America', 'Argentina', 'Venezuela', 'Italy', 'Turkey']\n",
      "number of buffers created 10\n"
     ]
    }
   ],
   "source": [
    "verbose = True\n",
    "\n",
    "points_per_admin_boundary = False #if true will make the number of points per admin boundary (i.e. no of points x no of boundaries), as opposed tob spread across them\n",
    "\n",
    "number_of_points = 10\n",
    "\n",
    "number_of_boundaries = 10\n",
    "\n",
    "buffer_distance_meters = 1000\n",
    "\n",
    "seed = 5 # so it can be reproducable - each number is a new random combination                                                                                                \n",
    "   \n",
    "max_error = 1000 #in meters for admin boundaries (can be coarse ot speed up computation, as just example)\n",
    "\n",
    "admin_boundaries = ee.FeatureCollection(\"FAO/GAUL_SIMPLIFIED_500m/2015/level2\")#.filter(ee.Filter.gt(\"Shape_Area\",0.1))#.filter(ee.Filter.inList(\"ADM0_NAME\",[\"Indonesia\",\"Ghana\"]))##.filter(ee.Filter.lt(\"Shape_Area\",1000))\n",
    "\n",
    "random_collection = admin_boundaries.randomColumn(seed = seed).sort('random').limit(number_of_boundaries)\n",
    "\n",
    "if verbose:\n",
    "    print(\"number of admin regions\",random_collection.size().getInfo())\n",
    "\n",
    "    print(\"number of countries\",random_collection.aggregate_array(\"ADM0_NAME\").distinct().length().getInfo())\n",
    "    print(random_collection.aggregate_array(\"ADM0_NAME\").distinct().getInfo())\n",
    "    \n",
    "if points_per_admin_boundary:\n",
    "    random_points = random_collection.map(create_random_points_in_polys).flatten()\n",
    "else:\n",
    "    random_points = create_random_points_in_polys(random_collection)\n",
    "\n",
    "random_buffers = random_points.map(lambda feature: feature.buffer(buffer_distance_meters,100)) ##buffer by distance in meters\n",
    "\n",
    "roi= random_buffers.map(set_geo_id_from_system_index) ## add surrogate \"geo_id\" for formatting\n",
    "\n",
    "#checks\n",
    "if verbose:\n",
    "    #print(\"number of points\",random_points.size().getInfo())\n",
    "    print(\"number of buffers created\",random_buffers.size().getInfo())\n",
    "    geemap.ee_to_pandas(roi)###create random points and buffer them\n"
   ]
  },
  {
   "cell_type": "markdown",
   "id": "1eb4baba-247a-4090-aeb5-679746a15b6c",
   "metadata": {
    "tags": []
   },
   "source": [
    "#### Add area property to feature(s) and select columns of interest"
   ]
  },
  {
   "cell_type": "code",
   "execution_count": 38,
   "id": "e366c6e2-7c9c-47ca-8aad-76a0dde5cc5f",
   "metadata": {
    "tags": []
   },
   "outputs": [
    {
     "data": {
      "text/html": [
       "<div>\n",
       "<style scoped>\n",
       "    .dataframe tbody tr th:only-of-type {\n",
       "        vertical-align: middle;\n",
       "    }\n",
       "\n",
       "    .dataframe tbody tr th {\n",
       "        vertical-align: top;\n",
       "    }\n",
       "\n",
       "    .dataframe thead th {\n",
       "        text-align: right;\n",
       "    }\n",
       "</style>\n",
       "<table border=\"1\" class=\"dataframe\">\n",
       "  <thead>\n",
       "    <tr style=\"text-align: right;\">\n",
       "      <th></th>\n",
       "      <th>geometry_area_km2</th>\n",
       "      <th>geo_id</th>\n",
       "    </tr>\n",
       "  </thead>\n",
       "  <tbody>\n",
       "    <tr>\n",
       "      <th>0</th>\n",
       "      <td>2.942029</td>\n",
       "      <td>0</td>\n",
       "    </tr>\n",
       "    <tr>\n",
       "      <th>1</th>\n",
       "      <td>2.942029</td>\n",
       "      <td>1</td>\n",
       "    </tr>\n",
       "    <tr>\n",
       "      <th>2</th>\n",
       "      <td>2.942029</td>\n",
       "      <td>2</td>\n",
       "    </tr>\n",
       "    <tr>\n",
       "      <th>3</th>\n",
       "      <td>2.942029</td>\n",
       "      <td>3</td>\n",
       "    </tr>\n",
       "    <tr>\n",
       "      <th>4</th>\n",
       "      <td>2.942029</td>\n",
       "      <td>4</td>\n",
       "    </tr>\n",
       "    <tr>\n",
       "      <th>5</th>\n",
       "      <td>2.942029</td>\n",
       "      <td>5</td>\n",
       "    </tr>\n",
       "    <tr>\n",
       "      <th>6</th>\n",
       "      <td>2.942029</td>\n",
       "      <td>6</td>\n",
       "    </tr>\n",
       "    <tr>\n",
       "      <th>7</th>\n",
       "      <td>2.942029</td>\n",
       "      <td>7</td>\n",
       "    </tr>\n",
       "    <tr>\n",
       "      <th>8</th>\n",
       "      <td>2.942029</td>\n",
       "      <td>8</td>\n",
       "    </tr>\n",
       "    <tr>\n",
       "      <th>9</th>\n",
       "      <td>2.942029</td>\n",
       "      <td>9</td>\n",
       "    </tr>\n",
       "  </tbody>\n",
       "</table>\n",
       "</div>"
      ],
      "text/plain": [
       "   geometry_area_km2 geo_id\n",
       "0           2.942029      0\n",
       "1           2.942029      1\n",
       "2           2.942029      2\n",
       "3           2.942029      3\n",
       "4           2.942029      4\n",
       "5           2.942029      5\n",
       "6           2.942029      6\n",
       "7           2.942029      7\n",
       "8           2.942029      8\n",
       "9           2.942029      9"
      ]
     },
     "execution_count": 38,
     "metadata": {},
     "output_type": "execute_result"
    }
   ],
   "source": [
    "roi = roi.map(add_area_km2_property_to_feature).select([\"geometry_area_km2\",\"geo_id\"]) ##select only fields of interest\n",
    "\n",
    "geemap.ee_to_pandas(roi)\n",
    "##checks\n",
    "##print (\"first feature area\",roi.first().get(\"area_km2\").getInfo())"
   ]
  },
  {
   "cell_type": "markdown",
   "id": "6075125b-851e-490e-a60a-bb8d867aafb3",
   "metadata": {
    "tags": []
   },
   "source": [
    "#### Create dictionary of images and image names"
   ]
  },
  {
   "cell_type": "code",
   "execution_count": 39,
   "id": "ab2fb688-b1e5-4b90-b17c-a16fb91cfd5d",
   "metadata": {
    "tags": []
   },
   "outputs": [
    {
     "name": "stdout",
     "output_type": "stream",
     "text": [
      "number of images:  5\n"
     ]
    }
   ],
   "source": [
    "continuous_image_dict = {\"total_roi_area_esri_km2\":total_roi_area_esri_km2.rename([\"all_area\"]),\n",
    "                          \"GFC_2020\":gfc_treeCover_2020_area_km2,\n",
    "                          \"TMF_undisturbed_2020\":JRC_TMF_undisturbed_2020_area_km2,\n",
    "                         \"esri_trees_2020\":esri_trees_2020_area_km2,\n",
    "                         \"glad_stable_tree_2020\":glad_stable_tree_2020_area_km2\n",
    "                        }\n",
    "\n",
    "\n",
    "print (\"number of images: \",len(continuous_image_dict))\n",
    "# input_image.reduceRegions(collection=roi,reducer= ee.Reducer.sum(),scale=out_scale)\n"
   ]
  },
  {
   "cell_type": "markdown",
   "id": "874274c3-15af-4aca-b407-f7683f883878",
   "metadata": {},
   "source": [
    "#### Compute statistics"
   ]
  },
  {
   "cell_type": "markdown",
   "id": "e7f19d47-119d-4df0-b156-cdc2ab2e3e69",
   "metadata": {},
   "source": [
    "Calculating zonal statistics for continuous data (e.g tree cover) within polygon(s)\n",
    "\n",
    "step 1: save as combined CSV in long format NB needs speeding up e.g., reduceRegions and dataframes"
   ]
  },
  {
   "cell_type": "markdown",
   "id": "12609c54-d937-43aa-99f7-eb4fdab0cbbd",
   "metadata": {},
   "source": [
    "Set output paths"
   ]
  },
  {
   "cell_type": "code",
   "execution_count": 40,
   "id": "ef91b195-6040-4671-b39a-ed37a6975c1b",
   "metadata": {
    "tags": []
   },
   "outputs": [],
   "source": [
    "out_path = os.path.join('/home/sepal-user/fdap/')\n",
    "\n",
    "out_csv_name = 'stats_long_format_continuous_data.csv' \n",
    "\n",
    "dataset_column_name = \"dataset_name\"\n",
    "\n",
    "out_file_long=out_path+out_csv_name\n",
    "\n",
    "out_csv_name = 'stats_wide_format_continuous_data.csv' #set output name\n",
    "\n",
    "out_file_wide = out_path+out_csv_name #set full path for output csv\n"
   ]
  },
  {
   "cell_type": "markdown",
   "id": "1ce375a3-ac9a-4fb8-b61f-0604e8c50f30",
   "metadata": {},
   "source": [
    "##### Trying to map over image collection to see if quicker \n",
    "\n",
    "TO DO: check here for formatting - https://gis.stackexchange.com/questions/380218/copying-reduceregion-results-to-featurecollection-properties"
   ]
  },
  {
   "cell_type": "code",
   "execution_count": 54,
   "id": "4b9cbfcd-fc1f-4516-b455-e2d88c4b7461",
   "metadata": {
    "tags": []
   },
   "outputs": [
    {
     "name": "stdout",
     "output_type": "stream",
     "text": [
      "5\n",
      "stats to fc time: 0.7853362560272217 seconds\n",
      "Total execution time: 9.005078077316284 seconds\n"
     ]
    }
   ],
   "source": [
    "# functions (TO DO move up to function section when done)\n",
    "def set_name(feature): \n",
    "    return feature.set(\"name\",image.get(\"system:index\"))\n",
    "\n",
    "def reduceStats (image):\n",
    "    fc = ee.FeatureCollection(image.reduceRegions(collection=roi,reducer=ee.Reducer.sum(),scale=image.get(\"scale\")))\n",
    "    fc = fc.map(lambda feature: feature.set(\"dataset_name\",image.get(\"system:index\")))\n",
    "    return fc\n",
    "\n",
    "# get the start time\n",
    "st = time.time()\n",
    "\n",
    "continuous_images_IC = ee.ImageCollection(list(continuous_image_dict.values()))\n",
    "\n",
    "print (continuous_images_IC.size().getInfo())\n",
    "\n",
    "roi= roi\n",
    "\n",
    "fc_stats_combined = continuous_images_IC.map(reduceStats).flatten()\n",
    "\n",
    "# get the interim time\n",
    "et = time.time()\n",
    "\n",
    "# get the execution time\n",
    "elapsed_time = et - st\n",
    "print('stats to fc time:', elapsed_time, 'seconds')\n",
    "\n",
    "#fc_stats_combined\n",
    "df_combined = geemap.ee_to_pandas(fc_stats_combined) # this bit takes the time\n",
    "\n",
    "df_combined.to_csv(path_or_buf=out_file_long,header=True,index=False)\n",
    "## TO DO add export to csv when data set name property added\n",
    "\n",
    "\n",
    "# get the end time\n",
    "et = time.time()\n",
    "\n",
    "# get the execution time\n",
    "elapsed_time = et - st\n",
    "print('Total execution time:', elapsed_time, 'seconds')"
   ]
  },
  {
   "cell_type": "code",
   "execution_count": 56,
   "id": "c181940b-141e-4aab-9dc3-0f8781e0a610",
   "metadata": {
    "tags": []
   },
   "outputs": [
    {
     "name": "stdout",
     "output_type": "stream",
     "text": [
      "processing image:  total_roi_area_esri_km2  (scale:  10 m)\n",
      "processing image:  GFC_2020  (scale:  27.829872698318393 m)\n",
      "processing image:  TMF_undisturbed_2020  (scale:  30.000000000000004 m)\n",
      "processing image:  esri_trees_2020  (scale:  10 m)\n",
      "processing image:  glad_stable_tree_2020  (scale:  27.829872698318393 m)\n",
      "stats to fc time: 2.7441964149475098 seconds\n",
      "results csv exported:  /home/sepal-user/fdap/stats_long_format_continuous_data.csv\n",
      "Total execution time: 10.969160318374634 seconds\n"
     ]
    }
   ],
   "source": [
    "# get the start time\n",
    "st = time.time()\n",
    "\n",
    "verbose=True\n",
    "dataframe_interim = False\n",
    "##get zonal stats csvs, add datasets name, and append all into one csv  \n",
    "header = True\n",
    "for name, image in continuous_image_dict.items():\n",
    "\n",
    "    out_scale = image.get(\"scale\").getInfo()\n",
    "    \n",
    "    if verbose:\n",
    "        print (\"processing image: \",name,\" (scale: \",out_scale,\"m)\")\n",
    "        \n",
    "    fc_stats = image.reduceRegions(collection=roi,reducer= ee.Reducer.sum(),scale=out_scale)\n",
    "    \n",
    "    if dataframe_interim:\n",
    "        df = geemap.ee_to_pandas(fc_stats)\n",
    "\n",
    "        df[dataset_column_name] =name\n",
    "\n",
    "        if header:\n",
    "            df_combined=df\n",
    "\n",
    "        else:\n",
    "            df_combined = pd.concat([df_combined,df],axis=0,join='outer')\n",
    "    else:\n",
    "        fc_stats = fc_stats.map(lambda feature: feature.set(\"dataset_name\",name))\n",
    "\n",
    "        if header:\n",
    "            fc_combined = fc_stats\n",
    "        else:\n",
    "            fc_combined = fc_combined.merge(fc_stats)\n",
    "        \n",
    "        \n",
    "    header = False\n",
    "\n",
    "# get the interim time\n",
    "et = time.time()\n",
    "\n",
    "# get the execution time\n",
    "elapsed_time = et - st\n",
    "print('stats to fc time:', elapsed_time, 'seconds')\n",
    "\n",
    "\n",
    "if dataframe_interim==False:\n",
    "    df_combined = geemap.ee_to_pandas(fc_combined)\n",
    "df_combined.to_csv(path_or_buf=out_file_long,header=True,index=False) \n",
    "\n",
    "print (\"results csv exported: \", out_file_long)\n",
    "\n",
    "df_combined\n",
    "\n",
    "# get the end time\n",
    "et = time.time()\n",
    "\n",
    "# get the execution time\n",
    "elapsed_time = et - st\n",
    "print('Total execution time:', elapsed_time, 'seconds')\n",
    "\n",
    "\n"
   ]
  },
  {
   "cell_type": "markdown",
   "id": "b5b6fbe5-0ef5-4898-9266-b3cb28daa1ab",
   "metadata": {},
   "source": [
    "##### Reformat long to wide"
   ]
  },
  {
   "cell_type": "code",
   "execution_count": 47,
   "id": "b78d254a-91a0-4d57-9d4e-a8e2889b8b8d",
   "metadata": {
    "tags": []
   },
   "outputs": [
    {
     "name": "stdout",
     "output_type": "stream",
     "text": [
      "output csv:  /home/sepal-user/fdap/stats_wide_format_continuous_data.csv\n"
     ]
    }
   ],
   "source": [
    "df_long_format = df_combined\n",
    "\n",
    "df_wide_format = df_long_format.pivot_table(index=['geo_id'], \n",
    "                                            columns='dataset_name', \n",
    "                                            values=['sum'])\n",
    "\n",
    "tidy_dataframe_after_pivot(df_wide_format)#tidys in place\n",
    "\n",
    "df_wide_format.to_csv(path_or_buf=out_file_wide,header=True)\n",
    "\n",
    "print (\"output csv: \", out_file_wide)\n"
   ]
  },
  {
   "cell_type": "markdown",
   "id": "67bf6bf9-68dd-4717-8641-7dcb12e9ca8d",
   "metadata": {},
   "source": [
    "Calculating zonal statistics for categorical data (e.g. land cover) within polygon \n",
    " - to tidy NB more efficient for proportions if only using binary data.."
   ]
  },
  {
   "cell_type": "code",
   "execution_count": 72,
   "id": "f72300dd-dfb8-43dc-ad50-9a9554d08662",
   "metadata": {
    "tags": []
   },
   "outputs": [
    {
     "name": "stdout",
     "output_type": "stream",
     "text": [
      "27.829872698318393\n",
      "Computing ... \n"
     ]
    },
    {
     "ename": "Exception",
     "evalue": "Computation timed out.",
     "output_type": "error",
     "traceback": [
      "\u001b[0;31m---------------------------------------------------------------------------\u001b[0m",
      "\u001b[0;31mHttpError\u001b[0m                                 Traceback (most recent call last)",
      "File \u001b[0;32m/usr/local/lib/python3.8/dist-packages/ee/data.py:335\u001b[0m, in \u001b[0;36m_execute_cloud_call\u001b[0;34m(call, num_retries)\u001b[0m\n\u001b[1;32m    334\u001b[0m \u001b[38;5;28;01mtry\u001b[39;00m:\n\u001b[0;32m--> 335\u001b[0m   \u001b[38;5;28;01mreturn\u001b[39;00m \u001b[43mcall\u001b[49m\u001b[38;5;241;43m.\u001b[39;49m\u001b[43mexecute\u001b[49m\u001b[43m(\u001b[49m\u001b[43mnum_retries\u001b[49m\u001b[38;5;241;43m=\u001b[39;49m\u001b[43mnum_retries\u001b[49m\u001b[43m)\u001b[49m\n\u001b[1;32m    336\u001b[0m \u001b[38;5;28;01mexcept\u001b[39;00m googleapiclient\u001b[38;5;241m.\u001b[39merrors\u001b[38;5;241m.\u001b[39mHttpError \u001b[38;5;28;01mas\u001b[39;00m e:\n",
      "File \u001b[0;32m/usr/local/lib/python3.8/dist-packages/googleapiclient/_helpers.py:134\u001b[0m, in \u001b[0;36mpositional.<locals>.positional_decorator.<locals>.positional_wrapper\u001b[0;34m(*args, **kwargs)\u001b[0m\n\u001b[1;32m    133\u001b[0m         logger\u001b[38;5;241m.\u001b[39mwarning(message)\n\u001b[0;32m--> 134\u001b[0m \u001b[38;5;28;01mreturn\u001b[39;00m \u001b[43mwrapped\u001b[49m\u001b[43m(\u001b[49m\u001b[38;5;241;43m*\u001b[39;49m\u001b[43margs\u001b[49m\u001b[43m,\u001b[49m\u001b[43m \u001b[49m\u001b[38;5;241;43m*\u001b[39;49m\u001b[38;5;241;43m*\u001b[39;49m\u001b[43mkwargs\u001b[49m\u001b[43m)\u001b[49m\n",
      "File \u001b[0;32m/usr/local/lib/python3.8/dist-packages/googleapiclient/http.py:915\u001b[0m, in \u001b[0;36mHttpRequest.execute\u001b[0;34m(self, http, num_retries)\u001b[0m\n\u001b[1;32m    914\u001b[0m \u001b[38;5;28;01mif\u001b[39;00m resp\u001b[38;5;241m.\u001b[39mstatus \u001b[38;5;241m>\u001b[39m\u001b[38;5;241m=\u001b[39m \u001b[38;5;241m300\u001b[39m:\n\u001b[0;32m--> 915\u001b[0m     \u001b[38;5;28;01mraise\u001b[39;00m HttpError(resp, content, uri\u001b[38;5;241m=\u001b[39m\u001b[38;5;28mself\u001b[39m\u001b[38;5;241m.\u001b[39muri)\n\u001b[1;32m    916\u001b[0m \u001b[38;5;28;01mreturn\u001b[39;00m \u001b[38;5;28mself\u001b[39m\u001b[38;5;241m.\u001b[39mpostproc(resp, content)\n",
      "\u001b[0;31mHttpError\u001b[0m: <HttpError 400 when requesting https://earthengine.googleapis.com/v1alpha/projects/earthengine-legacy/value:compute?prettyPrint=false&alt=json returned \"Computation timed out.\". Details: \"Computation timed out.\">",
      "\nDuring handling of the above exception, another exception occurred:\n",
      "\u001b[0;31mEEException\u001b[0m                               Traceback (most recent call last)",
      "File \u001b[0;32m/usr/local/lib/python3.8/dist-packages/geemap/common.py:6978\u001b[0m, in \u001b[0;36mzonal_stats_by_group\u001b[0;34m(in_value_raster, in_zone_vector, out_file_path, statistics_type, decimal_places, denominator, scale, crs, crs_transform, best_effort, max_pixels, tile_scale, return_fc, verbose, timeout, proxies, **kwargs)\u001b[0m\n\u001b[1;32m   6977\u001b[0m     \u001b[38;5;28;01melse\u001b[39;00m:\n\u001b[0;32m-> 6978\u001b[0m         \u001b[43mee_export_vector\u001b[49m\u001b[43m(\u001b[49m\u001b[43mfinal_result\u001b[49m\u001b[43m,\u001b[49m\u001b[43m \u001b[49m\u001b[43mfilename\u001b[49m\u001b[43m,\u001b[49m\u001b[43m \u001b[49m\u001b[43mtimeout\u001b[49m\u001b[38;5;241;43m=\u001b[39;49m\u001b[43mtimeout\u001b[49m\u001b[43m,\u001b[49m\u001b[43m \u001b[49m\u001b[43mproxies\u001b[49m\u001b[38;5;241;43m=\u001b[39;49m\u001b[43mproxies\u001b[49m\u001b[43m)\u001b[49m\n\u001b[1;32m   6980\u001b[0m \u001b[38;5;28;01mexcept\u001b[39;00m \u001b[38;5;167;01mException\u001b[39;00m \u001b[38;5;28;01mas\u001b[39;00m e:\n",
      "File \u001b[0;32m/usr/local/lib/python3.8/dist-packages/geemap/common.py:1533\u001b[0m, in \u001b[0;36mee_export_vector\u001b[0;34m(ee_object, filename, selectors, verbose, keep_zip, timeout, proxies)\u001b[0m\n\u001b[1;32m   1532\u001b[0m \u001b[38;5;28;01mif\u001b[39;00m selectors \u001b[38;5;129;01mis\u001b[39;00m \u001b[38;5;28;01mNone\u001b[39;00m:\n\u001b[0;32m-> 1533\u001b[0m     selectors \u001b[38;5;241m=\u001b[39m \u001b[43mee_object\u001b[49m\u001b[38;5;241;43m.\u001b[39;49m\u001b[43mfirst\u001b[49m\u001b[43m(\u001b[49m\u001b[43m)\u001b[49m\u001b[38;5;241;43m.\u001b[39;49m\u001b[43mpropertyNames\u001b[49m\u001b[43m(\u001b[49m\u001b[43m)\u001b[49m\u001b[38;5;241;43m.\u001b[39;49m\u001b[43mgetInfo\u001b[49m\u001b[43m(\u001b[49m\u001b[43m)\u001b[49m\n\u001b[1;32m   1534\u001b[0m     \u001b[38;5;28;01mif\u001b[39;00m filetype \u001b[38;5;241m==\u001b[39m \u001b[38;5;124m\"\u001b[39m\u001b[38;5;124mcsv\u001b[39m\u001b[38;5;124m\"\u001b[39m:\n\u001b[1;32m   1535\u001b[0m         \u001b[38;5;66;03m# remove .geo coordinate field\u001b[39;00m\n",
      "File \u001b[0;32m/usr/local/lib/python3.8/dist-packages/ee/computedobject.py:96\u001b[0m, in \u001b[0;36mComputedObject.getInfo\u001b[0;34m(self)\u001b[0m\n\u001b[1;32m     91\u001b[0m \u001b[38;5;250m\u001b[39m\u001b[38;5;124;03m\"\"\"Fetch and return information about this object.\u001b[39;00m\n\u001b[1;32m     92\u001b[0m \n\u001b[1;32m     93\u001b[0m \u001b[38;5;124;03mReturns:\u001b[39;00m\n\u001b[1;32m     94\u001b[0m \u001b[38;5;124;03m  The object can evaluate to anything.\u001b[39;00m\n\u001b[1;32m     95\u001b[0m \u001b[38;5;124;03m\"\"\"\u001b[39;00m\n\u001b[0;32m---> 96\u001b[0m \u001b[38;5;28;01mreturn\u001b[39;00m \u001b[43mdata\u001b[49m\u001b[38;5;241;43m.\u001b[39;49m\u001b[43mcomputeValue\u001b[49m\u001b[43m(\u001b[49m\u001b[38;5;28;43mself\u001b[39;49m\u001b[43m)\u001b[49m\n",
      "File \u001b[0;32m/usr/local/lib/python3.8/dist-packages/ee/data.py:904\u001b[0m, in \u001b[0;36mcomputeValue\u001b[0;34m(obj)\u001b[0m\n\u001b[1;32m    902\u001b[0m _maybe_populate_workload_tag(body)\n\u001b[0;32m--> 904\u001b[0m \u001b[38;5;28;01mreturn\u001b[39;00m \u001b[43m_execute_cloud_call\u001b[49m\u001b[43m(\u001b[49m\n\u001b[1;32m    905\u001b[0m \u001b[43m    \u001b[49m\u001b[43m_get_cloud_api_resource\u001b[49m\u001b[43m(\u001b[49m\u001b[43m)\u001b[49m\u001b[38;5;241;43m.\u001b[39;49m\u001b[43mprojects\u001b[49m\u001b[43m(\u001b[49m\u001b[43m)\u001b[49m\u001b[38;5;241;43m.\u001b[39;49m\u001b[43mvalue\u001b[49m\u001b[43m(\u001b[49m\u001b[43m)\u001b[49m\u001b[38;5;241;43m.\u001b[39;49m\u001b[43mcompute\u001b[49m\u001b[43m(\u001b[49m\n\u001b[1;32m    906\u001b[0m \u001b[43m        \u001b[49m\u001b[43mbody\u001b[49m\u001b[38;5;241;43m=\u001b[39;49m\u001b[43mbody\u001b[49m\u001b[43m,\u001b[49m\n\u001b[1;32m    907\u001b[0m \u001b[43m        \u001b[49m\u001b[43mproject\u001b[49m\u001b[38;5;241;43m=\u001b[39;49m\u001b[43m_get_projects_path\u001b[49m\u001b[43m(\u001b[49m\u001b[43m)\u001b[49m\u001b[43m,\u001b[49m\n\u001b[1;32m    908\u001b[0m \u001b[43m        \u001b[49m\u001b[43mprettyPrint\u001b[49m\u001b[38;5;241;43m=\u001b[39;49m\u001b[38;5;28;43;01mFalse\u001b[39;49;00m\u001b[43m)\u001b[49m\u001b[43m)\u001b[49m[\u001b[38;5;124m'\u001b[39m\u001b[38;5;124mresult\u001b[39m\u001b[38;5;124m'\u001b[39m]\n",
      "File \u001b[0;32m/usr/local/lib/python3.8/dist-packages/ee/data.py:337\u001b[0m, in \u001b[0;36m_execute_cloud_call\u001b[0;34m(call, num_retries)\u001b[0m\n\u001b[1;32m    336\u001b[0m \u001b[38;5;28;01mexcept\u001b[39;00m googleapiclient\u001b[38;5;241m.\u001b[39merrors\u001b[38;5;241m.\u001b[39mHttpError \u001b[38;5;28;01mas\u001b[39;00m e:\n\u001b[0;32m--> 337\u001b[0m   \u001b[38;5;28;01mraise\u001b[39;00m _translate_cloud_exception(e)\n",
      "\u001b[0;31mEEException\u001b[0m: Computation timed out.",
      "\nDuring handling of the above exception, another exception occurred:\n",
      "\u001b[0;31mException\u001b[0m                                 Traceback (most recent call last)",
      "\u001b[0;32m/tmp/ipykernel_379/3207151422.py\u001b[0m in \u001b[0;36m?\u001b[0;34m()\u001b[0m\n\u001b[0;32m---> 11\u001b[0;31m \u001b[0mgroup_stats\u001b[0m \u001b[0;34m=\u001b[0m \u001b[0mos\u001b[0m\u001b[0;34m.\u001b[0m\u001b[0mpath\u001b[0m\u001b[0;34m.\u001b[0m\u001b[0mjoin\u001b[0m\u001b[0;34m(\u001b[0m\u001b[0;34m'/home/sepal-user/fdap/group_stats_draft.csv'\u001b[0m\u001b[0;34m)\u001b[0m\u001b[0;34m\u001b[0m\u001b[0;34m\u001b[0m\u001b[0m\n\u001b[0m\u001b[1;32m     12\u001b[0m \u001b[0;34m\u001b[0m\u001b[0m\n\u001b[1;32m     13\u001b[0m \u001b[0;31m#input_image = JRC_TMF_transitions_main\u001b[0m\u001b[0;34m\u001b[0m\u001b[0;34m\u001b[0m\u001b[0;34m\u001b[0m\u001b[0m\n\u001b[1;32m     14\u001b[0m \u001b[0minput_image\u001b[0m \u001b[0;34m=\u001b[0m \u001b[0mglad_stable_tree_2020\u001b[0m\u001b[0;31m#_main\u001b[0m\u001b[0;34m\u001b[0m\u001b[0;34m\u001b[0m\u001b[0m\n",
      "\u001b[0;32m/usr/local/lib/python3.8/dist-packages/geemap/common.py\u001b[0m in \u001b[0;36m?\u001b[0;34m(in_value_raster, in_zone_vector, out_file_path, statistics_type, decimal_places, denominator, scale, crs, crs_transform, best_effort, max_pixels, tile_scale, return_fc, verbose, timeout, proxies, **kwargs)\u001b[0m\n\u001b[1;32m   6977\u001b[0m         \u001b[0;32melse\u001b[0m\u001b[0;34m:\u001b[0m\u001b[0;34m\u001b[0m\u001b[0;34m\u001b[0m\u001b[0m\n\u001b[1;32m   6978\u001b[0m             \u001b[0mee_export_vector\u001b[0m\u001b[0;34m(\u001b[0m\u001b[0mfinal_result\u001b[0m\u001b[0;34m,\u001b[0m \u001b[0mfilename\u001b[0m\u001b[0;34m,\u001b[0m \u001b[0mtimeout\u001b[0m\u001b[0;34m=\u001b[0m\u001b[0mtimeout\u001b[0m\u001b[0;34m,\u001b[0m \u001b[0mproxies\u001b[0m\u001b[0;34m=\u001b[0m\u001b[0mproxies\u001b[0m\u001b[0;34m)\u001b[0m\u001b[0;34m\u001b[0m\u001b[0;34m\u001b[0m\u001b[0m\n\u001b[1;32m   6979\u001b[0m \u001b[0;34m\u001b[0m\u001b[0m\n\u001b[1;32m   6980\u001b[0m     \u001b[0;32mexcept\u001b[0m \u001b[0mException\u001b[0m \u001b[0;32mas\u001b[0m \u001b[0me\u001b[0m\u001b[0;34m:\u001b[0m\u001b[0;34m\u001b[0m\u001b[0;34m\u001b[0m\u001b[0m\n\u001b[0;32m-> 6981\u001b[0;31m         \u001b[0;32mraise\u001b[0m \u001b[0mException\u001b[0m\u001b[0;34m(\u001b[0m\u001b[0me\u001b[0m\u001b[0;34m)\u001b[0m\u001b[0;34m\u001b[0m\u001b[0;34m\u001b[0m\u001b[0m\n\u001b[0m",
      "\u001b[0;31mException\u001b[0m: Computation timed out."
     ]
    }
   ],
   "source": [
    "group_stats = os.path.join('/home/sepal-user/fdap/group_stats_draft.csv') \n",
    "\n",
    "#input_image = JRC_TMF_transitions_main \n",
    "input_image = glad_stable_tree_2020#_main\n",
    "\n",
    "# out_scale= get_scale_from_image(input_image)\n",
    "out_scale = input_image.get(\"scale\").getInfo()\n",
    "\n",
    "print(out_scale)\n",
    "\n",
    "geemap.zonal_stats_by_group(in_value_raster=input_image, in_zone_vector=roi, out_file_path=group_stats, statistics_type='SUM', \n",
    "                     decimal_places=0, denominator=1000.0, scale=out_scale, crs=None, crs_transform=None, \n",
    "                     best_effort=False, max_pixels=10000000.0, tile_scale=1.0, return_fc=False, \n",
    "                     verbose=True, timeout=300, proxies=None)\n",
    "\n",
    "group_stats_table = pd.read_csv(group_stats)\n",
    "group_stats_table\n",
    "\n",
    "#TO DO - think about equal area vs unprojected\n"
   ]
  },
  {
   "cell_type": "markdown",
   "id": "e3b512b0-f24b-4554-9d0b-8d34929804cd",
   "metadata": {},
   "source": [
    "#### Display layers\n",
    "\n",
    "NB add legends\n"
   ]
  },
  {
   "cell_type": "code",
   "execution_count": 155,
   "id": "e04a036b-c67a-4e86-891d-0f53b84d7f88",
   "metadata": {
    "tags": []
   },
   "outputs": [],
   "source": [
    "m = geemap.Map()"
   ]
  },
  {
   "cell_type": "code",
   "execution_count": 158,
   "id": "624bb353-b055-4747-bd52-474e0c1f04e5",
   "metadata": {
    "tags": []
   },
   "outputs": [],
   "source": [
    "vis_params = {min:0,max:1,'palette':[\"white\",\"green\"]}\n",
    "\n",
    "m.addLayer(gfc_treeCover_2020_binary,vis_params,'gfc_treeCover_2020_binary')\n",
    "m.addLayer(esri_trees_2020,vis_params,\"esri_trees_2020\")\n",
    "m.addLayer(glad_stable_tree_2020,vis_params,'glad_stable_tree_2020')\n",
    "m.addLayer(JRC_TMF_undisturbed_2020,vis_params,'JRC_TMF_undisturbed_2020')\n",
    "# m.addLayer(JRC_TMF_transitions.eq(10).randomVisualizer(),{},'TMF-simple')\n",
    "\n",
    "m.addLayer(roi,{},'field')\n",
    "\n",
    "m.centerObject(roi.first())\n"
   ]
  },
  {
   "cell_type": "code",
   "execution_count": 159,
   "id": "bd7ad892-8a21-449a-8f6b-328fd3462af9",
   "metadata": {
    "tags": []
   },
   "outputs": [
    {
     "data": {
      "application/vnd.jupyter.widget-view+json": {
       "model_id": "ef30d5364e0b49cc89414bedee1c231e",
       "version_major": 2,
       "version_minor": 0
      },
      "text/plain": [
       "Map(bottom=2356.0, center=[12.076524943482449, -61.67277611206269], controls=(WidgetControl(options=['position…"
      ]
     },
     "metadata": {},
     "output_type": "display_data"
    }
   ],
   "source": [
    "m"
   ]
  },
  {
   "cell_type": "markdown",
   "id": "a14d4583-6ff7-4a2a-852a-6dec99cfedb7",
   "metadata": {},
   "source": [
    "#### Alternative stats\n",
    "Using reduceRegion..."
   ]
  },
  {
   "cell_type": "code",
   "execution_count": null,
   "id": "c8bb8ddb-dc6b-44df-9703-d85c858ace42",
   "metadata": {
    "tags": []
   },
   "outputs": [],
   "source": [
    "# Define the class names\n",
    "class_names = ['TMF_undis', 'TMF_degrad', 'TMF_regrow', 'Defor_plantation', 'Defor_water', 'Defor_land','Defor_active','water','other_land']\n",
    "\n",
    "# Create a function to count pixels for each class\n",
    "def count_pixels(image, roi):\n",
    "    counts = image.reduceRegion(\n",
    "        reducer=ee.Reducer.frequencyHistogram(),\n",
    "        geometry=roi,\n",
    "        scale=90,\n",
    "        maxPixels=1e9\n",
    "    )\n",
    "    \n",
    "    # Convert pixel counts to a feature with properties\n",
    "    feature = ee.Feature(None, counts)\n",
    "    \n",
    "    return feature\n",
    "\n",
    "# Apply the count_pixels function to the classified image\n",
    "pixel_counts_feature = count_pixels(tmf, roi)\n",
    "\n",
    "# Create a feature collection with a single feature\n",
    "fc_pix = ee.FeatureCollection([pixel_counts_feature])\n",
    "\n",
    "\n",
    "fc_pix_df = geemap.ee_to_pandas(fc_pix)##needs more work\n",
    "fc_pix_df\n",
    "\n",
    "\n"
   ]
  },
  {
   "cell_type": "markdown",
   "id": "1d5049a9",
   "metadata": {},
   "source": [
    "### Logout (protected)"
   ]
  },
  {
   "cell_type": "code",
   "execution_count": null,
   "id": "d51242cb",
   "metadata": {},
   "outputs": [],
   "source": [
    "res = session.get(asset_registry_base + \"/logout\")\n",
    "print(res.json())\n",
    "res = session.get(user_registry_base + \"/logout\", cookies=session.cookies)\n",
    "session.headers.clear()"
   ]
  },
  {
   "cell_type": "markdown",
   "id": "1d7ef7cf",
   "metadata": {},
   "source": [
    "### Checking if Logged out correctly"
   ]
  },
  {
   "cell_type": "code",
   "execution_count": null,
   "id": "d6dee3bc",
   "metadata": {},
   "outputs": [],
   "source": [
    "# Confirming the logout from Asset Registry by requesting a Protected route\n",
    "req_body = {\n",
    "    \"latitude\": 31.47704430446457,\n",
    "    \"longitude\": 74.37510786779589\n",
    "}\n",
    "res = session.post(asset_registry_base + \"/fetch-fields-for-a-point\", json=req_body)\n",
    "print(res.json())"
   ]
  },
  {
   "cell_type": "markdown",
   "id": "8a07b78b",
   "metadata": {},
   "source": [
    "### Get all Domains (public)"
   ]
  },
  {
   "cell_type": "code",
   "execution_count": null,
   "id": "93cf8a1d",
   "metadata": {},
   "outputs": [],
   "source": [
    "# Fetching all the domains from the User Registry\n",
    "res = session.get(asset_registry_base + \"/domains\")\n",
    "print(res.json())"
   ]
  }
 ],
 "metadata": {
  "kernelspec": {
   "display_name": "Python 3",
   "language": "python",
   "name": "python3"
  },
  "language_info": {
   "codemirror_mode": {
    "name": "ipython",
    "version": 3
   },
   "file_extension": ".py",
   "mimetype": "text/x-python",
   "name": "python",
   "nbconvert_exporter": "python",
   "pygments_lexer": "ipython3",
   "version": "3.8.10"
  },
  "vscode": {
   "interpreter": {
    "hash": "31f2aee4e71d21fbe5cf8b01ff0e069b9275f58929596ceb00d14d90e3e16cd6"
   }
  }
 },
 "nbformat": 4,
 "nbformat_minor": 5
}
