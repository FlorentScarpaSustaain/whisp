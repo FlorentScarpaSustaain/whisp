{
 "cells": [
  {
   "cell_type": "markdown",
   "id": "24e78804",
   "metadata": {
    "tags": []
   },
   "source": [
    "### Imports"
   ]
  },
  {
   "cell_type": "code",
   "execution_count": 72,
   "id": "bf2e1318",
   "metadata": {
    "tags": []
   },
   "outputs": [
    {
     "name": "stdout",
     "output_type": "stream",
     "text": [
      "imports complete\n"
     ]
    }
   ],
   "source": [
    "import requests\n",
    "import json\n",
    "import ee\n",
    "import geemap\n",
    "import folium\n",
    "import os\n",
    "import pandas as pd\n",
    "import glob\n",
    "import time\n",
    "import math\n",
    "import numpy as np\n",
    "\n",
    "from datetime import datetime\n",
    "#to change to be explicit\n",
    "from modules.area_stats import *\n",
    "from modules.agstack_to_gee import * \n",
    "from modules.tidy_tables import * \n",
    "from modules.WDPA_prep import *\n",
    "\n",
    "import modules.area_stats as area_stats\n",
    "import modules.WDPA_prep as WDPA_prep\n",
    "from modules.agstack_to_gee import geo_id_list_to_feature_collection \n",
    "from modules.tidy_tables import tidy_dataframe_after_pivot \n",
    "\n",
    "\n",
    "# from modules.random_polys import *\n",
    "# import importlib\n",
    "# importlib.reload(area_stats)\n",
    "print(\"imports complete\")"
   ]
  },
  {
   "cell_type": "markdown",
   "id": "ae42dc14",
   "metadata": {},
   "source": [
    "### Web app deployed URLs"
   ]
  },
  {
   "cell_type": "code",
   "execution_count": 73,
   "id": "998b8727",
   "metadata": {
    "tags": []
   },
   "outputs": [],
   "source": [
    "asset_registry_base = \"https://api-ar.agstack.org\"\n",
    "user_registry_base = \"https://user-registry.agstack.org\""
   ]
  },
  {
   "cell_type": "markdown",
   "id": "33160081",
   "metadata": {
    "tags": []
   },
   "source": [
    "### Add your email & password to register with Agstack and test out the APIs"
   ]
  },
  {
   "cell_type": "code",
   "execution_count": 74,
   "id": "05cfa011",
   "metadata": {
    "tags": []
   },
   "outputs": [],
   "source": [
    "email = \"my_name@domain.org\"\n",
    "phone_num = \"0123456789\"\n",
    "password = \"this_is_not_a_password\"\n",
    "discoverable = True\n",
    "##appears to not need proper credentials for running this..."
   ]
  },
  {
   "cell_type": "markdown",
   "id": "09252a5a",
   "metadata": {},
   "source": [
    "#### Start Session"
   ]
  },
  {
   "cell_type": "markdown",
   "id": "85407ebe-9e10-4cd9-8319-df192aa1ce8d",
   "metadata": {},
   "source": [
    "NB this is timing out so skipping section - seems to work without somehow. Maybe an open connection already..."
   ]
  },
  {
   "cell_type": "code",
   "execution_count": 75,
   "id": "70ace363",
   "metadata": {
    "tags": []
   },
   "outputs": [],
   "source": [
    "# ##using session to store cookies that are persistent\n",
    "# session = requests.session()\n",
    "# session.headers = headers = {\n",
    "#     'Accept': 'application/json',\n",
    "#     'Content-Type': 'application/json'\n",
    "# }\n",
    "# req_body = {'email': email, 'password': password}\n",
    "# res = session.post(user_registry_base, json=req_body)\n",
    "# print(session.cookies)\n",
    "# print(res.status_code)"
   ]
  },
  {
   "cell_type": "code",
   "execution_count": 76,
   "id": "5ae87ed9-f4e4-4a98-81df-e66e17aa77f1",
   "metadata": {
    "tags": []
   },
   "outputs": [],
   "source": [
    "ee.Initialize()"
   ]
  },
  {
   "cell_type": "markdown",
   "id": "fc8267ca-28e5-4d62-b982-dfbe9f727392",
   "metadata": {
    "tags": []
   },
   "source": [
    "#### Parameters"
   ]
  },
  {
   "cell_type": "code",
   "execution_count": 77,
   "id": "d9ab39bc-a66a-455a-a7f5-be59dc0bb27c",
   "metadata": {
    "tags": []
   },
   "outputs": [],
   "source": [
    "out_path = os.path.join('/home/sepal-user/fdap/')\n",
    "\n",
    "#long csv\n",
    "out_long_csv_name = 'stats_long_format_continuous_data.csv' \n",
    "\n",
    "dataset_column_name = \"dataset_name\"\n",
    "\n",
    "#wide csv\n",
    "out_file_long=out_path+out_long_csv_name\n",
    "\n",
    "out_wide_csv_name = 'stats_wide_format_continuous_data.csv' #set output name\n",
    "\n",
    "out_file_wide = out_path+out_wide_csv_name #set full path for output csv\n"
   ]
  },
  {
   "cell_type": "code",
   "execution_count": 137,
   "id": "e4317a23-5a97-4612-94f2-2969934206d1",
   "metadata": {
    "tags": []
   },
   "outputs": [],
   "source": [
    "#output column names\n",
    "geometry_area_column = \"Geometry_area_km2\"\n",
    "\n",
    "geo_id_column = \"Geo_id\"\n",
    "\n",
    "#debug printing\n",
    "verbose = True\n",
    "\n",
    "## stats by pixel_area\n",
    "to_pixel_area = True\n",
    "\n",
    "## reducer choice\n",
    "reducer_choice = ee.Reducer.sum().combine(\n",
    "  reducer2=ee.Reducer.count(), sharedInputs=True)\n",
    "\n",
    "#ee.Reducer.sum()"
   ]
  },
  {
   "cell_type": "markdown",
   "id": "aff85919-ddc7-43ea-af43-7a5d3037d508",
   "metadata": {
    "tags": []
   },
   "source": [
    "Local deforestation alert parameters"
   ]
  },
  {
   "cell_type": "code",
   "execution_count": 138,
   "id": "067a37a0-3ec0-461b-9f24-f542fe2688de",
   "metadata": {
    "tags": []
   },
   "outputs": [],
   "source": [
    "# Define how many days back\n",
    "how_many_days_back = -(365*2)  # must be negative\n",
    "\n",
    "#define buffer distance (m)\n",
    "local_alerts_buffer_radius = 2000 "
   ]
  },
  {
   "cell_type": "markdown",
   "id": "a2e2b9c7-ee3b-41c1-859d-db879beb868d",
   "metadata": {},
   "source": [
    "For defining random polygons (TESTING ONLY - will tidy if needed)"
   ]
  },
  {
   "cell_type": "code",
   "execution_count": 139,
   "id": "8c5b42a0-7987-478c-86f0-dea7e5424eff",
   "metadata": {
    "tags": []
   },
   "outputs": [],
   "source": [
    "#if true will make number_of_points per admin boundary (i.e. no of points x no of boundaries), as opposed tob spread across them\n",
    "points_per_admin_boundary = False \n",
    "\n",
    "#how many random admin boundaries do we select\n",
    "number_of_boundaries = 20\n",
    "\n",
    "#how many points  \n",
    "number_of_points = 30\n",
    "\n",
    "#buffer\n",
    "buffer_distance_meters = 500\n",
    "\n",
    "#max error in m (coarse is quicker to run) \n",
    "max_error_alert_buff = 100 \n",
    "\n",
    "seed = 20 # so it can be reproducable - each number is a new random combination                                                                                                \n",
    "   \n",
    "max_error = 1000 #in meters for admin boundaries (can be coarse ot speed up computation, as just example)\n"
   ]
  },
  {
   "cell_type": "markdown",
   "id": "749c76fb-f3ba-43cf-a918-4f6d09e43a7e",
   "metadata": {
    "tags": []
   },
   "source": [
    "### 1. Grab land cover datasets"
   ]
  },
  {
   "cell_type": "markdown",
   "id": "91e74c34-930d-447d-8863-52dcf0b01b7b",
   "metadata": {},
   "source": [
    "#### Fetch: GLAD: Global 2000-2020 Land Cover and Land Use Change\n",
    "\n",
    "For full legend see: https://storage.googleapis.com/earthenginepartners-hansen/GLCLU2000-2020/v2/legend.xlsx\n",
    "\n",
    "NB all tree cover have values related to height: from 3m to >25m. \n",
    "stable tree height values: 25-48 (terra firma); 125-148 (wetland);\n",
    "height after disturbance values: 49-72 (terra firma); 149-172 (wetland) \n",
    "tree gain height values: 73-96 (terra firma); 173-196 (wetland); \n",
    "\n",
    "for now including all heights until agreed forest definition \n",
    "\n",
    "- value 25 tree stable\n",
    "- value 49 tree after disturbance \n",
    "- value 73 tree gain\n",
    "- value 248 tree from crop (NB need to investigate: likely plantation but could be secondary)\n",
    "- value 245 crop\n",
    "- value 24 vegetation \n",
    "- value 200 water \n",
    "- value 250 built up\n"
   ]
  },
  {
   "cell_type": "code",
   "execution_count": 140,
   "id": "d9949f13-4509-4223-81ef-760447af9b55",
   "metadata": {
    "tags": []
   },
   "outputs": [],
   "source": [
    "glad_landcover_2020 = ee.Image('projects/glad/GLCLU2020/v2/LCLUC_2020')\n",
    "landmask = ee.Image(\"projects/glad/OceanMask\").lte(1)\n",
    "glad_landcover_2020 = glad_landcover_2020.updateMask(landmask);\n",
    "\n",
    "#visualisation parameters (for original land cover)\n",
    "visParamMap = {\"min\":0,\"max\":255,\"palette\":[\"FEFECC\",\"FAFAC3\",\"F7F7BB\",\"F4F4B3\",\"F1F1AB\",\"EDEDA2\",\"EAEA9A\",\"E7E792\",\"E4E48A\",\n",
    "\"E0E081\",\"DDDD79\",\"DADA71\",\"D7D769\",\"D3D360\",\"D0D058\",\"CDCD50\",\"CACA48\",\"C6C63F\",\"C3C337\",\"C0C02F\",\"BDBD27\",\"B9B91E\",\"B6B616\",\n",
    "\"B3B30E\",\"B0B006\",\"609C60\",\"5C985C\",\"589558\",\"549254\",\"508E50\",\"4C8B4C\",\"488848\",\"448544\",\"408140\",\"3C7E3C\",\"387B38\",\"347834\",\n",
    "\"317431\",\"2D712D\",\"296E29\",\"256B25\",\"216721\",\"1D641D\",\"196119\",\"155E15\",\"115A11\",\"0D570D\",\"095409\",\"065106\",\"643700\",\"643a00\",\n",
    "\"643d00\",\"644000\",\"644300\",\"644600\",\"644900\",\"654c00\",\"654f00\",\"655200\",\"655500\",\"655800\",\"655a00\",\"655d00\",\"656000\",\"656300\",\n",
    "\"666600\",\"666900\",\"666c00\",\"666f00\",\"667200\",\"667500\",\"667800\",\"667b00\",\"ff99ff\",\"FC92FC\",\"F98BF9\",\"F685F6\",\"F37EF3\",\"F077F0\",\n",
    "\"ED71ED\",\"EA6AEA\",\"E763E7\",\"E45DE4\",\"E156E1\",\"DE4FDE\",\"DB49DB\",\"D842D8\",\"D53BD5\",\"D235D2\",\"CF2ECF\",\"CC27CC\",\"C921C9\",\"C61AC6\",\n",
    "\"C313C3\",\"C00DC0\",\"BD06BD\",\"bb00bb\",\"000003\",\"000004\",\"000005\",\"BFC0C0\",\"B7BDC2\",\"AFBBC4\",\"A8B8C6\",\"A0B6C9\",\"99B3CB\",\"91B1CD\",\n",
    "\"89AFD0\",\"82ACD2\",\"7AAAD4\",\"73A7D6\",\"6BA5D9\",\"64A3DB\",\"5CA0DD\",\"549EE0\",\"4D9BE2\",\"4599E4\",\"3E96E6\",\"3694E9\",\"2E92EB\",\"278FED\",\n",
    "\"1F8DF0\",\"188AF2\",\"1088F4\",\"0986F7\",\"55A5A5\",\"53A1A2\",\"519E9F\",\"4F9B9C\",\"4D989A\",\"4B9597\",\"499294\",\"478F91\",\"458B8F\",\"43888C\",\n",
    "\"418589\",\"3F8286\",\"3D7F84\",\"3B7C81\",\"39797E\",\"37767B\",\"357279\",\"336F76\",\"316C73\",\"2F6970\",\"2D666E\",\"2B636B\",\"296068\",\"285D66\",\n",
    "\"bb93b0\",\"B78FAC\",\"B48CA9\",\"B189A6\",\"AE85A2\",\"AA829F\",\"A77F9C\",\"A47B99\",\"A17895\",\"9E7592\",\"9A718F\",\"976E8C\",\"946B88\",\"916885\",\n",
    "\"8D6482\",\"8A617F\",\"875E7B\",\"845A78\",\"815775\",\"7D5472\",\"7A506E\",\"774D6B\",\"744A68\",\"714765\",\"de7cbb\",\"DA77B7\",\"D772B3\",\"D46EAF\",\n",
    "\"D169AB\",\"CE64A8\",\"CB60A4\",\"C85BA0\",\"C4579C\",\"C15298\",\"BE4D95\",\"BB4991\",\"B8448D\",\"B54089\",\"B23B86\",\"AF3682\",\"AB327E\",\"A82D7A\",\n",
    "\"A52976\",\"A22473\",\"9F1F6F\",\"9C1B6B\",\"991667\",\"961264\",\"000000\",\"000000\",\"000000\",\n",
    "\"1964EB\",\"1555E4\",\"1147DD\",\"0E39D6\",\"0A2ACF\",\"071CC8\",\"030EC1\",\"0000BA\",\n",
    "\"0000BA\",\"040464\",\"0000FF\",\"3051cf\",\"000000\",\"000000\",\"000000\",\"000000\",\n",
    "\"000000\",\"000000\",\"000000\",\"000000\",\"000000\",\"000000\",\"000000\",\"000000\",\n",
    "\"000000\",\"000000\",\"000000\",\"000000\",\"000000\",\"000000\",\"000000\",\"000000\",\n",
    "\"547FC4\",\"4D77BA\",\"466FB1\",\"4067A7\",\"395F9E\",\"335895\",\"335896\",\"335897\",\"ff2828\",\"ffffff\",\"d0ffff\",\"ffe0d0\",\"ff7d00\",\"fac800\",\"c86400\",\n",
    "\"fff000\",\"afcd96\",\"afcd96\",\"64dcdc\",\"00ffff\",\"00ffff\",\"00ffff\",\"111133\",\"000000\"]};\n",
    "\n",
    "#trees\n",
    "glad_landcover_2020_main = glad_landcover_2020.where((glad_landcover_2020.gte(25)).And(glad_landcover_2020.lte(48)), 25)\n",
    "glad_landcover_2020_main = glad_landcover_2020_main.where((glad_landcover_2020.gte(125)).And(glad_landcover_2020.lte(148)), 25)\n",
    "# glad_landcover_2020_main = glad_landcover_2020_main.where((glad_landcover_2020.gte(49)).And(glad_landcover_2020.lte(72)), 49)\n",
    "# glad_landcover_2020_main = glad_landcover_2020_main.where((glad_landcover_2020.gte(149)).And(glad_landcover_2020.lte(172)), 49)\n",
    "# glad_landcover_2020_main = glad_landcover_2020_main.where((glad_landcover_2020.gte(73)).And(glad_landcover_2020.lte(96)), 73)\n",
    "# glad_landcover_2020_main = glad_landcover_2020_main.where((glad_landcover_2020.gte(173)).And(glad_landcover_2020.lte(196)), 73)\n",
    "\n",
    "# #vegetation\n",
    "# glad_landcover_2020_main = glad_landcover_2020_main.where((glad_landcover_2020.gte(0)).And(glad_landcover_2020.lte(24)), 24)\n",
    "# glad_landcover_2020_main = glad_landcover_2020_main.where((glad_landcover_2020.gte(100)).And(glad_landcover_2020.lte(124)), 24)\n",
    "# glad_landcover_2020_main = glad_landcover_2020_main.where((glad_landcover_2020.eq(240)).Or(glad_landcover_2020.eq(249)), 24)\n",
    "\n",
    "# #cropland\n",
    "# glad_landcover_2020_main = glad_landcover_2020_main.where((glad_landcover_2020.gte(244)).And(glad_landcover_2020.lte(247)), 244)\n",
    "\n",
    "# #water\n",
    "# glad_landcover_2020_main = glad_landcover_2020_main.where((glad_landcover_2020.gte(200)).And(glad_landcover_2020.lte(211)), 200)\n",
    "# glad_landcover_2020_main = glad_landcover_2020_main.where(glad_landcover_2020.eq(254), 200)\n",
    "\n",
    "# #built up\n",
    "# glad_landcover_2020_main = glad_landcover_2020_main.where((glad_landcover_2020.gte(250)).And(glad_landcover_2020.lte(253)), 250)\n"
   ]
  },
  {
   "cell_type": "markdown",
   "id": "4d28ef10-22cb-4e6a-bc55-54f3bb90c020",
   "metadata": {},
   "source": [
    "#### Get stable trees for 2020"
   ]
  },
  {
   "cell_type": "code",
   "execution_count": 141,
   "id": "b22b5834-5956-458e-99eb-d1854e9037b9",
   "metadata": {
    "tags": []
   },
   "outputs": [],
   "source": [
    "glad_stable_tree_2020 = glad_landcover_2020_main.eq(25) #binary stable trees\n",
    "\n",
    "glad_stable_tree_2020 = area_stats.set_scale_property_from_image(glad_stable_tree_2020,glad_landcover_2020)\n",
    "\n",
    "glad_stable_tree_2020_area_km2 = area_stats.binary_to_area_km2(glad_stable_tree_2020)\n",
    "\n",
    "glad_stable_tree_2020_area_km2 = area_stats.set_scale_property_from_image(glad_stable_tree_2020_area_km2,glad_landcover_2020)"
   ]
  },
  {
   "cell_type": "code",
   "execution_count": 142,
   "id": "437478af-1e69-4b44-a274-1fa469490667",
   "metadata": {
    "tags": []
   },
   "outputs": [],
   "source": [
    "# ##checks\n",
    "# Map = geemap.Map()\n",
    "# Map.addLayer(glad_stable_tree_2020,{'min':0,'max':1,'palette':[\"white\",\"green\"]},\"glad_stable_tree_2020\")\n",
    "# Map"
   ]
  },
  {
   "cell_type": "markdown",
   "id": "c617f1e7-e46e-4a6e-b65d-10bfc9a2fd75",
   "metadata": {
    "tags": []
   },
   "source": [
    "#### Fetch: ESRI 10m Annual Land Use Land Cover (2017-2022)¶\n",
    "- Link: https://gee-community-catalog.org/projects/S2TSLULC/?h=esri\n",
    "\n",
    "- Overview: Time series of annual global maps of land use and land cover (LULC). It currently has data from 2017-2021. The maps are derived from ESA Sentinel-2 imagery at 10m resolution. Each map is a composite of LULC predictions for 9 classes throughout the year in order to generate a representative snapshot of each year. This dataset was generated by Impact Observatory, who used billions of human-labeled pixels (curated by the National Geographic Society) to train a deep learning model for land classification. This map uses an updated model from the 10-class model and combines Grass(formerly class 3) and Scrub (formerly class 6) into a single Rangeland class (class 11). The original Esri 2020 Land Cover collection uses 10 classes (Grass and Scrub separate) and an older version of the underlying deep learning model. \n",
    "\n",
    "- Reference:  Karra, Kontgis, et al. “Global land use/land cover with Sentinel-2 and deep learning.” IGARSS 2021-2021 IEEE International Geoscience and Remote Sensing Symposium. IEEE, 2021.\n",
    "- Legend (remapped values and hex code):\n",
    "- 1\tWater\t#1A5BAB\n",
    "- 2\tTrees\t#358221\n",
    "- 3\tFlooded Vegetation\t#87D19E\n",
    "- 4\tCrops\t#FFDB5C\n",
    "- 5\tBuilt Area\t#ED022A\n",
    "- 6\tBare Ground\t#EDE9E4\n",
    "- 7\tSnow/Ice\t#F2FAFF\n",
    "- 8\tClouds\t#C8C8C8\n",
    "- 9\tRangeland\t#C6AD8D"
   ]
  },
  {
   "cell_type": "code",
   "execution_count": 143,
   "id": "157e44f6-4752-4374-8e70-520ec50c50b9",
   "metadata": {
    "tags": []
   },
   "outputs": [],
   "source": [
    "esri_lulc10 = ee.ImageCollection(\"projects/sat-io/open-datasets/landcover/ESRI_Global-LULC_10m_TS\");\n",
    "\n",
    "esri_lulc10_2020 = esri_lulc10.filterDate('2020-01-01','2020-12-31').map(\n",
    "    lambda image:\n",
    "    image.remap([1,2,4,5,7,8,9,10,11],\n",
    "                [1,2,3,4,5,6,7,8,9])).mosaic()\n"
   ]
  },
  {
   "cell_type": "code",
   "execution_count": 144,
   "id": "1d391bdf-d1b3-46fb-a861-98a81f4e346a",
   "metadata": {
    "tags": []
   },
   "outputs": [
    {
     "name": "stdout",
     "output_type": "stream",
     "text": [
      "template_band_index:  0\n",
      "scale (m):  10\n"
     ]
    }
   ],
   "source": [
    "esri_trees_2020 = esri_lulc10_2020.eq(2) #get trees    NB check flooded veg class\n",
    "\n",
    "esri_trees_2020_area_km2 = area_stats.binary_to_area_km2(esri_trees_2020)\n",
    "\n",
    "esri_trees_2020_area_km2 = area_stats.set_scale_property_from_image(esri_trees_2020_area_km2,esri_lulc10.first(),0,verbose=True)\n"
   ]
  },
  {
   "cell_type": "code",
   "execution_count": 145,
   "id": "e29f7a16-04fd-40cc-a8d5-1ca1028279e4",
   "metadata": {},
   "outputs": [],
   "source": [
    "#checks\n",
    "# Map = geemap.Map()\n",
    "# Map.addLayer(esri_trees_2020,{'min':0,'max':1,'palette':[\"white\",\"green\"]})\n",
    "# Map"
   ]
  },
  {
   "cell_type": "markdown",
   "id": "9a239095-5568-4ee9-aff0-9508756b47d1",
   "metadata": {
    "tags": []
   },
   "source": [
    "#### Fetch: Tropical Moist Forest by JRC\n",
    "Link: https:#  www.science.org/doi/10.1126/sciadv.abe1603 (paper); https://forobs.jrc.ec.europa.eu/static/tmf/TMF_DataUsersGuide.pdf (dataset description)  \n",
    "\n",
    "Overview: The transition map shows the spatial distribution of the tropical moist forest at the end of\n",
    "the year 2022. It depicts the sequential dynamics of changes by providing transition stages\n",
    "from the first year of the monitoring period to the end of the year 2022 (undisturbed forest,\n",
    "degradation, deforestation, regrowth, conversion to plantations) and subclasses for each\n",
    "transition class (period of disturbance, age of regrowth, several types of forest, several\n",
    "types of degradation and deforestation, change types within the mangroves and tree\n",
    "plantations).\n",
    "\n",
    "Reference: C. Vancutsem, F. Achard, J.-F. Pekel, G. Vieilledent, S. Carboni, D. Simonetti, J. Gallego,\n",
    "L.E.O.C. Aragão, R. Nasi. Long-term (1990-2019) monitoring of forest cover changes in the\n",
    "humid tropics. Science Advances 2021\n",
    "\n",
    "\n",
    "Legend: \n",
    "- value 10. Undisturbed Tropical Moist Forest (TMF) \n",
    "- value 20. Degraded TMF \n",
    "- value 30. TMF regrowth \n",
    "- value 41. Deforested land - Forest converted to tree plantations \n",
    "- value 42. Deforested Land - Forest converted to water\n",
    "- value 43. Deforested Land - Forest converted to other LC\n",
    "- value 50. Ongoing deforestation or degradation (2019-2021)\n",
    "- value 60. Permanent or Seasonal Water  (Pekel et al. 2016 & updates for years 2015-2021) \n",
    "- value 70. Other land cover (including afforestation)"
   ]
  },
  {
   "cell_type": "code",
   "execution_count": 146,
   "id": "705083fb-f59b-4dad-bcd8-15288fa41bf6",
   "metadata": {
    "tags": []
   },
   "outputs": [],
   "source": [
    "JRC_TMF_transitions_raw = ee.ImageCollection('projects/JRC/TMF/v1_2021/TransitionMap_Subtypes')\n",
    "\n",
    "JRC_TMF_transitions = JRC_TMF_transitions_raw.mosaic() ### NB check why 2021?\n",
    "\n",
    "JRC_TMF_transitions_main = JRC_TMF_transitions.where((JRC_TMF_transitions.gte(10))and(JRC_TMF_transitions.lte(12)), 10) \n",
    "#JRC_TMF_transitions_main = JRC_TMF_transitions_main.where((JRC_TMF_transitions.gte(21))and(JRC_TMF_transitions.lte(26)), 20)\n",
    "#JRC_TMF_transitions_main = JRC_TMF_transitions_main.where((JRC_TMF_transitions.gte(61))and(JRC_TMF_transitions.lte(62)), 20)\n",
    "# JRC_TMF_transitions_main = JRC_TMF_transitions_main.where((JRC_TMF_transitions.gte(31))and(JRC_TMF_transitions.lte(33)), 30)\n",
    "# JRC_TMF_transitions_main = JRC_TMF_transitions_main.where((JRC_TMF_transitions.gte(63))and(JRC_TMF_transitions.lte(64)), 30)\n",
    "# JRC_TMF_transitions_main = JRC_TMF_transitions_main.where((JRC_TMF_transitions.gte(81))and(JRC_TMF_transitions.lte(86)), 41)\n",
    "# JRC_TMF_transitions_main = JRC_TMF_transitions_main.where((JRC_TMF_transitions.gte(73))and(JRC_TMF_transitions.lte(74)), 42)\n",
    "# JRC_TMF_transitions_main = JRC_TMF_transitions_main.where((JRC_TMF_transitions.gte(41))and(JRC_TMF_transitions.lte(42)), 43)\n",
    "# JRC_TMF_transitions_main = JRC_TMF_transitions_main.where((JRC_TMF_transitions.gte(65))and(JRC_TMF_transitions.lte(66)), 43)\n",
    "# JRC_TMF_transitions_main = JRC_TMF_transitions_main.where((JRC_TMF_transitions.gte(51))and(JRC_TMF_transitions.lte(54)), 50)\n",
    "# JRC_TMF_transitions_main = JRC_TMF_transitions_main.where((JRC_TMF_transitions.eq(67)),50)\n",
    "# JRC_TMF_transitions_main = JRC_TMF_transitions_main.where((JRC_TMF_transitions.gte(71))and(JRC_TMF_transitions.lte(72)), 60)\n",
    "# JRC_TMF_transitions_main = JRC_TMF_transitions_main.where((JRC_TMF_transitions.gte(91)), 70)"
   ]
  },
  {
   "cell_type": "markdown",
   "id": "9b32a041-ca9c-4d98-ad0b-d8cc354f6696",
   "metadata": {
    "tags": []
   },
   "source": [
    "##### Get undisturbed trees for 2020"
   ]
  },
  {
   "cell_type": "code",
   "execution_count": 147,
   "id": "35316941-13b8-44a3-8385-d63dcf9acbdd",
   "metadata": {
    "tags": []
   },
   "outputs": [
    {
     "name": "stdout",
     "output_type": "stream",
     "text": [
      "30.000000000000004\n"
     ]
    }
   ],
   "source": [
    "JRC_TMF_undisturbed_2020 = JRC_TMF_transitions_main.eq(10) # undisturbed trees (binary)\n",
    "\n",
    "#getting scale from first band of raw image and adding to properties of final composite\n",
    "JRC_TMF_undisturbed_2020 = area_stats.set_scale_property_from_image(JRC_TMF_undisturbed_2020,JRC_TMF_transitions_raw.first())\n",
    "\n",
    "#area (NB could be done at end in zonal stats)\n",
    "JRC_TMF_undisturbed_2020_area_km2 = area_stats.binary_to_area_km2(JRC_TMF_undisturbed_2020)\n",
    "\n",
    "JRC_TMF_undisturbed_2020_area_km2 = area_stats.set_scale_property_from_image(JRC_TMF_undisturbed_2020_area_km2,\n",
    "                                                                  JRC_TMF_transitions_raw.first())\n",
    "\n",
    "print (JRC_TMF_undisturbed_2020_area_km2.get(\"scale\").getInfo())"
   ]
  },
  {
   "cell_type": "code",
   "execution_count": 148,
   "id": "fc0e5c7c-2a39-42c9-b2a7-1eff7b27e0f6",
   "metadata": {
    "tags": []
   },
   "outputs": [],
   "source": [
    "# #checks\n",
    "# Map = geemap.Map()\n",
    "# Map.addLayer(JRC_TMF_undisturbed_2020,{'min':0,'max':1,'palette':[\"white\",\"green\"]},'JRC_TMF_undisturbed_2020')\n",
    "# # m.addLayer(JRC_TMF_transitions_main.eq(10).randomVisualizer(),{},'TMF-simple')\n",
    "\n",
    "# Map"
   ]
  },
  {
   "cell_type": "markdown",
   "id": "157bf08c-77a7-4fb0-bacc-de30ec0cc72a",
   "metadata": {
    "tags": []
   },
   "source": [
    "#### Fetch: Global Forest Change \n",
    "Link: https://www.science.org/doi/10.1126/science.1244693 (paper); https://storage.googleapis.com/earthenginepartners-hansen/GFC-2022-v1.10/download.html (user notes v1.10)\n",
    "\n",
    "Citation: Hansen, M. C., P. V. Potapov, R. Moore, M. Hancher, S. A. Turubanova, A. Tyukavina, D. Thau, S. V. Stehman, S. J. Goetz, T. R. Loveland, A. Kommareddy, A. Egorov, L. Chini, C. O. Justice, and J. R. G. Townshend. \"High-Resolution Global Maps of 21st-Century Forest Cover Change.\" Science 342 (15 November): 850-53. 10.1126/science.1244693.\n",
    "\n",
    "Overview: Results from time-series analysis of Landsat images in characterizing global forest extent and change from 2000 through 2022.\n",
    "\n",
    "\n",
    "N.B. Next GFC update should give tree cover in 2020. Currently showing tree cover is for 2000 with loss pixels between 2001 and 2020 removed. \n"
   ]
  },
  {
   "cell_type": "code",
   "execution_count": 149,
   "id": "16ef7c4d-5131-4589-adb6-8e7aa1b2cdc2",
   "metadata": {
    "tags": []
   },
   "outputs": [],
   "source": [
    "gfc = ee.Image(\"UMD/hansen/global_forest_change_2022_v1_10\")\n",
    "\n",
    "gfc_treeCover_2000 = gfc.select(['treecover2000']) #get tree cover in 2000\n",
    "\n",
    "gfc_loss_2001_2020 = gfc.select(['lossyear']).lte(20) # get loss pixels since 2000 and up to and including 2020\n",
    "\n",
    "gfc_treeCover_2020 = gfc_treeCover_2000.where(gfc_loss_2001_2020.eq(1),0) # remove loss from original tree cover ot approximate remaining percentage cover\n"
   ]
  },
  {
   "cell_type": "markdown",
   "id": "e3179265-78c9-4944-9ae8-82212e0af7ce",
   "metadata": {},
   "source": [
    "##### Get treecover in 2020"
   ]
  },
  {
   "cell_type": "code",
   "execution_count": 150,
   "id": "f660ba55-b21e-4c37-a7ad-4941c3af0031",
   "metadata": {
    "tags": []
   },
   "outputs": [],
   "source": [
    "gfc_treeCover_2020_binary=gfc_treeCover_2020.gt(10) #FAO 10% definition...\n",
    "\n",
    "## TO DO think about gain and 2010 cover\n",
    "\n",
    "gfc_treeCover_2020_area_km2 = area_stats.binary_to_area_km2(gfc_treeCover_2020_binary)\n",
    "\n",
    "gfc_treeCover_2020_area_km2 = area_stats.set_scale_property_from_image(gfc_treeCover_2020_area_km2,gfc)\n"
   ]
  },
  {
   "cell_type": "code",
   "execution_count": 151,
   "id": "034c445a-27fd-4651-a772-dc275ce53ac2",
   "metadata": {},
   "outputs": [],
   "source": [
    "##checks\n",
    "# Map = geemap.Map()\n",
    "# Map.addLayer(gfc_treeCover_2020_binary,{'min':0,'max':1,'palette':[\"blue\",\"green\"]})\n",
    "# Map"
   ]
  },
  {
   "cell_type": "markdown",
   "id": "b095a09d-6686-4328-9145-81d979b6d6ab",
   "metadata": {},
   "source": [
    "#### Fetch: Primary humid forest GLAD/UMD\n",
    "Link: https://developers.google.com/earth-engine/datasets/catalog/UMD_GLAD_PRIMARY_HUMID_TROPICAL_FORESTS_v1\n",
    "\n",
    "Citation: Turubanova S., Potapov P., Tyukavina, A., and Hansen M. (2018) Ongoing primary forest loss in Brazil, Democratic Republic of the Congo, and Indonesia. Environmental Research Letters. https://doi.org/10.1088/1748-9326/aacd1c\n",
    "\n",
    "Overview: Created by the UMD GLAD team. The primary forest extent was mapped for the year 2001 at a spatial resolution of 30 meters using globally acquired, free-of-charge, and consistently processed Landsat imagery"
   ]
  },
  {
   "cell_type": "code",
   "execution_count": 152,
   "id": "cdd001e2-e01e-42ac-bd26-2dd7497ee6a3",
   "metadata": {
    "tags": []
   },
   "outputs": [],
   "source": [
    "primary_HT_forests_2001_raw = ee.ImageCollection('UMD/GLAD/PRIMARY_HUMID_TROPICAL_FORESTS/v1')\n",
    "\n",
    "#get band and mosaic\n",
    "primary_HT_forests_2001 = primary_HT_forests_2001_raw.select(\"Primary_HT_forests\").mosaic().selfMask();\n",
    "\n",
    "#remove GFC loss pixels from 2001-2020 (as previous technique with GFC, above)\n",
    "primary_HT_forests_2020 = primary_HT_forests_2001.where(gfc_loss_2001_2020.eq(1),0).selfMask()\n"
   ]
  },
  {
   "cell_type": "code",
   "execution_count": 153,
   "id": "a61b391d-5a02-4b6b-b322-a0da6b803959",
   "metadata": {
    "tags": []
   },
   "outputs": [
    {
     "name": "stdout",
     "output_type": "stream",
     "text": [
      "template_band_index:  0\n",
      "scale (m):  27.829872698318393\n"
     ]
    }
   ],
   "source": [
    "primary_HT_forests_2020_area_km2 = area_stats.binary_to_area_km2(primary_HT_forests_2020)\n",
    "\n",
    "primary_HT_forests_2020_area_km2 = area_stats.set_scale_property_from_image(primary_HT_forests_2020_area_km2,primary_HT_forests_2001_raw.first(),0,verbose=True)\n",
    "\n",
    "# # checks\n",
    "# Map = geemap.Map()\n",
    "\n",
    "## Map.addLayer(Primary_HT_forests_2001, {'min': 0,'max': 1.0,'palette':['White\",'Blue']}, 'Primary HT forests: 2001');\n",
    "# Map.addLayer(Primary_HT_forests_2020, {'min': 0,'max': 1.0,'palette':['White\",'Green']}, 'Primary HT forests: 2020');\n",
    "\n",
    "# Map"
   ]
  },
  {
   "cell_type": "markdown",
   "id": "2167889b-d027-4fc9-b425-931b18e61575",
   "metadata": {
    "tags": []
   },
   "source": [
    "#### Fetch: JAXA Forest/non-forest maps"
   ]
  },
  {
   "cell_type": "markdown",
   "id": "77a9e6fa-2ef8-44ea-9b2c-3bedd9b2df90",
   "metadata": {},
   "source": [
    "\n",
    "Links: https://www.eorc.jaxa.jp/ALOS/en/dataset/fnf_e.htm; https://developers.google.com/earth-engine/datasets/catalog/JAXA_ALOS_PALSAR_YEARLY_FNF4\n",
    "\n",
    "Citation:\n",
    "Masanobu Shimada, Takuya Itoh, Takeshi Motooka, Manabu Watanabe, Shiraishi Tomohiro, Rajesh Thapa, and Richard Lucas, \"New Global Forest/Non-forest Maps from ALOS PALSAR Data (2007-2010)\", Remote Sensing of Environment, 155, pp. 13-31, December 2014. doi:10.1016/j.rse.2014.04.014.\n",
    "\n",
    "Overview: The global forest/non-forest map (FNF) was produced the years 2017-2020. are generated by classifying the SAR image (backscattering coefficient) in the global 25m resolution PALSAR-2/PALSAR SAR mosaic so that strong and low backscatter pixels are assigned as \"forest\" and \"non-forest\", respectively. Here, \"forest\" is defined as the natural forest with the area larger than 0.5 ha and forest cover over 10%. This definition is the same as the Food and Agriculture Organization (FAO) definition. Since the radar backscatter from the forest depends on the region (climate zone), the classification of Forest/Non-Forest is conducted by using a region-dependent threshold of backscatter. The classification accuracy is checked by using in-situ photos and high-resolution optical satellite images.\n",
    "\n",
    "Global 4-class\n",
    "- 1 \t #00b200\tDense Forest\n",
    "- 2 \t #83ef62\tNon-dense Forest\n",
    "- 3 \t #ffff99\tNon-Forest\n",
    "- 4 \t #0000ff\tWater"
   ]
  },
  {
   "cell_type": "code",
   "execution_count": 154,
   "id": "6195694a-2cf7-4373-bfb7-83de71771169",
   "metadata": {
    "tags": []
   },
   "outputs": [],
   "source": [
    "JAXA_forestNonForest_raw = ee.ImageCollection('JAXA/ALOS/PALSAR/YEARLY/FNF4');\n",
    "\n",
    "JAXA_forestNonForest_2020 =  JAXA_forestNonForest_raw.filterDate('2020-01-01', '2020-12-31').select('fnf').mosaic();\n",
    "\n",
    "#select all trees (could split these dense and non-dense, but hard to say how to group) \n",
    "JAXA_forestNonForest_2020_binary = JAXA_forestNonForest_2020.lte(2)"
   ]
  },
  {
   "cell_type": "code",
   "execution_count": 155,
   "id": "153dc2d6-94dd-4e92-ab4d-56852dc20cd6",
   "metadata": {
    "tags": []
   },
   "outputs": [
    {
     "name": "stdout",
     "output_type": "stream",
     "text": [
      "template_band_index:  0\n",
      "scale (m):  24.73766462072746\n"
     ]
    }
   ],
   "source": [
    "JAXA_forestNonForest_2020_area_km2 = area_stats.binary_to_area_km2(JAXA_forestNonForest_2020_binary)\n",
    "\n",
    "JAXA_forestNonForest_2020_area_km2 = area_stats.set_scale_property_from_image(JAXA_forestNonForest_2020_area_km2,JAXA_forestNonForest_raw.first(),0,verbose=True)"
   ]
  },
  {
   "cell_type": "code",
   "execution_count": 156,
   "id": "f289cba9-36f6-4c9c-bab8-38a1a9fdb4d3",
   "metadata": {
    "tags": []
   },
   "outputs": [],
   "source": [
    "## checks\n",
    "# Map = geemap.Map()\n",
    "\n",
    "# Map.addLayer(JAXA_forestNonForest_2020, {'min': 1,'max': 4,'palette': ['00b200','83ef62','ffff99','0000ff']}, 'JAXA Forest/Non-Forest 2020 - 4 classes');\n",
    "\n",
    "# Map.addLayer(JAXA_forestNonForest_2020_binary,{'min': 0,'max': 1.0,'palette':['White','Green']}, 'JAXA Forest/Non-Forest 2020');\n",
    "\n",
    "# Map"
   ]
  },
  {
   "cell_type": "markdown",
   "id": "f20cf6e3-d30a-4c92-a9f8-65afcaebcdd7",
   "metadata": {},
   "source": [
    "#### Fetch: oil palm data\n",
    "Link: https://developers.google.com/earth-engine/datasets/catalog/BIOPAMA_GlobalOilPalm_v1;  https://essd.copernicus.org/articles/13/1211/2021/\n",
    "\n",
    "Citation: Adrià, Descals, Serge, Wich, Erik, Meijaard, David, Gaveau, Stephen, Peedell, & Zoltan, Szantoi. (2021, January 27). High resolution global industrial and smallholder oil palm map for 2019 (Version v1). Zenodo. doi:10.5281/zenodo.4473715\n",
    "\n",
    "Overview: The dataset is a 10m global industrial and smallholder oil palm map for 2019. It covers areas where oil palm plantations were detected. The classified images are the output of a convolutional neural network based on Sentinel-1 and Sentinel-2 half-year composites."
   ]
  },
  {
   "cell_type": "code",
   "execution_count": 157,
   "id": "0d03c745-f6d0-49ef-9d77-4b23cbb34853",
   "metadata": {
    "tags": []
   },
   "outputs": [],
   "source": [
    "# Import the dataset; a collection of composite granules from 2019.\n",
    "oil_palm_descals_raw = ee.ImageCollection('BIOPAMA/GlobalOilPalm/v1');\n",
    "\n",
    "# Select the classification band and mosaic all of the granules into a single image.\n",
    "oil_palm_descals_mosaic = oil_palm_descals_raw.select('classification').mosaic();\n",
    "\n",
    "# Visualisation only - not needed: create a mask to add transparency to non-oil palm plantation class pixels.\n",
    "mask = oil_palm_descals_mosaic.neq(3);\n",
    "\n",
    "mask = mask.where(mask.eq(0), 0.6); #not sure about this - from online (check)\n",
    "\n",
    "oil_palm_descals_binary = oil_palm_descals_mosaic.lte(2)"
   ]
  },
  {
   "cell_type": "code",
   "execution_count": 158,
   "id": "821eb472-fefe-4297-95d6-49d3742b57c5",
   "metadata": {
    "tags": []
   },
   "outputs": [
    {
     "name": "stdout",
     "output_type": "stream",
     "text": [
      "template_band_index:  0\n",
      "scale (m):  10\n"
     ]
    }
   ],
   "source": [
    "oil_palm_descals_binary_area_km2 = area_stats.binary_to_area_km2(oil_palm_descals_binary)\n",
    "\n",
    "oil_palm_descals_binary_area_km2 = area_stats.set_scale_property_from_image(oil_palm_descals_binary_area_km2,oil_palm_descals_raw.first(),0,verbose=True)\n",
    "\n",
    "##checks\n",
    "# Define visualization parameters.\n",
    "# classificationVis = {\n",
    "#   'min': 1,\n",
    "#   'max': 3,\n",
    "#   'palette': ['ff0000','ef00ff', '696969']\n",
    "# };\n",
    "# Map = geemap.Map()\n",
    "\n",
    "# # Display the data on the map.\n",
    "# Map.addLayer(oil_palm_descals_mosaic.updateMask(mask),\n",
    "#              classificationVis, 'Oil palm plantation type', 1,1);\n",
    "# Map.addLayer(oil_palm_descals_binary,\n",
    "#              {'min':0,'max':1,'palette':[\"white\",\"orange\"]}, 'Oil palm plantation binary', 1,1);\n",
    "\n",
    "# Map.setCenter(-3.0175, 5.2745,12);\n",
    "# Map"
   ]
  },
  {
   "cell_type": "markdown",
   "id": "e74b37b2-f1ba-4c13-ab47-9416ab125762",
   "metadata": {
    "tags": []
   },
   "source": [
    "#### Fetch: World Database on Protected Areas (WDPA)\n",
    "Link: www.protectedplanet.net\n",
    "\n",
    "Citation: UNEP-WCMC and IUCN (year), Protected Planet: The World Database on Protected Areas (WDPA) [On-line], [insert month/year of the version used], Cambridge, UK: UNEP-WCMC and IUCN Available at: www.protectedplanet.net.\n",
    "\n",
    "Overview: The World Database on Protected Areas (WDPA) is the most up-to-date and complete source of information on protected areas, updated monthly with submissions from governments, non-governmental organizations, landowners, and communities. It is managed by the United Nations Environment Programme's World Conservation Monitoring Centre (UNEP-WCMC) with support from IUCN and its World Commission on Protected Areas (WCPA).\n",
    "\n",
    "WDPA User Manual. For details including methodologies,standards, data providers, metadata field definitions and descriptions, refer to the WDPA User Manual.\n",
    " \n",
    "\n",
    "NB Filtering and preparation steps needs checking as based on use for protected area statistics\n",
    "- date: this is using \"current\" data (it's updated monthly) - assuming if plot is in a protected area they need to know even if after 2020.\n",
    "- point data: currently buffering by reported area where it exists\n",
    "- removed sites: removed all but designated sites; removed Man and Biosphere reserves (for detail see: WDPA Manual)\n",
    "\n",
    "TO DO: add OECMs - these are now being recognised as protected areas\n"
   ]
  },
  {
   "cell_type": "code",
   "execution_count": 159,
   "id": "8e962a1b-5b19-4fc5-8a3b-30931fd7d961",
   "metadata": {
    "tags": []
   },
   "outputs": [],
   "source": [
    "wdpa_pnt = ee.FeatureCollection(\"WCMC/WDPA/current/points\");\n",
    "\n",
    "wdpa_poly = ee.FeatureCollection(\"WCMC/WDPA/current/polygons\");\n",
    "\n",
    "#apply filters and merge polygon with buffered points  \n",
    "wdpa_filt = WDPA_prep.filterWDPA(wdpa_poly).merge(WDPA_prep.filterWDPA(wdpa_pnt).filter(ee.Filter.gt('REP_AREA', 0)).map(WDPA_prep.bufferByArea));\n",
    "#turn into image (no crs etc set currently)\n",
    "wdpa_overlap = wdpa_filt.reduceToImage(['STATUS_YR'],'min');  #make into raster - remove mask if want 0s\n",
    "\n",
    "#make binary\n",
    "wdpa_binary = wdpa_overlap.lt(2070).unmask()\n"
   ]
  },
  {
   "cell_type": "markdown",
   "id": "27936847-1625-4a98-9466-5d598db59f1a",
   "metadata": {},
   "source": [
    "##### Setting projection and resolution etc (based on GFC scale as template)"
   ]
  },
  {
   "cell_type": "code",
   "execution_count": 160,
   "id": "a5f7ff99-eabd-42af-b3d4-7df0b3de2665",
   "metadata": {
    "tags": []
   },
   "outputs": [
    {
     "name": "stdout",
     "output_type": "stream",
     "text": [
      "template_band_index:  0\n",
      "scale (m):  27.829872698318393\n"
     ]
    }
   ],
   "source": [
    "#reproject based on gfc data\n",
    "crs_template = gfc.select(0).projection().crs().getInfo()\n",
    "\n",
    "wdpa_binary_reproj = wdpa_binary.reproject(\n",
    "  crs= crs_template,\n",
    "  scale= area_stats.get_scale_from_image(gfc),\n",
    ").int8()\n",
    "\n",
    "protected_areas_WDPA_area_km2 = area_stats.binary_to_area_km2(wdpa_binary_reproj)\n",
    "\n",
    "protected_areas_WDPA_area_km2 = area_stats.set_scale_property_from_image(protected_areas_WDPA_area_km2,gfc,0,verbose=True)\n"
   ]
  },
  {
   "cell_type": "code",
   "execution_count": 161,
   "id": "48bad1e9-1e52-4e6e-893b-82cb17f54389",
   "metadata": {},
   "outputs": [],
   "source": [
    "# ##checks\n",
    "\n",
    "# Map = geemap.Map()\n",
    "\n",
    "# Map.addLayer(wdpa_filt,\"\",\"filtered wdpa_poly buff pnt\",0,1)\n",
    "# Map.addLayer(wdpa_binary_reproj, {min:0, max:1, 'palette':['white','purple']},'wdpa_binary_reproj',1,1); #visualise raster - with count of overlaps\n",
    "# Map.addLayer(protected_areas_WDPA_area_km2, {min:0, max:10, 'palette':['blue','red']},'protected_areas_WDPA_area_km2',1,1); #visualise raster - min status yr (only useful for timeseries work)\n",
    "\n",
    "# Map"
   ]
  },
  {
   "cell_type": "markdown",
   "id": "51fb7a7c-48ad-4789-82f8-36a50cff8af3",
   "metadata": {
    "tags": []
   },
   "source": [
    "#### Fetch: Key Biodiversity Areas (KBAs)\n",
    "Link: https://www.keybiodiversityareas.org/kba-data/request; \n",
    "https://www.keybiodiversityareas.org/termsofservice\n",
    "\n",
    "Citation: BirdLife International ([year e.g. 2023]). The World Database of Key Biodiversity Areas. Developed by the KBA Partnership: BirdLife International, International Union for the Conservation of Nature, Amphibian Survival Alliance, Conservation International, Critical Ecosystem Partnership Fund, Global Environment Facility, Re:wild, NatureServe, Rainforest Trust, Royal Society for the Protection of Birds, Wildlife Conservation Society and World Wildlife Fund. Available at www.keybiodiversityareas.org. [Accessed (please insert date of download dd/mm/yyyy)].\n",
    "\n",
    "Overview: Key Biodiversity Areas, which are among the most incredible and diverse places on Earth for nature, from deserts to the middle of the ocean, are sites of global importance to the planet’s overall health and the persistence of biodiversity. The Key Biodiversity Area Partnership - an ambitious partnership of 13 global conservation organizations - is helping prevent the rapid loss of biodiversity by supporting nationally led efforts to identify these places on the planet that are critical for the survival of unique plants and animals, and the ecological communities they comprise.\n",
    "\n",
    "By mapping these most important sites on Earth, and providing information about the wildlife living there, private industry, governments and other stakeholders can make the best decisions about how to manage that land (or waters), where to avoid development, and how best to conserve and protect the animals and plants for which the sites are so important.\n",
    "\n",
    "NB\n",
    "- Useful flag as these areas typically become protected (large overlap with existing protected areas whcih take a w hwile to be designated) \n",
    "- The last populations of species are found in a subset of KBAs (i.e., Alliance for Zero Extinction (AZE) sites)\n",
    "- KBAs have rigourous inclusion criteria and typically have active management for protecting species they contain"
   ]
  },
  {
   "cell_type": "code",
   "execution_count": 162,
   "id": "f329dd50-3505-4fcc-8aee-7f044f30ad27",
   "metadata": {
    "tags": []
   },
   "outputs": [],
   "source": [
    "kbas_2023_poly = ee.FeatureCollection(\"projects/ee-andyarnellgee/assets/p0004_commodity_mapper_support/raw/KBAsGlobal_2023_March_01_POL\");##uploaded - may need rights\n",
    "\n",
    "kba_2023_overlap = kbas_2023_poly.reduceToImage(['SitRecID'],'count').selfMask()  #make into raster - remove mask if want 0s\n",
    "\n",
    "kba_2023_binary = kba_2023_overlap.gte(0)"
   ]
  },
  {
   "cell_type": "markdown",
   "id": "2fb2fa79-5528-4719-a5a5-7db70aa5e048",
   "metadata": {
    "tags": []
   },
   "source": [
    "##### Setting projection and resolution etc (based on GFC scale as template)"
   ]
  },
  {
   "cell_type": "code",
   "execution_count": 163,
   "id": "8edf2113-431c-4e9f-9191-a6406f825e1b",
   "metadata": {
    "tags": []
   },
   "outputs": [
    {
     "name": "stdout",
     "output_type": "stream",
     "text": [
      "template_band_index:  0\n",
      "scale (m):  27.829872698318393\n"
     ]
    }
   ],
   "source": [
    "#reproject based on gfc data\n",
    "crs_template = gfc.select(0).projection().crs().getInfo()\n",
    "\n",
    "kba_2023_binary_reproj = kba_2023_binary.reproject(\n",
    "  crs= crs_template,\n",
    "  scale= area_stats.get_scale_from_image(gfc),\n",
    ").int8()\n",
    "\n",
    "kba_2023_area_km2 = area_stats.binary_to_area_km2(kba_2023_binary_reproj)\n",
    "\n",
    "kba_2023_area_km2 = area_stats.set_scale_property_from_image(kba_2023_area_km2,gfc,0,verbose=True)\n",
    "\n"
   ]
  },
  {
   "cell_type": "code",
   "execution_count": 164,
   "id": "6ed2b72a-6f9b-49d1-9545-02306201d673",
   "metadata": {
    "tags": []
   },
   "outputs": [],
   "source": [
    "# # ##checks\n",
    "# Map = geemap.Map()\n",
    "# # Map.addLayer(kbas_2023_poly,\"\",'kbas_2023_poly',0,1); \n",
    "# # Map.addLayer(kba_2023_overlap, {'min':0, 'max':5, 'palette':['blue','red']},'kba_overlap',0,1); #visualise raster - with count of overlaps\n",
    "# Map.addLayer(kba_2023_binary, {'min':0, 'max':1, 'palette':['white','black']},'kba_binary',1,1); #binary raster\n",
    "\n",
    "# Map"
   ]
  },
  {
   "cell_type": "markdown",
   "id": "f40227de-c70f-4e68-9377-45c1632e3d04",
   "metadata": {},
   "source": [
    "#### Fetch: RADD forest disturbance alert\n",
    "\n",
    "Link: http://radd-alert.wur.nl; https://gee-community-catalog.org/projects/radd/\n",
    "\n",
    "Citation: Reiche J, Mullissa A, Slagter B, Gou Y, Tsendbazar N-E, Odongo-Braun C, Vollrath A, Weisse MJ, Stolle F, Pickens A, Donchyts G, Clinton N, Gorelick N, and Herold M (2021). https://doi.org/10.1088/1748-9326/abd0a8\n",
    "\n",
    "Overview:\n",
    "RADD - RAdar for Detecting Deforestation - Near real-time disturbances in humid tropical forest based on Sentinel-1 at 10m spatial scale. \n",
    "NB only primary humid tropical forest of South America (13 countries), Central America (6 countries), Africa (25 countries), insular Southeast Asia (5 countries) and Pacific (1 country).\n",
    "A new forest disturbance alert is triggered based on a single observation from the latest Sentinel-1 C-band radar image. Subsequent observations are used to iteratively update the forest disturbance probability, increase confidence and confirm or reject the alert. Alerts are confirmed within a maximum 90-day period if the forest disturbance probability is above 97.5% (high confidence alerts). Unconfirmed alerts (low confidence alerts) are provided for forest disturbance probabilities above 85%. The date of the alert is set to the date of the image that first triggered the alert.\n",
    "\n",
    "\n",
    "Approach for deforestations risk proxy: run stats for areas around each input feature and 5km buffer. \n",
    "Select only recent forest loss (i.e. in the last 2 years) based on todays date.\n",
    "\n",
    "Possible data alternatives: use GFC loss (not as recent); use combination of loss and alerts; use off-shelf deforestation risk product (no buffer needed for this).\n",
    "\n",
    "Instead of buffer and recency, use actual rates such as here https://code.earthengine.google.com/ab1e640b81a107b796718f285a56422a\n"
   ]
  },
  {
   "cell_type": "code",
   "execution_count": 165,
   "id": "d2667908-cb57-4337-a61f-f7656b8af13e",
   "metadata": {
    "tags": []
   },
   "outputs": [
    {
     "name": "stdout",
     "output_type": "stream",
     "text": [
      "start_date_yyDDD 21316\n"
     ]
    }
   ],
   "source": [
    "# Getting today's date\n",
    "ee_now =ee.Date(datetime.now())#.format()\n",
    "# print(ee_now.getInfo())\n",
    "\n",
    "# Calculate the start date\n",
    "start_date = ee_now.advance(how_many_days_back, \"day\")\n",
    "\n",
    "# Needs to be in yyDDD format and needs to be a number, so need to parse too\n",
    "start_date_yyDDD = ee.Number.parse(start_date.format('yyDDD'))\n",
    "\n",
    "print(\"start_date_yyDDD\", start_date_yyDDD.getInfo())\n"
   ]
  },
  {
   "cell_type": "code",
   "execution_count": 166,
   "id": "fb85ed7c-88d3-4605-b4c2-5e198635ca3e",
   "metadata": {
    "tags": []
   },
   "outputs": [],
   "source": [
    "# Define the Image Collection\n",
    "radd = ee.ImageCollection('projects/radar-wur/raddalert/v1')\n",
    "\n",
    "# Forest baseline (from Primart HT forests data)\n",
    "forest_baseline = ee.Image(radd.filterMetadata('layer', 'contains', 'forest_baseline')\n",
    "    .mosaic())\n",
    " \n",
    "# Latest RADD alert\n",
    "latest_radd_alert = ee.Image(radd.filterMetadata('layer', 'contains', 'alert')\n",
    "    .sort('system:time_end', False)\n",
    "    .mosaic())\n",
    "\n",
    "# Update mask for RADD alert to be within primary forest (TO CHECK maybe unnecessry step)\n",
    "latest_radd_alert_masked = latest_radd_alert.select('Alert').updateMask(forest_baseline)\n",
    "\n",
    "# Mask confirmed alerts #TO CHECK do we want to be more conservative?\n",
    "latest_radd_alert_masked_confirmed = latest_radd_alert_masked.eq(3).selfMask()\n",
    "\n",
    "# Update mask for confirmed alerts by date\n",
    "latest_radd_alert_confirmed_recent = latest_radd_alert.select('Date').gte(start_date_yyDDD).selfMask()\n"
   ]
  },
  {
   "cell_type": "code",
   "execution_count": 167,
   "id": "0f856250-5654-4bf9-bf69-3620e126ae73",
   "metadata": {
    "tags": []
   },
   "outputs": [
    {
     "name": "stdout",
     "output_type": "stream",
     "text": [
      "template_band_index:  0\n",
      "scale (m):  10\n"
     ]
    }
   ],
   "source": [
    "latest_radd_alert_confirmed_recent_area_km2 = area_stats.binary_to_area_km2(latest_radd_alert_confirmed_recent)\n",
    "\n",
    "latest_radd_alert_confirmed_recent_area_km2 = area_stats.set_scale_property_from_image(latest_radd_alert_confirmed_recent_area_km2,radd.first(),0,verbose=True)"
   ]
  },
  {
   "cell_type": "code",
   "execution_count": 168,
   "id": "6879913a-e64b-40fd-acd7-f0d1909169b5",
   "metadata": {},
   "outputs": [],
   "source": [
    "# #checks\n",
    "# Map = geemap.Map()\n",
    "\n",
    "# # # # Add Forest baseline layer to the map\n",
    "# Map.addLayer(forest_baseline, {'palette': ['darkgreen']}, 'Forest baseline', 0, 1)\n",
    "\n",
    "# Map.addLayer(latest_radd_alert_confirmed_recent,\n",
    "#     {'min': 0, 'max': 1, 'palette': ['white', 'red']},\n",
    "#     'RADD alert masked confirmed - recent (i.e., filtered by date)', 1, 1)\n",
    "\n",
    "# Map"
   ]
  },
  {
   "cell_type": "markdown",
   "id": "e1845bdb-2bde-428d-9293-5de2efb4acbb",
   "metadata": {
    "tags": []
   },
   "source": [
    "### 2. Fetch some fields (public)"
   ]
  },
  {
   "cell_type": "code",
   "execution_count": 169,
   "id": "7b271dc7-8a0b-497b-95b8-bbbf9bd98b09",
   "metadata": {
    "tags": []
   },
   "outputs": [
    {
     "name": "stdout",
     "output_type": "stream",
     "text": [
      "['0520cfac98fbc1bd7952b1c07a9f6983b83625722b6f665ea83ac9aad3512918', 'b84f55de2b7f3c77d1cbeb8b026a1b29be42d8b08d92058c9143e0556456820f', 'b7c15efb6e3c63fcfe649a2d994973a6f5caa844f720f0edb7cf24f6a6c3c1b3', 'fa2aff0d60cf1bc0e1f1dd4b91daf932940c31c021ca1b84f5b9445855eef02f', '88bec54ad04804f5b1fafbc131266640a129be2840fa6797cda358d7e831b907', 'ef2f7c46fbe4fc892fdb81f9a31c9c507b9f1e4548504247dcbbab28cf8e436c', '97408ef7bdac487e4a42e4abf20492b786310889fd4b0478603e2d0004c40bfb', 'c288d6c94efa9011c0e3452af9f7fa0941661377030e10d29c68764617f9816d', '1a41a309ae2387f36a604c9a6c81887e64357a7f61d228758e23ef766286fcd7', '1a4472dc40700ef33f931863f58d444f243d64418616678fcf85c57e1f4bbf45', '8e2accea7ddbb84b7f6001e00bcb60f57f563c80633b53859993522a6f05727a']\n"
     ]
    }
   ],
   "source": [
    "CIV_ids = ['0520cfac98fbc1bd7952b1c07a9f6983b83625722b6f665ea83ac9aad3512918',\n",
    "           'b84f55de2b7f3c77d1cbeb8b026a1b29be42d8b08d92058c9143e0556456820f',\n",
    "           'b7c15efb6e3c63fcfe649a2d994973a6f5caa844f720f0edb7cf24f6a6c3c1b3',\n",
    "            'fa2aff0d60cf1bc0e1f1dd4b91daf932940c31c021ca1b84f5b9445855eef02f']\n",
    "\n",
    "GHA_ids = ['88bec54ad04804f5b1fafbc131266640a129be2840fa6797cda358d7e831b907', \n",
    "'ef2f7c46fbe4fc892fdb81f9a31c9c507b9f1e4548504247dcbbab28cf8e436c',\n",
    "'97408ef7bdac487e4a42e4abf20492b786310889fd4b0478603e2d0004c40bfb']\n",
    "\n",
    "IDN_ids = ['c288d6c94efa9011c0e3452af9f7fa0941661377030e10d29c68764617f9816d', \n",
    "       '1a41a309ae2387f36a604c9a6c81887e64357a7f61d228758e23ef766286fcd7',\n",
    "       '1a4472dc40700ef33f931863f58d444f243d64418616678fcf85c57e1f4bbf45',\n",
    "       '8e2accea7ddbb84b7f6001e00bcb60f57f563c80633b53859993522a6f05727a']\n",
    "\n",
    "all_geo_ids= CIV_ids+GHA_ids+IDN_ids\n",
    "\n",
    "print (all_geo_ids)"
   ]
  },
  {
   "cell_type": "markdown",
   "id": "18de5299-128a-4480-9ffc-61a992a39045",
   "metadata": {
    "tags": []
   },
   "source": [
    "#### Transform geometries into a feature collection\n",
    "NB Currently not working due to session issues"
   ]
  },
  {
   "cell_type": "code",
   "execution_count": 170,
   "id": "51c53e49-26dc-41d7-b3f3-d7fbc5585c20",
   "metadata": {
    "tags": []
   },
   "outputs": [],
   "source": [
    "# roi = geo_id_list_to_feature_collection(all_geo_ids)\n",
    "\n",
    "# #checks \n",
    "# print (\"Count of geo ids in list: \", len(all_geo_ids))\n",
    "# print (\"Count of features in FeatureCollection: \", roi.size().getInfo())"
   ]
  },
  {
   "cell_type": "markdown",
   "id": "dfccd94a-dd4b-4476-95a3-4d271e8a52dd",
   "metadata": {},
   "source": [
    "##### Alternative feature collection: create random polygons\n",
    "select random points inside administrative boundaries and buffer them "
   ]
  },
  {
   "cell_type": "code",
   "execution_count": 171,
   "id": "e66a1a43-7c05-4bb1-a6fa-c7827a0d9b38",
   "metadata": {
    "tags": []
   },
   "outputs": [
    {
     "name": "stdout",
     "output_type": "stream",
     "text": [
      "number of admin regions 20\n",
      "number of countries 2\n",
      "number of countries ['Indonesia', 'Ghana']\n",
      "number of buffers created 30\n"
     ]
    }
   ],
   "source": [
    "def create_random_points_in_polys(feature): #to tidy\n",
    "    \"\"\" creates random points within either a polygon or a feature collection NB relies upon some globals being set currently\"\"\"\n",
    "    return ee.FeatureCollection.randomPoints(region = feature.geometry(max_error), points = number_of_points, seed=seed, maxError=10)\n",
    "\n",
    "admin_boundaries = ee.FeatureCollection(\"FAO/GAUL_SIMPLIFIED_500m/2015/level2\").filter(ee.Filter.inList(\"ADM0_NAME\",[\"Indonesia\",\"Ghana\"]))##.filter(ee.Filter.lt(\"Shape_Area\",1000))\n",
    "\n",
    "random_collection = admin_boundaries.randomColumn(seed = seed).sort('random').limit(number_of_boundaries)\n",
    "\n",
    "if points_per_admin_boundary:\n",
    "    random_points = random_collection.map(create_random_points_in_polys).flatten()\n",
    "else:\n",
    "    random_points = create_random_points_in_polys(random_collection)\n",
    "    \n",
    "random_buffers = random_points.map(lambda feature: feature.buffer(buffer_distance_meters,100)) ##buffer by distance in meters\n",
    "\n",
    "roi= random_buffers.map(lambda feature: feature.set(geo_id_column,(feature.get(\"system:index\"))))\n",
    "# roi= random_buffers.map(set_geo_id_from_system_index) ## add surrogate \"geo_id\" for formatting\n",
    "\n",
    "#checks\n",
    "if verbose:\n",
    "    print(\"number of admin regions\",random_collection.size().getInfo())\n",
    "    print(\"number of countries\",random_collection.aggregate_array(\"ADM0_NAME\").distinct().length().getInfo())\n",
    "    print(\"number of countries\",random_collection.aggregate_array(\"ADM0_NAME\").distinct().getInfo())\n",
    "    print(\"number of buffers created\",random_buffers.size().getInfo())\n",
    "    # geemap.ee_to_pandas(roi)###create random points and buffer them\n"
   ]
  },
  {
   "cell_type": "code",
   "execution_count": 172,
   "id": "807b5dbc-d3f1-4cf6-986a-c53f087f9674",
   "metadata": {
    "tags": []
   },
   "outputs": [],
   "source": [
    "# ## checks\n",
    "# Map=geemap.Map()\n",
    "# Map.addLayer(roi, \"\", 'roi', 1, 1)\n",
    "# Map"
   ]
  },
  {
   "cell_type": "markdown",
   "id": "4598c04b-93ed-456d-be36-e83e749ee554",
   "metadata": {},
   "source": [
    "#### Feature prep\n",
    "- Create additional buffer zones for deforestation risk \n",
    "- Add area property to feature(s) \n",
    "- Select only columns of interest"
   ]
  },
  {
   "cell_type": "code",
   "execution_count": 173,
   "id": "e366c6e2-7c9c-47ca-8aad-76a0dde5cc5f",
   "metadata": {
    "tags": []
   },
   "outputs": [
    {
     "data": {
      "text/html": [
       "<div>\n",
       "<style scoped>\n",
       "    .dataframe tbody tr th:only-of-type {\n",
       "        vertical-align: middle;\n",
       "    }\n",
       "\n",
       "    .dataframe tbody tr th {\n",
       "        vertical-align: top;\n",
       "    }\n",
       "\n",
       "    .dataframe thead th {\n",
       "        text-align: right;\n",
       "    }\n",
       "</style>\n",
       "<table border=\"1\" class=\"dataframe\">\n",
       "  <thead>\n",
       "    <tr style=\"text-align: right;\">\n",
       "      <th></th>\n",
       "      <th>Geo_id</th>\n",
       "      <th>Geometry_area_km2</th>\n",
       "    </tr>\n",
       "  </thead>\n",
       "  <tbody>\n",
       "    <tr>\n",
       "      <th>0</th>\n",
       "      <td>0</td>\n",
       "      <td>0.684923</td>\n",
       "    </tr>\n",
       "    <tr>\n",
       "      <th>1</th>\n",
       "      <td>1</td>\n",
       "      <td>0.684923</td>\n",
       "    </tr>\n",
       "    <tr>\n",
       "      <th>2</th>\n",
       "      <td>2</td>\n",
       "      <td>0.684923</td>\n",
       "    </tr>\n",
       "    <tr>\n",
       "      <th>3</th>\n",
       "      <td>3</td>\n",
       "      <td>0.684923</td>\n",
       "    </tr>\n",
       "    <tr>\n",
       "      <th>4</th>\n",
       "      <td>4</td>\n",
       "      <td>0.684923</td>\n",
       "    </tr>\n",
       "    <tr>\n",
       "      <th>5</th>\n",
       "      <td>5</td>\n",
       "      <td>0.684923</td>\n",
       "    </tr>\n",
       "    <tr>\n",
       "      <th>6</th>\n",
       "      <td>6</td>\n",
       "      <td>0.684923</td>\n",
       "    </tr>\n",
       "    <tr>\n",
       "      <th>7</th>\n",
       "      <td>7</td>\n",
       "      <td>0.684923</td>\n",
       "    </tr>\n",
       "    <tr>\n",
       "      <th>8</th>\n",
       "      <td>8</td>\n",
       "      <td>0.684923</td>\n",
       "    </tr>\n",
       "    <tr>\n",
       "      <th>9</th>\n",
       "      <td>9</td>\n",
       "      <td>0.684923</td>\n",
       "    </tr>\n",
       "    <tr>\n",
       "      <th>10</th>\n",
       "      <td>10</td>\n",
       "      <td>0.684923</td>\n",
       "    </tr>\n",
       "    <tr>\n",
       "      <th>11</th>\n",
       "      <td>11</td>\n",
       "      <td>0.684923</td>\n",
       "    </tr>\n",
       "    <tr>\n",
       "      <th>12</th>\n",
       "      <td>12</td>\n",
       "      <td>0.684923</td>\n",
       "    </tr>\n",
       "    <tr>\n",
       "      <th>13</th>\n",
       "      <td>13</td>\n",
       "      <td>0.684923</td>\n",
       "    </tr>\n",
       "    <tr>\n",
       "      <th>14</th>\n",
       "      <td>14</td>\n",
       "      <td>0.684923</td>\n",
       "    </tr>\n",
       "    <tr>\n",
       "      <th>15</th>\n",
       "      <td>15</td>\n",
       "      <td>0.684923</td>\n",
       "    </tr>\n",
       "    <tr>\n",
       "      <th>16</th>\n",
       "      <td>16</td>\n",
       "      <td>0.684923</td>\n",
       "    </tr>\n",
       "    <tr>\n",
       "      <th>17</th>\n",
       "      <td>17</td>\n",
       "      <td>0.684923</td>\n",
       "    </tr>\n",
       "    <tr>\n",
       "      <th>18</th>\n",
       "      <td>18</td>\n",
       "      <td>0.684923</td>\n",
       "    </tr>\n",
       "    <tr>\n",
       "      <th>19</th>\n",
       "      <td>19</td>\n",
       "      <td>0.684923</td>\n",
       "    </tr>\n",
       "    <tr>\n",
       "      <th>20</th>\n",
       "      <td>20</td>\n",
       "      <td>0.684923</td>\n",
       "    </tr>\n",
       "    <tr>\n",
       "      <th>21</th>\n",
       "      <td>21</td>\n",
       "      <td>0.684923</td>\n",
       "    </tr>\n",
       "    <tr>\n",
       "      <th>22</th>\n",
       "      <td>22</td>\n",
       "      <td>0.684923</td>\n",
       "    </tr>\n",
       "    <tr>\n",
       "      <th>23</th>\n",
       "      <td>23</td>\n",
       "      <td>0.684923</td>\n",
       "    </tr>\n",
       "    <tr>\n",
       "      <th>24</th>\n",
       "      <td>24</td>\n",
       "      <td>0.684923</td>\n",
       "    </tr>\n",
       "    <tr>\n",
       "      <th>25</th>\n",
       "      <td>25</td>\n",
       "      <td>0.684923</td>\n",
       "    </tr>\n",
       "    <tr>\n",
       "      <th>26</th>\n",
       "      <td>26</td>\n",
       "      <td>0.684923</td>\n",
       "    </tr>\n",
       "    <tr>\n",
       "      <th>27</th>\n",
       "      <td>27</td>\n",
       "      <td>0.684923</td>\n",
       "    </tr>\n",
       "    <tr>\n",
       "      <th>28</th>\n",
       "      <td>28</td>\n",
       "      <td>0.684923</td>\n",
       "    </tr>\n",
       "    <tr>\n",
       "      <th>29</th>\n",
       "      <td>29</td>\n",
       "      <td>0.684923</td>\n",
       "    </tr>\n",
       "  </tbody>\n",
       "</table>\n",
       "</div>"
      ],
      "text/plain": [
       "   Geo_id  Geometry_area_km2\n",
       "0       0           0.684923\n",
       "1       1           0.684923\n",
       "2       2           0.684923\n",
       "3       3           0.684923\n",
       "4       4           0.684923\n",
       "5       5           0.684923\n",
       "6       6           0.684923\n",
       "7       7           0.684923\n",
       "8       8           0.684923\n",
       "9       9           0.684923\n",
       "10     10           0.684923\n",
       "11     11           0.684923\n",
       "12     12           0.684923\n",
       "13     13           0.684923\n",
       "14     14           0.684923\n",
       "15     15           0.684923\n",
       "16     16           0.684923\n",
       "17     17           0.684923\n",
       "18     18           0.684923\n",
       "19     19           0.684923\n",
       "20     20           0.684923\n",
       "21     21           0.684923\n",
       "22     22           0.684923\n",
       "23     23           0.684923\n",
       "24     24           0.684923\n",
       "25     25           0.684923\n",
       "26     26           0.684923\n",
       "27     27           0.684923\n",
       "28     28           0.684923\n",
       "29     29           0.684923"
      ]
     },
     "execution_count": 173,
     "metadata": {},
     "output_type": "execute_result"
    }
   ],
   "source": [
    "roi = area_stats.add_area_km2_property_to_feature_collection(roi,geometry_area_column)\n",
    "\n",
    "roi  = roi.select([geometry_area_column,geo_id_column]) ##select only fields of interest\n",
    "\n",
    "roi_alerts_buffer = roi.map(lambda feature: \n",
    "        feature.buffer(local_alerts_buffer_radius,max_error_alert_buff))\n",
    "\n",
    "## to check HOW TO HANDLE ALERT BUFFER - best ignore until know how/if alerts will be used like this\n",
    "###roi_alerts_buffer = roi_alerts_buffer.map(add_area_km2_property_to_feature).select([geometry_area_column,geo_id_column])\n",
    "\n",
    "geemap.ee_to_pandas(roi_alerts_buffer)\n",
    "geemap.ee_to_pandas(roi)"
   ]
  },
  {
   "cell_type": "code",
   "execution_count": 174,
   "id": "599f13d5-08b2-4562-8a73-c43ea59a6633",
   "metadata": {
    "tags": []
   },
   "outputs": [],
   "source": [
    "# ## checks\n",
    "# Map=geemap.Map()\n",
    "# Map.addLayer(roi_alerts_buffer, \"\", 'roi_alerts_buffer', 1, 1)\n",
    "# Map"
   ]
  },
  {
   "cell_type": "markdown",
   "id": "71e13dd0-85e2-4f9b-bed8-9fcc9dd32f2c",
   "metadata": {
    "tags": []
   },
   "source": [
    "#### Set properties for which images need special treatment"
   ]
  },
  {
   "cell_type": "code",
   "execution_count": 175,
   "id": "7ada930c-e43f-4796-8852-65d845efcbaa",
   "metadata": {
    "tags": []
   },
   "outputs": [],
   "source": [
    "#deforestation alerts\n",
    "# set property so run stats for a buffer around site; \n",
    "# and show presence only as output \n",
    "latest_radd_alert_confirmed_recent_area_km2 = latest_radd_alert_confirmed_recent_area_km2.setMulti(\n",
    "    {\"alerts_buffer\":1,\"presence_only_flag\":1})\n",
    "\n",
    "#important sites: 1) protected areas and 2) KBAs (likely future protectred areas) \n",
    "# show presence only as output \n",
    "protected_areas_WDPA_area_km2 = protected_areas_WDPA_area_km2.set(\"presence_only_flag\",1)\n",
    "\n",
    "kba_2023_area_km2 = kba_2023_area_km2.set(\"presence_only_flag\",1)\n"
   ]
  },
  {
   "cell_type": "markdown",
   "id": "6075125b-851e-490e-a60a-bb8d867aafb3",
   "metadata": {
    "tags": []
   },
   "source": [
    "#### Create dictionary of images and image names\n",
    "- prep for reduceRegions statistics so name of datasets/image is added to area stats\n",
    "- sets \"system:index\" property of each image\n",
    "- result is an image collection with "
   ]
  },
  {
   "cell_type": "code",
   "execution_count": 180,
   "id": "443aab36-2bb3-4f9f-9398-6d5b80ae8f48",
   "metadata": {
    "tags": []
   },
   "outputs": [
    {
     "name": "stdout",
     "output_type": "stream",
     "text": [
      "number of images:  10\n"
     ]
    },
    {
     "data": {
      "text/html": [
       "<div><style>:root {\n",
       "  --font-color-primary: var(--jp-content-font-color0, rgba(0, 0, 0, 1));\n",
       "  --font-color-secondary: var(--jp-content-font-color2, rgba(0, 0, 0, 0.6));\n",
       "  --font-color-accent: rgba(123, 31, 162, 1);\n",
       "  --border-color: var(--jp-border-color2, #e0e0e0);\n",
       "  --background-color: var(--jp-layout-color0, white);\n",
       "  --background-color-row-even: var(--jp-layout-color1, white);\n",
       "  --background-color-row-odd: var(--jp-layout-color2, #eeeeee);\n",
       "}\n",
       "\n",
       "html[theme=\"dark\"],\n",
       "body[data-theme=\"dark\"],\n",
       "body.vscode-dark {\n",
       "  --font-color-primary: rgba(255, 255, 255, 1);\n",
       "  --font-color-secondary: rgba(255, 255, 255, 0.6);\n",
       "  --font-color-accent: rgb(173, 132, 190);\n",
       "  --border-color: #2e2e2e;\n",
       "  --background-color: #111111;\n",
       "  --background-color-row-even: #111111;\n",
       "  --background-color-row-odd: #313131;\n",
       "}\n",
       "\n",
       ".ee {\n",
       "  padding: 1em;\n",
       "  line-height: 1.5em;\n",
       "  min-width: 300px;\n",
       "  max-width: 1200px;\n",
       "  overflow-y: scroll;\n",
       "  max-height: 600px;\n",
       "  border: 1px solid var(--border-color);\n",
       "  font-family: monospace;\n",
       "}\n",
       "\n",
       ".ee li {\n",
       "  list-style-type: none;\n",
       "}\n",
       "\n",
       ".ee ul {\n",
       "  padding-left: 1.5em !important;\n",
       "  margin: 0;\n",
       "}\n",
       "\n",
       ".ee > ul {\n",
       "  padding-left: 0 !important;\n",
       "}\n",
       "\n",
       ".ee-open,\n",
       ".ee-shut {\n",
       "  color: var(--font-color-secondary);\n",
       "  cursor: pointer;\n",
       "  margin: 0;\n",
       "}\n",
       "\n",
       ".ee-open:hover,\n",
       ".ee-shut:hover {\n",
       "  color: var(--font-color-primary);\n",
       "}\n",
       "\n",
       ".ee-k {\n",
       "  color: var(--font-color-accent);\n",
       "  margin-right: 6px;\n",
       "}\n",
       "\n",
       ".ee-v {\n",
       "  color: var(--font-color-primary);\n",
       "}\n",
       "\n",
       ".ee-toggle {\n",
       "  display: none;\n",
       "}\n",
       "\n",
       ".ee-shut + ul {\n",
       "  display: none;\n",
       "}\n",
       "\n",
       ".ee-open + ul {\n",
       "  display: block;\n",
       "}\n",
       "\n",
       ".ee-shut::before {\n",
       "  display: inline-block;\n",
       "  content: \"▼\";\n",
       "  margin-right: 6px;\n",
       "  transform: rotate(-90deg);\n",
       "  transition: transform 0.2s;\n",
       "}\n",
       "\n",
       ".ee-open::before {\n",
       "  transform: rotate(0deg);\n",
       "  display: inline-block;\n",
       "  content: \"▼\";\n",
       "  margin-right: 6px;\n",
       "  transition: transform 0.2s;\n",
       "}\n",
       "</style><div class='ee'><ul><li><label class='ee-shut'>ImageCollection (10 elements)<input type='checkbox' class='ee-toggle'></label><ul><li><span class='ee-k'>type:</span><span class='ee-v'>ImageCollection</span></li><li><label class='ee-shut'>bands: []<input type='checkbox' class='ee-toggle'></label><ul></ul></li><li><label class='ee-shut'>features: List (10 elements)<input type='checkbox' class='ee-toggle'></label><ul><li><label class='ee-shut'>0: Image (1 band)<input type='checkbox' class='ee-toggle'></label><ul><li><span class='ee-k'>type:</span><span class='ee-v'>Image</span></li><li><label class='ee-shut'>bands: List (1 element)<input type='checkbox' class='ee-toggle'></label><ul><li><label class='ee-shut'>0: \"treecover2000\", float, EPSG:4326<input type='checkbox' class='ee-toggle'></label><ul><li><span class='ee-k'>id:</span><span class='ee-v'>treecover2000</span></li><li><span class='ee-k'>crs:</span><span class='ee-v'>EPSG:4326</span></li><li><label class='ee-shut'>crs_transform: [0.00025, 0, -180, 0, -0.00025, 80]<input type='checkbox' class='ee-toggle'></label><ul><li><span class='ee-k'>0:</span><span class='ee-v'>0.00025</span></li><li><span class='ee-k'>1:</span><span class='ee-v'>0</span></li><li><span class='ee-k'>2:</span><span class='ee-v'>-180</span></li><li><span class='ee-k'>3:</span><span class='ee-v'>0</span></li><li><span class='ee-k'>4:</span><span class='ee-v'>-0.00025</span></li><li><span class='ee-k'>5:</span><span class='ee-v'>80</span></li></ul></li><li><label class='ee-shut'>data_type: float<input type='checkbox' class='ee-toggle'></label><ul><li><span class='ee-k'>type:</span><span class='ee-v'>PixelType</span></li><li><span class='ee-k'>precision:</span><span class='ee-v'>float</span></li></ul></li></ul></li></ul></li><li><label class='ee-shut'>properties: Object (2 properties)<input type='checkbox' class='ee-toggle'></label><ul><li><span class='ee-k'>scale:</span><span class='ee-v'>27.829872698318393</span></li><li><span class='ee-k'>system:index:</span><span class='ee-v'>GFC_Treecover_2020</span></li></ul></li></ul></li><li><label class='ee-shut'>1: Image (1 band)<input type='checkbox' class='ee-toggle'></label><ul><li><span class='ee-k'>type:</span><span class='ee-v'>Image</span></li><li><label class='ee-shut'>bands: List (1 element)<input type='checkbox' class='ee-toggle'></label><ul><li><label class='ee-shut'>0: \"TransitionClass\", float, EPSG:4326<input type='checkbox' class='ee-toggle'></label><ul><li><span class='ee-k'>id:</span><span class='ee-v'>TransitionClass</span></li><li><span class='ee-k'>crs:</span><span class='ee-v'>EPSG:4326</span></li><li><label class='ee-shut'>crs_transform: [1, 0, 0, 0, 1, 0]<input type='checkbox' class='ee-toggle'></label><ul><li><span class='ee-k'>0:</span><span class='ee-v'>1</span></li><li><span class='ee-k'>1:</span><span class='ee-v'>0</span></li><li><span class='ee-k'>2:</span><span class='ee-v'>0</span></li><li><span class='ee-k'>3:</span><span class='ee-v'>0</span></li><li><span class='ee-k'>4:</span><span class='ee-v'>1</span></li><li><span class='ee-k'>5:</span><span class='ee-v'>0</span></li></ul></li><li><label class='ee-shut'>data_type: float<input type='checkbox' class='ee-toggle'></label><ul><li><span class='ee-k'>type:</span><span class='ee-v'>PixelType</span></li><li><span class='ee-k'>precision:</span><span class='ee-v'>float</span></li></ul></li></ul></li></ul></li><li><label class='ee-shut'>properties: Object (2 properties)<input type='checkbox' class='ee-toggle'></label><ul><li><span class='ee-k'>scale:</span><span class='ee-v'>30.000000000000004</span></li><li><span class='ee-k'>system:index:</span><span class='ee-v'>TMF_undisturbed_forest_2020</span></li></ul></li></ul></li><li><label class='ee-shut'>2: Image (1 band)<input type='checkbox' class='ee-toggle'></label><ul><li><span class='ee-k'>type:</span><span class='ee-v'>Image</span></li><li><label class='ee-shut'>bands: List (1 element)<input type='checkbox' class='ee-toggle'></label><ul><li><label class='ee-shut'>0: \"remapped\", float, EPSG:4326<input type='checkbox' class='ee-toggle'></label><ul><li><span class='ee-k'>id:</span><span class='ee-v'>remapped</span></li><li><span class='ee-k'>crs:</span><span class='ee-v'>EPSG:4326</span></li><li><label class='ee-shut'>crs_transform: [1, 0, 0, 0, 1, 0]<input type='checkbox' class='ee-toggle'></label><ul><li><span class='ee-k'>0:</span><span class='ee-v'>1</span></li><li><span class='ee-k'>1:</span><span class='ee-v'>0</span></li><li><span class='ee-k'>2:</span><span class='ee-v'>0</span></li><li><span class='ee-k'>3:</span><span class='ee-v'>0</span></li><li><span class='ee-k'>4:</span><span class='ee-v'>1</span></li><li><span class='ee-k'>5:</span><span class='ee-v'>0</span></li></ul></li><li><label class='ee-shut'>data_type: float<input type='checkbox' class='ee-toggle'></label><ul><li><span class='ee-k'>type:</span><span class='ee-v'>PixelType</span></li><li><span class='ee-k'>precision:</span><span class='ee-v'>float</span></li></ul></li></ul></li></ul></li><li><label class='ee-shut'>properties: Object (2 properties)<input type='checkbox' class='ee-toggle'></label><ul><li><span class='ee-k'>scale:</span><span class='ee-v'>10</span></li><li><span class='ee-k'>system:index:</span><span class='ee-v'>ESRI_Trees_2020</span></li></ul></li></ul></li><li><label class='ee-shut'>3: Image (1 band)<input type='checkbox' class='ee-toggle'></label><ul><li><span class='ee-k'>type:</span><span class='ee-v'>Image</span></li><li><label class='ee-shut'>bands: List (1 element)<input type='checkbox' class='ee-toggle'></label><ul><li><label class='ee-shut'>0: \"b1\", float, EPSG:4326<input type='checkbox' class='ee-toggle'></label><ul><li><span class='ee-k'>id:</span><span class='ee-v'>b1</span></li><li><span class='ee-k'>crs:</span><span class='ee-v'>EPSG:4326</span></li><li><label class='ee-shut'>crs_transform: [0.00025, 0, -180, 0, -0.00025, 80]<input type='checkbox' class='ee-toggle'></label><ul><li><span class='ee-k'>0:</span><span class='ee-v'>0.00025</span></li><li><span class='ee-k'>1:</span><span class='ee-v'>0</span></li><li><span class='ee-k'>2:</span><span class='ee-v'>-180</span></li><li><span class='ee-k'>3:</span><span class='ee-v'>0</span></li><li><span class='ee-k'>4:</span><span class='ee-v'>-0.00025</span></li><li><span class='ee-k'>5:</span><span class='ee-v'>80</span></li></ul></li><li><label class='ee-shut'>data_type: float<input type='checkbox' class='ee-toggle'></label><ul><li><span class='ee-k'>type:</span><span class='ee-v'>PixelType</span></li><li><span class='ee-k'>precision:</span><span class='ee-v'>float</span></li></ul></li></ul></li></ul></li><li><label class='ee-shut'>properties: Object (2 properties)<input type='checkbox' class='ee-toggle'></label><ul><li><span class='ee-k'>scale:</span><span class='ee-v'>27.829872698318393</span></li><li><span class='ee-k'>system:index:</span><span class='ee-v'>GLAD_Stable_Tree 2020</span></li></ul></li></ul></li><li><label class='ee-shut'>4: Image (1 band)<input type='checkbox' class='ee-toggle'></label><ul><li><span class='ee-k'>type:</span><span class='ee-v'>Image</span></li><li><label class='ee-shut'>bands: List (1 element)<input type='checkbox' class='ee-toggle'></label><ul><li><label class='ee-shut'>0: \"classification\", float, EPSG:4326<input type='checkbox' class='ee-toggle'></label><ul><li><span class='ee-k'>id:</span><span class='ee-v'>classification</span></li><li><span class='ee-k'>crs:</span><span class='ee-v'>EPSG:4326</span></li><li><label class='ee-shut'>crs_transform: [1, 0, 0, 0, 1, 0]<input type='checkbox' class='ee-toggle'></label><ul><li><span class='ee-k'>0:</span><span class='ee-v'>1</span></li><li><span class='ee-k'>1:</span><span class='ee-v'>0</span></li><li><span class='ee-k'>2:</span><span class='ee-v'>0</span></li><li><span class='ee-k'>3:</span><span class='ee-v'>0</span></li><li><span class='ee-k'>4:</span><span class='ee-v'>1</span></li><li><span class='ee-k'>5:</span><span class='ee-v'>0</span></li></ul></li><li><label class='ee-shut'>data_type: float<input type='checkbox' class='ee-toggle'></label><ul><li><span class='ee-k'>type:</span><span class='ee-v'>PixelType</span></li><li><span class='ee-k'>precision:</span><span class='ee-v'>float</span></li></ul></li></ul></li></ul></li><li><label class='ee-shut'>properties: Object (2 properties)<input type='checkbox' class='ee-toggle'></label><ul><li><span class='ee-k'>scale:</span><span class='ee-v'>10</span></li><li><span class='ee-k'>system:index:</span><span class='ee-v'>Oil_Palm_Descals</span></li></ul></li></ul></li><li><label class='ee-shut'>5: Image (1 band)<input type='checkbox' class='ee-toggle'></label><ul><li><span class='ee-k'>type:</span><span class='ee-v'>Image</span></li><li><label class='ee-shut'>bands: List (1 element)<input type='checkbox' class='ee-toggle'></label><ul><li><label class='ee-shut'>0: \"Date\", float, EPSG:4326<input type='checkbox' class='ee-toggle'></label><ul><li><span class='ee-k'>id:</span><span class='ee-v'>Date</span></li><li><span class='ee-k'>crs:</span><span class='ee-v'>EPSG:4326</span></li><li><label class='ee-shut'>crs_transform: [1, 0, 0, 0, 1, 0]<input type='checkbox' class='ee-toggle'></label><ul><li><span class='ee-k'>0:</span><span class='ee-v'>1</span></li><li><span class='ee-k'>1:</span><span class='ee-v'>0</span></li><li><span class='ee-k'>2:</span><span class='ee-v'>0</span></li><li><span class='ee-k'>3:</span><span class='ee-v'>0</span></li><li><span class='ee-k'>4:</span><span class='ee-v'>1</span></li><li><span class='ee-k'>5:</span><span class='ee-v'>0</span></li></ul></li><li><label class='ee-shut'>data_type: float<input type='checkbox' class='ee-toggle'></label><ul><li><span class='ee-k'>type:</span><span class='ee-v'>PixelType</span></li><li><span class='ee-k'>precision:</span><span class='ee-v'>float</span></li></ul></li></ul></li></ul></li><li><label class='ee-shut'>properties: Object (4 properties)<input type='checkbox' class='ee-toggle'></label><ul><li><span class='ee-k'>alerts_buffer:</span><span class='ee-v'>1</span></li><li><span class='ee-k'>presence_only_flag:</span><span class='ee-v'>1</span></li><li><span class='ee-k'>scale:</span><span class='ee-v'>10</span></li><li><span class='ee-k'>system:index:</span><span class='ee-v'>Local_RADD_alerts</span></li></ul></li></ul></li><li><label class='ee-shut'>6: Image (1 band)<input type='checkbox' class='ee-toggle'></label><ul><li><span class='ee-k'>type:</span><span class='ee-v'>Image</span></li><li><label class='ee-shut'>bands: List (1 element)<input type='checkbox' class='ee-toggle'></label><ul><li><label class='ee-shut'>0: \"min\", float, EPSG:4326<input type='checkbox' class='ee-toggle'></label><ul><li><span class='ee-k'>id:</span><span class='ee-v'>min</span></li><li><span class='ee-k'>crs:</span><span class='ee-v'>EPSG:4326</span></li><li><label class='ee-shut'>crs_transform: [1, 0, 0, 0, 1, 0]<input type='checkbox' class='ee-toggle'></label><ul><li><span class='ee-k'>0:</span><span class='ee-v'>1</span></li><li><span class='ee-k'>1:</span><span class='ee-v'>0</span></li><li><span class='ee-k'>2:</span><span class='ee-v'>0</span></li><li><span class='ee-k'>3:</span><span class='ee-v'>0</span></li><li><span class='ee-k'>4:</span><span class='ee-v'>1</span></li><li><span class='ee-k'>5:</span><span class='ee-v'>0</span></li></ul></li><li><label class='ee-shut'>data_type: float<input type='checkbox' class='ee-toggle'></label><ul><li><span class='ee-k'>type:</span><span class='ee-v'>PixelType</span></li><li><span class='ee-k'>precision:</span><span class='ee-v'>float</span></li></ul></li></ul></li></ul></li><li><label class='ee-shut'>properties: Object (3 properties)<input type='checkbox' class='ee-toggle'></label><ul><li><span class='ee-k'>presence_only_flag:</span><span class='ee-v'>1</span></li><li><span class='ee-k'>scale:</span><span class='ee-v'>27.829872698318393</span></li><li><span class='ee-k'>system:index:</span><span class='ee-v'>Protected_area</span></li></ul></li></ul></li><li><label class='ee-shut'>7: Image (1 band)<input type='checkbox' class='ee-toggle'></label><ul><li><span class='ee-k'>type:</span><span class='ee-v'>Image</span></li><li><label class='ee-shut'>bands: List (1 element)<input type='checkbox' class='ee-toggle'></label><ul><li><label class='ee-shut'>0: \"count\", float, EPSG:4326<input type='checkbox' class='ee-toggle'></label><ul><li><span class='ee-k'>id:</span><span class='ee-v'>count</span></li><li><span class='ee-k'>crs:</span><span class='ee-v'>EPSG:4326</span></li><li><label class='ee-shut'>crs_transform: [1, 0, 0, 0, 1, 0]<input type='checkbox' class='ee-toggle'></label><ul><li><span class='ee-k'>0:</span><span class='ee-v'>1</span></li><li><span class='ee-k'>1:</span><span class='ee-v'>0</span></li><li><span class='ee-k'>2:</span><span class='ee-v'>0</span></li><li><span class='ee-k'>3:</span><span class='ee-v'>0</span></li><li><span class='ee-k'>4:</span><span class='ee-v'>1</span></li><li><span class='ee-k'>5:</span><span class='ee-v'>0</span></li></ul></li><li><label class='ee-shut'>data_type: float<input type='checkbox' class='ee-toggle'></label><ul><li><span class='ee-k'>type:</span><span class='ee-v'>PixelType</span></li><li><span class='ee-k'>precision:</span><span class='ee-v'>float</span></li></ul></li></ul></li></ul></li><li><label class='ee-shut'>properties: Object (3 properties)<input type='checkbox' class='ee-toggle'></label><ul><li><span class='ee-k'>presence_only_flag:</span><span class='ee-v'>1</span></li><li><span class='ee-k'>scale:</span><span class='ee-v'>27.829872698318393</span></li><li><span class='ee-k'>system:index:</span><span class='ee-v'>Key_Biodiversity_Area</span></li></ul></li></ul></li><li><label class='ee-shut'>8: Image (1 band)<input type='checkbox' class='ee-toggle'></label><ul><li><span class='ee-k'>type:</span><span class='ee-v'>Image</span></li><li><label class='ee-shut'>bands: List (1 element)<input type='checkbox' class='ee-toggle'></label><ul><li><label class='ee-shut'>0: \"Primary_HT_forests\", float, EPSG:4326<input type='checkbox' class='ee-toggle'></label><ul><li><span class='ee-k'>id:</span><span class='ee-v'>Primary_HT_forests</span></li><li><span class='ee-k'>crs:</span><span class='ee-v'>EPSG:4326</span></li><li><label class='ee-shut'>crs_transform: [1, 0, 0, 0, 1, 0]<input type='checkbox' class='ee-toggle'></label><ul><li><span class='ee-k'>0:</span><span class='ee-v'>1</span></li><li><span class='ee-k'>1:</span><span class='ee-v'>0</span></li><li><span class='ee-k'>2:</span><span class='ee-v'>0</span></li><li><span class='ee-k'>3:</span><span class='ee-v'>0</span></li><li><span class='ee-k'>4:</span><span class='ee-v'>1</span></li><li><span class='ee-k'>5:</span><span class='ee-v'>0</span></li></ul></li><li><label class='ee-shut'>data_type: float<input type='checkbox' class='ee-toggle'></label><ul><li><span class='ee-k'>type:</span><span class='ee-v'>PixelType</span></li><li><span class='ee-k'>precision:</span><span class='ee-v'>float</span></li></ul></li></ul></li></ul></li><li><label class='ee-shut'>properties: Object (2 properties)<input type='checkbox' class='ee-toggle'></label><ul><li><span class='ee-k'>scale:</span><span class='ee-v'>27.829872698318393</span></li><li><span class='ee-k'>system:index:</span><span class='ee-v'>Primary_HT_forests_2020</span></li></ul></li></ul></li><li><label class='ee-shut'>9: Image (1 band)<input type='checkbox' class='ee-toggle'></label><ul><li><span class='ee-k'>type:</span><span class='ee-v'>Image</span></li><li><label class='ee-shut'>bands: List (1 element)<input type='checkbox' class='ee-toggle'></label><ul><li><label class='ee-shut'>0: \"fnf\", float, EPSG:4326<input type='checkbox' class='ee-toggle'></label><ul><li><span class='ee-k'>id:</span><span class='ee-v'>fnf</span></li><li><span class='ee-k'>crs:</span><span class='ee-v'>EPSG:4326</span></li><li><label class='ee-shut'>crs_transform: [1, 0, 0, 0, 1, 0]<input type='checkbox' class='ee-toggle'></label><ul><li><span class='ee-k'>0:</span><span class='ee-v'>1</span></li><li><span class='ee-k'>1:</span><span class='ee-v'>0</span></li><li><span class='ee-k'>2:</span><span class='ee-v'>0</span></li><li><span class='ee-k'>3:</span><span class='ee-v'>0</span></li><li><span class='ee-k'>4:</span><span class='ee-v'>1</span></li><li><span class='ee-k'>5:</span><span class='ee-v'>0</span></li></ul></li><li><label class='ee-shut'>data_type: float<input type='checkbox' class='ee-toggle'></label><ul><li><span class='ee-k'>type:</span><span class='ee-v'>PixelType</span></li><li><span class='ee-k'>precision:</span><span class='ee-v'>float</span></li></ul></li></ul></li></ul></li><li><label class='ee-shut'>properties: Object (2 properties)<input type='checkbox' class='ee-toggle'></label><ul><li><span class='ee-k'>scale:</span><span class='ee-v'>24.73766462072746</span></li><li><span class='ee-k'>system:index:</span><span class='ee-v'>JAXA_Forest_non_forest_2020</span></li></ul></li></ul></li></ul></li></ul></li></ul></div><script>function toggleHeader() {\n",
       "    const parent = this.parentElement;\n",
       "    parent.className = parent.className === \"ee-open\" ? \"ee-shut\" : \"ee-open\";\n",
       "}\n",
       "\n",
       "for (let c of document.getElementsByClassName(\"ee-toggle\")) {\n",
       "    c.onclick = toggleHeader;\n",
       "}</script></div>"
      ],
      "text/plain": [
       "<ee.imagecollection.ImageCollection at 0x7fb6f0f3d3a0>"
      ]
     },
     "execution_count": 180,
     "metadata": {},
     "output_type": "execute_result"
    }
   ],
   "source": [
    "image_names_dict0 = {\"GFC_Treecover_2020\":gfc_treeCover_2020_area_km2,\n",
    "               \"TMF_undisturbed_forest_2020\":JRC_TMF_undisturbed_2020_area_km2,\n",
    "                \"ESRI_Trees_2020\":esri_trees_2020_area_km2,\n",
    "                \"GLAD_Stable_Tree 2020\":glad_stable_tree_2020_area_km2,\n",
    "                \"Oil_Palm_Descals\": oil_palm_descals_binary_area_km2,\n",
    "                \"Local_RADD_alerts\":latest_radd_alert_confirmed_recent_area_km2,\n",
    "                \"Protected_area\":protected_areas_WDPA_area_km2,\n",
    "                \"Key_Biodiversity_Area\": kba_2023_area_km2,\n",
    "                  \"Primary_HT_forests_2020\": primary_HT_forests_2020_area_km2,\n",
    "                   \"JAXA_Forest_non_forest_2020\":JAXA_forestNonForest_2020_area_km2\n",
    "              }\n",
    "\n",
    "## can be cleaned up...\n",
    "\n",
    "#create empty dictionary to be populated\n",
    "image_names_dict={} \n",
    "    \n",
    "#set image names (\"system:index\") from keys in dictionary, and store as new one\n",
    "for i in range(len(image_names_dict0)):\n",
    "    dataset_name = (list(image_names_dict0.keys())[i]) #get dataset name\n",
    "    image = (list(image_names_dict0.values())[i]) #get image\n",
    "    updated_image=image.set(\"system:index\",dataset_name) #set dataset name as image name i.e., \"system:index\"\n",
    "    instance={dataset_name:updated_image} #combine\n",
    "    image_names_dict.update(instance) #update into new dictionary\n",
    "\n",
    "del image_names_dict0 # remove old dictionary\n",
    "\n",
    "#make into a new image collection\n",
    "images_IC = ee.ImageCollection(list(image_names_dict.values()))\n",
    "                      \n",
    "##checks\n",
    "print (\"number of images: \",len(image_names_dict))\n",
    "\n",
    "images_IC"
   ]
  },
  {
   "cell_type": "markdown",
   "id": "874274c3-15af-4aca-b407-f7683f883878",
   "metadata": {},
   "source": [
    "#### Compute statistics"
   ]
  },
  {
   "cell_type": "markdown",
   "id": "e7f19d47-119d-4df0-b156-cdc2ab2e3e69",
   "metadata": {},
   "source": [
    "Calculating zonal statistics for continuous data (e.g tree cover) within polygon(s)\n",
    "\n",
    "step 1: save as combined CSV in long format NB needs speeding up e.g., reduceRegions and dataframes"
   ]
  },
  {
   "cell_type": "code",
   "execution_count": 192,
   "id": "4b9cbfcd-fc1f-4516-b455-e2d88c4b7461",
   "metadata": {
    "tags": []
   },
   "outputs": [
    {
     "name": "stdout",
     "output_type": "stream",
     "text": [
      "processing stats...\n",
      "Total execution time: 4.624518156051636 seconds\n"
     ]
    },
    {
     "data": {
      "text/html": [
       "<div>\n",
       "<style scoped>\n",
       "    .dataframe tbody tr th:only-of-type {\n",
       "        vertical-align: middle;\n",
       "    }\n",
       "\n",
       "    .dataframe tbody tr th {\n",
       "        vertical-align: top;\n",
       "    }\n",
       "\n",
       "    .dataframe thead th {\n",
       "        text-align: right;\n",
       "    }\n",
       "</style>\n",
       "<table border=\"1\" class=\"dataframe\">\n",
       "  <thead>\n",
       "    <tr style=\"text-align: right;\">\n",
       "      <th></th>\n",
       "      <th>dataset_name</th>\n",
       "      <th>sum</th>\n",
       "      <th>count</th>\n",
       "      <th>Geo_id</th>\n",
       "      <th>Geometry_area_km2</th>\n",
       "    </tr>\n",
       "  </thead>\n",
       "  <tbody>\n",
       "    <tr>\n",
       "      <th>0</th>\n",
       "      <td>GFC_Treecover_2020</td>\n",
       "      <td>0.129839</td>\n",
       "      <td>946</td>\n",
       "      <td>0</td>\n",
       "      <td>0.684923</td>\n",
       "    </tr>\n",
       "    <tr>\n",
       "      <th>1</th>\n",
       "      <td>GFC_Treecover_2020</td>\n",
       "      <td>0.666981</td>\n",
       "      <td>949</td>\n",
       "      <td>1</td>\n",
       "      <td>0.684923</td>\n",
       "    </tr>\n",
       "    <tr>\n",
       "      <th>2</th>\n",
       "      <td>GFC_Treecover_2020</td>\n",
       "      <td>0.464474</td>\n",
       "      <td>952</td>\n",
       "      <td>2</td>\n",
       "      <td>0.684923</td>\n",
       "    </tr>\n",
       "    <tr>\n",
       "      <th>3</th>\n",
       "      <td>GFC_Treecover_2020</td>\n",
       "      <td>0.681785</td>\n",
       "      <td>952</td>\n",
       "      <td>3</td>\n",
       "      <td>0.684923</td>\n",
       "    </tr>\n",
       "    <tr>\n",
       "      <th>4</th>\n",
       "      <td>GFC_Treecover_2020</td>\n",
       "      <td>0.669723</td>\n",
       "      <td>957</td>\n",
       "      <td>4</td>\n",
       "      <td>0.684923</td>\n",
       "    </tr>\n",
       "    <tr>\n",
       "      <th>...</th>\n",
       "      <td>...</td>\n",
       "      <td>...</td>\n",
       "      <td>...</td>\n",
       "      <td>...</td>\n",
       "      <td>...</td>\n",
       "    </tr>\n",
       "    <tr>\n",
       "      <th>295</th>\n",
       "      <td>Local_RADD_alerts</td>\n",
       "      <td>0.000000</td>\n",
       "      <td>0</td>\n",
       "      <td>25</td>\n",
       "      <td>0.684923</td>\n",
       "    </tr>\n",
       "    <tr>\n",
       "      <th>296</th>\n",
       "      <td>Local_RADD_alerts</td>\n",
       "      <td>0.000000</td>\n",
       "      <td>0</td>\n",
       "      <td>26</td>\n",
       "      <td>0.684923</td>\n",
       "    </tr>\n",
       "    <tr>\n",
       "      <th>297</th>\n",
       "      <td>Local_RADD_alerts</td>\n",
       "      <td>0.000000</td>\n",
       "      <td>0</td>\n",
       "      <td>27</td>\n",
       "      <td>0.684923</td>\n",
       "    </tr>\n",
       "    <tr>\n",
       "      <th>298</th>\n",
       "      <td>Local_RADD_alerts</td>\n",
       "      <td>0.000000</td>\n",
       "      <td>0</td>\n",
       "      <td>28</td>\n",
       "      <td>0.684923</td>\n",
       "    </tr>\n",
       "    <tr>\n",
       "      <th>299</th>\n",
       "      <td>Local_RADD_alerts</td>\n",
       "      <td>0.406069</td>\n",
       "      <td>4105</td>\n",
       "      <td>29</td>\n",
       "      <td>0.684923</td>\n",
       "    </tr>\n",
       "  </tbody>\n",
       "</table>\n",
       "<p>300 rows × 5 columns</p>\n",
       "</div>"
      ],
      "text/plain": [
       "           dataset_name       sum  count Geo_id  Geometry_area_km2\n",
       "0    GFC_Treecover_2020  0.129839    946      0           0.684923\n",
       "1    GFC_Treecover_2020  0.666981    949      1           0.684923\n",
       "2    GFC_Treecover_2020  0.464474    952      2           0.684923\n",
       "3    GFC_Treecover_2020  0.681785    952      3           0.684923\n",
       "4    GFC_Treecover_2020  0.669723    957      4           0.684923\n",
       "..                  ...       ...    ...    ...                ...\n",
       "295   Local_RADD_alerts  0.000000      0     25           0.684923\n",
       "296   Local_RADD_alerts  0.000000      0     26           0.684923\n",
       "297   Local_RADD_alerts  0.000000      0     27           0.684923\n",
       "298   Local_RADD_alerts  0.000000      0     28           0.684923\n",
       "299   Local_RADD_alerts  0.406069   4105     29           0.684923\n",
       "\n",
       "[300 rows x 5 columns]"
      ]
     },
     "execution_count": 192,
     "metadata": {},
     "output_type": "execute_result"
    }
   ],
   "source": [
    "# get the start time\n",
    "st = time.time()\n",
    "print (\"processing stats...\")\n",
    "\n",
    "\n",
    "#get stats for roi (except alerts)\n",
    "fc_stats_combined = area_stats.reduceStatsIC(roi,\n",
    "                                  images_IC.filter(ee.Filter.neq(\"alerts_buffer\",1)),\n",
    "                                  reducer_choice)# all but alerts\n",
    "#get stat for buffer (alerts only)\n",
    "fc_stats_combined_buffer = area_stats.reduceStatsIC(roi_alerts_buffer,\n",
    "                                         images_IC.filter(ee.Filter.eq(\"alerts_buffer\",1)),\n",
    "                                         reducer_choice) #alerts only\n",
    "\n",
    "#combine stats from roi and buffer\n",
    "fc_stats_combined_all = fc_stats_combined.merge(fc_stats_combined_buffer) # combining alerts with others into one feature collection\n",
    "\n",
    "\n",
    "# convert to Pandas Dataframe\n",
    "df_combined = geemap.ee_to_pandas(fc_stats_combined_all) # limit of 5000 (unlikely to need more but i have code for it if needed)\n",
    "\n",
    "# export dataframe to csv\n",
    "df_combined.to_csv(path_or_buf=out_file_long,header=True,index=False)\n",
    "\n",
    "# get the execution time\n",
    "elapsed_time = time.time() - st\n",
    "\n",
    "print('Total execution time:', elapsed_time, 'seconds')\n",
    "\n",
    "#checks\n",
    "df_combined"
   ]
  },
  {
   "cell_type": "markdown",
   "id": "4ebb5856-0a96-4399-ab5c-341c84eb3132",
   "metadata": {},
   "source": [
    "##### Reformat\n",
    "- long to wide\n",
    "- convert to proportions \n",
    "- set presence only flags"
   ]
  },
  {
   "cell_type": "code",
   "execution_count": 193,
   "id": "98f4b376-8375-4670-8cb0-c9aaf96fa407",
   "metadata": {
    "tags": []
   },
   "outputs": [
    {
     "name": "stdout",
     "output_type": "stream",
     "text": [
      "output csv:  /home/sepal-user/fdap/stats_wide_format_continuous_data.csv\n"
     ]
    },
    {
     "data": {
      "text/html": [
       "<div>\n",
       "<style scoped>\n",
       "    .dataframe tbody tr th:only-of-type {\n",
       "        vertical-align: middle;\n",
       "    }\n",
       "\n",
       "    .dataframe tbody tr th {\n",
       "        vertical-align: top;\n",
       "    }\n",
       "\n",
       "    .dataframe thead th {\n",
       "        text-align: right;\n",
       "    }\n",
       "</style>\n",
       "<table border=\"1\" class=\"dataframe\">\n",
       "  <thead>\n",
       "    <tr style=\"text-align: right;\">\n",
       "      <th></th>\n",
       "      <th>ESRI Trees 2020</th>\n",
       "      <th>GFC Treecover 2020</th>\n",
       "      <th>GLAD Stable Tree 2020</th>\n",
       "      <th>JAXA Forest non forest 2020</th>\n",
       "      <th>Key Biodiversity Area</th>\n",
       "      <th>Local RADD alerts</th>\n",
       "      <th>Oil Palm Descals</th>\n",
       "      <th>Primary HT forests 2020</th>\n",
       "      <th>Protected area</th>\n",
       "      <th>TMF undisturbed forest 2020</th>\n",
       "    </tr>\n",
       "    <tr>\n",
       "      <th>Geo_id</th>\n",
       "      <th></th>\n",
       "      <th></th>\n",
       "      <th></th>\n",
       "      <th></th>\n",
       "      <th></th>\n",
       "      <th></th>\n",
       "      <th></th>\n",
       "      <th></th>\n",
       "      <th></th>\n",
       "      <th></th>\n",
       "    </tr>\n",
       "  </thead>\n",
       "  <tbody>\n",
       "    <tr>\n",
       "      <th>0</th>\n",
       "      <td>1.00</td>\n",
       "      <td>0.19</td>\n",
       "      <td>0.99</td>\n",
       "      <td>0.00</td>\n",
       "      <td>-</td>\n",
       "      <td>-</td>\n",
       "      <td>0.99</td>\n",
       "      <td>0.00</td>\n",
       "      <td>-</td>\n",
       "      <td>0.00</td>\n",
       "    </tr>\n",
       "    <tr>\n",
       "      <th>1</th>\n",
       "      <td>1.00</td>\n",
       "      <td>0.97</td>\n",
       "      <td>1.00</td>\n",
       "      <td>0.98</td>\n",
       "      <td>True</td>\n",
       "      <td>True</td>\n",
       "      <td>0.00</td>\n",
       "      <td>0.70</td>\n",
       "      <td>-</td>\n",
       "      <td>0.70</td>\n",
       "    </tr>\n",
       "    <tr>\n",
       "      <th>10</th>\n",
       "      <td>1.00</td>\n",
       "      <td>0.98</td>\n",
       "      <td>1.00</td>\n",
       "      <td>0.85</td>\n",
       "      <td>True</td>\n",
       "      <td>True</td>\n",
       "      <td>0.00</td>\n",
       "      <td>0.96</td>\n",
       "      <td>True</td>\n",
       "      <td>0.93</td>\n",
       "    </tr>\n",
       "    <tr>\n",
       "      <th>11</th>\n",
       "      <td>0.96</td>\n",
       "      <td>0.76</td>\n",
       "      <td>0.93</td>\n",
       "      <td>0.00</td>\n",
       "      <td>-</td>\n",
       "      <td>-</td>\n",
       "      <td>0.67</td>\n",
       "      <td>0.00</td>\n",
       "      <td>-</td>\n",
       "      <td>0.00</td>\n",
       "    </tr>\n",
       "    <tr>\n",
       "      <th>12</th>\n",
       "      <td>0.94</td>\n",
       "      <td>0.50</td>\n",
       "      <td>0.94</td>\n",
       "      <td>0.06</td>\n",
       "      <td>-</td>\n",
       "      <td>True</td>\n",
       "      <td>0.59</td>\n",
       "      <td>0.00</td>\n",
       "      <td>-</td>\n",
       "      <td>0.00</td>\n",
       "    </tr>\n",
       "    <tr>\n",
       "      <th>13</th>\n",
       "      <td>0.00</td>\n",
       "      <td>0.06</td>\n",
       "      <td>0.77</td>\n",
       "      <td>0.00</td>\n",
       "      <td>-</td>\n",
       "      <td>-</td>\n",
       "      <td>1.00</td>\n",
       "      <td>0.06</td>\n",
       "      <td>-</td>\n",
       "      <td>0.00</td>\n",
       "    </tr>\n",
       "    <tr>\n",
       "      <th>14</th>\n",
       "      <td>1.00</td>\n",
       "      <td>1.00</td>\n",
       "      <td>1.00</td>\n",
       "      <td>0.98</td>\n",
       "      <td>-</td>\n",
       "      <td>True</td>\n",
       "      <td>0.00</td>\n",
       "      <td>1.00</td>\n",
       "      <td>True</td>\n",
       "      <td>0.99</td>\n",
       "    </tr>\n",
       "    <tr>\n",
       "      <th>15</th>\n",
       "      <td>1.00</td>\n",
       "      <td>0.96</td>\n",
       "      <td>1.00</td>\n",
       "      <td>1.00</td>\n",
       "      <td>True</td>\n",
       "      <td>True</td>\n",
       "      <td>0.00</td>\n",
       "      <td>0.94</td>\n",
       "      <td>True</td>\n",
       "      <td>0.91</td>\n",
       "    </tr>\n",
       "    <tr>\n",
       "      <th>16</th>\n",
       "      <td>1.00</td>\n",
       "      <td>0.90</td>\n",
       "      <td>0.99</td>\n",
       "      <td>0.38</td>\n",
       "      <td>-</td>\n",
       "      <td>-</td>\n",
       "      <td>0.00</td>\n",
       "      <td>0.00</td>\n",
       "      <td>-</td>\n",
       "      <td>0.01</td>\n",
       "    </tr>\n",
       "    <tr>\n",
       "      <th>17</th>\n",
       "      <td>1.00</td>\n",
       "      <td>1.00</td>\n",
       "      <td>1.00</td>\n",
       "      <td>0.98</td>\n",
       "      <td>True</td>\n",
       "      <td>True</td>\n",
       "      <td>0.00</td>\n",
       "      <td>0.99</td>\n",
       "      <td>True</td>\n",
       "      <td>0.99</td>\n",
       "    </tr>\n",
       "    <tr>\n",
       "      <th>18</th>\n",
       "      <td>0.00</td>\n",
       "      <td>0.00</td>\n",
       "      <td>0.52</td>\n",
       "      <td>0.00</td>\n",
       "      <td>-</td>\n",
       "      <td>True</td>\n",
       "      <td>0.83</td>\n",
       "      <td>0.00</td>\n",
       "      <td>-</td>\n",
       "      <td>0.00</td>\n",
       "    </tr>\n",
       "    <tr>\n",
       "      <th>19</th>\n",
       "      <td>1.00</td>\n",
       "      <td>0.29</td>\n",
       "      <td>0.98</td>\n",
       "      <td>0.04</td>\n",
       "      <td>-</td>\n",
       "      <td>-</td>\n",
       "      <td>0.94</td>\n",
       "      <td>0.00</td>\n",
       "      <td>-</td>\n",
       "      <td>0.00</td>\n",
       "    </tr>\n",
       "    <tr>\n",
       "      <th>2</th>\n",
       "      <td>1.00</td>\n",
       "      <td>0.68</td>\n",
       "      <td>0.99</td>\n",
       "      <td>0.00</td>\n",
       "      <td>-</td>\n",
       "      <td>-</td>\n",
       "      <td>1.00</td>\n",
       "      <td>0.00</td>\n",
       "      <td>-</td>\n",
       "      <td>0.00</td>\n",
       "    </tr>\n",
       "    <tr>\n",
       "      <th>20</th>\n",
       "      <td>0.95</td>\n",
       "      <td>0.56</td>\n",
       "      <td>0.97</td>\n",
       "      <td>0.48</td>\n",
       "      <td>-</td>\n",
       "      <td>True</td>\n",
       "      <td>0.26</td>\n",
       "      <td>0.00</td>\n",
       "      <td>-</td>\n",
       "      <td>0.02</td>\n",
       "    </tr>\n",
       "    <tr>\n",
       "      <th>21</th>\n",
       "      <td>1.00</td>\n",
       "      <td>0.43</td>\n",
       "      <td>0.98</td>\n",
       "      <td>0.54</td>\n",
       "      <td>-</td>\n",
       "      <td>True</td>\n",
       "      <td>0.14</td>\n",
       "      <td>0.00</td>\n",
       "      <td>-</td>\n",
       "      <td>0.11</td>\n",
       "    </tr>\n",
       "    <tr>\n",
       "      <th>22</th>\n",
       "      <td>1.00</td>\n",
       "      <td>0.66</td>\n",
       "      <td>0.62</td>\n",
       "      <td>0.00</td>\n",
       "      <td>-</td>\n",
       "      <td>-</td>\n",
       "      <td>0.36</td>\n",
       "      <td>0.00</td>\n",
       "      <td>-</td>\n",
       "      <td>0.00</td>\n",
       "    </tr>\n",
       "    <tr>\n",
       "      <th>23</th>\n",
       "      <td>0.00</td>\n",
       "      <td>0.03</td>\n",
       "      <td>0.03</td>\n",
       "      <td>0.01</td>\n",
       "      <td>-</td>\n",
       "      <td>-</td>\n",
       "      <td>0.06</td>\n",
       "      <td>0.00</td>\n",
       "      <td>-</td>\n",
       "      <td>0.02</td>\n",
       "    </tr>\n",
       "    <tr>\n",
       "      <th>24</th>\n",
       "      <td>0.89</td>\n",
       "      <td>0.78</td>\n",
       "      <td>0.87</td>\n",
       "      <td>0.00</td>\n",
       "      <td>-</td>\n",
       "      <td>-</td>\n",
       "      <td>0.34</td>\n",
       "      <td>0.00</td>\n",
       "      <td>-</td>\n",
       "      <td>0.00</td>\n",
       "    </tr>\n",
       "    <tr>\n",
       "      <th>25</th>\n",
       "      <td>0.89</td>\n",
       "      <td>0.81</td>\n",
       "      <td>0.78</td>\n",
       "      <td>0.15</td>\n",
       "      <td>True</td>\n",
       "      <td>-</td>\n",
       "      <td>0.00</td>\n",
       "      <td>0.00</td>\n",
       "      <td>True</td>\n",
       "      <td>0.00</td>\n",
       "    </tr>\n",
       "    <tr>\n",
       "      <th>26</th>\n",
       "      <td>1.00</td>\n",
       "      <td>0.35</td>\n",
       "      <td>0.99</td>\n",
       "      <td>0.18</td>\n",
       "      <td>-</td>\n",
       "      <td>-</td>\n",
       "      <td>0.71</td>\n",
       "      <td>0.00</td>\n",
       "      <td>-</td>\n",
       "      <td>0.00</td>\n",
       "    </tr>\n",
       "    <tr>\n",
       "      <th>27</th>\n",
       "      <td>1.00</td>\n",
       "      <td>0.95</td>\n",
       "      <td>1.00</td>\n",
       "      <td>0.96</td>\n",
       "      <td>-</td>\n",
       "      <td>-</td>\n",
       "      <td>0.00</td>\n",
       "      <td>0.00</td>\n",
       "      <td>-</td>\n",
       "      <td>0.39</td>\n",
       "    </tr>\n",
       "    <tr>\n",
       "      <th>28</th>\n",
       "      <td>1.00</td>\n",
       "      <td>0.36</td>\n",
       "      <td>1.00</td>\n",
       "      <td>0.06</td>\n",
       "      <td>-</td>\n",
       "      <td>-</td>\n",
       "      <td>0.98</td>\n",
       "      <td>0.00</td>\n",
       "      <td>-</td>\n",
       "      <td>0.00</td>\n",
       "    </tr>\n",
       "    <tr>\n",
       "      <th>29</th>\n",
       "      <td>1.00</td>\n",
       "      <td>0.99</td>\n",
       "      <td>1.00</td>\n",
       "      <td>0.99</td>\n",
       "      <td>-</td>\n",
       "      <td>True</td>\n",
       "      <td>0.00</td>\n",
       "      <td>0.99</td>\n",
       "      <td>True</td>\n",
       "      <td>0.99</td>\n",
       "    </tr>\n",
       "    <tr>\n",
       "      <th>3</th>\n",
       "      <td>1.00</td>\n",
       "      <td>1.00</td>\n",
       "      <td>1.00</td>\n",
       "      <td>0.98</td>\n",
       "      <td>-</td>\n",
       "      <td>True</td>\n",
       "      <td>0.00</td>\n",
       "      <td>0.89</td>\n",
       "      <td>-</td>\n",
       "      <td>0.97</td>\n",
       "    </tr>\n",
       "    <tr>\n",
       "      <th>4</th>\n",
       "      <td>1.00</td>\n",
       "      <td>0.98</td>\n",
       "      <td>1.00</td>\n",
       "      <td>1.00</td>\n",
       "      <td>-</td>\n",
       "      <td>True</td>\n",
       "      <td>0.00</td>\n",
       "      <td>0.97</td>\n",
       "      <td>-</td>\n",
       "      <td>0.95</td>\n",
       "    </tr>\n",
       "    <tr>\n",
       "      <th>5</th>\n",
       "      <td>1.00</td>\n",
       "      <td>0.76</td>\n",
       "      <td>1.00</td>\n",
       "      <td>1.00</td>\n",
       "      <td>-</td>\n",
       "      <td>True</td>\n",
       "      <td>0.00</td>\n",
       "      <td>0.47</td>\n",
       "      <td>-</td>\n",
       "      <td>0.42</td>\n",
       "    </tr>\n",
       "    <tr>\n",
       "      <th>6</th>\n",
       "      <td>0.70</td>\n",
       "      <td>0.45</td>\n",
       "      <td>0.72</td>\n",
       "      <td>0.26</td>\n",
       "      <td>-</td>\n",
       "      <td>-</td>\n",
       "      <td>0.26</td>\n",
       "      <td>0.00</td>\n",
       "      <td>-</td>\n",
       "      <td>0.00</td>\n",
       "    </tr>\n",
       "    <tr>\n",
       "      <th>7</th>\n",
       "      <td>1.00</td>\n",
       "      <td>0.99</td>\n",
       "      <td>1.00</td>\n",
       "      <td>0.99</td>\n",
       "      <td>-</td>\n",
       "      <td>True</td>\n",
       "      <td>0.00</td>\n",
       "      <td>0.99</td>\n",
       "      <td>-</td>\n",
       "      <td>0.99</td>\n",
       "    </tr>\n",
       "    <tr>\n",
       "      <th>8</th>\n",
       "      <td>0.97</td>\n",
       "      <td>0.28</td>\n",
       "      <td>0.95</td>\n",
       "      <td>0.02</td>\n",
       "      <td>-</td>\n",
       "      <td>-</td>\n",
       "      <td>0.98</td>\n",
       "      <td>0.00</td>\n",
       "      <td>-</td>\n",
       "      <td>0.00</td>\n",
       "    </tr>\n",
       "    <tr>\n",
       "      <th>9</th>\n",
       "      <td>0.67</td>\n",
       "      <td>0.77</td>\n",
       "      <td>0.72</td>\n",
       "      <td>0.01</td>\n",
       "      <td>-</td>\n",
       "      <td>-</td>\n",
       "      <td>0.00</td>\n",
       "      <td>0.37</td>\n",
       "      <td>-</td>\n",
       "      <td>0.76</td>\n",
       "    </tr>\n",
       "  </tbody>\n",
       "</table>\n",
       "</div>"
      ],
      "text/plain": [
       "        ESRI Trees 2020  GFC Treecover 2020  GLAD Stable Tree 2020  \\\n",
       "Geo_id                                                               \n",
       "0                  1.00                0.19                   0.99   \n",
       "1                  1.00                0.97                   1.00   \n",
       "10                 1.00                0.98                   1.00   \n",
       "11                 0.96                0.76                   0.93   \n",
       "12                 0.94                0.50                   0.94   \n",
       "13                 0.00                0.06                   0.77   \n",
       "14                 1.00                1.00                   1.00   \n",
       "15                 1.00                0.96                   1.00   \n",
       "16                 1.00                0.90                   0.99   \n",
       "17                 1.00                1.00                   1.00   \n",
       "18                 0.00                0.00                   0.52   \n",
       "19                 1.00                0.29                   0.98   \n",
       "2                  1.00                0.68                   0.99   \n",
       "20                 0.95                0.56                   0.97   \n",
       "21                 1.00                0.43                   0.98   \n",
       "22                 1.00                0.66                   0.62   \n",
       "23                 0.00                0.03                   0.03   \n",
       "24                 0.89                0.78                   0.87   \n",
       "25                 0.89                0.81                   0.78   \n",
       "26                 1.00                0.35                   0.99   \n",
       "27                 1.00                0.95                   1.00   \n",
       "28                 1.00                0.36                   1.00   \n",
       "29                 1.00                0.99                   1.00   \n",
       "3                  1.00                1.00                   1.00   \n",
       "4                  1.00                0.98                   1.00   \n",
       "5                  1.00                0.76                   1.00   \n",
       "6                  0.70                0.45                   0.72   \n",
       "7                  1.00                0.99                   1.00   \n",
       "8                  0.97                0.28                   0.95   \n",
       "9                  0.67                0.77                   0.72   \n",
       "\n",
       "        JAXA Forest non forest 2020 Key Biodiversity Area Local RADD alerts  \\\n",
       "Geo_id                                                                        \n",
       "0                              0.00                     -                 -   \n",
       "1                              0.98                  True              True   \n",
       "10                             0.85                  True              True   \n",
       "11                             0.00                     -                 -   \n",
       "12                             0.06                     -              True   \n",
       "13                             0.00                     -                 -   \n",
       "14                             0.98                     -              True   \n",
       "15                             1.00                  True              True   \n",
       "16                             0.38                     -                 -   \n",
       "17                             0.98                  True              True   \n",
       "18                             0.00                     -              True   \n",
       "19                             0.04                     -                 -   \n",
       "2                              0.00                     -                 -   \n",
       "20                             0.48                     -              True   \n",
       "21                             0.54                     -              True   \n",
       "22                             0.00                     -                 -   \n",
       "23                             0.01                     -                 -   \n",
       "24                             0.00                     -                 -   \n",
       "25                             0.15                  True                 -   \n",
       "26                             0.18                     -                 -   \n",
       "27                             0.96                     -                 -   \n",
       "28                             0.06                     -                 -   \n",
       "29                             0.99                     -              True   \n",
       "3                              0.98                     -              True   \n",
       "4                              1.00                     -              True   \n",
       "5                              1.00                     -              True   \n",
       "6                              0.26                     -                 -   \n",
       "7                              0.99                     -              True   \n",
       "8                              0.02                     -                 -   \n",
       "9                              0.01                     -                 -   \n",
       "\n",
       "        Oil Palm Descals  Primary HT forests 2020 Protected area  \\\n",
       "Geo_id                                                             \n",
       "0                   0.99                     0.00              -   \n",
       "1                   0.00                     0.70              -   \n",
       "10                  0.00                     0.96           True   \n",
       "11                  0.67                     0.00              -   \n",
       "12                  0.59                     0.00              -   \n",
       "13                  1.00                     0.06              -   \n",
       "14                  0.00                     1.00           True   \n",
       "15                  0.00                     0.94           True   \n",
       "16                  0.00                     0.00              -   \n",
       "17                  0.00                     0.99           True   \n",
       "18                  0.83                     0.00              -   \n",
       "19                  0.94                     0.00              -   \n",
       "2                   1.00                     0.00              -   \n",
       "20                  0.26                     0.00              -   \n",
       "21                  0.14                     0.00              -   \n",
       "22                  0.36                     0.00              -   \n",
       "23                  0.06                     0.00              -   \n",
       "24                  0.34                     0.00              -   \n",
       "25                  0.00                     0.00           True   \n",
       "26                  0.71                     0.00              -   \n",
       "27                  0.00                     0.00              -   \n",
       "28                  0.98                     0.00              -   \n",
       "29                  0.00                     0.99           True   \n",
       "3                   0.00                     0.89              -   \n",
       "4                   0.00                     0.97              -   \n",
       "5                   0.00                     0.47              -   \n",
       "6                   0.26                     0.00              -   \n",
       "7                   0.00                     0.99              -   \n",
       "8                   0.98                     0.00              -   \n",
       "9                   0.00                     0.37              -   \n",
       "\n",
       "        TMF undisturbed forest 2020  \n",
       "Geo_id                               \n",
       "0                              0.00  \n",
       "1                              0.70  \n",
       "10                             0.93  \n",
       "11                             0.00  \n",
       "12                             0.00  \n",
       "13                             0.00  \n",
       "14                             0.99  \n",
       "15                             0.91  \n",
       "16                             0.01  \n",
       "17                             0.99  \n",
       "18                             0.00  \n",
       "19                             0.00  \n",
       "2                              0.00  \n",
       "20                             0.02  \n",
       "21                             0.11  \n",
       "22                             0.00  \n",
       "23                             0.02  \n",
       "24                             0.00  \n",
       "25                             0.00  \n",
       "26                             0.00  \n",
       "27                             0.39  \n",
       "28                             0.00  \n",
       "29                             0.99  \n",
       "3                              0.97  \n",
       "4                              0.95  \n",
       "5                              0.42  \n",
       "6                              0.00  \n",
       "7                              0.99  \n",
       "8                              0.00  \n",
       "9                              0.76  "
      ]
     },
     "execution_count": 193,
     "metadata": {},
     "output_type": "execute_result"
    }
   ],
   "source": [
    "#add proprtion column\n",
    "df_combined[\"proportion\"] = (df_combined[\"sum\"]/df_combined[geometry_area_column])\n",
    "\n",
    "#convert to wide format (one row per geo_id)\n",
    "df_wide_format = df_combined.pivot_table(index=[geo_id_column],columns=['dataset_name'],values=['proportion'])\n",
    "\n",
    "#tidy unwanted headers etc\n",
    "tidy_dataframe_after_pivot(df_wide_format) #runs in place so no need to assign\n",
    "\n",
    "#list images with with presence_only_flag property \n",
    "flag_list = images_IC.filter(ee.Filter.eq(\"presence_only_flag\",1)).aggregate_array(\"system:index\").getInfo()\n",
    "\n",
    "#convert pos results values to \"True\" for specific columns\n",
    "for column in flag_list: \n",
    "    df_wide_format[column]=np.where(df_wide_format[column]>0,\"True\",\"-\")\n",
    "\n",
    "#tidy output - decimal places\n",
    "df_wide_format = df_wide_format.round(decimals=2, out=None)\n",
    "\n",
    "#tidy (i.e. remove underscores)\n",
    "df_wide_format.columns = df_wide_format.columns.str.replace('_', ' ')\n",
    "\n",
    "#export wide format csv\n",
    "df_wide_format.to_csv(path_or_buf=out_file_wide,header=True)\n",
    "\n",
    "print (\"output csv: \", out_file_wide)\n",
    "\n",
    "#checks\n",
    "flag_list\n",
    "df_wide_format\n"
   ]
  },
  {
   "cell_type": "markdown",
   "id": "1ce375a3-ac9a-4fb8-b61f-0604e8c50f30",
   "metadata": {},
   "source": [
    "##### Mapping over image collection with reduce regions"
   ]
  },
  {
   "cell_type": "markdown",
   "id": "e3b512b0-f24b-4554-9d0b-8d34929804cd",
   "metadata": {},
   "source": [
    "#### Display layers\n",
    "\n",
    "NB add legends\n"
   ]
  },
  {
   "cell_type": "code",
   "execution_count": 190,
   "id": "b78d254a-91a0-4d57-9d4e-a8e2889b8b8d",
   "metadata": {
    "tags": []
   },
   "outputs": [
    {
     "ename": "ValueError",
     "evalue": "Cannot remove 1 levels from an index with 1 levels: at least one level must be left.",
     "output_type": "error",
     "traceback": [
      "\u001b[0;31m---------------------------------------------------------------------------\u001b[0m",
      "\u001b[0;31mValueError\u001b[0m                                Traceback (most recent call last)",
      "Cell \u001b[0;32mIn[190], line 5\u001b[0m\n\u001b[1;32m      1\u001b[0m df_wide_format \u001b[38;5;241m=\u001b[39m df_combined\u001b[38;5;241m.\u001b[39mpivot_table(index\u001b[38;5;241m=\u001b[39m[geo_id_column,geometry_area_column], \n\u001b[1;32m      2\u001b[0m                                             columns\u001b[38;5;241m=\u001b[39m\u001b[38;5;124m'\u001b[39m\u001b[38;5;124mdataset_name\u001b[39m\u001b[38;5;124m'\u001b[39m, \n\u001b[1;32m      3\u001b[0m                                             values\u001b[38;5;241m=\u001b[39m\u001b[38;5;124m\"\u001b[39m\u001b[38;5;124msum\u001b[39m\u001b[38;5;124m\"\u001b[39m)\n\u001b[0;32m----> 5\u001b[0m \u001b[43mtidy_dataframe_after_pivot\u001b[49m\u001b[43m(\u001b[49m\u001b[43mdf_wide_format\u001b[49m\u001b[43m)\u001b[49m \u001b[38;5;66;03m#tidys in place\u001b[39;00m\n\u001b[1;32m      7\u001b[0m df_wide_format\u001b[38;5;241m.\u001b[39mto_csv(path_or_buf\u001b[38;5;241m=\u001b[39mout_file_wide,header\u001b[38;5;241m=\u001b[39m\u001b[38;5;28;01mTrue\u001b[39;00m)\n\u001b[1;32m      9\u001b[0m \u001b[38;5;28mprint\u001b[39m (\u001b[38;5;124m\"\u001b[39m\u001b[38;5;124moutput csv: \u001b[39m\u001b[38;5;124m\"\u001b[39m, out_file_wide)\n",
      "File \u001b[0;32m~/fdap/modules/tidy_tables.py:5\u001b[0m, in \u001b[0;36mtidy_dataframe_after_pivot\u001b[0;34m(df)\u001b[0m\n\u001b[1;32m      3\u001b[0m \u001b[38;5;28;01mdef\u001b[39;00m \u001b[38;5;21mtidy_dataframe_after_pivot\u001b[39m (df):\n\u001b[1;32m      4\u001b[0m \u001b[38;5;250m    \u001b[39m\u001b[38;5;124;03m\"\"\"Tidying dataframe after long-to-wide reformatting, incl. removes unwanted levels, column names\"\"\"\u001b[39;00m\n\u001b[0;32m----> 5\u001b[0m     df\u001b[38;5;241m.\u001b[39mcolumns \u001b[38;5;241m=\u001b[39m \u001b[43mdf\u001b[49m\u001b[38;5;241;43m.\u001b[39;49m\u001b[43mcolumns\u001b[49m\u001b[38;5;241;43m.\u001b[39;49m\u001b[43mdroplevel\u001b[49m\u001b[43m(\u001b[49m\u001b[38;5;241;43m0\u001b[39;49m\u001b[43m)\u001b[49m \u001b[38;5;66;03m#remove sum\u001b[39;00m\n\u001b[1;32m      6\u001b[0m     df\u001b[38;5;241m.\u001b[39mcolumns\u001b[38;5;241m.\u001b[39mname \u001b[38;5;241m=\u001b[39m \u001b[38;5;28;01mNone\u001b[39;00m               \u001b[38;5;66;03m#remove \"dataset_name\" label\u001b[39;00m\n\u001b[1;32m      7\u001b[0m     df \u001b[38;5;241m=\u001b[39m df\u001b[38;5;241m.\u001b[39mreset_index()    \u001b[38;5;66;03m#index to columns\u001b[39;00m\n",
      "File \u001b[0;32m/usr/local/lib/python3.8/dist-packages/pandas/core/indexes/base.py:2044\u001b[0m, in \u001b[0;36mIndex.droplevel\u001b[0;34m(self, level)\u001b[0m\n\u001b[1;32m   2040\u001b[0m     level \u001b[38;5;241m=\u001b[39m [level]\n\u001b[1;32m   2042\u001b[0m levnums \u001b[38;5;241m=\u001b[39m \u001b[38;5;28msorted\u001b[39m(\u001b[38;5;28mself\u001b[39m\u001b[38;5;241m.\u001b[39m_get_level_number(lev) \u001b[38;5;28;01mfor\u001b[39;00m lev \u001b[38;5;129;01min\u001b[39;00m level)[::\u001b[38;5;241m-\u001b[39m\u001b[38;5;241m1\u001b[39m]\n\u001b[0;32m-> 2044\u001b[0m \u001b[38;5;28;01mreturn\u001b[39;00m \u001b[38;5;28;43mself\u001b[39;49m\u001b[38;5;241;43m.\u001b[39;49m\u001b[43m_drop_level_numbers\u001b[49m\u001b[43m(\u001b[49m\u001b[43mlevnums\u001b[49m\u001b[43m)\u001b[49m\n",
      "File \u001b[0;32m/usr/local/lib/python3.8/dist-packages/pandas/core/indexes/base.py:2055\u001b[0m, in \u001b[0;36mIndex._drop_level_numbers\u001b[0;34m(self, levnums)\u001b[0m\n\u001b[1;32m   2053\u001b[0m     \u001b[38;5;28;01mreturn\u001b[39;00m \u001b[38;5;28mself\u001b[39m\n\u001b[1;32m   2054\u001b[0m \u001b[38;5;28;01mif\u001b[39;00m \u001b[38;5;28mlen\u001b[39m(levnums) \u001b[38;5;241m>\u001b[39m\u001b[38;5;241m=\u001b[39m \u001b[38;5;28mself\u001b[39m\u001b[38;5;241m.\u001b[39mnlevels:\n\u001b[0;32m-> 2055\u001b[0m     \u001b[38;5;28;01mraise\u001b[39;00m \u001b[38;5;167;01mValueError\u001b[39;00m(\n\u001b[1;32m   2056\u001b[0m         \u001b[38;5;124mf\u001b[39m\u001b[38;5;124m\"\u001b[39m\u001b[38;5;124mCannot remove \u001b[39m\u001b[38;5;132;01m{\u001b[39;00m\u001b[38;5;28mlen\u001b[39m(levnums)\u001b[38;5;132;01m}\u001b[39;00m\u001b[38;5;124m levels from an index with \u001b[39m\u001b[38;5;124m\"\u001b[39m\n\u001b[1;32m   2057\u001b[0m         \u001b[38;5;124mf\u001b[39m\u001b[38;5;124m\"\u001b[39m\u001b[38;5;132;01m{\u001b[39;00m\u001b[38;5;28mself\u001b[39m\u001b[38;5;241m.\u001b[39mnlevels\u001b[38;5;132;01m}\u001b[39;00m\u001b[38;5;124m levels: at least one level must be left.\u001b[39m\u001b[38;5;124m\"\u001b[39m\n\u001b[1;32m   2058\u001b[0m     )\n\u001b[1;32m   2059\u001b[0m \u001b[38;5;66;03m# The two checks above guarantee that here self is a MultiIndex\u001b[39;00m\n\u001b[1;32m   2060\u001b[0m \u001b[38;5;28mself\u001b[39m \u001b[38;5;241m=\u001b[39m cast(\u001b[38;5;124m\"\u001b[39m\u001b[38;5;124mMultiIndex\u001b[39m\u001b[38;5;124m\"\u001b[39m, \u001b[38;5;28mself\u001b[39m)\n",
      "\u001b[0;31mValueError\u001b[0m: Cannot remove 1 levels from an index with 1 levels: at least one level must be left."
     ]
    }
   ],
   "source": []
  },
  {
   "cell_type": "code",
   "execution_count": 121,
   "id": "e04a036b-c67a-4e86-891d-0f53b84d7f88",
   "metadata": {
    "tags": []
   },
   "outputs": [],
   "source": [
    "Map = geemap.Map()"
   ]
  },
  {
   "cell_type": "code",
   "execution_count": 122,
   "id": "624bb353-b055-4747-bd52-474e0c1f04e5",
   "metadata": {
    "tags": []
   },
   "outputs": [],
   "source": [
    "vis_params = {min:0,max:1,'palette':[\"white\",\"green\"]}\n",
    "\n",
    "Map.addLayer(gfc_treeCover_2020_binary,vis_params,'gfc_treeCover_2020_binary')\n",
    "Map.addLayer(esri_trees_2020,vis_params,\"esri_trees_2020\")\n",
    "Map.addLayer(esri_trees_2020,vis_params,\"esri_trees_2020\")\n",
    "Map.addLayer(glad_stable_tree_2020,vis_params,'glad_stable_tree_2020')\n",
    "Map.addLayer(JRC_TMF_undisturbed_2020,vis_params,'JRC_TMF_undisturbed_2020')\n",
    "\n",
    "\n",
    "# m.addLayer(JRC_TMF_transitions.eq(10).randomVisualizer(),{},'TMF-simple')\n",
    "\n",
    "Map.addLayer(roi,{},'roi ')\n",
    "\n",
    "Map.addLayer(roi_alerts_buffer,{},'roi buffer zone')\n",
    "\n",
    "# m.centerObject(roi.first())\n",
    "\n",
    "single_feature = roi_alerts_buffer.filter(ee.Filter.eq(geo_id_column,7)).first()\n",
    "Map.centerObject(roi_alerts_buffer)"
   ]
  },
  {
   "cell_type": "code",
   "execution_count": 123,
   "id": "bd7ad892-8a21-449a-8f6b-328fd3462af9",
   "metadata": {
    "tags": []
   },
   "outputs": [
    {
     "data": {
      "application/vnd.jupyter.widget-view+json": {
       "model_id": "81d6211610f6405fb3f1567a8f2cc5d9",
       "version_major": 2,
       "version_minor": 0
      },
      "text/plain": [
       "Map(center=[20, 0], controls=(WidgetControl(options=['position', 'transparent_bg'], widget=HBox(children=(Togg…"
      ]
     },
     "metadata": {},
     "output_type": "display_data"
    }
   ],
   "source": [
    "Map"
   ]
  },
  {
   "cell_type": "markdown",
   "id": "a14d4583-6ff7-4a2a-852a-6dec99cfedb7",
   "metadata": {},
   "source": [
    "#### Alternative stats\n"
   ]
  },
  {
   "cell_type": "code",
   "execution_count": 124,
   "id": "c8bb8ddb-dc6b-44df-9703-d85c858ace42",
   "metadata": {
    "tags": []
   },
   "outputs": [],
   "source": [
    "# # Define the class names\n",
    "# class_names = ['TMF_undis', 'TMF_degrad', 'TMF_regrow', 'Defor_plantation', 'Defor_water', 'Defor_land','Defor_active','water','other_land']\n",
    "\n",
    "# # Create a function to count pixels for each class\n",
    "# def count_pixels(image, roi):\n",
    "#     counts = image.reduceRegion(\n",
    "#         reducer=ee.Reducer.frequencyHistogram(),\n",
    "#         geometry=roi,\n",
    "#         scale=90,\n",
    "#         maxPixels=1e9\n",
    "#     )\n",
    "    \n",
    "#     # Convert pixel counts to a feature with properties\n",
    "#     feature = ee.Feature(None, counts)\n",
    "    \n",
    "#     return feature\n",
    "\n",
    "# # Apply the count_pixels function to the classified image\n",
    "# pixel_counts_feature = count_pixels(tmf, roi)\n",
    "\n",
    "# # Create a feature collection with a single feature\n",
    "# fc_pix = ee.FeatureCollection([pixel_counts_feature])\n",
    "\n",
    "\n",
    "# fc_pix_df = geemap.ee_to_pandas(fc_pix)##needs more work\n",
    "# fc_pix_df\n"
   ]
  },
  {
   "cell_type": "markdown",
   "id": "1d5049a9",
   "metadata": {},
   "source": [
    "### Logout (protected)"
   ]
  },
  {
   "cell_type": "code",
   "execution_count": 125,
   "id": "d51242cb",
   "metadata": {},
   "outputs": [
    {
     "ename": "NameError",
     "evalue": "name 'session' is not defined",
     "output_type": "error",
     "traceback": [
      "\u001b[0;31m---------------------------------------------------------------------------\u001b[0m",
      "\u001b[0;31mNameError\u001b[0m                                 Traceback (most recent call last)",
      "Cell \u001b[0;32mIn[125], line 1\u001b[0m\n\u001b[0;32m----> 1\u001b[0m res \u001b[38;5;241m=\u001b[39m \u001b[43msession\u001b[49m\u001b[38;5;241m.\u001b[39mget(asset_registry_base \u001b[38;5;241m+\u001b[39m \u001b[38;5;124m\"\u001b[39m\u001b[38;5;124m/logout\u001b[39m\u001b[38;5;124m\"\u001b[39m)\n\u001b[1;32m      2\u001b[0m \u001b[38;5;28mprint\u001b[39m(res\u001b[38;5;241m.\u001b[39mjson())\n\u001b[1;32m      3\u001b[0m res \u001b[38;5;241m=\u001b[39m session\u001b[38;5;241m.\u001b[39mget(user_registry_base \u001b[38;5;241m+\u001b[39m \u001b[38;5;124m\"\u001b[39m\u001b[38;5;124m/logout\u001b[39m\u001b[38;5;124m\"\u001b[39m, cookies\u001b[38;5;241m=\u001b[39msession\u001b[38;5;241m.\u001b[39mcookies)\n",
      "\u001b[0;31mNameError\u001b[0m: name 'session' is not defined"
     ]
    }
   ],
   "source": [
    "res = session.get(asset_registry_base + \"/logout\")\n",
    "print(res.json())\n",
    "res = session.get(user_registry_base + \"/logout\", cookies=session.cookies)\n",
    "session.headers.clear()"
   ]
  },
  {
   "cell_type": "markdown",
   "id": "1d7ef7cf",
   "metadata": {},
   "source": [
    "### Checking if Logged out correctly"
   ]
  },
  {
   "cell_type": "code",
   "execution_count": null,
   "id": "d6dee3bc",
   "metadata": {},
   "outputs": [],
   "source": [
    "# Confirming the logout from Asset Registry by requesting a Protected route\n",
    "req_body = {\n",
    "    \"latitude\": 31.47704430446457,\n",
    "    \"longitude\": 74.37510786779589\n",
    "}\n",
    "res = session.post(asset_registry_base + \"/fetch-fields-for-a-point\", json=req_body)\n",
    "print(res.json())"
   ]
  },
  {
   "cell_type": "markdown",
   "id": "8a07b78b",
   "metadata": {},
   "source": [
    "### Get all Domains (public)"
   ]
  },
  {
   "cell_type": "code",
   "execution_count": null,
   "id": "93cf8a1d",
   "metadata": {},
   "outputs": [],
   "source": [
    "# Fetching all the domains from the User Registry\n",
    "res = session.get(asset_registry_base + \"/domains\")\n",
    "print(res.json())"
   ]
  }
 ],
 "metadata": {
  "kernelspec": {
   "display_name": "Python 3",
   "language": "python",
   "name": "python3"
  },
  "language_info": {
   "codemirror_mode": {
    "name": "ipython",
    "version": 3
   },
   "file_extension": ".py",
   "mimetype": "text/x-python",
   "name": "python",
   "nbconvert_exporter": "python",
   "pygments_lexer": "ipython3",
   "version": "3.8.10"
  },
  "vscode": {
   "interpreter": {
    "hash": "31f2aee4e71d21fbe5cf8b01ff0e069b9275f58929596ceb00d14d90e3e16cd6"
   }
  }
 },
 "nbformat": 4,
 "nbformat_minor": 5
}
