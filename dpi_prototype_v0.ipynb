{
 "cells": [
  {
   "cell_type": "markdown",
   "id": "24e78804",
   "metadata": {
    "tags": []
   },
   "source": [
    "# Imports"
   ]
  },
  {
   "cell_type": "code",
   "execution_count": 1,
   "id": "bf2e1318",
   "metadata": {
    "tags": []
   },
   "outputs": [
    {
     "name": "stdout",
     "output_type": "stream",
     "text": [
      "imports complete\n"
     ]
    }
   ],
   "source": [
    "import requests\n",
    "import json\n",
    "import ee\n",
    "import geemap\n",
    "import folium\n",
    "import os\n",
    "import pandas as pd\n",
    "import glob\n",
    "import time\n",
    "import math\n",
    "import numpy as np\n",
    "from datetime import datetime\n",
    "\n",
    "from modules.json_to_ee import json_to_feature_with_id\n",
    "import modules.agstack_to_gee as agstack_to_gee\n",
    "import modules.area_stats as area_stats\n",
    "import modules.tidy_tables as tidy_tables\n",
    "\n",
    "from parameters.config_runtime import * \n",
    "\n",
    "print (\"imports complete\")"
   ]
  },
  {
   "cell_type": "code",
   "execution_count": 2,
   "id": "5ae87ed9-f4e4-4a98-81df-e66e17aa77f1",
   "metadata": {
    "tags": []
   },
   "outputs": [],
   "source": [
    "ee.Initialize()"
   ]
  },
  {
   "cell_type": "markdown",
   "id": "fc8267ca-28e5-4d62-b982-dfbe9f727392",
   "metadata": {
    "tags": []
   },
   "source": [
    "### Parameters"
   ]
  },
  {
   "cell_type": "code",
   "execution_count": 3,
   "id": "05cfa011",
   "metadata": {
    "tags": []
   },
   "outputs": [],
   "source": [
    "from parameters import *"
   ]
  },
  {
   "cell_type": "markdown",
   "id": "749c76fb-f3ba-43cf-a918-4f6d09e43a7e",
   "metadata": {
    "tags": []
   },
   "source": [
    "### 1. Grab datasets\n"
   ]
  },
  {
   "cell_type": "code",
   "execution_count": 10,
   "id": "aae98294-9c98-4b31-b44a-c617f3613228",
   "metadata": {
    "tags": []
   },
   "outputs": [],
   "source": [
    "if use_existing_image_collection:\n",
    "    images_IC = ee.ImageCollection(\"users/andyarnell10/fdap_dpi/imageCol_trial_2\")\n",
    "else:\n",
    "    from dataset_properties.set_image_properties import images_IC\n"
   ]
  },
  {
   "cell_type": "markdown",
   "id": "56875dab-d0f1-4c00-b552-1e7e0d43c0b3",
   "metadata": {
    "tags": []
   },
   "source": [
    "### 2. Fetch some fields (public)"
   ]
  },
  {
   "cell_type": "markdown",
   "id": "6c00c5d0-b739-4605-af7c-589920a7c962",
   "metadata": {
    "tags": []
   },
   "source": [
    "#### Transform geometries into a feature collection"
   ]
  },
  {
   "cell_type": "code",
   "execution_count": 11,
   "id": "43d06656-77ce-43d2-baa3-c111724d22e2",
   "metadata": {
    "tags": []
   },
   "outputs": [
    {
     "name": "stdout",
     "output_type": "stream",
     "text": [
      "['0520cfac98fbc1bd7952b1c07a9f6983b83625722b6f665ea83ac9aad3512918', 'b84f55de2b7f3c77d1cbeb8b026a1b29be42d8b08d92058c9143e0556456820f', 'b7c15efb6e3c63fcfe649a2d994973a6f5caa844f720f0edb7cf24f6a6c3c1b3', 'fa2aff0d60cf1bc0e1f1dd4b91daf932940c31c021ca1b84f5b9445855eef02f', '88bec54ad04804f5b1fafbc131266640a129be2840fa6797cda358d7e831b907', 'ef2f7c46fbe4fc892fdb81f9a31c9c507b9f1e4548504247dcbbab28cf8e436c', '97408ef7bdac487e4a42e4abf20492b786310889fd4b0478603e2d0004c40bfb', 'c288d6c94efa9011c0e3452af9f7fa0941661377030e10d29c68764617f9816d', '1a41a309ae2387f36a604c9a6c81887e64357a7f61d228758e23ef766286fcd7', '1a4472dc40700ef33f931863f58d444f243d64418616678fcf85c57e1f4bbf45', '8e2accea7ddbb84b7f6001e00bcb60f57f563c80633b53859993522a6f05727a']\n"
     ]
    }
   ],
   "source": [
    "CIV_ids = ['0520cfac98fbc1bd7952b1c07a9f6983b83625722b6f665ea83ac9aad3512918',\n",
    "           'b84f55de2b7f3c77d1cbeb8b026a1b29be42d8b08d92058c9143e0556456820f',\n",
    "           'b7c15efb6e3c63fcfe649a2d994973a6f5caa844f720f0edb7cf24f6a6c3c1b3',\n",
    "            'fa2aff0d60cf1bc0e1f1dd4b91daf932940c31c021ca1b84f5b9445855eef02f']\n",
    "\n",
    "GHA_ids = ['88bec54ad04804f5b1fafbc131266640a129be2840fa6797cda358d7e831b907', \n",
    "'ef2f7c46fbe4fc892fdb81f9a31c9c507b9f1e4548504247dcbbab28cf8e436c',\n",
    "'97408ef7bdac487e4a42e4abf20492b786310889fd4b0478603e2d0004c40bfb']\n",
    "\n",
    "IDN_ids = ['c288d6c94efa9011c0e3452af9f7fa0941661377030e10d29c68764617f9816d', \n",
    "       '1a41a309ae2387f36a604c9a6c81887e64357a7f61d228758e23ef766286fcd7',\n",
    "       '1a4472dc40700ef33f931863f58d444f243d64418616678fcf85c57e1f4bbf45',\n",
    "       '8e2accea7ddbb84b7f6001e00bcb60f57f563c80633b53859993522a6f05727a']\n",
    "\n",
    "all_geo_ids= CIV_ids+GHA_ids+IDN_ids\n",
    "\n",
    "if debug: print (all_geo_ids)"
   ]
  },
  {
   "cell_type": "markdown",
   "id": "3a01f69c-6715-4f03-9552-ee22a7467c27",
   "metadata": {},
   "source": [
    "#### Asset registry: start session"
   ]
  },
  {
   "cell_type": "markdown",
   "id": "13fc6759-b967-41aa-88bb-cdb687b68a29",
   "metadata": {},
   "source": [
    "NB this is timing out so skipping section - seems to work without somehow. Maybe an open connection already..."
   ]
  },
  {
   "cell_type": "code",
   "execution_count": 12,
   "id": "7b6fe913-051a-44fe-a186-ff6ea9cebf4f",
   "metadata": {
    "tags": []
   },
   "outputs": [
    {
     "name": "stdout",
     "output_type": "stream",
     "text": [
      "<RequestsCookieJar[]>\n",
      "500\n"
     ]
    }
   ],
   "source": [
    "## using session to store cookies that are persistent\n",
    "session = requests.session()\n",
    "session.headers = headers = {\n",
    "    'Accept': 'application/json',\n",
    "    'Content-Type': 'application/json'\n",
    "}\n",
    "req_body = {'email': email, 'password': password}\n",
    "res = session.post(user_registry_base, json=req_body)\n",
    "if debug: print (session.cookies)\n",
    "if debug: print (res.status_code)\n"
   ]
  },
  {
   "cell_type": "markdown",
   "id": "040debff-4f8a-44d2-91f6-8a8ab79aff3e",
   "metadata": {
    "tags": []
   },
   "source": [
    "#### Fetch features"
   ]
  },
  {
   "cell_type": "code",
   "execution_count": 13,
   "id": "828017fa-9522-406c-8f8d-18a67aee3c52",
   "metadata": {
    "tags": []
   },
   "outputs": [
    {
     "name": "stdout",
     "output_type": "stream",
     "text": [
      "Count of geo ids in list:  11\n",
      "Count of features in FeatureCollection:  11\n"
     ]
    }
   ],
   "source": [
    "#is there a list of geo_ids\n",
    "if isinstance(all_geo_ids, list):\n",
    "    multiple_inputs=True\n",
    "elif isinstance(all_geo_ids, str):\n",
    "    multiple_inputs=False\n",
    "else:\n",
    "    print (\"Input must be a single string or list of strings\")\n",
    "\n",
    "#if list of geo ids use loop over them and make a feature collection\n",
    "\n",
    "if multiple_inputs==True:\n",
    "    roi = agstack_to_gee.geo_id_list_to_feature_collection(all_geo_ids,geo_id_column, session,asset_registry_base)    \n",
    "    if debug: print (\"Count of geo ids in list: \", len(all_geo_ids))\n",
    "    # if debug: print (\"Count of features in FeatureCollection: \", roi.size().getInfo())\n",
    "elif multiple_inputs == False: \n",
    "    roi = ee.FeatureCollection(agstack_to_gee.geo_id_to_feature(all_geo_ids,geo_id_column, session,asset_registry_base))\n",
    "    if debug: print (\"Geo id input: \", all_geo_ids)\n",
    "    # if debug: print (\"Geo id associated with new feature: \", roi.get(geo_id_column).getInfo())    \n",
    "else: \n",
    "    print(\"no ee.Object created: check input format\")\n",
    "\n",
    "# if debug: print (\"Count of geo ids in list: \", len(all_geo_ids))\n",
    "if debug: print (\"Count of features in FeatureCollection: \", roi.size().getInfo())\n",
    "    \n",
    "#true\n",
    "#checks "
   ]
  },
  {
   "cell_type": "markdown",
   "id": "20f44941-3245-42ba-becb-3472af5c29a8",
   "metadata": {},
   "source": [
    "#### Feature prep\n",
    "- Create additional buffer zones for deforestation risk \n",
    "- Add area property to feature(s) \n",
    "- Select only columns of interest"
   ]
  },
  {
   "cell_type": "code",
   "execution_count": 14,
   "id": "e14f2cc9-a2a8-4fb7-a97f-d58ca72fe45e",
   "metadata": {
    "tags": []
   },
   "outputs": [],
   "source": [
    "roi = area_stats.add_area_hectares_property_to_feature_collection(roi,geometry_area_column)\n",
    "\n",
    "roi  = roi.select([geometry_area_column,geo_id_column]) ##select only fields of interest\n",
    "\n",
    "roi_alerts_buffer = roi.map(lambda feature: \n",
    "        feature.buffer(local_alerts_buffer_radius,max_error_alert_buff))\n",
    "\n",
    "# if debug: geemap.ee_to_pandas(roi_alerts_buffer)\n",
    "# if debug: geemap.ee_to_pandas(roi)"
   ]
  },
  {
   "cell_type": "markdown",
   "id": "874274c3-15af-4aca-b407-f7683f883878",
   "metadata": {},
   "source": [
    "#### 3) Compute statistics"
   ]
  },
  {
   "cell_type": "markdown",
   "id": "e7f19d47-119d-4df0-b156-cdc2ab2e3e69",
   "metadata": {},
   "source": [
    "Calculating zonal statistics for continuous data (e.g tree cover) within polygon(s)"
   ]
  },
  {
   "cell_type": "markdown",
   "id": "1ce375a3-ac9a-4fb8-b61f-0604e8c50f30",
   "metadata": {},
   "source": [
    "##### i) Mapping over image collection with reduce regions: creates long format raw stats"
   ]
  },
  {
   "cell_type": "code",
   "execution_count": 15,
   "id": "4b9cbfcd-fc1f-4516-b455-e2d88c4b7461",
   "metadata": {
    "tags": []
   },
   "outputs": [
    {
     "name": "stdout",
     "output_type": "stream",
     "text": [
      "processing stats...\n",
      "Total execution time: 2.182441234588623 seconds\n"
     ]
    }
   ],
   "source": [
    "# get the start time\n",
    "st = time.time()\n",
    "if debug: print (\"processing stats...\")\n",
    "\n",
    "## reducer choice for zonal statistics\n",
    "reducer_choice = ee.Reducer.sum().combine(  #main stats based on area of pixel\n",
    "  reducer2=ee.Reducer.count(),sharedInputs=True).combine(reducer2=ee.Reducer.mode(), sharedInputs=True) ##mode used for country allocation (majority pixel count on country code raster)\n",
    "\n",
    "#get stats for roi (except alerts)\n",
    "fc_stats_combined = area_stats.reduceStatsIC(roi,\n",
    "                                  images_IC.filter(ee.Filter.And(ee.Filter.neq(\"alerts_buffer\",1),\n",
    "                                                                 (ee.Filter.neq(\"dataset_id\",16)))), # country code calculation seperated, ideally use flag in the data \n",
    "                                                                  reducer_choice)# all but alerts\n",
    "#get stat for buffer (alerts only)\n",
    "fc_stats_combined_buffer = area_stats.reduceStatsIC(roi_alerts_buffer,\n",
    "                                                    images_IC.filter(ee.Filter.And(ee.Filter.eq(\"alerts_buffer\",1))),\n",
    "                                                    reducer_choice) #alerts only\n",
    "\n",
    "#combine stats from roi and buffer\n",
    "fc_stats_combined_all = fc_stats_combined.merge(fc_stats_combined_buffer) # combining alerts with others into one feature collection\n",
    "\n",
    "# convert to Pandas Dataframe\n",
    "df_combined = geemap.ee_to_pandas(fc_stats_combined_all) # limit of 5000 (unlikely to need more but i have code for it if needed)\n",
    "\n",
    "# export dataframe to csv\n",
    "df_combined.to_csv(path_or_buf=out_file_long,header=True,index=False)\n",
    "\n",
    "# get the execution time\n",
    "elapsed_time = time.time() - st\n",
    "\n",
    "if debug: print ('Total execution time:', elapsed_time, 'seconds')\n"
   ]
  },
  {
   "cell_type": "markdown",
   "id": "ec10e289-42df-42f4-b576-ef216efe8356",
   "metadata": {},
   "source": [
    "##### ii): Create lookup tables for country allocation\n",
    "Approach is based on raster stats and listing the country for a specific geometry based on which has most overlap\n",
    "\n"
   ]
  },
  {
   "cell_type": "markdown",
   "id": "375629ec-ef13-4c64-9c5c-cbb3563b8d2f",
   "metadata": {
    "tags": []
   },
   "source": [
    "Look up table linking country codes to country names (from GAUL feature collection) is stored here: scripts: create_country_lookup.py"
   ]
  },
  {
   "cell_type": "markdown",
   "id": "93bb09fe-dcf8-4084-95aa-f8c586dfe78d",
   "metadata": {
    "tags": []
   },
   "source": [
    "Make on-the-fly look up table to link country name to geo id based on raster stats\n",
    "- uses rasterised GAUL layer with admin codes as pixel values\n",
    "- for each geo id finds most common value in that geometry (i.e. \"mode\" statistic)"
   ]
  },
  {
   "cell_type": "code",
   "execution_count": 16,
   "id": "fc8f51bc-be03-4c05-8337-942f06653803",
   "metadata": {
    "tags": []
   },
   "outputs": [],
   "source": [
    "fc_stats_country_codes = area_stats.reduceStatsIC(roi,\n",
    "                                  images_IC.filter(ee.Filter.eq(\"dataset_id\",16)),\n",
    "                                  reducer_choice)# all but alerts\n",
    "\n",
    "df_stats_country_codes = geemap.ee_to_pandas(fc_stats_country_codes) # limit of 5000 (unlikely to need more fpr demo but i have code for it if this happens)\n",
    "\n",
    "lookup_geo_id_to_GAUL_codes = df_stats_country_codes[df_stats_country_codes[\"dataset_name\"]==\"GAUL_boundaries_adm0_code_reproj\"]  #get mode stats for GAUL dataset\n",
    "\n",
    "lookup_geo_id_to_GAUL_codes = lookup_geo_id_to_GAUL_codes[[geo_id_column, 'mode']] # choose only columns needed\n",
    "\n",
    "# lookup_geo_id_to_GAUL[\"mode\"] = lookup_geo_id_to_GAUL[\"mode\"].astype(int) # make sure mode stats are integer (to allow joining)\n",
    "\n",
    "lookup_geo_id_to_GAUL_codes = lookup_geo_id_to_GAUL_codes.rename(columns={\"mode\":\"ADM0_CODE\"}) # change names for a clean join \n",
    "\n",
    "lookup_geo_id_to_GAUL_country_names = lookup_geo_id_to_GAUL_codes.merge(lookup_country_codes_to_names,on=\"ADM0_CODE\",how=\"inner\").drop(\"ADM0_CODE\",axis=1) # join geo id to the GAUL_lookup_table countaining \"Country_names\"\n"
   ]
  },
  {
   "cell_type": "markdown",
   "id": "4ebb5856-0a96-4399-ab5c-341c84eb3132",
   "metadata": {
    "tags": []
   },
   "source": [
    "##### iii) Reformat results table\n",
    "- long to wide\n",
    "- convert to proportions \n",
    "- set presence only flags\n",
    "- add in country names (using lookup tables) to the final results"
   ]
  },
  {
   "cell_type": "code",
   "execution_count": 17,
   "id": "98f4b376-8375-4670-8cb0-c9aaf96fa407",
   "metadata": {
    "tags": []
   },
   "outputs": [
    {
     "name": "stdout",
     "output_type": "stream",
     "text": [
      "['Cocoa_plantations_Kalischek', 'ESRI_Trees_2020', 'FDaP_palm_plantations', 'GFC_Tree_Cover_2020', 'GLAD_LULC_Stable_Tree_2020', 'JAXA_Forest_non_forest_2020', 'Key_Biodiversity_Area', 'Local_RADD_alerts', 'Oil_palm_Descals', 'Other_Effective_area_based_Conservation_Measure', 'Primary_Humid_Tropical_Forest_2020', 'Protected_area', 'TMF_disturbed_forest_2020', 'TMF_plantation', 'TMF_undisturbed_forest_2020']\n"
     ]
    }
   ],
   "source": [
    "#add proprtion column\n",
    "df_combined[\"percentage\"] = (df_combined[\"sum\"]/df_combined[geometry_area_column])*100\n",
    "\n",
    "# geometry_area_lookup = df_combined[geometry_area_column,geo_id_column]\n",
    "\n",
    "def tidy_dataframe_after_pivot (df):\n",
    "    \"\"\"Tidying dataframe after long-to-wide reformatting, incl. removes unwanted levels, column names\"\"\"\n",
    "    # df.columns = df.columns.droplevel(0) #remove sum\n",
    "    df.columns = df.columns.get_level_values(1)\n",
    "    df.columns.name = None               #remove \"dataset_name\" label\n",
    "    df = df.reset_index()    #index to columns\n",
    "    return df\n",
    "\n",
    "#convert to wide format (one row per geo_id)\n",
    "df_wide_format = df_combined.pivot_table(index=[geo_id_column,geometry_area_column],columns=['dataset_name'],values=['percentage'])\n",
    "\n",
    "# # #tidy unwanted headers etc\n",
    "tidy_tables.tidy_dataframe_after_pivot(df_wide_format) #runs in place so no need to assign\n",
    "\n",
    "df_wide_format.columns = df_wide_format.columns.get_level_values(0)\n",
    "\n",
    "# #list images with with presence_only_flag property \n",
    "flag_list = images_IC.filter(ee.Filter.eq(\"presence_only_flag\",1)).aggregate_array(\"system:index\").getInfo()\n",
    "\n",
    "# convert positive results values to \"True\" for specific columns\n",
    "for column in flag_list: df_wide_format[column]=np.where(df_wide_format[column]>0,\"True\",\"-\")\n",
    "\n",
    "# # tidy output - decimal places\n",
    "columns_list = df_wide_format.columns.values.tolist()\n",
    "if debug: print (columns_list)\n",
    "non_flag_columns_list = [x for x in columns_list if x not in flag_list]\n",
    "\n",
    "for column in flag_list: df_wide_format[non_flag_columns_list]=df_wide_format[non_flag_columns_list].round(decimals=0, out=None).astype(int)\n",
    "\n",
    "df_wide_format=df_wide_format.reset_index()\n",
    "\n",
    "# #joins country name based on majority overlap with country \n",
    "df_wide_format = df_wide_format.merge(lookup_geo_id_to_GAUL_country_names,on=geo_id_column)\n"
   ]
  },
  {
   "cell_type": "markdown",
   "id": "31929f1c-b245-4bef-968f-64bdee8ef1ed",
   "metadata": {
    "tags": []
   },
   "source": [
    "##### iv) Further reformatting and exporting\n",
    "- reorder columns\n",
    "- remove underscores in column titles\n",
    "- export to csv"
   ]
  },
  {
   "cell_type": "code",
   "execution_count": 18,
   "id": "20836916-d664-4334-aa6c-47916823443a",
   "metadata": {
    "tags": []
   },
   "outputs": [
    {
     "data": {
      "text/html": [
       "<div>\n",
       "<style scoped>\n",
       "    .dataframe tbody tr th:only-of-type {\n",
       "        vertical-align: middle;\n",
       "    }\n",
       "\n",
       "    .dataframe tbody tr th {\n",
       "        vertical-align: top;\n",
       "    }\n",
       "\n",
       "    .dataframe thead th {\n",
       "        text-align: right;\n",
       "    }\n",
       "</style>\n",
       "<table border=\"1\" class=\"dataframe\">\n",
       "  <thead>\n",
       "    <tr style=\"text-align: right;\">\n",
       "      <th></th>\n",
       "      <th>Geo id</th>\n",
       "      <th>Shape area hectares</th>\n",
       "      <th>Country</th>\n",
       "      <th>GFC Tree Cover 2020</th>\n",
       "      <th>ESRI Trees 2020</th>\n",
       "      <th>JAXA Forest non forest 2020</th>\n",
       "      <th>GLAD LULC Stable Tree 2020</th>\n",
       "      <th>TMF undisturbed forest 2020</th>\n",
       "      <th>Primary Humid Tropical Forest 2020</th>\n",
       "      <th>TMF disturbed forest 2020</th>\n",
       "      <th>Local RADD alerts</th>\n",
       "      <th>TMF plantation</th>\n",
       "      <th>Oil palm Descals</th>\n",
       "      <th>FDaP palm plantations</th>\n",
       "      <th>Cocoa plantations Kalischek</th>\n",
       "      <th>Protected area</th>\n",
       "      <th>Other Effective area based Conservation Measure</th>\n",
       "      <th>Key Biodiversity Area</th>\n",
       "    </tr>\n",
       "  </thead>\n",
       "  <tbody>\n",
       "    <tr>\n",
       "      <th>0</th>\n",
       "      <td>0520cfac98fbc1bd7952b1c07a9f6983b83625722b6f66...</td>\n",
       "      <td>8.32</td>\n",
       "      <td>Côte d'Ivoire</td>\n",
       "      <td>62.031492</td>\n",
       "      <td>99.550667</td>\n",
       "      <td>95.178240</td>\n",
       "      <td>63.789679</td>\n",
       "      <td>0.272691</td>\n",
       "      <td>0.000000</td>\n",
       "      <td>10.236428</td>\n",
       "      <td>0.000000</td>\n",
       "      <td>0.000000</td>\n",
       "      <td>0.000000</td>\n",
       "      <td>0.000000</td>\n",
       "      <td>0.000000</td>\n",
       "      <td>99.513226</td>\n",
       "      <td>0.0</td>\n",
       "      <td>99.513226</td>\n",
       "    </tr>\n",
       "    <tr>\n",
       "      <th>1</th>\n",
       "      <td>1a41a309ae2387f36a604c9a6c81887e64357a7f61d228...</td>\n",
       "      <td>1.97</td>\n",
       "      <td>Indonesia</td>\n",
       "      <td>0.183185</td>\n",
       "      <td>99.527189</td>\n",
       "      <td>84.876936</td>\n",
       "      <td>99.362264</td>\n",
       "      <td>0.000000</td>\n",
       "      <td>0.000000</td>\n",
       "      <td>13.250976</td>\n",
       "      <td>0.000000</td>\n",
       "      <td>0.000000</td>\n",
       "      <td>0.000000</td>\n",
       "      <td>3.900593</td>\n",
       "      <td>0.000000</td>\n",
       "      <td>0.000000</td>\n",
       "      <td>0.0</td>\n",
       "      <td>0.000000</td>\n",
       "    </tr>\n",
       "    <tr>\n",
       "      <th>2</th>\n",
       "      <td>1a4472dc40700ef33f931863f58d444f243d6441861667...</td>\n",
       "      <td>12.78</td>\n",
       "      <td>Indonesia</td>\n",
       "      <td>82.789901</td>\n",
       "      <td>99.540867</td>\n",
       "      <td>99.631658</td>\n",
       "      <td>98.760523</td>\n",
       "      <td>60.021967</td>\n",
       "      <td>0.000000</td>\n",
       "      <td>39.417561</td>\n",
       "      <td>0.000000</td>\n",
       "      <td>0.000000</td>\n",
       "      <td>0.000000</td>\n",
       "      <td>68.386416</td>\n",
       "      <td>0.000000</td>\n",
       "      <td>0.000000</td>\n",
       "      <td>0.0</td>\n",
       "      <td>0.000000</td>\n",
       "    </tr>\n",
       "    <tr>\n",
       "      <th>3</th>\n",
       "      <td>88bec54ad04804f5b1fafbc131266640a129be2840fa67...</td>\n",
       "      <td>1.95</td>\n",
       "      <td>Ghana</td>\n",
       "      <td>20.368075</td>\n",
       "      <td>99.543633</td>\n",
       "      <td>99.505759</td>\n",
       "      <td>87.681352</td>\n",
       "      <td>0.000000</td>\n",
       "      <td>0.000000</td>\n",
       "      <td>34.124126</td>\n",
       "      <td>0.000000</td>\n",
       "      <td>0.000000</td>\n",
       "      <td>0.000000</td>\n",
       "      <td>0.000000</td>\n",
       "      <td>0.000000</td>\n",
       "      <td>0.000000</td>\n",
       "      <td>0.0</td>\n",
       "      <td>0.000000</td>\n",
       "    </tr>\n",
       "    <tr>\n",
       "      <th>4</th>\n",
       "      <td>8e2accea7ddbb84b7f6001e00bcb60f57f563c80633b53...</td>\n",
       "      <td>20.98</td>\n",
       "      <td>Indonesia</td>\n",
       "      <td>53.483180</td>\n",
       "      <td>99.545613</td>\n",
       "      <td>95.874315</td>\n",
       "      <td>98.063017</td>\n",
       "      <td>30.846134</td>\n",
       "      <td>0.000000</td>\n",
       "      <td>66.815134</td>\n",
       "      <td>0.000000</td>\n",
       "      <td>0.000000</td>\n",
       "      <td>0.000000</td>\n",
       "      <td>50.941279</td>\n",
       "      <td>0.000000</td>\n",
       "      <td>0.000000</td>\n",
       "      <td>0.0</td>\n",
       "      <td>0.000000</td>\n",
       "    </tr>\n",
       "    <tr>\n",
       "      <th>5</th>\n",
       "      <td>97408ef7bdac487e4a42e4abf20492b786310889fd4b04...</td>\n",
       "      <td>16.68</td>\n",
       "      <td>Ghana</td>\n",
       "      <td>99.538465</td>\n",
       "      <td>99.558175</td>\n",
       "      <td>99.539157</td>\n",
       "      <td>89.009291</td>\n",
       "      <td>94.668147</td>\n",
       "      <td>86.803055</td>\n",
       "      <td>4.859822</td>\n",
       "      <td>1.021872</td>\n",
       "      <td>0.000000</td>\n",
       "      <td>0.000000</td>\n",
       "      <td>0.000000</td>\n",
       "      <td>0.000000</td>\n",
       "      <td>96.554817</td>\n",
       "      <td>0.0</td>\n",
       "      <td>0.000000</td>\n",
       "    </tr>\n",
       "    <tr>\n",
       "      <th>6</th>\n",
       "      <td>b7c15efb6e3c63fcfe649a2d994973a6f5caa844f720f0...</td>\n",
       "      <td>3.82</td>\n",
       "      <td>Côte d'Ivoire</td>\n",
       "      <td>69.678580</td>\n",
       "      <td>99.537431</td>\n",
       "      <td>99.475290</td>\n",
       "      <td>89.961167</td>\n",
       "      <td>0.000000</td>\n",
       "      <td>0.000000</td>\n",
       "      <td>74.054764</td>\n",
       "      <td>0.000000</td>\n",
       "      <td>0.000000</td>\n",
       "      <td>0.000000</td>\n",
       "      <td>0.000000</td>\n",
       "      <td>0.000000</td>\n",
       "      <td>0.000000</td>\n",
       "      <td>0.0</td>\n",
       "      <td>0.000000</td>\n",
       "    </tr>\n",
       "    <tr>\n",
       "      <th>7</th>\n",
       "      <td>b84f55de2b7f3c77d1cbeb8b026a1b29be42d8b08d9205...</td>\n",
       "      <td>1.99</td>\n",
       "      <td>Côte d'Ivoire</td>\n",
       "      <td>78.314306</td>\n",
       "      <td>99.520395</td>\n",
       "      <td>72.582346</td>\n",
       "      <td>55.443102</td>\n",
       "      <td>0.000000</td>\n",
       "      <td>0.000000</td>\n",
       "      <td>23.456662</td>\n",
       "      <td>0.000000</td>\n",
       "      <td>0.000000</td>\n",
       "      <td>0.000000</td>\n",
       "      <td>0.000000</td>\n",
       "      <td>73.285679</td>\n",
       "      <td>99.435492</td>\n",
       "      <td>0.0</td>\n",
       "      <td>0.000000</td>\n",
       "    </tr>\n",
       "    <tr>\n",
       "      <th>8</th>\n",
       "      <td>c288d6c94efa9011c0e3452af9f7fa0941661377030e10...</td>\n",
       "      <td>31.35</td>\n",
       "      <td>Indonesia</td>\n",
       "      <td>0.437212</td>\n",
       "      <td>5.569134</td>\n",
       "      <td>5.085344</td>\n",
       "      <td>83.099963</td>\n",
       "      <td>0.000000</td>\n",
       "      <td>0.000000</td>\n",
       "      <td>0.000000</td>\n",
       "      <td>0.000000</td>\n",
       "      <td>99.522028</td>\n",
       "      <td>98.448346</td>\n",
       "      <td>81.982111</td>\n",
       "      <td>0.000000</td>\n",
       "      <td>0.000000</td>\n",
       "      <td>0.0</td>\n",
       "      <td>0.000000</td>\n",
       "    </tr>\n",
       "    <tr>\n",
       "      <th>9</th>\n",
       "      <td>ef2f7c46fbe4fc892fdb81f9a31c9c507b9f1e45485042...</td>\n",
       "      <td>4.17</td>\n",
       "      <td>Ghana</td>\n",
       "      <td>35.411125</td>\n",
       "      <td>99.535517</td>\n",
       "      <td>99.040828</td>\n",
       "      <td>63.026645</td>\n",
       "      <td>4.679829</td>\n",
       "      <td>0.000000</td>\n",
       "      <td>82.816275</td>\n",
       "      <td>0.000000</td>\n",
       "      <td>0.000000</td>\n",
       "      <td>0.000000</td>\n",
       "      <td>0.000000</td>\n",
       "      <td>0.005661</td>\n",
       "      <td>0.000000</td>\n",
       "      <td>0.0</td>\n",
       "      <td>0.000000</td>\n",
       "    </tr>\n",
       "    <tr>\n",
       "      <th>10</th>\n",
       "      <td>fa2aff0d60cf1bc0e1f1dd4b91daf932940c31c021ca1b...</td>\n",
       "      <td>3.63</td>\n",
       "      <td>Côte d'Ivoire</td>\n",
       "      <td>44.202296</td>\n",
       "      <td>99.587036</td>\n",
       "      <td>99.352459</td>\n",
       "      <td>99.229837</td>\n",
       "      <td>0.000000</td>\n",
       "      <td>0.000000</td>\n",
       "      <td>6.428994</td>\n",
       "      <td>0.000000</td>\n",
       "      <td>0.000000</td>\n",
       "      <td>0.000000</td>\n",
       "      <td>0.000000</td>\n",
       "      <td>0.000000</td>\n",
       "      <td>0.000000</td>\n",
       "      <td>0.0</td>\n",
       "      <td>0.000000</td>\n",
       "    </tr>\n",
       "  </tbody>\n",
       "</table>\n",
       "</div>"
      ],
      "text/plain": [
       "                                               Geo id  Shape area hectares  \\\n",
       "0   0520cfac98fbc1bd7952b1c07a9f6983b83625722b6f66...                 8.32   \n",
       "1   1a41a309ae2387f36a604c9a6c81887e64357a7f61d228...                 1.97   \n",
       "2   1a4472dc40700ef33f931863f58d444f243d6441861667...                12.78   \n",
       "3   88bec54ad04804f5b1fafbc131266640a129be2840fa67...                 1.95   \n",
       "4   8e2accea7ddbb84b7f6001e00bcb60f57f563c80633b53...                20.98   \n",
       "5   97408ef7bdac487e4a42e4abf20492b786310889fd4b04...                16.68   \n",
       "6   b7c15efb6e3c63fcfe649a2d994973a6f5caa844f720f0...                 3.82   \n",
       "7   b84f55de2b7f3c77d1cbeb8b026a1b29be42d8b08d9205...                 1.99   \n",
       "8   c288d6c94efa9011c0e3452af9f7fa0941661377030e10...                31.35   \n",
       "9   ef2f7c46fbe4fc892fdb81f9a31c9c507b9f1e45485042...                 4.17   \n",
       "10  fa2aff0d60cf1bc0e1f1dd4b91daf932940c31c021ca1b...                 3.63   \n",
       "\n",
       "          Country  GFC Tree Cover 2020  ESRI Trees 2020  \\\n",
       "0   Côte d'Ivoire            62.031492        99.550667   \n",
       "1       Indonesia             0.183185        99.527189   \n",
       "2       Indonesia            82.789901        99.540867   \n",
       "3           Ghana            20.368075        99.543633   \n",
       "4       Indonesia            53.483180        99.545613   \n",
       "5           Ghana            99.538465        99.558175   \n",
       "6   Côte d'Ivoire            69.678580        99.537431   \n",
       "7   Côte d'Ivoire            78.314306        99.520395   \n",
       "8       Indonesia             0.437212         5.569134   \n",
       "9           Ghana            35.411125        99.535517   \n",
       "10  Côte d'Ivoire            44.202296        99.587036   \n",
       "\n",
       "    JAXA Forest non forest 2020  GLAD LULC Stable Tree 2020  \\\n",
       "0                     95.178240                   63.789679   \n",
       "1                     84.876936                   99.362264   \n",
       "2                     99.631658                   98.760523   \n",
       "3                     99.505759                   87.681352   \n",
       "4                     95.874315                   98.063017   \n",
       "5                     99.539157                   89.009291   \n",
       "6                     99.475290                   89.961167   \n",
       "7                     72.582346                   55.443102   \n",
       "8                      5.085344                   83.099963   \n",
       "9                     99.040828                   63.026645   \n",
       "10                    99.352459                   99.229837   \n",
       "\n",
       "    TMF undisturbed forest 2020  Primary Humid Tropical Forest 2020  \\\n",
       "0                      0.272691                            0.000000   \n",
       "1                      0.000000                            0.000000   \n",
       "2                     60.021967                            0.000000   \n",
       "3                      0.000000                            0.000000   \n",
       "4                     30.846134                            0.000000   \n",
       "5                     94.668147                           86.803055   \n",
       "6                      0.000000                            0.000000   \n",
       "7                      0.000000                            0.000000   \n",
       "8                      0.000000                            0.000000   \n",
       "9                      4.679829                            0.000000   \n",
       "10                     0.000000                            0.000000   \n",
       "\n",
       "    TMF disturbed forest 2020  Local RADD alerts  TMF plantation  \\\n",
       "0                   10.236428           0.000000        0.000000   \n",
       "1                   13.250976           0.000000        0.000000   \n",
       "2                   39.417561           0.000000        0.000000   \n",
       "3                   34.124126           0.000000        0.000000   \n",
       "4                   66.815134           0.000000        0.000000   \n",
       "5                    4.859822           1.021872        0.000000   \n",
       "6                   74.054764           0.000000        0.000000   \n",
       "7                   23.456662           0.000000        0.000000   \n",
       "8                    0.000000           0.000000       99.522028   \n",
       "9                   82.816275           0.000000        0.000000   \n",
       "10                   6.428994           0.000000        0.000000   \n",
       "\n",
       "    Oil palm Descals  FDaP palm plantations  Cocoa plantations Kalischek  \\\n",
       "0           0.000000               0.000000                     0.000000   \n",
       "1           0.000000               3.900593                     0.000000   \n",
       "2           0.000000              68.386416                     0.000000   \n",
       "3           0.000000               0.000000                     0.000000   \n",
       "4           0.000000              50.941279                     0.000000   \n",
       "5           0.000000               0.000000                     0.000000   \n",
       "6           0.000000               0.000000                     0.000000   \n",
       "7           0.000000               0.000000                    73.285679   \n",
       "8          98.448346              81.982111                     0.000000   \n",
       "9           0.000000               0.000000                     0.005661   \n",
       "10          0.000000               0.000000                     0.000000   \n",
       "\n",
       "    Protected area  Other Effective area based Conservation Measure  \\\n",
       "0        99.513226                                              0.0   \n",
       "1         0.000000                                              0.0   \n",
       "2         0.000000                                              0.0   \n",
       "3         0.000000                                              0.0   \n",
       "4         0.000000                                              0.0   \n",
       "5        96.554817                                              0.0   \n",
       "6         0.000000                                              0.0   \n",
       "7        99.435492                                              0.0   \n",
       "8         0.000000                                              0.0   \n",
       "9         0.000000                                              0.0   \n",
       "10        0.000000                                              0.0   \n",
       "\n",
       "    Key Biodiversity Area  \n",
       "0               99.513226  \n",
       "1                0.000000  \n",
       "2                0.000000  \n",
       "3                0.000000  \n",
       "4                0.000000  \n",
       "5                0.000000  \n",
       "6                0.000000  \n",
       "7                0.000000  \n",
       "8                0.000000  \n",
       "9                0.000000  \n",
       "10               0.000000  "
      ]
     },
     "execution_count": 18,
     "metadata": {},
     "output_type": "execute_result"
    }
   ],
   "source": [
    "##tidy \n",
    "\n",
    "# reorder columns using list \n",
    "df_wide_format[geometry_area_column]=df_wide_format[geometry_area_column].round(decimals=2, out=None)\n",
    "\n",
    "ordered_dataset_df= lookup_gee_datasets.sort_values(by=['datasets_order'])\n",
    "\n",
    "column_order_list = list(ordered_dataset_df[\"dataset_name\"])\n",
    "                         \n",
    "column_order_list.insert(0,geo_id_column) # add in the \"geo_id\" column into to datasets list\n",
    "\n",
    "column_order_list.insert(1,geometry_area_column)# add in to list the geometry area column\n",
    "\n",
    "column_order_list.remove(\"GAUL_boundaries_adm0_code_reproj\") # remove old column with \"mode\" values (not now relevant as have country names)\n",
    "\n",
    "column_order_list.insert(2,\"Country\")# add in to list the new column with country names\n",
    "\n",
    "df_wide_format= df_wide_format.reindex(columns=column_order_list) # reorder by list\n",
    "\n",
    "df_wide_format[\"Country\"]=np.where(df_wide_format[\"Country\"]==\"C�te d'Ivoire\",\"Côte d'Ivoire\",df_wide_format[\"Country\"])# TEMP fix on characters (encoding issues)\n",
    "df_wide_format[\"Country\"]=np.where(df_wide_format[\"Country\"]==\"R�union\",\"Réunion\",df_wide_format[\"Country\"])# TEMP fix on characters (encoding issues)\n",
    "\n",
    "# remove underscores in columns\n",
    "df_wide_format.columns = df_wide_format.columns.str.replace('_', ' ')\n",
    "\n",
    "# #export wide format csv\n",
    "df_wide_format.to_csv(path_or_buf=out_file_wide,header=True)\n",
    "\n",
    "# if debug: print (\"output csv: \", out_file_wide)\n",
    "\n",
    "#checks\n",
    "if debug: flag_list\n",
    "# if debug: print (columns_list)\n",
    "\n",
    "df_wide_format"
   ]
  },
  {
   "cell_type": "markdown",
   "id": "e3b512b0-f24b-4554-9d0b-8d34929804cd",
   "metadata": {},
   "source": [
    "#### Display layers\n",
    "\n",
    "##### Loop through image collection and loads layers to be added to the map\n"
   ]
  },
  {
   "cell_type": "code",
   "execution_count": null,
   "id": "5cc82d7d-94aa-4e41-b321-c8d9daf43a95",
   "metadata": {
    "tags": []
   },
   "outputs": [
    {
     "name": "stdout",
     "output_type": "stream",
     "text": [
      "adding image 0 - Cocoa_plantations_Kalischek\n"
     ]
    }
   ],
   "source": [
    "Map = geemap.Map()\n",
    "visParams =  {'min': 0,'max': 1,'palette':['White','Green']}\n",
    "\n",
    "for i in range(images_IC.size().getInfo()):\n",
    "    \n",
    "    image_new = ee.Image(images_IC.toList(100,0).get(i))\n",
    "    \n",
    "    dataset_name = image_new.get(\"system:index\").getInfo()\n",
    "    \n",
    "    if debug: print (\"adding image\",i,\"-\",dataset_name)\n",
    "    Map.addLayer(image_new.gt(0).unmask(),visParams,dataset_name,0,1)\n",
    "    \n",
    "    \n",
    "Map.addLayer(roi,{},'roi ',1,1)\n",
    "# Map.addLayer(roi_alerts_buffer,{},'roi buffer zone')\n",
    "\n",
    "if debug: print (\"All layers added\")    "
   ]
  },
  {
   "cell_type": "markdown",
   "id": "440a5615-0482-49a7-946e-3c99dff6f2a7",
   "metadata": {
    "tags": []
   },
   "source": [
    "##### Show on map and zoom to a specific feature based on index number in feature collection\n",
    " Layers visibility off by default - toggle on in top right corner"
   ]
  },
  {
   "cell_type": "code",
   "execution_count": null,
   "id": "cdc3dfb2-91fc-4e78-a49e-85c7294c794c",
   "metadata": {
    "tags": []
   },
   "outputs": [],
   "source": [
    "# number/index from list of ROI features - the selected feature is shown on the map. e.g., choose 0 for first in the list \n",
    "feature_to_centre_on = 1\n",
    "\n",
    "#choose how close to zoom to chosen polygon (1-24, where 24 is fully zoomed in) \n",
    "zoom_level = 16 \n",
    "\n",
    "single_feature_id = roi.aggregate_array(geo_id_column).get(feature_to_centre_on).getInfo()\n",
    "if debug: print (geo_id_column,single_feature_id)\n",
    "single_feature = ee.Feature(roi.filter(ee.Filter.eq(geo_id_column,single_feature_id)).first())\n",
    "\n",
    "Map.centerObject(single_feature,zoom_level)\n",
    "    \n",
    "Map"
   ]
  },
  {
   "cell_type": "markdown",
   "id": "1d5049a9",
   "metadata": {},
   "source": [
    "### Logout (protected)"
   ]
  },
  {
   "cell_type": "code",
   "execution_count": null,
   "id": "d51242cb",
   "metadata": {},
   "outputs": [],
   "source": [
    "# res = session.get(asset_registry_base + \"/logout\")\n",
    "# if debug: print (res.json())\n",
    "# res = session.get(user_registry_base + \"/logout\", cookies=session.cookies)\n",
    "# session.headers.clear()"
   ]
  },
  {
   "cell_type": "markdown",
   "id": "1d7ef7cf",
   "metadata": {},
   "source": [
    "### Checking if Logged out correctly"
   ]
  },
  {
   "cell_type": "code",
   "execution_count": null,
   "id": "d6dee3bc",
   "metadata": {},
   "outputs": [],
   "source": [
    "# # Confirming the logout from Asset Registry by requesting a Protected route\n",
    "# req_body = {\n",
    "#     \"latitude\": 31.47704430446457,\n",
    "#     \"longitude\": 74.37510786779589\n",
    "# }\n",
    "# res = session.post(asset_registry_base + \"/fetch-fields-for-a-point\", json=req_body)\n",
    "# if debug: print (res.json())"
   ]
  },
  {
   "cell_type": "markdown",
   "id": "8a07b78b",
   "metadata": {
    "tags": []
   },
   "source": [
    "### Get all Domains (public)"
   ]
  },
  {
   "cell_type": "code",
   "execution_count": null,
   "id": "93cf8a1d",
   "metadata": {
    "tags": []
   },
   "outputs": [],
   "source": [
    "# # Fetching all the domains from the User Registry\n",
    "# res = session.get(asset_registry_base + \"/domains\")\n",
    "# if debug: print (res.json())"
   ]
  },
  {
   "cell_type": "code",
   "execution_count": null,
   "id": "f11dedf3-235f-4614-9b51-b986d986692d",
   "metadata": {},
   "outputs": [],
   "source": []
  },
  {
   "cell_type": "code",
   "execution_count": null,
   "id": "f3bbc06b-6bf1-46ad-ad10-a5a10adc47c8",
   "metadata": {},
   "outputs": [],
   "source": []
  }
 ],
 "metadata": {
  "kernelspec": {
   "display_name": "Python 3",
   "language": "python",
   "name": "python3"
  },
  "language_info": {
   "codemirror_mode": {
    "name": "ipython",
    "version": 3
   },
   "file_extension": ".py",
   "mimetype": "text/x-python",
   "name": "python",
   "nbconvert_exporter": "python",
   "pygments_lexer": "ipython3",
   "version": "3.8.10"
  },
  "vscode": {
   "interpreter": {
    "hash": "31f2aee4e71d21fbe5cf8b01ff0e069b9275f58929596ceb00d14d90e3e16cd6"
   }
  }
 },
 "nbformat": 4,
 "nbformat_minor": 5
}
