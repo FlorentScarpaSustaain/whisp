{
 "cells": [
  {
   "cell_type": "markdown",
   "id": "24e78804",
   "metadata": {},
   "source": [
    "### imports"
   ]
  },
  {
   "cell_type": "code",
   "execution_count": 3,
   "id": "bf2e1318",
   "metadata": {
    "tags": []
   },
   "outputs": [],
   "source": [
    "import requests\n",
    "import json\n",
    "import ee\n",
    "import geemap\n",
    "import folium\n",
    "import os\n",
    "import pandas as pd"
   ]
  },
  {
   "cell_type": "markdown",
   "id": "ae42dc14",
   "metadata": {},
   "source": [
    "### Web app deployed URLs"
   ]
  },
  {
   "cell_type": "code",
   "execution_count": 4,
   "id": "998b8727",
   "metadata": {
    "tags": []
   },
   "outputs": [],
   "source": [
    "asset_registry_base = \"https://api-ar.agstack.org\"\n",
    "user_registry_base = \"https://user-registry.agstack.org\""
   ]
  },
  {
   "cell_type": "markdown",
   "id": "33160081",
   "metadata": {},
   "source": [
    "### Add your email & password to register with Agstack and test out the APIs"
   ]
  },
  {
   "cell_type": "code",
   "execution_count": 7,
   "id": "05cfa011",
   "metadata": {
    "tags": []
   },
   "outputs": [],
   "source": [
    "email = \"remi.dannunzio@fao.org\" #\"my_name@domain.org\"\n",
    "phone_num = \"0123456789\"\n",
    "password = \"Remi12345\" #\"this_is_not_a_password\"\n",
    "discoverable = True"
   ]
  },
  {
   "cell_type": "markdown",
   "id": "09252a5a",
   "metadata": {},
   "source": [
    "#### Start Session"
   ]
  },
  {
   "cell_type": "code",
   "execution_count": 6,
   "id": "70ace363",
   "metadata": {
    "tags": []
   },
   "outputs": [
    {
     "name": "stdout",
     "output_type": "stream",
     "text": [
      "<RequestsCookieJar[]>\n",
      "500\n"
     ]
    }
   ],
   "source": [
    "# using session to store cookies that are persistent\n",
    "session = requests.session()\n",
    "session.headers = headers = {\n",
    "    'Accept': 'application/json',\n",
    "    'Content-Type': 'application/json'\n",
    "}\n",
    "req_body = {'email': email, 'password': password}\n",
    "res = session.post(user_registry_base, json=req_body)\n",
    "print(session.cookies)\n",
    "print(res.status_code)"
   ]
  },
  {
   "cell_type": "markdown",
   "id": "22de5df7",
   "metadata": {},
   "source": [
    "### 1. Grab land cover datasets"
   ]
  },
  {
   "cell_type": "code",
   "execution_count": 8,
   "id": "5ae87ed9-f4e4-4a98-81df-e66e17aa77f1",
   "metadata": {
    "tags": []
   },
   "outputs": [],
   "source": [
    "ee.Initialize()"
   ]
  },
  {
   "cell_type": "markdown",
   "id": "9a239095-5568-4ee9-aff0-9508756b47d1",
   "metadata": {
    "tags": []
   },
   "source": [
    "#### Fetch: Tropical Moist Forest by JRC\n",
    "Link:\n",
    "Overview:\n",
    "Reference:\n",
    "\n",
    "Legend: \n",
    "- value 10. Undisturbed Tropical Moist Forest (TMF) \n",
    "- value 20. Degraded TMF \n",
    "- value 30. TMF regrowth \n",
    "- value 41. Deforested land - Forest converted to tree plantations \n",
    "- value 42. Deforested Land - Forest converted to water\n",
    "- value 43. Deforested Land - Forest converted to other LC\n",
    "- value 50. Ongoing deforestation or degradation (2019-2021)\n",
    "- value 60. Permanent or Seasonal Water  (Pekel et al. 2016 & updates for years 2015-2021) \n",
    "- value 70. Other land cover (including afforestation)"
   ]
  },
  {
   "cell_type": "code",
   "execution_count": 9,
   "id": "705083fb-f59b-4dad-bcd8-15288fa41bf6",
   "metadata": {
    "tags": []
   },
   "outputs": [],
   "source": [
    "TransitionMap = ee.ImageCollection('projects/JRC/TMF/v1_2021/TransitionMap_Subtypes').mosaic()\n",
    "\n",
    "TransitionMap_Main = TransitionMap.where((TransitionMap.gte(10))and(TransitionMap.lte(12)), 10)\n",
    "TransitionMap_Main = TransitionMap_Main.where((TransitionMap.gte(21))and(TransitionMap.lte(26)), 20)\n",
    "TransitionMap_Main = TransitionMap_Main.where((TransitionMap.gte(61))and(TransitionMap.lte(62)), 20)\n",
    "TransitionMap_Main = TransitionMap_Main.where((TransitionMap.gte(31))and(TransitionMap.lte(33)), 30)\n",
    "TransitionMap_Main = TransitionMap_Main.where((TransitionMap.gte(63))and(TransitionMap.lte(64)), 30)\n",
    "TransitionMap_Main = TransitionMap_Main.where((TransitionMap.gte(81))and(TransitionMap.lte(86)), 41)\n",
    "TransitionMap_Main = TransitionMap_Main.where((TransitionMap.gte(73))and(TransitionMap.lte(74)), 42)\n",
    "TransitionMap_Main = TransitionMap_Main.where((TransitionMap.gte(41))and(TransitionMap.lte(42)), 43)\n",
    "TransitionMap_Main = TransitionMap_Main.where((TransitionMap.gte(65))and(TransitionMap.lte(66)), 43)\n",
    "TransitionMap_Main = TransitionMap_Main.where((TransitionMap.gte(51))and(TransitionMap.lte(54)), 50)\n",
    "TransitionMap_Main = TransitionMap_Main.where((TransitionMap.eq(67)),50)\n",
    "TransitionMap_Main = TransitionMap_Main.where((TransitionMap.gte(71))and(TransitionMap.lte(72)), 60)\n",
    "TransitionMap_Main = TransitionMap_Main.where((TransitionMap.gte(91)), 70)"
   ]
  },
  {
   "cell_type": "code",
   "execution_count": 10,
   "id": "b68d3603-a624-4732-a0a6-e1f74e82ce49",
   "metadata": {
    "tags": []
   },
   "outputs": [],
   "source": [
    "tmf = TransitionMap_Main"
   ]
  },
  {
   "cell_type": "markdown",
   "id": "5865f990-f5a2-4996-b0d3-a2e177245329",
   "metadata": {},
   "source": [
    "#### Fetch FDAP Palm probability layer\n",
    "Link: \n",
    "Overview:"
   ]
  },
  {
   "cell_type": "code",
   "execution_count": 11,
   "id": "c7bb33a3-0e3b-47fd-940d-4623757253db",
   "metadata": {
    "tags": []
   },
   "outputs": [],
   "source": [
    "fdap_palm = ee.Image('projects/fao-fdp-review/assets/palm/palm_prob_test')"
   ]
  },
  {
   "cell_type": "markdown",
   "id": "3f3a2900-6f80-4285-a0e6-b65534636146",
   "metadata": {},
   "source": [
    "#### Fetch GFC tree cover, derive tree cover in 2020\n",
    "Link: \n",
    "Overview:"
   ]
  },
  {
   "cell_type": "markdown",
   "id": "c617f1e7-e46e-4a6e-b65d-10bfc9a2fd75",
   "metadata": {
    "tags": []
   },
   "source": [
    "#### Fetch: ESRI 2020 Global Land Use Land Cover from Sentinel-2\n",
    "- Link: https://gee-community-catalog.org/projects/esrilc2020/\n",
    "- Overview: \n",
    "- Reference:  Karra, Kontgis, et al. “Global land use/land cover with Sentinel-2 and deep learning.” IGARSS 2021-2021 IEEE International Geoscience and Remote Sensing Symposium. IEEE, 2021.\n",
    "- Legend:\n",
    "1. \tNo Data #FFFFFF\n",
    "2. \tWater #1A5BAB\n",
    "3. \tTrees #358221\n",
    "4. \tGrass #A7D282\n",
    "5. \tFlooded Vegetation #87D19E\n",
    "6. \tCrops #FFDB5C\n",
    "7. \tScrub/Shrub #EECFA8\n",
    "8. \tBuilt Area #ED022A\n",
    "9. \tBare Ground #EDE9E4\n",
    "10. \tSnow/Ice #F2FAFF\n",
    "11. \tClouds #C8C8C8"
   ]
  },
  {
   "cell_type": "code",
   "execution_count": 12,
   "id": "157e44f6-4752-4374-8e70-520ec50c50b9",
   "metadata": {
    "tags": []
   },
   "outputs": [],
   "source": [
    "esri_2020 = ee.ImageCollection(\"projects/sat-io/open-datasets/landcover/ESRI_Global-LULC_10m\").mosaic()"
   ]
  },
  {
   "cell_type": "markdown",
   "id": "5d1c084c",
   "metadata": {
    "tags": []
   },
   "source": [
    "### 2. Fetch a Field (public)"
   ]
  },
  {
   "cell_type": "markdown",
   "id": "63cc4ca4-bcdb-4408-8ae7-d09b10eb5671",
   "metadata": {},
   "source": [
    "#### Cote d'Ivoire: \n",
    "0520cfac98fbc1bd7952b1c07a9f6983b83625722b6f665ea83ac9aad3512918\n",
    "\n",
    "b84f55de2b7f3c77d1cbeb8b026a1b29be42d8b08d92058c9143e0556456820f\n",
    "\n",
    "b7c15efb6e3c63fcfe649a2d994973a6f5caa844f720f0edb7cf24f6a6c3c1b3\n",
    "\n",
    "fa2aff0d60cf1bc0e1f1dd4b91daf932940c31c021ca1b84f5b9445855eef02f\n",
    "\n",
    "#### Ghana:\n",
    "88bec54ad04804f5b1fafbc131266640a129be2840fa6797cda358d7e831b907\n",
    "\n",
    "ef2f7c46fbe4fc892fdb81f9a31c9c507b9f1e4548504247dcbbab28cf8e436c\n",
    "\n",
    "97408ef7bdac487e4a42e4abf20492b786310889fd4b0478603e2d0004c40bfb\n",
    "\n",
    "#### Indonesia:\n",
    "c288d6c94efa9011c0e3452af9f7fa0941661377030e10d29c68764617f9816d\n",
    "\n",
    "1a41a309ae2387f36a604c9a6c81887e64357a7f61d228758e23ef766286fcd7\n",
    "\n",
    "1a4472dc40700ef33f931863f58d444f243d64418616678fcf85c57e1f4bbf45\n",
    "\n",
    "8e2accea7ddbb84b7f6001e00bcb60f57f563c80633b53859993522a6f05727a\n"
   ]
  },
  {
   "cell_type": "code",
   "execution_count": 17,
   "id": "0c32da5b-a50b-443f-aec7-52ccdbcafc03",
   "metadata": {
    "tags": []
   },
   "outputs": [],
   "source": [
    "geo_id = \"0520cfac98fbc1bd7952b1c07a9f6983b83625722b6f665ea83ac9aad3512918\" #\"c288d6c94efa9011c0e3452af9f7fa0941661377030e10d29c68764617f9816d\" # geo id for the field to fetch"
   ]
  },
  {
   "cell_type": "code",
   "execution_count": 18,
   "id": "d51db813",
   "metadata": {},
   "outputs": [
    {
     "name": "stdout",
     "output_type": "stream",
     "text": [
      "[[[-4.102889299392701, 5.713707261060872], [-4.102438688278199, 5.710173648788193], [-4.101483821868897, 5.710205675583411], [-4.101086854934693, 5.710664726118069], [-4.100604057312013, 5.710344458341974], [-4.100368022918702, 5.711657555086256], [-4.100528955459596, 5.712810515599572], [-4.101483821868897, 5.713525776973704], [-4.102889299392701, 5.713707261060872]]]\n"
     ]
    }
   ],
   "source": [
    "res = session.get(asset_registry_base + f\"/fetch-field/{geo_id}?s2_index=\") # s2 index are indexes for which we need S2 cell token\n",
    "poly_json = res.json()['Geo JSON']['geometry']['coordinates']\n",
    "print(poly_json)"
   ]
  },
  {
   "cell_type": "code",
   "execution_count": 24,
   "id": "f7cc640d",
   "metadata": {
    "tags": []
   },
   "outputs": [],
   "source": [
    "# S2 indexes of 8 and 15 are used here for the geo data\n",
    "# res = session.get(asset_registry_base + f\"/fetch-field/{geo_id}?s2_index=8,15\") # s2 index are indexes for which we need S2 cell tokens\n",
    "# poly_wkt = res.json()['Geo Data']['wkt']\n",
    "# print(poly_wkt)"
   ]
  },
  {
   "cell_type": "markdown",
   "id": "29a2f1d0",
   "metadata": {},
   "source": [
    "#### Transform geometry into a GEE Asset"
   ]
  },
  {
   "cell_type": "code",
   "execution_count": 19,
   "id": "51c53e49-26dc-41d7-b3f3-d7fbc5585c20",
   "metadata": {
    "tags": []
   },
   "outputs": [],
   "source": [
    "roi = ee.FeatureCollection(ee.Feature(ee.Geometry.Polygon(poly_json),ee.Dictionary([\"geoid\",geo_id])))"
   ]
  },
  {
   "cell_type": "markdown",
   "id": "874274c3-15af-4aca-b407-f7683f883878",
   "metadata": {},
   "source": [
    "#### Compute statistics"
   ]
  },
  {
   "cell_type": "code",
   "execution_count": 20,
   "id": "c181940b-141e-4aab-9dc3-0f8781e0a610",
   "metadata": {
    "tags": []
   },
   "outputs": [
    {
     "name": "stdout",
     "output_type": "stream",
     "text": [
      "Computing ... \n",
      "Generating URL ...\n",
      "Downloading data from https://earthengine.googleapis.com/v1alpha/projects/earthengine-legacy/tables/edbaf763c983d96238bbeaef683c604c-f37a67f9a565c672e4c9e5eba2474924:getFeatures\n",
      "Please wait ...\n",
      "Data downloaded to /home/sepal-user/fdap/poly_stats.csv\n"
     ]
    }
   ],
   "source": [
    "stats = os.path.join('/home/sepal-user/fdap/poly_stats.csv') \n",
    "geemap.zonal_statistics_by_group(tmf.clip(roi), roi, stats, statistics_type='SUM', denominator=1, decimal_places=2)"
   ]
  },
  {
   "cell_type": "code",
   "execution_count": 21,
   "id": "af4059e4-354f-44e1-a5e9-5f12b2f6d154",
   "metadata": {
    "tags": []
   },
   "outputs": [
    {
     "data": {
      "text/html": [
       "<div>\n",
       "<style scoped>\n",
       "    .dataframe tbody tr th:only-of-type {\n",
       "        vertical-align: middle;\n",
       "    }\n",
       "\n",
       "    .dataframe tbody tr th {\n",
       "        vertical-align: top;\n",
       "    }\n",
       "\n",
       "    .dataframe thead th {\n",
       "        text-align: right;\n",
       "    }\n",
       "</style>\n",
       "<table border=\"1\" class=\"dataframe\">\n",
       "  <thead>\n",
       "    <tr style=\"text-align: right;\">\n",
       "      <th></th>\n",
       "      <th>Class_sum</th>\n",
       "      <th>system:index</th>\n",
       "      <th>geoid</th>\n",
       "    </tr>\n",
       "  </thead>\n",
       "  <tbody>\n",
       "    <tr>\n",
       "      <th>0</th>\n",
       "      <td>0.0</td>\n",
       "      <td>0</td>\n",
       "      <td>c288d6c94efa9011c0e3452af9f7fa0941661377030e10...</td>\n",
       "    </tr>\n",
       "  </tbody>\n",
       "</table>\n",
       "</div>"
      ],
      "text/plain": [
       "   Class_sum  system:index                                              geoid\n",
       "0        0.0             0  c288d6c94efa9011c0e3452af9f7fa0941661377030e10..."
      ]
     },
     "execution_count": 21,
     "metadata": {},
     "output_type": "execute_result"
    }
   ],
   "source": [
    "table = pd.read_csv('/home/sepal-user/fdap/tmf_stats.csv')\n",
    "table"
   ]
  },
  {
   "cell_type": "markdown",
   "id": "e3b512b0-f24b-4554-9d0b-8d34929804cd",
   "metadata": {},
   "source": [
    "#### Display layers"
   ]
  },
  {
   "cell_type": "code",
   "execution_count": 22,
   "id": "e04a036b-c67a-4e86-891d-0f53b84d7f88",
   "metadata": {
    "tags": []
   },
   "outputs": [],
   "source": [
    "m = geemap.Map()"
   ]
  },
  {
   "cell_type": "code",
   "execution_count": 24,
   "id": "624bb353-b055-4747-bd52-474e0c1f04e5",
   "metadata": {
    "tags": []
   },
   "outputs": [],
   "source": [
    "m.addLayer(roi,{},'field')\n",
    "m.addLayer(fdap_palm,{},'Palm Probability')\n",
    "m.addLayer(tmf,{},'TMF')\n",
    "#m.addLayer()\n",
    "\n",
    "m.centerObject(roi)"
   ]
  },
  {
   "cell_type": "code",
   "execution_count": 25,
   "id": "bd7ad892-8a21-449a-8f6b-328fd3462af9",
   "metadata": {
    "tags": []
   },
   "outputs": [
    {
     "data": {
      "application/vnd.jupyter.widget-view+json": {
       "model_id": "3a462608edf14a0995c1ff1fecef3e53",
       "version_major": 2,
       "version_minor": 0
      },
      "text/plain": [
       "Map(center=[5.711940454924533, -4.101628661155702], controls=(WidgetControl(options=['position', 'transparent_…"
      ]
     },
     "metadata": {},
     "output_type": "display_data"
    }
   ],
   "source": [
    "m"
   ]
  },
  {
   "cell_type": "code",
   "execution_count": null,
   "id": "82e50ac3-a159-4cae-a683-ed9ad18658ce",
   "metadata": {},
   "outputs": [],
   "source": [
    "draw = "
   ]
  },
  {
   "cell_type": "code",
   "execution_count": 21,
   "id": "8a5c5119-3509-47bc-a9f1-c42ee9c54e3c",
   "metadata": {
    "tags": []
   },
   "outputs": [],
   "source": [
    "m.addLayer(TransitionMap_Main,{},'tmf_all')"
   ]
  },
  {
   "cell_type": "code",
   "execution_count": null,
   "id": "c8bb8ddb-dc6b-44df-9703-d85c858ace42",
   "metadata": {
    "tags": []
   },
   "outputs": [],
   "source": [
    "# Define the class names\n",
    "class_names = ['TMF_undis', 'TMF_degrad', 'TMF_regrow', 'Defor_plantation', 'Defor_water', 'Defor_land','Defor_active','water','other_land']\n",
    "\n",
    "# Create a function to count pixels for each class\n",
    "def count_pixels(image, roi):\n",
    "    counts = image.reduceRegion(\n",
    "        reducer=ee.Reducer.frequencyHistogram(),\n",
    "        geometry=roi,\n",
    "        scale=90,\n",
    "        maxPixels=1e9\n",
    "    )\n",
    "    \n",
    "    # Convert pixel counts to a feature with properties\n",
    "    feature = ee.Feature(None, counts)\n",
    "    \n",
    "    return feature\n",
    "\n",
    "# Apply the count_pixels function to the classified image\n",
    "pixel_counts_feature = count_pixels(tmf, roi)\n",
    "\n",
    "# Create a feature collection with a single feature\n",
    "fc_pix = ee.FeatureCollection([pixel_counts_feature])"
   ]
  },
  {
   "cell_type": "code",
   "execution_count": null,
   "id": "31504579-dd93-4065-af04-0e0f2efcbd4e",
   "metadata": {
    "tags": []
   },
   "outputs": [],
   "source": [
    "Map = geemap.Map()\n",
    "Map"
   ]
  },
  {
   "cell_type": "code",
   "execution_count": null,
   "id": "f586377f-9faf-49e7-a3c4-3f198c6a0349",
   "metadata": {
    "tags": []
   },
   "outputs": [],
   "source": [
    "dataset = ee.Image('USGS/NLCD/NLCD2016')\n",
    "landcover = ee.Image(dataset.select('landcover'))\n",
    "m.addLayer(landcover, {}, 'NLCD 2016')\n"
   ]
  },
  {
   "cell_type": "code",
   "execution_count": null,
   "id": "6f3765ec-927c-4e45-bd6d-82f8b44c6158",
   "metadata": {
    "tags": []
   },
   "outputs": [],
   "source": [
    "Map.add_legend(builtin_legend='NLCD')"
   ]
  },
  {
   "cell_type": "code",
   "execution_count": null,
   "id": "94d443b2-d48c-4d32-a097-dfed257e5074",
   "metadata": {
    "tags": []
   },
   "outputs": [],
   "source": [
    "nlcd_stats = os.path.join('/home/sepal-user/fdap/nlcd_stats_sum.csv')  \n",
    "    \n",
    "# statistics_type can be either 'SUM' or 'PERCENTAGE'\n",
    "# denominator can be used to convert square meters to other areal units, such as square kilimeters\n",
    "geemap.zonal_statistics_by_group(landcover, states, nlcd_stats, statistics_type='SUM', denominator=1000000, decimal_places=2)"
   ]
  },
  {
   "cell_type": "code",
   "execution_count": null,
   "id": "15563232-c6dd-42b9-9d71-7bc5328c4563",
   "metadata": {
    "tags": []
   },
   "outputs": [],
   "source": [
    "print(fc_pix.getInfo())"
   ]
  },
  {
   "cell_type": "code",
   "execution_count": null,
   "id": "4925263d-649f-4132-b120-81c1839efcb1",
   "metadata": {
    "tags": []
   },
   "outputs": [],
   "source": [
    "m.addLayer(fc_pix,{},'counts')"
   ]
  },
  {
   "cell_type": "code",
   "execution_count": null,
   "id": "a0150023-33df-46b0-bd59-fda7a52c9518",
   "metadata": {
    "tags": []
   },
   "outputs": [],
   "source": [
    "# Export the results as a CSV table\n",
    "task = ee.batch.Export.table.toDrive(\n",
    "    collection=ee.FeatureCollection([ee.Feature(None, pixel_counts)]),\n",
    "    description='PixelCounts',\n",
    "    fileFormat='CSV'\n",
    ")\n",
    "\n",
    "task.start()"
   ]
  },
  {
   "cell_type": "code",
   "execution_count": null,
   "id": "7d93bd9e-b4bf-4ef6-a74f-575c9c5cf2ae",
   "metadata": {},
   "outputs": [],
   "source": [
    "# Create a chart\n",
    "chart = geemap.chart.Feature.setChartSeriesNames(class_names).FeatureCollection(pixel_counts).barChart(\n",
    "    xProperty='label',\n",
    "    yProperties=class_names,\n",
    "    title='Pixel Counts by Class',\n",
    "    xlabel='Class',\n",
    "    ylabel='Pixel Count'\n",
    ")\n",
    "\n",
    "# Display the chart\n",
    "chart.renderWidget(width='800px', height='400px')"
   ]
  },
  {
   "cell_type": "code",
   "execution_count": null,
   "id": "f06b103f-f3b0-402a-a434-d66cac43bdaa",
   "metadata": {
    "tags": []
   },
   "outputs": [],
   "source": [
    "# Create a chart\n",
    "chart = folium.Figure(width=800, height=400)\n",
    "bar_chart = folium.Bar(\n",
    "    data=class_names,\n",
    "    height=400,\n",
    "    width=800\n",
    ")\n",
    "bar_chart.add_to(chart)\n",
    "\n",
    "# Add data to the chart\n",
    "for i, class_name in enumerate(class_names):\n",
    "    bar_chart.add_child(folium.Marker([0, 0], icon=folium.DivIcon(html=f'<p>{class_name}: {pixel_counts[i]}</p>'))\n",
    "\n"
   ]
  },
  {
   "cell_type": "code",
   "execution_count": null,
   "id": "30e9dd1d-9313-4640-b12b-608e26773b51",
   "metadata": {
    "tags": []
   },
   "outputs": [],
   "source": [
    "polygon = roi.geometry().getInfo()\n",
    "print(polygon)"
   ]
  },
  {
   "cell_type": "code",
   "execution_count": null,
   "id": "ccdcc62e-ba9f-4f26-abbc-3566f48a872c",
   "metadata": {},
   "outputs": [],
   "source": []
  },
  {
   "cell_type": "code",
   "execution_count": null,
   "id": "c83a4e6b-348c-411e-a803-dbcae5cb58e1",
   "metadata": {
    "tags": []
   },
   "outputs": [],
   "source": [
    "req_body = {\"wkt\": polygon, \"s2_index\": \"8,13\",\n",
    "            \"threshold\": 90}\n",
    "res = session.post(asset_registry_base +\n",
    "                   \"/register-field-boundary\", json=req_body)\n",
    "print(res.json())"
   ]
  },
  {
   "cell_type": "code",
   "execution_count": null,
   "id": "0b9c96d0-457e-42c7-9b26-5677dcbcf1f0",
   "metadata": {
    "tags": []
   },
   "outputs": [],
   "source": [
    "#Cote d'Ivoire: \n",
    "'0520cfac98fbc1bd7952b1c07a9f6983b83625722b6f665ea83ac9aad3512918'\n",
    "'b84f55de2b7f3c77d1cbeb8b026a1b29be42d8b08d92058c9143e0556456820f'\n",
    "'b7c15efb6e3c63fcfe649a2d994973a6f5caa844f720f0edb7cf24f6a6c3c1b3'\n",
    "'fa2aff0d60cf1bc0e1f1dd4b91daf932940c31c021ca1b84f5b9445855eef02f'\n",
    "\n",
    "#Ghana:\n",
    "'88bec54ad04804f5b1fafbc131266640a129be2840fa6797cda358d7e831b907'\n",
    "'ef2f7c46fbe4fc892fdb81f9a31c9c507b9f1e4548504247dcbbab28cf8e436c'\n",
    "'97408ef7bdac487e4a42e4abf20492b786310889fd4b0478603e2d0004c40bfb'\n",
    "\n",
    "#Indonesia:\n",
    "'c288d6c94efa9011c0e3452af9f7fa0941661377030e10d29c68764617f9816d'\n",
    "'1a41a309ae2387f36a604c9a6c81887e64357a7f61d228758e23ef766286fcd7'\n",
    "'1a4472dc40700ef33f931863f58d444f243d64418616678fcf85c57e1f4bbf45'\n",
    "'8e2accea7ddbb84b7f6001e00bcb60f57f563c80633b53859993522a6f05727a'\n"
   ]
  },
  {
   "cell_type": "code",
   "execution_count": null,
   "id": "3302477e",
   "metadata": {},
   "outputs": [],
   "source": [
    "polygon = \"POLYGON((74.37522137108041 31.47851268355822,74.37249624672128 31.47408400867522,74.36957800331308 31.47853098343284,74.37522137108041 31.47851268355822))\"\n",
    "# domain filter is optional\n",
    "req_body = {\n",
    "    \"wkt\": polygon,\n",
    "    \"resolution_level\": 13, # resolution level for overlapping criteria\n",
    "    \"threshold\": 90, # fields with overlap greater than the threshold are fetched\n",
    "    \"domain\": \"\" # filters fields associated with a specific domain using the Authority Token\n",
    "}\n",
    "res = session.post(asset_registry_base + \"/fetch-overlapping-fields\", json=req_body)\n",
    "print(res.json())"
   ]
  },
  {
   "cell_type": "markdown",
   "id": "99fa015e",
   "metadata": {},
   "source": [
    "#### Fetch overlapping fields filtered by a specific domain"
   ]
  },
  {
   "cell_type": "code",
   "execution_count": null,
   "id": "038bdf36",
   "metadata": {},
   "outputs": [],
   "source": [
    "polygon = \"POLYGON((74.37522137108041 31.47851268355822,74.37249624672128 31.47408400867522,74.36957800331308 31.47853098343284,74.37522137108041 31.47851268355822))\"\n",
    "# domain filter is optional\n",
    "req_body = {\n",
    "    \"wkt\": polygon,\n",
    "    \"resolution_level\": 13,\n",
    "    \"threshold\": 10,\n",
    "    \"s2_index\": \"8,13\",\n",
    "    \"domain\": \"gmail.com\" # filters fields associated with gmail.com domain\n",
    "}\n",
    "res = session.post(asset_registry_base + \"/fetch-overlapping-fields\", json=req_body)\n",
    "print(res.json())"
   ]
  },
  {
   "cell_type": "markdown",
   "id": "706b8318",
   "metadata": {},
   "source": [
    "#### Fetch overlapping fields filtered by a specific domain and boundary type"
   ]
  },
  {
   "cell_type": "code",
   "execution_count": null,
   "id": "b14b1f7a",
   "metadata": {},
   "outputs": [],
   "source": [
    "polygon = \"POLYGON((74.31419491767885 31.588479372712193,74.3137550354004 31.587017094223253,74.31616902351381 31.586651521015398,74.31653380393983 31.58815036205298,74.31419491767885 31.588479372712193))\"\n",
    "# domain filter is optional\n",
    "req_body = {\n",
    "    \"wkt\": polygon,\n",
    "    \"resolution_level\": 13,\n",
    "    \"threshold\": 10,\n",
    "    \"s2_index\": \"8,13\",\n",
    "    \"boundary_type\": \"automated\" # boundary type filter\n",
    "}\n",
    "res = session.post(asset_registry_base + \"/fetch-overlapping-fields\", json=req_body)\n",
    "print(res.json())\n",
    "print(\"\")\n",
    "print(\"2 fields returned with boundary type as automated. No domain filter applied\")"
   ]
  },
  {
   "cell_type": "code",
   "execution_count": null,
   "id": "dbf8ef5e",
   "metadata": {},
   "outputs": [],
   "source": [
    "polygon = \"POLYGON((74.31419491767885 31.588479372712193,74.3137550354004 31.587017094223253,74.31616902351381 31.586651521015398,74.31653380393983 31.58815036205298,74.31419491767885 31.588479372712193))\"\n",
    "# domain filter is optional\n",
    "req_body = {\n",
    "    \"wkt\": polygon,\n",
    "    \"resolution_level\": 13,\n",
    "    \"threshold\": 10,\n",
    "    \"s2_index\": \"8,13\",\n",
    "    \"domain\": \"test.com\", # filters fields associated with test.com domain\n",
    "    \"boundary_type\": \"automated\" # boundary type filter\n",
    "}\n",
    "res = session.post(asset_registry_base + \"/fetch-overlapping-fields\", json=req_body)\n",
    "print(res.json())\n",
    "print(\"\")\n",
    "print(\"1 field returned with boundary type as automated for same previous polygon as domain filter applied\")"
   ]
  },
  {
   "cell_type": "markdown",
   "id": "2421654f",
   "metadata": {},
   "source": [
    "### 4. Get Percentage overlap of two fields (public)"
   ]
  },
  {
   "cell_type": "code",
   "execution_count": null,
   "id": "61102a09",
   "metadata": {},
   "outputs": [],
   "source": [
    "req_body = {\n",
    "    \"geo_id_field_1\": \"6f14410edb9ae3417a85c8686a5bbbb70fa8b68ef0d69c2960a803f0db4ebf9e\",\n",
    "    \"geo_id_field_2\": \"89d864f50bb864fb79fb5672f51da53991bc92e12c61f9222d5e35cd5ad52c0c\"\n",
    "}\n",
    "res = session.post(asset_registry_base + \"/get-percentage-overlap-two-fields\", json=req_body)\n",
    "print(res.json())"
   ]
  },
  {
   "cell_type": "markdown",
   "id": "264fa114",
   "metadata": {},
   "source": [
    "### 5. Fetch fields for a Point (protected)"
   ]
  },
  {
   "cell_type": "code",
   "execution_count": null,
   "id": "00ceb1f4",
   "metadata": {},
   "outputs": [],
   "source": [
    "req_body = {\n",
    "    \"latitude\": 31.47704430446457,\n",
    "    \"longitude\": 74.37510786779589,\n",
    "    \"domain\": \"\" # filters fields associated with test.com domain\n",
    "}\n",
    "res = session.post(asset_registry_base + \"/fetch-fields-for-a-point\", json=req_body)\n",
    "print(res.json())"
   ]
  },
  {
   "cell_type": "markdown",
   "id": "79df2577",
   "metadata": {},
   "source": [
    "#### Fetch specific s2 index cell tokens"
   ]
  },
  {
   "cell_type": "code",
   "execution_count": null,
   "id": "9cf0c416",
   "metadata": {},
   "outputs": [],
   "source": [
    "req_body = {\n",
    "    \"latitude\": 31.47704430446457,\n",
    "    \"longitude\": 74.37510786779589,\n",
    "    \"s2_index\": \"8,13\" # s2 index are indexes for which we need S2 cell tokens\n",
    "}\n",
    "res = session.post(asset_registry_base + \"/fetch-fields-for-a-point\", json=req_body)\n",
    "print(res.json())"
   ]
  },
  {
   "cell_type": "markdown",
   "id": "f587504f",
   "metadata": {},
   "source": [
    "### 6. Fetch the Bounding Box Fields (protected)"
   ]
  },
  {
   "cell_type": "code",
   "execution_count": null,
   "id": "2da574e5",
   "metadata": {},
   "outputs": [],
   "source": [
    "req_body = {\n",
    "    \"latitudes\": \"31.477779423633137 31.478602920901388 31.474320655972566 31.47543699178076\",\n",
    "    \"longitudes\": \"74.3729835582561 74.38032208212084 74.37404571302599 74.38112674482531\"\n",
    "}\n",
    "res = session.post(asset_registry_base + \"/fetch-bounding-box-fields\", json=req_body)\n",
    "print(res.json())"
   ]
  },
  {
   "cell_type": "markdown",
   "id": "cef1809b",
   "metadata": {},
   "source": [
    "#### Fetch specific s2 index cell tokens"
   ]
  },
  {
   "cell_type": "code",
   "execution_count": null,
   "id": "fe7f7705",
   "metadata": {},
   "outputs": [],
   "source": [
    "req_body = {\n",
    "    \"latitudes\": \"31.477779423633137 31.478602920901388 31.474320655972566 31.47543699178076\",\n",
    "    \"longitudes\": \"74.3729835582561 74.38032208212084 74.37404571302599 74.38112674482531\",\n",
    "    \"s2_index\": \"8,15\" # s2 index are indexes for which we need S2 cell tokens\n",
    "}\n",
    "res = session.post(asset_registry_base + \"/fetch-bounding-box-fields\", json=req_body)\n",
    "print(res.json())"
   ]
  },
  {
   "cell_type": "markdown",
   "id": "1d5049a9",
   "metadata": {},
   "source": [
    "### Logout (protected)"
   ]
  },
  {
   "cell_type": "code",
   "execution_count": null,
   "id": "d51242cb",
   "metadata": {},
   "outputs": [],
   "source": [
    "res = session.get(asset_registry_base + \"/logout\")\n",
    "print(res.json())\n",
    "res = session.get(user_registry_base + \"/logout\", cookies=session.cookies)\n",
    "session.headers.clear()"
   ]
  },
  {
   "cell_type": "markdown",
   "id": "1d7ef7cf",
   "metadata": {},
   "source": [
    "### Checking if Logged out correctly"
   ]
  },
  {
   "cell_type": "code",
   "execution_count": null,
   "id": "d6dee3bc",
   "metadata": {},
   "outputs": [],
   "source": [
    "# Confirming the logout from Asset Registry by requesting a Protected route\n",
    "req_body = {\n",
    "    \"latitude\": 31.47704430446457,\n",
    "    \"longitude\": 74.37510786779589\n",
    "}\n",
    "res = session.post(asset_registry_base + \"/fetch-fields-for-a-point\", json=req_body)\n",
    "print(res.json())"
   ]
  },
  {
   "cell_type": "markdown",
   "id": "8a07b78b",
   "metadata": {},
   "source": [
    "### Get all Domains (public)"
   ]
  },
  {
   "cell_type": "code",
   "execution_count": null,
   "id": "93cf8a1d",
   "metadata": {},
   "outputs": [],
   "source": [
    "# Fetching all the domains from the User Registry\n",
    "res = session.get(asset_registry_base + \"/domains\")\n",
    "print(res.json())"
   ]
  }
 ],
 "metadata": {
  "kernelspec": {
   "display_name": "Python 3",
   "language": "python",
   "name": "python3"
  },
  "language_info": {
   "codemirror_mode": {
    "name": "ipython",
    "version": 3
   },
   "file_extension": ".py",
   "mimetype": "text/x-python",
   "name": "python",
   "nbconvert_exporter": "python",
   "pygments_lexer": "ipython3",
   "version": "3.8.10"
  },
  "vscode": {
   "interpreter": {
    "hash": "31f2aee4e71d21fbe5cf8b01ff0e069b9275f58929596ceb00d14d90e3e16cd6"
   }
  }
 },
 "nbformat": 4,
 "nbformat_minor": 5
}
