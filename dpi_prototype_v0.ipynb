{
 "cells": [
  {
   "cell_type": "markdown",
   "id": "24e78804",
   "metadata": {
    "tags": []
   },
   "source": [
    "# Imports"
   ]
  },
  {
   "cell_type": "code",
   "execution_count": 55,
   "id": "bf2e1318",
   "metadata": {
    "tags": []
   },
   "outputs": [
    {
     "name": "stdout",
     "output_type": "stream",
     "text": [
      "imports complete\n"
     ]
    }
   ],
   "source": [
    "import requests\n",
    "import json\n",
    "import ee\n",
    "import geemap\n",
    "import folium\n",
    "import os\n",
    "import pandas as pd\n",
    "import glob\n",
    "import time\n",
    "import math\n",
    "import numpy as np\n",
    "from datetime import datetime\n",
    "\n",
    "import modules.area_stats as area_stats\n",
    "import modules.WDPA_prep as WDPA_prep\n",
    "import modules.image_prep as image_prep\n",
    "import modules.agstack_to_gee as agstack_to_gee\n",
    "import modules.tidy_tables as tidy_tables\n",
    "# from modules.agstack_to_gee import geo_id_list_to_feature_collection ,geo_id_to_feature,json_to_feature_with_id,geo_id_to_json\n",
    "# from modules.agstack_to_gee import *##vgeo_id_list_to_feature_collection ,geo_id_to_feature,json_to_feature_with_id,geo_id_to_json\n",
    "\n",
    "print (\"imports complete\")"
   ]
  },
  {
   "cell_type": "code",
   "execution_count": 56,
   "id": "5ae87ed9-f4e4-4a98-81df-e66e17aa77f1",
   "metadata": {
    "tags": []
   },
   "outputs": [],
   "source": [
    "ee.Initialize()"
   ]
  },
  {
   "cell_type": "markdown",
   "id": "fc8267ca-28e5-4d62-b982-dfbe9f727392",
   "metadata": {
    "tags": []
   },
   "source": [
    "### Parameters"
   ]
  },
  {
   "cell_type": "markdown",
   "id": "ae42dc14",
   "metadata": {},
   "source": [
    "#### Web app deployed URLs"
   ]
  },
  {
   "cell_type": "code",
   "execution_count": 57,
   "id": "998b8727",
   "metadata": {
    "tags": []
   },
   "outputs": [],
   "source": [
    "asset_registry_base = \"https://api-ar.agstack.org\"\n",
    "user_registry_base = \"https://user-registry.agstack.org\""
   ]
  },
  {
   "cell_type": "markdown",
   "id": "33160081",
   "metadata": {
    "tags": []
   },
   "source": [
    "#### Add your email & password to register with Agstack and test out the APIs"
   ]
  },
  {
   "cell_type": "code",
   "execution_count": 58,
   "id": "05cfa011",
   "metadata": {
    "tags": []
   },
   "outputs": [],
   "source": [
    "from config_asr_credentials import *"
   ]
  },
  {
   "cell_type": "code",
   "execution_count": 125,
   "id": "d9ab39bc-a66a-455a-a7f5-be59dc0bb27c",
   "metadata": {
    "tags": []
   },
   "outputs": [],
   "source": [
    "debug = True # True or False: get print messages or not (e.g. for debugging code)\n",
    "\n",
    "out_path = os.path.join('/home/sepal-user/fdap/')\n",
    "\n",
    "#long csv (temporary format)\n",
    "out_long_csv_name = 'temp_stats_long_format.csv' \n",
    "\n",
    "dataset_column_name = \"dataset_name\"\n",
    "\n",
    "#wide csv (main output format)\n",
    "out_file_long=out_path+out_long_csv_name\n",
    "\n",
    "out_wide_csv_name = 'output_stats_wide_format.csv' #set output name\n",
    "\n",
    "out_file_wide = out_path+out_wide_csv_name #set full path for output csv\n"
   ]
  },
  {
   "cell_type": "code",
   "execution_count": 60,
   "id": "e4317a23-5a97-4612-94f2-2969934206d1",
   "metadata": {
    "tags": []
   },
   "outputs": [],
   "source": [
    "#output column names\n",
    "geometry_area_column = \"Shape_area_hectares\"\n",
    "\n",
    "geo_id_column = \"Geo_id\"\n",
    "\n",
    "#debug printing\n",
    "verbose = True\n",
    "\n",
    "## stats by pixel_area\n",
    "to_pixel_area = True\n",
    "\n",
    "## reducer choice\n",
    "reducer_choice = ee.Reducer.sum().combine(  #main stats based on area of pixel\n",
    "  reducer2=ee.Reducer.count(),sharedInputs=True).combine(\n",
    "    reducer2=ee.Reducer.mode(), sharedInputs=True) ##used for country allocation (majority pixel count on country code raster)\n",
    "\n"
   ]
  },
  {
   "cell_type": "markdown",
   "id": "aff85919-ddc7-43ea-af43-7a5d3037d508",
   "metadata": {
    "tags": []
   },
   "source": [
    "Local deforestation alert parameters"
   ]
  },
  {
   "cell_type": "code",
   "execution_count": 61,
   "id": "067a37a0-3ec0-461b-9f24-f542fe2688de",
   "metadata": {
    "tags": []
   },
   "outputs": [],
   "source": [
    "# Define how many days back\n",
    "how_many_days_back = -(365*2)  # must be negative\n",
    "\n",
    "#define buffer distance (m)\n",
    "local_alerts_buffer_radius = 2000 \n"
   ]
  },
  {
   "cell_type": "markdown",
   "id": "08c88b78-94ae-4bfe-b9d1-69392e529c47",
   "metadata": {},
   "source": [
    "Optional parameters for defining random polygons"
   ]
  },
  {
   "cell_type": "code",
   "execution_count": 62,
   "id": "8c5b42a0-7987-478c-86f0-dea7e5424eff",
   "metadata": {
    "tags": []
   },
   "outputs": [],
   "source": [
    "from parameters.random_feature_parameters  import *"
   ]
  },
  {
   "cell_type": "markdown",
   "id": "749c76fb-f3ba-43cf-a918-4f6d09e43a7e",
   "metadata": {
    "tags": []
   },
   "source": [
    "### 1. Grab datasets\n"
   ]
  },
  {
   "cell_type": "markdown",
   "id": "91e74c34-930d-447d-8863-52dcf0b01b7b",
   "metadata": {},
   "source": [
    "#### Fetch: GLAD: Global 2000-2020 Land Cover and Land Use Change\n",
    "\n",
    "For full legend see: https://storage.googleapis.com/earthenginepartners-hansen/GLCLU2000-2020/v2/legend.xlsx\n",
    "\n",
    "NB all tree cover have values related to height: from 3m to >25m. \n",
    "stable tree height values: 25-48 (terra firma); 125-148 (wetland);\n",
    "height after disturbance values: 49-72 (terra firma); 149-172 (wetland) \n",
    "tree gain height values: 73-96 (terra firma); 173-196 (wetland); \n",
    "\n",
    "for now including all heights until agreed forest definition #NB should change to 5m and above\n",
    "\n",
    "- value 25 tree stable\n",
    "- value 49 tree after disturbance  # NB could add this in as disturbed forest \n",
    "- value 73 tree gain  # NB could add this in as disturbed forest   \n",
    "- value 248 tree from crop (need to investigate: likely plantation but could be secondary) # NB could add this in as disturbed forest \n",
    "- value 245 crop\n",
    "- value 24 vegetation \n",
    "- value 200 water \n",
    "- value 250 built up\n",
    "\n",
    "NB Change to >5m only "
   ]
  },
  {
   "cell_type": "code",
   "execution_count": 63,
   "id": "d9949f13-4509-4223-81ef-760447af9b55",
   "metadata": {
    "tags": []
   },
   "outputs": [],
   "source": [
    "glad_landcover_2020 = ee.Image('projects/glad/GLCLU2020/v2/LCLUC_2020')\n",
    "landmask = ee.Image(\"projects/glad/OceanMask\").lte(1)\n",
    "glad_landcover_2020 = glad_landcover_2020.updateMask(landmask);\n",
    "\n",
    "#trees\n",
    "glad_landcover_2020_main = glad_landcover_2020.where((glad_landcover_2020.gte(25)).And(glad_landcover_2020.lte(48)), 25) #stable trees\n",
    "glad_landcover_2020_main = glad_landcover_2020_main.where((glad_landcover_2020.gte(125)).And(glad_landcover_2020.lte(148)), 25) #stable trees\n",
    "\n",
    "# glad_landcover_2020_main = glad_landcover_2020_main.where((glad_landcover_2020.gte(49)).And(glad_landcover_2020.lte(72)), 49)\n",
    "# glad_landcover_2020_main = glad_landcover_2020_main.where((glad_landcover_2020.gte(149)).And(glad_landcover_2020.lte(172)), 49)\n",
    "# glad_landcover_2020_main = glad_landcover_2020_main.where((glad_landcover_2020.gte(73)).And(glad_landcover_2020.lte(96)), 73)\n",
    "# glad_landcover_2020_main = glad_landcover_2020_main.where((glad_landcover_2020.gte(173)).And(glad_landcover_2020.lte(196)), 73)\n"
   ]
  },
  {
   "cell_type": "markdown",
   "id": "4d28ef10-22cb-4e6a-bc55-54f3bb90c020",
   "metadata": {},
   "source": [
    "#### Get stable trees for 2020"
   ]
  },
  {
   "cell_type": "code",
   "execution_count": 64,
   "id": "b22b5834-5956-458e-99eb-d1854e9037b9",
   "metadata": {
    "tags": []
   },
   "outputs": [],
   "source": [
    "glad_stable_tree_2020 = glad_landcover_2020_main.eq(25) #binary stable trees (TO CHECK - height definititions)\n",
    "\n",
    "glad_stable_tree_2020 = area_stats.set_scale_property_from_image(glad_stable_tree_2020,glad_landcover_2020)\n",
    "\n",
    "glad_stable_tree_2020_area_hectares = area_stats.binary_to_area_hectares(glad_stable_tree_2020)\n",
    "\n",
    "glad_stable_tree_2020_area_hectares = area_stats.set_scale_property_from_image(glad_stable_tree_2020_area_hectares,glad_landcover_2020)"
   ]
  },
  {
   "cell_type": "code",
   "execution_count": 65,
   "id": "437478af-1e69-4b44-a274-1fa469490667",
   "metadata": {
    "tags": []
   },
   "outputs": [],
   "source": [
    "# ##checks\n",
    "# Map = geemap.Map()\n",
    "# Map.addLayer(glad_stable_tree_2020,{'min':0,'max':1,'palette':[\"white\",\"green\"]},\"glad_stable_tree_2020\")\n",
    "# Map"
   ]
  },
  {
   "cell_type": "markdown",
   "id": "c617f1e7-e46e-4a6e-b65d-10bfc9a2fd75",
   "metadata": {
    "tags": []
   },
   "source": [
    "#### Fetch: ESRI 10m Annual Land Use Land Cover (2017-2022)¶\n",
    "- Link: https://gee-community-catalog.org/projects/S2TSLULC/?h=esri\n",
    "\n",
    "- Overview: Time series of annual global maps of land use and land cover (LULC). It currently has data from 2017-2021. The maps are derived from ESA Sentinel-2 imagery at 10m resolution. Each map is a composite of LULC predictions for 9 classes throughout the year in order to generate a representative snapshot of each year. This dataset was generated by Impact Observatory, who used billions of human-labeled pixels (curated by the National Geographic Society) to train a deep learning model for land classification. This map uses an updated model from the 10-class model and combines Grass(formerly class 3) and Scrub (formerly class 6) into a single Rangeland class (class 11). The original Esri 2020 Land Cover collection uses 10 classes (Grass and Scrub separate) and an older version of the underlying deep learning model. \n",
    "\n",
    "- Reference:  Karra, Kontgis, et al. “Global land use/land cover with Sentinel-2 and deep learning.” IGARSS 2021-2021 IEEE International Geoscience and Remote Sensing Symposium. IEEE, 2021.\n",
    "- Legend (remapped values and hex code):\n",
    "- 1\tWater\t#1A5BAB\n",
    "- 2\tTrees\t#358221\n",
    "- 3\tFlooded Vegetation\t#87D19E\n",
    "- 4\tCrops\t#FFDB5C\n",
    "- 5\tBuilt Area\t#ED022A\n",
    "- 6\tBare Ground\t#EDE9E4\n",
    "- 7\tSnow/Ice\t#F2FAFF\n",
    "- 8\tClouds\t#C8C8C8\n",
    "- 9\tRangeland\t#C6AD8D"
   ]
  },
  {
   "cell_type": "code",
   "execution_count": 66,
   "id": "157e44f6-4752-4374-8e70-520ec50c50b9",
   "metadata": {
    "tags": []
   },
   "outputs": [],
   "source": [
    "esri_lulc10 = ee.ImageCollection(\"projects/sat-io/open-datasets/landcover/ESRI_Global-LULC_10m_TS\");\n",
    "\n",
    "esri_lulc10_2020 = esri_lulc10.filterDate('2020-01-01','2020-12-31').map(\n",
    "    lambda image:\n",
    "    image.remap([1,2,4,5,7,8,9,10,11],\n",
    "                [1,2,3,4,5,6,7,8,9])).mosaic()\n"
   ]
  },
  {
   "cell_type": "code",
   "execution_count": 67,
   "id": "1d391bdf-d1b3-46fb-a861-98a81f4e346a",
   "metadata": {
    "tags": []
   },
   "outputs": [
    {
     "name": "stdout",
     "output_type": "stream",
     "text": [
      "template_band_index:  0\n",
      "scale (m):  10\n"
     ]
    }
   ],
   "source": [
    "esri_trees_2020 = esri_lulc10_2020.eq(2) #get trees    NB check flooded veg class\n",
    "\n",
    "esri_trees_2020_area_hectares = area_stats.binary_to_area_hectares(esri_trees_2020)\n",
    "\n",
    "esri_trees_2020_area_hectares = area_stats.set_scale_property_from_image(esri_trees_2020_area_hectares,esri_lulc10.first(),0,verbose=True)\n"
   ]
  },
  {
   "cell_type": "code",
   "execution_count": 68,
   "id": "e29f7a16-04fd-40cc-a8d5-1ca1028279e4",
   "metadata": {},
   "outputs": [],
   "source": [
    "#checks\n",
    "# Map = geemap.Map()\n",
    "# Map.addLayer(esri_trees_2020,{'min':0,'max':1,'palette':[\"white\",\"green\"]})\n",
    "# Map"
   ]
  },
  {
   "cell_type": "markdown",
   "id": "9a239095-5568-4ee9-aff0-9508756b47d1",
   "metadata": {
    "tags": []
   },
   "source": [
    "#### Fetch: Tropical Moist Forest by JRC\n",
    "Link: https:#  www.science.org/doi/10.1126/sciadv.abe1603 (paper); https://forobs.jrc.ec.europa.eu/static/tmf/TMF_DataUsersGuide.pdf (dataset description)  \n",
    "\n",
    "Overview: The transition map shows the spatial distribution of the tropical moist forest at the end of\n",
    "the year 2022. It depicts the sequential dynamics of changes by providing transition stages\n",
    "from the first year of the monitoring period to the end of the year 2022 (undisturbed forest,\n",
    "degradation, deforestation, regrowth, conversion to plantations) and subclasses for each\n",
    "transition class (period of disturbance, age of regrowth, several types of forest, several\n",
    "types of degradation and deforestation, change types within the mangroves and tree\n",
    "plantations).\n",
    "\n",
    "Reference: C. Vancutsem, F. Achard, J.-F. Pekel, G. Vieilledent, S. Carboni, D. Simonetti, J. Gallego,\n",
    "L.E.O.C. Aragão, R. Nasi. Long-term (1990-2019) monitoring of forest cover changes in the\n",
    "humid tropics. Science Advances 2021\n",
    "\n",
    "\n",
    "##### - See csv in this repo for legend and remap values: \"parameters/Recoding_JRC_TMF_product.csv\"\n",
    "\n",
    "\n",
    "\n"
   ]
  },
  {
   "cell_type": "markdown",
   "id": "9b32a041-ca9c-4d98-ad0b-d8cc354f6696",
   "metadata": {
    "tags": []
   },
   "source": [
    "##### Reclassify JRC TMF data into 3 classes from TMF dataset: 1) undisturbed forest, 2) disturbed forest and 3) plantation"
   ]
  },
  {
   "cell_type": "code",
   "execution_count": 69,
   "id": "705083fb-f59b-4dad-bcd8-15288fa41bf6",
   "metadata": {
    "tags": []
   },
   "outputs": [
    {
     "name": "stdout",
     "output_type": "stream",
     "text": [
      "30.000000000000004\n"
     ]
    }
   ],
   "source": [
    "JRC_TMF_transitions_raw = ee.ImageCollection('projects/JRC/TMF/v1_2021/TransitionMap_Subtypes') # raw data\n",
    "\n",
    "JRC_TMF_transitions = JRC_TMF_transitions_raw.mosaic() ### NB check why 2021?  \n",
    "\n",
    "\n",
    "\n",
    "#remap to 3 classes relevant to EUDR \n",
    "JRC_TMF_transitions_remap = image_prep.remap_image_from_csv_cols(image=JRC_TMF_transitions,\n",
    "                                                           csv_path=\"parameters/Recoding_JRC_TMF_product.csv\",\n",
    "                                                           from_col='JRC_TMF_original_class_value',\n",
    "                                                           to_col='Remap_EUDR_value',\n",
    "                                                           default_value=9999);\n",
    "## 1) undisturbed forest, 2) disturbed forest and 3) plantation\n",
    "JRC_TMF_undisturbed_2020 = JRC_TMF_transitions_remap.eq(1)\n",
    "\n",
    "JRC_TMF_disturbed_2020 = JRC_TMF_transitions_remap.eq(2)\n",
    "\n",
    "JRC_TMF_plantation  = JRC_TMF_transitions_remap.eq(3)\n",
    "\n",
    "JRC_TMF_undisturbed_2020_area_hectares =area_stats.binary_to_area_hectares(JRC_TMF_undisturbed_2020)\n",
    "JRC_TMF_disturbed_2020_area_hectares  = area_stats.binary_to_area_hectares(JRC_TMF_disturbed_2020)\n",
    "JRC_TMF_plantation_area_hectares  = area_stats.binary_to_area_hectares(JRC_TMF_plantation)\n",
    "\n",
    "JRC_TMF_undisturbed_2020_area_hectares = area_stats.set_scale_property_from_image(JRC_TMF_undisturbed_2020_area_hectares,\n",
    "                                                                  JRC_TMF_transitions_raw.first())\n",
    "JRC_TMF_disturbed_2020_area_hectares = area_stats.set_scale_property_from_image(JRC_TMF_disturbed_2020_area_hectares,\n",
    "                                                                  JRC_TMF_transitions_raw.first())\n",
    "JRC_TMF_plantation_area_hectares = area_stats.set_scale_property_from_image(JRC_TMF_plantation_area_hectares,\n",
    "                                                                  JRC_TMF_transitions_raw.first())\n",
    "                                     \n",
    "if debug: print (JRC_TMF_undisturbed_2020_area_hectares.get(\"scale\").getInfo())\n",
    "# JRC_TMF_transitions_main = JRC_TMF_transitions.where((JRC_TMF_transitions.gte(10)).And(JRC_TMF_transitions.lte(12)), 10) "
   ]
  },
  {
   "cell_type": "code",
   "execution_count": 70,
   "id": "fc0e5c7c-2a39-42c9-b2a7-1eff7b27e0f6",
   "metadata": {
    "tags": []
   },
   "outputs": [],
   "source": [
    "# # #checks\n",
    "Map = geemap.Map()\n",
    "\n",
    "\n",
    "# TransitionMap_disturbed = TransitionMap_Main.where((TransitionMap_Main.eq(20)).Or(TransitionMap_Main.eq(30)),1);\n",
    "# TransitionMap_disturbed = TransitionMap_disturbed.eq(1)\n",
    "\n",
    "# Map.addLayer(TransitionMap_disturbed,{'min':0, 'max': 1, 'palette': [\"white\",\"lightGreen\"]}, \"TransitionMap_disturbed\",1,1);\n",
    "\n",
    "\n",
    "# ### Map.addLayer(JRC_TMF_transitions_main.eq(10).randomVisualizer(),{},'TMF-simple')\n",
    "\n",
    "# Map.addLayer(JRC_TMF_undisturbed_2020,{'min':0,'max':1,'palette':[\"white\",\"green\"]},'JRC_TMF_undisturbed_2020')\n",
    "# Map.addLayer(JRC_TMF_transitions_remap,{'min':0,'max':3,'palette':[\"white\",\"darkgreen\",\"lightgreen\",\"orange\"]},'JRC_TMF_transitions_remap')\n",
    "\n",
    "# Map"
   ]
  },
  {
   "cell_type": "markdown",
   "id": "157bf08c-77a7-4fb0-bacc-de30ec0cc72a",
   "metadata": {
    "tags": []
   },
   "source": [
    "#### Fetch: Global Forest Change \n",
    "Link: https://www.science.org/doi/10.1126/science.1244693 (paper); https://storage.googleapis.com/earthenginepartners-hansen/GFC-2022-v1.10/download.html (user notes v1.10)\n",
    "\n",
    "Citation: Hansen, M. C., P. V. Potapov, R. Moore, M. Hancher, S. A. Turubanova, A. Tyukavina, D. Thau, S. V. Stehman, S. J. Goetz, T. R. Loveland, A. Kommareddy, A. Egorov, L. Chini, C. O. Justice, and J. R. G. Townshend. \"High-Resolution Global Maps of 21st-Century Forest Cover Change.\" Science 342 (15 November): 850-53. 10.1126/science.1244693.\n",
    "\n",
    "Overview: Results from time-series analysis of Landsat images in characterizing global forest extent and change from 2000 through 2022.\n",
    "\n",
    "N.B. Next GFC update should give tree cover in 2020. Currently showing tree cover is for 2000 with loss pixels between 2001 and 2020 removed."
   ]
  },
  {
   "cell_type": "code",
   "execution_count": 71,
   "id": "16ef7c4d-5131-4589-adb6-8e7aa1b2cdc2",
   "metadata": {
    "tags": []
   },
   "outputs": [],
   "source": [
    "gfc = ee.Image(\"UMD/hansen/global_forest_change_2022_v1_10\")\n",
    "\n",
    "gfc_treecover_2000 = gfc.select(['treecover2000']) #get tree cover in 2000\n",
    "\n",
    "gfc_loss_2001_2020 = gfc.select(['lossyear']).lte(20) # get loss pixels since 2000 and up to and including 2020\n",
    "\n",
    "gfc_treecover_2020 = gfc_treecover_2000.where(gfc_loss_2001_2020.eq(1),0) # remove loss from original tree cover ot approximate re"
   ]
  },
  {
   "cell_type": "markdown",
   "id": "e3179265-78c9-4944-9ae8-82212e0af7ce",
   "metadata": {},
   "source": [
    "##### Get treecover in 2020"
   ]
  },
  {
   "cell_type": "code",
   "execution_count": 72,
   "id": "f660ba55-b21e-4c37-a7ad-4941c3af0031",
   "metadata": {
    "tags": []
   },
   "outputs": [],
   "source": [
    "gfc_treecover_2020_binary= gfc_treecover_2020.gt(10) #FAO 10% definition...\n",
    "\n",
    "gfc_treecover_2020_area_hectares = area_stats.binary_to_area_hectares(gfc_treecover_2020_binary)\n",
    "\n",
    "gfc_treecover_2020_area_hectares = area_stats.set_scale_property_from_image(gfc_treecover_2020_area_hectares,gfc)\n"
   ]
  },
  {
   "cell_type": "code",
   "execution_count": 73,
   "id": "034c445a-27fd-4651-a772-dc275ce53ac2",
   "metadata": {},
   "outputs": [],
   "source": [
    "## checks\n",
    "# Map = geemap.Map()\n",
    "\n",
    "# Map.addLayer(gfc_treecover_2020_binary,{'min':0,'max':1,'palette':[\"white\",\"green\"]})\n",
    "\n",
    "# Map"
   ]
  },
  {
   "cell_type": "markdown",
   "id": "b095a09d-6686-4328-9145-81d979b6d6ab",
   "metadata": {},
   "source": [
    "#### Fetch: Primary humid forest GLAD/UMD\n",
    "Link: https://developers.google.com/earth-engine/datasets/catalog/UMD_GLAD_PRIMARY_HUMID_TROPICAL_FORESTS_v1\n",
    "\n",
    "Citation: Turubanova S., Potapov P., Tyukavina, A., and Hansen M. (2018) Ongoing primary forest loss in Brazil, Democratic Republic of the Congo, and Indonesia. Environmental Research Letters. https://doi.org/10.1088/1748-9326/aacd1c\n",
    "\n",
    "Overview: Created by the UMD GLAD team. The primary forest extent was mapped for the year 2001 at a spatial resolution of 30 meters using globally acquired, free-of-charge, and consistently processed Landsat imagery"
   ]
  },
  {
   "cell_type": "code",
   "execution_count": 74,
   "id": "cdd001e2-e01e-42ac-bd26-2dd7497ee6a3",
   "metadata": {
    "tags": []
   },
   "outputs": [],
   "source": [
    "primary_HT_forests_2001_raw = ee.ImageCollection('UMD/GLAD/PRIMARY_HUMID_TROPICAL_FORESTS/v1')\n",
    "\n",
    "#get band and mosaic\n",
    "primary_HT_forests_2001 = primary_HT_forests_2001_raw.select(\"Primary_HT_forests\").mosaic().selfMask();\n",
    "\n",
    "#remove GFC loss pixels from 2001-2020 (as previous technique with GFC, above)\n",
    "primary_HT_forests_2020 = primary_HT_forests_2001.where(gfc_loss_2001_2020.eq(1),0)#.selfMask()\n"
   ]
  },
  {
   "cell_type": "code",
   "execution_count": 75,
   "id": "a61b391d-5a02-4b6b-b322-a0da6b803959",
   "metadata": {
    "tags": []
   },
   "outputs": [
    {
     "name": "stdout",
     "output_type": "stream",
     "text": [
      "template_band_index:  0\n",
      "scale (m):  27.829872698318393\n"
     ]
    }
   ],
   "source": [
    "primary_HT_forests_2020_area_hectares = area_stats.binary_to_area_hectares(primary_HT_forests_2020)\n",
    "\n",
    "primary_HT_forests_2020_area_hectares = area_stats.set_scale_property_from_image(primary_HT_forests_2020_area_hectares,primary_HT_forests_2001_raw.first(),0,verbose=True)\n"
   ]
  },
  {
   "cell_type": "code",
   "execution_count": 76,
   "id": "7e9f72fa-1e30-4b5d-a727-c1086aca0da7",
   "metadata": {
    "tags": []
   },
   "outputs": [],
   "source": [
    "# # checks\n",
    "# Map = geemap.Map()\n",
    "\n",
    "# # Map.addLayer(Primary_HT_forests_2001, {'min': 0,'max': 1.0,'palette':['White\",'Blue']}, 'Primary HT forests: 2001');\n",
    "# Map.addLayer(primary_HT_forests_2020, {'min': 0,'max': 1.0,'palette':['White','Green']}, 'Primary HT forests: 2020');\n",
    "\n",
    "# Map"
   ]
  },
  {
   "cell_type": "markdown",
   "id": "2167889b-d027-4fc9-b425-931b18e61575",
   "metadata": {
    "tags": []
   },
   "source": [
    "#### Fetch: JAXA Forest/non-forest maps"
   ]
  },
  {
   "cell_type": "markdown",
   "id": "77a9e6fa-2ef8-44ea-9b2c-3bedd9b2df90",
   "metadata": {},
   "source": [
    "\n",
    "Links: https://www.eorc.jaxa.jp/ALOS/en/dataset/fnf_e.htm; https://developers.google.com/earth-engine/datasets/catalog/JAXA_ALOS_PALSAR_YEARLY_FNF4\n",
    "\n",
    "Citation:\n",
    "Masanobu Shimada, Takuya Itoh, Takeshi Motooka, Manabu Watanabe, Shiraishi Tomohiro, Rajesh Thapa, and Richard Lucas, \"New Global Forest/Non-forest Maps from ALOS PALSAR Data (2007-2010)\", Remote Sensing of Environment, 155, pp. 13-31, December 2014. doi:10.1016/j.rse.2014.04.014.\n",
    "\n",
    "Overview: The global forest/non-forest map (FNF) was produced the years 2017-2020. are generated by classifying the SAR image (backscattering coefficient) in the global 25m resolution PALSAR-2/PALSAR SAR mosaic so that strong and low backscatter pixels are assigned as \"forest\" and \"non-forest\", respectively. Here, \"forest\" is defined as the natural forest with the area larger than 0.5 ha and forest cover over 10%. This definition is the same as the Food and Agriculture Organization (FAO) definition. Since the radar backscatter from the forest depends on the region (climate zone), the classification of Forest/Non-Forest is conducted by using a region-dependent threshold of backscatter. The classification accuracy is checked by using in-situ photos and high-resolution optical satellite images.\n",
    "\n",
    "Global 4-class\n",
    "- 1 \t #00b200\tDense Forest\n",
    "- 2 \t #83ef62\tNon-dense Forest\n",
    "- 3 \t #ffff99\tNon-Forest\n",
    "- 4 \t #0000ff\tWater"
   ]
  },
  {
   "cell_type": "code",
   "execution_count": 77,
   "id": "6195694a-2cf7-4373-bfb7-83de71771169",
   "metadata": {
    "tags": []
   },
   "outputs": [],
   "source": [
    "JAXA_forestNonForest_raw = ee.ImageCollection('JAXA/ALOS/PALSAR/YEARLY/FNF4');\n",
    "\n",
    "JAXA_forestNonForest_2020 =  JAXA_forestNonForest_raw.filterDate('2020-01-01', '2020-12-31').select('fnf').mosaic();\n",
    "\n",
    "#select all trees (i.e. both dense and non-dense forest classes)\n",
    "JAXA_forestNonForest_2020_binary = JAXA_forestNonForest_2020.lte(2)"
   ]
  },
  {
   "cell_type": "code",
   "execution_count": 78,
   "id": "153dc2d6-94dd-4e92-ab4d-56852dc20cd6",
   "metadata": {
    "tags": []
   },
   "outputs": [
    {
     "name": "stdout",
     "output_type": "stream",
     "text": [
      "template_band_index:  0\n",
      "scale (m):  24.73766462072746\n"
     ]
    }
   ],
   "source": [
    "JAXA_forestNonForest_2020_area_hectares = area_stats.binary_to_area_hectares(JAXA_forestNonForest_2020_binary)\n",
    "\n",
    "JAXA_forestNonForest_2020_area_hectares = area_stats.set_scale_property_from_image(JAXA_forestNonForest_2020_area_hectares,JAXA_forestNonForest_raw.first(),0,verbose=True)"
   ]
  },
  {
   "cell_type": "code",
   "execution_count": 79,
   "id": "f289cba9-36f6-4c9c-bab8-38a1a9fdb4d3",
   "metadata": {
    "tags": []
   },
   "outputs": [],
   "source": [
    "## checks\n",
    "# Map = geemap.Map()\n",
    "\n",
    "# ## Map.addLayer(JAXA_forestNonForest_2020, {'min': 1,'max': 4,'palette': ['00b200','83ef62','ffff99','0000ff']}, 'JAXA Forest/Non-Forest 2020 - 4 classes');\n",
    "\n",
    "# Map.addLayer(JAXA_forestNonForest_2020_binary,{'min': 0,'max': 1.0,'palette':['White','Green']}, 'JAXA Forest/Non-Forest 2020');\n",
    "\n",
    "# Map"
   ]
  },
  {
   "cell_type": "markdown",
   "id": "f20cf6e3-d30a-4c92-a9f8-65afcaebcdd7",
   "metadata": {
    "tags": []
   },
   "source": [
    "#### Fetch: oil palm data\n",
    "Link: https://developers.google.com/earth-engine/datasets/catalog/BIOPAMA_GlobalOilPalm_v1;  https://essd.copernicus.org/articles/13/1211/2021/\n",
    "\n",
    "Citation: Adrià, Descals, Serge, Wich, Erik, Meijaard, David, Gaveau, Stephen, Peedell, & Zoltan, Szantoi. (2021, January 27). High resolution global industrial and smallholder oil palm map for 2019 (Version v1). Zenodo. doi:10.5281/zenodo.4473715\n",
    "\n",
    "Overview: The dataset is a 10m global industrial and smallholder oil palm map for 2019. It covers areas where oil palm plantations were detected. The classified images are the output of a convolutional neural network based on Sentinel-1 and Sentinel-2 half-year composites.\n",
    "\n",
    "Data selection used in stats: 1 & 2\n",
    "\n",
    "- Value\tColor\tDescription\n",
    "- 1\t#ff0000\tIndustrial closed-canopy oil palm plantations\n",
    "- 2\t#ef00ff\tSmallholder closed-canopy oil palm plantations\n",
    "- 3\t#696969\tOther land covers and/or uses that are not closed-canopy oil palm. "
   ]
  },
  {
   "cell_type": "code",
   "execution_count": 80,
   "id": "0d03c745-f6d0-49ef-9d77-4b23cbb34853",
   "metadata": {
    "tags": []
   },
   "outputs": [],
   "source": [
    "# Import the dataset; a collection of composite granules from 2019.\n",
    "oil_palm_descals_raw = ee.ImageCollection('BIOPAMA/GlobalOilPalm/v1');\n",
    "\n",
    "# Select the classification band and mosaic all of the granules into a single image.\n",
    "oil_palm_descals_mosaic = oil_palm_descals_raw.select('classification').mosaic();\n",
    "\n",
    "# Visualisation only - not needed: create a mask to add transparency to non-oil palm plantation class pixels.\n",
    "mask = oil_palm_descals_mosaic.neq(3);\n",
    "\n",
    "mask = mask.where(mask.eq(0), 0.6); #not sure about this - from online (check)\n",
    "\n",
    "oil_palm_descals_binary = oil_palm_descals_mosaic.lte(2) #choosing to ignore\n",
    "\n"
   ]
  },
  {
   "cell_type": "code",
   "execution_count": 81,
   "id": "821eb472-fefe-4297-95d6-49d3742b57c5",
   "metadata": {
    "tags": []
   },
   "outputs": [
    {
     "name": "stdout",
     "output_type": "stream",
     "text": [
      "template_band_index:  0\n",
      "scale (m):  10\n"
     ]
    }
   ],
   "source": [
    "oil_palm_descals_binary_area_hectares = area_stats.binary_to_area_hectares(oil_palm_descals_binary)\n",
    "\n",
    "oil_palm_descals_binary_area_hectares = area_stats.set_scale_property_from_image(oil_palm_descals_binary_area_hectares,oil_palm_descals_raw.first(),0,verbose=True)\n",
    "\n"
   ]
  },
  {
   "cell_type": "code",
   "execution_count": 82,
   "id": "24aeb6ef-262e-4278-b272-be864b57a070",
   "metadata": {
    "tags": []
   },
   "outputs": [],
   "source": [
    "# # checks\n",
    "# classificationVis = {#   'min': 1,#   'max': 3,   'palette': ['ff0000','ef00ff', '696969'] }; # for differen\n",
    "# Map = geemap.Map()\n",
    "\n",
    "# # Display the data on the map.\n",
    "# # Map.addLayer(oil_palm_descals_mosaic.updateMask(mask),\n",
    "# #              classificationVis, 'Oil palm plantation type', 1,1);\n",
    "\n",
    "# Map.addLayer(oil_palm_descals_binary,\n",
    "#              {'min':0,'max':1,'palette':[\"white\",\"orange\"]}, 'Oil palm plantation binary', 1,1);\n",
    "\n",
    "# Map.setCenter(-3.0175, 5.2745,12);\n",
    "# Map"
   ]
  },
  {
   "cell_type": "markdown",
   "id": "aa8dbd09-9c5d-4c6f-9208-c779a09183c6",
   "metadata": {
    "tags": []
   },
   "source": [
    "#### Fetch FDaP Palm probability map (Forest Data Partnership unpublished product): Indonesia and Malaysia\n",
    "- model produced as part of the FDaP project. \n",
    "- NB preliminary output, recieved from Nick clinton (Google) on 16/11/2023"
   ]
  },
  {
   "cell_type": "code",
   "execution_count": 83,
   "id": "a8500b26-5d99-42c0-ab43-fd02c7755127",
   "metadata": {
    "tags": []
   },
   "outputs": [],
   "source": [
    "FDaP_palm_2020_model_raw = ee.ImageCollection(\"projects/forestdatapartnership/assets/palm/palm_2020_model_20231026\");\n",
    "FDaP_palm_2020_model = FDaP_palm_2020_model_raw.mosaic().gt(0.9).selfMask()\n"
   ]
  },
  {
   "cell_type": "code",
   "execution_count": 84,
   "id": "2b24ee54-7cc4-4576-b911-f699122fa402",
   "metadata": {
    "tags": []
   },
   "outputs": [
    {
     "name": "stdout",
     "output_type": "stream",
     "text": [
      "template_band_index:  0\n",
      "scale (m):  10\n"
     ]
    }
   ],
   "source": [
    "FDaP_palm_2020_model_area_hectares = area_stats.binary_to_area_hectares(FDaP_palm_2020_model)\n",
    "FDaP_palm_2020_model_area_hectares = area_stats.set_scale_property_from_image(FDaP_palm_2020_model_area_hectares,FDaP_palm_2020_model_raw.first(),0,verbose=True)\n",
    "\n"
   ]
  },
  {
   "cell_type": "code",
   "execution_count": 85,
   "id": "576b366c-1695-4f41-83a1-32619c4cf713",
   "metadata": {
    "tags": []
   },
   "outputs": [],
   "source": [
    "## Checks\n",
    "# Map = geemap.Map()\n",
    "# Map.addLayer(palm_2020_model, {'min':0,'max':1,'palette': ['white','orange']}, 'palm_2020_model');\n",
    "# Map"
   ]
  },
  {
   "cell_type": "markdown",
   "id": "292a177d-48dd-47de-a908-ee28cd4b7d42",
   "metadata": {
    "tags": []
   },
   "source": [
    "#### Cocoa maps: Côte d'Ivoire and Ghana\n",
    "Link(s): https://nk.users.earthengine.app/view/cocoa-map; https://www.nature.com/articles/s43016-023-00751-8\n",
    "\n",
    "Citation: Kalischek, N., Lang, N., Renier, C. et al. Cocoa plantations are associated with deforestation in Côte d’Ivoire and Ghana. Nat Food 4, 384–393 (2023). https://doi.org/10.1038/s43016-023-00751-8\n",
    "\n",
    "Overview: Cocoa farming maps for Côte d'Ivoire and Ghana at a resolution of 10m. The maps are based on Sentinel-2 images taken between January 2019 and December 2021, which are interpreted with an ensemble of convolutional neural networks (CNN), each trained on a large corpus of geo-referenced ground truth cocoa farms and non-cocoa sites, including more than 100,000 farms. Each model predicts a binary cocoa map and the final map is computed by taking the average, indicating the degree of agreement among the models. Additionally, we compute the best threshold at 0.65 according to a held-out validation set, i.e. all values above 65 % in the probability map are classified as cocoa and all others as non-cocoa areas.\n",
    "\n",
    "- NB imagery years usd for model include 2021 ( the followign year) so some LU conversion may have occurred (in either direction) since 2020 (a key year of interest for EUDR) \n",
    "- Using suggested threshold dataset of >0.65 from GEE script\n",
    "- Chose to not include al;ternative cocoa map for this area by Abu et al. (2021), map as independent validation suggested their model performed poorly (pers. comm. M. Sassen, Nov 2023)"
   ]
  },
  {
   "cell_type": "code",
   "execution_count": 86,
   "id": "ec1d73c8-3e4c-42ce-b89a-d46a3ac85da0",
   "metadata": {
    "tags": []
   },
   "outputs": [],
   "source": [
    "# cocoa_map_kalischek = ee.ImageCollection('projects/ee-nk-cocoa/assets/cocoa_map');\n",
    "\n",
    "cocoa_map_kalischek_threshold = ee.Image('projects/ee-nk-cocoa/assets/cocoa_map_threshold_065');"
   ]
  },
  {
   "cell_type": "code",
   "execution_count": 87,
   "id": "419c1d61-36e8-438c-bcbf-f7b49e4c3128",
   "metadata": {
    "tags": []
   },
   "outputs": [
    {
     "name": "stdout",
     "output_type": "stream",
     "text": [
      "template_band_index:  0\n",
      "scale (m):  10.080003101582253\n"
     ]
    }
   ],
   "source": [
    "cocoa_map_kalischek_threshold_area_hectares = area_stats.binary_to_area_hectares(cocoa_map_kalischek_threshold)\n",
    "cocoa_map_kalischek_threshold_area_hectares = area_stats.set_scale_property_from_image(cocoa_map_kalischek_threshold_area_hectares,cocoa_map_kalischek_threshold,0,verbose=True)\n"
   ]
  },
  {
   "cell_type": "code",
   "execution_count": 88,
   "id": "5d15847b-d7c4-4da6-b729-0c46d937f886",
   "metadata": {
    "tags": []
   },
   "outputs": [],
   "source": [
    "## Checks\n",
    "# Map = geemap.Map()\n",
    "# Map.addLayer(cocoa_map_kalischek_threshold, {'min':0,'max':1,'palette': ['white','brown']}, 'palm_2020_model');\n",
    "# Map"
   ]
  },
  {
   "cell_type": "markdown",
   "id": "342224be-bb57-4f2e-9993-4fd2f02289f5",
   "metadata": {},
   "source": [
    "#### Fetch: Global Administrative Unit Layer (GAUL) 2015\n",
    "\n",
    "Link:\n",
    "\n",
    "\n",
    "Citation: \n",
    "\n",
    "\n",
    "Overview:\n",
    "\n"
   ]
  },
  {
   "cell_type": "code",
   "execution_count": 89,
   "id": "ccdaae5f-615c-4bb6-bad3-b3af611ed013",
   "metadata": {},
   "outputs": [],
   "source": [
    "GAUL_boundaries_poly = ee.FeatureCollection(\"FAO/GAUL/2015/level0\");\n",
    "\n",
    "template = ee.Image(\"UMD/hansen/global_forest_change_2022_v1_10\");\n",
    "\n",
    "GAUL_boundaries_adm0_code = GAUL_boundaries_poly.reduceToImage([\"ADM0_CODE\"],ee.Reducer.mode())  #make into image with the admn0 country code as the value\n"
   ]
  },
  {
   "cell_type": "code",
   "execution_count": 90,
   "id": "c3637fdb-661a-4eea-9343-3a411fb70ce3",
   "metadata": {
    "tags": []
   },
   "outputs": [
    {
     "name": "stdout",
     "output_type": "stream",
     "text": [
      "template_band_index:  0\n",
      "scale (m):  27.829872698318393\n"
     ]
    },
    {
     "data": {
      "text/html": [
       "<div><style>:root {\n",
       "  --font-color-primary: var(--jp-content-font-color0, rgba(0, 0, 0, 1));\n",
       "  --font-color-secondary: var(--jp-content-font-color2, rgba(0, 0, 0, 0.6));\n",
       "  --font-color-accent: rgba(123, 31, 162, 1);\n",
       "  --border-color: var(--jp-border-color2, #e0e0e0);\n",
       "  --background-color: var(--jp-layout-color0, white);\n",
       "  --background-color-row-even: var(--jp-layout-color1, white);\n",
       "  --background-color-row-odd: var(--jp-layout-color2, #eeeeee);\n",
       "}\n",
       "\n",
       "html[theme=\"dark\"],\n",
       "body[data-theme=\"dark\"],\n",
       "body.vscode-dark {\n",
       "  --font-color-primary: rgba(255, 255, 255, 1);\n",
       "  --font-color-secondary: rgba(255, 255, 255, 0.6);\n",
       "  --font-color-accent: rgb(173, 132, 190);\n",
       "  --border-color: #2e2e2e;\n",
       "  --background-color: #111111;\n",
       "  --background-color-row-even: #111111;\n",
       "  --background-color-row-odd: #313131;\n",
       "}\n",
       "\n",
       ".ee {\n",
       "  padding: 1em;\n",
       "  line-height: 1.5em;\n",
       "  min-width: 300px;\n",
       "  max-width: 1200px;\n",
       "  overflow-y: scroll;\n",
       "  max-height: 600px;\n",
       "  border: 1px solid var(--border-color);\n",
       "  font-family: monospace;\n",
       "}\n",
       "\n",
       ".ee li {\n",
       "  list-style-type: none;\n",
       "}\n",
       "\n",
       ".ee ul {\n",
       "  padding-left: 1.5em !important;\n",
       "  margin: 0;\n",
       "}\n",
       "\n",
       ".ee > ul {\n",
       "  padding-left: 0 !important;\n",
       "}\n",
       "\n",
       ".ee-open,\n",
       ".ee-shut {\n",
       "  color: var(--font-color-secondary);\n",
       "  cursor: pointer;\n",
       "  margin: 0;\n",
       "}\n",
       "\n",
       ".ee-open:hover,\n",
       ".ee-shut:hover {\n",
       "  color: var(--font-color-primary);\n",
       "}\n",
       "\n",
       ".ee-k {\n",
       "  color: var(--font-color-accent);\n",
       "  margin-right: 6px;\n",
       "}\n",
       "\n",
       ".ee-v {\n",
       "  color: var(--font-color-primary);\n",
       "}\n",
       "\n",
       ".ee-toggle {\n",
       "  display: none;\n",
       "}\n",
       "\n",
       ".ee-shut + ul {\n",
       "  display: none;\n",
       "}\n",
       "\n",
       ".ee-open + ul {\n",
       "  display: block;\n",
       "}\n",
       "\n",
       ".ee-shut::before {\n",
       "  display: inline-block;\n",
       "  content: \"▼\";\n",
       "  margin-right: 6px;\n",
       "  transform: rotate(-90deg);\n",
       "  transition: transform 0.2s;\n",
       "}\n",
       "\n",
       ".ee-open::before {\n",
       "  transform: rotate(0deg);\n",
       "  display: inline-block;\n",
       "  content: \"▼\";\n",
       "  margin-right: 6px;\n",
       "  transition: transform 0.2s;\n",
       "}\n",
       "</style><div class='ee'><ul><li><label class='ee-shut'>Image (1 band)<input type='checkbox' class='ee-toggle'></label><ul><li><span class='ee-k'>type:</span><span class='ee-v'>Image</span></li><li><label class='ee-shut'>bands: List (1 element)<input type='checkbox' class='ee-toggle'></label><ul><li><label class='ee-shut'>0: \"mode\", signed int8, EPSG:4326<input type='checkbox' class='ee-toggle'></label><ul><li><span class='ee-k'>id:</span><span class='ee-v'>mode</span></li><li><span class='ee-k'>crs:</span><span class='ee-v'>EPSG:4326</span></li><li><label class='ee-shut'>crs_transform: [0.00025, 0, 0, 0, -0.00025, 0]<input type='checkbox' class='ee-toggle'></label><ul><li><span class='ee-k'>0:</span><span class='ee-v'>0.00025</span></li><li><span class='ee-k'>1:</span><span class='ee-v'>0</span></li><li><span class='ee-k'>2:</span><span class='ee-v'>0</span></li><li><span class='ee-k'>3:</span><span class='ee-v'>0</span></li><li><span class='ee-k'>4:</span><span class='ee-v'>-0.00025</span></li><li><span class='ee-k'>5:</span><span class='ee-v'>0</span></li></ul></li><li><label class='ee-shut'>data_type: signed int8<input type='checkbox' class='ee-toggle'></label><ul><li><span class='ee-k'>type:</span><span class='ee-v'>PixelType</span></li><li><span class='ee-k'>max:</span><span class='ee-v'>127</span></li><li><span class='ee-k'>min:</span><span class='ee-v'>-128</span></li><li><span class='ee-k'>precision:</span><span class='ee-v'>int</span></li></ul></li></ul></li></ul></li><li><label class='ee-shut'>properties: Object (1 property)<input type='checkbox' class='ee-toggle'></label><ul><li><span class='ee-k'>scale:</span><span class='ee-v'>27.829872698318393</span></li></ul></li></ul></li></ul></div><script>function toggleHeader() {\n",
       "    const parent = this.parentElement;\n",
       "    parent.className = parent.className === \"ee-open\" ? \"ee-shut\" : \"ee-open\";\n",
       "}\n",
       "\n",
       "for (let c of document.getElementsByClassName(\"ee-toggle\")) {\n",
       "    c.onclick = toggleHeader;\n",
       "}</script></div>"
      ],
      "text/plain": [
       "<ee.image.Image at 0x7feabca13610>"
      ]
     },
     "execution_count": 90,
     "metadata": {},
     "output_type": "execute_result"
    }
   ],
   "source": [
    "crs_template = gfc.select(0).projection().crs().getInfo()\n",
    "\n",
    "GAUL_boundaries_adm0_code_reproj = GAUL_boundaries_adm0_code.reproject(\n",
    "  crs= crs_template,\n",
    "  scale= area_stats.get_scale_from_image(gfc),\n",
    ").int8()\n",
    "\n",
    "\n",
    "GAUL_boundaries_adm0_code_reproj = area_stats.set_scale_property_from_image(GAUL_boundaries_adm0_code_reproj,gfc,0,verbose=True)\n",
    "GAUL_boundaries_adm0_code_reproj\n",
    "\n",
    "# GAUL_boundaries.aggregate_array(\"ADM0_CODE\").distinct()"
   ]
  },
  {
   "cell_type": "code",
   "execution_count": 91,
   "id": "6e4b5880-760c-4288-b00f-d1dfff0368f7",
   "metadata": {
    "tags": []
   },
   "outputs": [],
   "source": [
    "# Map = geemap.Map()\n",
    "\n",
    "# Map.addLayer(GAUL_boundaries_adm0_code_reproj.randomVisualizer(),\"\",\"GAUL image\",1,1)\n",
    "\n",
    "# Map.addLayer(GAUL_boundaries_poly,{'color':\"grey\"},\"gaul poly\",1,0.5)\n",
    "\n",
    "\n"
   ]
  },
  {
   "cell_type": "markdown",
   "id": "e74b37b2-f1ba-4c13-ab47-9416ab125762",
   "metadata": {
    "tags": []
   },
   "source": [
    "#### Fetch: World Database on Protected Areas (WDPA)\n",
    "Link: www.protectedplanet.net\n",
    "\n",
    "Citation: UNEP-WCMC and IUCN (year), Protected Planet: The World Database on Protected Areas (WDPA) [On-line], [insert month/year of the version used], Cambridge, UK: UNEP-WCMC and IUCN Available at: www.protectedplanet.net.\n",
    "\n",
    "Overview: The World Database on Protected Areas (WDPA) is the most up-to-date and complete source of information on protected areas, updated monthly with submissions from governments, non-governmental organizations, landowners, and communities. It is managed by the United Nations Environment Programme's World Conservation Monitoring Centre (UNEP-WCMC) with support from IUCN and its World Commission on Protected Areas (WCPA).\n",
    "\n",
    "WDPA User Manual. For details including methodologies,standards, data providers, metadata field definitions and descriptions, refer to the WDPA User Manual.\n",
    " "
   ]
  },
  {
   "cell_type": "markdown",
   "id": "11474224-5cf0-4e48-84b6-9509ff225694",
   "metadata": {
    "tags": []
   },
   "source": [
    "Processing info:\n",
    "\n",
    "Protected areas converted to raster (i.e. an image) at high resolution (approx 30m). \n",
    "\n",
    "Rational: avoids use of hefty polygon intersections just to show presence in ROI and fits in current raster based framework.\n",
    "\n",
    "Filtering and preparation. Currently based on use for protected area statistics.\n",
    "- date: this is using \"current\" data (it's updated monthly) - assuming if plot is in a protected area they need to know even if after 2020.\n",
    "- point data: currently buffering by reported area where this exists.\n",
    "- removed sites: removed all but designated sites; removed Man and Biosphere reserves (for detail see: WDPA Manual)\n",
    "\n",
    "- TO DO: check filtering steps - especially how to handle buffered points - seperate column as estimated boundary only? UPDATE - turning buffers off.\n"
   ]
  },
  {
   "cell_type": "code",
   "execution_count": 92,
   "id": "8e962a1b-5b19-4fc5-8a3b-30931fd7d961",
   "metadata": {
    "tags": []
   },
   "outputs": [],
   "source": [
    "wdpa_pnt = ee.FeatureCollection(\"WCMC/WDPA/current/points\");\n",
    "\n",
    "wdpa_poly = ee.FeatureCollection(\"WCMC/WDPA/current/polygons\");\n",
    "\n",
    "#apply filters and merge polygon with buffered points  \n",
    "wdpa_filt = WDPA_prep.filterWDPA(wdpa_poly) ##.merge(WDPA_prep.filterWDPA(wdpa_pnt).filter(ee.Filter.gt('REP_AREA', 0)).map(WDPA_prep.bufferByArea));\n",
    "#turn into image (no crs etc set currently)\n",
    "wdpa_overlap = wdpa_filt.reduceToImage(['STATUS_YR'],'min');  #make into raster - remove mask if want 0s\n",
    "\n",
    "#make binary\n",
    "wdpa_binary = wdpa_overlap.lt(2070).unmask()\n"
   ]
  },
  {
   "cell_type": "markdown",
   "id": "27936847-1625-4a98-9466-5d598db59f1a",
   "metadata": {},
   "source": [
    "##### Setting projection and resolution etc (based on GFC scale as template)"
   ]
  },
  {
   "cell_type": "code",
   "execution_count": 93,
   "id": "a5f7ff99-eabd-42af-b3d4-7df0b3de2665",
   "metadata": {
    "tags": []
   },
   "outputs": [
    {
     "name": "stdout",
     "output_type": "stream",
     "text": [
      "template_band_index:  0\n",
      "scale (m):  27.829872698318393\n"
     ]
    }
   ],
   "source": [
    "#reproject based on gfc data (approx 30m res which should be easily)\n",
    "crs_template = gfc.select(0).projection().crs().getInfo()\n",
    "\n",
    "wdpa_binary_reproj = wdpa_binary.reproject(\n",
    "  crs= crs_template,\n",
    "  scale= area_stats.get_scale_from_image(gfc),\n",
    ").int8()\n",
    "\n",
    "protected_areas_WDPA_area_hectares = area_stats.binary_to_area_hectares(wdpa_binary_reproj)\n",
    "\n",
    "protected_areas_WDPA_area_hectares = area_stats.set_scale_property_from_image(protected_areas_WDPA_area_hectares,gfc,0,verbose=True)\n"
   ]
  },
  {
   "cell_type": "code",
   "execution_count": 94,
   "id": "48bad1e9-1e52-4e6e-893b-82cb17f54389",
   "metadata": {},
   "outputs": [],
   "source": [
    "# ##checks\n",
    "\n",
    "# Map = geemap.Map()\n",
    "\n",
    "# Map.addLayer(wdpa_filt,\"\",\"filtered wdpa_poly buff pnt\",1,1)\n",
    "\n",
    "# # image version takes a while to show\n",
    "# Map.addLayer(wdpa_binary_reproj, {min:0, max:1, 'palette':['white','purple']},'wdpa_binary_reproj',1,1); #visualise raster - with count of overlaps\n",
    "\n",
    "# # Map.set\n",
    "# Map"
   ]
  },
  {
   "cell_type": "markdown",
   "id": "d28cbfde-e3be-4f90-8566-1eb61a2a01f9",
   "metadata": {
    "tags": []
   },
   "source": [
    "#### Other Effective area-based Conservation Measures (OECMs)\n"
   ]
  },
  {
   "cell_type": "markdown",
   "id": "d1db30b4-5da5-4c51-9759-b3f4f1de9891",
   "metadata": {},
   "source": [
    "Link(s):\n",
    "https://www.protectedplanet.net/en/thematic-areas/oecms?tab=OECMs\n",
    "https://www.protectedplanet.net/en/thematic-areas/oecms?tab=Methodology\n",
    "\n",
    "Citation:\n",
    "UNEP-WCMC and IUCN (2023), Protected Planet: The World Database on Protected Areas (WDPA) and World Database on Other Effective Area-based Conservation Measures (WD-OECM) [Online], November 2023, Cambridge, UK: UNEP-WCMC and IUCN. Available at: www.protectedplanet.net.\n",
    "\n",
    "Overview:\n",
    "The WD-OECM can be combined with the World Database on Protected Areas (WDPA) to provide a more comprehensive picture of the world’s conservation network;\n",
    "The WDPAID is the unique identifier for both the WD-OECM and WDPA. It remains unique even when the two databases are combined;\n",
    "When the two databases are combined, the PA_DEF field can be used to distinguish protected areas (1) from OECMs (0);\n",
    "\n",
    "\n",
    "Rationale: these are being used along with protected areas to measure progress towrads Target 3 of the new global biodiversity framework (https://www.cbd.int/gbf/targets/3/) \n",
    "\n",
    "Caveats: \n",
    "WD-OECM is not updated automatically in GEE as yet (snapshot shown for this demo). In future there could be an agreement to make it updated each month in GEE (as the WDPA I currently)\\\n",
    "Only a few countries covered to date. \n",
    "No point data present but may be in future and code should adatp for this.\n"
   ]
  },
  {
   "cell_type": "code",
   "execution_count": 95,
   "id": "214591e7-798f-4bee-b8f3-eab4cfa33e79",
   "metadata": {
    "tags": []
   },
   "outputs": [],
   "source": [
    "OECM_poly_1 = ee.FeatureCollection(\"projects/ee-andyarnellgee/assets/p0004_commodity_mapper_support/raw/WDPA_OECM_polygons1\")\n",
    "OECM_poly_2 = ee.FeatureCollection(\"projects/ee-andyarnellgee/assets/p0004_commodity_mapper_support/raw/WDPA_OECM_polygons2\")\n",
    "OECM_poly_3 = ee.FeatureCollection(\"projects/ee-andyarnellgee/assets/p0004_commodity_mapper_support/raw/WDPA_OECM_polygons3\")\n",
    "\n",
    "OECM_2023_poly = ee.FeatureCollection([OECM_poly_1,OECM_poly_2,OECM_poly_3]).flatten().filter(ee.Filter.eq(\"PA_DEF\",\"0\")) #collating uploaded shapefiles and filtering for only OECMs \n",
    "\n",
    "OECM_2023_poly.limit(10)\n",
    "\n",
    "OECM_2023_binary = OECM_2023_poly.reduceToImage([\"WDPAID\"],ee.Reducer.count()).gt(0).selfMask() #convert to image\n",
    "\n"
   ]
  },
  {
   "cell_type": "code",
   "execution_count": 96,
   "id": "49cd2a62-35d0-42a0-bc5b-c5d428876dde",
   "metadata": {},
   "outputs": [
    {
     "name": "stdout",
     "output_type": "stream",
     "text": [
      "template_band_index:  0\n",
      "scale (m):  27.829872698318393\n"
     ]
    }
   ],
   "source": [
    "#reproject based on gfc data\n",
    "crs_template = gfc.select(0).projection().crs().getInfo()\n",
    "\n",
    "OECM_2023_binary_reproj = OECM_2023_binary.reproject(\n",
    "  crs= crs_template,\n",
    "  scale= area_stats.get_scale_from_image(gfc),\n",
    ").int8()\n",
    "\n",
    "OECM_2023_area_hectares = area_stats.binary_to_area_hectares(OECM_2023_binary_reproj)\n",
    "\n",
    "OECM_2023_area_hectares = area_stats.set_scale_property_from_image(OECM_2023_area_hectares,gfc,0,verbose=True)\n",
    "\n",
    "\n"
   ]
  },
  {
   "cell_type": "code",
   "execution_count": 97,
   "id": "7eed9030-41b0-4acf-bb57-6015ad67543f",
   "metadata": {
    "tags": []
   },
   "outputs": [],
   "source": [
    "# Map = geemap.Map() \n",
    "# Map.addLayer(OECM_2023_binary,{min:0, max:1, 'palette':['white','purple']},\"OECM_2023_binary_reproj\",1,1)\n",
    "# Map "
   ]
  },
  {
   "cell_type": "markdown",
   "id": "51fb7a7c-48ad-4789-82f8-36a50cff8af3",
   "metadata": {
    "tags": []
   },
   "source": [
    "#### Fetch: Key Biodiversity Areas (KBAs)\n",
    "Link: https://www.keybiodiversityareas.org/kba-data/request; \n",
    "https://www.keybiodiversityareas.org/termsofservice\n",
    "\n",
    "Citation: BirdLife International ([year e.g. 2023]). The World Database of Key Biodiversity Areas. Developed by the KBA Partnership: BirdLife International, International Union for the Conservation of Nature, Amphibian Survival Alliance, Conservation International, Critical Ecosystem Partnership Fund, Global Environment Facility, Re:wild, NatureServe, Rainforest Trust, Royal Society for the Protection of Birds, Wildlife Conservation Society and World Wildlife Fund. Available at www.keybiodiversityareas.org. [Accessed (please insert date of download dd/mm/yyyy)].\n",
    "\n",
    "Overview: Key Biodiversity Areas, which are among the most incredible and diverse places on Earth for nature, from deserts to the middle of the ocean, are sites of global importance to the planet’s overall health and the persistence of biodiversity. The Key Biodiversity Area Partnership - an ambitious partnership of 13 global conservation organizations - is helping prevent the rapid loss of biodiversity by supporting nationally led efforts to identify these places on the planet that are critical for the survival of unique plants and animals, and the ecological communities they comprise.\n",
    "\n",
    "By mapping these most important sites on Earth, and providing information about the wildlife living there, private industry, governments and other stakeholders can make the best decisions about how to manage that land (or waters), where to avoid development, and how best to conserve and protect the animals and plants for which the sites are so important.\n",
    "\n",
    "NB\n",
    "- RATIONALE: Useful flag as these areas typically become protected in future (large overlap with existing protected areas whcih take a while to be designated) \n",
    "- The last populations of species are found in a subset of KBAs (i.e., Alliance for Zero Extinction (AZE) sites)\n",
    "- KBAs have rigourous inclusion criteria and typically have active management for protecting species they contain"
   ]
  },
  {
   "cell_type": "code",
   "execution_count": 98,
   "id": "f329dd50-3505-4fcc-8aee-7f044f30ad27",
   "metadata": {
    "tags": []
   },
   "outputs": [],
   "source": [
    "kbas_2023_poly = ee.FeatureCollection(\"projects/ee-andyarnellgee/assets/p0004_commodity_mapper_support/raw/KBAsGlobal_2023_March_01_POL\");##uploaded - may need rights\n",
    "\n",
    "kba_2023_overlap = kbas_2023_poly.reduceToImage(['SitRecID'],'count').selfMask()  #make into raster - remove mask if want 0s\n",
    "\n",
    "kba_2023_binary = kba_2023_overlap.gte(0)"
   ]
  },
  {
   "cell_type": "markdown",
   "id": "2fb2fa79-5528-4719-a5a5-7db70aa5e048",
   "metadata": {
    "tags": []
   },
   "source": [
    "##### Setting projection and resolution etc (based on GFC scale as template)"
   ]
  },
  {
   "cell_type": "code",
   "execution_count": 99,
   "id": "8edf2113-431c-4e9f-9191-a6406f825e1b",
   "metadata": {
    "tags": []
   },
   "outputs": [
    {
     "name": "stdout",
     "output_type": "stream",
     "text": [
      "template_band_index:  0\n",
      "scale (m):  27.829872698318393\n"
     ]
    }
   ],
   "source": [
    "#reproject based on gfc data\n",
    "crs_template = gfc.select(0).projection().crs().getInfo()\n",
    "\n",
    "kba_2023_binary_reproj = kba_2023_binary.reproject(\n",
    "  crs= crs_template,\n",
    "  scale= area_stats.get_scale_from_image(gfc),\n",
    ").int8()\n",
    "\n",
    "kba_2023_area_hectares = area_stats.binary_to_area_hectares(kba_2023_binary_reproj)\n",
    "\n",
    "kba_2023_area_hectares = area_stats.set_scale_property_from_image(kba_2023_area_hectares,gfc,0,verbose=True)\n",
    "\n"
   ]
  },
  {
   "cell_type": "code",
   "execution_count": 100,
   "id": "6ed2b72a-6f9b-49d1-9545-02306201d673",
   "metadata": {
    "tags": []
   },
   "outputs": [],
   "source": [
    "# # ##checks\n",
    "# Map = geemap.Map()\n",
    "# # Map.addLayer(kbas_2023_poly,\"\",'kbas_2023_poly',0,1); \n",
    "# # Map.addLayer(kba_2023_overlap, {'min':0, 'max':5, 'palette':['blue','red']},'kba_overlap',0,1); #visualise raster - with count of overlaps\n",
    "# Map.addLayer(kba_2023_binary, {'min':0, 'max':1, 'palette':['white','black']},'kba_binary',1,1); #binary raster\n",
    "\n",
    "# Map"
   ]
  },
  {
   "cell_type": "markdown",
   "id": "9cf8b89f-b084-4407-9ade-8c401babf65c",
   "metadata": {},
   "source": [
    "#### Placeholder: Indigenous peoples and conserved areas (ICCA)? Could be another flag if can get data.\n",
    "\n",
    "Rationale: Noted in the EUDR.\n",
    "\n",
    "Barrier: Many of these may be points (instead of polygons) or hidden as not always well regarded by own country when shown and listed on a map. \n",
    "\n",
    "Ideas: Could do some buffer zones on points? Data quality likely an issue for these.\n",
    "\n",
    "Possible data sources:\n",
    "https://www.landmarkmap.org/\n",
    "ICCA registry (WCMC)\n",
    "Other ideas for how to get spatial data / proxy on page 18: Generating the layer of potential ICCAs in the following\n",
    "https://report.territoriesoflife.org/wp-content/uploads/2021/05/ICCA-Territories-of-Life-2021-Report-GLOBAL-ENG.pdf"
   ]
  },
  {
   "cell_type": "markdown",
   "id": "f40227de-c70f-4e68-9377-45c1632e3d04",
   "metadata": {},
   "source": [
    "#### Fetch: RADD forest disturbance alert\n",
    "\n",
    "Link: http://radd-alert.wur.nl; https://gee-community-catalog.org/projects/radd/\n",
    "\n",
    "Citation: Reiche J, Mullissa A, Slagter B, Gou Y, Tsendbazar N-E, Odongo-Braun C, Vollrath A, Weisse MJ, Stolle F, Pickens A, Donchyts G, Clinton N, Gorelick N, and Herold M (2021). https://doi.org/10.1088/1748-9326/abd0a8\n",
    "\n",
    "Overview:\n",
    "RADD - RAdar for Detecting Deforestation - Near real-time disturbances in humid tropical forest based on Sentinel-1 at 10m spatial scale. \n",
    "NB only primary humid tropical forest of South America (13 countries), Central America (6 countries), Africa (25 countries), insular Southeast Asia (5 countries) and Pacific (1 country).\n",
    "A new forest disturbance alert is triggered based on a single observation from the latest Sentinel-1 C-band radar image. Subsequent observations are used to iteratively update the forest disturbance probability, increase confidence and confirm or reject the alert. Alerts are confirmed within a maximum 90-day period if the forest disturbance probability is above 97.5% (high confidence alerts). Unconfirmed alerts (low confidence alerts) are provided for forest disturbance probabilities above 85%. The date of the alert is set to the date of the image that first triggered the alert.\n",
    "\n",
    "\n",
    "Approach for deforestations risk proxy: run stats for areas around each input feature and 5km buffer. \n",
    "Select only recent forest loss (i.e. in the last 2 years) based on todays date.\n",
    "\n",
    "Other data to be considered: \n",
    "GLAD alerts (wider coverage but less frequent in cloud cover); a mix of GLADD and RADD to make a combined alert (as in WRI's GFW)\n",
    "GFC/Hansen loss years after 2021; Use combination of loss and alerts; use off-shelf deforestation risk product (no buffer needed for this).\n",
    "\n",
    "Instead of buffer and recency, use actual rates such as here https://code.earthengine.google.com/ab1e640b81a107b796718f285a56422a\n"
   ]
  },
  {
   "cell_type": "code",
   "execution_count": 101,
   "id": "d2667908-cb57-4337-a61f-f7656b8af13e",
   "metadata": {
    "tags": []
   },
   "outputs": [
    {
     "name": "stdout",
     "output_type": "stream",
     "text": [
      "start_date_yyDDD 21335\n"
     ]
    }
   ],
   "source": [
    "# Getting today's date\n",
    "ee_now =ee.Date(datetime.now())#.format()\n",
    "# if debug: print (ee_now.getInfo())\n",
    "\n",
    "# Calculate the start date\n",
    "start_date = ee_now.advance(how_many_days_back, \"day\")\n",
    "\n",
    "# Needs to be in yyDDD format and needs to be a number, so need to parse too\n",
    "start_date_yyDDD = ee.Number.parse(start_date.format('yyDDD'))\n",
    "\n",
    "if debug: print (\"start_date_yyDDD\", start_date_yyDDD.getInfo())\n"
   ]
  },
  {
   "cell_type": "code",
   "execution_count": 102,
   "id": "fb85ed7c-88d3-4605-b4c2-5e198635ca3e",
   "metadata": {
    "tags": []
   },
   "outputs": [
    {
     "data": {
      "text/html": [
       "<div><style>:root {\n",
       "  --font-color-primary: var(--jp-content-font-color0, rgba(0, 0, 0, 1));\n",
       "  --font-color-secondary: var(--jp-content-font-color2, rgba(0, 0, 0, 0.6));\n",
       "  --font-color-accent: rgba(123, 31, 162, 1);\n",
       "  --border-color: var(--jp-border-color2, #e0e0e0);\n",
       "  --background-color: var(--jp-layout-color0, white);\n",
       "  --background-color-row-even: var(--jp-layout-color1, white);\n",
       "  --background-color-row-odd: var(--jp-layout-color2, #eeeeee);\n",
       "}\n",
       "\n",
       "html[theme=\"dark\"],\n",
       "body[data-theme=\"dark\"],\n",
       "body.vscode-dark {\n",
       "  --font-color-primary: rgba(255, 255, 255, 1);\n",
       "  --font-color-secondary: rgba(255, 255, 255, 0.6);\n",
       "  --font-color-accent: rgb(173, 132, 190);\n",
       "  --border-color: #2e2e2e;\n",
       "  --background-color: #111111;\n",
       "  --background-color-row-even: #111111;\n",
       "  --background-color-row-odd: #313131;\n",
       "}\n",
       "\n",
       ".ee {\n",
       "  padding: 1em;\n",
       "  line-height: 1.5em;\n",
       "  min-width: 300px;\n",
       "  max-width: 1200px;\n",
       "  overflow-y: scroll;\n",
       "  max-height: 600px;\n",
       "  border: 1px solid var(--border-color);\n",
       "  font-family: monospace;\n",
       "}\n",
       "\n",
       ".ee li {\n",
       "  list-style-type: none;\n",
       "}\n",
       "\n",
       ".ee ul {\n",
       "  padding-left: 1.5em !important;\n",
       "  margin: 0;\n",
       "}\n",
       "\n",
       ".ee > ul {\n",
       "  padding-left: 0 !important;\n",
       "}\n",
       "\n",
       ".ee-open,\n",
       ".ee-shut {\n",
       "  color: var(--font-color-secondary);\n",
       "  cursor: pointer;\n",
       "  margin: 0;\n",
       "}\n",
       "\n",
       ".ee-open:hover,\n",
       ".ee-shut:hover {\n",
       "  color: var(--font-color-primary);\n",
       "}\n",
       "\n",
       ".ee-k {\n",
       "  color: var(--font-color-accent);\n",
       "  margin-right: 6px;\n",
       "}\n",
       "\n",
       ".ee-v {\n",
       "  color: var(--font-color-primary);\n",
       "}\n",
       "\n",
       ".ee-toggle {\n",
       "  display: none;\n",
       "}\n",
       "\n",
       ".ee-shut + ul {\n",
       "  display: none;\n",
       "}\n",
       "\n",
       ".ee-open + ul {\n",
       "  display: block;\n",
       "}\n",
       "\n",
       ".ee-shut::before {\n",
       "  display: inline-block;\n",
       "  content: \"▼\";\n",
       "  margin-right: 6px;\n",
       "  transform: rotate(-90deg);\n",
       "  transition: transform 0.2s;\n",
       "}\n",
       "\n",
       ".ee-open::before {\n",
       "  transform: rotate(0deg);\n",
       "  display: inline-block;\n",
       "  content: \"▼\";\n",
       "  margin-right: 6px;\n",
       "  transition: transform 0.2s;\n",
       "}\n",
       "</style><div class='ee'><ul><li><label class='ee-shut'>Image (1 band)<input type='checkbox' class='ee-toggle'></label><ul><li><span class='ee-k'>type:</span><span class='ee-v'>Image</span></li><li><label class='ee-shut'>bands: List (1 element)<input type='checkbox' class='ee-toggle'></label><ul><li><label class='ee-shut'>0: \"Date\", int ∈ [0, 1], EPSG:4326<input type='checkbox' class='ee-toggle'></label><ul><li><span class='ee-k'>id:</span><span class='ee-v'>Date</span></li><li><span class='ee-k'>crs:</span><span class='ee-v'>EPSG:4326</span></li><li><label class='ee-shut'>crs_transform: [1, 0, 0, 0, 1, 0]<input type='checkbox' class='ee-toggle'></label><ul><li><span class='ee-k'>0:</span><span class='ee-v'>1</span></li><li><span class='ee-k'>1:</span><span class='ee-v'>0</span></li><li><span class='ee-k'>2:</span><span class='ee-v'>0</span></li><li><span class='ee-k'>3:</span><span class='ee-v'>0</span></li><li><span class='ee-k'>4:</span><span class='ee-v'>1</span></li><li><span class='ee-k'>5:</span><span class='ee-v'>0</span></li></ul></li><li><label class='ee-shut'>data_type: int ∈ [0, 1]<input type='checkbox' class='ee-toggle'></label><ul><li><span class='ee-k'>type:</span><span class='ee-v'>PixelType</span></li><li><span class='ee-k'>max:</span><span class='ee-v'>1</span></li><li><span class='ee-k'>min:</span><span class='ee-v'>0</span></li><li><span class='ee-k'>precision:</span><span class='ee-v'>int</span></li></ul></li></ul></li></ul></li></ul></li></ul></div><script>function toggleHeader() {\n",
       "    const parent = this.parentElement;\n",
       "    parent.className = parent.className === \"ee-open\" ? \"ee-shut\" : \"ee-open\";\n",
       "}\n",
       "\n",
       "for (let c of document.getElementsByClassName(\"ee-toggle\")) {\n",
       "    c.onclick = toggleHeader;\n",
       "}</script></div>"
      ],
      "text/plain": [
       "<ee.image.Image at 0x7feabc9b0f40>"
      ]
     },
     "execution_count": 102,
     "metadata": {},
     "output_type": "execute_result"
    }
   ],
   "source": [
    "# Define the Image Collection\n",
    "radd = ee.ImageCollection('projects/radar-wur/raddalert/v1')\n",
    "\n",
    "# Forest baseline (from Primart HT forests data)\n",
    "forest_baseline = ee.Image(radd.filterMetadata('layer', 'contains', 'forest_baseline')\n",
    "    .mosaic())\n",
    " \n",
    "# Latest RADD alert\n",
    "latest_radd_alert = ee.Image(radd.filterMetadata('layer', 'contains', 'alert')\n",
    "    .sort('system:time_end', False)\n",
    "    .mosaic())\n",
    "\n",
    "# Update mask for RADD alert to be within primary forest (TO CHECK maybe unnecessry step)\n",
    "latest_radd_alert_masked = latest_radd_alert.select('Alert')#.updateMask(forest_baseline)\n",
    "\n",
    "# Mask confirmed alerts #TO CHECK do we want to be more conservative?\n",
    "latest_radd_alert_masked_confirmed = latest_radd_alert_masked.unmask().eq(3)\n",
    "\n",
    "# Update mask for confirmed alerts by date\n",
    "latest_radd_alert_confirmed_recent = latest_radd_alert.select('Date').gte(start_date_yyDDD).selfMask()\n",
    "latest_radd_alert_confirmed_recent"
   ]
  },
  {
   "cell_type": "code",
   "execution_count": 103,
   "id": "0f856250-5654-4bf9-bf69-3620e126ae73",
   "metadata": {
    "tags": []
   },
   "outputs": [
    {
     "name": "stdout",
     "output_type": "stream",
     "text": [
      "template_band_index:  0\n",
      "scale (m):  10\n"
     ]
    }
   ],
   "source": [
    "latest_radd_alert_confirmed_recent_area_hectares = area_stats.binary_to_area_hectares(latest_radd_alert_confirmed_recent)\n",
    "\n",
    "latest_radd_alert_confirmed_recent_area_hectares = area_stats.set_scale_property_from_image(latest_radd_alert_confirmed_recent_area_hectares,radd.first(),0,verbose=True)\n"
   ]
  },
  {
   "cell_type": "code",
   "execution_count": 104,
   "id": "6879913a-e64b-40fd-acd7-f0d1909169b5",
   "metadata": {},
   "outputs": [],
   "source": [
    "# # #checks\n",
    "# Map = geemap.Map()\n",
    "\n",
    "# # # # Add Forest baseline layer to the map\n",
    "# Map.addLayer(forest_baseline, {'palette': ['darkgreen']}, 'Forest baseline', 0, 1)\n",
    "\n",
    "# Map.addLayer(latest_radd_alert_confirmed_recent,\n",
    "#     {'min': 0, 'max': 1, 'palette': ['white', 'red']},\n",
    "#     'RADD alert masked confirmed - recent (i.e., filtered by date)', 1, 1)\n",
    "\n",
    "\n",
    "# Map"
   ]
  },
  {
   "cell_type": "markdown",
   "id": "71e13dd0-85e2-4f9b-bed8-9fcc9dd32f2c",
   "metadata": {
    "tags": []
   },
   "source": [
    "#### Set properties for which images need special treatment"
   ]
  },
  {
   "cell_type": "code",
   "execution_count": 105,
   "id": "7ada930c-e43f-4796-8852-65d845efcbaa",
   "metadata": {
    "tags": []
   },
   "outputs": [],
   "source": [
    "#deforestation alerts\n",
    "# set property so run stats for a buffer around site; \n",
    "# and show presence only as output \n",
    "latest_radd_alert_confirmed_recent_area_hectares = latest_radd_alert_confirmed_recent_area_hectares.setMulti(\n",
    "    {\"alerts_buffer\":1,\"presence_only_flag\":1})\n",
    "\n",
    "#important sites: 1) protected areas and 2) KBAs (likely future protectred areas) \n",
    "# show presence only as output \n",
    "protected_areas_WDPA_area_hectares = protected_areas_WDPA_area_hectares.set(\"presence_only_flag\",1)\n",
    "\n",
    "OECM_2023_area_hectares = OECM_2023_area_hectares.set(\"presence_only_flag\",1)\n",
    "\n",
    "kba_2023_area_hectares = kba_2023_area_hectares.set(\"presence_only_flag\",1)\n",
    "\n"
   ]
  },
  {
   "cell_type": "markdown",
   "id": "6075125b-851e-490e-a60a-bb8d867aafb3",
   "metadata": {
    "tags": []
   },
   "source": [
    "#### Create dictionary of images and image names\n",
    "- prep for reduceRegions statistics so name of datasets/image is added to area stats\n",
    "- sets \"system:index\" property of each image\n",
    "- result is an image collection with "
   ]
  },
  {
   "cell_type": "code",
   "execution_count": 106,
   "id": "443aab36-2bb3-4f9f-9398-6d5b80ae8f48",
   "metadata": {
    "tags": []
   },
   "outputs": [
    {
     "name": "stdout",
     "output_type": "stream",
     "text": [
      "number of images:  16\n"
     ]
    },
    {
     "data": {
      "text/html": [
       "<div><style>:root {\n",
       "  --font-color-primary: var(--jp-content-font-color0, rgba(0, 0, 0, 1));\n",
       "  --font-color-secondary: var(--jp-content-font-color2, rgba(0, 0, 0, 0.6));\n",
       "  --font-color-accent: rgba(123, 31, 162, 1);\n",
       "  --border-color: var(--jp-border-color2, #e0e0e0);\n",
       "  --background-color: var(--jp-layout-color0, white);\n",
       "  --background-color-row-even: var(--jp-layout-color1, white);\n",
       "  --background-color-row-odd: var(--jp-layout-color2, #eeeeee);\n",
       "}\n",
       "\n",
       "html[theme=\"dark\"],\n",
       "body[data-theme=\"dark\"],\n",
       "body.vscode-dark {\n",
       "  --font-color-primary: rgba(255, 255, 255, 1);\n",
       "  --font-color-secondary: rgba(255, 255, 255, 0.6);\n",
       "  --font-color-accent: rgb(173, 132, 190);\n",
       "  --border-color: #2e2e2e;\n",
       "  --background-color: #111111;\n",
       "  --background-color-row-even: #111111;\n",
       "  --background-color-row-odd: #313131;\n",
       "}\n",
       "\n",
       ".ee {\n",
       "  padding: 1em;\n",
       "  line-height: 1.5em;\n",
       "  min-width: 300px;\n",
       "  max-width: 1200px;\n",
       "  overflow-y: scroll;\n",
       "  max-height: 600px;\n",
       "  border: 1px solid var(--border-color);\n",
       "  font-family: monospace;\n",
       "}\n",
       "\n",
       ".ee li {\n",
       "  list-style-type: none;\n",
       "}\n",
       "\n",
       ".ee ul {\n",
       "  padding-left: 1.5em !important;\n",
       "  margin: 0;\n",
       "}\n",
       "\n",
       ".ee > ul {\n",
       "  padding-left: 0 !important;\n",
       "}\n",
       "\n",
       ".ee-open,\n",
       ".ee-shut {\n",
       "  color: var(--font-color-secondary);\n",
       "  cursor: pointer;\n",
       "  margin: 0;\n",
       "}\n",
       "\n",
       ".ee-open:hover,\n",
       ".ee-shut:hover {\n",
       "  color: var(--font-color-primary);\n",
       "}\n",
       "\n",
       ".ee-k {\n",
       "  color: var(--font-color-accent);\n",
       "  margin-right: 6px;\n",
       "}\n",
       "\n",
       ".ee-v {\n",
       "  color: var(--font-color-primary);\n",
       "}\n",
       "\n",
       ".ee-toggle {\n",
       "  display: none;\n",
       "}\n",
       "\n",
       ".ee-shut + ul {\n",
       "  display: none;\n",
       "}\n",
       "\n",
       ".ee-open + ul {\n",
       "  display: block;\n",
       "}\n",
       "\n",
       ".ee-shut::before {\n",
       "  display: inline-block;\n",
       "  content: \"▼\";\n",
       "  margin-right: 6px;\n",
       "  transform: rotate(-90deg);\n",
       "  transition: transform 0.2s;\n",
       "}\n",
       "\n",
       ".ee-open::before {\n",
       "  transform: rotate(0deg);\n",
       "  display: inline-block;\n",
       "  content: \"▼\";\n",
       "  margin-right: 6px;\n",
       "  transition: transform 0.2s;\n",
       "}\n",
       "</style><div class='ee'><ul><li><label class='ee-shut'>ImageCollection (16 elements)<input type='checkbox' class='ee-toggle'></label><ul><li><span class='ee-k'>type:</span><span class='ee-v'>ImageCollection</span></li><li><label class='ee-shut'>bands: []<input type='checkbox' class='ee-toggle'></label><ul></ul></li><li><label class='ee-shut'>features: List (16 elements)<input type='checkbox' class='ee-toggle'></label><ul><li><label class='ee-shut'>0: Image (1 band)<input type='checkbox' class='ee-toggle'></label><ul><li><span class='ee-k'>type:</span><span class='ee-v'>Image</span></li><li><label class='ee-shut'>bands: List (1 element)<input type='checkbox' class='ee-toggle'></label><ul><li><label class='ee-shut'>0: \"treecover2000\", float, EPSG:4326<input type='checkbox' class='ee-toggle'></label><ul><li><span class='ee-k'>id:</span><span class='ee-v'>treecover2000</span></li><li><span class='ee-k'>crs:</span><span class='ee-v'>EPSG:4326</span></li><li><label class='ee-shut'>crs_transform: [0.00025, 0, -180, 0, -0.00025, 80]<input type='checkbox' class='ee-toggle'></label><ul><li><span class='ee-k'>0:</span><span class='ee-v'>0.00025</span></li><li><span class='ee-k'>1:</span><span class='ee-v'>0</span></li><li><span class='ee-k'>2:</span><span class='ee-v'>-180</span></li><li><span class='ee-k'>3:</span><span class='ee-v'>0</span></li><li><span class='ee-k'>4:</span><span class='ee-v'>-0.00025</span></li><li><span class='ee-k'>5:</span><span class='ee-v'>80</span></li></ul></li><li><label class='ee-shut'>data_type: float<input type='checkbox' class='ee-toggle'></label><ul><li><span class='ee-k'>type:</span><span class='ee-v'>PixelType</span></li><li><span class='ee-k'>precision:</span><span class='ee-v'>float</span></li></ul></li></ul></li></ul></li><li><label class='ee-shut'>properties: Object (2 properties)<input type='checkbox' class='ee-toggle'></label><ul><li><span class='ee-k'>scale:</span><span class='ee-v'>27.829872698318393</span></li><li><span class='ee-k'>system:index:</span><span class='ee-v'>GFC_Tree_Cover_2020</span></li></ul></li></ul></li><li><label class='ee-shut'>1: Image (1 band)<input type='checkbox' class='ee-toggle'></label><ul><li><span class='ee-k'>type:</span><span class='ee-v'>Image</span></li><li><label class='ee-shut'>bands: List (1 element)<input type='checkbox' class='ee-toggle'></label><ul><li><label class='ee-shut'>0: \"remapped\", float, EPSG:4326<input type='checkbox' class='ee-toggle'></label><ul><li><span class='ee-k'>id:</span><span class='ee-v'>remapped</span></li><li><span class='ee-k'>crs:</span><span class='ee-v'>EPSG:4326</span></li><li><label class='ee-shut'>crs_transform: [1, 0, 0, 0, 1, 0]<input type='checkbox' class='ee-toggle'></label><ul><li><span class='ee-k'>0:</span><span class='ee-v'>1</span></li><li><span class='ee-k'>1:</span><span class='ee-v'>0</span></li><li><span class='ee-k'>2:</span><span class='ee-v'>0</span></li><li><span class='ee-k'>3:</span><span class='ee-v'>0</span></li><li><span class='ee-k'>4:</span><span class='ee-v'>1</span></li><li><span class='ee-k'>5:</span><span class='ee-v'>0</span></li></ul></li><li><label class='ee-shut'>data_type: float<input type='checkbox' class='ee-toggle'></label><ul><li><span class='ee-k'>type:</span><span class='ee-v'>PixelType</span></li><li><span class='ee-k'>precision:</span><span class='ee-v'>float</span></li></ul></li></ul></li></ul></li><li><label class='ee-shut'>properties: Object (2 properties)<input type='checkbox' class='ee-toggle'></label><ul><li><span class='ee-k'>scale:</span><span class='ee-v'>10</span></li><li><span class='ee-k'>system:index:</span><span class='ee-v'>ESRI_Trees_2020</span></li></ul></li></ul></li><li><label class='ee-shut'>2: Image (1 band)<input type='checkbox' class='ee-toggle'></label><ul><li><span class='ee-k'>type:</span><span class='ee-v'>Image</span></li><li><label class='ee-shut'>bands: List (1 element)<input type='checkbox' class='ee-toggle'></label><ul><li><label class='ee-shut'>0: \"fnf\", float, EPSG:4326<input type='checkbox' class='ee-toggle'></label><ul><li><span class='ee-k'>id:</span><span class='ee-v'>fnf</span></li><li><span class='ee-k'>crs:</span><span class='ee-v'>EPSG:4326</span></li><li><label class='ee-shut'>crs_transform: [1, 0, 0, 0, 1, 0]<input type='checkbox' class='ee-toggle'></label><ul><li><span class='ee-k'>0:</span><span class='ee-v'>1</span></li><li><span class='ee-k'>1:</span><span class='ee-v'>0</span></li><li><span class='ee-k'>2:</span><span class='ee-v'>0</span></li><li><span class='ee-k'>3:</span><span class='ee-v'>0</span></li><li><span class='ee-k'>4:</span><span class='ee-v'>1</span></li><li><span class='ee-k'>5:</span><span class='ee-v'>0</span></li></ul></li><li><label class='ee-shut'>data_type: float<input type='checkbox' class='ee-toggle'></label><ul><li><span class='ee-k'>type:</span><span class='ee-v'>PixelType</span></li><li><span class='ee-k'>precision:</span><span class='ee-v'>float</span></li></ul></li></ul></li></ul></li><li><label class='ee-shut'>properties: Object (2 properties)<input type='checkbox' class='ee-toggle'></label><ul><li><span class='ee-k'>scale:</span><span class='ee-v'>24.73766462072746</span></li><li><span class='ee-k'>system:index:</span><span class='ee-v'>JAXA_Forest_non_forest_2020</span></li></ul></li></ul></li><li><label class='ee-shut'>3: Image (1 band)<input type='checkbox' class='ee-toggle'></label><ul><li><span class='ee-k'>type:</span><span class='ee-v'>Image</span></li><li><label class='ee-shut'>bands: List (1 element)<input type='checkbox' class='ee-toggle'></label><ul><li><label class='ee-shut'>0: \"b1\", float, EPSG:4326<input type='checkbox' class='ee-toggle'></label><ul><li><span class='ee-k'>id:</span><span class='ee-v'>b1</span></li><li><span class='ee-k'>crs:</span><span class='ee-v'>EPSG:4326</span></li><li><label class='ee-shut'>crs_transform: [0.00025, 0, -180, 0, -0.00025, 80]<input type='checkbox' class='ee-toggle'></label><ul><li><span class='ee-k'>0:</span><span class='ee-v'>0.00025</span></li><li><span class='ee-k'>1:</span><span class='ee-v'>0</span></li><li><span class='ee-k'>2:</span><span class='ee-v'>-180</span></li><li><span class='ee-k'>3:</span><span class='ee-v'>0</span></li><li><span class='ee-k'>4:</span><span class='ee-v'>-0.00025</span></li><li><span class='ee-k'>5:</span><span class='ee-v'>80</span></li></ul></li><li><label class='ee-shut'>data_type: float<input type='checkbox' class='ee-toggle'></label><ul><li><span class='ee-k'>type:</span><span class='ee-v'>PixelType</span></li><li><span class='ee-k'>precision:</span><span class='ee-v'>float</span></li></ul></li></ul></li></ul></li><li><label class='ee-shut'>properties: Object (2 properties)<input type='checkbox' class='ee-toggle'></label><ul><li><span class='ee-k'>scale:</span><span class='ee-v'>27.829872698318393</span></li><li><span class='ee-k'>system:index:</span><span class='ee-v'>GLAD_LULC_Stable_Tree 2020</span></li></ul></li></ul></li><li><label class='ee-shut'>4: Image (1 band)<input type='checkbox' class='ee-toggle'></label><ul><li><span class='ee-k'>type:</span><span class='ee-v'>Image</span></li><li><label class='ee-shut'>bands: List (1 element)<input type='checkbox' class='ee-toggle'></label><ul><li><label class='ee-shut'>0: \"remapped\", float, EPSG:4326<input type='checkbox' class='ee-toggle'></label><ul><li><span class='ee-k'>id:</span><span class='ee-v'>remapped</span></li><li><span class='ee-k'>crs:</span><span class='ee-v'>EPSG:4326</span></li><li><label class='ee-shut'>crs_transform: [1, 0, 0, 0, 1, 0]<input type='checkbox' class='ee-toggle'></label><ul><li><span class='ee-k'>0:</span><span class='ee-v'>1</span></li><li><span class='ee-k'>1:</span><span class='ee-v'>0</span></li><li><span class='ee-k'>2:</span><span class='ee-v'>0</span></li><li><span class='ee-k'>3:</span><span class='ee-v'>0</span></li><li><span class='ee-k'>4:</span><span class='ee-v'>1</span></li><li><span class='ee-k'>5:</span><span class='ee-v'>0</span></li></ul></li><li><label class='ee-shut'>data_type: float<input type='checkbox' class='ee-toggle'></label><ul><li><span class='ee-k'>type:</span><span class='ee-v'>PixelType</span></li><li><span class='ee-k'>precision:</span><span class='ee-v'>float</span></li></ul></li></ul></li></ul></li><li><label class='ee-shut'>properties: Object (2 properties)<input type='checkbox' class='ee-toggle'></label><ul><li><span class='ee-k'>scale:</span><span class='ee-v'>30.000000000000004</span></li><li><span class='ee-k'>system:index:</span><span class='ee-v'>TMF_undisturbed_forest_2020</span></li></ul></li></ul></li><li><label class='ee-shut'>5: Image (1 band)<input type='checkbox' class='ee-toggle'></label><ul><li><span class='ee-k'>type:</span><span class='ee-v'>Image</span></li><li><label class='ee-shut'>bands: List (1 element)<input type='checkbox' class='ee-toggle'></label><ul><li><label class='ee-shut'>0: \"Primary_HT_forests\", float, EPSG:4326<input type='checkbox' class='ee-toggle'></label><ul><li><span class='ee-k'>id:</span><span class='ee-v'>Primary_HT_forests</span></li><li><span class='ee-k'>crs:</span><span class='ee-v'>EPSG:4326</span></li><li><label class='ee-shut'>crs_transform: [1, 0, 0, 0, 1, 0]<input type='checkbox' class='ee-toggle'></label><ul><li><span class='ee-k'>0:</span><span class='ee-v'>1</span></li><li><span class='ee-k'>1:</span><span class='ee-v'>0</span></li><li><span class='ee-k'>2:</span><span class='ee-v'>0</span></li><li><span class='ee-k'>3:</span><span class='ee-v'>0</span></li><li><span class='ee-k'>4:</span><span class='ee-v'>1</span></li><li><span class='ee-k'>5:</span><span class='ee-v'>0</span></li></ul></li><li><label class='ee-shut'>data_type: float<input type='checkbox' class='ee-toggle'></label><ul><li><span class='ee-k'>type:</span><span class='ee-v'>PixelType</span></li><li><span class='ee-k'>precision:</span><span class='ee-v'>float</span></li></ul></li></ul></li></ul></li><li><label class='ee-shut'>properties: Object (2 properties)<input type='checkbox' class='ee-toggle'></label><ul><li><span class='ee-k'>scale:</span><span class='ee-v'>27.829872698318393</span></li><li><span class='ee-k'>system:index:</span><span class='ee-v'>Primary_Humid_Tropical_Forest_2020</span></li></ul></li></ul></li><li><label class='ee-shut'>6: Image (1 band)<input type='checkbox' class='ee-toggle'></label><ul><li><span class='ee-k'>type:</span><span class='ee-v'>Image</span></li><li><label class='ee-shut'>bands: List (1 element)<input type='checkbox' class='ee-toggle'></label><ul><li><label class='ee-shut'>0: \"remapped\", float, EPSG:4326<input type='checkbox' class='ee-toggle'></label><ul><li><span class='ee-k'>id:</span><span class='ee-v'>remapped</span></li><li><span class='ee-k'>crs:</span><span class='ee-v'>EPSG:4326</span></li><li><label class='ee-shut'>crs_transform: [1, 0, 0, 0, 1, 0]<input type='checkbox' class='ee-toggle'></label><ul><li><span class='ee-k'>0:</span><span class='ee-v'>1</span></li><li><span class='ee-k'>1:</span><span class='ee-v'>0</span></li><li><span class='ee-k'>2:</span><span class='ee-v'>0</span></li><li><span class='ee-k'>3:</span><span class='ee-v'>0</span></li><li><span class='ee-k'>4:</span><span class='ee-v'>1</span></li><li><span class='ee-k'>5:</span><span class='ee-v'>0</span></li></ul></li><li><label class='ee-shut'>data_type: float<input type='checkbox' class='ee-toggle'></label><ul><li><span class='ee-k'>type:</span><span class='ee-v'>PixelType</span></li><li><span class='ee-k'>precision:</span><span class='ee-v'>float</span></li></ul></li></ul></li></ul></li><li><label class='ee-shut'>properties: Object (2 properties)<input type='checkbox' class='ee-toggle'></label><ul><li><span class='ee-k'>scale:</span><span class='ee-v'>30.000000000000004</span></li><li><span class='ee-k'>system:index:</span><span class='ee-v'>TMF_disturbed_forest_2020</span></li></ul></li></ul></li><li><label class='ee-shut'>7: Image (1 band)<input type='checkbox' class='ee-toggle'></label><ul><li><span class='ee-k'>type:</span><span class='ee-v'>Image</span></li><li><label class='ee-shut'>bands: List (1 element)<input type='checkbox' class='ee-toggle'></label><ul><li><label class='ee-shut'>0: \"Date\", float, EPSG:4326<input type='checkbox' class='ee-toggle'></label><ul><li><span class='ee-k'>id:</span><span class='ee-v'>Date</span></li><li><span class='ee-k'>crs:</span><span class='ee-v'>EPSG:4326</span></li><li><label class='ee-shut'>crs_transform: [1, 0, 0, 0, 1, 0]<input type='checkbox' class='ee-toggle'></label><ul><li><span class='ee-k'>0:</span><span class='ee-v'>1</span></li><li><span class='ee-k'>1:</span><span class='ee-v'>0</span></li><li><span class='ee-k'>2:</span><span class='ee-v'>0</span></li><li><span class='ee-k'>3:</span><span class='ee-v'>0</span></li><li><span class='ee-k'>4:</span><span class='ee-v'>1</span></li><li><span class='ee-k'>5:</span><span class='ee-v'>0</span></li></ul></li><li><label class='ee-shut'>data_type: float<input type='checkbox' class='ee-toggle'></label><ul><li><span class='ee-k'>type:</span><span class='ee-v'>PixelType</span></li><li><span class='ee-k'>precision:</span><span class='ee-v'>float</span></li></ul></li></ul></li></ul></li><li><label class='ee-shut'>properties: Object (4 properties)<input type='checkbox' class='ee-toggle'></label><ul><li><span class='ee-k'>alerts_buffer:</span><span class='ee-v'>1</span></li><li><span class='ee-k'>presence_only_flag:</span><span class='ee-v'>1</span></li><li><span class='ee-k'>scale:</span><span class='ee-v'>10</span></li><li><span class='ee-k'>system:index:</span><span class='ee-v'>Local_RADD_alerts</span></li></ul></li></ul></li><li><label class='ee-shut'>8: Image (1 band)<input type='checkbox' class='ee-toggle'></label><ul><li><span class='ee-k'>type:</span><span class='ee-v'>Image</span></li><li><label class='ee-shut'>bands: List (1 element)<input type='checkbox' class='ee-toggle'></label><ul><li><label class='ee-shut'>0: \"remapped\", float, EPSG:4326<input type='checkbox' class='ee-toggle'></label><ul><li><span class='ee-k'>id:</span><span class='ee-v'>remapped</span></li><li><span class='ee-k'>crs:</span><span class='ee-v'>EPSG:4326</span></li><li><label class='ee-shut'>crs_transform: [1, 0, 0, 0, 1, 0]<input type='checkbox' class='ee-toggle'></label><ul><li><span class='ee-k'>0:</span><span class='ee-v'>1</span></li><li><span class='ee-k'>1:</span><span class='ee-v'>0</span></li><li><span class='ee-k'>2:</span><span class='ee-v'>0</span></li><li><span class='ee-k'>3:</span><span class='ee-v'>0</span></li><li><span class='ee-k'>4:</span><span class='ee-v'>1</span></li><li><span class='ee-k'>5:</span><span class='ee-v'>0</span></li></ul></li><li><label class='ee-shut'>data_type: float<input type='checkbox' class='ee-toggle'></label><ul><li><span class='ee-k'>type:</span><span class='ee-v'>PixelType</span></li><li><span class='ee-k'>precision:</span><span class='ee-v'>float</span></li></ul></li></ul></li></ul></li><li><label class='ee-shut'>properties: Object (2 properties)<input type='checkbox' class='ee-toggle'></label><ul><li><span class='ee-k'>scale:</span><span class='ee-v'>30.000000000000004</span></li><li><span class='ee-k'>system:index:</span><span class='ee-v'>TMF_plantation</span></li></ul></li></ul></li><li><label class='ee-shut'>9: Image (1 band)<input type='checkbox' class='ee-toggle'></label><ul><li><span class='ee-k'>type:</span><span class='ee-v'>Image</span></li><li><label class='ee-shut'>bands: List (1 element)<input type='checkbox' class='ee-toggle'></label><ul><li><label class='ee-shut'>0: \"classification\", float, EPSG:4326<input type='checkbox' class='ee-toggle'></label><ul><li><span class='ee-k'>id:</span><span class='ee-v'>classification</span></li><li><span class='ee-k'>crs:</span><span class='ee-v'>EPSG:4326</span></li><li><label class='ee-shut'>crs_transform: [1, 0, 0, 0, 1, 0]<input type='checkbox' class='ee-toggle'></label><ul><li><span class='ee-k'>0:</span><span class='ee-v'>1</span></li><li><span class='ee-k'>1:</span><span class='ee-v'>0</span></li><li><span class='ee-k'>2:</span><span class='ee-v'>0</span></li><li><span class='ee-k'>3:</span><span class='ee-v'>0</span></li><li><span class='ee-k'>4:</span><span class='ee-v'>1</span></li><li><span class='ee-k'>5:</span><span class='ee-v'>0</span></li></ul></li><li><label class='ee-shut'>data_type: float<input type='checkbox' class='ee-toggle'></label><ul><li><span class='ee-k'>type:</span><span class='ee-v'>PixelType</span></li><li><span class='ee-k'>precision:</span><span class='ee-v'>float</span></li></ul></li></ul></li></ul></li><li><label class='ee-shut'>properties: Object (2 properties)<input type='checkbox' class='ee-toggle'></label><ul><li><span class='ee-k'>scale:</span><span class='ee-v'>10</span></li><li><span class='ee-k'>system:index:</span><span class='ee-v'>Oil_palm_Descals</span></li></ul></li></ul></li><li><label class='ee-shut'>10: Image (1 band)<input type='checkbox' class='ee-toggle'></label><ul><li><span class='ee-k'>type:</span><span class='ee-v'>Image</span></li><li><label class='ee-shut'>bands: List (1 element)<input type='checkbox' class='ee-toggle'></label><ul><li><label class='ee-shut'>0: \"output\", float, EPSG:4326<input type='checkbox' class='ee-toggle'></label><ul><li><span class='ee-k'>id:</span><span class='ee-v'>output</span></li><li><span class='ee-k'>crs:</span><span class='ee-v'>EPSG:4326</span></li><li><label class='ee-shut'>crs_transform: [1, 0, 0, 0, 1, 0]<input type='checkbox' class='ee-toggle'></label><ul><li><span class='ee-k'>0:</span><span class='ee-v'>1</span></li><li><span class='ee-k'>1:</span><span class='ee-v'>0</span></li><li><span class='ee-k'>2:</span><span class='ee-v'>0</span></li><li><span class='ee-k'>3:</span><span class='ee-v'>0</span></li><li><span class='ee-k'>4:</span><span class='ee-v'>1</span></li><li><span class='ee-k'>5:</span><span class='ee-v'>0</span></li></ul></li><li><label class='ee-shut'>data_type: float<input type='checkbox' class='ee-toggle'></label><ul><li><span class='ee-k'>type:</span><span class='ee-v'>PixelType</span></li><li><span class='ee-k'>precision:</span><span class='ee-v'>float</span></li></ul></li></ul></li></ul></li><li><label class='ee-shut'>properties: Object (2 properties)<input type='checkbox' class='ee-toggle'></label><ul><li><span class='ee-k'>scale:</span><span class='ee-v'>10</span></li><li><span class='ee-k'>system:index:</span><span class='ee-v'>FDaP_palm_plantations</span></li></ul></li></ul></li><li><label class='ee-shut'>11: Image (1 band)<input type='checkbox' class='ee-toggle'></label><ul><li><span class='ee-k'>type:</span><span class='ee-v'>Image</span></li><li><label class='ee-shut'>bands: List (1 element)<input type='checkbox' class='ee-toggle'></label><ul><li><label class='ee-shut'>0: \"b1\", float, EPSG:4326, 108127x75223 px<input type='checkbox' class='ee-toggle'></label><ul><li><span class='ee-k'>id:</span><span class='ee-v'>b1</span></li><li><span class='ee-k'>crs:</span><span class='ee-v'>EPSG:4326</span></li><li><label class='ee-shut'>crs_transform: List (6 elements)<input type='checkbox' class='ee-toggle'></label><ul><li><span class='ee-k'>0:</span><span class='ee-v'>9.055018635493447e-05</span></li><li><span class='ee-k'>1:</span><span class='ee-v'>0</span></li><li><span class='ee-k'>2:</span><span class='ee-v'>-8.59923</span></li><li><span class='ee-k'>3:</span><span class='ee-v'>0</span></li><li><span class='ee-k'>4:</span><span class='ee-v'>-9.055023064754131e-05</span></li><li><span class='ee-k'>5:</span><span class='ee-v'>11.17328</span></li></ul></li><li><label class='ee-shut'>data_type: float<input type='checkbox' class='ee-toggle'></label><ul><li><span class='ee-k'>type:</span><span class='ee-v'>PixelType</span></li><li><span class='ee-k'>precision:</span><span class='ee-v'>float</span></li></ul></li><li><label class='ee-shut'>dimensions: [108127, 75223]<input type='checkbox' class='ee-toggle'></label><ul><li><span class='ee-k'>0:</span><span class='ee-v'>108127</span></li><li><span class='ee-k'>1:</span><span class='ee-v'>75223</span></li></ul></li></ul></li></ul></li><li><label class='ee-shut'>properties: Object (2 properties)<input type='checkbox' class='ee-toggle'></label><ul><li><span class='ee-k'>scale:</span><span class='ee-v'>10.080003101582253</span></li><li><span class='ee-k'>system:index:</span><span class='ee-v'>Cocoa_plantations_Kalischek</span></li></ul></li></ul></li><li><label class='ee-shut'>12: Image (1 band)<input type='checkbox' class='ee-toggle'></label><ul><li><span class='ee-k'>type:</span><span class='ee-v'>Image</span></li><li><label class='ee-shut'>bands: List (1 element)<input type='checkbox' class='ee-toggle'></label><ul><li><label class='ee-shut'>0: \"min\", float, EPSG:4326<input type='checkbox' class='ee-toggle'></label><ul><li><span class='ee-k'>id:</span><span class='ee-v'>min</span></li><li><span class='ee-k'>crs:</span><span class='ee-v'>EPSG:4326</span></li><li><label class='ee-shut'>crs_transform: [1, 0, 0, 0, 1, 0]<input type='checkbox' class='ee-toggle'></label><ul><li><span class='ee-k'>0:</span><span class='ee-v'>1</span></li><li><span class='ee-k'>1:</span><span class='ee-v'>0</span></li><li><span class='ee-k'>2:</span><span class='ee-v'>0</span></li><li><span class='ee-k'>3:</span><span class='ee-v'>0</span></li><li><span class='ee-k'>4:</span><span class='ee-v'>1</span></li><li><span class='ee-k'>5:</span><span class='ee-v'>0</span></li></ul></li><li><label class='ee-shut'>data_type: float<input type='checkbox' class='ee-toggle'></label><ul><li><span class='ee-k'>type:</span><span class='ee-v'>PixelType</span></li><li><span class='ee-k'>precision:</span><span class='ee-v'>float</span></li></ul></li></ul></li></ul></li><li><label class='ee-shut'>properties: Object (3 properties)<input type='checkbox' class='ee-toggle'></label><ul><li><span class='ee-k'>presence_only_flag:</span><span class='ee-v'>1</span></li><li><span class='ee-k'>scale:</span><span class='ee-v'>27.829872698318393</span></li><li><span class='ee-k'>system:index:</span><span class='ee-v'>Protected_area</span></li></ul></li></ul></li><li><label class='ee-shut'>13: Image (1 band)<input type='checkbox' class='ee-toggle'></label><ul><li><span class='ee-k'>type:</span><span class='ee-v'>Image</span></li><li><label class='ee-shut'>bands: List (1 element)<input type='checkbox' class='ee-toggle'></label><ul><li><label class='ee-shut'>0: \"count\", float, EPSG:4326<input type='checkbox' class='ee-toggle'></label><ul><li><span class='ee-k'>id:</span><span class='ee-v'>count</span></li><li><span class='ee-k'>crs:</span><span class='ee-v'>EPSG:4326</span></li><li><label class='ee-shut'>crs_transform: [1, 0, 0, 0, 1, 0]<input type='checkbox' class='ee-toggle'></label><ul><li><span class='ee-k'>0:</span><span class='ee-v'>1</span></li><li><span class='ee-k'>1:</span><span class='ee-v'>0</span></li><li><span class='ee-k'>2:</span><span class='ee-v'>0</span></li><li><span class='ee-k'>3:</span><span class='ee-v'>0</span></li><li><span class='ee-k'>4:</span><span class='ee-v'>1</span></li><li><span class='ee-k'>5:</span><span class='ee-v'>0</span></li></ul></li><li><label class='ee-shut'>data_type: float<input type='checkbox' class='ee-toggle'></label><ul><li><span class='ee-k'>type:</span><span class='ee-v'>PixelType</span></li><li><span class='ee-k'>precision:</span><span class='ee-v'>float</span></li></ul></li></ul></li></ul></li><li><label class='ee-shut'>properties: Object (3 properties)<input type='checkbox' class='ee-toggle'></label><ul><li><span class='ee-k'>presence_only_flag:</span><span class='ee-v'>1</span></li><li><span class='ee-k'>scale:</span><span class='ee-v'>27.829872698318393</span></li><li><span class='ee-k'>system:index:</span><span class='ee-v'>Other Effective area-based Conservation Measure</span></li></ul></li></ul></li><li><label class='ee-shut'>14: Image (1 band)<input type='checkbox' class='ee-toggle'></label><ul><li><span class='ee-k'>type:</span><span class='ee-v'>Image</span></li><li><label class='ee-shut'>bands: List (1 element)<input type='checkbox' class='ee-toggle'></label><ul><li><label class='ee-shut'>0: \"count\", float, EPSG:4326<input type='checkbox' class='ee-toggle'></label><ul><li><span class='ee-k'>id:</span><span class='ee-v'>count</span></li><li><span class='ee-k'>crs:</span><span class='ee-v'>EPSG:4326</span></li><li><label class='ee-shut'>crs_transform: [1, 0, 0, 0, 1, 0]<input type='checkbox' class='ee-toggle'></label><ul><li><span class='ee-k'>0:</span><span class='ee-v'>1</span></li><li><span class='ee-k'>1:</span><span class='ee-v'>0</span></li><li><span class='ee-k'>2:</span><span class='ee-v'>0</span></li><li><span class='ee-k'>3:</span><span class='ee-v'>0</span></li><li><span class='ee-k'>4:</span><span class='ee-v'>1</span></li><li><span class='ee-k'>5:</span><span class='ee-v'>0</span></li></ul></li><li><label class='ee-shut'>data_type: float<input type='checkbox' class='ee-toggle'></label><ul><li><span class='ee-k'>type:</span><span class='ee-v'>PixelType</span></li><li><span class='ee-k'>precision:</span><span class='ee-v'>float</span></li></ul></li></ul></li></ul></li><li><label class='ee-shut'>properties: Object (3 properties)<input type='checkbox' class='ee-toggle'></label><ul><li><span class='ee-k'>presence_only_flag:</span><span class='ee-v'>1</span></li><li><span class='ee-k'>scale:</span><span class='ee-v'>27.829872698318393</span></li><li><span class='ee-k'>system:index:</span><span class='ee-v'>Key_Biodiversity_Area</span></li></ul></li></ul></li><li><label class='ee-shut'>15: Image (1 band)<input type='checkbox' class='ee-toggle'></label><ul><li><span class='ee-k'>type:</span><span class='ee-v'>Image</span></li><li><label class='ee-shut'>bands: List (1 element)<input type='checkbox' class='ee-toggle'></label><ul><li><label class='ee-shut'>0: \"mode\", signed int8, EPSG:4326<input type='checkbox' class='ee-toggle'></label><ul><li><span class='ee-k'>id:</span><span class='ee-v'>mode</span></li><li><span class='ee-k'>crs:</span><span class='ee-v'>EPSG:4326</span></li><li><label class='ee-shut'>crs_transform: [0.00025, 0, 0, 0, -0.00025, 0]<input type='checkbox' class='ee-toggle'></label><ul><li><span class='ee-k'>0:</span><span class='ee-v'>0.00025</span></li><li><span class='ee-k'>1:</span><span class='ee-v'>0</span></li><li><span class='ee-k'>2:</span><span class='ee-v'>0</span></li><li><span class='ee-k'>3:</span><span class='ee-v'>0</span></li><li><span class='ee-k'>4:</span><span class='ee-v'>-0.00025</span></li><li><span class='ee-k'>5:</span><span class='ee-v'>0</span></li></ul></li><li><label class='ee-shut'>data_type: signed int8<input type='checkbox' class='ee-toggle'></label><ul><li><span class='ee-k'>type:</span><span class='ee-v'>PixelType</span></li><li><span class='ee-k'>max:</span><span class='ee-v'>127</span></li><li><span class='ee-k'>min:</span><span class='ee-v'>-128</span></li><li><span class='ee-k'>precision:</span><span class='ee-v'>int</span></li></ul></li></ul></li></ul></li><li><label class='ee-shut'>properties: Object (2 properties)<input type='checkbox' class='ee-toggle'></label><ul><li><span class='ee-k'>scale:</span><span class='ee-v'>27.829872698318393</span></li><li><span class='ee-k'>system:index:</span><span class='ee-v'>GAUL_boundaries_adm0_code_reproj</span></li></ul></li></ul></li></ul></li></ul></li></ul></div><script>function toggleHeader() {\n",
       "    const parent = this.parentElement;\n",
       "    parent.className = parent.className === \"ee-open\" ? \"ee-shut\" : \"ee-open\";\n",
       "}\n",
       "\n",
       "for (let c of document.getElementsByClassName(\"ee-toggle\")) {\n",
       "    c.onclick = toggleHeader;\n",
       "}</script></div>"
      ],
      "text/plain": [
       "<ee.imagecollection.ImageCollection at 0x7feabc9ce820>"
      ]
     },
     "execution_count": 106,
     "metadata": {},
     "output_type": "execute_result"
    }
   ],
   "source": [
    "image_names_dict0 = {\n",
    "                \"GFC_Tree_Cover_2020\":gfc_treecover_2020_area_hectares,\n",
    "                \"ESRI_Trees_2020\":esri_trees_2020_area_hectares,\n",
    "                \"JAXA_Forest_non_forest_2020\":JAXA_forestNonForest_2020_area_hectares,\n",
    "                \"GLAD_LULC_Stable_Tree 2020\":glad_stable_tree_2020_area_hectares,\n",
    "                \"TMF_undisturbed_forest_2020\":JRC_TMF_undisturbed_2020_area_hectares,\n",
    "                \"Primary_Humid_Tropical_Forest_2020\": primary_HT_forests_2020_area_hectares,\n",
    "                \"TMF_disturbed_forest_2020\": JRC_TMF_disturbed_2020_area_hectares,\n",
    "                \"Local_RADD_alerts\":latest_radd_alert_confirmed_recent_area_hectares,\n",
    "                \"TMF_plantation\":JRC_TMF_plantation_area_hectares,\n",
    "                \"Oil_palm_Descals\": oil_palm_descals_binary_area_hectares,\n",
    "                \"FDaP_palm_plantations\": FDaP_palm_2020_model_area_hectares,\n",
    "                \"Cocoa_plantations_Kalischek\": cocoa_map_kalischek_threshold_area_hectares,\n",
    "                \"Protected_area\":protected_areas_WDPA_area_hectares,\n",
    "                \"Other Effective area-based Conservation Measure\":OECM_2023_area_hectares,\n",
    "                \"Key_Biodiversity_Area\": kba_2023_area_hectares,\n",
    "                \"GAUL_boundaries_adm0_code_reproj\":GAUL_boundaries_adm0_code_reproj\n",
    "              }\n",
    "\n",
    "\n",
    "#create empty dictionary to be populated\n",
    "image_names_dict={} \n",
    "    \n",
    "#set image names (\"system:index\") from keys in dictionary, and store as new one\n",
    "for i in range(len(image_names_dict0)):\n",
    "    dataset_name = (list(image_names_dict0.keys())[i]) #get dataset name\n",
    "    image = (list(image_names_dict0.values())[i]) #get image\n",
    "    updated_image=image.set(\"system:index\",dataset_name) #set dataset name as image name i.e., \"system:index\"\n",
    "    instance={dataset_name:updated_image} #combine\n",
    "    image_names_dict.update(instance) #update into new dictionary\n",
    "\n",
    "del image_names_dict0 # remove old dictionary\n",
    "\n",
    "#make into a new image collection\n",
    "images_IC = ee.ImageCollection(list(image_names_dict.values()))\n",
    "                      \n",
    "##checks\n",
    "if debug: print (\"number of images: \",len(image_names_dict))\n",
    "\n",
    "images_IC"
   ]
  },
  {
   "cell_type": "markdown",
   "id": "56875dab-d0f1-4c00-b552-1e7e0d43c0b3",
   "metadata": {
    "tags": []
   },
   "source": [
    "### 3. Fetch some fields (public)"
   ]
  },
  {
   "cell_type": "markdown",
   "id": "6c00c5d0-b739-4605-af7c-589920a7c962",
   "metadata": {
    "tags": []
   },
   "source": [
    "#### Transform geometries into a feature collection"
   ]
  },
  {
   "cell_type": "code",
   "execution_count": 107,
   "id": "43d06656-77ce-43d2-baa3-c111724d22e2",
   "metadata": {
    "tags": []
   },
   "outputs": [
    {
     "name": "stdout",
     "output_type": "stream",
     "text": [
      "['0520cfac98fbc1bd7952b1c07a9f6983b83625722b6f665ea83ac9aad3512918', 'b84f55de2b7f3c77d1cbeb8b026a1b29be42d8b08d92058c9143e0556456820f', 'b7c15efb6e3c63fcfe649a2d994973a6f5caa844f720f0edb7cf24f6a6c3c1b3', 'fa2aff0d60cf1bc0e1f1dd4b91daf932940c31c021ca1b84f5b9445855eef02f', '88bec54ad04804f5b1fafbc131266640a129be2840fa6797cda358d7e831b907', 'ef2f7c46fbe4fc892fdb81f9a31c9c507b9f1e4548504247dcbbab28cf8e436c', '97408ef7bdac487e4a42e4abf20492b786310889fd4b0478603e2d0004c40bfb', 'c288d6c94efa9011c0e3452af9f7fa0941661377030e10d29c68764617f9816d', '1a41a309ae2387f36a604c9a6c81887e64357a7f61d228758e23ef766286fcd7', '1a4472dc40700ef33f931863f58d444f243d64418616678fcf85c57e1f4bbf45', '8e2accea7ddbb84b7f6001e00bcb60f57f563c80633b53859993522a6f05727a']\n"
     ]
    }
   ],
   "source": [
    "CIV_ids = ['0520cfac98fbc1bd7952b1c07a9f6983b83625722b6f665ea83ac9aad3512918',\n",
    "           'b84f55de2b7f3c77d1cbeb8b026a1b29be42d8b08d92058c9143e0556456820f',\n",
    "           'b7c15efb6e3c63fcfe649a2d994973a6f5caa844f720f0edb7cf24f6a6c3c1b3',\n",
    "            'fa2aff0d60cf1bc0e1f1dd4b91daf932940c31c021ca1b84f5b9445855eef02f']\n",
    "\n",
    "GHA_ids = ['88bec54ad04804f5b1fafbc131266640a129be2840fa6797cda358d7e831b907', \n",
    "'ef2f7c46fbe4fc892fdb81f9a31c9c507b9f1e4548504247dcbbab28cf8e436c',\n",
    "'97408ef7bdac487e4a42e4abf20492b786310889fd4b0478603e2d0004c40bfb']\n",
    "\n",
    "IDN_ids = ['c288d6c94efa9011c0e3452af9f7fa0941661377030e10d29c68764617f9816d', \n",
    "       '1a41a309ae2387f36a604c9a6c81887e64357a7f61d228758e23ef766286fcd7',\n",
    "       '1a4472dc40700ef33f931863f58d444f243d64418616678fcf85c57e1f4bbf45',\n",
    "       '8e2accea7ddbb84b7f6001e00bcb60f57f563c80633b53859993522a6f05727a']\n",
    "\n",
    "all_geo_ids= CIV_ids+GHA_ids+IDN_ids\n",
    "\n",
    "if debug: print (all_geo_ids)"
   ]
  },
  {
   "cell_type": "markdown",
   "id": "3a01f69c-6715-4f03-9552-ee22a7467c27",
   "metadata": {},
   "source": [
    "#### Start Session"
   ]
  },
  {
   "cell_type": "markdown",
   "id": "13fc6759-b967-41aa-88bb-cdb687b68a29",
   "metadata": {},
   "source": [
    "NB this is timing out so skipping section - seems to work without somehow. Maybe an open connection already..."
   ]
  },
  {
   "cell_type": "code",
   "execution_count": 108,
   "id": "7b6fe913-051a-44fe-a186-ff6ea9cebf4f",
   "metadata": {
    "tags": []
   },
   "outputs": [
    {
     "name": "stdout",
     "output_type": "stream",
     "text": [
      "<RequestsCookieJar[]>\n",
      "500\n"
     ]
    }
   ],
   "source": [
    "## using session to store cookies that are persistent\n",
    "session = requests.session()\n",
    "session.headers = headers = {\n",
    "    'Accept': 'application/json',\n",
    "    'Content-Type': 'application/json'\n",
    "}\n",
    "req_body = {'email': email, 'password': password}\n",
    "res = session.post(user_registry_base, json=req_body)\n",
    "if debug: print (session.cookies)\n",
    "if debug: print (res.status_code)"
   ]
  },
  {
   "cell_type": "code",
   "execution_count": 109,
   "id": "828017fa-9522-406c-8f8d-18a67aee3c52",
   "metadata": {
    "tags": []
   },
   "outputs": [
    {
     "name": "stdout",
     "output_type": "stream",
     "text": [
      "Count of geo ids in list:  11\n",
      "Count of features in FeatureCollection:  11\n"
     ]
    }
   ],
   "source": [
    "#is there a list of geo_ids\n",
    "if isinstance(all_geo_ids, list):\n",
    "    multiple_inputs=True\n",
    "elif isinstance(all_geo_ids, str):\n",
    "    multiple_inputs=False\n",
    "else:\n",
    "    print (\"Input must be a single string or list of strings\")\n",
    "\n",
    "#if list of geo ids use loop over them and make a feature collection\n",
    "\n",
    "if multiple_inputs==True:\n",
    "    roi = agstack_to_gee.geo_id_list_to_feature_collection(all_geo_ids,geo_id_column, session,asset_registry_base)    \n",
    "    if debug: print (\"Count of geo ids in list: \", len(all_geo_ids))\n",
    "    # if debug: print (\"Count of features in FeatureCollection: \", roi.size().getInfo())\n",
    "elif multiple_inputs == False: \n",
    "    roi = ee.FeatureCollection(agstack_to_gee.geo_id_to_feature(all_geo_ids,geo_id_column, session,asset_registry_base))\n",
    "    if debug: print (\"Geo id input: \", all_geo_ids)\n",
    "    # if debug: print (\"Geo id associated with new feature: \", roi.get(geo_id_column).getInfo())    \n",
    "else: \n",
    "    print(\"no ee.Object created: check input format\")\n",
    "\n",
    "# if debug: print (\"Count of geo ids in list: \", len(all_geo_ids))\n",
    "if debug: print (\"Count of features in FeatureCollection: \", roi.size().getInfo())\n",
    "    \n",
    "# if (ee.Algorithms.ObjectType(roi).getInfo() == \"Feature\"):\n",
    "# elif ee.Algorithms.ObjectType(roi).getInfo == \"FeatureCollection\":\n",
    "    \n",
    "#true\n",
    "#checks \n"
   ]
  },
  {
   "cell_type": "markdown",
   "id": "a95f1f83-1004-4a74-b596-56bdc1353b52",
   "metadata": {},
   "source": [
    "##### Alternative feature collection: create random polygons\n",
    "select random points inside administrative boundaries and buffer them "
   ]
  },
  {
   "cell_type": "code",
   "execution_count": 110,
   "id": "28bdd6cb-921c-4fe3-9b97-78ee12f7ecbc",
   "metadata": {
    "tags": []
   },
   "outputs": [],
   "source": [
    "# def create_random_points_in_polys(feature): #to tidy\n",
    "#     \"\"\" creates random points within either a polygon or a feature collection NB relies upon some globals being set currently\"\"\"\n",
    "#     return ee.FeatureCollection.randomPoints(region = feature.geometry(max_error), points = number_of_points, seed=seed, maxError=10)\n",
    "\n",
    "# admin_boundaries = ee.FeatureCollection(\"FAO/GAUL_SIMPLIFIED_500m/2015/level2\").filter(\n",
    "#     ee.Filter.inList(\"ADM0_NAME\",[\"Indonesia\",\"Malaysia\",\"Ghana\"]))##.filter(ee.Filter.lt(\"Shape_Area\",1000))\n",
    "\n",
    "# random_collection = admin_boundaries.randomColumn(seed = seed).sort('random').limit(number_of_boundaries)\n",
    "\n",
    "# if points_per_admin_boundary:\n",
    "#     random_points = random_collection.map(create_random_points_in_polys).flatten()\n",
    "# else:\n",
    "#     random_points = create_random_points_in_polys(random_collection)\n",
    "\n",
    "# random_buffers = random_points.map(lambda feature: feature.buffer(buffer_distance_meters,100)) ##buffer by distance in meters\n",
    "\n",
    "# roi= random_buffers.map(lambda feature: feature.set(geo_id_column,(feature.get(\"system:index\"))))\n",
    "# # roi= random_buffers.map(set_geo_id_from_system_index) ## add surrogate \"geo_id\" for formatting\n",
    "\n",
    "# #checks\n",
    "# if debug: print (\"number of admin regions\",random_collection.size().getInfo())\n",
    "# if debug: print (\"number of countries\",random_collection.aggregate_array(\"ADM0_NAME\").distinct().length().getInfo())\n",
    "# if debug: print (\"number of countries\",random_collection.aggregate_array(\"ADM0_NAME\").distinct().getInfo())\n",
    "# if debug: print (\"number of buffers created\",random_buffers.size().getInfo())\n",
    "#     # geemap.ee_to_pandas(roi)###create random points and buffer them\n"
   ]
  },
  {
   "cell_type": "code",
   "execution_count": 111,
   "id": "c398510b-8f12-4376-a07d-dee90e0dafce",
   "metadata": {
    "tags": []
   },
   "outputs": [],
   "source": [
    "# ## checks\n",
    "# Map=geemap.Map()\n",
    "# Map.addLayer(roi, \"\", 'roi', 1, 1)\n",
    "\n",
    "# Map"
   ]
  },
  {
   "cell_type": "markdown",
   "id": "20f44941-3245-42ba-becb-3472af5c29a8",
   "metadata": {},
   "source": [
    "#### Feature prep\n",
    "- Create additional buffer zones for deforestation risk \n",
    "- Add area property to feature(s) \n",
    "- Select only columns of interest"
   ]
  },
  {
   "cell_type": "code",
   "execution_count": 112,
   "id": "e14f2cc9-a2a8-4fb7-a97f-d58ca72fe45e",
   "metadata": {
    "tags": []
   },
   "outputs": [
    {
     "data": {
      "text/html": [
       "<div>\n",
       "<style scoped>\n",
       "    .dataframe tbody tr th:only-of-type {\n",
       "        vertical-align: middle;\n",
       "    }\n",
       "\n",
       "    .dataframe tbody tr th {\n",
       "        vertical-align: top;\n",
       "    }\n",
       "\n",
       "    .dataframe thead th {\n",
       "        text-align: right;\n",
       "    }\n",
       "</style>\n",
       "<table border=\"1\" class=\"dataframe\">\n",
       "  <thead>\n",
       "    <tr style=\"text-align: right;\">\n",
       "      <th></th>\n",
       "      <th>Shape_area_hectares</th>\n",
       "      <th>Geo_id</th>\n",
       "    </tr>\n",
       "  </thead>\n",
       "  <tbody>\n",
       "    <tr>\n",
       "      <th>0</th>\n",
       "      <td>8.316153</td>\n",
       "      <td>0520cfac98fbc1bd7952b1c07a9f6983b83625722b6f66...</td>\n",
       "    </tr>\n",
       "    <tr>\n",
       "      <th>1</th>\n",
       "      <td>1.990210</td>\n",
       "      <td>b84f55de2b7f3c77d1cbeb8b026a1b29be42d8b08d9205...</td>\n",
       "    </tr>\n",
       "    <tr>\n",
       "      <th>2</th>\n",
       "      <td>3.815523</td>\n",
       "      <td>b7c15efb6e3c63fcfe649a2d994973a6f5caa844f720f0...</td>\n",
       "    </tr>\n",
       "    <tr>\n",
       "      <th>3</th>\n",
       "      <td>3.628190</td>\n",
       "      <td>fa2aff0d60cf1bc0e1f1dd4b91daf932940c31c021ca1b...</td>\n",
       "    </tr>\n",
       "    <tr>\n",
       "      <th>4</th>\n",
       "      <td>1.947148</td>\n",
       "      <td>88bec54ad04804f5b1fafbc131266640a129be2840fa67...</td>\n",
       "    </tr>\n",
       "    <tr>\n",
       "      <th>5</th>\n",
       "      <td>4.171951</td>\n",
       "      <td>ef2f7c46fbe4fc892fdb81f9a31c9c507b9f1e45485042...</td>\n",
       "    </tr>\n",
       "    <tr>\n",
       "      <th>6</th>\n",
       "      <td>16.676077</td>\n",
       "      <td>97408ef7bdac487e4a42e4abf20492b786310889fd4b04...</td>\n",
       "    </tr>\n",
       "    <tr>\n",
       "      <th>7</th>\n",
       "      <td>31.353357</td>\n",
       "      <td>c288d6c94efa9011c0e3452af9f7fa0941661377030e10...</td>\n",
       "    </tr>\n",
       "    <tr>\n",
       "      <th>8</th>\n",
       "      <td>1.973565</td>\n",
       "      <td>1a41a309ae2387f36a604c9a6c81887e64357a7f61d228...</td>\n",
       "    </tr>\n",
       "    <tr>\n",
       "      <th>9</th>\n",
       "      <td>12.782163</td>\n",
       "      <td>1a4472dc40700ef33f931863f58d444f243d6441861667...</td>\n",
       "    </tr>\n",
       "    <tr>\n",
       "      <th>10</th>\n",
       "      <td>20.979337</td>\n",
       "      <td>8e2accea7ddbb84b7f6001e00bcb60f57f563c80633b53...</td>\n",
       "    </tr>\n",
       "  </tbody>\n",
       "</table>\n",
       "</div>"
      ],
      "text/plain": [
       "    Shape_area_hectares                                             Geo_id\n",
       "0              8.316153  0520cfac98fbc1bd7952b1c07a9f6983b83625722b6f66...\n",
       "1              1.990210  b84f55de2b7f3c77d1cbeb8b026a1b29be42d8b08d9205...\n",
       "2              3.815523  b7c15efb6e3c63fcfe649a2d994973a6f5caa844f720f0...\n",
       "3              3.628190  fa2aff0d60cf1bc0e1f1dd4b91daf932940c31c021ca1b...\n",
       "4              1.947148  88bec54ad04804f5b1fafbc131266640a129be2840fa67...\n",
       "5              4.171951  ef2f7c46fbe4fc892fdb81f9a31c9c507b9f1e45485042...\n",
       "6             16.676077  97408ef7bdac487e4a42e4abf20492b786310889fd4b04...\n",
       "7             31.353357  c288d6c94efa9011c0e3452af9f7fa0941661377030e10...\n",
       "8              1.973565  1a41a309ae2387f36a604c9a6c81887e64357a7f61d228...\n",
       "9             12.782163  1a4472dc40700ef33f931863f58d444f243d6441861667...\n",
       "10            20.979337  8e2accea7ddbb84b7f6001e00bcb60f57f563c80633b53..."
      ]
     },
     "execution_count": 112,
     "metadata": {},
     "output_type": "execute_result"
    }
   ],
   "source": [
    "\n",
    "roi = area_stats.add_area_hectares_property_to_feature_collection(roi,geometry_area_column)\n",
    "\n",
    "roi  = roi.select([geometry_area_column,geo_id_column]) ##select only fields of interest\n",
    "\n",
    "roi_alerts_buffer = roi.map(lambda feature: \n",
    "        feature.buffer(local_alerts_buffer_radius,max_error_alert_buff))\n",
    "\n",
    "## to check HOW TO HANDLE ALERT BUFFER - best ignore until know how/if alerts will be used like this\n",
    "###roi_alerts_buffer = roi_alerts_buffer.map(add_area_hectares_property_to_feature).select([geometry_area_column,geo_id_column])\n",
    "\n",
    "geemap.ee_to_pandas(roi_alerts_buffer)\n",
    "geemap.ee_to_pandas(roi)\n",
    "\n"
   ]
  },
  {
   "cell_type": "code",
   "execution_count": 113,
   "id": "57b945c5-4bef-4d60-9b3a-a3b5679258d4",
   "metadata": {
    "tags": []
   },
   "outputs": [],
   "source": [
    "# ## checks\n",
    "# Map=geemap.Map()\n",
    "# Map.addLayer(roi, \"\", 'roi', 1, 1)\n",
    "# Map.addLayer(roi_alerts_buffer, \"\", 'roi_alerts_buffer', 1, 1)\n",
    "# Map"
   ]
  },
  {
   "cell_type": "markdown",
   "id": "874274c3-15af-4aca-b407-f7683f883878",
   "metadata": {},
   "source": [
    "#### Compute statistics"
   ]
  },
  {
   "cell_type": "markdown",
   "id": "e7f19d47-119d-4df0-b156-cdc2ab2e3e69",
   "metadata": {},
   "source": [
    "Calculating zonal statistics for continuous data (e.g tree cover) within polygon(s)"
   ]
  },
  {
   "cell_type": "markdown",
   "id": "1ce375a3-ac9a-4fb8-b61f-0604e8c50f30",
   "metadata": {},
   "source": [
    "##### Step 1 Mapping over image collection with reduce regions: creates long format raw stats"
   ]
  },
  {
   "cell_type": "code",
   "execution_count": 131,
   "id": "4b9cbfcd-fc1f-4516-b455-e2d88c4b7461",
   "metadata": {
    "tags": []
   },
   "outputs": [
    {
     "name": "stdout",
     "output_type": "stream",
     "text": [
      "processing stats...\n",
      "Total execution time: 2.99115252494812 seconds\n"
     ]
    }
   ],
   "source": [
    "# get the start time\n",
    "st = time.time()\n",
    "if debug: print (\"processing stats...\")\n",
    "\n",
    "\n",
    "#get stats for roi (except alerts)\n",
    "fc_stats_combined = area_stats.reduceStatsIC(roi,\n",
    "                                  images_IC.filter(ee.Filter.neq(\"alerts_buffer\",1)),\n",
    "                                  reducer_choice)# all but alerts\n",
    "#get stat for buffer (alerts only)\n",
    "fc_stats_combined_buffer = area_stats.reduceStatsIC(roi_alerts_buffer,\n",
    "                                         images_IC.filter(ee.Filter.eq(\"alerts_buffer\",1)),\n",
    "                                         reducer_choice) #alerts only\n",
    "\n",
    "#combine stats from roi and buffer\n",
    "fc_stats_combined_all = fc_stats_combined.merge(fc_stats_combined_buffer) # combining alerts with others into one feature collection\n",
    "\n",
    "# convert to Pandas Dataframe\n",
    "df_combined = geemap.ee_to_pandas(fc_stats_combined_all) # limit of 5000 (unlikely to need more but i have code for it if needed)\n",
    "\n",
    "# export dataframe to csv\n",
    "df_combined.to_csv(path_or_buf=out_file_long,header=True,index=False)\n",
    "\n",
    "# get the execution time\n",
    "elapsed_time = time.time() - st\n",
    "\n",
    "if debug: print ('Total execution time:', elapsed_time, 'seconds')\n",
    "\n",
    "#checks\n",
    "if debug: df_combined"
   ]
  },
  {
   "cell_type": "markdown",
   "id": "ec10e289-42df-42f4-b576-ef216efe8356",
   "metadata": {},
   "source": [
    "##### Step 2: Create lookup tables for country allocation|\n",
    "Approach is based on raster stats and listing the country for a specific geometry based on which has most overlap\n",
    "\n"
   ]
  },
  {
   "cell_type": "markdown",
   "id": "375629ec-ef13-4c64-9c5c-cbb3563b8d2f",
   "metadata": {
    "tags": []
   },
   "source": [
    "Make look up table linking country codes to country names (from GAUL  feature collection) "
   ]
  },
  {
   "cell_type": "code",
   "execution_count": 136,
   "id": "07efa0b8-e82f-4548-8f50-caa585ac2afb",
   "metadata": {
    "tags": []
   },
   "outputs": [],
   "source": [
    "\n",
    "list_GAUL_boundaries_poly_admn0_code = GAUL_boundaries_poly.aggregate_array(\"ADM0_CODE\").distinct().getInfo()\n",
    "\n",
    "list_GAUL_boundaries_poly_country_name = GAUL_boundaries_poly.aggregate_array(\"ADM0_NAME\").distinct().getInfo()\n",
    "\n",
    "GAUL_lookup_table = pd.DataFrame({\"ADM0_CODE\":list_GAUL_boundaries_poly_admn0_code,\"ADM0_NAME\":list_GAUL_boundaries_poly_country_name}) #make dataframe from columns in GAUL\n",
    "\n",
    "GAUL_lookup_table.rename(columns={\"ADM0_NAME\":\"Country\"},inplace=True) # rename column\n",
    "\n",
    "GAUL_lookup_table.to_csv(path_or_buf=\"look_up_table_GAUL.csv\",header=True,index=False) # save lookup table as CSV\n",
    "\n",
    "if debug: GAUL_lookup_table"
   ]
  },
  {
   "cell_type": "markdown",
   "id": "93bb09fe-dcf8-4084-95aa-f8c586dfe78d",
   "metadata": {
    "tags": []
   },
   "source": [
    "Make on-the-fly look up table to link country name to geo id based on raster stats\n",
    "- uses rasterised GAUL layer with admin codes as pixel values\n",
    "- for each geo id finds most common value in that geometry (i.e. \"mode\" statistic)"
   ]
  },
  {
   "cell_type": "code",
   "execution_count": 137,
   "id": "fc8f51bc-be03-4c05-8337-942f06653803",
   "metadata": {
    "tags": []
   },
   "outputs": [],
   "source": [
    "lookup_geo_id_to_GAUL = df_combined[df_combined[\"dataset_name\"]==\"GAUL_boundaries_adm0_code_reproj\"]  #get mode satats for GAUL dataset\n",
    "\n",
    "lookup_geo_id_to_GAUL = lookup_geo_id_to_GAUL[[geo_id_column, 'mode']] # choose only columns needed\n",
    "\n",
    "lookup_geo_id_to_GAUL[\"mode\"] = lookup_geo_id_to_GAUL[\"mode\"].astype(int) # make sure mode stats are integer (to allow joining)\n",
    "\n",
    "lookup_geo_id_to_GAUL.rename(columns={\"mode\":\"ADM0_CODE\"},inplace=True) # change names for a clean join \n",
    "\n",
    "lookup_geo_id_to_GAUL_country_names = lookup_geo_id_to_GAUL.merge(GAUL_lookup_table,on=\"ADM0_CODE\",how=\"inner\") # join geo id to the GAUL_lookup_table countaining \"Country_names\" \n",
    "\n",
    "if debug: lookup_geo_id_to_GAUL_country_names"
   ]
  },
  {
   "cell_type": "markdown",
   "id": "4ebb5856-0a96-4399-ab5c-341c84eb3132",
   "metadata": {
    "tags": []
   },
   "source": [
    "##### Step 3 Reformat results table and export to main output CSV\n",
    "- long to wide\n",
    "- convert to proportions \n",
    "- set presence only flags\n",
    "- add in country names (using lookup tables) to the final results\n",
    "- reorder columns (based on dictionary) "
   ]
  },
  {
   "cell_type": "code",
   "execution_count": 134,
   "id": "98f4b376-8375-4670-8cb0-c9aaf96fa407",
   "metadata": {
    "tags": []
   },
   "outputs": [
    {
     "name": "stdout",
     "output_type": "stream",
     "text": [
      "['Cocoa_plantations_Kalischek', 'ESRI_Trees_2020', 'FDaP_palm_plantations', 'GAUL_boundaries_adm0_code_reproj', 'GFC_Tree_Cover_2020', 'GLAD_LULC_Stable_Tree 2020', 'JAXA_Forest_non_forest_2020', 'Key_Biodiversity_Area', 'Local_RADD_alerts', 'Oil_palm_Descals', 'Other Effective area-based Conservation Measure', 'Primary_Humid_Tropical_Forest_2020', 'Protected_area', 'TMF_disturbed_forest_2020', 'TMF_plantation', 'TMF_undisturbed_forest_2020']\n"
     ]
    },
    {
     "data": {
      "text/html": [
       "<div>\n",
       "<style scoped>\n",
       "    .dataframe tbody tr th:only-of-type {\n",
       "        vertical-align: middle;\n",
       "    }\n",
       "\n",
       "    .dataframe tbody tr th {\n",
       "        vertical-align: top;\n",
       "    }\n",
       "\n",
       "    .dataframe thead th {\n",
       "        text-align: right;\n",
       "    }\n",
       "</style>\n",
       "<table border=\"1\" class=\"dataframe\">\n",
       "  <thead>\n",
       "    <tr style=\"text-align: right;\">\n",
       "      <th></th>\n",
       "      <th>Geo id</th>\n",
       "      <th>Shape area hectares</th>\n",
       "      <th>Country</th>\n",
       "      <th>GFC Tree Cover 2020</th>\n",
       "      <th>ESRI Trees 2020</th>\n",
       "      <th>JAXA Forest non forest 2020</th>\n",
       "      <th>GLAD LULC Stable Tree 2020</th>\n",
       "      <th>TMF undisturbed forest 2020</th>\n",
       "      <th>Primary Humid Tropical Forest 2020</th>\n",
       "      <th>TMF disturbed forest 2020</th>\n",
       "      <th>Local RADD alerts</th>\n",
       "      <th>TMF plantation</th>\n",
       "      <th>Oil palm Descals</th>\n",
       "      <th>FDaP palm plantations</th>\n",
       "      <th>Cocoa plantations Kalischek</th>\n",
       "      <th>Protected area</th>\n",
       "      <th>Other Effective area-based Conservation Measure</th>\n",
       "      <th>Key Biodiversity Area</th>\n",
       "    </tr>\n",
       "  </thead>\n",
       "  <tbody>\n",
       "    <tr>\n",
       "      <th>0</th>\n",
       "      <td>0520cfac98fbc1bd7952b1c07a9f6983b83625722b6f66...</td>\n",
       "      <td>8.32</td>\n",
       "      <td>Côte d'Ivoire</td>\n",
       "      <td>62</td>\n",
       "      <td>100</td>\n",
       "      <td>95</td>\n",
       "      <td>64</td>\n",
       "      <td>0</td>\n",
       "      <td>0</td>\n",
       "      <td>10</td>\n",
       "      <td>True</td>\n",
       "      <td>0</td>\n",
       "      <td>0</td>\n",
       "      <td>0</td>\n",
       "      <td>0</td>\n",
       "      <td>True</td>\n",
       "      <td>-</td>\n",
       "      <td>True</td>\n",
       "    </tr>\n",
       "    <tr>\n",
       "      <th>1</th>\n",
       "      <td>1a41a309ae2387f36a604c9a6c81887e64357a7f61d228...</td>\n",
       "      <td>1.97</td>\n",
       "      <td>Indonesia</td>\n",
       "      <td>0</td>\n",
       "      <td>100</td>\n",
       "      <td>85</td>\n",
       "      <td>99</td>\n",
       "      <td>0</td>\n",
       "      <td>0</td>\n",
       "      <td>13</td>\n",
       "      <td>-</td>\n",
       "      <td>0</td>\n",
       "      <td>0</td>\n",
       "      <td>4</td>\n",
       "      <td>0</td>\n",
       "      <td>-</td>\n",
       "      <td>-</td>\n",
       "      <td>-</td>\n",
       "    </tr>\n",
       "    <tr>\n",
       "      <th>2</th>\n",
       "      <td>1a4472dc40700ef33f931863f58d444f243d6441861667...</td>\n",
       "      <td>12.78</td>\n",
       "      <td>Indonesia</td>\n",
       "      <td>83</td>\n",
       "      <td>100</td>\n",
       "      <td>100</td>\n",
       "      <td>99</td>\n",
       "      <td>60</td>\n",
       "      <td>0</td>\n",
       "      <td>39</td>\n",
       "      <td>-</td>\n",
       "      <td>0</td>\n",
       "      <td>0</td>\n",
       "      <td>68</td>\n",
       "      <td>0</td>\n",
       "      <td>-</td>\n",
       "      <td>-</td>\n",
       "      <td>-</td>\n",
       "    </tr>\n",
       "    <tr>\n",
       "      <th>3</th>\n",
       "      <td>88bec54ad04804f5b1fafbc131266640a129be2840fa67...</td>\n",
       "      <td>1.95</td>\n",
       "      <td>Ghana</td>\n",
       "      <td>20</td>\n",
       "      <td>100</td>\n",
       "      <td>100</td>\n",
       "      <td>88</td>\n",
       "      <td>0</td>\n",
       "      <td>0</td>\n",
       "      <td>34</td>\n",
       "      <td>-</td>\n",
       "      <td>0</td>\n",
       "      <td>0</td>\n",
       "      <td>0</td>\n",
       "      <td>0</td>\n",
       "      <td>-</td>\n",
       "      <td>-</td>\n",
       "      <td>-</td>\n",
       "    </tr>\n",
       "    <tr>\n",
       "      <th>4</th>\n",
       "      <td>8e2accea7ddbb84b7f6001e00bcb60f57f563c80633b53...</td>\n",
       "      <td>20.98</td>\n",
       "      <td>Indonesia</td>\n",
       "      <td>53</td>\n",
       "      <td>100</td>\n",
       "      <td>96</td>\n",
       "      <td>98</td>\n",
       "      <td>31</td>\n",
       "      <td>0</td>\n",
       "      <td>67</td>\n",
       "      <td>-</td>\n",
       "      <td>0</td>\n",
       "      <td>0</td>\n",
       "      <td>51</td>\n",
       "      <td>0</td>\n",
       "      <td>-</td>\n",
       "      <td>-</td>\n",
       "      <td>-</td>\n",
       "    </tr>\n",
       "    <tr>\n",
       "      <th>5</th>\n",
       "      <td>97408ef7bdac487e4a42e4abf20492b786310889fd4b04...</td>\n",
       "      <td>16.68</td>\n",
       "      <td>Ghana</td>\n",
       "      <td>100</td>\n",
       "      <td>100</td>\n",
       "      <td>100</td>\n",
       "      <td>89</td>\n",
       "      <td>95</td>\n",
       "      <td>87</td>\n",
       "      <td>5</td>\n",
       "      <td>True</td>\n",
       "      <td>0</td>\n",
       "      <td>0</td>\n",
       "      <td>0</td>\n",
       "      <td>0</td>\n",
       "      <td>True</td>\n",
       "      <td>-</td>\n",
       "      <td>-</td>\n",
       "    </tr>\n",
       "    <tr>\n",
       "      <th>6</th>\n",
       "      <td>b7c15efb6e3c63fcfe649a2d994973a6f5caa844f720f0...</td>\n",
       "      <td>3.82</td>\n",
       "      <td>Côte d'Ivoire</td>\n",
       "      <td>70</td>\n",
       "      <td>100</td>\n",
       "      <td>99</td>\n",
       "      <td>90</td>\n",
       "      <td>0</td>\n",
       "      <td>0</td>\n",
       "      <td>74</td>\n",
       "      <td>-</td>\n",
       "      <td>0</td>\n",
       "      <td>0</td>\n",
       "      <td>0</td>\n",
       "      <td>0</td>\n",
       "      <td>-</td>\n",
       "      <td>-</td>\n",
       "      <td>-</td>\n",
       "    </tr>\n",
       "    <tr>\n",
       "      <th>7</th>\n",
       "      <td>b84f55de2b7f3c77d1cbeb8b026a1b29be42d8b08d9205...</td>\n",
       "      <td>1.99</td>\n",
       "      <td>Côte d'Ivoire</td>\n",
       "      <td>78</td>\n",
       "      <td>100</td>\n",
       "      <td>73</td>\n",
       "      <td>55</td>\n",
       "      <td>0</td>\n",
       "      <td>0</td>\n",
       "      <td>23</td>\n",
       "      <td>True</td>\n",
       "      <td>0</td>\n",
       "      <td>0</td>\n",
       "      <td>0</td>\n",
       "      <td>73</td>\n",
       "      <td>True</td>\n",
       "      <td>-</td>\n",
       "      <td>-</td>\n",
       "    </tr>\n",
       "    <tr>\n",
       "      <th>8</th>\n",
       "      <td>c288d6c94efa9011c0e3452af9f7fa0941661377030e10...</td>\n",
       "      <td>31.35</td>\n",
       "      <td>Indonesia</td>\n",
       "      <td>0</td>\n",
       "      <td>6</td>\n",
       "      <td>5</td>\n",
       "      <td>83</td>\n",
       "      <td>0</td>\n",
       "      <td>0</td>\n",
       "      <td>0</td>\n",
       "      <td>-</td>\n",
       "      <td>100</td>\n",
       "      <td>98</td>\n",
       "      <td>82</td>\n",
       "      <td>0</td>\n",
       "      <td>-</td>\n",
       "      <td>-</td>\n",
       "      <td>-</td>\n",
       "    </tr>\n",
       "    <tr>\n",
       "      <th>9</th>\n",
       "      <td>ef2f7c46fbe4fc892fdb81f9a31c9c507b9f1e45485042...</td>\n",
       "      <td>4.17</td>\n",
       "      <td>Ghana</td>\n",
       "      <td>35</td>\n",
       "      <td>100</td>\n",
       "      <td>99</td>\n",
       "      <td>63</td>\n",
       "      <td>5</td>\n",
       "      <td>0</td>\n",
       "      <td>83</td>\n",
       "      <td>-</td>\n",
       "      <td>0</td>\n",
       "      <td>0</td>\n",
       "      <td>0</td>\n",
       "      <td>0</td>\n",
       "      <td>-</td>\n",
       "      <td>-</td>\n",
       "      <td>-</td>\n",
       "    </tr>\n",
       "    <tr>\n",
       "      <th>10</th>\n",
       "      <td>fa2aff0d60cf1bc0e1f1dd4b91daf932940c31c021ca1b...</td>\n",
       "      <td>3.63</td>\n",
       "      <td>Côte d'Ivoire</td>\n",
       "      <td>44</td>\n",
       "      <td>100</td>\n",
       "      <td>99</td>\n",
       "      <td>99</td>\n",
       "      <td>0</td>\n",
       "      <td>0</td>\n",
       "      <td>6</td>\n",
       "      <td>-</td>\n",
       "      <td>0</td>\n",
       "      <td>0</td>\n",
       "      <td>0</td>\n",
       "      <td>0</td>\n",
       "      <td>-</td>\n",
       "      <td>-</td>\n",
       "      <td>-</td>\n",
       "    </tr>\n",
       "  </tbody>\n",
       "</table>\n",
       "</div>"
      ],
      "text/plain": [
       "                                               Geo id  Shape area hectares  \\\n",
       "0   0520cfac98fbc1bd7952b1c07a9f6983b83625722b6f66...                 8.32   \n",
       "1   1a41a309ae2387f36a604c9a6c81887e64357a7f61d228...                 1.97   \n",
       "2   1a4472dc40700ef33f931863f58d444f243d6441861667...                12.78   \n",
       "3   88bec54ad04804f5b1fafbc131266640a129be2840fa67...                 1.95   \n",
       "4   8e2accea7ddbb84b7f6001e00bcb60f57f563c80633b53...                20.98   \n",
       "5   97408ef7bdac487e4a42e4abf20492b786310889fd4b04...                16.68   \n",
       "6   b7c15efb6e3c63fcfe649a2d994973a6f5caa844f720f0...                 3.82   \n",
       "7   b84f55de2b7f3c77d1cbeb8b026a1b29be42d8b08d9205...                 1.99   \n",
       "8   c288d6c94efa9011c0e3452af9f7fa0941661377030e10...                31.35   \n",
       "9   ef2f7c46fbe4fc892fdb81f9a31c9c507b9f1e45485042...                 4.17   \n",
       "10  fa2aff0d60cf1bc0e1f1dd4b91daf932940c31c021ca1b...                 3.63   \n",
       "\n",
       "          Country  GFC Tree Cover 2020  ESRI Trees 2020  \\\n",
       "0   Côte d'Ivoire                   62              100   \n",
       "1       Indonesia                    0              100   \n",
       "2       Indonesia                   83              100   \n",
       "3           Ghana                   20              100   \n",
       "4       Indonesia                   53              100   \n",
       "5           Ghana                  100              100   \n",
       "6   Côte d'Ivoire                   70              100   \n",
       "7   Côte d'Ivoire                   78              100   \n",
       "8       Indonesia                    0                6   \n",
       "9           Ghana                   35              100   \n",
       "10  Côte d'Ivoire                   44              100   \n",
       "\n",
       "    JAXA Forest non forest 2020  GLAD LULC Stable Tree 2020  \\\n",
       "0                            95                          64   \n",
       "1                            85                          99   \n",
       "2                           100                          99   \n",
       "3                           100                          88   \n",
       "4                            96                          98   \n",
       "5                           100                          89   \n",
       "6                            99                          90   \n",
       "7                            73                          55   \n",
       "8                             5                          83   \n",
       "9                            99                          63   \n",
       "10                           99                          99   \n",
       "\n",
       "    TMF undisturbed forest 2020  Primary Humid Tropical Forest 2020  \\\n",
       "0                             0                                   0   \n",
       "1                             0                                   0   \n",
       "2                            60                                   0   \n",
       "3                             0                                   0   \n",
       "4                            31                                   0   \n",
       "5                            95                                  87   \n",
       "6                             0                                   0   \n",
       "7                             0                                   0   \n",
       "8                             0                                   0   \n",
       "9                             5                                   0   \n",
       "10                            0                                   0   \n",
       "\n",
       "    TMF disturbed forest 2020 Local RADD alerts  TMF plantation  \\\n",
       "0                          10              True               0   \n",
       "1                          13                 -               0   \n",
       "2                          39                 -               0   \n",
       "3                          34                 -               0   \n",
       "4                          67                 -               0   \n",
       "5                           5              True               0   \n",
       "6                          74                 -               0   \n",
       "7                          23              True               0   \n",
       "8                           0                 -             100   \n",
       "9                          83                 -               0   \n",
       "10                          6                 -               0   \n",
       "\n",
       "    Oil palm Descals  FDaP palm plantations  Cocoa plantations Kalischek  \\\n",
       "0                  0                      0                            0   \n",
       "1                  0                      4                            0   \n",
       "2                  0                     68                            0   \n",
       "3                  0                      0                            0   \n",
       "4                  0                     51                            0   \n",
       "5                  0                      0                            0   \n",
       "6                  0                      0                            0   \n",
       "7                  0                      0                           73   \n",
       "8                 98                     82                            0   \n",
       "9                  0                      0                            0   \n",
       "10                 0                      0                            0   \n",
       "\n",
       "   Protected area Other Effective area-based Conservation Measure  \\\n",
       "0            True                                               -   \n",
       "1               -                                               -   \n",
       "2               -                                               -   \n",
       "3               -                                               -   \n",
       "4               -                                               -   \n",
       "5            True                                               -   \n",
       "6               -                                               -   \n",
       "7            True                                               -   \n",
       "8               -                                               -   \n",
       "9               -                                               -   \n",
       "10              -                                               -   \n",
       "\n",
       "   Key Biodiversity Area  \n",
       "0                   True  \n",
       "1                      -  \n",
       "2                      -  \n",
       "3                      -  \n",
       "4                      -  \n",
       "5                      -  \n",
       "6                      -  \n",
       "7                      -  \n",
       "8                      -  \n",
       "9                      -  \n",
       "10                     -  "
      ]
     },
     "execution_count": 134,
     "metadata": {},
     "output_type": "execute_result"
    }
   ],
   "source": [
    "#add proprtion column\n",
    "df_combined[\"percentage\"] = (df_combined[\"sum\"]/df_combined[geometry_area_column])*100\n",
    "\n",
    "# geometry_area_lookup = df_combined[geometry_area_column,geo_id_column]\n",
    "\n",
    "def tidy_dataframe_after_pivot (df):\n",
    "    \"\"\"Tidying dataframe after long-to-wide reformatting, incl. removes unwanted levels, column names\"\"\"\n",
    "    # df.columns = df.columns.droplevel(0) #remove sum\n",
    "    df.columns = df.columns.get_level_values(1)\n",
    "    df.columns.name = None               #remove \"dataset_name\" label\n",
    "    df = df.reset_index()    #index to columns\n",
    "    return df\n",
    "\n",
    "#convert to wide format (one row per geo_id)\n",
    "df_wide_format = df_combined.pivot_table(index=[geo_id_column,geometry_area_column],columns=['dataset_name'],values=['percentage'])\n",
    "\n",
    "# # #tidy unwanted headers etc\n",
    "tidy_tables.tidy_dataframe_after_pivot(df_wide_format) #runs in place so no need to assign\n",
    "\n",
    "df_wide_format.columns = df_wide_format.columns.get_level_values(0)\n",
    "\n",
    "# #list images with with presence_only_flag property \n",
    "flag_list = images_IC.filter(ee.Filter.eq(\"presence_only_flag\",1)).aggregate_array(\"system:index\").getInfo()\n",
    "\n",
    "# convert positive results values to \"True\" for specific columns\n",
    "for column in flag_list: df_wide_format[column]=np.where(df_wide_format[column]>0,\"True\",\"-\")\n",
    "\n",
    "# # tidy output - decimal places\n",
    "columns_list = df_wide_format.columns.values.tolist()\n",
    "if debug: print (columns_list)\n",
    "non_flag_columns_list = [x for x in columns_list if x not in flag_list]\n",
    "\n",
    "for column in flag_list: df_wide_format[non_flag_columns_list]=df_wide_format[non_flag_columns_list].round(decimals=0, out=None).astype(int)\n",
    "\n",
    "df_wide_format=df_wide_format.reset_index()\n",
    "\n",
    "# #joins country name based on majority overlap with country \n",
    "df_wide_format = df_wide_format.merge(lookup_geo_id_to_GAUL_country_names,on=geo_id_column).drop(\"ADM0_CODE\",axis=1).drop(\"GAUL_boundaries_adm0_code_reproj\",axis=1)\n",
    "\n",
    "##tidy \n",
    "\n",
    "# reorder columns using list \n",
    "df_wide_format[geometry_area_column]=df_wide_format[geometry_area_column].round(decimals=2, out=None)\n",
    "\n",
    "column_order_list = list(image_names_dict.keys()) # get list of input datasets\n",
    "\n",
    "column_order_list.insert(0,geo_id_column) # add in the \"geo_id\" column into to datasets list\n",
    "\n",
    "column_order_list.insert(1,geometry_area_column)# add in to list the geometry area column\n",
    "\n",
    "column_order_list.remove(\"GAUL_boundaries_adm0_code_reproj\") # remove old column with \"mode\" values (not now relevant as have country names)\n",
    "\n",
    "column_order_list.insert(2,\"Country\")# add in to list the new column with country names\n",
    "\n",
    "df_wide_format= df_wide_format.reindex(columns=column_order_list) # reorder by list\n",
    "\n",
    "df_wide_format[\"Country\"]=np.where(df_wide_format[\"Country\"]==\"C�te d'Ivoire\",\"Côte d'Ivoire\",df_wide_format[\"Country\"])# TEMP fix on characters (encoding issues)\n",
    "df_wide_format[\"Country\"]=np.where(df_wide_format[\"Country\"]==\"R�union\",\"Réunion\",df_wide_format[\"Country\"])# TEMP fix on characters (encoding issues)\n",
    "\n",
    "# remove underscores in columns\n",
    "df_wide_format.columns = df_wide_format.columns.str.replace('_', ' ')\n",
    "\n",
    "# #export wide format csv\n",
    "df_wide_format.to_csv(path_or_buf=out_file_wide,header=True)\n",
    "\n",
    "# if debug: print (\"output csv: \", out_file_wide)\n",
    "\n",
    "#checks\n",
    "if debug: flag_list\n",
    "# if debug: print (columns_list)\n",
    "df_wide_format\n"
   ]
  },
  {
   "cell_type": "markdown",
   "id": "e3b512b0-f24b-4554-9d0b-8d34929804cd",
   "metadata": {},
   "source": [
    "#### Display layers\n",
    "\n",
    "NB add legends\n"
   ]
  },
  {
   "cell_type": "code",
   "execution_count": 129,
   "id": "4da8f4a1-bed5-4f95-be37-52b7f6900734",
   "metadata": {
    "tags": []
   },
   "outputs": [
    {
     "name": "stdout",
     "output_type": "stream",
     "text": [
      "adding image 0 - GFC_Tree_Cover_2020\n",
      "adding image 1 - ESRI_Trees_2020\n",
      "adding image 2 - JAXA_Forest_non_forest_2020\n",
      "adding image 3 - GLAD_LULC_Stable_Tree 2020\n",
      "adding image 4 - TMF_undisturbed_forest_2020\n",
      "adding image 5 - Primary_Humid_Tropical_Forest_2020\n",
      "adding image 6 - TMF_disturbed_forest_2020\n",
      "adding image 7 - Local_RADD_alerts\n",
      "adding image 8 - TMF_plantation\n",
      "adding image 9 - Oil_palm_Descals\n",
      "adding image 10 - FDaP_palm_plantations\n",
      "adding image 11 - Cocoa_plantations_Kalischek\n",
      "adding image 12 - Protected_area\n",
      "adding image 13 - Other Effective area-based Conservation Measure\n",
      "adding image 14 - Key_Biodiversity_Area\n",
      "adding image 15 - GAUL_boundaries_adm0_code_reproj\n",
      "All layers added\n"
     ]
    }
   ],
   "source": [
    "Map = geemap.Map()\n",
    "visParams =  {'min': 0,'max': 1,'palette':['White','Green']}\n",
    "for i in range(images_IC.size().getInfo()):\n",
    "    \n",
    "    imageNew = ee.Image(images_IC.toList(100,0).get(i))\n",
    "    \n",
    "    dataset_name = (list(image_names_dict.keys())[i])\n",
    "    \n",
    "    if debug: print (\"adding image\",i,\"-\",dataset_name)\n",
    "    Map.addLayer(imageNew.gt(0).unmask(),visParams,dataset_name,0,1)\n",
    "    \n",
    "    \n",
    "Map.addLayer(roi,{},'roi ',1,1)\n",
    "# Map.addLayer(roi_alerts_buffer,{},'roi buffer zone')\n",
    "\n",
    "if debug: print (\"All layers added\")    "
   ]
  },
  {
   "cell_type": "code",
   "execution_count": 147,
   "id": "cdc3dfb2-91fc-4e78-a49e-85c7294c794c",
   "metadata": {
    "tags": []
   },
   "outputs": [
    {
     "name": "stdout",
     "output_type": "stream",
     "text": [
      "Geo_id b84f55de2b7f3c77d1cbeb8b026a1b29be42d8b08d92058c9143e0556456820f\n"
     ]
    },
    {
     "data": {
      "application/vnd.jupyter.widget-view+json": {
       "model_id": "4d54e04fcb904544abe3710be511562e",
       "version_major": 2,
       "version_minor": 0
      },
      "text/plain": [
       "Map(bottom=4062178.0, center=[5.673810322182612, -4.086848133220072], controls=(WidgetControl(options=['positi…"
      ]
     },
     "execution_count": 147,
     "metadata": {},
     "output_type": "execute_result"
    }
   ],
   "source": [
    "\n",
    "# number/index from list of ROI features - the selected feature is shown on the map. e.g., choose 0 for first in the list \n",
    "feature_to_centre_on = 1\n",
    "\n",
    "#choose how close to zoom to chosen polygon (1-24, where 24 is fully zoomed in) \n",
    "zoom_level = 16 \n",
    "\n",
    "single_feature_id = roi.aggregate_array(geo_id_column).get(feature_to_centre_on).getInfo()\n",
    "if debug: print (geo_id_column,single_feature_id)\n",
    "single_feature = ee.Feature(roi.filter(ee.Filter.eq(geo_id_column,single_feature_id)).first())\n",
    "\n",
    "Map.centerObject(single_feature,zoom_level)\n",
    "    \n",
    "Map\n",
    "# # single_feature\n"
   ]
  },
  {
   "cell_type": "markdown",
   "id": "1d5049a9",
   "metadata": {},
   "source": [
    "### Logout (protected)"
   ]
  },
  {
   "cell_type": "code",
   "execution_count": 120,
   "id": "d51242cb",
   "metadata": {},
   "outputs": [],
   "source": [
    "# res = session.get(asset_registry_base + \"/logout\")\n",
    "# if debug: print (res.json())\n",
    "# res = session.get(user_registry_base + \"/logout\", cookies=session.cookies)\n",
    "# session.headers.clear()"
   ]
  },
  {
   "cell_type": "markdown",
   "id": "1d7ef7cf",
   "metadata": {},
   "source": [
    "### Checking if Logged out correctly"
   ]
  },
  {
   "cell_type": "code",
   "execution_count": 121,
   "id": "d6dee3bc",
   "metadata": {},
   "outputs": [],
   "source": [
    "# # Confirming the logout from Asset Registry by requesting a Protected route\n",
    "# req_body = {\n",
    "#     \"latitude\": 31.47704430446457,\n",
    "#     \"longitude\": 74.37510786779589\n",
    "# }\n",
    "# res = session.post(asset_registry_base + \"/fetch-fields-for-a-point\", json=req_body)\n",
    "# if debug: print (res.json())"
   ]
  },
  {
   "cell_type": "markdown",
   "id": "8a07b78b",
   "metadata": {
    "tags": []
   },
   "source": [
    "### Get all Domains (public)"
   ]
  },
  {
   "cell_type": "code",
   "execution_count": 122,
   "id": "93cf8a1d",
   "metadata": {
    "tags": []
   },
   "outputs": [],
   "source": [
    "# # Fetching all the domains from the User Registry\n",
    "# res = session.get(asset_registry_base + \"/domains\")\n",
    "# if debug: print (res.json())"
   ]
  },
  {
   "cell_type": "code",
   "execution_count": null,
   "id": "fb8e0538-e59c-4648-878e-130023d7a730",
   "metadata": {},
   "outputs": [],
   "source": []
  }
 ],
 "metadata": {
  "kernelspec": {
   "display_name": "Python 3",
   "language": "python",
   "name": "python3"
  },
  "language_info": {
   "codemirror_mode": {
    "name": "ipython",
    "version": 3
   },
   "file_extension": ".py",
   "mimetype": "text/x-python",
   "name": "python",
   "nbconvert_exporter": "python",
   "pygments_lexer": "ipython3",
   "version": "3.8.10"
  },
  "vscode": {
   "interpreter": {
    "hash": "31f2aee4e71d21fbe5cf8b01ff0e069b9275f58929596ceb00d14d90e3e16cd6"
   }
  }
 },
 "nbformat": 4,
 "nbformat_minor": 5
}
