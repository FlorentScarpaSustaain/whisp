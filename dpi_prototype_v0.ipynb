{
 "cells": [
  {
   "cell_type": "markdown",
   "id": "24e78804",
   "metadata": {
    "tags": []
   },
   "source": [
    "### Imports"
   ]
  },
  {
   "cell_type": "code",
   "execution_count": 1,
   "id": "bf2e1318",
   "metadata": {
    "tags": []
   },
   "outputs": [
    {
     "name": "stdout",
     "output_type": "stream",
     "text": [
      "imports complete\n"
     ]
    }
   ],
   "source": [
    "import json\n",
    "import ee\n",
    "import geemap\n",
    "import folium\n",
    "import os\n",
    "import pandas as pd\n",
    "import geopandas as gpd\n",
    "import time\n",
    "import math\n",
    "import numpy as np\n",
    "from datetime import datetime\n",
    "from sidecar import Sidecar\n",
    "\n",
    "from modules.json_to_ee import json_to_feature_with_id\n",
    "from modules.agstack_setup import start_agstack_session\n",
    "import modules.agstack_to_gee as agstack_to_gee\n",
    "import modules.area_stats as area_stats\n",
    "import modules.tidy_tables as tidy_tables\n",
    "from parameters import * # for run-specific parameters edit \"parameters/config_runtime\"\n",
    "\n",
    "print (\"imports complete\")"
   ]
  },
  {
   "cell_type": "code",
   "execution_count": 2,
   "id": "5ae87ed9-f4e4-4a98-81df-e66e17aa77f1",
   "metadata": {
    "tags": []
   },
   "outputs": [],
   "source": [
    "ee.Initialize()"
   ]
  },
  {
   "cell_type": "markdown",
   "id": "749c76fb-f3ba-43cf-a918-4f6d09e43a7e",
   "metadata": {
    "tags": []
   },
   "source": [
    "### 1. Grab datasets\n"
   ]
  },
  {
   "cell_type": "code",
   "execution_count": 3,
   "id": "aae98294-9c98-4b31-b44a-c617f3613228",
   "metadata": {
    "tags": []
   },
   "outputs": [
    {
     "name": "stdout",
     "output_type": "stream",
     "text": [
      "using existing image collection asset\n"
     ]
    }
   ],
   "source": [
    "if use_existing_image_collection:\n",
    "    images_IC = ee.ImageCollection(\"users/andyarnell10/fdap_dpi/imageCol_trial_2\")\n",
    "    print (\"using existing image collection asset\")\n",
    "else:\n",
    "    from dataset_properties.set_image_properties import images_IC\n",
    "    print (\"compiling image collection on the fly\")\n",
    "\n",
    "## get lists from lookup for different streams of processing\n",
    "from  dataset_properties.make_processing_lists_from_lookup import local_buffer_stats_list,\\\n",
    "                                                                  flag_list,\\\n",
    "                                                                  country_allocation_stats_only_list, \\\n",
    "                                                                  normal_poly_stats_list, \\\n",
    "                                                                  decimal_place_column_list\n"
   ]
  },
  {
   "cell_type": "markdown",
   "id": "56875dab-d0f1-4c00-b552-1e7e0d43c0b3",
   "metadata": {
    "tags": []
   },
   "source": [
    "### 2. Fetch some fields (public)"
   ]
  },
  {
   "cell_type": "markdown",
   "id": "6c00c5d0-b739-4605-af7c-589920a7c962",
   "metadata": {
    "tags": []
   },
   "source": [
    "#### Transform geometries into a feature collection"
   ]
  },
  {
   "cell_type": "code",
   "execution_count": 4,
   "id": "43d06656-77ce-43d2-baa3-c111724d22e2",
   "metadata": {
    "tags": []
   },
   "outputs": [
    {
     "name": "stdout",
     "output_type": "stream",
     "text": [
      "['0520cfac98fbc1bd7952b1c07a9f6983b83625722b6f665ea83ac9aad3512918', 'b84f55de2b7f3c77d1cbeb8b026a1b29be42d8b08d92058c9143e0556456820f', 'b7c15efb6e3c63fcfe649a2d994973a6f5caa844f720f0edb7cf24f6a6c3c1b3', 'fa2aff0d60cf1bc0e1f1dd4b91daf932940c31c021ca1b84f5b9445855eef02f', '88bec54ad04804f5b1fafbc131266640a129be2840fa6797cda358d7e831b907', 'ef2f7c46fbe4fc892fdb81f9a31c9c507b9f1e4548504247dcbbab28cf8e436c', '97408ef7bdac487e4a42e4abf20492b786310889fd4b0478603e2d0004c40bfb', 'c288d6c94efa9011c0e3452af9f7fa0941661377030e10d29c68764617f9816d', '1a41a309ae2387f36a604c9a6c81887e64357a7f61d228758e23ef766286fcd7', '1a4472dc40700ef33f931863f58d444f243d64418616678fcf85c57e1f4bbf45', '8e2accea7ddbb84b7f6001e00bcb60f57f563c80633b53859993522a6f05727a']\n"
     ]
    }
   ],
   "source": [
    "CIV_ids = ['0520cfac98fbc1bd7952b1c07a9f6983b83625722b6f665ea83ac9aad3512918',\n",
    "           'b84f55de2b7f3c77d1cbeb8b026a1b29be42d8b08d92058c9143e0556456820f',\n",
    "           'b7c15efb6e3c63fcfe649a2d994973a6f5caa844f720f0edb7cf24f6a6c3c1b3',\n",
    "            'fa2aff0d60cf1bc0e1f1dd4b91daf932940c31c021ca1b84f5b9445855eef02f']\n",
    "\n",
    "GHA_ids = ['88bec54ad04804f5b1fafbc131266640a129be2840fa6797cda358d7e831b907', \n",
    "        'ef2f7c46fbe4fc892fdb81f9a31c9c507b9f1e4548504247dcbbab28cf8e436c',\n",
    "        '97408ef7bdac487e4a42e4abf20492b786310889fd4b0478603e2d0004c40bfb']\n",
    "\n",
    "IDN_ids = ['c288d6c94efa9011c0e3452af9f7fa0941661377030e10d29c68764617f9816d', \n",
    "       '1a41a309ae2387f36a604c9a6c81887e64357a7f61d228758e23ef766286fcd7',\n",
    "       '1a4472dc40700ef33f931863f58d444f243d64418616678fcf85c57e1f4bbf45',\n",
    "       '8e2accea7ddbb84b7f6001e00bcb60f57f563c80633b53859993522a6f05727a']\n",
    "\n",
    "all_geo_ids= CIV_ids+GHA_ids+IDN_ids\n",
    "\n",
    "if debug: print (all_geo_ids)"
   ]
  },
  {
   "cell_type": "markdown",
   "id": "040debff-4f8a-44d2-91f6-8a8ab79aff3e",
   "metadata": {
    "tags": []
   },
   "source": [
    "#### Start session"
   ]
  },
  {
   "cell_type": "code",
   "execution_count": 5,
   "id": "828017fa-9522-406c-8f8d-18a67aee3c52",
   "metadata": {
    "tags": []
   },
   "outputs": [
    {
     "name": "stdout",
     "output_type": "stream",
     "text": [
      "Cookies <RequestsCookieJar[]>\n",
      "status code: 500\n"
     ]
    }
   ],
   "source": [
    "session = start_agstack_session(email,password,user_registry_base,debug)"
   ]
  },
  {
   "cell_type": "markdown",
   "id": "ea3b1a42-5ade-41e5-b618-ab02169ddbc1",
   "metadata": {
    "tags": []
   },
   "source": [
    "#### Fetch and prepare features"
   ]
  },
  {
   "cell_type": "code",
   "execution_count": 6,
   "id": "c990539e-ef11-41ba-ae07-370eea375830",
   "metadata": {
    "tags": []
   },
   "outputs": [
    {
     "name": "stdout",
     "output_type": "stream",
     "text": [
      "input: list\n",
      "Count of geo ids in list:  11\n",
      "Count of features in FeatureCollection:  11\n"
     ]
    }
   ],
   "source": [
    "#fetch and convert into feature collection\n",
    "roi = agstack_to_gee.geo_id_or_ids_to_feature_collection(\n",
    "    all_geo_ids, geo_id_column, session, asset_registry_base, debug)\n",
    "\n",
    "roi = area_stats.add_area_hectares_property_to_feature_collection(roi,geometry_area_column)\n",
    "\n",
    "#select only columns of interest\n",
    "roi  = roi.select([geometry_area_column,geo_id_column]) \n",
    "\n",
    "#Create additional buffer zones for deforestation risk \n",
    "roi_alerts_buffer = roi.map(lambda feature: \n",
    "        feature.buffer(local_alerts_buffer_radius,max_error_alert_buff)) \n"
   ]
  },
  {
   "cell_type": "markdown",
   "id": "874274c3-15af-4aca-b407-f7683f883878",
   "metadata": {
    "tags": []
   },
   "source": [
    "### 3. Compute statistics"
   ]
  },
  {
   "cell_type": "markdown",
   "id": "e7f19d47-119d-4df0-b156-cdc2ab2e3e69",
   "metadata": {},
   "source": [
    "Calculating zonal statistics for continuous data (e.g tree cover) within polygon(s)"
   ]
  },
  {
   "cell_type": "markdown",
   "id": "1ce375a3-ac9a-4fb8-b61f-0604e8c50f30",
   "metadata": {},
   "source": [
    "##### i) Mapping over image collection with reduce regions (creates long format temporary table)"
   ]
  },
  {
   "cell_type": "code",
   "execution_count": 7,
   "id": "4b9cbfcd-fc1f-4516-b455-e2d88c4b7461",
   "metadata": {
    "tags": []
   },
   "outputs": [
    {
     "name": "stdout",
     "output_type": "stream",
     "text": [
      "processing stats...\n",
      "Total execution time: 1.9001822471618652 seconds\n"
     ]
    }
   ],
   "source": [
    "# get the start time\n",
    "st = time.time()\n",
    "if debug: print (\"processing stats...\")\n",
    "\n",
    "## reducer choice for zonal statistics\n",
    "reducer_choice = ee.Reducer.sum().combine(  #main stats based on area of pixel\n",
    "  reducer2=ee.Reducer.count(),sharedInputs=True).combine(\n",
    "    reducer2=ee.Reducer.mode(), sharedInputs=True) ## mode for country allocation (majority pixel count) \n",
    "\n",
    "## get stats for roi (not including deforestation alerts)\n",
    "fc_stats_combined = area_stats.reduceStatsIC(roi,\n",
    "                                  images_IC.filter(ee.Filter.inList(\"system:index\",normal_poly_stats_list)),\n",
    "                                                                  reducer_choice)# all but alerts\n",
    "## get stats for buffer (alerts only)\n",
    "fc_stats_combined_buffer = area_stats.reduceStatsIC(roi_alerts_buffer,\n",
    "                                                    images_IC.filter(ee.Filter.inList(\"system:index\",local_buffer_stats_list)),\n",
    "                                                    reducer_choice) #alerts only\n",
    "\n",
    "#combine stats from roi and buffer into one feature collection\n",
    "fc_stats_combined_all = fc_stats_combined.merge(fc_stats_combined_buffer) \n",
    "\n",
    "# convert to Pandas Dataframe\n",
    "df_combined = geemap.ee_to_pandas(fc_stats_combined_all) # limit of 5000 (unlikely to need more but i have code for it if needed)\n",
    "\n",
    "# export dataframe to csv\n",
    "df_combined.to_csv(path_or_buf=out_file_long,header=True,index=False)\n",
    "\n",
    "# get the execution time\n",
    "elapsed_time = time.time() - st\n",
    "\n",
    "if debug: print ('Total execution time:', elapsed_time, 'seconds')"
   ]
  },
  {
   "cell_type": "markdown",
   "id": "ec10e289-42df-42f4-b576-ef216efe8356",
   "metadata": {},
   "source": [
    "##### ii): Create lookup tables for country allocation\n",
    "Approach is based on raster stats and listing the country for a specific geometry based on which has most overlap\n",
    "\n"
   ]
  },
  {
   "cell_type": "markdown",
   "id": "375629ec-ef13-4c64-9c5c-cbb3563b8d2f",
   "metadata": {
    "tags": []
   },
   "source": [
    "Look up table linking country codes to country names (from GAUL feature collection) is stored here: scripts: create_country_lookup.py"
   ]
  },
  {
   "cell_type": "markdown",
   "id": "93bb09fe-dcf8-4084-95aa-f8c586dfe78d",
   "metadata": {
    "tags": []
   },
   "source": [
    "Make on-the-fly look up table to link country name to geo id based on raster stats\n",
    "- uses rasterised GAUL layer with admin codes as pixel values\n",
    "- for each geo id finds most common value in that geometry (i.e. \"mode\" statistic)"
   ]
  },
  {
   "cell_type": "code",
   "execution_count": 8,
   "id": "fc8f51bc-be03-4c05-8337-942f06653803",
   "metadata": {
    "tags": []
   },
   "outputs": [],
   "source": [
    "fc_stats_country_codes = area_stats.reduceStatsIC(roi,\n",
    "                                  images_IC.filter(ee.Filter.eq(\"dataset_id\",16)),\n",
    "                                  reducer_choice)# all but alerts\n",
    "\n",
    "df_stats_country_codes = geemap.ee_to_pandas(fc_stats_country_codes) # limit of 5000 (unlikely to need more fpr demo but i have code for it if this happens)\n",
    "\n",
    "lookup_geo_id_to_GAUL_codes = df_stats_country_codes[df_stats_country_codes[\"dataset_name\"]==\"GAUL_boundaries_adm0_code_reproj\"]  #get mode stats for GAUL dataset\n",
    "\n",
    "lookup_geo_id_to_GAUL_codes = lookup_geo_id_to_GAUL_codes[[geo_id_column, 'mode']] # choose only columns needed\n",
    "\n",
    "lookup_geo_id_to_GAUL_codes = lookup_geo_id_to_GAUL_codes.rename(columns={\"mode\":\"ADM0_CODE\"}) # change names for a clean join \n",
    "\n",
    "lookup_geo_id_to_GAUL_country_names = lookup_geo_id_to_GAUL_codes.merge(lookup_country_codes_to_names,on=\"ADM0_CODE\",how=\"inner\").drop(\"ADM0_CODE\",axis=1) # join geo id to the GAUL_lookup_table countaining \"Country_names\"\n",
    "# lookup_geo_id_to_ISO3 = lookup_geo_id_to_GAUL_codes.merge(lookup_country_codes_to_ISO3,on=\"ADM0_CODE\",how=\"inner\").drop(\"ADM0_CODE\",axis=1) # join geo id to the GAUL_lookup_table countaining \"Country_names\"\n"
   ]
  },
  {
   "cell_type": "markdown",
   "id": "4ebb5856-0a96-4399-ab5c-341c84eb3132",
   "metadata": {
    "tags": []
   },
   "source": [
    "##### iii) Reformat results table\n",
    "- long to wide\n",
    "- convert to proportions \n",
    "- set presence only flags\n",
    "- add in country names (using lookup tables) to the final results"
   ]
  },
  {
   "cell_type": "code",
   "execution_count": 9,
   "id": "98f4b376-8375-4670-8cb0-c9aaf96fa407",
   "metadata": {
    "tags": []
   },
   "outputs": [
    {
     "name": "stdout",
     "output_type": "stream",
     "text": [
      "['GFC_Tree_Cover_2020', 'ESRI_Trees_2020', 'JAXA_Forest_non_forest_2020', 'GLAD_LULC_Stable_Tree_2020', 'TMF_undisturbed_forest_2020', 'Primary_Humid_Tropical_Forest_2020', 'TMF_disturbed_forest_2020', 'TMF_plantation', 'Oil_palm_Descals', 'FDaP_palm_plantations', 'Cocoa_plantations_Kalischek']\n",
      "['Local_RADD_alerts', 'Protected_area', 'Other_Effective_area_based_Conservation_Measure', 'Key_Biodiversity_Area']\n"
     ]
    }
   ],
   "source": [
    "#add proprtion column\n",
    "df_combined[\"percentage\"] = (df_combined[\"sum\"]/df_combined[geometry_area_column])*100\n",
    "\n",
    "#convert to wide format (one row per geo_id)\n",
    "df_wide_format = df_combined.pivot_table(index=[geo_id_column,geometry_area_column],columns=['dataset_name'],values=['percentage'])\n",
    "\n",
    "#tidy unwanted headers etc\n",
    "tidy_tables.tidy_dataframe_after_pivot(df_wide_format) #runs in place so no need to assign\n",
    "\n",
    "# convert positive results values to \"True\" for specific columns\n",
    "for column in flag_list: df_wide_format[column]=np.where(df_wide_format[column]>0,\"True\",\"-\")\n",
    "\n",
    "# # tidy output - decimal places\n",
    "for column in flag_list: df_wide_format[decimal_place_column_list]=df_wide_format[decimal_place_column_list].round(decimals=0, out=None).astype(int)\n",
    "\n",
    "df_wide_format=df_wide_format.reset_index()\n",
    "\n",
    "df_wide_format[geometry_area_column]=df_wide_format[geometry_area_column].round(decimals=1, out=None)\n",
    "\n",
    "# #joins country name based on majority overlap with country \n",
    "# if debug: print (columns_list)\n",
    "print(decimal_place_column_list)\n",
    "print(flag_list)\n",
    "\n",
    "df_wide_format = df_wide_format.merge(lookup_geo_id_to_GAUL_country_names,on=geo_id_column)"
   ]
  },
  {
   "cell_type": "markdown",
   "id": "31929f1c-b245-4bef-968f-64bdee8ef1ed",
   "metadata": {
    "tags": []
   },
   "source": [
    "##### iv) Further reformatting and exporting\n",
    "- reorder columns\n",
    "- remove underscores in column titles\n",
    "- export to csv"
   ]
  },
  {
   "cell_type": "code",
   "execution_count": 10,
   "id": "20836916-d664-4334-aa6c-47916823443a",
   "metadata": {
    "tags": []
   },
   "outputs": [],
   "source": [
    "# reorder columns using list \n",
    "ordered_dataset_df= lookup_gee_datasets.sort_values(by=['datasets_order'])\n",
    "\n",
    "column_order_list = list(ordered_dataset_df[\"dataset_name\"])\n",
    "                         \n",
    "column_order_list.insert(0,geo_id_column) # add in the \"geo_id\" column into to datasets list\n",
    "\n",
    "column_order_list.insert(1,geometry_area_column)# add in to list the geometry area column\n",
    "\n",
    "column_order_list.remove(\"GAUL_boundaries_adm0_code_reproj\") # remove old column with \"mode\" values (not now relevant as have country names)\n",
    "\n",
    "column_order_list.insert(2,\"Country\")# add in to list the new column with country names\n",
    "\n",
    "df_wide_format= df_wide_format.reindex(columns=column_order_list) # reorder by list\n",
    "\n",
    "df_wide_format[\"Country\"]=np.where(df_wide_format[\"Country\"]==\"C�te d'Ivoire\",\"Côte d'Ivoire\",df_wide_format[\"Country\"])# TEMP fix on characters (encoding issues)\n",
    "df_wide_format[\"Country\"]=np.where(df_wide_format[\"Country\"]==\"R�union\",\"Réunion\",df_wide_format[\"Country\"])# TEMP fix on characters (encoding issues)\n",
    "\n",
    "# remove underscores in columns\n",
    "df_wide_format.columns = df_wide_format.columns.str.replace('_', ' ')\n",
    "\n",
    "# #export wide format csv\n",
    "df_wide_format.to_csv(path_or_buf=out_file_wide,header=True)\n",
    "\n",
    "# if debug: print (\"output csv: \", out_file_wide)\n",
    "\n",
    "#checks\n",
    "if debug: flag_list\n",
    "# if debug: print (columns_list)\n",
    "\n",
    "#df_wide_format"
   ]
  },
  {
   "cell_type": "markdown",
   "id": "ae23af17-5286-4578-afad-413f7f0d0d1f",
   "metadata": {
    "tags": []
   },
   "source": [
    "### 4. Convert to CEO input"
   ]
  },
  {
   "cell_type": "code",
   "execution_count": 11,
   "id": "fdb205c0-8908-4c7b-8447-014608635713",
   "metadata": {
    "tags": []
   },
   "outputs": [],
   "source": [
    "df = pd.merge(geemap.ee_to_geopandas(roi), \n",
    "              df_wide_format, \n",
    "              left_on='Geo_id', \n",
    "              right_on='Geo id', \n",
    "              how='inner')"
   ]
  },
  {
   "cell_type": "code",
   "execution_count": 12,
   "id": "7c3aae13-d73b-4cda-a33d-732f584d1563",
   "metadata": {
    "tags": []
   },
   "outputs": [],
   "source": [
    "df[\"PLOTID\"] = df.index +1\n",
    "df.set_index(\"PLOTID\", inplace = True)"
   ]
  },
  {
   "cell_type": "code",
   "execution_count": 13,
   "id": "efa92651-7100-42ec-b0f8-238d6359612a",
   "metadata": {
    "tags": []
   },
   "outputs": [],
   "source": [
    "ceo_cols = df_wide_format.columns"
   ]
  },
  {
   "cell_type": "code",
   "execution_count": 14,
   "id": "3175a037-6336-4e7b-9017-e2d725c7546f",
   "metadata": {
    "tags": []
   },
   "outputs": [],
   "source": [
    "gdf = gpd.GeoDataFrame(df[ceo_cols],\n",
    "                       geometry=df.geometry,\n",
    "                       crs=\"EPSG:4326\")"
   ]
  },
  {
   "cell_type": "code",
   "execution_count": 15,
   "id": "2b8f69c4-48cc-4516-90e5-81bb10f56ed1",
   "metadata": {
    "tags": []
   },
   "outputs": [],
   "source": [
    "gdf.columns = [\"geoid\",\"pol_area\",\"country\",\"gfc_2020\",\"esri_2020\",\"jaxa_fnf\",\n",
    "               \"glad_lulc\",\"tmf_undist\",\"glad_prim\",\"tmf_dist\",\"radd\",\"tmf_plant\",\"palm_desc\",\"palm_fdap\",\"cocoa_eth\",\"wdpa\",\"oecm\",\"biodiv\",\"geometry\"]"
   ]
  },
  {
   "cell_type": "code",
   "execution_count": 16,
   "id": "884e2fa3-a0f2-4bd1-a61b-b9474a60f380",
   "metadata": {
    "tags": []
   },
   "outputs": [],
   "source": [
    "# using dictionary to convert specific columns\n",
    "convert_dict = {\"geoid\": object,\n",
    "                \"gfc_2020\": int,\n",
    "                \"esri_2020\": int,\n",
    "                \"jaxa_fnf\": int,\n",
    "                \"glad_lulc\": int,\n",
    "                \"tmf_undist\": int,\n",
    "                \"glad_prim\": int,\n",
    "                \"tmf_dist\": int,\n",
    "                \"radd\": object,\n",
    "                \"tmf_plant\": int,\n",
    "                \"palm_desc\": int,\n",
    "                \"palm_fdap\": int,\n",
    "                \"cocoa_eth\": int,\n",
    "                \"wdpa\":object,\n",
    "                \"oecm\": object,\n",
    "                \"biodiv\": object\n",
    "                }\n",
    "        \n",
    "gdf = gdf.astype(convert_dict)\n",
    "#print(gdf.dtypes)"
   ]
  },
  {
   "cell_type": "code",
   "execution_count": 17,
   "id": "15e1fa93-aef9-495a-8a93-f03836c5ff0b",
   "metadata": {
    "tags": []
   },
   "outputs": [],
   "source": [
    "gdf.to_file(\"test_ceo_all.shp\")"
   ]
  },
  {
   "cell_type": "markdown",
   "id": "e3b512b0-f24b-4554-9d0b-8d34929804cd",
   "metadata": {
    "tags": []
   },
   "source": [
    "### 5. Create Map \n",
    "\n",
    "##### Loop through image collection and loads layers to be added to the map\n"
   ]
  },
  {
   "cell_type": "code",
   "execution_count": 18,
   "id": "4ccdb011-65b4-4e06-9ce9-f30409841daa",
   "metadata": {
    "tags": []
   },
   "outputs": [],
   "source": [
    "images_IC = images_IC.sort(\"dataset_id\").filter(ee.Filter.neq(\"system:index\",\"GAUL_boundaries_adm0_code_reproj\"))"
   ]
  },
  {
   "cell_type": "code",
   "execution_count": 19,
   "id": "5cc82d7d-94aa-4e41-b321-c8d9daf43a95",
   "metadata": {
    "tags": []
   },
   "outputs": [
    {
     "name": "stdout",
     "output_type": "stream",
     "text": [
      "adding image 0 - GFC_Tree_Cover_2020\n",
      "adding image 1 - ESRI_Trees_2020\n",
      "adding image 2 - JAXA_Forest_non_forest_2020\n",
      "adding image 3 - GLAD_LULC_Stable_Tree_2020\n",
      "adding image 4 - TMF_undisturbed_forest_2020\n",
      "adding image 5 - Primary_Humid_Tropical_Forest_2020\n",
      "adding image 6 - TMF_disturbed_forest_2020\n",
      "adding image 7 - Local_RADD_alerts\n",
      "adding image 8 - TMF_plantation\n",
      "adding image 9 - Oil_palm_Descals\n",
      "adding image 10 - FDaP_palm_plantations\n",
      "adding image 11 - Cocoa_plantations_Kalischek\n",
      "adding image 12 - Protected_area\n",
      "adding image 13 - Other_Effective_area_based_Conservation_Measure\n",
      "adding image 14 - Key_Biodiversity_Area\n",
      "All layers added\n"
     ]
    }
   ],
   "source": [
    "Map = geemap.Map()\n",
    "visParams =  {'min': 0,'max': 1,'palette':['White','Green']}\n",
    "\n",
    "sc = Sidecar(title='Check Plots')\n",
    "with sc:display(Map)\n",
    "\n",
    "for i in range(images_IC.size().getInfo()):\n",
    "    \n",
    "    image_new = ee.Image(images_IC.toList(100,0).get(i))\n",
    "    \n",
    "    dataset_name = image_new.get(\"system:index\").getInfo()\n",
    "    \n",
    "    if debug: print (\"adding image\",i,\"-\",dataset_name)\n",
    "    Map.addLayer(image_new.gt(0).unmask(),visParams,dataset_name,0,1)\n",
    "    \n",
    "    \n",
    "Map.addLayer(roi,{},'roi ',1,1)\n",
    "# Map.addLayer(roi_alerts_buffer,{},'roi buffer zone')\n",
    "\n",
    "if debug: print (\"All layers added\")    "
   ]
  },
  {
   "cell_type": "markdown",
   "id": "15d8f97f-dcca-47ec-a567-9a2aacef2cc3",
   "metadata": {
    "tags": []
   },
   "source": [
    "### 6. Zoom on polygon"
   ]
  },
  {
   "cell_type": "markdown",
   "id": "440a5615-0482-49a7-946e-3c99dff6f2a7",
   "metadata": {
    "tags": []
   },
   "source": [
    "##### Show on map and zoom to a specific feature based on index number in feature collection\n",
    " Layers visibility off by default - toggle on in top right corner"
   ]
  },
  {
   "cell_type": "code",
   "execution_count": 20,
   "id": "cdc3dfb2-91fc-4e78-a49e-85c7294c794c",
   "metadata": {
    "tags": []
   },
   "outputs": [
    {
     "name": "stdout",
     "output_type": "stream",
     "text": [
      "Geo_id b84f55de2b7f3c77d1cbeb8b026a1b29be42d8b08d92058c9143e0556456820f\n"
     ]
    }
   ],
   "source": [
    "# number/index from list of ROI features - the selected feature is shown on the map. e.g., choose 0 for first in the list \n",
    "plotid =2\n",
    "\n",
    "#choose how close to zoom to chosen polygon (1-24, where 24 is fully zoomed in) \n",
    "zoom_level = 16 \n",
    "\n",
    "single_feature_id = roi.aggregate_array(geo_id_column).get(plotid-1).getInfo()\n",
    "if debug: print (geo_id_column,single_feature_id)\n",
    "single_feature = ee.Feature(roi.filter(ee.Filter.eq(geo_id_column,single_feature_id)).first())\n",
    "\n",
    "Map.centerObject(single_feature,zoom_level)\n",
    "    \n",
    "#Map"
   ]
  },
  {
   "cell_type": "markdown",
   "id": "863cc8aa-0ef6-4b42-8f86-eb63c7e78a2a",
   "metadata": {
    "tags": []
   },
   "source": [
    "### 7. Display table"
   ]
  },
  {
   "cell_type": "code",
   "execution_count": 21,
   "id": "31a052ec-541a-4f8d-be61-1da84b5d4851",
   "metadata": {
    "tags": []
   },
   "outputs": [
    {
     "data": {
      "text/html": [
       "<div>\n",
       "<style scoped>\n",
       "    .dataframe tbody tr th:only-of-type {\n",
       "        vertical-align: middle;\n",
       "    }\n",
       "\n",
       "    .dataframe tbody tr th {\n",
       "        vertical-align: top;\n",
       "    }\n",
       "\n",
       "    .dataframe thead th {\n",
       "        text-align: right;\n",
       "    }\n",
       "</style>\n",
       "<table border=\"1\" class=\"dataframe\">\n",
       "  <thead>\n",
       "    <tr style=\"text-align: right;\">\n",
       "      <th></th>\n",
       "      <th>Geo id</th>\n",
       "      <th>Shape area hectares</th>\n",
       "      <th>Country</th>\n",
       "      <th>GFC Tree Cover 2020</th>\n",
       "      <th>ESRI Trees 2020</th>\n",
       "      <th>JAXA Forest non forest 2020</th>\n",
       "      <th>GLAD LULC Stable Tree 2020</th>\n",
       "      <th>TMF undisturbed forest 2020</th>\n",
       "      <th>Primary Humid Tropical Forest 2020</th>\n",
       "      <th>TMF disturbed forest 2020</th>\n",
       "      <th>Local RADD alerts</th>\n",
       "      <th>TMF plantation</th>\n",
       "      <th>Oil palm Descals</th>\n",
       "      <th>FDaP palm plantations</th>\n",
       "      <th>Cocoa plantations Kalischek</th>\n",
       "      <th>Protected area</th>\n",
       "      <th>Other Effective area based Conservation Measure</th>\n",
       "      <th>Key Biodiversity Area</th>\n",
       "    </tr>\n",
       "    <tr>\n",
       "      <th>PLOTID</th>\n",
       "      <th></th>\n",
       "      <th></th>\n",
       "      <th></th>\n",
       "      <th></th>\n",
       "      <th></th>\n",
       "      <th></th>\n",
       "      <th></th>\n",
       "      <th></th>\n",
       "      <th></th>\n",
       "      <th></th>\n",
       "      <th></th>\n",
       "      <th></th>\n",
       "      <th></th>\n",
       "      <th></th>\n",
       "      <th></th>\n",
       "      <th></th>\n",
       "      <th></th>\n",
       "      <th></th>\n",
       "    </tr>\n",
       "  </thead>\n",
       "  <tbody>\n",
       "    <tr>\n",
       "      <th>1</th>\n",
       "      <td>0520cfac98fbc1bd7952b1c07a9f6983b83625722b6f66...</td>\n",
       "      <td>8.3</td>\n",
       "      <td>Côte d'Ivoire</td>\n",
       "      <td>62</td>\n",
       "      <td>100</td>\n",
       "      <td>95</td>\n",
       "      <td>64</td>\n",
       "      <td>0</td>\n",
       "      <td>0</td>\n",
       "      <td>10</td>\n",
       "      <td>True</td>\n",
       "      <td>0</td>\n",
       "      <td>0</td>\n",
       "      <td>0</td>\n",
       "      <td>0</td>\n",
       "      <td>True</td>\n",
       "      <td>-</td>\n",
       "      <td>True</td>\n",
       "    </tr>\n",
       "    <tr>\n",
       "      <th>2</th>\n",
       "      <td>b84f55de2b7f3c77d1cbeb8b026a1b29be42d8b08d9205...</td>\n",
       "      <td>2.0</td>\n",
       "      <td>Côte d'Ivoire</td>\n",
       "      <td>78</td>\n",
       "      <td>100</td>\n",
       "      <td>73</td>\n",
       "      <td>55</td>\n",
       "      <td>0</td>\n",
       "      <td>0</td>\n",
       "      <td>23</td>\n",
       "      <td>True</td>\n",
       "      <td>0</td>\n",
       "      <td>0</td>\n",
       "      <td>0</td>\n",
       "      <td>73</td>\n",
       "      <td>True</td>\n",
       "      <td>-</td>\n",
       "      <td>-</td>\n",
       "    </tr>\n",
       "    <tr>\n",
       "      <th>3</th>\n",
       "      <td>b7c15efb6e3c63fcfe649a2d994973a6f5caa844f720f0...</td>\n",
       "      <td>3.8</td>\n",
       "      <td>Côte d'Ivoire</td>\n",
       "      <td>70</td>\n",
       "      <td>100</td>\n",
       "      <td>99</td>\n",
       "      <td>90</td>\n",
       "      <td>0</td>\n",
       "      <td>0</td>\n",
       "      <td>74</td>\n",
       "      <td>-</td>\n",
       "      <td>0</td>\n",
       "      <td>0</td>\n",
       "      <td>0</td>\n",
       "      <td>0</td>\n",
       "      <td>-</td>\n",
       "      <td>-</td>\n",
       "      <td>-</td>\n",
       "    </tr>\n",
       "    <tr>\n",
       "      <th>4</th>\n",
       "      <td>fa2aff0d60cf1bc0e1f1dd4b91daf932940c31c021ca1b...</td>\n",
       "      <td>3.6</td>\n",
       "      <td>Côte d'Ivoire</td>\n",
       "      <td>44</td>\n",
       "      <td>100</td>\n",
       "      <td>99</td>\n",
       "      <td>99</td>\n",
       "      <td>0</td>\n",
       "      <td>0</td>\n",
       "      <td>6</td>\n",
       "      <td>-</td>\n",
       "      <td>0</td>\n",
       "      <td>0</td>\n",
       "      <td>0</td>\n",
       "      <td>0</td>\n",
       "      <td>-</td>\n",
       "      <td>-</td>\n",
       "      <td>-</td>\n",
       "    </tr>\n",
       "    <tr>\n",
       "      <th>5</th>\n",
       "      <td>88bec54ad04804f5b1fafbc131266640a129be2840fa67...</td>\n",
       "      <td>1.9</td>\n",
       "      <td>Ghana</td>\n",
       "      <td>20</td>\n",
       "      <td>100</td>\n",
       "      <td>100</td>\n",
       "      <td>88</td>\n",
       "      <td>0</td>\n",
       "      <td>0</td>\n",
       "      <td>34</td>\n",
       "      <td>-</td>\n",
       "      <td>0</td>\n",
       "      <td>0</td>\n",
       "      <td>0</td>\n",
       "      <td>0</td>\n",
       "      <td>-</td>\n",
       "      <td>-</td>\n",
       "      <td>-</td>\n",
       "    </tr>\n",
       "    <tr>\n",
       "      <th>6</th>\n",
       "      <td>ef2f7c46fbe4fc892fdb81f9a31c9c507b9f1e45485042...</td>\n",
       "      <td>4.2</td>\n",
       "      <td>Ghana</td>\n",
       "      <td>35</td>\n",
       "      <td>100</td>\n",
       "      <td>99</td>\n",
       "      <td>63</td>\n",
       "      <td>5</td>\n",
       "      <td>0</td>\n",
       "      <td>83</td>\n",
       "      <td>-</td>\n",
       "      <td>0</td>\n",
       "      <td>0</td>\n",
       "      <td>0</td>\n",
       "      <td>0</td>\n",
       "      <td>-</td>\n",
       "      <td>-</td>\n",
       "      <td>-</td>\n",
       "    </tr>\n",
       "    <tr>\n",
       "      <th>7</th>\n",
       "      <td>97408ef7bdac487e4a42e4abf20492b786310889fd4b04...</td>\n",
       "      <td>16.7</td>\n",
       "      <td>Ghana</td>\n",
       "      <td>100</td>\n",
       "      <td>100</td>\n",
       "      <td>100</td>\n",
       "      <td>89</td>\n",
       "      <td>95</td>\n",
       "      <td>87</td>\n",
       "      <td>5</td>\n",
       "      <td>True</td>\n",
       "      <td>0</td>\n",
       "      <td>0</td>\n",
       "      <td>0</td>\n",
       "      <td>0</td>\n",
       "      <td>True</td>\n",
       "      <td>-</td>\n",
       "      <td>-</td>\n",
       "    </tr>\n",
       "    <tr>\n",
       "      <th>8</th>\n",
       "      <td>c288d6c94efa9011c0e3452af9f7fa0941661377030e10...</td>\n",
       "      <td>31.4</td>\n",
       "      <td>Indonesia</td>\n",
       "      <td>0</td>\n",
       "      <td>6</td>\n",
       "      <td>5</td>\n",
       "      <td>83</td>\n",
       "      <td>0</td>\n",
       "      <td>0</td>\n",
       "      <td>0</td>\n",
       "      <td>-</td>\n",
       "      <td>100</td>\n",
       "      <td>98</td>\n",
       "      <td>82</td>\n",
       "      <td>0</td>\n",
       "      <td>-</td>\n",
       "      <td>-</td>\n",
       "      <td>-</td>\n",
       "    </tr>\n",
       "    <tr>\n",
       "      <th>9</th>\n",
       "      <td>1a41a309ae2387f36a604c9a6c81887e64357a7f61d228...</td>\n",
       "      <td>2.0</td>\n",
       "      <td>Indonesia</td>\n",
       "      <td>0</td>\n",
       "      <td>100</td>\n",
       "      <td>85</td>\n",
       "      <td>99</td>\n",
       "      <td>0</td>\n",
       "      <td>0</td>\n",
       "      <td>13</td>\n",
       "      <td>-</td>\n",
       "      <td>0</td>\n",
       "      <td>0</td>\n",
       "      <td>4</td>\n",
       "      <td>0</td>\n",
       "      <td>-</td>\n",
       "      <td>-</td>\n",
       "      <td>-</td>\n",
       "    </tr>\n",
       "    <tr>\n",
       "      <th>10</th>\n",
       "      <td>1a4472dc40700ef33f931863f58d444f243d6441861667...</td>\n",
       "      <td>12.8</td>\n",
       "      <td>Indonesia</td>\n",
       "      <td>83</td>\n",
       "      <td>100</td>\n",
       "      <td>100</td>\n",
       "      <td>99</td>\n",
       "      <td>60</td>\n",
       "      <td>0</td>\n",
       "      <td>39</td>\n",
       "      <td>-</td>\n",
       "      <td>0</td>\n",
       "      <td>0</td>\n",
       "      <td>68</td>\n",
       "      <td>0</td>\n",
       "      <td>-</td>\n",
       "      <td>-</td>\n",
       "      <td>-</td>\n",
       "    </tr>\n",
       "    <tr>\n",
       "      <th>11</th>\n",
       "      <td>8e2accea7ddbb84b7f6001e00bcb60f57f563c80633b53...</td>\n",
       "      <td>21.0</td>\n",
       "      <td>Indonesia</td>\n",
       "      <td>53</td>\n",
       "      <td>100</td>\n",
       "      <td>96</td>\n",
       "      <td>98</td>\n",
       "      <td>31</td>\n",
       "      <td>0</td>\n",
       "      <td>67</td>\n",
       "      <td>-</td>\n",
       "      <td>0</td>\n",
       "      <td>0</td>\n",
       "      <td>51</td>\n",
       "      <td>0</td>\n",
       "      <td>-</td>\n",
       "      <td>-</td>\n",
       "      <td>-</td>\n",
       "    </tr>\n",
       "  </tbody>\n",
       "</table>\n",
       "</div>"
      ],
      "text/plain": [
       "                                                   Geo id  \\\n",
       "PLOTID                                                      \n",
       "1       0520cfac98fbc1bd7952b1c07a9f6983b83625722b6f66...   \n",
       "2       b84f55de2b7f3c77d1cbeb8b026a1b29be42d8b08d9205...   \n",
       "3       b7c15efb6e3c63fcfe649a2d994973a6f5caa844f720f0...   \n",
       "4       fa2aff0d60cf1bc0e1f1dd4b91daf932940c31c021ca1b...   \n",
       "5       88bec54ad04804f5b1fafbc131266640a129be2840fa67...   \n",
       "6       ef2f7c46fbe4fc892fdb81f9a31c9c507b9f1e45485042...   \n",
       "7       97408ef7bdac487e4a42e4abf20492b786310889fd4b04...   \n",
       "8       c288d6c94efa9011c0e3452af9f7fa0941661377030e10...   \n",
       "9       1a41a309ae2387f36a604c9a6c81887e64357a7f61d228...   \n",
       "10      1a4472dc40700ef33f931863f58d444f243d6441861667...   \n",
       "11      8e2accea7ddbb84b7f6001e00bcb60f57f563c80633b53...   \n",
       "\n",
       "        Shape area hectares        Country  GFC Tree Cover 2020  \\\n",
       "PLOTID                                                            \n",
       "1                       8.3  Côte d'Ivoire                   62   \n",
       "2                       2.0  Côte d'Ivoire                   78   \n",
       "3                       3.8  Côte d'Ivoire                   70   \n",
       "4                       3.6  Côte d'Ivoire                   44   \n",
       "5                       1.9          Ghana                   20   \n",
       "6                       4.2          Ghana                   35   \n",
       "7                      16.7          Ghana                  100   \n",
       "8                      31.4      Indonesia                    0   \n",
       "9                       2.0      Indonesia                    0   \n",
       "10                     12.8      Indonesia                   83   \n",
       "11                     21.0      Indonesia                   53   \n",
       "\n",
       "        ESRI Trees 2020  JAXA Forest non forest 2020  \\\n",
       "PLOTID                                                 \n",
       "1                   100                           95   \n",
       "2                   100                           73   \n",
       "3                   100                           99   \n",
       "4                   100                           99   \n",
       "5                   100                          100   \n",
       "6                   100                           99   \n",
       "7                   100                          100   \n",
       "8                     6                            5   \n",
       "9                   100                           85   \n",
       "10                  100                          100   \n",
       "11                  100                           96   \n",
       "\n",
       "        GLAD LULC Stable Tree 2020  TMF undisturbed forest 2020  \\\n",
       "PLOTID                                                            \n",
       "1                               64                            0   \n",
       "2                               55                            0   \n",
       "3                               90                            0   \n",
       "4                               99                            0   \n",
       "5                               88                            0   \n",
       "6                               63                            5   \n",
       "7                               89                           95   \n",
       "8                               83                            0   \n",
       "9                               99                            0   \n",
       "10                              99                           60   \n",
       "11                              98                           31   \n",
       "\n",
       "        Primary Humid Tropical Forest 2020  TMF disturbed forest 2020  \\\n",
       "PLOTID                                                                  \n",
       "1                                        0                         10   \n",
       "2                                        0                         23   \n",
       "3                                        0                         74   \n",
       "4                                        0                          6   \n",
       "5                                        0                         34   \n",
       "6                                        0                         83   \n",
       "7                                       87                          5   \n",
       "8                                        0                          0   \n",
       "9                                        0                         13   \n",
       "10                                       0                         39   \n",
       "11                                       0                         67   \n",
       "\n",
       "       Local RADD alerts  TMF plantation  Oil palm Descals  \\\n",
       "PLOTID                                                       \n",
       "1                   True               0                 0   \n",
       "2                   True               0                 0   \n",
       "3                      -               0                 0   \n",
       "4                      -               0                 0   \n",
       "5                      -               0                 0   \n",
       "6                      -               0                 0   \n",
       "7                   True               0                 0   \n",
       "8                      -             100                98   \n",
       "9                      -               0                 0   \n",
       "10                     -               0                 0   \n",
       "11                     -               0                 0   \n",
       "\n",
       "        FDaP palm plantations  Cocoa plantations Kalischek Protected area  \\\n",
       "PLOTID                                                                      \n",
       "1                           0                            0           True   \n",
       "2                           0                           73           True   \n",
       "3                           0                            0              -   \n",
       "4                           0                            0              -   \n",
       "5                           0                            0              -   \n",
       "6                           0                            0              -   \n",
       "7                           0                            0           True   \n",
       "8                          82                            0              -   \n",
       "9                           4                            0              -   \n",
       "10                         68                            0              -   \n",
       "11                         51                            0              -   \n",
       "\n",
       "       Other Effective area based Conservation Measure Key Biodiversity Area  \n",
       "PLOTID                                                                        \n",
       "1                                                    -                  True  \n",
       "2                                                    -                     -  \n",
       "3                                                    -                     -  \n",
       "4                                                    -                     -  \n",
       "5                                                    -                     -  \n",
       "6                                                    -                     -  \n",
       "7                                                    -                     -  \n",
       "8                                                    -                     -  \n",
       "9                                                    -                     -  \n",
       "10                                                   -                     -  \n",
       "11                                                   -                     -  "
      ]
     },
     "execution_count": 21,
     "metadata": {},
     "output_type": "execute_result"
    }
   ],
   "source": [
    "df[ceo_cols]"
   ]
  },
  {
   "cell_type": "markdown",
   "id": "52a21df9-2ee0-44fc-b80d-ccd4113bb11c",
   "metadata": {
    "tags": []
   },
   "source": [
    "### 8. Generate CEO URL"
   ]
  },
  {
   "cell_type": "markdown",
   "id": "90b6e24d-bfca-4ace-8619-4e9fe42dd1af",
   "metadata": {},
   "source": [
    "https://app.collect.earth/collection?projectId=39849"
   ]
  },
  {
   "cell_type": "markdown",
   "id": "1d5049a9",
   "metadata": {
    "jp-MarkdownHeadingCollapsed": true,
    "tags": []
   },
   "source": [
    "### Logout (protected)"
   ]
  },
  {
   "cell_type": "code",
   "execution_count": 22,
   "id": "d51242cb",
   "metadata": {},
   "outputs": [],
   "source": [
    "# res = session.get(asset_registry_base + \"/logout\")\n",
    "# if debug: print (res.json())\n",
    "# res = session.get(user_registry_base + \"/logout\", cookies=session.cookies)\n",
    "# session.headers.clear()"
   ]
  },
  {
   "cell_type": "markdown",
   "id": "1d7ef7cf",
   "metadata": {
    "jp-MarkdownHeadingCollapsed": true,
    "tags": []
   },
   "source": [
    "### Checking if Logged out correctly"
   ]
  },
  {
   "cell_type": "code",
   "execution_count": 23,
   "id": "d6dee3bc",
   "metadata": {},
   "outputs": [],
   "source": [
    "# # Confirming the logout from Asset Registry by requesting a Protected route\n",
    "# req_body = {\n",
    "#     \"latitude\": 31.47704430446457,\n",
    "#     \"longitude\": 74.37510786779589\n",
    "# }\n",
    "# res = session.post(asset_registry_base + \"/fetch-fields-for-a-point\", json=req_body)\n",
    "# if debug: print (res.json())"
   ]
  },
  {
   "cell_type": "markdown",
   "id": "8a07b78b",
   "metadata": {
    "tags": []
   },
   "source": [
    "### Get all Domains (public)"
   ]
  },
  {
   "cell_type": "code",
   "execution_count": 24,
   "id": "93cf8a1d",
   "metadata": {
    "tags": []
   },
   "outputs": [],
   "source": [
    "# # Fetching all the domains from the User Registry\n",
    "# res = session.get(asset_registry_base + \"/domains\")\n",
    "# if debug: print (res.json())"
   ]
  },
  {
   "cell_type": "code",
   "execution_count": null,
   "id": "f11dedf3-235f-4614-9b51-b986d986692d",
   "metadata": {},
   "outputs": [],
   "source": []
  },
  {
   "cell_type": "code",
   "execution_count": null,
   "id": "f3bbc06b-6bf1-46ad-ad10-a5a10adc47c8",
   "metadata": {},
   "outputs": [],
   "source": []
  }
 ],
 "metadata": {
  "kernelspec": {
   "display_name": "Python 3",
   "language": "python",
   "name": "python3"
  },
  "language_info": {
   "codemirror_mode": {
    "name": "ipython",
    "version": 3
   },
   "file_extension": ".py",
   "mimetype": "text/x-python",
   "name": "python",
   "nbconvert_exporter": "python",
   "pygments_lexer": "ipython3",
   "version": "3.8.10"
  },
  "vscode": {
   "interpreter": {
    "hash": "31f2aee4e71d21fbe5cf8b01ff0e069b9275f58929596ceb00d14d90e3e16cd6"
   }
  }
 },
 "nbformat": 4,
 "nbformat_minor": 5
}
