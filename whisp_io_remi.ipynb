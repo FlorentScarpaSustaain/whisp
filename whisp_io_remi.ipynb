{
 "cells": [
  {
   "cell_type": "markdown",
   "id": "bfe423cf-8bd5-4727-8899-283ab6004221",
   "metadata": {},
   "source": [
    "# Imports/setup"
   ]
  },
  {
   "cell_type": "code",
   "execution_count": 214,
   "id": "8c696e8e-cf8b-4aa0-80e9-fc3a9f87a42b",
   "metadata": {
    "editable": true,
    "scrolled": true,
    "slideshow": {
     "slide_type": ""
    },
    "tags": []
   },
   "outputs": [
    {
     "data": {
      "text/html": [
       "\n",
       "            <style>\n",
       "                .geemap-dark {\n",
       "                    --jp-widgets-color: white;\n",
       "                    --jp-widgets-label-color: white;\n",
       "                    --jp-ui-font-color1: white;\n",
       "                    --jp-layout-color2: #454545;\n",
       "                    background-color: #383838;\n",
       "                }\n",
       "                    \n",
       "                .geemap-dark .jupyter-button {\n",
       "                    --jp-layout-color3: #383838;\n",
       "                }\n",
       "                \n",
       "                .geemap-colab {\n",
       "                    background-color: var(--colab-primary-surface-color, white);\n",
       "                }\n",
       "                    \n",
       "                .geemap-colab .jupyter-button {\n",
       "                    --jp-layout-color3: var(--colab-primary-surface-color, white);\n",
       "                }\n",
       "            </style>\n",
       "            "
      ],
      "text/plain": [
       "<IPython.core.display.HTML object>"
      ]
     },
     "metadata": {},
     "output_type": "display_data"
    }
   ],
   "source": [
    "import ee\n",
    "import os\n",
    "import pandas as pd\n",
    "import geopandas as gpd\n",
    "# import json\n",
    "import geemap\n",
    "import time\n",
    "import functools\n",
    "import os\n",
    "import sys\n",
    "# from datetime import datetime\n",
    "\n",
    "import requests # may not be needed\n",
    "from sidecar import Sidecar\n",
    "\n",
    "from modules.gee_initialize import initialize_ee \n",
    "initialize_ee()\n",
    "\n",
    "from modules.file_to_ceo import get_ceo_url, whisp_stats_shapefile_and_ceo_url\n",
    "from parameters.config_output_naming import (\n",
    "    geo_id_column, \n",
    "    out_file_wide, \n",
    "    out_shapefile\n",
    ")\n",
    "from modules.agstack_to_gee import (\n",
    "    start_agstack_session,\n",
    "    get_agstack_token,\n",
    "    geometry_to_geo_id,\n",
    "    feature_to_geo_id,\n",
    "    geo_id_or_ids_to_feature_collection,\n",
    "    shapefile_to_ee_feature_collection,\n",
    "    register_feature_and_set_geo_id,\n",
    "    register_fc_and_set_geo_id,\n",
    "    register_feature_and_append_to_csv,\n",
    "    register_fc_and_append_to_csv,\n",
    "    add_geo_ids_to_feature_col_from_lookup_df,\n",
    "    add_geo_ids_to_feature_col_from_lookup_csv\n",
    ")\n",
    "\n",
    "from modules.multiband_stats import get_stats,reformat_whisp_fc,get_stats_formatted\n",
    "\n",
    "from parameters.config_asr_url_info import asset_registry_base, user_registry_base\n",
    "\n",
    "from parameters.config_asr_credentials import email, password\n",
    "\n",
    "from modules.utils import (\n",
    "    collection_properties_to_df,\n",
    "    remove_geometry_from_feature_collection,\n",
    "    get_centroid#,\n",
    "    # get_scale_from_image\n",
    ")\n",
    "\n",
    "def whisp_alt_stats_as_df (roi): \n",
    "    %store roi\n",
    "    %run alt_whisp_stats.ipynb   \n",
    "    return df_out\n",
    "   "
   ]
  },
  {
   "cell_type": "markdown",
   "id": "94ee40cf-680f-4baf-92d4-6fed96d2ab9c",
   "metadata": {},
   "source": [
    "##### Set up asset registry"
   ]
  },
  {
   "cell_type": "code",
   "execution_count": 215,
   "id": "fcea483c-9b14-40f3-b049-2a9479e9d509",
   "metadata": {},
   "outputs": [
    {
     "data": {
      "text/html": [
       "\n",
       "            <style>\n",
       "                .geemap-dark {\n",
       "                    --jp-widgets-color: white;\n",
       "                    --jp-widgets-label-color: white;\n",
       "                    --jp-ui-font-color1: white;\n",
       "                    --jp-layout-color2: #454545;\n",
       "                    background-color: #383838;\n",
       "                }\n",
       "                    \n",
       "                .geemap-dark .jupyter-button {\n",
       "                    --jp-layout-color3: #383838;\n",
       "                }\n",
       "                \n",
       "                .geemap-colab {\n",
       "                    background-color: var(--colab-primary-surface-color, white);\n",
       "                }\n",
       "                    \n",
       "                .geemap-colab .jupyter-button {\n",
       "                    --jp-layout-color3: var(--colab-primary-surface-color, white);\n",
       "                }\n",
       "            </style>\n",
       "            "
      ],
      "text/plain": [
       "<IPython.core.display.HTML object>"
      ]
     },
     "metadata": {},
     "output_type": "display_data"
    }
   ],
   "source": [
    "session = start_agstack_session(email,password,user_registry_base)\n",
    "\n",
    "token = get_agstack_token(email, password, asset_registry_base)"
   ]
  },
  {
   "cell_type": "markdown",
   "id": "df2b3487-c87e-4a10-9097-bda251d53ab1",
   "metadata": {},
   "source": [
    "#### Inputs : with GEOIDS"
   ]
  },
  {
   "cell_type": "markdown",
   "id": "cba7b229-05d4-4645-b295-6ac89f2ae3e3",
   "metadata": {},
   "source": [
    "##### Input: list of Geo ids"
   ]
  },
  {
   "cell_type": "code",
   "execution_count": 216,
   "id": "bc075bc0-f321-4e4c-91b6-98effb3abfa2",
   "metadata": {},
   "outputs": [
    {
     "data": {
      "text/html": [
       "\n",
       "            <style>\n",
       "                .geemap-dark {\n",
       "                    --jp-widgets-color: white;\n",
       "                    --jp-widgets-label-color: white;\n",
       "                    --jp-ui-font-color1: white;\n",
       "                    --jp-layout-color2: #454545;\n",
       "                    background-color: #383838;\n",
       "                }\n",
       "                    \n",
       "                .geemap-dark .jupyter-button {\n",
       "                    --jp-layout-color3: #383838;\n",
       "                }\n",
       "                \n",
       "                .geemap-colab {\n",
       "                    background-color: var(--colab-primary-surface-color, white);\n",
       "                }\n",
       "                    \n",
       "                .geemap-colab .jupyter-button {\n",
       "                    --jp-layout-color3: var(--colab-primary-surface-color, white);\n",
       "                }\n",
       "            </style>\n",
       "            "
      ],
      "text/plain": [
       "<IPython.core.display.HTML object>"
      ]
     },
     "metadata": {},
     "output_type": "display_data"
    }
   ],
   "source": [
    "example_ids = ['88bec54ad04804f5b1fafbc131266640a129be2840fa6797cda358d7e831b907']\n",
    "\n",
    "GHA_ids = ['88bec54ad04804f5b1fafbc131266640a129be2840fa6797cda358d7e831b907', \n",
    "        '97408ef7bdac487e4a42e4abf20492b786310889fd4b0478603e2d0004c40bfb']\n",
    "\n",
    "IDN_ids = ['c288d6c94efa9011c0e3452af9f7fa0941661377030e10d29c68764617f9816d', \n",
    "       '8e2accea7ddbb84b7f6001e00bcb60f57f563c80633b53859993522a6f05727a']\n",
    "\n",
    "CIV_ids = ['0520cfac98fbc1bd7952b1c07a9f6983b83625722b6f665ea83ac9aad3512918',\n",
    "            'fa2aff0d60cf1bc0e1f1dd4b91daf932940c31c021ca1b84f5b9445855eef02f']\n",
    "\n",
    "all_geo_ids= GHA_ids + IDN_ids + CIV_ids\n",
    "#all_geo_ids= example_ids"
   ]
  },
  {
   "cell_type": "code",
   "execution_count": 217,
   "id": "1d374bd2-850a-44a9-881e-b095629a73d7",
   "metadata": {},
   "outputs": [
    {
     "data": {
      "text/html": [
       "\n",
       "            <style>\n",
       "                .geemap-dark {\n",
       "                    --jp-widgets-color: white;\n",
       "                    --jp-widgets-label-color: white;\n",
       "                    --jp-ui-font-color1: white;\n",
       "                    --jp-layout-color2: #454545;\n",
       "                    background-color: #383838;\n",
       "                }\n",
       "                    \n",
       "                .geemap-dark .jupyter-button {\n",
       "                    --jp-layout-color3: #383838;\n",
       "                }\n",
       "                \n",
       "                .geemap-colab {\n",
       "                    background-color: var(--colab-primary-surface-color, white);\n",
       "                }\n",
       "                    \n",
       "                .geemap-colab .jupyter-button {\n",
       "                    --jp-layout-color3: var(--colab-primary-surface-color, white);\n",
       "                }\n",
       "            </style>\n",
       "            "
      ],
      "text/plain": [
       "<IPython.core.display.HTML object>"
      ]
     },
     "metadata": {},
     "output_type": "display_data"
    }
   ],
   "source": [
    "#make into a feature collection\n",
    "roi_geoid = geo_id_or_ids_to_feature_collection(\n",
    "    all_geo_ids=all_geo_ids, \n",
    "    geo_id_column=geo_id_column, \n",
    "    session=session)"
   ]
  },
  {
   "cell_type": "markdown",
   "id": "7df79006-43ec-402a-9473-b2c17b1614ae",
   "metadata": {},
   "source": [
    "#### Inputs : without GEOIDS"
   ]
  },
  {
   "cell_type": "markdown",
   "id": "0793b6c2-0f6d-4dc4-9dd9-d8f6bb6d3743",
   "metadata": {},
   "source": [
    "##### Input: GEE asset (feature collection) "
   ]
  },
  {
   "cell_type": "code",
   "execution_count": 218,
   "id": "354afea9-eb94-4fd9-9469-eddd3a3487d6",
   "metadata": {
    "editable": true,
    "scrolled": true,
    "slideshow": {
     "slide_type": ""
    },
    "tags": []
   },
   "outputs": [
    {
     "data": {
      "text/html": [
       "\n",
       "            <style>\n",
       "                .geemap-dark {\n",
       "                    --jp-widgets-color: white;\n",
       "                    --jp-widgets-label-color: white;\n",
       "                    --jp-ui-font-color1: white;\n",
       "                    --jp-layout-color2: #454545;\n",
       "                    background-color: #383838;\n",
       "                }\n",
       "                    \n",
       "                .geemap-dark .jupyter-button {\n",
       "                    --jp-layout-color3: #383838;\n",
       "                }\n",
       "                \n",
       "                .geemap-colab {\n",
       "                    background-color: var(--colab-primary-surface-color, white);\n",
       "                }\n",
       "                    \n",
       "                .geemap-colab .jupyter-button {\n",
       "                    --jp-layout-color3: var(--colab-primary-surface-color, white);\n",
       "                }\n",
       "            </style>\n",
       "            "
      ],
      "text/plain": [
       "<IPython.core.display.HTML object>"
      ]
     },
     "metadata": {},
     "output_type": "display_data"
    }
   ],
   "source": [
    "example_plot_feature_col_asset = 'projects/ee-andyarnellgee/assets/p0004_commodity_mapper_support/seg_civ_PCBM'\n",
    "#\"projects/fdap-remi/assets/seg_civ_scoopac\"\n",
    "# example_plot_feature_col_asset = \"projects/fdap-remi/assets/seg_civ_coopara\"\n",
    "# Define the fraction of features you want to sample (e.g., 0.5 for 50%)\n",
    "sampleFraction = 0.0010"
   ]
  },
  {
   "cell_type": "code",
   "execution_count": 219,
   "id": "510d25ad-fb8c-4735-8953-87371dc415eb",
   "metadata": {
    "editable": true,
    "slideshow": {
     "slide_type": ""
    },
    "tags": []
   },
   "outputs": [
    {
     "data": {
      "text/html": [
       "\n",
       "            <style>\n",
       "                .geemap-dark {\n",
       "                    --jp-widgets-color: white;\n",
       "                    --jp-widgets-label-color: white;\n",
       "                    --jp-ui-font-color1: white;\n",
       "                    --jp-layout-color2: #454545;\n",
       "                    background-color: #383838;\n",
       "                }\n",
       "                    \n",
       "                .geemap-dark .jupyter-button {\n",
       "                    --jp-layout-color3: #383838;\n",
       "                }\n",
       "                \n",
       "                .geemap-colab {\n",
       "                    background-color: var(--colab-primary-surface-color, white);\n",
       "                }\n",
       "                    \n",
       "                .geemap-colab .jupyter-button {\n",
       "                    --jp-layout-color3: var(--colab-primary-surface-color, white);\n",
       "                }\n",
       "            </style>\n",
       "            "
      ],
      "text/plain": [
       "<IPython.core.display.HTML object>"
      ]
     },
     "metadata": {},
     "output_type": "display_data"
    },
    {
     "data": {
      "text/html": [
       "<div><style>:root {\n",
       "  --font-color-primary: var(--jp-content-font-color0, rgba(0, 0, 0, 1));\n",
       "  --font-color-secondary: var(--jp-content-font-color2, rgba(0, 0, 0, 0.6));\n",
       "  --font-color-accent: rgba(123, 31, 162, 1);\n",
       "  --border-color: var(--jp-border-color2, #e0e0e0);\n",
       "  --background-color: var(--jp-layout-color0, white);\n",
       "  --background-color-row-even: var(--jp-layout-color1, white);\n",
       "  --background-color-row-odd: var(--jp-layout-color2, #eeeeee);\n",
       "}\n",
       "\n",
       "html[theme=\"dark\"],\n",
       "body[data-theme=\"dark\"],\n",
       "body.vscode-dark {\n",
       "  --font-color-primary: rgba(255, 255, 255, 1);\n",
       "  --font-color-secondary: rgba(255, 255, 255, 0.6);\n",
       "  --font-color-accent: rgb(173, 132, 190);\n",
       "  --border-color: #2e2e2e;\n",
       "  --background-color: #111111;\n",
       "  --background-color-row-even: #111111;\n",
       "  --background-color-row-odd: #313131;\n",
       "}\n",
       "\n",
       ".ee {\n",
       "  padding: 1em;\n",
       "  line-height: 1.5em;\n",
       "  min-width: 300px;\n",
       "  max-width: 1200px;\n",
       "  overflow-y: scroll;\n",
       "  max-height: 600px;\n",
       "  border: 1px solid var(--border-color);\n",
       "  font-family: monospace;\n",
       "}\n",
       "\n",
       ".ee li {\n",
       "  list-style-type: none;\n",
       "}\n",
       "\n",
       ".ee ul {\n",
       "  padding-left: 1.5em !important;\n",
       "  margin: 0;\n",
       "}\n",
       "\n",
       ".ee > ul {\n",
       "  padding-left: 0 !important;\n",
       "}\n",
       "\n",
       ".ee-open,\n",
       ".ee-shut {\n",
       "  color: var(--font-color-secondary);\n",
       "  cursor: pointer;\n",
       "  margin: 0;\n",
       "}\n",
       "\n",
       ".ee-open:hover,\n",
       ".ee-shut:hover {\n",
       "  color: var(--font-color-primary);\n",
       "}\n",
       "\n",
       ".ee-k {\n",
       "  color: var(--font-color-accent);\n",
       "  margin-right: 6px;\n",
       "}\n",
       "\n",
       ".ee-v {\n",
       "  color: var(--font-color-primary);\n",
       "}\n",
       "\n",
       ".ee-toggle {\n",
       "  display: none;\n",
       "}\n",
       "\n",
       ".ee-shut + ul {\n",
       "  display: none;\n",
       "}\n",
       "\n",
       ".ee-open + ul {\n",
       "  display: block;\n",
       "}\n",
       "\n",
       ".ee-shut::before {\n",
       "  display: inline-block;\n",
       "  content: \"▼\";\n",
       "  margin-right: 6px;\n",
       "  transform: rotate(-90deg);\n",
       "  transition: transform 0.2s;\n",
       "}\n",
       "\n",
       ".ee-open::before {\n",
       "  transform: rotate(0deg);\n",
       "  display: inline-block;\n",
       "  content: \"▼\";\n",
       "  margin-right: 6px;\n",
       "  transition: transform 0.2s;\n",
       "}\n",
       "</style><div class='ee'><ul><li><label class='ee-shut'>FeatureCollection (7 elements, 4 columns)<input type='checkbox' class='ee-toggle'></label><ul><li><span class='ee-k'>type:</span><span class='ee-v'>FeatureCollection</span></li><li><label class='ee-shut'>columns: Object (4 properties)<input type='checkbox' class='ee-toggle'></label><ul><li><span class='ee-k'>count:</span><span class='ee-v'>Long</span></li><li><span class='ee-k'>label:</span><span class='ee-v'>Long</span></li><li><span class='ee-k'>random:</span><span class='ee-v'><any></span></li><li><span class='ee-k'>system:index:</span><span class='ee-v'>String</span></li></ul></li><li><label class='ee-shut'>features: List (7 elements)<input type='checkbox' class='ee-toggle'></label><ul><li><label class='ee-shut'>0: Feature (Polygon, 3 properties)<input type='checkbox' class='ee-toggle'></label><ul><li><span class='ee-k'>type:</span><span class='ee-v'>Feature</span></li><li><span class='ee-k'>id:</span><span class='ee-v'>000000000000000007b6</span></li><li><label class='ee-shut'>geometry: Polygon (17 vertices)<input type='checkbox' class='ee-toggle'></label><ul><li><span class='ee-k'>type:</span><span class='ee-v'>Polygon</span></li><li><label class='ee-shut'>coordinates: List (1 element)<input type='checkbox' class='ee-toggle'></label><ul><li><label class='ee-shut'>0: List (17 elements)<input type='checkbox' class='ee-toggle'></label><ul><li><label class='ee-shut'>0: [-3.695310581382507, 6.108723163925285]<input type='checkbox' class='ee-toggle'></label><ul><li><span class='ee-k'>0:</span><span class='ee-v'>-3.695310581382507</span></li><li><span class='ee-k'>1:</span><span class='ee-v'>6.108723163925285</span></li></ul></li><li><label class='ee-shut'>1: [-3.695310581382507, 6.108995210944058]<input type='checkbox' class='ee-toggle'></label><ul><li><span class='ee-k'>0:</span><span class='ee-v'>-3.695310581382507</span></li><li><span class='ee-k'>1:</span><span class='ee-v'>6.108995210944058</span></li></ul></li><li><label class='ee-shut'>2: [-3.695488940176382, 6.10899520252665]<input type='checkbox' class='ee-toggle'></label><ul><li><span class='ee-k'>0:</span><span class='ee-v'>-3.695488940176382</span></li><li><span class='ee-k'>1:</span><span class='ee-v'>6.10899520252665</span></li></ul></li><li><label class='ee-shut'>3: [-3.695488940176382, 6.10872315555595]<input type='checkbox' class='ee-toggle'></label><ul><li><span class='ee-k'>0:</span><span class='ee-v'>-3.695488940176382</span></li><li><span class='ee-k'>1:</span><span class='ee-v'>6.10872315555595</span></li></ul></li><li><label class='ee-shut'>4: [-3.69585007221199, 6.108723189169731]<input type='checkbox' class='ee-toggle'></label><ul><li><span class='ee-k'>0:</span><span class='ee-v'>-3.69585007221199</span></li><li><span class='ee-k'>1:</span><span class='ee-v'>6.108723189169731</span></li></ul></li><li><label class='ee-shut'>5: [-3.69585007221199, 6.1085448381230805]<input type='checkbox' class='ee-toggle'></label><ul><li><span class='ee-k'>0:</span><span class='ee-v'>-3.69585007221199</span></li><li><span class='ee-k'>1:</span><span class='ee-v'>6.1085448381230805</span></li></ul></li><li><label class='ee-shut'>6: [-3.695760892099828, 6.10854480201336]<input type='checkbox' class='ee-toggle'></label><ul><li><span class='ee-k'>0:</span><span class='ee-v'>-3.695760892099828</span></li><li><span class='ee-k'>1:</span><span class='ee-v'>6.10854480201336</span></li></ul></li><li><label class='ee-shut'>7: [-3.695760892099828, 6.1084556266771255]<input type='checkbox' class='ee-toggle'></label><ul><li><span class='ee-k'>0:</span><span class='ee-v'>-3.695760892099828</span></li><li><span class='ee-k'>1:</span><span class='ee-v'>6.1084556266771255</span></li></ul></li><li><label class='ee-shut'>8: [-3.69585007221199, 6.108455662794669]<input type='checkbox' class='ee-toggle'></label><ul><li><span class='ee-k'>0:</span><span class='ee-v'>-3.69585007221199</span></li><li><span class='ee-k'>1:</span><span class='ee-v'>6.108455662794669</span></li></ul></li><li><label class='ee-shut'>9: [-3.69585007221199, 6.1083664875962]<input type='checkbox' class='ee-toggle'></label><ul><li><span class='ee-k'>0:</span><span class='ee-v'>-3.69585007221199</span></li><li><span class='ee-k'>1:</span><span class='ee-v'>6.1083664875962</span></li></ul></li><li><label class='ee-shut'>10: [-3.6959392524813612, 6.108366443004211]<input type='checkbox' class='ee-toggle'></label><ul><li><span class='ee-k'>0:</span><span class='ee-v'>-3.6959392524813612</span></li><li><span class='ee-k'>1:</span><span class='ee-v'>6.108366443004211</span></li></ul></li><li><label class='ee-shut'>11: [-3.6959392524813612, 6.108272829369342]<input type='checkbox' class='ee-toggle'></label><ul><li><span class='ee-k'>0:</span><span class='ee-v'>-3.6959392524813612</span></li><li><span class='ee-k'>1:</span><span class='ee-v'>6.108272829369342</span></li></ul></li><li><label class='ee-shut'>12: [-3.695310581382507, 6.108272848468195]<input type='checkbox' class='ee-toggle'></label><ul><li><span class='ee-k'>0:</span><span class='ee-v'>-3.695310581382507</span></li><li><span class='ee-k'>1:</span><span class='ee-v'>6.108272848468195</span></li></ul></li><li><label class='ee-shut'>13: [-3.695310581382507, 6.108455637407433]<input type='checkbox' class='ee-toggle'></label><ul><li><span class='ee-k'>0:</span><span class='ee-v'>-3.695310581382507</span></li><li><span class='ee-k'>1:</span><span class='ee-v'>6.108455637407433</span></li></ul></li><li><label class='ee-shut'>14: [-3.695221402221388, 6.108455681895469]<input type='checkbox' class='ee-toggle'></label><ul><li><span class='ee-k'>0:</span><span class='ee-v'>-3.695221402221388</span></li><li><span class='ee-k'>1:</span><span class='ee-v'>6.108455681895469</span></li></ul></li><li><label class='ee-shut'>15: [-3.695221402221388, 6.1087232084371355]<input type='checkbox' class='ee-toggle'></label><ul><li><span class='ee-k'>0:</span><span class='ee-v'>-3.695221402221388</span></li><li><span class='ee-k'>1:</span><span class='ee-v'>6.1087232084371355</span></li></ul></li><li><label class='ee-shut'>16: [-3.695310581382507, 6.108723163925285]<input type='checkbox' class='ee-toggle'></label><ul><li><span class='ee-k'>0:</span><span class='ee-v'>-3.695310581382507</span></li><li><span class='ee-k'>1:</span><span class='ee-v'>6.108723163925285</span></li></ul></li></ul></li></ul></li></ul></li><li><label class='ee-shut'>properties: Object (3 properties)<input type='checkbox' class='ee-toggle'></label><ul><li><span class='ee-k'>count:</span><span class='ee-v'>39</span></li><li><span class='ee-k'>label:</span><span class='ee-v'>267000120</span></li><li><span class='ee-k'>random:</span><span class='ee-v'>0.0007334917016467157</span></li></ul></li></ul></li><li><label class='ee-shut'>1: Feature (Polygon, 3 properties)<input type='checkbox' class='ee-toggle'></label><ul><li><span class='ee-k'>type:</span><span class='ee-v'>Feature</span></li><li><span class='ee-k'>id:</span><span class='ee-v'>00000000000000000121</span></li><li><label class='ee-shut'>geometry: Polygon (29 vertices)<input type='checkbox' class='ee-toggle'></label><ul><li><span class='ee-k'>type:</span><span class='ee-v'>Polygon</span></li><li><label class='ee-shut'>coordinates: List (1 element)<input type='checkbox' class='ee-toggle'></label><ul><li><label class='ee-shut'>0: List (29 elements)<input type='checkbox' class='ee-toggle'></label><ul><li><label class='ee-shut'>0: [-3.649404133303529, 6.038652851102309]<input type='checkbox' class='ee-toggle'></label><ul><li><span class='ee-k'>0:</span><span class='ee-v'>-3.649404133303529</span></li><li><span class='ee-k'>1:</span><span class='ee-v'>6.038652851102309</span></li></ul></li><li><label class='ee-shut'>1: [-3.649404133303529, 6.03847453535602]<input type='checkbox' class='ee-toggle'></label><ul><li><span class='ee-k'>0:</span><span class='ee-v'>-3.649404133303529</span></li><li><span class='ee-k'>1:</span><span class='ee-v'>6.03847453535602</span></li></ul></li><li><label class='ee-shut'>2: [-3.649765322633696, 6.038474543680723]<input type='checkbox' class='ee-toggle'></label><ul><li><span class='ee-k'>0:</span><span class='ee-v'>-3.649765322633696</span></li><li><span class='ee-k'>1:</span><span class='ee-v'>6.038474543680723</span></li></ul></li><li><label class='ee-shut'>3: [-3.649765322633696, 6.038385305422403]<input type='checkbox' class='ee-toggle'></label><ul><li><span class='ee-k'>0:</span><span class='ee-v'>-3.649765322633696</span></li><li><span class='ee-k'>1:</span><span class='ee-v'>6.038385305422403</span></li></ul></li><li><label class='ee-shut'>4: [-3.649676146526352, 6.038385336180648]<input type='checkbox' class='ee-toggle'></label><ul><li><span class='ee-k'>0:</span><span class='ee-v'>-3.649676146526352</span></li><li><span class='ee-k'>1:</span><span class='ee-v'>6.038385336180648</span></li></ul></li><li><label class='ee-shut'>5: [-3.649676146526352, 6.038296178657889]<input type='checkbox' class='ee-toggle'></label><ul><li><span class='ee-k'>0:</span><span class='ee-v'>-3.649676146526352</span></li><li><span class='ee-k'>1:</span><span class='ee-v'>6.038296178657889</span></li></ul></li><li><label class='ee-shut'>6: [-3.6495868932342894, 6.038296129296148]<input type='checkbox' class='ee-toggle'></label><ul><li><span class='ee-k'>0:</span><span class='ee-v'>-3.6495868932342894</span></li><li><span class='ee-k'>1:</span><span class='ee-v'>6.038296129296148</span></li></ul></li><li><label class='ee-shut'>7: [-3.6495868932342894, 6.038206971896311]<input type='checkbox' class='ee-toggle'></label><ul><li><span class='ee-k'>0:</span><span class='ee-v'>-3.6495868932342894</span></li><li><span class='ee-k'>1:</span><span class='ee-v'>6.038206971896311</span></li></ul></li><li><label class='ee-shut'>8: [-3.649497717442596, 6.038207002607518]<input type='checkbox' class='ee-toggle'></label><ul><li><span class='ee-k'>0:</span><span class='ee-v'>-3.649497717442596</span></li><li><span class='ee-k'>1:</span><span class='ee-v'>6.038207002607518</span></li></ul></li><li><label class='ee-shut'>9: [-3.649497717442596, 6.038117764718186]<input type='checkbox' class='ee-toggle'></label><ul><li><span class='ee-k'>0:</span><span class='ee-v'>-3.649497717442596</span></li><li><span class='ee-k'>1:</span><span class='ee-v'>6.038117764718186</span></li></ul></li><li><label class='ee-shut'>10: [-3.6491365300298977, 6.038117756076766]<input type='checkbox' class='ee-toggle'></label><ul><li><span class='ee-k'>0:</span><span class='ee-v'>-3.6491365300298977</span></li><li><span class='ee-k'>1:</span><span class='ee-v'>6.038117756076766</span></li></ul></li><li><label class='ee-shut'>11: [-3.6491365300298977, 6.037756613885321]<input type='checkbox' class='ee-toggle'></label><ul><li><span class='ee-k'>0:</span><span class='ee-v'>-3.6491365300298977</span></li><li><span class='ee-k'>1:</span><span class='ee-v'>6.037756613885321</span></li></ul></li><li><label class='ee-shut'>12: [-3.6492257051826176, 6.03775658327716]<input type='checkbox' class='ee-toggle'></label><ul><li><span class='ee-k'>0:</span><span class='ee-v'>-3.6492257051826176</span></li><li><span class='ee-k'>1:</span><span class='ee-v'>6.03775658327716</span></li></ul></li><li><label class='ee-shut'>13: [-3.6492257051826176, 6.037578270126247]<input type='checkbox' class='ee-toggle'></label><ul><li><span class='ee-k'>0:</span><span class='ee-v'>-3.6492257051826176</span></li><li><span class='ee-k'>1:</span><span class='ee-v'>6.037578270126247</span></li></ul></li><li><label class='ee-shut'>14: [-3.6491365300298977, 6.0375782201071315]<input type='checkbox' class='ee-toggle'></label><ul><li><span class='ee-k'>0:</span><span class='ee-v'>-3.6491365300298977</span></li><li><span class='ee-k'>1:</span><span class='ee-v'>6.0375782201071315</span></li></ul></li><li><label class='ee-shut'>15: [-3.6491365300298977, 6.037489063719921]<input type='checkbox' class='ee-toggle'></label><ul><li><span class='ee-k'>0:</span><span class='ee-v'>-3.6491365300298977</span></li><li><span class='ee-k'>1:</span><span class='ee-v'>6.037489063719921</span></li></ul></li><li><label class='ee-shut'>16: [-3.6489581801977375, 6.037489044230722]<input type='checkbox' class='ee-toggle'></label><ul><li><span class='ee-k'>0:</span><span class='ee-v'>-3.6489581801977375</span></li><li><span class='ee-k'>1:</span><span class='ee-v'>6.037489044230722</span></li></ul></li><li><label class='ee-shut'>17: [-3.6489581801977375, 6.037395373720475]<input type='checkbox' class='ee-toggle'></label><ul><li><span class='ee-k'>0:</span><span class='ee-v'>-3.6489581801977375</span></li><li><span class='ee-k'>1:</span><span class='ee-v'>6.037395373720475</span></li></ul></li><li><label class='ee-shut'>18: [-3.648869005518301, 6.037395404249892]<input type='checkbox' class='ee-toggle'></label><ul><li><span class='ee-k'>0:</span><span class='ee-v'>-3.648869005518301</span></li><li><span class='ee-k'>1:</span><span class='ee-v'>6.037395404249892</span></li></ul></li><li><label class='ee-shut'>19: [-3.648869005518301, 6.037217011484035]<input type='checkbox' class='ee-toggle'></label><ul><li><span class='ee-k'>0:</span><span class='ee-v'>-3.648869005518301</span></li><li><span class='ee-k'>1:</span><span class='ee-v'>6.037217011484035</span></li></ul></li><li><label class='ee-shut'>20: [-3.648775345205251, 6.037217071901067]<input type='checkbox' class='ee-toggle'></label><ul><li><span class='ee-k'>0:</span><span class='ee-v'>-3.648775345205251</span></li><li><span class='ee-k'>1:</span><span class='ee-v'>6.037217071901067</span></li></ul></li><li><label class='ee-shut'>21: [-3.648775345205251, 6.037845761669769]<input type='checkbox' class='ee-toggle'></label><ul><li><span class='ee-k'>0:</span><span class='ee-v'>-3.648775345205251</span></li><li><span class='ee-k'>1:</span><span class='ee-v'>6.037845761669769</span></li></ul></li><li><label class='ee-shut'>22: [-3.648869005518301, 6.03784578180648]<input type='checkbox' class='ee-toggle'></label><ul><li><span class='ee-k'>0:</span><span class='ee-v'>-3.648869005518301</span></li><li><span class='ee-k'>1:</span><span class='ee-v'>6.03784578180648</span></li></ul></li><li><label class='ee-shut'>23: [-3.648869005518301, 6.038474478013714]<input type='checkbox' class='ee-toggle'></label><ul><li><span class='ee-k'>0:</span><span class='ee-v'>-3.648869005518301</span></li><li><span class='ee-k'>1:</span><span class='ee-v'>6.038474478013714</span></li></ul></li><li><label class='ee-shut'>24: [-3.6489581801977375, 6.0384745280023955]<input type='checkbox' class='ee-toggle'></label><ul><li><span class='ee-k'>0:</span><span class='ee-v'>-3.6489581801977375</span></li><li><span class='ee-k'>1:</span><span class='ee-v'>6.0384745280023955</span></li></ul></li><li><label class='ee-shut'>25: [-3.6489581801977375, 6.03856368584913]<input type='checkbox' class='ee-toggle'></label><ul><li><span class='ee-k'>0:</span><span class='ee-v'>-3.6489581801977375</span></li><li><span class='ee-k'>1:</span><span class='ee-v'>6.03856368584913</span></li></ul></li><li><label class='ee-shut'>26: [-3.6493149578351547, 6.038563723874236]<input type='checkbox' class='ee-toggle'></label><ul><li><span class='ee-k'>0:</span><span class='ee-v'>-3.6493149578351547</span></li><li><span class='ee-k'>1:</span><span class='ee-v'>6.038563723874236</span></li></ul></li><li><label class='ee-shut'>27: [-3.6493149578351547, 6.03865288182053]<input type='checkbox' class='ee-toggle'></label><ul><li><span class='ee-k'>0:</span><span class='ee-v'>-3.6493149578351547</span></li><li><span class='ee-k'>1:</span><span class='ee-v'>6.03865288182053</span></li></ul></li><li><label class='ee-shut'>28: [-3.649404133303529, 6.038652851102309]<input type='checkbox' class='ee-toggle'></label><ul><li><span class='ee-k'>0:</span><span class='ee-v'>-3.649404133303529</span></li><li><span class='ee-k'>1:</span><span class='ee-v'>6.038652851102309</span></li></ul></li></ul></li></ul></li></ul></li><li><label class='ee-shut'>properties: Object (3 properties)<input type='checkbox' class='ee-toggle'></label><ul><li><span class='ee-k'>count:</span><span class='ee-v'>71</span></li><li><span class='ee-k'>label:</span><span class='ee-v'>-1815148569</span></li><li><span class='ee-k'>random:</span><span class='ee-v'>0.0004466116100118045</span></li></ul></li></ul></li><li><label class='ee-shut'>2: Feature (Polygon, 3 properties)<input type='checkbox' class='ee-toggle'></label><ul><li><span class='ee-k'>type:</span><span class='ee-v'>Feature</span></li><li><span class='ee-k'>id:</span><span class='ee-v'>00000000000000000df1</span></li><li><label class='ee-shut'>geometry: Polygon (69 vertices)<input type='checkbox' class='ee-toggle'></label><ul><li><span class='ee-k'>type:</span><span class='ee-v'>Polygon</span></li><li><label class='ee-shut'>coordinates: List (1 element)<input type='checkbox' class='ee-toggle'></label><ul><li><label class='ee-shut'>0: List (69 elements)<input type='checkbox' class='ee-toggle'></label><ul><li><label class='ee-shut'>0: [-3.588858427184418, 6.113213542786749]<input type='checkbox' class='ee-toggle'></label><ul><li><span class='ee-k'>0:</span><span class='ee-v'>-3.588858427184418</span></li><li><span class='ee-k'>1:</span><span class='ee-v'>6.113213542786749</span></li></ul></li><li><label class='ee-shut'>1: [-3.589041276214714, 6.113213539158733]<input type='checkbox' class='ee-toggle'></label><ul><li><span class='ee-k'>0:</span><span class='ee-v'>-3.589041276214714</span></li><li><span class='ee-k'>1:</span><span class='ee-v'>6.113213539158733</span></li></ul></li><li><label class='ee-shut'>2: [-3.589041276214714, 6.11339636180771]<input type='checkbox' class='ee-toggle'></label><ul><li><span class='ee-k'>0:</span><span class='ee-v'>-3.589041276214714</span></li><li><span class='ee-k'>1:</span><span class='ee-v'>6.11339636180771</span></li></ul></li><li><label class='ee-shut'>3: [-3.5891304221179343, 6.113396334730402]<input type='checkbox' class='ee-toggle'></label><ul><li><span class='ee-k'>0:</span><span class='ee-v'>-3.5891304221179343</span></li><li><span class='ee-k'>1:</span><span class='ee-v'>6.113396334730402</span></li></ul></li><li><label class='ee-shut'>4: [-3.5891304221179343, 6.11348552654429]<input type='checkbox' class='ee-toggle'></label><ul><li><span class='ee-k'>0:</span><span class='ee-v'>-3.5891304221179343</span></li><li><span class='ee-k'>1:</span><span class='ee-v'>6.11348552654429</span></li></ul></li><li><label class='ee-shut'>5: [-3.5892196454292336, 6.1134854989303475]<input type='checkbox' class='ee-toggle'></label><ul><li><span class='ee-k'>0:</span><span class='ee-v'>-3.5892196454292336</span></li><li><span class='ee-k'>1:</span><span class='ee-v'>6.1134854989303475</span></li></ul></li><li><label class='ee-shut'>6: [-3.5892196454292336, 6.113307115447877]<input type='checkbox' class='ee-toggle'></label><ul><li><span class='ee-k'>0:</span><span class='ee-v'>-3.5892196454292336</span></li><li><span class='ee-k'>1:</span><span class='ee-v'>6.113307115447877</span></li></ul></li><li><label class='ee-shut'>7: [-3.589398015277868, 6.1133071414326405]<input type='checkbox' class='ee-toggle'></label><ul><li><span class='ee-k'>0:</span><span class='ee-v'>-3.589398015277868</span></li><li><span class='ee-k'>1:</span><span class='ee-v'>6.1133071414326405</span></li></ul></li><li><label class='ee-shut'>8: [-3.589398015277868, 6.113842212630477]<input type='checkbox' class='ee-toggle'></label><ul><li><span class='ee-k'>0:</span><span class='ee-v'>-3.589398015277868</span></li><li><span class='ee-k'>1:</span><span class='ee-v'>6.113842212630477</span></li></ul></li><li><label class='ee-shut'>9: [-3.5893087916493736, 6.113842240306914]<input type='checkbox' class='ee-toggle'></label><ul><li><span class='ee-k'>0:</span><span class='ee-v'>-3.5893087916493736</span></li><li><span class='ee-k'>1:</span><span class='ee-v'>6.113842240306914</span></li></ul></li><li><label class='ee-shut'>10: [-3.5893087916493736, 6.113935872201547]<input type='checkbox' class='ee-toggle'></label><ul><li><span class='ee-k'>0:</span><span class='ee-v'>-3.5893087916493736</span></li><li><span class='ee-k'>1:</span><span class='ee-v'>6.113935872201547</span></li></ul></li><li><label class='ee-shut'>11: [-3.589041276214714, 6.113935873416391]<input type='checkbox' class='ee-toggle'></label><ul><li><span class='ee-k'>0:</span><span class='ee-v'>-3.589041276214714</span></li><li><span class='ee-k'>1:</span><span class='ee-v'>6.113935873416391</span></li></ul></li><li><label class='ee-shut'>12: [-3.589041276214714, 6.114114258761201]<input type='checkbox' class='ee-toggle'></label><ul><li><span class='ee-k'>0:</span><span class='ee-v'>-3.589041276214714</span></li><li><span class='ee-k'>1:</span><span class='ee-v'>6.114114258761201</span></li></ul></li><li><label class='ee-shut'>13: [-3.5891304221179343, 6.114114231622046]<input type='checkbox' class='ee-toggle'></label><ul><li><span class='ee-k'>0:</span><span class='ee-v'>-3.5891304221179343</span></li><li><span class='ee-k'>1:</span><span class='ee-v'>6.114114231622046</span></li></ul></li><li><label class='ee-shut'>14: [-3.5891304221179343, 6.114471003839949]<input type='checkbox' class='ee-toggle'></label><ul><li><span class='ee-k'>0:</span><span class='ee-v'>-3.5891304221179343</span></li><li><span class='ee-k'>1:</span><span class='ee-v'>6.114471003839949</span></li></ul></li><li><label class='ee-shut'>15: [-3.589576385760608, 6.1144709469309735]<input type='checkbox' class='ee-toggle'></label><ul><li><span class='ee-k'>0:</span><span class='ee-v'>-3.589576385760608</span></li><li><span class='ee-k'>1:</span><span class='ee-v'>6.1144709469309735</span></li></ul></li><li><label class='ee-shut'>16: [-3.589576385760608, 6.11438175371995]<input type='checkbox' class='ee-toggle'></label><ul><li><span class='ee-k'>0:</span><span class='ee-v'>-3.589576385760608</span></li><li><span class='ee-k'>1:</span><span class='ee-v'>6.11438175371995</span></li></ul></li><li><label class='ee-shut'>17: [-3.589670013136556, 6.114381777411913]<input type='checkbox' class='ee-toggle'></label><ul><li><span class='ee-k'>0:</span><span class='ee-v'>-3.589670013136556</span></li><li><span class='ee-k'>1:</span><span class='ee-v'>6.114381777411913</span></li></ul></li><li><label class='ee-shut'>18: [-3.589670013136556, 6.114292584338803]<input type='checkbox' class='ee-toggle'></label><ul><li><span class='ee-k'>0:</span><span class='ee-v'>-3.589670013136556</span></li><li><span class='ee-k'>1:</span><span class='ee-v'>6.114292584338803</span></li></ul></li><li><label class='ee-shut'>19: [-3.589576385760608, 6.1142926413565]<input type='checkbox' class='ee-toggle'></label><ul><li><span class='ee-k'>0:</span><span class='ee-v'>-3.589576385760608</span></li><li><span class='ee-k'>1:</span><span class='ee-v'>6.1142926413565</span></li></ul></li><li><label class='ee-shut'>20: [-3.589576385760608, 6.114203448405195]<input type='checkbox' class='ee-toggle'></label><ul><li><span class='ee-k'>0:</span><span class='ee-v'>-3.589576385760608</span></li><li><span class='ee-k'>1:</span><span class='ee-v'>6.114203448405195</span></li></ul></li><li><label class='ee-shut'>21: [-3.589670013136556, 6.114203391395605]<input type='checkbox' class='ee-toggle'></label><ul><li><span class='ee-k'>0:</span><span class='ee-v'>-3.589670013136556</span></li><li><span class='ee-k'>1:</span><span class='ee-v'>6.114203391395605</span></li></ul></li><li><label class='ee-shut'>22: [-3.589670013136556, 6.11402508661627]<input type='checkbox' class='ee-toggle'></label><ul><li><span class='ee-k'>0:</span><span class='ee-v'>-3.589670013136556</span></li><li><span class='ee-k'>1:</span><span class='ee-v'>6.11402508661627</span></li></ul></li><li><label class='ee-shut'>23: [-3.589759160156876, 6.114025059373029]<input type='checkbox' class='ee-toggle'></label><ul><li><span class='ee-k'>0:</span><span class='ee-v'>-3.589759160156876</span></li><li><span class='ee-k'>1:</span><span class='ee-v'>6.114025059373029</span></li></ul></li><li><label class='ee-shut'>24: [-3.589759160156876, 6.11393586682716]<input type='checkbox' class='ee-toggle'></label><ul><li><span class='ee-k'>0:</span><span class='ee-v'>-3.589759160156876</span></li><li><span class='ee-k'>1:</span><span class='ee-v'>6.11393586682716</span></li></ul></li><li><label class='ee-shut'>25: [-3.589848384586242, 6.113935919779688]<input type='checkbox' class='ee-toggle'></label><ul><li><span class='ee-k'>0:</span><span class='ee-v'>-3.589848384586242</span></li><li><span class='ee-k'>1:</span><span class='ee-v'>6.113935919779688</span></li></ul></li><li><label class='ee-shut'>26: [-3.589848384586242, 6.114025031600693]<input type='checkbox' class='ee-toggle'></label><ul><li><span class='ee-k'>0:</span><span class='ee-v'>-3.589848384586242</span></li><li><span class='ee-k'>1:</span><span class='ee-v'>6.114025031600693</span></li></ul></li><li><label class='ee-shut'>27: [-3.589937531923479, 6.1140250850430276]<input type='checkbox' class='ee-toggle'></label><ul><li><span class='ee-k'>0:</span><span class='ee-v'>-3.589937531923479</span></li><li><span class='ee-k'>1:</span><span class='ee-v'>6.1140250850430276</span></li></ul></li><li><label class='ee-shut'>28: [-3.589937531923479, 6.11411427770356]<input type='checkbox' class='ee-toggle'></label><ul><li><span class='ee-k'>0:</span><span class='ee-v'>-3.589937531923479</span></li><li><span class='ee-k'>1:</span><span class='ee-v'>6.11411427770356</span></li></ul></li><li><label class='ee-shut'>29: [-3.590026679419101, 6.114114250405073]<input type='checkbox' class='ee-toggle'></label><ul><li><span class='ee-k'>0:</span><span class='ee-v'>-3.590026679419101</span></li><li><span class='ee-k'>1:</span><span class='ee-v'>6.114114250405073</span></li></ul></li><li><label class='ee-shut'>30: [-3.590026679419101, 6.113663849016008]<input type='checkbox' class='ee-toggle'></label><ul><li><span class='ee-k'>0:</span><span class='ee-v'>-3.590026679419101</span></li><li><span class='ee-k'>1:</span><span class='ee-v'>6.113663849016008</span></li></ul></li><li><label class='ee-shut'>31: [-3.590205052136709, 6.11366387465264]<input type='checkbox' class='ee-toggle'></label><ul><li><span class='ee-k'>0:</span><span class='ee-v'>-3.590205052136709</span></li><li><span class='ee-k'>1:</span><span class='ee-v'>6.11366387465264</span></li></ul></li><li><label class='ee-shut'>32: [-3.590205052136709, 6.1137530667640725]<input type='checkbox' class='ee-toggle'></label><ul><li><span class='ee-k'>0:</span><span class='ee-v'>-3.590205052136709</span></li><li><span class='ee-k'>1:</span><span class='ee-v'>6.1137530667640725</span></li></ul></li><li><label class='ee-shut'>33: [-3.5902987579370844, 6.113753089881698]<input type='checkbox' class='ee-toggle'></label><ul><li><span class='ee-k'>0:</span><span class='ee-v'>-3.5902987579370844</span></li><li><span class='ee-k'>1:</span><span class='ee-v'>6.113753089881698</span></li></ul></li><li><label class='ee-shut'>34: [-3.5902987579370844, 6.113842201398037]<input type='checkbox' class='ee-toggle'></label><ul><li><span class='ee-k'>0:</span><span class='ee-v'>-3.5902987579370844</span></li><li><span class='ee-k'>1:</span><span class='ee-v'>6.113842201398037</span></li></ul></li><li><label class='ee-shut'>35: [-3.5904770543702647, 6.113842227420684]<input type='checkbox' class='ee-toggle'></label><ul><li><span class='ee-k'>0:</span><span class='ee-v'>-3.5904770543702647</span></li><li><span class='ee-k'>1:</span><span class='ee-v'>6.113842227420684</span></li></ul></li><li><label class='ee-shut'>36: [-3.5904770543702647, 6.113663843114651]<input type='checkbox' class='ee-toggle'></label><ul><li><span class='ee-k'>0:</span><span class='ee-v'>-3.5904770543702647</span></li><li><span class='ee-k'>1:</span><span class='ee-v'>6.113663843114651</span></li></ul></li><li><label class='ee-shut'>37: [-3.5907446547119872, 6.113663840690422]<input type='checkbox' class='ee-toggle'></label><ul><li><span class='ee-k'>0:</span><span class='ee-v'>-3.5907446547119872</span></li><li><span class='ee-k'>1:</span><span class='ee-v'>6.113663840690422</span></li></ul></li><li><label class='ee-shut'>38: [-3.5907446547119872, 6.113396345991052]<input type='checkbox' class='ee-toggle'></label><ul><li><span class='ee-k'>0:</span><span class='ee-v'>-3.5907446547119872</span></li><li><span class='ee-k'>1:</span><span class='ee-v'>6.113396345991052</span></li></ul></li><li><label class='ee-shut'>39: [-3.590833803641572, 6.113396318610968]<input type='checkbox' class='ee-toggle'></label><ul><li><span class='ee-k'>0:</span><span class='ee-v'>-3.590833803641572</span></li><li><span class='ee-k'>1:</span><span class='ee-v'>6.113396318610968</span></li></ul></li><li><label class='ee-shut'>40: [-3.590833803641572, 6.113213496277266]<input type='checkbox' class='ee-toggle'></label><ul><li><span class='ee-k'>0:</span><span class='ee-v'>-3.590833803641572</span></li><li><span class='ee-k'>1:</span><span class='ee-v'>6.113213496277266</span></li></ul></li><li><label class='ee-shut'>41: [-3.5907446547119872, 6.113213523641595]<input type='checkbox' class='ee-toggle'></label><ul><li><span class='ee-k'>0:</span><span class='ee-v'>-3.5907446547119872</span></li><li><span class='ee-k'>1:</span><span class='ee-v'>6.113213523641595</span></li></ul></li><li><label class='ee-shut'>42: [-3.5907446547119872, 6.113124332362385]<input type='checkbox' class='ee-toggle'></label><ul><li><span class='ee-k'>0:</span><span class='ee-v'>-3.5907446547119872</span></li><li><span class='ee-k'>1:</span><span class='ee-v'>6.113124332362385</span></li></ul></li><li><label class='ee-shut'>43: [-3.591016659870563, 6.113124300673143]<input type='checkbox' class='ee-toggle'></label><ul><li><span class='ee-k'>0:</span><span class='ee-v'>-3.591016659870563</span></li><li><span class='ee-k'>1:</span><span class='ee-v'>6.113124300673143</span></li></ul></li><li><label class='ee-shut'>44: [-3.591016659870563, 6.113035109547239]<input type='checkbox' class='ee-toggle'></label><ul><li><span class='ee-k'>0:</span><span class='ee-v'>-3.591016659870563</span></li><li><span class='ee-k'>1:</span><span class='ee-v'>6.113035109547239</span></li></ul></li><li><label class='ee-shut'>45: [-3.591105809283393, 6.113035162865827]<input type='checkbox' class='ee-toggle'></label><ul><li><span class='ee-k'>0:</span><span class='ee-v'>-3.591105809283393</span></li><li><span class='ee-k'>1:</span><span class='ee-v'>6.113035162865827</span></li></ul></li><li><label class='ee-shut'>46: [-3.591105809283393, 6.112945971877421]<input type='checkbox' class='ee-toggle'></label><ul><li><span class='ee-k'>0:</span><span class='ee-v'>-3.591105809283393</span></li><li><span class='ee-k'>1:</span><span class='ee-v'>6.112945971877421</span></li></ul></li><li><label class='ee-shut'>47: [-3.591016659870563, 6.11294599926704]<input type='checkbox' class='ee-toggle'></label><ul><li><span class='ee-k'>0:</span><span class='ee-v'>-3.591016659870563</span></li><li><span class='ee-k'>1:</span><span class='ee-v'>6.11294599926704</span></li></ul></li><li><label class='ee-shut'>48: [-3.591016659870563, 6.112856808400866]<input type='checkbox' class='ee-toggle'></label><ul><li><span class='ee-k'>0:</span><span class='ee-v'>-3.591016659870563</span></li><li><span class='ee-k'>1:</span><span class='ee-v'>6.112856808400866</span></li></ul></li><li><label class='ee-shut'>49: [-3.590566280076192, 6.112856814437185]<input type='checkbox' class='ee-toggle'></label><ul><li><span class='ee-k'>0:</span><span class='ee-v'>-3.590566280076192</span></li><li><span class='ee-k'>1:</span><span class='ee-v'>6.112856814437185</span></li></ul></li><li><label class='ee-shut'>50: [-3.590566280076192, 6.1127676236622985]<input type='checkbox' class='ee-toggle'></label><ul><li><span class='ee-k'>0:</span><span class='ee-v'>-3.590566280076192</span></li><li><span class='ee-k'>1:</span><span class='ee-v'>6.1127676236622985</span></li></ul></li><li><label class='ee-shut'>51: [-3.590387906074482, 6.112767598000785]<input type='checkbox' class='ee-toggle'></label><ul><li><span class='ee-k'>0:</span><span class='ee-v'>-3.590387906074482</span></li><li><span class='ee-k'>1:</span><span class='ee-v'>6.112767598000785</span></li></ul></li><li><label class='ee-shut'>52: [-3.590387906074482, 6.112673967989818]<input type='checkbox' class='ee-toggle'></label><ul><li><span class='ee-k'>0:</span><span class='ee-v'>-3.590387906074482</span></li><li><span class='ee-k'>1:</span><span class='ee-v'>6.112673967989818</span></li></ul></li><li><label class='ee-shut'>53: [-3.5902987579370844, 6.112673995228392]<input type='checkbox' class='ee-toggle'></label><ul><li><span class='ee-k'>0:</span><span class='ee-v'>-3.5902987579370844</span></li><li><span class='ee-k'>1:</span><span class='ee-v'>6.112673995228392</span></li></ul></li><li><label class='ee-shut'>54: [-3.5902987579370844, 6.1121388539882]<input type='checkbox' class='ee-toggle'></label><ul><li><span class='ee-k'>0:</span><span class='ee-v'>-3.5902987579370844</span></li><li><span class='ee-k'>1:</span><span class='ee-v'>6.1121388539882</span></li></ul></li><li><label class='ee-shut'>55: [-3.590026679419101, 6.112138885542897]<input type='checkbox' class='ee-toggle'></label><ul><li><span class='ee-k'>0:</span><span class='ee-v'>-3.590026679419101</span></li><li><span class='ee-k'>1:</span><span class='ee-v'>6.112138885542897</span></li></ul></li><li><label class='ee-shut'>56: [-3.590026679419101, 6.112317265483344]<input type='checkbox' class='ee-toggle'></label><ul><li><span class='ee-k'>0:</span><span class='ee-v'>-3.590026679419101</span></li><li><span class='ee-k'>1:</span><span class='ee-v'>6.112317265483344</span></li></ul></li><li><label class='ee-shut'>57: [-3.589937531923479, 6.112317211911945]<input type='checkbox' class='ee-toggle'></label><ul><li><span class='ee-k'>0:</span><span class='ee-v'>-3.589937531923479</span></li><li><span class='ee-k'>1:</span><span class='ee-v'>6.112317211911945</span></li></ul></li><li><label class='ee-shut'>58: [-3.589937531923479, 6.112406402084628]<input type='checkbox' class='ee-toggle'></label><ul><li><span class='ee-k'>0:</span><span class='ee-v'>-3.589937531923479</span></li><li><span class='ee-k'>1:</span><span class='ee-v'>6.112406402084628</span></li></ul></li><li><label class='ee-shut'>59: [-3.589848384586242, 6.112406429220098]<input type='checkbox' class='ee-toggle'></label><ul><li><span class='ee-k'>0:</span><span class='ee-v'>-3.589848384586242</span></li><li><span class='ee-k'>1:</span><span class='ee-v'>6.112406429220098</span></li></ul></li><li><label class='ee-shut'>60: [-3.589848384586242, 6.1124956195304]<input type='checkbox' class='ee-toggle'></label><ul><li><span class='ee-k'>0:</span><span class='ee-v'>-3.589848384586242</span></li><li><span class='ee-k'>1:</span><span class='ee-v'>6.1124956195304</span></li></ul></li><li><label class='ee-shut'>61: [-3.589759160156876, 6.11249556645554]<input type='checkbox' class='ee-toggle'></label><ul><li><span class='ee-k'>0:</span><span class='ee-v'>-3.589759160156876</span></li><li><span class='ee-k'>1:</span><span class='ee-v'>6.11249556645554</span></li></ul></li><li><label class='ee-shut'>62: [-3.589759160156876, 6.112673947481083]<input type='checkbox' class='ee-toggle'></label><ul><li><span class='ee-k'>0:</span><span class='ee-v'>-3.589759160156876</span></li><li><span class='ee-k'>1:</span><span class='ee-v'>6.112673947481083</span></li></ul></li><li><label class='ee-shut'>63: [-3.589398015277868, 6.112673924733204]<input type='checkbox' class='ee-toggle'></label><ul><li><span class='ee-k'>0:</span><span class='ee-v'>-3.589398015277868</span></li><li><span class='ee-k'>1:</span><span class='ee-v'>6.112673924733204</span></li></ul></li><li><label class='ee-shut'>64: [-3.589398015277868, 6.112584734124533]<input type='checkbox' class='ee-toggle'></label><ul><li><span class='ee-k'>0:</span><span class='ee-v'>-3.589398015277868</span></li><li><span class='ee-k'>1:</span><span class='ee-v'>6.112584734124533</span></li></ul></li><li><label class='ee-shut'>65: [-3.5892196454292336, 6.1125847887316205]<input type='checkbox' class='ee-toggle'></label><ul><li><span class='ee-k'>0:</span><span class='ee-v'>-3.5892196454292336</span></li><li><span class='ee-k'>1:</span><span class='ee-v'>6.1125847887316205</span></li></ul></li><li><label class='ee-shut'>66: [-3.5892196454292336, 6.112495598237496]<input type='checkbox' class='ee-toggle'></label><ul><li><span class='ee-k'>0:</span><span class='ee-v'>-3.5892196454292336</span></li><li><span class='ee-k'>1:</span><span class='ee-v'>6.112495598237496</span></li></ul></li><li><label class='ee-shut'>67: [-3.588858427184418, 6.112495575552217]<input type='checkbox' class='ee-toggle'></label><ul><li><span class='ee-k'>0:</span><span class='ee-v'>-3.588858427184418</span></li><li><span class='ee-k'>1:</span><span class='ee-v'>6.112495575552217</span></li></ul></li><li><label class='ee-shut'>68: [-3.588858427184418, 6.113213542786749]<input type='checkbox' class='ee-toggle'></label><ul><li><span class='ee-k'>0:</span><span class='ee-v'>-3.588858427184418</span></li><li><span class='ee-k'>1:</span><span class='ee-v'>6.113213542786749</span></li></ul></li></ul></li></ul></li></ul></li><li><label class='ee-shut'>properties: Object (3 properties)<input type='checkbox' class='ee-toggle'></label><ul><li><span class='ee-k'>count:</span><span class='ee-v'>318</span></li><li><span class='ee-k'>label:</span><span class='ee-v'>2016339340</span></li><li><span class='ee-k'>random:</span><span class='ee-v'>0.0005882498646260226</span></li></ul></li></ul></li><li><label class='ee-shut'>3: Feature (Polygon, 3 properties)<input type='checkbox' class='ee-toggle'></label><ul><li><span class='ee-k'>type:</span><span class='ee-v'>Feature</span></li><li><span class='ee-k'>id:</span><span class='ee-v'>0000000000000000029d</span></li><li><label class='ee-shut'>geometry: Polygon (109 vertices)<input type='checkbox' class='ee-toggle'></label><ul><li><span class='ee-k'>type:</span><span class='ee-v'>Polygon</span></li><li><label class='ee-shut'>coordinates: List (1 element)<input type='checkbox' class='ee-toggle'></label><ul><li><label class='ee-shut'>0: List (109 elements)<input type='checkbox' class='ee-toggle'></label><ul><li><label class='ee-shut'>0: [-3.659735865675084, 6.0301226312156695]<input type='checkbox' class='ee-toggle'></label><ul><li><span class='ee-k'>0:</span><span class='ee-v'>-3.659735865675084</span></li><li><span class='ee-k'>1:</span><span class='ee-v'>6.0301226312156695</span></li></ul></li><li><label class='ee-shut'>1: [-3.659735865675084, 6.030390146201355]<input type='checkbox' class='ee-toggle'></label><ul><li><span class='ee-k'>0:</span><span class='ee-v'>-3.659735865675084</span></li><li><span class='ee-k'>1:</span><span class='ee-v'>6.030390146201355</span></li></ul></li><li><label class='ee-shut'>2: [-3.659646671934409, 6.0303901780087905]<input type='checkbox' class='ee-toggle'></label><ul><li><span class='ee-k'>0:</span><span class='ee-v'>-3.659646671934409</span></li><li><span class='ee-k'>1:</span><span class='ee-v'>6.0303901780087905</span></li></ul></li><li><label class='ee-shut'>3: [-3.659646671934409, 6.030479323072948]<input type='checkbox' class='ee-toggle'></label><ul><li><span class='ee-k'>0:</span><span class='ee-v'>-3.659646671934409</span></li><li><span class='ee-k'>1:</span><span class='ee-v'>6.030479323072948</span></li></ul></li><li><label class='ee-shut'>4: [-3.6594682849261573, 6.030479386656531]<input type='checkbox' class='ee-toggle'></label><ul><li><span class='ee-k'>0:</span><span class='ee-v'>-3.6594682849261573</span></li><li><span class='ee-k'>1:</span><span class='ee-v'>6.030479386656531</span></li></ul></li><li><label class='ee-shut'>5: [-3.6594682849261573, 6.0301226459193655]<input type='checkbox' class='ee-toggle'></label><ul><li><span class='ee-k'>0:</span><span class='ee-v'>-3.6594682849261573</span></li><li><span class='ee-k'>1:</span><span class='ee-v'>6.0301226459193655</span></li></ul></li><li><label class='ee-shut'>6: [-3.659379091658582, 6.030122597055301]<input type='checkbox' class='ee-toggle'></label><ul><li><span class='ee-k'>0:</span><span class='ee-v'>-3.659379091658582</span></li><li><span class='ee-k'>1:</span><span class='ee-v'>6.030122597055301</span></li></ul></li><li><label class='ee-shut'>7: [-3.659379091658582, 6.030028938845328]<input type='checkbox' class='ee-toggle'></label><ul><li><span class='ee-k'>0:</span><span class='ee-v'>-3.659379091658582</span></li><li><span class='ee-k'>1:</span><span class='ee-v'>6.030028938845328</span></li></ul></li><li><label class='ee-shut'>8: [-3.659285489179627, 6.030029000017854]<input type='checkbox' class='ee-toggle'></label><ul><li><span class='ee-k'>0:</span><span class='ee-v'>-3.659285489179627</span></li><li><span class='ee-k'>1:</span><span class='ee-v'>6.030029000017854</span></li></ul></li><li><label class='ee-shut'>9: [-3.659285489179627, 6.030211802940105]<input type='checkbox' class='ee-toggle'></label><ul><li><span class='ee-k'>0:</span><span class='ee-v'>-3.659285489179627</span></li><li><span class='ee-k'>1:</span><span class='ee-v'>6.030211802940105</span></li></ul></li><li><label class='ee-shut'>10: [-3.65883952603473, 6.030211800144325]<input type='checkbox' class='ee-toggle'></label><ul><li><span class='ee-k'>0:</span><span class='ee-v'>-3.65883952603473</span></li><li><span class='ee-k'>1:</span><span class='ee-v'>6.030211800144325</span></li></ul></li><li><label class='ee-shut'>11: [-3.65883952603473, 6.030479315757689]<input type='checkbox' class='ee-toggle'></label><ul><li><span class='ee-k'>0:</span><span class='ee-v'>-3.65883952603473</span></li><li><span class='ee-k'>1:</span><span class='ee-v'>6.030479315757689</span></li></ul></li><li><label class='ee-shut'>12: [-3.6591071034485654, 6.030479381893055]<input type='checkbox' class='ee-toggle'></label><ul><li><span class='ee-k'>0:</span><span class='ee-v'>-3.6591071034485654</span></li><li><span class='ee-k'>1:</span><span class='ee-v'>6.030479381893055</span></li></ul></li><li><label class='ee-shut'>13: [-3.6591071034485654, 6.030568527135202]<input type='checkbox' class='ee-toggle'></label><ul><li><span class='ee-k'>0:</span><span class='ee-v'>-3.6591071034485654</span></li><li><span class='ee-k'>1:</span><span class='ee-v'>6.030568527135202</span></li></ul></li><li><label class='ee-shut'>14: [-3.659196296235243, 6.0305684954068415]<input type='checkbox' class='ee-toggle'></label><ul><li><span class='ee-k'>0:</span><span class='ee-v'>-3.659196296235243</span></li><li><span class='ee-k'>1:</span><span class='ee-v'>6.0305684954068415</span></li></ul></li><li><label class='ee-shut'>15: [-3.659196296235243, 6.030662154464665]<input type='checkbox' class='ee-toggle'></label><ul><li><span class='ee-k'>0:</span><span class='ee-v'>-3.659196296235243</span></li><li><span class='ee-k'>1:</span><span class='ee-v'>6.030662154464665</span></li></ul></li><li><label class='ee-shut'>16: [-3.6594682849261573, 6.030662190899946]<input type='checkbox' class='ee-toggle'></label><ul><li><span class='ee-k'>0:</span><span class='ee-v'>-3.6594682849261573</span></li><li><span class='ee-k'>1:</span><span class='ee-v'>6.030662190899946</span></li></ul></li><li><label class='ee-shut'>17: [-3.6594682849261573, 6.030751336378479]<input type='checkbox' class='ee-toggle'></label><ul><li><span class='ee-k'>0:</span><span class='ee-v'>-3.6594682849261573</span></li><li><span class='ee-k'>1:</span><span class='ee-v'>6.030751336378479</span></li></ul></li><li><label class='ee-shut'>18: [-3.659557478351436, 6.030751385172318]<input type='checkbox' class='ee-toggle'></label><ul><li><span class='ee-k'>0:</span><span class='ee-v'>-3.659557478351436</span></li><li><span class='ee-k'>1:</span><span class='ee-v'>6.030751385172318</span></li></ul></li><li><label class='ee-shut'>19: [-3.659557478351436, 6.030840530773796]<input type='checkbox' class='ee-toggle'></label><ul><li><span class='ee-k'>0:</span><span class='ee-v'>-3.659557478351436</span></li><li><span class='ee-k'>1:</span><span class='ee-v'>6.030840530773796</span></li></ul></li><li><label class='ee-shut'>20: [-3.659646671934409, 6.030840498942357]<input type='checkbox' class='ee-toggle'></label><ul><li><span class='ee-k'>0:</span><span class='ee-v'>-3.659646671934409</span></li><li><span class='ee-k'>1:</span><span class='ee-v'>6.030840498942357</span></li></ul></li><li><label class='ee-shut'>21: [-3.659646671934409, 6.03101887112377]<input type='checkbox' class='ee-toggle'></label><ul><li><span class='ee-k'>0:</span><span class='ee-v'>-3.659646671934409</span></li><li><span class='ee-k'>1:</span><span class='ee-v'>6.03101887112377</span></li></ul></li><li><label class='ee-shut'>22: [-3.659557478351436, 6.03101890297092]<input type='checkbox' class='ee-toggle'></label><ul><li><span class='ee-k'>0:</span><span class='ee-v'>-3.659557478351436</span></li><li><span class='ee-k'>1:</span><span class='ee-v'>6.03101890297092</span></li></ul></li><li><label class='ee-shut'>23: [-3.659557478351436, 6.031108048964571]<input type='checkbox' class='ee-toggle'></label><ul><li><span class='ee-k'>0:</span><span class='ee-v'>-3.659557478351436</span></li><li><span class='ee-k'>1:</span><span class='ee-v'>6.031108048964571</span></li></ul></li><li><label class='ee-shut'>24: [-3.659196296235243, 6.031108044487414]<input type='checkbox' class='ee-toggle'></label><ul><li><span class='ee-k'>0:</span><span class='ee-v'>-3.659196296235243</span></li><li><span class='ee-k'>1:</span><span class='ee-v'>6.031108044487414</span></li></ul></li><li><label class='ee-shut'>25: [-3.659196296235243, 6.030929752567595]<input type='checkbox' class='ee-toggle'></label><ul><li><span class='ee-k'>0:</span><span class='ee-v'>-3.659196296235243</span></li><li><span class='ee-k'>1:</span><span class='ee-v'>6.030929752567595</span></li></ul></li><li><label class='ee-shut'>26: [-3.6590179108195833, 6.030929735470253]<input type='checkbox' class='ee-toggle'></label><ul><li><span class='ee-k'>0:</span><span class='ee-v'>-3.6590179108195833</span></li><li><span class='ee-k'>1:</span><span class='ee-v'>6.030929735470253</span></li></ul></li><li><label class='ee-shut'>27: [-3.6590179108195833, 6.0313800606773915]<input type='checkbox' class='ee-toggle'></label><ul><li><span class='ee-k'>0:</span><span class='ee-v'>-3.6590179108195833</span></li><li><span class='ee-k'>1:</span><span class='ee-v'>6.0313800606773915</span></li></ul></li><li><label class='ee-shut'>28: [-3.6591071034485654, 6.031380109495843]<input type='checkbox' class='ee-toggle'></label><ul><li><span class='ee-k'>0:</span><span class='ee-v'>-3.6591071034485654</span></li><li><span class='ee-k'>1:</span><span class='ee-v'>6.031380109495843</span></li></ul></li><li><label class='ee-shut'>29: [-3.6591071034485654, 6.031469256058409]<input type='checkbox' class='ee-toggle'></label><ul><li><span class='ee-k'>0:</span><span class='ee-v'>-3.6591071034485654</span></li><li><span class='ee-k'>1:</span><span class='ee-v'>6.031469256058409</span></li></ul></li><li><label class='ee-shut'>30: [-3.659379091658582, 6.031469292326473]<input type='checkbox' class='ee-toggle'></label><ul><li><span class='ee-k'>0:</span><span class='ee-v'>-3.659379091658582</span></li><li><span class='ee-k'>1:</span><span class='ee-v'>6.031469292326473</span></li></ul></li><li><label class='ee-shut'>31: [-3.659379091658582, 6.031736813330067]<input type='checkbox' class='ee-toggle'></label><ul><li><span class='ee-k'>0:</span><span class='ee-v'>-3.659379091658582</span></li><li><span class='ee-k'>1:</span><span class='ee-v'>6.031736813330067</span></li></ul></li><li><label class='ee-shut'>32: [-3.659285489179627, 6.0317367940581645]<input type='checkbox' class='ee-toggle'></label><ul><li><span class='ee-k'>0:</span><span class='ee-v'>-3.659285489179627</span></li><li><span class='ee-k'>1:</span><span class='ee-v'>6.0317367940581645</span></li></ul></li><li><label class='ee-shut'>33: [-3.659285489179627, 6.0318260217311765]<input type='checkbox' class='ee-toggle'></label><ul><li><span class='ee-k'>0:</span><span class='ee-v'>-3.659285489179627</span></li><li><span class='ee-k'>1:</span><span class='ee-v'>6.0318260217311765</span></li></ul></li><li><label class='ee-shut'>34: [-3.659196296235243, 6.031825972982764]<input type='checkbox' class='ee-toggle'></label><ul><li><span class='ee-k'>0:</span><span class='ee-v'>-3.659196296235243</span></li><li><span class='ee-k'>1:</span><span class='ee-v'>6.031825972982764</span></li></ul></li><li><label class='ee-shut'>35: [-3.659196296235243, 6.0319196339772825]<input type='checkbox' class='ee-toggle'></label><ul><li><span class='ee-k'>0:</span><span class='ee-v'>-3.659196296235243</span></li><li><span class='ee-k'>1:</span><span class='ee-v'>6.0319196339772825</span></li></ul></li><li><label class='ee-shut'>36: [-3.6591071034485654, 6.0319196658246454]<input type='checkbox' class='ee-toggle'></label><ul><li><span class='ee-k'>0:</span><span class='ee-v'>-3.6591071034485654</span></li><li><span class='ee-k'>1:</span><span class='ee-v'>6.0319196658246454</span></li></ul></li><li><label class='ee-shut'>37: [-3.6591071034485654, 6.032008813178133]<input type='checkbox' class='ee-toggle'></label><ul><li><span class='ee-k'>0:</span><span class='ee-v'>-3.6591071034485654</span></li><li><span class='ee-k'>1:</span><span class='ee-v'>6.032008813178133</span></li></ul></li><li><label class='ee-shut'>38: [-3.659196296235243, 6.032008781322915]<input type='checkbox' class='ee-toggle'></label><ul><li><span class='ee-k'>0:</span><span class='ee-v'>-3.659196296235243</span></li><li><span class='ee-k'>1:</span><span class='ee-v'>6.032008781322915</span></li></ul></li><li><label class='ee-shut'>39: [-3.659196296235243, 6.032187157009896]<input type='checkbox' class='ee-toggle'></label><ul><li><span class='ee-k'>0:</span><span class='ee-v'>-3.659196296235243</span></li><li><span class='ee-k'>1:</span><span class='ee-v'>6.032187157009896</span></li></ul></li><li><label class='ee-shut'>40: [-3.659285489179627, 6.032187205726978]<input type='checkbox' class='ee-toggle'></label><ul><li><span class='ee-k'>0:</span><span class='ee-v'>-3.659285489179627</span></li><li><span class='ee-k'>1:</span><span class='ee-v'>6.032187205726978</span></li></ul></li><li><label class='ee-shut'>41: [-3.659285489179627, 6.032365581921652]<input type='checkbox' class='ee-toggle'></label><ul><li><span class='ee-k'>0:</span><span class='ee-v'>-3.659285489179627</span></li><li><span class='ee-k'>1:</span><span class='ee-v'>6.032365581921652</span></li></ul></li><li><label class='ee-shut'>42: [-3.65883952603473, 6.032365580068635]<input type='checkbox' class='ee-toggle'></label><ul><li><span class='ee-k'>0:</span><span class='ee-v'>-3.65883952603473</span></li><li><span class='ee-k'>1:</span><span class='ee-v'>6.032365580068635</span></li></ul></li><li><label class='ee-shut'>43: [-3.65883952603473, 6.032548390094799]<input type='checkbox' class='ee-toggle'></label><ul><li><span class='ee-k'>0:</span><span class='ee-v'>-3.65883952603473</span></li><li><span class='ee-k'>1:</span><span class='ee-v'>6.032548390094799</span></li></ul></li><li><label class='ee-shut'>44: [-3.6591071034485654, 6.032548375084796]<input type='checkbox' class='ee-toggle'></label><ul><li><span class='ee-k'>0:</span><span class='ee-v'>-3.6591071034485654</span></li><li><span class='ee-k'>1:</span><span class='ee-v'>6.032548375084796</span></li></ul></li><li><label class='ee-shut'>45: [-3.6591071034485654, 6.03263752335986]<input type='checkbox' class='ee-toggle'></label><ul><li><span class='ee-k'>0:</span><span class='ee-v'>-3.6591071034485654</span></li><li><span class='ee-k'>1:</span><span class='ee-v'>6.03263752335986</span></li></ul></li><li><label class='ee-shut'>46: [-3.659196296235243, 6.032637572053547]<input type='checkbox' class='ee-toggle'></label><ul><li><span class='ee-k'>0:</span><span class='ee-v'>-3.659196296235243</span></li><li><span class='ee-k'>1:</span><span class='ee-v'>6.032637572053547</span></li></ul></li><li><label class='ee-shut'>47: [-3.659196296235243, 6.032726720451547]<input type='checkbox' class='ee-toggle'></label><ul><li><span class='ee-k'>0:</span><span class='ee-v'>-3.659196296235243</span></li><li><span class='ee-k'>1:</span><span class='ee-v'>6.032726720451547</span></li></ul></li><li><label class='ee-shut'>48: [-3.659285489179627, 6.032726769121816]<input type='checkbox' class='ee-toggle'></label><ul><li><span class='ee-k'>0:</span><span class='ee-v'>-3.659285489179627</span></li><li><span class='ee-k'>1:</span><span class='ee-v'>6.032726769121816</span></li></ul></li><li><label class='ee-shut'>49: [-3.659285489179627, 6.032815917642751]<input type='checkbox' class='ee-toggle'></label><ul><li><span class='ee-k'>0:</span><span class='ee-v'>-3.659285489179627</span></li><li><span class='ee-k'>1:</span><span class='ee-v'>6.032815917642751</span></li></ul></li><li><label class='ee-shut'>50: [-3.659557478351436, 6.03281595345644]<input type='checkbox' class='ee-toggle'></label><ul><li><span class='ee-k'>0:</span><span class='ee-v'>-3.659557478351436</span></li><li><span class='ee-k'>1:</span><span class='ee-v'>6.03281595345644</span></li></ul></li><li><label class='ee-shut'>51: [-3.659557478351436, 6.032637575988491]<input type='checkbox' class='ee-toggle'></label><ul><li><span class='ee-k'>0:</span><span class='ee-v'>-3.659557478351436</span></li><li><span class='ee-k'>1:</span><span class='ee-v'>6.032637575988491</span></li></ul></li><li><label class='ee-shut'>52: [-3.6598250595734516, 6.032637560576479]<input type='checkbox' class='ee-toggle'></label><ul><li><span class='ee-k'>0:</span><span class='ee-v'>-3.6598250595734516</span></li><li><span class='ee-k'>1:</span><span class='ee-v'>6.032637560576479</span></li></ul></li><li><label class='ee-shut'>53: [-3.6598250595734516, 6.032548331760082]<input type='checkbox' class='ee-toggle'></label><ul><li><span class='ee-k'>0:</span><span class='ee-v'>-3.6598250595734516</span></li><li><span class='ee-k'>1:</span><span class='ee-v'>6.032548331760082</span></li></ul></li><li><label class='ee-shut'>54: [-3.659557478351436, 6.032548347148631]<input type='checkbox' class='ee-toggle'></label><ul><li><span class='ee-k'>0:</span><span class='ee-v'>-3.659557478351436</span></li><li><span class='ee-k'>1:</span><span class='ee-v'>6.032548347148631</span></li></ul></li><li><label class='ee-shut'>55: [-3.659557478351436, 6.032365537251432]<input type='checkbox' class='ee-toggle'></label><ul><li><span class='ee-k'>0:</span><span class='ee-v'>-3.659557478351436</span></li><li><span class='ee-k'>1:</span><span class='ee-v'>6.032365537251432</span></li></ul></li><li><label class='ee-shut'>56: [-3.659646671934409, 6.032365585889537]<input type='checkbox' class='ee-toggle'></label><ul><li><span class='ee-k'>0:</span><span class='ee-v'>-3.659646671934409</span></li><li><span class='ee-k'>1:</span><span class='ee-v'>6.032365585889537</span></li></ul></li><li><label class='ee-shut'>57: [-3.659646671934409, 6.032187209758091]<input type='checkbox' class='ee-toggle'></label><ul><li><span class='ee-k'>0:</span><span class='ee-v'>-3.659646671934409</span></li><li><span class='ee-k'>1:</span><span class='ee-v'>6.032187209758091</span></li></ul></li><li><label class='ee-shut'>58: [-3.659735865675084, 6.0321871777923475]<input type='checkbox' class='ee-toggle'></label><ul><li><span class='ee-k'>0:</span><span class='ee-v'>-3.659735865675084</span></li><li><span class='ee-k'>1:</span><span class='ee-v'>6.0321871777923475</span></li></ul></li><li><label class='ee-shut'>59: [-3.659735865675084, 6.031919654901347]<input type='checkbox' class='ee-toggle'></label><ul><li><span class='ee-k'>0:</span><span class='ee-v'>-3.659735865675084</span></li><li><span class='ee-k'>1:</span><span class='ee-v'>6.031919654901347</span></li></ul></li><li><label class='ee-shut'>60: [-3.6598250595734516, 6.0319196229435015]<input type='checkbox' class='ee-toggle'></label><ul><li><span class='ee-k'>0:</span><span class='ee-v'>-3.6598250595734516</span></li><li><span class='ee-k'>1:</span><span class='ee-v'>6.0319196229435015</span></li></ul></li><li><label class='ee-shut'>61: [-3.6598250595734516, 6.031825962006814]<input type='checkbox' class='ee-toggle'></label><ul><li><span class='ee-k'>0:</span><span class='ee-v'>-3.6598250595734516</span></li><li><span class='ee-k'>1:</span><span class='ee-v'>6.031825962006814</span></li></ul></li><li><label class='ee-shut'>62: [-3.6599141762712057, 6.031826011161778]<input type='checkbox' class='ee-toggle'></label><ul><li><span class='ee-k'>0:</span><span class='ee-v'>-3.6599141762712057</span></li><li><span class='ee-k'>1:</span><span class='ee-v'>6.031826011161778</span></li></ul></li><li><label class='ee-shut'>63: [-3.6599141762712057, 6.031647636659761]<input type='checkbox' class='ee-toggle'></label><ul><li><span class='ee-k'>0:</span><span class='ee-v'>-3.6599141762712057</span></li><li><span class='ee-k'>1:</span><span class='ee-v'>6.031647636659761</span></li></ul></li><li><label class='ee-shut'>64: [-3.660007857275116, 6.031647655306781]<input type='checkbox' class='ee-toggle'></label><ul><li><span class='ee-k'>0:</span><span class='ee-v'>-3.660007857275116</span></li><li><span class='ee-k'>1:</span><span class='ee-v'>6.031647655306781</span></li></ul></li><li><label class='ee-shut'>65: [-3.660007857275116, 6.031469281344305]<input type='checkbox' class='ee-toggle'></label><ul><li><span class='ee-k'>0:</span><span class='ee-v'>-3.660007857275116</span></li><li><span class='ee-k'>1:</span><span class='ee-v'>6.031469281344305</span></li></ul></li><li><label class='ee-shut'>66: [-3.6599141762712057, 6.031469262680926]<input type='checkbox' class='ee-toggle'></label><ul><li><span class='ee-k'>0:</span><span class='ee-v'>-3.6599141762712057</span></li><li><span class='ee-k'>1:</span><span class='ee-v'>6.031469262680926</span></li></ul></li><li><label class='ee-shut'>67: [-3.6599141762712057, 6.031290889225289]<input type='checkbox' class='ee-toggle'></label><ul><li><span class='ee-k'>0:</span><span class='ee-v'>-3.6599141762712057</span></li><li><span class='ee-k'>1:</span><span class='ee-v'>6.031290889225289</span></li></ul></li><li><label class='ee-shut'>68: [-3.6601862461913224, 6.031290924591272]<input type='checkbox' class='ee-toggle'></label><ul><li><span class='ee-k'>0:</span><span class='ee-v'>-3.6601862461913224</span></li><li><span class='ee-k'>1:</span><span class='ee-v'>6.031290924591272</span></li></ul></li><li><label class='ee-shut'>69: [-3.6601862461913224, 6.030929746237968]<input type='checkbox' class='ee-toggle'></label><ul><li><span class='ee-k'>0:</span><span class='ee-v'>-3.6601862461913224</span></li><li><span class='ee-k'>1:</span><span class='ee-v'>6.030929746237968</span></li></ul></li><li><label class='ee-shut'>70: [-3.660275363527101, 6.030929714805263]<input type='checkbox' class='ee-toggle'></label><ul><li><span class='ee-k'>0:</span><span class='ee-v'>-3.660275363527101</span></li><li><span class='ee-k'>1:</span><span class='ee-v'>6.030929714805263</span></li></ul></li><li><label class='ee-shut'>71: [-3.660275363527101, 6.030840569135875]<input type='checkbox' class='ee-toggle'></label><ul><li><span class='ee-k'>0:</span><span class='ee-v'>-3.660275363527101</span></li><li><span class='ee-k'>1:</span><span class='ee-v'>6.030840569135875</span></li></ul></li><li><label class='ee-shut'>72: [-3.6604537533892008, 6.030840505205074]<input type='checkbox' class='ee-toggle'></label><ul><li><span class='ee-k'>0:</span><span class='ee-v'>-3.6604537533892008</span></li><li><span class='ee-k'>1:</span><span class='ee-v'>6.030840505205074</span></li></ul></li><li><label class='ee-shut'>73: [-3.6604537533892008, 6.0309297314606685]<input type='checkbox' class='ee-toggle'></label><ul><li><span class='ee-k'>0:</span><span class='ee-v'>-3.6604537533892008</span></li><li><span class='ee-k'>1:</span><span class='ee-v'>6.0309297314606685</span></li></ul></li><li><label class='ee-shut'>74: [-3.66063655336885, 6.030929718577802]<input type='checkbox' class='ee-toggle'></label><ul><li><span class='ee-k'>0:</span><span class='ee-v'>-3.66063655336885</span></li><li><span class='ee-k'>1:</span><span class='ee-v'>6.030929718577802</span></li></ul></li><li><label class='ee-shut'>75: [-3.66063655336885, 6.0307513468312655]<input type='checkbox' class='ee-toggle'></label><ul><li><span class='ee-k'>0:</span><span class='ee-v'>-3.66063655336885</span></li><li><span class='ee-k'>1:</span><span class='ee-v'>6.0307513468312655</span></li></ul></li><li><label class='ee-shut'>76: [-3.660725748859624, 6.030751314818106]<input type='checkbox' class='ee-toggle'></label><ul><li><span class='ee-k'>0:</span><span class='ee-v'>-3.660725748859624</span></li><li><span class='ee-k'>1:</span><span class='ee-v'>6.030751314818106</span></li></ul></li><li><label class='ee-shut'>77: [-3.660725748859624, 6.030662169449671]<input type='checkbox' class='ee-toggle'></label><ul><li><span class='ee-k'>0:</span><span class='ee-v'>-3.660725748859624</span></li><li><span class='ee-k'>1:</span><span class='ee-v'>6.030662169449671</span></li></ul></li><li><label class='ee-shut'>78: [-3.6609041403142384, 6.030662185993582]<input type='checkbox' class='ee-toggle'></label><ul><li><span class='ee-k'>0:</span><span class='ee-v'>-3.6609041403142384</span></li><li><span class='ee-k'>1:</span><span class='ee-v'>6.030662185993582</span></li></ul></li><li><label class='ee-shut'>79: [-3.6609041403142384, 6.030568527092769]<input type='checkbox' class='ee-toggle'></label><ul><li><span class='ee-k'>0:</span><span class='ee-v'>-3.6609041403142384</span></li><li><span class='ee-k'>1:</span><span class='ee-v'>6.030568527092769</span></li></ul></li><li><label class='ee-shut'>80: [-3.66099333627808, 6.030568495048704]<input type='checkbox' class='ee-toggle'></label><ul><li><span class='ee-k'>0:</span><span class='ee-v'>-3.66099333627808</span></li><li><span class='ee-k'>1:</span><span class='ee-v'>6.030568495048704</span></li></ul></li><li><label class='ee-shut'>81: [-3.66099333627808, 6.03047934997171]<input type='checkbox' class='ee-toggle'></label><ul><li><span class='ee-k'>0:</span><span class='ee-v'>-3.66099333627808</span></li><li><span class='ee-k'>1:</span><span class='ee-v'>6.03047934997171</span></li></ul></li><li><label class='ee-shut'>82: [-3.661265334657482, 6.030479385492748]<input type='checkbox' class='ee-toggle'></label><ul><li><span class='ee-k'>0:</span><span class='ee-v'>-3.661265334657482</span></li><li><span class='ee-k'>1:</span><span class='ee-v'>6.030479385492748</span></li></ul></li><li><label class='ee-shut'>83: [-3.661265334657482, 6.030211789915363]<input type='checkbox' class='ee-toggle'></label><ul><li><span class='ee-k'>0:</span><span class='ee-v'>-3.661265334657482</span></li><li><span class='ee-k'>1:</span><span class='ee-v'>6.030211789915363</span></li></ul></li><li><label class='ee-shut'>84: [-3.661171651318597, 6.03021177136879]<input type='checkbox' class='ee-toggle'></label><ul><li><span class='ee-k'>0:</span><span class='ee-v'>-3.661171651318597</span></li><li><span class='ee-k'>1:</span><span class='ee-v'>6.03021177136879</span></li></ul></li><li><label class='ee-shut'>85: [-3.661171651318597, 6.030122626830364]<input type='checkbox' class='ee-toggle'></label><ul><li><span class='ee-k'>0:</span><span class='ee-v'>-3.661171651318597</span></li><li><span class='ee-k'>1:</span><span class='ee-v'>6.030122626830364</span></li></ul></li><li><label class='ee-shut'>86: [-3.660725748859624, 6.030122625135454]<input type='checkbox' class='ee-toggle'></label><ul><li><span class='ee-k'>0:</span><span class='ee-v'>-3.660725748859624</span></li><li><span class='ee-k'>1:</span><span class='ee-v'>6.030122625135454</span></li></ul></li><li><label class='ee-shut'>87: [-3.660725748859624, 6.030028967049282]<input type='checkbox' class='ee-toggle'></label><ul><li><span class='ee-k'>0:</span><span class='ee-v'>-3.660725748859624</span></li><li><span class='ee-k'>1:</span><span class='ee-v'>6.030028967049282</span></li></ul></li><li><label class='ee-shut'>88: [-3.6608149445080835, 6.0300290156848035]<input type='checkbox' class='ee-toggle'></label><ul><li><span class='ee-k'>0:</span><span class='ee-v'>-3.6608149445080835</span></li><li><span class='ee-k'>1:</span><span class='ee-v'>6.0300290156848035</span></li></ul></li><li><label class='ee-shut'>89: [-3.6608149445080835, 6.029850646611573]<input type='checkbox' class='ee-toggle'></label><ul><li><span class='ee-k'>0:</span><span class='ee-v'>-3.6608149445080835</span></li><li><span class='ee-k'>1:</span><span class='ee-v'>6.029850646611573</span></li></ul></li><li><label class='ee-shut'>90: [-3.660725748859624, 6.029850597960569]<input type='checkbox' class='ee-toggle'></label><ul><li><span class='ee-k'>0:</span><span class='ee-v'>-3.660725748859624</span></li><li><span class='ee-k'>1:</span><span class='ee-v'>6.029850597960569</span></li></ul></li><li><label class='ee-shut'>91: [-3.660725748859624, 6.029761453912597]<input type='checkbox' class='ee-toggle'></label><ul><li><span class='ee-k'>0:</span><span class='ee-v'>-3.660725748859624</span></li><li><span class='ee-k'>1:</span><span class='ee-v'>6.029761453912597</span></li></ul></li><li><label class='ee-shut'>92: [-3.66063655336885, 6.029761405238179]<input type='checkbox' class='ee-toggle'></label><ul><li><span class='ee-k'>0:</span><span class='ee-v'>-3.66063655336885</span></li><li><span class='ee-k'>1:</span><span class='ee-v'>6.029761405238179</span></li></ul></li><li><label class='ee-shut'>93: [-3.66063655336885, 6.0295830369187176]<input type='checkbox' class='ee-toggle'></label><ul><li><span class='ee-k'>0:</span><span class='ee-v'>-3.66063655336885</span></li><li><span class='ee-k'>1:</span><span class='ee-v'>6.0295830369187176</span></li></ul></li><li><label class='ee-shut'>94: [-3.6603645583793014, 6.029583081421988]<input type='checkbox' class='ee-toggle'></label><ul><li><span class='ee-k'>0:</span><span class='ee-v'>-3.6603645583793014</span></li><li><span class='ee-k'>1:</span><span class='ee-v'>6.029583081421988</span></li></ul></li><li><label class='ee-shut'>95: [-3.6603645583793023, 6.029672225240078]<input type='checkbox' class='ee-toggle'></label><ul><li><span class='ee-k'>0:</span><span class='ee-v'>-3.6603645583793023</span></li><li><span class='ee-k'>1:</span><span class='ee-v'>6.029672225240078</span></li></ul></li><li><label class='ee-shut'>96: [-3.660275363527101, 6.0296722570947]<input type='checkbox' class='ee-toggle'></label><ul><li><span class='ee-k'>0:</span><span class='ee-v'>-3.660275363527101</span></li><li><span class='ee-k'>1:</span><span class='ee-v'>6.0296722570947</span></li></ul></li><li><label class='ee-shut'>97: [-3.660275363527101, 6.029583032668616]<input type='checkbox' class='ee-toggle'></label><ul><li><span class='ee-k'>0:</span><span class='ee-v'>-3.660275363527101</span></li><li><span class='ee-k'>1:</span><span class='ee-v'>6.029583032668616</span></li></ul></li><li><label class='ee-shut'>98: [-3.660097051654369, 6.029583095798231]<input type='checkbox' class='ee-toggle'></label><ul><li><span class='ee-k'>0:</span><span class='ee-v'>-3.660097051654369</span></li><li><span class='ee-k'>1:</span><span class='ee-v'>6.029583095798231</span></li></ul></li><li><label class='ee-shut'>99: [-3.660097051654369, 6.029493871487363]<input type='checkbox' class='ee-toggle'></label><ul><li><span class='ee-k'>0:</span><span class='ee-v'>-3.660097051654369</span></li><li><span class='ee-k'>1:</span><span class='ee-v'>6.029493871487363</span></li></ul></li><li><label class='ee-shut'>100: [-3.6594682849261573, 6.029493881360198]<input type='checkbox' class='ee-toggle'></label><ul><li><span class='ee-k'>0:</span><span class='ee-v'>-3.6594682849261573</span></li><li><span class='ee-k'>1:</span><span class='ee-v'>6.029493881360198</span></li></ul></li><li><label class='ee-shut'>101: [-3.6594682849261573, 6.0296722496227355]<input type='checkbox' class='ee-toggle'></label><ul><li><span class='ee-k'>0:</span><span class='ee-v'>-3.6594682849261573</span></li><li><span class='ee-k'>1:</span><span class='ee-v'>6.0296722496227355</span></li></ul></li><li><label class='ee-shut'>102: [-3.659379091658582, 6.029672281319931]<input type='checkbox' class='ee-toggle'></label><ul><li><span class='ee-k'>0:</span><span class='ee-v'>-3.659379091658582</span></li><li><span class='ee-k'>1:</span><span class='ee-v'>6.029672281319931</span></li></ul></li><li><label class='ee-shut'>103: [-3.659379091658582, 6.02976142535504]<input type='checkbox' class='ee-toggle'></label><ul><li><span class='ee-k'>0:</span><span class='ee-v'>-3.659379091658582</span></li><li><span class='ee-k'>1:</span><span class='ee-v'>6.02976142535504</span></li></ul></li><li><label class='ee-shut'>104: [-3.659557478351436, 6.029761442529719]<input type='checkbox' class='ee-toggle'></label><ul><li><span class='ee-k'>0:</span><span class='ee-v'>-3.659557478351436</span></li><li><span class='ee-k'>1:</span><span class='ee-v'>6.029761442529719</span></li></ul></li><li><label class='ee-shut'>105: [-3.659557478351436, 6.029850586679938]<input type='checkbox' class='ee-toggle'></label><ul><li><span class='ee-k'>0:</span><span class='ee-v'>-3.659557478351436</span></li><li><span class='ee-k'>1:</span><span class='ee-v'>6.029850586679938</span></li></ul></li><li><label class='ee-shut'>106: [-3.659646671934409, 6.02985063553625]<input type='checkbox' class='ee-toggle'></label><ul><li><span class='ee-k'>0:</span><span class='ee-v'>-3.659646671934409</span></li><li><span class='ee-k'>1:</span><span class='ee-v'>6.02985063553625</span></li></ul></li><li><label class='ee-shut'>107: [-3.659646671934409, 6.03012258239863]<input type='checkbox' class='ee-toggle'></label><ul><li><span class='ee-k'>0:</span><span class='ee-v'>-3.659646671934409</span></li><li><span class='ee-k'>1:</span><span class='ee-v'>6.03012258239863</span></li></ul></li><li><label class='ee-shut'>108: [-3.659735865675084, 6.0301226312156695]<input type='checkbox' class='ee-toggle'></label><ul><li><span class='ee-k'>0:</span><span class='ee-v'>-3.659735865675084</span></li><li><span class='ee-k'>1:</span><span class='ee-v'>6.0301226312156695</span></li></ul></li></ul></li></ul></li></ul></li><li><label class='ee-shut'>properties: Object (3 properties)<input type='checkbox' class='ee-toggle'></label><ul><li><span class='ee-k'>count:</span><span class='ee-v'>405</span></li><li><span class='ee-k'>label:</span><span class='ee-v'>1912978759</span></li><li><span class='ee-k'>random:</span><span class='ee-v'>0.0009473190946596155</span></li></ul></li></ul></li><li><label class='ee-shut'>4: Feature (Polygon, 3 properties)<input type='checkbox' class='ee-toggle'></label><ul><li><span class='ee-k'>type:</span><span class='ee-v'>Feature</span></li><li><span class='ee-k'>id:</span><span class='ee-v'>00000000000000000835</span></li><li><label class='ee-shut'>geometry: Polygon (103 vertices)<input type='checkbox' class='ee-toggle'></label><ul><li><span class='ee-k'>type:</span><span class='ee-v'>Polygon</span></li><li><label class='ee-shut'>coordinates: List (1 element)<input type='checkbox' class='ee-toggle'></label><ul><li><label class='ee-shut'>0: List (103 elements)<input type='checkbox' class='ee-toggle'></label><ul><li><label class='ee-shut'>0: [-3.6987218023025363, 6.100549675280731]<input type='checkbox' class='ee-toggle'></label><ul><li><span class='ee-k'>0:</span><span class='ee-v'>-3.6987218023025363</span></li><li><span class='ee-k'>1:</span><span class='ee-v'>6.100549675280731</span></li></ul></li><li><label class='ee-shut'>1: [-3.6984542472518163, 6.100549647023252]<input type='checkbox' class='ee-toggle'></label><ul><li><span class='ee-k'>0:</span><span class='ee-v'>-3.6984542472518163</span></li><li><span class='ee-k'>1:</span><span class='ee-v'>6.100549647023252</span></li></ul></li><li><label class='ee-shut'>2: [-3.6984542472518163, 6.100728054994626]<input type='checkbox' class='ee-toggle'></label><ul><li><span class='ee-k'>0:</span><span class='ee-v'>-3.6984542472518163</span></li><li><span class='ee-k'>1:</span><span class='ee-v'>6.100728054994626</span></li></ul></li><li><label class='ee-shut'>3: [-3.698365062549296, 6.100728018662418]<input type='checkbox' class='ee-toggle'></label><ul><li><span class='ee-k'>0:</span><span class='ee-v'>-3.698365062549296</span></li><li><span class='ee-k'>1:</span><span class='ee-v'>6.100728018662418</span></li></ul></li><li><label class='ee-shut'>4: [-3.698365062549296, 6.100906427169895]<input type='checkbox' class='ee-toggle'></label><ul><li><span class='ee-k'>0:</span><span class='ee-v'>-3.698365062549296</span></li><li><span class='ee-k'>1:</span><span class='ee-v'>6.100906427169895</span></li></ul></li><li><label class='ee-shut'>5: [-3.698543432111531, 6.100906419095698]<input type='checkbox' class='ee-toggle'></label><ul><li><span class='ee-k'>0:</span><span class='ee-v'>-3.698543432111531</span></li><li><span class='ee-k'>1:</span><span class='ee-v'>6.100906419095698</span></li></ul></li><li><label class='ee-shut'>6: [-3.698543432111531, 6.101000021217944]<input type='checkbox' class='ee-toggle'></label><ul><li><span class='ee-k'>0:</span><span class='ee-v'>-3.698543432111531</span></li><li><span class='ee-k'>1:</span><span class='ee-v'>6.101000021217944</span></li></ul></li><li><label class='ee-shut'>7: [-3.698365062549296, 6.1010000293086994]<input type='checkbox' class='ee-toggle'></label><ul><li><span class='ee-k'>0:</span><span class='ee-v'>-3.698365062549296</span></li><li><span class='ee-k'>1:</span><span class='ee-v'>6.1010000293086994</span></li></ul></li><li><label class='ee-shut'>8: [-3.698365062549296, 6.101089193548285]<input type='checkbox' class='ee-toggle'></label><ul><li><span class='ee-k'>0:</span><span class='ee-v'>-3.698365062549296</span></li><li><span class='ee-k'>1:</span><span class='ee-v'>6.101089193548285</span></li></ul></li><li><label class='ee-shut'>9: [-3.698275878003969, 6.101089237923604]<input type='checkbox' class='ee-toggle'></label><ul><li><span class='ee-k'>0:</span><span class='ee-v'>-3.698275878003969</span></li><li><span class='ee-k'>1:</span><span class='ee-v'>6.101089237923604</span></li></ul></li><li><label class='ee-shut'>10: [-3.698275878003969, 6.100999992984504]<input type='checkbox' class='ee-toggle'></label><ul><li><span class='ee-k'>0:</span><span class='ee-v'>-3.698275878003969</span></li><li><span class='ee-k'>1:</span><span class='ee-v'>6.100999992984504</span></li></ul></li><li><label class='ee-shut'>11: [-3.6981822034337832, 6.101000068006756]<input type='checkbox' class='ee-toggle'></label><ul><li><span class='ee-k'>0:</span><span class='ee-v'>-3.6981822034337832</span></li><li><span class='ee-k'>1:</span><span class='ee-v'>6.101000068006756</span></li></ul></li><li><label class='ee-shut'>12: [-3.6981822034337832, 6.101178396648338]<input type='checkbox' class='ee-toggle'></label><ul><li><span class='ee-k'>0:</span><span class='ee-v'>-3.6981822034337832</span></li><li><span class='ee-k'>1:</span><span class='ee-v'>6.101178396648338</span></li></ul></li><li><label class='ee-shut'>13: [-3.698275878003969, 6.101178402301123]<input type='checkbox' class='ee-toggle'></label><ul><li><span class='ee-k'>0:</span><span class='ee-v'>-3.698275878003969</span></li><li><span class='ee-k'>1:</span><span class='ee-v'>6.101178402301123</span></li></ul></li><li><label class='ee-shut'>14: [-3.698275878003969, 6.101267566808632]<input type='checkbox' class='ee-toggle'></label><ul><li><span class='ee-k'>0:</span><span class='ee-v'>-3.698275878003969</span></li><li><span class='ee-k'>1:</span><span class='ee-v'>6.101267566808632</span></li></ul></li><li><label class='ee-shut'>15: [-3.6984542472518163, 6.101267558702267]<input type='checkbox' class='ee-toggle'></label><ul><li><span class='ee-k'>0:</span><span class='ee-v'>-3.6984542472518163</span></li><li><span class='ee-k'>1:</span><span class='ee-v'>6.101267558702267</span></li></ul></li><li><label class='ee-shut'>16: [-3.6984542472518163, 6.101445968767847]<input type='checkbox' class='ee-toggle'></label><ul><li><span class='ee-k'>0:</span><span class='ee-v'>-3.6984542472518163</span></li><li><span class='ee-k'>1:</span><span class='ee-v'>6.101445968767847</span></li></ul></li><li><label class='ee-shut'>17: [-3.698543432111531, 6.101445924329029]<input type='checkbox' class='ee-toggle'></label><ul><li><span class='ee-k'>0:</span><span class='ee-v'>-3.698543432111531</span></li><li><span class='ee-k'>1:</span><span class='ee-v'>6.101445924329029</span></li></ul></li><li><label class='ee-shut'>18: [-3.698543432111531, 6.101807103390496]<input type='checkbox' class='ee-toggle'></label><ul><li><span class='ee-k'>0:</span><span class='ee-v'>-3.698543432111531</span></li><li><span class='ee-k'>1:</span><span class='ee-v'>6.101807103390496</span></li></ul></li><li><label class='ee-shut'>19: [-3.6987218023025363, 6.101807095093528]<input type='checkbox' class='ee-toggle'></label><ul><li><span class='ee-k'>0:</span><span class='ee-v'>-3.6987218023025363</span></li><li><span class='ee-k'>1:</span><span class='ee-v'>6.101807095093528</span></li></ul></li><li><label class='ee-shut'>20: [-3.6987218023025363, 6.1018963411708675]<input type='checkbox' class='ee-toggle'></label><ul><li><span class='ee-k'>0:</span><span class='ee-v'>-3.6987218023025363</span></li><li><span class='ee-k'>1:</span><span class='ee-v'>6.1018963411708675</span></li></ul></li><li><label class='ee-shut'>21: [-3.698815400453777, 6.10189634718525]<input type='checkbox' class='ee-toggle'></label><ul><li><span class='ee-k'>0:</span><span class='ee-v'>-3.698815400453777</span></li><li><span class='ee-k'>1:</span><span class='ee-v'>6.10189634718525</span></li></ul></li><li><label class='ee-shut'>22: [-3.698815400453777, 6.102163844094605]<input type='checkbox' class='ee-toggle'></label><ul><li><span class='ee-k'>0:</span><span class='ee-v'>-3.698815400453777</span></li><li><span class='ee-k'>1:</span><span class='ee-v'>6.102163844094605</span></li></ul></li><li><label class='ee-shut'>23: [-3.698904585950036, 6.10216388022065]<input type='checkbox' class='ee-toggle'></label><ul><li><span class='ee-k'>0:</span><span class='ee-v'>-3.698904585950036</span></li><li><span class='ee-k'>1:</span><span class='ee-v'>6.10216388022065</span></li></ul></li><li><label class='ee-shut'>24: [-3.698904585950036, 6.102346650258827]<input type='checkbox' class='ee-toggle'></label><ul><li><span class='ee-k'>0:</span><span class='ee-v'>-3.698904585950036</span></li><li><span class='ee-k'>1:</span><span class='ee-v'>6.102346650258827</span></li></ul></li><li><label class='ee-shut'>25: [-3.6989937716034866, 6.102346686352955]<input type='checkbox' class='ee-toggle'></label><ul><li><span class='ee-k'>0:</span><span class='ee-v'>-3.6989937716034866</span></li><li><span class='ee-k'>1:</span><span class='ee-v'>6.102346686352955</span></li></ul></li><li><label class='ee-shut'>26: [-3.6989937716034866, 6.102257520335743]<input type='checkbox' class='ee-toggle'></label><ul><li><span class='ee-k'>0:</span><span class='ee-v'>-3.6989937716034866</span></li><li><span class='ee-k'>1:</span><span class='ee-v'>6.102257520335743</span></li></ul></li><li><label class='ee-shut'>27: [-3.699172143381955, 6.102257511798894]<input type='checkbox' class='ee-toggle'></label><ul><li><span class='ee-k'>0:</span><span class='ee-v'>-3.699172143381955</span></li><li><span class='ee-k'>1:</span><span class='ee-v'>6.102257511798894</span></li></ul></li><li><label class='ee-shut'>28: [-3.699172143381955, 6.1023466778003295]<input type='checkbox' class='ee-toggle'></label><ul><li><span class='ee-k'>0:</span><span class='ee-v'>-3.699172143381955</span></li><li><span class='ee-k'>1:</span><span class='ee-v'>6.1023466778003295</span></li></ul></li><li><label class='ee-shut'>29: [-3.699261329506974, 6.102346713846855]<input type='checkbox' class='ee-toggle'></label><ul><li><span class='ee-k'>0:</span><span class='ee-v'>-3.699261329506974</span></li><li><span class='ee-k'>1:</span><span class='ee-v'>6.102346713846855</span></li></ul></li><li><label class='ee-shut'>30: [-3.699261329506974, 6.102435879970442]<input type='checkbox' class='ee-toggle'></label><ul><li><span class='ee-k'>0:</span><span class='ee-v'>-3.699261329506974</span></li><li><span class='ee-k'>1:</span><span class='ee-v'>6.102435879970442</span></li></ul></li><li><label class='ee-shut'>31: [-3.6993505157891806, 6.1024358352998895]<input type='checkbox' class='ee-toggle'></label><ul><li><span class='ee-k'>0:</span><span class='ee-v'>-3.6993505157891806</span></li><li><span class='ee-k'>1:</span><span class='ee-v'>6.1024358352998895</span></li></ul></li><li><label class='ee-shut'>32: [-3.6993505157891806, 6.102614248614723]<input type='checkbox' class='ee-toggle'></label><ul><li><span class='ee-k'>0:</span><span class='ee-v'>-3.6993505157891806</span></li><li><span class='ee-k'>1:</span><span class='ee-v'>6.102614248614723</span></li></ul></li><li><label class='ee-shut'>33: [-3.6994441151033595, 6.102614254445206]<input type='checkbox' class='ee-toggle'></label><ul><li><span class='ee-k'>0:</span><span class='ee-v'>-3.6994441151033595</span></li><li><span class='ee-k'>1:</span><span class='ee-v'>6.102614254445206</span></li></ul></li><li><label class='ee-shut'>34: [-3.6994441151033595, 6.102703420942641]<input type='checkbox' class='ee-toggle'></label><ul><li><span class='ee-k'>0:</span><span class='ee-v'>-3.6994441151033595</span></li><li><span class='ee-k'>1:</span><span class='ee-v'>6.102703420942641</span></li></ul></li><li><label class='ee-shut'>35: [-3.6996224884692652, 6.102703412166685]<input type='checkbox' class='ee-toggle'></label><ul><li><span class='ee-k'>0:</span><span class='ee-v'>-3.6996224884692652</span></li><li><span class='ee-k'>1:</span><span class='ee-v'>6.102703412166685</span></li></ul></li><li><label class='ee-shut'>36: [-3.6996224884692652, 6.102257500365091]<input type='checkbox' class='ee-toggle'></label><ul><li><span class='ee-k'>0:</span><span class='ee-v'>-3.6996224884692652</span></li><li><span class='ee-k'>1:</span><span class='ee-v'>6.102257500365091</span></li></ul></li><li><label class='ee-shut'>37: [-3.6997116753879977, 6.1022575363393265]<input type='checkbox' class='ee-toggle'></label><ul><li><span class='ee-k'>0:</span><span class='ee-v'>-3.6997116753879977</span></li><li><span class='ee-k'>1:</span><span class='ee-v'>6.1022575363393265</span></li></ul></li><li><label class='ee-shut'>38: [-3.6997116753879977, 6.1021638517080055]<input type='checkbox' class='ee-toggle'></label><ul><li><span class='ee-k'>0:</span><span class='ee-v'>-3.6997116753879977</span></li><li><span class='ee-k'>1:</span><span class='ee-v'>6.1021638517080055</span></li></ul></li><li><label class='ee-shut'>39: [-3.6996224884692652, 6.102163815725541]<input type='checkbox' class='ee-toggle'></label><ul><li><span class='ee-k'>0:</span><span class='ee-v'>-3.6996224884692652</span></li><li><span class='ee-k'>1:</span><span class='ee-v'>6.102163815725541</span></li></ul></li><li><label class='ee-shut'>40: [-3.6996224884692652, 6.102074650030479]<input type='checkbox' class='ee-toggle'></label><ul><li><span class='ee-k'>0:</span><span class='ee-v'>-3.6996224884692652</span></li><li><span class='ee-k'>1:</span><span class='ee-v'>6.102074650030479</span></li></ul></li><li><label class='ee-shut'>41: [-3.6995333017077185, 6.102074694717195]<input type='checkbox' class='ee-toggle'></label><ul><li><span class='ee-k'>0:</span><span class='ee-v'>-3.6995333017077185</span></li><li><span class='ee-k'>1:</span><span class='ee-v'>6.102074694717195</span></li></ul></li><li><label class='ee-shut'>42: [-3.6995333017077185, 6.10216386042021]<input type='checkbox' class='ee-toggle'></label><ul><li><span class='ee-k'>0:</span><span class='ee-v'>-3.6995333017077185</span></li><li><span class='ee-k'>1:</span><span class='ee-v'>6.10216386042021</span></li></ul></li><li><label class='ee-shut'>43: [-3.6994441151033595, 6.102163824406015]<input type='checkbox' class='ee-toggle'></label><ul><li><span class='ee-k'>0:</span><span class='ee-v'>-3.6994441151033595</span></li><li><span class='ee-k'>1:</span><span class='ee-v'>6.102163824406015</span></li></ul></li><li><label class='ee-shut'>44: [-3.6994441151033595, 6.102257509062139]<input type='checkbox' class='ee-toggle'></label><ul><li><span class='ee-k'>0:</span><span class='ee-v'>-3.6994441151033595</span></li><li><span class='ee-k'>1:</span><span class='ee-v'>6.102257509062139</span></li></ul></li><li><label class='ee-shut'>45: [-3.6993505157891806, 6.102257503198595]<input type='checkbox' class='ee-toggle'></label><ul><li><span class='ee-k'>0:</span><span class='ee-v'>-3.6993505157891806</span></li><li><span class='ee-k'>1:</span><span class='ee-v'>6.102257503198595</span></li></ul></li><li><label class='ee-shut'>46: [-3.6993505157891806, 6.102074652814673]<input type='checkbox' class='ee-toggle'></label><ul><li><span class='ee-k'>0:</span><span class='ee-v'>-3.6993505157891806</span></li><li><span class='ee-k'>1:</span><span class='ee-v'>6.102074652814673</span></li></ul></li><li><label class='ee-shut'>47: [-3.6994441151033595, 6.1020746586951695]<input type='checkbox' class='ee-toggle'></label><ul><li><span class='ee-k'>0:</span><span class='ee-v'>-3.6994441151033595</span></li><li><span class='ee-k'>1:</span><span class='ee-v'>6.1020746586951695</span></li></ul></li><li><label class='ee-shut'>48: [-3.6994441151033595, 6.101717916459216]<input type='checkbox' class='ee-toggle'></label><ul><li><span class='ee-k'>0:</span><span class='ee-v'>-3.6994441151033595</span></li><li><span class='ee-k'>1:</span><span class='ee-v'>6.101717916459216</span></li></ul></li><li><label class='ee-shut'>49: [-3.699261329506974, 6.101717955152218]<input type='checkbox' class='ee-toggle'></label><ul><li><span class='ee-k'>0:</span><span class='ee-v'>-3.699261329506974</span></li><li><span class='ee-k'>1:</span><span class='ee-v'>6.101717955152218</span></li></ul></li><li><label class='ee-shut'>50: [-3.699261329506974, 6.101535106365091]<input type='checkbox' class='ee-toggle'></label><ul><li><span class='ee-k'>0:</span><span class='ee-v'>-3.699261329506974</span></li><li><span class='ee-k'>1:</span><span class='ee-v'>6.101535106365091</span></li></ul></li><li><label class='ee-shut'>51: [-3.6993505157891806, 6.1015351424670135]<input type='checkbox' class='ee-toggle'></label><ul><li><span class='ee-k'>0:</span><span class='ee-v'>-3.6993505157891806</span></li><li><span class='ee-k'>1:</span><span class='ee-v'>6.1015351424670135</span></li></ul></li><li><label class='ee-shut'>52: [-3.6993505157891806, 6.101445977664389]<input type='checkbox' class='ee-toggle'></label><ul><li><span class='ee-k'>0:</span><span class='ee-v'>-3.6993505157891806</span></li><li><span class='ee-k'>1:</span><span class='ee-v'>6.101445977664389</span></li></ul></li><li><label class='ee-shut'>53: [-3.6995333017077185, 6.101445938988333]<input type='checkbox' class='ee-toggle'></label><ul><li><span class='ee-k'>0:</span><span class='ee-v'>-3.6995333017077185</span></li><li><span class='ee-k'>1:</span><span class='ee-v'>6.101445938988333</span></li></ul></li><li><label class='ee-shut'>54: [-3.6995333017077185, 6.101535103774748]<input type='checkbox' class='ee-toggle'></label><ul><li><span class='ee-k'>0:</span><span class='ee-v'>-3.6995333017077185</span></li><li><span class='ee-k'>1:</span><span class='ee-v'>6.101535103774748</span></li></ul></li><li><label class='ee-shut'>55: [-3.6996224884692652, 6.10153513982829]<input type='checkbox' class='ee-toggle'></label><ul><li><span class='ee-k'>0:</span><span class='ee-v'>-3.6996224884692652</span></li><li><span class='ee-k'>1:</span><span class='ee-v'>6.10153513982829</span></li></ul></li><li><label class='ee-shut'>56: [-3.6996224884692652, 6.101356729709185]<input type='checkbox' class='ee-toggle'></label><ul><li><span class='ee-k'>0:</span><span class='ee-v'>-3.6996224884692652</span></li><li><span class='ee-k'>1:</span><span class='ee-v'>6.101356729709185</span></li></ul></li><li><label class='ee-shut'>57: [-3.6997116753879977, 6.101356765762526]<input type='checkbox' class='ee-toggle'></label><ul><li><span class='ee-k'>0:</span><span class='ee-v'>-3.6997116753879977</span></li><li><span class='ee-k'>1:</span><span class='ee-v'>6.101356765762526</span></li></ul></li><li><label class='ee-shut'>58: [-3.6997116753879977, 6.101535095173807]<input type='checkbox' class='ee-toggle'></label><ul><li><span class='ee-k'>0:</span><span class='ee-v'>-3.6997116753879977</span></li><li><span class='ee-k'>1:</span><span class='ee-v'>6.101535095173807</span></li></ul></li><li><label class='ee-shut'>59: [-3.6998008624639156, 6.101535131195622]<input type='checkbox' class='ee-toggle'></label><ul><li><span class='ee-k'>0:</span><span class='ee-v'>-3.6998008624639156</span></li><li><span class='ee-k'>1:</span><span class='ee-v'>6.101535131195622</span></li></ul></li><li><label class='ee-shut'>60: [-3.6998008624639156, 6.1017179798850325]<input type='checkbox' class='ee-toggle'></label><ul><li><span class='ee-k'>0:</span><span class='ee-v'>-3.6998008624639156</span></li><li><span class='ee-k'>1:</span><span class='ee-v'>6.1017179798850325</span></li></ul></li><li><label class='ee-shut'>61: [-3.7002512131464327, 6.101717968127537]<input type='checkbox' class='ee-toggle'></label><ul><li><span class='ee-k'>0:</span><span class='ee-v'>-3.7002512131464327</span></li><li><span class='ee-k'>1:</span><span class='ee-v'>6.101717968127537</span></li></ul></li><li><label class='ee-shut'>62: [-3.7002512131464327, 6.101445954796826]<input type='checkbox' class='ee-toggle'></label><ul><li><span class='ee-k'>0:</span><span class='ee-v'>-3.7002512131464327</span></li><li><span class='ee-k'>1:</span><span class='ee-v'>6.101445954796826</span></li></ul></li><li><label class='ee-shut'>63: [-3.700162025276817, 6.101445918847292]<input type='checkbox' class='ee-toggle'></label><ul><li><span class='ee-k'>0:</span><span class='ee-v'>-3.700162025276817</span></li><li><span class='ee-k'>1:</span><span class='ee-v'>6.101445918847292</span></li></ul></li><li><label class='ee-shut'>64: [-3.700162025276817, 6.101356754246468]<input type='checkbox' class='ee-toggle'></label><ul><li><span class='ee-k'>0:</span><span class='ee-v'>-3.700162025276817</span></li><li><span class='ee-k'>1:</span><span class='ee-v'>6.101356754246468</span></li></ul></li><li><label class='ee-shut'>65: [-3.7002512131464327, 6.101356790203839]<input type='checkbox' class='ee-toggle'></label><ul><li><span class='ee-k'>0:</span><span class='ee-v'>-3.7002512131464327</span></li><li><span class='ee-k'>1:</span><span class='ee-v'>6.101356790203839</span></li></ul></li><li><label class='ee-shut'>66: [-3.7002512131464327, 6.101267545049074]<input type='checkbox' class='ee-toggle'></label><ul><li><span class='ee-k'>0:</span><span class='ee-v'>-3.7002512131464327</span></li><li><span class='ee-k'>1:</span><span class='ee-v'>6.101267545049074</span></li></ul></li><li><label class='ee-shut'>67: [-3.7003404011732313, 6.101267580998415]<input type='checkbox' class='ee-toggle'></label><ul><li><span class='ee-k'>0:</span><span class='ee-v'>-3.7003404011732313</span></li><li><span class='ee-k'>1:</span><span class='ee-v'>6.101267580998415</span></li></ul></li><li><label class='ee-shut'>68: [-3.7003404011732313, 6.101089171786756]<input type='checkbox' class='ee-toggle'></label><ul><li><span class='ee-k'>0:</span><span class='ee-v'>-3.7003404011732313</span></li><li><span class='ee-k'>1:</span><span class='ee-v'>6.101089171786756</span></li></ul></li><li><label class='ee-shut'>69: [-3.7002512131464327, 6.1010892165132775]<input type='checkbox' class='ee-toggle'></label><ul><li><span class='ee-k'>0:</span><span class='ee-v'>-3.7002512131464327</span></li><li><span class='ee-k'>1:</span><span class='ee-v'>6.1010892165132775</span></li></ul></li><li><label class='ee-shut'>70: [-3.7002512131464327, 6.1009063697852355]<input type='checkbox' class='ee-toggle'></label><ul><li><span class='ee-k'>0:</span><span class='ee-v'>-3.7002512131464327</span></li><li><span class='ee-k'>1:</span><span class='ee-v'>6.1009063697852355</span></li></ul></li><li><label class='ee-shut'>71: [-3.7003404011732313, 6.100906405766297]<input type='checkbox' class='ee-toggle'></label><ul><li><span class='ee-k'>0:</span><span class='ee-v'>-3.7003404011732313</span></li><li><span class='ee-k'>1:</span><span class='ee-v'>6.100906405766297</span></li></ul></li><li><label class='ee-shut'>72: [-3.7003404011732313, 6.1007279976082165]<input type='checkbox' class='ee-toggle'></label><ul><li><span class='ee-k'>0:</span><span class='ee-v'>-3.7003404011732313</span></li><li><span class='ee-k'>1:</span><span class='ee-v'>6.1007279976082165</span></li></ul></li><li><label class='ee-shut'>73: [-3.7002512131464327, 6.1007280423025305]<input type='checkbox' class='ee-toggle'></label><ul><li><span class='ee-k'>0:</span><span class='ee-v'>-3.7002512131464327</span></li><li><span class='ee-k'>1:</span><span class='ee-v'>6.1007280423025305</span></li></ul></li><li><label class='ee-shut'>74: [-3.7002512131464327, 6.100460471362717]<input type='checkbox' class='ee-toggle'></label><ul><li><span class='ee-k'>0:</span><span class='ee-v'>-3.7002512131464327</span></li><li><span class='ee-k'>1:</span><span class='ee-v'>6.100460471362717</span></li></ul></li><li><label class='ee-shut'>75: [-3.700162025276817, 6.100460516017321]<input type='checkbox' class='ee-toggle'></label><ul><li><span class='ee-k'>0:</span><span class='ee-v'>-3.700162025276817</span></li><li><span class='ee-k'>1:</span><span class='ee-v'>6.100460516017321</span></li></ul></li><li><label class='ee-shut'>76: [-3.700162025276817, 6.1003712721625165]<input type='checkbox' class='ee-toggle'></label><ul><li><span class='ee-k'>0:</span><span class='ee-v'>-3.700162025276817</span></li><li><span class='ee-k'>1:</span><span class='ee-v'>6.1003712721625165</span></li></ul></li><li><label class='ee-shut'>77: [-3.699979237087307, 6.100371310872281]<input type='checkbox' class='ee-toggle'></label><ul><li><span class='ee-k'>0:</span><span class='ee-v'>-3.699979237087307</span></li><li><span class='ee-k'>1:</span><span class='ee-v'>6.100371310872281</span></li></ul></li><li><label class='ee-shut'>78: [-3.699979237087307, 6.100099303457516]<input type='checkbox' class='ee-toggle'></label><ul><li><span class='ee-k'>0:</span><span class='ee-v'>-3.699979237087307</span></li><li><span class='ee-k'>1:</span><span class='ee-v'>6.100099303457516</span></li></ul></li><li><label class='ee-shut'>79: [-3.700072837564384, 6.100099309403761]<input type='checkbox' class='ee-toggle'></label><ul><li><span class='ee-k'>0:</span><span class='ee-v'>-3.700072837564384</span></li><li><span class='ee-k'>1:</span><span class='ee-v'>6.100099309403761</span></li></ul></li><li><label class='ee-shut'>80: [-3.700072837564384, 6.099920903552793]<input type='checkbox' class='ee-toggle'></label><ul><li><span class='ee-k'>0:</span><span class='ee-v'>-3.700072837564384</span></li><li><span class='ee-k'>1:</span><span class='ee-v'>6.099920903552793</span></li></ul></li><li><label class='ee-shut'>81: [-3.699890049697019, 6.099920942148157]<input type='checkbox' class='ee-toggle'></label><ul><li><span class='ee-k'>0:</span><span class='ee-v'>-3.699890049697019</span></li><li><span class='ee-k'>1:</span><span class='ee-v'>6.099920942148157</span></li></ul></li><li><label class='ee-shut'>82: [-3.699890049697019, 6.099831779746575]<input type='checkbox' class='ee-toggle'></label><ul><li><span class='ee-k'>0:</span><span class='ee-v'>-3.699890049697019</span></li><li><span class='ee-k'>1:</span><span class='ee-v'>6.099831779746575</span></li></ul></li><li><label class='ee-shut'>83: [-3.6995333017077185, 6.099831715719102]<input type='checkbox' class='ee-toggle'></label><ul><li><span class='ee-k'>0:</span><span class='ee-v'>-3.6995333017077185</span></li><li><span class='ee-k'>1:</span><span class='ee-v'>6.099831715719102</span></li></ul></li><li><label class='ee-shut'>84: [-3.6995333017077185, 6.099742553416076]<input type='checkbox' class='ee-toggle'></label><ul><li><span class='ee-k'>0:</span><span class='ee-v'>-3.6995333017077185</span></li><li><span class='ee-k'>1:</span><span class='ee-v'>6.099742553416076</span></li></ul></li><li><label class='ee-shut'>85: [-3.6994441151033595, 6.09974259787906]<input type='checkbox' class='ee-toggle'></label><ul><li><span class='ee-k'>0:</span><span class='ee-v'>-3.6994441151033595</span></li><li><span class='ee-k'>1:</span><span class='ee-v'>6.09974259787906</span></li></ul></li><li><label class='ee-shut'>86: [-3.6994441151033595, 6.099648917075178]<input type='checkbox' class='ee-toggle'></label><ul><li><span class='ee-k'>0:</span><span class='ee-v'>-3.6994441151033595</span></li><li><span class='ee-k'>1:</span><span class='ee-v'>6.099648917075178</span></li></ul></li><li><label class='ee-shut'>87: [-3.699172143381955, 6.099648919108584]<input type='checkbox' class='ee-toggle'></label><ul><li><span class='ee-k'>0:</span><span class='ee-v'>-3.699172143381955</span></li><li><span class='ee-k'>1:</span><span class='ee-v'>6.099648919108584</span></li></ul></li><li><label class='ee-shut'>88: [-3.699172143381955, 6.099831762272743]<input type='checkbox' class='ee-toggle'></label><ul><li><span class='ee-k'>0:</span><span class='ee-v'>-3.699172143381955</span></li><li><span class='ee-k'>1:</span><span class='ee-v'>6.099831762272743</span></li></ul></li><li><label class='ee-shut'>89: [-3.699082957414126, 6.099831725989519]<input type='checkbox' class='ee-toggle'></label><ul><li><span class='ee-k'>0:</span><span class='ee-v'>-3.699082957414126</span></li><li><span class='ee-k'>1:</span><span class='ee-v'>6.099831725989519</span></li></ul></li><li><label class='ee-shut'>90: [-3.699082957414126, 6.099920888462361]<input type='checkbox' class='ee-toggle'></label><ul><li><span class='ee-k'>0:</span><span class='ee-v'>-3.699082957414126</span></li><li><span class='ee-k'>1:</span><span class='ee-v'>6.099920888462361</span></li></ul></li><li><label class='ee-shut'>91: [-3.6989937716034866, 6.0999209328611865]<input type='checkbox' class='ee-toggle'></label><ul><li><span class='ee-k'>0:</span><span class='ee-v'>-3.6989937716034866</span></li><li><span class='ee-k'>1:</span><span class='ee-v'>6.0999209328611865</span></li></ul></li><li><label class='ee-shut'>92: [-3.6989937716034866, 6.100099258212755]<input type='checkbox' class='ee-toggle'></label><ul><li><span class='ee-k'>0:</span><span class='ee-v'>-3.6989937716034866</span></li><li><span class='ee-k'>1:</span><span class='ee-v'>6.100099258212755</span></li></ul></li><li><label class='ee-shut'>93: [-3.698904585950036, 6.100099302611627]<input type='checkbox' class='ee-toggle'></label><ul><li><span class='ee-k'>0:</span><span class='ee-v'>-3.698904585950036</span></li><li><span class='ee-k'>1:</span><span class='ee-v'>6.100099302611627</span></li></ul></li><li><label class='ee-shut'>94: [-3.698904585950036, 6.100277628499075]<input type='checkbox' class='ee-toggle'></label><ul><li><span class='ee-k'>0:</span><span class='ee-v'>-3.698904585950036</span></li><li><span class='ee-k'>1:</span><span class='ee-v'>6.100277628499075</span></li></ul></li><li><label class='ee-shut'>95: [-3.6989937716034866, 6.100277664774868]<input type='checkbox' class='ee-toggle'></label><ul><li><span class='ee-k'>0:</span><span class='ee-v'>-3.6989937716034866</span></li><li><span class='ee-k'>1:</span><span class='ee-v'>6.100277664774868</span></li></ul></li><li><label class='ee-shut'>96: [-3.6989937716034866, 6.100549673248657]<input type='checkbox' class='ee-toggle'></label><ul><li><span class='ee-k'>0:</span><span class='ee-v'>-3.6989937716034866</span></li><li><span class='ee-k'>1:</span><span class='ee-v'>6.100549673248657</span></li></ul></li><li><label class='ee-shut'>97: [-3.698815400453777, 6.100549681419898]<input type='checkbox' class='ee-toggle'></label><ul><li><span class='ee-k'>0:</span><span class='ee-v'>-3.698815400453777</span></li><li><span class='ee-k'>1:</span><span class='ee-v'>6.100549681419898</span></li></ul></li><li><label class='ee-shut'>98: [-3.698815400453777, 6.100728008636353]<input type='checkbox' class='ee-toggle'></label><ul><li><span class='ee-k'>0:</span><span class='ee-v'>-3.698815400453777</span></li><li><span class='ee-k'>1:</span><span class='ee-v'>6.100728008636353</span></li></ul></li><li><label class='ee-shut'>99: [-3.698632617128437, 6.100728046920266]<input type='checkbox' class='ee-toggle'></label><ul><li><span class='ee-k'>0:</span><span class='ee-v'>-3.698632617128437</span></li><li><span class='ee-k'>1:</span><span class='ee-v'>6.100728046920266</span></li></ul></li><li><label class='ee-shut'>100: [-3.698632617128437, 6.10063880253977]<input type='checkbox' class='ee-toggle'></label><ul><li><span class='ee-k'>0:</span><span class='ee-v'>-3.698632617128437</span></li><li><span class='ee-k'>1:</span><span class='ee-v'>6.10063880253977</span></li></ul></li><li><label class='ee-shut'>101: [-3.6987218023025363, 6.100638838832226]<input type='checkbox' class='ee-toggle'></label><ul><li><span class='ee-k'>0:</span><span class='ee-v'>-3.6987218023025363</span></li><li><span class='ee-k'>1:</span><span class='ee-v'>6.100638838832226</span></li></ul></li><li><label class='ee-shut'>102: [-3.6987218023025363, 6.100549675280731]<input type='checkbox' class='ee-toggle'></label><ul><li><span class='ee-k'>0:</span><span class='ee-v'>-3.6987218023025363</span></li><li><span class='ee-k'>1:</span><span class='ee-v'>6.100549675280731</span></li></ul></li></ul></li></ul></li></ul></li><li><label class='ee-shut'>properties: Object (3 properties)<input type='checkbox' class='ee-toggle'></label><ul><li><span class='ee-k'>count:</span><span class='ee-v'>416</span></li><li><span class='ee-k'>label:</span><span class='ee-v'>-1068478278</span></li><li><span class='ee-k'>random:</span><span class='ee-v'>0.00044013389639474543</span></li></ul></li></ul></li><li><label class='ee-shut'>5: Feature (Polygon, 3 properties)<input type='checkbox' class='ee-toggle'></label><ul><li><span class='ee-k'>type:</span><span class='ee-v'>Feature</span></li><li><span class='ee-k'>id:</span><span class='ee-v'>000000000000000009d2</span></li><li><label class='ee-shut'>geometry: Polygon (73 vertices)<input type='checkbox' class='ee-toggle'></label><ul><li><span class='ee-k'>type:</span><span class='ee-v'>Polygon</span></li><li><label class='ee-shut'>coordinates: List (1 element)<input type='checkbox' class='ee-toggle'></label><ul><li><label class='ee-shut'>0: List (73 elements)<input type='checkbox' class='ee-toggle'></label><ul><li><label class='ee-shut'>0: [-3.5610113608955087, 6.141243401758506]<input type='checkbox' class='ee-toggle'></label><ul><li><span class='ee-k'>0:</span><span class='ee-v'>-3.5610113608955087</span></li><li><span class='ee-k'>1:</span><span class='ee-v'>6.141243401758506</span></li></ul></li><li><label class='ee-shut'>1: [-3.5610113608955087, 6.141421790617167]<input type='checkbox' class='ee-toggle'></label><ul><li><span class='ee-k'>0:</span><span class='ee-v'>-3.5610113608955087</span></li><li><span class='ee-k'>1:</span><span class='ee-v'>6.141421790617167</span></li></ul></li><li><label class='ee-shut'>2: [-3.5609221877876536, 6.141421815601845]<input type='checkbox' class='ee-toggle'></label><ul><li><span class='ee-k'>0:</span><span class='ee-v'>-3.5609221877876536</span></li><li><span class='ee-k'>1:</span><span class='ee-v'>6.141421815601845</span></li></ul></li><li><label class='ee-shut'>3: [-3.5609221877876536, 6.1416938010847675]<input type='checkbox' class='ee-toggle'></label><ul><li><span class='ee-k'>0:</span><span class='ee-v'>-3.5609221877876536</span></li><li><span class='ee-k'>1:</span><span class='ee-v'>6.1416938010847675</span></li></ul></li><li><label class='ee-shut'>4: [-3.5604717695126427, 6.1416937945229275]<input type='checkbox' class='ee-toggle'></label><ul><li><span class='ee-k'>0:</span><span class='ee-v'>-3.5604717695126427</span></li><li><span class='ee-k'>1:</span><span class='ee-v'>6.1416937945229275</span></li></ul></li><li><label class='ee-shut'>5: [-3.5604717695126427, 6.141600117636363]<input type='checkbox' class='ee-toggle'></label><ul><li><span class='ee-k'>0:</span><span class='ee-v'>-3.5604717695126427</span></li><li><span class='ee-k'>1:</span><span class='ee-v'>6.141600117636363</span></li></ul></li><li><label class='ee-shut'>6: [-3.560382597365912, 6.141600142539947]<input type='checkbox' class='ee-toggle'></label><ul><li><span class='ee-k'>0:</span><span class='ee-v'>-3.560382597365912</span></li><li><span class='ee-k'>1:</span><span class='ee-v'>6.141600142539947</span></li></ul></li><li><label class='ee-shut'>7: [-3.560382597365912, 6.141421753055951]<input type='checkbox' class='ee-toggle'></label><ul><li><span class='ee-k'>0:</span><span class='ee-v'>-3.560382597365912</span></li><li><span class='ee-k'>1:</span><span class='ee-v'>6.141421753055951</span></li></ul></li><li><label class='ee-shut'>8: [-3.560115081878745, 6.141421746869829]<input type='checkbox' class='ee-toggle'></label><ul><li><span class='ee-k'>0:</span><span class='ee-v'>-3.560115081878745</span></li><li><span class='ee-k'>1:</span><span class='ee-v'>6.141421746869829</span></li></ul></li><li><label class='ee-shut'>9: [-3.560115081878745, 6.141600136399294]<input type='checkbox' class='ee-toggle'></label><ul><li><span class='ee-k'>0:</span><span class='ee-v'>-3.560115081878745</span></li><li><span class='ee-k'>1:</span><span class='ee-v'>6.141600136399294</span></li></ul></li><li><label class='ee-shut'>10: [-3.5599322611502293, 6.1416001349403615]<input type='checkbox' class='ee-toggle'></label><ul><li><span class='ee-k'>0:</span><span class='ee-v'>-3.5599322611502293</span></li><li><span class='ee-k'>1:</span><span class='ee-v'>6.1416001349403615</span></li></ul></li><li><label class='ee-shut'>11: [-3.5599322611502293, 6.141693811875124]<input type='checkbox' class='ee-toggle'></label><ul><li><span class='ee-k'>0:</span><span class='ee-v'>-3.5599322611502293</span></li><li><span class='ee-k'>1:</span><span class='ee-v'>6.141693811875124</span></li></ul></li><li><label class='ee-shut'>12: [-3.5597538417333405, 6.141693781244593]<input type='checkbox' class='ee-toggle'></label><ul><li><span class='ee-k'>0:</span><span class='ee-v'>-3.5597538417333405</span></li><li><span class='ee-k'>1:</span><span class='ee-v'>6.141693781244593</span></li></ul></li><li><label class='ee-shut'>13: [-3.5597538417333405, 6.1417829359924845]<input type='checkbox' class='ee-toggle'></label><ul><li><span class='ee-k'>0:</span><span class='ee-v'>-3.5597538417333405</span></li><li><span class='ee-k'>1:</span><span class='ee-v'>6.1417829359924845</span></li></ul></li><li><label class='ee-shut'>14: [-3.5596646708654363, 6.141782960783513]<input type='checkbox' class='ee-toggle'></label><ul><li><span class='ee-k'>0:</span><span class='ee-v'>-3.5596646708654363</span></li><li><span class='ee-k'>1:</span><span class='ee-v'>6.141782960783513</span></li></ul></li><li><label class='ee-shut'>15: [-3.5596646708654363, 6.141872115668529]<input type='checkbox' class='ee-toggle'></label><ul><li><span class='ee-k'>0:</span><span class='ee-v'>-3.5596646708654363</span></li><li><span class='ee-k'>1:</span><span class='ee-v'>6.141872115668529</span></li></ul></li><li><label class='ee-shut'>16: [-3.5594863296061487, 6.1418721652180635]<input type='checkbox' class='ee-toggle'></label><ul><li><span class='ee-k'>0:</span><span class='ee-v'>-3.5594863296061487</span></li><li><span class='ee-k'>1:</span><span class='ee-v'>6.1418721652180635</span></li></ul></li><li><label class='ee-shut'>17: [-3.5594863296061487, 6.141961320247811]<input type='checkbox' class='ee-toggle'></label><ul><li><span class='ee-k'>0:</span><span class='ee-v'>-3.5594863296061487</span></li><li><span class='ee-k'>1:</span><span class='ee-v'>6.141961320247811</span></li></ul></li><li><label class='ee-shut'>18: [-3.5592143411081643, 6.141961343347508]<input type='checkbox' class='ee-toggle'></label><ul><li><span class='ee-k'>0:</span><span class='ee-v'>-3.5592143411081643</span></li><li><span class='ee-k'>1:</span><span class='ee-v'>6.141961343347508</span></li></ul></li><li><label class='ee-shut'>19: [-3.5592143411081643, 6.141872188294622]<input type='checkbox' class='ee-toggle'></label><ul><li><span class='ee-k'>0:</span><span class='ee-v'>-3.5592143411081643</span></li><li><span class='ee-k'>1:</span><span class='ee-v'>6.141872188294622</span></li></ul></li><li><label class='ee-shut'>20: [-3.559303511173879, 6.141872163576365]<input type='checkbox' class='ee-toggle'></label><ul><li><span class='ee-k'>0:</span><span class='ee-v'>-3.559303511173879</span></li><li><span class='ee-k'>1:</span><span class='ee-v'>6.141872163576365</span></li></ul></li><li><label class='ee-shut'>21: [-3.559303511173879, 6.1417829279043925]<input type='checkbox' class='ee-toggle'></label><ul><li><span class='ee-k'>0:</span><span class='ee-v'>-3.559303511173879</span></li><li><span class='ee-k'>1:</span><span class='ee-v'>6.1417829279043925</span></li></ul></li><li><label class='ee-shut'>22: [-3.5592143411081643, 6.141782952615026]<input type='checkbox' class='ee-toggle'></label><ul><li><span class='ee-k'>0:</span><span class='ee-v'>-3.5592143411081643</span></li><li><span class='ee-k'>1:</span><span class='ee-v'>6.141782952615026</span></li></ul></li><li><label class='ee-shut'>23: [-3.5592143411081643, 6.141600120822439]<input type='checkbox' class='ee-toggle'></label><ul><li><span class='ee-k'>0:</span><span class='ee-v'>-3.5592143411081643</span></li><li><span class='ee-k'>1:</span><span class='ee-v'>6.141600120822439</span></li></ul></li><li><label class='ee-shut'>24: [-3.559125171201292, 6.141600145501551]<input type='checkbox' class='ee-toggle'></label><ul><li><span class='ee-k'>0:</span><span class='ee-v'>-3.559125171201292</span></li><li><span class='ee-k'>1:</span><span class='ee-v'>6.141600145501551</span></li></ul></li><li><label class='ee-shut'>25: [-3.559125171201292, 6.141421755803757]<input type='checkbox' class='ee-toggle'></label><ul><li><span class='ee-k'>0:</span><span class='ee-v'>-3.559125171201292</span></li><li><span class='ee-k'>1:</span><span class='ee-v'>6.141421755803757</span></li></ul></li><li><label class='ee-shut'>26: [-3.558674769094873, 6.141421747504583]<input type='checkbox' class='ee-toggle'></label><ul><li><span class='ee-k'>0:</span><span class='ee-v'>-3.558674769094873</span></li><li><span class='ee-k'>1:</span><span class='ee-v'>6.141421747504583</span></li></ul></li><li><label class='ee-shut'>27: [-3.558674769094873, 6.142322504069671]<input type='checkbox' class='ee-toggle'></label><ul><li><span class='ee-k'>0:</span><span class='ee-v'>-3.558674769094873</span></li><li><span class='ee-k'>1:</span><span class='ee-v'>6.142322504069671</span></li></ul></li><li><label class='ee-shut'>28: [-3.5587639381994025, 6.142322479409297]<input type='checkbox' class='ee-toggle'></label><ul><li><span class='ee-k'>0:</span><span class='ee-v'>-3.5587639381994025</span></li><li><span class='ee-k'>1:</span><span class='ee-v'>6.142322479409297</span></li></ul></li><li><label class='ee-shut'>29: [-3.5587639381994025, 6.142411715911609]<input type='checkbox' class='ee-toggle'></label><ul><li><span class='ee-k'>0:</span><span class='ee-v'>-3.5587639381994025</span></li><li><span class='ee-k'>1:</span><span class='ee-v'>6.142411715911609</span></li></ul></li><li><label class='ee-shut'>30: [-3.5588575852308426, 6.142411661600409]<input type='checkbox' class='ee-toggle'></label><ul><li><span class='ee-k'>0:</span><span class='ee-v'>-3.5588575852308426</span></li><li><span class='ee-k'>1:</span><span class='ee-v'>6.142411661600409</span></li></ul></li><li><label class='ee-shut'>31: [-3.5588575852308426, 6.1425008982244185]<input type='checkbox' class='ee-toggle'></label><ul><li><span class='ee-k'>0:</span><span class='ee-v'>-3.5588575852308426</span></li><li><span class='ee-k'>1:</span><span class='ee-v'>6.1425008982244185</span></li></ul></li><li><label class='ee-shut'>32: [-3.559303511173879, 6.142500854770305]<input type='checkbox' class='ee-toggle'></label><ul><li><span class='ee-k'>0:</span><span class='ee-v'>-3.559303511173879</span></li><li><span class='ee-k'>1:</span><span class='ee-v'>6.142500854770305</span></li></ul></li><li><label class='ee-shut'>33: [-3.559303511173879, 6.142411698941307]<input type='checkbox' class='ee-toggle'></label><ul><li><span class='ee-k'>0:</span><span class='ee-v'>-3.559303511173879</span></li><li><span class='ee-k'>1:</span><span class='ee-v'>6.142411698941307</span></li></ul></li><li><label class='ee-shut'>34: [-3.5593926813984407, 6.142411674161074]<input type='checkbox' class='ee-toggle'></label><ul><li><span class='ee-k'>0:</span><span class='ee-v'>-3.5593926813984407</span></li><li><span class='ee-k'>1:</span><span class='ee-v'>6.142411674161074</span></li></ul></li><li><label class='ee-shut'>35: [-3.5593926813984407, 6.142590066690599]<input type='checkbox' class='ee-toggle'></label><ul><li><span class='ee-k'>0:</span><span class='ee-v'>-3.5593926813984407</span></li><li><span class='ee-k'>1:</span><span class='ee-v'>6.142590066690599</span></li></ul></li><li><label class='ee-shut'>36: [-3.5594863296061487, 6.142590093002708]<input type='checkbox' class='ee-toggle'></label><ul><li><span class='ee-k'>0:</span><span class='ee-v'>-3.5594863296061487</span></li><li><span class='ee-k'>1:</span><span class='ee-v'>6.142590093002708</span></li></ul></li><li><label class='ee-shut'>37: [-3.5594863296061487, 6.142768405277386]<input type='checkbox' class='ee-toggle'></label><ul><li><span class='ee-k'>0:</span><span class='ee-v'>-3.5594863296061487</span></li><li><span class='ee-k'>1:</span><span class='ee-v'>6.142768405277386</span></li></ul></li><li><label class='ee-shut'>38: [-3.559575500156372, 6.142768461191532]<input type='checkbox' class='ee-toggle'></label><ul><li><span class='ee-k'>0:</span><span class='ee-v'>-3.559575500156372</span></li><li><span class='ee-k'>1:</span><span class='ee-v'>6.142768461191532</span></li></ul></li><li><label class='ee-shut'>39: [-3.559575500156372, 6.142951215643759]<input type='checkbox' class='ee-toggle'></label><ul><li><span class='ee-k'>0:</span><span class='ee-v'>-3.559575500156372</span></li><li><span class='ee-k'>1:</span><span class='ee-v'>6.142951215643759</span></li></ul></li><li><label class='ee-shut'>40: [-3.5596646708654363, 6.142951271526608]<input type='checkbox' class='ee-toggle'></label><ul><li><span class='ee-k'>0:</span><span class='ee-v'>-3.5596646708654363</span></li><li><span class='ee-k'>1:</span><span class='ee-v'>6.142951271526608</span></li></ul></li><li><label class='ee-shut'>41: [-3.5596646708654363, 6.143307979390001]<input type='checkbox' class='ee-toggle'></label><ul><li><span class='ee-k'>0:</span><span class='ee-v'>-3.5596646708654363</span></li><li><span class='ee-k'>1:</span><span class='ee-v'>6.143307979390001</span></li></ul></li><li><label class='ee-shut'>42: [-3.5597538417333405, 6.143307954468751]<input type='checkbox' class='ee-toggle'></label><ul><li><span class='ee-k'>0:</span><span class='ee-v'>-3.5597538417333405</span></li><li><span class='ee-k'>1:</span><span class='ee-v'>6.143307954468751</span></li></ul></li><li><label class='ee-shut'>43: [-3.5597538417333405, 6.1433971923196005]<input type='checkbox' class='ee-toggle'></label><ul><li><span class='ee-k'>0:</span><span class='ee-v'>-3.5597538417333405</span></li><li><span class='ee-k'>1:</span><span class='ee-v'>6.1433971923196005</span></li></ul></li><li><label class='ee-shut'>44: [-3.562447185608481, 6.143397124440378]<input type='checkbox' class='ee-toggle'></label><ul><li><span class='ee-k'>0:</span><span class='ee-v'>-3.562447185608481</span></li><li><span class='ee-k'>1:</span><span class='ee-v'>6.143397124440378</span></li></ul></li><li><label class='ee-shut'>45: [-3.562447185608481, 6.143307967576751]<input type='checkbox' class='ee-toggle'></label><ul><li><span class='ee-k'>0:</span><span class='ee-v'>-3.562447185608481</span></li><li><span class='ee-k'>1:</span><span class='ee-v'>6.143307967576751</span></li></ul></li><li><label class='ee-shut'>46: [-3.562358009943269, 6.143307992978964]<input type='checkbox' class='ee-toggle'></label><ul><li><span class='ee-k'>0:</span><span class='ee-v'>-3.562358009943269</span></li><li><span class='ee-k'>1:</span><span class='ee-v'>6.143307992978964</span></li></ul></li><li><label class='ee-shut'>47: [-3.562358009943269, 6.143218836237217]<input type='checkbox' class='ee-toggle'></label><ul><li><span class='ee-k'>0:</span><span class='ee-v'>-3.562358009943269</span></li><li><span class='ee-k'>1:</span><span class='ee-v'>6.143218836237217</span></li></ul></li><li><label class='ee-shut'>48: [-3.5620904839005783, 6.143218831567579]<input type='checkbox' class='ee-toggle'></label><ul><li><span class='ee-k'>0:</span><span class='ee-v'>-3.5620904839005783</span></li><li><span class='ee-k'>1:</span><span class='ee-v'>6.143218831567579</span></li></ul></li><li><label class='ee-shut'>49: [-3.5620904839005783, 6.143129594174821]<input type='checkbox' class='ee-toggle'></label><ul><li><span class='ee-k'>0:</span><span class='ee-v'>-3.5620904839005783</span></li><li><span class='ee-k'>1:</span><span class='ee-v'>6.143129594174821</span></li></ul></li><li><label class='ee-shut'>50: [-3.5619120567919746, 6.143129645316788]<input type='checkbox' class='ee-toggle'></label><ul><li><span class='ee-k'>0:</span><span class='ee-v'>-3.5619120567919746</span></li><li><span class='ee-k'>1:</span><span class='ee-v'>6.143129645316788</span></li></ul></li><li><label class='ee-shut'>51: [-3.5619120567919746, 6.143307958746524]<input type='checkbox' class='ee-toggle'></label><ul><li><span class='ee-k'>0:</span><span class='ee-v'>-3.5619120567919746</span></li><li><span class='ee-k'>1:</span><span class='ee-v'>6.143307958746524</span></li></ul></li><li><label class='ee-shut'>52: [-3.5615508808871, 6.143308008775214]<input type='checkbox' class='ee-toggle'></label><ul><li><span class='ee-k'>0:</span><span class='ee-v'>-3.5615508808871</span></li><li><span class='ee-k'>1:</span><span class='ee-v'>6.143308008775214</span></li></ul></li><li><label class='ee-shut'>53: [-3.5615508808871, 6.14312961452611]<input type='checkbox' class='ee-toggle'></label><ul><li><span class='ee-k'>0:</span><span class='ee-v'>-3.5615508808871</span></li><li><span class='ee-k'>1:</span><span class='ee-v'>6.14312961452611</span></li></ul></li><li><label class='ee-shut'>54: [-3.5613725329082837, 6.143129584206194]<input type='checkbox' class='ee-toggle'></label><ul><li><span class='ee-k'>0:</span><span class='ee-v'>-3.5613725329082837</span></li><li><span class='ee-k'>1:</span><span class='ee-v'>6.143129584206194</span></li></ul></li><li><label class='ee-shut'>55: [-3.5613725329082837, 6.142857592477552]<input type='checkbox' class='ee-toggle'></label><ul><li><span class='ee-k'>0:</span><span class='ee-v'>-3.5613725329082837</span></li><li><span class='ee-k'>1:</span><span class='ee-v'>6.142857592477552</span></li></ul></li><li><label class='ee-shut'>56: [-3.561278881172074, 6.142857647300468]<input type='checkbox' class='ee-toggle'></label><ul><li><span class='ee-k'>0:</span><span class='ee-v'>-3.561278881172074</span></li><li><span class='ee-k'>1:</span><span class='ee-v'>6.142857647300468</span></li></ul></li><li><label class='ee-shut'>57: [-3.561278881172074, 6.142679254313995]<input type='checkbox' class='ee-toggle'></label><ul><li><span class='ee-k'>0:</span><span class='ee-v'>-3.561278881172074</span></li><li><span class='ee-k'>1:</span><span class='ee-v'>6.142679254313995</span></li></ul></li><li><label class='ee-shut'>58: [-3.5611897075877197, 6.142679279453859]<input type='checkbox' class='ee-toggle'></label><ul><li><span class='ee-k'>0:</span><span class='ee-v'>-3.5611897075877197</span></li><li><span class='ee-k'>1:</span><span class='ee-v'>6.142679279453859</span></li></ul></li><li><label class='ee-shut'>59: [-3.5611897075877197, 6.142411731301872]<input type='checkbox' class='ee-toggle'></label><ul><li><span class='ee-k'>0:</span><span class='ee-v'>-3.5611897075877197</span></li><li><span class='ee-k'>1:</span><span class='ee-v'>6.142411731301872</span></li></ul></li><li><label class='ee-shut'>60: [-3.561640055114756, 6.142411737419176]<input type='checkbox' class='ee-toggle'></label><ul><li><span class='ee-k'>0:</span><span class='ee-v'>-3.561640055114756</span></li><li><span class='ee-k'>1:</span><span class='ee-v'>6.142411737419176</span></li></ul></li><li><label class='ee-shut'>61: [-3.561640055114756, 6.142322501161477]<input type='checkbox' class='ee-toggle'></label><ul><li><span class='ee-k'>0:</span><span class='ee-v'>-3.561640055114756</span></li><li><span class='ee-k'>1:</span><span class='ee-v'>6.142322501161477</span></li></ul></li><li><label class='ee-shut'>62: [-3.561729229501241, 6.14232255672841]<input type='checkbox' class='ee-toggle'></label><ul><li><span class='ee-k'>0:</span><span class='ee-v'>-3.561729229501241</span></li><li><span class='ee-k'>1:</span><span class='ee-v'>6.14232255672841</span></li></ul></li><li><label class='ee-shut'>63: [-3.561729229501241, 6.141872178104309]<input type='checkbox' class='ee-toggle'></label><ul><li><span class='ee-k'>0:</span><span class='ee-v'>-3.561729229501241</span></li><li><span class='ee-k'>1:</span><span class='ee-v'>6.141872178104309</span></li></ul></li><li><label class='ee-shut'>64: [-3.5615508808871, 6.141872147634874]<input type='checkbox' class='ee-toggle'></label><ul><li><span class='ee-k'>0:</span><span class='ee-v'>-3.5615508808871</span></li><li><span class='ee-k'>1:</span><span class='ee-v'>6.141872147634874</span></li></ul></li><li><label class='ee-shut'>65: [-3.5615508808871, 6.141693757558976]<input type='checkbox' class='ee-toggle'></label><ul><li><span class='ee-k'>0:</span><span class='ee-v'>-3.5615508808871</span></li><li><span class='ee-k'>1:</span><span class='ee-v'>6.141693757558976</span></li></ul></li><li><label class='ee-shut'>66: [-3.561461706818277, 6.141693782663209]<input type='checkbox' class='ee-toggle'></label><ul><li><span class='ee-k'>0:</span><span class='ee-v'>-3.561461706818277</span></li><li><span class='ee-k'>1:</span><span class='ee-v'>6.141693782663209</span></li></ul></li><li><label class='ee-shut'>67: [-3.561461706818277, 6.141421797320281]<input type='checkbox' class='ee-toggle'></label><ul><li><span class='ee-k'>0:</span><span class='ee-v'>-3.561461706818277</span></li><li><span class='ee-k'>1:</span><span class='ee-v'>6.141421797320281</span></li></ul></li><li><label class='ee-shut'>68: [-3.5613725329082837, 6.141421741629789]<input type='checkbox' class='ee-toggle'></label><ul><li><span class='ee-k'>0:</span><span class='ee-v'>-3.5613725329082837</span></li><li><span class='ee-k'>1:</span><span class='ee-v'>6.141421741629789</span></li></ul></li><li><label class='ee-shut'>69: [-3.5613725329082837, 6.141332587544157]<input type='checkbox' class='ee-toggle'></label><ul><li><span class='ee-k'>0:</span><span class='ee-v'>-3.5613725329082837</span></li><li><span class='ee-k'>1:</span><span class='ee-v'>6.141332587544157</span></li></ul></li><li><label class='ee-shut'>70: [-3.561278881172074, 6.141332561474074]<input type='checkbox' class='ee-toggle'></label><ul><li><span class='ee-k'>0:</span><span class='ee-v'>-3.561278881172074</span></li><li><span class='ee-k'>1:</span><span class='ee-v'>6.141332561474074</span></li></ul></li><li><label class='ee-shut'>71: [-3.561278881172074, 6.141243407510029]<input type='checkbox' class='ee-toggle'></label><ul><li><span class='ee-k'>0:</span><span class='ee-v'>-3.561278881172074</span></li><li><span class='ee-k'>1:</span><span class='ee-v'>6.141243407510029</span></li></ul></li><li><label class='ee-shut'>72: [-3.5610113608955087, 6.141243401758506]<input type='checkbox' class='ee-toggle'></label><ul><li><span class='ee-k'>0:</span><span class='ee-v'>-3.5610113608955087</span></li><li><span class='ee-k'>1:</span><span class='ee-v'>6.141243401758506</span></li></ul></li></ul></li></ul></li></ul></li><li><label class='ee-shut'>properties: Object (3 properties)<input type='checkbox' class='ee-toggle'></label><ul><li><span class='ee-k'>count:</span><span class='ee-v'>546</span></li><li><span class='ee-k'>label:</span><span class='ee-v'>1374089199</span></li><li><span class='ee-k'>random:</span><span class='ee-v'>0.0005609159019484</span></li></ul></li></ul></li><li><label class='ee-shut'>6: Feature (Polygon, 3 properties)<input type='checkbox' class='ee-toggle'></label><ul><li><span class='ee-k'>type:</span><span class='ee-v'>Feature</span></li><li><span class='ee-k'>id:</span><span class='ee-v'>000000000000000014d6</span></li><li><label class='ee-shut'>geometry: Polygon (127 vertices)<input type='checkbox' class='ee-toggle'></label><ul><li><span class='ee-k'>type:</span><span class='ee-v'>Polygon</span></li><li><label class='ee-shut'>coordinates: List (2 elements)<input type='checkbox' class='ee-toggle'></label><ul><li><label class='ee-shut'>0: List (127 elements)<input type='checkbox' class='ee-toggle'></label><ul><li><label class='ee-shut'>0: [-3.637279805791562, 6.041439809967803]<input type='checkbox' class='ee-toggle'></label><ul><li><span class='ee-k'>0:</span><span class='ee-v'>-3.637279805791562</span></li><li><span class='ee-k'>1:</span><span class='ee-v'>6.041439809967803</span></li></ul></li><li><label class='ee-shut'>1: [-3.6375473460982275, 6.04143980348563]<input type='checkbox' class='ee-toggle'></label><ul><li><span class='ee-k'>0:</span><span class='ee-v'>-3.6375473460982275</span></li><li><span class='ee-k'>1:</span><span class='ee-v'>6.04143980348563</span></li></ul></li><li><label class='ee-shut'>2: [-3.6375473460982275, 6.041618210604717]<input type='checkbox' class='ee-toggle'></label><ul><li><span class='ee-k'>0:</span><span class='ee-v'>-3.6375473460982275</span></li><li><span class='ee-k'>1:</span><span class='ee-v'>6.041618210604717</span></li></ul></li><li><label class='ee-shut'>3: [-3.637368959961289, 6.041618188271771]<input type='checkbox' class='ee-toggle'></label><ul><li><span class='ee-k'>0:</span><span class='ee-v'>-3.637368959961289</span></li><li><span class='ee-k'>1:</span><span class='ee-v'>6.041618188271771</span></li></ul></li><li><label class='ee-shut'>4: [-3.637368959961289, 6.041979357532975]<input type='checkbox' class='ee-toggle'></label><ul><li><span class='ee-k'>0:</span><span class='ee-v'>-3.637368959961289</span></li><li><span class='ee-k'>1:</span><span class='ee-v'>6.041979357532975</span></li></ul></li><li><label class='ee-shut'>5: [-3.637279805791562, 6.041979386426266]<input type='checkbox' class='ee-toggle'></label><ul><li><span class='ee-k'>0:</span><span class='ee-v'>-3.637279805791562</span></li><li><span class='ee-k'>1:</span><span class='ee-v'>6.041979386426266</span></li></ul></li><li><label class='ee-shut'>6: [-3.637279805791562, 6.042068550425262]<input type='checkbox' class='ee-toggle'></label><ul><li><span class='ee-k'>0:</span><span class='ee-v'>-3.637279805791562</span></li><li><span class='ee-k'>1:</span><span class='ee-v'>6.042068550425262</span></li></ul></li><li><label class='ee-shut'>7: [-3.637190651779666, 6.042068579310675]<input type='checkbox' class='ee-toggle'></label><ul><li><span class='ee-k'>0:</span><span class='ee-v'>-3.637190651779666</span></li><li><span class='ee-k'>1:</span><span class='ee-v'>6.042068579310675</span></li></ul></li><li><label class='ee-shut'>8: [-3.637190651779666, 6.042336072114755]<input type='checkbox' class='ee-toggle'></label><ul><li><span class='ee-k'>0:</span><span class='ee-v'>-3.637190651779666</span></li><li><span class='ee-k'>1:</span><span class='ee-v'>6.042336072114755</span></li></ul></li><li><label class='ee-shut'>9: [-3.637097013173883, 6.042336130848803]<input type='checkbox' class='ee-toggle'></label><ul><li><span class='ee-k'>0:</span><span class='ee-v'>-3.637097013173883</span></li><li><span class='ee-k'>1:</span><span class='ee-v'>6.042336130848803</span></li></ul></li><li><label class='ee-shut'>10: [-3.637097013173883, 6.0424297294308875]<input type='checkbox' class='ee-toggle'></label><ul><li><span class='ee-k'>0:</span><span class='ee-v'>-3.637097013173883</span></li><li><span class='ee-k'>1:</span><span class='ee-v'>6.0424297294308875</span></li></ul></li><li><label class='ee-shut'>11: [-3.6369186286321047, 6.04242970708037]<input type='checkbox' class='ee-toggle'></label><ul><li><span class='ee-k'>0:</span><span class='ee-v'>-3.6369186286321047</span></li><li><span class='ee-k'>1:</span><span class='ee-v'>6.04242970708037</span></li></ul></li><li><label class='ee-shut'>12: [-3.6369186286321047, 6.042518952389575]<input type='checkbox' class='ee-toggle'></label><ul><li><span class='ee-k'>0:</span><span class='ee-v'>-3.6369186286321047</span></li><li><span class='ee-k'>1:</span><span class='ee-v'>6.042518952389575</span></li></ul></li><li><label class='ee-shut'>13: [-3.6368294752596153, 6.04251890063171]<input type='checkbox' class='ee-toggle'></label><ul><li><span class='ee-k'>0:</span><span class='ee-v'>-3.6368294752596153</span></li><li><span class='ee-k'>1:</span><span class='ee-v'>6.04251890063171</span></li></ul></li><li><label class='ee-shut'>14: [-3.6368294752596153, 6.042608065460193]<input type='checkbox' class='ee-toggle'></label><ul><li><span class='ee-k'>0:</span><span class='ee-v'>-3.6368294752596153</span></li><li><span class='ee-k'>1:</span><span class='ee-v'>6.042608065460193</span></li></ul></li><li><label class='ee-shut'>15: [-3.6369186286321047, 6.042608117210377]<input type='checkbox' class='ee-toggle'></label><ul><li><span class='ee-k'>0:</span><span class='ee-v'>-3.6369186286321047</span></li><li><span class='ee-k'>1:</span><span class='ee-v'>6.042608117210377</span></li></ul></li><li><label class='ee-shut'>16: [-3.6369186286321047, 6.042697282161788]<input type='checkbox' class='ee-toggle'></label><ul><li><span class='ee-k'>0:</span><span class='ee-v'>-3.6369186286321047</span></li><li><span class='ee-k'>1:</span><span class='ee-v'>6.042697282161788</span></li></ul></li><li><label class='ee-shut'>17: [-3.637007782162427, 6.042697253269243]<input type='checkbox' class='ee-toggle'></label><ul><li><span class='ee-k'>0:</span><span class='ee-v'>-3.637007782162427</span></li><li><span class='ee-k'>1:</span><span class='ee-v'>6.042697253269243</span></li></ul></li><li><label class='ee-shut'>18: [-3.637007782162427, 6.042875664167899]<input type='checkbox' class='ee-toggle'></label><ul><li><span class='ee-k'>0:</span><span class='ee-v'>-3.637007782162427</span></li><li><span class='ee-k'>1:</span><span class='ee-v'>6.042875664167899</span></li></ul></li><li><label class='ee-shut'>19: [-3.637908527766745, 6.042875635456922]<input type='checkbox' class='ee-toggle'></label><ul><li><span class='ee-k'>0:</span><span class='ee-v'>-3.637908527766745</span></li><li><span class='ee-k'>1:</span><span class='ee-v'>6.042875635456922</span></li></ul></li><li><label class='ee-shut'>20: [-3.637908527766745, 6.043058480808512]<input type='checkbox' class='ee-toggle'></label><ul><li><span class='ee-k'>0:</span><span class='ee-v'>-3.637908527766745</span></li><li><span class='ee-k'>1:</span><span class='ee-v'>6.043058480808512</span></li></ul></li><li><label class='ee-shut'>21: [-3.6382653044948716, 6.0430584439117165]<input type='checkbox' class='ee-toggle'></label><ul><li><span class='ee-k'>0:</span><span class='ee-v'>-3.6382653044948716</span></li><li><span class='ee-k'>1:</span><span class='ee-v'>6.0430584439117165</span></li></ul></li><li><label class='ee-shut'>22: [-3.6382653044948716, 6.043147690025466]<input type='checkbox' class='ee-toggle'></label><ul><li><span class='ee-k'>0:</span><span class='ee-v'>-3.6382653044948716</span></li><li><span class='ee-k'>1:</span><span class='ee-v'>6.043147690025466</span></li></ul></li><li><label class='ee-shut'>23: [-3.638354460409196, 6.043147660856658]<input type='checkbox' class='ee-toggle'></label><ul><li><span class='ee-k'>0:</span><span class='ee-v'>-3.638354460409196</span></li><li><span class='ee-k'>1:</span><span class='ee-v'>6.043147660856658</span></li></ul></li><li><label class='ee-shut'>24: [-3.638354460409197, 6.043325992220914]<input type='checkbox' class='ee-toggle'></label><ul><li><span class='ee-k'>0:</span><span class='ee-v'>-3.638354460409197</span></li><li><span class='ee-k'>1:</span><span class='ee-v'>6.043325992220914</span></li></ul></li><li><label class='ee-shut'>25: [-3.6384481013529744, 6.043326013783283]<input type='checkbox' class='ee-toggle'></label><ul><li><span class='ee-k'>0:</span><span class='ee-v'>-3.6384481013529744</span></li><li><span class='ee-k'>1:</span><span class='ee-v'>6.043326013783283</span></li></ul></li><li><label class='ee-shut'>26: [-3.6384481013529744, 6.043776359196438]<input type='checkbox' class='ee-toggle'></label><ul><li><span class='ee-k'>0:</span><span class='ee-v'>-3.6384481013529744</span></li><li><span class='ee-k'>1:</span><span class='ee-v'>6.043776359196438</span></li></ul></li><li><label class='ee-shut'>27: [-3.6385372575908845, 6.043776410561144]<input type='checkbox' class='ee-toggle'></label><ul><li><span class='ee-k'>0:</span><span class='ee-v'>-3.6385372575908845</span></li><li><span class='ee-k'>1:</span><span class='ee-v'>6.043776410561144</span></li></ul></li><li><label class='ee-shut'>28: [-3.6385372575908845, 6.043865577083011]<input type='checkbox' class='ee-toggle'></label><ul><li><span class='ee-k'>0:</span><span class='ee-v'>-3.6385372575908845</span></li><li><span class='ee-k'>1:</span><span class='ee-v'>6.043865577083011</span></li></ul></li><li><label class='ee-shut'>29: [-3.6387156478659644, 6.043865598614329]<input type='checkbox' class='ee-toggle'></label><ul><li><span class='ee-k'>0:</span><span class='ee-v'>-3.6387156478659644</span></li><li><span class='ee-k'>1:</span><span class='ee-v'>6.043865598614329</span></li></ul></li><li><label class='ee-shut'>30: [-3.6387156478659644, 6.043954765251304]<input type='checkbox' class='ee-toggle'></label><ul><li><span class='ee-k'>0:</span><span class='ee-v'>-3.6387156478659644</span></li><li><span class='ee-k'>1:</span><span class='ee-v'>6.043954765251304</span></li></ul></li><li><label class='ee-shut'>31: [-3.6388048045774855, 6.043954735932668]<input type='checkbox' class='ee-toggle'></label><ul><li><span class='ee-k'>0:</span><span class='ee-v'>-3.6388048045774855</span></li><li><span class='ee-k'>1:</span><span class='ee-v'>6.043954735932668</span></li></ul></li><li><label class='ee-shut'>32: [-3.6388048045774855, 6.044133150203949]<input type='checkbox' class='ee-toggle'></label><ul><li><span class='ee-k'>0:</span><span class='ee-v'>-3.6388048045774855</span></li><li><span class='ee-k'>1:</span><span class='ee-v'>6.044133150203949</span></li></ul></li><li><label class='ee-shut'>33: [-3.6387156478659644, 6.044133098917071]<input type='checkbox' class='ee-toggle'></label><ul><li><span class='ee-k'>0:</span><span class='ee-v'>-3.6387156478659644</span></li><li><span class='ee-k'>1:</span><span class='ee-v'>6.044133098917071</span></li></ul></li><li><label class='ee-shut'>34: [-3.6387156478659644, 6.04440511519818]<input type='checkbox' class='ee-toggle'></label><ul><li><span class='ee-k'>0:</span><span class='ee-v'>-3.6387156478659644</span></li><li><span class='ee-k'>1:</span><span class='ee-v'>6.04440511519818</span></li></ul></li><li><label class='ee-shut'>35: [-3.6388940387728828, 6.044405136572949]<input type='checkbox' class='ee-toggle'></label><ul><li><span class='ee-k'>0:</span><span class='ee-v'>-3.6388940387728828</span></li><li><span class='ee-k'>1:</span><span class='ee-v'>6.044405136572949</span></li></ul></li><li><label class='ee-shut'>36: [-3.6388940387728828, 6.044672639199842]<input type='checkbox' class='ee-toggle'></label><ul><li><span class='ee-k'>0:</span><span class='ee-v'>-3.6388940387728828</span></li><li><span class='ee-k'>1:</span><span class='ee-v'>6.044672639199842</span></li></ul></li><li><label class='ee-shut'>37: [-3.6389831958001837, 6.044672690408826]<input type='checkbox' class='ee-toggle'></label><ul><li><span class='ee-k'>0:</span><span class='ee-v'>-3.6389831958001837</span></li><li><span class='ee-k'>1:</span><span class='ee-v'>6.044672690408826</span></li></ul></li><li><label class='ee-shut'>38: [-3.6389831958001837, 6.044761858204637]<input type='checkbox' class='ee-toggle'></label><ul><li><span class='ee-k'>0:</span><span class='ee-v'>-3.6389831958001837</span></li><li><span class='ee-k'>1:</span><span class='ee-v'>6.044761858204637</span></li></ul></li><li><label class='ee-shut'>39: [-3.639076837912921, 6.044761879520085]<input type='checkbox' class='ee-toggle'></label><ul><li><span class='ee-k'>0:</span><span class='ee-v'>-3.639076837912921</span></li><li><span class='ee-k'>1:</span><span class='ee-v'>6.044761879520085</span></li></ul></li><li><label class='ee-shut'>40: [-3.639076837912921, 6.044855481651099]<input type='checkbox' class='ee-toggle'></label><ul><li><span class='ee-k'>0:</span><span class='ee-v'>-3.639076837912921</span></li><li><span class='ee-k'>1:</span><span class='ee-v'>6.044855481651099</span></li></ul></li><li><label class='ee-shut'>41: [-3.6391659952637987, 6.044855452190102]<input type='checkbox' class='ee-toggle'></label><ul><li><span class='ee-k'>0:</span><span class='ee-v'>-3.6391659952637987</span></li><li><span class='ee-k'>1:</span><span class='ee-v'>6.044855452190102</span></li></ul></li><li><label class='ee-shut'>42: [-3.6391659952637987, 6.045033869038132]<input type='checkbox' class='ee-toggle'></label><ul><li><span class='ee-k'>0:</span><span class='ee-v'>-3.6391659952637987</span></li><li><span class='ee-k'>1:</span><span class='ee-v'>6.045033869038132</span></li></ul></li><li><label class='ee-shut'>43: [-3.6392552300991134, 6.045033839030786]<input type='checkbox' class='ee-toggle'></label><ul><li><span class='ee-k'>0:</span><span class='ee-v'>-3.6392552300991134</span></li><li><span class='ee-k'>1:</span><span class='ee-v'>6.045033839030786</span></li></ul></li><li><label class='ee-shut'>44: [-3.6392552300991134, 6.045123007331855]<input type='checkbox' class='ee-toggle'></label><ul><li><span class='ee-k'>0:</span><span class='ee-v'>-3.6392552300991134</span></li><li><span class='ee-k'>1:</span><span class='ee-v'>6.045123007331855</span></li></ul></li><li><label class='ee-shut'>45: [-3.639616346688303, 6.045123020542614]<input type='checkbox' class='ee-toggle'></label><ul><li><span class='ee-k'>0:</span><span class='ee-v'>-3.639616346688303</span></li><li><span class='ee-k'>1:</span><span class='ee-v'>6.045123020542614</span></li></ul></li><li><label class='ee-shut'>46: [-3.639616346688303, 6.0450338522729545]<input type='checkbox' class='ee-toggle'></label><ul><li><span class='ee-k'>0:</span><span class='ee-v'>-3.639616346688303</span></li><li><span class='ee-k'>1:</span><span class='ee-v'>6.0450338522729545</span></li></ul></li><li><label class='ee-shut'>47: [-3.6395227035725344, 6.045033831082003]<input type='checkbox' class='ee-toggle'></label><ul><li><span class='ee-k'>0:</span><span class='ee-v'>-3.6395227035725344</span></li><li><span class='ee-k'>1:</span><span class='ee-v'>6.045033831082003</span></li></ul></li><li><label class='ee-shut'>48: [-3.6395227035725344, 6.044855494918226]<input type='checkbox' class='ee-toggle'></label><ul><li><span class='ee-k'>0:</span><span class='ee-v'>-3.6395227035725344</span></li><li><span class='ee-k'>1:</span><span class='ee-v'>6.044855494918226</span></li></ul></li><li><label class='ee-shut'>49: [-3.6394335455902436, 6.0448555244419895]<input type='checkbox' class='ee-toggle'></label><ul><li><span class='ee-k'>0:</span><span class='ee-v'>-3.6394335455902436</span></li><li><span class='ee-k'>1:</span><span class='ee-v'>6.0448555244419895</span></li></ul></li><li><label class='ee-shut'>50: [-3.6394335455902436, 6.0445835063390145]<input type='checkbox' class='ee-toggle'></label><ul><li><span class='ee-k'>0:</span><span class='ee-v'>-3.6394335455902436</span></li><li><span class='ee-k'>1:</span><span class='ee-v'>6.0445835063390145</span></li></ul></li><li><label class='ee-shut'>51: [-3.6397055823214775, 6.044583468023807]<input type='checkbox' class='ee-toggle'></label><ul><li><span class='ee-k'>0:</span><span class='ee-v'>-3.6397055823214775</span></li><li><span class='ee-k'>1:</span><span class='ee-v'>6.044583468023807</span></li></ul></li><li><label class='ee-shut'>52: [-3.6397055823214775, 6.044043950380666]<input type='checkbox' class='ee-toggle'></label><ul><li><span class='ee-k'>0:</span><span class='ee-v'>-3.6397055823214775</span></li><li><span class='ee-k'>1:</span><span class='ee-v'>6.044043950380666</span></li></ul></li><li><label class='ee-shut'>53: [-3.639794740785295, 6.044043920880065]<input type='checkbox' class='ee-toggle'></label><ul><li><span class='ee-k'>0:</span><span class='ee-v'>-3.639794740785295</span></li><li><span class='ee-k'>1:</span><span class='ee-v'>6.044043920880065</span></li></ul></li><li><label class='ee-shut'>54: [-3.639794740785296, 6.043687174348631]<input type='checkbox' class='ee-toggle'></label><ul><li><span class='ee-k'>0:</span><span class='ee-v'>-3.639794740785296</span></li><li><span class='ee-k'>1:</span><span class='ee-v'>6.043687174348631</span></li></ul></li><li><label class='ee-shut'>55: [-3.6397055823214775, 6.043687203818011]<input type='checkbox' class='ee-toggle'></label><ul><li><span class='ee-k'>0:</span><span class='ee-v'>-3.6397055823214775</span></li><li><span class='ee-k'>1:</span><span class='ee-v'>6.043687203818011</span></li></ul></li><li><label class='ee-shut'>56: [-3.6397055823214775, 6.043593522920335]<input type='checkbox' class='ee-toggle'></label><ul><li><span class='ee-k'>0:</span><span class='ee-v'>-3.6397055823214775</span></li><li><span class='ee-k'>1:</span><span class='ee-v'>6.043593522920335</span></li></ul></li><li><label class='ee-shut'>57: [-3.639616346688303, 6.04359355288082]<input type='checkbox' class='ee-toggle'></label><ul><li><span class='ee-k'>0:</span><span class='ee-v'>-3.639616346688303</span></li><li><span class='ee-k'>1:</span><span class='ee-v'>6.04359355288082</span></li></ul></li><li><label class='ee-shut'>58: [-3.639616346688303, 6.043415220952387]<input type='checkbox' class='ee-toggle'></label><ul><li><span class='ee-k'>0:</span><span class='ee-v'>-3.639616346688303</span></li><li><span class='ee-k'>1:</span><span class='ee-v'>6.043415220952387</span></li></ul></li><li><label class='ee-shut'>59: [-3.6397055823214775, 6.0434151910075276]<input type='checkbox' class='ee-toggle'></label><ul><li><span class='ee-k'>0:</span><span class='ee-v'>-3.6397055823214775</span></li><li><span class='ee-k'>1:</span><span class='ee-v'>6.0434151910075276</span></li></ul></li><li><label class='ee-shut'>60: [-3.6397055823214775, 6.043236859617133]<input type='checkbox' class='ee-toggle'></label><ul><li><span class='ee-k'>0:</span><span class='ee-v'>-3.6397055823214775</span></li><li><span class='ee-k'>1:</span><span class='ee-v'>6.043236859617133</span></li></ul></li><li><label class='ee-shut'>61: [-3.640151453546728, 6.043236873035107]<input type='checkbox' class='ee-toggle'></label><ul><li><span class='ee-k'>0:</span><span class='ee-v'>-3.640151453546728</span></li><li><span class='ee-k'>1:</span><span class='ee-v'>6.043236873035107</span></li></ul></li><li><label class='ee-shut'>62: [-3.640151453546728, 6.043058461625135]<input type='checkbox' class='ee-toggle'></label><ul><li><span class='ee-k'>0:</span><span class='ee-v'>-3.640151453546728</span></li><li><span class='ee-k'>1:</span><span class='ee-v'>6.043058461625135</span></li></ul></li><li><label class='ee-shut'>63: [-3.6402450978314005, 6.043058482879763]<input type='checkbox' class='ee-toggle'></label><ul><li><span class='ee-k'>0:</span><span class='ee-v'>-3.6402450978314005</span></li><li><span class='ee-k'>1:</span><span class='ee-v'>6.043058482879763</span></li></ul></li><li><label class='ee-shut'>64: [-3.6402450978314005, 6.042786473021951]<input type='checkbox' class='ee-toggle'></label><ul><li><span class='ee-k'>0:</span><span class='ee-v'>-3.6402450978314005</span></li><li><span class='ee-k'>1:</span><span class='ee-v'>6.042786473021951</span></li></ul></li><li><label class='ee-shut'>65: [-3.6403342572501884, 6.042786443536505]<input type='checkbox' class='ee-toggle'></label><ul><li><span class='ee-k'>0:</span><span class='ee-v'>-3.6403342572501884</span></li><li><span class='ee-k'>1:</span><span class='ee-v'>6.042786443536505</span></li></ul></li><li><label class='ee-shut'>66: [-3.6403342572501884, 6.0426972787517075]<input type='checkbox' class='ee-toggle'></label><ul><li><span class='ee-k'>0:</span><span class='ee-v'>-3.6403342572501884</span></li><li><span class='ee-k'>1:</span><span class='ee-v'>6.0426972787517075</span></li></ul></li><li><label class='ee-shut'>67: [-3.6404234941551956, 6.042697248743346]<input type='checkbox' class='ee-toggle'></label><ul><li><span class='ee-k'>0:</span><span class='ee-v'>-3.6404234941551956</span></li><li><span class='ee-k'>1:</span><span class='ee-v'>6.042697248743346</span></li></ul></li><li><label class='ee-shut'>68: [-3.6404234941551956, 6.041979339995456]<input type='checkbox' class='ee-toggle'></label><ul><li><span class='ee-k'>0:</span><span class='ee-v'>-3.6404234941551956</span></li><li><span class='ee-k'>1:</span><span class='ee-v'>6.041979339995456</span></li></ul></li><li><label class='ee-shut'>69: [-3.6403342572501884, 6.0419793699409095]<input type='checkbox' class='ee-toggle'></label><ul><li><span class='ee-k'>0:</span><span class='ee-v'>-3.6403342572501884</span></li><li><span class='ee-k'>1:</span><span class='ee-v'>6.0419793699409095</span></li></ul></li><li><label class='ee-shut'>70: [-3.6403342572501884, 6.0416182017248925]<input type='checkbox' class='ee-toggle'></label><ul><li><span class='ee-k'>0:</span><span class='ee-v'>-3.6403342572501884</span></li><li><span class='ee-k'>1:</span><span class='ee-v'>6.0416182017248925</span></li></ul></li><li><label class='ee-shut'>71: [-3.6404234941551956, 6.041618171811087]<input type='checkbox' class='ee-toggle'></label><ul><li><span class='ee-k'>0:</span><span class='ee-v'>-3.6404234941551956</span></li><li><span class='ee-k'>1:</span><span class='ee-v'>6.041618171811087</span></li></ul></li><li><label class='ee-shut'>72: [-3.6404234941551956, 6.041439845810365]<input type='checkbox' class='ee-toggle'></label><ul><li><span class='ee-k'>0:</span><span class='ee-v'>-3.6404234941551956</span></li><li><span class='ee-k'>1:</span><span class='ee-v'>6.041439845810365</span></li></ul></li><li><label class='ee-shut'>73: [-3.6403342572501884, 6.041439795091117]<input type='checkbox' class='ee-toggle'></label><ul><li><span class='ee-k'>0:</span><span class='ee-v'>-3.6403342572501884</span></li><li><span class='ee-k'>1:</span><span class='ee-v'>6.041439795091117</span></li></ul></li><li><label class='ee-shut'>74: [-3.6403342572501884, 6.041172307046581]<input type='checkbox' class='ee-toggle'></label><ul><li><span class='ee-k'>0:</span><span class='ee-v'>-3.6403342572501884</span></li><li><span class='ee-k'>1:</span><span class='ee-v'>6.041172307046581</span></li></ul></li><li><label class='ee-shut'>75: [-3.6402450978314005, 6.041172255773653]<input type='checkbox' class='ee-toggle'></label><ul><li><span class='ee-k'>0:</span><span class='ee-v'>-3.6402450978314005</span></li><li><span class='ee-k'>1:</span><span class='ee-v'>6.041172255773653</span></li></ul></li><li><label class='ee-shut'>76: [-3.6402450978314005, 6.040989416505125]<input type='checkbox' class='ee-toggle'></label><ul><li><span class='ee-k'>0:</span><span class='ee-v'>-3.6402450978314005</span></li><li><span class='ee-k'>1:</span><span class='ee-v'>6.040989416505125</span></li></ul></li><li><label class='ee-shut'>77: [-3.640151453546728, 6.040989475678893]<input type='checkbox' class='ee-toggle'></label><ul><li><span class='ee-k'>0:</span><span class='ee-v'>-3.640151453546728</span></li><li><span class='ee-k'>1:</span><span class='ee-v'>6.040989475678893</span></li></ul></li><li><label class='ee-shut'>78: [-3.640151453546728, 6.040811070856217]<input type='checkbox' class='ee-toggle'></label><ul><li><span class='ee-k'>0:</span><span class='ee-v'>-3.640151453546728</span></li><li><span class='ee-k'>1:</span><span class='ee-v'>6.040811070856217</span></li></ul></li><li><label class='ee-shut'>79: [-3.6400622944515066, 6.040811100136599]<input type='checkbox' class='ee-toggle'></label><ul><li><span class='ee-k'>0:</span><span class='ee-v'>-3.6400622944515066</span></li><li><span class='ee-k'>1:</span><span class='ee-v'>6.040811100136599</span></li></ul></li><li><label class='ee-shut'>80: [-3.6400622944515066, 6.040721938221812]<input type='checkbox' class='ee-toggle'></label><ul><li><span class='ee-k'>0:</span><span class='ee-v'>-3.6400622944515066</span></li><li><span class='ee-k'>1:</span><span class='ee-v'>6.040721938221812</span></li></ul></li><li><label class='ee-shut'>81: [-3.6399731355141056, 6.04072188686221]<input type='checkbox' class='ee-toggle'></label><ul><li><span class='ee-k'>0:</span><span class='ee-v'>-3.6399731355141056</span></li><li><span class='ee-k'>1:</span><span class='ee-v'>6.04072188686221</span></li></ul></li><li><label class='ee-shut'>82: [-3.6399731355141047, 6.040543563409128]<input type='checkbox' class='ee-toggle'></label><ul><li><span class='ee-k'>0:</span><span class='ee-v'>-3.6399731355141047</span></li><li><span class='ee-k'>1:</span><span class='ee-v'>6.040543563409128</span></li></ul></li><li><label class='ee-shut'>83: [-3.639616346688303, 6.040543520014403]<input type='checkbox' class='ee-toggle'></label><ul><li><span class='ee-k'>0:</span><span class='ee-v'>-3.639616346688303</span></li><li><span class='ee-k'>1:</span><span class='ee-v'>6.040543520014403</span></li></ul></li><li><label class='ee-shut'>84: [-3.639616346688303, 6.0407219241460055]<input type='checkbox' class='ee-toggle'></label><ul><li><span class='ee-k'>0:</span><span class='ee-v'>-3.639616346688303</span></li><li><span class='ee-k'>1:</span><span class='ee-v'>6.0407219241460055</span></li></ul></li><li><label class='ee-shut'>85: [-3.6397055823214775, 6.040721894437087]<input type='checkbox' class='ee-toggle'></label><ul><li><span class='ee-k'>0:</span><span class='ee-v'>-3.6397055823214775</span></li><li><span class='ee-k'>1:</span><span class='ee-v'>6.040721894437087</span></li></ul></li><li><label class='ee-shut'>86: [-3.6397055823214775, 6.040900299076018]<input type='checkbox' class='ee-toggle'></label><ul><li><span class='ee-k'>0:</span><span class='ee-v'>-3.6397055823214775</span></li><li><span class='ee-k'>1:</span><span class='ee-v'>6.040900299076018</span></li></ul></li><li><label class='ee-shut'>87: [-3.639616346688303, 6.040900248183799]<input type='checkbox' class='ee-toggle'></label><ul><li><span class='ee-k'>0:</span><span class='ee-v'>-3.639616346688303</span></li><li><span class='ee-k'>1:</span><span class='ee-v'>6.040900248183799</span></li></ul></li><li><label class='ee-shut'>88: [-3.639616346688303, 6.04098941039863]<input type='checkbox' class='ee-toggle'></label><ul><li><span class='ee-k'>0:</span><span class='ee-v'>-3.639616346688303</span></li><li><span class='ee-k'>1:</span><span class='ee-v'>6.04098941039863</span></li></ul></li><li><label class='ee-shut'>89: [-3.6395227035725344, 6.040989469456287]<input type='checkbox' class='ee-toggle'></label><ul><li><span class='ee-k'>0:</span><span class='ee-v'>-3.6395227035725344</span></li><li><span class='ee-k'>1:</span><span class='ee-v'>6.040989469456287</span></li></ul></li><li><label class='ee-shut'>90: [-3.6395227035725344, 6.041078631809974]<input type='checkbox' class='ee-toggle'></label><ul><li><span class='ee-k'>0:</span><span class='ee-v'>-3.6395227035725344</span></li><li><span class='ee-k'>1:</span><span class='ee-v'>6.041078631809974</span></li></ul></li><li><label class='ee-shut'>91: [-3.6394335455902436, 6.041078661003211]<input type='checkbox' class='ee-toggle'></label><ul><li><span class='ee-k'>0:</span><span class='ee-v'>-3.6394335455902436</span></li><li><span class='ee-k'>1:</span><span class='ee-v'>6.041078661003211</span></li></ul></li><li><label class='ee-shut'>92: [-3.6394335455902436, 6.040900255794067]<input type='checkbox' class='ee-toggle'></label><ul><li><span class='ee-k'>0:</span><span class='ee-v'>-3.6394335455902436</span></li><li><span class='ee-k'>1:</span><span class='ee-v'>6.040900255794067</span></li></ul></li><li><label class='ee-shut'>93: [-3.6392552300991134, 6.040900233485494]<input type='checkbox' class='ee-toggle'></label><ul><li><span class='ee-k'>0:</span><span class='ee-v'>-3.6392552300991134</span></li><li><span class='ee-k'>1:</span><span class='ee-v'>6.040900233485494</span></li></ul></li><li><label class='ee-shut'>94: [-3.6392552300991134, 6.040632747530507]<input type='checkbox' class='ee-toggle'></label><ul><li><span class='ee-k'>0:</span><span class='ee-v'>-3.6392552300991134</span></li><li><span class='ee-k'>1:</span><span class='ee-v'>6.040632747530507</span></li></ul></li><li><label class='ee-shut'>95: [-3.6391659952637987, 6.040632696535913]<input type='checkbox' class='ee-toggle'></label><ul><li><span class='ee-k'>0:</span><span class='ee-v'>-3.6391659952637987</span></li><li><span class='ee-k'>1:</span><span class='ee-v'>6.040632696535913</span></li></ul></li><li><label class='ee-shut'>96: [-3.6391659952637987, 6.040543534804471]<input type='checkbox' class='ee-toggle'></label><ul><li><span class='ee-k'>0:</span><span class='ee-v'>-3.6391659952637987</span></li><li><span class='ee-k'>1:</span><span class='ee-v'>6.040543534804471</span></li></ul></li><li><label class='ee-shut'>97: [-3.639076837912921, 6.040543563888158]<input type='checkbox' class='ee-toggle'></label><ul><li><span class='ee-k'>0:</span><span class='ee-v'>-3.639076837912921</span></li><li><span class='ee-k'>1:</span><span class='ee-v'>6.040543563888158</span></li></ul></li><li><label class='ee-shut'>98: [-3.639076837912921, 6.040449887771185]<input type='checkbox' class='ee-toggle'></label><ul><li><span class='ee-k'>0:</span><span class='ee-v'>-3.639076837912921</span></li><li><span class='ee-k'>1:</span><span class='ee-v'>6.040449887771185</span></li></ul></li><li><label class='ee-shut'>99: [-3.6389831958001837, 6.040449866063154]<input type='checkbox' class='ee-toggle'></label><ul><li><span class='ee-k'>0:</span><span class='ee-v'>-3.6389831958001837</span></li><li><span class='ee-k'>1:</span><span class='ee-v'>6.040449866063154</span></li></ul></li><li><label class='ee-shut'>100: [-3.6389831958001837, 6.040360704583658]<input type='checkbox' class='ee-toggle'></label><ul><li><span class='ee-k'>0:</span><span class='ee-v'>-3.6389831958001837</span></li><li><span class='ee-k'>1:</span><span class='ee-v'>6.040360704583658</span></li></ul></li><li><label class='ee-shut'>101: [-3.6388048045774855, 6.040360682537554]<input type='checkbox' class='ee-toggle'></label><ul><li><span class='ee-k'>0:</span><span class='ee-v'>-3.6388048045774855</span></li><li><span class='ee-k'>1:</span><span class='ee-v'>6.040360682537554</span></li></ul></li><li><label class='ee-shut'>102: [-3.6388048045774855, 6.040271521173187]<input type='checkbox' class='ee-toggle'></label><ul><li><span class='ee-k'>0:</span><span class='ee-v'>-3.6388048045774855</span></li><li><span class='ee-k'>1:</span><span class='ee-v'>6.040271521173187</span></li></ul></li><li><label class='ee-shut'>103: [-3.6387156478659644, 6.040271550169568]<input type='checkbox' class='ee-toggle'></label><ul><li><span class='ee-k'>0:</span><span class='ee-v'>-3.6387156478659644</span></li><li><span class='ee-k'>1:</span><span class='ee-v'>6.040271550169568</span></li></ul></li><li><label class='ee-shut'>104: [-3.6387156478659644, 6.040093147201341]<input type='checkbox' class='ee-toggle'></label><ul><li><span class='ee-k'>0:</span><span class='ee-v'>-3.6387156478659644</span></li><li><span class='ee-k'>1:</span><span class='ee-v'>6.040093147201341</span></li></ul></li><li><label class='ee-shut'>105: [-3.6386264913122712, 6.040093176166438]<input type='checkbox' class='ee-toggle'></label><ul><li><span class='ee-k'>0:</span><span class='ee-v'>-3.6386264913122712</span></li><li><span class='ee-k'>1:</span><span class='ee-v'>6.040093176166438</span></li></ul></li><li><label class='ee-shut'>106: [-3.6386264913122712, 6.040182337285039]<input type='checkbox' class='ee-toggle'></label><ul><li><span class='ee-k'>0:</span><span class='ee-v'>-3.6386264913122712</span></li><li><span class='ee-k'>1:</span><span class='ee-v'>6.040182337285039</span></li></ul></li><li><label class='ee-shut'>107: [-3.6384481013529744, 6.040182315082428]<input type='checkbox' class='ee-toggle'></label><ul><li><span class='ee-k'>0:</span><span class='ee-v'>-3.6384481013529744</span></li><li><span class='ee-k'>1:</span><span class='ee-v'>6.040182315082428</span></li></ul></li><li><label class='ee-shut'>108: [-3.6384481013529744, 6.040271556963173]<input type='checkbox' class='ee-toggle'></label><ul><li><span class='ee-k'>0:</span><span class='ee-v'>-3.6384481013529744</span></li><li><span class='ee-k'>1:</span><span class='ee-v'>6.040271556963173</span></li></ul></li><li><label class='ee-shut'>109: [-3.6382653044948716, 6.040271564039973]<input type='checkbox' class='ee-toggle'></label><ul><li><span class='ee-k'>0:</span><span class='ee-v'>-3.6382653044948716</span></li><li><span class='ee-k'>1:</span><span class='ee-v'>6.040271564039973</span></li></ul></li><li><label class='ee-shut'>110: [-3.6382653044948716, 6.040360725451346]<input type='checkbox' class='ee-toggle'></label><ul><li><span class='ee-k'>0:</span><span class='ee-v'>-3.6382653044948716</span></li><li><span class='ee-k'>1:</span><span class='ee-v'>6.040360725451346</span></li></ul></li><li><label class='ee-shut'>111: [-3.638176071413418, 6.040360674259003]<input type='checkbox' class='ee-toggle'></label><ul><li><span class='ee-k'>0:</span><span class='ee-v'>-3.638176071413418</span></li><li><span class='ee-k'>1:</span><span class='ee-v'>6.040360674259003</span></li></ul></li><li><label class='ee-shut'>112: [-3.638176071413418, 6.040632754442013]<input type='checkbox' class='ee-toggle'></label><ul><li><span class='ee-k'>0:</span><span class='ee-v'>-3.638176071413418</span></li><li><span class='ee-k'>1:</span><span class='ee-v'>6.040632754442013</span></li></ul></li><li><label class='ee-shut'>113: [-3.63808691581488, 6.040632702742912]<input type='checkbox' class='ee-toggle'></label><ul><li><span class='ee-k'>0:</span><span class='ee-v'>-3.63808691581488</span></li><li><span class='ee-k'>1:</span><span class='ee-v'>6.040632702742912</span></li></ul></li><li><label class='ee-shut'>114: [-3.63808691581488, 6.040721864698885]<input type='checkbox' class='ee-toggle'></label><ul><li><span class='ee-k'>0:</span><span class='ee-v'>-3.63808691581488</span></li><li><span class='ee-k'>1:</span><span class='ee-v'>6.040721864698885</span></li></ul></li><li><label class='ee-shut'>115: [-3.6379977603741733, 6.04072189360844]<input type='checkbox' class='ee-toggle'></label><ul><li><span class='ee-k'>0:</span><span class='ee-v'>-3.6379977603741733</span></li><li><span class='ee-k'>1:</span><span class='ee-v'>6.04072189360844</span></li></ul></li><li><label class='ee-shut'>116: [-3.6379977603741733, 6.040989460900506]<input type='checkbox' class='ee-toggle'></label><ul><li><span class='ee-k'>0:</span><span class='ee-v'>-3.6379977603741733</span></li><li><span class='ee-k'>1:</span><span class='ee-v'>6.040989460900506</span></li></ul></li><li><label class='ee-shut'>117: [-3.6378193726418293, 6.040989438616863]<input type='checkbox' class='ee-toggle'></label><ul><li><span class='ee-k'>0:</span><span class='ee-v'>-3.6378193726418293</span></li><li><span class='ee-k'>1:</span><span class='ee-v'>6.040989438616863</span></li></ul></li><li><label class='ee-shut'>118: [-3.6378193726418293, 6.040900276245622]<input type='checkbox' class='ee-toggle'></label><ul><li><span class='ee-k'>0:</span><span class='ee-v'>-3.6378193726418293</span></li><li><span class='ee-k'>1:</span><span class='ee-v'>6.040900276245622</span></li></ul></li><li><label class='ee-shut'>119: [-3.637636500741582, 6.0409002837224115]<input type='checkbox' class='ee-toggle'></label><ul><li><span class='ee-k'>0:</span><span class='ee-v'>-3.637636500741582</span></li><li><span class='ee-k'>1:</span><span class='ee-v'>6.0409002837224115</span></li></ul></li><li><label class='ee-shut'>120: [-3.637636500741582, 6.040989446109575]<input type='checkbox' class='ee-toggle'></label><ul><li><span class='ee-k'>0:</span><span class='ee-v'>-3.637636500741582</span></li><li><span class='ee-k'>1:</span><span class='ee-v'>6.040989446109575</span></li></ul></li><li><label class='ee-shut'>121: [-3.637725732867035, 6.040989416725656]<input type='checkbox' class='ee-toggle'></label><ul><li><span class='ee-k'>0:</span><span class='ee-v'>-3.637725732867035</span></li><li><span class='ee-k'>1:</span><span class='ee-v'>6.040989416725656</span></li></ul></li><li><label class='ee-shut'>122: [-3.637725732867035, 6.041172256443793]<input type='checkbox' class='ee-toggle'></label><ul><li><span class='ee-k'>0:</span><span class='ee-v'>-3.637725732867035</span></li><li><span class='ee-k'>1:</span><span class='ee-v'>6.041172256443793</span></li></ul></li><li><label class='ee-shut'>123: [-3.6375473460982275, 6.041172234096171]<input type='checkbox' class='ee-toggle'></label><ul><li><span class='ee-k'>0:</span><span class='ee-v'>-3.6375473460982275</span></li><li><span class='ee-k'>1:</span><span class='ee-v'>6.041172234096171</span></li></ul></li><li><label class='ee-shut'>124: [-3.6375473460982275, 6.041261477506901]<input type='checkbox' class='ee-toggle'></label><ul><li><span class='ee-k'>0:</span><span class='ee-v'>-3.6375473460982275</span></li><li><span class='ee-k'>1:</span><span class='ee-v'>6.041261477506901</span></li></ul></li><li><label class='ee-shut'>125: [-3.637279805791562, 6.041261483942506]<input type='checkbox' class='ee-toggle'></label><ul><li><span class='ee-k'>0:</span><span class='ee-v'>-3.637279805791562</span></li><li><span class='ee-k'>1:</span><span class='ee-v'>6.041261483942506</span></li></ul></li><li><label class='ee-shut'>126: [-3.637279805791562, 6.041439809967803]<input type='checkbox' class='ee-toggle'></label><ul><li><span class='ee-k'>0:</span><span class='ee-v'>-3.637279805791562</span></li><li><span class='ee-k'>1:</span><span class='ee-v'>6.041439809967803</span></li></ul></li></ul></li><li><label class='ee-shut'>1: List (9 elements)<input type='checkbox' class='ee-toggle'></label><ul><li><label class='ee-shut'>0: [-3.639794740785296, 6.041801007549495]<input type='checkbox' class='ee-toggle'></label><ul><li><span class='ee-k'>0:</span><span class='ee-v'>-3.639794740785296</span></li><li><span class='ee-k'>1:</span><span class='ee-v'>6.041801007549495</span></li></ul></li><li><label class='ee-shut'>1: [-3.6397055823214775, 6.041801036853793]<input type='checkbox' class='ee-toggle'></label><ul><li><span class='ee-k'>0:</span><span class='ee-v'>-3.6397055823214775</span></li><li><span class='ee-k'>1:</span><span class='ee-v'>6.041801036853793</span></li></ul></li><li><label class='ee-shut'>2: [-3.6397055823214775, 6.041979364037733]<input type='checkbox' class='ee-toggle'></label><ul><li><span class='ee-k'>0:</span><span class='ee-v'>-3.6397055823214775</span></li><li><span class='ee-k'>1:</span><span class='ee-v'>6.041979364037733</span></li></ul></li><li><label class='ee-shut'>3: [-3.639794740785296, 6.041979334717826]<input type='checkbox' class='ee-toggle'></label><ul><li><span class='ee-k'>0:</span><span class='ee-v'>-3.639794740785296</span></li><li><span class='ee-k'>1:</span><span class='ee-v'>6.041979334717826</span></li></ul></li><li><label class='ee-shut'>4: [-3.639794740785296, 6.04206857911622]<input type='checkbox' class='ee-toggle'></label><ul><li><span class='ee-k'>0:</span><span class='ee-v'>-3.639794740785296</span></li><li><span class='ee-k'>1:</span><span class='ee-v'>6.04206857911622</span></li></ul></li><li><label class='ee-shut'>5: [-3.6400622944515066, 6.04206857114235]<input type='checkbox' class='ee-toggle'></label><ul><li><span class='ee-k'>0:</span><span class='ee-v'>-3.6400622944515066</span></li><li><span class='ee-k'>1:</span><span class='ee-v'>6.04206857114235</span></li></ul></li><li><label class='ee-shut'>6: [-3.6400622944515066, 6.041707402301136]<input type='checkbox' class='ee-toggle'></label><ul><li><span class='ee-k'>0:</span><span class='ee-v'>-3.6400622944515066</span></li><li><span class='ee-k'>1:</span><span class='ee-v'>6.041707402301136</span></li></ul></li><li><label class='ee-shut'>7: [-3.639794740785296, 6.041707329562788]<input type='checkbox' class='ee-toggle'></label><ul><li><span class='ee-k'>0:</span><span class='ee-v'>-3.639794740785296</span></li><li><span class='ee-k'>1:</span><span class='ee-v'>6.041707329562788</span></li></ul></li><li><label class='ee-shut'>8: [-3.639794740785296, 6.041801007549495]<input type='checkbox' class='ee-toggle'></label><ul><li><span class='ee-k'>0:</span><span class='ee-v'>-3.639794740785296</span></li><li><span class='ee-k'>1:</span><span class='ee-v'>6.041801007549495</span></li></ul></li></ul></li></ul></li></ul></li><li><label class='ee-shut'>properties: Object (3 properties)<input type='checkbox' class='ee-toggle'></label><ul><li><span class='ee-k'>count:</span><span class='ee-v'>1131</span></li><li><span class='ee-k'>label:</span><span class='ee-v'>1362793446</span></li><li><span class='ee-k'>random:</span><span class='ee-v'>0.00039730738645349373</span></li></ul></li></ul></li></ul></li></ul></li></ul></div><script>function toggleHeader() {\n",
       "    const parent = this.parentElement;\n",
       "    parent.className = parent.className === \"ee-open\" ? \"ee-shut\" : \"ee-open\";\n",
       "}\n",
       "\n",
       "for (let c of document.getElementsByClassName(\"ee-toggle\")) {\n",
       "    c.onclick = toggleHeader;\n",
       "}</script></div>"
      ],
      "text/plain": [
       "<ee.featurecollection.FeatureCollection at 0x7fdc4eede0e0>"
      ]
     },
     "execution_count": 219,
     "metadata": {},
     "output_type": "execute_result"
    }
   ],
   "source": [
    "fc = ee.FeatureCollection(example_plot_feature_col_asset)\n",
    "\n",
    "randomColumn = 'random'\n",
    "fc_r = fc.randomColumn(randomColumn,4)\n",
    "\n",
    "# Filter the feature collection based on the random column to get the sample\n",
    "fc_sample = fc_r.filter(ee.Filter.lt(randomColumn, sampleFraction));\n",
    "\n",
    "# fc = ee.FeatureCollection(fc.toList(fc.size()).slice(0,3)) #_sample\n",
    "\n",
    "fc.size()\n",
    "\n",
    "fc = fc_sample\n",
    "\n",
    "fc"
   ]
  },
  {
   "cell_type": "code",
   "execution_count": 220,
   "id": "5a8405b8-23a4-466e-b9be-0791c7b47935",
   "metadata": {},
   "outputs": [
    {
     "data": {
      "text/html": [
       "\n",
       "            <style>\n",
       "                .geemap-dark {\n",
       "                    --jp-widgets-color: white;\n",
       "                    --jp-widgets-label-color: white;\n",
       "                    --jp-ui-font-color1: white;\n",
       "                    --jp-layout-color2: #454545;\n",
       "                    background-color: #383838;\n",
       "                }\n",
       "                    \n",
       "                .geemap-dark .jupyter-button {\n",
       "                    --jp-layout-color3: #383838;\n",
       "                }\n",
       "                \n",
       "                .geemap-colab {\n",
       "                    background-color: var(--colab-primary-surface-color, white);\n",
       "                }\n",
       "                    \n",
       "                .geemap-colab .jupyter-button {\n",
       "                    --jp-layout-color3: var(--colab-primary-surface-color, white);\n",
       "                }\n",
       "            </style>\n",
       "            "
      ],
      "text/plain": [
       "<IPython.core.display.HTML object>"
      ]
     },
     "metadata": {},
     "output_type": "display_data"
    },
    {
     "name": "stdout",
     "output_type": "stream",
     "text": [
      "Number without geo ids:7. \n",
      " Processing started...\n",
      "using existing session\n",
      "Matched existing field (failed to register). Status code: 400 Using pre-existing geo id:  eb7183ae1c62b147e099de79265607bf1a53cb4ff717d50f8daee403284fd0a2\n",
      "using existing session79265607bf1a53cb4ff717d50f8daee403284fd0a2 for system:index  added to  temp_geo_id_lookup.csv\n",
      "Matched existing field (failed to register). Status code: 400 Using pre-existing geo id:  37485ae8d1dd2d047caa0fbc57a72e508e83b50bd3c4c14a990b52b2ff3f2a6c\n",
      "using existing sessionbc57a72e508e83b50bd3c4c14a990b52b2ff3f2a6c for system:index  added to  temp_geo_id_lookup.csv\n",
      "Matched existing field (failed to register). Status code: 400 Using pre-existing geo id:  375ba910a586a125ff451e960451990123b31ba0e54fcd73728b3a4a9d23ac65\n",
      "using existing session960451990123b31ba0e54fcd73728b3a4a9d23ac65 for system:index  added to  temp_geo_id_lookup.csv\n",
      "Matched existing field (failed to register). Status code: 400 Using pre-existing geo id:  146d51ab4e6a931f392efde0b270a3865e6d59a8eea559f51396001570ab7a6a\n",
      "using existing sessione0b270a3865e6d59a8eea559f51396001570ab7a6a for system:index  added to  temp_geo_id_lookup.csv\n",
      "Matched existing field (failed to register). Status code: 400 Using pre-existing geo id:  b98c8bc02d5057ad4f2a1ceea4fa235af0d1333703ffae68e29a7cf777502047\n",
      "using existing sessioneea4fa235af0d1333703ffae68e29a7cf777502047 for system:index  added to  temp_geo_id_lookup.csv\n",
      "Matched existing field (failed to register). Status code: 400 Using pre-existing geo id:  3f5d8a8b34a6e500008bc7d32783bd7bdaa673bd64349b76274a20575c9e1e97\n",
      "using existing sessiond32783bd7bdaa673bd64349b76274a20575c9e1e97 for system:index  added to  temp_geo_id_lookup.csv\n",
      "Matched existing field (failed to register). Status code: 400 Using pre-existing geo id:  326a2033a35144fcef36123bed53e12b3576dda199883f2f90fa9f7e238d17f8\n",
      "File copied successfully to: csvs/temp_geo_id_lookup_20240311_180132.csvtem:index  added to  temp_geo_id_lookup.csv\n",
      "Done\n"
     ]
    }
   ],
   "source": [
    "register_fc_and_append_to_csv(\n",
    "    feature_col=fc,\n",
    "    geo_id_column=\"Geo_id\",\n",
    "    output_lookup_csv=\"temp_geo_id_lookup.csv\",\n",
    "    # output_lookup_csv=\"whisp_output_table.csv\",\n",
    "    join_id_column=\"system:index\",\n",
    "    token=token,\n",
    "    session=session,\n",
    "    asset_registry_base=asset_registry_base,\n",
    "    override_checks=False,\n",
    "    remove_temp_csv=False,\n",
    "    debug=True)\n"
   ]
  },
  {
   "cell_type": "code",
   "execution_count": 111,
   "id": "36223be7-0227-4556-99a5-b522ee01b0ef",
   "metadata": {},
   "outputs": [
    {
     "data": {
      "text/html": [
       "\n",
       "            <style>\n",
       "                .geemap-dark {\n",
       "                    --jp-widgets-color: white;\n",
       "                    --jp-widgets-label-color: white;\n",
       "                    --jp-ui-font-color1: white;\n",
       "                    --jp-layout-color2: #454545;\n",
       "                    background-color: #383838;\n",
       "                }\n",
       "                    \n",
       "                .geemap-dark .jupyter-button {\n",
       "                    --jp-layout-color3: #383838;\n",
       "                }\n",
       "                \n",
       "                .geemap-colab {\n",
       "                    background-color: var(--colab-primary-surface-color, white);\n",
       "                }\n",
       "                    \n",
       "                .geemap-colab .jupyter-button {\n",
       "                    --jp-layout-color3: var(--colab-primary-surface-color, white);\n",
       "                }\n",
       "            </style>\n",
       "            "
      ],
      "text/plain": [
       "<IPython.core.display.HTML object>"
      ]
     },
     "metadata": {},
     "output_type": "display_data"
    },
    {
     "name": "stdout",
     "output_type": "stream",
     "text": [
      "Check passed: feature collection and table same size: 7 rows\n",
      "dropping rows without values (NaN etc) from input table. Before: 7 After: 7 \n",
      " processing...\n",
      "Finished. \n",
      " New count of Geo_id values in feature collection: 7 (from total of 7 features)\n"
     ]
    }
   ],
   "source": [
    "join_id_column = \"system:index\"\n",
    "\n",
    "fc_new = add_geo_ids_to_feature_col_from_lookup_csv(\n",
    "    fc,\n",
    "    \"temp_geo_id_lookup.csv\",\n",
    "    join_id_column,\n",
    "    geo_id_column,\n",
    "    override_checks=False,\n",
    "    remove_other_properties=True,\n",
    "    debug=True)\n"
   ]
  },
  {
   "cell_type": "code",
   "execution_count": 112,
   "id": "7e386ede-7720-4376-ae90-ead6c1a154f8",
   "metadata": {},
   "outputs": [
    {
     "data": {
      "text/html": [
       "\n",
       "            <style>\n",
       "                .geemap-dark {\n",
       "                    --jp-widgets-color: white;\n",
       "                    --jp-widgets-label-color: white;\n",
       "                    --jp-ui-font-color1: white;\n",
       "                    --jp-layout-color2: #454545;\n",
       "                    background-color: #383838;\n",
       "                }\n",
       "                    \n",
       "                .geemap-dark .jupyter-button {\n",
       "                    --jp-layout-color3: #383838;\n",
       "                }\n",
       "                \n",
       "                .geemap-colab {\n",
       "                    background-color: var(--colab-primary-surface-color, white);\n",
       "                }\n",
       "                    \n",
       "                .geemap-colab .jupyter-button {\n",
       "                    --jp-layout-color3: var(--colab-primary-surface-color, white);\n",
       "                }\n",
       "            </style>\n",
       "            "
      ],
      "text/plain": [
       "<IPython.core.display.HTML object>"
      ]
     },
     "metadata": {},
     "output_type": "display_data"
    }
   ],
   "source": [
    "# collection_properties_to_df(fc_new)"
   ]
  },
  {
   "cell_type": "code",
   "execution_count": 113,
   "id": "4af90ede-85e9-4ceb-bc2c-06e1a86c0d98",
   "metadata": {
    "editable": true,
    "scrolled": true,
    "slideshow": {
     "slide_type": ""
    },
    "tags": []
   },
   "outputs": [
    {
     "data": {
      "text/html": [
       "\n",
       "            <style>\n",
       "                .geemap-dark {\n",
       "                    --jp-widgets-color: white;\n",
       "                    --jp-widgets-label-color: white;\n",
       "                    --jp-ui-font-color1: white;\n",
       "                    --jp-layout-color2: #454545;\n",
       "                    background-color: #383838;\n",
       "                }\n",
       "                    \n",
       "                .geemap-dark .jupyter-button {\n",
       "                    --jp-layout-color3: #383838;\n",
       "                }\n",
       "                \n",
       "                .geemap-colab {\n",
       "                    background-color: var(--colab-primary-surface-color, white);\n",
       "                }\n",
       "                    \n",
       "                .geemap-colab .jupyter-button {\n",
       "                    --jp-layout-color3: var(--colab-primary-surface-color, white);\n",
       "                }\n",
       "            </style>\n",
       "            "
      ],
      "text/plain": [
       "<IPython.core.display.HTML object>"
      ]
     },
     "metadata": {},
     "output_type": "display_data"
    },
    {
     "name": "stdout",
     "output_type": "stream",
     "text": [
      "done\n"
     ]
    }
   ],
   "source": [
    "#run for feature collection (NB needs speeding up...)\n",
    "# roi_asset = register_fc_and_set_geo_id(\n",
    "#     fc,\n",
    "#     geo_id_column,\n",
    "#     token,\n",
    "#     session,\n",
    "#     asset_registry_base,\n",
    "#     debug=True\n",
    "# )\n",
    "\n",
    "# task.start()\n",
    "\n",
    "roi_asset = fc_new\n",
    "\n",
    "print (\"done\")"
   ]
  },
  {
   "cell_type": "code",
   "execution_count": 114,
   "id": "8ca72d87-eb75-4698-9720-cefa9071165a",
   "metadata": {},
   "outputs": [
    {
     "data": {
      "text/html": [
       "\n",
       "            <style>\n",
       "                .geemap-dark {\n",
       "                    --jp-widgets-color: white;\n",
       "                    --jp-widgets-label-color: white;\n",
       "                    --jp-ui-font-color1: white;\n",
       "                    --jp-layout-color2: #454545;\n",
       "                    background-color: #383838;\n",
       "                }\n",
       "                    \n",
       "                .geemap-dark .jupyter-button {\n",
       "                    --jp-layout-color3: #383838;\n",
       "                }\n",
       "                \n",
       "                .geemap-colab {\n",
       "                    background-color: var(--colab-primary-surface-color, white);\n",
       "                }\n",
       "                    \n",
       "                .geemap-colab .jupyter-button {\n",
       "                    --jp-layout-color3: var(--colab-primary-surface-color, white);\n",
       "                }\n",
       "            </style>\n",
       "            "
      ],
      "text/plain": [
       "<IPython.core.display.HTML object>"
      ]
     },
     "metadata": {},
     "output_type": "display_data"
    },
    {
     "data": {
      "text/html": [
       "<div><style>:root {\n",
       "  --font-color-primary: var(--jp-content-font-color0, rgba(0, 0, 0, 1));\n",
       "  --font-color-secondary: var(--jp-content-font-color2, rgba(0, 0, 0, 0.6));\n",
       "  --font-color-accent: rgba(123, 31, 162, 1);\n",
       "  --border-color: var(--jp-border-color2, #e0e0e0);\n",
       "  --background-color: var(--jp-layout-color0, white);\n",
       "  --background-color-row-even: var(--jp-layout-color1, white);\n",
       "  --background-color-row-odd: var(--jp-layout-color2, #eeeeee);\n",
       "}\n",
       "\n",
       "html[theme=\"dark\"],\n",
       "body[data-theme=\"dark\"],\n",
       "body.vscode-dark {\n",
       "  --font-color-primary: rgba(255, 255, 255, 1);\n",
       "  --font-color-secondary: rgba(255, 255, 255, 0.6);\n",
       "  --font-color-accent: rgb(173, 132, 190);\n",
       "  --border-color: #2e2e2e;\n",
       "  --background-color: #111111;\n",
       "  --background-color-row-even: #111111;\n",
       "  --background-color-row-odd: #313131;\n",
       "}\n",
       "\n",
       ".ee {\n",
       "  padding: 1em;\n",
       "  line-height: 1.5em;\n",
       "  min-width: 300px;\n",
       "  max-width: 1200px;\n",
       "  overflow-y: scroll;\n",
       "  max-height: 600px;\n",
       "  border: 1px solid var(--border-color);\n",
       "  font-family: monospace;\n",
       "}\n",
       "\n",
       ".ee li {\n",
       "  list-style-type: none;\n",
       "}\n",
       "\n",
       ".ee ul {\n",
       "  padding-left: 1.5em !important;\n",
       "  margin: 0;\n",
       "}\n",
       "\n",
       ".ee > ul {\n",
       "  padding-left: 0 !important;\n",
       "}\n",
       "\n",
       ".ee-open,\n",
       ".ee-shut {\n",
       "  color: var(--font-color-secondary);\n",
       "  cursor: pointer;\n",
       "  margin: 0;\n",
       "}\n",
       "\n",
       ".ee-open:hover,\n",
       ".ee-shut:hover {\n",
       "  color: var(--font-color-primary);\n",
       "}\n",
       "\n",
       ".ee-k {\n",
       "  color: var(--font-color-accent);\n",
       "  margin-right: 6px;\n",
       "}\n",
       "\n",
       ".ee-v {\n",
       "  color: var(--font-color-primary);\n",
       "}\n",
       "\n",
       ".ee-toggle {\n",
       "  display: none;\n",
       "}\n",
       "\n",
       ".ee-shut + ul {\n",
       "  display: none;\n",
       "}\n",
       "\n",
       ".ee-open + ul {\n",
       "  display: block;\n",
       "}\n",
       "\n",
       ".ee-shut::before {\n",
       "  display: inline-block;\n",
       "  content: \"▼\";\n",
       "  margin-right: 6px;\n",
       "  transform: rotate(-90deg);\n",
       "  transition: transform 0.2s;\n",
       "}\n",
       "\n",
       ".ee-open::before {\n",
       "  transform: rotate(0deg);\n",
       "  display: inline-block;\n",
       "  content: \"▼\";\n",
       "  margin-right: 6px;\n",
       "  transition: transform 0.2s;\n",
       "}\n",
       "</style><div class='ee'><ul><li><label class='ee-shut'>FeatureCollection (7 elements, 0 columns)<input type='checkbox' class='ee-toggle'></label><ul><li><span class='ee-k'>type:</span><span class='ee-v'>FeatureCollection</span></li><li><label class='ee-shut'>columns: Object (0 properties)<input type='checkbox' class='ee-toggle'></label><ul></ul></li><li><label class='ee-shut'>features: List (7 elements)<input type='checkbox' class='ee-toggle'></label><ul><li><label class='ee-shut'>0: Feature (Polygon, 1 property)<input type='checkbox' class='ee-toggle'></label><ul><li><span class='ee-k'>type:</span><span class='ee-v'>Feature</span></li><li><span class='ee-k'>id:</span><span class='ee-v'>000000000000000007b6</span></li><li><label class='ee-shut'>geometry: Polygon (17 vertices)<input type='checkbox' class='ee-toggle'></label><ul><li><span class='ee-k'>type:</span><span class='ee-v'>Polygon</span></li><li><label class='ee-shut'>coordinates: List (1 element)<input type='checkbox' class='ee-toggle'></label><ul><li><label class='ee-shut'>0: List (17 elements)<input type='checkbox' class='ee-toggle'></label><ul><li><label class='ee-shut'>0: [-3.695310581382507, 6.108723163925285]<input type='checkbox' class='ee-toggle'></label><ul><li><span class='ee-k'>0:</span><span class='ee-v'>-3.695310581382507</span></li><li><span class='ee-k'>1:</span><span class='ee-v'>6.108723163925285</span></li></ul></li><li><label class='ee-shut'>1: [-3.695310581382507, 6.108995210944058]<input type='checkbox' class='ee-toggle'></label><ul><li><span class='ee-k'>0:</span><span class='ee-v'>-3.695310581382507</span></li><li><span class='ee-k'>1:</span><span class='ee-v'>6.108995210944058</span></li></ul></li><li><label class='ee-shut'>2: [-3.695488940176382, 6.10899520252665]<input type='checkbox' class='ee-toggle'></label><ul><li><span class='ee-k'>0:</span><span class='ee-v'>-3.695488940176382</span></li><li><span class='ee-k'>1:</span><span class='ee-v'>6.10899520252665</span></li></ul></li><li><label class='ee-shut'>3: [-3.695488940176382, 6.10872315555595]<input type='checkbox' class='ee-toggle'></label><ul><li><span class='ee-k'>0:</span><span class='ee-v'>-3.695488940176382</span></li><li><span class='ee-k'>1:</span><span class='ee-v'>6.10872315555595</span></li></ul></li><li><label class='ee-shut'>4: [-3.69585007221199, 6.108723189169731]<input type='checkbox' class='ee-toggle'></label><ul><li><span class='ee-k'>0:</span><span class='ee-v'>-3.69585007221199</span></li><li><span class='ee-k'>1:</span><span class='ee-v'>6.108723189169731</span></li></ul></li><li><label class='ee-shut'>5: [-3.69585007221199, 6.1085448381230805]<input type='checkbox' class='ee-toggle'></label><ul><li><span class='ee-k'>0:</span><span class='ee-v'>-3.69585007221199</span></li><li><span class='ee-k'>1:</span><span class='ee-v'>6.1085448381230805</span></li></ul></li><li><label class='ee-shut'>6: [-3.695760892099828, 6.10854480201336]<input type='checkbox' class='ee-toggle'></label><ul><li><span class='ee-k'>0:</span><span class='ee-v'>-3.695760892099828</span></li><li><span class='ee-k'>1:</span><span class='ee-v'>6.10854480201336</span></li></ul></li><li><label class='ee-shut'>7: [-3.695760892099828, 6.1084556266771255]<input type='checkbox' class='ee-toggle'></label><ul><li><span class='ee-k'>0:</span><span class='ee-v'>-3.695760892099828</span></li><li><span class='ee-k'>1:</span><span class='ee-v'>6.1084556266771255</span></li></ul></li><li><label class='ee-shut'>8: [-3.69585007221199, 6.108455662794669]<input type='checkbox' class='ee-toggle'></label><ul><li><span class='ee-k'>0:</span><span class='ee-v'>-3.69585007221199</span></li><li><span class='ee-k'>1:</span><span class='ee-v'>6.108455662794669</span></li></ul></li><li><label class='ee-shut'>9: [-3.69585007221199, 6.1083664875962]<input type='checkbox' class='ee-toggle'></label><ul><li><span class='ee-k'>0:</span><span class='ee-v'>-3.69585007221199</span></li><li><span class='ee-k'>1:</span><span class='ee-v'>6.1083664875962</span></li></ul></li><li><label class='ee-shut'>10: [-3.6959392524813612, 6.108366443004211]<input type='checkbox' class='ee-toggle'></label><ul><li><span class='ee-k'>0:</span><span class='ee-v'>-3.6959392524813612</span></li><li><span class='ee-k'>1:</span><span class='ee-v'>6.108366443004211</span></li></ul></li><li><label class='ee-shut'>11: [-3.6959392524813612, 6.108272829369342]<input type='checkbox' class='ee-toggle'></label><ul><li><span class='ee-k'>0:</span><span class='ee-v'>-3.6959392524813612</span></li><li><span class='ee-k'>1:</span><span class='ee-v'>6.108272829369342</span></li></ul></li><li><label class='ee-shut'>12: [-3.695310581382507, 6.108272848468195]<input type='checkbox' class='ee-toggle'></label><ul><li><span class='ee-k'>0:</span><span class='ee-v'>-3.695310581382507</span></li><li><span class='ee-k'>1:</span><span class='ee-v'>6.108272848468195</span></li></ul></li><li><label class='ee-shut'>13: [-3.695310581382507, 6.108455637407433]<input type='checkbox' class='ee-toggle'></label><ul><li><span class='ee-k'>0:</span><span class='ee-v'>-3.695310581382507</span></li><li><span class='ee-k'>1:</span><span class='ee-v'>6.108455637407433</span></li></ul></li><li><label class='ee-shut'>14: [-3.695221402221388, 6.108455681895469]<input type='checkbox' class='ee-toggle'></label><ul><li><span class='ee-k'>0:</span><span class='ee-v'>-3.695221402221388</span></li><li><span class='ee-k'>1:</span><span class='ee-v'>6.108455681895469</span></li></ul></li><li><label class='ee-shut'>15: [-3.695221402221388, 6.1087232084371355]<input type='checkbox' class='ee-toggle'></label><ul><li><span class='ee-k'>0:</span><span class='ee-v'>-3.695221402221388</span></li><li><span class='ee-k'>1:</span><span class='ee-v'>6.1087232084371355</span></li></ul></li><li><label class='ee-shut'>16: [-3.695310581382507, 6.108723163925285]<input type='checkbox' class='ee-toggle'></label><ul><li><span class='ee-k'>0:</span><span class='ee-v'>-3.695310581382507</span></li><li><span class='ee-k'>1:</span><span class='ee-v'>6.108723163925285</span></li></ul></li></ul></li></ul></li></ul></li><li><label class='ee-shut'>properties: Object (1 property)<input type='checkbox' class='ee-toggle'></label><ul><li><span class='ee-k'>Geo_id:</span><span class='ee-v'>eb7183ae1c62b147e099de79265607bf1a53cb4ff717d50f8daee403284fd0a2</span></li></ul></li></ul></li><li><label class='ee-shut'>1: Feature (Polygon, 1 property)<input type='checkbox' class='ee-toggle'></label><ul><li><span class='ee-k'>type:</span><span class='ee-v'>Feature</span></li><li><span class='ee-k'>id:</span><span class='ee-v'>00000000000000000121</span></li><li><label class='ee-shut'>geometry: Polygon (29 vertices)<input type='checkbox' class='ee-toggle'></label><ul><li><span class='ee-k'>type:</span><span class='ee-v'>Polygon</span></li><li><label class='ee-shut'>coordinates: List (1 element)<input type='checkbox' class='ee-toggle'></label><ul><li><label class='ee-shut'>0: List (29 elements)<input type='checkbox' class='ee-toggle'></label><ul><li><label class='ee-shut'>0: [-3.649404133303529, 6.038652851102309]<input type='checkbox' class='ee-toggle'></label><ul><li><span class='ee-k'>0:</span><span class='ee-v'>-3.649404133303529</span></li><li><span class='ee-k'>1:</span><span class='ee-v'>6.038652851102309</span></li></ul></li><li><label class='ee-shut'>1: [-3.649404133303529, 6.03847453535602]<input type='checkbox' class='ee-toggle'></label><ul><li><span class='ee-k'>0:</span><span class='ee-v'>-3.649404133303529</span></li><li><span class='ee-k'>1:</span><span class='ee-v'>6.03847453535602</span></li></ul></li><li><label class='ee-shut'>2: [-3.649765322633696, 6.038474543680723]<input type='checkbox' class='ee-toggle'></label><ul><li><span class='ee-k'>0:</span><span class='ee-v'>-3.649765322633696</span></li><li><span class='ee-k'>1:</span><span class='ee-v'>6.038474543680723</span></li></ul></li><li><label class='ee-shut'>3: [-3.649765322633696, 6.038385305422403]<input type='checkbox' class='ee-toggle'></label><ul><li><span class='ee-k'>0:</span><span class='ee-v'>-3.649765322633696</span></li><li><span class='ee-k'>1:</span><span class='ee-v'>6.038385305422403</span></li></ul></li><li><label class='ee-shut'>4: [-3.649676146526352, 6.038385336180648]<input type='checkbox' class='ee-toggle'></label><ul><li><span class='ee-k'>0:</span><span class='ee-v'>-3.649676146526352</span></li><li><span class='ee-k'>1:</span><span class='ee-v'>6.038385336180648</span></li></ul></li><li><label class='ee-shut'>5: [-3.649676146526352, 6.038296178657889]<input type='checkbox' class='ee-toggle'></label><ul><li><span class='ee-k'>0:</span><span class='ee-v'>-3.649676146526352</span></li><li><span class='ee-k'>1:</span><span class='ee-v'>6.038296178657889</span></li></ul></li><li><label class='ee-shut'>6: [-3.6495868932342894, 6.038296129296148]<input type='checkbox' class='ee-toggle'></label><ul><li><span class='ee-k'>0:</span><span class='ee-v'>-3.6495868932342894</span></li><li><span class='ee-k'>1:</span><span class='ee-v'>6.038296129296148</span></li></ul></li><li><label class='ee-shut'>7: [-3.6495868932342894, 6.038206971896311]<input type='checkbox' class='ee-toggle'></label><ul><li><span class='ee-k'>0:</span><span class='ee-v'>-3.6495868932342894</span></li><li><span class='ee-k'>1:</span><span class='ee-v'>6.038206971896311</span></li></ul></li><li><label class='ee-shut'>8: [-3.649497717442596, 6.038207002607518]<input type='checkbox' class='ee-toggle'></label><ul><li><span class='ee-k'>0:</span><span class='ee-v'>-3.649497717442596</span></li><li><span class='ee-k'>1:</span><span class='ee-v'>6.038207002607518</span></li></ul></li><li><label class='ee-shut'>9: [-3.649497717442596, 6.038117764718186]<input type='checkbox' class='ee-toggle'></label><ul><li><span class='ee-k'>0:</span><span class='ee-v'>-3.649497717442596</span></li><li><span class='ee-k'>1:</span><span class='ee-v'>6.038117764718186</span></li></ul></li><li><label class='ee-shut'>10: [-3.6491365300298977, 6.038117756076766]<input type='checkbox' class='ee-toggle'></label><ul><li><span class='ee-k'>0:</span><span class='ee-v'>-3.6491365300298977</span></li><li><span class='ee-k'>1:</span><span class='ee-v'>6.038117756076766</span></li></ul></li><li><label class='ee-shut'>11: [-3.6491365300298977, 6.037756613885321]<input type='checkbox' class='ee-toggle'></label><ul><li><span class='ee-k'>0:</span><span class='ee-v'>-3.6491365300298977</span></li><li><span class='ee-k'>1:</span><span class='ee-v'>6.037756613885321</span></li></ul></li><li><label class='ee-shut'>12: [-3.6492257051826176, 6.03775658327716]<input type='checkbox' class='ee-toggle'></label><ul><li><span class='ee-k'>0:</span><span class='ee-v'>-3.6492257051826176</span></li><li><span class='ee-k'>1:</span><span class='ee-v'>6.03775658327716</span></li></ul></li><li><label class='ee-shut'>13: [-3.6492257051826176, 6.037578270126247]<input type='checkbox' class='ee-toggle'></label><ul><li><span class='ee-k'>0:</span><span class='ee-v'>-3.6492257051826176</span></li><li><span class='ee-k'>1:</span><span class='ee-v'>6.037578270126247</span></li></ul></li><li><label class='ee-shut'>14: [-3.6491365300298977, 6.0375782201071315]<input type='checkbox' class='ee-toggle'></label><ul><li><span class='ee-k'>0:</span><span class='ee-v'>-3.6491365300298977</span></li><li><span class='ee-k'>1:</span><span class='ee-v'>6.0375782201071315</span></li></ul></li><li><label class='ee-shut'>15: [-3.6491365300298977, 6.037489063719921]<input type='checkbox' class='ee-toggle'></label><ul><li><span class='ee-k'>0:</span><span class='ee-v'>-3.6491365300298977</span></li><li><span class='ee-k'>1:</span><span class='ee-v'>6.037489063719921</span></li></ul></li><li><label class='ee-shut'>16: [-3.6489581801977375, 6.037489044230722]<input type='checkbox' class='ee-toggle'></label><ul><li><span class='ee-k'>0:</span><span class='ee-v'>-3.6489581801977375</span></li><li><span class='ee-k'>1:</span><span class='ee-v'>6.037489044230722</span></li></ul></li><li><label class='ee-shut'>17: [-3.6489581801977375, 6.037395373720475]<input type='checkbox' class='ee-toggle'></label><ul><li><span class='ee-k'>0:</span><span class='ee-v'>-3.6489581801977375</span></li><li><span class='ee-k'>1:</span><span class='ee-v'>6.037395373720475</span></li></ul></li><li><label class='ee-shut'>18: [-3.648869005518301, 6.037395404249892]<input type='checkbox' class='ee-toggle'></label><ul><li><span class='ee-k'>0:</span><span class='ee-v'>-3.648869005518301</span></li><li><span class='ee-k'>1:</span><span class='ee-v'>6.037395404249892</span></li></ul></li><li><label class='ee-shut'>19: [-3.648869005518301, 6.037217011484035]<input type='checkbox' class='ee-toggle'></label><ul><li><span class='ee-k'>0:</span><span class='ee-v'>-3.648869005518301</span></li><li><span class='ee-k'>1:</span><span class='ee-v'>6.037217011484035</span></li></ul></li><li><label class='ee-shut'>20: [-3.648775345205251, 6.037217071901067]<input type='checkbox' class='ee-toggle'></label><ul><li><span class='ee-k'>0:</span><span class='ee-v'>-3.648775345205251</span></li><li><span class='ee-k'>1:</span><span class='ee-v'>6.037217071901067</span></li></ul></li><li><label class='ee-shut'>21: [-3.648775345205251, 6.037845761669769]<input type='checkbox' class='ee-toggle'></label><ul><li><span class='ee-k'>0:</span><span class='ee-v'>-3.648775345205251</span></li><li><span class='ee-k'>1:</span><span class='ee-v'>6.037845761669769</span></li></ul></li><li><label class='ee-shut'>22: [-3.648869005518301, 6.03784578180648]<input type='checkbox' class='ee-toggle'></label><ul><li><span class='ee-k'>0:</span><span class='ee-v'>-3.648869005518301</span></li><li><span class='ee-k'>1:</span><span class='ee-v'>6.03784578180648</span></li></ul></li><li><label class='ee-shut'>23: [-3.648869005518301, 6.038474478013714]<input type='checkbox' class='ee-toggle'></label><ul><li><span class='ee-k'>0:</span><span class='ee-v'>-3.648869005518301</span></li><li><span class='ee-k'>1:</span><span class='ee-v'>6.038474478013714</span></li></ul></li><li><label class='ee-shut'>24: [-3.6489581801977375, 6.0384745280023955]<input type='checkbox' class='ee-toggle'></label><ul><li><span class='ee-k'>0:</span><span class='ee-v'>-3.6489581801977375</span></li><li><span class='ee-k'>1:</span><span class='ee-v'>6.0384745280023955</span></li></ul></li><li><label class='ee-shut'>25: [-3.6489581801977375, 6.03856368584913]<input type='checkbox' class='ee-toggle'></label><ul><li><span class='ee-k'>0:</span><span class='ee-v'>-3.6489581801977375</span></li><li><span class='ee-k'>1:</span><span class='ee-v'>6.03856368584913</span></li></ul></li><li><label class='ee-shut'>26: [-3.6493149578351547, 6.038563723874236]<input type='checkbox' class='ee-toggle'></label><ul><li><span class='ee-k'>0:</span><span class='ee-v'>-3.6493149578351547</span></li><li><span class='ee-k'>1:</span><span class='ee-v'>6.038563723874236</span></li></ul></li><li><label class='ee-shut'>27: [-3.6493149578351547, 6.03865288182053]<input type='checkbox' class='ee-toggle'></label><ul><li><span class='ee-k'>0:</span><span class='ee-v'>-3.6493149578351547</span></li><li><span class='ee-k'>1:</span><span class='ee-v'>6.03865288182053</span></li></ul></li><li><label class='ee-shut'>28: [-3.649404133303529, 6.038652851102309]<input type='checkbox' class='ee-toggle'></label><ul><li><span class='ee-k'>0:</span><span class='ee-v'>-3.649404133303529</span></li><li><span class='ee-k'>1:</span><span class='ee-v'>6.038652851102309</span></li></ul></li></ul></li></ul></li></ul></li><li><label class='ee-shut'>properties: Object (1 property)<input type='checkbox' class='ee-toggle'></label><ul><li><span class='ee-k'>Geo_id:</span><span class='ee-v'>37485ae8d1dd2d047caa0fbc57a72e508e83b50bd3c4c14a990b52b2ff3f2a6c</span></li></ul></li></ul></li><li><label class='ee-shut'>2: Feature (Polygon, 1 property)<input type='checkbox' class='ee-toggle'></label><ul><li><span class='ee-k'>type:</span><span class='ee-v'>Feature</span></li><li><span class='ee-k'>id:</span><span class='ee-v'>00000000000000000df1</span></li><li><label class='ee-shut'>geometry: Polygon (69 vertices)<input type='checkbox' class='ee-toggle'></label><ul><li><span class='ee-k'>type:</span><span class='ee-v'>Polygon</span></li><li><label class='ee-shut'>coordinates: List (1 element)<input type='checkbox' class='ee-toggle'></label><ul><li><label class='ee-shut'>0: List (69 elements)<input type='checkbox' class='ee-toggle'></label><ul><li><label class='ee-shut'>0: [-3.588858427184418, 6.113213542786749]<input type='checkbox' class='ee-toggle'></label><ul><li><span class='ee-k'>0:</span><span class='ee-v'>-3.588858427184418</span></li><li><span class='ee-k'>1:</span><span class='ee-v'>6.113213542786749</span></li></ul></li><li><label class='ee-shut'>1: [-3.589041276214714, 6.113213539158733]<input type='checkbox' class='ee-toggle'></label><ul><li><span class='ee-k'>0:</span><span class='ee-v'>-3.589041276214714</span></li><li><span class='ee-k'>1:</span><span class='ee-v'>6.113213539158733</span></li></ul></li><li><label class='ee-shut'>2: [-3.589041276214714, 6.11339636180771]<input type='checkbox' class='ee-toggle'></label><ul><li><span class='ee-k'>0:</span><span class='ee-v'>-3.589041276214714</span></li><li><span class='ee-k'>1:</span><span class='ee-v'>6.11339636180771</span></li></ul></li><li><label class='ee-shut'>3: [-3.5891304221179343, 6.113396334730402]<input type='checkbox' class='ee-toggle'></label><ul><li><span class='ee-k'>0:</span><span class='ee-v'>-3.5891304221179343</span></li><li><span class='ee-k'>1:</span><span class='ee-v'>6.113396334730402</span></li></ul></li><li><label class='ee-shut'>4: [-3.5891304221179343, 6.11348552654429]<input type='checkbox' class='ee-toggle'></label><ul><li><span class='ee-k'>0:</span><span class='ee-v'>-3.5891304221179343</span></li><li><span class='ee-k'>1:</span><span class='ee-v'>6.11348552654429</span></li></ul></li><li><label class='ee-shut'>5: [-3.5892196454292336, 6.1134854989303475]<input type='checkbox' class='ee-toggle'></label><ul><li><span class='ee-k'>0:</span><span class='ee-v'>-3.5892196454292336</span></li><li><span class='ee-k'>1:</span><span class='ee-v'>6.1134854989303475</span></li></ul></li><li><label class='ee-shut'>6: [-3.5892196454292336, 6.113307115447877]<input type='checkbox' class='ee-toggle'></label><ul><li><span class='ee-k'>0:</span><span class='ee-v'>-3.5892196454292336</span></li><li><span class='ee-k'>1:</span><span class='ee-v'>6.113307115447877</span></li></ul></li><li><label class='ee-shut'>7: [-3.589398015277868, 6.1133071414326405]<input type='checkbox' class='ee-toggle'></label><ul><li><span class='ee-k'>0:</span><span class='ee-v'>-3.589398015277868</span></li><li><span class='ee-k'>1:</span><span class='ee-v'>6.1133071414326405</span></li></ul></li><li><label class='ee-shut'>8: [-3.589398015277868, 6.113842212630477]<input type='checkbox' class='ee-toggle'></label><ul><li><span class='ee-k'>0:</span><span class='ee-v'>-3.589398015277868</span></li><li><span class='ee-k'>1:</span><span class='ee-v'>6.113842212630477</span></li></ul></li><li><label class='ee-shut'>9: [-3.5893087916493736, 6.113842240306914]<input type='checkbox' class='ee-toggle'></label><ul><li><span class='ee-k'>0:</span><span class='ee-v'>-3.5893087916493736</span></li><li><span class='ee-k'>1:</span><span class='ee-v'>6.113842240306914</span></li></ul></li><li><label class='ee-shut'>10: [-3.5893087916493736, 6.113935872201547]<input type='checkbox' class='ee-toggle'></label><ul><li><span class='ee-k'>0:</span><span class='ee-v'>-3.5893087916493736</span></li><li><span class='ee-k'>1:</span><span class='ee-v'>6.113935872201547</span></li></ul></li><li><label class='ee-shut'>11: [-3.589041276214714, 6.113935873416391]<input type='checkbox' class='ee-toggle'></label><ul><li><span class='ee-k'>0:</span><span class='ee-v'>-3.589041276214714</span></li><li><span class='ee-k'>1:</span><span class='ee-v'>6.113935873416391</span></li></ul></li><li><label class='ee-shut'>12: [-3.589041276214714, 6.114114258761201]<input type='checkbox' class='ee-toggle'></label><ul><li><span class='ee-k'>0:</span><span class='ee-v'>-3.589041276214714</span></li><li><span class='ee-k'>1:</span><span class='ee-v'>6.114114258761201</span></li></ul></li><li><label class='ee-shut'>13: [-3.5891304221179343, 6.114114231622046]<input type='checkbox' class='ee-toggle'></label><ul><li><span class='ee-k'>0:</span><span class='ee-v'>-3.5891304221179343</span></li><li><span class='ee-k'>1:</span><span class='ee-v'>6.114114231622046</span></li></ul></li><li><label class='ee-shut'>14: [-3.5891304221179343, 6.114471003839949]<input type='checkbox' class='ee-toggle'></label><ul><li><span class='ee-k'>0:</span><span class='ee-v'>-3.5891304221179343</span></li><li><span class='ee-k'>1:</span><span class='ee-v'>6.114471003839949</span></li></ul></li><li><label class='ee-shut'>15: [-3.589576385760608, 6.1144709469309735]<input type='checkbox' class='ee-toggle'></label><ul><li><span class='ee-k'>0:</span><span class='ee-v'>-3.589576385760608</span></li><li><span class='ee-k'>1:</span><span class='ee-v'>6.1144709469309735</span></li></ul></li><li><label class='ee-shut'>16: [-3.589576385760608, 6.11438175371995]<input type='checkbox' class='ee-toggle'></label><ul><li><span class='ee-k'>0:</span><span class='ee-v'>-3.589576385760608</span></li><li><span class='ee-k'>1:</span><span class='ee-v'>6.11438175371995</span></li></ul></li><li><label class='ee-shut'>17: [-3.589670013136556, 6.114381777411913]<input type='checkbox' class='ee-toggle'></label><ul><li><span class='ee-k'>0:</span><span class='ee-v'>-3.589670013136556</span></li><li><span class='ee-k'>1:</span><span class='ee-v'>6.114381777411913</span></li></ul></li><li><label class='ee-shut'>18: [-3.589670013136556, 6.114292584338803]<input type='checkbox' class='ee-toggle'></label><ul><li><span class='ee-k'>0:</span><span class='ee-v'>-3.589670013136556</span></li><li><span class='ee-k'>1:</span><span class='ee-v'>6.114292584338803</span></li></ul></li><li><label class='ee-shut'>19: [-3.589576385760608, 6.1142926413565]<input type='checkbox' class='ee-toggle'></label><ul><li><span class='ee-k'>0:</span><span class='ee-v'>-3.589576385760608</span></li><li><span class='ee-k'>1:</span><span class='ee-v'>6.1142926413565</span></li></ul></li><li><label class='ee-shut'>20: [-3.589576385760608, 6.114203448405195]<input type='checkbox' class='ee-toggle'></label><ul><li><span class='ee-k'>0:</span><span class='ee-v'>-3.589576385760608</span></li><li><span class='ee-k'>1:</span><span class='ee-v'>6.114203448405195</span></li></ul></li><li><label class='ee-shut'>21: [-3.589670013136556, 6.114203391395605]<input type='checkbox' class='ee-toggle'></label><ul><li><span class='ee-k'>0:</span><span class='ee-v'>-3.589670013136556</span></li><li><span class='ee-k'>1:</span><span class='ee-v'>6.114203391395605</span></li></ul></li><li><label class='ee-shut'>22: [-3.589670013136556, 6.11402508661627]<input type='checkbox' class='ee-toggle'></label><ul><li><span class='ee-k'>0:</span><span class='ee-v'>-3.589670013136556</span></li><li><span class='ee-k'>1:</span><span class='ee-v'>6.11402508661627</span></li></ul></li><li><label class='ee-shut'>23: [-3.589759160156876, 6.114025059373029]<input type='checkbox' class='ee-toggle'></label><ul><li><span class='ee-k'>0:</span><span class='ee-v'>-3.589759160156876</span></li><li><span class='ee-k'>1:</span><span class='ee-v'>6.114025059373029</span></li></ul></li><li><label class='ee-shut'>24: [-3.589759160156876, 6.11393586682716]<input type='checkbox' class='ee-toggle'></label><ul><li><span class='ee-k'>0:</span><span class='ee-v'>-3.589759160156876</span></li><li><span class='ee-k'>1:</span><span class='ee-v'>6.11393586682716</span></li></ul></li><li><label class='ee-shut'>25: [-3.589848384586242, 6.113935919779688]<input type='checkbox' class='ee-toggle'></label><ul><li><span class='ee-k'>0:</span><span class='ee-v'>-3.589848384586242</span></li><li><span class='ee-k'>1:</span><span class='ee-v'>6.113935919779688</span></li></ul></li><li><label class='ee-shut'>26: [-3.589848384586242, 6.114025031600693]<input type='checkbox' class='ee-toggle'></label><ul><li><span class='ee-k'>0:</span><span class='ee-v'>-3.589848384586242</span></li><li><span class='ee-k'>1:</span><span class='ee-v'>6.114025031600693</span></li></ul></li><li><label class='ee-shut'>27: [-3.589937531923479, 6.1140250850430276]<input type='checkbox' class='ee-toggle'></label><ul><li><span class='ee-k'>0:</span><span class='ee-v'>-3.589937531923479</span></li><li><span class='ee-k'>1:</span><span class='ee-v'>6.1140250850430276</span></li></ul></li><li><label class='ee-shut'>28: [-3.589937531923479, 6.11411427770356]<input type='checkbox' class='ee-toggle'></label><ul><li><span class='ee-k'>0:</span><span class='ee-v'>-3.589937531923479</span></li><li><span class='ee-k'>1:</span><span class='ee-v'>6.11411427770356</span></li></ul></li><li><label class='ee-shut'>29: [-3.590026679419101, 6.114114250405073]<input type='checkbox' class='ee-toggle'></label><ul><li><span class='ee-k'>0:</span><span class='ee-v'>-3.590026679419101</span></li><li><span class='ee-k'>1:</span><span class='ee-v'>6.114114250405073</span></li></ul></li><li><label class='ee-shut'>30: [-3.590026679419101, 6.113663849016008]<input type='checkbox' class='ee-toggle'></label><ul><li><span class='ee-k'>0:</span><span class='ee-v'>-3.590026679419101</span></li><li><span class='ee-k'>1:</span><span class='ee-v'>6.113663849016008</span></li></ul></li><li><label class='ee-shut'>31: [-3.590205052136709, 6.11366387465264]<input type='checkbox' class='ee-toggle'></label><ul><li><span class='ee-k'>0:</span><span class='ee-v'>-3.590205052136709</span></li><li><span class='ee-k'>1:</span><span class='ee-v'>6.11366387465264</span></li></ul></li><li><label class='ee-shut'>32: [-3.590205052136709, 6.1137530667640725]<input type='checkbox' class='ee-toggle'></label><ul><li><span class='ee-k'>0:</span><span class='ee-v'>-3.590205052136709</span></li><li><span class='ee-k'>1:</span><span class='ee-v'>6.1137530667640725</span></li></ul></li><li><label class='ee-shut'>33: [-3.5902987579370844, 6.113753089881698]<input type='checkbox' class='ee-toggle'></label><ul><li><span class='ee-k'>0:</span><span class='ee-v'>-3.5902987579370844</span></li><li><span class='ee-k'>1:</span><span class='ee-v'>6.113753089881698</span></li></ul></li><li><label class='ee-shut'>34: [-3.5902987579370844, 6.113842201398037]<input type='checkbox' class='ee-toggle'></label><ul><li><span class='ee-k'>0:</span><span class='ee-v'>-3.5902987579370844</span></li><li><span class='ee-k'>1:</span><span class='ee-v'>6.113842201398037</span></li></ul></li><li><label class='ee-shut'>35: [-3.5904770543702647, 6.113842227420684]<input type='checkbox' class='ee-toggle'></label><ul><li><span class='ee-k'>0:</span><span class='ee-v'>-3.5904770543702647</span></li><li><span class='ee-k'>1:</span><span class='ee-v'>6.113842227420684</span></li></ul></li><li><label class='ee-shut'>36: [-3.5904770543702647, 6.113663843114651]<input type='checkbox' class='ee-toggle'></label><ul><li><span class='ee-k'>0:</span><span class='ee-v'>-3.5904770543702647</span></li><li><span class='ee-k'>1:</span><span class='ee-v'>6.113663843114651</span></li></ul></li><li><label class='ee-shut'>37: [-3.5907446547119872, 6.113663840690422]<input type='checkbox' class='ee-toggle'></label><ul><li><span class='ee-k'>0:</span><span class='ee-v'>-3.5907446547119872</span></li><li><span class='ee-k'>1:</span><span class='ee-v'>6.113663840690422</span></li></ul></li><li><label class='ee-shut'>38: [-3.5907446547119872, 6.113396345991052]<input type='checkbox' class='ee-toggle'></label><ul><li><span class='ee-k'>0:</span><span class='ee-v'>-3.5907446547119872</span></li><li><span class='ee-k'>1:</span><span class='ee-v'>6.113396345991052</span></li></ul></li><li><label class='ee-shut'>39: [-3.590833803641572, 6.113396318610968]<input type='checkbox' class='ee-toggle'></label><ul><li><span class='ee-k'>0:</span><span class='ee-v'>-3.590833803641572</span></li><li><span class='ee-k'>1:</span><span class='ee-v'>6.113396318610968</span></li></ul></li><li><label class='ee-shut'>40: [-3.590833803641572, 6.113213496277266]<input type='checkbox' class='ee-toggle'></label><ul><li><span class='ee-k'>0:</span><span class='ee-v'>-3.590833803641572</span></li><li><span class='ee-k'>1:</span><span class='ee-v'>6.113213496277266</span></li></ul></li><li><label class='ee-shut'>41: [-3.5907446547119872, 6.113213523641595]<input type='checkbox' class='ee-toggle'></label><ul><li><span class='ee-k'>0:</span><span class='ee-v'>-3.5907446547119872</span></li><li><span class='ee-k'>1:</span><span class='ee-v'>6.113213523641595</span></li></ul></li><li><label class='ee-shut'>42: [-3.5907446547119872, 6.113124332362385]<input type='checkbox' class='ee-toggle'></label><ul><li><span class='ee-k'>0:</span><span class='ee-v'>-3.5907446547119872</span></li><li><span class='ee-k'>1:</span><span class='ee-v'>6.113124332362385</span></li></ul></li><li><label class='ee-shut'>43: [-3.591016659870563, 6.113124300673143]<input type='checkbox' class='ee-toggle'></label><ul><li><span class='ee-k'>0:</span><span class='ee-v'>-3.591016659870563</span></li><li><span class='ee-k'>1:</span><span class='ee-v'>6.113124300673143</span></li></ul></li><li><label class='ee-shut'>44: [-3.591016659870563, 6.113035109547239]<input type='checkbox' class='ee-toggle'></label><ul><li><span class='ee-k'>0:</span><span class='ee-v'>-3.591016659870563</span></li><li><span class='ee-k'>1:</span><span class='ee-v'>6.113035109547239</span></li></ul></li><li><label class='ee-shut'>45: [-3.591105809283393, 6.113035162865827]<input type='checkbox' class='ee-toggle'></label><ul><li><span class='ee-k'>0:</span><span class='ee-v'>-3.591105809283393</span></li><li><span class='ee-k'>1:</span><span class='ee-v'>6.113035162865827</span></li></ul></li><li><label class='ee-shut'>46: [-3.591105809283393, 6.112945971877421]<input type='checkbox' class='ee-toggle'></label><ul><li><span class='ee-k'>0:</span><span class='ee-v'>-3.591105809283393</span></li><li><span class='ee-k'>1:</span><span class='ee-v'>6.112945971877421</span></li></ul></li><li><label class='ee-shut'>47: [-3.591016659870563, 6.11294599926704]<input type='checkbox' class='ee-toggle'></label><ul><li><span class='ee-k'>0:</span><span class='ee-v'>-3.591016659870563</span></li><li><span class='ee-k'>1:</span><span class='ee-v'>6.11294599926704</span></li></ul></li><li><label class='ee-shut'>48: [-3.591016659870563, 6.112856808400866]<input type='checkbox' class='ee-toggle'></label><ul><li><span class='ee-k'>0:</span><span class='ee-v'>-3.591016659870563</span></li><li><span class='ee-k'>1:</span><span class='ee-v'>6.112856808400866</span></li></ul></li><li><label class='ee-shut'>49: [-3.590566280076192, 6.112856814437185]<input type='checkbox' class='ee-toggle'></label><ul><li><span class='ee-k'>0:</span><span class='ee-v'>-3.590566280076192</span></li><li><span class='ee-k'>1:</span><span class='ee-v'>6.112856814437185</span></li></ul></li><li><label class='ee-shut'>50: [-3.590566280076192, 6.1127676236622985]<input type='checkbox' class='ee-toggle'></label><ul><li><span class='ee-k'>0:</span><span class='ee-v'>-3.590566280076192</span></li><li><span class='ee-k'>1:</span><span class='ee-v'>6.1127676236622985</span></li></ul></li><li><label class='ee-shut'>51: [-3.590387906074482, 6.112767598000785]<input type='checkbox' class='ee-toggle'></label><ul><li><span class='ee-k'>0:</span><span class='ee-v'>-3.590387906074482</span></li><li><span class='ee-k'>1:</span><span class='ee-v'>6.112767598000785</span></li></ul></li><li><label class='ee-shut'>52: [-3.590387906074482, 6.112673967989818]<input type='checkbox' class='ee-toggle'></label><ul><li><span class='ee-k'>0:</span><span class='ee-v'>-3.590387906074482</span></li><li><span class='ee-k'>1:</span><span class='ee-v'>6.112673967989818</span></li></ul></li><li><label class='ee-shut'>53: [-3.5902987579370844, 6.112673995228392]<input type='checkbox' class='ee-toggle'></label><ul><li><span class='ee-k'>0:</span><span class='ee-v'>-3.5902987579370844</span></li><li><span class='ee-k'>1:</span><span class='ee-v'>6.112673995228392</span></li></ul></li><li><label class='ee-shut'>54: [-3.5902987579370844, 6.1121388539882]<input type='checkbox' class='ee-toggle'></label><ul><li><span class='ee-k'>0:</span><span class='ee-v'>-3.5902987579370844</span></li><li><span class='ee-k'>1:</span><span class='ee-v'>6.1121388539882</span></li></ul></li><li><label class='ee-shut'>55: [-3.590026679419101, 6.112138885542897]<input type='checkbox' class='ee-toggle'></label><ul><li><span class='ee-k'>0:</span><span class='ee-v'>-3.590026679419101</span></li><li><span class='ee-k'>1:</span><span class='ee-v'>6.112138885542897</span></li></ul></li><li><label class='ee-shut'>56: [-3.590026679419101, 6.112317265483344]<input type='checkbox' class='ee-toggle'></label><ul><li><span class='ee-k'>0:</span><span class='ee-v'>-3.590026679419101</span></li><li><span class='ee-k'>1:</span><span class='ee-v'>6.112317265483344</span></li></ul></li><li><label class='ee-shut'>57: [-3.589937531923479, 6.112317211911945]<input type='checkbox' class='ee-toggle'></label><ul><li><span class='ee-k'>0:</span><span class='ee-v'>-3.589937531923479</span></li><li><span class='ee-k'>1:</span><span class='ee-v'>6.112317211911945</span></li></ul></li><li><label class='ee-shut'>58: [-3.589937531923479, 6.112406402084628]<input type='checkbox' class='ee-toggle'></label><ul><li><span class='ee-k'>0:</span><span class='ee-v'>-3.589937531923479</span></li><li><span class='ee-k'>1:</span><span class='ee-v'>6.112406402084628</span></li></ul></li><li><label class='ee-shut'>59: [-3.589848384586242, 6.112406429220098]<input type='checkbox' class='ee-toggle'></label><ul><li><span class='ee-k'>0:</span><span class='ee-v'>-3.589848384586242</span></li><li><span class='ee-k'>1:</span><span class='ee-v'>6.112406429220098</span></li></ul></li><li><label class='ee-shut'>60: [-3.589848384586242, 6.1124956195304]<input type='checkbox' class='ee-toggle'></label><ul><li><span class='ee-k'>0:</span><span class='ee-v'>-3.589848384586242</span></li><li><span class='ee-k'>1:</span><span class='ee-v'>6.1124956195304</span></li></ul></li><li><label class='ee-shut'>61: [-3.589759160156876, 6.11249556645554]<input type='checkbox' class='ee-toggle'></label><ul><li><span class='ee-k'>0:</span><span class='ee-v'>-3.589759160156876</span></li><li><span class='ee-k'>1:</span><span class='ee-v'>6.11249556645554</span></li></ul></li><li><label class='ee-shut'>62: [-3.589759160156876, 6.112673947481083]<input type='checkbox' class='ee-toggle'></label><ul><li><span class='ee-k'>0:</span><span class='ee-v'>-3.589759160156876</span></li><li><span class='ee-k'>1:</span><span class='ee-v'>6.112673947481083</span></li></ul></li><li><label class='ee-shut'>63: [-3.589398015277868, 6.112673924733204]<input type='checkbox' class='ee-toggle'></label><ul><li><span class='ee-k'>0:</span><span class='ee-v'>-3.589398015277868</span></li><li><span class='ee-k'>1:</span><span class='ee-v'>6.112673924733204</span></li></ul></li><li><label class='ee-shut'>64: [-3.589398015277868, 6.112584734124533]<input type='checkbox' class='ee-toggle'></label><ul><li><span class='ee-k'>0:</span><span class='ee-v'>-3.589398015277868</span></li><li><span class='ee-k'>1:</span><span class='ee-v'>6.112584734124533</span></li></ul></li><li><label class='ee-shut'>65: [-3.5892196454292336, 6.1125847887316205]<input type='checkbox' class='ee-toggle'></label><ul><li><span class='ee-k'>0:</span><span class='ee-v'>-3.5892196454292336</span></li><li><span class='ee-k'>1:</span><span class='ee-v'>6.1125847887316205</span></li></ul></li><li><label class='ee-shut'>66: [-3.5892196454292336, 6.112495598237496]<input type='checkbox' class='ee-toggle'></label><ul><li><span class='ee-k'>0:</span><span class='ee-v'>-3.5892196454292336</span></li><li><span class='ee-k'>1:</span><span class='ee-v'>6.112495598237496</span></li></ul></li><li><label class='ee-shut'>67: [-3.588858427184418, 6.112495575552217]<input type='checkbox' class='ee-toggle'></label><ul><li><span class='ee-k'>0:</span><span class='ee-v'>-3.588858427184418</span></li><li><span class='ee-k'>1:</span><span class='ee-v'>6.112495575552217</span></li></ul></li><li><label class='ee-shut'>68: [-3.588858427184418, 6.113213542786749]<input type='checkbox' class='ee-toggle'></label><ul><li><span class='ee-k'>0:</span><span class='ee-v'>-3.588858427184418</span></li><li><span class='ee-k'>1:</span><span class='ee-v'>6.113213542786749</span></li></ul></li></ul></li></ul></li></ul></li><li><label class='ee-shut'>properties: Object (1 property)<input type='checkbox' class='ee-toggle'></label><ul><li><span class='ee-k'>Geo_id:</span><span class='ee-v'>375ba910a586a125ff451e960451990123b31ba0e54fcd73728b3a4a9d23ac65</span></li></ul></li></ul></li><li><label class='ee-shut'>3: Feature (Polygon, 1 property)<input type='checkbox' class='ee-toggle'></label><ul><li><span class='ee-k'>type:</span><span class='ee-v'>Feature</span></li><li><span class='ee-k'>id:</span><span class='ee-v'>0000000000000000029d</span></li><li><label class='ee-shut'>geometry: Polygon (109 vertices)<input type='checkbox' class='ee-toggle'></label><ul><li><span class='ee-k'>type:</span><span class='ee-v'>Polygon</span></li><li><label class='ee-shut'>coordinates: List (1 element)<input type='checkbox' class='ee-toggle'></label><ul><li><label class='ee-shut'>0: List (109 elements)<input type='checkbox' class='ee-toggle'></label><ul><li><label class='ee-shut'>0: [-3.659735865675084, 6.0301226312156695]<input type='checkbox' class='ee-toggle'></label><ul><li><span class='ee-k'>0:</span><span class='ee-v'>-3.659735865675084</span></li><li><span class='ee-k'>1:</span><span class='ee-v'>6.0301226312156695</span></li></ul></li><li><label class='ee-shut'>1: [-3.659735865675084, 6.030390146201355]<input type='checkbox' class='ee-toggle'></label><ul><li><span class='ee-k'>0:</span><span class='ee-v'>-3.659735865675084</span></li><li><span class='ee-k'>1:</span><span class='ee-v'>6.030390146201355</span></li></ul></li><li><label class='ee-shut'>2: [-3.659646671934409, 6.0303901780087905]<input type='checkbox' class='ee-toggle'></label><ul><li><span class='ee-k'>0:</span><span class='ee-v'>-3.659646671934409</span></li><li><span class='ee-k'>1:</span><span class='ee-v'>6.0303901780087905</span></li></ul></li><li><label class='ee-shut'>3: [-3.659646671934409, 6.030479323072948]<input type='checkbox' class='ee-toggle'></label><ul><li><span class='ee-k'>0:</span><span class='ee-v'>-3.659646671934409</span></li><li><span class='ee-k'>1:</span><span class='ee-v'>6.030479323072948</span></li></ul></li><li><label class='ee-shut'>4: [-3.6594682849261573, 6.030479386656531]<input type='checkbox' class='ee-toggle'></label><ul><li><span class='ee-k'>0:</span><span class='ee-v'>-3.6594682849261573</span></li><li><span class='ee-k'>1:</span><span class='ee-v'>6.030479386656531</span></li></ul></li><li><label class='ee-shut'>5: [-3.6594682849261573, 6.0301226459193655]<input type='checkbox' class='ee-toggle'></label><ul><li><span class='ee-k'>0:</span><span class='ee-v'>-3.6594682849261573</span></li><li><span class='ee-k'>1:</span><span class='ee-v'>6.0301226459193655</span></li></ul></li><li><label class='ee-shut'>6: [-3.659379091658582, 6.030122597055301]<input type='checkbox' class='ee-toggle'></label><ul><li><span class='ee-k'>0:</span><span class='ee-v'>-3.659379091658582</span></li><li><span class='ee-k'>1:</span><span class='ee-v'>6.030122597055301</span></li></ul></li><li><label class='ee-shut'>7: [-3.659379091658582, 6.030028938845328]<input type='checkbox' class='ee-toggle'></label><ul><li><span class='ee-k'>0:</span><span class='ee-v'>-3.659379091658582</span></li><li><span class='ee-k'>1:</span><span class='ee-v'>6.030028938845328</span></li></ul></li><li><label class='ee-shut'>8: [-3.659285489179627, 6.030029000017854]<input type='checkbox' class='ee-toggle'></label><ul><li><span class='ee-k'>0:</span><span class='ee-v'>-3.659285489179627</span></li><li><span class='ee-k'>1:</span><span class='ee-v'>6.030029000017854</span></li></ul></li><li><label class='ee-shut'>9: [-3.659285489179627, 6.030211802940105]<input type='checkbox' class='ee-toggle'></label><ul><li><span class='ee-k'>0:</span><span class='ee-v'>-3.659285489179627</span></li><li><span class='ee-k'>1:</span><span class='ee-v'>6.030211802940105</span></li></ul></li><li><label class='ee-shut'>10: [-3.65883952603473, 6.030211800144325]<input type='checkbox' class='ee-toggle'></label><ul><li><span class='ee-k'>0:</span><span class='ee-v'>-3.65883952603473</span></li><li><span class='ee-k'>1:</span><span class='ee-v'>6.030211800144325</span></li></ul></li><li><label class='ee-shut'>11: [-3.65883952603473, 6.030479315757689]<input type='checkbox' class='ee-toggle'></label><ul><li><span class='ee-k'>0:</span><span class='ee-v'>-3.65883952603473</span></li><li><span class='ee-k'>1:</span><span class='ee-v'>6.030479315757689</span></li></ul></li><li><label class='ee-shut'>12: [-3.6591071034485654, 6.030479381893055]<input type='checkbox' class='ee-toggle'></label><ul><li><span class='ee-k'>0:</span><span class='ee-v'>-3.6591071034485654</span></li><li><span class='ee-k'>1:</span><span class='ee-v'>6.030479381893055</span></li></ul></li><li><label class='ee-shut'>13: [-3.6591071034485654, 6.030568527135202]<input type='checkbox' class='ee-toggle'></label><ul><li><span class='ee-k'>0:</span><span class='ee-v'>-3.6591071034485654</span></li><li><span class='ee-k'>1:</span><span class='ee-v'>6.030568527135202</span></li></ul></li><li><label class='ee-shut'>14: [-3.659196296235243, 6.0305684954068415]<input type='checkbox' class='ee-toggle'></label><ul><li><span class='ee-k'>0:</span><span class='ee-v'>-3.659196296235243</span></li><li><span class='ee-k'>1:</span><span class='ee-v'>6.0305684954068415</span></li></ul></li><li><label class='ee-shut'>15: [-3.659196296235243, 6.030662154464665]<input type='checkbox' class='ee-toggle'></label><ul><li><span class='ee-k'>0:</span><span class='ee-v'>-3.659196296235243</span></li><li><span class='ee-k'>1:</span><span class='ee-v'>6.030662154464665</span></li></ul></li><li><label class='ee-shut'>16: [-3.6594682849261573, 6.030662190899946]<input type='checkbox' class='ee-toggle'></label><ul><li><span class='ee-k'>0:</span><span class='ee-v'>-3.6594682849261573</span></li><li><span class='ee-k'>1:</span><span class='ee-v'>6.030662190899946</span></li></ul></li><li><label class='ee-shut'>17: [-3.6594682849261573, 6.030751336378479]<input type='checkbox' class='ee-toggle'></label><ul><li><span class='ee-k'>0:</span><span class='ee-v'>-3.6594682849261573</span></li><li><span class='ee-k'>1:</span><span class='ee-v'>6.030751336378479</span></li></ul></li><li><label class='ee-shut'>18: [-3.659557478351436, 6.030751385172318]<input type='checkbox' class='ee-toggle'></label><ul><li><span class='ee-k'>0:</span><span class='ee-v'>-3.659557478351436</span></li><li><span class='ee-k'>1:</span><span class='ee-v'>6.030751385172318</span></li></ul></li><li><label class='ee-shut'>19: [-3.659557478351436, 6.030840530773796]<input type='checkbox' class='ee-toggle'></label><ul><li><span class='ee-k'>0:</span><span class='ee-v'>-3.659557478351436</span></li><li><span class='ee-k'>1:</span><span class='ee-v'>6.030840530773796</span></li></ul></li><li><label class='ee-shut'>20: [-3.659646671934409, 6.030840498942357]<input type='checkbox' class='ee-toggle'></label><ul><li><span class='ee-k'>0:</span><span class='ee-v'>-3.659646671934409</span></li><li><span class='ee-k'>1:</span><span class='ee-v'>6.030840498942357</span></li></ul></li><li><label class='ee-shut'>21: [-3.659646671934409, 6.03101887112377]<input type='checkbox' class='ee-toggle'></label><ul><li><span class='ee-k'>0:</span><span class='ee-v'>-3.659646671934409</span></li><li><span class='ee-k'>1:</span><span class='ee-v'>6.03101887112377</span></li></ul></li><li><label class='ee-shut'>22: [-3.659557478351436, 6.03101890297092]<input type='checkbox' class='ee-toggle'></label><ul><li><span class='ee-k'>0:</span><span class='ee-v'>-3.659557478351436</span></li><li><span class='ee-k'>1:</span><span class='ee-v'>6.03101890297092</span></li></ul></li><li><label class='ee-shut'>23: [-3.659557478351436, 6.031108048964571]<input type='checkbox' class='ee-toggle'></label><ul><li><span class='ee-k'>0:</span><span class='ee-v'>-3.659557478351436</span></li><li><span class='ee-k'>1:</span><span class='ee-v'>6.031108048964571</span></li></ul></li><li><label class='ee-shut'>24: [-3.659196296235243, 6.031108044487414]<input type='checkbox' class='ee-toggle'></label><ul><li><span class='ee-k'>0:</span><span class='ee-v'>-3.659196296235243</span></li><li><span class='ee-k'>1:</span><span class='ee-v'>6.031108044487414</span></li></ul></li><li><label class='ee-shut'>25: [-3.659196296235243, 6.030929752567595]<input type='checkbox' class='ee-toggle'></label><ul><li><span class='ee-k'>0:</span><span class='ee-v'>-3.659196296235243</span></li><li><span class='ee-k'>1:</span><span class='ee-v'>6.030929752567595</span></li></ul></li><li><label class='ee-shut'>26: [-3.6590179108195833, 6.030929735470253]<input type='checkbox' class='ee-toggle'></label><ul><li><span class='ee-k'>0:</span><span class='ee-v'>-3.6590179108195833</span></li><li><span class='ee-k'>1:</span><span class='ee-v'>6.030929735470253</span></li></ul></li><li><label class='ee-shut'>27: [-3.6590179108195833, 6.0313800606773915]<input type='checkbox' class='ee-toggle'></label><ul><li><span class='ee-k'>0:</span><span class='ee-v'>-3.6590179108195833</span></li><li><span class='ee-k'>1:</span><span class='ee-v'>6.0313800606773915</span></li></ul></li><li><label class='ee-shut'>28: [-3.6591071034485654, 6.031380109495843]<input type='checkbox' class='ee-toggle'></label><ul><li><span class='ee-k'>0:</span><span class='ee-v'>-3.6591071034485654</span></li><li><span class='ee-k'>1:</span><span class='ee-v'>6.031380109495843</span></li></ul></li><li><label class='ee-shut'>29: [-3.6591071034485654, 6.031469256058409]<input type='checkbox' class='ee-toggle'></label><ul><li><span class='ee-k'>0:</span><span class='ee-v'>-3.6591071034485654</span></li><li><span class='ee-k'>1:</span><span class='ee-v'>6.031469256058409</span></li></ul></li><li><label class='ee-shut'>30: [-3.659379091658582, 6.031469292326473]<input type='checkbox' class='ee-toggle'></label><ul><li><span class='ee-k'>0:</span><span class='ee-v'>-3.659379091658582</span></li><li><span class='ee-k'>1:</span><span class='ee-v'>6.031469292326473</span></li></ul></li><li><label class='ee-shut'>31: [-3.659379091658582, 6.031736813330067]<input type='checkbox' class='ee-toggle'></label><ul><li><span class='ee-k'>0:</span><span class='ee-v'>-3.659379091658582</span></li><li><span class='ee-k'>1:</span><span class='ee-v'>6.031736813330067</span></li></ul></li><li><label class='ee-shut'>32: [-3.659285489179627, 6.0317367940581645]<input type='checkbox' class='ee-toggle'></label><ul><li><span class='ee-k'>0:</span><span class='ee-v'>-3.659285489179627</span></li><li><span class='ee-k'>1:</span><span class='ee-v'>6.0317367940581645</span></li></ul></li><li><label class='ee-shut'>33: [-3.659285489179627, 6.0318260217311765]<input type='checkbox' class='ee-toggle'></label><ul><li><span class='ee-k'>0:</span><span class='ee-v'>-3.659285489179627</span></li><li><span class='ee-k'>1:</span><span class='ee-v'>6.0318260217311765</span></li></ul></li><li><label class='ee-shut'>34: [-3.659196296235243, 6.031825972982764]<input type='checkbox' class='ee-toggle'></label><ul><li><span class='ee-k'>0:</span><span class='ee-v'>-3.659196296235243</span></li><li><span class='ee-k'>1:</span><span class='ee-v'>6.031825972982764</span></li></ul></li><li><label class='ee-shut'>35: [-3.659196296235243, 6.0319196339772825]<input type='checkbox' class='ee-toggle'></label><ul><li><span class='ee-k'>0:</span><span class='ee-v'>-3.659196296235243</span></li><li><span class='ee-k'>1:</span><span class='ee-v'>6.0319196339772825</span></li></ul></li><li><label class='ee-shut'>36: [-3.6591071034485654, 6.0319196658246454]<input type='checkbox' class='ee-toggle'></label><ul><li><span class='ee-k'>0:</span><span class='ee-v'>-3.6591071034485654</span></li><li><span class='ee-k'>1:</span><span class='ee-v'>6.0319196658246454</span></li></ul></li><li><label class='ee-shut'>37: [-3.6591071034485654, 6.032008813178133]<input type='checkbox' class='ee-toggle'></label><ul><li><span class='ee-k'>0:</span><span class='ee-v'>-3.6591071034485654</span></li><li><span class='ee-k'>1:</span><span class='ee-v'>6.032008813178133</span></li></ul></li><li><label class='ee-shut'>38: [-3.659196296235243, 6.032008781322915]<input type='checkbox' class='ee-toggle'></label><ul><li><span class='ee-k'>0:</span><span class='ee-v'>-3.659196296235243</span></li><li><span class='ee-k'>1:</span><span class='ee-v'>6.032008781322915</span></li></ul></li><li><label class='ee-shut'>39: [-3.659196296235243, 6.032187157009896]<input type='checkbox' class='ee-toggle'></label><ul><li><span class='ee-k'>0:</span><span class='ee-v'>-3.659196296235243</span></li><li><span class='ee-k'>1:</span><span class='ee-v'>6.032187157009896</span></li></ul></li><li><label class='ee-shut'>40: [-3.659285489179627, 6.032187205726978]<input type='checkbox' class='ee-toggle'></label><ul><li><span class='ee-k'>0:</span><span class='ee-v'>-3.659285489179627</span></li><li><span class='ee-k'>1:</span><span class='ee-v'>6.032187205726978</span></li></ul></li><li><label class='ee-shut'>41: [-3.659285489179627, 6.032365581921652]<input type='checkbox' class='ee-toggle'></label><ul><li><span class='ee-k'>0:</span><span class='ee-v'>-3.659285489179627</span></li><li><span class='ee-k'>1:</span><span class='ee-v'>6.032365581921652</span></li></ul></li><li><label class='ee-shut'>42: [-3.65883952603473, 6.032365580068635]<input type='checkbox' class='ee-toggle'></label><ul><li><span class='ee-k'>0:</span><span class='ee-v'>-3.65883952603473</span></li><li><span class='ee-k'>1:</span><span class='ee-v'>6.032365580068635</span></li></ul></li><li><label class='ee-shut'>43: [-3.65883952603473, 6.032548390094799]<input type='checkbox' class='ee-toggle'></label><ul><li><span class='ee-k'>0:</span><span class='ee-v'>-3.65883952603473</span></li><li><span class='ee-k'>1:</span><span class='ee-v'>6.032548390094799</span></li></ul></li><li><label class='ee-shut'>44: [-3.6591071034485654, 6.032548375084796]<input type='checkbox' class='ee-toggle'></label><ul><li><span class='ee-k'>0:</span><span class='ee-v'>-3.6591071034485654</span></li><li><span class='ee-k'>1:</span><span class='ee-v'>6.032548375084796</span></li></ul></li><li><label class='ee-shut'>45: [-3.6591071034485654, 6.03263752335986]<input type='checkbox' class='ee-toggle'></label><ul><li><span class='ee-k'>0:</span><span class='ee-v'>-3.6591071034485654</span></li><li><span class='ee-k'>1:</span><span class='ee-v'>6.03263752335986</span></li></ul></li><li><label class='ee-shut'>46: [-3.659196296235243, 6.032637572053547]<input type='checkbox' class='ee-toggle'></label><ul><li><span class='ee-k'>0:</span><span class='ee-v'>-3.659196296235243</span></li><li><span class='ee-k'>1:</span><span class='ee-v'>6.032637572053547</span></li></ul></li><li><label class='ee-shut'>47: [-3.659196296235243, 6.032726720451547]<input type='checkbox' class='ee-toggle'></label><ul><li><span class='ee-k'>0:</span><span class='ee-v'>-3.659196296235243</span></li><li><span class='ee-k'>1:</span><span class='ee-v'>6.032726720451547</span></li></ul></li><li><label class='ee-shut'>48: [-3.659285489179627, 6.032726769121816]<input type='checkbox' class='ee-toggle'></label><ul><li><span class='ee-k'>0:</span><span class='ee-v'>-3.659285489179627</span></li><li><span class='ee-k'>1:</span><span class='ee-v'>6.032726769121816</span></li></ul></li><li><label class='ee-shut'>49: [-3.659285489179627, 6.032815917642751]<input type='checkbox' class='ee-toggle'></label><ul><li><span class='ee-k'>0:</span><span class='ee-v'>-3.659285489179627</span></li><li><span class='ee-k'>1:</span><span class='ee-v'>6.032815917642751</span></li></ul></li><li><label class='ee-shut'>50: [-3.659557478351436, 6.03281595345644]<input type='checkbox' class='ee-toggle'></label><ul><li><span class='ee-k'>0:</span><span class='ee-v'>-3.659557478351436</span></li><li><span class='ee-k'>1:</span><span class='ee-v'>6.03281595345644</span></li></ul></li><li><label class='ee-shut'>51: [-3.659557478351436, 6.032637575988491]<input type='checkbox' class='ee-toggle'></label><ul><li><span class='ee-k'>0:</span><span class='ee-v'>-3.659557478351436</span></li><li><span class='ee-k'>1:</span><span class='ee-v'>6.032637575988491</span></li></ul></li><li><label class='ee-shut'>52: [-3.6598250595734516, 6.032637560576479]<input type='checkbox' class='ee-toggle'></label><ul><li><span class='ee-k'>0:</span><span class='ee-v'>-3.6598250595734516</span></li><li><span class='ee-k'>1:</span><span class='ee-v'>6.032637560576479</span></li></ul></li><li><label class='ee-shut'>53: [-3.6598250595734516, 6.032548331760082]<input type='checkbox' class='ee-toggle'></label><ul><li><span class='ee-k'>0:</span><span class='ee-v'>-3.6598250595734516</span></li><li><span class='ee-k'>1:</span><span class='ee-v'>6.032548331760082</span></li></ul></li><li><label class='ee-shut'>54: [-3.659557478351436, 6.032548347148631]<input type='checkbox' class='ee-toggle'></label><ul><li><span class='ee-k'>0:</span><span class='ee-v'>-3.659557478351436</span></li><li><span class='ee-k'>1:</span><span class='ee-v'>6.032548347148631</span></li></ul></li><li><label class='ee-shut'>55: [-3.659557478351436, 6.032365537251432]<input type='checkbox' class='ee-toggle'></label><ul><li><span class='ee-k'>0:</span><span class='ee-v'>-3.659557478351436</span></li><li><span class='ee-k'>1:</span><span class='ee-v'>6.032365537251432</span></li></ul></li><li><label class='ee-shut'>56: [-3.659646671934409, 6.032365585889537]<input type='checkbox' class='ee-toggle'></label><ul><li><span class='ee-k'>0:</span><span class='ee-v'>-3.659646671934409</span></li><li><span class='ee-k'>1:</span><span class='ee-v'>6.032365585889537</span></li></ul></li><li><label class='ee-shut'>57: [-3.659646671934409, 6.032187209758091]<input type='checkbox' class='ee-toggle'></label><ul><li><span class='ee-k'>0:</span><span class='ee-v'>-3.659646671934409</span></li><li><span class='ee-k'>1:</span><span class='ee-v'>6.032187209758091</span></li></ul></li><li><label class='ee-shut'>58: [-3.659735865675084, 6.0321871777923475]<input type='checkbox' class='ee-toggle'></label><ul><li><span class='ee-k'>0:</span><span class='ee-v'>-3.659735865675084</span></li><li><span class='ee-k'>1:</span><span class='ee-v'>6.0321871777923475</span></li></ul></li><li><label class='ee-shut'>59: [-3.659735865675084, 6.031919654901347]<input type='checkbox' class='ee-toggle'></label><ul><li><span class='ee-k'>0:</span><span class='ee-v'>-3.659735865675084</span></li><li><span class='ee-k'>1:</span><span class='ee-v'>6.031919654901347</span></li></ul></li><li><label class='ee-shut'>60: [-3.6598250595734516, 6.0319196229435015]<input type='checkbox' class='ee-toggle'></label><ul><li><span class='ee-k'>0:</span><span class='ee-v'>-3.6598250595734516</span></li><li><span class='ee-k'>1:</span><span class='ee-v'>6.0319196229435015</span></li></ul></li><li><label class='ee-shut'>61: [-3.6598250595734516, 6.031825962006814]<input type='checkbox' class='ee-toggle'></label><ul><li><span class='ee-k'>0:</span><span class='ee-v'>-3.6598250595734516</span></li><li><span class='ee-k'>1:</span><span class='ee-v'>6.031825962006814</span></li></ul></li><li><label class='ee-shut'>62: [-3.6599141762712057, 6.031826011161778]<input type='checkbox' class='ee-toggle'></label><ul><li><span class='ee-k'>0:</span><span class='ee-v'>-3.6599141762712057</span></li><li><span class='ee-k'>1:</span><span class='ee-v'>6.031826011161778</span></li></ul></li><li><label class='ee-shut'>63: [-3.6599141762712057, 6.031647636659761]<input type='checkbox' class='ee-toggle'></label><ul><li><span class='ee-k'>0:</span><span class='ee-v'>-3.6599141762712057</span></li><li><span class='ee-k'>1:</span><span class='ee-v'>6.031647636659761</span></li></ul></li><li><label class='ee-shut'>64: [-3.660007857275116, 6.031647655306781]<input type='checkbox' class='ee-toggle'></label><ul><li><span class='ee-k'>0:</span><span class='ee-v'>-3.660007857275116</span></li><li><span class='ee-k'>1:</span><span class='ee-v'>6.031647655306781</span></li></ul></li><li><label class='ee-shut'>65: [-3.660007857275116, 6.031469281344305]<input type='checkbox' class='ee-toggle'></label><ul><li><span class='ee-k'>0:</span><span class='ee-v'>-3.660007857275116</span></li><li><span class='ee-k'>1:</span><span class='ee-v'>6.031469281344305</span></li></ul></li><li><label class='ee-shut'>66: [-3.6599141762712057, 6.031469262680926]<input type='checkbox' class='ee-toggle'></label><ul><li><span class='ee-k'>0:</span><span class='ee-v'>-3.6599141762712057</span></li><li><span class='ee-k'>1:</span><span class='ee-v'>6.031469262680926</span></li></ul></li><li><label class='ee-shut'>67: [-3.6599141762712057, 6.031290889225289]<input type='checkbox' class='ee-toggle'></label><ul><li><span class='ee-k'>0:</span><span class='ee-v'>-3.6599141762712057</span></li><li><span class='ee-k'>1:</span><span class='ee-v'>6.031290889225289</span></li></ul></li><li><label class='ee-shut'>68: [-3.6601862461913224, 6.031290924591272]<input type='checkbox' class='ee-toggle'></label><ul><li><span class='ee-k'>0:</span><span class='ee-v'>-3.6601862461913224</span></li><li><span class='ee-k'>1:</span><span class='ee-v'>6.031290924591272</span></li></ul></li><li><label class='ee-shut'>69: [-3.6601862461913224, 6.030929746237968]<input type='checkbox' class='ee-toggle'></label><ul><li><span class='ee-k'>0:</span><span class='ee-v'>-3.6601862461913224</span></li><li><span class='ee-k'>1:</span><span class='ee-v'>6.030929746237968</span></li></ul></li><li><label class='ee-shut'>70: [-3.660275363527101, 6.030929714805263]<input type='checkbox' class='ee-toggle'></label><ul><li><span class='ee-k'>0:</span><span class='ee-v'>-3.660275363527101</span></li><li><span class='ee-k'>1:</span><span class='ee-v'>6.030929714805263</span></li></ul></li><li><label class='ee-shut'>71: [-3.660275363527101, 6.030840569135875]<input type='checkbox' class='ee-toggle'></label><ul><li><span class='ee-k'>0:</span><span class='ee-v'>-3.660275363527101</span></li><li><span class='ee-k'>1:</span><span class='ee-v'>6.030840569135875</span></li></ul></li><li><label class='ee-shut'>72: [-3.6604537533892008, 6.030840505205074]<input type='checkbox' class='ee-toggle'></label><ul><li><span class='ee-k'>0:</span><span class='ee-v'>-3.6604537533892008</span></li><li><span class='ee-k'>1:</span><span class='ee-v'>6.030840505205074</span></li></ul></li><li><label class='ee-shut'>73: [-3.6604537533892008, 6.0309297314606685]<input type='checkbox' class='ee-toggle'></label><ul><li><span class='ee-k'>0:</span><span class='ee-v'>-3.6604537533892008</span></li><li><span class='ee-k'>1:</span><span class='ee-v'>6.0309297314606685</span></li></ul></li><li><label class='ee-shut'>74: [-3.66063655336885, 6.030929718577802]<input type='checkbox' class='ee-toggle'></label><ul><li><span class='ee-k'>0:</span><span class='ee-v'>-3.66063655336885</span></li><li><span class='ee-k'>1:</span><span class='ee-v'>6.030929718577802</span></li></ul></li><li><label class='ee-shut'>75: [-3.66063655336885, 6.0307513468312655]<input type='checkbox' class='ee-toggle'></label><ul><li><span class='ee-k'>0:</span><span class='ee-v'>-3.66063655336885</span></li><li><span class='ee-k'>1:</span><span class='ee-v'>6.0307513468312655</span></li></ul></li><li><label class='ee-shut'>76: [-3.660725748859624, 6.030751314818106]<input type='checkbox' class='ee-toggle'></label><ul><li><span class='ee-k'>0:</span><span class='ee-v'>-3.660725748859624</span></li><li><span class='ee-k'>1:</span><span class='ee-v'>6.030751314818106</span></li></ul></li><li><label class='ee-shut'>77: [-3.660725748859624, 6.030662169449671]<input type='checkbox' class='ee-toggle'></label><ul><li><span class='ee-k'>0:</span><span class='ee-v'>-3.660725748859624</span></li><li><span class='ee-k'>1:</span><span class='ee-v'>6.030662169449671</span></li></ul></li><li><label class='ee-shut'>78: [-3.6609041403142384, 6.030662185993582]<input type='checkbox' class='ee-toggle'></label><ul><li><span class='ee-k'>0:</span><span class='ee-v'>-3.6609041403142384</span></li><li><span class='ee-k'>1:</span><span class='ee-v'>6.030662185993582</span></li></ul></li><li><label class='ee-shut'>79: [-3.6609041403142384, 6.030568527092769]<input type='checkbox' class='ee-toggle'></label><ul><li><span class='ee-k'>0:</span><span class='ee-v'>-3.6609041403142384</span></li><li><span class='ee-k'>1:</span><span class='ee-v'>6.030568527092769</span></li></ul></li><li><label class='ee-shut'>80: [-3.66099333627808, 6.030568495048704]<input type='checkbox' class='ee-toggle'></label><ul><li><span class='ee-k'>0:</span><span class='ee-v'>-3.66099333627808</span></li><li><span class='ee-k'>1:</span><span class='ee-v'>6.030568495048704</span></li></ul></li><li><label class='ee-shut'>81: [-3.66099333627808, 6.03047934997171]<input type='checkbox' class='ee-toggle'></label><ul><li><span class='ee-k'>0:</span><span class='ee-v'>-3.66099333627808</span></li><li><span class='ee-k'>1:</span><span class='ee-v'>6.03047934997171</span></li></ul></li><li><label class='ee-shut'>82: [-3.661265334657482, 6.030479385492748]<input type='checkbox' class='ee-toggle'></label><ul><li><span class='ee-k'>0:</span><span class='ee-v'>-3.661265334657482</span></li><li><span class='ee-k'>1:</span><span class='ee-v'>6.030479385492748</span></li></ul></li><li><label class='ee-shut'>83: [-3.661265334657482, 6.030211789915363]<input type='checkbox' class='ee-toggle'></label><ul><li><span class='ee-k'>0:</span><span class='ee-v'>-3.661265334657482</span></li><li><span class='ee-k'>1:</span><span class='ee-v'>6.030211789915363</span></li></ul></li><li><label class='ee-shut'>84: [-3.661171651318597, 6.03021177136879]<input type='checkbox' class='ee-toggle'></label><ul><li><span class='ee-k'>0:</span><span class='ee-v'>-3.661171651318597</span></li><li><span class='ee-k'>1:</span><span class='ee-v'>6.03021177136879</span></li></ul></li><li><label class='ee-shut'>85: [-3.661171651318597, 6.030122626830364]<input type='checkbox' class='ee-toggle'></label><ul><li><span class='ee-k'>0:</span><span class='ee-v'>-3.661171651318597</span></li><li><span class='ee-k'>1:</span><span class='ee-v'>6.030122626830364</span></li></ul></li><li><label class='ee-shut'>86: [-3.660725748859624, 6.030122625135454]<input type='checkbox' class='ee-toggle'></label><ul><li><span class='ee-k'>0:</span><span class='ee-v'>-3.660725748859624</span></li><li><span class='ee-k'>1:</span><span class='ee-v'>6.030122625135454</span></li></ul></li><li><label class='ee-shut'>87: [-3.660725748859624, 6.030028967049282]<input type='checkbox' class='ee-toggle'></label><ul><li><span class='ee-k'>0:</span><span class='ee-v'>-3.660725748859624</span></li><li><span class='ee-k'>1:</span><span class='ee-v'>6.030028967049282</span></li></ul></li><li><label class='ee-shut'>88: [-3.6608149445080835, 6.0300290156848035]<input type='checkbox' class='ee-toggle'></label><ul><li><span class='ee-k'>0:</span><span class='ee-v'>-3.6608149445080835</span></li><li><span class='ee-k'>1:</span><span class='ee-v'>6.0300290156848035</span></li></ul></li><li><label class='ee-shut'>89: [-3.6608149445080835, 6.029850646611573]<input type='checkbox' class='ee-toggle'></label><ul><li><span class='ee-k'>0:</span><span class='ee-v'>-3.6608149445080835</span></li><li><span class='ee-k'>1:</span><span class='ee-v'>6.029850646611573</span></li></ul></li><li><label class='ee-shut'>90: [-3.660725748859624, 6.029850597960569]<input type='checkbox' class='ee-toggle'></label><ul><li><span class='ee-k'>0:</span><span class='ee-v'>-3.660725748859624</span></li><li><span class='ee-k'>1:</span><span class='ee-v'>6.029850597960569</span></li></ul></li><li><label class='ee-shut'>91: [-3.660725748859624, 6.029761453912597]<input type='checkbox' class='ee-toggle'></label><ul><li><span class='ee-k'>0:</span><span class='ee-v'>-3.660725748859624</span></li><li><span class='ee-k'>1:</span><span class='ee-v'>6.029761453912597</span></li></ul></li><li><label class='ee-shut'>92: [-3.66063655336885, 6.029761405238179]<input type='checkbox' class='ee-toggle'></label><ul><li><span class='ee-k'>0:</span><span class='ee-v'>-3.66063655336885</span></li><li><span class='ee-k'>1:</span><span class='ee-v'>6.029761405238179</span></li></ul></li><li><label class='ee-shut'>93: [-3.66063655336885, 6.0295830369187176]<input type='checkbox' class='ee-toggle'></label><ul><li><span class='ee-k'>0:</span><span class='ee-v'>-3.66063655336885</span></li><li><span class='ee-k'>1:</span><span class='ee-v'>6.0295830369187176</span></li></ul></li><li><label class='ee-shut'>94: [-3.6603645583793014, 6.029583081421988]<input type='checkbox' class='ee-toggle'></label><ul><li><span class='ee-k'>0:</span><span class='ee-v'>-3.6603645583793014</span></li><li><span class='ee-k'>1:</span><span class='ee-v'>6.029583081421988</span></li></ul></li><li><label class='ee-shut'>95: [-3.6603645583793023, 6.029672225240078]<input type='checkbox' class='ee-toggle'></label><ul><li><span class='ee-k'>0:</span><span class='ee-v'>-3.6603645583793023</span></li><li><span class='ee-k'>1:</span><span class='ee-v'>6.029672225240078</span></li></ul></li><li><label class='ee-shut'>96: [-3.660275363527101, 6.0296722570947]<input type='checkbox' class='ee-toggle'></label><ul><li><span class='ee-k'>0:</span><span class='ee-v'>-3.660275363527101</span></li><li><span class='ee-k'>1:</span><span class='ee-v'>6.0296722570947</span></li></ul></li><li><label class='ee-shut'>97: [-3.660275363527101, 6.029583032668616]<input type='checkbox' class='ee-toggle'></label><ul><li><span class='ee-k'>0:</span><span class='ee-v'>-3.660275363527101</span></li><li><span class='ee-k'>1:</span><span class='ee-v'>6.029583032668616</span></li></ul></li><li><label class='ee-shut'>98: [-3.660097051654369, 6.029583095798231]<input type='checkbox' class='ee-toggle'></label><ul><li><span class='ee-k'>0:</span><span class='ee-v'>-3.660097051654369</span></li><li><span class='ee-k'>1:</span><span class='ee-v'>6.029583095798231</span></li></ul></li><li><label class='ee-shut'>99: [-3.660097051654369, 6.029493871487363]<input type='checkbox' class='ee-toggle'></label><ul><li><span class='ee-k'>0:</span><span class='ee-v'>-3.660097051654369</span></li><li><span class='ee-k'>1:</span><span class='ee-v'>6.029493871487363</span></li></ul></li><li><label class='ee-shut'>100: [-3.6594682849261573, 6.029493881360198]<input type='checkbox' class='ee-toggle'></label><ul><li><span class='ee-k'>0:</span><span class='ee-v'>-3.6594682849261573</span></li><li><span class='ee-k'>1:</span><span class='ee-v'>6.029493881360198</span></li></ul></li><li><label class='ee-shut'>101: [-3.6594682849261573, 6.0296722496227355]<input type='checkbox' class='ee-toggle'></label><ul><li><span class='ee-k'>0:</span><span class='ee-v'>-3.6594682849261573</span></li><li><span class='ee-k'>1:</span><span class='ee-v'>6.0296722496227355</span></li></ul></li><li><label class='ee-shut'>102: [-3.659379091658582, 6.029672281319931]<input type='checkbox' class='ee-toggle'></label><ul><li><span class='ee-k'>0:</span><span class='ee-v'>-3.659379091658582</span></li><li><span class='ee-k'>1:</span><span class='ee-v'>6.029672281319931</span></li></ul></li><li><label class='ee-shut'>103: [-3.659379091658582, 6.02976142535504]<input type='checkbox' class='ee-toggle'></label><ul><li><span class='ee-k'>0:</span><span class='ee-v'>-3.659379091658582</span></li><li><span class='ee-k'>1:</span><span class='ee-v'>6.02976142535504</span></li></ul></li><li><label class='ee-shut'>104: [-3.659557478351436, 6.029761442529719]<input type='checkbox' class='ee-toggle'></label><ul><li><span class='ee-k'>0:</span><span class='ee-v'>-3.659557478351436</span></li><li><span class='ee-k'>1:</span><span class='ee-v'>6.029761442529719</span></li></ul></li><li><label class='ee-shut'>105: [-3.659557478351436, 6.029850586679938]<input type='checkbox' class='ee-toggle'></label><ul><li><span class='ee-k'>0:</span><span class='ee-v'>-3.659557478351436</span></li><li><span class='ee-k'>1:</span><span class='ee-v'>6.029850586679938</span></li></ul></li><li><label class='ee-shut'>106: [-3.659646671934409, 6.02985063553625]<input type='checkbox' class='ee-toggle'></label><ul><li><span class='ee-k'>0:</span><span class='ee-v'>-3.659646671934409</span></li><li><span class='ee-k'>1:</span><span class='ee-v'>6.02985063553625</span></li></ul></li><li><label class='ee-shut'>107: [-3.659646671934409, 6.03012258239863]<input type='checkbox' class='ee-toggle'></label><ul><li><span class='ee-k'>0:</span><span class='ee-v'>-3.659646671934409</span></li><li><span class='ee-k'>1:</span><span class='ee-v'>6.03012258239863</span></li></ul></li><li><label class='ee-shut'>108: [-3.659735865675084, 6.0301226312156695]<input type='checkbox' class='ee-toggle'></label><ul><li><span class='ee-k'>0:</span><span class='ee-v'>-3.659735865675084</span></li><li><span class='ee-k'>1:</span><span class='ee-v'>6.0301226312156695</span></li></ul></li></ul></li></ul></li></ul></li><li><label class='ee-shut'>properties: Object (1 property)<input type='checkbox' class='ee-toggle'></label><ul><li><span class='ee-k'>Geo_id:</span><span class='ee-v'>146d51ab4e6a931f392efde0b270a3865e6d59a8eea559f51396001570ab7a6a</span></li></ul></li></ul></li><li><label class='ee-shut'>4: Feature (Polygon, 1 property)<input type='checkbox' class='ee-toggle'></label><ul><li><span class='ee-k'>type:</span><span class='ee-v'>Feature</span></li><li><span class='ee-k'>id:</span><span class='ee-v'>00000000000000000835</span></li><li><label class='ee-shut'>geometry: Polygon (103 vertices)<input type='checkbox' class='ee-toggle'></label><ul><li><span class='ee-k'>type:</span><span class='ee-v'>Polygon</span></li><li><label class='ee-shut'>coordinates: List (1 element)<input type='checkbox' class='ee-toggle'></label><ul><li><label class='ee-shut'>0: List (103 elements)<input type='checkbox' class='ee-toggle'></label><ul><li><label class='ee-shut'>0: [-3.6987218023025363, 6.100549675280731]<input type='checkbox' class='ee-toggle'></label><ul><li><span class='ee-k'>0:</span><span class='ee-v'>-3.6987218023025363</span></li><li><span class='ee-k'>1:</span><span class='ee-v'>6.100549675280731</span></li></ul></li><li><label class='ee-shut'>1: [-3.6984542472518163, 6.100549647023252]<input type='checkbox' class='ee-toggle'></label><ul><li><span class='ee-k'>0:</span><span class='ee-v'>-3.6984542472518163</span></li><li><span class='ee-k'>1:</span><span class='ee-v'>6.100549647023252</span></li></ul></li><li><label class='ee-shut'>2: [-3.6984542472518163, 6.100728054994626]<input type='checkbox' class='ee-toggle'></label><ul><li><span class='ee-k'>0:</span><span class='ee-v'>-3.6984542472518163</span></li><li><span class='ee-k'>1:</span><span class='ee-v'>6.100728054994626</span></li></ul></li><li><label class='ee-shut'>3: [-3.698365062549296, 6.100728018662418]<input type='checkbox' class='ee-toggle'></label><ul><li><span class='ee-k'>0:</span><span class='ee-v'>-3.698365062549296</span></li><li><span class='ee-k'>1:</span><span class='ee-v'>6.100728018662418</span></li></ul></li><li><label class='ee-shut'>4: [-3.698365062549296, 6.100906427169895]<input type='checkbox' class='ee-toggle'></label><ul><li><span class='ee-k'>0:</span><span class='ee-v'>-3.698365062549296</span></li><li><span class='ee-k'>1:</span><span class='ee-v'>6.100906427169895</span></li></ul></li><li><label class='ee-shut'>5: [-3.698543432111531, 6.100906419095698]<input type='checkbox' class='ee-toggle'></label><ul><li><span class='ee-k'>0:</span><span class='ee-v'>-3.698543432111531</span></li><li><span class='ee-k'>1:</span><span class='ee-v'>6.100906419095698</span></li></ul></li><li><label class='ee-shut'>6: [-3.698543432111531, 6.101000021217944]<input type='checkbox' class='ee-toggle'></label><ul><li><span class='ee-k'>0:</span><span class='ee-v'>-3.698543432111531</span></li><li><span class='ee-k'>1:</span><span class='ee-v'>6.101000021217944</span></li></ul></li><li><label class='ee-shut'>7: [-3.698365062549296, 6.1010000293086994]<input type='checkbox' class='ee-toggle'></label><ul><li><span class='ee-k'>0:</span><span class='ee-v'>-3.698365062549296</span></li><li><span class='ee-k'>1:</span><span class='ee-v'>6.1010000293086994</span></li></ul></li><li><label class='ee-shut'>8: [-3.698365062549296, 6.101089193548285]<input type='checkbox' class='ee-toggle'></label><ul><li><span class='ee-k'>0:</span><span class='ee-v'>-3.698365062549296</span></li><li><span class='ee-k'>1:</span><span class='ee-v'>6.101089193548285</span></li></ul></li><li><label class='ee-shut'>9: [-3.698275878003969, 6.101089237923604]<input type='checkbox' class='ee-toggle'></label><ul><li><span class='ee-k'>0:</span><span class='ee-v'>-3.698275878003969</span></li><li><span class='ee-k'>1:</span><span class='ee-v'>6.101089237923604</span></li></ul></li><li><label class='ee-shut'>10: [-3.698275878003969, 6.100999992984504]<input type='checkbox' class='ee-toggle'></label><ul><li><span class='ee-k'>0:</span><span class='ee-v'>-3.698275878003969</span></li><li><span class='ee-k'>1:</span><span class='ee-v'>6.100999992984504</span></li></ul></li><li><label class='ee-shut'>11: [-3.6981822034337832, 6.101000068006756]<input type='checkbox' class='ee-toggle'></label><ul><li><span class='ee-k'>0:</span><span class='ee-v'>-3.6981822034337832</span></li><li><span class='ee-k'>1:</span><span class='ee-v'>6.101000068006756</span></li></ul></li><li><label class='ee-shut'>12: [-3.6981822034337832, 6.101178396648338]<input type='checkbox' class='ee-toggle'></label><ul><li><span class='ee-k'>0:</span><span class='ee-v'>-3.6981822034337832</span></li><li><span class='ee-k'>1:</span><span class='ee-v'>6.101178396648338</span></li></ul></li><li><label class='ee-shut'>13: [-3.698275878003969, 6.101178402301123]<input type='checkbox' class='ee-toggle'></label><ul><li><span class='ee-k'>0:</span><span class='ee-v'>-3.698275878003969</span></li><li><span class='ee-k'>1:</span><span class='ee-v'>6.101178402301123</span></li></ul></li><li><label class='ee-shut'>14: [-3.698275878003969, 6.101267566808632]<input type='checkbox' class='ee-toggle'></label><ul><li><span class='ee-k'>0:</span><span class='ee-v'>-3.698275878003969</span></li><li><span class='ee-k'>1:</span><span class='ee-v'>6.101267566808632</span></li></ul></li><li><label class='ee-shut'>15: [-3.6984542472518163, 6.101267558702267]<input type='checkbox' class='ee-toggle'></label><ul><li><span class='ee-k'>0:</span><span class='ee-v'>-3.6984542472518163</span></li><li><span class='ee-k'>1:</span><span class='ee-v'>6.101267558702267</span></li></ul></li><li><label class='ee-shut'>16: [-3.6984542472518163, 6.101445968767847]<input type='checkbox' class='ee-toggle'></label><ul><li><span class='ee-k'>0:</span><span class='ee-v'>-3.6984542472518163</span></li><li><span class='ee-k'>1:</span><span class='ee-v'>6.101445968767847</span></li></ul></li><li><label class='ee-shut'>17: [-3.698543432111531, 6.101445924329029]<input type='checkbox' class='ee-toggle'></label><ul><li><span class='ee-k'>0:</span><span class='ee-v'>-3.698543432111531</span></li><li><span class='ee-k'>1:</span><span class='ee-v'>6.101445924329029</span></li></ul></li><li><label class='ee-shut'>18: [-3.698543432111531, 6.101807103390496]<input type='checkbox' class='ee-toggle'></label><ul><li><span class='ee-k'>0:</span><span class='ee-v'>-3.698543432111531</span></li><li><span class='ee-k'>1:</span><span class='ee-v'>6.101807103390496</span></li></ul></li><li><label class='ee-shut'>19: [-3.6987218023025363, 6.101807095093528]<input type='checkbox' class='ee-toggle'></label><ul><li><span class='ee-k'>0:</span><span class='ee-v'>-3.6987218023025363</span></li><li><span class='ee-k'>1:</span><span class='ee-v'>6.101807095093528</span></li></ul></li><li><label class='ee-shut'>20: [-3.6987218023025363, 6.1018963411708675]<input type='checkbox' class='ee-toggle'></label><ul><li><span class='ee-k'>0:</span><span class='ee-v'>-3.6987218023025363</span></li><li><span class='ee-k'>1:</span><span class='ee-v'>6.1018963411708675</span></li></ul></li><li><label class='ee-shut'>21: [-3.698815400453777, 6.10189634718525]<input type='checkbox' class='ee-toggle'></label><ul><li><span class='ee-k'>0:</span><span class='ee-v'>-3.698815400453777</span></li><li><span class='ee-k'>1:</span><span class='ee-v'>6.10189634718525</span></li></ul></li><li><label class='ee-shut'>22: [-3.698815400453777, 6.102163844094605]<input type='checkbox' class='ee-toggle'></label><ul><li><span class='ee-k'>0:</span><span class='ee-v'>-3.698815400453777</span></li><li><span class='ee-k'>1:</span><span class='ee-v'>6.102163844094605</span></li></ul></li><li><label class='ee-shut'>23: [-3.698904585950036, 6.10216388022065]<input type='checkbox' class='ee-toggle'></label><ul><li><span class='ee-k'>0:</span><span class='ee-v'>-3.698904585950036</span></li><li><span class='ee-k'>1:</span><span class='ee-v'>6.10216388022065</span></li></ul></li><li><label class='ee-shut'>24: [-3.698904585950036, 6.102346650258827]<input type='checkbox' class='ee-toggle'></label><ul><li><span class='ee-k'>0:</span><span class='ee-v'>-3.698904585950036</span></li><li><span class='ee-k'>1:</span><span class='ee-v'>6.102346650258827</span></li></ul></li><li><label class='ee-shut'>25: [-3.6989937716034866, 6.102346686352955]<input type='checkbox' class='ee-toggle'></label><ul><li><span class='ee-k'>0:</span><span class='ee-v'>-3.6989937716034866</span></li><li><span class='ee-k'>1:</span><span class='ee-v'>6.102346686352955</span></li></ul></li><li><label class='ee-shut'>26: [-3.6989937716034866, 6.102257520335743]<input type='checkbox' class='ee-toggle'></label><ul><li><span class='ee-k'>0:</span><span class='ee-v'>-3.6989937716034866</span></li><li><span class='ee-k'>1:</span><span class='ee-v'>6.102257520335743</span></li></ul></li><li><label class='ee-shut'>27: [-3.699172143381955, 6.102257511798894]<input type='checkbox' class='ee-toggle'></label><ul><li><span class='ee-k'>0:</span><span class='ee-v'>-3.699172143381955</span></li><li><span class='ee-k'>1:</span><span class='ee-v'>6.102257511798894</span></li></ul></li><li><label class='ee-shut'>28: [-3.699172143381955, 6.1023466778003295]<input type='checkbox' class='ee-toggle'></label><ul><li><span class='ee-k'>0:</span><span class='ee-v'>-3.699172143381955</span></li><li><span class='ee-k'>1:</span><span class='ee-v'>6.1023466778003295</span></li></ul></li><li><label class='ee-shut'>29: [-3.699261329506974, 6.102346713846855]<input type='checkbox' class='ee-toggle'></label><ul><li><span class='ee-k'>0:</span><span class='ee-v'>-3.699261329506974</span></li><li><span class='ee-k'>1:</span><span class='ee-v'>6.102346713846855</span></li></ul></li><li><label class='ee-shut'>30: [-3.699261329506974, 6.102435879970442]<input type='checkbox' class='ee-toggle'></label><ul><li><span class='ee-k'>0:</span><span class='ee-v'>-3.699261329506974</span></li><li><span class='ee-k'>1:</span><span class='ee-v'>6.102435879970442</span></li></ul></li><li><label class='ee-shut'>31: [-3.6993505157891806, 6.1024358352998895]<input type='checkbox' class='ee-toggle'></label><ul><li><span class='ee-k'>0:</span><span class='ee-v'>-3.6993505157891806</span></li><li><span class='ee-k'>1:</span><span class='ee-v'>6.1024358352998895</span></li></ul></li><li><label class='ee-shut'>32: [-3.6993505157891806, 6.102614248614723]<input type='checkbox' class='ee-toggle'></label><ul><li><span class='ee-k'>0:</span><span class='ee-v'>-3.6993505157891806</span></li><li><span class='ee-k'>1:</span><span class='ee-v'>6.102614248614723</span></li></ul></li><li><label class='ee-shut'>33: [-3.6994441151033595, 6.102614254445206]<input type='checkbox' class='ee-toggle'></label><ul><li><span class='ee-k'>0:</span><span class='ee-v'>-3.6994441151033595</span></li><li><span class='ee-k'>1:</span><span class='ee-v'>6.102614254445206</span></li></ul></li><li><label class='ee-shut'>34: [-3.6994441151033595, 6.102703420942641]<input type='checkbox' class='ee-toggle'></label><ul><li><span class='ee-k'>0:</span><span class='ee-v'>-3.6994441151033595</span></li><li><span class='ee-k'>1:</span><span class='ee-v'>6.102703420942641</span></li></ul></li><li><label class='ee-shut'>35: [-3.6996224884692652, 6.102703412166685]<input type='checkbox' class='ee-toggle'></label><ul><li><span class='ee-k'>0:</span><span class='ee-v'>-3.6996224884692652</span></li><li><span class='ee-k'>1:</span><span class='ee-v'>6.102703412166685</span></li></ul></li><li><label class='ee-shut'>36: [-3.6996224884692652, 6.102257500365091]<input type='checkbox' class='ee-toggle'></label><ul><li><span class='ee-k'>0:</span><span class='ee-v'>-3.6996224884692652</span></li><li><span class='ee-k'>1:</span><span class='ee-v'>6.102257500365091</span></li></ul></li><li><label class='ee-shut'>37: [-3.6997116753879977, 6.1022575363393265]<input type='checkbox' class='ee-toggle'></label><ul><li><span class='ee-k'>0:</span><span class='ee-v'>-3.6997116753879977</span></li><li><span class='ee-k'>1:</span><span class='ee-v'>6.1022575363393265</span></li></ul></li><li><label class='ee-shut'>38: [-3.6997116753879977, 6.1021638517080055]<input type='checkbox' class='ee-toggle'></label><ul><li><span class='ee-k'>0:</span><span class='ee-v'>-3.6997116753879977</span></li><li><span class='ee-k'>1:</span><span class='ee-v'>6.1021638517080055</span></li></ul></li><li><label class='ee-shut'>39: [-3.6996224884692652, 6.102163815725541]<input type='checkbox' class='ee-toggle'></label><ul><li><span class='ee-k'>0:</span><span class='ee-v'>-3.6996224884692652</span></li><li><span class='ee-k'>1:</span><span class='ee-v'>6.102163815725541</span></li></ul></li><li><label class='ee-shut'>40: [-3.6996224884692652, 6.102074650030479]<input type='checkbox' class='ee-toggle'></label><ul><li><span class='ee-k'>0:</span><span class='ee-v'>-3.6996224884692652</span></li><li><span class='ee-k'>1:</span><span class='ee-v'>6.102074650030479</span></li></ul></li><li><label class='ee-shut'>41: [-3.6995333017077185, 6.102074694717195]<input type='checkbox' class='ee-toggle'></label><ul><li><span class='ee-k'>0:</span><span class='ee-v'>-3.6995333017077185</span></li><li><span class='ee-k'>1:</span><span class='ee-v'>6.102074694717195</span></li></ul></li><li><label class='ee-shut'>42: [-3.6995333017077185, 6.10216386042021]<input type='checkbox' class='ee-toggle'></label><ul><li><span class='ee-k'>0:</span><span class='ee-v'>-3.6995333017077185</span></li><li><span class='ee-k'>1:</span><span class='ee-v'>6.10216386042021</span></li></ul></li><li><label class='ee-shut'>43: [-3.6994441151033595, 6.102163824406015]<input type='checkbox' class='ee-toggle'></label><ul><li><span class='ee-k'>0:</span><span class='ee-v'>-3.6994441151033595</span></li><li><span class='ee-k'>1:</span><span class='ee-v'>6.102163824406015</span></li></ul></li><li><label class='ee-shut'>44: [-3.6994441151033595, 6.102257509062139]<input type='checkbox' class='ee-toggle'></label><ul><li><span class='ee-k'>0:</span><span class='ee-v'>-3.6994441151033595</span></li><li><span class='ee-k'>1:</span><span class='ee-v'>6.102257509062139</span></li></ul></li><li><label class='ee-shut'>45: [-3.6993505157891806, 6.102257503198595]<input type='checkbox' class='ee-toggle'></label><ul><li><span class='ee-k'>0:</span><span class='ee-v'>-3.6993505157891806</span></li><li><span class='ee-k'>1:</span><span class='ee-v'>6.102257503198595</span></li></ul></li><li><label class='ee-shut'>46: [-3.6993505157891806, 6.102074652814673]<input type='checkbox' class='ee-toggle'></label><ul><li><span class='ee-k'>0:</span><span class='ee-v'>-3.6993505157891806</span></li><li><span class='ee-k'>1:</span><span class='ee-v'>6.102074652814673</span></li></ul></li><li><label class='ee-shut'>47: [-3.6994441151033595, 6.1020746586951695]<input type='checkbox' class='ee-toggle'></label><ul><li><span class='ee-k'>0:</span><span class='ee-v'>-3.6994441151033595</span></li><li><span class='ee-k'>1:</span><span class='ee-v'>6.1020746586951695</span></li></ul></li><li><label class='ee-shut'>48: [-3.6994441151033595, 6.101717916459216]<input type='checkbox' class='ee-toggle'></label><ul><li><span class='ee-k'>0:</span><span class='ee-v'>-3.6994441151033595</span></li><li><span class='ee-k'>1:</span><span class='ee-v'>6.101717916459216</span></li></ul></li><li><label class='ee-shut'>49: [-3.699261329506974, 6.101717955152218]<input type='checkbox' class='ee-toggle'></label><ul><li><span class='ee-k'>0:</span><span class='ee-v'>-3.699261329506974</span></li><li><span class='ee-k'>1:</span><span class='ee-v'>6.101717955152218</span></li></ul></li><li><label class='ee-shut'>50: [-3.699261329506974, 6.101535106365091]<input type='checkbox' class='ee-toggle'></label><ul><li><span class='ee-k'>0:</span><span class='ee-v'>-3.699261329506974</span></li><li><span class='ee-k'>1:</span><span class='ee-v'>6.101535106365091</span></li></ul></li><li><label class='ee-shut'>51: [-3.6993505157891806, 6.1015351424670135]<input type='checkbox' class='ee-toggle'></label><ul><li><span class='ee-k'>0:</span><span class='ee-v'>-3.6993505157891806</span></li><li><span class='ee-k'>1:</span><span class='ee-v'>6.1015351424670135</span></li></ul></li><li><label class='ee-shut'>52: [-3.6993505157891806, 6.101445977664389]<input type='checkbox' class='ee-toggle'></label><ul><li><span class='ee-k'>0:</span><span class='ee-v'>-3.6993505157891806</span></li><li><span class='ee-k'>1:</span><span class='ee-v'>6.101445977664389</span></li></ul></li><li><label class='ee-shut'>53: [-3.6995333017077185, 6.101445938988333]<input type='checkbox' class='ee-toggle'></label><ul><li><span class='ee-k'>0:</span><span class='ee-v'>-3.6995333017077185</span></li><li><span class='ee-k'>1:</span><span class='ee-v'>6.101445938988333</span></li></ul></li><li><label class='ee-shut'>54: [-3.6995333017077185, 6.101535103774748]<input type='checkbox' class='ee-toggle'></label><ul><li><span class='ee-k'>0:</span><span class='ee-v'>-3.6995333017077185</span></li><li><span class='ee-k'>1:</span><span class='ee-v'>6.101535103774748</span></li></ul></li><li><label class='ee-shut'>55: [-3.6996224884692652, 6.10153513982829]<input type='checkbox' class='ee-toggle'></label><ul><li><span class='ee-k'>0:</span><span class='ee-v'>-3.6996224884692652</span></li><li><span class='ee-k'>1:</span><span class='ee-v'>6.10153513982829</span></li></ul></li><li><label class='ee-shut'>56: [-3.6996224884692652, 6.101356729709185]<input type='checkbox' class='ee-toggle'></label><ul><li><span class='ee-k'>0:</span><span class='ee-v'>-3.6996224884692652</span></li><li><span class='ee-k'>1:</span><span class='ee-v'>6.101356729709185</span></li></ul></li><li><label class='ee-shut'>57: [-3.6997116753879977, 6.101356765762526]<input type='checkbox' class='ee-toggle'></label><ul><li><span class='ee-k'>0:</span><span class='ee-v'>-3.6997116753879977</span></li><li><span class='ee-k'>1:</span><span class='ee-v'>6.101356765762526</span></li></ul></li><li><label class='ee-shut'>58: [-3.6997116753879977, 6.101535095173807]<input type='checkbox' class='ee-toggle'></label><ul><li><span class='ee-k'>0:</span><span class='ee-v'>-3.6997116753879977</span></li><li><span class='ee-k'>1:</span><span class='ee-v'>6.101535095173807</span></li></ul></li><li><label class='ee-shut'>59: [-3.6998008624639156, 6.101535131195622]<input type='checkbox' class='ee-toggle'></label><ul><li><span class='ee-k'>0:</span><span class='ee-v'>-3.6998008624639156</span></li><li><span class='ee-k'>1:</span><span class='ee-v'>6.101535131195622</span></li></ul></li><li><label class='ee-shut'>60: [-3.6998008624639156, 6.1017179798850325]<input type='checkbox' class='ee-toggle'></label><ul><li><span class='ee-k'>0:</span><span class='ee-v'>-3.6998008624639156</span></li><li><span class='ee-k'>1:</span><span class='ee-v'>6.1017179798850325</span></li></ul></li><li><label class='ee-shut'>61: [-3.7002512131464327, 6.101717968127537]<input type='checkbox' class='ee-toggle'></label><ul><li><span class='ee-k'>0:</span><span class='ee-v'>-3.7002512131464327</span></li><li><span class='ee-k'>1:</span><span class='ee-v'>6.101717968127537</span></li></ul></li><li><label class='ee-shut'>62: [-3.7002512131464327, 6.101445954796826]<input type='checkbox' class='ee-toggle'></label><ul><li><span class='ee-k'>0:</span><span class='ee-v'>-3.7002512131464327</span></li><li><span class='ee-k'>1:</span><span class='ee-v'>6.101445954796826</span></li></ul></li><li><label class='ee-shut'>63: [-3.700162025276817, 6.101445918847292]<input type='checkbox' class='ee-toggle'></label><ul><li><span class='ee-k'>0:</span><span class='ee-v'>-3.700162025276817</span></li><li><span class='ee-k'>1:</span><span class='ee-v'>6.101445918847292</span></li></ul></li><li><label class='ee-shut'>64: [-3.700162025276817, 6.101356754246468]<input type='checkbox' class='ee-toggle'></label><ul><li><span class='ee-k'>0:</span><span class='ee-v'>-3.700162025276817</span></li><li><span class='ee-k'>1:</span><span class='ee-v'>6.101356754246468</span></li></ul></li><li><label class='ee-shut'>65: [-3.7002512131464327, 6.101356790203839]<input type='checkbox' class='ee-toggle'></label><ul><li><span class='ee-k'>0:</span><span class='ee-v'>-3.7002512131464327</span></li><li><span class='ee-k'>1:</span><span class='ee-v'>6.101356790203839</span></li></ul></li><li><label class='ee-shut'>66: [-3.7002512131464327, 6.101267545049074]<input type='checkbox' class='ee-toggle'></label><ul><li><span class='ee-k'>0:</span><span class='ee-v'>-3.7002512131464327</span></li><li><span class='ee-k'>1:</span><span class='ee-v'>6.101267545049074</span></li></ul></li><li><label class='ee-shut'>67: [-3.7003404011732313, 6.101267580998415]<input type='checkbox' class='ee-toggle'></label><ul><li><span class='ee-k'>0:</span><span class='ee-v'>-3.7003404011732313</span></li><li><span class='ee-k'>1:</span><span class='ee-v'>6.101267580998415</span></li></ul></li><li><label class='ee-shut'>68: [-3.7003404011732313, 6.101089171786756]<input type='checkbox' class='ee-toggle'></label><ul><li><span class='ee-k'>0:</span><span class='ee-v'>-3.7003404011732313</span></li><li><span class='ee-k'>1:</span><span class='ee-v'>6.101089171786756</span></li></ul></li><li><label class='ee-shut'>69: [-3.7002512131464327, 6.1010892165132775]<input type='checkbox' class='ee-toggle'></label><ul><li><span class='ee-k'>0:</span><span class='ee-v'>-3.7002512131464327</span></li><li><span class='ee-k'>1:</span><span class='ee-v'>6.1010892165132775</span></li></ul></li><li><label class='ee-shut'>70: [-3.7002512131464327, 6.1009063697852355]<input type='checkbox' class='ee-toggle'></label><ul><li><span class='ee-k'>0:</span><span class='ee-v'>-3.7002512131464327</span></li><li><span class='ee-k'>1:</span><span class='ee-v'>6.1009063697852355</span></li></ul></li><li><label class='ee-shut'>71: [-3.7003404011732313, 6.100906405766297]<input type='checkbox' class='ee-toggle'></label><ul><li><span class='ee-k'>0:</span><span class='ee-v'>-3.7003404011732313</span></li><li><span class='ee-k'>1:</span><span class='ee-v'>6.100906405766297</span></li></ul></li><li><label class='ee-shut'>72: [-3.7003404011732313, 6.1007279976082165]<input type='checkbox' class='ee-toggle'></label><ul><li><span class='ee-k'>0:</span><span class='ee-v'>-3.7003404011732313</span></li><li><span class='ee-k'>1:</span><span class='ee-v'>6.1007279976082165</span></li></ul></li><li><label class='ee-shut'>73: [-3.7002512131464327, 6.1007280423025305]<input type='checkbox' class='ee-toggle'></label><ul><li><span class='ee-k'>0:</span><span class='ee-v'>-3.7002512131464327</span></li><li><span class='ee-k'>1:</span><span class='ee-v'>6.1007280423025305</span></li></ul></li><li><label class='ee-shut'>74: [-3.7002512131464327, 6.100460471362717]<input type='checkbox' class='ee-toggle'></label><ul><li><span class='ee-k'>0:</span><span class='ee-v'>-3.7002512131464327</span></li><li><span class='ee-k'>1:</span><span class='ee-v'>6.100460471362717</span></li></ul></li><li><label class='ee-shut'>75: [-3.700162025276817, 6.100460516017321]<input type='checkbox' class='ee-toggle'></label><ul><li><span class='ee-k'>0:</span><span class='ee-v'>-3.700162025276817</span></li><li><span class='ee-k'>1:</span><span class='ee-v'>6.100460516017321</span></li></ul></li><li><label class='ee-shut'>76: [-3.700162025276817, 6.1003712721625165]<input type='checkbox' class='ee-toggle'></label><ul><li><span class='ee-k'>0:</span><span class='ee-v'>-3.700162025276817</span></li><li><span class='ee-k'>1:</span><span class='ee-v'>6.1003712721625165</span></li></ul></li><li><label class='ee-shut'>77: [-3.699979237087307, 6.100371310872281]<input type='checkbox' class='ee-toggle'></label><ul><li><span class='ee-k'>0:</span><span class='ee-v'>-3.699979237087307</span></li><li><span class='ee-k'>1:</span><span class='ee-v'>6.100371310872281</span></li></ul></li><li><label class='ee-shut'>78: [-3.699979237087307, 6.100099303457516]<input type='checkbox' class='ee-toggle'></label><ul><li><span class='ee-k'>0:</span><span class='ee-v'>-3.699979237087307</span></li><li><span class='ee-k'>1:</span><span class='ee-v'>6.100099303457516</span></li></ul></li><li><label class='ee-shut'>79: [-3.700072837564384, 6.100099309403761]<input type='checkbox' class='ee-toggle'></label><ul><li><span class='ee-k'>0:</span><span class='ee-v'>-3.700072837564384</span></li><li><span class='ee-k'>1:</span><span class='ee-v'>6.100099309403761</span></li></ul></li><li><label class='ee-shut'>80: [-3.700072837564384, 6.099920903552793]<input type='checkbox' class='ee-toggle'></label><ul><li><span class='ee-k'>0:</span><span class='ee-v'>-3.700072837564384</span></li><li><span class='ee-k'>1:</span><span class='ee-v'>6.099920903552793</span></li></ul></li><li><label class='ee-shut'>81: [-3.699890049697019, 6.099920942148157]<input type='checkbox' class='ee-toggle'></label><ul><li><span class='ee-k'>0:</span><span class='ee-v'>-3.699890049697019</span></li><li><span class='ee-k'>1:</span><span class='ee-v'>6.099920942148157</span></li></ul></li><li><label class='ee-shut'>82: [-3.699890049697019, 6.099831779746575]<input type='checkbox' class='ee-toggle'></label><ul><li><span class='ee-k'>0:</span><span class='ee-v'>-3.699890049697019</span></li><li><span class='ee-k'>1:</span><span class='ee-v'>6.099831779746575</span></li></ul></li><li><label class='ee-shut'>83: [-3.6995333017077185, 6.099831715719102]<input type='checkbox' class='ee-toggle'></label><ul><li><span class='ee-k'>0:</span><span class='ee-v'>-3.6995333017077185</span></li><li><span class='ee-k'>1:</span><span class='ee-v'>6.099831715719102</span></li></ul></li><li><label class='ee-shut'>84: [-3.6995333017077185, 6.099742553416076]<input type='checkbox' class='ee-toggle'></label><ul><li><span class='ee-k'>0:</span><span class='ee-v'>-3.6995333017077185</span></li><li><span class='ee-k'>1:</span><span class='ee-v'>6.099742553416076</span></li></ul></li><li><label class='ee-shut'>85: [-3.6994441151033595, 6.09974259787906]<input type='checkbox' class='ee-toggle'></label><ul><li><span class='ee-k'>0:</span><span class='ee-v'>-3.6994441151033595</span></li><li><span class='ee-k'>1:</span><span class='ee-v'>6.09974259787906</span></li></ul></li><li><label class='ee-shut'>86: [-3.6994441151033595, 6.099648917075178]<input type='checkbox' class='ee-toggle'></label><ul><li><span class='ee-k'>0:</span><span class='ee-v'>-3.6994441151033595</span></li><li><span class='ee-k'>1:</span><span class='ee-v'>6.099648917075178</span></li></ul></li><li><label class='ee-shut'>87: [-3.699172143381955, 6.099648919108584]<input type='checkbox' class='ee-toggle'></label><ul><li><span class='ee-k'>0:</span><span class='ee-v'>-3.699172143381955</span></li><li><span class='ee-k'>1:</span><span class='ee-v'>6.099648919108584</span></li></ul></li><li><label class='ee-shut'>88: [-3.699172143381955, 6.099831762272743]<input type='checkbox' class='ee-toggle'></label><ul><li><span class='ee-k'>0:</span><span class='ee-v'>-3.699172143381955</span></li><li><span class='ee-k'>1:</span><span class='ee-v'>6.099831762272743</span></li></ul></li><li><label class='ee-shut'>89: [-3.699082957414126, 6.099831725989519]<input type='checkbox' class='ee-toggle'></label><ul><li><span class='ee-k'>0:</span><span class='ee-v'>-3.699082957414126</span></li><li><span class='ee-k'>1:</span><span class='ee-v'>6.099831725989519</span></li></ul></li><li><label class='ee-shut'>90: [-3.699082957414126, 6.099920888462361]<input type='checkbox' class='ee-toggle'></label><ul><li><span class='ee-k'>0:</span><span class='ee-v'>-3.699082957414126</span></li><li><span class='ee-k'>1:</span><span class='ee-v'>6.099920888462361</span></li></ul></li><li><label class='ee-shut'>91: [-3.6989937716034866, 6.0999209328611865]<input type='checkbox' class='ee-toggle'></label><ul><li><span class='ee-k'>0:</span><span class='ee-v'>-3.6989937716034866</span></li><li><span class='ee-k'>1:</span><span class='ee-v'>6.0999209328611865</span></li></ul></li><li><label class='ee-shut'>92: [-3.6989937716034866, 6.100099258212755]<input type='checkbox' class='ee-toggle'></label><ul><li><span class='ee-k'>0:</span><span class='ee-v'>-3.6989937716034866</span></li><li><span class='ee-k'>1:</span><span class='ee-v'>6.100099258212755</span></li></ul></li><li><label class='ee-shut'>93: [-3.698904585950036, 6.100099302611627]<input type='checkbox' class='ee-toggle'></label><ul><li><span class='ee-k'>0:</span><span class='ee-v'>-3.698904585950036</span></li><li><span class='ee-k'>1:</span><span class='ee-v'>6.100099302611627</span></li></ul></li><li><label class='ee-shut'>94: [-3.698904585950036, 6.100277628499075]<input type='checkbox' class='ee-toggle'></label><ul><li><span class='ee-k'>0:</span><span class='ee-v'>-3.698904585950036</span></li><li><span class='ee-k'>1:</span><span class='ee-v'>6.100277628499075</span></li></ul></li><li><label class='ee-shut'>95: [-3.6989937716034866, 6.100277664774868]<input type='checkbox' class='ee-toggle'></label><ul><li><span class='ee-k'>0:</span><span class='ee-v'>-3.6989937716034866</span></li><li><span class='ee-k'>1:</span><span class='ee-v'>6.100277664774868</span></li></ul></li><li><label class='ee-shut'>96: [-3.6989937716034866, 6.100549673248657]<input type='checkbox' class='ee-toggle'></label><ul><li><span class='ee-k'>0:</span><span class='ee-v'>-3.6989937716034866</span></li><li><span class='ee-k'>1:</span><span class='ee-v'>6.100549673248657</span></li></ul></li><li><label class='ee-shut'>97: [-3.698815400453777, 6.100549681419898]<input type='checkbox' class='ee-toggle'></label><ul><li><span class='ee-k'>0:</span><span class='ee-v'>-3.698815400453777</span></li><li><span class='ee-k'>1:</span><span class='ee-v'>6.100549681419898</span></li></ul></li><li><label class='ee-shut'>98: [-3.698815400453777, 6.100728008636353]<input type='checkbox' class='ee-toggle'></label><ul><li><span class='ee-k'>0:</span><span class='ee-v'>-3.698815400453777</span></li><li><span class='ee-k'>1:</span><span class='ee-v'>6.100728008636353</span></li></ul></li><li><label class='ee-shut'>99: [-3.698632617128437, 6.100728046920266]<input type='checkbox' class='ee-toggle'></label><ul><li><span class='ee-k'>0:</span><span class='ee-v'>-3.698632617128437</span></li><li><span class='ee-k'>1:</span><span class='ee-v'>6.100728046920266</span></li></ul></li><li><label class='ee-shut'>100: [-3.698632617128437, 6.10063880253977]<input type='checkbox' class='ee-toggle'></label><ul><li><span class='ee-k'>0:</span><span class='ee-v'>-3.698632617128437</span></li><li><span class='ee-k'>1:</span><span class='ee-v'>6.10063880253977</span></li></ul></li><li><label class='ee-shut'>101: [-3.6987218023025363, 6.100638838832226]<input type='checkbox' class='ee-toggle'></label><ul><li><span class='ee-k'>0:</span><span class='ee-v'>-3.6987218023025363</span></li><li><span class='ee-k'>1:</span><span class='ee-v'>6.100638838832226</span></li></ul></li><li><label class='ee-shut'>102: [-3.6987218023025363, 6.100549675280731]<input type='checkbox' class='ee-toggle'></label><ul><li><span class='ee-k'>0:</span><span class='ee-v'>-3.6987218023025363</span></li><li><span class='ee-k'>1:</span><span class='ee-v'>6.100549675280731</span></li></ul></li></ul></li></ul></li></ul></li><li><label class='ee-shut'>properties: Object (1 property)<input type='checkbox' class='ee-toggle'></label><ul><li><span class='ee-k'>Geo_id:</span><span class='ee-v'>b98c8bc02d5057ad4f2a1ceea4fa235af0d1333703ffae68e29a7cf777502047</span></li></ul></li></ul></li><li><label class='ee-shut'>5: Feature (Polygon, 1 property)<input type='checkbox' class='ee-toggle'></label><ul><li><span class='ee-k'>type:</span><span class='ee-v'>Feature</span></li><li><span class='ee-k'>id:</span><span class='ee-v'>000000000000000009d2</span></li><li><label class='ee-shut'>geometry: Polygon (73 vertices)<input type='checkbox' class='ee-toggle'></label><ul><li><span class='ee-k'>type:</span><span class='ee-v'>Polygon</span></li><li><label class='ee-shut'>coordinates: List (1 element)<input type='checkbox' class='ee-toggle'></label><ul><li><label class='ee-shut'>0: List (73 elements)<input type='checkbox' class='ee-toggle'></label><ul><li><label class='ee-shut'>0: [-3.5610113608955087, 6.141243401758506]<input type='checkbox' class='ee-toggle'></label><ul><li><span class='ee-k'>0:</span><span class='ee-v'>-3.5610113608955087</span></li><li><span class='ee-k'>1:</span><span class='ee-v'>6.141243401758506</span></li></ul></li><li><label class='ee-shut'>1: [-3.5610113608955087, 6.141421790617167]<input type='checkbox' class='ee-toggle'></label><ul><li><span class='ee-k'>0:</span><span class='ee-v'>-3.5610113608955087</span></li><li><span class='ee-k'>1:</span><span class='ee-v'>6.141421790617167</span></li></ul></li><li><label class='ee-shut'>2: [-3.5609221877876536, 6.141421815601845]<input type='checkbox' class='ee-toggle'></label><ul><li><span class='ee-k'>0:</span><span class='ee-v'>-3.5609221877876536</span></li><li><span class='ee-k'>1:</span><span class='ee-v'>6.141421815601845</span></li></ul></li><li><label class='ee-shut'>3: [-3.5609221877876536, 6.1416938010847675]<input type='checkbox' class='ee-toggle'></label><ul><li><span class='ee-k'>0:</span><span class='ee-v'>-3.5609221877876536</span></li><li><span class='ee-k'>1:</span><span class='ee-v'>6.1416938010847675</span></li></ul></li><li><label class='ee-shut'>4: [-3.5604717695126427, 6.1416937945229275]<input type='checkbox' class='ee-toggle'></label><ul><li><span class='ee-k'>0:</span><span class='ee-v'>-3.5604717695126427</span></li><li><span class='ee-k'>1:</span><span class='ee-v'>6.1416937945229275</span></li></ul></li><li><label class='ee-shut'>5: [-3.5604717695126427, 6.141600117636363]<input type='checkbox' class='ee-toggle'></label><ul><li><span class='ee-k'>0:</span><span class='ee-v'>-3.5604717695126427</span></li><li><span class='ee-k'>1:</span><span class='ee-v'>6.141600117636363</span></li></ul></li><li><label class='ee-shut'>6: [-3.560382597365912, 6.141600142539947]<input type='checkbox' class='ee-toggle'></label><ul><li><span class='ee-k'>0:</span><span class='ee-v'>-3.560382597365912</span></li><li><span class='ee-k'>1:</span><span class='ee-v'>6.141600142539947</span></li></ul></li><li><label class='ee-shut'>7: [-3.560382597365912, 6.141421753055951]<input type='checkbox' class='ee-toggle'></label><ul><li><span class='ee-k'>0:</span><span class='ee-v'>-3.560382597365912</span></li><li><span class='ee-k'>1:</span><span class='ee-v'>6.141421753055951</span></li></ul></li><li><label class='ee-shut'>8: [-3.560115081878745, 6.141421746869829]<input type='checkbox' class='ee-toggle'></label><ul><li><span class='ee-k'>0:</span><span class='ee-v'>-3.560115081878745</span></li><li><span class='ee-k'>1:</span><span class='ee-v'>6.141421746869829</span></li></ul></li><li><label class='ee-shut'>9: [-3.560115081878745, 6.141600136399294]<input type='checkbox' class='ee-toggle'></label><ul><li><span class='ee-k'>0:</span><span class='ee-v'>-3.560115081878745</span></li><li><span class='ee-k'>1:</span><span class='ee-v'>6.141600136399294</span></li></ul></li><li><label class='ee-shut'>10: [-3.5599322611502293, 6.1416001349403615]<input type='checkbox' class='ee-toggle'></label><ul><li><span class='ee-k'>0:</span><span class='ee-v'>-3.5599322611502293</span></li><li><span class='ee-k'>1:</span><span class='ee-v'>6.1416001349403615</span></li></ul></li><li><label class='ee-shut'>11: [-3.5599322611502293, 6.141693811875124]<input type='checkbox' class='ee-toggle'></label><ul><li><span class='ee-k'>0:</span><span class='ee-v'>-3.5599322611502293</span></li><li><span class='ee-k'>1:</span><span class='ee-v'>6.141693811875124</span></li></ul></li><li><label class='ee-shut'>12: [-3.5597538417333405, 6.141693781244593]<input type='checkbox' class='ee-toggle'></label><ul><li><span class='ee-k'>0:</span><span class='ee-v'>-3.5597538417333405</span></li><li><span class='ee-k'>1:</span><span class='ee-v'>6.141693781244593</span></li></ul></li><li><label class='ee-shut'>13: [-3.5597538417333405, 6.1417829359924845]<input type='checkbox' class='ee-toggle'></label><ul><li><span class='ee-k'>0:</span><span class='ee-v'>-3.5597538417333405</span></li><li><span class='ee-k'>1:</span><span class='ee-v'>6.1417829359924845</span></li></ul></li><li><label class='ee-shut'>14: [-3.5596646708654363, 6.141782960783513]<input type='checkbox' class='ee-toggle'></label><ul><li><span class='ee-k'>0:</span><span class='ee-v'>-3.5596646708654363</span></li><li><span class='ee-k'>1:</span><span class='ee-v'>6.141782960783513</span></li></ul></li><li><label class='ee-shut'>15: [-3.5596646708654363, 6.141872115668529]<input type='checkbox' class='ee-toggle'></label><ul><li><span class='ee-k'>0:</span><span class='ee-v'>-3.5596646708654363</span></li><li><span class='ee-k'>1:</span><span class='ee-v'>6.141872115668529</span></li></ul></li><li><label class='ee-shut'>16: [-3.5594863296061487, 6.1418721652180635]<input type='checkbox' class='ee-toggle'></label><ul><li><span class='ee-k'>0:</span><span class='ee-v'>-3.5594863296061487</span></li><li><span class='ee-k'>1:</span><span class='ee-v'>6.1418721652180635</span></li></ul></li><li><label class='ee-shut'>17: [-3.5594863296061487, 6.141961320247811]<input type='checkbox' class='ee-toggle'></label><ul><li><span class='ee-k'>0:</span><span class='ee-v'>-3.5594863296061487</span></li><li><span class='ee-k'>1:</span><span class='ee-v'>6.141961320247811</span></li></ul></li><li><label class='ee-shut'>18: [-3.5592143411081643, 6.141961343347508]<input type='checkbox' class='ee-toggle'></label><ul><li><span class='ee-k'>0:</span><span class='ee-v'>-3.5592143411081643</span></li><li><span class='ee-k'>1:</span><span class='ee-v'>6.141961343347508</span></li></ul></li><li><label class='ee-shut'>19: [-3.5592143411081643, 6.141872188294622]<input type='checkbox' class='ee-toggle'></label><ul><li><span class='ee-k'>0:</span><span class='ee-v'>-3.5592143411081643</span></li><li><span class='ee-k'>1:</span><span class='ee-v'>6.141872188294622</span></li></ul></li><li><label class='ee-shut'>20: [-3.559303511173879, 6.141872163576365]<input type='checkbox' class='ee-toggle'></label><ul><li><span class='ee-k'>0:</span><span class='ee-v'>-3.559303511173879</span></li><li><span class='ee-k'>1:</span><span class='ee-v'>6.141872163576365</span></li></ul></li><li><label class='ee-shut'>21: [-3.559303511173879, 6.1417829279043925]<input type='checkbox' class='ee-toggle'></label><ul><li><span class='ee-k'>0:</span><span class='ee-v'>-3.559303511173879</span></li><li><span class='ee-k'>1:</span><span class='ee-v'>6.1417829279043925</span></li></ul></li><li><label class='ee-shut'>22: [-3.5592143411081643, 6.141782952615026]<input type='checkbox' class='ee-toggle'></label><ul><li><span class='ee-k'>0:</span><span class='ee-v'>-3.5592143411081643</span></li><li><span class='ee-k'>1:</span><span class='ee-v'>6.141782952615026</span></li></ul></li><li><label class='ee-shut'>23: [-3.5592143411081643, 6.141600120822439]<input type='checkbox' class='ee-toggle'></label><ul><li><span class='ee-k'>0:</span><span class='ee-v'>-3.5592143411081643</span></li><li><span class='ee-k'>1:</span><span class='ee-v'>6.141600120822439</span></li></ul></li><li><label class='ee-shut'>24: [-3.559125171201292, 6.141600145501551]<input type='checkbox' class='ee-toggle'></label><ul><li><span class='ee-k'>0:</span><span class='ee-v'>-3.559125171201292</span></li><li><span class='ee-k'>1:</span><span class='ee-v'>6.141600145501551</span></li></ul></li><li><label class='ee-shut'>25: [-3.559125171201292, 6.141421755803757]<input type='checkbox' class='ee-toggle'></label><ul><li><span class='ee-k'>0:</span><span class='ee-v'>-3.559125171201292</span></li><li><span class='ee-k'>1:</span><span class='ee-v'>6.141421755803757</span></li></ul></li><li><label class='ee-shut'>26: [-3.558674769094873, 6.141421747504583]<input type='checkbox' class='ee-toggle'></label><ul><li><span class='ee-k'>0:</span><span class='ee-v'>-3.558674769094873</span></li><li><span class='ee-k'>1:</span><span class='ee-v'>6.141421747504583</span></li></ul></li><li><label class='ee-shut'>27: [-3.558674769094873, 6.142322504069671]<input type='checkbox' class='ee-toggle'></label><ul><li><span class='ee-k'>0:</span><span class='ee-v'>-3.558674769094873</span></li><li><span class='ee-k'>1:</span><span class='ee-v'>6.142322504069671</span></li></ul></li><li><label class='ee-shut'>28: [-3.5587639381994025, 6.142322479409297]<input type='checkbox' class='ee-toggle'></label><ul><li><span class='ee-k'>0:</span><span class='ee-v'>-3.5587639381994025</span></li><li><span class='ee-k'>1:</span><span class='ee-v'>6.142322479409297</span></li></ul></li><li><label class='ee-shut'>29: [-3.5587639381994025, 6.142411715911609]<input type='checkbox' class='ee-toggle'></label><ul><li><span class='ee-k'>0:</span><span class='ee-v'>-3.5587639381994025</span></li><li><span class='ee-k'>1:</span><span class='ee-v'>6.142411715911609</span></li></ul></li><li><label class='ee-shut'>30: [-3.5588575852308426, 6.142411661600409]<input type='checkbox' class='ee-toggle'></label><ul><li><span class='ee-k'>0:</span><span class='ee-v'>-3.5588575852308426</span></li><li><span class='ee-k'>1:</span><span class='ee-v'>6.142411661600409</span></li></ul></li><li><label class='ee-shut'>31: [-3.5588575852308426, 6.1425008982244185]<input type='checkbox' class='ee-toggle'></label><ul><li><span class='ee-k'>0:</span><span class='ee-v'>-3.5588575852308426</span></li><li><span class='ee-k'>1:</span><span class='ee-v'>6.1425008982244185</span></li></ul></li><li><label class='ee-shut'>32: [-3.559303511173879, 6.142500854770305]<input type='checkbox' class='ee-toggle'></label><ul><li><span class='ee-k'>0:</span><span class='ee-v'>-3.559303511173879</span></li><li><span class='ee-k'>1:</span><span class='ee-v'>6.142500854770305</span></li></ul></li><li><label class='ee-shut'>33: [-3.559303511173879, 6.142411698941307]<input type='checkbox' class='ee-toggle'></label><ul><li><span class='ee-k'>0:</span><span class='ee-v'>-3.559303511173879</span></li><li><span class='ee-k'>1:</span><span class='ee-v'>6.142411698941307</span></li></ul></li><li><label class='ee-shut'>34: [-3.5593926813984407, 6.142411674161074]<input type='checkbox' class='ee-toggle'></label><ul><li><span class='ee-k'>0:</span><span class='ee-v'>-3.5593926813984407</span></li><li><span class='ee-k'>1:</span><span class='ee-v'>6.142411674161074</span></li></ul></li><li><label class='ee-shut'>35: [-3.5593926813984407, 6.142590066690599]<input type='checkbox' class='ee-toggle'></label><ul><li><span class='ee-k'>0:</span><span class='ee-v'>-3.5593926813984407</span></li><li><span class='ee-k'>1:</span><span class='ee-v'>6.142590066690599</span></li></ul></li><li><label class='ee-shut'>36: [-3.5594863296061487, 6.142590093002708]<input type='checkbox' class='ee-toggle'></label><ul><li><span class='ee-k'>0:</span><span class='ee-v'>-3.5594863296061487</span></li><li><span class='ee-k'>1:</span><span class='ee-v'>6.142590093002708</span></li></ul></li><li><label class='ee-shut'>37: [-3.5594863296061487, 6.142768405277386]<input type='checkbox' class='ee-toggle'></label><ul><li><span class='ee-k'>0:</span><span class='ee-v'>-3.5594863296061487</span></li><li><span class='ee-k'>1:</span><span class='ee-v'>6.142768405277386</span></li></ul></li><li><label class='ee-shut'>38: [-3.559575500156372, 6.142768461191532]<input type='checkbox' class='ee-toggle'></label><ul><li><span class='ee-k'>0:</span><span class='ee-v'>-3.559575500156372</span></li><li><span class='ee-k'>1:</span><span class='ee-v'>6.142768461191532</span></li></ul></li><li><label class='ee-shut'>39: [-3.559575500156372, 6.142951215643759]<input type='checkbox' class='ee-toggle'></label><ul><li><span class='ee-k'>0:</span><span class='ee-v'>-3.559575500156372</span></li><li><span class='ee-k'>1:</span><span class='ee-v'>6.142951215643759</span></li></ul></li><li><label class='ee-shut'>40: [-3.5596646708654363, 6.142951271526608]<input type='checkbox' class='ee-toggle'></label><ul><li><span class='ee-k'>0:</span><span class='ee-v'>-3.5596646708654363</span></li><li><span class='ee-k'>1:</span><span class='ee-v'>6.142951271526608</span></li></ul></li><li><label class='ee-shut'>41: [-3.5596646708654363, 6.143307979390001]<input type='checkbox' class='ee-toggle'></label><ul><li><span class='ee-k'>0:</span><span class='ee-v'>-3.5596646708654363</span></li><li><span class='ee-k'>1:</span><span class='ee-v'>6.143307979390001</span></li></ul></li><li><label class='ee-shut'>42: [-3.5597538417333405, 6.143307954468751]<input type='checkbox' class='ee-toggle'></label><ul><li><span class='ee-k'>0:</span><span class='ee-v'>-3.5597538417333405</span></li><li><span class='ee-k'>1:</span><span class='ee-v'>6.143307954468751</span></li></ul></li><li><label class='ee-shut'>43: [-3.5597538417333405, 6.1433971923196005]<input type='checkbox' class='ee-toggle'></label><ul><li><span class='ee-k'>0:</span><span class='ee-v'>-3.5597538417333405</span></li><li><span class='ee-k'>1:</span><span class='ee-v'>6.1433971923196005</span></li></ul></li><li><label class='ee-shut'>44: [-3.562447185608481, 6.143397124440378]<input type='checkbox' class='ee-toggle'></label><ul><li><span class='ee-k'>0:</span><span class='ee-v'>-3.562447185608481</span></li><li><span class='ee-k'>1:</span><span class='ee-v'>6.143397124440378</span></li></ul></li><li><label class='ee-shut'>45: [-3.562447185608481, 6.143307967576751]<input type='checkbox' class='ee-toggle'></label><ul><li><span class='ee-k'>0:</span><span class='ee-v'>-3.562447185608481</span></li><li><span class='ee-k'>1:</span><span class='ee-v'>6.143307967576751</span></li></ul></li><li><label class='ee-shut'>46: [-3.562358009943269, 6.143307992978964]<input type='checkbox' class='ee-toggle'></label><ul><li><span class='ee-k'>0:</span><span class='ee-v'>-3.562358009943269</span></li><li><span class='ee-k'>1:</span><span class='ee-v'>6.143307992978964</span></li></ul></li><li><label class='ee-shut'>47: [-3.562358009943269, 6.143218836237217]<input type='checkbox' class='ee-toggle'></label><ul><li><span class='ee-k'>0:</span><span class='ee-v'>-3.562358009943269</span></li><li><span class='ee-k'>1:</span><span class='ee-v'>6.143218836237217</span></li></ul></li><li><label class='ee-shut'>48: [-3.5620904839005783, 6.143218831567579]<input type='checkbox' class='ee-toggle'></label><ul><li><span class='ee-k'>0:</span><span class='ee-v'>-3.5620904839005783</span></li><li><span class='ee-k'>1:</span><span class='ee-v'>6.143218831567579</span></li></ul></li><li><label class='ee-shut'>49: [-3.5620904839005783, 6.143129594174821]<input type='checkbox' class='ee-toggle'></label><ul><li><span class='ee-k'>0:</span><span class='ee-v'>-3.5620904839005783</span></li><li><span class='ee-k'>1:</span><span class='ee-v'>6.143129594174821</span></li></ul></li><li><label class='ee-shut'>50: [-3.5619120567919746, 6.143129645316788]<input type='checkbox' class='ee-toggle'></label><ul><li><span class='ee-k'>0:</span><span class='ee-v'>-3.5619120567919746</span></li><li><span class='ee-k'>1:</span><span class='ee-v'>6.143129645316788</span></li></ul></li><li><label class='ee-shut'>51: [-3.5619120567919746, 6.143307958746524]<input type='checkbox' class='ee-toggle'></label><ul><li><span class='ee-k'>0:</span><span class='ee-v'>-3.5619120567919746</span></li><li><span class='ee-k'>1:</span><span class='ee-v'>6.143307958746524</span></li></ul></li><li><label class='ee-shut'>52: [-3.5615508808871, 6.143308008775214]<input type='checkbox' class='ee-toggle'></label><ul><li><span class='ee-k'>0:</span><span class='ee-v'>-3.5615508808871</span></li><li><span class='ee-k'>1:</span><span class='ee-v'>6.143308008775214</span></li></ul></li><li><label class='ee-shut'>53: [-3.5615508808871, 6.14312961452611]<input type='checkbox' class='ee-toggle'></label><ul><li><span class='ee-k'>0:</span><span class='ee-v'>-3.5615508808871</span></li><li><span class='ee-k'>1:</span><span class='ee-v'>6.14312961452611</span></li></ul></li><li><label class='ee-shut'>54: [-3.5613725329082837, 6.143129584206194]<input type='checkbox' class='ee-toggle'></label><ul><li><span class='ee-k'>0:</span><span class='ee-v'>-3.5613725329082837</span></li><li><span class='ee-k'>1:</span><span class='ee-v'>6.143129584206194</span></li></ul></li><li><label class='ee-shut'>55: [-3.5613725329082837, 6.142857592477552]<input type='checkbox' class='ee-toggle'></label><ul><li><span class='ee-k'>0:</span><span class='ee-v'>-3.5613725329082837</span></li><li><span class='ee-k'>1:</span><span class='ee-v'>6.142857592477552</span></li></ul></li><li><label class='ee-shut'>56: [-3.561278881172074, 6.142857647300468]<input type='checkbox' class='ee-toggle'></label><ul><li><span class='ee-k'>0:</span><span class='ee-v'>-3.561278881172074</span></li><li><span class='ee-k'>1:</span><span class='ee-v'>6.142857647300468</span></li></ul></li><li><label class='ee-shut'>57: [-3.561278881172074, 6.142679254313995]<input type='checkbox' class='ee-toggle'></label><ul><li><span class='ee-k'>0:</span><span class='ee-v'>-3.561278881172074</span></li><li><span class='ee-k'>1:</span><span class='ee-v'>6.142679254313995</span></li></ul></li><li><label class='ee-shut'>58: [-3.5611897075877197, 6.142679279453859]<input type='checkbox' class='ee-toggle'></label><ul><li><span class='ee-k'>0:</span><span class='ee-v'>-3.5611897075877197</span></li><li><span class='ee-k'>1:</span><span class='ee-v'>6.142679279453859</span></li></ul></li><li><label class='ee-shut'>59: [-3.5611897075877197, 6.142411731301872]<input type='checkbox' class='ee-toggle'></label><ul><li><span class='ee-k'>0:</span><span class='ee-v'>-3.5611897075877197</span></li><li><span class='ee-k'>1:</span><span class='ee-v'>6.142411731301872</span></li></ul></li><li><label class='ee-shut'>60: [-3.561640055114756, 6.142411737419176]<input type='checkbox' class='ee-toggle'></label><ul><li><span class='ee-k'>0:</span><span class='ee-v'>-3.561640055114756</span></li><li><span class='ee-k'>1:</span><span class='ee-v'>6.142411737419176</span></li></ul></li><li><label class='ee-shut'>61: [-3.561640055114756, 6.142322501161477]<input type='checkbox' class='ee-toggle'></label><ul><li><span class='ee-k'>0:</span><span class='ee-v'>-3.561640055114756</span></li><li><span class='ee-k'>1:</span><span class='ee-v'>6.142322501161477</span></li></ul></li><li><label class='ee-shut'>62: [-3.561729229501241, 6.14232255672841]<input type='checkbox' class='ee-toggle'></label><ul><li><span class='ee-k'>0:</span><span class='ee-v'>-3.561729229501241</span></li><li><span class='ee-k'>1:</span><span class='ee-v'>6.14232255672841</span></li></ul></li><li><label class='ee-shut'>63: [-3.561729229501241, 6.141872178104309]<input type='checkbox' class='ee-toggle'></label><ul><li><span class='ee-k'>0:</span><span class='ee-v'>-3.561729229501241</span></li><li><span class='ee-k'>1:</span><span class='ee-v'>6.141872178104309</span></li></ul></li><li><label class='ee-shut'>64: [-3.5615508808871, 6.141872147634874]<input type='checkbox' class='ee-toggle'></label><ul><li><span class='ee-k'>0:</span><span class='ee-v'>-3.5615508808871</span></li><li><span class='ee-k'>1:</span><span class='ee-v'>6.141872147634874</span></li></ul></li><li><label class='ee-shut'>65: [-3.5615508808871, 6.141693757558976]<input type='checkbox' class='ee-toggle'></label><ul><li><span class='ee-k'>0:</span><span class='ee-v'>-3.5615508808871</span></li><li><span class='ee-k'>1:</span><span class='ee-v'>6.141693757558976</span></li></ul></li><li><label class='ee-shut'>66: [-3.561461706818277, 6.141693782663209]<input type='checkbox' class='ee-toggle'></label><ul><li><span class='ee-k'>0:</span><span class='ee-v'>-3.561461706818277</span></li><li><span class='ee-k'>1:</span><span class='ee-v'>6.141693782663209</span></li></ul></li><li><label class='ee-shut'>67: [-3.561461706818277, 6.141421797320281]<input type='checkbox' class='ee-toggle'></label><ul><li><span class='ee-k'>0:</span><span class='ee-v'>-3.561461706818277</span></li><li><span class='ee-k'>1:</span><span class='ee-v'>6.141421797320281</span></li></ul></li><li><label class='ee-shut'>68: [-3.5613725329082837, 6.141421741629789]<input type='checkbox' class='ee-toggle'></label><ul><li><span class='ee-k'>0:</span><span class='ee-v'>-3.5613725329082837</span></li><li><span class='ee-k'>1:</span><span class='ee-v'>6.141421741629789</span></li></ul></li><li><label class='ee-shut'>69: [-3.5613725329082837, 6.141332587544157]<input type='checkbox' class='ee-toggle'></label><ul><li><span class='ee-k'>0:</span><span class='ee-v'>-3.5613725329082837</span></li><li><span class='ee-k'>1:</span><span class='ee-v'>6.141332587544157</span></li></ul></li><li><label class='ee-shut'>70: [-3.561278881172074, 6.141332561474074]<input type='checkbox' class='ee-toggle'></label><ul><li><span class='ee-k'>0:</span><span class='ee-v'>-3.561278881172074</span></li><li><span class='ee-k'>1:</span><span class='ee-v'>6.141332561474074</span></li></ul></li><li><label class='ee-shut'>71: [-3.561278881172074, 6.141243407510029]<input type='checkbox' class='ee-toggle'></label><ul><li><span class='ee-k'>0:</span><span class='ee-v'>-3.561278881172074</span></li><li><span class='ee-k'>1:</span><span class='ee-v'>6.141243407510029</span></li></ul></li><li><label class='ee-shut'>72: [-3.5610113608955087, 6.141243401758506]<input type='checkbox' class='ee-toggle'></label><ul><li><span class='ee-k'>0:</span><span class='ee-v'>-3.5610113608955087</span></li><li><span class='ee-k'>1:</span><span class='ee-v'>6.141243401758506</span></li></ul></li></ul></li></ul></li></ul></li><li><label class='ee-shut'>properties: Object (1 property)<input type='checkbox' class='ee-toggle'></label><ul><li><span class='ee-k'>Geo_id:</span><span class='ee-v'>3f5d8a8b34a6e500008bc7d32783bd7bdaa673bd64349b76274a20575c9e1e97</span></li></ul></li></ul></li><li><label class='ee-shut'>6: Feature (Polygon, 1 property)<input type='checkbox' class='ee-toggle'></label><ul><li><span class='ee-k'>type:</span><span class='ee-v'>Feature</span></li><li><span class='ee-k'>id:</span><span class='ee-v'>000000000000000014d6</span></li><li><label class='ee-shut'>geometry: Polygon (127 vertices)<input type='checkbox' class='ee-toggle'></label><ul><li><span class='ee-k'>type:</span><span class='ee-v'>Polygon</span></li><li><label class='ee-shut'>coordinates: List (2 elements)<input type='checkbox' class='ee-toggle'></label><ul><li><label class='ee-shut'>0: List (127 elements)<input type='checkbox' class='ee-toggle'></label><ul><li><label class='ee-shut'>0: [-3.637279805791562, 6.041439809967803]<input type='checkbox' class='ee-toggle'></label><ul><li><span class='ee-k'>0:</span><span class='ee-v'>-3.637279805791562</span></li><li><span class='ee-k'>1:</span><span class='ee-v'>6.041439809967803</span></li></ul></li><li><label class='ee-shut'>1: [-3.6375473460982275, 6.04143980348563]<input type='checkbox' class='ee-toggle'></label><ul><li><span class='ee-k'>0:</span><span class='ee-v'>-3.6375473460982275</span></li><li><span class='ee-k'>1:</span><span class='ee-v'>6.04143980348563</span></li></ul></li><li><label class='ee-shut'>2: [-3.6375473460982275, 6.041618210604717]<input type='checkbox' class='ee-toggle'></label><ul><li><span class='ee-k'>0:</span><span class='ee-v'>-3.6375473460982275</span></li><li><span class='ee-k'>1:</span><span class='ee-v'>6.041618210604717</span></li></ul></li><li><label class='ee-shut'>3: [-3.637368959961289, 6.041618188271771]<input type='checkbox' class='ee-toggle'></label><ul><li><span class='ee-k'>0:</span><span class='ee-v'>-3.637368959961289</span></li><li><span class='ee-k'>1:</span><span class='ee-v'>6.041618188271771</span></li></ul></li><li><label class='ee-shut'>4: [-3.637368959961289, 6.041979357532975]<input type='checkbox' class='ee-toggle'></label><ul><li><span class='ee-k'>0:</span><span class='ee-v'>-3.637368959961289</span></li><li><span class='ee-k'>1:</span><span class='ee-v'>6.041979357532975</span></li></ul></li><li><label class='ee-shut'>5: [-3.637279805791562, 6.041979386426266]<input type='checkbox' class='ee-toggle'></label><ul><li><span class='ee-k'>0:</span><span class='ee-v'>-3.637279805791562</span></li><li><span class='ee-k'>1:</span><span class='ee-v'>6.041979386426266</span></li></ul></li><li><label class='ee-shut'>6: [-3.637279805791562, 6.042068550425262]<input type='checkbox' class='ee-toggle'></label><ul><li><span class='ee-k'>0:</span><span class='ee-v'>-3.637279805791562</span></li><li><span class='ee-k'>1:</span><span class='ee-v'>6.042068550425262</span></li></ul></li><li><label class='ee-shut'>7: [-3.637190651779666, 6.042068579310675]<input type='checkbox' class='ee-toggle'></label><ul><li><span class='ee-k'>0:</span><span class='ee-v'>-3.637190651779666</span></li><li><span class='ee-k'>1:</span><span class='ee-v'>6.042068579310675</span></li></ul></li><li><label class='ee-shut'>8: [-3.637190651779666, 6.042336072114755]<input type='checkbox' class='ee-toggle'></label><ul><li><span class='ee-k'>0:</span><span class='ee-v'>-3.637190651779666</span></li><li><span class='ee-k'>1:</span><span class='ee-v'>6.042336072114755</span></li></ul></li><li><label class='ee-shut'>9: [-3.637097013173883, 6.042336130848803]<input type='checkbox' class='ee-toggle'></label><ul><li><span class='ee-k'>0:</span><span class='ee-v'>-3.637097013173883</span></li><li><span class='ee-k'>1:</span><span class='ee-v'>6.042336130848803</span></li></ul></li><li><label class='ee-shut'>10: [-3.637097013173883, 6.0424297294308875]<input type='checkbox' class='ee-toggle'></label><ul><li><span class='ee-k'>0:</span><span class='ee-v'>-3.637097013173883</span></li><li><span class='ee-k'>1:</span><span class='ee-v'>6.0424297294308875</span></li></ul></li><li><label class='ee-shut'>11: [-3.6369186286321047, 6.04242970708037]<input type='checkbox' class='ee-toggle'></label><ul><li><span class='ee-k'>0:</span><span class='ee-v'>-3.6369186286321047</span></li><li><span class='ee-k'>1:</span><span class='ee-v'>6.04242970708037</span></li></ul></li><li><label class='ee-shut'>12: [-3.6369186286321047, 6.042518952389575]<input type='checkbox' class='ee-toggle'></label><ul><li><span class='ee-k'>0:</span><span class='ee-v'>-3.6369186286321047</span></li><li><span class='ee-k'>1:</span><span class='ee-v'>6.042518952389575</span></li></ul></li><li><label class='ee-shut'>13: [-3.6368294752596153, 6.04251890063171]<input type='checkbox' class='ee-toggle'></label><ul><li><span class='ee-k'>0:</span><span class='ee-v'>-3.6368294752596153</span></li><li><span class='ee-k'>1:</span><span class='ee-v'>6.04251890063171</span></li></ul></li><li><label class='ee-shut'>14: [-3.6368294752596153, 6.042608065460193]<input type='checkbox' class='ee-toggle'></label><ul><li><span class='ee-k'>0:</span><span class='ee-v'>-3.6368294752596153</span></li><li><span class='ee-k'>1:</span><span class='ee-v'>6.042608065460193</span></li></ul></li><li><label class='ee-shut'>15: [-3.6369186286321047, 6.042608117210377]<input type='checkbox' class='ee-toggle'></label><ul><li><span class='ee-k'>0:</span><span class='ee-v'>-3.6369186286321047</span></li><li><span class='ee-k'>1:</span><span class='ee-v'>6.042608117210377</span></li></ul></li><li><label class='ee-shut'>16: [-3.6369186286321047, 6.042697282161788]<input type='checkbox' class='ee-toggle'></label><ul><li><span class='ee-k'>0:</span><span class='ee-v'>-3.6369186286321047</span></li><li><span class='ee-k'>1:</span><span class='ee-v'>6.042697282161788</span></li></ul></li><li><label class='ee-shut'>17: [-3.637007782162427, 6.042697253269243]<input type='checkbox' class='ee-toggle'></label><ul><li><span class='ee-k'>0:</span><span class='ee-v'>-3.637007782162427</span></li><li><span class='ee-k'>1:</span><span class='ee-v'>6.042697253269243</span></li></ul></li><li><label class='ee-shut'>18: [-3.637007782162427, 6.042875664167899]<input type='checkbox' class='ee-toggle'></label><ul><li><span class='ee-k'>0:</span><span class='ee-v'>-3.637007782162427</span></li><li><span class='ee-k'>1:</span><span class='ee-v'>6.042875664167899</span></li></ul></li><li><label class='ee-shut'>19: [-3.637908527766745, 6.042875635456922]<input type='checkbox' class='ee-toggle'></label><ul><li><span class='ee-k'>0:</span><span class='ee-v'>-3.637908527766745</span></li><li><span class='ee-k'>1:</span><span class='ee-v'>6.042875635456922</span></li></ul></li><li><label class='ee-shut'>20: [-3.637908527766745, 6.043058480808512]<input type='checkbox' class='ee-toggle'></label><ul><li><span class='ee-k'>0:</span><span class='ee-v'>-3.637908527766745</span></li><li><span class='ee-k'>1:</span><span class='ee-v'>6.043058480808512</span></li></ul></li><li><label class='ee-shut'>21: [-3.6382653044948716, 6.0430584439117165]<input type='checkbox' class='ee-toggle'></label><ul><li><span class='ee-k'>0:</span><span class='ee-v'>-3.6382653044948716</span></li><li><span class='ee-k'>1:</span><span class='ee-v'>6.0430584439117165</span></li></ul></li><li><label class='ee-shut'>22: [-3.6382653044948716, 6.043147690025466]<input type='checkbox' class='ee-toggle'></label><ul><li><span class='ee-k'>0:</span><span class='ee-v'>-3.6382653044948716</span></li><li><span class='ee-k'>1:</span><span class='ee-v'>6.043147690025466</span></li></ul></li><li><label class='ee-shut'>23: [-3.638354460409196, 6.043147660856658]<input type='checkbox' class='ee-toggle'></label><ul><li><span class='ee-k'>0:</span><span class='ee-v'>-3.638354460409196</span></li><li><span class='ee-k'>1:</span><span class='ee-v'>6.043147660856658</span></li></ul></li><li><label class='ee-shut'>24: [-3.638354460409197, 6.043325992220914]<input type='checkbox' class='ee-toggle'></label><ul><li><span class='ee-k'>0:</span><span class='ee-v'>-3.638354460409197</span></li><li><span class='ee-k'>1:</span><span class='ee-v'>6.043325992220914</span></li></ul></li><li><label class='ee-shut'>25: [-3.6384481013529744, 6.043326013783283]<input type='checkbox' class='ee-toggle'></label><ul><li><span class='ee-k'>0:</span><span class='ee-v'>-3.6384481013529744</span></li><li><span class='ee-k'>1:</span><span class='ee-v'>6.043326013783283</span></li></ul></li><li><label class='ee-shut'>26: [-3.6384481013529744, 6.043776359196438]<input type='checkbox' class='ee-toggle'></label><ul><li><span class='ee-k'>0:</span><span class='ee-v'>-3.6384481013529744</span></li><li><span class='ee-k'>1:</span><span class='ee-v'>6.043776359196438</span></li></ul></li><li><label class='ee-shut'>27: [-3.6385372575908845, 6.043776410561144]<input type='checkbox' class='ee-toggle'></label><ul><li><span class='ee-k'>0:</span><span class='ee-v'>-3.6385372575908845</span></li><li><span class='ee-k'>1:</span><span class='ee-v'>6.043776410561144</span></li></ul></li><li><label class='ee-shut'>28: [-3.6385372575908845, 6.043865577083011]<input type='checkbox' class='ee-toggle'></label><ul><li><span class='ee-k'>0:</span><span class='ee-v'>-3.6385372575908845</span></li><li><span class='ee-k'>1:</span><span class='ee-v'>6.043865577083011</span></li></ul></li><li><label class='ee-shut'>29: [-3.6387156478659644, 6.043865598614329]<input type='checkbox' class='ee-toggle'></label><ul><li><span class='ee-k'>0:</span><span class='ee-v'>-3.6387156478659644</span></li><li><span class='ee-k'>1:</span><span class='ee-v'>6.043865598614329</span></li></ul></li><li><label class='ee-shut'>30: [-3.6387156478659644, 6.043954765251304]<input type='checkbox' class='ee-toggle'></label><ul><li><span class='ee-k'>0:</span><span class='ee-v'>-3.6387156478659644</span></li><li><span class='ee-k'>1:</span><span class='ee-v'>6.043954765251304</span></li></ul></li><li><label class='ee-shut'>31: [-3.6388048045774855, 6.043954735932668]<input type='checkbox' class='ee-toggle'></label><ul><li><span class='ee-k'>0:</span><span class='ee-v'>-3.6388048045774855</span></li><li><span class='ee-k'>1:</span><span class='ee-v'>6.043954735932668</span></li></ul></li><li><label class='ee-shut'>32: [-3.6388048045774855, 6.044133150203949]<input type='checkbox' class='ee-toggle'></label><ul><li><span class='ee-k'>0:</span><span class='ee-v'>-3.6388048045774855</span></li><li><span class='ee-k'>1:</span><span class='ee-v'>6.044133150203949</span></li></ul></li><li><label class='ee-shut'>33: [-3.6387156478659644, 6.044133098917071]<input type='checkbox' class='ee-toggle'></label><ul><li><span class='ee-k'>0:</span><span class='ee-v'>-3.6387156478659644</span></li><li><span class='ee-k'>1:</span><span class='ee-v'>6.044133098917071</span></li></ul></li><li><label class='ee-shut'>34: [-3.6387156478659644, 6.04440511519818]<input type='checkbox' class='ee-toggle'></label><ul><li><span class='ee-k'>0:</span><span class='ee-v'>-3.6387156478659644</span></li><li><span class='ee-k'>1:</span><span class='ee-v'>6.04440511519818</span></li></ul></li><li><label class='ee-shut'>35: [-3.6388940387728828, 6.044405136572949]<input type='checkbox' class='ee-toggle'></label><ul><li><span class='ee-k'>0:</span><span class='ee-v'>-3.6388940387728828</span></li><li><span class='ee-k'>1:</span><span class='ee-v'>6.044405136572949</span></li></ul></li><li><label class='ee-shut'>36: [-3.6388940387728828, 6.044672639199842]<input type='checkbox' class='ee-toggle'></label><ul><li><span class='ee-k'>0:</span><span class='ee-v'>-3.6388940387728828</span></li><li><span class='ee-k'>1:</span><span class='ee-v'>6.044672639199842</span></li></ul></li><li><label class='ee-shut'>37: [-3.6389831958001837, 6.044672690408826]<input type='checkbox' class='ee-toggle'></label><ul><li><span class='ee-k'>0:</span><span class='ee-v'>-3.6389831958001837</span></li><li><span class='ee-k'>1:</span><span class='ee-v'>6.044672690408826</span></li></ul></li><li><label class='ee-shut'>38: [-3.6389831958001837, 6.044761858204637]<input type='checkbox' class='ee-toggle'></label><ul><li><span class='ee-k'>0:</span><span class='ee-v'>-3.6389831958001837</span></li><li><span class='ee-k'>1:</span><span class='ee-v'>6.044761858204637</span></li></ul></li><li><label class='ee-shut'>39: [-3.639076837912921, 6.044761879520085]<input type='checkbox' class='ee-toggle'></label><ul><li><span class='ee-k'>0:</span><span class='ee-v'>-3.639076837912921</span></li><li><span class='ee-k'>1:</span><span class='ee-v'>6.044761879520085</span></li></ul></li><li><label class='ee-shut'>40: [-3.639076837912921, 6.044855481651099]<input type='checkbox' class='ee-toggle'></label><ul><li><span class='ee-k'>0:</span><span class='ee-v'>-3.639076837912921</span></li><li><span class='ee-k'>1:</span><span class='ee-v'>6.044855481651099</span></li></ul></li><li><label class='ee-shut'>41: [-3.6391659952637987, 6.044855452190102]<input type='checkbox' class='ee-toggle'></label><ul><li><span class='ee-k'>0:</span><span class='ee-v'>-3.6391659952637987</span></li><li><span class='ee-k'>1:</span><span class='ee-v'>6.044855452190102</span></li></ul></li><li><label class='ee-shut'>42: [-3.6391659952637987, 6.045033869038132]<input type='checkbox' class='ee-toggle'></label><ul><li><span class='ee-k'>0:</span><span class='ee-v'>-3.6391659952637987</span></li><li><span class='ee-k'>1:</span><span class='ee-v'>6.045033869038132</span></li></ul></li><li><label class='ee-shut'>43: [-3.6392552300991134, 6.045033839030786]<input type='checkbox' class='ee-toggle'></label><ul><li><span class='ee-k'>0:</span><span class='ee-v'>-3.6392552300991134</span></li><li><span class='ee-k'>1:</span><span class='ee-v'>6.045033839030786</span></li></ul></li><li><label class='ee-shut'>44: [-3.6392552300991134, 6.045123007331855]<input type='checkbox' class='ee-toggle'></label><ul><li><span class='ee-k'>0:</span><span class='ee-v'>-3.6392552300991134</span></li><li><span class='ee-k'>1:</span><span class='ee-v'>6.045123007331855</span></li></ul></li><li><label class='ee-shut'>45: [-3.639616346688303, 6.045123020542614]<input type='checkbox' class='ee-toggle'></label><ul><li><span class='ee-k'>0:</span><span class='ee-v'>-3.639616346688303</span></li><li><span class='ee-k'>1:</span><span class='ee-v'>6.045123020542614</span></li></ul></li><li><label class='ee-shut'>46: [-3.639616346688303, 6.0450338522729545]<input type='checkbox' class='ee-toggle'></label><ul><li><span class='ee-k'>0:</span><span class='ee-v'>-3.639616346688303</span></li><li><span class='ee-k'>1:</span><span class='ee-v'>6.0450338522729545</span></li></ul></li><li><label class='ee-shut'>47: [-3.6395227035725344, 6.045033831082003]<input type='checkbox' class='ee-toggle'></label><ul><li><span class='ee-k'>0:</span><span class='ee-v'>-3.6395227035725344</span></li><li><span class='ee-k'>1:</span><span class='ee-v'>6.045033831082003</span></li></ul></li><li><label class='ee-shut'>48: [-3.6395227035725344, 6.044855494918226]<input type='checkbox' class='ee-toggle'></label><ul><li><span class='ee-k'>0:</span><span class='ee-v'>-3.6395227035725344</span></li><li><span class='ee-k'>1:</span><span class='ee-v'>6.044855494918226</span></li></ul></li><li><label class='ee-shut'>49: [-3.6394335455902436, 6.0448555244419895]<input type='checkbox' class='ee-toggle'></label><ul><li><span class='ee-k'>0:</span><span class='ee-v'>-3.6394335455902436</span></li><li><span class='ee-k'>1:</span><span class='ee-v'>6.0448555244419895</span></li></ul></li><li><label class='ee-shut'>50: [-3.6394335455902436, 6.0445835063390145]<input type='checkbox' class='ee-toggle'></label><ul><li><span class='ee-k'>0:</span><span class='ee-v'>-3.6394335455902436</span></li><li><span class='ee-k'>1:</span><span class='ee-v'>6.0445835063390145</span></li></ul></li><li><label class='ee-shut'>51: [-3.6397055823214775, 6.044583468023807]<input type='checkbox' class='ee-toggle'></label><ul><li><span class='ee-k'>0:</span><span class='ee-v'>-3.6397055823214775</span></li><li><span class='ee-k'>1:</span><span class='ee-v'>6.044583468023807</span></li></ul></li><li><label class='ee-shut'>52: [-3.6397055823214775, 6.044043950380666]<input type='checkbox' class='ee-toggle'></label><ul><li><span class='ee-k'>0:</span><span class='ee-v'>-3.6397055823214775</span></li><li><span class='ee-k'>1:</span><span class='ee-v'>6.044043950380666</span></li></ul></li><li><label class='ee-shut'>53: [-3.639794740785295, 6.044043920880065]<input type='checkbox' class='ee-toggle'></label><ul><li><span class='ee-k'>0:</span><span class='ee-v'>-3.639794740785295</span></li><li><span class='ee-k'>1:</span><span class='ee-v'>6.044043920880065</span></li></ul></li><li><label class='ee-shut'>54: [-3.639794740785296, 6.043687174348631]<input type='checkbox' class='ee-toggle'></label><ul><li><span class='ee-k'>0:</span><span class='ee-v'>-3.639794740785296</span></li><li><span class='ee-k'>1:</span><span class='ee-v'>6.043687174348631</span></li></ul></li><li><label class='ee-shut'>55: [-3.6397055823214775, 6.043687203818011]<input type='checkbox' class='ee-toggle'></label><ul><li><span class='ee-k'>0:</span><span class='ee-v'>-3.6397055823214775</span></li><li><span class='ee-k'>1:</span><span class='ee-v'>6.043687203818011</span></li></ul></li><li><label class='ee-shut'>56: [-3.6397055823214775, 6.043593522920335]<input type='checkbox' class='ee-toggle'></label><ul><li><span class='ee-k'>0:</span><span class='ee-v'>-3.6397055823214775</span></li><li><span class='ee-k'>1:</span><span class='ee-v'>6.043593522920335</span></li></ul></li><li><label class='ee-shut'>57: [-3.639616346688303, 6.04359355288082]<input type='checkbox' class='ee-toggle'></label><ul><li><span class='ee-k'>0:</span><span class='ee-v'>-3.639616346688303</span></li><li><span class='ee-k'>1:</span><span class='ee-v'>6.04359355288082</span></li></ul></li><li><label class='ee-shut'>58: [-3.639616346688303, 6.043415220952387]<input type='checkbox' class='ee-toggle'></label><ul><li><span class='ee-k'>0:</span><span class='ee-v'>-3.639616346688303</span></li><li><span class='ee-k'>1:</span><span class='ee-v'>6.043415220952387</span></li></ul></li><li><label class='ee-shut'>59: [-3.6397055823214775, 6.0434151910075276]<input type='checkbox' class='ee-toggle'></label><ul><li><span class='ee-k'>0:</span><span class='ee-v'>-3.6397055823214775</span></li><li><span class='ee-k'>1:</span><span class='ee-v'>6.0434151910075276</span></li></ul></li><li><label class='ee-shut'>60: [-3.6397055823214775, 6.043236859617133]<input type='checkbox' class='ee-toggle'></label><ul><li><span class='ee-k'>0:</span><span class='ee-v'>-3.6397055823214775</span></li><li><span class='ee-k'>1:</span><span class='ee-v'>6.043236859617133</span></li></ul></li><li><label class='ee-shut'>61: [-3.640151453546728, 6.043236873035107]<input type='checkbox' class='ee-toggle'></label><ul><li><span class='ee-k'>0:</span><span class='ee-v'>-3.640151453546728</span></li><li><span class='ee-k'>1:</span><span class='ee-v'>6.043236873035107</span></li></ul></li><li><label class='ee-shut'>62: [-3.640151453546728, 6.043058461625135]<input type='checkbox' class='ee-toggle'></label><ul><li><span class='ee-k'>0:</span><span class='ee-v'>-3.640151453546728</span></li><li><span class='ee-k'>1:</span><span class='ee-v'>6.043058461625135</span></li></ul></li><li><label class='ee-shut'>63: [-3.6402450978314005, 6.043058482879763]<input type='checkbox' class='ee-toggle'></label><ul><li><span class='ee-k'>0:</span><span class='ee-v'>-3.6402450978314005</span></li><li><span class='ee-k'>1:</span><span class='ee-v'>6.043058482879763</span></li></ul></li><li><label class='ee-shut'>64: [-3.6402450978314005, 6.042786473021951]<input type='checkbox' class='ee-toggle'></label><ul><li><span class='ee-k'>0:</span><span class='ee-v'>-3.6402450978314005</span></li><li><span class='ee-k'>1:</span><span class='ee-v'>6.042786473021951</span></li></ul></li><li><label class='ee-shut'>65: [-3.6403342572501884, 6.042786443536505]<input type='checkbox' class='ee-toggle'></label><ul><li><span class='ee-k'>0:</span><span class='ee-v'>-3.6403342572501884</span></li><li><span class='ee-k'>1:</span><span class='ee-v'>6.042786443536505</span></li></ul></li><li><label class='ee-shut'>66: [-3.6403342572501884, 6.0426972787517075]<input type='checkbox' class='ee-toggle'></label><ul><li><span class='ee-k'>0:</span><span class='ee-v'>-3.6403342572501884</span></li><li><span class='ee-k'>1:</span><span class='ee-v'>6.0426972787517075</span></li></ul></li><li><label class='ee-shut'>67: [-3.6404234941551956, 6.042697248743346]<input type='checkbox' class='ee-toggle'></label><ul><li><span class='ee-k'>0:</span><span class='ee-v'>-3.6404234941551956</span></li><li><span class='ee-k'>1:</span><span class='ee-v'>6.042697248743346</span></li></ul></li><li><label class='ee-shut'>68: [-3.6404234941551956, 6.041979339995456]<input type='checkbox' class='ee-toggle'></label><ul><li><span class='ee-k'>0:</span><span class='ee-v'>-3.6404234941551956</span></li><li><span class='ee-k'>1:</span><span class='ee-v'>6.041979339995456</span></li></ul></li><li><label class='ee-shut'>69: [-3.6403342572501884, 6.0419793699409095]<input type='checkbox' class='ee-toggle'></label><ul><li><span class='ee-k'>0:</span><span class='ee-v'>-3.6403342572501884</span></li><li><span class='ee-k'>1:</span><span class='ee-v'>6.0419793699409095</span></li></ul></li><li><label class='ee-shut'>70: [-3.6403342572501884, 6.0416182017248925]<input type='checkbox' class='ee-toggle'></label><ul><li><span class='ee-k'>0:</span><span class='ee-v'>-3.6403342572501884</span></li><li><span class='ee-k'>1:</span><span class='ee-v'>6.0416182017248925</span></li></ul></li><li><label class='ee-shut'>71: [-3.6404234941551956, 6.041618171811087]<input type='checkbox' class='ee-toggle'></label><ul><li><span class='ee-k'>0:</span><span class='ee-v'>-3.6404234941551956</span></li><li><span class='ee-k'>1:</span><span class='ee-v'>6.041618171811087</span></li></ul></li><li><label class='ee-shut'>72: [-3.6404234941551956, 6.041439845810365]<input type='checkbox' class='ee-toggle'></label><ul><li><span class='ee-k'>0:</span><span class='ee-v'>-3.6404234941551956</span></li><li><span class='ee-k'>1:</span><span class='ee-v'>6.041439845810365</span></li></ul></li><li><label class='ee-shut'>73: [-3.6403342572501884, 6.041439795091117]<input type='checkbox' class='ee-toggle'></label><ul><li><span class='ee-k'>0:</span><span class='ee-v'>-3.6403342572501884</span></li><li><span class='ee-k'>1:</span><span class='ee-v'>6.041439795091117</span></li></ul></li><li><label class='ee-shut'>74: [-3.6403342572501884, 6.041172307046581]<input type='checkbox' class='ee-toggle'></label><ul><li><span class='ee-k'>0:</span><span class='ee-v'>-3.6403342572501884</span></li><li><span class='ee-k'>1:</span><span class='ee-v'>6.041172307046581</span></li></ul></li><li><label class='ee-shut'>75: [-3.6402450978314005, 6.041172255773653]<input type='checkbox' class='ee-toggle'></label><ul><li><span class='ee-k'>0:</span><span class='ee-v'>-3.6402450978314005</span></li><li><span class='ee-k'>1:</span><span class='ee-v'>6.041172255773653</span></li></ul></li><li><label class='ee-shut'>76: [-3.6402450978314005, 6.040989416505125]<input type='checkbox' class='ee-toggle'></label><ul><li><span class='ee-k'>0:</span><span class='ee-v'>-3.6402450978314005</span></li><li><span class='ee-k'>1:</span><span class='ee-v'>6.040989416505125</span></li></ul></li><li><label class='ee-shut'>77: [-3.640151453546728, 6.040989475678893]<input type='checkbox' class='ee-toggle'></label><ul><li><span class='ee-k'>0:</span><span class='ee-v'>-3.640151453546728</span></li><li><span class='ee-k'>1:</span><span class='ee-v'>6.040989475678893</span></li></ul></li><li><label class='ee-shut'>78: [-3.640151453546728, 6.040811070856217]<input type='checkbox' class='ee-toggle'></label><ul><li><span class='ee-k'>0:</span><span class='ee-v'>-3.640151453546728</span></li><li><span class='ee-k'>1:</span><span class='ee-v'>6.040811070856217</span></li></ul></li><li><label class='ee-shut'>79: [-3.6400622944515066, 6.040811100136599]<input type='checkbox' class='ee-toggle'></label><ul><li><span class='ee-k'>0:</span><span class='ee-v'>-3.6400622944515066</span></li><li><span class='ee-k'>1:</span><span class='ee-v'>6.040811100136599</span></li></ul></li><li><label class='ee-shut'>80: [-3.6400622944515066, 6.040721938221812]<input type='checkbox' class='ee-toggle'></label><ul><li><span class='ee-k'>0:</span><span class='ee-v'>-3.6400622944515066</span></li><li><span class='ee-k'>1:</span><span class='ee-v'>6.040721938221812</span></li></ul></li><li><label class='ee-shut'>81: [-3.6399731355141056, 6.04072188686221]<input type='checkbox' class='ee-toggle'></label><ul><li><span class='ee-k'>0:</span><span class='ee-v'>-3.6399731355141056</span></li><li><span class='ee-k'>1:</span><span class='ee-v'>6.04072188686221</span></li></ul></li><li><label class='ee-shut'>82: [-3.6399731355141047, 6.040543563409128]<input type='checkbox' class='ee-toggle'></label><ul><li><span class='ee-k'>0:</span><span class='ee-v'>-3.6399731355141047</span></li><li><span class='ee-k'>1:</span><span class='ee-v'>6.040543563409128</span></li></ul></li><li><label class='ee-shut'>83: [-3.639616346688303, 6.040543520014403]<input type='checkbox' class='ee-toggle'></label><ul><li><span class='ee-k'>0:</span><span class='ee-v'>-3.639616346688303</span></li><li><span class='ee-k'>1:</span><span class='ee-v'>6.040543520014403</span></li></ul></li><li><label class='ee-shut'>84: [-3.639616346688303, 6.0407219241460055]<input type='checkbox' class='ee-toggle'></label><ul><li><span class='ee-k'>0:</span><span class='ee-v'>-3.639616346688303</span></li><li><span class='ee-k'>1:</span><span class='ee-v'>6.0407219241460055</span></li></ul></li><li><label class='ee-shut'>85: [-3.6397055823214775, 6.040721894437087]<input type='checkbox' class='ee-toggle'></label><ul><li><span class='ee-k'>0:</span><span class='ee-v'>-3.6397055823214775</span></li><li><span class='ee-k'>1:</span><span class='ee-v'>6.040721894437087</span></li></ul></li><li><label class='ee-shut'>86: [-3.6397055823214775, 6.040900299076018]<input type='checkbox' class='ee-toggle'></label><ul><li><span class='ee-k'>0:</span><span class='ee-v'>-3.6397055823214775</span></li><li><span class='ee-k'>1:</span><span class='ee-v'>6.040900299076018</span></li></ul></li><li><label class='ee-shut'>87: [-3.639616346688303, 6.040900248183799]<input type='checkbox' class='ee-toggle'></label><ul><li><span class='ee-k'>0:</span><span class='ee-v'>-3.639616346688303</span></li><li><span class='ee-k'>1:</span><span class='ee-v'>6.040900248183799</span></li></ul></li><li><label class='ee-shut'>88: [-3.639616346688303, 6.04098941039863]<input type='checkbox' class='ee-toggle'></label><ul><li><span class='ee-k'>0:</span><span class='ee-v'>-3.639616346688303</span></li><li><span class='ee-k'>1:</span><span class='ee-v'>6.04098941039863</span></li></ul></li><li><label class='ee-shut'>89: [-3.6395227035725344, 6.040989469456287]<input type='checkbox' class='ee-toggle'></label><ul><li><span class='ee-k'>0:</span><span class='ee-v'>-3.6395227035725344</span></li><li><span class='ee-k'>1:</span><span class='ee-v'>6.040989469456287</span></li></ul></li><li><label class='ee-shut'>90: [-3.6395227035725344, 6.041078631809974]<input type='checkbox' class='ee-toggle'></label><ul><li><span class='ee-k'>0:</span><span class='ee-v'>-3.6395227035725344</span></li><li><span class='ee-k'>1:</span><span class='ee-v'>6.041078631809974</span></li></ul></li><li><label class='ee-shut'>91: [-3.6394335455902436, 6.041078661003211]<input type='checkbox' class='ee-toggle'></label><ul><li><span class='ee-k'>0:</span><span class='ee-v'>-3.6394335455902436</span></li><li><span class='ee-k'>1:</span><span class='ee-v'>6.041078661003211</span></li></ul></li><li><label class='ee-shut'>92: [-3.6394335455902436, 6.040900255794067]<input type='checkbox' class='ee-toggle'></label><ul><li><span class='ee-k'>0:</span><span class='ee-v'>-3.6394335455902436</span></li><li><span class='ee-k'>1:</span><span class='ee-v'>6.040900255794067</span></li></ul></li><li><label class='ee-shut'>93: [-3.6392552300991134, 6.040900233485494]<input type='checkbox' class='ee-toggle'></label><ul><li><span class='ee-k'>0:</span><span class='ee-v'>-3.6392552300991134</span></li><li><span class='ee-k'>1:</span><span class='ee-v'>6.040900233485494</span></li></ul></li><li><label class='ee-shut'>94: [-3.6392552300991134, 6.040632747530507]<input type='checkbox' class='ee-toggle'></label><ul><li><span class='ee-k'>0:</span><span class='ee-v'>-3.6392552300991134</span></li><li><span class='ee-k'>1:</span><span class='ee-v'>6.040632747530507</span></li></ul></li><li><label class='ee-shut'>95: [-3.6391659952637987, 6.040632696535913]<input type='checkbox' class='ee-toggle'></label><ul><li><span class='ee-k'>0:</span><span class='ee-v'>-3.6391659952637987</span></li><li><span class='ee-k'>1:</span><span class='ee-v'>6.040632696535913</span></li></ul></li><li><label class='ee-shut'>96: [-3.6391659952637987, 6.040543534804471]<input type='checkbox' class='ee-toggle'></label><ul><li><span class='ee-k'>0:</span><span class='ee-v'>-3.6391659952637987</span></li><li><span class='ee-k'>1:</span><span class='ee-v'>6.040543534804471</span></li></ul></li><li><label class='ee-shut'>97: [-3.639076837912921, 6.040543563888158]<input type='checkbox' class='ee-toggle'></label><ul><li><span class='ee-k'>0:</span><span class='ee-v'>-3.639076837912921</span></li><li><span class='ee-k'>1:</span><span class='ee-v'>6.040543563888158</span></li></ul></li><li><label class='ee-shut'>98: [-3.639076837912921, 6.040449887771185]<input type='checkbox' class='ee-toggle'></label><ul><li><span class='ee-k'>0:</span><span class='ee-v'>-3.639076837912921</span></li><li><span class='ee-k'>1:</span><span class='ee-v'>6.040449887771185</span></li></ul></li><li><label class='ee-shut'>99: [-3.6389831958001837, 6.040449866063154]<input type='checkbox' class='ee-toggle'></label><ul><li><span class='ee-k'>0:</span><span class='ee-v'>-3.6389831958001837</span></li><li><span class='ee-k'>1:</span><span class='ee-v'>6.040449866063154</span></li></ul></li><li><label class='ee-shut'>100: [-3.6389831958001837, 6.040360704583658]<input type='checkbox' class='ee-toggle'></label><ul><li><span class='ee-k'>0:</span><span class='ee-v'>-3.6389831958001837</span></li><li><span class='ee-k'>1:</span><span class='ee-v'>6.040360704583658</span></li></ul></li><li><label class='ee-shut'>101: [-3.6388048045774855, 6.040360682537554]<input type='checkbox' class='ee-toggle'></label><ul><li><span class='ee-k'>0:</span><span class='ee-v'>-3.6388048045774855</span></li><li><span class='ee-k'>1:</span><span class='ee-v'>6.040360682537554</span></li></ul></li><li><label class='ee-shut'>102: [-3.6388048045774855, 6.040271521173187]<input type='checkbox' class='ee-toggle'></label><ul><li><span class='ee-k'>0:</span><span class='ee-v'>-3.6388048045774855</span></li><li><span class='ee-k'>1:</span><span class='ee-v'>6.040271521173187</span></li></ul></li><li><label class='ee-shut'>103: [-3.6387156478659644, 6.040271550169568]<input type='checkbox' class='ee-toggle'></label><ul><li><span class='ee-k'>0:</span><span class='ee-v'>-3.6387156478659644</span></li><li><span class='ee-k'>1:</span><span class='ee-v'>6.040271550169568</span></li></ul></li><li><label class='ee-shut'>104: [-3.6387156478659644, 6.040093147201341]<input type='checkbox' class='ee-toggle'></label><ul><li><span class='ee-k'>0:</span><span class='ee-v'>-3.6387156478659644</span></li><li><span class='ee-k'>1:</span><span class='ee-v'>6.040093147201341</span></li></ul></li><li><label class='ee-shut'>105: [-3.6386264913122712, 6.040093176166438]<input type='checkbox' class='ee-toggle'></label><ul><li><span class='ee-k'>0:</span><span class='ee-v'>-3.6386264913122712</span></li><li><span class='ee-k'>1:</span><span class='ee-v'>6.040093176166438</span></li></ul></li><li><label class='ee-shut'>106: [-3.6386264913122712, 6.040182337285039]<input type='checkbox' class='ee-toggle'></label><ul><li><span class='ee-k'>0:</span><span class='ee-v'>-3.6386264913122712</span></li><li><span class='ee-k'>1:</span><span class='ee-v'>6.040182337285039</span></li></ul></li><li><label class='ee-shut'>107: [-3.6384481013529744, 6.040182315082428]<input type='checkbox' class='ee-toggle'></label><ul><li><span class='ee-k'>0:</span><span class='ee-v'>-3.6384481013529744</span></li><li><span class='ee-k'>1:</span><span class='ee-v'>6.040182315082428</span></li></ul></li><li><label class='ee-shut'>108: [-3.6384481013529744, 6.040271556963173]<input type='checkbox' class='ee-toggle'></label><ul><li><span class='ee-k'>0:</span><span class='ee-v'>-3.6384481013529744</span></li><li><span class='ee-k'>1:</span><span class='ee-v'>6.040271556963173</span></li></ul></li><li><label class='ee-shut'>109: [-3.6382653044948716, 6.040271564039973]<input type='checkbox' class='ee-toggle'></label><ul><li><span class='ee-k'>0:</span><span class='ee-v'>-3.6382653044948716</span></li><li><span class='ee-k'>1:</span><span class='ee-v'>6.040271564039973</span></li></ul></li><li><label class='ee-shut'>110: [-3.6382653044948716, 6.040360725451346]<input type='checkbox' class='ee-toggle'></label><ul><li><span class='ee-k'>0:</span><span class='ee-v'>-3.6382653044948716</span></li><li><span class='ee-k'>1:</span><span class='ee-v'>6.040360725451346</span></li></ul></li><li><label class='ee-shut'>111: [-3.638176071413418, 6.040360674259003]<input type='checkbox' class='ee-toggle'></label><ul><li><span class='ee-k'>0:</span><span class='ee-v'>-3.638176071413418</span></li><li><span class='ee-k'>1:</span><span class='ee-v'>6.040360674259003</span></li></ul></li><li><label class='ee-shut'>112: [-3.638176071413418, 6.040632754442013]<input type='checkbox' class='ee-toggle'></label><ul><li><span class='ee-k'>0:</span><span class='ee-v'>-3.638176071413418</span></li><li><span class='ee-k'>1:</span><span class='ee-v'>6.040632754442013</span></li></ul></li><li><label class='ee-shut'>113: [-3.63808691581488, 6.040632702742912]<input type='checkbox' class='ee-toggle'></label><ul><li><span class='ee-k'>0:</span><span class='ee-v'>-3.63808691581488</span></li><li><span class='ee-k'>1:</span><span class='ee-v'>6.040632702742912</span></li></ul></li><li><label class='ee-shut'>114: [-3.63808691581488, 6.040721864698885]<input type='checkbox' class='ee-toggle'></label><ul><li><span class='ee-k'>0:</span><span class='ee-v'>-3.63808691581488</span></li><li><span class='ee-k'>1:</span><span class='ee-v'>6.040721864698885</span></li></ul></li><li><label class='ee-shut'>115: [-3.6379977603741733, 6.04072189360844]<input type='checkbox' class='ee-toggle'></label><ul><li><span class='ee-k'>0:</span><span class='ee-v'>-3.6379977603741733</span></li><li><span class='ee-k'>1:</span><span class='ee-v'>6.04072189360844</span></li></ul></li><li><label class='ee-shut'>116: [-3.6379977603741733, 6.040989460900506]<input type='checkbox' class='ee-toggle'></label><ul><li><span class='ee-k'>0:</span><span class='ee-v'>-3.6379977603741733</span></li><li><span class='ee-k'>1:</span><span class='ee-v'>6.040989460900506</span></li></ul></li><li><label class='ee-shut'>117: [-3.6378193726418293, 6.040989438616863]<input type='checkbox' class='ee-toggle'></label><ul><li><span class='ee-k'>0:</span><span class='ee-v'>-3.6378193726418293</span></li><li><span class='ee-k'>1:</span><span class='ee-v'>6.040989438616863</span></li></ul></li><li><label class='ee-shut'>118: [-3.6378193726418293, 6.040900276245622]<input type='checkbox' class='ee-toggle'></label><ul><li><span class='ee-k'>0:</span><span class='ee-v'>-3.6378193726418293</span></li><li><span class='ee-k'>1:</span><span class='ee-v'>6.040900276245622</span></li></ul></li><li><label class='ee-shut'>119: [-3.637636500741582, 6.0409002837224115]<input type='checkbox' class='ee-toggle'></label><ul><li><span class='ee-k'>0:</span><span class='ee-v'>-3.637636500741582</span></li><li><span class='ee-k'>1:</span><span class='ee-v'>6.0409002837224115</span></li></ul></li><li><label class='ee-shut'>120: [-3.637636500741582, 6.040989446109575]<input type='checkbox' class='ee-toggle'></label><ul><li><span class='ee-k'>0:</span><span class='ee-v'>-3.637636500741582</span></li><li><span class='ee-k'>1:</span><span class='ee-v'>6.040989446109575</span></li></ul></li><li><label class='ee-shut'>121: [-3.637725732867035, 6.040989416725656]<input type='checkbox' class='ee-toggle'></label><ul><li><span class='ee-k'>0:</span><span class='ee-v'>-3.637725732867035</span></li><li><span class='ee-k'>1:</span><span class='ee-v'>6.040989416725656</span></li></ul></li><li><label class='ee-shut'>122: [-3.637725732867035, 6.041172256443793]<input type='checkbox' class='ee-toggle'></label><ul><li><span class='ee-k'>0:</span><span class='ee-v'>-3.637725732867035</span></li><li><span class='ee-k'>1:</span><span class='ee-v'>6.041172256443793</span></li></ul></li><li><label class='ee-shut'>123: [-3.6375473460982275, 6.041172234096171]<input type='checkbox' class='ee-toggle'></label><ul><li><span class='ee-k'>0:</span><span class='ee-v'>-3.6375473460982275</span></li><li><span class='ee-k'>1:</span><span class='ee-v'>6.041172234096171</span></li></ul></li><li><label class='ee-shut'>124: [-3.6375473460982275, 6.041261477506901]<input type='checkbox' class='ee-toggle'></label><ul><li><span class='ee-k'>0:</span><span class='ee-v'>-3.6375473460982275</span></li><li><span class='ee-k'>1:</span><span class='ee-v'>6.041261477506901</span></li></ul></li><li><label class='ee-shut'>125: [-3.637279805791562, 6.041261483942506]<input type='checkbox' class='ee-toggle'></label><ul><li><span class='ee-k'>0:</span><span class='ee-v'>-3.637279805791562</span></li><li><span class='ee-k'>1:</span><span class='ee-v'>6.041261483942506</span></li></ul></li><li><label class='ee-shut'>126: [-3.637279805791562, 6.041439809967803]<input type='checkbox' class='ee-toggle'></label><ul><li><span class='ee-k'>0:</span><span class='ee-v'>-3.637279805791562</span></li><li><span class='ee-k'>1:</span><span class='ee-v'>6.041439809967803</span></li></ul></li></ul></li><li><label class='ee-shut'>1: List (9 elements)<input type='checkbox' class='ee-toggle'></label><ul><li><label class='ee-shut'>0: [-3.639794740785296, 6.041801007549495]<input type='checkbox' class='ee-toggle'></label><ul><li><span class='ee-k'>0:</span><span class='ee-v'>-3.639794740785296</span></li><li><span class='ee-k'>1:</span><span class='ee-v'>6.041801007549495</span></li></ul></li><li><label class='ee-shut'>1: [-3.6397055823214775, 6.041801036853793]<input type='checkbox' class='ee-toggle'></label><ul><li><span class='ee-k'>0:</span><span class='ee-v'>-3.6397055823214775</span></li><li><span class='ee-k'>1:</span><span class='ee-v'>6.041801036853793</span></li></ul></li><li><label class='ee-shut'>2: [-3.6397055823214775, 6.041979364037733]<input type='checkbox' class='ee-toggle'></label><ul><li><span class='ee-k'>0:</span><span class='ee-v'>-3.6397055823214775</span></li><li><span class='ee-k'>1:</span><span class='ee-v'>6.041979364037733</span></li></ul></li><li><label class='ee-shut'>3: [-3.639794740785296, 6.041979334717826]<input type='checkbox' class='ee-toggle'></label><ul><li><span class='ee-k'>0:</span><span class='ee-v'>-3.639794740785296</span></li><li><span class='ee-k'>1:</span><span class='ee-v'>6.041979334717826</span></li></ul></li><li><label class='ee-shut'>4: [-3.639794740785296, 6.04206857911622]<input type='checkbox' class='ee-toggle'></label><ul><li><span class='ee-k'>0:</span><span class='ee-v'>-3.639794740785296</span></li><li><span class='ee-k'>1:</span><span class='ee-v'>6.04206857911622</span></li></ul></li><li><label class='ee-shut'>5: [-3.6400622944515066, 6.04206857114235]<input type='checkbox' class='ee-toggle'></label><ul><li><span class='ee-k'>0:</span><span class='ee-v'>-3.6400622944515066</span></li><li><span class='ee-k'>1:</span><span class='ee-v'>6.04206857114235</span></li></ul></li><li><label class='ee-shut'>6: [-3.6400622944515066, 6.041707402301136]<input type='checkbox' class='ee-toggle'></label><ul><li><span class='ee-k'>0:</span><span class='ee-v'>-3.6400622944515066</span></li><li><span class='ee-k'>1:</span><span class='ee-v'>6.041707402301136</span></li></ul></li><li><label class='ee-shut'>7: [-3.639794740785296, 6.041707329562788]<input type='checkbox' class='ee-toggle'></label><ul><li><span class='ee-k'>0:</span><span class='ee-v'>-3.639794740785296</span></li><li><span class='ee-k'>1:</span><span class='ee-v'>6.041707329562788</span></li></ul></li><li><label class='ee-shut'>8: [-3.639794740785296, 6.041801007549495]<input type='checkbox' class='ee-toggle'></label><ul><li><span class='ee-k'>0:</span><span class='ee-v'>-3.639794740785296</span></li><li><span class='ee-k'>1:</span><span class='ee-v'>6.041801007549495</span></li></ul></li></ul></li></ul></li></ul></li><li><label class='ee-shut'>properties: Object (1 property)<input type='checkbox' class='ee-toggle'></label><ul><li><span class='ee-k'>Geo_id:</span><span class='ee-v'>326a2033a35144fcef36123bed53e12b3576dda199883f2f90fa9f7e238d17f8</span></li></ul></li></ul></li></ul></li></ul></li></ul></div><script>function toggleHeader() {\n",
       "    const parent = this.parentElement;\n",
       "    parent.className = parent.className === \"ee-open\" ? \"ee-shut\" : \"ee-open\";\n",
       "}\n",
       "\n",
       "for (let c of document.getElementsByClassName(\"ee-toggle\")) {\n",
       "    c.onclick = toggleHeader;\n",
       "}</script></div>"
      ],
      "text/plain": [
       "<ee.featurecollection.FeatureCollection at 0x7fdc4fd7e9e0>"
      ]
     },
     "execution_count": 114,
     "metadata": {},
     "output_type": "execute_result"
    }
   ],
   "source": [
    "roi_asset"
   ]
  },
  {
   "cell_type": "markdown",
   "id": "9e6e6597-97de-4eb8-9afd-991956d614e6",
   "metadata": {},
   "source": [
    "##### Input: polygon feature collection"
   ]
  },
  {
   "cell_type": "code",
   "execution_count": 115,
   "id": "ebaefc6b-0c74-4125-beac-97d77e4879c8",
   "metadata": {},
   "outputs": [
    {
     "data": {
      "text/html": [
       "\n",
       "            <style>\n",
       "                .geemap-dark {\n",
       "                    --jp-widgets-color: white;\n",
       "                    --jp-widgets-label-color: white;\n",
       "                    --jp-ui-font-color1: white;\n",
       "                    --jp-layout-color2: #454545;\n",
       "                    background-color: #383838;\n",
       "                }\n",
       "                    \n",
       "                .geemap-dark .jupyter-button {\n",
       "                    --jp-layout-color3: #383838;\n",
       "                }\n",
       "                \n",
       "                .geemap-colab {\n",
       "                    background-color: var(--colab-primary-surface-color, white);\n",
       "                }\n",
       "                    \n",
       "                .geemap-colab .jupyter-button {\n",
       "                    --jp-layout-color3: var(--colab-primary-surface-color, white);\n",
       "                }\n",
       "            </style>\n",
       "            "
      ],
      "text/plain": [
       "<IPython.core.display.HTML object>"
      ]
     },
     "metadata": {},
     "output_type": "display_data"
    }
   ],
   "source": [
    "geom_1 =ee.Geometry.Polygon(\n",
    "        [[[102.19867776108482, 3.0835809888660344],\n",
    "          [102.1988172359536, 3.082670357801012],\n",
    "          # [102.20001886559227, 3.082078035157836],\n",
    "          # [102.2013385124276, 3.081745922272887],\n",
    "          [102.2014355657636, 3.0825815609469625],\n",
    "          [102.20011591892828, 3.0836528916202233]]],None, False);\n",
    "\n",
    "geom_2 = ee.Geometry.Polygon(\n",
    "        [[[102.18777620396249, 3.079459767638651],\n",
    "          # [102.18831264576546, 3.0785384196951506],\n",
    "          [102.1895786484205, 3.0792026473624907],\n",
    "          [102.18899929127328, 3.08005971470826]]],None, False);\n",
    "\n",
    "feat_1 = ee.Feature(geom_1)\n",
    "feat_2 = ee.Feature(geom_2)"
   ]
  },
  {
   "cell_type": "code",
   "execution_count": 116,
   "id": "16e171b0-5515-4110-ac99-4f1da2de4502",
   "metadata": {},
   "outputs": [
    {
     "data": {
      "text/html": [
       "\n",
       "            <style>\n",
       "                .geemap-dark {\n",
       "                    --jp-widgets-color: white;\n",
       "                    --jp-widgets-label-color: white;\n",
       "                    --jp-ui-font-color1: white;\n",
       "                    --jp-layout-color2: #454545;\n",
       "                    background-color: #383838;\n",
       "                }\n",
       "                    \n",
       "                .geemap-dark .jupyter-button {\n",
       "                    --jp-layout-color3: #383838;\n",
       "                }\n",
       "                \n",
       "                .geemap-colab {\n",
       "                    background-color: var(--colab-primary-surface-color, white);\n",
       "                }\n",
       "                    \n",
       "                .geemap-colab .jupyter-button {\n",
       "                    --jp-layout-color3: var(--colab-primary-surface-color, white);\n",
       "                }\n",
       "            </style>\n",
       "            "
      ],
      "text/plain": [
       "<IPython.core.display.HTML object>"
      ]
     },
     "metadata": {},
     "output_type": "display_data"
    }
   ],
   "source": [
    "fc = ee.FeatureCollection([feat_1,feat_2])"
   ]
  },
  {
   "cell_type": "code",
   "execution_count": 117,
   "id": "abfe4901-6253-49c6-bef1-8d4714378421",
   "metadata": {},
   "outputs": [
    {
     "data": {
      "text/html": [
       "\n",
       "            <style>\n",
       "                .geemap-dark {\n",
       "                    --jp-widgets-color: white;\n",
       "                    --jp-widgets-label-color: white;\n",
       "                    --jp-ui-font-color1: white;\n",
       "                    --jp-layout-color2: #454545;\n",
       "                    background-color: #383838;\n",
       "                }\n",
       "                    \n",
       "                .geemap-dark .jupyter-button {\n",
       "                    --jp-layout-color3: #383838;\n",
       "                }\n",
       "                \n",
       "                .geemap-colab {\n",
       "                    background-color: var(--colab-primary-surface-color, white);\n",
       "                }\n",
       "                    \n",
       "                .geemap-colab .jupyter-button {\n",
       "                    --jp-layout-color3: var(--colab-primary-surface-color, white);\n",
       "                }\n",
       "            </style>\n",
       "            "
      ],
      "text/plain": [
       "<IPython.core.display.HTML object>"
      ]
     },
     "metadata": {},
     "output_type": "display_data"
    },
    {
     "name": "stdout",
     "output_type": "stream",
     "text": [
      "using existing session\n",
      "Matched existing field (failed to register). Status code: 400 Using pre-existing geo id:  289e109a6e2d7f4bb25bdb5cd13972f30e77a17351b3717ed7de270835515bdb\n",
      "using existing session\n",
      "Matched existing field (failed to register). Status code: 400 Using pre-existing geo id:  7fb6292161b2aef16ed146cf9747aea02d4bd5d6bcc0fcf2e1bedd69928ebdca\n",
      "Progress: 100.00% (2/2)\r"
     ]
    }
   ],
   "source": [
    "#run for feature collection (NB needs speeding up..get geo ids then use map over property setting)\n",
    "roi_asset = register_fc_and_set_geo_id(\n",
    "    fc,\n",
    "    geo_id_column,\n",
    "    token,\n",
    "    session,\n",
    "    asset_registry_base,\n",
    "    debug=True\n",
    ")\n"
   ]
  },
  {
   "cell_type": "markdown",
   "id": "6e0018ff-17c1-4751-91fd-c77cd94ec0cc",
   "metadata": {},
   "source": [
    "##### Input: point feature collection"
   ]
  },
  {
   "cell_type": "code",
   "execution_count": 118,
   "id": "5f1252a1-d472-4f25-84eb-2fea4e3c197d",
   "metadata": {},
   "outputs": [
    {
     "data": {
      "text/html": [
       "\n",
       "            <style>\n",
       "                .geemap-dark {\n",
       "                    --jp-widgets-color: white;\n",
       "                    --jp-widgets-label-color: white;\n",
       "                    --jp-ui-font-color1: white;\n",
       "                    --jp-layout-color2: #454545;\n",
       "                    background-color: #383838;\n",
       "                }\n",
       "                    \n",
       "                .geemap-dark .jupyter-button {\n",
       "                    --jp-layout-color3: #383838;\n",
       "                }\n",
       "                \n",
       "                .geemap-colab {\n",
       "                    background-color: var(--colab-primary-surface-color, white);\n",
       "                }\n",
       "                    \n",
       "                .geemap-colab .jupyter-button {\n",
       "                    --jp-layout-color3: var(--colab-primary-surface-color, white);\n",
       "                }\n",
       "            </style>\n",
       "            "
      ],
      "text/plain": [
       "<IPython.core.display.HTML object>"
      ]
     },
     "metadata": {},
     "output_type": "display_data"
    },
    {
     "data": {
      "text/html": [
       "<div><style>:root {\n",
       "  --font-color-primary: var(--jp-content-font-color0, rgba(0, 0, 0, 1));\n",
       "  --font-color-secondary: var(--jp-content-font-color2, rgba(0, 0, 0, 0.6));\n",
       "  --font-color-accent: rgba(123, 31, 162, 1);\n",
       "  --border-color: var(--jp-border-color2, #e0e0e0);\n",
       "  --background-color: var(--jp-layout-color0, white);\n",
       "  --background-color-row-even: var(--jp-layout-color1, white);\n",
       "  --background-color-row-odd: var(--jp-layout-color2, #eeeeee);\n",
       "}\n",
       "\n",
       "html[theme=\"dark\"],\n",
       "body[data-theme=\"dark\"],\n",
       "body.vscode-dark {\n",
       "  --font-color-primary: rgba(255, 255, 255, 1);\n",
       "  --font-color-secondary: rgba(255, 255, 255, 0.6);\n",
       "  --font-color-accent: rgb(173, 132, 190);\n",
       "  --border-color: #2e2e2e;\n",
       "  --background-color: #111111;\n",
       "  --background-color-row-even: #111111;\n",
       "  --background-color-row-odd: #313131;\n",
       "}\n",
       "\n",
       ".ee {\n",
       "  padding: 1em;\n",
       "  line-height: 1.5em;\n",
       "  min-width: 300px;\n",
       "  max-width: 1200px;\n",
       "  overflow-y: scroll;\n",
       "  max-height: 600px;\n",
       "  border: 1px solid var(--border-color);\n",
       "  font-family: monospace;\n",
       "}\n",
       "\n",
       ".ee li {\n",
       "  list-style-type: none;\n",
       "}\n",
       "\n",
       ".ee ul {\n",
       "  padding-left: 1.5em !important;\n",
       "  margin: 0;\n",
       "}\n",
       "\n",
       ".ee > ul {\n",
       "  padding-left: 0 !important;\n",
       "}\n",
       "\n",
       ".ee-open,\n",
       ".ee-shut {\n",
       "  color: var(--font-color-secondary);\n",
       "  cursor: pointer;\n",
       "  margin: 0;\n",
       "}\n",
       "\n",
       ".ee-open:hover,\n",
       ".ee-shut:hover {\n",
       "  color: var(--font-color-primary);\n",
       "}\n",
       "\n",
       ".ee-k {\n",
       "  color: var(--font-color-accent);\n",
       "  margin-right: 6px;\n",
       "}\n",
       "\n",
       ".ee-v {\n",
       "  color: var(--font-color-primary);\n",
       "}\n",
       "\n",
       ".ee-toggle {\n",
       "  display: none;\n",
       "}\n",
       "\n",
       ".ee-shut + ul {\n",
       "  display: none;\n",
       "}\n",
       "\n",
       ".ee-open + ul {\n",
       "  display: block;\n",
       "}\n",
       "\n",
       ".ee-shut::before {\n",
       "  display: inline-block;\n",
       "  content: \"▼\";\n",
       "  margin-right: 6px;\n",
       "  transform: rotate(-90deg);\n",
       "  transition: transform 0.2s;\n",
       "}\n",
       "\n",
       ".ee-open::before {\n",
       "  transform: rotate(0deg);\n",
       "  display: inline-block;\n",
       "  content: \"▼\";\n",
       "  margin-right: 6px;\n",
       "  transition: transform 0.2s;\n",
       "}\n",
       "</style><div class='ee'><ul><li><label class='ee-shut'>FeatureCollection (2 elements, 0 columns)<input type='checkbox' class='ee-toggle'></label><ul><li><span class='ee-k'>type:</span><span class='ee-v'>FeatureCollection</span></li><li><label class='ee-shut'>columns: Object (0 properties)<input type='checkbox' class='ee-toggle'></label><ul></ul></li><li><label class='ee-shut'>features: List (2 elements)<input type='checkbox' class='ee-toggle'></label><ul><li><label class='ee-shut'>0: Feature (Point, 0 properties)<input type='checkbox' class='ee-toggle'></label><ul><li><span class='ee-k'>type:</span><span class='ee-v'>Feature</span></li><li><span class='ee-k'>id:</span><span class='ee-v'>0</span></li><li><label class='ee-shut'>geometry: Point (102.20, 3.08)<input type='checkbox' class='ee-toggle'></label><ul><li><span class='ee-k'>type:</span><span class='ee-v'>Point</span></li><li><label class='ee-shut'>coordinates: [102.19982020009266, 3.0830779715014907]<input type='checkbox' class='ee-toggle'></label><ul><li><span class='ee-k'>0:</span><span class='ee-v'>102.19982020009266</span></li><li><span class='ee-k'>1:</span><span class='ee-v'>3.0830779715014907</span></li></ul></li></ul></li><li><label class='ee-shut'>properties: Object (0 properties)<input type='checkbox' class='ee-toggle'></label><ul></ul></li></ul></li><li><label class='ee-shut'>1: Feature (Point, 0 properties)<input type='checkbox' class='ee-toggle'></label><ul><li><span class='ee-k'>type:</span><span class='ee-v'>Feature</span></li><li><span class='ee-k'>id:</span><span class='ee-v'>1</span></li><li><label class='ee-shut'>geometry: Point (102.19, 3.08)<input type='checkbox' class='ee-toggle'></label><ul><li><span class='ee-k'>type:</span><span class='ee-v'>Point</span></li><li><label class='ee-shut'>coordinates: [102.18878471431734, 3.0795740440518715]<input type='checkbox' class='ee-toggle'></label><ul><li><span class='ee-k'>0:</span><span class='ee-v'>102.18878471431734</span></li><li><span class='ee-k'>1:</span><span class='ee-v'>3.0795740440518715</span></li></ul></li></ul></li><li><label class='ee-shut'>properties: Object (0 properties)<input type='checkbox' class='ee-toggle'></label><ul></ul></li></ul></li></ul></li></ul></li></ul></div><script>function toggleHeader() {\n",
       "    const parent = this.parentElement;\n",
       "    parent.className = parent.className === \"ee-open\" ? \"ee-shut\" : \"ee-open\";\n",
       "}\n",
       "\n",
       "for (let c of document.getElementsByClassName(\"ee-toggle\")) {\n",
       "    c.onclick = toggleHeader;\n",
       "}</script></div>"
      ],
      "text/plain": [
       "<ee.featurecollection.FeatureCollection at 0x7fdc4f9dd6c0>"
      ]
     },
     "execution_count": 118,
     "metadata": {},
     "output_type": "execute_result"
    }
   ],
   "source": [
    "#get test points from polygon feature collection (NB functionality for registering points in asset registry coming soon)\n",
    "fc.map(get_centroid)"
   ]
  },
  {
   "cell_type": "code",
   "execution_count": 119,
   "id": "1cca7ae4-36e6-4f1b-826c-2d45618c0b21",
   "metadata": {},
   "outputs": [
    {
     "data": {
      "text/html": [
       "\n",
       "            <style>\n",
       "                .geemap-dark {\n",
       "                    --jp-widgets-color: white;\n",
       "                    --jp-widgets-label-color: white;\n",
       "                    --jp-ui-font-color1: white;\n",
       "                    --jp-layout-color2: #454545;\n",
       "                    background-color: #383838;\n",
       "                }\n",
       "                    \n",
       "                .geemap-dark .jupyter-button {\n",
       "                    --jp-layout-color3: #383838;\n",
       "                }\n",
       "                \n",
       "                .geemap-colab {\n",
       "                    background-color: var(--colab-primary-surface-color, white);\n",
       "                }\n",
       "                    \n",
       "                .geemap-colab .jupyter-button {\n",
       "                    --jp-layout-color3: var(--colab-primary-surface-color, white);\n",
       "                }\n",
       "            </style>\n",
       "            "
      ],
      "text/plain": [
       "<IPython.core.display.HTML object>"
      ]
     },
     "metadata": {},
     "output_type": "display_data"
    }
   ],
   "source": [
    "roi_poly = ee.FeatureCollection(fc.map(get_centroid))"
   ]
  },
  {
   "cell_type": "markdown",
   "id": "f6314d48-89c9-40bb-b2de-7f6e0b775bd6",
   "metadata": {},
   "source": [
    "##### Input: shapefile"
   ]
  },
  {
   "cell_type": "code",
   "execution_count": 17,
   "id": "2b073cba-8a24-4c74-9d99-b8f6eeec73fc",
   "metadata": {},
   "outputs": [
    {
     "data": {
      "text/html": [
       "\n",
       "            <style>\n",
       "                .geemap-dark {\n",
       "                    --jp-widgets-color: white;\n",
       "                    --jp-widgets-label-color: white;\n",
       "                    --jp-ui-font-color1: white;\n",
       "                    --jp-layout-color2: #454545;\n",
       "                    background-color: #383838;\n",
       "                }\n",
       "                    \n",
       "                .geemap-dark .jupyter-button {\n",
       "                    --jp-layout-color3: #383838;\n",
       "                }\n",
       "                \n",
       "                .geemap-colab {\n",
       "                    background-color: var(--colab-primary-surface-color, white);\n",
       "                }\n",
       "                    \n",
       "                .geemap-colab .jupyter-button {\n",
       "                    --jp-layout-color3: var(--colab-primary-surface-color, white);\n",
       "                }\n",
       "            </style>\n",
       "            "
      ],
      "text/plain": [
       "<IPython.core.display.HTML object>"
      ]
     },
     "metadata": {},
     "output_type": "display_data"
    }
   ],
   "source": [
    "# example_shapefile = /path_to/my_shapefile\n",
    "example_shapefile = out_shapefile"
   ]
  },
  {
   "cell_type": "code",
   "execution_count": 18,
   "id": "45c4c986-deb5-4283-bda5-e2b043786808",
   "metadata": {
    "scrolled": true
   },
   "outputs": [
    {
     "data": {
      "text/html": [
       "\n",
       "            <style>\n",
       "                .geemap-dark {\n",
       "                    --jp-widgets-color: white;\n",
       "                    --jp-widgets-label-color: white;\n",
       "                    --jp-ui-font-color1: white;\n",
       "                    --jp-layout-color2: #454545;\n",
       "                    background-color: #383838;\n",
       "                }\n",
       "                    \n",
       "                .geemap-dark .jupyter-button {\n",
       "                    --jp-layout-color3: #383838;\n",
       "                }\n",
       "                \n",
       "                .geemap-colab {\n",
       "                    background-color: var(--colab-primary-surface-color, white);\n",
       "                }\n",
       "                    \n",
       "                .geemap-colab .jupyter-button {\n",
       "                    --jp-layout-color3: var(--colab-primary-surface-color, white);\n",
       "                }\n",
       "            </style>\n",
       "            "
      ],
      "text/plain": [
       "<IPython.core.display.HTML object>"
      ]
     },
     "metadata": {},
     "output_type": "display_data"
    }
   ],
   "source": [
    "roi_shapefile = shapefile_to_ee_feature_collection(example_shapefile)"
   ]
  },
  {
   "cell_type": "markdown",
   "id": "a8f3e036-7a0b-4739-96a4-f83995ce8235",
   "metadata": {},
   "source": [
    "##### Input: drawn feature"
   ]
  },
  {
   "cell_type": "code",
   "execution_count": 19,
   "id": "77c5bddd-9487-416f-82dc-b33a8b858695",
   "metadata": {
    "scrolled": true
   },
   "outputs": [
    {
     "data": {
      "text/html": [
       "\n",
       "            <style>\n",
       "                .geemap-dark {\n",
       "                    --jp-widgets-color: white;\n",
       "                    --jp-widgets-label-color: white;\n",
       "                    --jp-ui-font-color1: white;\n",
       "                    --jp-layout-color2: #454545;\n",
       "                    background-color: #383838;\n",
       "                }\n",
       "                    \n",
       "                .geemap-dark .jupyter-button {\n",
       "                    --jp-layout-color3: #383838;\n",
       "                }\n",
       "                \n",
       "                .geemap-colab {\n",
       "                    background-color: var(--colab-primary-surface-color, white);\n",
       "                }\n",
       "                    \n",
       "                .geemap-colab .jupyter-button {\n",
       "                    --jp-layout-color3: var(--colab-primary-surface-color, white);\n",
       "                }\n",
       "            </style>\n",
       "            "
      ],
      "text/plain": [
       "<IPython.core.display.HTML object>"
      ]
     },
     "metadata": {},
     "output_type": "display_data"
    },
    {
     "name": "stdout",
     "output_type": "stream",
     "text": [
      "Draw shape on map before running next cell\n"
     ]
    }
   ],
   "source": [
    "zoom_level =16\n",
    "\n",
    "Map = geemap.Map(center=[6,-4], zoom=zoom_level)\n",
    "\n",
    "# Map.add_basemap(\"Esri.WorldImagery\")# optional basemaps from geemap\n",
    "\n",
    "sc = Sidecar(title='draw polygon')\n",
    "\n",
    "with sc:display(Map)\n",
    "print(\"Draw shape on map before running next cell\")"
   ]
  },
  {
   "cell_type": "code",
   "execution_count": 20,
   "id": "49c5bd51-4d87-476d-8316-1ebc68dba5e3",
   "metadata": {},
   "outputs": [
    {
     "data": {
      "text/html": [
       "\n",
       "            <style>\n",
       "                .geemap-dark {\n",
       "                    --jp-widgets-color: white;\n",
       "                    --jp-widgets-label-color: white;\n",
       "                    --jp-ui-font-color1: white;\n",
       "                    --jp-layout-color2: #454545;\n",
       "                    background-color: #383838;\n",
       "                }\n",
       "                    \n",
       "                .geemap-dark .jupyter-button {\n",
       "                    --jp-layout-color3: #383838;\n",
       "                }\n",
       "                \n",
       "                .geemap-colab {\n",
       "                    background-color: var(--colab-primary-surface-color, white);\n",
       "                }\n",
       "                    \n",
       "                .geemap-colab .jupyter-button {\n",
       "                    --jp-layout-color3: var(--colab-primary-surface-color, white);\n",
       "                }\n",
       "            </style>\n",
       "            "
      ],
      "text/plain": [
       "<IPython.core.display.HTML object>"
      ]
     },
     "metadata": {},
     "output_type": "display_data"
    }
   ],
   "source": [
    "# #NB User input needed: draw boundary (under 400ha) on the map before running this cell\n",
    "# try:\n",
    "#     drawn_feature = (Map.draw_last_feature)\n",
    "#     if drawnMap.addLayer(drawn_feature)\n",
    "# except:\n",
    "#     print(\"No drawn input. Making feature from map bounds instead\") \n",
    "#     drawn_feature = ee.Feature(Map.getBounds({'asGEOJSON':True}))\n",
    "#     Map.addLayer(drawn_feature)\n",
    "# drawn_feature"
   ]
  },
  {
   "cell_type": "code",
   "execution_count": 21,
   "id": "73d2b19e-d36c-4336-a7e1-ca722d696aad",
   "metadata": {},
   "outputs": [
    {
     "data": {
      "text/html": [
       "\n",
       "            <style>\n",
       "                .geemap-dark {\n",
       "                    --jp-widgets-color: white;\n",
       "                    --jp-widgets-label-color: white;\n",
       "                    --jp-ui-font-color1: white;\n",
       "                    --jp-layout-color2: #454545;\n",
       "                    background-color: #383838;\n",
       "                }\n",
       "                    \n",
       "                .geemap-dark .jupyter-button {\n",
       "                    --jp-layout-color3: #383838;\n",
       "                }\n",
       "                \n",
       "                .geemap-colab {\n",
       "                    background-color: var(--colab-primary-surface-color, white);\n",
       "                }\n",
       "                    \n",
       "                .geemap-colab .jupyter-button {\n",
       "                    --jp-layout-color3: var(--colab-primary-surface-color, white);\n",
       "                }\n",
       "            </style>\n",
       "            "
      ],
      "text/plain": [
       "<IPython.core.display.HTML object>"
      ]
     },
     "metadata": {},
     "output_type": "display_data"
    },
    {
     "ename": "NameError",
     "evalue": "name 'drawn_feature' is not defined",
     "output_type": "error",
     "traceback": [
      "\u001b[0;31m---------------------------------------------------------------------------\u001b[0m",
      "\u001b[0;31mNameError\u001b[0m                                 Traceback (most recent call last)",
      "Cell \u001b[0;32mIn[21], line 3\u001b[0m\n\u001b[1;32m      1\u001b[0m \u001b[38;5;66;03m#register geo id and add to feature\u001b[39;00m\n\u001b[1;32m      2\u001b[0m feature_w_geo_id \u001b[38;5;241m=\u001b[39m register_feature_and_set_geo_id(\n\u001b[0;32m----> 3\u001b[0m     \u001b[43mdrawn_feature\u001b[49m,\n\u001b[1;32m      4\u001b[0m     geo_id_column,\n\u001b[1;32m      5\u001b[0m     token,\n\u001b[1;32m      6\u001b[0m     session,\n\u001b[1;32m      7\u001b[0m     asset_registry_base,\n\u001b[1;32m      8\u001b[0m     debug\u001b[38;5;241m=\u001b[39m\u001b[38;5;28;01mTrue\u001b[39;00m)\n",
      "\u001b[0;31mNameError\u001b[0m: name 'drawn_feature' is not defined"
     ]
    }
   ],
   "source": [
    "#register geo id and add to feature\n",
    "feature_w_geo_id = register_feature_and_set_geo_id(\n",
    "    drawn_feature,\n",
    "    geo_id_column,\n",
    "    token,\n",
    "    session,\n",
    "    asset_registry_base,\n",
    "    debug=True)"
   ]
  },
  {
   "cell_type": "code",
   "execution_count": null,
   "id": "e43641a7-49b8-4eab-9729-d5ad673d42d5",
   "metadata": {},
   "outputs": [],
   "source": [
    "roi_drawn = feature_w_geo_id"
   ]
  },
  {
   "cell_type": "markdown",
   "id": "5fdebaf0-99ec-42d8-97d7-68016ce987f7",
   "metadata": {},
   "source": [
    "#### Get plot boundaries"
   ]
  },
  {
   "cell_type": "code",
   "execution_count": 221,
   "id": "0ee159df-7f58-4f2a-ae30-c97e26b8f8fc",
   "metadata": {},
   "outputs": [
    {
     "data": {
      "text/html": [
       "\n",
       "            <style>\n",
       "                .geemap-dark {\n",
       "                    --jp-widgets-color: white;\n",
       "                    --jp-widgets-label-color: white;\n",
       "                    --jp-ui-font-color1: white;\n",
       "                    --jp-layout-color2: #454545;\n",
       "                    background-color: #383838;\n",
       "                }\n",
       "                    \n",
       "                .geemap-dark .jupyter-button {\n",
       "                    --jp-layout-color3: #383838;\n",
       "                }\n",
       "                \n",
       "                .geemap-colab {\n",
       "                    background-color: var(--colab-primary-surface-color, white);\n",
       "                }\n",
       "                    \n",
       "                .geemap-colab .jupyter-button {\n",
       "                    --jp-layout-color3: var(--colab-primary-surface-color, white);\n",
       "                }\n",
       "            </style>\n",
       "            "
      ],
      "text/plain": [
       "<IPython.core.display.HTML object>"
      ]
     },
     "metadata": {},
     "output_type": "display_data"
    }
   ],
   "source": [
    "# roi = roi_geoid\n",
    "roi = fc#roi_asset\n",
    "#roi = roi_shapefile\n",
    "#roi = roi_polygon\n",
    "#roi = roi_points\n",
    "#roi = roi_drawn"
   ]
  },
  {
   "cell_type": "markdown",
   "id": "6ba90193-9bc2-4756-a839-f16c07284e04",
   "metadata": {},
   "source": [
    "### Whisp it"
   ]
  },
  {
   "cell_type": "code",
   "execution_count": 222,
   "id": "a6a8d7aa-fa6c-44ad-948b-849e593aa205",
   "metadata": {},
   "outputs": [
    {
     "data": {
      "text/html": [
       "\n",
       "            <style>\n",
       "                .geemap-dark {\n",
       "                    --jp-widgets-color: white;\n",
       "                    --jp-widgets-label-color: white;\n",
       "                    --jp-ui-font-color1: white;\n",
       "                    --jp-layout-color2: #454545;\n",
       "                    background-color: #383838;\n",
       "                }\n",
       "                    \n",
       "                .geemap-dark .jupyter-button {\n",
       "                    --jp-layout-color3: #383838;\n",
       "                }\n",
       "                \n",
       "                .geemap-colab {\n",
       "                    background-color: var(--colab-primary-surface-color, white);\n",
       "                }\n",
       "                    \n",
       "                .geemap-colab .jupyter-button {\n",
       "                    --jp-layout-color3: var(--colab-primary-surface-color, white);\n",
       "                }\n",
       "            </style>\n",
       "            "
      ],
      "text/plain": [
       "<IPython.core.display.HTML object>"
      ]
     },
     "metadata": {},
     "output_type": "display_data"
    }
   ],
   "source": [
    "from parameters.config_runtime import country_dataset_name\n",
    "\n",
    "from parameters.config_output_naming import geo_id_column, geometry_area_column, plot_id_column\n",
    "\n",
    "from parameters.config_lookups import lookup_gee_datasets\n",
    "\n",
    "\n",
    "## get lists from lookup for different streams of processing\n",
    "from  dataset_properties.make_processing_lists_from_lookup import buffer_stats_list,\\\n",
    "                                                                  presence_only_flag_list,\\\n",
    "                                                                  country_allocation_stats_only_list, \\\n",
    "                                                                  plot_stats_list, \\\n",
    "                                                                  decimal_place_column_list\n"
   ]
  },
  {
   "cell_type": "code",
   "execution_count": 232,
   "id": "62b25f9f-6c78-424a-87ae-1025c5088884",
   "metadata": {
    "editable": true,
    "slideshow": {
     "slide_type": ""
    },
    "tags": []
   },
   "outputs": [
    {
     "data": {
      "text/html": [
       "\n",
       "            <style>\n",
       "                .geemap-dark {\n",
       "                    --jp-widgets-color: white;\n",
       "                    --jp-widgets-label-color: white;\n",
       "                    --jp-ui-font-color1: white;\n",
       "                    --jp-layout-color2: #454545;\n",
       "                    background-color: #383838;\n",
       "                }\n",
       "                    \n",
       "                .geemap-dark .jupyter-button {\n",
       "                    --jp-layout-color3: #383838;\n",
       "                }\n",
       "                \n",
       "                .geemap-colab {\n",
       "                    background-color: var(--colab-primary-surface-color, white);\n",
       "                }\n",
       "                    \n",
       "                .geemap-colab .jupyter-button {\n",
       "                    --jp-layout-color3: var(--colab-primary-surface-color, white);\n",
       "                }\n",
       "            </style>\n",
       "            "
      ],
      "text/plain": [
       "<IPython.core.display.HTML object>"
      ]
     },
     "metadata": {},
     "output_type": "display_data"
    },
    {
     "name": "stdout",
     "output_type": "stream",
     "text": [
      "Stored 'roi' (FeatureCollection)\n",
      "7\n",
      "...stats processing started\n",
      "Geo_id column not found, so skipping inclusion\n",
      "keeping 'system:index' column (e.g. to allow joining Geo ids to df later etc)\n",
      "...ee to df processing time: 5.984664440155029 seconds\n"
     ]
    }
   ],
   "source": [
    "df = whisp_alt_stats_as_df(roi)"
   ]
  },
  {
   "cell_type": "markdown",
   "id": "1b7b3539-f9dd-4dc4-84ac-4e043434ae27",
   "metadata": {},
   "source": [
    "### Display it"
   ]
  },
  {
   "cell_type": "code",
   "execution_count": 233,
   "id": "e45cecd9-3bf0-40da-ad58-ec5a87a2d7be",
   "metadata": {},
   "outputs": [
    {
     "data": {
      "text/html": [
       "\n",
       "            <style>\n",
       "                .geemap-dark {\n",
       "                    --jp-widgets-color: white;\n",
       "                    --jp-widgets-label-color: white;\n",
       "                    --jp-ui-font-color1: white;\n",
       "                    --jp-layout-color2: #454545;\n",
       "                    background-color: #383838;\n",
       "                }\n",
       "                    \n",
       "                .geemap-dark .jupyter-button {\n",
       "                    --jp-layout-color3: #383838;\n",
       "                }\n",
       "                \n",
       "                .geemap-colab {\n",
       "                    background-color: var(--colab-primary-surface-color, white);\n",
       "                }\n",
       "                    \n",
       "                .geemap-colab .jupyter-button {\n",
       "                    --jp-layout-color3: var(--colab-primary-surface-color, white);\n",
       "                }\n",
       "            </style>\n",
       "            "
      ],
      "text/plain": [
       "<IPython.core.display.HTML object>"
      ]
     },
     "metadata": {},
     "output_type": "display_data"
    },
    {
     "data": {
      "text/html": [
       "<div>\n",
       "<style scoped>\n",
       "    .dataframe tbody tr th:only-of-type {\n",
       "        vertical-align: middle;\n",
       "    }\n",
       "\n",
       "    .dataframe tbody tr th {\n",
       "        vertical-align: top;\n",
       "    }\n",
       "\n",
       "    .dataframe thead th {\n",
       "        text-align: right;\n",
       "    }\n",
       "</style>\n",
       "<table border=\"1\" class=\"dataframe\">\n",
       "  <thead>\n",
       "    <tr style=\"text-align: right;\">\n",
       "      <th></th>\n",
       "      <th>system:index</th>\n",
       "      <th>Area ha</th>\n",
       "      <th>Country</th>\n",
       "      <th>EUFO 2020</th>\n",
       "      <th>GLAD Primary</th>\n",
       "      <th>TMF undist</th>\n",
       "      <th>JAXA FNF 2020</th>\n",
       "      <th>GFC TC 2020</th>\n",
       "      <th>GLAD LULC 2020</th>\n",
       "      <th>ESA TC 2020</th>\n",
       "      <th>TMF disturbed</th>\n",
       "      <th>RADD alerts</th>\n",
       "      <th>TMF plant</th>\n",
       "      <th>Oil palm Descals</th>\n",
       "      <th>Oil palm FDaP</th>\n",
       "      <th>Cocoa ETH</th>\n",
       "      <th>WDPA</th>\n",
       "    </tr>\n",
       "    <tr>\n",
       "      <th>PLOTID</th>\n",
       "      <th></th>\n",
       "      <th></th>\n",
       "      <th></th>\n",
       "      <th></th>\n",
       "      <th></th>\n",
       "      <th></th>\n",
       "      <th></th>\n",
       "      <th></th>\n",
       "      <th></th>\n",
       "      <th></th>\n",
       "      <th></th>\n",
       "      <th></th>\n",
       "      <th></th>\n",
       "      <th></th>\n",
       "      <th></th>\n",
       "      <th></th>\n",
       "      <th></th>\n",
       "    </tr>\n",
       "  </thead>\n",
       "  <tbody>\n",
       "    <tr>\n",
       "      <th>1</th>\n",
       "      <td>000000000000000007b6</td>\n",
       "      <td>0.4</td>\n",
       "      <td>CIV</td>\n",
       "      <td>100</td>\n",
       "      <td>0</td>\n",
       "      <td>31</td>\n",
       "      <td>100</td>\n",
       "      <td>100</td>\n",
       "      <td>100</td>\n",
       "      <td>100</td>\n",
       "      <td>69</td>\n",
       "      <td>-</td>\n",
       "      <td>0</td>\n",
       "      <td>0</td>\n",
       "      <td>0</td>\n",
       "      <td>54</td>\n",
       "      <td>-</td>\n",
       "    </tr>\n",
       "    <tr>\n",
       "      <th>2</th>\n",
       "      <td>00000000000000000121</td>\n",
       "      <td>0.7</td>\n",
       "      <td>CIV</td>\n",
       "      <td>100</td>\n",
       "      <td>0</td>\n",
       "      <td>37</td>\n",
       "      <td>100</td>\n",
       "      <td>49</td>\n",
       "      <td>100</td>\n",
       "      <td>100</td>\n",
       "      <td>58</td>\n",
       "      <td>-</td>\n",
       "      <td>0</td>\n",
       "      <td>0</td>\n",
       "      <td>0</td>\n",
       "      <td>3</td>\n",
       "      <td>-</td>\n",
       "    </tr>\n",
       "    <tr>\n",
       "      <th>3</th>\n",
       "      <td>00000000000000000df1</td>\n",
       "      <td>3.1</td>\n",
       "      <td>CIV</td>\n",
       "      <td>100</td>\n",
       "      <td>0</td>\n",
       "      <td>81</td>\n",
       "      <td>100</td>\n",
       "      <td>91</td>\n",
       "      <td>100</td>\n",
       "      <td>97</td>\n",
       "      <td>19</td>\n",
       "      <td>-</td>\n",
       "      <td>0</td>\n",
       "      <td>0</td>\n",
       "      <td>0</td>\n",
       "      <td>26</td>\n",
       "      <td>-</td>\n",
       "    </tr>\n",
       "    <tr>\n",
       "      <th>4</th>\n",
       "      <td>0000000000000000029d</td>\n",
       "      <td>4.0</td>\n",
       "      <td>CIV</td>\n",
       "      <td>82</td>\n",
       "      <td>0</td>\n",
       "      <td>22</td>\n",
       "      <td>98</td>\n",
       "      <td>86</td>\n",
       "      <td>98</td>\n",
       "      <td>98</td>\n",
       "      <td>73</td>\n",
       "      <td>-</td>\n",
       "      <td>0</td>\n",
       "      <td>0</td>\n",
       "      <td>0</td>\n",
       "      <td>43</td>\n",
       "      <td>-</td>\n",
       "    </tr>\n",
       "    <tr>\n",
       "      <th>5</th>\n",
       "      <td>00000000000000000835</td>\n",
       "      <td>4.1</td>\n",
       "      <td>CIV</td>\n",
       "      <td>100</td>\n",
       "      <td>0</td>\n",
       "      <td>52</td>\n",
       "      <td>100</td>\n",
       "      <td>86</td>\n",
       "      <td>100</td>\n",
       "      <td>100</td>\n",
       "      <td>48</td>\n",
       "      <td>-</td>\n",
       "      <td>0</td>\n",
       "      <td>0</td>\n",
       "      <td>0</td>\n",
       "      <td>33</td>\n",
       "      <td>-</td>\n",
       "    </tr>\n",
       "    <tr>\n",
       "      <th>6</th>\n",
       "      <td>000000000000000009d2</td>\n",
       "      <td>5.4</td>\n",
       "      <td>CIV</td>\n",
       "      <td>63</td>\n",
       "      <td>0</td>\n",
       "      <td>0</td>\n",
       "      <td>100</td>\n",
       "      <td>76</td>\n",
       "      <td>85</td>\n",
       "      <td>93</td>\n",
       "      <td>47</td>\n",
       "      <td>-</td>\n",
       "      <td>0</td>\n",
       "      <td>0</td>\n",
       "      <td>0</td>\n",
       "      <td>3</td>\n",
       "      <td>-</td>\n",
       "    </tr>\n",
       "    <tr>\n",
       "      <th>7</th>\n",
       "      <td>000000000000000014d6</td>\n",
       "      <td>11.2</td>\n",
       "      <td>CIV</td>\n",
       "      <td>94</td>\n",
       "      <td>0</td>\n",
       "      <td>18</td>\n",
       "      <td>95</td>\n",
       "      <td>63</td>\n",
       "      <td>100</td>\n",
       "      <td>98</td>\n",
       "      <td>73</td>\n",
       "      <td>-</td>\n",
       "      <td>0</td>\n",
       "      <td>0</td>\n",
       "      <td>0</td>\n",
       "      <td>1</td>\n",
       "      <td>-</td>\n",
       "    </tr>\n",
       "  </tbody>\n",
       "</table>\n",
       "</div>"
      ],
      "text/plain": [
       "                system:index Area ha Country  EUFO 2020  GLAD Primary  \\\n",
       "PLOTID                                                                  \n",
       "1       000000000000000007b6     0.4     CIV        100             0   \n",
       "2       00000000000000000121     0.7     CIV        100             0   \n",
       "3       00000000000000000df1     3.1     CIV        100             0   \n",
       "4       0000000000000000029d     4.0     CIV         82             0   \n",
       "5       00000000000000000835     4.1     CIV        100             0   \n",
       "6       000000000000000009d2     5.4     CIV         63             0   \n",
       "7       000000000000000014d6    11.2     CIV         94             0   \n",
       "\n",
       "        TMF undist  JAXA FNF 2020  GFC TC 2020  GLAD LULC 2020  ESA TC 2020  \\\n",
       "PLOTID                                                                        \n",
       "1               31            100          100             100          100   \n",
       "2               37            100           49             100          100   \n",
       "3               81            100           91             100           97   \n",
       "4               22             98           86              98           98   \n",
       "5               52            100           86             100          100   \n",
       "6                0            100           76              85           93   \n",
       "7               18             95           63             100           98   \n",
       "\n",
       "        TMF disturbed RADD alerts  TMF plant  Oil palm Descals  Oil palm FDaP  \\\n",
       "PLOTID                                                                          \n",
       "1                  69           -          0                 0              0   \n",
       "2                  58           -          0                 0              0   \n",
       "3                  19           -          0                 0              0   \n",
       "4                  73           -          0                 0              0   \n",
       "5                  48           -          0                 0              0   \n",
       "6                  47           -          0                 0              0   \n",
       "7                  73           -          0                 0              0   \n",
       "\n",
       "        Cocoa ETH WDPA  \n",
       "PLOTID                  \n",
       "1              54    -  \n",
       "2               3    -  \n",
       "3              26    -  \n",
       "4              43    -  \n",
       "5              33    -  \n",
       "6               3    -  \n",
       "7               1    -  "
      ]
     },
     "execution_count": 233,
     "metadata": {},
     "output_type": "execute_result"
    }
   ],
   "source": [
    "df"
   ]
  },
  {
   "cell_type": "markdown",
   "id": "3b0cec1c-3482-4fe6-b5ac-b60df4b2c4f6",
   "metadata": {},
   "source": [
    "#### Export it to CSV file"
   ]
  },
  {
   "cell_type": "code",
   "execution_count": 234,
   "id": "fd56afe0-5480-4eb8-9a7b-e34feb54ae82",
   "metadata": {},
   "outputs": [
    {
     "data": {
      "text/html": [
       "\n",
       "            <style>\n",
       "                .geemap-dark {\n",
       "                    --jp-widgets-color: white;\n",
       "                    --jp-widgets-label-color: white;\n",
       "                    --jp-ui-font-color1: white;\n",
       "                    --jp-layout-color2: #454545;\n",
       "                    background-color: #383838;\n",
       "                }\n",
       "                    \n",
       "                .geemap-dark .jupyter-button {\n",
       "                    --jp-layout-color3: #383838;\n",
       "                }\n",
       "                \n",
       "                .geemap-colab {\n",
       "                    background-color: var(--colab-primary-surface-color, white);\n",
       "                }\n",
       "                    \n",
       "                .geemap-colab .jupyter-button {\n",
       "                    --jp-layout-color3: var(--colab-primary-surface-color, white);\n",
       "                }\n",
       "            </style>\n",
       "            "
      ],
      "text/plain": [
       "<IPython.core.display.HTML object>"
      ]
     },
     "metadata": {},
     "output_type": "display_data"
    },
    {
     "name": "stdout",
     "output_type": "stream",
     "text": [
      "output csv:  /home/sepal-user/whisp/whisp_output_table.csv\n"
     ]
    }
   ],
   "source": [
    "#export output csv\n",
    "df.to_csv(path_or_buf=out_file_wide,header=True)\n",
    "\n",
    "print (\"output csv: \", out_file_wide)\n"
   ]
  },
  {
   "cell_type": "markdown",
   "id": "39edcdec-a2f7-4bef-b4d7-f316425f0228",
   "metadata": {},
   "source": [
    "#### Add geo ids to CSV"
   ]
  },
  {
   "cell_type": "code",
   "execution_count": 226,
   "id": "23588c5e-23ed-450c-8128-f8207a15b8c1",
   "metadata": {},
   "outputs": [
    {
     "data": {
      "text/html": [
       "\n",
       "            <style>\n",
       "                .geemap-dark {\n",
       "                    --jp-widgets-color: white;\n",
       "                    --jp-widgets-label-color: white;\n",
       "                    --jp-ui-font-color1: white;\n",
       "                    --jp-layout-color2: #454545;\n",
       "                    background-color: #383838;\n",
       "                }\n",
       "                    \n",
       "                .geemap-dark .jupyter-button {\n",
       "                    --jp-layout-color3: #383838;\n",
       "                }\n",
       "                \n",
       "                .geemap-colab {\n",
       "                    background-color: var(--colab-primary-surface-color, white);\n",
       "                }\n",
       "                    \n",
       "                .geemap-colab .jupyter-button {\n",
       "                    --jp-layout-color3: var(--colab-primary-surface-color, white);\n",
       "                }\n",
       "            </style>\n",
       "            "
      ],
      "text/plain": [
       "<IPython.core.display.HTML object>"
      ]
     },
     "metadata": {},
     "output_type": "display_data"
    }
   ],
   "source": [
    "import pandas as pd\n",
    "\n",
    "def add_empty_column_to_csv(csv_file, column_name):\n",
    "    df = pd.read_csv(csv_file)\n",
    "\n",
    "    # Check if the column exists in the DataFrame\n",
    "    if column_name in df.columns:\n",
    "        print(f\"Column '{column_name}' already exists\")\n",
    "    else:\n",
    "        # if doesn't exist add it\n",
    "        df.insert(loc=1, column=column_name, value=None)\n",
    "        print(f\"Column '{column_name}' not found, adding it.\")\n",
    "\n",
    "    # Write the updated DataFrame back to the CSV file\n",
    "    df.to_csv(csv_file, index=False)\n",
    "\n",
    "\n",
    "def remove_column_from_csv(csv_file, column_name):\n",
    "    # Read the CSV file into a DataFrame\n",
    "    df = pd.read_csv(csv_file)\n",
    "\n",
    "    # Check if the column exists in the DataFrame\n",
    "    if column_name in df.columns:\n",
    "        # Drop the specified column\n",
    "        df = df.drop(columns=[column_name])\n",
    "        print(f\"Column '{column_name}' removed successfully.\")\n",
    "    else:\n",
    "        print(f\"Column '{column_name}' not found.\")\n",
    "\n",
    "    # Write the updated DataFrame back to the CSV file\n",
    "    df.to_csv(csv_file, index=False)\n"
   ]
  },
  {
   "cell_type": "code",
   "execution_count": 227,
   "id": "7db6363e-448b-4586-8aa2-847041a9dc4a",
   "metadata": {},
   "outputs": [
    {
     "data": {
      "text/html": [
       "\n",
       "            <style>\n",
       "                .geemap-dark {\n",
       "                    --jp-widgets-color: white;\n",
       "                    --jp-widgets-label-color: white;\n",
       "                    --jp-ui-font-color1: white;\n",
       "                    --jp-layout-color2: #454545;\n",
       "                    background-color: #383838;\n",
       "                }\n",
       "                    \n",
       "                .geemap-dark .jupyter-button {\n",
       "                    --jp-layout-color3: #383838;\n",
       "                }\n",
       "                \n",
       "                .geemap-colab {\n",
       "                    background-color: var(--colab-primary-surface-color, white);\n",
       "                }\n",
       "                    \n",
       "                .geemap-colab .jupyter-button {\n",
       "                    --jp-layout-color3: var(--colab-primary-surface-color, white);\n",
       "                }\n",
       "            </style>\n",
       "            "
      ],
      "text/plain": [
       "<IPython.core.display.HTML object>"
      ]
     },
     "metadata": {},
     "output_type": "display_data"
    }
   ],
   "source": [
    "def reorder_column(df, column_name, position):\n",
    "    # Pop the column to remove it from the DataFrame\n",
    "    column = df.pop(column_name)\n",
    "    # Insert the column at the specified position\n",
    "    df.insert(position, column_name, column)\n",
    "\n",
    "\n",
    "def add_geo_ids_to_csv_from_lookup_df(\n",
    "    input_csv,\n",
    "    geo_id_lookup_df,\n",
    "    join_id_column=\"system:index\",\n",
    "    geo_id_column=\"Geo_id\",\n",
    "    # override_checks=False, # needs implementing\n",
    "    overwrite=False,\n",
    "    drop_geo=False,\n",
    "    debug=False\n",
    "    ):\n",
    "    \n",
    "    input_df = pd.read_csv(input_csv)\n",
    "    \n",
    "    # Check if the column exists in the DataFrame\n",
    "    if geo_id_column in input_df.columns:\n",
    "        print(f\"Column '{geo_id_column}' already exists. No join carried out\")\n",
    "        sys.exit()\n",
    "    elif join_id_column not in input_df.columns:\n",
    "        print(f\"Column '{join_id_column}' not present to carry out join\")\n",
    "        sys.exit()  \n",
    "    else:\n",
    "        #carry out the join     \n",
    "        input_df_w_geo_ids = input_df.merge(geo_id_lookup_df,on=join_id_column,how=\"left\")\n",
    "    \n",
    "    reorder_column(df=input_df_w_geo_ids, column_name=geo_id_column, position=1)\n",
    "    \n",
    "    if drop_geo:\n",
    "        if debug: print (\"Dropping geometry column ('drop_geo' set to True)\")\n",
    "        input_df_w_geo_ids = input_df_w_geo_ids.drop(\".geo\",axis=1)   \n",
    "\n",
    "    if overwrite:\n",
    "        out_name = input_csv\n",
    "    else:    \n",
    "        out_name = f'copy_{input_csv}'\n",
    "    \n",
    "    print (\"new csv: \",  input_csv)\n",
    "    \n",
    "    input_df_w_geo_ids.to_csv(out_name,index=False)\n",
    "   \n",
    "    return None\n",
    "\n",
    "\n",
    "def add_geo_ids_to_csv_from_lookup_csv(input_csv,\n",
    "    geo_id_lookup_csv,\n",
    "    join_id_column=\"system:index\",\n",
    "    geo_id_column=\"Geo_id\",\n",
    "    # override_checks=False, # needs implementing\n",
    "    overwrite=False,\n",
    "    drop_geo=False,\n",
    "    debug=False\n",
    "    ):\n",
    "\n",
    "    \n",
    "    geo_id_lookup_df = pd.read_csv(geo_id_lookup_csv)\n",
    "\n",
    "    add_geo_ids_to_csv_from_lookup_df(\n",
    "        input_csv,\n",
    "        geo_id_lookup_df,\n",
    "        join_id_column=join_id_column,\n",
    "        geo_id_column=geo_id_column,\n",
    "        # override_checks=False, # needs implementing\n",
    "        overwrite=overwrite,\n",
    "        drop_geo=drop_geo,\n",
    "        debug=debug\n",
    "    )\n",
    "\n",
    "    return None    \n"
   ]
  },
  {
   "cell_type": "code",
   "execution_count": 228,
   "id": "4e5018ba-bf5d-41e3-9860-fb52c4c8c2d1",
   "metadata": {},
   "outputs": [
    {
     "data": {
      "text/html": [
       "\n",
       "            <style>\n",
       "                .geemap-dark {\n",
       "                    --jp-widgets-color: white;\n",
       "                    --jp-widgets-label-color: white;\n",
       "                    --jp-ui-font-color1: white;\n",
       "                    --jp-layout-color2: #454545;\n",
       "                    background-color: #383838;\n",
       "                }\n",
       "                    \n",
       "                .geemap-dark .jupyter-button {\n",
       "                    --jp-layout-color3: #383838;\n",
       "                }\n",
       "                \n",
       "                .geemap-colab {\n",
       "                    background-color: var(--colab-primary-surface-color, white);\n",
       "                }\n",
       "                    \n",
       "                .geemap-colab .jupyter-button {\n",
       "                    --jp-layout-color3: var(--colab-primary-surface-color, white);\n",
       "                }\n",
       "            </style>\n",
       "            "
      ],
      "text/plain": [
       "<IPython.core.display.HTML object>"
      ]
     },
     "metadata": {},
     "output_type": "display_data"
    },
    {
     "name": "stdout",
     "output_type": "stream",
     "text": [
      "new csv:  whisp_output_table.csv\n"
     ]
    }
   ],
   "source": [
    "add_geo_ids_to_csv_from_lookup_csv(\n",
    "    input_csv=\"whisp_output_table.csv\",\n",
    "    geo_id_lookup_csv = \"temp_geo_id_lookup.csv\",\n",
    "    # join_id_column=\"system:index\",\n",
    "    # geo_id_column=geo_id_column,\n",
    "    overwrite=True,\n",
    "    # drop_geo=False,\n",
    "    # debug=False\n",
    "    )\n"
   ]
  },
  {
   "cell_type": "code",
   "execution_count": 235,
   "id": "ac322e1f-c6d2-479a-b110-3af8f5717152",
   "metadata": {},
   "outputs": [
    {
     "data": {
      "text/html": [
       "\n",
       "            <style>\n",
       "                .geemap-dark {\n",
       "                    --jp-widgets-color: white;\n",
       "                    --jp-widgets-label-color: white;\n",
       "                    --jp-ui-font-color1: white;\n",
       "                    --jp-layout-color2: #454545;\n",
       "                    background-color: #383838;\n",
       "                }\n",
       "                    \n",
       "                .geemap-dark .jupyter-button {\n",
       "                    --jp-layout-color3: #383838;\n",
       "                }\n",
       "                \n",
       "                .geemap-colab {\n",
       "                    background-color: var(--colab-primary-surface-color, white);\n",
       "                }\n",
       "                    \n",
       "                .geemap-colab .jupyter-button {\n",
       "                    --jp-layout-color3: var(--colab-primary-surface-color, white);\n",
       "                }\n",
       "            </style>\n",
       "            "
      ],
      "text/plain": [
       "<IPython.core.display.HTML object>"
      ]
     },
     "metadata": {},
     "output_type": "display_data"
    },
    {
     "name": "stdout",
     "output_type": "stream",
     "text": [
      "Check passed: feature collection and table same size: 7 rows\n"
     ]
    },
    {
     "ename": "KeyError",
     "evalue": "'Geo_id'",
     "output_type": "error",
     "traceback": [
      "\u001b[0;31m---------------------------------------------------------------------------\u001b[0m",
      "\u001b[0;31mKeyError\u001b[0m                                  Traceback (most recent call last)",
      "File \u001b[0;32m/usr/local/lib/python3.10/dist-packages/pandas/core/indexes/base.py:3653\u001b[0m, in \u001b[0;36mIndex.get_loc\u001b[0;34m(self, key)\u001b[0m\n\u001b[1;32m   3652\u001b[0m \u001b[38;5;28;01mtry\u001b[39;00m:\n\u001b[0;32m-> 3653\u001b[0m     \u001b[38;5;28;01mreturn\u001b[39;00m \u001b[38;5;28;43mself\u001b[39;49m\u001b[38;5;241;43m.\u001b[39;49m\u001b[43m_engine\u001b[49m\u001b[38;5;241;43m.\u001b[39;49m\u001b[43mget_loc\u001b[49m\u001b[43m(\u001b[49m\u001b[43mcasted_key\u001b[49m\u001b[43m)\u001b[49m\n\u001b[1;32m   3654\u001b[0m \u001b[38;5;28;01mexcept\u001b[39;00m \u001b[38;5;167;01mKeyError\u001b[39;00m \u001b[38;5;28;01mas\u001b[39;00m err:\n",
      "File \u001b[0;32m/usr/local/lib/python3.10/dist-packages/pandas/_libs/index.pyx:147\u001b[0m, in \u001b[0;36mpandas._libs.index.IndexEngine.get_loc\u001b[0;34m()\u001b[0m\n",
      "File \u001b[0;32m/usr/local/lib/python3.10/dist-packages/pandas/_libs/index.pyx:176\u001b[0m, in \u001b[0;36mpandas._libs.index.IndexEngine.get_loc\u001b[0;34m()\u001b[0m\n",
      "File \u001b[0;32mpandas/_libs/hashtable_class_helper.pxi:7080\u001b[0m, in \u001b[0;36mpandas._libs.hashtable.PyObjectHashTable.get_item\u001b[0;34m()\u001b[0m\n",
      "File \u001b[0;32mpandas/_libs/hashtable_class_helper.pxi:7088\u001b[0m, in \u001b[0;36mpandas._libs.hashtable.PyObjectHashTable.get_item\u001b[0;34m()\u001b[0m\n",
      "\u001b[0;31mKeyError\u001b[0m: 'Geo_id'",
      "\nThe above exception was the direct cause of the following exception:\n",
      "\u001b[0;31mKeyError\u001b[0m                                  Traceback (most recent call last)",
      "Cell \u001b[0;32mIn[235], line 1\u001b[0m\n\u001b[0;32m----> 1\u001b[0m \u001b[43mregister_fc_and_append_to_csv\u001b[49m\u001b[43m(\u001b[49m\n\u001b[1;32m      2\u001b[0m \u001b[43m    \u001b[49m\u001b[43mfeature_col\u001b[49m\u001b[38;5;241;43m=\u001b[39;49m\u001b[43mfc\u001b[49m\u001b[43m,\u001b[49m\n\u001b[1;32m      3\u001b[0m \u001b[43m    \u001b[49m\u001b[43mgeo_id_column\u001b[49m\u001b[38;5;241;43m=\u001b[39;49m\u001b[38;5;124;43m\"\u001b[39;49m\u001b[38;5;124;43mGeo_id\u001b[39;49m\u001b[38;5;124;43m\"\u001b[39;49m\u001b[43m,\u001b[49m\n\u001b[1;32m      4\u001b[0m \u001b[43m    \u001b[49m\u001b[43moutput_lookup_csv\u001b[49m\u001b[38;5;241;43m=\u001b[39;49m\u001b[43mout_file_wide\u001b[49m\u001b[43m,\u001b[49m\n\u001b[1;32m      5\u001b[0m \u001b[43m    \u001b[49m\u001b[38;5;66;43;03m# output_lookup_csv=\"whisp_output_table.csv\",\u001b[39;49;00m\n\u001b[1;32m      6\u001b[0m \u001b[43m    \u001b[49m\u001b[43mjoin_id_column\u001b[49m\u001b[38;5;241;43m=\u001b[39;49m\u001b[38;5;124;43m\"\u001b[39;49m\u001b[38;5;124;43msystem:index\u001b[39;49m\u001b[38;5;124;43m\"\u001b[39;49m\u001b[43m,\u001b[49m\n\u001b[1;32m      7\u001b[0m \u001b[43m    \u001b[49m\u001b[43mtoken\u001b[49m\u001b[38;5;241;43m=\u001b[39;49m\u001b[43mtoken\u001b[49m\u001b[43m,\u001b[49m\n\u001b[1;32m      8\u001b[0m \u001b[43m    \u001b[49m\u001b[43msession\u001b[49m\u001b[38;5;241;43m=\u001b[39;49m\u001b[43msession\u001b[49m\u001b[43m,\u001b[49m\n\u001b[1;32m      9\u001b[0m \u001b[43m    \u001b[49m\u001b[43masset_registry_base\u001b[49m\u001b[38;5;241;43m=\u001b[39;49m\u001b[43masset_registry_base\u001b[49m\u001b[43m,\u001b[49m\n\u001b[1;32m     10\u001b[0m \u001b[43m    \u001b[49m\u001b[43moverride_checks\u001b[49m\u001b[38;5;241;43m=\u001b[39;49m\u001b[38;5;28;43;01mTrue\u001b[39;49;00m\u001b[43m,\u001b[49m\n\u001b[1;32m     11\u001b[0m \u001b[43m    \u001b[49m\u001b[43mremove_temp_csv\u001b[49m\u001b[38;5;241;43m=\u001b[39;49m\u001b[38;5;28;43;01mFalse\u001b[39;49;00m\u001b[43m,\u001b[49m\n\u001b[1;32m     12\u001b[0m \u001b[43m    \u001b[49m\u001b[43mdebug\u001b[49m\u001b[38;5;241;43m=\u001b[39;49m\u001b[38;5;28;43;01mTrue\u001b[39;49;00m\u001b[43m)\u001b[49m\n",
      "File \u001b[0;32m~/whisp/modules/agstack_to_gee.py:550\u001b[0m, in \u001b[0;36mregister_fc_and_append_to_csv\u001b[0;34m(feature_col, geo_id_column, output_lookup_csv, join_id_column, token, session, asset_registry_base, override_checks, remove_temp_csv, debug)\u001b[0m\n\u001b[1;32m    547\u001b[0m feature_list \u001b[38;5;241m=\u001b[39m []\n\u001b[1;32m    549\u001b[0m \u001b[38;5;66;03m#checks and fc filtering\u001b[39;00m\n\u001b[0;32m--> 550\u001b[0m fc \u001b[38;5;241m=\u001b[39m \u001b[43mcsv_prep_and_fc_filtering\u001b[49m\u001b[43m(\u001b[49m\u001b[43mfeature_col\u001b[49m\u001b[43m,\u001b[49m\u001b[43m \u001b[49m\u001b[43mgeo_id_column\u001b[49m\u001b[43m,\u001b[49m\u001b[43m \u001b[49m\u001b[43moutput_lookup_csv\u001b[49m\u001b[43m,\u001b[49m\u001b[43m \u001b[49m\u001b[43mjoin_id_column\u001b[49m\u001b[43m,\u001b[49m\u001b[43m \u001b[49m\u001b[43moverride_checks\u001b[49m\u001b[38;5;241;43m=\u001b[39;49m\u001b[43moverride_checks\u001b[49m\u001b[43m,\u001b[49m\u001b[43m \u001b[49m\u001b[43mdebug\u001b[49m\u001b[38;5;241;43m=\u001b[39;49m\u001b[43mdebug\u001b[49m\u001b[43m)\u001b[49m\n\u001b[1;32m    552\u001b[0m \u001b[38;5;66;03m# Convert the FeatureCollection to a list\u001b[39;00m\n\u001b[1;32m    553\u001b[0m feature_col_list \u001b[38;5;241m=\u001b[39m fc\u001b[38;5;241m.\u001b[39mtoList(feature_col\u001b[38;5;241m.\u001b[39msize())\n",
      "File \u001b[0;32m~/whisp/modules/agstack_to_gee.py:527\u001b[0m, in \u001b[0;36mcsv_prep_and_fc_filtering\u001b[0;34m(feature_col, geo_id_column, output_lookup_csv, join_id_column, override_checks, debug)\u001b[0m\n\u001b[1;32m    523\u001b[0m df \u001b[38;5;241m=\u001b[39m pd\u001b[38;5;241m.\u001b[39mread_csv(output_lookup_csv)\n\u001b[1;32m    525\u001b[0m check_inputs_same_size(fc\u001b[38;5;241m=\u001b[39mfeature_col,df\u001b[38;5;241m=\u001b[39mdf,override_checks\u001b[38;5;241m=\u001b[39moverride_checks)       \n\u001b[0;32m--> 527\u001b[0m system_indexes \u001b[38;5;241m=\u001b[39m \u001b[43mget_system_index_vals_w_missing_geo_ids\u001b[49m\u001b[43m(\u001b[49m\u001b[43mdf\u001b[49m\u001b[43m,\u001b[49m\u001b[43mgeo_id_column\u001b[49m\u001b[43m,\u001b[49m\u001b[43mjoin_id_column\u001b[49m\u001b[43m)\u001b[49m\n\u001b[1;32m    529\u001b[0m filtered_features \u001b[38;5;241m=\u001b[39m filter_features_by_system_index(feature_col, system_indexes,join_id_column)\n\u001b[1;32m    531\u001b[0m fc \u001b[38;5;241m=\u001b[39m ee\u001b[38;5;241m.\u001b[39mFeatureCollection(filtered_features)\n",
      "File \u001b[0;32m~/whisp/modules/agstack_to_gee.py:452\u001b[0m, in \u001b[0;36mget_system_index_vals_w_missing_geo_ids\u001b[0;34m(df, geo_id_column, join_id_column)\u001b[0m\n\u001b[1;32m    441\u001b[0m \u001b[38;5;250m\u001b[39m\u001b[38;5;124;03m\"\"\"\u001b[39;00m\n\u001b[1;32m    442\u001b[0m \u001b[38;5;124;03mExtracts system:index values where Geo_id is not present (NaN).\u001b[39;00m\n\u001b[1;32m    443\u001b[0m \n\u001b[0;32m   (...)\u001b[0m\n\u001b[1;32m    448\u001b[0m \u001b[38;5;124;03m- List of system:index / join_id_column values where no Geo_id is present.\u001b[39;00m\n\u001b[1;32m    449\u001b[0m \u001b[38;5;124;03m\"\"\"\u001b[39;00m\n\u001b[1;32m    451\u001b[0m \u001b[38;5;66;03m# Extract system:index values where Geo_id is NaN\u001b[39;00m\n\u001b[0;32m--> 452\u001b[0m no_geo_id_values \u001b[38;5;241m=\u001b[39m df[\u001b[43mdf\u001b[49m\u001b[43m[\u001b[49m\u001b[43mgeo_id_column\u001b[49m\u001b[43m]\u001b[49m\u001b[38;5;241m.\u001b[39misna()][join_id_column]\u001b[38;5;241m.\u001b[39mtolist()\n\u001b[1;32m    454\u001b[0m \u001b[38;5;28;01mreturn\u001b[39;00m no_geo_id_values\n",
      "File \u001b[0;32m/usr/local/lib/python3.10/dist-packages/pandas/core/frame.py:3761\u001b[0m, in \u001b[0;36mDataFrame.__getitem__\u001b[0;34m(self, key)\u001b[0m\n\u001b[1;32m   3759\u001b[0m \u001b[38;5;28;01mif\u001b[39;00m \u001b[38;5;28mself\u001b[39m\u001b[38;5;241m.\u001b[39mcolumns\u001b[38;5;241m.\u001b[39mnlevels \u001b[38;5;241m>\u001b[39m \u001b[38;5;241m1\u001b[39m:\n\u001b[1;32m   3760\u001b[0m     \u001b[38;5;28;01mreturn\u001b[39;00m \u001b[38;5;28mself\u001b[39m\u001b[38;5;241m.\u001b[39m_getitem_multilevel(key)\n\u001b[0;32m-> 3761\u001b[0m indexer \u001b[38;5;241m=\u001b[39m \u001b[38;5;28;43mself\u001b[39;49m\u001b[38;5;241;43m.\u001b[39;49m\u001b[43mcolumns\u001b[49m\u001b[38;5;241;43m.\u001b[39;49m\u001b[43mget_loc\u001b[49m\u001b[43m(\u001b[49m\u001b[43mkey\u001b[49m\u001b[43m)\u001b[49m\n\u001b[1;32m   3762\u001b[0m \u001b[38;5;28;01mif\u001b[39;00m is_integer(indexer):\n\u001b[1;32m   3763\u001b[0m     indexer \u001b[38;5;241m=\u001b[39m [indexer]\n",
      "File \u001b[0;32m/usr/local/lib/python3.10/dist-packages/pandas/core/indexes/base.py:3655\u001b[0m, in \u001b[0;36mIndex.get_loc\u001b[0;34m(self, key)\u001b[0m\n\u001b[1;32m   3653\u001b[0m     \u001b[38;5;28;01mreturn\u001b[39;00m \u001b[38;5;28mself\u001b[39m\u001b[38;5;241m.\u001b[39m_engine\u001b[38;5;241m.\u001b[39mget_loc(casted_key)\n\u001b[1;32m   3654\u001b[0m \u001b[38;5;28;01mexcept\u001b[39;00m \u001b[38;5;167;01mKeyError\u001b[39;00m \u001b[38;5;28;01mas\u001b[39;00m err:\n\u001b[0;32m-> 3655\u001b[0m     \u001b[38;5;28;01mraise\u001b[39;00m \u001b[38;5;167;01mKeyError\u001b[39;00m(key) \u001b[38;5;28;01mfrom\u001b[39;00m \u001b[38;5;21;01merr\u001b[39;00m\n\u001b[1;32m   3656\u001b[0m \u001b[38;5;28;01mexcept\u001b[39;00m \u001b[38;5;167;01mTypeError\u001b[39;00m:\n\u001b[1;32m   3657\u001b[0m     \u001b[38;5;66;03m# If we have a listlike key, _check_indexing_error will raise\u001b[39;00m\n\u001b[1;32m   3658\u001b[0m     \u001b[38;5;66;03m#  InvalidIndexError. Otherwise we fall through and re-raise\u001b[39;00m\n\u001b[1;32m   3659\u001b[0m     \u001b[38;5;66;03m#  the TypeError.\u001b[39;00m\n\u001b[1;32m   3660\u001b[0m     \u001b[38;5;28mself\u001b[39m\u001b[38;5;241m.\u001b[39m_check_indexing_error(key)\n",
      "\u001b[0;31mKeyError\u001b[0m: 'Geo_id'"
     ]
    }
   ],
   "source": [
    "register_fc_and_append_to_csv(\n",
    "    feature_col=fc,\n",
    "    geo_id_column=\"Geo_id\",\n",
    "    output_lookup_csv=out_file_wide,\n",
    "    # output_lookup_csv=\"whisp_output_table.csv\",\n",
    "    join_id_column=\"system:index\",\n",
    "    token=token,\n",
    "    session=session,\n",
    "    asset_registry_base=asset_registry_base,\n",
    "    override_checks=True,\n",
    "    remove_temp_csv=False,\n",
    "    debug=True)\n"
   ]
  },
  {
   "cell_type": "code",
   "execution_count": 103,
   "id": "069233ff-db06-4d09-b423-4f7d83630013",
   "metadata": {},
   "outputs": [
    {
     "data": {
      "text/html": [
       "\n",
       "            <style>\n",
       "                .geemap-dark {\n",
       "                    --jp-widgets-color: white;\n",
       "                    --jp-widgets-label-color: white;\n",
       "                    --jp-ui-font-color1: white;\n",
       "                    --jp-layout-color2: #454545;\n",
       "                    background-color: #383838;\n",
       "                }\n",
       "                    \n",
       "                .geemap-dark .jupyter-button {\n",
       "                    --jp-layout-color3: #383838;\n",
       "                }\n",
       "                \n",
       "                .geemap-colab {\n",
       "                    background-color: var(--colab-primary-surface-color, white);\n",
       "                }\n",
       "                    \n",
       "                .geemap-colab .jupyter-button {\n",
       "                    --jp-layout-color3: var(--colab-primary-surface-color, white);\n",
       "                }\n",
       "            </style>\n",
       "            "
      ],
      "text/plain": [
       "<IPython.core.display.HTML object>"
      ]
     },
     "metadata": {},
     "output_type": "display_data"
    },
    {
     "name": "stdout",
     "output_type": "stream",
     "text": [
      "Column 'system:index' removed successfully.\n"
     ]
    }
   ],
   "source": [
    "# remove_column_from_csv(csv_file=out_file_wide, column_name=\"system:index\")\n"
   ]
  },
  {
   "cell_type": "markdown",
   "id": "aefc54bb-990a-4ee4-bd5b-76afebaea7b9",
   "metadata": {},
   "source": [
    "#### Export it to CEO link"
   ]
  },
  {
   "cell_type": "markdown",
   "id": "792d1c59-f0ca-4203-a79c-b06662ca3142",
   "metadata": {},
   "source": [
    "Temporary login details available for demo purposes here: modules/config_ceo.py"
   ]
  },
  {
   "cell_type": "code",
   "execution_count": null,
   "id": "ddc9821a-1255-4eb3-9e70-3c52e801f8e3",
   "metadata": {},
   "outputs": [],
   "source": [
    "ceo_url = whisp_stats_shapefile_and_ceo_url(roi, df, plot_id_column, out_shapefile)\n",
    "\n",
    "print('CEO URL:', ceo_url) "
   ]
  },
  {
   "cell_type": "code",
   "execution_count": null,
   "id": "2ff60be7-1744-40c2-b7ad-e060591de998",
   "metadata": {},
   "outputs": [],
   "source": []
  }
 ],
 "metadata": {
  "kernelspec": {
   "display_name": "Python 3",
   "language": "python",
   "name": "python3"
  },
  "language_info": {
   "codemirror_mode": {
    "name": "ipython",
    "version": 3
   },
   "file_extension": ".py",
   "mimetype": "text/x-python",
   "name": "python",
   "nbconvert_exporter": "python",
   "pygments_lexer": "ipython3",
   "version": "3.10.12"
  }
 },
 "nbformat": 4,
 "nbformat_minor": 5
}
