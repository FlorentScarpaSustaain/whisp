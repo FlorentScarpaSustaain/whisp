{
 "cells": [
  {
   "cell_type": "markdown",
   "id": "bfe423cf-8bd5-4727-8899-283ab6004221",
   "metadata": {},
   "source": [
    "# Imports/setup"
   ]
  },
  {
   "cell_type": "code",
   "execution_count": null,
   "id": "8c696e8e-cf8b-4aa0-80e9-fc3a9f87a42b",
   "metadata": {
    "editable": true,
    "scrolled": true,
    "slideshow": {
     "slide_type": ""
    },
    "tags": []
   },
   "outputs": [],
   "source": [
    "import ee\n",
    "import os\n",
    "import pandas as pd\n",
    "import geopandas as gpd\n",
    "# import json\n",
    "import geemap\n",
    "import time\n",
    "\n",
    "import os\n",
    "# from datetime import datetime\n",
    "\n",
    "import requests # may not be needed\n",
    "from sidecar import Sidecar\n",
    "\n",
    "from modules.gee_initialize import initialize_ee \n",
    "initialize_ee()\n",
    "\n",
    "from modules.file_to_ceo import get_ceo_url, whisp_stats_shapefile_and_ceo_url\n",
    "from parameters.config_output_naming import (\n",
    "    geo_id_column, \n",
    "    out_file_wide, \n",
    "    out_shapefile\n",
    ")\n",
    "from modules.agstack_to_gee import (\n",
    "    start_agstack_session,\n",
    "    get_agstack_token,\n",
    "    geometry_to_geo_id,\n",
    "    feature_to_geo_id,\n",
    "    geo_id_or_ids_to_feature_collection,\n",
    "    shapefile_to_ee_feature_collection,\n",
    "    register_feature_and_set_geo_id,\n",
    "    register_fc_and_set_geo_id,\n",
    "    register_feature_and_append_to_csv,\n",
    "    register_fc_and_append_to_csv,\n",
    "    add_geo_ids_to_feature_col_from_lookup_df,\n",
    "    add_geo_ids_to_feature_col_from_lookup_csv\n",
    ")\n",
    "\n",
    "from parameters.config_asr_url_info import asset_registry_base, user_registry_base\n",
    "\n",
    "from parameters.config_asr_credentials import email, password\n",
    "\n",
    "from modules.utils import (\n",
    "    collection_properties_to_df,\n",
    "    remove_geometry_from_feature_collection,\n",
    "    get_centroid#,\n",
    "    # get_scale_from_image\n",
    ")\n",
    "\n",
    "def whisp_alt_stats_as_df (roi): \n",
    "    %store roi\n",
    "    %run alt_whisp_stats.ipynb   \n",
    "    return df_out\n",
    "   "
   ]
  },
  {
   "cell_type": "markdown",
   "id": "94ee40cf-680f-4baf-92d4-6fed96d2ab9c",
   "metadata": {},
   "source": [
    "##### Set up asset registry"
   ]
  },
  {
   "cell_type": "code",
   "execution_count": null,
   "id": "fcea483c-9b14-40f3-b049-2a9479e9d509",
   "metadata": {},
   "outputs": [],
   "source": [
    "session = start_agstack_session(email,password,user_registry_base)\n",
    "\n",
    "token = get_agstack_token(email, password, asset_registry_base)"
   ]
  },
  {
   "cell_type": "markdown",
   "id": "df2b3487-c87e-4a10-9097-bda251d53ab1",
   "metadata": {},
   "source": [
    "#### Inputs : with GEOIDS"
   ]
  },
  {
   "cell_type": "markdown",
   "id": "cba7b229-05d4-4645-b295-6ac89f2ae3e3",
   "metadata": {},
   "source": [
    "##### Input: list of Geo ids"
   ]
  },
  {
   "cell_type": "code",
   "execution_count": null,
   "id": "bc075bc0-f321-4e4c-91b6-98effb3abfa2",
   "metadata": {},
   "outputs": [],
   "source": [
    "example_ids = ['88bec54ad04804f5b1fafbc131266640a129be2840fa6797cda358d7e831b907']\n",
    "\n",
    "GHA_ids = ['88bec54ad04804f5b1fafbc131266640a129be2840fa6797cda358d7e831b907', \n",
    "        '97408ef7bdac487e4a42e4abf20492b786310889fd4b0478603e2d0004c40bfb']\n",
    "\n",
    "IDN_ids = ['c288d6c94efa9011c0e3452af9f7fa0941661377030e10d29c68764617f9816d', \n",
    "       '8e2accea7ddbb84b7f6001e00bcb60f57f563c80633b53859993522a6f05727a']\n",
    "\n",
    "CIV_ids = ['0520cfac98fbc1bd7952b1c07a9f6983b83625722b6f665ea83ac9aad3512918',\n",
    "            'fa2aff0d60cf1bc0e1f1dd4b91daf932940c31c021ca1b84f5b9445855eef02f']\n",
    "\n",
    "all_geo_ids= GHA_ids + IDN_ids + CIV_ids\n",
    "#all_geo_ids= example_ids"
   ]
  },
  {
   "cell_type": "code",
   "execution_count": null,
   "id": "1d374bd2-850a-44a9-881e-b095629a73d7",
   "metadata": {},
   "outputs": [],
   "source": [
    "#make into a feature collection\n",
    "roi_geoid = geo_id_or_ids_to_feature_collection(\n",
    "    all_geo_ids=all_geo_ids, \n",
    "    geo_id_column=geo_id_column, \n",
    "    session=session)"
   ]
  },
  {
   "cell_type": "markdown",
   "id": "7df79006-43ec-402a-9473-b2c17b1614ae",
   "metadata": {},
   "source": [
    "#### Inputs : without GEOIDS"
   ]
  },
  {
   "cell_type": "markdown",
   "id": "0793b6c2-0f6d-4dc4-9dd9-d8f6bb6d3743",
   "metadata": {},
   "source": [
    "##### Input: GEE asset (feature collection) "
   ]
  },
  {
   "cell_type": "code",
   "execution_count": null,
   "id": "354afea9-eb94-4fd9-9469-eddd3a3487d6",
   "metadata": {
    "editable": true,
    "scrolled": true,
    "slideshow": {
     "slide_type": ""
    },
    "tags": []
   },
   "outputs": [],
   "source": [
    "example_plot_feature_col_asset = 'projects/ee-andyarnellgee/assets/p0004_commodity_mapper_support/seg_civ_PCBM'\n",
    "#\"projects/fdap-remi/assets/seg_civ_scoopac\"\n",
    "# example_plot_feature_col_asset = \"projects/fdap-remi/assets/seg_civ_coopara\"\n",
    "# Define the fraction of features you want to sample (e.g., 0.5 for 50%)\n",
    "sampleFraction = 0.0010"
   ]
  },
  {
   "cell_type": "code",
   "execution_count": null,
   "id": "510d25ad-fb8c-4735-8953-87371dc415eb",
   "metadata": {
    "editable": true,
    "slideshow": {
     "slide_type": ""
    },
    "tags": []
   },
   "outputs": [],
   "source": [
    "fc = ee.FeatureCollection(example_plot_feature_col_asset)#.limit(10)\n",
    "\n",
    "randomColumn = 'random'\n",
    "fc_r = fc.randomColumn(randomColumn,4)\n",
    "\n",
    "# Filter the feature collection based on the random column to get the sample\n",
    "fc_sample = fc_r.filter(ee.Filter.lt(randomColumn, sampleFraction));\n",
    "\n",
    "# fc = ee.FeatureCollection(fc.toList(fc.size()).slice(0,3)) #_sample\n",
    "\n",
    "fc.size()\n",
    "\n",
    "# df = collection_properties_to_df(collection=fc)#,property_selection=[\"system:index\")\n",
    "\n",
    "fc = fc.limit(10)"
   ]
  },
  {
   "cell_type": "code",
   "execution_count": null,
   "id": "5a8405b8-23a4-466e-b9be-0791c7b47935",
   "metadata": {},
   "outputs": [],
   "source": [
    "register_fc_and_append_to_csv(\n",
    "    feature_col=fc,\n",
    "    geo_id_column=\"Geo_id\",\n",
    "    output_lookup_csv=\"temp_geo_id_lookup.csv\",\n",
    "    # output_lookup_csv=\"whisp_output_table.csv\",\n",
    "    join_id_column=\"system:index\",\n",
    "    token=token,\n",
    "    session=session,\n",
    "    asset_registry_base=asset_registry_base,\n",
    "    override_checks=True,\n",
    "    remove_temp_csv=False,\n",
    "    debug=True)\n"
   ]
  },
  {
   "cell_type": "code",
   "execution_count": null,
   "id": "36223be7-0227-4556-99a5-b522ee01b0ef",
   "metadata": {},
   "outputs": [],
   "source": [
    "join_id_column = \"system:index\"\n",
    "\n",
    "fc_new = add_geo_ids_to_feature_col_from_lookup_csv(fc,\"temp_geo_id_lookup.csv\",join_id_column,geo_id_column,override_checks=True,debug=True)\n"
   ]
  },
  {
   "cell_type": "code",
   "execution_count": null,
   "id": "7e386ede-7720-4376-ae90-ead6c1a154f8",
   "metadata": {},
   "outputs": [],
   "source": [
    "collection_properties_to_df(fc_new)"
   ]
  },
  {
   "cell_type": "code",
   "execution_count": null,
   "id": "4af90ede-85e9-4ceb-bc2c-06e1a86c0d98",
   "metadata": {
    "editable": true,
    "scrolled": true,
    "slideshow": {
     "slide_type": ""
    },
    "tags": []
   },
   "outputs": [],
   "source": [
    "#run for feature collection (NB needs speeding up...)\n",
    "roi_asset = register_fc_and_set_geo_id(\n",
    "    fc,\n",
    "    geo_id_column,\n",
    "    token,\n",
    "    session,\n",
    "    asset_registry_base,\n",
    "    debug=True\n",
    ")\n",
    "\n",
    "# task = ee.batch.Export.table.toDrive(collection=roi_asset, \n",
    "#                      description=\"Whisp_roi_asset_w_geo_id\", \n",
    "#                      folder=\"Whisp_results\",\n",
    "#                      fileFormat=\"CSV\")\n",
    "\n",
    "# task.start()\n",
    "\n",
    "print (\"done\")"
   ]
  },
  {
   "cell_type": "code",
   "execution_count": null,
   "id": "8ca72d87-eb75-4698-9720-cefa9071165a",
   "metadata": {},
   "outputs": [],
   "source": [
    "roi_asset"
   ]
  },
  {
   "cell_type": "markdown",
   "id": "9e6e6597-97de-4eb8-9afd-991956d614e6",
   "metadata": {},
   "source": [
    "##### Input: polygon feature collection"
   ]
  },
  {
   "cell_type": "code",
   "execution_count": null,
   "id": "ebaefc6b-0c74-4125-beac-97d77e4879c8",
   "metadata": {},
   "outputs": [],
   "source": [
    "geom_1 =ee.Geometry.Polygon(\n",
    "        [[[102.19867776108482, 3.0835809888660344],\n",
    "          [102.1988172359536, 3.082670357801012],\n",
    "          # [102.20001886559227, 3.082078035157836],\n",
    "          # [102.2013385124276, 3.081745922272887],\n",
    "          [102.2014355657636, 3.0825815609469625],\n",
    "          [102.20011591892828, 3.0836528916202233]]],None, False);\n",
    "\n",
    "geom_2 = ee.Geometry.Polygon(\n",
    "        [[[102.18777620396249, 3.079459767638651],\n",
    "          # [102.18831264576546, 3.0785384196951506],\n",
    "          [102.1895786484205, 3.0792026473624907],\n",
    "          [102.18899929127328, 3.08005971470826]]],None, False);\n",
    "\n",
    "feat_1 = ee.Feature(geom_1)\n",
    "feat_2 = ee.Feature(geom_2)"
   ]
  },
  {
   "cell_type": "code",
   "execution_count": null,
   "id": "16e171b0-5515-4110-ac99-4f1da2de4502",
   "metadata": {},
   "outputs": [],
   "source": [
    "fc = ee.FeatureCollection([feat_1,feat_2])"
   ]
  },
  {
   "cell_type": "code",
   "execution_count": null,
   "id": "abfe4901-6253-49c6-bef1-8d4714378421",
   "metadata": {},
   "outputs": [],
   "source": [
    "#run for feature collection (NB needs speeding up..get geo ids then use map over property setting)\n",
    "roi_asset = register_fc_and_set_geo_id(\n",
    "    fc,\n",
    "    geo_id_column,\n",
    "    token,\n",
    "    session,\n",
    "    asset_registry_base,\n",
    "    debug=False\n",
    ")\n"
   ]
  },
  {
   "cell_type": "markdown",
   "id": "6e0018ff-17c1-4751-91fd-c77cd94ec0cc",
   "metadata": {},
   "source": [
    "##### Input: point feature collection"
   ]
  },
  {
   "cell_type": "code",
   "execution_count": null,
   "id": "5f1252a1-d472-4f25-84eb-2fea4e3c197d",
   "metadata": {},
   "outputs": [],
   "source": [
    "#get test points from polygon feature collection (NB functionality for registering points in asset registry coming soon)\n",
    "fc.map(get_centroid)"
   ]
  },
  {
   "cell_type": "code",
   "execution_count": null,
   "id": "1cca7ae4-36e6-4f1b-826c-2d45618c0b21",
   "metadata": {},
   "outputs": [],
   "source": [
    "roi_poly = ee.FeatureCollection(fc.map(get_centroid))"
   ]
  },
  {
   "cell_type": "markdown",
   "id": "f6314d48-89c9-40bb-b2de-7f6e0b775bd6",
   "metadata": {},
   "source": [
    "##### Input: shapefile"
   ]
  },
  {
   "cell_type": "code",
   "execution_count": null,
   "id": "2b073cba-8a24-4c74-9d99-b8f6eeec73fc",
   "metadata": {},
   "outputs": [],
   "source": [
    "# example_shapefile = /path_to/my_shapefile\n",
    "example_shapefile = out_shapefile"
   ]
  },
  {
   "cell_type": "code",
   "execution_count": null,
   "id": "45c4c986-deb5-4283-bda5-e2b043786808",
   "metadata": {
    "scrolled": true
   },
   "outputs": [],
   "source": [
    "roi_shapefile = shapefile_to_ee_feature_collection(example_shapefile)"
   ]
  },
  {
   "cell_type": "markdown",
   "id": "a8f3e036-7a0b-4739-96a4-f83995ce8235",
   "metadata": {},
   "source": [
    "##### Input: drawn feature"
   ]
  },
  {
   "cell_type": "code",
   "execution_count": null,
   "id": "77c5bddd-9487-416f-82dc-b33a8b858695",
   "metadata": {
    "scrolled": true
   },
   "outputs": [],
   "source": [
    "zoom_level =16\n",
    "\n",
    "Map = geemap.Map(center=[6,-4], zoom=zoom_level)\n",
    "\n",
    "# Map.add_basemap(\"Esri.WorldImagery\")# optional basemaps from geemap\n",
    "\n",
    "sc = Sidecar(title='draw polygon')\n",
    "\n",
    "with sc:display(Map)\n",
    "print(\"Draw shape on map before running next cell\")"
   ]
  },
  {
   "cell_type": "code",
   "execution_count": null,
   "id": "49c5bd51-4d87-476d-8316-1ebc68dba5e3",
   "metadata": {},
   "outputs": [],
   "source": [
    "# #NB User input needed: draw boundary (under 400ha) on the map before running this cell\n",
    "# try:\n",
    "#     drawn_feature = (Map.draw_last_feature)\n",
    "#     if drawnMap.addLayer(drawn_feature)\n",
    "# except:\n",
    "#     print(\"No drawn input. Making feature from map bounds instead\") \n",
    "#     drawn_feature = ee.Feature(Map.getBounds({'asGEOJSON':True}))\n",
    "#     Map.addLayer(drawn_feature)\n",
    "# drawn_feature"
   ]
  },
  {
   "cell_type": "code",
   "execution_count": null,
   "id": "73d2b19e-d36c-4336-a7e1-ca722d696aad",
   "metadata": {},
   "outputs": [],
   "source": [
    "#register geo id and add to feature\n",
    "feature_w_geo_id = register_feature_and_set_geo_id(\n",
    "    drawn_feature,\n",
    "    geo_id_column,\n",
    "    token,\n",
    "    session,\n",
    "    asset_registry_base,\n",
    "    debug=True)"
   ]
  },
  {
   "cell_type": "code",
   "execution_count": null,
   "id": "e43641a7-49b8-4eab-9729-d5ad673d42d5",
   "metadata": {},
   "outputs": [],
   "source": [
    "roi_drawn = feature_w_geo_id"
   ]
  },
  {
   "cell_type": "markdown",
   "id": "5fdebaf0-99ec-42d8-97d7-68016ce987f7",
   "metadata": {},
   "source": [
    "#### Get plot boundaries"
   ]
  },
  {
   "cell_type": "code",
   "execution_count": null,
   "id": "0ee159df-7f58-4f2a-ae30-c97e26b8f8fc",
   "metadata": {},
   "outputs": [],
   "source": [
    "#roi = roi_geoid\n",
    "# roi = fc_new#roi_asset\n",
    "#roi = roi_shapefile\n",
    "#roi = roi_polygon\n",
    "#roi = roi_points\n",
    "roi = roi_drawn"
   ]
  },
  {
   "cell_type": "markdown",
   "id": "6ba90193-9bc2-4756-a839-f16c07284e04",
   "metadata": {},
   "source": [
    "### Whisp it"
   ]
  },
  {
   "cell_type": "code",
   "execution_count": null,
   "id": "62b25f9f-6c78-424a-87ae-1025c5088884",
   "metadata": {
    "editable": true,
    "slideshow": {
     "slide_type": ""
    },
    "tags": []
   },
   "outputs": [],
   "source": [
    "df = whisp_alt_stats_as_df(roi)"
   ]
  },
  {
   "cell_type": "markdown",
   "id": "1b7b3539-f9dd-4dc4-84ac-4e043434ae27",
   "metadata": {},
   "source": [
    "### Display it"
   ]
  },
  {
   "cell_type": "code",
   "execution_count": null,
   "id": "f545a427-4a17-49de-84cf-8a48f6512d17",
   "metadata": {},
   "outputs": [],
   "source": [
    "df"
   ]
  },
  {
   "cell_type": "markdown",
   "id": "3b0cec1c-3482-4fe6-b5ac-b60df4b2c4f6",
   "metadata": {},
   "source": [
    "#### Export it to CSV file"
   ]
  },
  {
   "cell_type": "code",
   "execution_count": null,
   "id": "fd56afe0-5480-4eb8-9a7b-e34feb54ae82",
   "metadata": {},
   "outputs": [],
   "source": [
    "#export output csv\n",
    "df.to_csv(path_or_buf=out_file_wide, header=True)\n",
    "\n",
    "print (\"output csv: \", out_file_wide)"
   ]
  },
  {
   "cell_type": "markdown",
   "id": "aefc54bb-990a-4ee4-bd5b-76afebaea7b9",
   "metadata": {},
   "source": [
    "#### Export it to CEO link"
   ]
  },
  {
   "cell_type": "markdown",
   "id": "792d1c59-f0ca-4203-a79c-b06662ca3142",
   "metadata": {},
   "source": [
    "Temporary login details available for demo purposes here: modules/config_ceo.py"
   ]
  },
  {
   "cell_type": "code",
   "execution_count": null,
   "id": "ddc9821a-1255-4eb3-9e70-3c52e801f8e3",
   "metadata": {},
   "outputs": [],
   "source": [
    "ceo_url = whisp_stats_shapefile_and_ceo_url(roi, df, plot_id_column, out_shapefile)\n",
    "\n",
    "print('CEO URL:', ceo_url) "
   ]
  },
  {
   "cell_type": "code",
   "execution_count": null,
   "id": "2ff60be7-1744-40c2-b7ad-e060591de998",
   "metadata": {},
   "outputs": [],
   "source": []
  }
 ],
 "metadata": {
  "kernelspec": {
   "display_name": "Python 3",
   "language": "python",
   "name": "python3"
  },
  "language_info": {
   "codemirror_mode": {
    "name": "ipython",
    "version": 3
   },
   "file_extension": ".py",
   "mimetype": "text/x-python",
   "name": "python",
   "nbconvert_exporter": "python",
   "pygments_lexer": "ipython3",
   "version": "3.10.12"
  }
 },
 "nbformat": 4,
 "nbformat_minor": 5
}
