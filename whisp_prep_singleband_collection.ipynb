{
 "cells": [
  {
   "cell_type": "markdown",
   "id": "aa0cd457-8e49-4d31-83d1-75d60f6adb24",
   "metadata": {},
   "source": [
    "## Process public and relevant datasets"
   ]
  },
  {
   "cell_type": "markdown",
   "id": "24e78804",
   "metadata": {
    "tags": []
   },
   "source": [
    "### 1. Imports"
   ]
  },
  {
   "cell_type": "code",
   "execution_count": 1,
   "id": "bf2e1318",
   "metadata": {
    "tags": []
   },
   "outputs": [
    {
     "name": "stdout",
     "output_type": "stream",
     "text": [
      "Earth Engine has been initialized with the specified credentials.\n",
      "imports complete\n"
     ]
    }
   ],
   "source": [
    "import json\n",
    "import ee\n",
    "import geemap\n",
    "import folium ###\n",
    "import os\n",
    "import pandas as pd\n",
    "import geopandas as gpd\n",
    "import numpy as np\n",
    "import time\n",
    "import math ###\n",
    "import geojson \n",
    "from datetime import datetime ###\n",
    "from sidecar import Sidecar ###\n",
    "\n",
    "from modules.gee_initialize import initialize_ee \n",
    "\n",
    "initialize_ee()\n",
    "\n",
    "from modules.json_to_ee import json_to_feature_with_id ###\n",
    "# from modules.agstack_setup import start_agstack_session ###\n",
    "import modules.agstack_to_gee as agstack_to_gee ###\n",
    "import modules.area_stats as area_stats\n",
    "from modules.country_allocation import find_country_from_modal_stats\n",
    "import modules.tidy_tables as tidy_tables\n",
    "\n",
    "from parameters import * # NB for run-specific parameters edit \"parameters/config_runtime\"\n",
    "\n",
    "from modules.file_to_ceo import get_ceo_url ###\n",
    "from modules.image_prep import export_image_collection_to_asset, add_multi_lookup_properties_to_image_collection\n",
    "from modules.image_prep import add_multi_lookup_properties_to_image_collection\n",
    "from parameters.config_lookups import lookup_gee_datasets\n",
    "\n",
    "print (\"imports complete\")"
   ]
  },
  {
   "cell_type": "markdown",
   "id": "749c76fb-f3ba-43cf-a918-4f6d09e43a7e",
   "metadata": {
    "tags": []
   },
   "source": [
    "### 2. Call and process datasets"
   ]
  },
  {
   "cell_type": "code",
   "execution_count": 2,
   "id": "aae98294-9c98-4b31-b44a-c617f3613228",
   "metadata": {
    "tags": []
   },
   "outputs": [
    {
     "data": {
      "text/html": [
       "\n",
       "            <style>\n",
       "                .geemap-dark {\n",
       "                    --jp-widgets-color: white;\n",
       "                    --jp-widgets-label-color: white;\n",
       "                    --jp-ui-font-color1: white;\n",
       "                    --jp-layout-color2: #454545;\n",
       "                    background-color: #383838;\n",
       "                }\n",
       "                    \n",
       "                .geemap-dark .jupyter-button {\n",
       "                    --jp-layout-color3: #383838;\n",
       "                }\n",
       "                \n",
       "                .geemap-colab {\n",
       "                    background-color: var(--colab-primary-surface-color, white);\n",
       "                }\n",
       "                    \n",
       "                .geemap-colab .jupyter-button {\n",
       "                    --jp-layout-color3: var(--colab-primary-surface-color, white);\n",
       "                }\n",
       "            </style>\n",
       "            "
      ],
      "text/plain": [
       "<IPython.core.display.HTML object>"
      ]
     },
     "metadata": {},
     "output_type": "display_data"
    },
    {
     "name": "stdout",
     "output_type": "stream",
     "text": [
      "compiling image collection on the fly...\n",
      "scale (m):  27.829872698318393\n",
      "scale (m):  10\n",
      "scale (m):  9.276624232772797\n",
      "scale (m):  10\n",
      "scale (m):  10.080003101582253\n",
      "scale (m):  27.829872698318393\n",
      "scale (m):  10\n",
      "scale (m):  27.829872698318393\n",
      "scale (m):  27.829872698318393\n",
      "scale (m):  27.829872698318393\n",
      "scale (m):  27.829872698318393\n",
      "scale (m):  24.73766462072746\n",
      "scale (m):  10\n",
      "scale (m):  30.000000000000004\n",
      "scale (m):  30.000000000000004\n",
      "scale (m):  30.000000000000004\n",
      "scale (m):  27.829872698318393\n",
      "scale (m):  27.829872698318393\n",
      "scale (m):  10\n"
     ]
    },
    {
     "ename": "EEException",
     "evalue": "Collection.loadTable: Collection asset 'WCMC/WDPA/current/polygons' not found.",
     "output_type": "error",
     "traceback": [
      "\u001b[0;31m---------------------------------------------------------------------------\u001b[0m",
      "\u001b[0;31mHttpError\u001b[0m                                 Traceback (most recent call last)",
      "File \u001b[0;32m/usr/local/lib/python3.10/dist-packages/ee/data.py:390\u001b[0m, in \u001b[0;36m_execute_cloud_call\u001b[0;34m(call, num_retries)\u001b[0m\n\u001b[1;32m    389\u001b[0m \u001b[38;5;28;01mtry\u001b[39;00m:\n\u001b[0;32m--> 390\u001b[0m   \u001b[38;5;28;01mreturn\u001b[39;00m \u001b[43mcall\u001b[49m\u001b[38;5;241;43m.\u001b[39;49m\u001b[43mexecute\u001b[49m\u001b[43m(\u001b[49m\u001b[43mnum_retries\u001b[49m\u001b[38;5;241;43m=\u001b[39;49m\u001b[43mnum_retries\u001b[49m\u001b[43m)\u001b[49m\n\u001b[1;32m    391\u001b[0m \u001b[38;5;28;01mexcept\u001b[39;00m googleapiclient\u001b[38;5;241m.\u001b[39merrors\u001b[38;5;241m.\u001b[39mHttpError \u001b[38;5;28;01mas\u001b[39;00m e:\n",
      "File \u001b[0;32m/usr/local/lib/python3.10/dist-packages/googleapiclient/_helpers.py:134\u001b[0m, in \u001b[0;36mpositional.<locals>.positional_decorator.<locals>.positional_wrapper\u001b[0;34m(*args, **kwargs)\u001b[0m\n\u001b[1;32m    133\u001b[0m         logger\u001b[38;5;241m.\u001b[39mwarning(message)\n\u001b[0;32m--> 134\u001b[0m \u001b[38;5;28;01mreturn\u001b[39;00m \u001b[43mwrapped\u001b[49m\u001b[43m(\u001b[49m\u001b[38;5;241;43m*\u001b[39;49m\u001b[43margs\u001b[49m\u001b[43m,\u001b[49m\u001b[43m \u001b[49m\u001b[38;5;241;43m*\u001b[39;49m\u001b[38;5;241;43m*\u001b[39;49m\u001b[43mkwargs\u001b[49m\u001b[43m)\u001b[49m\n",
      "File \u001b[0;32m/usr/local/lib/python3.10/dist-packages/googleapiclient/http.py:915\u001b[0m, in \u001b[0;36mHttpRequest.execute\u001b[0;34m(self, http, num_retries)\u001b[0m\n\u001b[1;32m    914\u001b[0m \u001b[38;5;28;01mif\u001b[39;00m resp\u001b[38;5;241m.\u001b[39mstatus \u001b[38;5;241m>\u001b[39m\u001b[38;5;241m=\u001b[39m \u001b[38;5;241m300\u001b[39m:\n\u001b[0;32m--> 915\u001b[0m     \u001b[38;5;28;01mraise\u001b[39;00m HttpError(resp, content, uri\u001b[38;5;241m=\u001b[39m\u001b[38;5;28mself\u001b[39m\u001b[38;5;241m.\u001b[39muri)\n\u001b[1;32m    916\u001b[0m \u001b[38;5;28;01mreturn\u001b[39;00m \u001b[38;5;28mself\u001b[39m\u001b[38;5;241m.\u001b[39mpostproc(resp, content)\n",
      "\u001b[0;31mHttpError\u001b[0m: <HttpError 400 when requesting https://earthengine.googleapis.com/v1/projects/ee-andyarnellgee/value:compute?prettyPrint=false&alt=json returned \"Collection.loadTable: Collection asset 'WCMC/WDPA/current/polygons' not found.\". Details: \"Collection.loadTable: Collection asset 'WCMC/WDPA/current/polygons' not found.\">",
      "\nDuring handling of the above exception, another exception occurred:\n",
      "\u001b[0;31mEEException\u001b[0m                               Traceback (most recent call last)",
      "Cell \u001b[0;32mIn[2], line 6\u001b[0m\n\u001b[1;32m      4\u001b[0m \u001b[38;5;28;01melse\u001b[39;00m:\n\u001b[1;32m      5\u001b[0m     \u001b[38;5;28mprint\u001b[39m (\u001b[38;5;124m\"\u001b[39m\u001b[38;5;124mcompiling image collection on the fly...\u001b[39m\u001b[38;5;124m\"\u001b[39m)\n\u001b[0;32m----> 6\u001b[0m     \u001b[38;5;28;01mfrom\u001b[39;00m \u001b[38;5;21;01mdatasets\u001b[39;00m\u001b[38;5;21;01m.\u001b[39;00m\u001b[38;5;21;01mcombining_datasets\u001b[39;00m \u001b[38;5;28;01mimport\u001b[39;00m images_iCol\n",
      "File \u001b[0;32m~/whisp/datasets/combining_datasets.py:54\u001b[0m\n\u001b[1;32m     24\u001b[0m image_function_list \u001b[38;5;241m=\u001b[39m ee\u001b[38;5;241m.\u001b[39mList([\n\u001b[1;32m     25\u001b[0m          birdlife_kbas_biodiversity_prep(dataset_id\u001b[38;5;241m=\u001b[39m\u001b[38;5;241m15\u001b[39m, \n\u001b[1;32m     26\u001b[0m                                          template_image\u001b[38;5;241m=\u001b[39mtemplate_image_1),\n\u001b[0;32m   (...)\u001b[0m\n\u001b[1;32m     49\u001b[0m \n\u001b[1;32m     50\u001b[0m ])\n\u001b[1;32m     52\u001b[0m image_IC_binary \u001b[38;5;241m=\u001b[39m ee\u001b[38;5;241m.\u001b[39mImageCollection(image_function_list)\n\u001b[0;32m---> 54\u001b[0m \u001b[38;5;28;01mif\u001b[39;00m debug: \u001b[38;5;28mprint\u001b[39m (\u001b[38;5;124m\"\u001b[39m\u001b[38;5;124mdataset_ids in image_IC_binary collection:\u001b[39m\u001b[38;5;124m\"\u001b[39m, \u001b[43mimage_IC_binary\u001b[49m\u001b[38;5;241;43m.\u001b[39;49m\u001b[43maggregate_array\u001b[49m\u001b[43m(\u001b[49m\u001b[38;5;124;43m\"\u001b[39;49m\u001b[38;5;124;43mdataset_id\u001b[39;49m\u001b[38;5;124;43m\"\u001b[39;49m\u001b[43m)\u001b[49m\u001b[38;5;241;43m.\u001b[39;49m\u001b[43mgetInfo\u001b[49m\u001b[43m(\u001b[49m\u001b[43m)\u001b[49m)\n\u001b[1;32m     56\u001b[0m images_iCol \u001b[38;5;241m=\u001b[39m area_stats\u001b[38;5;241m.\u001b[39mimage_coll_binary_to_area_w_properties_w_exceptions(\n\u001b[1;32m     57\u001b[0m     image_collection\u001b[38;5;241m=\u001b[39mimage_IC_binary,\n\u001b[1;32m     58\u001b[0m     exception_dataset_id_list\u001b[38;5;241m=\u001b[39mcountry_allocation_dataset_id_list,\n\u001b[1;32m     59\u001b[0m     debug\u001b[38;5;241m=\u001b[39mdebug)\n",
      "File \u001b[0;32m/usr/local/lib/python3.10/dist-packages/ee/computedobject.py:108\u001b[0m, in \u001b[0;36mComputedObject.getInfo\u001b[0;34m(self)\u001b[0m\n\u001b[1;32m    102\u001b[0m \u001b[38;5;28;01mdef\u001b[39;00m \u001b[38;5;21mgetInfo\u001b[39m(\u001b[38;5;28mself\u001b[39m) \u001b[38;5;241m-\u001b[39m\u001b[38;5;241m>\u001b[39m Optional[Any]:\n\u001b[1;32m    103\u001b[0m \u001b[38;5;250m  \u001b[39m\u001b[38;5;124;03m\"\"\"Fetch and return information about this object.\u001b[39;00m\n\u001b[1;32m    104\u001b[0m \n\u001b[1;32m    105\u001b[0m \u001b[38;5;124;03m  Returns:\u001b[39;00m\n\u001b[1;32m    106\u001b[0m \u001b[38;5;124;03m    The object can evaluate to anything.\u001b[39;00m\n\u001b[1;32m    107\u001b[0m \u001b[38;5;124;03m  \"\"\"\u001b[39;00m\n\u001b[0;32m--> 108\u001b[0m   \u001b[38;5;28;01mreturn\u001b[39;00m \u001b[43mdata\u001b[49m\u001b[38;5;241;43m.\u001b[39;49m\u001b[43mcomputeValue\u001b[49m\u001b[43m(\u001b[49m\u001b[38;5;28;43mself\u001b[39;49m\u001b[43m)\u001b[49m\n",
      "File \u001b[0;32m/usr/local/lib/python3.10/dist-packages/ee/data.py:1089\u001b[0m, in \u001b[0;36mcomputeValue\u001b[0;34m(obj)\u001b[0m\n\u001b[1;32m   1086\u001b[0m body \u001b[38;5;241m=\u001b[39m {\u001b[38;5;124m'\u001b[39m\u001b[38;5;124mexpression\u001b[39m\u001b[38;5;124m'\u001b[39m: serializer\u001b[38;5;241m.\u001b[39mencode(obj, for_cloud_api\u001b[38;5;241m=\u001b[39m\u001b[38;5;28;01mTrue\u001b[39;00m)}\n\u001b[1;32m   1087\u001b[0m _maybe_populate_workload_tag(body)\n\u001b[0;32m-> 1089\u001b[0m \u001b[38;5;28;01mreturn\u001b[39;00m \u001b[43m_execute_cloud_call\u001b[49m\u001b[43m(\u001b[49m\n\u001b[1;32m   1090\u001b[0m \u001b[43m    \u001b[49m\u001b[43m_get_cloud_projects\u001b[49m\u001b[43m(\u001b[49m\u001b[43m)\u001b[49m\n\u001b[1;32m   1091\u001b[0m \u001b[43m    \u001b[49m\u001b[38;5;241;43m.\u001b[39;49m\u001b[43mvalue\u001b[49m\u001b[43m(\u001b[49m\u001b[43m)\u001b[49m\n\u001b[1;32m   1092\u001b[0m \u001b[43m    \u001b[49m\u001b[38;5;241;43m.\u001b[39;49m\u001b[43mcompute\u001b[49m\u001b[43m(\u001b[49m\u001b[43mbody\u001b[49m\u001b[38;5;241;43m=\u001b[39;49m\u001b[43mbody\u001b[49m\u001b[43m,\u001b[49m\u001b[43m \u001b[49m\u001b[43mproject\u001b[49m\u001b[38;5;241;43m=\u001b[39;49m\u001b[43m_get_projects_path\u001b[49m\u001b[43m(\u001b[49m\u001b[43m)\u001b[49m\u001b[43m,\u001b[49m\u001b[43m \u001b[49m\u001b[43mprettyPrint\u001b[49m\u001b[38;5;241;43m=\u001b[39;49m\u001b[38;5;28;43;01mFalse\u001b[39;49;00m\u001b[43m)\u001b[49m\n\u001b[1;32m   1093\u001b[0m \u001b[43m\u001b[49m\u001b[43m)\u001b[49m[\u001b[38;5;124m'\u001b[39m\u001b[38;5;124mresult\u001b[39m\u001b[38;5;124m'\u001b[39m]\n",
      "File \u001b[0;32m/usr/local/lib/python3.10/dist-packages/ee/data.py:392\u001b[0m, in \u001b[0;36m_execute_cloud_call\u001b[0;34m(call, num_retries)\u001b[0m\n\u001b[1;32m    390\u001b[0m   \u001b[38;5;28;01mreturn\u001b[39;00m call\u001b[38;5;241m.\u001b[39mexecute(num_retries\u001b[38;5;241m=\u001b[39mnum_retries)\n\u001b[1;32m    391\u001b[0m \u001b[38;5;28;01mexcept\u001b[39;00m googleapiclient\u001b[38;5;241m.\u001b[39merrors\u001b[38;5;241m.\u001b[39mHttpError \u001b[38;5;28;01mas\u001b[39;00m e:\n\u001b[0;32m--> 392\u001b[0m   \u001b[38;5;28;01mraise\u001b[39;00m _translate_cloud_exception(e)\n",
      "\u001b[0;31mEEException\u001b[0m: Collection.loadTable: Collection asset 'WCMC/WDPA/current/polygons' not found."
     ]
    }
   ],
   "source": [
    "if use_existing_image_collection:\n",
    "    images_iCol = ee.ImageCollection(target_image_col_id) \n",
    "    print (\"using existing image collection asset\")\n",
    "else:\n",
    "    print (\"compiling image collection on the fly...\")\n",
    "    from datasets.combining_datasets import images_iCol"
   ]
  },
  {
   "cell_type": "code",
   "execution_count": null,
   "id": "80b224a1-3f9f-49f2-8506-784ae80e609e",
   "metadata": {},
   "outputs": [],
   "source": [
    "## get lists from lookup for different streams of processing\n",
    "from  dataset_properties.make_processing_lists_from_lookup import buffer_stats_list,\\\n",
    "                                                                  presence_only_flag_list,\\\n",
    "                                                                  country_allocation_stats_only_list, \\\n",
    "                                                                  plot_stats_list, \\\n",
    "                                                                  decimal_place_column_list\n",
    "if debug: print (\"processed\")"
   ]
  },
  {
   "cell_type": "code",
   "execution_count": null,
   "id": "7fc2a7ed-8488-4681-a965-6b6a92195915",
   "metadata": {},
   "outputs": [],
   "source": [
    "#filtering to remove images in exclusion list (from parameters.config_runtime), useful if dont want certain datasets\n",
    "images_iCol_filt = images_iCol.filter(ee.Filter.inList(\"dataset_id\",exclusion_list_dataset_ids).Not())\n",
    "if debug: print (\"excluding dataset ids: \", exclusion_list_dataset_ids)"
   ]
  },
  {
   "cell_type": "code",
   "execution_count": null,
   "id": "71b7c188-274c-4efa-8ffd-d666388b9234",
   "metadata": {},
   "outputs": [],
   "source": [
    "if update_iCol_properties ==True or use_existing_image_collection == False:\n",
    "    images_iCol_w_properties = add_multi_lookup_properties_to_image_collection(images_iCol_filt,\"dataset_id\",\n",
    "                                                            lookup_gee_datasets, \"dataset_id\",\n",
    "                                                            \"dataset_name\",\"system:index\",\n",
    "                                                            \"dataset_order\",\"dataset_order\",\n",
    "                                                            \"country_allocation_stats_only\",\"country_allocation_stats_only\")\n",
    "    images_iCol_filt = images_iCol_w_properties\n",
    "    if debug: print (\"properties added/updated\")"
   ]
  }
 ],
 "metadata": {
  "kernelspec": {
   "display_name": "Python 3",
   "language": "python",
   "name": "python3"
  },
  "language_info": {
   "codemirror_mode": {
    "name": "ipython",
    "version": 3
   },
   "file_extension": ".py",
   "mimetype": "text/x-python",
   "name": "python",
   "nbconvert_exporter": "python",
   "pygments_lexer": "ipython3",
   "version": "3.10.12"
  },
  "vscode": {
   "interpreter": {
    "hash": "31f2aee4e71d21fbe5cf8b01ff0e069b9275f58929596ceb00d14d90e3e16cd6"
   }
  }
 },
 "nbformat": 4,
 "nbformat_minor": 5
}
