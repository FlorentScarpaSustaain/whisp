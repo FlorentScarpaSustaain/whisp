{
 "cells": [
  {
   "cell_type": "markdown",
   "id": "aa0cd457-8e49-4d31-83d1-75d60f6adb24",
   "metadata": {},
   "source": [
    "## Process public and relevant datasets"
   ]
  },
  {
   "cell_type": "markdown",
   "id": "24e78804",
   "metadata": {
    "tags": []
   },
   "source": [
    "### 1. Imports"
   ]
  },
  {
   "cell_type": "code",
   "execution_count": 6,
   "id": "bf2e1318",
   "metadata": {
    "tags": []
   },
   "outputs": [
    {
     "data": {
      "text/html": [
       "\n",
       "            <style>\n",
       "                .geemap-dark {\n",
       "                    --jp-widgets-color: white;\n",
       "                    --jp-widgets-label-color: white;\n",
       "                    --jp-ui-font-color1: white;\n",
       "                    --jp-layout-color2: #454545;\n",
       "                    background-color: #383838;\n",
       "                }\n",
       "                    \n",
       "                .geemap-dark .jupyter-button {\n",
       "                    --jp-layout-color3: #383838;\n",
       "                }\n",
       "                \n",
       "                .geemap-colab {\n",
       "                    background-color: var(--colab-primary-surface-color, white);\n",
       "                }\n",
       "                    \n",
       "                .geemap-colab .jupyter-button {\n",
       "                    --jp-layout-color3: var(--colab-primary-surface-color, white);\n",
       "                }\n",
       "            </style>\n",
       "            "
      ],
      "text/plain": [
       "<IPython.core.display.HTML object>"
      ]
     },
     "metadata": {},
     "output_type": "display_data"
    },
    {
     "name": "stdout",
     "output_type": "stream",
     "text": [
      "imports complete\n"
     ]
    }
   ],
   "source": [
    "import json\n",
    "import ee\n",
    "import geemap\n",
    "import folium ###\n",
    "import os\n",
    "import pandas as pd\n",
    "import geopandas as gpd\n",
    "import numpy as np\n",
    "import time\n",
    "import math ###\n",
    "import geojson \n",
    "from datetime import datetime ###\n",
    "from sidecar import Sidecar ###\n",
    "\n",
    "from modules.gee_initialize import initialize_ee \n",
    "\n",
    "initialize_ee()\n",
    "\n",
    "from modules.json_to_ee import json_to_feature_with_id ###\n",
    "# from modules.agstack_setup import start_agstack_session ###\n",
    "import modules.agstack_to_gee as agstack_to_gee ###\n",
    "import modules.area_stats as area_stats\n",
    "from modules.country_allocation import find_country_from_modal_stats\n",
    "import modules.tidy_tables as tidy_tables\n",
    "\n",
    "from parameters import * # NB for run-specific parameters edit \"parameters/config_runtime\"\n",
    "\n",
    "from modules.file_to_ceo import get_ceo_url ###\n",
    "from modules.image_prep import export_image_collection_to_asset, add_multi_lookup_properties_to_image_collection\n",
    "from modules.image_prep import add_multi_lookup_properties_to_image_collection\n",
    "from parameters.config_lookups import lookup_gee_datasets\n",
    "\n",
    "print (\"imports complete\")"
   ]
  },
  {
   "cell_type": "markdown",
   "id": "749c76fb-f3ba-43cf-a918-4f6d09e43a7e",
   "metadata": {
    "tags": []
   },
   "source": [
    "### 2. Call and process datasets"
   ]
  },
  {
   "cell_type": "code",
   "execution_count": 7,
   "id": "aae98294-9c98-4b31-b44a-c617f3613228",
   "metadata": {
    "tags": []
   },
   "outputs": [
    {
     "data": {
      "text/html": [
       "\n",
       "            <style>\n",
       "                .geemap-dark {\n",
       "                    --jp-widgets-color: white;\n",
       "                    --jp-widgets-label-color: white;\n",
       "                    --jp-ui-font-color1: white;\n",
       "                    --jp-layout-color2: #454545;\n",
       "                    background-color: #383838;\n",
       "                }\n",
       "                    \n",
       "                .geemap-dark .jupyter-button {\n",
       "                    --jp-layout-color3: #383838;\n",
       "                }\n",
       "                \n",
       "                .geemap-colab {\n",
       "                    background-color: var(--colab-primary-surface-color, white);\n",
       "                }\n",
       "                    \n",
       "                .geemap-colab .jupyter-button {\n",
       "                    --jp-layout-color3: var(--colab-primary-surface-color, white);\n",
       "                }\n",
       "            </style>\n",
       "            "
      ],
      "text/plain": [
       "<IPython.core.display.HTML object>"
      ]
     },
     "metadata": {},
     "output_type": "display_data"
    },
    {
     "name": "stdout",
     "output_type": "stream",
     "text": [
      "compiling image collection on the fly...\n"
     ]
    }
   ],
   "source": [
    "if use_existing_image_collection:\n",
    "    images_iCol = ee.ImageCollection(target_image_col_id) \n",
    "    print (\"using existing image collection asset\")\n",
    "else:\n",
    "    print (\"compiling image collection on the fly...\")\n",
    "    from datasets.combining_datasets import images_iCol"
   ]
  },
  {
   "cell_type": "code",
   "execution_count": 3,
   "id": "80b224a1-3f9f-49f2-8506-784ae80e609e",
   "metadata": {},
   "outputs": [
    {
     "data": {
      "text/html": [
       "\n",
       "            <style>\n",
       "                .geemap-dark {\n",
       "                    --jp-widgets-color: white;\n",
       "                    --jp-widgets-label-color: white;\n",
       "                    --jp-ui-font-color1: white;\n",
       "                    --jp-layout-color2: #454545;\n",
       "                    background-color: #383838;\n",
       "                }\n",
       "                    \n",
       "                .geemap-dark .jupyter-button {\n",
       "                    --jp-layout-color3: #383838;\n",
       "                }\n",
       "                \n",
       "                .geemap-colab {\n",
       "                    background-color: var(--colab-primary-surface-color, white);\n",
       "                }\n",
       "                    \n",
       "                .geemap-colab .jupyter-button {\n",
       "                    --jp-layout-color3: var(--colab-primary-surface-color, white);\n",
       "                }\n",
       "            </style>\n",
       "            "
      ],
      "text/plain": [
       "<IPython.core.display.HTML object>"
      ]
     },
     "metadata": {},
     "output_type": "display_data"
    },
    {
     "name": "stdout",
     "output_type": "stream",
     "text": [
      "processed\n"
     ]
    }
   ],
   "source": [
    "## get lists from lookup for different streams of processing\n",
    "from  dataset_properties.make_processing_lists_from_lookup import buffer_stats_list,\\\n",
    "                                                                  presence_only_flag_list,\\\n",
    "                                                                  country_allocation_stats_only_list, \\\n",
    "                                                                  plot_stats_list, \\\n",
    "                                                                  decimal_place_column_list\n",
    "if debug: print (\"processed\")"
   ]
  },
  {
   "cell_type": "code",
   "execution_count": 4,
   "id": "7fc2a7ed-8488-4681-a965-6b6a92195915",
   "metadata": {},
   "outputs": [
    {
     "data": {
      "text/html": [
       "\n",
       "            <style>\n",
       "                .geemap-dark {\n",
       "                    --jp-widgets-color: white;\n",
       "                    --jp-widgets-label-color: white;\n",
       "                    --jp-ui-font-color1: white;\n",
       "                    --jp-layout-color2: #454545;\n",
       "                    background-color: #383838;\n",
       "                }\n",
       "                    \n",
       "                .geemap-dark .jupyter-button {\n",
       "                    --jp-layout-color3: #383838;\n",
       "                }\n",
       "                \n",
       "                .geemap-colab {\n",
       "                    background-color: var(--colab-primary-surface-color, white);\n",
       "                }\n",
       "                    \n",
       "                .geemap-colab .jupyter-button {\n",
       "                    --jp-layout-color3: var(--colab-primary-surface-color, white);\n",
       "                }\n",
       "            </style>\n",
       "            "
      ],
      "text/plain": [
       "<IPython.core.display.HTML object>"
      ]
     },
     "metadata": {},
     "output_type": "display_data"
    },
    {
     "name": "stdout",
     "output_type": "stream",
     "text": [
      "excluding dataset ids:  [2, 14, 15, 16]\n"
     ]
    }
   ],
   "source": [
    "#filtering to remove images in exclusion list (from parameters.config_runtime), useful if dont want certain datasets\n",
    "images_iCol_filt = images_iCol.filter(ee.Filter.inList(\"dataset_id\",exclusion_list_dataset_ids).Not())\n",
    "if debug: print (\"excluding dataset ids: \", exclusion_list_dataset_ids)"
   ]
  },
  {
   "cell_type": "code",
   "execution_count": 5,
   "id": "71b7c188-274c-4efa-8ffd-d666388b9234",
   "metadata": {},
   "outputs": [
    {
     "data": {
      "text/html": [
       "\n",
       "            <style>\n",
       "                .geemap-dark {\n",
       "                    --jp-widgets-color: white;\n",
       "                    --jp-widgets-label-color: white;\n",
       "                    --jp-ui-font-color1: white;\n",
       "                    --jp-layout-color2: #454545;\n",
       "                    background-color: #383838;\n",
       "                }\n",
       "                    \n",
       "                .geemap-dark .jupyter-button {\n",
       "                    --jp-layout-color3: #383838;\n",
       "                }\n",
       "                \n",
       "                .geemap-colab {\n",
       "                    background-color: var(--colab-primary-surface-color, white);\n",
       "                }\n",
       "                    \n",
       "                .geemap-colab .jupyter-button {\n",
       "                    --jp-layout-color3: var(--colab-primary-surface-color, white);\n",
       "                }\n",
       "            </style>\n",
       "            "
      ],
      "text/plain": [
       "<IPython.core.display.HTML object>"
      ]
     },
     "metadata": {},
     "output_type": "display_data"
    },
    {
     "name": "stdout",
     "output_type": "stream",
     "text": [
      "properties added/updated\n"
     ]
    }
   ],
   "source": [
    "if update_iCol_properties ==True or use_existing_image_collection == False:\n",
    "    images_iCol_w_properties = add_multi_lookup_properties_to_image_collection(images_iCol_filt,\"dataset_id\",\n",
    "                                                            lookup_gee_datasets, \"dataset_id\",\n",
    "                                                            \"dataset_name\",\"system:index\",\n",
    "                                                            \"dataset_order\",\"dataset_order\",\n",
    "                                                            \"country_allocation_stats_only\",\"country_allocation_stats_only\")\n",
    "    images_iCol_filt = images_iCol_w_properties\n",
    "    if debug: print (\"properties added/updated\")"
   ]
  },
  {
   "cell_type": "code",
   "execution_count": null,
   "id": "5e277685-0737-4edc-b1d0-d1c61a989f42",
   "metadata": {},
   "outputs": [],
   "source": []
  }
 ],
 "metadata": {
  "kernelspec": {
   "display_name": "Python 3",
   "language": "python",
   "name": "python3"
  },
  "language_info": {
   "codemirror_mode": {
    "name": "ipython",
    "version": 3
   },
   "file_extension": ".py",
   "mimetype": "text/x-python",
   "name": "python",
   "nbconvert_exporter": "python",
   "pygments_lexer": "ipython3",
   "version": "3.10.12"
  },
  "vscode": {
   "interpreter": {
    "hash": "31f2aee4e71d21fbe5cf8b01ff0e069b9275f58929596ceb00d14d90e3e16cd6"
   }
  }
 },
 "nbformat": 4,
 "nbformat_minor": 5
}
