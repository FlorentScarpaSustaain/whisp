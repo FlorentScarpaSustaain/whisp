{
 "cells": [
  {
   "cell_type": "markdown",
   "id": "24e78804",
   "metadata": {
    "tags": []
   },
   "source": [
    "# Imports"
   ]
  },
  {
   "cell_type": "code",
   "execution_count": 217,
   "id": "bf2e1318",
   "metadata": {
    "tags": []
   },
   "outputs": [
    {
     "name": "stdout",
     "output_type": "stream",
     "text": [
      "imports complete\n"
     ]
    }
   ],
   "source": [
    "import requests\n",
    "import json\n",
    "import ee\n",
    "import geemap\n",
    "import folium\n",
    "import os\n",
    "import pandas as pd\n",
    "import glob\n",
    "import time\n",
    "import math\n",
    "import numpy as np\n",
    "from datetime import datetime\n",
    "\n",
    "import modules.agstack_to_gee as agstack_to_gee\n",
    "import modules.area_stats as area_stats\n",
    "import modules.tidy_tables as tidy_tables\n",
    "\n",
    "print (\"imports complete\")"
   ]
  },
  {
   "cell_type": "code",
   "execution_count": 218,
   "id": "5ae87ed9-f4e4-4a98-81df-e66e17aa77f1",
   "metadata": {
    "tags": []
   },
   "outputs": [],
   "source": [
    "ee.Initialize()"
   ]
  },
  {
   "cell_type": "markdown",
   "id": "fc8267ca-28e5-4d62-b982-dfbe9f727392",
   "metadata": {
    "tags": []
   },
   "source": [
    "### Parameters"
   ]
  },
  {
   "cell_type": "markdown",
   "id": "ae42dc14",
   "metadata": {},
   "source": [
    "Web app deployed URLs"
   ]
  },
  {
   "cell_type": "code",
   "execution_count": 219,
   "id": "998b8727",
   "metadata": {
    "tags": []
   },
   "outputs": [],
   "source": [
    "asset_registry_base = \"https://api-ar.agstack.org\"\n",
    "user_registry_base = \"https://user-registry.agstack.org\""
   ]
  },
  {
   "cell_type": "markdown",
   "id": "33160081",
   "metadata": {
    "tags": []
   },
   "source": [
    "Add your email and password to register with Agstack and test out the APIs"
   ]
  },
  {
   "cell_type": "code",
   "execution_count": 220,
   "id": "05cfa011",
   "metadata": {
    "tags": []
   },
   "outputs": [],
   "source": [
    "from parameters.config_asr_credentials import *"
   ]
  },
  {
   "cell_type": "markdown",
   "id": "061bec2b-4fb5-4c0d-8de6-a4a54ec158ee",
   "metadata": {
    "tags": []
   },
   "source": [
    "Input and output: naming file paths and columns"
   ]
  },
  {
   "cell_type": "code",
   "execution_count": 221,
   "id": "79a40602-91ad-4768-891c-ef509a2d0780",
   "metadata": {
    "tags": []
   },
   "outputs": [],
   "source": [
    "from parameters.config_output_naming import *"
   ]
  },
  {
   "cell_type": "markdown",
   "id": "aff85919-ddc7-43ea-af43-7a5d3037d508",
   "metadata": {
    "tags": []
   },
   "source": [
    "Local deforestation alerts and local buffer parameters"
   ]
  },
  {
   "cell_type": "code",
   "execution_count": 222,
   "id": "067a37a0-3ec0-461b-9f24-f542fe2688de",
   "metadata": {
    "tags": []
   },
   "outputs": [],
   "source": [
    "from parameters.config_radd_alerts import *"
   ]
  },
  {
   "cell_type": "markdown",
   "id": "08c88b78-94ae-4bfe-b9d1-69392e529c47",
   "metadata": {},
   "source": [
    "Optional parameters for defining random polygons"
   ]
  },
  {
   "cell_type": "code",
   "execution_count": 223,
   "id": "8c5b42a0-7987-478c-86f0-dea7e5424eff",
   "metadata": {
    "tags": []
   },
   "outputs": [],
   "source": [
    "from parameters.config_random_features  import *"
   ]
  },
  {
   "cell_type": "markdown",
   "id": "749c76fb-f3ba-43cf-a918-4f6d09e43a7e",
   "metadata": {
    "tags": []
   },
   "source": [
    "### 1. Grab datasets\n"
   ]
  },
  {
   "cell_type": "code",
   "execution_count": 224,
   "id": "aae98294-9c98-4b31-b44a-c617f3613228",
   "metadata": {
    "tags": []
   },
   "outputs": [
    {
     "name": "stdout",
     "output_type": "stream",
     "text": [
      "starting image prep...\n",
      "image prep complete\n",
      "Total execution time: 0.0009133815765380859 seconds\n"
     ]
    }
   ],
   "source": [
    "st = time.time()\n",
    "if debug: print (\"starting image prep...\")\n",
    "\n",
    "from gee.glad_gfc import * #need to create a template\n",
    "from gee.glad_lulc import *\n",
    "from gee.glad_pht import *\n",
    "from gee.birdlife_kbas_biodiversity import *\n",
    "from gee.creaf_descals_palm import *\n",
    "from gee.esri_lulc import *\n",
    "from gee.eth_kalischek_cocoa import *\n",
    "from gee.fao_gaul_countries import *\n",
    "from gee.fdap_palm import *\n",
    "from gee.jaxa_forest import *\n",
    "from gee.jrc_tmf import *\n",
    "from gee.wcmc_oecms_protection import *\n",
    "from gee.wcmc_wdpa_protection import *\n",
    "from gee.wur_radd_alerts import *\n",
    "\n",
    "# get the execution time\n",
    "elapsed_time = time.time() - st\n",
    "\n",
    "if debug: print (\"image prep complete\")\n",
    "if debug: print ('Total execution time:', elapsed_time, 'seconds')"
   ]
  },
  {
   "cell_type": "markdown",
   "id": "71e13dd0-85e2-4f9b-bed8-9fcc9dd32f2c",
   "metadata": {
    "tags": []
   },
   "source": [
    "#### Set properties for which images need special treatment"
   ]
  },
  {
   "cell_type": "code",
   "execution_count": 225,
   "id": "7ada930c-e43f-4796-8852-65d845efcbaa",
   "metadata": {
    "tags": []
   },
   "outputs": [],
   "source": [
    "#deforestation alerts\n",
    "# set property so run stats for a buffer around site; \n",
    "# and show presence only as output \n",
    "latest_radd_alert_confirmed_recent_area_hectares = latest_radd_alert_confirmed_recent_area_hectares.setMulti(\n",
    "    {\"alerts_buffer\":1,\"presence_only_flag\":1})\n",
    "\n",
    "#important sites: 1) protected areas and 2) KBAs (likely future protectred areas) \n",
    "# show presence only as output \n",
    "protected_areas_WDPA_area_hectares = protected_areas_WDPA_area_hectares.set(\"presence_only_flag\",1)\n",
    "\n",
    "OECM_2023_area_hectares = OECM_2023_area_hectares.set(\"presence_only_flag\",1)\n",
    "\n",
    "kba_2023_area_hectares = kba_2023_area_hectares.set(\"presence_only_flag\",1)\n",
    "\n"
   ]
  },
  {
   "cell_type": "markdown",
   "id": "6075125b-851e-490e-a60a-bb8d867aafb3",
   "metadata": {
    "tags": []
   },
   "source": [
    "#### Create dictionary of images and image names\n",
    "- prep for reduceRegions statistics so name of datasets/image is added to area stats\n",
    "- sets \"system:index\" property of each image\n",
    "- result is an image collection with "
   ]
  },
  {
   "cell_type": "code",
   "execution_count": 226,
   "id": "443aab36-2bb3-4f9f-9398-6d5b80ae8f48",
   "metadata": {
    "tags": []
   },
   "outputs": [],
   "source": [
    "image_names_dict0 = {\n",
    "                \"GFC_Tree_Cover_2020\":gfc_treecover_2020_area_hectares,\n",
    "                \"ESRI_Trees_2020\":esri_trees_2020_area_hectares,\n",
    "                \"JAXA_Forest_non_forest_2020\":JAXA_forestNonForest_2020_area_hectares,\n",
    "                \"GLAD_LULC_Stable_Tree_2020\":glad_stable_tree_2020_area_hectares,\n",
    "                \"TMF_undisturbed_forest_2020\":JRC_TMF_undisturbed_2020_area_hectares,\n",
    "                \"Primary_Humid_Tropical_Forest_2020\": primary_HT_forests_2020_area_hectares,\n",
    "                \"TMF_disturbed_forest_2020\": JRC_TMF_disturbed_2020_area_hectares,\n",
    "                \"Local_RADD_alerts\":latest_radd_alert_confirmed_recent_area_hectares,\n",
    "                \"TMF_plantation\":JRC_TMF_plantation_area_hectares,\n",
    "                \"Oil_palm_Descals\": oil_palm_descals_binary_area_hectares,\n",
    "                \"FDaP_palm_plantations\": FDaP_palm_2020_model_area_hectares,\n",
    "                \"Cocoa_plantations_Kalischek\": cocoa_map_kalischek_threshold_area_hectares,\n",
    "                \"Protected_area\":protected_areas_WDPA_area_hectares,\n",
    "                \"Other_Effective_area_based_Conservation_Measure\":OECM_2023_area_hectares,\n",
    "                \"Key_Biodiversity_Area\": kba_2023_area_hectares,\n",
    "                \"GAUL_boundaries_adm0_code_reproj\":GAUL_boundaries_adm0_code_reproj\n",
    "              }\n"
   ]
  },
  {
   "cell_type": "code",
   "execution_count": 227,
   "id": "815f28ac-4680-40b8-ad87-e11c32ab9468",
   "metadata": {},
   "outputs": [
    {
     "name": "stdout",
     "output_type": "stream",
     "text": [
      "number of images:  16\n"
     ]
    },
    {
     "data": {
      "text/html": [
       "<div><style>:root {\n",
       "  --font-color-primary: var(--jp-content-font-color0, rgba(0, 0, 0, 1));\n",
       "  --font-color-secondary: var(--jp-content-font-color2, rgba(0, 0, 0, 0.6));\n",
       "  --font-color-accent: rgba(123, 31, 162, 1);\n",
       "  --border-color: var(--jp-border-color2, #e0e0e0);\n",
       "  --background-color: var(--jp-layout-color0, white);\n",
       "  --background-color-row-even: var(--jp-layout-color1, white);\n",
       "  --background-color-row-odd: var(--jp-layout-color2, #eeeeee);\n",
       "}\n",
       "\n",
       "html[theme=\"dark\"],\n",
       "body[data-theme=\"dark\"],\n",
       "body.vscode-dark {\n",
       "  --font-color-primary: rgba(255, 255, 255, 1);\n",
       "  --font-color-secondary: rgba(255, 255, 255, 0.6);\n",
       "  --font-color-accent: rgb(173, 132, 190);\n",
       "  --border-color: #2e2e2e;\n",
       "  --background-color: #111111;\n",
       "  --background-color-row-even: #111111;\n",
       "  --background-color-row-odd: #313131;\n",
       "}\n",
       "\n",
       ".ee {\n",
       "  padding: 1em;\n",
       "  line-height: 1.5em;\n",
       "  min-width: 300px;\n",
       "  max-width: 1200px;\n",
       "  overflow-y: scroll;\n",
       "  max-height: 600px;\n",
       "  border: 1px solid var(--border-color);\n",
       "  font-family: monospace;\n",
       "}\n",
       "\n",
       ".ee li {\n",
       "  list-style-type: none;\n",
       "}\n",
       "\n",
       ".ee ul {\n",
       "  padding-left: 1.5em !important;\n",
       "  margin: 0;\n",
       "}\n",
       "\n",
       ".ee > ul {\n",
       "  padding-left: 0 !important;\n",
       "}\n",
       "\n",
       ".ee-open,\n",
       ".ee-shut {\n",
       "  color: var(--font-color-secondary);\n",
       "  cursor: pointer;\n",
       "  margin: 0;\n",
       "}\n",
       "\n",
       ".ee-open:hover,\n",
       ".ee-shut:hover {\n",
       "  color: var(--font-color-primary);\n",
       "}\n",
       "\n",
       ".ee-k {\n",
       "  color: var(--font-color-accent);\n",
       "  margin-right: 6px;\n",
       "}\n",
       "\n",
       ".ee-v {\n",
       "  color: var(--font-color-primary);\n",
       "}\n",
       "\n",
       ".ee-toggle {\n",
       "  display: none;\n",
       "}\n",
       "\n",
       ".ee-shut + ul {\n",
       "  display: none;\n",
       "}\n",
       "\n",
       ".ee-open + ul {\n",
       "  display: block;\n",
       "}\n",
       "\n",
       ".ee-shut::before {\n",
       "  display: inline-block;\n",
       "  content: \"▼\";\n",
       "  margin-right: 6px;\n",
       "  transform: rotate(-90deg);\n",
       "  transition: transform 0.2s;\n",
       "}\n",
       "\n",
       ".ee-open::before {\n",
       "  transform: rotate(0deg);\n",
       "  display: inline-block;\n",
       "  content: \"▼\";\n",
       "  margin-right: 6px;\n",
       "  transition: transform 0.2s;\n",
       "}\n",
       "</style><div class='ee'><ul><li><label class='ee-shut'>ImageCollection (16 elements)<input type='checkbox' class='ee-toggle'></label><ul><li><span class='ee-k'>type:</span><span class='ee-v'>ImageCollection</span></li><li><label class='ee-shut'>bands: []<input type='checkbox' class='ee-toggle'></label><ul></ul></li><li><label class='ee-shut'>features: List (16 elements)<input type='checkbox' class='ee-toggle'></label><ul><li><label class='ee-shut'>0: Image (1 band)<input type='checkbox' class='ee-toggle'></label><ul><li><span class='ee-k'>type:</span><span class='ee-v'>Image</span></li><li><label class='ee-shut'>bands: List (1 element)<input type='checkbox' class='ee-toggle'></label><ul><li><label class='ee-shut'>0: \"treecover2000\", float, EPSG:4326<input type='checkbox' class='ee-toggle'></label><ul><li><span class='ee-k'>id:</span><span class='ee-v'>treecover2000</span></li><li><span class='ee-k'>crs:</span><span class='ee-v'>EPSG:4326</span></li><li><label class='ee-shut'>crs_transform: [0.00025, 0, -180, 0, -0.00025, 80]<input type='checkbox' class='ee-toggle'></label><ul><li><span class='ee-k'>0:</span><span class='ee-v'>0.00025</span></li><li><span class='ee-k'>1:</span><span class='ee-v'>0</span></li><li><span class='ee-k'>2:</span><span class='ee-v'>-180</span></li><li><span class='ee-k'>3:</span><span class='ee-v'>0</span></li><li><span class='ee-k'>4:</span><span class='ee-v'>-0.00025</span></li><li><span class='ee-k'>5:</span><span class='ee-v'>80</span></li></ul></li><li><label class='ee-shut'>data_type: float<input type='checkbox' class='ee-toggle'></label><ul><li><span class='ee-k'>type:</span><span class='ee-v'>PixelType</span></li><li><span class='ee-k'>precision:</span><span class='ee-v'>float</span></li></ul></li></ul></li></ul></li><li><label class='ee-shut'>properties: Object (2 properties)<input type='checkbox' class='ee-toggle'></label><ul><li><span class='ee-k'>scale:</span><span class='ee-v'>27.829872698318393</span></li><li><span class='ee-k'>system:index:</span><span class='ee-v'>GFC_Tree_Cover_2020</span></li></ul></li></ul></li><li><label class='ee-shut'>1: Image (1 band)<input type='checkbox' class='ee-toggle'></label><ul><li><span class='ee-k'>type:</span><span class='ee-v'>Image</span></li><li><label class='ee-shut'>bands: List (1 element)<input type='checkbox' class='ee-toggle'></label><ul><li><label class='ee-shut'>0: \"remapped\", float, EPSG:4326<input type='checkbox' class='ee-toggle'></label><ul><li><span class='ee-k'>id:</span><span class='ee-v'>remapped</span></li><li><span class='ee-k'>crs:</span><span class='ee-v'>EPSG:4326</span></li><li><label class='ee-shut'>crs_transform: [1, 0, 0, 0, 1, 0]<input type='checkbox' class='ee-toggle'></label><ul><li><span class='ee-k'>0:</span><span class='ee-v'>1</span></li><li><span class='ee-k'>1:</span><span class='ee-v'>0</span></li><li><span class='ee-k'>2:</span><span class='ee-v'>0</span></li><li><span class='ee-k'>3:</span><span class='ee-v'>0</span></li><li><span class='ee-k'>4:</span><span class='ee-v'>1</span></li><li><span class='ee-k'>5:</span><span class='ee-v'>0</span></li></ul></li><li><label class='ee-shut'>data_type: float<input type='checkbox' class='ee-toggle'></label><ul><li><span class='ee-k'>type:</span><span class='ee-v'>PixelType</span></li><li><span class='ee-k'>precision:</span><span class='ee-v'>float</span></li></ul></li></ul></li></ul></li><li><label class='ee-shut'>properties: Object (2 properties)<input type='checkbox' class='ee-toggle'></label><ul><li><span class='ee-k'>scale:</span><span class='ee-v'>10</span></li><li><span class='ee-k'>system:index:</span><span class='ee-v'>ESRI_Trees_2020</span></li></ul></li></ul></li><li><label class='ee-shut'>2: Image (1 band)<input type='checkbox' class='ee-toggle'></label><ul><li><span class='ee-k'>type:</span><span class='ee-v'>Image</span></li><li><label class='ee-shut'>bands: List (1 element)<input type='checkbox' class='ee-toggle'></label><ul><li><label class='ee-shut'>0: \"fnf\", float, EPSG:4326<input type='checkbox' class='ee-toggle'></label><ul><li><span class='ee-k'>id:</span><span class='ee-v'>fnf</span></li><li><span class='ee-k'>crs:</span><span class='ee-v'>EPSG:4326</span></li><li><label class='ee-shut'>crs_transform: [1, 0, 0, 0, 1, 0]<input type='checkbox' class='ee-toggle'></label><ul><li><span class='ee-k'>0:</span><span class='ee-v'>1</span></li><li><span class='ee-k'>1:</span><span class='ee-v'>0</span></li><li><span class='ee-k'>2:</span><span class='ee-v'>0</span></li><li><span class='ee-k'>3:</span><span class='ee-v'>0</span></li><li><span class='ee-k'>4:</span><span class='ee-v'>1</span></li><li><span class='ee-k'>5:</span><span class='ee-v'>0</span></li></ul></li><li><label class='ee-shut'>data_type: float<input type='checkbox' class='ee-toggle'></label><ul><li><span class='ee-k'>type:</span><span class='ee-v'>PixelType</span></li><li><span class='ee-k'>precision:</span><span class='ee-v'>float</span></li></ul></li></ul></li></ul></li><li><label class='ee-shut'>properties: Object (2 properties)<input type='checkbox' class='ee-toggle'></label><ul><li><span class='ee-k'>scale:</span><span class='ee-v'>24.73766462072746</span></li><li><span class='ee-k'>system:index:</span><span class='ee-v'>JAXA_Forest_non_forest_2020</span></li></ul></li></ul></li><li><label class='ee-shut'>3: Image (1 band)<input type='checkbox' class='ee-toggle'></label><ul><li><span class='ee-k'>type:</span><span class='ee-v'>Image</span></li><li><label class='ee-shut'>bands: List (1 element)<input type='checkbox' class='ee-toggle'></label><ul><li><label class='ee-shut'>0: \"b1\", float, EPSG:4326<input type='checkbox' class='ee-toggle'></label><ul><li><span class='ee-k'>id:</span><span class='ee-v'>b1</span></li><li><span class='ee-k'>crs:</span><span class='ee-v'>EPSG:4326</span></li><li><label class='ee-shut'>crs_transform: [0.00025, 0, -180, 0, -0.00025, 80]<input type='checkbox' class='ee-toggle'></label><ul><li><span class='ee-k'>0:</span><span class='ee-v'>0.00025</span></li><li><span class='ee-k'>1:</span><span class='ee-v'>0</span></li><li><span class='ee-k'>2:</span><span class='ee-v'>-180</span></li><li><span class='ee-k'>3:</span><span class='ee-v'>0</span></li><li><span class='ee-k'>4:</span><span class='ee-v'>-0.00025</span></li><li><span class='ee-k'>5:</span><span class='ee-v'>80</span></li></ul></li><li><label class='ee-shut'>data_type: float<input type='checkbox' class='ee-toggle'></label><ul><li><span class='ee-k'>type:</span><span class='ee-v'>PixelType</span></li><li><span class='ee-k'>precision:</span><span class='ee-v'>float</span></li></ul></li></ul></li></ul></li><li><label class='ee-shut'>properties: Object (2 properties)<input type='checkbox' class='ee-toggle'></label><ul><li><span class='ee-k'>scale:</span><span class='ee-v'>27.829872698318393</span></li><li><span class='ee-k'>system:index:</span><span class='ee-v'>GLAD_LULC_Stable_Tree_2020</span></li></ul></li></ul></li><li><label class='ee-shut'>4: Image (1 band)<input type='checkbox' class='ee-toggle'></label><ul><li><span class='ee-k'>type:</span><span class='ee-v'>Image</span></li><li><label class='ee-shut'>bands: List (1 element)<input type='checkbox' class='ee-toggle'></label><ul><li><label class='ee-shut'>0: \"remapped\", float, EPSG:4326<input type='checkbox' class='ee-toggle'></label><ul><li><span class='ee-k'>id:</span><span class='ee-v'>remapped</span></li><li><span class='ee-k'>crs:</span><span class='ee-v'>EPSG:4326</span></li><li><label class='ee-shut'>crs_transform: [1, 0, 0, 0, 1, 0]<input type='checkbox' class='ee-toggle'></label><ul><li><span class='ee-k'>0:</span><span class='ee-v'>1</span></li><li><span class='ee-k'>1:</span><span class='ee-v'>0</span></li><li><span class='ee-k'>2:</span><span class='ee-v'>0</span></li><li><span class='ee-k'>3:</span><span class='ee-v'>0</span></li><li><span class='ee-k'>4:</span><span class='ee-v'>1</span></li><li><span class='ee-k'>5:</span><span class='ee-v'>0</span></li></ul></li><li><label class='ee-shut'>data_type: float<input type='checkbox' class='ee-toggle'></label><ul><li><span class='ee-k'>type:</span><span class='ee-v'>PixelType</span></li><li><span class='ee-k'>precision:</span><span class='ee-v'>float</span></li></ul></li></ul></li></ul></li><li><label class='ee-shut'>properties: Object (2 properties)<input type='checkbox' class='ee-toggle'></label><ul><li><span class='ee-k'>scale:</span><span class='ee-v'>30.000000000000004</span></li><li><span class='ee-k'>system:index:</span><span class='ee-v'>TMF_undisturbed_forest_2020</span></li></ul></li></ul></li><li><label class='ee-shut'>5: Image (1 band)<input type='checkbox' class='ee-toggle'></label><ul><li><span class='ee-k'>type:</span><span class='ee-v'>Image</span></li><li><label class='ee-shut'>bands: List (1 element)<input type='checkbox' class='ee-toggle'></label><ul><li><label class='ee-shut'>0: \"Primary_HT_forests\", float, EPSG:4326<input type='checkbox' class='ee-toggle'></label><ul><li><span class='ee-k'>id:</span><span class='ee-v'>Primary_HT_forests</span></li><li><span class='ee-k'>crs:</span><span class='ee-v'>EPSG:4326</span></li><li><label class='ee-shut'>crs_transform: [1, 0, 0, 0, 1, 0]<input type='checkbox' class='ee-toggle'></label><ul><li><span class='ee-k'>0:</span><span class='ee-v'>1</span></li><li><span class='ee-k'>1:</span><span class='ee-v'>0</span></li><li><span class='ee-k'>2:</span><span class='ee-v'>0</span></li><li><span class='ee-k'>3:</span><span class='ee-v'>0</span></li><li><span class='ee-k'>4:</span><span class='ee-v'>1</span></li><li><span class='ee-k'>5:</span><span class='ee-v'>0</span></li></ul></li><li><label class='ee-shut'>data_type: float<input type='checkbox' class='ee-toggle'></label><ul><li><span class='ee-k'>type:</span><span class='ee-v'>PixelType</span></li><li><span class='ee-k'>precision:</span><span class='ee-v'>float</span></li></ul></li></ul></li></ul></li><li><label class='ee-shut'>properties: Object (2 properties)<input type='checkbox' class='ee-toggle'></label><ul><li><span class='ee-k'>scale:</span><span class='ee-v'>27.829872698318393</span></li><li><span class='ee-k'>system:index:</span><span class='ee-v'>Primary_Humid_Tropical_Forest_2020</span></li></ul></li></ul></li><li><label class='ee-shut'>6: Image (1 band)<input type='checkbox' class='ee-toggle'></label><ul><li><span class='ee-k'>type:</span><span class='ee-v'>Image</span></li><li><label class='ee-shut'>bands: List (1 element)<input type='checkbox' class='ee-toggle'></label><ul><li><label class='ee-shut'>0: \"remapped\", float, EPSG:4326<input type='checkbox' class='ee-toggle'></label><ul><li><span class='ee-k'>id:</span><span class='ee-v'>remapped</span></li><li><span class='ee-k'>crs:</span><span class='ee-v'>EPSG:4326</span></li><li><label class='ee-shut'>crs_transform: [1, 0, 0, 0, 1, 0]<input type='checkbox' class='ee-toggle'></label><ul><li><span class='ee-k'>0:</span><span class='ee-v'>1</span></li><li><span class='ee-k'>1:</span><span class='ee-v'>0</span></li><li><span class='ee-k'>2:</span><span class='ee-v'>0</span></li><li><span class='ee-k'>3:</span><span class='ee-v'>0</span></li><li><span class='ee-k'>4:</span><span class='ee-v'>1</span></li><li><span class='ee-k'>5:</span><span class='ee-v'>0</span></li></ul></li><li><label class='ee-shut'>data_type: float<input type='checkbox' class='ee-toggle'></label><ul><li><span class='ee-k'>type:</span><span class='ee-v'>PixelType</span></li><li><span class='ee-k'>precision:</span><span class='ee-v'>float</span></li></ul></li></ul></li></ul></li><li><label class='ee-shut'>properties: Object (2 properties)<input type='checkbox' class='ee-toggle'></label><ul><li><span class='ee-k'>scale:</span><span class='ee-v'>30.000000000000004</span></li><li><span class='ee-k'>system:index:</span><span class='ee-v'>TMF_disturbed_forest_2020</span></li></ul></li></ul></li><li><label class='ee-shut'>7: Image (1 band)<input type='checkbox' class='ee-toggle'></label><ul><li><span class='ee-k'>type:</span><span class='ee-v'>Image</span></li><li><label class='ee-shut'>bands: List (1 element)<input type='checkbox' class='ee-toggle'></label><ul><li><label class='ee-shut'>0: \"Date\", float, EPSG:4326<input type='checkbox' class='ee-toggle'></label><ul><li><span class='ee-k'>id:</span><span class='ee-v'>Date</span></li><li><span class='ee-k'>crs:</span><span class='ee-v'>EPSG:4326</span></li><li><label class='ee-shut'>crs_transform: [1, 0, 0, 0, 1, 0]<input type='checkbox' class='ee-toggle'></label><ul><li><span class='ee-k'>0:</span><span class='ee-v'>1</span></li><li><span class='ee-k'>1:</span><span class='ee-v'>0</span></li><li><span class='ee-k'>2:</span><span class='ee-v'>0</span></li><li><span class='ee-k'>3:</span><span class='ee-v'>0</span></li><li><span class='ee-k'>4:</span><span class='ee-v'>1</span></li><li><span class='ee-k'>5:</span><span class='ee-v'>0</span></li></ul></li><li><label class='ee-shut'>data_type: float<input type='checkbox' class='ee-toggle'></label><ul><li><span class='ee-k'>type:</span><span class='ee-v'>PixelType</span></li><li><span class='ee-k'>precision:</span><span class='ee-v'>float</span></li></ul></li></ul></li></ul></li><li><label class='ee-shut'>properties: Object (4 properties)<input type='checkbox' class='ee-toggle'></label><ul><li><span class='ee-k'>alerts_buffer:</span><span class='ee-v'>1</span></li><li><span class='ee-k'>presence_only_flag:</span><span class='ee-v'>1</span></li><li><span class='ee-k'>scale:</span><span class='ee-v'>10</span></li><li><span class='ee-k'>system:index:</span><span class='ee-v'>Local_RADD_alerts</span></li></ul></li></ul></li><li><label class='ee-shut'>8: Image (1 band)<input type='checkbox' class='ee-toggle'></label><ul><li><span class='ee-k'>type:</span><span class='ee-v'>Image</span></li><li><label class='ee-shut'>bands: List (1 element)<input type='checkbox' class='ee-toggle'></label><ul><li><label class='ee-shut'>0: \"remapped\", float, EPSG:4326<input type='checkbox' class='ee-toggle'></label><ul><li><span class='ee-k'>id:</span><span class='ee-v'>remapped</span></li><li><span class='ee-k'>crs:</span><span class='ee-v'>EPSG:4326</span></li><li><label class='ee-shut'>crs_transform: [1, 0, 0, 0, 1, 0]<input type='checkbox' class='ee-toggle'></label><ul><li><span class='ee-k'>0:</span><span class='ee-v'>1</span></li><li><span class='ee-k'>1:</span><span class='ee-v'>0</span></li><li><span class='ee-k'>2:</span><span class='ee-v'>0</span></li><li><span class='ee-k'>3:</span><span class='ee-v'>0</span></li><li><span class='ee-k'>4:</span><span class='ee-v'>1</span></li><li><span class='ee-k'>5:</span><span class='ee-v'>0</span></li></ul></li><li><label class='ee-shut'>data_type: float<input type='checkbox' class='ee-toggle'></label><ul><li><span class='ee-k'>type:</span><span class='ee-v'>PixelType</span></li><li><span class='ee-k'>precision:</span><span class='ee-v'>float</span></li></ul></li></ul></li></ul></li><li><label class='ee-shut'>properties: Object (2 properties)<input type='checkbox' class='ee-toggle'></label><ul><li><span class='ee-k'>scale:</span><span class='ee-v'>30.000000000000004</span></li><li><span class='ee-k'>system:index:</span><span class='ee-v'>TMF_plantation</span></li></ul></li></ul></li><li><label class='ee-shut'>9: Image (1 band)<input type='checkbox' class='ee-toggle'></label><ul><li><span class='ee-k'>type:</span><span class='ee-v'>Image</span></li><li><label class='ee-shut'>bands: List (1 element)<input type='checkbox' class='ee-toggle'></label><ul><li><label class='ee-shut'>0: \"classification\", float, EPSG:4326<input type='checkbox' class='ee-toggle'></label><ul><li><span class='ee-k'>id:</span><span class='ee-v'>classification</span></li><li><span class='ee-k'>crs:</span><span class='ee-v'>EPSG:4326</span></li><li><label class='ee-shut'>crs_transform: [1, 0, 0, 0, 1, 0]<input type='checkbox' class='ee-toggle'></label><ul><li><span class='ee-k'>0:</span><span class='ee-v'>1</span></li><li><span class='ee-k'>1:</span><span class='ee-v'>0</span></li><li><span class='ee-k'>2:</span><span class='ee-v'>0</span></li><li><span class='ee-k'>3:</span><span class='ee-v'>0</span></li><li><span class='ee-k'>4:</span><span class='ee-v'>1</span></li><li><span class='ee-k'>5:</span><span class='ee-v'>0</span></li></ul></li><li><label class='ee-shut'>data_type: float<input type='checkbox' class='ee-toggle'></label><ul><li><span class='ee-k'>type:</span><span class='ee-v'>PixelType</span></li><li><span class='ee-k'>precision:</span><span class='ee-v'>float</span></li></ul></li></ul></li></ul></li><li><label class='ee-shut'>properties: Object (2 properties)<input type='checkbox' class='ee-toggle'></label><ul><li><span class='ee-k'>scale:</span><span class='ee-v'>10</span></li><li><span class='ee-k'>system:index:</span><span class='ee-v'>Oil_palm_Descals</span></li></ul></li></ul></li><li><label class='ee-shut'>10: Image (1 band)<input type='checkbox' class='ee-toggle'></label><ul><li><span class='ee-k'>type:</span><span class='ee-v'>Image</span></li><li><label class='ee-shut'>bands: List (1 element)<input type='checkbox' class='ee-toggle'></label><ul><li><label class='ee-shut'>0: \"output\", float, EPSG:4326<input type='checkbox' class='ee-toggle'></label><ul><li><span class='ee-k'>id:</span><span class='ee-v'>output</span></li><li><span class='ee-k'>crs:</span><span class='ee-v'>EPSG:4326</span></li><li><label class='ee-shut'>crs_transform: [1, 0, 0, 0, 1, 0]<input type='checkbox' class='ee-toggle'></label><ul><li><span class='ee-k'>0:</span><span class='ee-v'>1</span></li><li><span class='ee-k'>1:</span><span class='ee-v'>0</span></li><li><span class='ee-k'>2:</span><span class='ee-v'>0</span></li><li><span class='ee-k'>3:</span><span class='ee-v'>0</span></li><li><span class='ee-k'>4:</span><span class='ee-v'>1</span></li><li><span class='ee-k'>5:</span><span class='ee-v'>0</span></li></ul></li><li><label class='ee-shut'>data_type: float<input type='checkbox' class='ee-toggle'></label><ul><li><span class='ee-k'>type:</span><span class='ee-v'>PixelType</span></li><li><span class='ee-k'>precision:</span><span class='ee-v'>float</span></li></ul></li></ul></li></ul></li><li><label class='ee-shut'>properties: Object (2 properties)<input type='checkbox' class='ee-toggle'></label><ul><li><span class='ee-k'>scale:</span><span class='ee-v'>10</span></li><li><span class='ee-k'>system:index:</span><span class='ee-v'>FDaP_palm_plantations</span></li></ul></li></ul></li><li><label class='ee-shut'>11: Image (1 band)<input type='checkbox' class='ee-toggle'></label><ul><li><span class='ee-k'>type:</span><span class='ee-v'>Image</span></li><li><label class='ee-shut'>bands: List (1 element)<input type='checkbox' class='ee-toggle'></label><ul><li><label class='ee-shut'>0: \"b1\", float, EPSG:4326, 108127x75223 px<input type='checkbox' class='ee-toggle'></label><ul><li><span class='ee-k'>id:</span><span class='ee-v'>b1</span></li><li><span class='ee-k'>crs:</span><span class='ee-v'>EPSG:4326</span></li><li><label class='ee-shut'>crs_transform: List (6 elements)<input type='checkbox' class='ee-toggle'></label><ul><li><span class='ee-k'>0:</span><span class='ee-v'>9.055018635493447e-05</span></li><li><span class='ee-k'>1:</span><span class='ee-v'>0</span></li><li><span class='ee-k'>2:</span><span class='ee-v'>-8.59923</span></li><li><span class='ee-k'>3:</span><span class='ee-v'>0</span></li><li><span class='ee-k'>4:</span><span class='ee-v'>-9.055023064754131e-05</span></li><li><span class='ee-k'>5:</span><span class='ee-v'>11.17328</span></li></ul></li><li><label class='ee-shut'>data_type: float<input type='checkbox' class='ee-toggle'></label><ul><li><span class='ee-k'>type:</span><span class='ee-v'>PixelType</span></li><li><span class='ee-k'>precision:</span><span class='ee-v'>float</span></li></ul></li><li><label class='ee-shut'>dimensions: [108127, 75223]<input type='checkbox' class='ee-toggle'></label><ul><li><span class='ee-k'>0:</span><span class='ee-v'>108127</span></li><li><span class='ee-k'>1:</span><span class='ee-v'>75223</span></li></ul></li></ul></li></ul></li><li><label class='ee-shut'>properties: Object (2 properties)<input type='checkbox' class='ee-toggle'></label><ul><li><span class='ee-k'>scale:</span><span class='ee-v'>10.080003101582253</span></li><li><span class='ee-k'>system:index:</span><span class='ee-v'>Cocoa_plantations_Kalischek</span></li></ul></li></ul></li><li><label class='ee-shut'>12: Image (1 band)<input type='checkbox' class='ee-toggle'></label><ul><li><span class='ee-k'>type:</span><span class='ee-v'>Image</span></li><li><label class='ee-shut'>bands: List (1 element)<input type='checkbox' class='ee-toggle'></label><ul><li><label class='ee-shut'>0: \"min\", float, EPSG:4326<input type='checkbox' class='ee-toggle'></label><ul><li><span class='ee-k'>id:</span><span class='ee-v'>min</span></li><li><span class='ee-k'>crs:</span><span class='ee-v'>EPSG:4326</span></li><li><label class='ee-shut'>crs_transform: [1, 0, 0, 0, 1, 0]<input type='checkbox' class='ee-toggle'></label><ul><li><span class='ee-k'>0:</span><span class='ee-v'>1</span></li><li><span class='ee-k'>1:</span><span class='ee-v'>0</span></li><li><span class='ee-k'>2:</span><span class='ee-v'>0</span></li><li><span class='ee-k'>3:</span><span class='ee-v'>0</span></li><li><span class='ee-k'>4:</span><span class='ee-v'>1</span></li><li><span class='ee-k'>5:</span><span class='ee-v'>0</span></li></ul></li><li><label class='ee-shut'>data_type: float<input type='checkbox' class='ee-toggle'></label><ul><li><span class='ee-k'>type:</span><span class='ee-v'>PixelType</span></li><li><span class='ee-k'>precision:</span><span class='ee-v'>float</span></li></ul></li></ul></li></ul></li><li><label class='ee-shut'>properties: Object (3 properties)<input type='checkbox' class='ee-toggle'></label><ul><li><span class='ee-k'>presence_only_flag:</span><span class='ee-v'>1</span></li><li><span class='ee-k'>scale:</span><span class='ee-v'>27.829872698318393</span></li><li><span class='ee-k'>system:index:</span><span class='ee-v'>Protected_area</span></li></ul></li></ul></li><li><label class='ee-shut'>13: Image (1 band)<input type='checkbox' class='ee-toggle'></label><ul><li><span class='ee-k'>type:</span><span class='ee-v'>Image</span></li><li><label class='ee-shut'>bands: List (1 element)<input type='checkbox' class='ee-toggle'></label><ul><li><label class='ee-shut'>0: \"count\", float, EPSG:4326<input type='checkbox' class='ee-toggle'></label><ul><li><span class='ee-k'>id:</span><span class='ee-v'>count</span></li><li><span class='ee-k'>crs:</span><span class='ee-v'>EPSG:4326</span></li><li><label class='ee-shut'>crs_transform: [1, 0, 0, 0, 1, 0]<input type='checkbox' class='ee-toggle'></label><ul><li><span class='ee-k'>0:</span><span class='ee-v'>1</span></li><li><span class='ee-k'>1:</span><span class='ee-v'>0</span></li><li><span class='ee-k'>2:</span><span class='ee-v'>0</span></li><li><span class='ee-k'>3:</span><span class='ee-v'>0</span></li><li><span class='ee-k'>4:</span><span class='ee-v'>1</span></li><li><span class='ee-k'>5:</span><span class='ee-v'>0</span></li></ul></li><li><label class='ee-shut'>data_type: float<input type='checkbox' class='ee-toggle'></label><ul><li><span class='ee-k'>type:</span><span class='ee-v'>PixelType</span></li><li><span class='ee-k'>precision:</span><span class='ee-v'>float</span></li></ul></li></ul></li></ul></li><li><label class='ee-shut'>properties: Object (3 properties)<input type='checkbox' class='ee-toggle'></label><ul><li><span class='ee-k'>presence_only_flag:</span><span class='ee-v'>1</span></li><li><span class='ee-k'>scale:</span><span class='ee-v'>27.829872698318393</span></li><li><span class='ee-k'>system:index:</span><span class='ee-v'>Other_Effective_area_based_Conservation_Measure</span></li></ul></li></ul></li><li><label class='ee-shut'>14: Image (1 band)<input type='checkbox' class='ee-toggle'></label><ul><li><span class='ee-k'>type:</span><span class='ee-v'>Image</span></li><li><label class='ee-shut'>bands: List (1 element)<input type='checkbox' class='ee-toggle'></label><ul><li><label class='ee-shut'>0: \"count\", float, EPSG:4326<input type='checkbox' class='ee-toggle'></label><ul><li><span class='ee-k'>id:</span><span class='ee-v'>count</span></li><li><span class='ee-k'>crs:</span><span class='ee-v'>EPSG:4326</span></li><li><label class='ee-shut'>crs_transform: [1, 0, 0, 0, 1, 0]<input type='checkbox' class='ee-toggle'></label><ul><li><span class='ee-k'>0:</span><span class='ee-v'>1</span></li><li><span class='ee-k'>1:</span><span class='ee-v'>0</span></li><li><span class='ee-k'>2:</span><span class='ee-v'>0</span></li><li><span class='ee-k'>3:</span><span class='ee-v'>0</span></li><li><span class='ee-k'>4:</span><span class='ee-v'>1</span></li><li><span class='ee-k'>5:</span><span class='ee-v'>0</span></li></ul></li><li><label class='ee-shut'>data_type: float<input type='checkbox' class='ee-toggle'></label><ul><li><span class='ee-k'>type:</span><span class='ee-v'>PixelType</span></li><li><span class='ee-k'>precision:</span><span class='ee-v'>float</span></li></ul></li></ul></li></ul></li><li><label class='ee-shut'>properties: Object (3 properties)<input type='checkbox' class='ee-toggle'></label><ul><li><span class='ee-k'>presence_only_flag:</span><span class='ee-v'>1</span></li><li><span class='ee-k'>scale:</span><span class='ee-v'>27.829872698318393</span></li><li><span class='ee-k'>system:index:</span><span class='ee-v'>Key_Biodiversity_Area</span></li></ul></li></ul></li><li><label class='ee-shut'>15: Image (1 band)<input type='checkbox' class='ee-toggle'></label><ul><li><span class='ee-k'>type:</span><span class='ee-v'>Image</span></li><li><label class='ee-shut'>bands: List (1 element)<input type='checkbox' class='ee-toggle'></label><ul><li><label class='ee-shut'>0: \"mode\", signed int8, EPSG:4326<input type='checkbox' class='ee-toggle'></label><ul><li><span class='ee-k'>id:</span><span class='ee-v'>mode</span></li><li><span class='ee-k'>crs:</span><span class='ee-v'>EPSG:4326</span></li><li><label class='ee-shut'>crs_transform: [0.00025, 0, 0, 0, -0.00025, 0]<input type='checkbox' class='ee-toggle'></label><ul><li><span class='ee-k'>0:</span><span class='ee-v'>0.00025</span></li><li><span class='ee-k'>1:</span><span class='ee-v'>0</span></li><li><span class='ee-k'>2:</span><span class='ee-v'>0</span></li><li><span class='ee-k'>3:</span><span class='ee-v'>0</span></li><li><span class='ee-k'>4:</span><span class='ee-v'>-0.00025</span></li><li><span class='ee-k'>5:</span><span class='ee-v'>0</span></li></ul></li><li><label class='ee-shut'>data_type: signed int8<input type='checkbox' class='ee-toggle'></label><ul><li><span class='ee-k'>type:</span><span class='ee-v'>PixelType</span></li><li><span class='ee-k'>max:</span><span class='ee-v'>127</span></li><li><span class='ee-k'>min:</span><span class='ee-v'>-128</span></li><li><span class='ee-k'>precision:</span><span class='ee-v'>int</span></li></ul></li></ul></li></ul></li><li><label class='ee-shut'>properties: Object (2 properties)<input type='checkbox' class='ee-toggle'></label><ul><li><span class='ee-k'>scale:</span><span class='ee-v'>27.829872698318393</span></li><li><span class='ee-k'>system:index:</span><span class='ee-v'>GAUL_boundaries_adm0_code_reproj</span></li></ul></li></ul></li></ul></li></ul></li></ul></div><script>function toggleHeader() {\n",
       "    const parent = this.parentElement;\n",
       "    parent.className = parent.className === \"ee-open\" ? \"ee-shut\" : \"ee-open\";\n",
       "}\n",
       "\n",
       "for (let c of document.getElementsByClassName(\"ee-toggle\")) {\n",
       "    c.onclick = toggleHeader;\n",
       "}</script></div>"
      ],
      "text/plain": [
       "<ee.imagecollection.ImageCollection at 0x7f79962651c0>"
      ]
     },
     "execution_count": 227,
     "metadata": {},
     "output_type": "execute_result"
    }
   ],
   "source": [
    "#create empty dictionary to be populated\n",
    "image_names_dict={} \n",
    "    \n",
    "#set image names (\"system:index\") from keys in dictionary, and store as new one\n",
    "for i in range(len(image_names_dict0)):\n",
    "    dataset_name = (list(image_names_dict0.keys())[i]) #get dataset name\n",
    "    image = (list(image_names_dict0.values())[i]) #get image\n",
    "    updated_image=image.set(\"system:index\",dataset_name) #set dataset name as image name i.e., \"system:index\"\n",
    "    instance={dataset_name:updated_image} #combine\n",
    "    image_names_dict.update(instance) #update into new dictionary\n",
    "\n",
    "del image_names_dict0 # remove old dictionary\n",
    "\n",
    "#make into a new image collection\n",
    "images_IC = ee.ImageCollection(list(image_names_dict.values()))\n",
    "                      \n",
    "##checks\n",
    "if debug: print (\"number of images: \",len(image_names_dict))\n",
    "\n",
    "images_IC"
   ]
  },
  {
   "cell_type": "markdown",
   "id": "56875dab-d0f1-4c00-b552-1e7e0d43c0b3",
   "metadata": {
    "tags": []
   },
   "source": [
    "### 3. Fetch some fields (public)"
   ]
  },
  {
   "cell_type": "markdown",
   "id": "6c00c5d0-b739-4605-af7c-589920a7c962",
   "metadata": {
    "tags": []
   },
   "source": [
    "#### Transform geometries into a feature collection"
   ]
  },
  {
   "cell_type": "code",
   "execution_count": 228,
   "id": "43d06656-77ce-43d2-baa3-c111724d22e2",
   "metadata": {
    "tags": []
   },
   "outputs": [
    {
     "name": "stdout",
     "output_type": "stream",
     "text": [
      "['0520cfac98fbc1bd7952b1c07a9f6983b83625722b6f665ea83ac9aad3512918', 'b84f55de2b7f3c77d1cbeb8b026a1b29be42d8b08d92058c9143e0556456820f', 'b7c15efb6e3c63fcfe649a2d994973a6f5caa844f720f0edb7cf24f6a6c3c1b3', 'fa2aff0d60cf1bc0e1f1dd4b91daf932940c31c021ca1b84f5b9445855eef02f', '88bec54ad04804f5b1fafbc131266640a129be2840fa6797cda358d7e831b907', 'ef2f7c46fbe4fc892fdb81f9a31c9c507b9f1e4548504247dcbbab28cf8e436c', '97408ef7bdac487e4a42e4abf20492b786310889fd4b0478603e2d0004c40bfb', 'c288d6c94efa9011c0e3452af9f7fa0941661377030e10d29c68764617f9816d', '1a41a309ae2387f36a604c9a6c81887e64357a7f61d228758e23ef766286fcd7', '1a4472dc40700ef33f931863f58d444f243d64418616678fcf85c57e1f4bbf45', '8e2accea7ddbb84b7f6001e00bcb60f57f563c80633b53859993522a6f05727a']\n"
     ]
    }
   ],
   "source": [
    "CIV_ids = ['0520cfac98fbc1bd7952b1c07a9f6983b83625722b6f665ea83ac9aad3512918',\n",
    "           'b84f55de2b7f3c77d1cbeb8b026a1b29be42d8b08d92058c9143e0556456820f',\n",
    "           'b7c15efb6e3c63fcfe649a2d994973a6f5caa844f720f0edb7cf24f6a6c3c1b3',\n",
    "            'fa2aff0d60cf1bc0e1f1dd4b91daf932940c31c021ca1b84f5b9445855eef02f']\n",
    "\n",
    "GHA_ids = ['88bec54ad04804f5b1fafbc131266640a129be2840fa6797cda358d7e831b907', \n",
    "'ef2f7c46fbe4fc892fdb81f9a31c9c507b9f1e4548504247dcbbab28cf8e436c',\n",
    "'97408ef7bdac487e4a42e4abf20492b786310889fd4b0478603e2d0004c40bfb']\n",
    "\n",
    "IDN_ids = ['c288d6c94efa9011c0e3452af9f7fa0941661377030e10d29c68764617f9816d', \n",
    "       '1a41a309ae2387f36a604c9a6c81887e64357a7f61d228758e23ef766286fcd7',\n",
    "       '1a4472dc40700ef33f931863f58d444f243d64418616678fcf85c57e1f4bbf45',\n",
    "       '8e2accea7ddbb84b7f6001e00bcb60f57f563c80633b53859993522a6f05727a']\n",
    "\n",
    "all_geo_ids= CIV_ids+GHA_ids+IDN_ids\n",
    "\n",
    "if debug: print (all_geo_ids)"
   ]
  },
  {
   "cell_type": "markdown",
   "id": "3a01f69c-6715-4f03-9552-ee22a7467c27",
   "metadata": {},
   "source": [
    "#### Asset registry: start session"
   ]
  },
  {
   "cell_type": "markdown",
   "id": "13fc6759-b967-41aa-88bb-cdb687b68a29",
   "metadata": {},
   "source": [
    "NB this is timing out so skipping section - seems to work without somehow. Maybe an open connection already..."
   ]
  },
  {
   "cell_type": "code",
   "execution_count": 229,
   "id": "7b6fe913-051a-44fe-a186-ff6ea9cebf4f",
   "metadata": {
    "tags": []
   },
   "outputs": [
    {
     "name": "stdout",
     "output_type": "stream",
     "text": [
      "<RequestsCookieJar[]>\n",
      "500\n"
     ]
    }
   ],
   "source": [
    "## using session to store cookies that are persistent\n",
    "session = requests.session()\n",
    "session.headers = headers = {\n",
    "    'Accept': 'application/json',\n",
    "    'Content-Type': 'application/json'\n",
    "}\n",
    "req_body = {'email': email, 'password': password}\n",
    "res = session.post(user_registry_base, json=req_body)\n",
    "if debug: print (session.cookies)\n",
    "if debug: print (res.status_code)\n"
   ]
  },
  {
   "cell_type": "markdown",
   "id": "040debff-4f8a-44d2-91f6-8a8ab79aff3e",
   "metadata": {
    "tags": []
   },
   "source": [
    "#### Fetch features"
   ]
  },
  {
   "cell_type": "code",
   "execution_count": 230,
   "id": "828017fa-9522-406c-8f8d-18a67aee3c52",
   "metadata": {
    "tags": []
   },
   "outputs": [
    {
     "name": "stdout",
     "output_type": "stream",
     "text": [
      "Count of geo ids in list:  11\n",
      "Count of features in FeatureCollection:  11\n"
     ]
    }
   ],
   "source": [
    "#is there a list of geo_ids\n",
    "if isinstance(all_geo_ids, list):\n",
    "    multiple_inputs=True\n",
    "elif isinstance(all_geo_ids, str):\n",
    "    multiple_inputs=False\n",
    "else:\n",
    "    print (\"Input must be a single string or list of strings\")\n",
    "\n",
    "#if list of geo ids use loop over them and make a feature collection\n",
    "\n",
    "if multiple_inputs==True:\n",
    "    roi = agstack_to_gee.geo_id_list_to_feature_collection(all_geo_ids,geo_id_column, session,asset_registry_base)    \n",
    "    if debug: print (\"Count of geo ids in list: \", len(all_geo_ids))\n",
    "    # if debug: print (\"Count of features in FeatureCollection: \", roi.size().getInfo())\n",
    "elif multiple_inputs == False: \n",
    "    roi = ee.FeatureCollection(agstack_to_gee.geo_id_to_feature(all_geo_ids,geo_id_column, session,asset_registry_base))\n",
    "    if debug: print (\"Geo id input: \", all_geo_ids)\n",
    "    # if debug: print (\"Geo id associated with new feature: \", roi.get(geo_id_column).getInfo())    \n",
    "else: \n",
    "    print(\"no ee.Object created: check input format\")\n",
    "\n",
    "# if debug: print (\"Count of geo ids in list: \", len(all_geo_ids))\n",
    "if debug: print (\"Count of features in FeatureCollection: \", roi.size().getInfo())\n",
    "    \n",
    "# if (ee.Algorithms.ObjectType(roi).getInfo() == \"Feature\"):\n",
    "# elif ee.Algorithms.ObjectType(roi).getInfo == \"FeatureCollection\":\n",
    "    \n",
    "#true\n",
    "#checks "
   ]
  },
  {
   "cell_type": "markdown",
   "id": "a95f1f83-1004-4a74-b596-56bdc1353b52",
   "metadata": {},
   "source": [
    "##### Alternative feature collection: create random polygons\n",
    "select random points inside administrative boundaries and buffer them "
   ]
  },
  {
   "cell_type": "code",
   "execution_count": 238,
   "id": "28bdd6cb-921c-4fe3-9b97-78ee12f7ecbc",
   "metadata": {
    "tags": []
   },
   "outputs": [],
   "source": [
    "# def create_random_points_in_polys(feature): #to tidy\n",
    "#     \"\"\" creates random points within either a polygon or a feature collection NB relies upon some globals being set currently\"\"\"\n",
    "#     return ee.FeatureCollection.randomPoints(region = feature.geometry(max_error), points = number_of_points, seed=seed, maxError=10)\n",
    "\n",
    "# admin_boundaries = ee.FeatureCollection(\"FAO/GAUL_SIMPLIFIED_500m/2015/level2\").filter(\n",
    "#     ee.Filter.inList(\"ADM0_NAME\",[\"Indonesia\",\"Malaysia\",\"Ghana\"]))##.filter(ee.Filter.lt(\"Shape_Area\",1000))\n",
    "\n",
    "# random_collection = admin_boundaries.randomColumn(seed = seed).sort('random').limit(number_of_boundaries)\n",
    "\n",
    "# if points_per_admin_boundary:\n",
    "#     random_points = random_collection.map(create_random_points_in_polys).flatten()\n",
    "# else:\n",
    "#     random_points = create_random_points_in_polys(random_collection)\n",
    "\n",
    "# random_buffers = random_points.map(lambda feature: feature.buffer(buffer_distance_meters,100)) ##buffer by distance in meters\n",
    "\n",
    "# roi= random_buffers.map(lambda feature: feature.set(geo_id_column,(feature.get(\"system:index\"))))\n",
    "# # roi= random_buffers.map(set_geo_id_from_system_index) ## add surrogate \"geo_id\" for formatting\n",
    "\n",
    "# #checks\n",
    "# if debug: print (\"number of admin regions\",random_collection.size().getInfo())\n",
    "# if debug: print (\"number of countries\",random_collection.aggregate_array(\"ADM0_NAME\").distinct().getInfo())\n",
    "# if debug: print (\"number of buffers created\",random_buffers.size().getInfo())\n",
    "#     # geemap.ee_to_pandas(roi)###create random points and buffer them\n"
   ]
  },
  {
   "cell_type": "code",
   "execution_count": 239,
   "id": "c398510b-8f12-4376-a07d-dee90e0dafce",
   "metadata": {
    "tags": []
   },
   "outputs": [],
   "source": [
    "# ## checks\n",
    "# Map=geemap.Map()\n",
    "# Map.addLayer(roi, \"\", 'roi', 1, 1)\n",
    "\n",
    "# Map"
   ]
  },
  {
   "cell_type": "markdown",
   "id": "20f44941-3245-42ba-becb-3472af5c29a8",
   "metadata": {},
   "source": [
    "#### Feature prep\n",
    "- Create additional buffer zones for deforestation risk \n",
    "- Add area property to feature(s) \n",
    "- Select only columns of interest"
   ]
  },
  {
   "cell_type": "code",
   "execution_count": 240,
   "id": "e14f2cc9-a2a8-4fb7-a97f-d58ca72fe45e",
   "metadata": {
    "tags": []
   },
   "outputs": [
    {
     "data": {
      "text/html": [
       "<div>\n",
       "<style scoped>\n",
       "    .dataframe tbody tr th:only-of-type {\n",
       "        vertical-align: middle;\n",
       "    }\n",
       "\n",
       "    .dataframe tbody tr th {\n",
       "        vertical-align: top;\n",
       "    }\n",
       "\n",
       "    .dataframe thead th {\n",
       "        text-align: right;\n",
       "    }\n",
       "</style>\n",
       "<table border=\"1\" class=\"dataframe\">\n",
       "  <thead>\n",
       "    <tr style=\"text-align: right;\">\n",
       "      <th></th>\n",
       "      <th>Shape_area_hectares</th>\n",
       "      <th>Geo_id</th>\n",
       "    </tr>\n",
       "  </thead>\n",
       "  <tbody>\n",
       "    <tr>\n",
       "      <th>0</th>\n",
       "      <td>8.316153</td>\n",
       "      <td>0520cfac98fbc1bd7952b1c07a9f6983b83625722b6f66...</td>\n",
       "    </tr>\n",
       "    <tr>\n",
       "      <th>1</th>\n",
       "      <td>1.990210</td>\n",
       "      <td>b84f55de2b7f3c77d1cbeb8b026a1b29be42d8b08d9205...</td>\n",
       "    </tr>\n",
       "    <tr>\n",
       "      <th>2</th>\n",
       "      <td>3.815523</td>\n",
       "      <td>b7c15efb6e3c63fcfe649a2d994973a6f5caa844f720f0...</td>\n",
       "    </tr>\n",
       "    <tr>\n",
       "      <th>3</th>\n",
       "      <td>3.628190</td>\n",
       "      <td>fa2aff0d60cf1bc0e1f1dd4b91daf932940c31c021ca1b...</td>\n",
       "    </tr>\n",
       "    <tr>\n",
       "      <th>4</th>\n",
       "      <td>1.947148</td>\n",
       "      <td>88bec54ad04804f5b1fafbc131266640a129be2840fa67...</td>\n",
       "    </tr>\n",
       "    <tr>\n",
       "      <th>5</th>\n",
       "      <td>4.171951</td>\n",
       "      <td>ef2f7c46fbe4fc892fdb81f9a31c9c507b9f1e45485042...</td>\n",
       "    </tr>\n",
       "    <tr>\n",
       "      <th>6</th>\n",
       "      <td>16.676077</td>\n",
       "      <td>97408ef7bdac487e4a42e4abf20492b786310889fd4b04...</td>\n",
       "    </tr>\n",
       "    <tr>\n",
       "      <th>7</th>\n",
       "      <td>31.353357</td>\n",
       "      <td>c288d6c94efa9011c0e3452af9f7fa0941661377030e10...</td>\n",
       "    </tr>\n",
       "    <tr>\n",
       "      <th>8</th>\n",
       "      <td>1.973565</td>\n",
       "      <td>1a41a309ae2387f36a604c9a6c81887e64357a7f61d228...</td>\n",
       "    </tr>\n",
       "    <tr>\n",
       "      <th>9</th>\n",
       "      <td>12.782163</td>\n",
       "      <td>1a4472dc40700ef33f931863f58d444f243d6441861667...</td>\n",
       "    </tr>\n",
       "    <tr>\n",
       "      <th>10</th>\n",
       "      <td>20.979337</td>\n",
       "      <td>8e2accea7ddbb84b7f6001e00bcb60f57f563c80633b53...</td>\n",
       "    </tr>\n",
       "  </tbody>\n",
       "</table>\n",
       "</div>"
      ],
      "text/plain": [
       "    Shape_area_hectares                                             Geo_id\n",
       "0              8.316153  0520cfac98fbc1bd7952b1c07a9f6983b83625722b6f66...\n",
       "1              1.990210  b84f55de2b7f3c77d1cbeb8b026a1b29be42d8b08d9205...\n",
       "2              3.815523  b7c15efb6e3c63fcfe649a2d994973a6f5caa844f720f0...\n",
       "3              3.628190  fa2aff0d60cf1bc0e1f1dd4b91daf932940c31c021ca1b...\n",
       "4              1.947148  88bec54ad04804f5b1fafbc131266640a129be2840fa67...\n",
       "5              4.171951  ef2f7c46fbe4fc892fdb81f9a31c9c507b9f1e45485042...\n",
       "6             16.676077  97408ef7bdac487e4a42e4abf20492b786310889fd4b04...\n",
       "7             31.353357  c288d6c94efa9011c0e3452af9f7fa0941661377030e10...\n",
       "8              1.973565  1a41a309ae2387f36a604c9a6c81887e64357a7f61d228...\n",
       "9             12.782163  1a4472dc40700ef33f931863f58d444f243d6441861667...\n",
       "10            20.979337  8e2accea7ddbb84b7f6001e00bcb60f57f563c80633b53..."
      ]
     },
     "execution_count": 240,
     "metadata": {},
     "output_type": "execute_result"
    }
   ],
   "source": [
    "roi = area_stats.add_area_hectares_property_to_feature_collection(roi,geometry_area_column)\n",
    "\n",
    "roi  = roi.select([geometry_area_column,geo_id_column]) ##select only fields of interest\n",
    "\n",
    "roi_alerts_buffer = roi.map(lambda feature: \n",
    "        feature.buffer(local_alerts_buffer_radius,max_error_alert_buff))\n",
    "\n",
    "geemap.ee_to_pandas(roi_alerts_buffer)\n",
    "geemap.ee_to_pandas(roi)\n"
   ]
  },
  {
   "cell_type": "markdown",
   "id": "874274c3-15af-4aca-b407-f7683f883878",
   "metadata": {},
   "source": [
    "#### Compute statistics"
   ]
  },
  {
   "cell_type": "markdown",
   "id": "e7f19d47-119d-4df0-b156-cdc2ab2e3e69",
   "metadata": {},
   "source": [
    "Calculating zonal statistics for continuous data (e.g tree cover) within polygon(s)"
   ]
  },
  {
   "cell_type": "markdown",
   "id": "1ce375a3-ac9a-4fb8-b61f-0604e8c50f30",
   "metadata": {},
   "source": [
    "##### Step 1 Mapping over image collection with reduce regions: creates long format raw stats"
   ]
  },
  {
   "cell_type": "code",
   "execution_count": 243,
   "id": "4b9cbfcd-fc1f-4516-b455-e2d88c4b7461",
   "metadata": {
    "tags": []
   },
   "outputs": [
    {
     "name": "stdout",
     "output_type": "stream",
     "text": [
      "processing stats...\n",
      "Total execution time: 2.3458592891693115 seconds\n"
     ]
    }
   ],
   "source": [
    "# get the start time\n",
    "st = time.time()\n",
    "if debug: print (\"processing stats...\")\n",
    "\n",
    "\n",
    "## reducer choice for zonal statistics\n",
    "reducer_choice = ee.Reducer.sum().combine(  #main stats based on area of pixel\n",
    "  reducer2=ee.Reducer.count(),sharedInputs=True).combine(reducer2=ee.Reducer.mode(), sharedInputs=True) ##used for country allocation (majority pixel count on country code raster)\n",
    "\n",
    "\n",
    "#get stats for roi (except alerts)\n",
    "fc_stats_combined = area_stats.reduceStatsIC(roi,\n",
    "                                  images_IC.filter(ee.Filter.neq(\"alerts_buffer\",1)),\n",
    "                                  reducer_choice)# all but alerts\n",
    "#get stat for buffer (alerts only)\n",
    "fc_stats_combined_buffer = area_stats.reduceStatsIC(roi_alerts_buffer,\n",
    "                                         images_IC.filter(ee.Filter.eq(\"alerts_buffer\",1)),\n",
    "                                         reducer_choice) #alerts only\n",
    "\n",
    "#combine stats from roi and buffer\n",
    "fc_stats_combined_all = fc_stats_combined.merge(fc_stats_combined_buffer) # combining alerts with others into one feature collection\n",
    "\n",
    "# convert to Pandas Dataframe\n",
    "df_combined = geemap.ee_to_pandas(fc_stats_combined_all) # limit of 5000 (unlikely to need more but i have code for it if needed)\n",
    "\n",
    "# export dataframe to csv\n",
    "df_combined.to_csv(path_or_buf=out_file_long,header=True,index=False)\n",
    "\n",
    "# get the execution time\n",
    "elapsed_time = time.time() - st\n",
    "\n",
    "if debug: print ('Total execution time:', elapsed_time, 'seconds')\n"
   ]
  },
  {
   "cell_type": "markdown",
   "id": "ec10e289-42df-42f4-b576-ef216efe8356",
   "metadata": {},
   "source": [
    "##### Step 2: Create lookup tables for country allocation\n",
    "Approach is based on raster stats and listing the country for a specific geometry based on which has most overlap\n",
    "\n"
   ]
  },
  {
   "cell_type": "markdown",
   "id": "375629ec-ef13-4c64-9c5c-cbb3563b8d2f",
   "metadata": {
    "tags": []
   },
   "source": [
    "Look up table linking country codes to country names (from GAUL feature collection) is stored here: scripts: create_country_lookup.py"
   ]
  },
  {
   "cell_type": "markdown",
   "id": "93bb09fe-dcf8-4084-95aa-f8c586dfe78d",
   "metadata": {
    "tags": []
   },
   "source": [
    "Make on-the-fly look up table to link country name to geo id based on raster stats\n",
    "- uses rasterised GAUL layer with admin codes as pixel values\n",
    "- for each geo id finds most common value in that geometry (i.e. \"mode\" statistic)"
   ]
  },
  {
   "cell_type": "code",
   "execution_count": 244,
   "id": "fc8f51bc-be03-4c05-8337-942f06653803",
   "metadata": {
    "tags": []
   },
   "outputs": [],
   "source": [
    "path_lookup_country_codes_to_names = \"parameters/lookup_GAUL_country_codes_to_names.csv\" # to put somewhere in parameters\n",
    "\n",
    "lookup_country_codes_to_names = pd.read_csv(path_lookup_country_codes_to_names)\n",
    "\n",
    "lookup_geo_id_to_GAUL = df_combined[df_combined[\"dataset_name\"]==\"GAUL_boundaries_adm0_code_reproj\"]  #get mode satats for GAUL dataset\n",
    "\n",
    "lookup_geo_id_to_GAUL = lookup_geo_id_to_GAUL[[geo_id_column, 'mode']] # choose only columns needed\n",
    "\n",
    "lookup_geo_id_to_GAUL[\"mode\"] = lookup_geo_id_to_GAUL[\"mode\"].astype(int) # make sure mode stats are integer (to allow joining)\n",
    "\n",
    "lookup_geo_id_to_GAUL.rename(columns={\"mode\":\"ADM0_CODE\"},inplace=True) # change names for a clean join \n",
    "\n",
    "lookup_geo_id_to_GAUL_country_names = lookup_geo_id_to_GAUL.merge(lookup_country_codes_to_names,on=\"ADM0_CODE\",how=\"inner\") # join geo id to the GAUL_lookup_table countaining \"Country_names\" \n",
    "\n",
    "if debug: lookup_geo_id_to_GAUL_country_names"
   ]
  },
  {
   "cell_type": "markdown",
   "id": "4ebb5856-0a96-4399-ab5c-341c84eb3132",
   "metadata": {
    "tags": []
   },
   "source": [
    "##### Step 3 Reformat results table\n",
    "- long to wide\n",
    "- convert to proportions \n",
    "- set presence only flags\n",
    "- add in country names (using lookup tables) to the final results"
   ]
  },
  {
   "cell_type": "code",
   "execution_count": 245,
   "id": "98f4b376-8375-4670-8cb0-c9aaf96fa407",
   "metadata": {
    "tags": []
   },
   "outputs": [
    {
     "name": "stdout",
     "output_type": "stream",
     "text": [
      "['Cocoa_plantations_Kalischek', 'ESRI_Trees_2020', 'FDaP_palm_plantations', 'GAUL_boundaries_adm0_code_reproj', 'GFC_Tree_Cover_2020', 'GLAD_LULC_Stable_Tree_2020', 'JAXA_Forest_non_forest_2020', 'Key_Biodiversity_Area', 'Local_RADD_alerts', 'Oil_palm_Descals', 'Other_Effective_area_based_Conservation_Measure', 'Primary_Humid_Tropical_Forest_2020', 'Protected_area', 'TMF_disturbed_forest_2020', 'TMF_plantation', 'TMF_undisturbed_forest_2020']\n"
     ]
    }
   ],
   "source": [
    "#add proprtion column\n",
    "df_combined[\"percentage\"] = (df_combined[\"sum\"]/df_combined[geometry_area_column])*100\n",
    "\n",
    "# geometry_area_lookup = df_combined[geometry_area_column,geo_id_column]\n",
    "\n",
    "def tidy_dataframe_after_pivot (df):\n",
    "    \"\"\"Tidying dataframe after long-to-wide reformatting, incl. removes unwanted levels, column names\"\"\"\n",
    "    # df.columns = df.columns.droplevel(0) #remove sum\n",
    "    df.columns = df.columns.get_level_values(1)\n",
    "    df.columns.name = None               #remove \"dataset_name\" label\n",
    "    df = df.reset_index()    #index to columns\n",
    "    return df\n",
    "\n",
    "#convert to wide format (one row per geo_id)\n",
    "df_wide_format = df_combined.pivot_table(index=[geo_id_column,geometry_area_column],columns=['dataset_name'],values=['percentage'])\n",
    "\n",
    "# # #tidy unwanted headers etc\n",
    "tidy_tables.tidy_dataframe_after_pivot(df_wide_format) #runs in place so no need to assign\n",
    "\n",
    "df_wide_format.columns = df_wide_format.columns.get_level_values(0)\n",
    "\n",
    "# #list images with with presence_only_flag property \n",
    "flag_list = images_IC.filter(ee.Filter.eq(\"presence_only_flag\",1)).aggregate_array(\"system:index\").getInfo()\n",
    "\n",
    "# convert positive results values to \"True\" for specific columns\n",
    "for column in flag_list: df_wide_format[column]=np.where(df_wide_format[column]>0,\"True\",\"-\")\n",
    "\n",
    "# # tidy output - decimal places\n",
    "columns_list = df_wide_format.columns.values.tolist()\n",
    "if debug: print (columns_list)\n",
    "non_flag_columns_list = [x for x in columns_list if x not in flag_list]\n",
    "\n",
    "for column in flag_list: df_wide_format[non_flag_columns_list]=df_wide_format[non_flag_columns_list].round(decimals=0, out=None).astype(int)\n",
    "\n",
    "df_wide_format=df_wide_format.reset_index()\n",
    "\n",
    "# #joins country name based on majority overlap with country \n",
    "df_wide_format = df_wide_format.merge(lookup_geo_id_to_GAUL_country_names,on=geo_id_column).drop(\"ADM0_CODE\",axis=1).drop(\"GAUL_boundaries_adm0_code_reproj\",axis=1)\n",
    "\n",
    "\n"
   ]
  },
  {
   "cell_type": "markdown",
   "id": "31929f1c-b245-4bef-968f-64bdee8ef1ed",
   "metadata": {
    "tags": []
   },
   "source": [
    "##### Step 4 Further reformatting and exporting\n",
    "- reorder columns\n",
    "- remove underscores in column titles\n",
    "- export to csv"
   ]
  },
  {
   "cell_type": "code",
   "execution_count": 246,
   "id": "20836916-d664-4334-aa6c-47916823443a",
   "metadata": {
    "tags": []
   },
   "outputs": [
    {
     "data": {
      "text/html": [
       "<div>\n",
       "<style scoped>\n",
       "    .dataframe tbody tr th:only-of-type {\n",
       "        vertical-align: middle;\n",
       "    }\n",
       "\n",
       "    .dataframe tbody tr th {\n",
       "        vertical-align: top;\n",
       "    }\n",
       "\n",
       "    .dataframe thead th {\n",
       "        text-align: right;\n",
       "    }\n",
       "</style>\n",
       "<table border=\"1\" class=\"dataframe\">\n",
       "  <thead>\n",
       "    <tr style=\"text-align: right;\">\n",
       "      <th></th>\n",
       "      <th>Geo id</th>\n",
       "      <th>Shape area hectares</th>\n",
       "      <th>Country</th>\n",
       "      <th>GFC Tree Cover 2020</th>\n",
       "      <th>ESRI Trees 2020</th>\n",
       "      <th>JAXA Forest non forest 2020</th>\n",
       "      <th>GLAD LULC Stable Tree 2020</th>\n",
       "      <th>TMF undisturbed forest 2020</th>\n",
       "      <th>Primary Humid Tropical Forest 2020</th>\n",
       "      <th>TMF disturbed forest 2020</th>\n",
       "      <th>Local RADD alerts</th>\n",
       "      <th>TMF plantation</th>\n",
       "      <th>Oil palm Descals</th>\n",
       "      <th>FDaP palm plantations</th>\n",
       "      <th>Cocoa plantations Kalischek</th>\n",
       "      <th>Protected area</th>\n",
       "      <th>Other Effective area based Conservation Measure</th>\n",
       "      <th>Key Biodiversity Area</th>\n",
       "    </tr>\n",
       "  </thead>\n",
       "  <tbody>\n",
       "    <tr>\n",
       "      <th>0</th>\n",
       "      <td>0520cfac98fbc1bd7952b1c07a9f6983b83625722b6f66...</td>\n",
       "      <td>8.32</td>\n",
       "      <td>Côte d'Ivoire</td>\n",
       "      <td>62</td>\n",
       "      <td>100</td>\n",
       "      <td>95</td>\n",
       "      <td>64</td>\n",
       "      <td>0</td>\n",
       "      <td>0</td>\n",
       "      <td>10</td>\n",
       "      <td>True</td>\n",
       "      <td>0</td>\n",
       "      <td>0</td>\n",
       "      <td>0</td>\n",
       "      <td>0</td>\n",
       "      <td>True</td>\n",
       "      <td>-</td>\n",
       "      <td>True</td>\n",
       "    </tr>\n",
       "    <tr>\n",
       "      <th>1</th>\n",
       "      <td>1a41a309ae2387f36a604c9a6c81887e64357a7f61d228...</td>\n",
       "      <td>1.97</td>\n",
       "      <td>Indonesia</td>\n",
       "      <td>0</td>\n",
       "      <td>100</td>\n",
       "      <td>85</td>\n",
       "      <td>99</td>\n",
       "      <td>0</td>\n",
       "      <td>0</td>\n",
       "      <td>13</td>\n",
       "      <td>-</td>\n",
       "      <td>0</td>\n",
       "      <td>0</td>\n",
       "      <td>4</td>\n",
       "      <td>0</td>\n",
       "      <td>-</td>\n",
       "      <td>-</td>\n",
       "      <td>-</td>\n",
       "    </tr>\n",
       "    <tr>\n",
       "      <th>2</th>\n",
       "      <td>1a4472dc40700ef33f931863f58d444f243d6441861667...</td>\n",
       "      <td>12.78</td>\n",
       "      <td>Indonesia</td>\n",
       "      <td>83</td>\n",
       "      <td>100</td>\n",
       "      <td>100</td>\n",
       "      <td>99</td>\n",
       "      <td>60</td>\n",
       "      <td>0</td>\n",
       "      <td>39</td>\n",
       "      <td>-</td>\n",
       "      <td>0</td>\n",
       "      <td>0</td>\n",
       "      <td>68</td>\n",
       "      <td>0</td>\n",
       "      <td>-</td>\n",
       "      <td>-</td>\n",
       "      <td>-</td>\n",
       "    </tr>\n",
       "    <tr>\n",
       "      <th>3</th>\n",
       "      <td>88bec54ad04804f5b1fafbc131266640a129be2840fa67...</td>\n",
       "      <td>1.95</td>\n",
       "      <td>Ghana</td>\n",
       "      <td>20</td>\n",
       "      <td>100</td>\n",
       "      <td>100</td>\n",
       "      <td>88</td>\n",
       "      <td>0</td>\n",
       "      <td>0</td>\n",
       "      <td>34</td>\n",
       "      <td>-</td>\n",
       "      <td>0</td>\n",
       "      <td>0</td>\n",
       "      <td>0</td>\n",
       "      <td>0</td>\n",
       "      <td>-</td>\n",
       "      <td>-</td>\n",
       "      <td>-</td>\n",
       "    </tr>\n",
       "    <tr>\n",
       "      <th>4</th>\n",
       "      <td>8e2accea7ddbb84b7f6001e00bcb60f57f563c80633b53...</td>\n",
       "      <td>20.98</td>\n",
       "      <td>Indonesia</td>\n",
       "      <td>53</td>\n",
       "      <td>100</td>\n",
       "      <td>96</td>\n",
       "      <td>98</td>\n",
       "      <td>31</td>\n",
       "      <td>0</td>\n",
       "      <td>67</td>\n",
       "      <td>-</td>\n",
       "      <td>0</td>\n",
       "      <td>0</td>\n",
       "      <td>51</td>\n",
       "      <td>0</td>\n",
       "      <td>-</td>\n",
       "      <td>-</td>\n",
       "      <td>-</td>\n",
       "    </tr>\n",
       "    <tr>\n",
       "      <th>5</th>\n",
       "      <td>97408ef7bdac487e4a42e4abf20492b786310889fd4b04...</td>\n",
       "      <td>16.68</td>\n",
       "      <td>Ghana</td>\n",
       "      <td>100</td>\n",
       "      <td>100</td>\n",
       "      <td>100</td>\n",
       "      <td>89</td>\n",
       "      <td>95</td>\n",
       "      <td>87</td>\n",
       "      <td>5</td>\n",
       "      <td>True</td>\n",
       "      <td>0</td>\n",
       "      <td>0</td>\n",
       "      <td>0</td>\n",
       "      <td>0</td>\n",
       "      <td>True</td>\n",
       "      <td>-</td>\n",
       "      <td>-</td>\n",
       "    </tr>\n",
       "    <tr>\n",
       "      <th>6</th>\n",
       "      <td>b7c15efb6e3c63fcfe649a2d994973a6f5caa844f720f0...</td>\n",
       "      <td>3.82</td>\n",
       "      <td>Côte d'Ivoire</td>\n",
       "      <td>70</td>\n",
       "      <td>100</td>\n",
       "      <td>99</td>\n",
       "      <td>90</td>\n",
       "      <td>0</td>\n",
       "      <td>0</td>\n",
       "      <td>74</td>\n",
       "      <td>-</td>\n",
       "      <td>0</td>\n",
       "      <td>0</td>\n",
       "      <td>0</td>\n",
       "      <td>0</td>\n",
       "      <td>-</td>\n",
       "      <td>-</td>\n",
       "      <td>-</td>\n",
       "    </tr>\n",
       "    <tr>\n",
       "      <th>7</th>\n",
       "      <td>b84f55de2b7f3c77d1cbeb8b026a1b29be42d8b08d9205...</td>\n",
       "      <td>1.99</td>\n",
       "      <td>Côte d'Ivoire</td>\n",
       "      <td>78</td>\n",
       "      <td>100</td>\n",
       "      <td>73</td>\n",
       "      <td>55</td>\n",
       "      <td>0</td>\n",
       "      <td>0</td>\n",
       "      <td>23</td>\n",
       "      <td>True</td>\n",
       "      <td>0</td>\n",
       "      <td>0</td>\n",
       "      <td>0</td>\n",
       "      <td>73</td>\n",
       "      <td>True</td>\n",
       "      <td>-</td>\n",
       "      <td>-</td>\n",
       "    </tr>\n",
       "    <tr>\n",
       "      <th>8</th>\n",
       "      <td>c288d6c94efa9011c0e3452af9f7fa0941661377030e10...</td>\n",
       "      <td>31.35</td>\n",
       "      <td>Indonesia</td>\n",
       "      <td>0</td>\n",
       "      <td>6</td>\n",
       "      <td>5</td>\n",
       "      <td>83</td>\n",
       "      <td>0</td>\n",
       "      <td>0</td>\n",
       "      <td>0</td>\n",
       "      <td>-</td>\n",
       "      <td>100</td>\n",
       "      <td>98</td>\n",
       "      <td>82</td>\n",
       "      <td>0</td>\n",
       "      <td>-</td>\n",
       "      <td>-</td>\n",
       "      <td>-</td>\n",
       "    </tr>\n",
       "    <tr>\n",
       "      <th>9</th>\n",
       "      <td>ef2f7c46fbe4fc892fdb81f9a31c9c507b9f1e45485042...</td>\n",
       "      <td>4.17</td>\n",
       "      <td>Ghana</td>\n",
       "      <td>35</td>\n",
       "      <td>100</td>\n",
       "      <td>99</td>\n",
       "      <td>63</td>\n",
       "      <td>5</td>\n",
       "      <td>0</td>\n",
       "      <td>83</td>\n",
       "      <td>-</td>\n",
       "      <td>0</td>\n",
       "      <td>0</td>\n",
       "      <td>0</td>\n",
       "      <td>0</td>\n",
       "      <td>-</td>\n",
       "      <td>-</td>\n",
       "      <td>-</td>\n",
       "    </tr>\n",
       "    <tr>\n",
       "      <th>10</th>\n",
       "      <td>fa2aff0d60cf1bc0e1f1dd4b91daf932940c31c021ca1b...</td>\n",
       "      <td>3.63</td>\n",
       "      <td>Côte d'Ivoire</td>\n",
       "      <td>44</td>\n",
       "      <td>100</td>\n",
       "      <td>99</td>\n",
       "      <td>99</td>\n",
       "      <td>0</td>\n",
       "      <td>0</td>\n",
       "      <td>6</td>\n",
       "      <td>-</td>\n",
       "      <td>0</td>\n",
       "      <td>0</td>\n",
       "      <td>0</td>\n",
       "      <td>0</td>\n",
       "      <td>-</td>\n",
       "      <td>-</td>\n",
       "      <td>-</td>\n",
       "    </tr>\n",
       "  </tbody>\n",
       "</table>\n",
       "</div>"
      ],
      "text/plain": [
       "                                               Geo id  Shape area hectares  \\\n",
       "0   0520cfac98fbc1bd7952b1c07a9f6983b83625722b6f66...                 8.32   \n",
       "1   1a41a309ae2387f36a604c9a6c81887e64357a7f61d228...                 1.97   \n",
       "2   1a4472dc40700ef33f931863f58d444f243d6441861667...                12.78   \n",
       "3   88bec54ad04804f5b1fafbc131266640a129be2840fa67...                 1.95   \n",
       "4   8e2accea7ddbb84b7f6001e00bcb60f57f563c80633b53...                20.98   \n",
       "5   97408ef7bdac487e4a42e4abf20492b786310889fd4b04...                16.68   \n",
       "6   b7c15efb6e3c63fcfe649a2d994973a6f5caa844f720f0...                 3.82   \n",
       "7   b84f55de2b7f3c77d1cbeb8b026a1b29be42d8b08d9205...                 1.99   \n",
       "8   c288d6c94efa9011c0e3452af9f7fa0941661377030e10...                31.35   \n",
       "9   ef2f7c46fbe4fc892fdb81f9a31c9c507b9f1e45485042...                 4.17   \n",
       "10  fa2aff0d60cf1bc0e1f1dd4b91daf932940c31c021ca1b...                 3.63   \n",
       "\n",
       "          Country  GFC Tree Cover 2020  ESRI Trees 2020  \\\n",
       "0   Côte d'Ivoire                   62              100   \n",
       "1       Indonesia                    0              100   \n",
       "2       Indonesia                   83              100   \n",
       "3           Ghana                   20              100   \n",
       "4       Indonesia                   53              100   \n",
       "5           Ghana                  100              100   \n",
       "6   Côte d'Ivoire                   70              100   \n",
       "7   Côte d'Ivoire                   78              100   \n",
       "8       Indonesia                    0                6   \n",
       "9           Ghana                   35              100   \n",
       "10  Côte d'Ivoire                   44              100   \n",
       "\n",
       "    JAXA Forest non forest 2020  GLAD LULC Stable Tree 2020  \\\n",
       "0                            95                          64   \n",
       "1                            85                          99   \n",
       "2                           100                          99   \n",
       "3                           100                          88   \n",
       "4                            96                          98   \n",
       "5                           100                          89   \n",
       "6                            99                          90   \n",
       "7                            73                          55   \n",
       "8                             5                          83   \n",
       "9                            99                          63   \n",
       "10                           99                          99   \n",
       "\n",
       "    TMF undisturbed forest 2020  Primary Humid Tropical Forest 2020  \\\n",
       "0                             0                                   0   \n",
       "1                             0                                   0   \n",
       "2                            60                                   0   \n",
       "3                             0                                   0   \n",
       "4                            31                                   0   \n",
       "5                            95                                  87   \n",
       "6                             0                                   0   \n",
       "7                             0                                   0   \n",
       "8                             0                                   0   \n",
       "9                             5                                   0   \n",
       "10                            0                                   0   \n",
       "\n",
       "    TMF disturbed forest 2020 Local RADD alerts  TMF plantation  \\\n",
       "0                          10              True               0   \n",
       "1                          13                 -               0   \n",
       "2                          39                 -               0   \n",
       "3                          34                 -               0   \n",
       "4                          67                 -               0   \n",
       "5                           5              True               0   \n",
       "6                          74                 -               0   \n",
       "7                          23              True               0   \n",
       "8                           0                 -             100   \n",
       "9                          83                 -               0   \n",
       "10                          6                 -               0   \n",
       "\n",
       "    Oil palm Descals  FDaP palm plantations  Cocoa plantations Kalischek  \\\n",
       "0                  0                      0                            0   \n",
       "1                  0                      4                            0   \n",
       "2                  0                     68                            0   \n",
       "3                  0                      0                            0   \n",
       "4                  0                     51                            0   \n",
       "5                  0                      0                            0   \n",
       "6                  0                      0                            0   \n",
       "7                  0                      0                           73   \n",
       "8                 98                     82                            0   \n",
       "9                  0                      0                            0   \n",
       "10                 0                      0                            0   \n",
       "\n",
       "   Protected area Other Effective area based Conservation Measure  \\\n",
       "0            True                                               -   \n",
       "1               -                                               -   \n",
       "2               -                                               -   \n",
       "3               -                                               -   \n",
       "4               -                                               -   \n",
       "5            True                                               -   \n",
       "6               -                                               -   \n",
       "7            True                                               -   \n",
       "8               -                                               -   \n",
       "9               -                                               -   \n",
       "10              -                                               -   \n",
       "\n",
       "   Key Biodiversity Area  \n",
       "0                   True  \n",
       "1                      -  \n",
       "2                      -  \n",
       "3                      -  \n",
       "4                      -  \n",
       "5                      -  \n",
       "6                      -  \n",
       "7                      -  \n",
       "8                      -  \n",
       "9                      -  \n",
       "10                     -  "
      ]
     },
     "execution_count": 246,
     "metadata": {},
     "output_type": "execute_result"
    }
   ],
   "source": [
    "##tidy \n",
    "\n",
    "# reorder columns using list \n",
    "df_wide_format[geometry_area_column]=df_wide_format[geometry_area_column].round(decimals=2, out=None)\n",
    "\n",
    "column_order_list = list(image_names_dict.keys()) # get list of input datasets\n",
    "\n",
    "column_order_list.insert(0,geo_id_column) # add in the \"geo_id\" column into to datasets list\n",
    "\n",
    "column_order_list.insert(1,geometry_area_column)# add in to list the geometry area column\n",
    "\n",
    "column_order_list.remove(\"GAUL_boundaries_adm0_code_reproj\") # remove old column with \"mode\" values (not now relevant as have country names)\n",
    "\n",
    "column_order_list.insert(2,\"Country\")# add in to list the new column with country names\n",
    "\n",
    "df_wide_format= df_wide_format.reindex(columns=column_order_list) # reorder by list\n",
    "\n",
    "df_wide_format[\"Country\"]=np.where(df_wide_format[\"Country\"]==\"C�te d'Ivoire\",\"Côte d'Ivoire\",df_wide_format[\"Country\"])# TEMP fix on characters (encoding issues)\n",
    "df_wide_format[\"Country\"]=np.where(df_wide_format[\"Country\"]==\"R�union\",\"Réunion\",df_wide_format[\"Country\"])# TEMP fix on characters (encoding issues)\n",
    "\n",
    "# remove underscores in columns\n",
    "df_wide_format.columns = df_wide_format.columns.str.replace('_', ' ')\n",
    "\n",
    "# #export wide format csv\n",
    "df_wide_format.to_csv(path_or_buf=out_file_wide,header=True)\n",
    "\n",
    "# if debug: print (\"output csv: \", out_file_wide)\n",
    "\n",
    "#checks\n",
    "if debug: flag_list\n",
    "# if debug: print (columns_list)\n",
    "df_wide_format"
   ]
  },
  {
   "cell_type": "markdown",
   "id": "e3b512b0-f24b-4554-9d0b-8d34929804cd",
   "metadata": {},
   "source": [
    "#### Display layers\n",
    "\n",
    "##### Loop through image collection and loads layers to be added to the map\n"
   ]
  },
  {
   "cell_type": "markdown",
   "id": "3c180f5d-51ae-42eb-a221-85042dcad432",
   "metadata": {
    "tags": []
   },
   "source": [
    "Map = geemap.Map()\n",
    "visParams =  {'min': 0,'max': 1,'palette':['White','Green']}\n",
    "\n",
    "for i in range(images_IC.size().getInfo()):\n",
    "    \n",
    "    imageNew = ee.Image(images_IC.toList(100,0).get(i))\n",
    "    \n",
    "    dataset_name = (list(image_names_dict.keys())[i])\n",
    "    \n",
    "    if debug: print (\"adding image\",i,\"-\",dataset_name)\n",
    "    Map.addLayer(imageNew.gt(0).unmask(),visParams,dataset_name,0,1)\n",
    "    \n",
    "    \n",
    "Map.addLayer(roi,{},'roi ',1,1)\n",
    "# Map.addLayer(roi_alerts_buffer,{},'roi buffer zone')\n",
    "\n",
    "if debug: print (\"All layers added\")    "
   ]
  },
  {
   "cell_type": "markdown",
   "id": "440a5615-0482-49a7-946e-3c99dff6f2a7",
   "metadata": {
    "tags": []
   },
   "source": [
    "##### Show on map and zoom to a specific feature based on index number in feature collection\n",
    " Layers visibility off by default - toggle on in top right corner"
   ]
  },
  {
   "cell_type": "code",
   "execution_count": 249,
   "id": "cdc3dfb2-91fc-4e78-a49e-85c7294c794c",
   "metadata": {
    "tags": []
   },
   "outputs": [
    {
     "name": "stdout",
     "output_type": "stream",
     "text": [
      "Geo_id b84f55de2b7f3c77d1cbeb8b026a1b29be42d8b08d92058c9143e0556456820f\n"
     ]
    },
    {
     "data": {
      "application/vnd.jupyter.widget-view+json": {
       "model_id": "37831e1c25c04496a576ab0d3c72dd69",
       "version_major": 2,
       "version_minor": 0
      },
      "text/plain": [
       "Map(bottom=8124056.0, center=[5.673810322182612, -4.086848133220072], controls=(WidgetControl(options=['positi…"
      ]
     },
     "execution_count": 249,
     "metadata": {},
     "output_type": "execute_result"
    }
   ],
   "source": [
    "\n",
    "# number/index from list of ROI features - the selected feature is shown on the map. e.g., choose 0 for first in the list \n",
    "feature_to_centre_on = 1\n",
    "\n",
    "#choose how close to zoom to chosen polygon (1-24, where 24 is fully zoomed in) \n",
    "zoom_level = 16 \n",
    "\n",
    "single_feature_id = roi.aggregate_array(geo_id_column).get(feature_to_centre_on).getInfo()\n",
    "if debug: print (geo_id_column,single_feature_id)\n",
    "single_feature = ee.Feature(roi.filter(ee.Filter.eq(geo_id_column,single_feature_id)).first())\n",
    "\n",
    "Map.centerObject(single_feature,zoom_level)\n",
    "    \n",
    "Map\n",
    "# # single_feature\n"
   ]
  },
  {
   "cell_type": "markdown",
   "id": "81c0c4a3-23b0-4e91-8b27-faae9698e065",
   "metadata": {
    "tags": []
   },
   "source": [
    "#### Optional: export image collection to asset\n",
    "\n",
    "- code for exporting to a collection, which would improve load times NB code needs tidying; \"mode\" stats note working thought fdor country allocation..."
   ]
  },
  {
   "cell_type": "code",
   "execution_count": 211,
   "id": "0a234579-178f-4e15-b207-4f84705e37c9",
   "metadata": {
    "tags": []
   },
   "outputs": [
    {
     "name": "stdout",
     "output_type": "stream",
     "text": [
      "finished\n"
     ]
    }
   ],
   "source": [
    "export_image_collection_to_asset =False # NB shift to parameters if code is kept in this script\n",
    "\n",
    "\n",
    "if export_image_collection_to_asset:\n",
    "\n",
    "    targetImageCollId = \"users/andyarnell10/fdap_dpi/imageCol_trial\"\n",
    "\n",
    "    createNewImageColl = True # if true then code will add outputImageColl if it doesn't exist already. Code at end of cell/section.\n",
    "\n",
    "    skipExportIfAssetExists = True # if image with the same name exists avoid exporting\n",
    "\n",
    "    exportRegion = admin_boundaries = ee.FeatureCollection(\"FAO/GAUL_SIMPLIFIED_500m/2015/level2\").filter(\n",
    "        ee.Filter.inList(\"ADM0_NAME\",[\"Ghana\"])).geometry() # for once country only\n",
    "\n",
    "\n",
    "    if createNewImageColl == True:\n",
    "        try:\n",
    "            getAssetInfo = ee.data.getAsset(targetImageCollId)\n",
    "            if debug: print (\"Target image collection exists: \",targetImageCollId)\n",
    "        except:\n",
    "            ee.data.createAsset({'type': 'ImageCollection'}, targetImageCollId)#make a new image collection\n",
    "            print (\"New (empty) image collection created: \",targetImageCollId)\n",
    "            skipExportIfAssetExists = True# as it sounds like. Saves possibility of lots of red errors in Tasks list in code editor\n",
    "\n",
    "        def imageNames (imageCollection):##list existing images in collection (if any)\n",
    "            return imageCollection.aggregate_array(\"system:id\").getInfo()\n",
    "\n",
    "    imageCollectionImageList = (imageNames(ee.ImageCollection(targetImageCollId)))\n",
    "\n",
    "\n",
    "    for i in range(images_IC.size().getInfo()):\n",
    "\n",
    "        imageNew = ee.Image(images_IC.toList(100,0).get(i))\n",
    "\n",
    "        dataset_name = (list(image_names_dict.keys())[i])\n",
    "\n",
    "        output_scale = imageNew.get(\"scale\").getInfo()\n",
    "\n",
    "        out_name = targetImageCollId+\"/\"+dataset_name\n",
    "\n",
    "        task = ee.batch.Export.image.toAsset(image= imageNew,\\\n",
    "                                         description= dataset_name,\\\n",
    "                                         assetId=out_name,\\\n",
    "                                         scale= output_scale,\\\n",
    "                                         maxPixels=1e13,\\\n",
    "                                         region=exportRegion)\n",
    "\n",
    "        if ((skipExportIfAssetExists==True) and (out_name in imageCollectionImageList)):\n",
    "            if debug: print (\"testing - not exporting NB asset exists\")\n",
    "        else:\n",
    "            task.start()###code out if testing and dont want to export assets\n",
    "\n",
    "            if debug: print (\"exporting image: \"+ out_name)\n",
    "\n",
    "\n",
    "if debug: print (\"finished\")"
   ]
  },
  {
   "cell_type": "markdown",
   "id": "1d5049a9",
   "metadata": {},
   "source": [
    "### Logout (protected)"
   ]
  },
  {
   "cell_type": "code",
   "execution_count": null,
   "id": "d51242cb",
   "metadata": {},
   "outputs": [],
   "source": [
    "# res = session.get(asset_registry_base + \"/logout\")\n",
    "# if debug: print (res.json())\n",
    "# res = session.get(user_registry_base + \"/logout\", cookies=session.cookies)\n",
    "# session.headers.clear()"
   ]
  },
  {
   "cell_type": "markdown",
   "id": "1d7ef7cf",
   "metadata": {},
   "source": [
    "### Checking if Logged out correctly"
   ]
  },
  {
   "cell_type": "code",
   "execution_count": null,
   "id": "d6dee3bc",
   "metadata": {},
   "outputs": [],
   "source": [
    "# # Confirming the logout from Asset Registry by requesting a Protected route\n",
    "# req_body = {\n",
    "#     \"latitude\": 31.47704430446457,\n",
    "#     \"longitude\": 74.37510786779589\n",
    "# }\n",
    "# res = session.post(asset_registry_base + \"/fetch-fields-for-a-point\", json=req_body)\n",
    "# if debug: print (res.json())"
   ]
  },
  {
   "cell_type": "markdown",
   "id": "8a07b78b",
   "metadata": {
    "tags": []
   },
   "source": [
    "### Get all Domains (public)"
   ]
  },
  {
   "cell_type": "code",
   "execution_count": null,
   "id": "93cf8a1d",
   "metadata": {
    "tags": []
   },
   "outputs": [],
   "source": [
    "# # Fetching all the domains from the User Registry\n",
    "# res = session.get(asset_registry_base + \"/domains\")\n",
    "# if debug: print (res.json())"
   ]
  }
 ],
 "metadata": {
  "kernelspec": {
   "display_name": "Python 3",
   "language": "python",
   "name": "python3"
  },
  "language_info": {
   "codemirror_mode": {
    "name": "ipython",
    "version": 3
   },
   "file_extension": ".py",
   "mimetype": "text/x-python",
   "name": "python",
   "nbconvert_exporter": "python",
   "pygments_lexer": "ipython3",
   "version": "3.8.10"
  },
  "vscode": {
   "interpreter": {
    "hash": "31f2aee4e71d21fbe5cf8b01ff0e069b9275f58929596ceb00d14d90e3e16cd6"
   }
  }
 },
 "nbformat": 4,
 "nbformat_minor": 5
}
